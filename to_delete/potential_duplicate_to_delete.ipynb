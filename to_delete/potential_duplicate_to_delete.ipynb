{
 "cells": [
  {
   "cell_type": "code",
   "execution_count": null,
   "metadata": {},
   "outputs": [],
   "source": [
    "import json\n",
    "\n",
    "import numpy as np\n",
    "import pandas as pd\n",
    "import pymongo\n",
    "import scipy\n",
    "from bson import ObjectId, json_util\n",
    "from pandas.io.json import json_normalize\n",
    "from pymongo import MongoClient as Connection\n",
    "from scipy import sparse, spatial\n",
    "from scipy.spatial.distance import cdist, pdist, squareform\n",
    "from sklearn.metrics.pairwise import cosine_similarity\n",
    "\n",
    "# scientific notation disabled form smaller numbers\n",
    "pd.options.display.float_format = '{:.5f}'.format\n",
    "\n",
    "# alles resultate anzeigen und nicht nur das letzte\n",
    "from IPython.core.interactiveshell import InteractiveShell\n",
    "InteractiveShell.ast_node_interactivity = \"all\""
   ]
  },
  {
   "cell_type": "code",
   "execution_count": null,
   "metadata": {},
   "outputs": [],
   "source": [
    "# display multiple outputs in one row\n",
    "import pandas as pd\n",
    "import numpy as np\n",
    "from IPython.display import display, HTML\n",
    "\n",
    "CSS = \"\"\"\n",
    ".output {\n",
    "    flex-direction: row;\n",
    "}\n",
    "\"\"\"\n",
    "\n",
    "HTML('<style>{}</style>'.format(CSS))"
   ]
  },
  {
   "cell_type": "code",
   "execution_count": null,
   "metadata": {},
   "outputs": [],
   "source": [
    "connection = Connection()\n",
    "db = connection.recipe_db\n",
    "input_data = db.recipes_test_copy\n",
    "\n",
    "data = json.loads(json_util.dumps(input_data.find()))\n",
    "#norm_data = json_normalize(data)"
   ]
  },
  {
   "cell_type": "code",
   "execution_count": null,
   "metadata": {},
   "outputs": [],
   "source": [
    "ing = json_normalize(data, record_path='ingredients',\n",
    "                             meta='id', record_prefix='ingredients_', errors='ignore')\n",
    "\n",
    "ing = pd.DataFrame(ing)\n",
    "\n",
    "nutritions = json_normalize(data, record_path='nutritions',\n",
    "                            meta=['id', 'prep_time', 'rating', 'rating_count', 'ready_in_time', 'review_count'])\n",
    "\n",
    "# ing"
   ]
  },
  {
   "cell_type": "code",
   "execution_count": null,
   "metadata": {},
   "outputs": [],
   "source": [
    "# data cleansing - Ingredients\n",
    "\n",
    "# schmeiss alle zutaten raus, die weniger als 5 mal verwendet werden\n",
    "# setze multiinde auf 'id' und 'ingredients_id'\n",
    "ingredients = ing.set_index(['id', 'ingredients_id'])\n",
    "\n",
    "# filtere alle Zutaten samit ihrer rezepte id, die weniger gleich 5 mal vorkommen\n",
    "ingredients_eqles_5_ing = ingredients.groupby(\n",
    "    'ingredients_id').filter(lambda x: len(x) <= 5)\n",
    "\n",
    "# droppe alle rezepte, die eine Zutate besitzen, die weniger gleich 5 Mal vorkommen\n",
    "ingredients_filt = ingredients.drop(ingredients_eqles_5_ing.index.get_level_values('id').values, level=0)\n",
    "\n",
    "# drop alls rows with ingredients_id == 0\n",
    "ingredients_eqal_zero = ingredients_filt[ingredients_filt.index.get_level_values('ingredients_id') == 0]\n",
    "ingredients_filt = ingredients_filt.drop(ingredients_eqal_zero.index.get_level_values('id').values, level=0)\n",
    "\n",
    "ingredients_filt"
   ]
  },
  {
   "cell_type": "code",
   "execution_count": null,
   "metadata": {},
   "outputs": [],
   "source": [
    "# filtere Rezepte aus den Metadaten anhand ihrerr Zutatenmenge raus.\n",
    "not_wanted_recipes = recipe_db[recipe_db.mask(recipe_db == 0).count(axis=1) <= 4]\n",
    "\n",
    "mask = nutritions['id'].isin(not_wanted_recipes.index.values)\n",
    "\n",
    "nutritions_filt = nutritions.loc[~mask]"
   ]
  },
  {
   "cell_type": "code",
   "execution_count": null,
   "metadata": {},
   "outputs": [],
   "source": [
    "asd[ingredients['id'] == 17739]"
   ]
  },
  {
   "cell_type": "code",
   "execution_count": null,
   "metadata": {},
   "outputs": [],
   "source": [
    "ingredients[ingredients['id'] == 17739]\n",
    "ingredients[ingredients['ingredients_id'] == 4171]"
   ]
  },
  {
   "cell_type": "code",
   "execution_count": null,
   "metadata": {
    "scrolled": true
   },
   "outputs": [],
   "source": [
    "id_list = [215014, 8669, 16700, 16354, 12720, 8652, 8887, 51283, 45954, 213742, 14595,\n",
    "           219164, 16348, 143082, 8665, 11758, 223042, 236609, 8778, 65896, 24264, 11679, 141678, 9023]\n",
    "\n",
    "recipe_db = pd.get_dummies(ingredients_filt['ingredients_id']).groupby(\n",
    "    ingredients_filt['id']).apply(max)"
   ]
  },
  {
   "cell_type": "code",
   "execution_count": null,
   "metadata": {
    "scrolled": true
   },
   "outputs": [],
   "source": [
    "# filtere Rezepte aus den Metadaten anhand ihrerr Zutatenmenge raus.\n",
    "not_wanted_recipes = recipe_db[recipe_db.mask(\n",
    "    recipe_db == 0).count(axis=1) <= 4]\n",
    "\n",
    "mask = nutritions['id'].isin(not_wanted_recipes.index.values)\n",
    "\n",
    "nutritions_filt = nutritions.loc[~mask]\n",
    "\n",
    "nutrition_db = nutritions_filt.pivot_table(\n",
    "    index=['id'],\n",
    "    columns=['name'],\n",
    "    values=['amount'],\n",
    ").reset_index()\n",
    "\n",
    "nutrition_db.set_index('id', inplace=True)\n",
    "# remove multiindex 'amount'\n",
    "\n",
    "nutrition_db.columns = nutrition_db.columns.droplevel(0)\n",
    "\n",
    "nutrition_db = nutrition_db.dropna()"
   ]
  },
  {
   "cell_type": "code",
   "execution_count": null,
   "metadata": {},
   "outputs": [],
   "source": []
  },
  {
   "cell_type": "code",
   "execution_count": null,
   "metadata": {
    "scrolled": true
   },
   "outputs": [],
   "source": [
    "nutritions_test_25 = nutrition_db[nutrition_db.index.isin(id_list)]\n",
    "asd = ingredients_filt.groupby(['id']).sum()\n",
    "# ingredients_filt\n",
    "# asd.loc[[17739]]"
   ]
  },
  {
   "cell_type": "code",
   "execution_count": null,
   "metadata": {
    "scrolled": false
   },
   "outputs": [],
   "source": [
    "recipe_db_filt = recipe_db[recipe_db.mask(recipe_db == 0).count(axis=1) >= 5]\n",
    "\n",
    "user_nutrition = nutrition_db[nutrition_db.index.isin(id_list)]\n",
    "\n",
    "user_recipes = recipe_db_filt[recipe_db_filt.index.isin(id_list)]"
   ]
  },
  {
   "cell_type": "code",
   "execution_count": null,
   "metadata": {},
   "outputs": [],
   "source": [
    "ingredients_filt.loc[[17739]]"
   ]
  },
  {
   "cell_type": "code",
   "execution_count": null,
   "metadata": {},
   "outputs": [],
   "source": [
    "# create a function called times100\n",
    "def portion_to_6(x):\n",
    "    a = x / 4\n",
    "    a = a * 2\n",
    "    x = x + a\n",
    "    return x"
   ]
  },
  {
   "cell_type": "code",
   "execution_count": null,
   "metadata": {
    "scrolled": true
   },
   "outputs": [],
   "source": [
    "ingredients_filt['ingredients_grams'] = ingredients_filt['ingredients_grams'].apply(\n",
    "    portion_to_6)"
   ]
  },
  {
   "cell_type": "code",
   "execution_count": null,
   "metadata": {},
   "outputs": [],
   "source": [
    "asd2 = ingredients_filt.groupby(['id']).sum()\n",
    "asd2\n",
    "recipe_summed_weight = asd2.drop(columns='ingredients_id')\n",
    "recipe_summed_weight.loc[[17739]]"
   ]
  },
  {
   "cell_type": "code",
   "execution_count": null,
   "metadata": {},
   "outputs": [],
   "source": [
    "test = nutrition_db.join(recipe_summed_weight, how='inner')\n",
    "test"
   ]
  },
  {
   "cell_type": "code",
   "execution_count": null,
   "metadata": {},
   "outputs": [],
   "source": [
    "test.loc[[17739]]"
   ]
  },
  {
   "cell_type": "code",
   "execution_count": null,
   "metadata": {},
   "outputs": [],
   "source": [
    "def capitalizer(x): return x.upper()\n",
    "\n",
    "\n",
    "# Cholesterol = mg\n",
    "# Sodium = mg\n",
    "# Folate = mcg\n",
    "# Magnesium = mg\n",
    "# Vitamin B6 = mg\n",
    "# Niacin Equivalents = mg\n",
    "# Thiamin = mg\n",
    "# Iron = mg\n",
    "# Calcium = mg\n",
    "# Vitamin C = mg\n",
    "# Potassium = mg\n",
    "# Vitamin A - IU = 1IU = 0.6 mcg\n",
    "test['Cholesterol'] = test['Cholesterol'].apply(lambda x: x / 1000)\n",
    "test['Sodium'] = test['Sodium'].apply(lambda x: x / 1000)\n",
    "test['Magnesium'] = test['Magnesium'].apply(lambda x: x / 1000)\n",
    "test['Vitamin B6'] = test['Vitamin B6'].apply(lambda x: x / 1000)\n",
    "test['Niacin Equivalents'] = test['Niacin Equivalents'].apply(lambda x: x / 1000)\n",
    "test['Thiamin'] = test['Thiamin'].apply(lambda x: x / 1000)\n",
    "test['Iron'] = test['Iron'].apply(lambda x: x / 1000)\n",
    "test['Calcium'] = test['Calcium'].apply(lambda x: x / 1000)\n",
    "test['Vitamin C'] = test['Vitamin C'].apply(lambda x: x / 1000)\n",
    "test['Potassium'] = test['Potassium'].apply(lambda x: x / 1000)\n",
    "\n",
    "test['Folate'] = test['Folate'].apply(lambda x: x / 1000000)\n",
    "test['Vitamin A - IU'] = test['Vitamin A - IU'].apply(lambda x: x * 0,6/ 1000000)\n"
   ]
  },
  {
   "cell_type": "code",
   "execution_count": null,
   "metadata": {},
   "outputs": [],
   "source": [
    "# create a function called times100\n",
    "def percent_to_1000(x):\n",
    "    a = x * 100 / x.ingredients_grams\n",
    "#     if x == x.ingredients_grams:\n",
    "#         return\n",
    "#     a = a * 2\n",
    "#     x = x + a\n",
    "    return a\n",
    "#     print(x.ingredients_grams)\n",
    "\n",
    "percent_test = test\n",
    "asd = percent_test.apply(percent_to_1000, axis = 1)"
   ]
  },
  {
   "cell_type": "code",
   "execution_count": null,
   "metadata": {},
   "outputs": [],
   "source": [
    "asd['Calories'] = test['Calories']\n",
    "asd['Calories from Fat'] = test['Calories from Fat']\n",
    "asd['ingredients_grams'] = test['ingredients_grams']"
   ]
  },
  {
   "cell_type": "code",
   "execution_count": null,
   "metadata": {},
   "outputs": [],
   "source": [
    "asd = asd.sort_values(by='Fat', ascending=False)"
   ]
  },
  {
   "cell_type": "code",
   "execution_count": null,
   "metadata": {},
   "outputs": [],
   "source": [
    "asd"
   ]
  },
  {
   "cell_type": "code",
   "execution_count": null,
   "metadata": {},
   "outputs": [],
   "source": []
  }
 ],
 "metadata": {
  "kernelspec": {
   "display_name": "Python 3",
   "language": "python",
   "name": "python3"
  },
  "language_info": {
   "codemirror_mode": {
    "name": "ipython",
    "version": 3
   },
   "file_extension": ".py",
   "mimetype": "text/x-python",
   "name": "python",
   "nbconvert_exporter": "python",
   "pygments_lexer": "ipython3",
   "version": "3.7.0"
  }
 },
 "nbformat": 4,
 "nbformat_minor": 2
}
