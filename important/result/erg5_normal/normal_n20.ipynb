{
 "nbformat": 4,
 "nbformat_minor": 2,
 "metadata": {
  "language_info": {
   "name": "python",
   "codemirror_mode": {
    "name": "ipython",
    "version": 3
   },
   "version": "3.7.6-final"
  },
  "orig_nbformat": 2,
  "file_extension": ".py",
  "mimetype": "text/x-python",
  "name": "python",
  "npconvert_exporter": "python",
  "pygments_lexer": "ipython3",
  "version": 3,
  "kernelspec": {
   "name": "python3",
   "display_name": "Python 3"
  }
 },
 "cells": [
  {
   "cell_type": "code",
   "execution_count": 1,
   "metadata": {},
   "outputs": [],
   "source": [
    "import json\n",
    "\n",
    "import numpy as np\n",
    "import pandas as pd\n",
    "import pymongo\n",
    "import scipy\n",
    "from bson import ObjectId, json_util\n",
    "from pandas.io.json import json_normalize\n",
    "from pymongo import MongoClient as Connection\n",
    "from scipy import sparse, spatial\n",
    "from scipy.spatial.distance import cdist, pdist, squareform\n",
    "from sklearn.metrics.pairwise import cosine_similarity\n",
    "\n",
    "# scientific notation disabled form smaller numbers\n",
    "pd.options.display.float_format = '{:.5f}'.format\n",
    "\n",
    "# alles resultate anzeigen und nicht nur das letzte\n",
    "from IPython.core.interactiveshell import InteractiveShell\n",
    "InteractiveShell.ast_node_interactivity = \"all\"\n",
    "\n"
   ]
  },
  {
   "cell_type": "code",
   "execution_count": 2,
   "metadata": {},
   "outputs": [
    {
     "data": {
      "text/html": "<style>\n.output {\n    flex-direction: row;\n}\n</style>",
      "text/plain": "<IPython.core.display.HTML object>"
     },
     "execution_count": 2,
     "metadata": {},
     "output_type": "execute_result"
    }
   ],
   "source": [
    "# display multiple outputs in one row\n",
    "import pandas as pd\n",
    "import numpy as np\n",
    "from IPython.display import display, HTML\n",
    "\n",
    "CSS = \"\"\"\n",
    ".output {\n",
    "    flex-direction: row;\n",
    "}\n",
    "\"\"\"\n",
    "\n",
    "HTML('<style>{}</style>'.format(CSS))"
   ]
  },
  {
   "cell_type": "code",
   "execution_count": 3,
   "metadata": {},
   "outputs": [],
   "source": [
    "connection = Connection()\n",
    "db = connection.recipe_db\n",
    "input_data = db.recipes_test_copy\n",
    "\n",
    "data = json.loads(json_util.dumps(input_data.find()))"
   ]
  },
  {
   "cell_type": "code",
   "execution_count": 4,
   "metadata": {},
   "outputs": [],
   "source": [
    "ing = pd.DataFrame(json_normalize(data, record_path='ingredients',\n",
    "                             meta='id', record_prefix='ingredients_', errors='ignore'))\n",
    "\n",
    "\n",
    "nutritions = pd.DataFrame(json_normalize(data, record_path='nutritions',\n",
    "                            meta=['id', 'prep_time', 'rating', 'rating_count', 'ready_in_time', 'review_count']))\n"
   ]
  },
  {
   "cell_type": "code",
   "execution_count": 5,
   "metadata": {},
   "outputs": [],
   "source": [
    "#  ------  erstellung und data cleansing - Ingredients\n",
    "\n",
    "# schmeiss alle zutaten raus, die weniger als 5 mal verwendet werden\n",
    "# setze multiinde auf 'id' und 'ingredients_id'\n",
    "ingredients = ing.set_index(['id', 'ingredients_id'])\n",
    "\n",
    "# filtere alle Zutaten samt ihrer rezepte id, die weniger gleich 5 mal vorkommen\n",
    "ingredients_eqles_5_ing = ingredients.groupby(\n",
    "    'ingredients_id').filter(lambda x: len(x) <= 5)\n",
    "\n",
    "# droppe alle rezepte, die eine Zutate besitzen, die weniger gleich 5 Mal vorkommen\n",
    "ingredients_filt = ingredients.drop(ingredients_eqles_5_ing.index.get_level_values('id').values, level=0)\n",
    "\n",
    "# drop alls rows with ingredients_id == 0\n",
    "ingredients_eqal_zero = ingredients_filt[ingredients_filt.index.get_level_values('ingredients_id') == 0]\n",
    "ingredients_filt = ingredients_filt.drop(ingredients_eqal_zero.index.get_level_values('id').values, level=0)\n"
   ]
  },
  {
   "cell_type": "code",
   "execution_count": 6,
   "metadata": {},
   "outputs": [],
   "source": [
    "#  ------ Erstellung und cleansing des Nutrition Dataframes\n",
    "\n",
    "# erstelle neue liste auf basis der bereits gefilterten rezepte aus ingredients_filt\n",
    "id_overlap_mask = nutritions['id'].isin(ingredients_filt.index.get_level_values('id').values)\n",
    "\n",
    "# erstelle datenframe auf basis der overlapliste\n",
    "nutritions_filt = nutritions.loc[id_overlap_mask]\n",
    "\n",
    "nutrition_db = nutritions_filt.pivot_table(\n",
    "    index=['id'],\n",
    "    columns=['name'],\n",
    "    values=['amount'],\n",
    ").reset_index()\n",
    "\n",
    "nutrition_db.set_index('id', inplace=True)\n",
    "\n",
    "# remove multiindex 'amount'\n",
    "nutrition_db.columns = nutrition_db.columns.droplevel(0)\n",
    "\n",
    "# entferne alle NA\n",
    "nutrition_db = nutrition_db.dropna()\n",
    "\n",
    "# gleiche nochmals die ids der beiden dataframe nutrition und ingredients ab, da der nutrition dataframe noch NA Werte hatt\n",
    "id_overlap_mask = ingredients_filt.index.get_level_values('id').isin(nutrition_db.index)\n",
    "ingredients_db = ingredients_filt[id_overlap_mask]\n",
    "\n",
    "# abgleich ob anzahl der indizes von nutrition und zutaten dataframe gleich sind\n"
   ]
  },
  {
   "cell_type": "code",
   "execution_count": 7,
   "metadata": {},
   "outputs": [],
   "source": [
    "\n",
    "\n",
    "ingredients_db.reset_index(inplace=True)\n",
    "\n",
    "recipe_db = pd.get_dummies(ingredients_db['ingredients_id']).groupby(\n",
    "    ingredients_db['id']).apply(max)\n",
    "\n"
   ]
  },
  {
   "cell_type": "code",
   "execution_count": 8,
   "metadata": {},
   "outputs": [],
   "source": [
    "new_ingredients = ingredients_db.copy()\n",
    "#new_ingredients = new_ingredients.groupby(\"id\")[\"ingredients_grams\"].sum().reset_index()\n",
    "gramms_ingredients = new_ingredients.groupby(\"id\")[\"ingredients_grams\"].sum().reset_index().copy()\n",
    "\n",
    "Q1 = gramms_ingredients.quantile(0.25)\n",
    "Q3 = gramms_ingredients.quantile(0.75)\n",
    "IQR = Q3 - Q1\n",
    "\n",
    "#Filter out all recipes which are outlier by their weight (gramms)\n",
    "df = gramms_ingredients[~((gramms_ingredients < (Q1 - 1.5 * IQR)) |(gramms_ingredients > (Q3 + 1.5 * IQR))).any(axis=1)].copy()\n",
    "\n",
    "#filter out recipes by weight which are not in the range 500 - 2373.59 gramms\n",
    "df_start_at_fivehundret = df[df['ingredients_grams'].between(500, 2373.58225, inclusive=False)].copy()\n",
    "\n",
    "df_start_at_fivehundret.set_index('id', inplace=True)\n",
    "id_overlap_mask = nutritions['id'].isin(df_start_at_fivehundret.index.get_level_values('id').values)\n",
    "\n",
    "\n",
    "# erstelle datenframe auf basis der overlapliste\n",
    "nutritions_filt_gramm = nutritions.loc[id_overlap_mask]\n",
    "\n",
    "nutrition_db2 = nutritions_filt_gramm.pivot_table(\n",
    "    index=['id'],\n",
    "    columns=['name'],\n",
    "    values=['amount'],\n",
    ").reset_index()\n",
    "\n",
    "#create new nutrition db based on the above filtering\n",
    "nutrition_db2.set_index('id', inplace=True)\n",
    "nutrition_db2.columns = nutrition_db2.columns.droplevel(0)\n",
    "\n"
   ]
  },
  {
   "cell_type": "code",
   "execution_count": 375,
   "metadata": {},
   "outputs": [],
   "source": [
    "# random\n",
    "subset_random_top10 = nutrition_db2.sample(n=10).copy()"
   ]
  },
  {
   "cell_type": "code",
   "execution_count": 376,
   "metadata": {},
   "outputs": [],
   "source": [
    "#select 20 random recipes which are between the Fat-range of 35-40 gramms\n",
    "subset_fat = nutrition_db2[(nutrition_db2['Fat'] >= 35) & (nutrition_db2['Fat'] <= 40)].sample(n=40).copy()\n",
    "subset_fat_id = subset_fat.index.to_numpy()\n"
   ]
  },
  {
   "cell_type": "code",
   "execution_count": 377,
   "metadata": {},
   "outputs": [],
   "source": [
    "subset_normal = nutrition_db2.sample(n=40).copy()\n",
    "subset_normal_id = subset_normal.index.to_numpy()"
   ]
  },
  {
   "cell_type": "code",
   "execution_count": 378,
   "metadata": {},
   "outputs": [
    {
     "data": {
      "text/plain": "array([ 15408, 132703,  22943, 228915,   8887,   9043, 260193, 242134,\n        24321, 160605, 236128,  23979, 166992,   8630,   8503,   9032,\n        24798,  60598,  45782,  15744,  71378,  66404,  14572,  16819,\n       104934,  12720, 214894, 213206,  14498, 230247,  27819,  24679,\n        88186, 222182,   8857,   8825,  16907,  47076,  87144, 231030])"
     },
     "execution_count": 378,
     "metadata": {},
     "output_type": "execute_result"
    }
   ],
   "source": [
    "subset_normal.index.to_numpy()"
   ]
  },
  {
   "cell_type": "code",
   "execution_count": 379,
   "metadata": {},
   "outputs": [],
   "source": [
    "# remove recipes which are missing in nutrition df from the ingredients tecipes dataframe\n",
    "mask = recipe_db.index.isin(nutrition_db2.index.values)\n",
    "recipe_db = recipe_db.loc[mask]\n"
   ]
  },
  {
   "cell_type": "code",
   "execution_count": 380,
   "metadata": {},
   "outputs": [
    {
     "data": {
      "text/html": "<div>\n<style scoped>\n    .dataframe tbody tr th:only-of-type {\n        vertical-align: middle;\n    }\n\n    .dataframe tbody tr th {\n        vertical-align: top;\n    }\n\n    .dataframe thead th {\n        text-align: right;\n    }\n</style>\n<table border=\"1\" class=\"dataframe\">\n  <thead>\n    <tr style=\"text-align: right;\">\n      <th>name</th>\n      <th>Calcium</th>\n      <th>Calories</th>\n      <th>Calories from Fat</th>\n      <th>Carbohydrates</th>\n      <th>Cholesterol</th>\n      <th>Dietary Fiber</th>\n      <th>Fat</th>\n      <th>Folate</th>\n      <th>Iron</th>\n      <th>Magnesium</th>\n      <th>Niacin Equivalents</th>\n      <th>Potassium</th>\n      <th>Protein</th>\n      <th>Saturated Fat</th>\n      <th>Sodium</th>\n      <th>Sugars</th>\n      <th>Thiamin</th>\n      <th>Vitamin A - IU</th>\n      <th>Vitamin B6</th>\n      <th>Vitamin C</th>\n    </tr>\n  </thead>\n  <tbody>\n    <tr>\n      <td>count</td>\n      <td>40.00000</td>\n      <td>40.00000</td>\n      <td>40.00000</td>\n      <td>40.00000</td>\n      <td>40.00000</td>\n      <td>40.00000</td>\n      <td>40.00000</td>\n      <td>40.00000</td>\n      <td>40.00000</td>\n      <td>40.00000</td>\n      <td>40.00000</td>\n      <td>40.00000</td>\n      <td>40.00000</td>\n      <td>40.00000</td>\n      <td>40.00000</td>\n      <td>40.00000</td>\n      <td>40.00000</td>\n      <td>40.00000</td>\n      <td>40.00000</td>\n      <td>40.00000</td>\n    </tr>\n    <tr>\n      <td>mean</td>\n      <td>278.84579</td>\n      <td>642.90260</td>\n      <td>335.66595</td>\n      <td>42.26027</td>\n      <td>128.54849</td>\n      <td>3.54856</td>\n      <td>37.29622</td>\n      <td>92.15904</td>\n      <td>3.83611</td>\n      <td>59.04993</td>\n      <td>13.80511</td>\n      <td>596.82064</td>\n      <td>34.55547</td>\n      <td>16.29679</td>\n      <td>1052.05414</td>\n      <td>6.59649</td>\n      <td>0.36822</td>\n      <td>1072.32985</td>\n      <td>0.51497</td>\n      <td>22.88373</td>\n    </tr>\n    <tr>\n      <td>std</td>\n      <td>249.45931</td>\n      <td>125.97656</td>\n      <td>13.55759</td>\n      <td>26.71355</td>\n      <td>69.54013</td>\n      <td>3.03595</td>\n      <td>1.50640</td>\n      <td>63.90179</td>\n      <td>1.88121</td>\n      <td>24.23083</td>\n      <td>7.61424</td>\n      <td>199.21026</td>\n      <td>11.62635</td>\n      <td>4.21322</td>\n      <td>740.61116</td>\n      <td>5.65135</td>\n      <td>0.31110</td>\n      <td>1169.65874</td>\n      <td>0.25374</td>\n      <td>30.68999</td>\n    </tr>\n    <tr>\n      <td>min</td>\n      <td>19.12100</td>\n      <td>425.03750</td>\n      <td>315.85820</td>\n      <td>1.23348</td>\n      <td>0.00000</td>\n      <td>0.00000</td>\n      <td>35.09536</td>\n      <td>7.26660</td>\n      <td>0.52164</td>\n      <td>20.94894</td>\n      <td>2.05137</td>\n      <td>306.43000</td>\n      <td>16.83116</td>\n      <td>9.92352</td>\n      <td>233.46360</td>\n      <td>0.09625</td>\n      <td>0.01345</td>\n      <td>1.03520</td>\n      <td>0.17936</td>\n      <td>0.07625</td>\n    </tr>\n    <tr>\n      <td>25%</td>\n      <td>71.22708</td>\n      <td>543.86608</td>\n      <td>324.39002</td>\n      <td>21.83227</td>\n      <td>85.27641</td>\n      <td>1.21571</td>\n      <td>36.04333</td>\n      <td>32.26720</td>\n      <td>2.63211</td>\n      <td>45.07391</td>\n      <td>9.36460</td>\n      <td>445.94878</td>\n      <td>25.15820</td>\n      <td>12.61949</td>\n      <td>706.10267</td>\n      <td>3.29330</td>\n      <td>0.13024</td>\n      <td>454.00743</td>\n      <td>0.34604</td>\n      <td>2.96769</td>\n    </tr>\n    <tr>\n      <td>50%</td>\n      <td>210.53120</td>\n      <td>639.53615</td>\n      <td>334.82795</td>\n      <td>38.98913</td>\n      <td>114.52990</td>\n      <td>2.95667</td>\n      <td>37.20311</td>\n      <td>85.68218</td>\n      <td>3.72566</td>\n      <td>57.06377</td>\n      <td>12.38319</td>\n      <td>562.48720</td>\n      <td>34.69810</td>\n      <td>15.88740</td>\n      <td>948.31900</td>\n      <td>5.55381</td>\n      <td>0.21974</td>\n      <td>921.04860</td>\n      <td>0.48498</td>\n      <td>9.73817</td>\n    </tr>\n    <tr>\n      <td>75%</td>\n      <td>407.86145</td>\n      <td>717.53677</td>\n      <td>347.30235</td>\n      <td>56.67772</td>\n      <td>154.43465</td>\n      <td>4.64357</td>\n      <td>38.58915</td>\n      <td>151.46040</td>\n      <td>5.11019</td>\n      <td>67.38881</td>\n      <td>16.68230</td>\n      <td>734.96812</td>\n      <td>39.64098</td>\n      <td>19.51527</td>\n      <td>1313.60650</td>\n      <td>8.65065</td>\n      <td>0.61568</td>\n      <td>1224.66700</td>\n      <td>0.64602</td>\n      <td>29.28499</td>\n    </tr>\n    <tr>\n      <td>max</td>\n      <td>916.50970</td>\n      <td>901.78670</td>\n      <td>359.98210</td>\n      <td>104.27430</td>\n      <td>402.30000</td>\n      <td>11.88067</td>\n      <td>39.99801</td>\n      <td>207.93860</td>\n      <td>9.38980</td>\n      <td>138.75320</td>\n      <td>47.57578</td>\n      <td>1031.22600</td>\n      <td>71.14468</td>\n      <td>26.64622</td>\n      <td>4604.16100</td>\n      <td>28.13915</td>\n      <td>1.16834</td>\n      <td>6331.44300</td>\n      <td>1.57042</td>\n      <td>129.70680</td>\n    </tr>\n  </tbody>\n</table>\n</div>",
      "text/plain": "name    Calcium  Calories  Calories from Fat  Carbohydrates  Cholesterol  \\\ncount  40.00000  40.00000           40.00000       40.00000     40.00000   \nmean  278.84579 642.90260          335.66595       42.26027    128.54849   \nstd   249.45931 125.97656           13.55759       26.71355     69.54013   \nmin    19.12100 425.03750          315.85820        1.23348      0.00000   \n25%    71.22708 543.86608          324.39002       21.83227     85.27641   \n50%   210.53120 639.53615          334.82795       38.98913    114.52990   \n75%   407.86145 717.53677          347.30235       56.67772    154.43465   \nmax   916.50970 901.78670          359.98210      104.27430    402.30000   \n\nname   Dietary Fiber      Fat    Folate     Iron  Magnesium  \\\ncount       40.00000 40.00000  40.00000 40.00000   40.00000   \nmean         3.54856 37.29622  92.15904  3.83611   59.04993   \nstd          3.03595  1.50640  63.90179  1.88121   24.23083   \nmin          0.00000 35.09536   7.26660  0.52164   20.94894   \n25%          1.21571 36.04333  32.26720  2.63211   45.07391   \n50%          2.95667 37.20311  85.68218  3.72566   57.06377   \n75%          4.64357 38.58915 151.46040  5.11019   67.38881   \nmax         11.88067 39.99801 207.93860  9.38980  138.75320   \n\nname   Niacin Equivalents  Potassium  Protein  Saturated Fat     Sodium  \\\ncount            40.00000   40.00000 40.00000       40.00000   40.00000   \nmean             13.80511  596.82064 34.55547       16.29679 1052.05414   \nstd               7.61424  199.21026 11.62635        4.21322  740.61116   \nmin               2.05137  306.43000 16.83116        9.92352  233.46360   \n25%               9.36460  445.94878 25.15820       12.61949  706.10267   \n50%              12.38319  562.48720 34.69810       15.88740  948.31900   \n75%              16.68230  734.96812 39.64098       19.51527 1313.60650   \nmax              47.57578 1031.22600 71.14468       26.64622 4604.16100   \n\nname    Sugars  Thiamin  Vitamin A - IU  Vitamin B6  Vitamin C  \ncount 40.00000 40.00000        40.00000    40.00000   40.00000  \nmean   6.59649  0.36822      1072.32985     0.51497   22.88373  \nstd    5.65135  0.31110      1169.65874     0.25374   30.68999  \nmin    0.09625  0.01345         1.03520     0.17936    0.07625  \n25%    3.29330  0.13024       454.00743     0.34604    2.96769  \n50%    5.55381  0.21974       921.04860     0.48498    9.73817  \n75%    8.65065  0.61568      1224.66700     0.64602   29.28499  \nmax   28.13915  1.16834      6331.44300     1.57042  129.70680  "
     },
     "execution_count": 380,
     "metadata": {},
     "output_type": "execute_result"
    }
   ],
   "source": [
    "subset_fat.describe()"
   ]
  },
  {
   "cell_type": "code",
   "execution_count": 381,
   "metadata": {},
   "outputs": [
    {
     "data": {
      "text/html": "<div>\n<style scoped>\n    .dataframe tbody tr th:only-of-type {\n        vertical-align: middle;\n    }\n\n    .dataframe tbody tr th {\n        vertical-align: top;\n    }\n\n    .dataframe thead th {\n        text-align: right;\n    }\n</style>\n<table border=\"1\" class=\"dataframe\">\n  <thead>\n    <tr style=\"text-align: right;\">\n      <th>name</th>\n      <th>Calcium</th>\n      <th>Calories</th>\n      <th>Calories from Fat</th>\n      <th>Carbohydrates</th>\n      <th>Cholesterol</th>\n      <th>Dietary Fiber</th>\n      <th>Fat</th>\n      <th>Folate</th>\n      <th>Iron</th>\n      <th>Magnesium</th>\n      <th>Niacin Equivalents</th>\n      <th>Potassium</th>\n      <th>Protein</th>\n      <th>Saturated Fat</th>\n      <th>Sodium</th>\n      <th>Sugars</th>\n      <th>Thiamin</th>\n      <th>Vitamin A - IU</th>\n      <th>Vitamin B6</th>\n      <th>Vitamin C</th>\n    </tr>\n  </thead>\n  <tbody>\n    <tr>\n      <td>count</td>\n      <td>40.00000</td>\n      <td>40.00000</td>\n      <td>40.00000</td>\n      <td>40.00000</td>\n      <td>40.00000</td>\n      <td>40.00000</td>\n      <td>40.00000</td>\n      <td>40.00000</td>\n      <td>40.00000</td>\n      <td>40.00000</td>\n      <td>40.00000</td>\n      <td>40.00000</td>\n      <td>40.00000</td>\n      <td>40.00000</td>\n      <td>40.00000</td>\n      <td>40.00000</td>\n      <td>40.00000</td>\n      <td>40.00000</td>\n      <td>40.00000</td>\n      <td>40.00000</td>\n    </tr>\n    <tr>\n      <td>mean</td>\n      <td>108.57185</td>\n      <td>398.95954</td>\n      <td>184.84897</td>\n      <td>23.76060</td>\n      <td>96.56104</td>\n      <td>1.90882</td>\n      <td>20.53877</td>\n      <td>46.20198</td>\n      <td>2.65621</td>\n      <td>47.15821</td>\n      <td>13.16269</td>\n      <td>449.33114</td>\n      <td>28.12970</td>\n      <td>7.65389</td>\n      <td>1022.07267</td>\n      <td>5.79592</td>\n      <td>0.22704</td>\n      <td>1170.75650</td>\n      <td>0.52554</td>\n      <td>10.01694</td>\n    </tr>\n    <tr>\n      <td>std</td>\n      <td>120.56120</td>\n      <td>157.98419</td>\n      <td>97.41025</td>\n      <td>21.70243</td>\n      <td>45.50860</td>\n      <td>2.56239</td>\n      <td>10.82336</td>\n      <td>45.38053</td>\n      <td>1.51332</td>\n      <td>21.23820</td>\n      <td>7.68099</td>\n      <td>188.05641</td>\n      <td>10.39860</td>\n      <td>5.36028</td>\n      <td>1405.74037</td>\n      <td>9.46419</td>\n      <td>0.18725</td>\n      <td>2247.67210</td>\n      <td>0.29302</td>\n      <td>14.61179</td>\n    </tr>\n    <tr>\n      <td>min</td>\n      <td>10.68667</td>\n      <td>148.16710</td>\n      <td>21.87967</td>\n      <td>0.82028</td>\n      <td>4.40000</td>\n      <td>0.00000</td>\n      <td>2.43107</td>\n      <td>2.96093</td>\n      <td>0.46062</td>\n      <td>12.94290</td>\n      <td>3.97625</td>\n      <td>185.58630</td>\n      <td>8.57564</td>\n      <td>0.67307</td>\n      <td>98.14120</td>\n      <td>0.03000</td>\n      <td>0.03742</td>\n      <td>0.00000</td>\n      <td>0.13703</td>\n      <td>0.00000</td>\n    </tr>\n    <tr>\n      <td>25%</td>\n      <td>33.89906</td>\n      <td>299.64795</td>\n      <td>112.48982</td>\n      <td>6.20793</td>\n      <td>65.08656</td>\n      <td>0.45561</td>\n      <td>12.49887</td>\n      <td>9.93446</td>\n      <td>1.52812</td>\n      <td>30.59614</td>\n      <td>7.80524</td>\n      <td>333.60368</td>\n      <td>23.12123</td>\n      <td>4.31925</td>\n      <td>339.04880</td>\n      <td>1.44107</td>\n      <td>0.08892</td>\n      <td>225.62680</td>\n      <td>0.30661</td>\n      <td>1.86165</td>\n    </tr>\n    <tr>\n      <td>50%</td>\n      <td>76.85068</td>\n      <td>379.53730</td>\n      <td>171.99770</td>\n      <td>15.38088</td>\n      <td>89.23188</td>\n      <td>0.92057</td>\n      <td>19.11085</td>\n      <td>25.49709</td>\n      <td>2.28266</td>\n      <td>42.33866</td>\n      <td>11.06848</td>\n      <td>402.67910</td>\n      <td>28.13625</td>\n      <td>5.89127</td>\n      <td>622.57415</td>\n      <td>2.85649</td>\n      <td>0.14834</td>\n      <td>518.56985</td>\n      <td>0.50949</td>\n      <td>4.20540</td>\n    </tr>\n    <tr>\n      <td>75%</td>\n      <td>142.74542</td>\n      <td>456.69282</td>\n      <td>272.93095</td>\n      <td>39.96668</td>\n      <td>119.27528</td>\n      <td>2.69247</td>\n      <td>30.32567</td>\n      <td>73.87711</td>\n      <td>3.38355</td>\n      <td>63.38322</td>\n      <td>18.86803</td>\n      <td>551.63830</td>\n      <td>32.17254</td>\n      <td>10.24459</td>\n      <td>961.48963</td>\n      <td>5.84077</td>\n      <td>0.31153</td>\n      <td>872.83763</td>\n      <td>0.67548</td>\n      <td>12.41401</td>\n    </tr>\n    <tr>\n      <td>max</td>\n      <td>643.26150</td>\n      <td>802.33240</td>\n      <td>421.80610</td>\n      <td>92.48895</td>\n      <td>203.02310</td>\n      <td>12.80419</td>\n      <td>46.86734</td>\n      <td>155.93490</td>\n      <td>7.50701</td>\n      <td>104.06070</td>\n      <td>37.62593</td>\n      <td>1087.70700</td>\n      <td>59.48167</td>\n      <td>20.92785</td>\n      <td>7156.84400</td>\n      <td>56.09570</td>\n      <td>0.68318</td>\n      <td>13459.90000</td>\n      <td>1.40227</td>\n      <td>72.50710</td>\n    </tr>\n  </tbody>\n</table>\n</div>",
      "text/plain": "name    Calcium  Calories  Calories from Fat  Carbohydrates  Cholesterol  \\\ncount  40.00000  40.00000           40.00000       40.00000     40.00000   \nmean  108.57185 398.95954          184.84897       23.76060     96.56104   \nstd   120.56120 157.98419           97.41025       21.70243     45.50860   \nmin    10.68667 148.16710           21.87967        0.82028      4.40000   \n25%    33.89906 299.64795          112.48982        6.20793     65.08656   \n50%    76.85068 379.53730          171.99770       15.38088     89.23188   \n75%   142.74542 456.69282          272.93095       39.96668    119.27528   \nmax   643.26150 802.33240          421.80610       92.48895    203.02310   \n\nname   Dietary Fiber      Fat    Folate     Iron  Magnesium  \\\ncount       40.00000 40.00000  40.00000 40.00000   40.00000   \nmean         1.90882 20.53877  46.20198  2.65621   47.15821   \nstd          2.56239 10.82336  45.38053  1.51332   21.23820   \nmin          0.00000  2.43107   2.96093  0.46062   12.94290   \n25%          0.45561 12.49887   9.93446  1.52812   30.59614   \n50%          0.92057 19.11085  25.49709  2.28266   42.33866   \n75%          2.69247 30.32567  73.87711  3.38355   63.38322   \nmax         12.80419 46.86734 155.93490  7.50701  104.06070   \n\nname   Niacin Equivalents  Potassium  Protein  Saturated Fat     Sodium  \\\ncount            40.00000   40.00000 40.00000       40.00000   40.00000   \nmean             13.16269  449.33114 28.12970        7.65389 1022.07267   \nstd               7.68099  188.05641 10.39860        5.36028 1405.74037   \nmin               3.97625  185.58630  8.57564        0.67307   98.14120   \n25%               7.80524  333.60368 23.12123        4.31925  339.04880   \n50%              11.06848  402.67910 28.13625        5.89127  622.57415   \n75%              18.86803  551.63830 32.17254       10.24459  961.48963   \nmax              37.62593 1087.70700 59.48167       20.92785 7156.84400   \n\nname    Sugars  Thiamin  Vitamin A - IU  Vitamin B6  Vitamin C  \ncount 40.00000 40.00000        40.00000    40.00000   40.00000  \nmean   5.79592  0.22704      1170.75650     0.52554   10.01694  \nstd    9.46419  0.18725      2247.67210     0.29302   14.61179  \nmin    0.03000  0.03742         0.00000     0.13703    0.00000  \n25%    1.44107  0.08892       225.62680     0.30661    1.86165  \n50%    2.85649  0.14834       518.56985     0.50949    4.20540  \n75%    5.84077  0.31153       872.83763     0.67548   12.41401  \nmax   56.09570  0.68318     13459.90000     1.40227   72.50710  "
     },
     "execution_count": 381,
     "metadata": {},
     "output_type": "execute_result"
    }
   ],
   "source": [
    "subset_normal.describe()"
   ]
  },
  {
   "cell_type": "code",
   "execution_count": 382,
   "metadata": {},
   "outputs": [],
   "source": [
    "user_recipes_fat = recipe_db[recipe_db.index.isin(subset_fat_id)]\n",
    "user_recipes_normal = recipe_db[recipe_db.index.isin(subset_normal_id)]"
   ]
  },
  {
   "cell_type": "code",
   "execution_count": 383,
   "metadata": {},
   "outputs": [],
   "source": [
    "#top10 most common ingredients\n",
    "#16421    2125 salt\n",
    "#4342     1506 garlic\n",
    "#4397     1412 onion\n",
    "#16406    1185 ground black pepper\n",
    "#16157    1016 butter\n",
    "#6307      944 olive oil\n",
    "#6494      786 skinless bone less chicken breast\n",
    "#2496      749 water\n",
    "#16238     574 grated Parmesan cheese\n",
    "#16317     538 eggs\n",
    "\n",
    "\n",
    "drop_id_list = [16421, 4342, 4397, 16406, 16157, 6307, 6494, 2496, 16238, 16317]\n",
    "\n",
    "\n",
    "\n"
   ]
  },
  {
   "cell_type": "code",
   "execution_count": 384,
   "metadata": {},
   "outputs": [
    {
     "data": {
      "text/plain": "array([219766, 239896,  18059,  56412, 231233,  11990, 161869, 235171,\n        23849,  75543, 169974, 158587, 147305, 229885, 235000,  18439,\n        21352,  72191,  12066, 234797,  23434,  26299, 237320,  14668,\n        18795, 206633,  82487,  36621,  40286,  38004, 221304,  16565,\n        60096,  32116,  36766, 167052,  23985,  84774,   8998, 238538])"
     },
     "execution_count": 384,
     "metadata": {},
     "output_type": "execute_result"
    }
   ],
   "source": [
    "subset_fat_id"
   ]
  },
  {
   "cell_type": "code",
   "execution_count": 385,
   "metadata": {},
   "outputs": [
    {
     "data": {
      "text/plain": "array([ 15408, 132703,  22943, 228915,   8887,   9043, 260193, 242134,\n        24321, 160605, 236128,  23979, 166992,   8630,   8503,   9032,\n        24798,  60598,  45782,  15744,  71378,  66404,  14572,  16819,\n       104934,  12720, 214894, 213206,  14498, 230247,  27819,  24679,\n        88186, 222182,   8857,   8825,  16907,  47076,  87144, 231030])"
     },
     "execution_count": 385,
     "metadata": {},
     "output_type": "execute_result"
    }
   ],
   "source": [
    "subset_normal_id"
   ]
  },
  {
   "cell_type": "code",
   "execution_count": 386,
   "metadata": {},
   "outputs": [],
   "source": [
    "#filter out ingredients which are too common and the recipes in the user profile from the recipes database\n",
    "new_recipe_db = recipe_db.drop(axis=1, labels=drop_id_list)\n",
    "new_recipe_db_wo_userrecipes_fat = new_recipe_db.drop(axis=0, labels=subset_fat_id)\n",
    "new_recipe_db_wo_userrecipes_normal = new_recipe_db.drop(axis=0, labels=subset_normal_id)"
   ]
  },
  {
   "cell_type": "code",
   "execution_count": 387,
   "metadata": {},
   "outputs": [],
   "source": [
    "#remove basic ingredients like garlic, olive oil, skinless bone less chicken breast, butter, milk, salt and pepper, onion\n",
    "new_user_recipes_fat = user_recipes_fat.drop(axis=1, labels=drop_id_list)\n",
    "new_user_recipes_normal = user_recipes_normal.drop(axis=1, labels=drop_id_list)"
   ]
  },
  {
   "cell_type": "code",
   "execution_count": 667,
   "metadata": {},
   "outputs": [],
   "source": [
    "sample_fat = new_user_recipes_fat.sample(n=40).copy()\n"
   ]
  },
  {
   "cell_type": "code",
   "execution_count": 734,
   "metadata": {},
   "outputs": [],
   "source": [
    "sample_normal = new_user_recipes_normal.sample(n=20).copy()"
   ]
  },
  {
   "cell_type": "code",
   "execution_count": 735,
   "metadata": {},
   "outputs": [
    {
     "data": {
      "text/html": "<div>\n<style scoped>\n    .dataframe tbody tr th:only-of-type {\n        vertical-align: middle;\n    }\n\n    .dataframe tbody tr th {\n        vertical-align: top;\n    }\n\n    .dataframe thead th {\n        text-align: right;\n    }\n</style>\n<table border=\"1\" class=\"dataframe\">\n  <thead>\n    <tr style=\"text-align: right;\">\n      <th></th>\n      <th>111</th>\n      <th>126</th>\n      <th>257</th>\n      <th>443</th>\n      <th>445</th>\n      <th>578</th>\n      <th>615</th>\n      <th>629</th>\n      <th>631</th>\n      <th>858</th>\n      <th>...</th>\n      <th>23047</th>\n      <th>23274</th>\n      <th>23383</th>\n      <th>24865</th>\n      <th>25518</th>\n      <th>25522</th>\n      <th>26269</th>\n      <th>26934</th>\n      <th>27343</th>\n      <th>27805</th>\n    </tr>\n    <tr>\n      <th>id</th>\n      <th></th>\n      <th></th>\n      <th></th>\n      <th></th>\n      <th></th>\n      <th></th>\n      <th></th>\n      <th></th>\n      <th></th>\n      <th></th>\n      <th></th>\n      <th></th>\n      <th></th>\n      <th></th>\n      <th></th>\n      <th></th>\n      <th></th>\n      <th></th>\n      <th></th>\n      <th></th>\n      <th></th>\n    </tr>\n  </thead>\n  <tbody>\n    <tr>\n      <td>104934</td>\n      <td>0</td>\n      <td>0</td>\n      <td>0</td>\n      <td>0</td>\n      <td>0</td>\n      <td>0</td>\n      <td>0</td>\n      <td>0</td>\n      <td>0</td>\n      <td>0</td>\n      <td>...</td>\n      <td>0</td>\n      <td>0</td>\n      <td>0</td>\n      <td>0</td>\n      <td>0</td>\n      <td>0</td>\n      <td>0</td>\n      <td>0</td>\n      <td>0</td>\n      <td>0</td>\n    </tr>\n    <tr>\n      <td>23979</td>\n      <td>0</td>\n      <td>0</td>\n      <td>0</td>\n      <td>0</td>\n      <td>0</td>\n      <td>0</td>\n      <td>0</td>\n      <td>0</td>\n      <td>0</td>\n      <td>0</td>\n      <td>...</td>\n      <td>0</td>\n      <td>0</td>\n      <td>0</td>\n      <td>0</td>\n      <td>0</td>\n      <td>0</td>\n      <td>0</td>\n      <td>0</td>\n      <td>0</td>\n      <td>0</td>\n    </tr>\n    <tr>\n      <td>14572</td>\n      <td>0</td>\n      <td>0</td>\n      <td>0</td>\n      <td>0</td>\n      <td>0</td>\n      <td>0</td>\n      <td>0</td>\n      <td>0</td>\n      <td>0</td>\n      <td>0</td>\n      <td>...</td>\n      <td>0</td>\n      <td>0</td>\n      <td>0</td>\n      <td>0</td>\n      <td>0</td>\n      <td>0</td>\n      <td>0</td>\n      <td>0</td>\n      <td>0</td>\n      <td>0</td>\n    </tr>\n    <tr>\n      <td>22943</td>\n      <td>0</td>\n      <td>0</td>\n      <td>0</td>\n      <td>0</td>\n      <td>0</td>\n      <td>0</td>\n      <td>0</td>\n      <td>0</td>\n      <td>0</td>\n      <td>0</td>\n      <td>...</td>\n      <td>0</td>\n      <td>0</td>\n      <td>0</td>\n      <td>0</td>\n      <td>0</td>\n      <td>0</td>\n      <td>0</td>\n      <td>0</td>\n      <td>0</td>\n      <td>0</td>\n    </tr>\n    <tr>\n      <td>60598</td>\n      <td>0</td>\n      <td>0</td>\n      <td>0</td>\n      <td>0</td>\n      <td>0</td>\n      <td>0</td>\n      <td>0</td>\n      <td>0</td>\n      <td>0</td>\n      <td>0</td>\n      <td>...</td>\n      <td>0</td>\n      <td>0</td>\n      <td>0</td>\n      <td>0</td>\n      <td>0</td>\n      <td>0</td>\n      <td>0</td>\n      <td>0</td>\n      <td>0</td>\n      <td>0</td>\n    </tr>\n    <tr>\n      <td>12720</td>\n      <td>0</td>\n      <td>0</td>\n      <td>0</td>\n      <td>0</td>\n      <td>0</td>\n      <td>0</td>\n      <td>0</td>\n      <td>0</td>\n      <td>0</td>\n      <td>0</td>\n      <td>...</td>\n      <td>0</td>\n      <td>0</td>\n      <td>0</td>\n      <td>0</td>\n      <td>0</td>\n      <td>0</td>\n      <td>0</td>\n      <td>0</td>\n      <td>0</td>\n      <td>0</td>\n    </tr>\n    <tr>\n      <td>9032</td>\n      <td>0</td>\n      <td>0</td>\n      <td>0</td>\n      <td>0</td>\n      <td>0</td>\n      <td>0</td>\n      <td>0</td>\n      <td>0</td>\n      <td>0</td>\n      <td>0</td>\n      <td>...</td>\n      <td>0</td>\n      <td>0</td>\n      <td>0</td>\n      <td>0</td>\n      <td>0</td>\n      <td>0</td>\n      <td>0</td>\n      <td>0</td>\n      <td>0</td>\n      <td>0</td>\n    </tr>\n    <tr>\n      <td>66404</td>\n      <td>0</td>\n      <td>0</td>\n      <td>0</td>\n      <td>0</td>\n      <td>0</td>\n      <td>0</td>\n      <td>0</td>\n      <td>0</td>\n      <td>0</td>\n      <td>0</td>\n      <td>...</td>\n      <td>0</td>\n      <td>0</td>\n      <td>0</td>\n      <td>0</td>\n      <td>0</td>\n      <td>0</td>\n      <td>0</td>\n      <td>0</td>\n      <td>0</td>\n      <td>0</td>\n    </tr>\n    <tr>\n      <td>87144</td>\n      <td>0</td>\n      <td>0</td>\n      <td>0</td>\n      <td>0</td>\n      <td>0</td>\n      <td>0</td>\n      <td>0</td>\n      <td>0</td>\n      <td>0</td>\n      <td>0</td>\n      <td>...</td>\n      <td>0</td>\n      <td>0</td>\n      <td>0</td>\n      <td>0</td>\n      <td>0</td>\n      <td>0</td>\n      <td>0</td>\n      <td>0</td>\n      <td>0</td>\n      <td>0</td>\n    </tr>\n    <tr>\n      <td>236128</td>\n      <td>0</td>\n      <td>0</td>\n      <td>0</td>\n      <td>0</td>\n      <td>0</td>\n      <td>0</td>\n      <td>0</td>\n      <td>0</td>\n      <td>0</td>\n      <td>0</td>\n      <td>...</td>\n      <td>0</td>\n      <td>0</td>\n      <td>0</td>\n      <td>0</td>\n      <td>0</td>\n      <td>0</td>\n      <td>0</td>\n      <td>0</td>\n      <td>0</td>\n      <td>0</td>\n    </tr>\n    <tr>\n      <td>47076</td>\n      <td>0</td>\n      <td>0</td>\n      <td>0</td>\n      <td>0</td>\n      <td>0</td>\n      <td>0</td>\n      <td>0</td>\n      <td>0</td>\n      <td>0</td>\n      <td>0</td>\n      <td>...</td>\n      <td>0</td>\n      <td>0</td>\n      <td>0</td>\n      <td>0</td>\n      <td>0</td>\n      <td>0</td>\n      <td>0</td>\n      <td>0</td>\n      <td>0</td>\n      <td>0</td>\n    </tr>\n    <tr>\n      <td>88186</td>\n      <td>0</td>\n      <td>0</td>\n      <td>0</td>\n      <td>0</td>\n      <td>0</td>\n      <td>0</td>\n      <td>0</td>\n      <td>0</td>\n      <td>0</td>\n      <td>0</td>\n      <td>...</td>\n      <td>0</td>\n      <td>1</td>\n      <td>0</td>\n      <td>0</td>\n      <td>0</td>\n      <td>0</td>\n      <td>0</td>\n      <td>0</td>\n      <td>0</td>\n      <td>0</td>\n    </tr>\n    <tr>\n      <td>16907</td>\n      <td>0</td>\n      <td>0</td>\n      <td>0</td>\n      <td>0</td>\n      <td>0</td>\n      <td>0</td>\n      <td>0</td>\n      <td>0</td>\n      <td>0</td>\n      <td>0</td>\n      <td>...</td>\n      <td>0</td>\n      <td>0</td>\n      <td>0</td>\n      <td>0</td>\n      <td>0</td>\n      <td>0</td>\n      <td>0</td>\n      <td>0</td>\n      <td>0</td>\n      <td>0</td>\n    </tr>\n    <tr>\n      <td>8630</td>\n      <td>0</td>\n      <td>0</td>\n      <td>0</td>\n      <td>0</td>\n      <td>0</td>\n      <td>0</td>\n      <td>0</td>\n      <td>0</td>\n      <td>0</td>\n      <td>0</td>\n      <td>...</td>\n      <td>0</td>\n      <td>0</td>\n      <td>0</td>\n      <td>0</td>\n      <td>0</td>\n      <td>0</td>\n      <td>0</td>\n      <td>0</td>\n      <td>0</td>\n      <td>0</td>\n    </tr>\n    <tr>\n      <td>8887</td>\n      <td>0</td>\n      <td>0</td>\n      <td>0</td>\n      <td>0</td>\n      <td>0</td>\n      <td>0</td>\n      <td>0</td>\n      <td>0</td>\n      <td>0</td>\n      <td>0</td>\n      <td>...</td>\n      <td>0</td>\n      <td>0</td>\n      <td>0</td>\n      <td>0</td>\n      <td>0</td>\n      <td>0</td>\n      <td>0</td>\n      <td>0</td>\n      <td>0</td>\n      <td>0</td>\n    </tr>\n    <tr>\n      <td>242134</td>\n      <td>0</td>\n      <td>0</td>\n      <td>0</td>\n      <td>0</td>\n      <td>0</td>\n      <td>0</td>\n      <td>0</td>\n      <td>0</td>\n      <td>0</td>\n      <td>0</td>\n      <td>...</td>\n      <td>0</td>\n      <td>0</td>\n      <td>0</td>\n      <td>0</td>\n      <td>0</td>\n      <td>0</td>\n      <td>0</td>\n      <td>0</td>\n      <td>0</td>\n      <td>0</td>\n    </tr>\n    <tr>\n      <td>45782</td>\n      <td>0</td>\n      <td>0</td>\n      <td>0</td>\n      <td>0</td>\n      <td>0</td>\n      <td>0</td>\n      <td>0</td>\n      <td>0</td>\n      <td>0</td>\n      <td>0</td>\n      <td>...</td>\n      <td>0</td>\n      <td>0</td>\n      <td>0</td>\n      <td>0</td>\n      <td>0</td>\n      <td>0</td>\n      <td>0</td>\n      <td>0</td>\n      <td>0</td>\n      <td>0</td>\n    </tr>\n    <tr>\n      <td>132703</td>\n      <td>0</td>\n      <td>0</td>\n      <td>0</td>\n      <td>0</td>\n      <td>0</td>\n      <td>0</td>\n      <td>0</td>\n      <td>0</td>\n      <td>0</td>\n      <td>0</td>\n      <td>...</td>\n      <td>0</td>\n      <td>0</td>\n      <td>0</td>\n      <td>0</td>\n      <td>0</td>\n      <td>0</td>\n      <td>0</td>\n      <td>0</td>\n      <td>0</td>\n      <td>0</td>\n    </tr>\n    <tr>\n      <td>213206</td>\n      <td>0</td>\n      <td>0</td>\n      <td>0</td>\n      <td>0</td>\n      <td>0</td>\n      <td>0</td>\n      <td>0</td>\n      <td>0</td>\n      <td>0</td>\n      <td>0</td>\n      <td>...</td>\n      <td>0</td>\n      <td>0</td>\n      <td>0</td>\n      <td>0</td>\n      <td>0</td>\n      <td>0</td>\n      <td>0</td>\n      <td>0</td>\n      <td>0</td>\n      <td>0</td>\n    </tr>\n    <tr>\n      <td>8825</td>\n      <td>0</td>\n      <td>0</td>\n      <td>0</td>\n      <td>0</td>\n      <td>0</td>\n      <td>0</td>\n      <td>0</td>\n      <td>0</td>\n      <td>0</td>\n      <td>0</td>\n      <td>...</td>\n      <td>0</td>\n      <td>0</td>\n      <td>0</td>\n      <td>0</td>\n      <td>0</td>\n      <td>0</td>\n      <td>0</td>\n      <td>0</td>\n      <td>0</td>\n      <td>0</td>\n    </tr>\n  </tbody>\n</table>\n<p>20 rows × 720 columns</p>\n</div>",
      "text/plain": "        111    126    257    443    445    578    615    629    631    858    \\\nid                                                                             \n104934      0      0      0      0      0      0      0      0      0      0   \n23979       0      0      0      0      0      0      0      0      0      0   \n14572       0      0      0      0      0      0      0      0      0      0   \n22943       0      0      0      0      0      0      0      0      0      0   \n60598       0      0      0      0      0      0      0      0      0      0   \n12720       0      0      0      0      0      0      0      0      0      0   \n9032        0      0      0      0      0      0      0      0      0      0   \n66404       0      0      0      0      0      0      0      0      0      0   \n87144       0      0      0      0      0      0      0      0      0      0   \n236128      0      0      0      0      0      0      0      0      0      0   \n47076       0      0      0      0      0      0      0      0      0      0   \n88186       0      0      0      0      0      0      0      0      0      0   \n16907       0      0      0      0      0      0      0      0      0      0   \n8630        0      0      0      0      0      0      0      0      0      0   \n8887        0      0      0      0      0      0      0      0      0      0   \n242134      0      0      0      0      0      0      0      0      0      0   \n45782       0      0      0      0      0      0      0      0      0      0   \n132703      0      0      0      0      0      0      0      0      0      0   \n213206      0      0      0      0      0      0      0      0      0      0   \n8825        0      0      0      0      0      0      0      0      0      0   \n\n        ...  23047  23274  23383  24865  25518  25522  26269  26934  27343  \\\nid      ...                                                                  \n104934  ...      0      0      0      0      0      0      0      0      0   \n23979   ...      0      0      0      0      0      0      0      0      0   \n14572   ...      0      0      0      0      0      0      0      0      0   \n22943   ...      0      0      0      0      0      0      0      0      0   \n60598   ...      0      0      0      0      0      0      0      0      0   \n12720   ...      0      0      0      0      0      0      0      0      0   \n9032    ...      0      0      0      0      0      0      0      0      0   \n66404   ...      0      0      0      0      0      0      0      0      0   \n87144   ...      0      0      0      0      0      0      0      0      0   \n236128  ...      0      0      0      0      0      0      0      0      0   \n47076   ...      0      0      0      0      0      0      0      0      0   \n88186   ...      0      1      0      0      0      0      0      0      0   \n16907   ...      0      0      0      0      0      0      0      0      0   \n8630    ...      0      0      0      0      0      0      0      0      0   \n8887    ...      0      0      0      0      0      0      0      0      0   \n242134  ...      0      0      0      0      0      0      0      0      0   \n45782   ...      0      0      0      0      0      0      0      0      0   \n132703  ...      0      0      0      0      0      0      0      0      0   \n213206  ...      0      0      0      0      0      0      0      0      0   \n8825    ...      0      0      0      0      0      0      0      0      0   \n\n        27805  \nid             \n104934      0  \n23979       0  \n14572       0  \n22943       0  \n60598       0  \n12720       0  \n9032        0  \n66404       0  \n87144       0  \n236128      0  \n47076       0  \n88186       0  \n16907       0  \n8630        0  \n8887        0  \n242134      0  \n45782       0  \n132703      0  \n213206      0  \n8825        0  \n\n[20 rows x 720 columns]"
     },
     "execution_count": 735,
     "metadata": {},
     "output_type": "execute_result"
    },
    {
     "data": {
      "text/html": "<div>\n<style scoped>\n    .dataframe tbody tr th:only-of-type {\n        vertical-align: middle;\n    }\n\n    .dataframe tbody tr th {\n        vertical-align: top;\n    }\n\n    .dataframe thead th {\n        text-align: right;\n    }\n</style>\n<table border=\"1\" class=\"dataframe\">\n  <thead>\n    <tr style=\"text-align: right;\">\n      <th></th>\n      <th>111</th>\n      <th>126</th>\n      <th>257</th>\n      <th>443</th>\n      <th>445</th>\n      <th>578</th>\n      <th>615</th>\n      <th>629</th>\n      <th>631</th>\n      <th>858</th>\n      <th>...</th>\n      <th>23047</th>\n      <th>23274</th>\n      <th>23383</th>\n      <th>24865</th>\n      <th>25518</th>\n      <th>25522</th>\n      <th>26269</th>\n      <th>26934</th>\n      <th>27343</th>\n      <th>27805</th>\n    </tr>\n    <tr>\n      <th>id</th>\n      <th></th>\n      <th></th>\n      <th></th>\n      <th></th>\n      <th></th>\n      <th></th>\n      <th></th>\n      <th></th>\n      <th></th>\n      <th></th>\n      <th></th>\n      <th></th>\n      <th></th>\n      <th></th>\n      <th></th>\n      <th></th>\n      <th></th>\n      <th></th>\n      <th></th>\n      <th></th>\n      <th></th>\n    </tr>\n  </thead>\n  <tbody>\n    <tr>\n      <td>12066</td>\n      <td>0</td>\n      <td>0</td>\n      <td>0</td>\n      <td>0</td>\n      <td>0</td>\n      <td>0</td>\n      <td>0</td>\n      <td>0</td>\n      <td>0</td>\n      <td>0</td>\n      <td>...</td>\n      <td>0</td>\n      <td>0</td>\n      <td>0</td>\n      <td>0</td>\n      <td>0</td>\n      <td>0</td>\n      <td>0</td>\n      <td>0</td>\n      <td>0</td>\n      <td>0</td>\n    </tr>\n    <tr>\n      <td>8998</td>\n      <td>0</td>\n      <td>0</td>\n      <td>0</td>\n      <td>0</td>\n      <td>0</td>\n      <td>0</td>\n      <td>0</td>\n      <td>0</td>\n      <td>0</td>\n      <td>0</td>\n      <td>...</td>\n      <td>0</td>\n      <td>0</td>\n      <td>0</td>\n      <td>0</td>\n      <td>0</td>\n      <td>0</td>\n      <td>0</td>\n      <td>0</td>\n      <td>0</td>\n      <td>0</td>\n    </tr>\n    <tr>\n      <td>167052</td>\n      <td>0</td>\n      <td>0</td>\n      <td>0</td>\n      <td>0</td>\n      <td>0</td>\n      <td>0</td>\n      <td>0</td>\n      <td>0</td>\n      <td>0</td>\n      <td>0</td>\n      <td>...</td>\n      <td>0</td>\n      <td>0</td>\n      <td>0</td>\n      <td>0</td>\n      <td>0</td>\n      <td>0</td>\n      <td>0</td>\n      <td>0</td>\n      <td>0</td>\n      <td>0</td>\n    </tr>\n    <tr>\n      <td>18795</td>\n      <td>0</td>\n      <td>0</td>\n      <td>0</td>\n      <td>0</td>\n      <td>0</td>\n      <td>0</td>\n      <td>0</td>\n      <td>0</td>\n      <td>0</td>\n      <td>0</td>\n      <td>...</td>\n      <td>0</td>\n      <td>0</td>\n      <td>0</td>\n      <td>0</td>\n      <td>0</td>\n      <td>0</td>\n      <td>0</td>\n      <td>0</td>\n      <td>0</td>\n      <td>0</td>\n    </tr>\n    <tr>\n      <td>82487</td>\n      <td>0</td>\n      <td>0</td>\n      <td>0</td>\n      <td>0</td>\n      <td>0</td>\n      <td>0</td>\n      <td>0</td>\n      <td>0</td>\n      <td>0</td>\n      <td>0</td>\n      <td>...</td>\n      <td>0</td>\n      <td>0</td>\n      <td>0</td>\n      <td>0</td>\n      <td>0</td>\n      <td>0</td>\n      <td>0</td>\n      <td>0</td>\n      <td>0</td>\n      <td>0</td>\n    </tr>\n    <tr>\n      <td>161869</td>\n      <td>0</td>\n      <td>0</td>\n      <td>0</td>\n      <td>0</td>\n      <td>0</td>\n      <td>0</td>\n      <td>0</td>\n      <td>0</td>\n      <td>0</td>\n      <td>0</td>\n      <td>...</td>\n      <td>0</td>\n      <td>0</td>\n      <td>0</td>\n      <td>0</td>\n      <td>0</td>\n      <td>0</td>\n      <td>0</td>\n      <td>0</td>\n      <td>0</td>\n      <td>0</td>\n    </tr>\n    <tr>\n      <td>26299</td>\n      <td>0</td>\n      <td>0</td>\n      <td>0</td>\n      <td>0</td>\n      <td>0</td>\n      <td>0</td>\n      <td>0</td>\n      <td>0</td>\n      <td>0</td>\n      <td>0</td>\n      <td>...</td>\n      <td>0</td>\n      <td>0</td>\n      <td>0</td>\n      <td>0</td>\n      <td>0</td>\n      <td>0</td>\n      <td>0</td>\n      <td>0</td>\n      <td>0</td>\n      <td>0</td>\n    </tr>\n    <tr>\n      <td>75543</td>\n      <td>0</td>\n      <td>0</td>\n      <td>0</td>\n      <td>0</td>\n      <td>0</td>\n      <td>0</td>\n      <td>0</td>\n      <td>0</td>\n      <td>0</td>\n      <td>0</td>\n      <td>...</td>\n      <td>0</td>\n      <td>0</td>\n      <td>0</td>\n      <td>0</td>\n      <td>0</td>\n      <td>0</td>\n      <td>0</td>\n      <td>0</td>\n      <td>0</td>\n      <td>0</td>\n    </tr>\n    <tr>\n      <td>238538</td>\n      <td>0</td>\n      <td>0</td>\n      <td>0</td>\n      <td>0</td>\n      <td>0</td>\n      <td>0</td>\n      <td>0</td>\n      <td>0</td>\n      <td>0</td>\n      <td>0</td>\n      <td>...</td>\n      <td>0</td>\n      <td>0</td>\n      <td>0</td>\n      <td>0</td>\n      <td>0</td>\n      <td>0</td>\n      <td>0</td>\n      <td>0</td>\n      <td>0</td>\n      <td>0</td>\n    </tr>\n    <tr>\n      <td>21352</td>\n      <td>0</td>\n      <td>0</td>\n      <td>0</td>\n      <td>0</td>\n      <td>0</td>\n      <td>0</td>\n      <td>0</td>\n      <td>0</td>\n      <td>0</td>\n      <td>0</td>\n      <td>...</td>\n      <td>0</td>\n      <td>0</td>\n      <td>0</td>\n      <td>0</td>\n      <td>0</td>\n      <td>0</td>\n      <td>0</td>\n      <td>0</td>\n      <td>0</td>\n      <td>0</td>\n    </tr>\n    <tr>\n      <td>158587</td>\n      <td>0</td>\n      <td>0</td>\n      <td>0</td>\n      <td>0</td>\n      <td>0</td>\n      <td>0</td>\n      <td>0</td>\n      <td>0</td>\n      <td>0</td>\n      <td>0</td>\n      <td>...</td>\n      <td>0</td>\n      <td>0</td>\n      <td>0</td>\n      <td>0</td>\n      <td>0</td>\n      <td>0</td>\n      <td>0</td>\n      <td>0</td>\n      <td>0</td>\n      <td>0</td>\n    </tr>\n    <tr>\n      <td>235171</td>\n      <td>0</td>\n      <td>0</td>\n      <td>0</td>\n      <td>0</td>\n      <td>0</td>\n      <td>0</td>\n      <td>0</td>\n      <td>0</td>\n      <td>0</td>\n      <td>0</td>\n      <td>...</td>\n      <td>0</td>\n      <td>0</td>\n      <td>0</td>\n      <td>0</td>\n      <td>0</td>\n      <td>0</td>\n      <td>0</td>\n      <td>0</td>\n      <td>0</td>\n      <td>0</td>\n    </tr>\n    <tr>\n      <td>23849</td>\n      <td>0</td>\n      <td>0</td>\n      <td>0</td>\n      <td>0</td>\n      <td>0</td>\n      <td>0</td>\n      <td>0</td>\n      <td>0</td>\n      <td>0</td>\n      <td>0</td>\n      <td>...</td>\n      <td>0</td>\n      <td>0</td>\n      <td>0</td>\n      <td>0</td>\n      <td>0</td>\n      <td>0</td>\n      <td>0</td>\n      <td>0</td>\n      <td>0</td>\n      <td>0</td>\n    </tr>\n    <tr>\n      <td>221304</td>\n      <td>0</td>\n      <td>0</td>\n      <td>0</td>\n      <td>0</td>\n      <td>0</td>\n      <td>0</td>\n      <td>0</td>\n      <td>0</td>\n      <td>0</td>\n      <td>0</td>\n      <td>...</td>\n      <td>0</td>\n      <td>0</td>\n      <td>0</td>\n      <td>0</td>\n      <td>0</td>\n      <td>0</td>\n      <td>0</td>\n      <td>0</td>\n      <td>0</td>\n      <td>0</td>\n    </tr>\n    <tr>\n      <td>18059</td>\n      <td>0</td>\n      <td>0</td>\n      <td>0</td>\n      <td>0</td>\n      <td>0</td>\n      <td>0</td>\n      <td>0</td>\n      <td>0</td>\n      <td>0</td>\n      <td>0</td>\n      <td>...</td>\n      <td>0</td>\n      <td>0</td>\n      <td>0</td>\n      <td>0</td>\n      <td>0</td>\n      <td>0</td>\n      <td>0</td>\n      <td>0</td>\n      <td>0</td>\n      <td>0</td>\n    </tr>\n    <tr>\n      <td>169974</td>\n      <td>0</td>\n      <td>0</td>\n      <td>0</td>\n      <td>0</td>\n      <td>0</td>\n      <td>0</td>\n      <td>0</td>\n      <td>0</td>\n      <td>0</td>\n      <td>0</td>\n      <td>...</td>\n      <td>0</td>\n      <td>0</td>\n      <td>0</td>\n      <td>0</td>\n      <td>0</td>\n      <td>0</td>\n      <td>0</td>\n      <td>0</td>\n      <td>0</td>\n      <td>0</td>\n    </tr>\n    <tr>\n      <td>72191</td>\n      <td>0</td>\n      <td>0</td>\n      <td>0</td>\n      <td>0</td>\n      <td>0</td>\n      <td>0</td>\n      <td>0</td>\n      <td>0</td>\n      <td>0</td>\n      <td>0</td>\n      <td>...</td>\n      <td>0</td>\n      <td>0</td>\n      <td>0</td>\n      <td>0</td>\n      <td>0</td>\n      <td>0</td>\n      <td>0</td>\n      <td>0</td>\n      <td>0</td>\n      <td>0</td>\n    </tr>\n    <tr>\n      <td>206633</td>\n      <td>0</td>\n      <td>0</td>\n      <td>0</td>\n      <td>0</td>\n      <td>0</td>\n      <td>0</td>\n      <td>0</td>\n      <td>0</td>\n      <td>0</td>\n      <td>0</td>\n      <td>...</td>\n      <td>0</td>\n      <td>0</td>\n      <td>0</td>\n      <td>0</td>\n      <td>0</td>\n      <td>0</td>\n      <td>0</td>\n      <td>0</td>\n      <td>0</td>\n      <td>0</td>\n    </tr>\n    <tr>\n      <td>36621</td>\n      <td>0</td>\n      <td>0</td>\n      <td>0</td>\n      <td>0</td>\n      <td>0</td>\n      <td>0</td>\n      <td>0</td>\n      <td>0</td>\n      <td>0</td>\n      <td>0</td>\n      <td>...</td>\n      <td>0</td>\n      <td>0</td>\n      <td>0</td>\n      <td>0</td>\n      <td>0</td>\n      <td>0</td>\n      <td>0</td>\n      <td>0</td>\n      <td>0</td>\n      <td>0</td>\n    </tr>\n    <tr>\n      <td>23985</td>\n      <td>0</td>\n      <td>0</td>\n      <td>0</td>\n      <td>0</td>\n      <td>0</td>\n      <td>0</td>\n      <td>0</td>\n      <td>0</td>\n      <td>0</td>\n      <td>0</td>\n      <td>...</td>\n      <td>0</td>\n      <td>0</td>\n      <td>0</td>\n      <td>0</td>\n      <td>0</td>\n      <td>0</td>\n      <td>0</td>\n      <td>0</td>\n      <td>0</td>\n      <td>0</td>\n    </tr>\n    <tr>\n      <td>56412</td>\n      <td>0</td>\n      <td>0</td>\n      <td>0</td>\n      <td>0</td>\n      <td>0</td>\n      <td>0</td>\n      <td>0</td>\n      <td>0</td>\n      <td>0</td>\n      <td>0</td>\n      <td>...</td>\n      <td>0</td>\n      <td>0</td>\n      <td>0</td>\n      <td>0</td>\n      <td>0</td>\n      <td>0</td>\n      <td>0</td>\n      <td>0</td>\n      <td>0</td>\n      <td>0</td>\n    </tr>\n    <tr>\n      <td>36766</td>\n      <td>0</td>\n      <td>0</td>\n      <td>0</td>\n      <td>0</td>\n      <td>0</td>\n      <td>0</td>\n      <td>0</td>\n      <td>0</td>\n      <td>0</td>\n      <td>0</td>\n      <td>...</td>\n      <td>0</td>\n      <td>0</td>\n      <td>0</td>\n      <td>0</td>\n      <td>0</td>\n      <td>0</td>\n      <td>0</td>\n      <td>0</td>\n      <td>0</td>\n      <td>0</td>\n    </tr>\n    <tr>\n      <td>14668</td>\n      <td>0</td>\n      <td>0</td>\n      <td>0</td>\n      <td>0</td>\n      <td>0</td>\n      <td>0</td>\n      <td>0</td>\n      <td>0</td>\n      <td>0</td>\n      <td>0</td>\n      <td>...</td>\n      <td>0</td>\n      <td>0</td>\n      <td>0</td>\n      <td>0</td>\n      <td>0</td>\n      <td>0</td>\n      <td>0</td>\n      <td>0</td>\n      <td>0</td>\n      <td>0</td>\n    </tr>\n    <tr>\n      <td>229885</td>\n      <td>0</td>\n      <td>0</td>\n      <td>0</td>\n      <td>0</td>\n      <td>0</td>\n      <td>0</td>\n      <td>0</td>\n      <td>0</td>\n      <td>0</td>\n      <td>0</td>\n      <td>...</td>\n      <td>0</td>\n      <td>0</td>\n      <td>0</td>\n      <td>0</td>\n      <td>0</td>\n      <td>0</td>\n      <td>0</td>\n      <td>0</td>\n      <td>0</td>\n      <td>0</td>\n    </tr>\n    <tr>\n      <td>239896</td>\n      <td>0</td>\n      <td>0</td>\n      <td>0</td>\n      <td>0</td>\n      <td>0</td>\n      <td>0</td>\n      <td>0</td>\n      <td>0</td>\n      <td>0</td>\n      <td>0</td>\n      <td>...</td>\n      <td>0</td>\n      <td>0</td>\n      <td>0</td>\n      <td>0</td>\n      <td>0</td>\n      <td>0</td>\n      <td>0</td>\n      <td>0</td>\n      <td>0</td>\n      <td>0</td>\n    </tr>\n    <tr>\n      <td>237320</td>\n      <td>0</td>\n      <td>0</td>\n      <td>0</td>\n      <td>0</td>\n      <td>0</td>\n      <td>0</td>\n      <td>0</td>\n      <td>0</td>\n      <td>0</td>\n      <td>0</td>\n      <td>...</td>\n      <td>0</td>\n      <td>0</td>\n      <td>0</td>\n      <td>0</td>\n      <td>0</td>\n      <td>0</td>\n      <td>0</td>\n      <td>0</td>\n      <td>0</td>\n      <td>0</td>\n    </tr>\n    <tr>\n      <td>234797</td>\n      <td>0</td>\n      <td>0</td>\n      <td>0</td>\n      <td>0</td>\n      <td>0</td>\n      <td>0</td>\n      <td>0</td>\n      <td>0</td>\n      <td>0</td>\n      <td>0</td>\n      <td>...</td>\n      <td>0</td>\n      <td>0</td>\n      <td>0</td>\n      <td>0</td>\n      <td>0</td>\n      <td>0</td>\n      <td>0</td>\n      <td>0</td>\n      <td>0</td>\n      <td>0</td>\n    </tr>\n    <tr>\n      <td>40286</td>\n      <td>0</td>\n      <td>0</td>\n      <td>0</td>\n      <td>0</td>\n      <td>0</td>\n      <td>0</td>\n      <td>0</td>\n      <td>0</td>\n      <td>0</td>\n      <td>0</td>\n      <td>...</td>\n      <td>0</td>\n      <td>0</td>\n      <td>0</td>\n      <td>0</td>\n      <td>0</td>\n      <td>0</td>\n      <td>0</td>\n      <td>0</td>\n      <td>0</td>\n      <td>0</td>\n    </tr>\n    <tr>\n      <td>231233</td>\n      <td>0</td>\n      <td>0</td>\n      <td>0</td>\n      <td>0</td>\n      <td>0</td>\n      <td>0</td>\n      <td>0</td>\n      <td>0</td>\n      <td>0</td>\n      <td>0</td>\n      <td>...</td>\n      <td>0</td>\n      <td>0</td>\n      <td>0</td>\n      <td>0</td>\n      <td>0</td>\n      <td>0</td>\n      <td>0</td>\n      <td>0</td>\n      <td>0</td>\n      <td>0</td>\n    </tr>\n    <tr>\n      <td>219766</td>\n      <td>0</td>\n      <td>0</td>\n      <td>0</td>\n      <td>0</td>\n      <td>0</td>\n      <td>0</td>\n      <td>0</td>\n      <td>0</td>\n      <td>0</td>\n      <td>0</td>\n      <td>...</td>\n      <td>0</td>\n      <td>0</td>\n      <td>0</td>\n      <td>0</td>\n      <td>0</td>\n      <td>0</td>\n      <td>0</td>\n      <td>0</td>\n      <td>0</td>\n      <td>0</td>\n    </tr>\n    <tr>\n      <td>38004</td>\n      <td>0</td>\n      <td>0</td>\n      <td>0</td>\n      <td>0</td>\n      <td>0</td>\n      <td>0</td>\n      <td>0</td>\n      <td>0</td>\n      <td>0</td>\n      <td>0</td>\n      <td>...</td>\n      <td>0</td>\n      <td>0</td>\n      <td>0</td>\n      <td>0</td>\n      <td>0</td>\n      <td>0</td>\n      <td>0</td>\n      <td>0</td>\n      <td>0</td>\n      <td>0</td>\n    </tr>\n    <tr>\n      <td>16565</td>\n      <td>0</td>\n      <td>0</td>\n      <td>0</td>\n      <td>0</td>\n      <td>0</td>\n      <td>0</td>\n      <td>0</td>\n      <td>0</td>\n      <td>0</td>\n      <td>0</td>\n      <td>...</td>\n      <td>0</td>\n      <td>0</td>\n      <td>0</td>\n      <td>0</td>\n      <td>0</td>\n      <td>0</td>\n      <td>0</td>\n      <td>0</td>\n      <td>0</td>\n      <td>0</td>\n    </tr>\n    <tr>\n      <td>32116</td>\n      <td>0</td>\n      <td>0</td>\n      <td>0</td>\n      <td>0</td>\n      <td>0</td>\n      <td>0</td>\n      <td>0</td>\n      <td>0</td>\n      <td>0</td>\n      <td>0</td>\n      <td>...</td>\n      <td>0</td>\n      <td>0</td>\n      <td>0</td>\n      <td>0</td>\n      <td>0</td>\n      <td>0</td>\n      <td>0</td>\n      <td>0</td>\n      <td>0</td>\n      <td>0</td>\n    </tr>\n    <tr>\n      <td>11990</td>\n      <td>0</td>\n      <td>0</td>\n      <td>0</td>\n      <td>0</td>\n      <td>0</td>\n      <td>0</td>\n      <td>0</td>\n      <td>0</td>\n      <td>0</td>\n      <td>0</td>\n      <td>...</td>\n      <td>0</td>\n      <td>0</td>\n      <td>0</td>\n      <td>0</td>\n      <td>0</td>\n      <td>0</td>\n      <td>0</td>\n      <td>0</td>\n      <td>0</td>\n      <td>0</td>\n    </tr>\n    <tr>\n      <td>84774</td>\n      <td>0</td>\n      <td>0</td>\n      <td>0</td>\n      <td>0</td>\n      <td>0</td>\n      <td>0</td>\n      <td>0</td>\n      <td>0</td>\n      <td>0</td>\n      <td>0</td>\n      <td>...</td>\n      <td>0</td>\n      <td>0</td>\n      <td>0</td>\n      <td>0</td>\n      <td>0</td>\n      <td>0</td>\n      <td>0</td>\n      <td>0</td>\n      <td>0</td>\n      <td>0</td>\n    </tr>\n    <tr>\n      <td>23434</td>\n      <td>0</td>\n      <td>0</td>\n      <td>0</td>\n      <td>0</td>\n      <td>0</td>\n      <td>0</td>\n      <td>0</td>\n      <td>0</td>\n      <td>0</td>\n      <td>0</td>\n      <td>...</td>\n      <td>0</td>\n      <td>0</td>\n      <td>0</td>\n      <td>0</td>\n      <td>0</td>\n      <td>0</td>\n      <td>0</td>\n      <td>0</td>\n      <td>0</td>\n      <td>0</td>\n    </tr>\n    <tr>\n      <td>147305</td>\n      <td>0</td>\n      <td>0</td>\n      <td>0</td>\n      <td>0</td>\n      <td>0</td>\n      <td>0</td>\n      <td>0</td>\n      <td>0</td>\n      <td>0</td>\n      <td>0</td>\n      <td>...</td>\n      <td>0</td>\n      <td>0</td>\n      <td>0</td>\n      <td>0</td>\n      <td>0</td>\n      <td>0</td>\n      <td>0</td>\n      <td>0</td>\n      <td>0</td>\n      <td>0</td>\n    </tr>\n    <tr>\n      <td>18439</td>\n      <td>0</td>\n      <td>0</td>\n      <td>0</td>\n      <td>0</td>\n      <td>0</td>\n      <td>0</td>\n      <td>0</td>\n      <td>0</td>\n      <td>0</td>\n      <td>0</td>\n      <td>...</td>\n      <td>0</td>\n      <td>0</td>\n      <td>0</td>\n      <td>0</td>\n      <td>0</td>\n      <td>0</td>\n      <td>0</td>\n      <td>0</td>\n      <td>0</td>\n      <td>0</td>\n    </tr>\n    <tr>\n      <td>235000</td>\n      <td>0</td>\n      <td>0</td>\n      <td>0</td>\n      <td>0</td>\n      <td>0</td>\n      <td>0</td>\n      <td>0</td>\n      <td>0</td>\n      <td>0</td>\n      <td>0</td>\n      <td>...</td>\n      <td>0</td>\n      <td>0</td>\n      <td>0</td>\n      <td>0</td>\n      <td>0</td>\n      <td>0</td>\n      <td>0</td>\n      <td>0</td>\n      <td>0</td>\n      <td>0</td>\n    </tr>\n    <tr>\n      <td>60096</td>\n      <td>0</td>\n      <td>0</td>\n      <td>0</td>\n      <td>0</td>\n      <td>0</td>\n      <td>0</td>\n      <td>0</td>\n      <td>0</td>\n      <td>0</td>\n      <td>0</td>\n      <td>...</td>\n      <td>0</td>\n      <td>0</td>\n      <td>0</td>\n      <td>0</td>\n      <td>0</td>\n      <td>0</td>\n      <td>0</td>\n      <td>0</td>\n      <td>0</td>\n      <td>0</td>\n    </tr>\n  </tbody>\n</table>\n<p>40 rows × 720 columns</p>\n</div>",
      "text/plain": "        111    126    257    443    445    578    615    629    631    858    \\\nid                                                                             \n12066       0      0      0      0      0      0      0      0      0      0   \n8998        0      0      0      0      0      0      0      0      0      0   \n167052      0      0      0      0      0      0      0      0      0      0   \n18795       0      0      0      0      0      0      0      0      0      0   \n82487       0      0      0      0      0      0      0      0      0      0   \n161869      0      0      0      0      0      0      0      0      0      0   \n26299       0      0      0      0      0      0      0      0      0      0   \n75543       0      0      0      0      0      0      0      0      0      0   \n238538      0      0      0      0      0      0      0      0      0      0   \n21352       0      0      0      0      0      0      0      0      0      0   \n158587      0      0      0      0      0      0      0      0      0      0   \n235171      0      0      0      0      0      0      0      0      0      0   \n23849       0      0      0      0      0      0      0      0      0      0   \n221304      0      0      0      0      0      0      0      0      0      0   \n18059       0      0      0      0      0      0      0      0      0      0   \n169974      0      0      0      0      0      0      0      0      0      0   \n72191       0      0      0      0      0      0      0      0      0      0   \n206633      0      0      0      0      0      0      0      0      0      0   \n36621       0      0      0      0      0      0      0      0      0      0   \n23985       0      0      0      0      0      0      0      0      0      0   \n56412       0      0      0      0      0      0      0      0      0      0   \n36766       0      0      0      0      0      0      0      0      0      0   \n14668       0      0      0      0      0      0      0      0      0      0   \n229885      0      0      0      0      0      0      0      0      0      0   \n239896      0      0      0      0      0      0      0      0      0      0   \n237320      0      0      0      0      0      0      0      0      0      0   \n234797      0      0      0      0      0      0      0      0      0      0   \n40286       0      0      0      0      0      0      0      0      0      0   \n231233      0      0      0      0      0      0      0      0      0      0   \n219766      0      0      0      0      0      0      0      0      0      0   \n38004       0      0      0      0      0      0      0      0      0      0   \n16565       0      0      0      0      0      0      0      0      0      0   \n32116       0      0      0      0      0      0      0      0      0      0   \n11990       0      0      0      0      0      0      0      0      0      0   \n84774       0      0      0      0      0      0      0      0      0      0   \n23434       0      0      0      0      0      0      0      0      0      0   \n147305      0      0      0      0      0      0      0      0      0      0   \n18439       0      0      0      0      0      0      0      0      0      0   \n235000      0      0      0      0      0      0      0      0      0      0   \n60096       0      0      0      0      0      0      0      0      0      0   \n\n        ...  23047  23274  23383  24865  25518  25522  26269  26934  27343  \\\nid      ...                                                                  \n12066   ...      0      0      0      0      0      0      0      0      0   \n8998    ...      0      0      0      0      0      0      0      0      0   \n167052  ...      0      0      0      0      0      0      0      0      0   \n18795   ...      0      0      0      0      0      0      0      0      0   \n82487   ...      0      0      0      0      0      0      0      0      0   \n161869  ...      0      0      0      0      0      0      0      0      0   \n26299   ...      0      0      0      0      0      0      0      0      0   \n75543   ...      0      0      0      0      0      0      0      0      0   \n238538  ...      0      0      0      0      0      0      0      0      0   \n21352   ...      0      0      0      0      0      0      0      0      0   \n158587  ...      0      0      0      0      0      0      0      0      0   \n235171  ...      0      0      0      0      0      0      0      0      0   \n23849   ...      0      0      0      0      0      0      0      0      0   \n221304  ...      0      0      0      0      0      0      0      0      0   \n18059   ...      0      0      0      0      0      0      0      0      0   \n169974  ...      0      0      0      0      0      0      0      0      0   \n72191   ...      0      0      0      0      0      0      0      0      0   \n206633  ...      0      0      0      0      0      0      0      0      0   \n36621   ...      0      0      0      0      0      0      0      0      0   \n23985   ...      0      0      0      0      0      0      0      0      0   \n56412   ...      0      0      0      0      0      0      0      0      0   \n36766   ...      0      0      0      0      0      0      0      0      0   \n14668   ...      0      0      0      0      0      0      0      0      0   \n229885  ...      0      0      0      0      0      0      0      0      0   \n239896  ...      0      0      0      0      0      0      0      0      0   \n237320  ...      0      0      0      0      0      0      0      0      0   \n234797  ...      0      0      0      0      0      0      0      0      0   \n40286   ...      0      0      0      0      0      0      0      0      0   \n231233  ...      0      0      0      0      0      0      0      0      0   \n219766  ...      0      0      0      0      0      0      0      0      0   \n38004   ...      0      0      0      0      0      0      0      0      0   \n16565   ...      0      0      0      0      0      0      0      0      0   \n32116   ...      0      0      0      0      0      0      0      0      0   \n11990   ...      0      0      0      0      0      0      0      0      0   \n84774   ...      0      0      0      0      0      0      0      0      0   \n23434   ...      0      0      0      0      0      0      0      0      0   \n147305  ...      0      0      0      0      0      0      0      0      0   \n18439   ...      0      0      0      0      0      0      0      0      0   \n235000  ...      0      0      0      0      0      0      0      0      0   \n60096   ...      0      0      0      0      0      0      0      0      0   \n\n        27805  \nid             \n12066       0  \n8998        0  \n167052      0  \n18795       0  \n82487       0  \n161869      0  \n26299       0  \n75543       0  \n238538      0  \n21352       0  \n158587      0  \n235171      0  \n23849       0  \n221304      0  \n18059       0  \n169974      0  \n72191       0  \n206633      0  \n36621       0  \n23985       0  \n56412       0  \n36766       0  \n14668       0  \n229885      0  \n239896      0  \n237320      0  \n234797      0  \n40286       0  \n231233      0  \n219766      0  \n38004       0  \n16565       0  \n32116       0  \n11990       0  \n84774       0  \n23434       0  \n147305      0  \n18439       0  \n235000      0  \n60096       0  \n\n[40 rows x 720 columns]"
     },
     "execution_count": 735,
     "metadata": {},
     "output_type": "execute_result"
    }
   ],
   "source": [
    "sample_normal\n",
    "sample_fat"
   ]
  },
  {
   "cell_type": "code",
   "execution_count": 736,
   "metadata": {},
   "outputs": [
    {
     "data": {
      "text/html": "<div>\n<style scoped>\n    .dataframe tbody tr th:only-of-type {\n        vertical-align: middle;\n    }\n\n    .dataframe tbody tr th {\n        vertical-align: top;\n    }\n\n    .dataframe thead th {\n        text-align: right;\n    }\n</style>\n<table border=\"1\" class=\"dataframe\">\n  <thead>\n    <tr style=\"text-align: right;\">\n      <th></th>\n      <th>jaccard_distance_sum</th>\n    </tr>\n  </thead>\n  <tbody>\n    <tr>\n      <td>238691</td>\n      <td>1.85338</td>\n    </tr>\n    <tr>\n      <td>11735</td>\n      <td>1.85338</td>\n    </tr>\n    <tr>\n      <td>16998</td>\n      <td>1.85338</td>\n    </tr>\n    <tr>\n      <td>19422</td>\n      <td>1.85483</td>\n    </tr>\n    <tr>\n      <td>18805</td>\n      <td>1.85760</td>\n    </tr>\n    <tr>\n      <td>18349</td>\n      <td>1.86531</td>\n    </tr>\n    <tr>\n      <td>11751</td>\n      <td>1.86735</td>\n    </tr>\n    <tr>\n      <td>230283</td>\n      <td>1.86774</td>\n    </tr>\n    <tr>\n      <td>12016</td>\n      <td>1.87075</td>\n    </tr>\n    <tr>\n      <td>102393</td>\n      <td>1.87075</td>\n    </tr>\n  </tbody>\n</table>\n</div>",
      "text/plain": "        jaccard_distance_sum\n238691               1.85338\n11735                1.85338\n16998                1.85338\n19422                1.85483\n18805                1.85760\n18349                1.86531\n11751                1.86735\n230283               1.86774\n12016                1.87075\n102393               1.87075"
     },
     "execution_count": 736,
     "metadata": {},
     "output_type": "execute_result"
    }
   ],
   "source": [
    "## Jaccard - fat\n",
    "\n",
    "result_array = cdist(sample_fat, new_recipe_db_wo_userrecipes_fat,'jaccard')\n",
    "result_w_filter_fat = pd.DataFrame(result_array, columns=new_recipe_db_wo_userrecipes_fat.index.values, index=sample_fat.index.values)\n",
    "# result_2\n",
    "\n",
    "result_w_filter_10_fat = pd.DataFrame(result_w_filter_fat.sum(), columns=['jaccard_distance_sum'])\n",
    "result_w_filter_10_fat = result_w_filter_10_fat.sort_values(by='jaccard_distance_sum')\n",
    "result_w_filter_10_fat['jaccard_distance_sum'] = result_w_filter_10_fat['jaccard_distance_sum'].div(20)\n",
    "result_w_filter_10_fat[0:10]\n"
   ]
  },
  {
   "cell_type": "code",
   "execution_count": 737,
   "metadata": {},
   "outputs": [
    {
     "data": {
      "text/html": "<div>\n<style scoped>\n    .dataframe tbody tr th:only-of-type {\n        vertical-align: middle;\n    }\n\n    .dataframe tbody tr th {\n        vertical-align: top;\n    }\n\n    .dataframe thead th {\n        text-align: right;\n    }\n</style>\n<table border=\"1\" class=\"dataframe\">\n  <thead>\n    <tr style=\"text-align: right;\">\n      <th></th>\n      <th>jaccard_distance_sum</th>\n    </tr>\n  </thead>\n  <tbody>\n    <tr>\n      <td>228546</td>\n      <td>0.92381</td>\n    </tr>\n    <tr>\n      <td>8668</td>\n      <td>0.92566</td>\n    </tr>\n    <tr>\n      <td>17392</td>\n      <td>0.92780</td>\n    </tr>\n    <tr>\n      <td>60631</td>\n      <td>0.92897</td>\n    </tr>\n    <tr>\n      <td>8901</td>\n      <td>0.93132</td>\n    </tr>\n    <tr>\n      <td>15181</td>\n      <td>0.93381</td>\n    </tr>\n    <tr>\n      <td>240287</td>\n      <td>0.93383</td>\n    </tr>\n    <tr>\n      <td>8796</td>\n      <td>0.93486</td>\n    </tr>\n    <tr>\n      <td>24793</td>\n      <td>0.93646</td>\n    </tr>\n    <tr>\n      <td>140829</td>\n      <td>0.93660</td>\n    </tr>\n  </tbody>\n</table>\n</div>",
      "text/plain": "        jaccard_distance_sum\n228546               0.92381\n8668                 0.92566\n17392                0.92780\n60631                0.92897\n8901                 0.93132\n15181                0.93381\n240287               0.93383\n8796                 0.93486\n24793                0.93646\n140829               0.93660"
     },
     "execution_count": 737,
     "metadata": {},
     "output_type": "execute_result"
    }
   ],
   "source": [
    "## Jaccard - normal\n",
    "\n",
    "result_array = cdist(sample_normal, new_recipe_db_wo_userrecipes_normal,'jaccard')\n",
    "result_w_filter_normal = pd.DataFrame(result_array, columns=new_recipe_db_wo_userrecipes_normal.index.values, index=sample_normal.index.values)\n",
    "# result_2\n",
    "\n",
    "result_w_filter_10_normal = pd.DataFrame(result_w_filter_normal.sum(), columns=['jaccard_distance_sum'])\n",
    "result_w_filter_10_normal = result_w_filter_10_normal.sort_values(by='jaccard_distance_sum')\n",
    "result_w_filter_10_normal['jaccard_distance_sum'] = result_w_filter_10_normal['jaccard_distance_sum'].div(20)\n",
    "result_w_filter_10_normal[0:10]\n"
   ]
  },
  {
   "cell_type": "code",
   "execution_count": 738,
   "metadata": {},
   "outputs": [
    {
     "data": {
      "text/plain": "array([ 12066,   8998, 167052,  18795,  82487, 161869,  26299,  75543,\n       238538,  21352, 158587, 235171,  23849, 221304,  18059, 169974,\n        72191, 206633,  36621,  23985,  56412,  36766,  14668, 229885,\n       239896, 237320, 234797,  40286, 231233, 219766,  38004,  16565,\n        32116,  11990,  84774,  23434, 147305,  18439, 235000,  60096])"
     },
     "execution_count": 738,
     "metadata": {},
     "output_type": "execute_result"
    }
   ],
   "source": [
    "# userrecipes fat\n",
    "sample_fat.index.to_numpy()"
   ]
  },
  {
   "cell_type": "code",
   "execution_count": 739,
   "metadata": {},
   "outputs": [
    {
     "data": {
      "text/plain": "array([104934,  23979,  14572,  22943,  60598,  12720,   9032,  66404,\n        87144, 236128,  47076,  88186,  16907,   8630,   8887, 242134,\n        45782, 132703, 213206,   8825])"
     },
     "execution_count": 739,
     "metadata": {},
     "output_type": "execute_result"
    }
   ],
   "source": [
    "# userrecipes normal\n",
    "sample_normal.index.to_numpy()\n"
   ]
  },
  {
   "cell_type": "code",
   "execution_count": 740,
   "metadata": {},
   "outputs": [
    {
     "data": {
      "text/plain": "array([238691,  11735,  16998,  19422,  18805,  18349,  11751, 230283,\n        12016, 102393])"
     },
     "execution_count": 740,
     "metadata": {},
     "output_type": "execute_result"
    }
   ],
   "source": [
    "result_w_filter_10_fat[0:10].index.to_numpy()"
   ]
  },
  {
   "cell_type": "code",
   "execution_count": 741,
   "metadata": {},
   "outputs": [
    {
     "data": {
      "text/plain": "array([228546,   8668,  17392,  60631,   8901,  15181, 240287,   8796,\n        24793, 140829])"
     },
     "execution_count": 741,
     "metadata": {},
     "output_type": "execute_result"
    }
   ],
   "source": [
    "result_w_filter_10_normal[0:10].index.to_numpy()"
   ]
  },
  {
   "cell_type": "code",
   "execution_count": 742,
   "metadata": {},
   "outputs": [],
   "source": [
    "result_w_filter_fat_short = result_w_filter_fat.copy()\n",
    "result_w_filter_normal_short = result_w_filter_normal.copy()"
   ]
  },
  {
   "cell_type": "code",
   "execution_count": 743,
   "metadata": {},
   "outputs": [
    {
     "data": {
      "text/plain": "array(['index', 89261, 19423, 195045, 87624, 216231, 8621, 22725, 8734,\n       8715, 14140], dtype=object)"
     },
     "execution_count": 743,
     "metadata": {},
     "output_type": "execute_result"
    }
   ],
   "source": [
    "# top 10 fat short\n",
    "fat_short = pd.DataFrame(np.sort(result_w_filter_fat_short.values, axis=0), index=result_w_filter_fat_short.index, columns=result_w_filter_fat_short.columns)\n",
    "\n",
    "new_columns = fat_short.columns[fat_short.loc[fat_short.first_valid_index()].argsort()]\n",
    "result_fat_short = fat_short[new_columns]\n",
    "result_fat_short = result_fat_short.reset_index()\n",
    "result_fat_short = result_fat_short.loc[0].to_frame()\n",
    "result_fat_short[0:11].index.to_numpy()\n"
   ]
  },
  {
   "cell_type": "code",
   "execution_count": 744,
   "metadata": {},
   "outputs": [
    {
     "data": {
      "text/html": "<div>\n<style scoped>\n    .dataframe tbody tr th:only-of-type {\n        vertical-align: middle;\n    }\n\n    .dataframe tbody tr th {\n        vertical-align: top;\n    }\n\n    .dataframe thead th {\n        text-align: right;\n    }\n</style>\n<table border=\"1\" class=\"dataframe\">\n  <thead>\n    <tr style=\"text-align: right;\">\n      <th></th>\n      <th>89261</th>\n      <th>19423</th>\n      <th>195045</th>\n      <th>87624</th>\n      <th>216231</th>\n      <th>8621</th>\n      <th>22725</th>\n      <th>8734</th>\n      <th>8715</th>\n      <th>14140</th>\n      <th>...</th>\n      <th>23380</th>\n      <th>21006</th>\n      <th>8680</th>\n      <th>230901</th>\n      <th>8935</th>\n      <th>45511</th>\n      <th>23562</th>\n      <th>23619</th>\n      <th>73110</th>\n      <th>17576</th>\n    </tr>\n  </thead>\n  <tbody>\n    <tr>\n      <td>12066</td>\n      <td>0.00000</td>\n      <td>0.25000</td>\n      <td>0.33333</td>\n      <td>0.33333</td>\n      <td>0.40000</td>\n      <td>0.40000</td>\n      <td>0.40000</td>\n      <td>0.40000</td>\n      <td>0.40000</td>\n      <td>0.40000</td>\n      <td>...</td>\n      <td>1.00000</td>\n      <td>1.00000</td>\n      <td>1.00000</td>\n      <td>1.00000</td>\n      <td>1.00000</td>\n      <td>1.00000</td>\n      <td>1.00000</td>\n      <td>1.00000</td>\n      <td>1.00000</td>\n      <td>1.00000</td>\n    </tr>\n    <tr>\n      <td>8998</td>\n      <td>0.87500</td>\n      <td>0.85714</td>\n      <td>0.50000</td>\n      <td>0.62500</td>\n      <td>0.50000</td>\n      <td>0.87500</td>\n      <td>0.60000</td>\n      <td>0.88889</td>\n      <td>0.87500</td>\n      <td>0.60000</td>\n      <td>...</td>\n      <td>1.00000</td>\n      <td>1.00000</td>\n      <td>1.00000</td>\n      <td>1.00000</td>\n      <td>1.00000</td>\n      <td>1.00000</td>\n      <td>1.00000</td>\n      <td>1.00000</td>\n      <td>1.00000</td>\n      <td>1.00000</td>\n    </tr>\n    <tr>\n      <td>167052</td>\n      <td>1.00000</td>\n      <td>0.87500</td>\n      <td>0.71429</td>\n      <td>0.75000</td>\n      <td>0.66667</td>\n      <td>0.88889</td>\n      <td>0.62500</td>\n      <td>0.88889</td>\n      <td>0.88889</td>\n      <td>0.62500</td>\n      <td>...</td>\n      <td>1.00000</td>\n      <td>1.00000</td>\n      <td>1.00000</td>\n      <td>1.00000</td>\n      <td>1.00000</td>\n      <td>1.00000</td>\n      <td>1.00000</td>\n      <td>1.00000</td>\n      <td>1.00000</td>\n      <td>1.00000</td>\n    </tr>\n    <tr>\n      <td>18795</td>\n      <td>1.00000</td>\n      <td>0.90000</td>\n      <td>0.80000</td>\n      <td>0.81818</td>\n      <td>0.77778</td>\n      <td>0.90909</td>\n      <td>0.66667</td>\n      <td>0.90000</td>\n      <td>0.90909</td>\n      <td>0.66667</td>\n      <td>...</td>\n      <td>1.00000</td>\n      <td>1.00000</td>\n      <td>1.00000</td>\n      <td>1.00000</td>\n      <td>1.00000</td>\n      <td>1.00000</td>\n      <td>1.00000</td>\n      <td>1.00000</td>\n      <td>1.00000</td>\n      <td>1.00000</td>\n    </tr>\n    <tr>\n      <td>82487</td>\n      <td>1.00000</td>\n      <td>0.92308</td>\n      <td>0.83333</td>\n      <td>0.90000</td>\n      <td>0.87500</td>\n      <td>0.91667</td>\n      <td>0.71429</td>\n      <td>1.00000</td>\n      <td>0.91667</td>\n      <td>0.71429</td>\n      <td>...</td>\n      <td>1.00000</td>\n      <td>1.00000</td>\n      <td>1.00000</td>\n      <td>1.00000</td>\n      <td>1.00000</td>\n      <td>1.00000</td>\n      <td>1.00000</td>\n      <td>1.00000</td>\n      <td>1.00000</td>\n      <td>1.00000</td>\n    </tr>\n    <tr>\n      <td>161869</td>\n      <td>1.00000</td>\n      <td>1.00000</td>\n      <td>0.88889</td>\n      <td>0.90909</td>\n      <td>0.88889</td>\n      <td>0.92857</td>\n      <td>0.72727</td>\n      <td>1.00000</td>\n      <td>0.92857</td>\n      <td>0.72727</td>\n      <td>...</td>\n      <td>1.00000</td>\n      <td>1.00000</td>\n      <td>1.00000</td>\n      <td>1.00000</td>\n      <td>1.00000</td>\n      <td>1.00000</td>\n      <td>1.00000</td>\n      <td>1.00000</td>\n      <td>1.00000</td>\n      <td>1.00000</td>\n    </tr>\n    <tr>\n      <td>26299</td>\n      <td>1.00000</td>\n      <td>1.00000</td>\n      <td>0.90000</td>\n      <td>0.91667</td>\n      <td>0.91667</td>\n      <td>0.93333</td>\n      <td>0.87500</td>\n      <td>1.00000</td>\n      <td>0.93333</td>\n      <td>0.87500</td>\n      <td>...</td>\n      <td>1.00000</td>\n      <td>1.00000</td>\n      <td>1.00000</td>\n      <td>1.00000</td>\n      <td>1.00000</td>\n      <td>1.00000</td>\n      <td>1.00000</td>\n      <td>1.00000</td>\n      <td>1.00000</td>\n      <td>1.00000</td>\n    </tr>\n    <tr>\n      <td>75543</td>\n      <td>1.00000</td>\n      <td>1.00000</td>\n      <td>0.90909</td>\n      <td>0.92308</td>\n      <td>1.00000</td>\n      <td>0.93333</td>\n      <td>0.90000</td>\n      <td>1.00000</td>\n      <td>0.93333</td>\n      <td>0.90000</td>\n      <td>...</td>\n      <td>1.00000</td>\n      <td>1.00000</td>\n      <td>1.00000</td>\n      <td>1.00000</td>\n      <td>1.00000</td>\n      <td>1.00000</td>\n      <td>1.00000</td>\n      <td>1.00000</td>\n      <td>1.00000</td>\n      <td>1.00000</td>\n    </tr>\n    <tr>\n      <td>238538</td>\n      <td>1.00000</td>\n      <td>1.00000</td>\n      <td>0.94444</td>\n      <td>0.92857</td>\n      <td>1.00000</td>\n      <td>1.00000</td>\n      <td>0.90909</td>\n      <td>1.00000</td>\n      <td>1.00000</td>\n      <td>0.90909</td>\n      <td>...</td>\n      <td>1.00000</td>\n      <td>1.00000</td>\n      <td>1.00000</td>\n      <td>1.00000</td>\n      <td>1.00000</td>\n      <td>1.00000</td>\n      <td>1.00000</td>\n      <td>1.00000</td>\n      <td>1.00000</td>\n      <td>1.00000</td>\n    </tr>\n    <tr>\n      <td>21352</td>\n      <td>1.00000</td>\n      <td>1.00000</td>\n      <td>1.00000</td>\n      <td>0.93750</td>\n      <td>1.00000</td>\n      <td>1.00000</td>\n      <td>1.00000</td>\n      <td>1.00000</td>\n      <td>1.00000</td>\n      <td>1.00000</td>\n      <td>...</td>\n      <td>1.00000</td>\n      <td>1.00000</td>\n      <td>1.00000</td>\n      <td>1.00000</td>\n      <td>1.00000</td>\n      <td>1.00000</td>\n      <td>1.00000</td>\n      <td>1.00000</td>\n      <td>1.00000</td>\n      <td>1.00000</td>\n    </tr>\n    <tr>\n      <td>158587</td>\n      <td>1.00000</td>\n      <td>1.00000</td>\n      <td>1.00000</td>\n      <td>0.94118</td>\n      <td>1.00000</td>\n      <td>1.00000</td>\n      <td>1.00000</td>\n      <td>1.00000</td>\n      <td>1.00000</td>\n      <td>1.00000</td>\n      <td>...</td>\n      <td>1.00000</td>\n      <td>1.00000</td>\n      <td>1.00000</td>\n      <td>1.00000</td>\n      <td>1.00000</td>\n      <td>1.00000</td>\n      <td>1.00000</td>\n      <td>1.00000</td>\n      <td>1.00000</td>\n      <td>1.00000</td>\n    </tr>\n    <tr>\n      <td>235171</td>\n      <td>1.00000</td>\n      <td>1.00000</td>\n      <td>1.00000</td>\n      <td>0.94737</td>\n      <td>1.00000</td>\n      <td>1.00000</td>\n      <td>1.00000</td>\n      <td>1.00000</td>\n      <td>1.00000</td>\n      <td>1.00000</td>\n      <td>...</td>\n      <td>1.00000</td>\n      <td>1.00000</td>\n      <td>1.00000</td>\n      <td>1.00000</td>\n      <td>1.00000</td>\n      <td>1.00000</td>\n      <td>1.00000</td>\n      <td>1.00000</td>\n      <td>1.00000</td>\n      <td>1.00000</td>\n    </tr>\n    <tr>\n      <td>23849</td>\n      <td>1.00000</td>\n      <td>1.00000</td>\n      <td>1.00000</td>\n      <td>1.00000</td>\n      <td>1.00000</td>\n      <td>1.00000</td>\n      <td>1.00000</td>\n      <td>1.00000</td>\n      <td>1.00000</td>\n      <td>1.00000</td>\n      <td>...</td>\n      <td>1.00000</td>\n      <td>1.00000</td>\n      <td>1.00000</td>\n      <td>1.00000</td>\n      <td>1.00000</td>\n      <td>1.00000</td>\n      <td>1.00000</td>\n      <td>1.00000</td>\n      <td>1.00000</td>\n      <td>1.00000</td>\n    </tr>\n    <tr>\n      <td>221304</td>\n      <td>1.00000</td>\n      <td>1.00000</td>\n      <td>1.00000</td>\n      <td>1.00000</td>\n      <td>1.00000</td>\n      <td>1.00000</td>\n      <td>1.00000</td>\n      <td>1.00000</td>\n      <td>1.00000</td>\n      <td>1.00000</td>\n      <td>...</td>\n      <td>1.00000</td>\n      <td>1.00000</td>\n      <td>1.00000</td>\n      <td>1.00000</td>\n      <td>1.00000</td>\n      <td>1.00000</td>\n      <td>1.00000</td>\n      <td>1.00000</td>\n      <td>1.00000</td>\n      <td>1.00000</td>\n    </tr>\n    <tr>\n      <td>18059</td>\n      <td>1.00000</td>\n      <td>1.00000</td>\n      <td>1.00000</td>\n      <td>1.00000</td>\n      <td>1.00000</td>\n      <td>1.00000</td>\n      <td>1.00000</td>\n      <td>1.00000</td>\n      <td>1.00000</td>\n      <td>1.00000</td>\n      <td>...</td>\n      <td>1.00000</td>\n      <td>1.00000</td>\n      <td>1.00000</td>\n      <td>1.00000</td>\n      <td>1.00000</td>\n      <td>1.00000</td>\n      <td>1.00000</td>\n      <td>1.00000</td>\n      <td>1.00000</td>\n      <td>1.00000</td>\n    </tr>\n    <tr>\n      <td>169974</td>\n      <td>1.00000</td>\n      <td>1.00000</td>\n      <td>1.00000</td>\n      <td>1.00000</td>\n      <td>1.00000</td>\n      <td>1.00000</td>\n      <td>1.00000</td>\n      <td>1.00000</td>\n      <td>1.00000</td>\n      <td>1.00000</td>\n      <td>...</td>\n      <td>1.00000</td>\n      <td>1.00000</td>\n      <td>1.00000</td>\n      <td>1.00000</td>\n      <td>1.00000</td>\n      <td>1.00000</td>\n      <td>1.00000</td>\n      <td>1.00000</td>\n      <td>1.00000</td>\n      <td>1.00000</td>\n    </tr>\n    <tr>\n      <td>72191</td>\n      <td>1.00000</td>\n      <td>1.00000</td>\n      <td>1.00000</td>\n      <td>1.00000</td>\n      <td>1.00000</td>\n      <td>1.00000</td>\n      <td>1.00000</td>\n      <td>1.00000</td>\n      <td>1.00000</td>\n      <td>1.00000</td>\n      <td>...</td>\n      <td>1.00000</td>\n      <td>1.00000</td>\n      <td>1.00000</td>\n      <td>1.00000</td>\n      <td>1.00000</td>\n      <td>1.00000</td>\n      <td>1.00000</td>\n      <td>1.00000</td>\n      <td>1.00000</td>\n      <td>1.00000</td>\n    </tr>\n    <tr>\n      <td>206633</td>\n      <td>1.00000</td>\n      <td>1.00000</td>\n      <td>1.00000</td>\n      <td>1.00000</td>\n      <td>1.00000</td>\n      <td>1.00000</td>\n      <td>1.00000</td>\n      <td>1.00000</td>\n      <td>1.00000</td>\n      <td>1.00000</td>\n      <td>...</td>\n      <td>1.00000</td>\n      <td>1.00000</td>\n      <td>1.00000</td>\n      <td>1.00000</td>\n      <td>1.00000</td>\n      <td>1.00000</td>\n      <td>1.00000</td>\n      <td>1.00000</td>\n      <td>1.00000</td>\n      <td>1.00000</td>\n    </tr>\n    <tr>\n      <td>36621</td>\n      <td>1.00000</td>\n      <td>1.00000</td>\n      <td>1.00000</td>\n      <td>1.00000</td>\n      <td>1.00000</td>\n      <td>1.00000</td>\n      <td>1.00000</td>\n      <td>1.00000</td>\n      <td>1.00000</td>\n      <td>1.00000</td>\n      <td>...</td>\n      <td>1.00000</td>\n      <td>1.00000</td>\n      <td>1.00000</td>\n      <td>1.00000</td>\n      <td>1.00000</td>\n      <td>1.00000</td>\n      <td>1.00000</td>\n      <td>1.00000</td>\n      <td>1.00000</td>\n      <td>1.00000</td>\n    </tr>\n    <tr>\n      <td>23985</td>\n      <td>1.00000</td>\n      <td>1.00000</td>\n      <td>1.00000</td>\n      <td>1.00000</td>\n      <td>1.00000</td>\n      <td>1.00000</td>\n      <td>1.00000</td>\n      <td>1.00000</td>\n      <td>1.00000</td>\n      <td>1.00000</td>\n      <td>...</td>\n      <td>1.00000</td>\n      <td>1.00000</td>\n      <td>1.00000</td>\n      <td>1.00000</td>\n      <td>1.00000</td>\n      <td>1.00000</td>\n      <td>1.00000</td>\n      <td>1.00000</td>\n      <td>1.00000</td>\n      <td>1.00000</td>\n    </tr>\n    <tr>\n      <td>56412</td>\n      <td>1.00000</td>\n      <td>1.00000</td>\n      <td>1.00000</td>\n      <td>1.00000</td>\n      <td>1.00000</td>\n      <td>1.00000</td>\n      <td>1.00000</td>\n      <td>1.00000</td>\n      <td>1.00000</td>\n      <td>1.00000</td>\n      <td>...</td>\n      <td>1.00000</td>\n      <td>1.00000</td>\n      <td>1.00000</td>\n      <td>1.00000</td>\n      <td>1.00000</td>\n      <td>1.00000</td>\n      <td>1.00000</td>\n      <td>1.00000</td>\n      <td>1.00000</td>\n      <td>1.00000</td>\n    </tr>\n    <tr>\n      <td>36766</td>\n      <td>1.00000</td>\n      <td>1.00000</td>\n      <td>1.00000</td>\n      <td>1.00000</td>\n      <td>1.00000</td>\n      <td>1.00000</td>\n      <td>1.00000</td>\n      <td>1.00000</td>\n      <td>1.00000</td>\n      <td>1.00000</td>\n      <td>...</td>\n      <td>1.00000</td>\n      <td>1.00000</td>\n      <td>1.00000</td>\n      <td>1.00000</td>\n      <td>1.00000</td>\n      <td>1.00000</td>\n      <td>1.00000</td>\n      <td>1.00000</td>\n      <td>1.00000</td>\n      <td>1.00000</td>\n    </tr>\n    <tr>\n      <td>14668</td>\n      <td>1.00000</td>\n      <td>1.00000</td>\n      <td>1.00000</td>\n      <td>1.00000</td>\n      <td>1.00000</td>\n      <td>1.00000</td>\n      <td>1.00000</td>\n      <td>1.00000</td>\n      <td>1.00000</td>\n      <td>1.00000</td>\n      <td>...</td>\n      <td>1.00000</td>\n      <td>1.00000</td>\n      <td>1.00000</td>\n      <td>1.00000</td>\n      <td>1.00000</td>\n      <td>1.00000</td>\n      <td>1.00000</td>\n      <td>1.00000</td>\n      <td>1.00000</td>\n      <td>1.00000</td>\n    </tr>\n    <tr>\n      <td>229885</td>\n      <td>1.00000</td>\n      <td>1.00000</td>\n      <td>1.00000</td>\n      <td>1.00000</td>\n      <td>1.00000</td>\n      <td>1.00000</td>\n      <td>1.00000</td>\n      <td>1.00000</td>\n      <td>1.00000</td>\n      <td>1.00000</td>\n      <td>...</td>\n      <td>1.00000</td>\n      <td>1.00000</td>\n      <td>1.00000</td>\n      <td>1.00000</td>\n      <td>1.00000</td>\n      <td>1.00000</td>\n      <td>1.00000</td>\n      <td>1.00000</td>\n      <td>1.00000</td>\n      <td>1.00000</td>\n    </tr>\n    <tr>\n      <td>239896</td>\n      <td>1.00000</td>\n      <td>1.00000</td>\n      <td>1.00000</td>\n      <td>1.00000</td>\n      <td>1.00000</td>\n      <td>1.00000</td>\n      <td>1.00000</td>\n      <td>1.00000</td>\n      <td>1.00000</td>\n      <td>1.00000</td>\n      <td>...</td>\n      <td>1.00000</td>\n      <td>1.00000</td>\n      <td>1.00000</td>\n      <td>1.00000</td>\n      <td>1.00000</td>\n      <td>1.00000</td>\n      <td>1.00000</td>\n      <td>1.00000</td>\n      <td>1.00000</td>\n      <td>1.00000</td>\n    </tr>\n    <tr>\n      <td>237320</td>\n      <td>1.00000</td>\n      <td>1.00000</td>\n      <td>1.00000</td>\n      <td>1.00000</td>\n      <td>1.00000</td>\n      <td>1.00000</td>\n      <td>1.00000</td>\n      <td>1.00000</td>\n      <td>1.00000</td>\n      <td>1.00000</td>\n      <td>...</td>\n      <td>1.00000</td>\n      <td>1.00000</td>\n      <td>1.00000</td>\n      <td>1.00000</td>\n      <td>1.00000</td>\n      <td>1.00000</td>\n      <td>1.00000</td>\n      <td>1.00000</td>\n      <td>1.00000</td>\n      <td>1.00000</td>\n    </tr>\n    <tr>\n      <td>234797</td>\n      <td>1.00000</td>\n      <td>1.00000</td>\n      <td>1.00000</td>\n      <td>1.00000</td>\n      <td>1.00000</td>\n      <td>1.00000</td>\n      <td>1.00000</td>\n      <td>1.00000</td>\n      <td>1.00000</td>\n      <td>1.00000</td>\n      <td>...</td>\n      <td>1.00000</td>\n      <td>1.00000</td>\n      <td>1.00000</td>\n      <td>1.00000</td>\n      <td>1.00000</td>\n      <td>1.00000</td>\n      <td>1.00000</td>\n      <td>1.00000</td>\n      <td>1.00000</td>\n      <td>1.00000</td>\n    </tr>\n    <tr>\n      <td>40286</td>\n      <td>1.00000</td>\n      <td>1.00000</td>\n      <td>1.00000</td>\n      <td>1.00000</td>\n      <td>1.00000</td>\n      <td>1.00000</td>\n      <td>1.00000</td>\n      <td>1.00000</td>\n      <td>1.00000</td>\n      <td>1.00000</td>\n      <td>...</td>\n      <td>1.00000</td>\n      <td>1.00000</td>\n      <td>1.00000</td>\n      <td>1.00000</td>\n      <td>1.00000</td>\n      <td>1.00000</td>\n      <td>1.00000</td>\n      <td>1.00000</td>\n      <td>1.00000</td>\n      <td>1.00000</td>\n    </tr>\n    <tr>\n      <td>231233</td>\n      <td>1.00000</td>\n      <td>1.00000</td>\n      <td>1.00000</td>\n      <td>1.00000</td>\n      <td>1.00000</td>\n      <td>1.00000</td>\n      <td>1.00000</td>\n      <td>1.00000</td>\n      <td>1.00000</td>\n      <td>1.00000</td>\n      <td>...</td>\n      <td>1.00000</td>\n      <td>1.00000</td>\n      <td>1.00000</td>\n      <td>1.00000</td>\n      <td>1.00000</td>\n      <td>1.00000</td>\n      <td>1.00000</td>\n      <td>1.00000</td>\n      <td>1.00000</td>\n      <td>1.00000</td>\n    </tr>\n    <tr>\n      <td>219766</td>\n      <td>1.00000</td>\n      <td>1.00000</td>\n      <td>1.00000</td>\n      <td>1.00000</td>\n      <td>1.00000</td>\n      <td>1.00000</td>\n      <td>1.00000</td>\n      <td>1.00000</td>\n      <td>1.00000</td>\n      <td>1.00000</td>\n      <td>...</td>\n      <td>1.00000</td>\n      <td>1.00000</td>\n      <td>1.00000</td>\n      <td>1.00000</td>\n      <td>1.00000</td>\n      <td>1.00000</td>\n      <td>1.00000</td>\n      <td>1.00000</td>\n      <td>1.00000</td>\n      <td>1.00000</td>\n    </tr>\n    <tr>\n      <td>38004</td>\n      <td>1.00000</td>\n      <td>1.00000</td>\n      <td>1.00000</td>\n      <td>1.00000</td>\n      <td>1.00000</td>\n      <td>1.00000</td>\n      <td>1.00000</td>\n      <td>1.00000</td>\n      <td>1.00000</td>\n      <td>1.00000</td>\n      <td>...</td>\n      <td>1.00000</td>\n      <td>1.00000</td>\n      <td>1.00000</td>\n      <td>1.00000</td>\n      <td>1.00000</td>\n      <td>1.00000</td>\n      <td>1.00000</td>\n      <td>1.00000</td>\n      <td>1.00000</td>\n      <td>1.00000</td>\n    </tr>\n    <tr>\n      <td>16565</td>\n      <td>1.00000</td>\n      <td>1.00000</td>\n      <td>1.00000</td>\n      <td>1.00000</td>\n      <td>1.00000</td>\n      <td>1.00000</td>\n      <td>1.00000</td>\n      <td>1.00000</td>\n      <td>1.00000</td>\n      <td>1.00000</td>\n      <td>...</td>\n      <td>1.00000</td>\n      <td>1.00000</td>\n      <td>1.00000</td>\n      <td>1.00000</td>\n      <td>1.00000</td>\n      <td>1.00000</td>\n      <td>1.00000</td>\n      <td>1.00000</td>\n      <td>1.00000</td>\n      <td>1.00000</td>\n    </tr>\n    <tr>\n      <td>32116</td>\n      <td>1.00000</td>\n      <td>1.00000</td>\n      <td>1.00000</td>\n      <td>1.00000</td>\n      <td>1.00000</td>\n      <td>1.00000</td>\n      <td>1.00000</td>\n      <td>1.00000</td>\n      <td>1.00000</td>\n      <td>1.00000</td>\n      <td>...</td>\n      <td>1.00000</td>\n      <td>1.00000</td>\n      <td>1.00000</td>\n      <td>1.00000</td>\n      <td>1.00000</td>\n      <td>1.00000</td>\n      <td>1.00000</td>\n      <td>1.00000</td>\n      <td>1.00000</td>\n      <td>1.00000</td>\n    </tr>\n    <tr>\n      <td>11990</td>\n      <td>1.00000</td>\n      <td>1.00000</td>\n      <td>1.00000</td>\n      <td>1.00000</td>\n      <td>1.00000</td>\n      <td>1.00000</td>\n      <td>1.00000</td>\n      <td>1.00000</td>\n      <td>1.00000</td>\n      <td>1.00000</td>\n      <td>...</td>\n      <td>1.00000</td>\n      <td>1.00000</td>\n      <td>1.00000</td>\n      <td>1.00000</td>\n      <td>1.00000</td>\n      <td>1.00000</td>\n      <td>1.00000</td>\n      <td>1.00000</td>\n      <td>1.00000</td>\n      <td>1.00000</td>\n    </tr>\n    <tr>\n      <td>84774</td>\n      <td>1.00000</td>\n      <td>1.00000</td>\n      <td>1.00000</td>\n      <td>1.00000</td>\n      <td>1.00000</td>\n      <td>1.00000</td>\n      <td>1.00000</td>\n      <td>1.00000</td>\n      <td>1.00000</td>\n      <td>1.00000</td>\n      <td>...</td>\n      <td>1.00000</td>\n      <td>1.00000</td>\n      <td>1.00000</td>\n      <td>1.00000</td>\n      <td>1.00000</td>\n      <td>1.00000</td>\n      <td>1.00000</td>\n      <td>1.00000</td>\n      <td>1.00000</td>\n      <td>1.00000</td>\n    </tr>\n    <tr>\n      <td>23434</td>\n      <td>1.00000</td>\n      <td>1.00000</td>\n      <td>1.00000</td>\n      <td>1.00000</td>\n      <td>1.00000</td>\n      <td>1.00000</td>\n      <td>1.00000</td>\n      <td>1.00000</td>\n      <td>1.00000</td>\n      <td>1.00000</td>\n      <td>...</td>\n      <td>1.00000</td>\n      <td>1.00000</td>\n      <td>1.00000</td>\n      <td>1.00000</td>\n      <td>1.00000</td>\n      <td>1.00000</td>\n      <td>1.00000</td>\n      <td>1.00000</td>\n      <td>1.00000</td>\n      <td>1.00000</td>\n    </tr>\n    <tr>\n      <td>147305</td>\n      <td>1.00000</td>\n      <td>1.00000</td>\n      <td>1.00000</td>\n      <td>1.00000</td>\n      <td>1.00000</td>\n      <td>1.00000</td>\n      <td>1.00000</td>\n      <td>1.00000</td>\n      <td>1.00000</td>\n      <td>1.00000</td>\n      <td>...</td>\n      <td>1.00000</td>\n      <td>1.00000</td>\n      <td>1.00000</td>\n      <td>1.00000</td>\n      <td>1.00000</td>\n      <td>1.00000</td>\n      <td>1.00000</td>\n      <td>1.00000</td>\n      <td>1.00000</td>\n      <td>1.00000</td>\n    </tr>\n    <tr>\n      <td>18439</td>\n      <td>1.00000</td>\n      <td>1.00000</td>\n      <td>1.00000</td>\n      <td>1.00000</td>\n      <td>1.00000</td>\n      <td>1.00000</td>\n      <td>1.00000</td>\n      <td>1.00000</td>\n      <td>1.00000</td>\n      <td>1.00000</td>\n      <td>...</td>\n      <td>1.00000</td>\n      <td>1.00000</td>\n      <td>1.00000</td>\n      <td>1.00000</td>\n      <td>1.00000</td>\n      <td>1.00000</td>\n      <td>1.00000</td>\n      <td>1.00000</td>\n      <td>1.00000</td>\n      <td>1.00000</td>\n    </tr>\n    <tr>\n      <td>235000</td>\n      <td>1.00000</td>\n      <td>1.00000</td>\n      <td>1.00000</td>\n      <td>1.00000</td>\n      <td>1.00000</td>\n      <td>1.00000</td>\n      <td>1.00000</td>\n      <td>1.00000</td>\n      <td>1.00000</td>\n      <td>1.00000</td>\n      <td>...</td>\n      <td>1.00000</td>\n      <td>1.00000</td>\n      <td>1.00000</td>\n      <td>1.00000</td>\n      <td>1.00000</td>\n      <td>1.00000</td>\n      <td>1.00000</td>\n      <td>1.00000</td>\n      <td>1.00000</td>\n      <td>1.00000</td>\n    </tr>\n    <tr>\n      <td>60096</td>\n      <td>1.00000</td>\n      <td>1.00000</td>\n      <td>1.00000</td>\n      <td>1.00000</td>\n      <td>1.00000</td>\n      <td>1.00000</td>\n      <td>1.00000</td>\n      <td>1.00000</td>\n      <td>1.00000</td>\n      <td>1.00000</td>\n      <td>...</td>\n      <td>1.00000</td>\n      <td>1.00000</td>\n      <td>1.00000</td>\n      <td>1.00000</td>\n      <td>1.00000</td>\n      <td>1.00000</td>\n      <td>1.00000</td>\n      <td>1.00000</td>\n      <td>1.00000</td>\n      <td>1.00000</td>\n    </tr>\n  </tbody>\n</table>\n<p>40 rows × 3729 columns</p>\n</div>",
      "text/plain": "        89261   19423   195045  87624   216231  8621    22725   8734    \\\n12066  0.00000 0.25000 0.33333 0.33333 0.40000 0.40000 0.40000 0.40000   \n8998   0.87500 0.85714 0.50000 0.62500 0.50000 0.87500 0.60000 0.88889   \n167052 1.00000 0.87500 0.71429 0.75000 0.66667 0.88889 0.62500 0.88889   \n18795  1.00000 0.90000 0.80000 0.81818 0.77778 0.90909 0.66667 0.90000   \n82487  1.00000 0.92308 0.83333 0.90000 0.87500 0.91667 0.71429 1.00000   \n161869 1.00000 1.00000 0.88889 0.90909 0.88889 0.92857 0.72727 1.00000   \n26299  1.00000 1.00000 0.90000 0.91667 0.91667 0.93333 0.87500 1.00000   \n75543  1.00000 1.00000 0.90909 0.92308 1.00000 0.93333 0.90000 1.00000   \n238538 1.00000 1.00000 0.94444 0.92857 1.00000 1.00000 0.90909 1.00000   \n21352  1.00000 1.00000 1.00000 0.93750 1.00000 1.00000 1.00000 1.00000   \n158587 1.00000 1.00000 1.00000 0.94118 1.00000 1.00000 1.00000 1.00000   \n235171 1.00000 1.00000 1.00000 0.94737 1.00000 1.00000 1.00000 1.00000   \n23849  1.00000 1.00000 1.00000 1.00000 1.00000 1.00000 1.00000 1.00000   \n221304 1.00000 1.00000 1.00000 1.00000 1.00000 1.00000 1.00000 1.00000   \n18059  1.00000 1.00000 1.00000 1.00000 1.00000 1.00000 1.00000 1.00000   \n169974 1.00000 1.00000 1.00000 1.00000 1.00000 1.00000 1.00000 1.00000   \n72191  1.00000 1.00000 1.00000 1.00000 1.00000 1.00000 1.00000 1.00000   \n206633 1.00000 1.00000 1.00000 1.00000 1.00000 1.00000 1.00000 1.00000   \n36621  1.00000 1.00000 1.00000 1.00000 1.00000 1.00000 1.00000 1.00000   \n23985  1.00000 1.00000 1.00000 1.00000 1.00000 1.00000 1.00000 1.00000   \n56412  1.00000 1.00000 1.00000 1.00000 1.00000 1.00000 1.00000 1.00000   \n36766  1.00000 1.00000 1.00000 1.00000 1.00000 1.00000 1.00000 1.00000   \n14668  1.00000 1.00000 1.00000 1.00000 1.00000 1.00000 1.00000 1.00000   \n229885 1.00000 1.00000 1.00000 1.00000 1.00000 1.00000 1.00000 1.00000   \n239896 1.00000 1.00000 1.00000 1.00000 1.00000 1.00000 1.00000 1.00000   \n237320 1.00000 1.00000 1.00000 1.00000 1.00000 1.00000 1.00000 1.00000   \n234797 1.00000 1.00000 1.00000 1.00000 1.00000 1.00000 1.00000 1.00000   \n40286  1.00000 1.00000 1.00000 1.00000 1.00000 1.00000 1.00000 1.00000   \n231233 1.00000 1.00000 1.00000 1.00000 1.00000 1.00000 1.00000 1.00000   \n219766 1.00000 1.00000 1.00000 1.00000 1.00000 1.00000 1.00000 1.00000   \n38004  1.00000 1.00000 1.00000 1.00000 1.00000 1.00000 1.00000 1.00000   \n16565  1.00000 1.00000 1.00000 1.00000 1.00000 1.00000 1.00000 1.00000   \n32116  1.00000 1.00000 1.00000 1.00000 1.00000 1.00000 1.00000 1.00000   \n11990  1.00000 1.00000 1.00000 1.00000 1.00000 1.00000 1.00000 1.00000   \n84774  1.00000 1.00000 1.00000 1.00000 1.00000 1.00000 1.00000 1.00000   \n23434  1.00000 1.00000 1.00000 1.00000 1.00000 1.00000 1.00000 1.00000   \n147305 1.00000 1.00000 1.00000 1.00000 1.00000 1.00000 1.00000 1.00000   \n18439  1.00000 1.00000 1.00000 1.00000 1.00000 1.00000 1.00000 1.00000   \n235000 1.00000 1.00000 1.00000 1.00000 1.00000 1.00000 1.00000 1.00000   \n60096  1.00000 1.00000 1.00000 1.00000 1.00000 1.00000 1.00000 1.00000   \n\n        8715    14140   ...  23380   21006   8680    230901  8935    45511   \\\n12066  0.40000 0.40000  ... 1.00000 1.00000 1.00000 1.00000 1.00000 1.00000   \n8998   0.87500 0.60000  ... 1.00000 1.00000 1.00000 1.00000 1.00000 1.00000   \n167052 0.88889 0.62500  ... 1.00000 1.00000 1.00000 1.00000 1.00000 1.00000   \n18795  0.90909 0.66667  ... 1.00000 1.00000 1.00000 1.00000 1.00000 1.00000   \n82487  0.91667 0.71429  ... 1.00000 1.00000 1.00000 1.00000 1.00000 1.00000   \n161869 0.92857 0.72727  ... 1.00000 1.00000 1.00000 1.00000 1.00000 1.00000   \n26299  0.93333 0.87500  ... 1.00000 1.00000 1.00000 1.00000 1.00000 1.00000   \n75543  0.93333 0.90000  ... 1.00000 1.00000 1.00000 1.00000 1.00000 1.00000   \n238538 1.00000 0.90909  ... 1.00000 1.00000 1.00000 1.00000 1.00000 1.00000   \n21352  1.00000 1.00000  ... 1.00000 1.00000 1.00000 1.00000 1.00000 1.00000   \n158587 1.00000 1.00000  ... 1.00000 1.00000 1.00000 1.00000 1.00000 1.00000   \n235171 1.00000 1.00000  ... 1.00000 1.00000 1.00000 1.00000 1.00000 1.00000   \n23849  1.00000 1.00000  ... 1.00000 1.00000 1.00000 1.00000 1.00000 1.00000   \n221304 1.00000 1.00000  ... 1.00000 1.00000 1.00000 1.00000 1.00000 1.00000   \n18059  1.00000 1.00000  ... 1.00000 1.00000 1.00000 1.00000 1.00000 1.00000   \n169974 1.00000 1.00000  ... 1.00000 1.00000 1.00000 1.00000 1.00000 1.00000   \n72191  1.00000 1.00000  ... 1.00000 1.00000 1.00000 1.00000 1.00000 1.00000   \n206633 1.00000 1.00000  ... 1.00000 1.00000 1.00000 1.00000 1.00000 1.00000   \n36621  1.00000 1.00000  ... 1.00000 1.00000 1.00000 1.00000 1.00000 1.00000   \n23985  1.00000 1.00000  ... 1.00000 1.00000 1.00000 1.00000 1.00000 1.00000   \n56412  1.00000 1.00000  ... 1.00000 1.00000 1.00000 1.00000 1.00000 1.00000   \n36766  1.00000 1.00000  ... 1.00000 1.00000 1.00000 1.00000 1.00000 1.00000   \n14668  1.00000 1.00000  ... 1.00000 1.00000 1.00000 1.00000 1.00000 1.00000   \n229885 1.00000 1.00000  ... 1.00000 1.00000 1.00000 1.00000 1.00000 1.00000   \n239896 1.00000 1.00000  ... 1.00000 1.00000 1.00000 1.00000 1.00000 1.00000   \n237320 1.00000 1.00000  ... 1.00000 1.00000 1.00000 1.00000 1.00000 1.00000   \n234797 1.00000 1.00000  ... 1.00000 1.00000 1.00000 1.00000 1.00000 1.00000   \n40286  1.00000 1.00000  ... 1.00000 1.00000 1.00000 1.00000 1.00000 1.00000   \n231233 1.00000 1.00000  ... 1.00000 1.00000 1.00000 1.00000 1.00000 1.00000   \n219766 1.00000 1.00000  ... 1.00000 1.00000 1.00000 1.00000 1.00000 1.00000   \n38004  1.00000 1.00000  ... 1.00000 1.00000 1.00000 1.00000 1.00000 1.00000   \n16565  1.00000 1.00000  ... 1.00000 1.00000 1.00000 1.00000 1.00000 1.00000   \n32116  1.00000 1.00000  ... 1.00000 1.00000 1.00000 1.00000 1.00000 1.00000   \n11990  1.00000 1.00000  ... 1.00000 1.00000 1.00000 1.00000 1.00000 1.00000   \n84774  1.00000 1.00000  ... 1.00000 1.00000 1.00000 1.00000 1.00000 1.00000   \n23434  1.00000 1.00000  ... 1.00000 1.00000 1.00000 1.00000 1.00000 1.00000   \n147305 1.00000 1.00000  ... 1.00000 1.00000 1.00000 1.00000 1.00000 1.00000   \n18439  1.00000 1.00000  ... 1.00000 1.00000 1.00000 1.00000 1.00000 1.00000   \n235000 1.00000 1.00000  ... 1.00000 1.00000 1.00000 1.00000 1.00000 1.00000   \n60096  1.00000 1.00000  ... 1.00000 1.00000 1.00000 1.00000 1.00000 1.00000   \n\n        23562   23619   73110   17576   \n12066  1.00000 1.00000 1.00000 1.00000  \n8998   1.00000 1.00000 1.00000 1.00000  \n167052 1.00000 1.00000 1.00000 1.00000  \n18795  1.00000 1.00000 1.00000 1.00000  \n82487  1.00000 1.00000 1.00000 1.00000  \n161869 1.00000 1.00000 1.00000 1.00000  \n26299  1.00000 1.00000 1.00000 1.00000  \n75543  1.00000 1.00000 1.00000 1.00000  \n238538 1.00000 1.00000 1.00000 1.00000  \n21352  1.00000 1.00000 1.00000 1.00000  \n158587 1.00000 1.00000 1.00000 1.00000  \n235171 1.00000 1.00000 1.00000 1.00000  \n23849  1.00000 1.00000 1.00000 1.00000  \n221304 1.00000 1.00000 1.00000 1.00000  \n18059  1.00000 1.00000 1.00000 1.00000  \n169974 1.00000 1.00000 1.00000 1.00000  \n72191  1.00000 1.00000 1.00000 1.00000  \n206633 1.00000 1.00000 1.00000 1.00000  \n36621  1.00000 1.00000 1.00000 1.00000  \n23985  1.00000 1.00000 1.00000 1.00000  \n56412  1.00000 1.00000 1.00000 1.00000  \n36766  1.00000 1.00000 1.00000 1.00000  \n14668  1.00000 1.00000 1.00000 1.00000  \n229885 1.00000 1.00000 1.00000 1.00000  \n239896 1.00000 1.00000 1.00000 1.00000  \n237320 1.00000 1.00000 1.00000 1.00000  \n234797 1.00000 1.00000 1.00000 1.00000  \n40286  1.00000 1.00000 1.00000 1.00000  \n231233 1.00000 1.00000 1.00000 1.00000  \n219766 1.00000 1.00000 1.00000 1.00000  \n38004  1.00000 1.00000 1.00000 1.00000  \n16565  1.00000 1.00000 1.00000 1.00000  \n32116  1.00000 1.00000 1.00000 1.00000  \n11990  1.00000 1.00000 1.00000 1.00000  \n84774  1.00000 1.00000 1.00000 1.00000  \n23434  1.00000 1.00000 1.00000 1.00000  \n147305 1.00000 1.00000 1.00000 1.00000  \n18439  1.00000 1.00000 1.00000 1.00000  \n235000 1.00000 1.00000 1.00000 1.00000  \n60096  1.00000 1.00000 1.00000 1.00000  \n\n[40 rows x 3729 columns]"
     },
     "execution_count": 744,
     "metadata": {},
     "output_type": "execute_result"
    }
   ],
   "source": [
    "fat_short[new_columns]"
   ]
  },
  {
   "cell_type": "code",
   "execution_count": 745,
   "metadata": {},
   "outputs": [
    {
     "data": {
      "text/html": "<div>\n<style scoped>\n    .dataframe tbody tr th:only-of-type {\n        vertical-align: middle;\n    }\n\n    .dataframe tbody tr th {\n        vertical-align: top;\n    }\n\n    .dataframe thead th {\n        text-align: right;\n    }\n</style>\n<table border=\"1\" class=\"dataframe\">\n  <thead>\n    <tr style=\"text-align: right;\">\n      <th></th>\n      <th>111</th>\n      <th>126</th>\n      <th>257</th>\n      <th>443</th>\n      <th>445</th>\n      <th>578</th>\n      <th>615</th>\n      <th>629</th>\n      <th>631</th>\n      <th>858</th>\n      <th>...</th>\n      <th>23047</th>\n      <th>23274</th>\n      <th>23383</th>\n      <th>24865</th>\n      <th>25518</th>\n      <th>25522</th>\n      <th>26269</th>\n      <th>26934</th>\n      <th>27343</th>\n      <th>27805</th>\n    </tr>\n    <tr>\n      <th>id</th>\n      <th></th>\n      <th></th>\n      <th></th>\n      <th></th>\n      <th></th>\n      <th></th>\n      <th></th>\n      <th></th>\n      <th></th>\n      <th></th>\n      <th></th>\n      <th></th>\n      <th></th>\n      <th></th>\n      <th></th>\n      <th></th>\n      <th></th>\n      <th></th>\n      <th></th>\n      <th></th>\n      <th></th>\n    </tr>\n  </thead>\n  <tbody>\n    <tr>\n      <td>12066</td>\n      <td>0</td>\n      <td>0</td>\n      <td>0</td>\n      <td>0</td>\n      <td>0</td>\n      <td>0</td>\n      <td>0</td>\n      <td>0</td>\n      <td>0</td>\n      <td>0</td>\n      <td>...</td>\n      <td>0</td>\n      <td>0</td>\n      <td>0</td>\n      <td>0</td>\n      <td>0</td>\n      <td>0</td>\n      <td>0</td>\n      <td>0</td>\n      <td>0</td>\n      <td>0</td>\n    </tr>\n    <tr>\n      <td>8998</td>\n      <td>0</td>\n      <td>0</td>\n      <td>0</td>\n      <td>0</td>\n      <td>0</td>\n      <td>0</td>\n      <td>0</td>\n      <td>0</td>\n      <td>0</td>\n      <td>0</td>\n      <td>...</td>\n      <td>0</td>\n      <td>0</td>\n      <td>0</td>\n      <td>0</td>\n      <td>0</td>\n      <td>0</td>\n      <td>0</td>\n      <td>0</td>\n      <td>0</td>\n      <td>0</td>\n    </tr>\n    <tr>\n      <td>167052</td>\n      <td>0</td>\n      <td>0</td>\n      <td>0</td>\n      <td>0</td>\n      <td>0</td>\n      <td>0</td>\n      <td>0</td>\n      <td>0</td>\n      <td>0</td>\n      <td>0</td>\n      <td>...</td>\n      <td>0</td>\n      <td>0</td>\n      <td>0</td>\n      <td>0</td>\n      <td>0</td>\n      <td>0</td>\n      <td>0</td>\n      <td>0</td>\n      <td>0</td>\n      <td>0</td>\n    </tr>\n    <tr>\n      <td>18795</td>\n      <td>0</td>\n      <td>0</td>\n      <td>0</td>\n      <td>0</td>\n      <td>0</td>\n      <td>0</td>\n      <td>0</td>\n      <td>0</td>\n      <td>0</td>\n      <td>0</td>\n      <td>...</td>\n      <td>0</td>\n      <td>0</td>\n      <td>0</td>\n      <td>0</td>\n      <td>0</td>\n      <td>0</td>\n      <td>0</td>\n      <td>0</td>\n      <td>0</td>\n      <td>0</td>\n    </tr>\n    <tr>\n      <td>82487</td>\n      <td>0</td>\n      <td>0</td>\n      <td>0</td>\n      <td>0</td>\n      <td>0</td>\n      <td>0</td>\n      <td>0</td>\n      <td>0</td>\n      <td>0</td>\n      <td>0</td>\n      <td>...</td>\n      <td>0</td>\n      <td>0</td>\n      <td>0</td>\n      <td>0</td>\n      <td>0</td>\n      <td>0</td>\n      <td>0</td>\n      <td>0</td>\n      <td>0</td>\n      <td>0</td>\n    </tr>\n    <tr>\n      <td>161869</td>\n      <td>0</td>\n      <td>0</td>\n      <td>0</td>\n      <td>0</td>\n      <td>0</td>\n      <td>0</td>\n      <td>0</td>\n      <td>0</td>\n      <td>0</td>\n      <td>0</td>\n      <td>...</td>\n      <td>0</td>\n      <td>0</td>\n      <td>0</td>\n      <td>0</td>\n      <td>0</td>\n      <td>0</td>\n      <td>0</td>\n      <td>0</td>\n      <td>0</td>\n      <td>0</td>\n    </tr>\n    <tr>\n      <td>26299</td>\n      <td>0</td>\n      <td>0</td>\n      <td>0</td>\n      <td>0</td>\n      <td>0</td>\n      <td>0</td>\n      <td>0</td>\n      <td>0</td>\n      <td>0</td>\n      <td>0</td>\n      <td>...</td>\n      <td>0</td>\n      <td>0</td>\n      <td>0</td>\n      <td>0</td>\n      <td>0</td>\n      <td>0</td>\n      <td>0</td>\n      <td>0</td>\n      <td>0</td>\n      <td>0</td>\n    </tr>\n    <tr>\n      <td>75543</td>\n      <td>0</td>\n      <td>0</td>\n      <td>0</td>\n      <td>0</td>\n      <td>0</td>\n      <td>0</td>\n      <td>0</td>\n      <td>0</td>\n      <td>0</td>\n      <td>0</td>\n      <td>...</td>\n      <td>0</td>\n      <td>0</td>\n      <td>0</td>\n      <td>0</td>\n      <td>0</td>\n      <td>0</td>\n      <td>0</td>\n      <td>0</td>\n      <td>0</td>\n      <td>0</td>\n    </tr>\n    <tr>\n      <td>238538</td>\n      <td>0</td>\n      <td>0</td>\n      <td>0</td>\n      <td>0</td>\n      <td>0</td>\n      <td>0</td>\n      <td>0</td>\n      <td>0</td>\n      <td>0</td>\n      <td>0</td>\n      <td>...</td>\n      <td>0</td>\n      <td>0</td>\n      <td>0</td>\n      <td>0</td>\n      <td>0</td>\n      <td>0</td>\n      <td>0</td>\n      <td>0</td>\n      <td>0</td>\n      <td>0</td>\n    </tr>\n    <tr>\n      <td>21352</td>\n      <td>0</td>\n      <td>0</td>\n      <td>0</td>\n      <td>0</td>\n      <td>0</td>\n      <td>0</td>\n      <td>0</td>\n      <td>0</td>\n      <td>0</td>\n      <td>0</td>\n      <td>...</td>\n      <td>0</td>\n      <td>0</td>\n      <td>0</td>\n      <td>0</td>\n      <td>0</td>\n      <td>0</td>\n      <td>0</td>\n      <td>0</td>\n      <td>0</td>\n      <td>0</td>\n    </tr>\n    <tr>\n      <td>158587</td>\n      <td>0</td>\n      <td>0</td>\n      <td>0</td>\n      <td>0</td>\n      <td>0</td>\n      <td>0</td>\n      <td>0</td>\n      <td>0</td>\n      <td>0</td>\n      <td>0</td>\n      <td>...</td>\n      <td>0</td>\n      <td>0</td>\n      <td>0</td>\n      <td>0</td>\n      <td>0</td>\n      <td>0</td>\n      <td>0</td>\n      <td>0</td>\n      <td>0</td>\n      <td>0</td>\n    </tr>\n    <tr>\n      <td>235171</td>\n      <td>0</td>\n      <td>0</td>\n      <td>0</td>\n      <td>0</td>\n      <td>0</td>\n      <td>0</td>\n      <td>0</td>\n      <td>0</td>\n      <td>0</td>\n      <td>0</td>\n      <td>...</td>\n      <td>0</td>\n      <td>0</td>\n      <td>0</td>\n      <td>0</td>\n      <td>0</td>\n      <td>0</td>\n      <td>0</td>\n      <td>0</td>\n      <td>0</td>\n      <td>0</td>\n    </tr>\n    <tr>\n      <td>23849</td>\n      <td>0</td>\n      <td>0</td>\n      <td>0</td>\n      <td>0</td>\n      <td>0</td>\n      <td>0</td>\n      <td>0</td>\n      <td>0</td>\n      <td>0</td>\n      <td>0</td>\n      <td>...</td>\n      <td>0</td>\n      <td>0</td>\n      <td>0</td>\n      <td>0</td>\n      <td>0</td>\n      <td>0</td>\n      <td>0</td>\n      <td>0</td>\n      <td>0</td>\n      <td>0</td>\n    </tr>\n    <tr>\n      <td>221304</td>\n      <td>0</td>\n      <td>0</td>\n      <td>0</td>\n      <td>0</td>\n      <td>0</td>\n      <td>0</td>\n      <td>0</td>\n      <td>0</td>\n      <td>0</td>\n      <td>0</td>\n      <td>...</td>\n      <td>0</td>\n      <td>0</td>\n      <td>0</td>\n      <td>0</td>\n      <td>0</td>\n      <td>0</td>\n      <td>0</td>\n      <td>0</td>\n      <td>0</td>\n      <td>0</td>\n    </tr>\n    <tr>\n      <td>18059</td>\n      <td>0</td>\n      <td>0</td>\n      <td>0</td>\n      <td>0</td>\n      <td>0</td>\n      <td>0</td>\n      <td>0</td>\n      <td>0</td>\n      <td>0</td>\n      <td>0</td>\n      <td>...</td>\n      <td>0</td>\n      <td>0</td>\n      <td>0</td>\n      <td>0</td>\n      <td>0</td>\n      <td>0</td>\n      <td>0</td>\n      <td>0</td>\n      <td>0</td>\n      <td>0</td>\n    </tr>\n    <tr>\n      <td>169974</td>\n      <td>0</td>\n      <td>0</td>\n      <td>0</td>\n      <td>0</td>\n      <td>0</td>\n      <td>0</td>\n      <td>0</td>\n      <td>0</td>\n      <td>0</td>\n      <td>0</td>\n      <td>...</td>\n      <td>0</td>\n      <td>0</td>\n      <td>0</td>\n      <td>0</td>\n      <td>0</td>\n      <td>0</td>\n      <td>0</td>\n      <td>0</td>\n      <td>0</td>\n      <td>0</td>\n    </tr>\n    <tr>\n      <td>72191</td>\n      <td>0</td>\n      <td>0</td>\n      <td>0</td>\n      <td>0</td>\n      <td>0</td>\n      <td>0</td>\n      <td>0</td>\n      <td>0</td>\n      <td>0</td>\n      <td>0</td>\n      <td>...</td>\n      <td>0</td>\n      <td>0</td>\n      <td>0</td>\n      <td>0</td>\n      <td>0</td>\n      <td>0</td>\n      <td>0</td>\n      <td>0</td>\n      <td>0</td>\n      <td>0</td>\n    </tr>\n    <tr>\n      <td>206633</td>\n      <td>0</td>\n      <td>0</td>\n      <td>0</td>\n      <td>0</td>\n      <td>0</td>\n      <td>0</td>\n      <td>0</td>\n      <td>0</td>\n      <td>0</td>\n      <td>0</td>\n      <td>...</td>\n      <td>0</td>\n      <td>0</td>\n      <td>0</td>\n      <td>0</td>\n      <td>0</td>\n      <td>0</td>\n      <td>0</td>\n      <td>0</td>\n      <td>0</td>\n      <td>0</td>\n    </tr>\n    <tr>\n      <td>36621</td>\n      <td>0</td>\n      <td>0</td>\n      <td>0</td>\n      <td>0</td>\n      <td>0</td>\n      <td>0</td>\n      <td>0</td>\n      <td>0</td>\n      <td>0</td>\n      <td>0</td>\n      <td>...</td>\n      <td>0</td>\n      <td>0</td>\n      <td>0</td>\n      <td>0</td>\n      <td>0</td>\n      <td>0</td>\n      <td>0</td>\n      <td>0</td>\n      <td>0</td>\n      <td>0</td>\n    </tr>\n    <tr>\n      <td>23985</td>\n      <td>0</td>\n      <td>0</td>\n      <td>0</td>\n      <td>0</td>\n      <td>0</td>\n      <td>0</td>\n      <td>0</td>\n      <td>0</td>\n      <td>0</td>\n      <td>0</td>\n      <td>...</td>\n      <td>0</td>\n      <td>0</td>\n      <td>0</td>\n      <td>0</td>\n      <td>0</td>\n      <td>0</td>\n      <td>0</td>\n      <td>0</td>\n      <td>0</td>\n      <td>0</td>\n    </tr>\n    <tr>\n      <td>56412</td>\n      <td>0</td>\n      <td>0</td>\n      <td>0</td>\n      <td>0</td>\n      <td>0</td>\n      <td>0</td>\n      <td>0</td>\n      <td>0</td>\n      <td>0</td>\n      <td>0</td>\n      <td>...</td>\n      <td>0</td>\n      <td>0</td>\n      <td>0</td>\n      <td>0</td>\n      <td>0</td>\n      <td>0</td>\n      <td>0</td>\n      <td>0</td>\n      <td>0</td>\n      <td>0</td>\n    </tr>\n    <tr>\n      <td>36766</td>\n      <td>0</td>\n      <td>0</td>\n      <td>0</td>\n      <td>0</td>\n      <td>0</td>\n      <td>0</td>\n      <td>0</td>\n      <td>0</td>\n      <td>0</td>\n      <td>0</td>\n      <td>...</td>\n      <td>0</td>\n      <td>0</td>\n      <td>0</td>\n      <td>0</td>\n      <td>0</td>\n      <td>0</td>\n      <td>0</td>\n      <td>0</td>\n      <td>0</td>\n      <td>0</td>\n    </tr>\n    <tr>\n      <td>14668</td>\n      <td>0</td>\n      <td>0</td>\n      <td>0</td>\n      <td>0</td>\n      <td>0</td>\n      <td>0</td>\n      <td>0</td>\n      <td>0</td>\n      <td>0</td>\n      <td>0</td>\n      <td>...</td>\n      <td>0</td>\n      <td>0</td>\n      <td>0</td>\n      <td>0</td>\n      <td>0</td>\n      <td>0</td>\n      <td>0</td>\n      <td>0</td>\n      <td>0</td>\n      <td>0</td>\n    </tr>\n    <tr>\n      <td>229885</td>\n      <td>0</td>\n      <td>0</td>\n      <td>0</td>\n      <td>0</td>\n      <td>0</td>\n      <td>0</td>\n      <td>0</td>\n      <td>0</td>\n      <td>0</td>\n      <td>0</td>\n      <td>...</td>\n      <td>0</td>\n      <td>0</td>\n      <td>0</td>\n      <td>0</td>\n      <td>0</td>\n      <td>0</td>\n      <td>0</td>\n      <td>0</td>\n      <td>0</td>\n      <td>0</td>\n    </tr>\n    <tr>\n      <td>239896</td>\n      <td>0</td>\n      <td>0</td>\n      <td>0</td>\n      <td>0</td>\n      <td>0</td>\n      <td>0</td>\n      <td>0</td>\n      <td>0</td>\n      <td>0</td>\n      <td>0</td>\n      <td>...</td>\n      <td>0</td>\n      <td>0</td>\n      <td>0</td>\n      <td>0</td>\n      <td>0</td>\n      <td>0</td>\n      <td>0</td>\n      <td>0</td>\n      <td>0</td>\n      <td>0</td>\n    </tr>\n    <tr>\n      <td>237320</td>\n      <td>0</td>\n      <td>0</td>\n      <td>0</td>\n      <td>0</td>\n      <td>0</td>\n      <td>0</td>\n      <td>0</td>\n      <td>0</td>\n      <td>0</td>\n      <td>0</td>\n      <td>...</td>\n      <td>0</td>\n      <td>0</td>\n      <td>0</td>\n      <td>0</td>\n      <td>0</td>\n      <td>0</td>\n      <td>0</td>\n      <td>0</td>\n      <td>0</td>\n      <td>0</td>\n    </tr>\n    <tr>\n      <td>234797</td>\n      <td>0</td>\n      <td>0</td>\n      <td>0</td>\n      <td>0</td>\n      <td>0</td>\n      <td>0</td>\n      <td>0</td>\n      <td>0</td>\n      <td>0</td>\n      <td>0</td>\n      <td>...</td>\n      <td>0</td>\n      <td>0</td>\n      <td>0</td>\n      <td>0</td>\n      <td>0</td>\n      <td>0</td>\n      <td>0</td>\n      <td>0</td>\n      <td>0</td>\n      <td>0</td>\n    </tr>\n    <tr>\n      <td>40286</td>\n      <td>0</td>\n      <td>0</td>\n      <td>0</td>\n      <td>0</td>\n      <td>0</td>\n      <td>0</td>\n      <td>0</td>\n      <td>0</td>\n      <td>0</td>\n      <td>0</td>\n      <td>...</td>\n      <td>0</td>\n      <td>0</td>\n      <td>0</td>\n      <td>0</td>\n      <td>0</td>\n      <td>0</td>\n      <td>0</td>\n      <td>0</td>\n      <td>0</td>\n      <td>0</td>\n    </tr>\n    <tr>\n      <td>231233</td>\n      <td>0</td>\n      <td>0</td>\n      <td>0</td>\n      <td>0</td>\n      <td>0</td>\n      <td>0</td>\n      <td>0</td>\n      <td>0</td>\n      <td>0</td>\n      <td>0</td>\n      <td>...</td>\n      <td>0</td>\n      <td>0</td>\n      <td>0</td>\n      <td>0</td>\n      <td>0</td>\n      <td>0</td>\n      <td>0</td>\n      <td>0</td>\n      <td>0</td>\n      <td>0</td>\n    </tr>\n    <tr>\n      <td>219766</td>\n      <td>0</td>\n      <td>0</td>\n      <td>0</td>\n      <td>0</td>\n      <td>0</td>\n      <td>0</td>\n      <td>0</td>\n      <td>0</td>\n      <td>0</td>\n      <td>0</td>\n      <td>...</td>\n      <td>0</td>\n      <td>0</td>\n      <td>0</td>\n      <td>0</td>\n      <td>0</td>\n      <td>0</td>\n      <td>0</td>\n      <td>0</td>\n      <td>0</td>\n      <td>0</td>\n    </tr>\n    <tr>\n      <td>38004</td>\n      <td>0</td>\n      <td>0</td>\n      <td>0</td>\n      <td>0</td>\n      <td>0</td>\n      <td>0</td>\n      <td>0</td>\n      <td>0</td>\n      <td>0</td>\n      <td>0</td>\n      <td>...</td>\n      <td>0</td>\n      <td>0</td>\n      <td>0</td>\n      <td>0</td>\n      <td>0</td>\n      <td>0</td>\n      <td>0</td>\n      <td>0</td>\n      <td>0</td>\n      <td>0</td>\n    </tr>\n    <tr>\n      <td>16565</td>\n      <td>0</td>\n      <td>0</td>\n      <td>0</td>\n      <td>0</td>\n      <td>0</td>\n      <td>0</td>\n      <td>0</td>\n      <td>0</td>\n      <td>0</td>\n      <td>0</td>\n      <td>...</td>\n      <td>0</td>\n      <td>0</td>\n      <td>0</td>\n      <td>0</td>\n      <td>0</td>\n      <td>0</td>\n      <td>0</td>\n      <td>0</td>\n      <td>0</td>\n      <td>0</td>\n    </tr>\n    <tr>\n      <td>32116</td>\n      <td>0</td>\n      <td>0</td>\n      <td>0</td>\n      <td>0</td>\n      <td>0</td>\n      <td>0</td>\n      <td>0</td>\n      <td>0</td>\n      <td>0</td>\n      <td>0</td>\n      <td>...</td>\n      <td>0</td>\n      <td>0</td>\n      <td>0</td>\n      <td>0</td>\n      <td>0</td>\n      <td>0</td>\n      <td>0</td>\n      <td>0</td>\n      <td>0</td>\n      <td>0</td>\n    </tr>\n    <tr>\n      <td>11990</td>\n      <td>0</td>\n      <td>0</td>\n      <td>0</td>\n      <td>0</td>\n      <td>0</td>\n      <td>0</td>\n      <td>0</td>\n      <td>0</td>\n      <td>0</td>\n      <td>0</td>\n      <td>...</td>\n      <td>0</td>\n      <td>0</td>\n      <td>0</td>\n      <td>0</td>\n      <td>0</td>\n      <td>0</td>\n      <td>0</td>\n      <td>0</td>\n      <td>0</td>\n      <td>0</td>\n    </tr>\n    <tr>\n      <td>84774</td>\n      <td>0</td>\n      <td>0</td>\n      <td>0</td>\n      <td>0</td>\n      <td>0</td>\n      <td>0</td>\n      <td>0</td>\n      <td>0</td>\n      <td>0</td>\n      <td>0</td>\n      <td>...</td>\n      <td>0</td>\n      <td>0</td>\n      <td>0</td>\n      <td>0</td>\n      <td>0</td>\n      <td>0</td>\n      <td>0</td>\n      <td>0</td>\n      <td>0</td>\n      <td>0</td>\n    </tr>\n    <tr>\n      <td>23434</td>\n      <td>0</td>\n      <td>0</td>\n      <td>0</td>\n      <td>0</td>\n      <td>0</td>\n      <td>0</td>\n      <td>0</td>\n      <td>0</td>\n      <td>0</td>\n      <td>0</td>\n      <td>...</td>\n      <td>0</td>\n      <td>0</td>\n      <td>0</td>\n      <td>0</td>\n      <td>0</td>\n      <td>0</td>\n      <td>0</td>\n      <td>0</td>\n      <td>0</td>\n      <td>0</td>\n    </tr>\n    <tr>\n      <td>147305</td>\n      <td>0</td>\n      <td>0</td>\n      <td>0</td>\n      <td>0</td>\n      <td>0</td>\n      <td>0</td>\n      <td>0</td>\n      <td>0</td>\n      <td>0</td>\n      <td>0</td>\n      <td>...</td>\n      <td>0</td>\n      <td>0</td>\n      <td>0</td>\n      <td>0</td>\n      <td>0</td>\n      <td>0</td>\n      <td>0</td>\n      <td>0</td>\n      <td>0</td>\n      <td>0</td>\n    </tr>\n    <tr>\n      <td>18439</td>\n      <td>0</td>\n      <td>0</td>\n      <td>0</td>\n      <td>0</td>\n      <td>0</td>\n      <td>0</td>\n      <td>0</td>\n      <td>0</td>\n      <td>0</td>\n      <td>0</td>\n      <td>...</td>\n      <td>0</td>\n      <td>0</td>\n      <td>0</td>\n      <td>0</td>\n      <td>0</td>\n      <td>0</td>\n      <td>0</td>\n      <td>0</td>\n      <td>0</td>\n      <td>0</td>\n    </tr>\n    <tr>\n      <td>235000</td>\n      <td>0</td>\n      <td>0</td>\n      <td>0</td>\n      <td>0</td>\n      <td>0</td>\n      <td>0</td>\n      <td>0</td>\n      <td>0</td>\n      <td>0</td>\n      <td>0</td>\n      <td>...</td>\n      <td>0</td>\n      <td>0</td>\n      <td>0</td>\n      <td>0</td>\n      <td>0</td>\n      <td>0</td>\n      <td>0</td>\n      <td>0</td>\n      <td>0</td>\n      <td>0</td>\n    </tr>\n    <tr>\n      <td>60096</td>\n      <td>0</td>\n      <td>0</td>\n      <td>0</td>\n      <td>0</td>\n      <td>0</td>\n      <td>0</td>\n      <td>0</td>\n      <td>0</td>\n      <td>0</td>\n      <td>0</td>\n      <td>...</td>\n      <td>0</td>\n      <td>0</td>\n      <td>0</td>\n      <td>0</td>\n      <td>0</td>\n      <td>0</td>\n      <td>0</td>\n      <td>0</td>\n      <td>0</td>\n      <td>0</td>\n    </tr>\n  </tbody>\n</table>\n<p>40 rows × 720 columns</p>\n</div>",
      "text/plain": "        111    126    257    443    445    578    615    629    631    858    \\\nid                                                                             \n12066       0      0      0      0      0      0      0      0      0      0   \n8998        0      0      0      0      0      0      0      0      0      0   \n167052      0      0      0      0      0      0      0      0      0      0   \n18795       0      0      0      0      0      0      0      0      0      0   \n82487       0      0      0      0      0      0      0      0      0      0   \n161869      0      0      0      0      0      0      0      0      0      0   \n26299       0      0      0      0      0      0      0      0      0      0   \n75543       0      0      0      0      0      0      0      0      0      0   \n238538      0      0      0      0      0      0      0      0      0      0   \n21352       0      0      0      0      0      0      0      0      0      0   \n158587      0      0      0      0      0      0      0      0      0      0   \n235171      0      0      0      0      0      0      0      0      0      0   \n23849       0      0      0      0      0      0      0      0      0      0   \n221304      0      0      0      0      0      0      0      0      0      0   \n18059       0      0      0      0      0      0      0      0      0      0   \n169974      0      0      0      0      0      0      0      0      0      0   \n72191       0      0      0      0      0      0      0      0      0      0   \n206633      0      0      0      0      0      0      0      0      0      0   \n36621       0      0      0      0      0      0      0      0      0      0   \n23985       0      0      0      0      0      0      0      0      0      0   \n56412       0      0      0      0      0      0      0      0      0      0   \n36766       0      0      0      0      0      0      0      0      0      0   \n14668       0      0      0      0      0      0      0      0      0      0   \n229885      0      0      0      0      0      0      0      0      0      0   \n239896      0      0      0      0      0      0      0      0      0      0   \n237320      0      0      0      0      0      0      0      0      0      0   \n234797      0      0      0      0      0      0      0      0      0      0   \n40286       0      0      0      0      0      0      0      0      0      0   \n231233      0      0      0      0      0      0      0      0      0      0   \n219766      0      0      0      0      0      0      0      0      0      0   \n38004       0      0      0      0      0      0      0      0      0      0   \n16565       0      0      0      0      0      0      0      0      0      0   \n32116       0      0      0      0      0      0      0      0      0      0   \n11990       0      0      0      0      0      0      0      0      0      0   \n84774       0      0      0      0      0      0      0      0      0      0   \n23434       0      0      0      0      0      0      0      0      0      0   \n147305      0      0      0      0      0      0      0      0      0      0   \n18439       0      0      0      0      0      0      0      0      0      0   \n235000      0      0      0      0      0      0      0      0      0      0   \n60096       0      0      0      0      0      0      0      0      0      0   \n\n        ...  23047  23274  23383  24865  25518  25522  26269  26934  27343  \\\nid      ...                                                                  \n12066   ...      0      0      0      0      0      0      0      0      0   \n8998    ...      0      0      0      0      0      0      0      0      0   \n167052  ...      0      0      0      0      0      0      0      0      0   \n18795   ...      0      0      0      0      0      0      0      0      0   \n82487   ...      0      0      0      0      0      0      0      0      0   \n161869  ...      0      0      0      0      0      0      0      0      0   \n26299   ...      0      0      0      0      0      0      0      0      0   \n75543   ...      0      0      0      0      0      0      0      0      0   \n238538  ...      0      0      0      0      0      0      0      0      0   \n21352   ...      0      0      0      0      0      0      0      0      0   \n158587  ...      0      0      0      0      0      0      0      0      0   \n235171  ...      0      0      0      0      0      0      0      0      0   \n23849   ...      0      0      0      0      0      0      0      0      0   \n221304  ...      0      0      0      0      0      0      0      0      0   \n18059   ...      0      0      0      0      0      0      0      0      0   \n169974  ...      0      0      0      0      0      0      0      0      0   \n72191   ...      0      0      0      0      0      0      0      0      0   \n206633  ...      0      0      0      0      0      0      0      0      0   \n36621   ...      0      0      0      0      0      0      0      0      0   \n23985   ...      0      0      0      0      0      0      0      0      0   \n56412   ...      0      0      0      0      0      0      0      0      0   \n36766   ...      0      0      0      0      0      0      0      0      0   \n14668   ...      0      0      0      0      0      0      0      0      0   \n229885  ...      0      0      0      0      0      0      0      0      0   \n239896  ...      0      0      0      0      0      0      0      0      0   \n237320  ...      0      0      0      0      0      0      0      0      0   \n234797  ...      0      0      0      0      0      0      0      0      0   \n40286   ...      0      0      0      0      0      0      0      0      0   \n231233  ...      0      0      0      0      0      0      0      0      0   \n219766  ...      0      0      0      0      0      0      0      0      0   \n38004   ...      0      0      0      0      0      0      0      0      0   \n16565   ...      0      0      0      0      0      0      0      0      0   \n32116   ...      0      0      0      0      0      0      0      0      0   \n11990   ...      0      0      0      0      0      0      0      0      0   \n84774   ...      0      0      0      0      0      0      0      0      0   \n23434   ...      0      0      0      0      0      0      0      0      0   \n147305  ...      0      0      0      0      0      0      0      0      0   \n18439   ...      0      0      0      0      0      0      0      0      0   \n235000  ...      0      0      0      0      0      0      0      0      0   \n60096   ...      0      0      0      0      0      0      0      0      0   \n\n        27805  \nid             \n12066       0  \n8998        0  \n167052      0  \n18795       0  \n82487       0  \n161869      0  \n26299       0  \n75543       0  \n238538      0  \n21352       0  \n158587      0  \n235171      0  \n23849       0  \n221304      0  \n18059       0  \n169974      0  \n72191       0  \n206633      0  \n36621       0  \n23985       0  \n56412       0  \n36766       0  \n14668       0  \n229885      0  \n239896      0  \n237320      0  \n234797      0  \n40286       0  \n231233      0  \n219766      0  \n38004       0  \n16565       0  \n32116       0  \n11990       0  \n84774       0  \n23434       0  \n147305      0  \n18439       0  \n235000      0  \n60096       0  \n\n[40 rows x 720 columns]"
     },
     "execution_count": 745,
     "metadata": {},
     "output_type": "execute_result"
    }
   ],
   "source": [
    "sample_fat"
   ]
  },
  {
   "cell_type": "code",
   "execution_count": 746,
   "metadata": {},
   "outputs": [
    {
     "data": {
      "text/plain": "array(['index', 34116, 228546, 214413, 8974, 134137, 214479, 240287,\n       218093, 16812, 54196], dtype=object)"
     },
     "execution_count": 746,
     "metadata": {},
     "output_type": "execute_result"
    }
   ],
   "source": [
    "# top 10 normal short\n",
    "normal_short = pd.DataFrame(np.sort(result_w_filter_normal_short.values, axis=0), index=result_w_filter_normal_short.index, columns=result_w_filter_normal_short.columns)\n",
    "\n",
    "new_columns = normal_short.columns[normal_short.loc[normal_short.first_valid_index()].argsort()]\n",
    "result_normal_short = normal_short[new_columns]\n",
    "result_normal_short = result_normal_short.reset_index()\n",
    "result_normal_short = result_normal_short.loc[0].to_frame()\n",
    "result_normal_short[0:11].index.to_numpy()\n"
   ]
  },
  {
   "cell_type": "code",
   "execution_count": 747,
   "metadata": {},
   "outputs": [
    {
     "data": {
      "text/html": "<div>\n<style scoped>\n    .dataframe tbody tr th:only-of-type {\n        vertical-align: middle;\n    }\n\n    .dataframe tbody tr th {\n        vertical-align: top;\n    }\n\n    .dataframe thead th {\n        text-align: right;\n    }\n</style>\n<table border=\"1\" class=\"dataframe\">\n  <thead>\n    <tr style=\"text-align: right;\">\n      <th></th>\n      <th>34116</th>\n      <th>228546</th>\n      <th>214413</th>\n      <th>8974</th>\n      <th>134137</th>\n      <th>214479</th>\n      <th>240287</th>\n      <th>218093</th>\n      <th>16812</th>\n      <th>54196</th>\n      <th>...</th>\n      <th>23021</th>\n      <th>23039</th>\n      <th>228498</th>\n      <th>94894</th>\n      <th>23070</th>\n      <th>23097</th>\n      <th>228431</th>\n      <th>94113</th>\n      <th>25416</th>\n      <th>25432</th>\n    </tr>\n  </thead>\n  <tbody>\n    <tr>\n      <td>104934</td>\n      <td>0.25000</td>\n      <td>0.28571</td>\n      <td>0.33333</td>\n      <td>0.33333</td>\n      <td>0.33333</td>\n      <td>0.40000</td>\n      <td>0.42857</td>\n      <td>0.44444</td>\n      <td>0.50000</td>\n      <td>0.50000</td>\n      <td>...</td>\n      <td>1.00000</td>\n      <td>1.00000</td>\n      <td>1.00000</td>\n      <td>1.00000</td>\n      <td>1.00000</td>\n      <td>1.00000</td>\n      <td>1.00000</td>\n      <td>1.00000</td>\n      <td>1.00000</td>\n      <td>1.00000</td>\n    </tr>\n    <tr>\n      <td>23979</td>\n      <td>0.88889</td>\n      <td>0.80000</td>\n      <td>1.00000</td>\n      <td>0.87500</td>\n      <td>0.88889</td>\n      <td>0.90000</td>\n      <td>0.77778</td>\n      <td>0.85714</td>\n      <td>0.87500</td>\n      <td>0.87500</td>\n      <td>...</td>\n      <td>1.00000</td>\n      <td>1.00000</td>\n      <td>1.00000</td>\n      <td>1.00000</td>\n      <td>1.00000</td>\n      <td>1.00000</td>\n      <td>1.00000</td>\n      <td>1.00000</td>\n      <td>1.00000</td>\n      <td>1.00000</td>\n    </tr>\n    <tr>\n      <td>14572</td>\n      <td>0.88889</td>\n      <td>0.87500</td>\n      <td>1.00000</td>\n      <td>0.88889</td>\n      <td>0.90909</td>\n      <td>0.90000</td>\n      <td>0.86667</td>\n      <td>0.92308</td>\n      <td>0.93333</td>\n      <td>0.90000</td>\n      <td>...</td>\n      <td>1.00000</td>\n      <td>1.00000</td>\n      <td>1.00000</td>\n      <td>1.00000</td>\n      <td>1.00000</td>\n      <td>1.00000</td>\n      <td>1.00000</td>\n      <td>1.00000</td>\n      <td>1.00000</td>\n      <td>1.00000</td>\n    </tr>\n    <tr>\n      <td>22943</td>\n      <td>1.00000</td>\n      <td>0.87500</td>\n      <td>1.00000</td>\n      <td>0.90000</td>\n      <td>1.00000</td>\n      <td>0.91667</td>\n      <td>0.87500</td>\n      <td>0.92308</td>\n      <td>1.00000</td>\n      <td>1.00000</td>\n      <td>...</td>\n      <td>1.00000</td>\n      <td>1.00000</td>\n      <td>1.00000</td>\n      <td>1.00000</td>\n      <td>1.00000</td>\n      <td>1.00000</td>\n      <td>1.00000</td>\n      <td>1.00000</td>\n      <td>1.00000</td>\n      <td>1.00000</td>\n    </tr>\n    <tr>\n      <td>60598</td>\n      <td>1.00000</td>\n      <td>0.88889</td>\n      <td>1.00000</td>\n      <td>0.91667</td>\n      <td>1.00000</td>\n      <td>1.00000</td>\n      <td>0.88889</td>\n      <td>0.93750</td>\n      <td>1.00000</td>\n      <td>1.00000</td>\n      <td>...</td>\n      <td>1.00000</td>\n      <td>1.00000</td>\n      <td>1.00000</td>\n      <td>1.00000</td>\n      <td>1.00000</td>\n      <td>1.00000</td>\n      <td>1.00000</td>\n      <td>1.00000</td>\n      <td>1.00000</td>\n      <td>1.00000</td>\n    </tr>\n    <tr>\n      <td>12720</td>\n      <td>1.00000</td>\n      <td>0.90000</td>\n      <td>1.00000</td>\n      <td>0.92308</td>\n      <td>1.00000</td>\n      <td>1.00000</td>\n      <td>0.91667</td>\n      <td>0.94737</td>\n      <td>1.00000</td>\n      <td>1.00000</td>\n      <td>...</td>\n      <td>1.00000</td>\n      <td>1.00000</td>\n      <td>1.00000</td>\n      <td>1.00000</td>\n      <td>1.00000</td>\n      <td>1.00000</td>\n      <td>1.00000</td>\n      <td>1.00000</td>\n      <td>1.00000</td>\n      <td>1.00000</td>\n    </tr>\n    <tr>\n      <td>9032</td>\n      <td>1.00000</td>\n      <td>0.92308</td>\n      <td>1.00000</td>\n      <td>0.93750</td>\n      <td>1.00000</td>\n      <td>1.00000</td>\n      <td>0.92308</td>\n      <td>1.00000</td>\n      <td>1.00000</td>\n      <td>1.00000</td>\n      <td>...</td>\n      <td>1.00000</td>\n      <td>1.00000</td>\n      <td>1.00000</td>\n      <td>1.00000</td>\n      <td>1.00000</td>\n      <td>1.00000</td>\n      <td>1.00000</td>\n      <td>1.00000</td>\n      <td>1.00000</td>\n      <td>1.00000</td>\n    </tr>\n    <tr>\n      <td>66404</td>\n      <td>1.00000</td>\n      <td>0.92857</td>\n      <td>1.00000</td>\n      <td>1.00000</td>\n      <td>1.00000</td>\n      <td>1.00000</td>\n      <td>1.00000</td>\n      <td>1.00000</td>\n      <td>1.00000</td>\n      <td>1.00000</td>\n      <td>...</td>\n      <td>1.00000</td>\n      <td>1.00000</td>\n      <td>1.00000</td>\n      <td>1.00000</td>\n      <td>1.00000</td>\n      <td>1.00000</td>\n      <td>1.00000</td>\n      <td>1.00000</td>\n      <td>1.00000</td>\n      <td>1.00000</td>\n    </tr>\n    <tr>\n      <td>87144</td>\n      <td>1.00000</td>\n      <td>1.00000</td>\n      <td>1.00000</td>\n      <td>1.00000</td>\n      <td>1.00000</td>\n      <td>1.00000</td>\n      <td>1.00000</td>\n      <td>1.00000</td>\n      <td>1.00000</td>\n      <td>1.00000</td>\n      <td>...</td>\n      <td>1.00000</td>\n      <td>1.00000</td>\n      <td>1.00000</td>\n      <td>1.00000</td>\n      <td>1.00000</td>\n      <td>1.00000</td>\n      <td>1.00000</td>\n      <td>1.00000</td>\n      <td>1.00000</td>\n      <td>1.00000</td>\n    </tr>\n    <tr>\n      <td>236128</td>\n      <td>1.00000</td>\n      <td>1.00000</td>\n      <td>1.00000</td>\n      <td>1.00000</td>\n      <td>1.00000</td>\n      <td>1.00000</td>\n      <td>1.00000</td>\n      <td>1.00000</td>\n      <td>1.00000</td>\n      <td>1.00000</td>\n      <td>...</td>\n      <td>1.00000</td>\n      <td>1.00000</td>\n      <td>1.00000</td>\n      <td>1.00000</td>\n      <td>1.00000</td>\n      <td>1.00000</td>\n      <td>1.00000</td>\n      <td>1.00000</td>\n      <td>1.00000</td>\n      <td>1.00000</td>\n    </tr>\n    <tr>\n      <td>47076</td>\n      <td>1.00000</td>\n      <td>1.00000</td>\n      <td>1.00000</td>\n      <td>1.00000</td>\n      <td>1.00000</td>\n      <td>1.00000</td>\n      <td>1.00000</td>\n      <td>1.00000</td>\n      <td>1.00000</td>\n      <td>1.00000</td>\n      <td>...</td>\n      <td>1.00000</td>\n      <td>1.00000</td>\n      <td>1.00000</td>\n      <td>1.00000</td>\n      <td>1.00000</td>\n      <td>1.00000</td>\n      <td>1.00000</td>\n      <td>1.00000</td>\n      <td>1.00000</td>\n      <td>1.00000</td>\n    </tr>\n    <tr>\n      <td>88186</td>\n      <td>1.00000</td>\n      <td>1.00000</td>\n      <td>1.00000</td>\n      <td>1.00000</td>\n      <td>1.00000</td>\n      <td>1.00000</td>\n      <td>1.00000</td>\n      <td>1.00000</td>\n      <td>1.00000</td>\n      <td>1.00000</td>\n      <td>...</td>\n      <td>1.00000</td>\n      <td>1.00000</td>\n      <td>1.00000</td>\n      <td>1.00000</td>\n      <td>1.00000</td>\n      <td>1.00000</td>\n      <td>1.00000</td>\n      <td>1.00000</td>\n      <td>1.00000</td>\n      <td>1.00000</td>\n    </tr>\n    <tr>\n      <td>16907</td>\n      <td>1.00000</td>\n      <td>1.00000</td>\n      <td>1.00000</td>\n      <td>1.00000</td>\n      <td>1.00000</td>\n      <td>1.00000</td>\n      <td>1.00000</td>\n      <td>1.00000</td>\n      <td>1.00000</td>\n      <td>1.00000</td>\n      <td>...</td>\n      <td>1.00000</td>\n      <td>1.00000</td>\n      <td>1.00000</td>\n      <td>1.00000</td>\n      <td>1.00000</td>\n      <td>1.00000</td>\n      <td>1.00000</td>\n      <td>1.00000</td>\n      <td>1.00000</td>\n      <td>1.00000</td>\n    </tr>\n    <tr>\n      <td>8630</td>\n      <td>1.00000</td>\n      <td>1.00000</td>\n      <td>1.00000</td>\n      <td>1.00000</td>\n      <td>1.00000</td>\n      <td>1.00000</td>\n      <td>1.00000</td>\n      <td>1.00000</td>\n      <td>1.00000</td>\n      <td>1.00000</td>\n      <td>...</td>\n      <td>1.00000</td>\n      <td>1.00000</td>\n      <td>1.00000</td>\n      <td>1.00000</td>\n      <td>1.00000</td>\n      <td>1.00000</td>\n      <td>1.00000</td>\n      <td>1.00000</td>\n      <td>1.00000</td>\n      <td>1.00000</td>\n    </tr>\n    <tr>\n      <td>8887</td>\n      <td>1.00000</td>\n      <td>1.00000</td>\n      <td>1.00000</td>\n      <td>1.00000</td>\n      <td>1.00000</td>\n      <td>1.00000</td>\n      <td>1.00000</td>\n      <td>1.00000</td>\n      <td>1.00000</td>\n      <td>1.00000</td>\n      <td>...</td>\n      <td>1.00000</td>\n      <td>1.00000</td>\n      <td>1.00000</td>\n      <td>1.00000</td>\n      <td>1.00000</td>\n      <td>1.00000</td>\n      <td>1.00000</td>\n      <td>1.00000</td>\n      <td>1.00000</td>\n      <td>1.00000</td>\n    </tr>\n    <tr>\n      <td>242134</td>\n      <td>1.00000</td>\n      <td>1.00000</td>\n      <td>1.00000</td>\n      <td>1.00000</td>\n      <td>1.00000</td>\n      <td>1.00000</td>\n      <td>1.00000</td>\n      <td>1.00000</td>\n      <td>1.00000</td>\n      <td>1.00000</td>\n      <td>...</td>\n      <td>1.00000</td>\n      <td>1.00000</td>\n      <td>1.00000</td>\n      <td>1.00000</td>\n      <td>1.00000</td>\n      <td>1.00000</td>\n      <td>1.00000</td>\n      <td>1.00000</td>\n      <td>1.00000</td>\n      <td>1.00000</td>\n    </tr>\n    <tr>\n      <td>45782</td>\n      <td>1.00000</td>\n      <td>1.00000</td>\n      <td>1.00000</td>\n      <td>1.00000</td>\n      <td>1.00000</td>\n      <td>1.00000</td>\n      <td>1.00000</td>\n      <td>1.00000</td>\n      <td>1.00000</td>\n      <td>1.00000</td>\n      <td>...</td>\n      <td>1.00000</td>\n      <td>1.00000</td>\n      <td>1.00000</td>\n      <td>1.00000</td>\n      <td>1.00000</td>\n      <td>1.00000</td>\n      <td>1.00000</td>\n      <td>1.00000</td>\n      <td>1.00000</td>\n      <td>1.00000</td>\n    </tr>\n    <tr>\n      <td>132703</td>\n      <td>1.00000</td>\n      <td>1.00000</td>\n      <td>1.00000</td>\n      <td>1.00000</td>\n      <td>1.00000</td>\n      <td>1.00000</td>\n      <td>1.00000</td>\n      <td>1.00000</td>\n      <td>1.00000</td>\n      <td>1.00000</td>\n      <td>...</td>\n      <td>1.00000</td>\n      <td>1.00000</td>\n      <td>1.00000</td>\n      <td>1.00000</td>\n      <td>1.00000</td>\n      <td>1.00000</td>\n      <td>1.00000</td>\n      <td>1.00000</td>\n      <td>1.00000</td>\n      <td>1.00000</td>\n    </tr>\n    <tr>\n      <td>213206</td>\n      <td>1.00000</td>\n      <td>1.00000</td>\n      <td>1.00000</td>\n      <td>1.00000</td>\n      <td>1.00000</td>\n      <td>1.00000</td>\n      <td>1.00000</td>\n      <td>1.00000</td>\n      <td>1.00000</td>\n      <td>1.00000</td>\n      <td>...</td>\n      <td>1.00000</td>\n      <td>1.00000</td>\n      <td>1.00000</td>\n      <td>1.00000</td>\n      <td>1.00000</td>\n      <td>1.00000</td>\n      <td>1.00000</td>\n      <td>1.00000</td>\n      <td>1.00000</td>\n      <td>1.00000</td>\n    </tr>\n    <tr>\n      <td>8825</td>\n      <td>1.00000</td>\n      <td>1.00000</td>\n      <td>1.00000</td>\n      <td>1.00000</td>\n      <td>1.00000</td>\n      <td>1.00000</td>\n      <td>1.00000</td>\n      <td>1.00000</td>\n      <td>1.00000</td>\n      <td>1.00000</td>\n      <td>...</td>\n      <td>1.00000</td>\n      <td>1.00000</td>\n      <td>1.00000</td>\n      <td>1.00000</td>\n      <td>1.00000</td>\n      <td>1.00000</td>\n      <td>1.00000</td>\n      <td>1.00000</td>\n      <td>1.00000</td>\n      <td>1.00000</td>\n    </tr>\n  </tbody>\n</table>\n<p>20 rows × 3729 columns</p>\n</div>",
      "text/plain": "        34116   228546  214413  8974    134137  214479  240287  218093  \\\n104934 0.25000 0.28571 0.33333 0.33333 0.33333 0.40000 0.42857 0.44444   \n23979  0.88889 0.80000 1.00000 0.87500 0.88889 0.90000 0.77778 0.85714   \n14572  0.88889 0.87500 1.00000 0.88889 0.90909 0.90000 0.86667 0.92308   \n22943  1.00000 0.87500 1.00000 0.90000 1.00000 0.91667 0.87500 0.92308   \n60598  1.00000 0.88889 1.00000 0.91667 1.00000 1.00000 0.88889 0.93750   \n12720  1.00000 0.90000 1.00000 0.92308 1.00000 1.00000 0.91667 0.94737   \n9032   1.00000 0.92308 1.00000 0.93750 1.00000 1.00000 0.92308 1.00000   \n66404  1.00000 0.92857 1.00000 1.00000 1.00000 1.00000 1.00000 1.00000   \n87144  1.00000 1.00000 1.00000 1.00000 1.00000 1.00000 1.00000 1.00000   \n236128 1.00000 1.00000 1.00000 1.00000 1.00000 1.00000 1.00000 1.00000   \n47076  1.00000 1.00000 1.00000 1.00000 1.00000 1.00000 1.00000 1.00000   \n88186  1.00000 1.00000 1.00000 1.00000 1.00000 1.00000 1.00000 1.00000   \n16907  1.00000 1.00000 1.00000 1.00000 1.00000 1.00000 1.00000 1.00000   \n8630   1.00000 1.00000 1.00000 1.00000 1.00000 1.00000 1.00000 1.00000   \n8887   1.00000 1.00000 1.00000 1.00000 1.00000 1.00000 1.00000 1.00000   \n242134 1.00000 1.00000 1.00000 1.00000 1.00000 1.00000 1.00000 1.00000   \n45782  1.00000 1.00000 1.00000 1.00000 1.00000 1.00000 1.00000 1.00000   \n132703 1.00000 1.00000 1.00000 1.00000 1.00000 1.00000 1.00000 1.00000   \n213206 1.00000 1.00000 1.00000 1.00000 1.00000 1.00000 1.00000 1.00000   \n8825   1.00000 1.00000 1.00000 1.00000 1.00000 1.00000 1.00000 1.00000   \n\n        16812   54196   ...  23021   23039   228498  94894   23070   23097   \\\n104934 0.50000 0.50000  ... 1.00000 1.00000 1.00000 1.00000 1.00000 1.00000   \n23979  0.87500 0.87500  ... 1.00000 1.00000 1.00000 1.00000 1.00000 1.00000   \n14572  0.93333 0.90000  ... 1.00000 1.00000 1.00000 1.00000 1.00000 1.00000   \n22943  1.00000 1.00000  ... 1.00000 1.00000 1.00000 1.00000 1.00000 1.00000   \n60598  1.00000 1.00000  ... 1.00000 1.00000 1.00000 1.00000 1.00000 1.00000   \n12720  1.00000 1.00000  ... 1.00000 1.00000 1.00000 1.00000 1.00000 1.00000   \n9032   1.00000 1.00000  ... 1.00000 1.00000 1.00000 1.00000 1.00000 1.00000   \n66404  1.00000 1.00000  ... 1.00000 1.00000 1.00000 1.00000 1.00000 1.00000   \n87144  1.00000 1.00000  ... 1.00000 1.00000 1.00000 1.00000 1.00000 1.00000   \n236128 1.00000 1.00000  ... 1.00000 1.00000 1.00000 1.00000 1.00000 1.00000   \n47076  1.00000 1.00000  ... 1.00000 1.00000 1.00000 1.00000 1.00000 1.00000   \n88186  1.00000 1.00000  ... 1.00000 1.00000 1.00000 1.00000 1.00000 1.00000   \n16907  1.00000 1.00000  ... 1.00000 1.00000 1.00000 1.00000 1.00000 1.00000   \n8630   1.00000 1.00000  ... 1.00000 1.00000 1.00000 1.00000 1.00000 1.00000   \n8887   1.00000 1.00000  ... 1.00000 1.00000 1.00000 1.00000 1.00000 1.00000   \n242134 1.00000 1.00000  ... 1.00000 1.00000 1.00000 1.00000 1.00000 1.00000   \n45782  1.00000 1.00000  ... 1.00000 1.00000 1.00000 1.00000 1.00000 1.00000   \n132703 1.00000 1.00000  ... 1.00000 1.00000 1.00000 1.00000 1.00000 1.00000   \n213206 1.00000 1.00000  ... 1.00000 1.00000 1.00000 1.00000 1.00000 1.00000   \n8825   1.00000 1.00000  ... 1.00000 1.00000 1.00000 1.00000 1.00000 1.00000   \n\n        228431  94113   25416   25432   \n104934 1.00000 1.00000 1.00000 1.00000  \n23979  1.00000 1.00000 1.00000 1.00000  \n14572  1.00000 1.00000 1.00000 1.00000  \n22943  1.00000 1.00000 1.00000 1.00000  \n60598  1.00000 1.00000 1.00000 1.00000  \n12720  1.00000 1.00000 1.00000 1.00000  \n9032   1.00000 1.00000 1.00000 1.00000  \n66404  1.00000 1.00000 1.00000 1.00000  \n87144  1.00000 1.00000 1.00000 1.00000  \n236128 1.00000 1.00000 1.00000 1.00000  \n47076  1.00000 1.00000 1.00000 1.00000  \n88186  1.00000 1.00000 1.00000 1.00000  \n16907  1.00000 1.00000 1.00000 1.00000  \n8630   1.00000 1.00000 1.00000 1.00000  \n8887   1.00000 1.00000 1.00000 1.00000  \n242134 1.00000 1.00000 1.00000 1.00000  \n45782  1.00000 1.00000 1.00000 1.00000  \n132703 1.00000 1.00000 1.00000 1.00000  \n213206 1.00000 1.00000 1.00000 1.00000  \n8825   1.00000 1.00000 1.00000 1.00000  \n\n[20 rows x 3729 columns]"
     },
     "execution_count": 747,
     "metadata": {},
     "output_type": "execute_result"
    }
   ],
   "source": [
    "normal_short[new_columns]"
   ]
  },
  {
   "cell_type": "code",
   "execution_count": 748,
   "metadata": {},
   "outputs": [
    {
     "data": {
      "text/plain": "array([ 12066,   8998, 167052,  18795,  82487, 161869,  26299,  75543,\n       238538,  21352, 158587, 235171,  23849, 221304,  18059, 169974,\n        72191, 206633,  36621,  23985,  56412,  36766,  14668, 229885,\n       239896, 237320, 234797,  40286, 231233, 219766,  38004,  16565,\n        32116,  11990,  84774,  23434, 147305,  18439, 235000,  60096])"
     },
     "execution_count": 748,
     "metadata": {},
     "output_type": "execute_result"
    }
   ],
   "source": [
    "sample_fat.index.to_numpy()"
   ]
  },
  {
   "cell_type": "code",
   "execution_count": 749,
   "metadata": {},
   "outputs": [
    {
     "data": {
      "text/plain": "array([104934,  23979,  14572,  22943,  60598,  12720,   9032,  66404,\n        87144, 236128,  47076,  88186,  16907,   8630,   8887, 242134,\n        45782, 132703, 213206,   8825])"
     },
     "execution_count": 749,
     "metadata": {},
     "output_type": "execute_result"
    }
   ],
   "source": [
    "sample_normal.index.to_numpy()"
   ]
  },
  {
   "cell_type": "code",
   "execution_count": 750,
   "metadata": {},
   "outputs": [],
   "source": [
    "#create one dimensional ingredients vector from user recipes profile\n",
    "user_one_vector_fat = sample_fat.copy()\n",
    "user_one_vector_fat.loc['sum',:]= user_one_vector_fat.sum(axis=0)\n",
    "user_one_vector_fat = user_one_vector_fat.drop(axis=0, labels=sample_fat.index)\n",
    "user_one_vector_fat[user_one_vector_fat > 0] = 1"
   ]
  },
  {
   "cell_type": "code",
   "execution_count": 751,
   "metadata": {},
   "outputs": [],
   "source": [
    "#create one dimensional ingredients vector from user recipes profile\n",
    "user_one_vector_normal = sample_normal.copy()\n",
    "user_one_vector_normal.loc['sum',:]= user_one_vector_normal.sum(axis=0)\n",
    "user_one_vector_normal = user_one_vector_normal.drop(axis=0, labels=sample_normal.index)\n",
    "user_one_vector_normal[user_one_vector_normal > 0] = 1"
   ]
  },
  {
   "cell_type": "code",
   "execution_count": 752,
   "metadata": {},
   "outputs": [
    {
     "data": {
      "text/html": "<div>\n<style scoped>\n    .dataframe tbody tr th:only-of-type {\n        vertical-align: middle;\n    }\n\n    .dataframe tbody tr th {\n        vertical-align: top;\n    }\n\n    .dataframe thead th {\n        text-align: right;\n    }\n</style>\n<table border=\"1\" class=\"dataframe\">\n  <thead>\n    <tr style=\"text-align: right;\">\n      <th></th>\n      <th>111</th>\n      <th>126</th>\n      <th>257</th>\n      <th>443</th>\n      <th>445</th>\n      <th>578</th>\n      <th>615</th>\n      <th>629</th>\n      <th>631</th>\n      <th>858</th>\n      <th>...</th>\n      <th>23047</th>\n      <th>23274</th>\n      <th>23383</th>\n      <th>24865</th>\n      <th>25518</th>\n      <th>25522</th>\n      <th>26269</th>\n      <th>26934</th>\n      <th>27343</th>\n      <th>27805</th>\n    </tr>\n    <tr>\n      <th>id</th>\n      <th></th>\n      <th></th>\n      <th></th>\n      <th></th>\n      <th></th>\n      <th></th>\n      <th></th>\n      <th></th>\n      <th></th>\n      <th></th>\n      <th></th>\n      <th></th>\n      <th></th>\n      <th></th>\n      <th></th>\n      <th></th>\n      <th></th>\n      <th></th>\n      <th></th>\n      <th></th>\n      <th></th>\n    </tr>\n  </thead>\n  <tbody>\n    <tr>\n      <td>sum</td>\n      <td>0.00000</td>\n      <td>0.00000</td>\n      <td>0.00000</td>\n      <td>0.00000</td>\n      <td>0.00000</td>\n      <td>0.00000</td>\n      <td>0.00000</td>\n      <td>0.00000</td>\n      <td>0.00000</td>\n      <td>0.00000</td>\n      <td>...</td>\n      <td>0.00000</td>\n      <td>1.00000</td>\n      <td>0.00000</td>\n      <td>0.00000</td>\n      <td>0.00000</td>\n      <td>0.00000</td>\n      <td>0.00000</td>\n      <td>0.00000</td>\n      <td>0.00000</td>\n      <td>0.00000</td>\n    </tr>\n  </tbody>\n</table>\n<p>1 rows × 720 columns</p>\n</div>",
      "text/plain": "      111     126     257     443     445     578     615     629     631    \\\nid                                                                            \nsum 0.00000 0.00000 0.00000 0.00000 0.00000 0.00000 0.00000 0.00000 0.00000   \n\n      858    ...   23047   23274   23383   24865   25518   25522   26269  \\\nid           ...                                                           \nsum 0.00000  ... 0.00000 1.00000 0.00000 0.00000 0.00000 0.00000 0.00000   \n\n      26934   27343   27805  \nid                           \nsum 0.00000 0.00000 0.00000  \n\n[1 rows x 720 columns]"
     },
     "execution_count": 752,
     "metadata": {},
     "output_type": "execute_result"
    },
    {
     "data": {
      "text/plain": "0.00000    626\n1.00000     94\ndtype: int64"
     },
     "execution_count": 752,
     "metadata": {},
     "output_type": "execute_result"
    }
   ],
   "source": [
    "user_one_vector_normal\n",
    "user_one_vector_normal.apply(pd.value_counts).count(axis=1)"
   ]
  },
  {
   "cell_type": "code",
   "execution_count": 753,
   "metadata": {},
   "outputs": [
    {
     "data": {
      "text/html": "<div>\n<style scoped>\n    .dataframe tbody tr th:only-of-type {\n        vertical-align: middle;\n    }\n\n    .dataframe tbody tr th {\n        vertical-align: top;\n    }\n\n    .dataframe thead th {\n        text-align: right;\n    }\n</style>\n<table border=\"1\" class=\"dataframe\">\n  <thead>\n    <tr style=\"text-align: right;\">\n      <th></th>\n      <th>111</th>\n      <th>126</th>\n      <th>257</th>\n      <th>443</th>\n      <th>445</th>\n      <th>578</th>\n      <th>615</th>\n      <th>629</th>\n      <th>631</th>\n      <th>858</th>\n      <th>...</th>\n      <th>23047</th>\n      <th>23274</th>\n      <th>23383</th>\n      <th>24865</th>\n      <th>25518</th>\n      <th>25522</th>\n      <th>26269</th>\n      <th>26934</th>\n      <th>27343</th>\n      <th>27805</th>\n    </tr>\n    <tr>\n      <th>id</th>\n      <th></th>\n      <th></th>\n      <th></th>\n      <th></th>\n      <th></th>\n      <th></th>\n      <th></th>\n      <th></th>\n      <th></th>\n      <th></th>\n      <th></th>\n      <th></th>\n      <th></th>\n      <th></th>\n      <th></th>\n      <th></th>\n      <th></th>\n      <th></th>\n      <th></th>\n      <th></th>\n      <th></th>\n    </tr>\n  </thead>\n  <tbody>\n    <tr>\n      <td>sum</td>\n      <td>0.00000</td>\n      <td>0.00000</td>\n      <td>0.00000</td>\n      <td>0.00000</td>\n      <td>0.00000</td>\n      <td>0.00000</td>\n      <td>0.00000</td>\n      <td>0.00000</td>\n      <td>0.00000</td>\n      <td>0.00000</td>\n      <td>...</td>\n      <td>0.00000</td>\n      <td>0.00000</td>\n      <td>0.00000</td>\n      <td>0.00000</td>\n      <td>0.00000</td>\n      <td>0.00000</td>\n      <td>0.00000</td>\n      <td>0.00000</td>\n      <td>0.00000</td>\n      <td>0.00000</td>\n    </tr>\n  </tbody>\n</table>\n<p>1 rows × 720 columns</p>\n</div>",
      "text/plain": "      111     126     257     443     445     578     615     629     631    \\\nid                                                                            \nsum 0.00000 0.00000 0.00000 0.00000 0.00000 0.00000 0.00000 0.00000 0.00000   \n\n      858    ...   23047   23274   23383   24865   25518   25522   26269  \\\nid           ...                                                           \nsum 0.00000  ... 0.00000 0.00000 0.00000 0.00000 0.00000 0.00000 0.00000   \n\n      26934   27343   27805  \nid                           \nsum 0.00000 0.00000 0.00000  \n\n[1 rows x 720 columns]"
     },
     "execution_count": 753,
     "metadata": {},
     "output_type": "execute_result"
    },
    {
     "data": {
      "text/plain": "0.00000    559\n1.00000    161\ndtype: int64"
     },
     "execution_count": 753,
     "metadata": {},
     "output_type": "execute_result"
    }
   ],
   "source": [
    "user_one_vector_fat\n",
    "user_one_vector_fat.apply(pd.value_counts).count(axis=1)"
   ]
  },
  {
   "cell_type": "code",
   "execution_count": 754,
   "metadata": {},
   "outputs": [
    {
     "data": {
      "text/html": "<div>\n<style scoped>\n    .dataframe tbody tr th:only-of-type {\n        vertical-align: middle;\n    }\n\n    .dataframe tbody tr th {\n        vertical-align: top;\n    }\n\n    .dataframe thead th {\n        text-align: right;\n    }\n</style>\n<table border=\"1\" class=\"dataframe\">\n  <thead>\n    <tr style=\"text-align: right;\">\n      <th></th>\n      <th>jaccard_distance_sum</th>\n    </tr>\n  </thead>\n  <tbody>\n    <tr>\n      <td>13905</td>\n      <td>0.92593</td>\n    </tr>\n    <tr>\n      <td>180905</td>\n      <td>0.92638</td>\n    </tr>\n    <tr>\n      <td>236805</td>\n      <td>0.92727</td>\n    </tr>\n    <tr>\n      <td>76373</td>\n      <td>0.92814</td>\n    </tr>\n    <tr>\n      <td>87137</td>\n      <td>0.93252</td>\n    </tr>\n    <tr>\n      <td>9005</td>\n      <td>0.93252</td>\n    </tr>\n    <tr>\n      <td>231396</td>\n      <td>0.93293</td>\n    </tr>\n    <tr>\n      <td>111905</td>\n      <td>0.93333</td>\n    </tr>\n    <tr>\n      <td>236781</td>\n      <td>0.93333</td>\n    </tr>\n    <tr>\n      <td>23981</td>\n      <td>0.93789</td>\n    </tr>\n  </tbody>\n</table>\n</div>",
      "text/plain": "        jaccard_distance_sum\n13905                0.92593\n180905               0.92638\n236805               0.92727\n76373                0.92814\n87137                0.93252\n9005                 0.93252\n231396               0.93293\n111905               0.93333\n236781               0.93333\n23981                0.93789"
     },
     "execution_count": 754,
     "metadata": {},
     "output_type": "execute_result"
    }
   ],
   "source": [
    "## Jaccard - Vector fat top 10\n",
    "\n",
    "result_array = cdist(user_one_vector_fat, new_recipe_db_wo_userrecipes_fat,'jaccard')\n",
    "result_w_filter_vector_fat = pd.DataFrame(result_array, columns=new_recipe_db_wo_userrecipes_fat.index.values, index=user_one_vector_fat.index.values)\n",
    "\n",
    "\n",
    "result_w_filter_vector_10_fat = pd.DataFrame(result_w_filter_vector_fat.sum(), columns=['jaccard_distance_sum'])\n",
    "result_w_filter_vector_10_fat = result_w_filter_vector_10_fat.sort_values(by='jaccard_distance_sum')\n",
    "\n",
    "result_w_filter_vector_10_fat[0:10]\n"
   ]
  },
  {
   "cell_type": "code",
   "execution_count": 755,
   "metadata": {},
   "outputs": [
    {
     "data": {
      "text/html": "<div>\n<style scoped>\n    .dataframe tbody tr th:only-of-type {\n        vertical-align: middle;\n    }\n\n    .dataframe tbody tr th {\n        vertical-align: top;\n    }\n\n    .dataframe thead th {\n        text-align: right;\n    }\n</style>\n<table border=\"1\" class=\"dataframe\">\n  <thead>\n    <tr style=\"text-align: right;\">\n      <th></th>\n      <th>jaccard_distance_sum</th>\n    </tr>\n  </thead>\n  <tbody>\n    <tr>\n      <td>60631</td>\n      <td>0.90426</td>\n    </tr>\n    <tr>\n      <td>31988</td>\n      <td>0.90722</td>\n    </tr>\n    <tr>\n      <td>13905</td>\n      <td>0.90816</td>\n    </tr>\n    <tr>\n      <td>16220</td>\n      <td>0.90816</td>\n    </tr>\n    <tr>\n      <td>52299</td>\n      <td>0.91089</td>\n    </tr>\n    <tr>\n      <td>231706</td>\n      <td>0.91579</td>\n    </tr>\n    <tr>\n      <td>145843</td>\n      <td>0.91579</td>\n    </tr>\n    <tr>\n      <td>228917</td>\n      <td>0.91667</td>\n    </tr>\n    <tr>\n      <td>41690</td>\n      <td>0.91667</td>\n    </tr>\n    <tr>\n      <td>139915</td>\n      <td>0.91667</td>\n    </tr>\n  </tbody>\n</table>\n</div>",
      "text/plain": "        jaccard_distance_sum\n60631                0.90426\n31988                0.90722\n13905                0.90816\n16220                0.90816\n52299                0.91089\n231706               0.91579\n145843               0.91579\n228917               0.91667\n41690                0.91667\n139915               0.91667"
     },
     "execution_count": 755,
     "metadata": {},
     "output_type": "execute_result"
    }
   ],
   "source": [
    "## Jaccard - Vector normal top 10\n",
    "\n",
    "result_array = cdist(user_one_vector_normal, new_recipe_db_wo_userrecipes_normal,'jaccard')\n",
    "result_w_filter_vector_normal = pd.DataFrame(result_array, columns=new_recipe_db_wo_userrecipes_normal.index.values, index=user_one_vector_normal.index.values)\n",
    "\n",
    "\n",
    "result_w_filter_vector_10_normal = pd.DataFrame(result_w_filter_vector_normal.sum(), columns=['jaccard_distance_sum'])\n",
    "result_w_filter_vector_10_normal = result_w_filter_vector_10_normal.sort_values(by='jaccard_distance_sum')\n",
    "\n",
    "result_w_filter_vector_10_normal[0:10]\n"
   ]
  },
  {
   "cell_type": "code",
   "execution_count": 756,
   "metadata": {},
   "outputs": [
    {
     "data": {
      "text/plain": "array([ 60631,  31988,  13905,  16220,  52299, 231706, 145843, 228917,\n        41690, 139915])"
     },
     "execution_count": 756,
     "metadata": {},
     "output_type": "execute_result"
    }
   ],
   "source": [
    "result_w_filter_vector_10_normal[0:10].index.to_numpy()"
   ]
  },
  {
   "cell_type": "code",
   "execution_count": 757,
   "metadata": {},
   "outputs": [],
   "source": [
    "####### results"
   ]
  },
  {
   "cell_type": "code",
   "execution_count": 758,
   "metadata": {},
   "outputs": [
    {
     "data": {
      "text/plain": "array([ 12066,   8998, 167052,  18795,  82487, 161869,  26299,  75543,\n       238538,  21352, 158587, 235171,  23849, 221304,  18059, 169974,\n        72191, 206633,  36621,  23985,  56412,  36766,  14668, 229885,\n       239896, 237320, 234797,  40286, 231233, 219766,  38004,  16565,\n        32116,  11990,  84774,  23434, 147305,  18439, 235000,  60096])"
     },
     "execution_count": 758,
     "metadata": {},
     "output_type": "execute_result"
    }
   ],
   "source": [
    "# userrecipes fat\n",
    "sample_fat.index.to_numpy()"
   ]
  },
  {
   "cell_type": "code",
   "execution_count": 759,
   "metadata": {},
   "outputs": [
    {
     "data": {
      "text/plain": "array([238691,  11735,  16998,  19422,  18805,  18349,  11751, 230283,\n        12016, 102393])"
     },
     "execution_count": 759,
     "metadata": {},
     "output_type": "execute_result"
    }
   ],
   "source": [
    "###### jaccard fat top 10 naiv\n",
    "result_w_filter_10_fat[0:10].index.to_numpy()"
   ]
  },
  {
   "cell_type": "code",
   "execution_count": 760,
   "metadata": {},
   "outputs": [
    {
     "data": {
      "text/plain": "array(['index', 89261, 19423, 195045, 87624, 216231, 8621, 22725, 8734,\n       8715, 14140], dtype=object)"
     },
     "execution_count": 760,
     "metadata": {},
     "output_type": "execute_result"
    }
   ],
   "source": [
    "###### jaccard kurz fat top 10\n",
    "result_fat_short[0:11].index.to_numpy()\n"
   ]
  },
  {
   "cell_type": "code",
   "execution_count": 761,
   "metadata": {},
   "outputs": [
    {
     "data": {
      "text/plain": "array([ 13905, 180905, 236805,  76373,  87137,   9005, 231396, 111905,\n       236781,  23981])"
     },
     "execution_count": 761,
     "metadata": {},
     "output_type": "execute_result"
    }
   ],
   "source": [
    "###### jaccard vector fat top 10\n",
    "result_w_filter_vector_10_fat[0:10].index.to_numpy()"
   ]
  },
  {
   "cell_type": "code",
   "execution_count": null,
   "metadata": {},
   "outputs": [],
   "source": []
  },
  {
   "cell_type": "code",
   "execution_count": null,
   "metadata": {},
   "outputs": [],
   "source": []
  },
  {
   "cell_type": "code",
   "execution_count": null,
   "metadata": {},
   "outputs": [],
   "source": []
  },
  {
   "cell_type": "code",
   "execution_count": null,
   "metadata": {},
   "outputs": [],
   "source": []
  },
  {
   "cell_type": "code",
   "execution_count": 762,
   "metadata": {},
   "outputs": [
    {
     "data": {
      "text/plain": "array([104934,  23979,  14572,  22943,  60598,  12720,   9032,  66404,\n        87144, 236128,  47076,  88186,  16907,   8630,   8887, 242134,\n        45782, 132703, 213206,   8825])"
     },
     "execution_count": 762,
     "metadata": {},
     "output_type": "execute_result"
    }
   ],
   "source": [
    "# userrecipes normal\n",
    "sample_normal.index.to_numpy()"
   ]
  },
  {
   "cell_type": "code",
   "execution_count": 763,
   "metadata": {},
   "outputs": [
    {
     "data": {
      "text/plain": "array([228546,   8668,  17392,  60631,   8901,  15181, 240287,   8796,\n        24793, 140829])"
     },
     "execution_count": 763,
     "metadata": {},
     "output_type": "execute_result"
    }
   ],
   "source": [
    "###### jaccard normal top 10 naiv\n",
    "result_w_filter_10_normal[0:10].index.to_numpy()"
   ]
  },
  {
   "cell_type": "code",
   "execution_count": 764,
   "metadata": {},
   "outputs": [
    {
     "data": {
      "text/plain": "array(['index', 34116, 228546, 214413, 8974, 134137, 214479, 240287,\n       218093, 16812, 54196], dtype=object)"
     },
     "execution_count": 764,
     "metadata": {},
     "output_type": "execute_result"
    }
   ],
   "source": [
    "###### jaccard kurz normal top 10\n",
    "result_normal_short[0:11].index.to_numpy()\n"
   ]
  },
  {
   "cell_type": "code",
   "execution_count": 765,
   "metadata": {},
   "outputs": [
    {
     "data": {
      "text/plain": "array([ 60631,  31988,  13905,  16220,  52299, 231706, 145843, 228917,\n        41690, 139915])"
     },
     "execution_count": 765,
     "metadata": {},
     "output_type": "execute_result"
    }
   ],
   "source": [
    "###### jaccard vector normal top 10\n",
    "result_w_filter_vector_10_normal[0:10].index.to_numpy()"
   ]
  },
  {
   "cell_type": "code",
   "execution_count": 766,
   "metadata": {},
   "outputs": [
    {
     "data": {
      "text/plain": "array([ 12043, 214780,   8543,  34357, 214479,  49925, 219064,   8823,\n        16767,  46402])"
     },
     "execution_count": 766,
     "metadata": {},
     "output_type": "execute_result"
    }
   ],
   "source": [
    "##### random top 10\n",
    "subset_random_top10.index.to_numpy()"
   ]
  }
 ]
}