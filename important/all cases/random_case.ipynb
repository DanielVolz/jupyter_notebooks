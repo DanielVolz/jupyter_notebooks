{
 "nbformat": 4,
 "nbformat_minor": 2,
 "metadata": {
  "language_info": {
   "name": "python",
   "codemirror_mode": {
    "name": "ipython",
    "version": 3
   },
   "version": "3.7.6-final"
  },
  "orig_nbformat": 2,
  "file_extension": ".py",
  "mimetype": "text/x-python",
  "name": "python",
  "npconvert_exporter": "python",
  "pygments_lexer": "ipython3",
  "version": 3,
  "kernelspec": {
   "name": "python3",
   "display_name": "Python 3"
  }
 },
 "cells": [
  {
   "cell_type": "code",
   "execution_count": 251,
   "metadata": {},
   "outputs": [],
   "source": [
    "import json\n",
    "\n",
    "import numpy as np\n",
    "import pandas as pd\n",
    "import pymongo\n",
    "import scipy\n",
    "from bson import ObjectId, json_util\n",
    "from pandas.io.json import json_normalize\n",
    "from pymongo import MongoClient as Connection\n",
    "from scipy import sparse, spatial\n",
    "from scipy.spatial.distance import cdist, pdist, squareform\n",
    "from sklearn.metrics.pairwise import cosine_similarity\n",
    "\n",
    "# scientific notation disabled form smaller numbers\n",
    "pd.options.display.float_format = '{:.5f}'.format\n",
    "\n",
    "# alles resultate anzeigen und nicht nur das letzte\n",
    "from IPython.core.interactiveshell import InteractiveShell\n",
    "InteractiveShell.ast_node_interactivity = \"all\"\n",
    "\n"
   ]
  },
  {
   "cell_type": "code",
   "execution_count": 252,
   "metadata": {},
   "outputs": [
    {
     "data": {
      "text/html": "<style>\n.output {\n    flex-direction: row;\n}\n</style>",
      "text/plain": "<IPython.core.display.HTML object>"
     },
     "execution_count": 252,
     "metadata": {},
     "output_type": "execute_result"
    }
   ],
   "source": [
    "# display multiple outputs in one row\n",
    "import pandas as pd\n",
    "import numpy as np\n",
    "from IPython.display import display, HTML\n",
    "\n",
    "CSS = \"\"\"\n",
    ".output {\n",
    "    flex-direction: row;\n",
    "}\n",
    "\"\"\"\n",
    "\n",
    "HTML('<style>{}</style>'.format(CSS))"
   ]
  },
  {
   "cell_type": "code",
   "execution_count": 253,
   "metadata": {},
   "outputs": [],
   "source": [
    "connection = Connection()\n",
    "db = connection.recipe_db\n",
    "input_data = db.recipes_test_copy\n",
    "\n",
    "data = json.loads(json_util.dumps(input_data.find()))"
   ]
  },
  {
   "cell_type": "code",
   "execution_count": 254,
   "metadata": {},
   "outputs": [],
   "source": [
    "ing = pd.DataFrame(json_normalize(data, record_path='ingredients',\n",
    "                             meta='id', record_prefix='ingredients_', errors='ignore'))\n",
    "\n",
    "\n",
    "nutritions = pd.DataFrame(json_normalize(data, record_path='nutritions',\n",
    "                            meta=['id', 'prep_time', 'rating', 'rating_count', 'ready_in_time', 'review_count']))\n"
   ]
  },
  {
   "cell_type": "code",
   "execution_count": 255,
   "metadata": {},
   "outputs": [],
   "source": [
    "#  ------  erstellung und data cleansing - Ingredients\n",
    "\n",
    "# schmeiss alle zutaten raus, die weniger als 5 mal verwendet werden\n",
    "# setze multiinde auf 'id' und 'ingredients_id'\n",
    "ingredients = ing.set_index(['id', 'ingredients_id'])\n",
    "\n",
    "# filtere alle Zutaten samt ihrer rezepte id, die weniger gleich 5 mal vorkommen\n",
    "ingredients_eqles_5_ing = ingredients.groupby(\n",
    "    'ingredients_id').filter(lambda x: len(x) <= 5)\n",
    "\n",
    "# droppe alle rezepte, die eine Zutate besitzen, die weniger gleich 5 Mal vorkommen\n",
    "ingredients_filt = ingredients.drop(ingredients_eqles_5_ing.index.get_level_values('id').values, level=0)\n",
    "\n",
    "# drop alls rows with ingredients_id == 0\n",
    "ingredients_eqal_zero = ingredients_filt[ingredients_filt.index.get_level_values('ingredients_id') == 0]\n",
    "ingredients_filt = ingredients_filt.drop(ingredients_eqal_zero.index.get_level_values('id').values, level=0)\n"
   ]
  },
  {
   "cell_type": "code",
   "execution_count": 256,
   "metadata": {},
   "outputs": [],
   "source": [
    "#  ------ Erstellung und cleansing des Nutrition Dataframes\n",
    "\n",
    "# erstelle neue liste auf basis der bereits gefilterten rezepte aus ingredients_filt\n",
    "id_overlap_mask = nutritions['id'].isin(ingredients_filt.index.get_level_values('id').values)\n",
    "\n",
    "# erstelle datenframe auf basis der overlapliste\n",
    "nutritions_filt = nutritions.loc[id_overlap_mask]\n",
    "\n",
    "nutrition_db = nutritions_filt.pivot_table(\n",
    "    index=['id'],\n",
    "    columns=['name'],\n",
    "    values=['amount'],\n",
    ").reset_index()\n",
    "\n",
    "nutrition_db.set_index('id', inplace=True)\n",
    "\n",
    "# remove multiindex 'amount'\n",
    "nutrition_db.columns = nutrition_db.columns.droplevel(0)\n",
    "\n",
    "# entferne alle NA\n",
    "nutrition_db = nutrition_db.dropna()\n",
    "\n",
    "# gleiche nochmals die ids der beiden dataframe nutrition und ingredients ab, da der nutrition dataframe noch NA Werte hatt\n",
    "id_overlap_mask = ingredients_filt.index.get_level_values('id').isin(nutrition_db.index)\n",
    "ingredients_db = ingredients_filt[id_overlap_mask]\n",
    "\n",
    "# abgleich ob anzahl der indizes von nutrition und zutaten dataframe gleich sind\n"
   ]
  },
  {
   "cell_type": "code",
   "execution_count": 257,
   "metadata": {},
   "outputs": [],
   "source": [
    "\n",
    "\n",
    "ingredients_db.reset_index(inplace=True)\n",
    "\n",
    "recipe_db = pd.get_dummies(ingredients_db['ingredients_id']).groupby(\n",
    "    ingredients_db['id']).apply(max)\n",
    "\n"
   ]
  },
  {
   "cell_type": "code",
   "execution_count": 258,
   "metadata": {},
   "outputs": [],
   "source": [
    "new_ingredients = ingredients_db.copy()\n",
    "#new_ingredients = new_ingredients.groupby(\"id\")[\"ingredients_grams\"].sum().reset_index()\n",
    "gramms_ingredients = new_ingredients.groupby(\"id\")[\"ingredients_grams\"].sum().reset_index().copy()\n",
    "\n",
    "Q1 = gramms_ingredients.quantile(0.25)\n",
    "Q3 = gramms_ingredients.quantile(0.75)\n",
    "IQR = Q3 - Q1\n",
    "\n",
    "#Filter out all recipes which are outlier by their weight (gramms)\n",
    "df = gramms_ingredients[~((gramms_ingredients < (Q1 - 1.5 * IQR)) |(gramms_ingredients > (Q3 + 1.5 * IQR))).any(axis=1)].copy()\n",
    "\n",
    "#filter out recipes by weight which are not in the range 500 - 2373.59 gramms\n",
    "df_start_at_fivehundret = df[df['ingredients_grams'].between(500, 2373.58225, inclusive=False)].copy()\n",
    "\n",
    "df_start_at_fivehundret.set_index('id', inplace=True)\n",
    "id_overlap_mask = nutritions['id'].isin(df_start_at_fivehundret.index.get_level_values('id').values)\n",
    "\n",
    "\n",
    "# erstelle datenframe auf basis der overlapliste\n",
    "nutritions_filt_gramm = nutritions.loc[id_overlap_mask]\n",
    "\n",
    "nutrition_db2 = nutritions_filt_gramm.pivot_table(\n",
    "    index=['id'],\n",
    "    columns=['name'],\n",
    "    values=['amount'],\n",
    ").reset_index()\n",
    "\n",
    "#create new nutrition db based on the above filtering\n",
    "nutrition_db2.set_index('id', inplace=True)\n",
    "nutrition_db2.columns = nutrition_db2.columns.droplevel(0)\n",
    "\n"
   ]
  },
  {
   "cell_type": "code",
   "execution_count": 495,
   "metadata": {},
   "outputs": [],
   "source": [
    "#select 20 random recipes which are between the Fat-range of 35-40 gramms\n",
    "subset_fat = nutrition_db2[(nutrition_db2['Fat'] >= 35) & (nutrition_db2['Fat'] <= 40)].sample(n=40).copy()\n",
    "\n",
    "\n"
   ]
  },
  {
   "cell_type": "code",
   "execution_count": 497,
   "metadata": {},
   "outputs": [],
   "source": [
    "subset_normal = nutrition_db2.sample(n=20).copy()\n",
    "subset_normal_id = subset_normal.index.to_numpy()"
   ]
  },
  {
   "cell_type": "code",
   "execution_count": 498,
   "metadata": {},
   "outputs": [
    {
     "data": {
      "text/plain": "array([ 81051,  84737,  85375,  71251, 222079, 214188,  13420,  34942,\n        34361,  26601, 233391,   8886,  72133,  11739,  20921, 235158,\n        68578, 185519,  24783, 213701])"
     },
     "execution_count": 498,
     "metadata": {},
     "output_type": "execute_result"
    }
   ],
   "source": [
    "subset_fat_id = subset_fat.index.to_numpy()\n",
    "subset_normal.index.to_numpy()"
   ]
  },
  {
   "cell_type": "code",
   "execution_count": 499,
   "metadata": {},
   "outputs": [],
   "source": [
    "# remove recipes which are missing in nutrition df from the ingredients tecipes dataframe\n",
    "mask = recipe_db.index.isin(nutrition_db2.index.values)\n",
    "recipe_db = recipe_db.loc[mask]\n"
   ]
  },
  {
   "cell_type": "code",
   "execution_count": 500,
   "metadata": {},
   "outputs": [
    {
     "data": {
      "text/html": "<div>\n<style scoped>\n    .dataframe tbody tr th:only-of-type {\n        vertical-align: middle;\n    }\n\n    .dataframe tbody tr th {\n        vertical-align: top;\n    }\n\n    .dataframe thead th {\n        text-align: right;\n    }\n</style>\n<table border=\"1\" class=\"dataframe\">\n  <thead>\n    <tr style=\"text-align: right;\">\n      <th>name</th>\n      <th>Calcium</th>\n      <th>Calories</th>\n      <th>Calories from Fat</th>\n      <th>Carbohydrates</th>\n      <th>Cholesterol</th>\n      <th>Dietary Fiber</th>\n      <th>Fat</th>\n      <th>Folate</th>\n      <th>Iron</th>\n      <th>Magnesium</th>\n      <th>Niacin Equivalents</th>\n      <th>Potassium</th>\n      <th>Protein</th>\n      <th>Saturated Fat</th>\n      <th>Sodium</th>\n      <th>Sugars</th>\n      <th>Thiamin</th>\n      <th>Vitamin A - IU</th>\n      <th>Vitamin B6</th>\n      <th>Vitamin C</th>\n    </tr>\n  </thead>\n  <tbody>\n    <tr>\n      <td>count</td>\n      <td>40.00000</td>\n      <td>40.00000</td>\n      <td>40.00000</td>\n      <td>40.00000</td>\n      <td>40.00000</td>\n      <td>40.00000</td>\n      <td>40.00000</td>\n      <td>40.00000</td>\n      <td>40.00000</td>\n      <td>40.00000</td>\n      <td>40.00000</td>\n      <td>40.00000</td>\n      <td>40.00000</td>\n      <td>40.00000</td>\n      <td>40.00000</td>\n      <td>40.00000</td>\n      <td>40.00000</td>\n      <td>40.00000</td>\n      <td>40.00000</td>\n      <td>40.00000</td>\n    </tr>\n    <tr>\n      <td>mean</td>\n      <td>187.05522</td>\n      <td>624.57142</td>\n      <td>335.74093</td>\n      <td>38.59820</td>\n      <td>119.09344</td>\n      <td>3.65197</td>\n      <td>37.30455</td>\n      <td>79.06782</td>\n      <td>3.83121</td>\n      <td>63.69323</td>\n      <td>14.77116</td>\n      <td>703.21881</td>\n      <td>33.39013</td>\n      <td>15.22493</td>\n      <td>905.67327</td>\n      <td>5.76267</td>\n      <td>0.39613</td>\n      <td>1557.70814</td>\n      <td>0.62261</td>\n      <td>23.62058</td>\n    </tr>\n    <tr>\n      <td>std</td>\n      <td>184.02054</td>\n      <td>149.19968</td>\n      <td>13.59677</td>\n      <td>30.90561</td>\n      <td>44.28798</td>\n      <td>3.23066</td>\n      <td>1.51075</td>\n      <td>69.85221</td>\n      <td>2.19255</td>\n      <td>30.08197</td>\n      <td>7.12187</td>\n      <td>290.60403</td>\n      <td>10.59393</td>\n      <td>5.14999</td>\n      <td>609.31445</td>\n      <td>6.87882</td>\n      <td>0.32872</td>\n      <td>1777.73681</td>\n      <td>0.24946</td>\n      <td>31.58551</td>\n    </tr>\n    <tr>\n      <td>min</td>\n      <td>19.97880</td>\n      <td>390.71980</td>\n      <td>316.80870</td>\n      <td>1.52447</td>\n      <td>41.73750</td>\n      <td>0.00000</td>\n      <td>35.20097</td>\n      <td>3.39608</td>\n      <td>0.52164</td>\n      <td>3.57022</td>\n      <td>0.15610</td>\n      <td>287.94660</td>\n      <td>14.97870</td>\n      <td>5.39091</td>\n      <td>176.44010</td>\n      <td>0.09294</td>\n      <td>0.00777</td>\n      <td>1.03520</td>\n      <td>0.01814</td>\n      <td>1.46800</td>\n    </tr>\n    <tr>\n      <td>25%</td>\n      <td>52.60393</td>\n      <td>499.92448</td>\n      <td>322.27590</td>\n      <td>7.63163</td>\n      <td>85.63534</td>\n      <td>1.31421</td>\n      <td>35.80844</td>\n      <td>23.38468</td>\n      <td>2.08828</td>\n      <td>40.90641</td>\n      <td>9.71164</td>\n      <td>489.90708</td>\n      <td>24.82938</td>\n      <td>11.87391</td>\n      <td>485.23282</td>\n      <td>2.20282</td>\n      <td>0.13024</td>\n      <td>506.54450</td>\n      <td>0.45036</td>\n      <td>4.15122</td>\n    </tr>\n    <tr>\n      <td>50%</td>\n      <td>114.51445</td>\n      <td>601.08895</td>\n      <td>337.38870</td>\n      <td>32.97740</td>\n      <td>115.65520</td>\n      <td>3.19061</td>\n      <td>37.48763</td>\n      <td>43.79744</td>\n      <td>3.57956</td>\n      <td>61.88055</td>\n      <td>13.09494</td>\n      <td>650.90130</td>\n      <td>33.88768</td>\n      <td>14.36562</td>\n      <td>737.89765</td>\n      <td>3.42023</td>\n      <td>0.30761</td>\n      <td>967.06095</td>\n      <td>0.58153</td>\n      <td>11.58257</td>\n    </tr>\n    <tr>\n      <td>75%</td>\n      <td>268.86090</td>\n      <td>729.82555</td>\n      <td>346.13813</td>\n      <td>61.61826</td>\n      <td>145.95542</td>\n      <td>5.12797</td>\n      <td>38.45979</td>\n      <td>150.71375</td>\n      <td>5.18045</td>\n      <td>84.08676</td>\n      <td>19.42007</td>\n      <td>911.75970</td>\n      <td>39.96850</td>\n      <td>18.68514</td>\n      <td>1199.23500</td>\n      <td>6.03771</td>\n      <td>0.64958</td>\n      <td>1479.07775</td>\n      <td>0.77560</td>\n      <td>29.04101</td>\n    </tr>\n    <tr>\n      <td>max</td>\n      <td>754.39730</td>\n      <td>913.19660</td>\n      <td>358.13450</td>\n      <td>104.27430</td>\n      <td>235.15100</td>\n      <td>12.12185</td>\n      <td>39.79272</td>\n      <td>220.80870</td>\n      <td>9.38980</td>\n      <td>134.55390</td>\n      <td>31.50643</td>\n      <td>1642.20400</td>\n      <td>56.95351</td>\n      <td>26.64622</td>\n      <td>3117.70600</td>\n      <td>35.81975</td>\n      <td>1.16834</td>\n      <td>7995.90300</td>\n      <td>1.29310</td>\n      <td>147.35700</td>\n    </tr>\n  </tbody>\n</table>\n</div>",
      "text/plain": "name    Calcium  Calories  Calories from Fat  Carbohydrates  Cholesterol  \\\ncount  40.00000  40.00000           40.00000       40.00000     40.00000   \nmean  187.05522 624.57142          335.74093       38.59820    119.09344   \nstd   184.02054 149.19968           13.59677       30.90561     44.28798   \nmin    19.97880 390.71980          316.80870        1.52447     41.73750   \n25%    52.60393 499.92448          322.27590        7.63163     85.63534   \n50%   114.51445 601.08895          337.38870       32.97740    115.65520   \n75%   268.86090 729.82555          346.13813       61.61826    145.95542   \nmax   754.39730 913.19660          358.13450      104.27430    235.15100   \n\nname   Dietary Fiber      Fat    Folate     Iron  Magnesium  \\\ncount       40.00000 40.00000  40.00000 40.00000   40.00000   \nmean         3.65197 37.30455  79.06782  3.83121   63.69323   \nstd          3.23066  1.51075  69.85221  2.19255   30.08197   \nmin          0.00000 35.20097   3.39608  0.52164    3.57022   \n25%          1.31421 35.80844  23.38468  2.08828   40.90641   \n50%          3.19061 37.48763  43.79744  3.57956   61.88055   \n75%          5.12797 38.45979 150.71375  5.18045   84.08676   \nmax         12.12185 39.79272 220.80870  9.38980  134.55390   \n\nname   Niacin Equivalents  Potassium  Protein  Saturated Fat     Sodium  \\\ncount            40.00000   40.00000 40.00000       40.00000   40.00000   \nmean             14.77116  703.21881 33.39013       15.22493  905.67327   \nstd               7.12187  290.60403 10.59393        5.14999  609.31445   \nmin               0.15610  287.94660 14.97870        5.39091  176.44010   \n25%               9.71164  489.90708 24.82938       11.87391  485.23282   \n50%              13.09494  650.90130 33.88768       14.36562  737.89765   \n75%              19.42007  911.75970 39.96850       18.68514 1199.23500   \nmax              31.50643 1642.20400 56.95351       26.64622 3117.70600   \n\nname    Sugars  Thiamin  Vitamin A - IU  Vitamin B6  Vitamin C  \ncount 40.00000 40.00000        40.00000    40.00000   40.00000  \nmean   5.76267  0.39613      1557.70814     0.62261   23.62058  \nstd    6.87882  0.32872      1777.73681     0.24946   31.58551  \nmin    0.09294  0.00777         1.03520     0.01814    1.46800  \n25%    2.20282  0.13024       506.54450     0.45036    4.15122  \n50%    3.42023  0.30761       967.06095     0.58153   11.58257  \n75%    6.03771  0.64958      1479.07775     0.77560   29.04101  \nmax   35.81975  1.16834      7995.90300     1.29310  147.35700  "
     },
     "execution_count": 500,
     "metadata": {},
     "output_type": "execute_result"
    }
   ],
   "source": [
    "subset_fat.describe()"
   ]
  },
  {
   "cell_type": "code",
   "execution_count": 501,
   "metadata": {},
   "outputs": [],
   "source": [
    "user_recipes_fat = recipe_db[recipe_db.index.isin(subset_fat_id)]\n",
    "user_recipes_normal = recipe_db[recipe_db.index.isin(subset_normal_id)]"
   ]
  },
  {
   "cell_type": "code",
   "execution_count": 502,
   "metadata": {},
   "outputs": [],
   "source": [
    "#top10 most common ingredients\n",
    "#16421    2125 salt\n",
    "#4342     1506 garlic\n",
    "#4397     1412 onion\n",
    "#16406    1185 ground black pepper\n",
    "#16157    1016 butter\n",
    "#6307      944 olive oil\n",
    "#6494      786 skinless bone less chicken breast\n",
    "#2496      749 water\n",
    "#16238     574 grated Parmesan cheese\n",
    "#16317     538 eggs\n",
    "\n",
    "\n",
    "drop_id_list = [16421, 4342, 4397, 16406, 16157, 6307, 6494, 2496, 16238, 16317]\n",
    "\n",
    "\n",
    "\n"
   ]
  },
  {
   "cell_type": "code",
   "execution_count": 503,
   "metadata": {},
   "outputs": [
    {
     "data": {
      "text/plain": "array([ 48873,  16966,  56412,   8556,  16682,  21352,  14735,  42967,\n        17496, 213140, 231537,  84774, 219173,  26299,   8679, 132703,\n        30007, 234797, 235000,  38028,   8630,  76808, 202881,  82487,\n        14668,  16260, 229247, 169322,  22702,  87137,  25137, 140135,\n       149738,  76763,  72191,  62706, 214785,  40286,  18397, 164208])"
     },
     "execution_count": 503,
     "metadata": {},
     "output_type": "execute_result"
    }
   ],
   "source": [
    "subset_fat_id"
   ]
  },
  {
   "cell_type": "code",
   "execution_count": 504,
   "metadata": {},
   "outputs": [
    {
     "data": {
      "text/plain": "array([ 81051,  84737,  85375,  71251, 222079, 214188,  13420,  34942,\n        34361,  26601, 233391,   8886,  72133,  11739,  20921, 235158,\n        68578, 185519,  24783, 213701])"
     },
     "execution_count": 504,
     "metadata": {},
     "output_type": "execute_result"
    }
   ],
   "source": [
    "subset_normal_id"
   ]
  },
  {
   "cell_type": "code",
   "execution_count": 505,
   "metadata": {},
   "outputs": [],
   "source": [
    "#filter out ingredients which are too common and the recipes in the user profile from the recipes database\n",
    "new_recipe_db = recipe_db.drop(axis=1, labels=drop_id_list)\n",
    "new_recipe_db_wo_userrecipes_fat = new_recipe_db.drop(axis=0, labels=subset_fat_id)\n",
    "new_recipe_db_wo_userrecipes_normal = new_recipe_db.drop(axis=0, labels=subset_normal_id)"
   ]
  },
  {
   "cell_type": "code",
   "execution_count": 506,
   "metadata": {},
   "outputs": [],
   "source": [
    "#remove basic ingredients like garlic, olive oil, skinless bone less chicken breast, butter, milk, salt and pepper, onion\n",
    "new_user_recipes_fat = user_recipes_fat.drop(axis=1, labels=drop_id_list)\n",
    "new_user_recipes_normal = user_recipes_normal.drop(axis=1, labels=drop_id_list)"
   ]
  },
  {
   "cell_type": "code",
   "execution_count": 507,
   "metadata": {},
   "outputs": [],
   "source": [
    "asd = new_user_recipes_fat"
   ]
  },
  {
   "cell_type": "code",
   "execution_count": 590,
   "metadata": {},
   "outputs": [
    {
     "data": {
      "text/html": "<div>\n<style scoped>\n    .dataframe tbody tr th:only-of-type {\n        vertical-align: middle;\n    }\n\n    .dataframe tbody tr th {\n        vertical-align: top;\n    }\n\n    .dataframe thead th {\n        text-align: right;\n    }\n</style>\n<table border=\"1\" class=\"dataframe\">\n  <thead>\n    <tr style=\"text-align: right;\">\n      <th></th>\n      <th>111</th>\n      <th>126</th>\n      <th>257</th>\n      <th>443</th>\n      <th>445</th>\n      <th>578</th>\n      <th>615</th>\n      <th>629</th>\n      <th>631</th>\n      <th>858</th>\n      <th>...</th>\n      <th>23047</th>\n      <th>23274</th>\n      <th>23383</th>\n      <th>24865</th>\n      <th>25518</th>\n      <th>25522</th>\n      <th>26269</th>\n      <th>26934</th>\n      <th>27343</th>\n      <th>27805</th>\n    </tr>\n    <tr>\n      <th>id</th>\n      <th></th>\n      <th></th>\n      <th></th>\n      <th></th>\n      <th></th>\n      <th></th>\n      <th></th>\n      <th></th>\n      <th></th>\n      <th></th>\n      <th></th>\n      <th></th>\n      <th></th>\n      <th></th>\n      <th></th>\n      <th></th>\n      <th></th>\n      <th></th>\n      <th></th>\n      <th></th>\n      <th></th>\n    </tr>\n  </thead>\n  <tbody>\n    <tr>\n      <td>8556</td>\n      <td>0</td>\n      <td>0</td>\n      <td>0</td>\n      <td>0</td>\n      <td>0</td>\n      <td>0</td>\n      <td>0</td>\n      <td>0</td>\n      <td>0</td>\n      <td>0</td>\n      <td>...</td>\n      <td>0</td>\n      <td>0</td>\n      <td>0</td>\n      <td>0</td>\n      <td>0</td>\n      <td>0</td>\n      <td>0</td>\n      <td>0</td>\n      <td>0</td>\n      <td>0</td>\n    </tr>\n    <tr>\n      <td>8630</td>\n      <td>0</td>\n      <td>0</td>\n      <td>0</td>\n      <td>0</td>\n      <td>0</td>\n      <td>0</td>\n      <td>0</td>\n      <td>0</td>\n      <td>0</td>\n      <td>0</td>\n      <td>...</td>\n      <td>0</td>\n      <td>0</td>\n      <td>0</td>\n      <td>0</td>\n      <td>0</td>\n      <td>0</td>\n      <td>0</td>\n      <td>0</td>\n      <td>0</td>\n      <td>0</td>\n    </tr>\n    <tr>\n      <td>8679</td>\n      <td>0</td>\n      <td>0</td>\n      <td>0</td>\n      <td>0</td>\n      <td>0</td>\n      <td>0</td>\n      <td>0</td>\n      <td>0</td>\n      <td>0</td>\n      <td>0</td>\n      <td>...</td>\n      <td>0</td>\n      <td>0</td>\n      <td>0</td>\n      <td>0</td>\n      <td>0</td>\n      <td>0</td>\n      <td>0</td>\n      <td>0</td>\n      <td>0</td>\n      <td>0</td>\n    </tr>\n    <tr>\n      <td>14668</td>\n      <td>0</td>\n      <td>0</td>\n      <td>0</td>\n      <td>0</td>\n      <td>0</td>\n      <td>0</td>\n      <td>0</td>\n      <td>0</td>\n      <td>0</td>\n      <td>0</td>\n      <td>...</td>\n      <td>0</td>\n      <td>0</td>\n      <td>0</td>\n      <td>0</td>\n      <td>0</td>\n      <td>0</td>\n      <td>0</td>\n      <td>0</td>\n      <td>0</td>\n      <td>0</td>\n    </tr>\n    <tr>\n      <td>14735</td>\n      <td>0</td>\n      <td>0</td>\n      <td>0</td>\n      <td>0</td>\n      <td>0</td>\n      <td>0</td>\n      <td>0</td>\n      <td>0</td>\n      <td>0</td>\n      <td>0</td>\n      <td>...</td>\n      <td>0</td>\n      <td>0</td>\n      <td>0</td>\n      <td>0</td>\n      <td>0</td>\n      <td>0</td>\n      <td>0</td>\n      <td>0</td>\n      <td>0</td>\n      <td>0</td>\n    </tr>\n    <tr>\n      <td>16260</td>\n      <td>0</td>\n      <td>0</td>\n      <td>0</td>\n      <td>0</td>\n      <td>0</td>\n      <td>0</td>\n      <td>0</td>\n      <td>0</td>\n      <td>0</td>\n      <td>0</td>\n      <td>...</td>\n      <td>0</td>\n      <td>0</td>\n      <td>0</td>\n      <td>0</td>\n      <td>0</td>\n      <td>0</td>\n      <td>0</td>\n      <td>0</td>\n      <td>0</td>\n      <td>0</td>\n    </tr>\n    <tr>\n      <td>16682</td>\n      <td>0</td>\n      <td>0</td>\n      <td>0</td>\n      <td>0</td>\n      <td>0</td>\n      <td>0</td>\n      <td>0</td>\n      <td>0</td>\n      <td>0</td>\n      <td>0</td>\n      <td>...</td>\n      <td>0</td>\n      <td>0</td>\n      <td>0</td>\n      <td>0</td>\n      <td>0</td>\n      <td>0</td>\n      <td>0</td>\n      <td>0</td>\n      <td>0</td>\n      <td>0</td>\n    </tr>\n    <tr>\n      <td>16966</td>\n      <td>0</td>\n      <td>0</td>\n      <td>0</td>\n      <td>0</td>\n      <td>0</td>\n      <td>0</td>\n      <td>0</td>\n      <td>0</td>\n      <td>0</td>\n      <td>0</td>\n      <td>...</td>\n      <td>0</td>\n      <td>0</td>\n      <td>0</td>\n      <td>0</td>\n      <td>0</td>\n      <td>0</td>\n      <td>0</td>\n      <td>0</td>\n      <td>0</td>\n      <td>0</td>\n    </tr>\n    <tr>\n      <td>17496</td>\n      <td>0</td>\n      <td>0</td>\n      <td>0</td>\n      <td>0</td>\n      <td>0</td>\n      <td>0</td>\n      <td>0</td>\n      <td>0</td>\n      <td>0</td>\n      <td>0</td>\n      <td>...</td>\n      <td>0</td>\n      <td>0</td>\n      <td>0</td>\n      <td>0</td>\n      <td>0</td>\n      <td>0</td>\n      <td>0</td>\n      <td>0</td>\n      <td>0</td>\n      <td>0</td>\n    </tr>\n    <tr>\n      <td>18397</td>\n      <td>0</td>\n      <td>0</td>\n      <td>0</td>\n      <td>0</td>\n      <td>0</td>\n      <td>0</td>\n      <td>0</td>\n      <td>0</td>\n      <td>0</td>\n      <td>0</td>\n      <td>...</td>\n      <td>0</td>\n      <td>0</td>\n      <td>0</td>\n      <td>0</td>\n      <td>0</td>\n      <td>0</td>\n      <td>0</td>\n      <td>0</td>\n      <td>0</td>\n      <td>0</td>\n    </tr>\n    <tr>\n      <td>21352</td>\n      <td>0</td>\n      <td>0</td>\n      <td>0</td>\n      <td>0</td>\n      <td>0</td>\n      <td>0</td>\n      <td>0</td>\n      <td>0</td>\n      <td>0</td>\n      <td>0</td>\n      <td>...</td>\n      <td>0</td>\n      <td>0</td>\n      <td>0</td>\n      <td>0</td>\n      <td>0</td>\n      <td>0</td>\n      <td>0</td>\n      <td>0</td>\n      <td>0</td>\n      <td>0</td>\n    </tr>\n    <tr>\n      <td>22702</td>\n      <td>0</td>\n      <td>0</td>\n      <td>0</td>\n      <td>0</td>\n      <td>0</td>\n      <td>0</td>\n      <td>0</td>\n      <td>0</td>\n      <td>0</td>\n      <td>0</td>\n      <td>...</td>\n      <td>0</td>\n      <td>0</td>\n      <td>0</td>\n      <td>0</td>\n      <td>0</td>\n      <td>0</td>\n      <td>0</td>\n      <td>0</td>\n      <td>0</td>\n      <td>0</td>\n    </tr>\n    <tr>\n      <td>25137</td>\n      <td>0</td>\n      <td>0</td>\n      <td>0</td>\n      <td>0</td>\n      <td>0</td>\n      <td>0</td>\n      <td>0</td>\n      <td>0</td>\n      <td>0</td>\n      <td>0</td>\n      <td>...</td>\n      <td>0</td>\n      <td>0</td>\n      <td>0</td>\n      <td>0</td>\n      <td>0</td>\n      <td>0</td>\n      <td>0</td>\n      <td>0</td>\n      <td>0</td>\n      <td>0</td>\n    </tr>\n    <tr>\n      <td>26299</td>\n      <td>0</td>\n      <td>0</td>\n      <td>0</td>\n      <td>0</td>\n      <td>0</td>\n      <td>0</td>\n      <td>0</td>\n      <td>0</td>\n      <td>0</td>\n      <td>0</td>\n      <td>...</td>\n      <td>0</td>\n      <td>0</td>\n      <td>0</td>\n      <td>0</td>\n      <td>0</td>\n      <td>0</td>\n      <td>0</td>\n      <td>0</td>\n      <td>0</td>\n      <td>0</td>\n    </tr>\n    <tr>\n      <td>30007</td>\n      <td>0</td>\n      <td>0</td>\n      <td>0</td>\n      <td>0</td>\n      <td>0</td>\n      <td>0</td>\n      <td>0</td>\n      <td>0</td>\n      <td>0</td>\n      <td>0</td>\n      <td>...</td>\n      <td>0</td>\n      <td>0</td>\n      <td>0</td>\n      <td>0</td>\n      <td>0</td>\n      <td>0</td>\n      <td>0</td>\n      <td>0</td>\n      <td>0</td>\n      <td>0</td>\n    </tr>\n    <tr>\n      <td>38028</td>\n      <td>0</td>\n      <td>0</td>\n      <td>0</td>\n      <td>0</td>\n      <td>0</td>\n      <td>0</td>\n      <td>0</td>\n      <td>0</td>\n      <td>0</td>\n      <td>0</td>\n      <td>...</td>\n      <td>0</td>\n      <td>0</td>\n      <td>0</td>\n      <td>0</td>\n      <td>0</td>\n      <td>0</td>\n      <td>0</td>\n      <td>0</td>\n      <td>0</td>\n      <td>0</td>\n    </tr>\n    <tr>\n      <td>40286</td>\n      <td>0</td>\n      <td>0</td>\n      <td>0</td>\n      <td>0</td>\n      <td>0</td>\n      <td>0</td>\n      <td>0</td>\n      <td>0</td>\n      <td>0</td>\n      <td>0</td>\n      <td>...</td>\n      <td>0</td>\n      <td>0</td>\n      <td>0</td>\n      <td>0</td>\n      <td>0</td>\n      <td>0</td>\n      <td>0</td>\n      <td>0</td>\n      <td>0</td>\n      <td>0</td>\n    </tr>\n    <tr>\n      <td>42967</td>\n      <td>0</td>\n      <td>0</td>\n      <td>0</td>\n      <td>0</td>\n      <td>0</td>\n      <td>0</td>\n      <td>0</td>\n      <td>0</td>\n      <td>0</td>\n      <td>0</td>\n      <td>...</td>\n      <td>0</td>\n      <td>0</td>\n      <td>0</td>\n      <td>0</td>\n      <td>0</td>\n      <td>0</td>\n      <td>0</td>\n      <td>0</td>\n      <td>0</td>\n      <td>0</td>\n    </tr>\n    <tr>\n      <td>48873</td>\n      <td>0</td>\n      <td>0</td>\n      <td>0</td>\n      <td>0</td>\n      <td>0</td>\n      <td>0</td>\n      <td>0</td>\n      <td>0</td>\n      <td>0</td>\n      <td>0</td>\n      <td>...</td>\n      <td>0</td>\n      <td>0</td>\n      <td>0</td>\n      <td>0</td>\n      <td>0</td>\n      <td>0</td>\n      <td>0</td>\n      <td>0</td>\n      <td>0</td>\n      <td>0</td>\n    </tr>\n    <tr>\n      <td>56412</td>\n      <td>0</td>\n      <td>0</td>\n      <td>0</td>\n      <td>0</td>\n      <td>0</td>\n      <td>0</td>\n      <td>0</td>\n      <td>0</td>\n      <td>0</td>\n      <td>0</td>\n      <td>...</td>\n      <td>0</td>\n      <td>0</td>\n      <td>0</td>\n      <td>0</td>\n      <td>0</td>\n      <td>0</td>\n      <td>0</td>\n      <td>0</td>\n      <td>0</td>\n      <td>0</td>\n    </tr>\n    <tr>\n      <td>62706</td>\n      <td>0</td>\n      <td>0</td>\n      <td>0</td>\n      <td>0</td>\n      <td>0</td>\n      <td>0</td>\n      <td>0</td>\n      <td>0</td>\n      <td>0</td>\n      <td>0</td>\n      <td>...</td>\n      <td>0</td>\n      <td>0</td>\n      <td>0</td>\n      <td>0</td>\n      <td>0</td>\n      <td>0</td>\n      <td>0</td>\n      <td>0</td>\n      <td>0</td>\n      <td>0</td>\n    </tr>\n    <tr>\n      <td>72191</td>\n      <td>0</td>\n      <td>0</td>\n      <td>0</td>\n      <td>0</td>\n      <td>0</td>\n      <td>0</td>\n      <td>0</td>\n      <td>0</td>\n      <td>0</td>\n      <td>0</td>\n      <td>...</td>\n      <td>0</td>\n      <td>0</td>\n      <td>0</td>\n      <td>0</td>\n      <td>0</td>\n      <td>0</td>\n      <td>0</td>\n      <td>0</td>\n      <td>0</td>\n      <td>0</td>\n    </tr>\n    <tr>\n      <td>76763</td>\n      <td>0</td>\n      <td>0</td>\n      <td>0</td>\n      <td>0</td>\n      <td>0</td>\n      <td>0</td>\n      <td>0</td>\n      <td>0</td>\n      <td>0</td>\n      <td>0</td>\n      <td>...</td>\n      <td>0</td>\n      <td>0</td>\n      <td>0</td>\n      <td>0</td>\n      <td>0</td>\n      <td>0</td>\n      <td>0</td>\n      <td>0</td>\n      <td>0</td>\n      <td>0</td>\n    </tr>\n    <tr>\n      <td>76808</td>\n      <td>0</td>\n      <td>0</td>\n      <td>0</td>\n      <td>0</td>\n      <td>0</td>\n      <td>0</td>\n      <td>0</td>\n      <td>0</td>\n      <td>0</td>\n      <td>0</td>\n      <td>...</td>\n      <td>0</td>\n      <td>0</td>\n      <td>0</td>\n      <td>0</td>\n      <td>0</td>\n      <td>0</td>\n      <td>0</td>\n      <td>0</td>\n      <td>0</td>\n      <td>0</td>\n    </tr>\n    <tr>\n      <td>82487</td>\n      <td>0</td>\n      <td>0</td>\n      <td>0</td>\n      <td>0</td>\n      <td>0</td>\n      <td>0</td>\n      <td>0</td>\n      <td>0</td>\n      <td>0</td>\n      <td>0</td>\n      <td>...</td>\n      <td>0</td>\n      <td>0</td>\n      <td>0</td>\n      <td>0</td>\n      <td>0</td>\n      <td>0</td>\n      <td>0</td>\n      <td>0</td>\n      <td>0</td>\n      <td>0</td>\n    </tr>\n    <tr>\n      <td>84774</td>\n      <td>0</td>\n      <td>0</td>\n      <td>0</td>\n      <td>0</td>\n      <td>0</td>\n      <td>0</td>\n      <td>0</td>\n      <td>0</td>\n      <td>0</td>\n      <td>0</td>\n      <td>...</td>\n      <td>0</td>\n      <td>0</td>\n      <td>0</td>\n      <td>0</td>\n      <td>0</td>\n      <td>0</td>\n      <td>0</td>\n      <td>0</td>\n      <td>0</td>\n      <td>0</td>\n    </tr>\n    <tr>\n      <td>87137</td>\n      <td>0</td>\n      <td>0</td>\n      <td>0</td>\n      <td>0</td>\n      <td>0</td>\n      <td>0</td>\n      <td>0</td>\n      <td>0</td>\n      <td>0</td>\n      <td>0</td>\n      <td>...</td>\n      <td>0</td>\n      <td>0</td>\n      <td>0</td>\n      <td>0</td>\n      <td>0</td>\n      <td>0</td>\n      <td>0</td>\n      <td>0</td>\n      <td>0</td>\n      <td>0</td>\n    </tr>\n    <tr>\n      <td>132703</td>\n      <td>0</td>\n      <td>0</td>\n      <td>0</td>\n      <td>0</td>\n      <td>0</td>\n      <td>0</td>\n      <td>0</td>\n      <td>0</td>\n      <td>0</td>\n      <td>0</td>\n      <td>...</td>\n      <td>0</td>\n      <td>0</td>\n      <td>0</td>\n      <td>0</td>\n      <td>0</td>\n      <td>0</td>\n      <td>0</td>\n      <td>0</td>\n      <td>0</td>\n      <td>0</td>\n    </tr>\n    <tr>\n      <td>140135</td>\n      <td>0</td>\n      <td>0</td>\n      <td>0</td>\n      <td>0</td>\n      <td>0</td>\n      <td>0</td>\n      <td>0</td>\n      <td>0</td>\n      <td>0</td>\n      <td>0</td>\n      <td>...</td>\n      <td>0</td>\n      <td>0</td>\n      <td>0</td>\n      <td>0</td>\n      <td>0</td>\n      <td>0</td>\n      <td>0</td>\n      <td>0</td>\n      <td>0</td>\n      <td>0</td>\n    </tr>\n    <tr>\n      <td>149738</td>\n      <td>0</td>\n      <td>0</td>\n      <td>0</td>\n      <td>0</td>\n      <td>0</td>\n      <td>0</td>\n      <td>0</td>\n      <td>0</td>\n      <td>0</td>\n      <td>0</td>\n      <td>...</td>\n      <td>0</td>\n      <td>0</td>\n      <td>0</td>\n      <td>0</td>\n      <td>0</td>\n      <td>0</td>\n      <td>0</td>\n      <td>0</td>\n      <td>0</td>\n      <td>0</td>\n    </tr>\n    <tr>\n      <td>164208</td>\n      <td>0</td>\n      <td>0</td>\n      <td>0</td>\n      <td>0</td>\n      <td>0</td>\n      <td>0</td>\n      <td>0</td>\n      <td>0</td>\n      <td>0</td>\n      <td>0</td>\n      <td>...</td>\n      <td>0</td>\n      <td>0</td>\n      <td>0</td>\n      <td>0</td>\n      <td>0</td>\n      <td>0</td>\n      <td>0</td>\n      <td>0</td>\n      <td>0</td>\n      <td>0</td>\n    </tr>\n    <tr>\n      <td>169322</td>\n      <td>0</td>\n      <td>0</td>\n      <td>0</td>\n      <td>0</td>\n      <td>0</td>\n      <td>0</td>\n      <td>0</td>\n      <td>0</td>\n      <td>0</td>\n      <td>0</td>\n      <td>...</td>\n      <td>0</td>\n      <td>0</td>\n      <td>0</td>\n      <td>0</td>\n      <td>0</td>\n      <td>0</td>\n      <td>0</td>\n      <td>0</td>\n      <td>0</td>\n      <td>0</td>\n    </tr>\n    <tr>\n      <td>202881</td>\n      <td>0</td>\n      <td>0</td>\n      <td>0</td>\n      <td>0</td>\n      <td>0</td>\n      <td>0</td>\n      <td>0</td>\n      <td>0</td>\n      <td>0</td>\n      <td>0</td>\n      <td>...</td>\n      <td>0</td>\n      <td>0</td>\n      <td>0</td>\n      <td>0</td>\n      <td>0</td>\n      <td>0</td>\n      <td>0</td>\n      <td>0</td>\n      <td>0</td>\n      <td>0</td>\n    </tr>\n    <tr>\n      <td>213140</td>\n      <td>0</td>\n      <td>0</td>\n      <td>0</td>\n      <td>0</td>\n      <td>0</td>\n      <td>0</td>\n      <td>0</td>\n      <td>0</td>\n      <td>0</td>\n      <td>0</td>\n      <td>...</td>\n      <td>0</td>\n      <td>0</td>\n      <td>0</td>\n      <td>0</td>\n      <td>0</td>\n      <td>0</td>\n      <td>0</td>\n      <td>0</td>\n      <td>0</td>\n      <td>0</td>\n    </tr>\n    <tr>\n      <td>214785</td>\n      <td>0</td>\n      <td>0</td>\n      <td>0</td>\n      <td>0</td>\n      <td>0</td>\n      <td>0</td>\n      <td>0</td>\n      <td>0</td>\n      <td>0</td>\n      <td>0</td>\n      <td>...</td>\n      <td>0</td>\n      <td>0</td>\n      <td>0</td>\n      <td>0</td>\n      <td>0</td>\n      <td>0</td>\n      <td>0</td>\n      <td>0</td>\n      <td>0</td>\n      <td>0</td>\n    </tr>\n    <tr>\n      <td>219173</td>\n      <td>0</td>\n      <td>0</td>\n      <td>0</td>\n      <td>0</td>\n      <td>0</td>\n      <td>0</td>\n      <td>0</td>\n      <td>0</td>\n      <td>0</td>\n      <td>0</td>\n      <td>...</td>\n      <td>0</td>\n      <td>0</td>\n      <td>0</td>\n      <td>0</td>\n      <td>0</td>\n      <td>0</td>\n      <td>0</td>\n      <td>0</td>\n      <td>0</td>\n      <td>0</td>\n    </tr>\n    <tr>\n      <td>229247</td>\n      <td>0</td>\n      <td>0</td>\n      <td>0</td>\n      <td>0</td>\n      <td>0</td>\n      <td>0</td>\n      <td>0</td>\n      <td>0</td>\n      <td>0</td>\n      <td>0</td>\n      <td>...</td>\n      <td>0</td>\n      <td>0</td>\n      <td>0</td>\n      <td>0</td>\n      <td>0</td>\n      <td>0</td>\n      <td>0</td>\n      <td>0</td>\n      <td>0</td>\n      <td>0</td>\n    </tr>\n    <tr>\n      <td>231537</td>\n      <td>0</td>\n      <td>0</td>\n      <td>0</td>\n      <td>0</td>\n      <td>0</td>\n      <td>0</td>\n      <td>0</td>\n      <td>0</td>\n      <td>0</td>\n      <td>0</td>\n      <td>...</td>\n      <td>0</td>\n      <td>0</td>\n      <td>0</td>\n      <td>0</td>\n      <td>0</td>\n      <td>0</td>\n      <td>0</td>\n      <td>0</td>\n      <td>0</td>\n      <td>0</td>\n    </tr>\n    <tr>\n      <td>234797</td>\n      <td>0</td>\n      <td>0</td>\n      <td>0</td>\n      <td>0</td>\n      <td>0</td>\n      <td>0</td>\n      <td>0</td>\n      <td>0</td>\n      <td>0</td>\n      <td>0</td>\n      <td>...</td>\n      <td>0</td>\n      <td>0</td>\n      <td>0</td>\n      <td>0</td>\n      <td>0</td>\n      <td>0</td>\n      <td>0</td>\n      <td>0</td>\n      <td>0</td>\n      <td>0</td>\n    </tr>\n    <tr>\n      <td>235000</td>\n      <td>0</td>\n      <td>0</td>\n      <td>0</td>\n      <td>0</td>\n      <td>0</td>\n      <td>0</td>\n      <td>0</td>\n      <td>0</td>\n      <td>0</td>\n      <td>0</td>\n      <td>...</td>\n      <td>0</td>\n      <td>0</td>\n      <td>0</td>\n      <td>0</td>\n      <td>0</td>\n      <td>0</td>\n      <td>0</td>\n      <td>0</td>\n      <td>0</td>\n      <td>0</td>\n    </tr>\n  </tbody>\n</table>\n<p>40 rows × 720 columns</p>\n</div>",
      "text/plain": "        111    126    257    443    445    578    615    629    631    858    \\\nid                                                                             \n8556        0      0      0      0      0      0      0      0      0      0   \n8630        0      0      0      0      0      0      0      0      0      0   \n8679        0      0      0      0      0      0      0      0      0      0   \n14668       0      0      0      0      0      0      0      0      0      0   \n14735       0      0      0      0      0      0      0      0      0      0   \n16260       0      0      0      0      0      0      0      0      0      0   \n16682       0      0      0      0      0      0      0      0      0      0   \n16966       0      0      0      0      0      0      0      0      0      0   \n17496       0      0      0      0      0      0      0      0      0      0   \n18397       0      0      0      0      0      0      0      0      0      0   \n21352       0      0      0      0      0      0      0      0      0      0   \n22702       0      0      0      0      0      0      0      0      0      0   \n25137       0      0      0      0      0      0      0      0      0      0   \n26299       0      0      0      0      0      0      0      0      0      0   \n30007       0      0      0      0      0      0      0      0      0      0   \n38028       0      0      0      0      0      0      0      0      0      0   \n40286       0      0      0      0      0      0      0      0      0      0   \n42967       0      0      0      0      0      0      0      0      0      0   \n48873       0      0      0      0      0      0      0      0      0      0   \n56412       0      0      0      0      0      0      0      0      0      0   \n62706       0      0      0      0      0      0      0      0      0      0   \n72191       0      0      0      0      0      0      0      0      0      0   \n76763       0      0      0      0      0      0      0      0      0      0   \n76808       0      0      0      0      0      0      0      0      0      0   \n82487       0      0      0      0      0      0      0      0      0      0   \n84774       0      0      0      0      0      0      0      0      0      0   \n87137       0      0      0      0      0      0      0      0      0      0   \n132703      0      0      0      0      0      0      0      0      0      0   \n140135      0      0      0      0      0      0      0      0      0      0   \n149738      0      0      0      0      0      0      0      0      0      0   \n164208      0      0      0      0      0      0      0      0      0      0   \n169322      0      0      0      0      0      0      0      0      0      0   \n202881      0      0      0      0      0      0      0      0      0      0   \n213140      0      0      0      0      0      0      0      0      0      0   \n214785      0      0      0      0      0      0      0      0      0      0   \n219173      0      0      0      0      0      0      0      0      0      0   \n229247      0      0      0      0      0      0      0      0      0      0   \n231537      0      0      0      0      0      0      0      0      0      0   \n234797      0      0      0      0      0      0      0      0      0      0   \n235000      0      0      0      0      0      0      0      0      0      0   \n\n        ...  23047  23274  23383  24865  25518  25522  26269  26934  27343  \\\nid      ...                                                                  \n8556    ...      0      0      0      0      0      0      0      0      0   \n8630    ...      0      0      0      0      0      0      0      0      0   \n8679    ...      0      0      0      0      0      0      0      0      0   \n14668   ...      0      0      0      0      0      0      0      0      0   \n14735   ...      0      0      0      0      0      0      0      0      0   \n16260   ...      0      0      0      0      0      0      0      0      0   \n16682   ...      0      0      0      0      0      0      0      0      0   \n16966   ...      0      0      0      0      0      0      0      0      0   \n17496   ...      0      0      0      0      0      0      0      0      0   \n18397   ...      0      0      0      0      0      0      0      0      0   \n21352   ...      0      0      0      0      0      0      0      0      0   \n22702   ...      0      0      0      0      0      0      0      0      0   \n25137   ...      0      0      0      0      0      0      0      0      0   \n26299   ...      0      0      0      0      0      0      0      0      0   \n30007   ...      0      0      0      0      0      0      0      0      0   \n38028   ...      0      0      0      0      0      0      0      0      0   \n40286   ...      0      0      0      0      0      0      0      0      0   \n42967   ...      0      0      0      0      0      0      0      0      0   \n48873   ...      0      0      0      0      0      0      0      0      0   \n56412   ...      0      0      0      0      0      0      0      0      0   \n62706   ...      0      0      0      0      0      0      0      0      0   \n72191   ...      0      0      0      0      0      0      0      0      0   \n76763   ...      0      0      0      0      0      0      0      0      0   \n76808   ...      0      0      0      0      0      0      0      0      0   \n82487   ...      0      0      0      0      0      0      0      0      0   \n84774   ...      0      0      0      0      0      0      0      0      0   \n87137   ...      0      0      0      0      0      0      0      0      0   \n132703  ...      0      0      0      0      0      0      0      0      0   \n140135  ...      0      0      0      0      0      0      0      0      0   \n149738  ...      0      0      0      0      0      0      0      0      0   \n164208  ...      0      0      0      0      0      0      0      0      0   \n169322  ...      0      0      0      0      0      0      0      0      0   \n202881  ...      0      0      0      0      0      0      0      0      0   \n213140  ...      0      0      0      0      0      0      0      0      0   \n214785  ...      0      0      0      0      0      0      0      0      0   \n219173  ...      0      0      0      0      0      0      0      0      0   \n229247  ...      0      0      0      0      0      0      0      0      0   \n231537  ...      0      0      0      0      0      0      0      0      0   \n234797  ...      0      0      0      0      0      0      0      0      0   \n235000  ...      0      0      0      0      0      0      0      0      0   \n\n        27805  \nid             \n8556        0  \n8630        0  \n8679        0  \n14668       0  \n14735       0  \n16260       0  \n16682       0  \n16966       0  \n17496       0  \n18397       0  \n21352       0  \n22702       0  \n25137       0  \n26299       0  \n30007       0  \n38028       0  \n40286       0  \n42967       0  \n48873       0  \n56412       0  \n62706       0  \n72191       0  \n76763       0  \n76808       0  \n82487       0  \n84774       0  \n87137       0  \n132703      0  \n140135      0  \n149738      0  \n164208      0  \n169322      0  \n202881      0  \n213140      0  \n214785      0  \n219173      0  \n229247      0  \n231537      0  \n234797      0  \n235000      0  \n\n[40 rows x 720 columns]"
     },
     "execution_count": 590,
     "metadata": {},
     "output_type": "execute_result"
    }
   ],
   "source": [
    "new_user_recipes_fat"
   ]
  },
  {
   "cell_type": "code",
   "execution_count": 621,
   "metadata": {},
   "outputs": [],
   "source": [
    "sample = new_user_recipes_fat.sample(n=5)"
   ]
  },
  {
   "cell_type": "code",
   "execution_count": 592,
   "metadata": {},
   "outputs": [
    {
     "data": {
      "text/html": "<div>\n<style scoped>\n    .dataframe tbody tr th:only-of-type {\n        vertical-align: middle;\n    }\n\n    .dataframe tbody tr th {\n        vertical-align: top;\n    }\n\n    .dataframe thead th {\n        text-align: right;\n    }\n</style>\n<table border=\"1\" class=\"dataframe\">\n  <thead>\n    <tr style=\"text-align: right;\">\n      <th></th>\n      <th>111</th>\n      <th>126</th>\n      <th>257</th>\n      <th>443</th>\n      <th>445</th>\n      <th>578</th>\n      <th>615</th>\n      <th>629</th>\n      <th>631</th>\n      <th>858</th>\n      <th>...</th>\n      <th>23047</th>\n      <th>23274</th>\n      <th>23383</th>\n      <th>24865</th>\n      <th>25518</th>\n      <th>25522</th>\n      <th>26269</th>\n      <th>26934</th>\n      <th>27343</th>\n      <th>27805</th>\n    </tr>\n    <tr>\n      <th>id</th>\n      <th></th>\n      <th></th>\n      <th></th>\n      <th></th>\n      <th></th>\n      <th></th>\n      <th></th>\n      <th></th>\n      <th></th>\n      <th></th>\n      <th></th>\n      <th></th>\n      <th></th>\n      <th></th>\n      <th></th>\n      <th></th>\n      <th></th>\n      <th></th>\n      <th></th>\n      <th></th>\n      <th></th>\n    </tr>\n  </thead>\n  <tbody>\n    <tr>\n      <td>16682</td>\n      <td>0</td>\n      <td>0</td>\n      <td>0</td>\n      <td>0</td>\n      <td>0</td>\n      <td>0</td>\n      <td>0</td>\n      <td>0</td>\n      <td>0</td>\n      <td>0</td>\n      <td>...</td>\n      <td>0</td>\n      <td>0</td>\n      <td>0</td>\n      <td>0</td>\n      <td>0</td>\n      <td>0</td>\n      <td>0</td>\n      <td>0</td>\n      <td>0</td>\n      <td>0</td>\n    </tr>\n    <tr>\n      <td>17496</td>\n      <td>0</td>\n      <td>0</td>\n      <td>0</td>\n      <td>0</td>\n      <td>0</td>\n      <td>0</td>\n      <td>0</td>\n      <td>0</td>\n      <td>0</td>\n      <td>0</td>\n      <td>...</td>\n      <td>0</td>\n      <td>0</td>\n      <td>0</td>\n      <td>0</td>\n      <td>0</td>\n      <td>0</td>\n      <td>0</td>\n      <td>0</td>\n      <td>0</td>\n      <td>0</td>\n    </tr>\n    <tr>\n      <td>16260</td>\n      <td>0</td>\n      <td>0</td>\n      <td>0</td>\n      <td>0</td>\n      <td>0</td>\n      <td>0</td>\n      <td>0</td>\n      <td>0</td>\n      <td>0</td>\n      <td>0</td>\n      <td>...</td>\n      <td>0</td>\n      <td>0</td>\n      <td>0</td>\n      <td>0</td>\n      <td>0</td>\n      <td>0</td>\n      <td>0</td>\n      <td>0</td>\n      <td>0</td>\n      <td>0</td>\n    </tr>\n    <tr>\n      <td>25137</td>\n      <td>0</td>\n      <td>0</td>\n      <td>0</td>\n      <td>0</td>\n      <td>0</td>\n      <td>0</td>\n      <td>0</td>\n      <td>0</td>\n      <td>0</td>\n      <td>0</td>\n      <td>...</td>\n      <td>0</td>\n      <td>0</td>\n      <td>0</td>\n      <td>0</td>\n      <td>0</td>\n      <td>0</td>\n      <td>0</td>\n      <td>0</td>\n      <td>0</td>\n      <td>0</td>\n    </tr>\n    <tr>\n      <td>87137</td>\n      <td>0</td>\n      <td>0</td>\n      <td>0</td>\n      <td>0</td>\n      <td>0</td>\n      <td>0</td>\n      <td>0</td>\n      <td>0</td>\n      <td>0</td>\n      <td>0</td>\n      <td>...</td>\n      <td>0</td>\n      <td>0</td>\n      <td>0</td>\n      <td>0</td>\n      <td>0</td>\n      <td>0</td>\n      <td>0</td>\n      <td>0</td>\n      <td>0</td>\n      <td>0</td>\n    </tr>\n    <tr>\n      <td>22702</td>\n      <td>0</td>\n      <td>0</td>\n      <td>0</td>\n      <td>0</td>\n      <td>0</td>\n      <td>0</td>\n      <td>0</td>\n      <td>0</td>\n      <td>0</td>\n      <td>0</td>\n      <td>...</td>\n      <td>0</td>\n      <td>0</td>\n      <td>0</td>\n      <td>0</td>\n      <td>0</td>\n      <td>0</td>\n      <td>0</td>\n      <td>0</td>\n      <td>0</td>\n      <td>0</td>\n    </tr>\n    <tr>\n      <td>164208</td>\n      <td>0</td>\n      <td>0</td>\n      <td>0</td>\n      <td>0</td>\n      <td>0</td>\n      <td>0</td>\n      <td>0</td>\n      <td>0</td>\n      <td>0</td>\n      <td>0</td>\n      <td>...</td>\n      <td>0</td>\n      <td>0</td>\n      <td>0</td>\n      <td>0</td>\n      <td>0</td>\n      <td>0</td>\n      <td>0</td>\n      <td>0</td>\n      <td>0</td>\n      <td>0</td>\n    </tr>\n    <tr>\n      <td>169322</td>\n      <td>0</td>\n      <td>0</td>\n      <td>0</td>\n      <td>0</td>\n      <td>0</td>\n      <td>0</td>\n      <td>0</td>\n      <td>0</td>\n      <td>0</td>\n      <td>0</td>\n      <td>...</td>\n      <td>0</td>\n      <td>0</td>\n      <td>0</td>\n      <td>0</td>\n      <td>0</td>\n      <td>0</td>\n      <td>0</td>\n      <td>0</td>\n      <td>0</td>\n      <td>0</td>\n    </tr>\n    <tr>\n      <td>62706</td>\n      <td>0</td>\n      <td>0</td>\n      <td>0</td>\n      <td>0</td>\n      <td>0</td>\n      <td>0</td>\n      <td>0</td>\n      <td>0</td>\n      <td>0</td>\n      <td>0</td>\n      <td>...</td>\n      <td>0</td>\n      <td>0</td>\n      <td>0</td>\n      <td>0</td>\n      <td>0</td>\n      <td>0</td>\n      <td>0</td>\n      <td>0</td>\n      <td>0</td>\n      <td>0</td>\n    </tr>\n    <tr>\n      <td>30007</td>\n      <td>0</td>\n      <td>0</td>\n      <td>0</td>\n      <td>0</td>\n      <td>0</td>\n      <td>0</td>\n      <td>0</td>\n      <td>0</td>\n      <td>0</td>\n      <td>0</td>\n      <td>...</td>\n      <td>0</td>\n      <td>0</td>\n      <td>0</td>\n      <td>0</td>\n      <td>0</td>\n      <td>0</td>\n      <td>0</td>\n      <td>0</td>\n      <td>0</td>\n      <td>0</td>\n    </tr>\n    <tr>\n      <td>8679</td>\n      <td>0</td>\n      <td>0</td>\n      <td>0</td>\n      <td>0</td>\n      <td>0</td>\n      <td>0</td>\n      <td>0</td>\n      <td>0</td>\n      <td>0</td>\n      <td>0</td>\n      <td>...</td>\n      <td>0</td>\n      <td>0</td>\n      <td>0</td>\n      <td>0</td>\n      <td>0</td>\n      <td>0</td>\n      <td>0</td>\n      <td>0</td>\n      <td>0</td>\n      <td>0</td>\n    </tr>\n    <tr>\n      <td>40286</td>\n      <td>0</td>\n      <td>0</td>\n      <td>0</td>\n      <td>0</td>\n      <td>0</td>\n      <td>0</td>\n      <td>0</td>\n      <td>0</td>\n      <td>0</td>\n      <td>0</td>\n      <td>...</td>\n      <td>0</td>\n      <td>0</td>\n      <td>0</td>\n      <td>0</td>\n      <td>0</td>\n      <td>0</td>\n      <td>0</td>\n      <td>0</td>\n      <td>0</td>\n      <td>0</td>\n    </tr>\n    <tr>\n      <td>26299</td>\n      <td>0</td>\n      <td>0</td>\n      <td>0</td>\n      <td>0</td>\n      <td>0</td>\n      <td>0</td>\n      <td>0</td>\n      <td>0</td>\n      <td>0</td>\n      <td>0</td>\n      <td>...</td>\n      <td>0</td>\n      <td>0</td>\n      <td>0</td>\n      <td>0</td>\n      <td>0</td>\n      <td>0</td>\n      <td>0</td>\n      <td>0</td>\n      <td>0</td>\n      <td>0</td>\n    </tr>\n    <tr>\n      <td>14668</td>\n      <td>0</td>\n      <td>0</td>\n      <td>0</td>\n      <td>0</td>\n      <td>0</td>\n      <td>0</td>\n      <td>0</td>\n      <td>0</td>\n      <td>0</td>\n      <td>0</td>\n      <td>...</td>\n      <td>0</td>\n      <td>0</td>\n      <td>0</td>\n      <td>0</td>\n      <td>0</td>\n      <td>0</td>\n      <td>0</td>\n      <td>0</td>\n      <td>0</td>\n      <td>0</td>\n    </tr>\n    <tr>\n      <td>8630</td>\n      <td>0</td>\n      <td>0</td>\n      <td>0</td>\n      <td>0</td>\n      <td>0</td>\n      <td>0</td>\n      <td>0</td>\n      <td>0</td>\n      <td>0</td>\n      <td>0</td>\n      <td>...</td>\n      <td>0</td>\n      <td>0</td>\n      <td>0</td>\n      <td>0</td>\n      <td>0</td>\n      <td>0</td>\n      <td>0</td>\n      <td>0</td>\n      <td>0</td>\n      <td>0</td>\n    </tr>\n    <tr>\n      <td>213140</td>\n      <td>0</td>\n      <td>0</td>\n      <td>0</td>\n      <td>0</td>\n      <td>0</td>\n      <td>0</td>\n      <td>0</td>\n      <td>0</td>\n      <td>0</td>\n      <td>0</td>\n      <td>...</td>\n      <td>0</td>\n      <td>0</td>\n      <td>0</td>\n      <td>0</td>\n      <td>0</td>\n      <td>0</td>\n      <td>0</td>\n      <td>0</td>\n      <td>0</td>\n      <td>0</td>\n    </tr>\n    <tr>\n      <td>8556</td>\n      <td>0</td>\n      <td>0</td>\n      <td>0</td>\n      <td>0</td>\n      <td>0</td>\n      <td>0</td>\n      <td>0</td>\n      <td>0</td>\n      <td>0</td>\n      <td>0</td>\n      <td>...</td>\n      <td>0</td>\n      <td>0</td>\n      <td>0</td>\n      <td>0</td>\n      <td>0</td>\n      <td>0</td>\n      <td>0</td>\n      <td>0</td>\n      <td>0</td>\n      <td>0</td>\n    </tr>\n    <tr>\n      <td>84774</td>\n      <td>0</td>\n      <td>0</td>\n      <td>0</td>\n      <td>0</td>\n      <td>0</td>\n      <td>0</td>\n      <td>0</td>\n      <td>0</td>\n      <td>0</td>\n      <td>0</td>\n      <td>...</td>\n      <td>0</td>\n      <td>0</td>\n      <td>0</td>\n      <td>0</td>\n      <td>0</td>\n      <td>0</td>\n      <td>0</td>\n      <td>0</td>\n      <td>0</td>\n      <td>0</td>\n    </tr>\n    <tr>\n      <td>38028</td>\n      <td>0</td>\n      <td>0</td>\n      <td>0</td>\n      <td>0</td>\n      <td>0</td>\n      <td>0</td>\n      <td>0</td>\n      <td>0</td>\n      <td>0</td>\n      <td>0</td>\n      <td>...</td>\n      <td>0</td>\n      <td>0</td>\n      <td>0</td>\n      <td>0</td>\n      <td>0</td>\n      <td>0</td>\n      <td>0</td>\n      <td>0</td>\n      <td>0</td>\n      <td>0</td>\n    </tr>\n    <tr>\n      <td>56412</td>\n      <td>0</td>\n      <td>0</td>\n      <td>0</td>\n      <td>0</td>\n      <td>0</td>\n      <td>0</td>\n      <td>0</td>\n      <td>0</td>\n      <td>0</td>\n      <td>0</td>\n      <td>...</td>\n      <td>0</td>\n      <td>0</td>\n      <td>0</td>\n      <td>0</td>\n      <td>0</td>\n      <td>0</td>\n      <td>0</td>\n      <td>0</td>\n      <td>0</td>\n      <td>0</td>\n    </tr>\n    <tr>\n      <td>48873</td>\n      <td>0</td>\n      <td>0</td>\n      <td>0</td>\n      <td>0</td>\n      <td>0</td>\n      <td>0</td>\n      <td>0</td>\n      <td>0</td>\n      <td>0</td>\n      <td>0</td>\n      <td>...</td>\n      <td>0</td>\n      <td>0</td>\n      <td>0</td>\n      <td>0</td>\n      <td>0</td>\n      <td>0</td>\n      <td>0</td>\n      <td>0</td>\n      <td>0</td>\n      <td>0</td>\n    </tr>\n    <tr>\n      <td>214785</td>\n      <td>0</td>\n      <td>0</td>\n      <td>0</td>\n      <td>0</td>\n      <td>0</td>\n      <td>0</td>\n      <td>0</td>\n      <td>0</td>\n      <td>0</td>\n      <td>0</td>\n      <td>...</td>\n      <td>0</td>\n      <td>0</td>\n      <td>0</td>\n      <td>0</td>\n      <td>0</td>\n      <td>0</td>\n      <td>0</td>\n      <td>0</td>\n      <td>0</td>\n      <td>0</td>\n    </tr>\n    <tr>\n      <td>14735</td>\n      <td>0</td>\n      <td>0</td>\n      <td>0</td>\n      <td>0</td>\n      <td>0</td>\n      <td>0</td>\n      <td>0</td>\n      <td>0</td>\n      <td>0</td>\n      <td>0</td>\n      <td>...</td>\n      <td>0</td>\n      <td>0</td>\n      <td>0</td>\n      <td>0</td>\n      <td>0</td>\n      <td>0</td>\n      <td>0</td>\n      <td>0</td>\n      <td>0</td>\n      <td>0</td>\n    </tr>\n    <tr>\n      <td>132703</td>\n      <td>0</td>\n      <td>0</td>\n      <td>0</td>\n      <td>0</td>\n      <td>0</td>\n      <td>0</td>\n      <td>0</td>\n      <td>0</td>\n      <td>0</td>\n      <td>0</td>\n      <td>...</td>\n      <td>0</td>\n      <td>0</td>\n      <td>0</td>\n      <td>0</td>\n      <td>0</td>\n      <td>0</td>\n      <td>0</td>\n      <td>0</td>\n      <td>0</td>\n      <td>0</td>\n    </tr>\n    <tr>\n      <td>231537</td>\n      <td>0</td>\n      <td>0</td>\n      <td>0</td>\n      <td>0</td>\n      <td>0</td>\n      <td>0</td>\n      <td>0</td>\n      <td>0</td>\n      <td>0</td>\n      <td>0</td>\n      <td>...</td>\n      <td>0</td>\n      <td>0</td>\n      <td>0</td>\n      <td>0</td>\n      <td>0</td>\n      <td>0</td>\n      <td>0</td>\n      <td>0</td>\n      <td>0</td>\n      <td>0</td>\n    </tr>\n    <tr>\n      <td>82487</td>\n      <td>0</td>\n      <td>0</td>\n      <td>0</td>\n      <td>0</td>\n      <td>0</td>\n      <td>0</td>\n      <td>0</td>\n      <td>0</td>\n      <td>0</td>\n      <td>0</td>\n      <td>...</td>\n      <td>0</td>\n      <td>0</td>\n      <td>0</td>\n      <td>0</td>\n      <td>0</td>\n      <td>0</td>\n      <td>0</td>\n      <td>0</td>\n      <td>0</td>\n      <td>0</td>\n    </tr>\n    <tr>\n      <td>219173</td>\n      <td>0</td>\n      <td>0</td>\n      <td>0</td>\n      <td>0</td>\n      <td>0</td>\n      <td>0</td>\n      <td>0</td>\n      <td>0</td>\n      <td>0</td>\n      <td>0</td>\n      <td>...</td>\n      <td>0</td>\n      <td>0</td>\n      <td>0</td>\n      <td>0</td>\n      <td>0</td>\n      <td>0</td>\n      <td>0</td>\n      <td>0</td>\n      <td>0</td>\n      <td>0</td>\n    </tr>\n    <tr>\n      <td>76808</td>\n      <td>0</td>\n      <td>0</td>\n      <td>0</td>\n      <td>0</td>\n      <td>0</td>\n      <td>0</td>\n      <td>0</td>\n      <td>0</td>\n      <td>0</td>\n      <td>0</td>\n      <td>...</td>\n      <td>0</td>\n      <td>0</td>\n      <td>0</td>\n      <td>0</td>\n      <td>0</td>\n      <td>0</td>\n      <td>0</td>\n      <td>0</td>\n      <td>0</td>\n      <td>0</td>\n    </tr>\n    <tr>\n      <td>76763</td>\n      <td>0</td>\n      <td>0</td>\n      <td>0</td>\n      <td>0</td>\n      <td>0</td>\n      <td>0</td>\n      <td>0</td>\n      <td>0</td>\n      <td>0</td>\n      <td>0</td>\n      <td>...</td>\n      <td>0</td>\n      <td>0</td>\n      <td>0</td>\n      <td>0</td>\n      <td>0</td>\n      <td>0</td>\n      <td>0</td>\n      <td>0</td>\n      <td>0</td>\n      <td>0</td>\n    </tr>\n    <tr>\n      <td>16966</td>\n      <td>0</td>\n      <td>0</td>\n      <td>0</td>\n      <td>0</td>\n      <td>0</td>\n      <td>0</td>\n      <td>0</td>\n      <td>0</td>\n      <td>0</td>\n      <td>0</td>\n      <td>...</td>\n      <td>0</td>\n      <td>0</td>\n      <td>0</td>\n      <td>0</td>\n      <td>0</td>\n      <td>0</td>\n      <td>0</td>\n      <td>0</td>\n      <td>0</td>\n      <td>0</td>\n    </tr>\n    <tr>\n      <td>229247</td>\n      <td>0</td>\n      <td>0</td>\n      <td>0</td>\n      <td>0</td>\n      <td>0</td>\n      <td>0</td>\n      <td>0</td>\n      <td>0</td>\n      <td>0</td>\n      <td>0</td>\n      <td>...</td>\n      <td>0</td>\n      <td>0</td>\n      <td>0</td>\n      <td>0</td>\n      <td>0</td>\n      <td>0</td>\n      <td>0</td>\n      <td>0</td>\n      <td>0</td>\n      <td>0</td>\n    </tr>\n    <tr>\n      <td>202881</td>\n      <td>0</td>\n      <td>0</td>\n      <td>0</td>\n      <td>0</td>\n      <td>0</td>\n      <td>0</td>\n      <td>0</td>\n      <td>0</td>\n      <td>0</td>\n      <td>0</td>\n      <td>...</td>\n      <td>0</td>\n      <td>0</td>\n      <td>0</td>\n      <td>0</td>\n      <td>0</td>\n      <td>0</td>\n      <td>0</td>\n      <td>0</td>\n      <td>0</td>\n      <td>0</td>\n    </tr>\n    <tr>\n      <td>234797</td>\n      <td>0</td>\n      <td>0</td>\n      <td>0</td>\n      <td>0</td>\n      <td>0</td>\n      <td>0</td>\n      <td>0</td>\n      <td>0</td>\n      <td>0</td>\n      <td>0</td>\n      <td>...</td>\n      <td>0</td>\n      <td>0</td>\n      <td>0</td>\n      <td>0</td>\n      <td>0</td>\n      <td>0</td>\n      <td>0</td>\n      <td>0</td>\n      <td>0</td>\n      <td>0</td>\n    </tr>\n    <tr>\n      <td>72191</td>\n      <td>0</td>\n      <td>0</td>\n      <td>0</td>\n      <td>0</td>\n      <td>0</td>\n      <td>0</td>\n      <td>0</td>\n      <td>0</td>\n      <td>0</td>\n      <td>0</td>\n      <td>...</td>\n      <td>0</td>\n      <td>0</td>\n      <td>0</td>\n      <td>0</td>\n      <td>0</td>\n      <td>0</td>\n      <td>0</td>\n      <td>0</td>\n      <td>0</td>\n      <td>0</td>\n    </tr>\n    <tr>\n      <td>42967</td>\n      <td>0</td>\n      <td>0</td>\n      <td>0</td>\n      <td>0</td>\n      <td>0</td>\n      <td>0</td>\n      <td>0</td>\n      <td>0</td>\n      <td>0</td>\n      <td>0</td>\n      <td>...</td>\n      <td>0</td>\n      <td>0</td>\n      <td>0</td>\n      <td>0</td>\n      <td>0</td>\n      <td>0</td>\n      <td>0</td>\n      <td>0</td>\n      <td>0</td>\n      <td>0</td>\n    </tr>\n    <tr>\n      <td>18397</td>\n      <td>0</td>\n      <td>0</td>\n      <td>0</td>\n      <td>0</td>\n      <td>0</td>\n      <td>0</td>\n      <td>0</td>\n      <td>0</td>\n      <td>0</td>\n      <td>0</td>\n      <td>...</td>\n      <td>0</td>\n      <td>0</td>\n      <td>0</td>\n      <td>0</td>\n      <td>0</td>\n      <td>0</td>\n      <td>0</td>\n      <td>0</td>\n      <td>0</td>\n      <td>0</td>\n    </tr>\n    <tr>\n      <td>21352</td>\n      <td>0</td>\n      <td>0</td>\n      <td>0</td>\n      <td>0</td>\n      <td>0</td>\n      <td>0</td>\n      <td>0</td>\n      <td>0</td>\n      <td>0</td>\n      <td>0</td>\n      <td>...</td>\n      <td>0</td>\n      <td>0</td>\n      <td>0</td>\n      <td>0</td>\n      <td>0</td>\n      <td>0</td>\n      <td>0</td>\n      <td>0</td>\n      <td>0</td>\n      <td>0</td>\n    </tr>\n    <tr>\n      <td>235000</td>\n      <td>0</td>\n      <td>0</td>\n      <td>0</td>\n      <td>0</td>\n      <td>0</td>\n      <td>0</td>\n      <td>0</td>\n      <td>0</td>\n      <td>0</td>\n      <td>0</td>\n      <td>...</td>\n      <td>0</td>\n      <td>0</td>\n      <td>0</td>\n      <td>0</td>\n      <td>0</td>\n      <td>0</td>\n      <td>0</td>\n      <td>0</td>\n      <td>0</td>\n      <td>0</td>\n    </tr>\n    <tr>\n      <td>149738</td>\n      <td>0</td>\n      <td>0</td>\n      <td>0</td>\n      <td>0</td>\n      <td>0</td>\n      <td>0</td>\n      <td>0</td>\n      <td>0</td>\n      <td>0</td>\n      <td>0</td>\n      <td>...</td>\n      <td>0</td>\n      <td>0</td>\n      <td>0</td>\n      <td>0</td>\n      <td>0</td>\n      <td>0</td>\n      <td>0</td>\n      <td>0</td>\n      <td>0</td>\n      <td>0</td>\n    </tr>\n    <tr>\n      <td>140135</td>\n      <td>0</td>\n      <td>0</td>\n      <td>0</td>\n      <td>0</td>\n      <td>0</td>\n      <td>0</td>\n      <td>0</td>\n      <td>0</td>\n      <td>0</td>\n      <td>0</td>\n      <td>...</td>\n      <td>0</td>\n      <td>0</td>\n      <td>0</td>\n      <td>0</td>\n      <td>0</td>\n      <td>0</td>\n      <td>0</td>\n      <td>0</td>\n      <td>0</td>\n      <td>0</td>\n    </tr>\n  </tbody>\n</table>\n<p>40 rows × 720 columns</p>\n</div>",
      "text/plain": "        111    126    257    443    445    578    615    629    631    858    \\\nid                                                                             \n16682       0      0      0      0      0      0      0      0      0      0   \n17496       0      0      0      0      0      0      0      0      0      0   \n16260       0      0      0      0      0      0      0      0      0      0   \n25137       0      0      0      0      0      0      0      0      0      0   \n87137       0      0      0      0      0      0      0      0      0      0   \n22702       0      0      0      0      0      0      0      0      0      0   \n164208      0      0      0      0      0      0      0      0      0      0   \n169322      0      0      0      0      0      0      0      0      0      0   \n62706       0      0      0      0      0      0      0      0      0      0   \n30007       0      0      0      0      0      0      0      0      0      0   \n8679        0      0      0      0      0      0      0      0      0      0   \n40286       0      0      0      0      0      0      0      0      0      0   \n26299       0      0      0      0      0      0      0      0      0      0   \n14668       0      0      0      0      0      0      0      0      0      0   \n8630        0      0      0      0      0      0      0      0      0      0   \n213140      0      0      0      0      0      0      0      0      0      0   \n8556        0      0      0      0      0      0      0      0      0      0   \n84774       0      0      0      0      0      0      0      0      0      0   \n38028       0      0      0      0      0      0      0      0      0      0   \n56412       0      0      0      0      0      0      0      0      0      0   \n48873       0      0      0      0      0      0      0      0      0      0   \n214785      0      0      0      0      0      0      0      0      0      0   \n14735       0      0      0      0      0      0      0      0      0      0   \n132703      0      0      0      0      0      0      0      0      0      0   \n231537      0      0      0      0      0      0      0      0      0      0   \n82487       0      0      0      0      0      0      0      0      0      0   \n219173      0      0      0      0      0      0      0      0      0      0   \n76808       0      0      0      0      0      0      0      0      0      0   \n76763       0      0      0      0      0      0      0      0      0      0   \n16966       0      0      0      0      0      0      0      0      0      0   \n229247      0      0      0      0      0      0      0      0      0      0   \n202881      0      0      0      0      0      0      0      0      0      0   \n234797      0      0      0      0      0      0      0      0      0      0   \n72191       0      0      0      0      0      0      0      0      0      0   \n42967       0      0      0      0      0      0      0      0      0      0   \n18397       0      0      0      0      0      0      0      0      0      0   \n21352       0      0      0      0      0      0      0      0      0      0   \n235000      0      0      0      0      0      0      0      0      0      0   \n149738      0      0      0      0      0      0      0      0      0      0   \n140135      0      0      0      0      0      0      0      0      0      0   \n\n        ...  23047  23274  23383  24865  25518  25522  26269  26934  27343  \\\nid      ...                                                                  \n16682   ...      0      0      0      0      0      0      0      0      0   \n17496   ...      0      0      0      0      0      0      0      0      0   \n16260   ...      0      0      0      0      0      0      0      0      0   \n25137   ...      0      0      0      0      0      0      0      0      0   \n87137   ...      0      0      0      0      0      0      0      0      0   \n22702   ...      0      0      0      0      0      0      0      0      0   \n164208  ...      0      0      0      0      0      0      0      0      0   \n169322  ...      0      0      0      0      0      0      0      0      0   \n62706   ...      0      0      0      0      0      0      0      0      0   \n30007   ...      0      0      0      0      0      0      0      0      0   \n8679    ...      0      0      0      0      0      0      0      0      0   \n40286   ...      0      0      0      0      0      0      0      0      0   \n26299   ...      0      0      0      0      0      0      0      0      0   \n14668   ...      0      0      0      0      0      0      0      0      0   \n8630    ...      0      0      0      0      0      0      0      0      0   \n213140  ...      0      0      0      0      0      0      0      0      0   \n8556    ...      0      0      0      0      0      0      0      0      0   \n84774   ...      0      0      0      0      0      0      0      0      0   \n38028   ...      0      0      0      0      0      0      0      0      0   \n56412   ...      0      0      0      0      0      0      0      0      0   \n48873   ...      0      0      0      0      0      0      0      0      0   \n214785  ...      0      0      0      0      0      0      0      0      0   \n14735   ...      0      0      0      0      0      0      0      0      0   \n132703  ...      0      0      0      0      0      0      0      0      0   \n231537  ...      0      0      0      0      0      0      0      0      0   \n82487   ...      0      0      0      0      0      0      0      0      0   \n219173  ...      0      0      0      0      0      0      0      0      0   \n76808   ...      0      0      0      0      0      0      0      0      0   \n76763   ...      0      0      0      0      0      0      0      0      0   \n16966   ...      0      0      0      0      0      0      0      0      0   \n229247  ...      0      0      0      0      0      0      0      0      0   \n202881  ...      0      0      0      0      0      0      0      0      0   \n234797  ...      0      0      0      0      0      0      0      0      0   \n72191   ...      0      0      0      0      0      0      0      0      0   \n42967   ...      0      0      0      0      0      0      0      0      0   \n18397   ...      0      0      0      0      0      0      0      0      0   \n21352   ...      0      0      0      0      0      0      0      0      0   \n235000  ...      0      0      0      0      0      0      0      0      0   \n149738  ...      0      0      0      0      0      0      0      0      0   \n140135  ...      0      0      0      0      0      0      0      0      0   \n\n        27805  \nid             \n16682       0  \n17496       0  \n16260       0  \n25137       0  \n87137       0  \n22702       0  \n164208      0  \n169322      0  \n62706       0  \n30007       0  \n8679        0  \n40286       0  \n26299       0  \n14668       0  \n8630        0  \n213140      0  \n8556        0  \n84774       0  \n38028       0  \n56412       0  \n48873       0  \n214785      0  \n14735       0  \n132703      0  \n231537      0  \n82487       0  \n219173      0  \n76808       0  \n76763       0  \n16966       0  \n229247      0  \n202881      0  \n234797      0  \n72191       0  \n42967       0  \n18397       0  \n21352       0  \n235000      0  \n149738      0  \n140135      0  \n\n[40 rows x 720 columns]"
     },
     "execution_count": 592,
     "metadata": {},
     "output_type": "execute_result"
    }
   ],
   "source": [
    "sample"
   ]
  },
  {
   "cell_type": "code",
   "execution_count": 593,
   "metadata": {},
   "outputs": [
    {
     "data": {
      "text/html": "<div>\n<style scoped>\n    .dataframe tbody tr th:only-of-type {\n        vertical-align: middle;\n    }\n\n    .dataframe tbody tr th {\n        vertical-align: top;\n    }\n\n    .dataframe thead th {\n        text-align: right;\n    }\n</style>\n<table border=\"1\" class=\"dataframe\">\n  <thead>\n    <tr style=\"text-align: right;\">\n      <th></th>\n      <th>jaccard_distance_sum</th>\n    </tr>\n  </thead>\n  <tbody>\n    <tr>\n      <td>8796</td>\n      <td>1.88945</td>\n    </tr>\n    <tr>\n      <td>231396</td>\n      <td>1.89496</td>\n    </tr>\n    <tr>\n      <td>255038</td>\n      <td>1.89589</td>\n    </tr>\n    <tr>\n      <td>22991</td>\n      <td>1.89667</td>\n    </tr>\n    <tr>\n      <td>11905</td>\n      <td>1.89903</td>\n    </tr>\n    <tr>\n      <td>18349</td>\n      <td>1.90008</td>\n    </tr>\n    <tr>\n      <td>23181</td>\n      <td>1.90011</td>\n    </tr>\n    <tr>\n      <td>19128</td>\n      <td>1.90161</td>\n    </tr>\n    <tr>\n      <td>228680</td>\n      <td>1.90295</td>\n    </tr>\n    <tr>\n      <td>17869</td>\n      <td>1.90610</td>\n    </tr>\n  </tbody>\n</table>\n</div>",
      "text/plain": "        jaccard_distance_sum\n8796                 1.88945\n231396               1.89496\n255038               1.89589\n22991                1.89667\n11905                1.89903\n18349                1.90008\n23181                1.90011\n19128                1.90161\n228680               1.90295\n17869                1.90610"
     },
     "execution_count": 593,
     "metadata": {},
     "output_type": "execute_result"
    }
   ],
   "source": [
    "## Jaccard - recipe to recipe similarity with removal of basis ingredients and duplicate userrecipes\n",
    "\n",
    "result_array = cdist(sample, new_recipe_db_wo_userrecipes_fat,'jaccard')\n",
    "result_w_filter = pd.DataFrame(result_array, columns=new_recipe_db_wo_userrecipes_fat.index.values, index=sample.index.values)\n",
    "# result_2\n",
    "\n",
    "result_w_filter_10 = pd.DataFrame(result_w_filter.sum(), columns=['jaccard_distance_sum'])\n",
    "result_w_filter_10 = result_w_filter_10.sort_values(by='jaccard_distance_sum')\n",
    "result_w_filter_10['jaccard_distance_sum'] = result_w_filter_10['jaccard_distance_sum'].div(20)\n",
    "result_w_filter_10[0:10]\n"
   ]
  },
  {
   "cell_type": "code",
   "execution_count": 594,
   "metadata": {},
   "outputs": [
    {
     "data": {
      "text/plain": "array([ 16682,  17496,  16260,  25137,  87137,  22702, 164208, 169322,\n        62706,  30007,   8679,  40286,  26299,  14668,   8630, 213140,\n         8556,  84774,  38028,  56412,  48873, 214785,  14735, 132703,\n       231537,  82487, 219173,  76808,  76763,  16966, 229247, 202881,\n       234797,  72191,  42967,  18397,  21352, 235000, 149738, 140135])"
     },
     "execution_count": 594,
     "metadata": {},
     "output_type": "execute_result"
    }
   ],
   "source": [
    "sample.index.to_numpy()"
   ]
  },
  {
   "cell_type": "code",
   "execution_count": 595,
   "metadata": {},
   "outputs": [
    {
     "data": {
      "text/plain": "array([ 8556,  8630,  8679, 14668, 14735, 16260, 16682, 16966, 17496,\n       18397, 21352, 22702, 25137, 26299, 30007, 38028, 40286, 42967,\n       48873, 56412])"
     },
     "execution_count": 595,
     "metadata": {},
     "output_type": "execute_result"
    }
   ],
   "source": [
    "new_user_recipes_fat[0:20].index.to_numpy()"
   ]
  },
  {
   "cell_type": "code",
   "execution_count": 609,
   "metadata": {},
   "outputs": [
    {
     "data": {
      "text/plain": "array([  8796, 231396, 255038,  22991,  11905,  18349,  23181,  19128,\n       228680,  17869])"
     },
     "execution_count": 609,
     "metadata": {},
     "output_type": "execute_result"
    }
   ],
   "source": [
    "result_w_filter_10[0:10].index.to_numpy()"
   ]
  },
  {
   "cell_type": "code",
   "execution_count": 597,
   "metadata": {},
   "outputs": [],
   "source": [
    "result_w_filter_test = result_w_filter.copy()"
   ]
  },
  {
   "cell_type": "code",
   "execution_count": 598,
   "metadata": {},
   "outputs": [
    {
     "data": {
      "text/html": "<div>\n<style scoped>\n    .dataframe tbody tr th:only-of-type {\n        vertical-align: middle;\n    }\n\n    .dataframe tbody tr th {\n        vertical-align: top;\n    }\n\n    .dataframe thead th {\n        text-align: right;\n    }\n</style>\n<table border=\"1\" class=\"dataframe\">\n  <thead>\n    <tr style=\"text-align: right;\">\n      <th></th>\n      <th>7198</th>\n      <th>8493</th>\n      <th>8494</th>\n      <th>8495</th>\n      <th>8496</th>\n      <th>8497</th>\n      <th>8498</th>\n      <th>8500</th>\n      <th>8503</th>\n      <th>8506</th>\n      <th>...</th>\n      <th>254874</th>\n      <th>254940</th>\n      <th>255038</th>\n      <th>255263</th>\n      <th>255545</th>\n      <th>255936</th>\n      <th>257312</th>\n      <th>260193</th>\n      <th>261124</th>\n      <th>263813</th>\n    </tr>\n  </thead>\n  <tbody>\n    <tr>\n      <td>16682</td>\n      <td>1.00000</td>\n      <td>1.00000</td>\n      <td>1.00000</td>\n      <td>1.00000</td>\n      <td>1.00000</td>\n      <td>1.00000</td>\n      <td>0.85714</td>\n      <td>1.00000</td>\n      <td>1.00000</td>\n      <td>0.90000</td>\n      <td>...</td>\n      <td>1.00000</td>\n      <td>1.00000</td>\n      <td>0.92857</td>\n      <td>0.87500</td>\n      <td>0.92308</td>\n      <td>1.00000</td>\n      <td>1.00000</td>\n      <td>1.00000</td>\n      <td>1.00000</td>\n      <td>0.90909</td>\n    </tr>\n    <tr>\n      <td>17496</td>\n      <td>1.00000</td>\n      <td>1.00000</td>\n      <td>1.00000</td>\n      <td>1.00000</td>\n      <td>1.00000</td>\n      <td>0.90909</td>\n      <td>0.80000</td>\n      <td>0.92308</td>\n      <td>1.00000</td>\n      <td>1.00000</td>\n      <td>...</td>\n      <td>1.00000</td>\n      <td>0.90909</td>\n      <td>0.81250</td>\n      <td>0.91667</td>\n      <td>0.87500</td>\n      <td>1.00000</td>\n      <td>0.91667</td>\n      <td>1.00000</td>\n      <td>1.00000</td>\n      <td>0.93333</td>\n    </tr>\n    <tr>\n      <td>16260</td>\n      <td>1.00000</td>\n      <td>1.00000</td>\n      <td>1.00000</td>\n      <td>1.00000</td>\n      <td>1.00000</td>\n      <td>1.00000</td>\n      <td>0.87500</td>\n      <td>1.00000</td>\n      <td>1.00000</td>\n      <td>1.00000</td>\n      <td>...</td>\n      <td>1.00000</td>\n      <td>1.00000</td>\n      <td>1.00000</td>\n      <td>1.00000</td>\n      <td>1.00000</td>\n      <td>1.00000</td>\n      <td>1.00000</td>\n      <td>1.00000</td>\n      <td>0.90000</td>\n      <td>1.00000</td>\n    </tr>\n    <tr>\n      <td>25137</td>\n      <td>1.00000</td>\n      <td>1.00000</td>\n      <td>1.00000</td>\n      <td>1.00000</td>\n      <td>1.00000</td>\n      <td>1.00000</td>\n      <td>1.00000</td>\n      <td>1.00000</td>\n      <td>0.92857</td>\n      <td>1.00000</td>\n      <td>...</td>\n      <td>1.00000</td>\n      <td>1.00000</td>\n      <td>1.00000</td>\n      <td>1.00000</td>\n      <td>0.94444</td>\n      <td>1.00000</td>\n      <td>0.92308</td>\n      <td>1.00000</td>\n      <td>1.00000</td>\n      <td>0.93750</td>\n    </tr>\n    <tr>\n      <td>87137</td>\n      <td>1.00000</td>\n      <td>0.93750</td>\n      <td>1.00000</td>\n      <td>1.00000</td>\n      <td>1.00000</td>\n      <td>1.00000</td>\n      <td>0.93750</td>\n      <td>1.00000</td>\n      <td>0.94444</td>\n      <td>0.94737</td>\n      <td>...</td>\n      <td>0.93750</td>\n      <td>1.00000</td>\n      <td>0.95652</td>\n      <td>1.00000</td>\n      <td>1.00000</td>\n      <td>1.00000</td>\n      <td>0.94118</td>\n      <td>1.00000</td>\n      <td>0.94444</td>\n      <td>0.95000</td>\n    </tr>\n    <tr>\n      <td>22702</td>\n      <td>1.00000</td>\n      <td>0.87500</td>\n      <td>1.00000</td>\n      <td>1.00000</td>\n      <td>1.00000</td>\n      <td>1.00000</td>\n      <td>1.00000</td>\n      <td>1.00000</td>\n      <td>1.00000</td>\n      <td>1.00000</td>\n      <td>...</td>\n      <td>1.00000</td>\n      <td>1.00000</td>\n      <td>1.00000</td>\n      <td>1.00000</td>\n      <td>1.00000</td>\n      <td>1.00000</td>\n      <td>1.00000</td>\n      <td>1.00000</td>\n      <td>1.00000</td>\n      <td>1.00000</td>\n    </tr>\n    <tr>\n      <td>164208</td>\n      <td>1.00000</td>\n      <td>1.00000</td>\n      <td>1.00000</td>\n      <td>1.00000</td>\n      <td>1.00000</td>\n      <td>1.00000</td>\n      <td>1.00000</td>\n      <td>1.00000</td>\n      <td>1.00000</td>\n      <td>0.90000</td>\n      <td>...</td>\n      <td>1.00000</td>\n      <td>1.00000</td>\n      <td>1.00000</td>\n      <td>1.00000</td>\n      <td>1.00000</td>\n      <td>0.90909</td>\n      <td>1.00000</td>\n      <td>1.00000</td>\n      <td>1.00000</td>\n      <td>1.00000</td>\n    </tr>\n    <tr>\n      <td>169322</td>\n      <td>1.00000</td>\n      <td>1.00000</td>\n      <td>1.00000</td>\n      <td>1.00000</td>\n      <td>1.00000</td>\n      <td>1.00000</td>\n      <td>1.00000</td>\n      <td>1.00000</td>\n      <td>1.00000</td>\n      <td>1.00000</td>\n      <td>...</td>\n      <td>1.00000</td>\n      <td>1.00000</td>\n      <td>0.93750</td>\n      <td>1.00000</td>\n      <td>0.93333</td>\n      <td>1.00000</td>\n      <td>1.00000</td>\n      <td>1.00000</td>\n      <td>1.00000</td>\n      <td>1.00000</td>\n    </tr>\n    <tr>\n      <td>62706</td>\n      <td>1.00000</td>\n      <td>1.00000</td>\n      <td>0.93333</td>\n      <td>1.00000</td>\n      <td>1.00000</td>\n      <td>1.00000</td>\n      <td>1.00000</td>\n      <td>0.80000</td>\n      <td>1.00000</td>\n      <td>1.00000</td>\n      <td>...</td>\n      <td>1.00000</td>\n      <td>1.00000</td>\n      <td>0.93750</td>\n      <td>0.90000</td>\n      <td>0.93333</td>\n      <td>1.00000</td>\n      <td>1.00000</td>\n      <td>1.00000</td>\n      <td>1.00000</td>\n      <td>1.00000</td>\n    </tr>\n    <tr>\n      <td>30007</td>\n      <td>1.00000</td>\n      <td>1.00000</td>\n      <td>0.93333</td>\n      <td>1.00000</td>\n      <td>1.00000</td>\n      <td>1.00000</td>\n      <td>1.00000</td>\n      <td>1.00000</td>\n      <td>1.00000</td>\n      <td>1.00000</td>\n      <td>...</td>\n      <td>1.00000</td>\n      <td>1.00000</td>\n      <td>1.00000</td>\n      <td>1.00000</td>\n      <td>1.00000</td>\n      <td>1.00000</td>\n      <td>1.00000</td>\n      <td>1.00000</td>\n      <td>1.00000</td>\n      <td>0.92308</td>\n    </tr>\n    <tr>\n      <td>8679</td>\n      <td>1.00000</td>\n      <td>1.00000</td>\n      <td>0.92857</td>\n      <td>1.00000</td>\n      <td>0.83333</td>\n      <td>1.00000</td>\n      <td>1.00000</td>\n      <td>1.00000</td>\n      <td>1.00000</td>\n      <td>0.90909</td>\n      <td>...</td>\n      <td>1.00000</td>\n      <td>1.00000</td>\n      <td>1.00000</td>\n      <td>0.75000</td>\n      <td>0.92857</td>\n      <td>1.00000</td>\n      <td>1.00000</td>\n      <td>1.00000</td>\n      <td>0.90000</td>\n      <td>1.00000</td>\n    </tr>\n    <tr>\n      <td>40286</td>\n      <td>1.00000</td>\n      <td>1.00000</td>\n      <td>1.00000</td>\n      <td>1.00000</td>\n      <td>1.00000</td>\n      <td>1.00000</td>\n      <td>1.00000</td>\n      <td>1.00000</td>\n      <td>1.00000</td>\n      <td>1.00000</td>\n      <td>...</td>\n      <td>1.00000</td>\n      <td>1.00000</td>\n      <td>0.93333</td>\n      <td>1.00000</td>\n      <td>1.00000</td>\n      <td>1.00000</td>\n      <td>1.00000</td>\n      <td>1.00000</td>\n      <td>1.00000</td>\n      <td>1.00000</td>\n    </tr>\n    <tr>\n      <td>26299</td>\n      <td>1.00000</td>\n      <td>0.87500</td>\n      <td>1.00000</td>\n      <td>1.00000</td>\n      <td>1.00000</td>\n      <td>1.00000</td>\n      <td>1.00000</td>\n      <td>1.00000</td>\n      <td>1.00000</td>\n      <td>1.00000</td>\n      <td>...</td>\n      <td>1.00000</td>\n      <td>1.00000</td>\n      <td>1.00000</td>\n      <td>1.00000</td>\n      <td>1.00000</td>\n      <td>1.00000</td>\n      <td>1.00000</td>\n      <td>1.00000</td>\n      <td>1.00000</td>\n      <td>1.00000</td>\n    </tr>\n    <tr>\n      <td>14668</td>\n      <td>1.00000</td>\n      <td>1.00000</td>\n      <td>0.93750</td>\n      <td>1.00000</td>\n      <td>1.00000</td>\n      <td>1.00000</td>\n      <td>0.90000</td>\n      <td>1.00000</td>\n      <td>1.00000</td>\n      <td>1.00000</td>\n      <td>...</td>\n      <td>1.00000</td>\n      <td>1.00000</td>\n      <td>0.80000</td>\n      <td>1.00000</td>\n      <td>1.00000</td>\n      <td>1.00000</td>\n      <td>0.90909</td>\n      <td>1.00000</td>\n      <td>1.00000</td>\n      <td>1.00000</td>\n    </tr>\n    <tr>\n      <td>8630</td>\n      <td>0.93333</td>\n      <td>1.00000</td>\n      <td>1.00000</td>\n      <td>1.00000</td>\n      <td>1.00000</td>\n      <td>1.00000</td>\n      <td>0.90909</td>\n      <td>0.92308</td>\n      <td>1.00000</td>\n      <td>1.00000</td>\n      <td>...</td>\n      <td>1.00000</td>\n      <td>1.00000</td>\n      <td>1.00000</td>\n      <td>1.00000</td>\n      <td>1.00000</td>\n      <td>1.00000</td>\n      <td>1.00000</td>\n      <td>1.00000</td>\n      <td>1.00000</td>\n      <td>0.93333</td>\n    </tr>\n    <tr>\n      <td>213140</td>\n      <td>1.00000</td>\n      <td>0.90909</td>\n      <td>1.00000</td>\n      <td>1.00000</td>\n      <td>1.00000</td>\n      <td>0.90909</td>\n      <td>1.00000</td>\n      <td>1.00000</td>\n      <td>1.00000</td>\n      <td>0.84615</td>\n      <td>...</td>\n      <td>1.00000</td>\n      <td>1.00000</td>\n      <td>0.94444</td>\n      <td>1.00000</td>\n      <td>0.94118</td>\n      <td>1.00000</td>\n      <td>1.00000</td>\n      <td>1.00000</td>\n      <td>1.00000</td>\n      <td>1.00000</td>\n    </tr>\n    <tr>\n      <td>8556</td>\n      <td>1.00000</td>\n      <td>0.87500</td>\n      <td>1.00000</td>\n      <td>1.00000</td>\n      <td>1.00000</td>\n      <td>1.00000</td>\n      <td>1.00000</td>\n      <td>1.00000</td>\n      <td>1.00000</td>\n      <td>1.00000</td>\n      <td>...</td>\n      <td>1.00000</td>\n      <td>1.00000</td>\n      <td>1.00000</td>\n      <td>1.00000</td>\n      <td>1.00000</td>\n      <td>1.00000</td>\n      <td>1.00000</td>\n      <td>1.00000</td>\n      <td>1.00000</td>\n      <td>1.00000</td>\n    </tr>\n    <tr>\n      <td>84774</td>\n      <td>1.00000</td>\n      <td>0.77778</td>\n      <td>1.00000</td>\n      <td>0.88889</td>\n      <td>1.00000</td>\n      <td>1.00000</td>\n      <td>1.00000</td>\n      <td>1.00000</td>\n      <td>1.00000</td>\n      <td>1.00000</td>\n      <td>...</td>\n      <td>0.90000</td>\n      <td>1.00000</td>\n      <td>1.00000</td>\n      <td>1.00000</td>\n      <td>1.00000</td>\n      <td>1.00000</td>\n      <td>1.00000</td>\n      <td>1.00000</td>\n      <td>1.00000</td>\n      <td>1.00000</td>\n    </tr>\n    <tr>\n      <td>38028</td>\n      <td>1.00000</td>\n      <td>1.00000</td>\n      <td>1.00000</td>\n      <td>1.00000</td>\n      <td>1.00000</td>\n      <td>1.00000</td>\n      <td>1.00000</td>\n      <td>1.00000</td>\n      <td>1.00000</td>\n      <td>0.92857</td>\n      <td>...</td>\n      <td>1.00000</td>\n      <td>1.00000</td>\n      <td>0.88235</td>\n      <td>0.91667</td>\n      <td>0.80000</td>\n      <td>1.00000</td>\n      <td>1.00000</td>\n      <td>1.00000</td>\n      <td>1.00000</td>\n      <td>0.93333</td>\n    </tr>\n    <tr>\n      <td>56412</td>\n      <td>1.00000</td>\n      <td>1.00000</td>\n      <td>1.00000</td>\n      <td>1.00000</td>\n      <td>1.00000</td>\n      <td>1.00000</td>\n      <td>1.00000</td>\n      <td>1.00000</td>\n      <td>1.00000</td>\n      <td>1.00000</td>\n      <td>...</td>\n      <td>1.00000</td>\n      <td>1.00000</td>\n      <td>0.87500</td>\n      <td>0.90909</td>\n      <td>0.93750</td>\n      <td>0.92857</td>\n      <td>0.90909</td>\n      <td>1.00000</td>\n      <td>1.00000</td>\n      <td>1.00000</td>\n    </tr>\n    <tr>\n      <td>48873</td>\n      <td>1.00000</td>\n      <td>1.00000</td>\n      <td>1.00000</td>\n      <td>1.00000</td>\n      <td>1.00000</td>\n      <td>1.00000</td>\n      <td>1.00000</td>\n      <td>1.00000</td>\n      <td>1.00000</td>\n      <td>1.00000</td>\n      <td>...</td>\n      <td>1.00000</td>\n      <td>1.00000</td>\n      <td>0.91667</td>\n      <td>1.00000</td>\n      <td>1.00000</td>\n      <td>1.00000</td>\n      <td>1.00000</td>\n      <td>1.00000</td>\n      <td>1.00000</td>\n      <td>1.00000</td>\n    </tr>\n    <tr>\n      <td>214785</td>\n      <td>1.00000</td>\n      <td>1.00000</td>\n      <td>1.00000</td>\n      <td>1.00000</td>\n      <td>1.00000</td>\n      <td>1.00000</td>\n      <td>1.00000</td>\n      <td>1.00000</td>\n      <td>1.00000</td>\n      <td>1.00000</td>\n      <td>...</td>\n      <td>1.00000</td>\n      <td>1.00000</td>\n      <td>1.00000</td>\n      <td>1.00000</td>\n      <td>1.00000</td>\n      <td>1.00000</td>\n      <td>1.00000</td>\n      <td>1.00000</td>\n      <td>1.00000</td>\n      <td>1.00000</td>\n    </tr>\n    <tr>\n      <td>14735</td>\n      <td>1.00000</td>\n      <td>1.00000</td>\n      <td>1.00000</td>\n      <td>1.00000</td>\n      <td>1.00000</td>\n      <td>0.88889</td>\n      <td>1.00000</td>\n      <td>0.90909</td>\n      <td>1.00000</td>\n      <td>1.00000</td>\n      <td>...</td>\n      <td>1.00000</td>\n      <td>1.00000</td>\n      <td>1.00000</td>\n      <td>1.00000</td>\n      <td>1.00000</td>\n      <td>1.00000</td>\n      <td>1.00000</td>\n      <td>1.00000</td>\n      <td>1.00000</td>\n      <td>0.83333</td>\n    </tr>\n    <tr>\n      <td>132703</td>\n      <td>0.92308</td>\n      <td>1.00000</td>\n      <td>1.00000</td>\n      <td>1.00000</td>\n      <td>1.00000</td>\n      <td>1.00000</td>\n      <td>0.88889</td>\n      <td>0.90909</td>\n      <td>1.00000</td>\n      <td>0.91667</td>\n      <td>...</td>\n      <td>1.00000</td>\n      <td>1.00000</td>\n      <td>1.00000</td>\n      <td>1.00000</td>\n      <td>1.00000</td>\n      <td>1.00000</td>\n      <td>1.00000</td>\n      <td>1.00000</td>\n      <td>1.00000</td>\n      <td>0.83333</td>\n    </tr>\n    <tr>\n      <td>231537</td>\n      <td>0.92308</td>\n      <td>1.00000</td>\n      <td>1.00000</td>\n      <td>1.00000</td>\n      <td>1.00000</td>\n      <td>1.00000</td>\n      <td>0.88889</td>\n      <td>0.90909</td>\n      <td>1.00000</td>\n      <td>0.91667</td>\n      <td>...</td>\n      <td>1.00000</td>\n      <td>1.00000</td>\n      <td>0.93750</td>\n      <td>1.00000</td>\n      <td>0.93333</td>\n      <td>1.00000</td>\n      <td>1.00000</td>\n      <td>1.00000</td>\n      <td>1.00000</td>\n      <td>0.92308</td>\n    </tr>\n    <tr>\n      <td>82487</td>\n      <td>1.00000</td>\n      <td>1.00000</td>\n      <td>0.94118</td>\n      <td>1.00000</td>\n      <td>1.00000</td>\n      <td>1.00000</td>\n      <td>1.00000</td>\n      <td>1.00000</td>\n      <td>1.00000</td>\n      <td>0.92857</td>\n      <td>...</td>\n      <td>0.90909</td>\n      <td>1.00000</td>\n      <td>0.81250</td>\n      <td>1.00000</td>\n      <td>0.94118</td>\n      <td>1.00000</td>\n      <td>1.00000</td>\n      <td>1.00000</td>\n      <td>1.00000</td>\n      <td>1.00000</td>\n    </tr>\n    <tr>\n      <td>219173</td>\n      <td>1.00000</td>\n      <td>1.00000</td>\n      <td>1.00000</td>\n      <td>1.00000</td>\n      <td>1.00000</td>\n      <td>1.00000</td>\n      <td>1.00000</td>\n      <td>1.00000</td>\n      <td>1.00000</td>\n      <td>1.00000</td>\n      <td>...</td>\n      <td>1.00000</td>\n      <td>0.88889</td>\n      <td>0.93750</td>\n      <td>1.00000</td>\n      <td>1.00000</td>\n      <td>1.00000</td>\n      <td>1.00000</td>\n      <td>1.00000</td>\n      <td>1.00000</td>\n      <td>1.00000</td>\n    </tr>\n    <tr>\n      <td>76808</td>\n      <td>1.00000</td>\n      <td>1.00000</td>\n      <td>1.00000</td>\n      <td>1.00000</td>\n      <td>1.00000</td>\n      <td>1.00000</td>\n      <td>1.00000</td>\n      <td>1.00000</td>\n      <td>1.00000</td>\n      <td>1.00000</td>\n      <td>...</td>\n      <td>1.00000</td>\n      <td>1.00000</td>\n      <td>0.87500</td>\n      <td>0.90909</td>\n      <td>0.93750</td>\n      <td>0.84615</td>\n      <td>0.90909</td>\n      <td>1.00000</td>\n      <td>1.00000</td>\n      <td>1.00000</td>\n    </tr>\n    <tr>\n      <td>76763</td>\n      <td>1.00000</td>\n      <td>1.00000</td>\n      <td>1.00000</td>\n      <td>1.00000</td>\n      <td>1.00000</td>\n      <td>1.00000</td>\n      <td>1.00000</td>\n      <td>1.00000</td>\n      <td>1.00000</td>\n      <td>1.00000</td>\n      <td>...</td>\n      <td>0.87500</td>\n      <td>1.00000</td>\n      <td>0.93333</td>\n      <td>1.00000</td>\n      <td>1.00000</td>\n      <td>1.00000</td>\n      <td>1.00000</td>\n      <td>1.00000</td>\n      <td>1.00000</td>\n      <td>1.00000</td>\n    </tr>\n    <tr>\n      <td>16966</td>\n      <td>1.00000</td>\n      <td>1.00000</td>\n      <td>1.00000</td>\n      <td>1.00000</td>\n      <td>1.00000</td>\n      <td>1.00000</td>\n      <td>1.00000</td>\n      <td>1.00000</td>\n      <td>1.00000</td>\n      <td>1.00000</td>\n      <td>...</td>\n      <td>1.00000</td>\n      <td>1.00000</td>\n      <td>1.00000</td>\n      <td>1.00000</td>\n      <td>1.00000</td>\n      <td>1.00000</td>\n      <td>1.00000</td>\n      <td>1.00000</td>\n      <td>1.00000</td>\n      <td>1.00000</td>\n    </tr>\n    <tr>\n      <td>229247</td>\n      <td>1.00000</td>\n      <td>0.92308</td>\n      <td>0.94737</td>\n      <td>1.00000</td>\n      <td>1.00000</td>\n      <td>1.00000</td>\n      <td>1.00000</td>\n      <td>1.00000</td>\n      <td>1.00000</td>\n      <td>0.86667</td>\n      <td>...</td>\n      <td>1.00000</td>\n      <td>1.00000</td>\n      <td>0.95000</td>\n      <td>1.00000</td>\n      <td>0.94737</td>\n      <td>1.00000</td>\n      <td>1.00000</td>\n      <td>1.00000</td>\n      <td>1.00000</td>\n      <td>1.00000</td>\n    </tr>\n    <tr>\n      <td>202881</td>\n      <td>0.93333</td>\n      <td>1.00000</td>\n      <td>0.94118</td>\n      <td>1.00000</td>\n      <td>0.88889</td>\n      <td>1.00000</td>\n      <td>1.00000</td>\n      <td>0.92308</td>\n      <td>1.00000</td>\n      <td>1.00000</td>\n      <td>...</td>\n      <td>1.00000</td>\n      <td>1.00000</td>\n      <td>0.94444</td>\n      <td>0.91667</td>\n      <td>1.00000</td>\n      <td>0.93333</td>\n      <td>0.91667</td>\n      <td>1.00000</td>\n      <td>0.92308</td>\n      <td>0.93333</td>\n    </tr>\n    <tr>\n      <td>234797</td>\n      <td>1.00000</td>\n      <td>0.87500</td>\n      <td>1.00000</td>\n      <td>1.00000</td>\n      <td>1.00000</td>\n      <td>1.00000</td>\n      <td>1.00000</td>\n      <td>1.00000</td>\n      <td>1.00000</td>\n      <td>1.00000</td>\n      <td>...</td>\n      <td>1.00000</td>\n      <td>1.00000</td>\n      <td>0.95833</td>\n      <td>1.00000</td>\n      <td>0.95652</td>\n      <td>1.00000</td>\n      <td>1.00000</td>\n      <td>1.00000</td>\n      <td>0.94737</td>\n      <td>1.00000</td>\n    </tr>\n    <tr>\n      <td>72191</td>\n      <td>1.00000</td>\n      <td>1.00000</td>\n      <td>1.00000</td>\n      <td>1.00000</td>\n      <td>1.00000</td>\n      <td>0.88889</td>\n      <td>1.00000</td>\n      <td>0.90909</td>\n      <td>1.00000</td>\n      <td>1.00000</td>\n      <td>...</td>\n      <td>1.00000</td>\n      <td>1.00000</td>\n      <td>0.93750</td>\n      <td>1.00000</td>\n      <td>1.00000</td>\n      <td>1.00000</td>\n      <td>0.90000</td>\n      <td>1.00000</td>\n      <td>1.00000</td>\n      <td>0.92308</td>\n    </tr>\n    <tr>\n      <td>42967</td>\n      <td>1.00000</td>\n      <td>1.00000</td>\n      <td>1.00000</td>\n      <td>1.00000</td>\n      <td>1.00000</td>\n      <td>1.00000</td>\n      <td>1.00000</td>\n      <td>1.00000</td>\n      <td>1.00000</td>\n      <td>1.00000</td>\n      <td>...</td>\n      <td>1.00000</td>\n      <td>1.00000</td>\n      <td>0.93750</td>\n      <td>1.00000</td>\n      <td>1.00000</td>\n      <td>1.00000</td>\n      <td>0.90000</td>\n      <td>1.00000</td>\n      <td>1.00000</td>\n      <td>1.00000</td>\n    </tr>\n    <tr>\n      <td>18397</td>\n      <td>1.00000</td>\n      <td>1.00000</td>\n      <td>1.00000</td>\n      <td>1.00000</td>\n      <td>0.66667</td>\n      <td>1.00000</td>\n      <td>1.00000</td>\n      <td>1.00000</td>\n      <td>1.00000</td>\n      <td>1.00000</td>\n      <td>...</td>\n      <td>1.00000</td>\n      <td>1.00000</td>\n      <td>1.00000</td>\n      <td>1.00000</td>\n      <td>1.00000</td>\n      <td>1.00000</td>\n      <td>1.00000</td>\n      <td>1.00000</td>\n      <td>1.00000</td>\n      <td>1.00000</td>\n    </tr>\n    <tr>\n      <td>21352</td>\n      <td>1.00000</td>\n      <td>1.00000</td>\n      <td>0.87500</td>\n      <td>1.00000</td>\n      <td>1.00000</td>\n      <td>1.00000</td>\n      <td>1.00000</td>\n      <td>1.00000</td>\n      <td>1.00000</td>\n      <td>1.00000</td>\n      <td>...</td>\n      <td>1.00000</td>\n      <td>1.00000</td>\n      <td>0.88235</td>\n      <td>1.00000</td>\n      <td>1.00000</td>\n      <td>1.00000</td>\n      <td>1.00000</td>\n      <td>1.00000</td>\n      <td>1.00000</td>\n      <td>1.00000</td>\n    </tr>\n    <tr>\n      <td>235000</td>\n      <td>1.00000</td>\n      <td>0.90000</td>\n      <td>1.00000</td>\n      <td>1.00000</td>\n      <td>1.00000</td>\n      <td>1.00000</td>\n      <td>1.00000</td>\n      <td>1.00000</td>\n      <td>1.00000</td>\n      <td>1.00000</td>\n      <td>...</td>\n      <td>1.00000</td>\n      <td>1.00000</td>\n      <td>1.00000</td>\n      <td>1.00000</td>\n      <td>1.00000</td>\n      <td>1.00000</td>\n      <td>1.00000</td>\n      <td>1.00000</td>\n      <td>0.91667</td>\n      <td>1.00000</td>\n    </tr>\n    <tr>\n      <td>149738</td>\n      <td>0.87500</td>\n      <td>0.92308</td>\n      <td>1.00000</td>\n      <td>1.00000</td>\n      <td>1.00000</td>\n      <td>0.92308</td>\n      <td>1.00000</td>\n      <td>0.85714</td>\n      <td>1.00000</td>\n      <td>1.00000</td>\n      <td>...</td>\n      <td>1.00000</td>\n      <td>1.00000</td>\n      <td>0.95000</td>\n      <td>1.00000</td>\n      <td>0.94737</td>\n      <td>1.00000</td>\n      <td>1.00000</td>\n      <td>1.00000</td>\n      <td>0.93333</td>\n      <td>0.80000</td>\n    </tr>\n    <tr>\n      <td>140135</td>\n      <td>0.92308</td>\n      <td>1.00000</td>\n      <td>1.00000</td>\n      <td>1.00000</td>\n      <td>1.00000</td>\n      <td>1.00000</td>\n      <td>1.00000</td>\n      <td>0.90909</td>\n      <td>1.00000</td>\n      <td>1.00000</td>\n      <td>...</td>\n      <td>1.00000</td>\n      <td>1.00000</td>\n      <td>0.93750</td>\n      <td>1.00000</td>\n      <td>0.93333</td>\n      <td>1.00000</td>\n      <td>1.00000</td>\n      <td>1.00000</td>\n      <td>1.00000</td>\n      <td>0.92308</td>\n    </tr>\n  </tbody>\n</table>\n<p>40 rows × 3729 columns</p>\n</div>",
      "text/plain": "        7198    8493    8494    8495    8496    8497    8498    8500    \\\n16682  1.00000 1.00000 1.00000 1.00000 1.00000 1.00000 0.85714 1.00000   \n17496  1.00000 1.00000 1.00000 1.00000 1.00000 0.90909 0.80000 0.92308   \n16260  1.00000 1.00000 1.00000 1.00000 1.00000 1.00000 0.87500 1.00000   \n25137  1.00000 1.00000 1.00000 1.00000 1.00000 1.00000 1.00000 1.00000   \n87137  1.00000 0.93750 1.00000 1.00000 1.00000 1.00000 0.93750 1.00000   \n22702  1.00000 0.87500 1.00000 1.00000 1.00000 1.00000 1.00000 1.00000   \n164208 1.00000 1.00000 1.00000 1.00000 1.00000 1.00000 1.00000 1.00000   \n169322 1.00000 1.00000 1.00000 1.00000 1.00000 1.00000 1.00000 1.00000   \n62706  1.00000 1.00000 0.93333 1.00000 1.00000 1.00000 1.00000 0.80000   \n30007  1.00000 1.00000 0.93333 1.00000 1.00000 1.00000 1.00000 1.00000   \n8679   1.00000 1.00000 0.92857 1.00000 0.83333 1.00000 1.00000 1.00000   \n40286  1.00000 1.00000 1.00000 1.00000 1.00000 1.00000 1.00000 1.00000   \n26299  1.00000 0.87500 1.00000 1.00000 1.00000 1.00000 1.00000 1.00000   \n14668  1.00000 1.00000 0.93750 1.00000 1.00000 1.00000 0.90000 1.00000   \n8630   0.93333 1.00000 1.00000 1.00000 1.00000 1.00000 0.90909 0.92308   \n213140 1.00000 0.90909 1.00000 1.00000 1.00000 0.90909 1.00000 1.00000   \n8556   1.00000 0.87500 1.00000 1.00000 1.00000 1.00000 1.00000 1.00000   \n84774  1.00000 0.77778 1.00000 0.88889 1.00000 1.00000 1.00000 1.00000   \n38028  1.00000 1.00000 1.00000 1.00000 1.00000 1.00000 1.00000 1.00000   \n56412  1.00000 1.00000 1.00000 1.00000 1.00000 1.00000 1.00000 1.00000   \n48873  1.00000 1.00000 1.00000 1.00000 1.00000 1.00000 1.00000 1.00000   \n214785 1.00000 1.00000 1.00000 1.00000 1.00000 1.00000 1.00000 1.00000   \n14735  1.00000 1.00000 1.00000 1.00000 1.00000 0.88889 1.00000 0.90909   \n132703 0.92308 1.00000 1.00000 1.00000 1.00000 1.00000 0.88889 0.90909   \n231537 0.92308 1.00000 1.00000 1.00000 1.00000 1.00000 0.88889 0.90909   \n82487  1.00000 1.00000 0.94118 1.00000 1.00000 1.00000 1.00000 1.00000   \n219173 1.00000 1.00000 1.00000 1.00000 1.00000 1.00000 1.00000 1.00000   \n76808  1.00000 1.00000 1.00000 1.00000 1.00000 1.00000 1.00000 1.00000   \n76763  1.00000 1.00000 1.00000 1.00000 1.00000 1.00000 1.00000 1.00000   \n16966  1.00000 1.00000 1.00000 1.00000 1.00000 1.00000 1.00000 1.00000   \n229247 1.00000 0.92308 0.94737 1.00000 1.00000 1.00000 1.00000 1.00000   \n202881 0.93333 1.00000 0.94118 1.00000 0.88889 1.00000 1.00000 0.92308   \n234797 1.00000 0.87500 1.00000 1.00000 1.00000 1.00000 1.00000 1.00000   \n72191  1.00000 1.00000 1.00000 1.00000 1.00000 0.88889 1.00000 0.90909   \n42967  1.00000 1.00000 1.00000 1.00000 1.00000 1.00000 1.00000 1.00000   \n18397  1.00000 1.00000 1.00000 1.00000 0.66667 1.00000 1.00000 1.00000   \n21352  1.00000 1.00000 0.87500 1.00000 1.00000 1.00000 1.00000 1.00000   \n235000 1.00000 0.90000 1.00000 1.00000 1.00000 1.00000 1.00000 1.00000   \n149738 0.87500 0.92308 1.00000 1.00000 1.00000 0.92308 1.00000 0.85714   \n140135 0.92308 1.00000 1.00000 1.00000 1.00000 1.00000 1.00000 0.90909   \n\n        8503    8506    ...  254874  254940  255038  255263  255545  255936  \\\n16682  1.00000 0.90000  ... 1.00000 1.00000 0.92857 0.87500 0.92308 1.00000   \n17496  1.00000 1.00000  ... 1.00000 0.90909 0.81250 0.91667 0.87500 1.00000   \n16260  1.00000 1.00000  ... 1.00000 1.00000 1.00000 1.00000 1.00000 1.00000   \n25137  0.92857 1.00000  ... 1.00000 1.00000 1.00000 1.00000 0.94444 1.00000   \n87137  0.94444 0.94737  ... 0.93750 1.00000 0.95652 1.00000 1.00000 1.00000   \n22702  1.00000 1.00000  ... 1.00000 1.00000 1.00000 1.00000 1.00000 1.00000   \n164208 1.00000 0.90000  ... 1.00000 1.00000 1.00000 1.00000 1.00000 0.90909   \n169322 1.00000 1.00000  ... 1.00000 1.00000 0.93750 1.00000 0.93333 1.00000   \n62706  1.00000 1.00000  ... 1.00000 1.00000 0.93750 0.90000 0.93333 1.00000   \n30007  1.00000 1.00000  ... 1.00000 1.00000 1.00000 1.00000 1.00000 1.00000   \n8679   1.00000 0.90909  ... 1.00000 1.00000 1.00000 0.75000 0.92857 1.00000   \n40286  1.00000 1.00000  ... 1.00000 1.00000 0.93333 1.00000 1.00000 1.00000   \n26299  1.00000 1.00000  ... 1.00000 1.00000 1.00000 1.00000 1.00000 1.00000   \n14668  1.00000 1.00000  ... 1.00000 1.00000 0.80000 1.00000 1.00000 1.00000   \n8630   1.00000 1.00000  ... 1.00000 1.00000 1.00000 1.00000 1.00000 1.00000   \n213140 1.00000 0.84615  ... 1.00000 1.00000 0.94444 1.00000 0.94118 1.00000   \n8556   1.00000 1.00000  ... 1.00000 1.00000 1.00000 1.00000 1.00000 1.00000   \n84774  1.00000 1.00000  ... 0.90000 1.00000 1.00000 1.00000 1.00000 1.00000   \n38028  1.00000 0.92857  ... 1.00000 1.00000 0.88235 0.91667 0.80000 1.00000   \n56412  1.00000 1.00000  ... 1.00000 1.00000 0.87500 0.90909 0.93750 0.92857   \n48873  1.00000 1.00000  ... 1.00000 1.00000 0.91667 1.00000 1.00000 1.00000   \n214785 1.00000 1.00000  ... 1.00000 1.00000 1.00000 1.00000 1.00000 1.00000   \n14735  1.00000 1.00000  ... 1.00000 1.00000 1.00000 1.00000 1.00000 1.00000   \n132703 1.00000 0.91667  ... 1.00000 1.00000 1.00000 1.00000 1.00000 1.00000   \n231537 1.00000 0.91667  ... 1.00000 1.00000 0.93750 1.00000 0.93333 1.00000   \n82487  1.00000 0.92857  ... 0.90909 1.00000 0.81250 1.00000 0.94118 1.00000   \n219173 1.00000 1.00000  ... 1.00000 0.88889 0.93750 1.00000 1.00000 1.00000   \n76808  1.00000 1.00000  ... 1.00000 1.00000 0.87500 0.90909 0.93750 0.84615   \n76763  1.00000 1.00000  ... 0.87500 1.00000 0.93333 1.00000 1.00000 1.00000   \n16966  1.00000 1.00000  ... 1.00000 1.00000 1.00000 1.00000 1.00000 1.00000   \n229247 1.00000 0.86667  ... 1.00000 1.00000 0.95000 1.00000 0.94737 1.00000   \n202881 1.00000 1.00000  ... 1.00000 1.00000 0.94444 0.91667 1.00000 0.93333   \n234797 1.00000 1.00000  ... 1.00000 1.00000 0.95833 1.00000 0.95652 1.00000   \n72191  1.00000 1.00000  ... 1.00000 1.00000 0.93750 1.00000 1.00000 1.00000   \n42967  1.00000 1.00000  ... 1.00000 1.00000 0.93750 1.00000 1.00000 1.00000   \n18397  1.00000 1.00000  ... 1.00000 1.00000 1.00000 1.00000 1.00000 1.00000   \n21352  1.00000 1.00000  ... 1.00000 1.00000 0.88235 1.00000 1.00000 1.00000   \n235000 1.00000 1.00000  ... 1.00000 1.00000 1.00000 1.00000 1.00000 1.00000   \n149738 1.00000 1.00000  ... 1.00000 1.00000 0.95000 1.00000 0.94737 1.00000   \n140135 1.00000 1.00000  ... 1.00000 1.00000 0.93750 1.00000 0.93333 1.00000   \n\n        257312  260193  261124  263813  \n16682  1.00000 1.00000 1.00000 0.90909  \n17496  0.91667 1.00000 1.00000 0.93333  \n16260  1.00000 1.00000 0.90000 1.00000  \n25137  0.92308 1.00000 1.00000 0.93750  \n87137  0.94118 1.00000 0.94444 0.95000  \n22702  1.00000 1.00000 1.00000 1.00000  \n164208 1.00000 1.00000 1.00000 1.00000  \n169322 1.00000 1.00000 1.00000 1.00000  \n62706  1.00000 1.00000 1.00000 1.00000  \n30007  1.00000 1.00000 1.00000 0.92308  \n8679   1.00000 1.00000 0.90000 1.00000  \n40286  1.00000 1.00000 1.00000 1.00000  \n26299  1.00000 1.00000 1.00000 1.00000  \n14668  0.90909 1.00000 1.00000 1.00000  \n8630   1.00000 1.00000 1.00000 0.93333  \n213140 1.00000 1.00000 1.00000 1.00000  \n8556   1.00000 1.00000 1.00000 1.00000  \n84774  1.00000 1.00000 1.00000 1.00000  \n38028  1.00000 1.00000 1.00000 0.93333  \n56412  0.90909 1.00000 1.00000 1.00000  \n48873  1.00000 1.00000 1.00000 1.00000  \n214785 1.00000 1.00000 1.00000 1.00000  \n14735  1.00000 1.00000 1.00000 0.83333  \n132703 1.00000 1.00000 1.00000 0.83333  \n231537 1.00000 1.00000 1.00000 0.92308  \n82487  1.00000 1.00000 1.00000 1.00000  \n219173 1.00000 1.00000 1.00000 1.00000  \n76808  0.90909 1.00000 1.00000 1.00000  \n76763  1.00000 1.00000 1.00000 1.00000  \n16966  1.00000 1.00000 1.00000 1.00000  \n229247 1.00000 1.00000 1.00000 1.00000  \n202881 0.91667 1.00000 0.92308 0.93333  \n234797 1.00000 1.00000 0.94737 1.00000  \n72191  0.90000 1.00000 1.00000 0.92308  \n42967  0.90000 1.00000 1.00000 1.00000  \n18397  1.00000 1.00000 1.00000 1.00000  \n21352  1.00000 1.00000 1.00000 1.00000  \n235000 1.00000 1.00000 0.91667 1.00000  \n149738 1.00000 1.00000 0.93333 0.80000  \n140135 1.00000 1.00000 1.00000 0.92308  \n\n[40 rows x 3729 columns]"
     },
     "execution_count": 598,
     "metadata": {},
     "output_type": "execute_result"
    }
   ],
   "source": [
    "result_w_filter_test"
   ]
  },
  {
   "cell_type": "code",
   "execution_count": 599,
   "metadata": {},
   "outputs": [],
   "source": [
    "df1 = pd.DataFrame(np.sort(result_w_filter_test.values, axis=0), index=result_w_filter_test.index, columns=result_w_filter_test.columns)"
   ]
  },
  {
   "cell_type": "code",
   "execution_count": 600,
   "metadata": {},
   "outputs": [
    {
     "name": "stderr",
     "output_type": "stream",
     "text": "/usr/local/lib/python3.7/site-packages/ipykernel_launcher.py:1: FutureWarning: \n.ix is deprecated. Please use\n.loc for label based indexing or\n.iloc for positional indexing\n\nSee the documentation here:\nhttp://pandas.pydata.org/pandas-docs/stable/user_guide/indexing.html#ix-indexer-is-deprecated\n  \"\"\"Entry point for launching an IPython kernel.\n"
    }
   ],
   "source": [
    "new_columns = df1.columns[df1.ix[df1.first_valid_index()].argsort()]"
   ]
  },
  {
   "cell_type": "code",
   "execution_count": 601,
   "metadata": {},
   "outputs": [],
   "source": [
    "test = df1[new_columns]"
   ]
  },
  {
   "cell_type": "code",
   "execution_count": 602,
   "metadata": {},
   "outputs": [],
   "source": [
    "test = test.reset_index()"
   ]
  },
  {
   "cell_type": "code",
   "execution_count": 603,
   "metadata": {},
   "outputs": [
    {
     "data": {
      "text/html": "<div>\n<style scoped>\n    .dataframe tbody tr th:only-of-type {\n        vertical-align: middle;\n    }\n\n    .dataframe tbody tr th {\n        vertical-align: top;\n    }\n\n    .dataframe thead th {\n        text-align: right;\n    }\n</style>\n<table border=\"1\" class=\"dataframe\">\n  <thead>\n    <tr style=\"text-align: right;\">\n      <th></th>\n      <th>index</th>\n      <th>16470</th>\n      <th>228546</th>\n      <th>195045</th>\n      <th>229994</th>\n      <th>222582</th>\n      <th>240287</th>\n      <th>216231</th>\n      <th>23985</th>\n      <th>36944</th>\n      <th>...</th>\n      <th>229099</th>\n      <th>58431</th>\n      <th>8919</th>\n      <th>87053</th>\n      <th>8918</th>\n      <th>58831</th>\n      <th>22297</th>\n      <th>16446</th>\n      <th>8935</th>\n      <th>22204</th>\n    </tr>\n  </thead>\n  <tbody>\n    <tr>\n      <td>0</td>\n      <td>16682</td>\n      <td>0.25000</td>\n      <td>0.28571</td>\n      <td>0.33333</td>\n      <td>0.33333</td>\n      <td>0.42857</td>\n      <td>0.42857</td>\n      <td>0.50000</td>\n      <td>0.50000</td>\n      <td>0.50000</td>\n      <td>...</td>\n      <td>1.00000</td>\n      <td>1.00000</td>\n      <td>1.00000</td>\n      <td>1.00000</td>\n      <td>1.00000</td>\n      <td>1.00000</td>\n      <td>1.00000</td>\n      <td>1.00000</td>\n      <td>1.00000</td>\n      <td>1.00000</td>\n    </tr>\n    <tr>\n      <td>1</td>\n      <td>17496</td>\n      <td>0.80000</td>\n      <td>0.88889</td>\n      <td>0.80000</td>\n      <td>0.81250</td>\n      <td>0.81818</td>\n      <td>0.87500</td>\n      <td>0.77778</td>\n      <td>0.77778</td>\n      <td>0.90000</td>\n      <td>...</td>\n      <td>1.00000</td>\n      <td>1.00000</td>\n      <td>1.00000</td>\n      <td>1.00000</td>\n      <td>1.00000</td>\n      <td>1.00000</td>\n      <td>1.00000</td>\n      <td>1.00000</td>\n      <td>1.00000</td>\n      <td>1.00000</td>\n    </tr>\n    <tr>\n      <td>2</td>\n      <td>16260</td>\n      <td>0.85714</td>\n      <td>0.90000</td>\n      <td>0.88889</td>\n      <td>0.90476</td>\n      <td>0.88889</td>\n      <td>0.88889</td>\n      <td>0.85714</td>\n      <td>0.87500</td>\n      <td>0.90000</td>\n      <td>...</td>\n      <td>1.00000</td>\n      <td>1.00000</td>\n      <td>1.00000</td>\n      <td>1.00000</td>\n      <td>1.00000</td>\n      <td>1.00000</td>\n      <td>1.00000</td>\n      <td>1.00000</td>\n      <td>1.00000</td>\n      <td>1.00000</td>\n    </tr>\n    <tr>\n      <td>3</td>\n      <td>25137</td>\n      <td>0.91667</td>\n      <td>0.90000</td>\n      <td>0.90000</td>\n      <td>0.92308</td>\n      <td>0.90000</td>\n      <td>0.88889</td>\n      <td>0.87500</td>\n      <td>0.88889</td>\n      <td>0.92308</td>\n      <td>...</td>\n      <td>1.00000</td>\n      <td>1.00000</td>\n      <td>1.00000</td>\n      <td>1.00000</td>\n      <td>1.00000</td>\n      <td>1.00000</td>\n      <td>1.00000</td>\n      <td>1.00000</td>\n      <td>1.00000</td>\n      <td>1.00000</td>\n    </tr>\n    <tr>\n      <td>4</td>\n      <td>87137</td>\n      <td>0.91667</td>\n      <td>0.90909</td>\n      <td>0.90909</td>\n      <td>0.92308</td>\n      <td>0.90909</td>\n      <td>0.90000</td>\n      <td>0.88889</td>\n      <td>0.91667</td>\n      <td>1.00000</td>\n      <td>...</td>\n      <td>1.00000</td>\n      <td>1.00000</td>\n      <td>1.00000</td>\n      <td>1.00000</td>\n      <td>1.00000</td>\n      <td>1.00000</td>\n      <td>1.00000</td>\n      <td>1.00000</td>\n      <td>1.00000</td>\n      <td>1.00000</td>\n    </tr>\n    <tr>\n      <td>5</td>\n      <td>22702</td>\n      <td>0.92308</td>\n      <td>0.90909</td>\n      <td>0.91667</td>\n      <td>0.92857</td>\n      <td>0.91667</td>\n      <td>0.90000</td>\n      <td>0.91667</td>\n      <td>0.92308</td>\n      <td>1.00000</td>\n      <td>...</td>\n      <td>1.00000</td>\n      <td>1.00000</td>\n      <td>1.00000</td>\n      <td>1.00000</td>\n      <td>1.00000</td>\n      <td>1.00000</td>\n      <td>1.00000</td>\n      <td>1.00000</td>\n      <td>1.00000</td>\n      <td>1.00000</td>\n    </tr>\n    <tr>\n      <td>6</td>\n      <td>164208</td>\n      <td>0.92308</td>\n      <td>0.90909</td>\n      <td>0.92308</td>\n      <td>0.92857</td>\n      <td>0.92308</td>\n      <td>0.90909</td>\n      <td>0.92308</td>\n      <td>0.93750</td>\n      <td>1.00000</td>\n      <td>...</td>\n      <td>1.00000</td>\n      <td>1.00000</td>\n      <td>1.00000</td>\n      <td>1.00000</td>\n      <td>1.00000</td>\n      <td>1.00000</td>\n      <td>1.00000</td>\n      <td>1.00000</td>\n      <td>1.00000</td>\n      <td>1.00000</td>\n    </tr>\n    <tr>\n      <td>7</td>\n      <td>169322</td>\n      <td>0.92308</td>\n      <td>0.91667</td>\n      <td>0.92857</td>\n      <td>0.92857</td>\n      <td>0.92857</td>\n      <td>0.91667</td>\n      <td>0.93750</td>\n      <td>1.00000</td>\n      <td>1.00000</td>\n      <td>...</td>\n      <td>1.00000</td>\n      <td>1.00000</td>\n      <td>1.00000</td>\n      <td>1.00000</td>\n      <td>1.00000</td>\n      <td>1.00000</td>\n      <td>1.00000</td>\n      <td>1.00000</td>\n      <td>1.00000</td>\n      <td>1.00000</td>\n    </tr>\n    <tr>\n      <td>8</td>\n      <td>62706</td>\n      <td>0.92857</td>\n      <td>0.91667</td>\n      <td>0.94118</td>\n      <td>0.92857</td>\n      <td>0.93333</td>\n      <td>0.91667</td>\n      <td>1.00000</td>\n      <td>1.00000</td>\n      <td>1.00000</td>\n      <td>...</td>\n      <td>1.00000</td>\n      <td>1.00000</td>\n      <td>1.00000</td>\n      <td>1.00000</td>\n      <td>1.00000</td>\n      <td>1.00000</td>\n      <td>1.00000</td>\n      <td>1.00000</td>\n      <td>1.00000</td>\n      <td>1.00000</td>\n    </tr>\n    <tr>\n      <td>9</td>\n      <td>30007</td>\n      <td>0.93333</td>\n      <td>0.92308</td>\n      <td>0.94444</td>\n      <td>0.93750</td>\n      <td>0.94444</td>\n      <td>0.92857</td>\n      <td>1.00000</td>\n      <td>1.00000</td>\n      <td>1.00000</td>\n      <td>...</td>\n      <td>1.00000</td>\n      <td>1.00000</td>\n      <td>1.00000</td>\n      <td>1.00000</td>\n      <td>1.00000</td>\n      <td>1.00000</td>\n      <td>1.00000</td>\n      <td>1.00000</td>\n      <td>1.00000</td>\n      <td>1.00000</td>\n    </tr>\n    <tr>\n      <td>10</td>\n      <td>8679</td>\n      <td>0.94118</td>\n      <td>0.92308</td>\n      <td>1.00000</td>\n      <td>0.93750</td>\n      <td>1.00000</td>\n      <td>0.94118</td>\n      <td>1.00000</td>\n      <td>1.00000</td>\n      <td>1.00000</td>\n      <td>...</td>\n      <td>1.00000</td>\n      <td>1.00000</td>\n      <td>1.00000</td>\n      <td>1.00000</td>\n      <td>1.00000</td>\n      <td>1.00000</td>\n      <td>1.00000</td>\n      <td>1.00000</td>\n      <td>1.00000</td>\n      <td>1.00000</td>\n    </tr>\n    <tr>\n      <td>11</td>\n      <td>40286</td>\n      <td>0.95000</td>\n      <td>0.93333</td>\n      <td>1.00000</td>\n      <td>0.94444</td>\n      <td>1.00000</td>\n      <td>1.00000</td>\n      <td>1.00000</td>\n      <td>1.00000</td>\n      <td>1.00000</td>\n      <td>...</td>\n      <td>1.00000</td>\n      <td>1.00000</td>\n      <td>1.00000</td>\n      <td>1.00000</td>\n      <td>1.00000</td>\n      <td>1.00000</td>\n      <td>1.00000</td>\n      <td>1.00000</td>\n      <td>1.00000</td>\n      <td>1.00000</td>\n    </tr>\n    <tr>\n      <td>12</td>\n      <td>26299</td>\n      <td>0.95238</td>\n      <td>0.94444</td>\n      <td>1.00000</td>\n      <td>0.95238</td>\n      <td>1.00000</td>\n      <td>1.00000</td>\n      <td>1.00000</td>\n      <td>1.00000</td>\n      <td>1.00000</td>\n      <td>...</td>\n      <td>1.00000</td>\n      <td>1.00000</td>\n      <td>1.00000</td>\n      <td>1.00000</td>\n      <td>1.00000</td>\n      <td>1.00000</td>\n      <td>1.00000</td>\n      <td>1.00000</td>\n      <td>1.00000</td>\n      <td>1.00000</td>\n    </tr>\n    <tr>\n      <td>13</td>\n      <td>14668</td>\n      <td>1.00000</td>\n      <td>1.00000</td>\n      <td>1.00000</td>\n      <td>1.00000</td>\n      <td>1.00000</td>\n      <td>1.00000</td>\n      <td>1.00000</td>\n      <td>1.00000</td>\n      <td>1.00000</td>\n      <td>...</td>\n      <td>1.00000</td>\n      <td>1.00000</td>\n      <td>1.00000</td>\n      <td>1.00000</td>\n      <td>1.00000</td>\n      <td>1.00000</td>\n      <td>1.00000</td>\n      <td>1.00000</td>\n      <td>1.00000</td>\n      <td>1.00000</td>\n    </tr>\n    <tr>\n      <td>14</td>\n      <td>8630</td>\n      <td>1.00000</td>\n      <td>1.00000</td>\n      <td>1.00000</td>\n      <td>1.00000</td>\n      <td>1.00000</td>\n      <td>1.00000</td>\n      <td>1.00000</td>\n      <td>1.00000</td>\n      <td>1.00000</td>\n      <td>...</td>\n      <td>1.00000</td>\n      <td>1.00000</td>\n      <td>1.00000</td>\n      <td>1.00000</td>\n      <td>1.00000</td>\n      <td>1.00000</td>\n      <td>1.00000</td>\n      <td>1.00000</td>\n      <td>1.00000</td>\n      <td>1.00000</td>\n    </tr>\n    <tr>\n      <td>15</td>\n      <td>213140</td>\n      <td>1.00000</td>\n      <td>1.00000</td>\n      <td>1.00000</td>\n      <td>1.00000</td>\n      <td>1.00000</td>\n      <td>1.00000</td>\n      <td>1.00000</td>\n      <td>1.00000</td>\n      <td>1.00000</td>\n      <td>...</td>\n      <td>1.00000</td>\n      <td>1.00000</td>\n      <td>1.00000</td>\n      <td>1.00000</td>\n      <td>1.00000</td>\n      <td>1.00000</td>\n      <td>1.00000</td>\n      <td>1.00000</td>\n      <td>1.00000</td>\n      <td>1.00000</td>\n    </tr>\n    <tr>\n      <td>16</td>\n      <td>8556</td>\n      <td>1.00000</td>\n      <td>1.00000</td>\n      <td>1.00000</td>\n      <td>1.00000</td>\n      <td>1.00000</td>\n      <td>1.00000</td>\n      <td>1.00000</td>\n      <td>1.00000</td>\n      <td>1.00000</td>\n      <td>...</td>\n      <td>1.00000</td>\n      <td>1.00000</td>\n      <td>1.00000</td>\n      <td>1.00000</td>\n      <td>1.00000</td>\n      <td>1.00000</td>\n      <td>1.00000</td>\n      <td>1.00000</td>\n      <td>1.00000</td>\n      <td>1.00000</td>\n    </tr>\n    <tr>\n      <td>17</td>\n      <td>84774</td>\n      <td>1.00000</td>\n      <td>1.00000</td>\n      <td>1.00000</td>\n      <td>1.00000</td>\n      <td>1.00000</td>\n      <td>1.00000</td>\n      <td>1.00000</td>\n      <td>1.00000</td>\n      <td>1.00000</td>\n      <td>...</td>\n      <td>1.00000</td>\n      <td>1.00000</td>\n      <td>1.00000</td>\n      <td>1.00000</td>\n      <td>1.00000</td>\n      <td>1.00000</td>\n      <td>1.00000</td>\n      <td>1.00000</td>\n      <td>1.00000</td>\n      <td>1.00000</td>\n    </tr>\n    <tr>\n      <td>18</td>\n      <td>38028</td>\n      <td>1.00000</td>\n      <td>1.00000</td>\n      <td>1.00000</td>\n      <td>1.00000</td>\n      <td>1.00000</td>\n      <td>1.00000</td>\n      <td>1.00000</td>\n      <td>1.00000</td>\n      <td>1.00000</td>\n      <td>...</td>\n      <td>1.00000</td>\n      <td>1.00000</td>\n      <td>1.00000</td>\n      <td>1.00000</td>\n      <td>1.00000</td>\n      <td>1.00000</td>\n      <td>1.00000</td>\n      <td>1.00000</td>\n      <td>1.00000</td>\n      <td>1.00000</td>\n    </tr>\n    <tr>\n      <td>19</td>\n      <td>56412</td>\n      <td>1.00000</td>\n      <td>1.00000</td>\n      <td>1.00000</td>\n      <td>1.00000</td>\n      <td>1.00000</td>\n      <td>1.00000</td>\n      <td>1.00000</td>\n      <td>1.00000</td>\n      <td>1.00000</td>\n      <td>...</td>\n      <td>1.00000</td>\n      <td>1.00000</td>\n      <td>1.00000</td>\n      <td>1.00000</td>\n      <td>1.00000</td>\n      <td>1.00000</td>\n      <td>1.00000</td>\n      <td>1.00000</td>\n      <td>1.00000</td>\n      <td>1.00000</td>\n    </tr>\n    <tr>\n      <td>20</td>\n      <td>48873</td>\n      <td>1.00000</td>\n      <td>1.00000</td>\n      <td>1.00000</td>\n      <td>1.00000</td>\n      <td>1.00000</td>\n      <td>1.00000</td>\n      <td>1.00000</td>\n      <td>1.00000</td>\n      <td>1.00000</td>\n      <td>...</td>\n      <td>1.00000</td>\n      <td>1.00000</td>\n      <td>1.00000</td>\n      <td>1.00000</td>\n      <td>1.00000</td>\n      <td>1.00000</td>\n      <td>1.00000</td>\n      <td>1.00000</td>\n      <td>1.00000</td>\n      <td>1.00000</td>\n    </tr>\n    <tr>\n      <td>21</td>\n      <td>214785</td>\n      <td>1.00000</td>\n      <td>1.00000</td>\n      <td>1.00000</td>\n      <td>1.00000</td>\n      <td>1.00000</td>\n      <td>1.00000</td>\n      <td>1.00000</td>\n      <td>1.00000</td>\n      <td>1.00000</td>\n      <td>...</td>\n      <td>1.00000</td>\n      <td>1.00000</td>\n      <td>1.00000</td>\n      <td>1.00000</td>\n      <td>1.00000</td>\n      <td>1.00000</td>\n      <td>1.00000</td>\n      <td>1.00000</td>\n      <td>1.00000</td>\n      <td>1.00000</td>\n    </tr>\n    <tr>\n      <td>22</td>\n      <td>14735</td>\n      <td>1.00000</td>\n      <td>1.00000</td>\n      <td>1.00000</td>\n      <td>1.00000</td>\n      <td>1.00000</td>\n      <td>1.00000</td>\n      <td>1.00000</td>\n      <td>1.00000</td>\n      <td>1.00000</td>\n      <td>...</td>\n      <td>1.00000</td>\n      <td>1.00000</td>\n      <td>1.00000</td>\n      <td>1.00000</td>\n      <td>1.00000</td>\n      <td>1.00000</td>\n      <td>1.00000</td>\n      <td>1.00000</td>\n      <td>1.00000</td>\n      <td>1.00000</td>\n    </tr>\n    <tr>\n      <td>23</td>\n      <td>132703</td>\n      <td>1.00000</td>\n      <td>1.00000</td>\n      <td>1.00000</td>\n      <td>1.00000</td>\n      <td>1.00000</td>\n      <td>1.00000</td>\n      <td>1.00000</td>\n      <td>1.00000</td>\n      <td>1.00000</td>\n      <td>...</td>\n      <td>1.00000</td>\n      <td>1.00000</td>\n      <td>1.00000</td>\n      <td>1.00000</td>\n      <td>1.00000</td>\n      <td>1.00000</td>\n      <td>1.00000</td>\n      <td>1.00000</td>\n      <td>1.00000</td>\n      <td>1.00000</td>\n    </tr>\n    <tr>\n      <td>24</td>\n      <td>231537</td>\n      <td>1.00000</td>\n      <td>1.00000</td>\n      <td>1.00000</td>\n      <td>1.00000</td>\n      <td>1.00000</td>\n      <td>1.00000</td>\n      <td>1.00000</td>\n      <td>1.00000</td>\n      <td>1.00000</td>\n      <td>...</td>\n      <td>1.00000</td>\n      <td>1.00000</td>\n      <td>1.00000</td>\n      <td>1.00000</td>\n      <td>1.00000</td>\n      <td>1.00000</td>\n      <td>1.00000</td>\n      <td>1.00000</td>\n      <td>1.00000</td>\n      <td>1.00000</td>\n    </tr>\n    <tr>\n      <td>25</td>\n      <td>82487</td>\n      <td>1.00000</td>\n      <td>1.00000</td>\n      <td>1.00000</td>\n      <td>1.00000</td>\n      <td>1.00000</td>\n      <td>1.00000</td>\n      <td>1.00000</td>\n      <td>1.00000</td>\n      <td>1.00000</td>\n      <td>...</td>\n      <td>1.00000</td>\n      <td>1.00000</td>\n      <td>1.00000</td>\n      <td>1.00000</td>\n      <td>1.00000</td>\n      <td>1.00000</td>\n      <td>1.00000</td>\n      <td>1.00000</td>\n      <td>1.00000</td>\n      <td>1.00000</td>\n    </tr>\n    <tr>\n      <td>26</td>\n      <td>219173</td>\n      <td>1.00000</td>\n      <td>1.00000</td>\n      <td>1.00000</td>\n      <td>1.00000</td>\n      <td>1.00000</td>\n      <td>1.00000</td>\n      <td>1.00000</td>\n      <td>1.00000</td>\n      <td>1.00000</td>\n      <td>...</td>\n      <td>1.00000</td>\n      <td>1.00000</td>\n      <td>1.00000</td>\n      <td>1.00000</td>\n      <td>1.00000</td>\n      <td>1.00000</td>\n      <td>1.00000</td>\n      <td>1.00000</td>\n      <td>1.00000</td>\n      <td>1.00000</td>\n    </tr>\n    <tr>\n      <td>27</td>\n      <td>76808</td>\n      <td>1.00000</td>\n      <td>1.00000</td>\n      <td>1.00000</td>\n      <td>1.00000</td>\n      <td>1.00000</td>\n      <td>1.00000</td>\n      <td>1.00000</td>\n      <td>1.00000</td>\n      <td>1.00000</td>\n      <td>...</td>\n      <td>1.00000</td>\n      <td>1.00000</td>\n      <td>1.00000</td>\n      <td>1.00000</td>\n      <td>1.00000</td>\n      <td>1.00000</td>\n      <td>1.00000</td>\n      <td>1.00000</td>\n      <td>1.00000</td>\n      <td>1.00000</td>\n    </tr>\n    <tr>\n      <td>28</td>\n      <td>76763</td>\n      <td>1.00000</td>\n      <td>1.00000</td>\n      <td>1.00000</td>\n      <td>1.00000</td>\n      <td>1.00000</td>\n      <td>1.00000</td>\n      <td>1.00000</td>\n      <td>1.00000</td>\n      <td>1.00000</td>\n      <td>...</td>\n      <td>1.00000</td>\n      <td>1.00000</td>\n      <td>1.00000</td>\n      <td>1.00000</td>\n      <td>1.00000</td>\n      <td>1.00000</td>\n      <td>1.00000</td>\n      <td>1.00000</td>\n      <td>1.00000</td>\n      <td>1.00000</td>\n    </tr>\n    <tr>\n      <td>29</td>\n      <td>16966</td>\n      <td>1.00000</td>\n      <td>1.00000</td>\n      <td>1.00000</td>\n      <td>1.00000</td>\n      <td>1.00000</td>\n      <td>1.00000</td>\n      <td>1.00000</td>\n      <td>1.00000</td>\n      <td>1.00000</td>\n      <td>...</td>\n      <td>1.00000</td>\n      <td>1.00000</td>\n      <td>1.00000</td>\n      <td>1.00000</td>\n      <td>1.00000</td>\n      <td>1.00000</td>\n      <td>1.00000</td>\n      <td>1.00000</td>\n      <td>1.00000</td>\n      <td>1.00000</td>\n    </tr>\n    <tr>\n      <td>30</td>\n      <td>229247</td>\n      <td>1.00000</td>\n      <td>1.00000</td>\n      <td>1.00000</td>\n      <td>1.00000</td>\n      <td>1.00000</td>\n      <td>1.00000</td>\n      <td>1.00000</td>\n      <td>1.00000</td>\n      <td>1.00000</td>\n      <td>...</td>\n      <td>1.00000</td>\n      <td>1.00000</td>\n      <td>1.00000</td>\n      <td>1.00000</td>\n      <td>1.00000</td>\n      <td>1.00000</td>\n      <td>1.00000</td>\n      <td>1.00000</td>\n      <td>1.00000</td>\n      <td>1.00000</td>\n    </tr>\n    <tr>\n      <td>31</td>\n      <td>202881</td>\n      <td>1.00000</td>\n      <td>1.00000</td>\n      <td>1.00000</td>\n      <td>1.00000</td>\n      <td>1.00000</td>\n      <td>1.00000</td>\n      <td>1.00000</td>\n      <td>1.00000</td>\n      <td>1.00000</td>\n      <td>...</td>\n      <td>1.00000</td>\n      <td>1.00000</td>\n      <td>1.00000</td>\n      <td>1.00000</td>\n      <td>1.00000</td>\n      <td>1.00000</td>\n      <td>1.00000</td>\n      <td>1.00000</td>\n      <td>1.00000</td>\n      <td>1.00000</td>\n    </tr>\n    <tr>\n      <td>32</td>\n      <td>234797</td>\n      <td>1.00000</td>\n      <td>1.00000</td>\n      <td>1.00000</td>\n      <td>1.00000</td>\n      <td>1.00000</td>\n      <td>1.00000</td>\n      <td>1.00000</td>\n      <td>1.00000</td>\n      <td>1.00000</td>\n      <td>...</td>\n      <td>1.00000</td>\n      <td>1.00000</td>\n      <td>1.00000</td>\n      <td>1.00000</td>\n      <td>1.00000</td>\n      <td>1.00000</td>\n      <td>1.00000</td>\n      <td>1.00000</td>\n      <td>1.00000</td>\n      <td>1.00000</td>\n    </tr>\n    <tr>\n      <td>33</td>\n      <td>72191</td>\n      <td>1.00000</td>\n      <td>1.00000</td>\n      <td>1.00000</td>\n      <td>1.00000</td>\n      <td>1.00000</td>\n      <td>1.00000</td>\n      <td>1.00000</td>\n      <td>1.00000</td>\n      <td>1.00000</td>\n      <td>...</td>\n      <td>1.00000</td>\n      <td>1.00000</td>\n      <td>1.00000</td>\n      <td>1.00000</td>\n      <td>1.00000</td>\n      <td>1.00000</td>\n      <td>1.00000</td>\n      <td>1.00000</td>\n      <td>1.00000</td>\n      <td>1.00000</td>\n    </tr>\n    <tr>\n      <td>34</td>\n      <td>42967</td>\n      <td>1.00000</td>\n      <td>1.00000</td>\n      <td>1.00000</td>\n      <td>1.00000</td>\n      <td>1.00000</td>\n      <td>1.00000</td>\n      <td>1.00000</td>\n      <td>1.00000</td>\n      <td>1.00000</td>\n      <td>...</td>\n      <td>1.00000</td>\n      <td>1.00000</td>\n      <td>1.00000</td>\n      <td>1.00000</td>\n      <td>1.00000</td>\n      <td>1.00000</td>\n      <td>1.00000</td>\n      <td>1.00000</td>\n      <td>1.00000</td>\n      <td>1.00000</td>\n    </tr>\n    <tr>\n      <td>35</td>\n      <td>18397</td>\n      <td>1.00000</td>\n      <td>1.00000</td>\n      <td>1.00000</td>\n      <td>1.00000</td>\n      <td>1.00000</td>\n      <td>1.00000</td>\n      <td>1.00000</td>\n      <td>1.00000</td>\n      <td>1.00000</td>\n      <td>...</td>\n      <td>1.00000</td>\n      <td>1.00000</td>\n      <td>1.00000</td>\n      <td>1.00000</td>\n      <td>1.00000</td>\n      <td>1.00000</td>\n      <td>1.00000</td>\n      <td>1.00000</td>\n      <td>1.00000</td>\n      <td>1.00000</td>\n    </tr>\n    <tr>\n      <td>36</td>\n      <td>21352</td>\n      <td>1.00000</td>\n      <td>1.00000</td>\n      <td>1.00000</td>\n      <td>1.00000</td>\n      <td>1.00000</td>\n      <td>1.00000</td>\n      <td>1.00000</td>\n      <td>1.00000</td>\n      <td>1.00000</td>\n      <td>...</td>\n      <td>1.00000</td>\n      <td>1.00000</td>\n      <td>1.00000</td>\n      <td>1.00000</td>\n      <td>1.00000</td>\n      <td>1.00000</td>\n      <td>1.00000</td>\n      <td>1.00000</td>\n      <td>1.00000</td>\n      <td>1.00000</td>\n    </tr>\n    <tr>\n      <td>37</td>\n      <td>235000</td>\n      <td>1.00000</td>\n      <td>1.00000</td>\n      <td>1.00000</td>\n      <td>1.00000</td>\n      <td>1.00000</td>\n      <td>1.00000</td>\n      <td>1.00000</td>\n      <td>1.00000</td>\n      <td>1.00000</td>\n      <td>...</td>\n      <td>1.00000</td>\n      <td>1.00000</td>\n      <td>1.00000</td>\n      <td>1.00000</td>\n      <td>1.00000</td>\n      <td>1.00000</td>\n      <td>1.00000</td>\n      <td>1.00000</td>\n      <td>1.00000</td>\n      <td>1.00000</td>\n    </tr>\n    <tr>\n      <td>38</td>\n      <td>149738</td>\n      <td>1.00000</td>\n      <td>1.00000</td>\n      <td>1.00000</td>\n      <td>1.00000</td>\n      <td>1.00000</td>\n      <td>1.00000</td>\n      <td>1.00000</td>\n      <td>1.00000</td>\n      <td>1.00000</td>\n      <td>...</td>\n      <td>1.00000</td>\n      <td>1.00000</td>\n      <td>1.00000</td>\n      <td>1.00000</td>\n      <td>1.00000</td>\n      <td>1.00000</td>\n      <td>1.00000</td>\n      <td>1.00000</td>\n      <td>1.00000</td>\n      <td>1.00000</td>\n    </tr>\n    <tr>\n      <td>39</td>\n      <td>140135</td>\n      <td>1.00000</td>\n      <td>1.00000</td>\n      <td>1.00000</td>\n      <td>1.00000</td>\n      <td>1.00000</td>\n      <td>1.00000</td>\n      <td>1.00000</td>\n      <td>1.00000</td>\n      <td>1.00000</td>\n      <td>...</td>\n      <td>1.00000</td>\n      <td>1.00000</td>\n      <td>1.00000</td>\n      <td>1.00000</td>\n      <td>1.00000</td>\n      <td>1.00000</td>\n      <td>1.00000</td>\n      <td>1.00000</td>\n      <td>1.00000</td>\n      <td>1.00000</td>\n    </tr>\n  </tbody>\n</table>\n<p>40 rows × 3730 columns</p>\n</div>",
      "text/plain": "     index   16470  228546  195045  229994  222582  240287  216231   23985  \\\n0    16682 0.25000 0.28571 0.33333 0.33333 0.42857 0.42857 0.50000 0.50000   \n1    17496 0.80000 0.88889 0.80000 0.81250 0.81818 0.87500 0.77778 0.77778   \n2    16260 0.85714 0.90000 0.88889 0.90476 0.88889 0.88889 0.85714 0.87500   \n3    25137 0.91667 0.90000 0.90000 0.92308 0.90000 0.88889 0.87500 0.88889   \n4    87137 0.91667 0.90909 0.90909 0.92308 0.90909 0.90000 0.88889 0.91667   \n5    22702 0.92308 0.90909 0.91667 0.92857 0.91667 0.90000 0.91667 0.92308   \n6   164208 0.92308 0.90909 0.92308 0.92857 0.92308 0.90909 0.92308 0.93750   \n7   169322 0.92308 0.91667 0.92857 0.92857 0.92857 0.91667 0.93750 1.00000   \n8    62706 0.92857 0.91667 0.94118 0.92857 0.93333 0.91667 1.00000 1.00000   \n9    30007 0.93333 0.92308 0.94444 0.93750 0.94444 0.92857 1.00000 1.00000   \n10    8679 0.94118 0.92308 1.00000 0.93750 1.00000 0.94118 1.00000 1.00000   \n11   40286 0.95000 0.93333 1.00000 0.94444 1.00000 1.00000 1.00000 1.00000   \n12   26299 0.95238 0.94444 1.00000 0.95238 1.00000 1.00000 1.00000 1.00000   \n13   14668 1.00000 1.00000 1.00000 1.00000 1.00000 1.00000 1.00000 1.00000   \n14    8630 1.00000 1.00000 1.00000 1.00000 1.00000 1.00000 1.00000 1.00000   \n15  213140 1.00000 1.00000 1.00000 1.00000 1.00000 1.00000 1.00000 1.00000   \n16    8556 1.00000 1.00000 1.00000 1.00000 1.00000 1.00000 1.00000 1.00000   \n17   84774 1.00000 1.00000 1.00000 1.00000 1.00000 1.00000 1.00000 1.00000   \n18   38028 1.00000 1.00000 1.00000 1.00000 1.00000 1.00000 1.00000 1.00000   \n19   56412 1.00000 1.00000 1.00000 1.00000 1.00000 1.00000 1.00000 1.00000   \n20   48873 1.00000 1.00000 1.00000 1.00000 1.00000 1.00000 1.00000 1.00000   \n21  214785 1.00000 1.00000 1.00000 1.00000 1.00000 1.00000 1.00000 1.00000   \n22   14735 1.00000 1.00000 1.00000 1.00000 1.00000 1.00000 1.00000 1.00000   \n23  132703 1.00000 1.00000 1.00000 1.00000 1.00000 1.00000 1.00000 1.00000   \n24  231537 1.00000 1.00000 1.00000 1.00000 1.00000 1.00000 1.00000 1.00000   \n25   82487 1.00000 1.00000 1.00000 1.00000 1.00000 1.00000 1.00000 1.00000   \n26  219173 1.00000 1.00000 1.00000 1.00000 1.00000 1.00000 1.00000 1.00000   \n27   76808 1.00000 1.00000 1.00000 1.00000 1.00000 1.00000 1.00000 1.00000   \n28   76763 1.00000 1.00000 1.00000 1.00000 1.00000 1.00000 1.00000 1.00000   \n29   16966 1.00000 1.00000 1.00000 1.00000 1.00000 1.00000 1.00000 1.00000   \n30  229247 1.00000 1.00000 1.00000 1.00000 1.00000 1.00000 1.00000 1.00000   \n31  202881 1.00000 1.00000 1.00000 1.00000 1.00000 1.00000 1.00000 1.00000   \n32  234797 1.00000 1.00000 1.00000 1.00000 1.00000 1.00000 1.00000 1.00000   \n33   72191 1.00000 1.00000 1.00000 1.00000 1.00000 1.00000 1.00000 1.00000   \n34   42967 1.00000 1.00000 1.00000 1.00000 1.00000 1.00000 1.00000 1.00000   \n35   18397 1.00000 1.00000 1.00000 1.00000 1.00000 1.00000 1.00000 1.00000   \n36   21352 1.00000 1.00000 1.00000 1.00000 1.00000 1.00000 1.00000 1.00000   \n37  235000 1.00000 1.00000 1.00000 1.00000 1.00000 1.00000 1.00000 1.00000   \n38  149738 1.00000 1.00000 1.00000 1.00000 1.00000 1.00000 1.00000 1.00000   \n39  140135 1.00000 1.00000 1.00000 1.00000 1.00000 1.00000 1.00000 1.00000   \n\n     36944  ...  229099   58431    8919   87053    8918   58831   22297  \\\n0  0.50000  ... 1.00000 1.00000 1.00000 1.00000 1.00000 1.00000 1.00000   \n1  0.90000  ... 1.00000 1.00000 1.00000 1.00000 1.00000 1.00000 1.00000   \n2  0.90000  ... 1.00000 1.00000 1.00000 1.00000 1.00000 1.00000 1.00000   \n3  0.92308  ... 1.00000 1.00000 1.00000 1.00000 1.00000 1.00000 1.00000   \n4  1.00000  ... 1.00000 1.00000 1.00000 1.00000 1.00000 1.00000 1.00000   \n5  1.00000  ... 1.00000 1.00000 1.00000 1.00000 1.00000 1.00000 1.00000   \n6  1.00000  ... 1.00000 1.00000 1.00000 1.00000 1.00000 1.00000 1.00000   \n7  1.00000  ... 1.00000 1.00000 1.00000 1.00000 1.00000 1.00000 1.00000   \n8  1.00000  ... 1.00000 1.00000 1.00000 1.00000 1.00000 1.00000 1.00000   \n9  1.00000  ... 1.00000 1.00000 1.00000 1.00000 1.00000 1.00000 1.00000   \n10 1.00000  ... 1.00000 1.00000 1.00000 1.00000 1.00000 1.00000 1.00000   \n11 1.00000  ... 1.00000 1.00000 1.00000 1.00000 1.00000 1.00000 1.00000   \n12 1.00000  ... 1.00000 1.00000 1.00000 1.00000 1.00000 1.00000 1.00000   \n13 1.00000  ... 1.00000 1.00000 1.00000 1.00000 1.00000 1.00000 1.00000   \n14 1.00000  ... 1.00000 1.00000 1.00000 1.00000 1.00000 1.00000 1.00000   \n15 1.00000  ... 1.00000 1.00000 1.00000 1.00000 1.00000 1.00000 1.00000   \n16 1.00000  ... 1.00000 1.00000 1.00000 1.00000 1.00000 1.00000 1.00000   \n17 1.00000  ... 1.00000 1.00000 1.00000 1.00000 1.00000 1.00000 1.00000   \n18 1.00000  ... 1.00000 1.00000 1.00000 1.00000 1.00000 1.00000 1.00000   \n19 1.00000  ... 1.00000 1.00000 1.00000 1.00000 1.00000 1.00000 1.00000   \n20 1.00000  ... 1.00000 1.00000 1.00000 1.00000 1.00000 1.00000 1.00000   \n21 1.00000  ... 1.00000 1.00000 1.00000 1.00000 1.00000 1.00000 1.00000   \n22 1.00000  ... 1.00000 1.00000 1.00000 1.00000 1.00000 1.00000 1.00000   \n23 1.00000  ... 1.00000 1.00000 1.00000 1.00000 1.00000 1.00000 1.00000   \n24 1.00000  ... 1.00000 1.00000 1.00000 1.00000 1.00000 1.00000 1.00000   \n25 1.00000  ... 1.00000 1.00000 1.00000 1.00000 1.00000 1.00000 1.00000   \n26 1.00000  ... 1.00000 1.00000 1.00000 1.00000 1.00000 1.00000 1.00000   \n27 1.00000  ... 1.00000 1.00000 1.00000 1.00000 1.00000 1.00000 1.00000   \n28 1.00000  ... 1.00000 1.00000 1.00000 1.00000 1.00000 1.00000 1.00000   \n29 1.00000  ... 1.00000 1.00000 1.00000 1.00000 1.00000 1.00000 1.00000   \n30 1.00000  ... 1.00000 1.00000 1.00000 1.00000 1.00000 1.00000 1.00000   \n31 1.00000  ... 1.00000 1.00000 1.00000 1.00000 1.00000 1.00000 1.00000   \n32 1.00000  ... 1.00000 1.00000 1.00000 1.00000 1.00000 1.00000 1.00000   \n33 1.00000  ... 1.00000 1.00000 1.00000 1.00000 1.00000 1.00000 1.00000   \n34 1.00000  ... 1.00000 1.00000 1.00000 1.00000 1.00000 1.00000 1.00000   \n35 1.00000  ... 1.00000 1.00000 1.00000 1.00000 1.00000 1.00000 1.00000   \n36 1.00000  ... 1.00000 1.00000 1.00000 1.00000 1.00000 1.00000 1.00000   \n37 1.00000  ... 1.00000 1.00000 1.00000 1.00000 1.00000 1.00000 1.00000   \n38 1.00000  ... 1.00000 1.00000 1.00000 1.00000 1.00000 1.00000 1.00000   \n39 1.00000  ... 1.00000 1.00000 1.00000 1.00000 1.00000 1.00000 1.00000   \n\n     16446    8935   22204  \n0  1.00000 1.00000 1.00000  \n1  1.00000 1.00000 1.00000  \n2  1.00000 1.00000 1.00000  \n3  1.00000 1.00000 1.00000  \n4  1.00000 1.00000 1.00000  \n5  1.00000 1.00000 1.00000  \n6  1.00000 1.00000 1.00000  \n7  1.00000 1.00000 1.00000  \n8  1.00000 1.00000 1.00000  \n9  1.00000 1.00000 1.00000  \n10 1.00000 1.00000 1.00000  \n11 1.00000 1.00000 1.00000  \n12 1.00000 1.00000 1.00000  \n13 1.00000 1.00000 1.00000  \n14 1.00000 1.00000 1.00000  \n15 1.00000 1.00000 1.00000  \n16 1.00000 1.00000 1.00000  \n17 1.00000 1.00000 1.00000  \n18 1.00000 1.00000 1.00000  \n19 1.00000 1.00000 1.00000  \n20 1.00000 1.00000 1.00000  \n21 1.00000 1.00000 1.00000  \n22 1.00000 1.00000 1.00000  \n23 1.00000 1.00000 1.00000  \n24 1.00000 1.00000 1.00000  \n25 1.00000 1.00000 1.00000  \n26 1.00000 1.00000 1.00000  \n27 1.00000 1.00000 1.00000  \n28 1.00000 1.00000 1.00000  \n29 1.00000 1.00000 1.00000  \n30 1.00000 1.00000 1.00000  \n31 1.00000 1.00000 1.00000  \n32 1.00000 1.00000 1.00000  \n33 1.00000 1.00000 1.00000  \n34 1.00000 1.00000 1.00000  \n35 1.00000 1.00000 1.00000  \n36 1.00000 1.00000 1.00000  \n37 1.00000 1.00000 1.00000  \n38 1.00000 1.00000 1.00000  \n39 1.00000 1.00000 1.00000  \n\n[40 rows x 3730 columns]"
     },
     "execution_count": 603,
     "metadata": {},
     "output_type": "execute_result"
    }
   ],
   "source": [
    "test"
   ]
  },
  {
   "cell_type": "code",
   "execution_count": 604,
   "metadata": {},
   "outputs": [
    {
     "data": {
      "text/html": "<div>\n<style scoped>\n    .dataframe tbody tr th:only-of-type {\n        vertical-align: middle;\n    }\n\n    .dataframe tbody tr th {\n        vertical-align: top;\n    }\n\n    .dataframe thead th {\n        text-align: right;\n    }\n</style>\n<table border=\"1\" class=\"dataframe\">\n  <thead>\n    <tr style=\"text-align: right;\">\n      <th></th>\n      <th>0</th>\n    </tr>\n  </thead>\n  <tbody>\n    <tr>\n      <td>index</td>\n      <td>76763.00000</td>\n    </tr>\n    <tr>\n      <td>195045</td>\n      <td>0.33333</td>\n    </tr>\n    <tr>\n      <td>222582</td>\n      <td>0.42857</td>\n    </tr>\n    <tr>\n      <td>13981</td>\n      <td>0.50000</td>\n    </tr>\n    <tr>\n      <td>23985</td>\n      <td>0.50000</td>\n    </tr>\n    <tr>\n      <td>36944</td>\n      <td>0.50000</td>\n    </tr>\n    <tr>\n      <td>216231</td>\n      <td>0.50000</td>\n    </tr>\n    <tr>\n      <td>223360</td>\n      <td>0.55556</td>\n    </tr>\n    <tr>\n      <td>11815</td>\n      <td>0.55556</td>\n    </tr>\n    <tr>\n      <td>87168</td>\n      <td>0.55556</td>\n    </tr>\n    <tr>\n      <td>240285</td>\n      <td>0.57143</td>\n    </tr>\n    <tr>\n      <td>19330</td>\n      <td>0.57143</td>\n    </tr>\n    <tr>\n      <td>11739</td>\n      <td>0.57143</td>\n    </tr>\n    <tr>\n      <td>19919</td>\n      <td>0.57143</td>\n    </tr>\n    <tr>\n      <td>11751</td>\n      <td>0.57143</td>\n    </tr>\n    <tr>\n      <td>214369</td>\n      <td>0.57143</td>\n    </tr>\n    <tr>\n      <td>11892</td>\n      <td>0.57143</td>\n    </tr>\n    <tr>\n      <td>206356</td>\n      <td>0.57143</td>\n    </tr>\n    <tr>\n      <td>19415</td>\n      <td>0.57143</td>\n    </tr>\n    <tr>\n      <td>45128</td>\n      <td>0.62500</td>\n    </tr>\n  </tbody>\n</table>\n</div>",
      "text/plain": "                 0\nindex  76763.00000\n195045     0.33333\n222582     0.42857\n13981      0.50000\n23985      0.50000\n36944      0.50000\n216231     0.50000\n223360     0.55556\n11815      0.55556\n87168      0.55556\n240285     0.57143\n19330      0.57143\n11739      0.57143\n19919      0.57143\n11751      0.57143\n214369     0.57143\n11892      0.57143\n206356     0.57143\n19415      0.57143\n45128      0.62500"
     },
     "execution_count": 604,
     "metadata": {},
     "output_type": "execute_result"
    }
   ],
   "source": [
    "asd[0:20]"
   ]
  },
  {
   "cell_type": "code",
   "execution_count": 605,
   "metadata": {},
   "outputs": [],
   "source": [
    "asd = test.loc[0].to_frame()"
   ]
  },
  {
   "cell_type": "code",
   "execution_count": 606,
   "metadata": {},
   "outputs": [
    {
     "data": {
      "text/plain": "array(['index', 16470, 228546, 195045, 229994, 222582, 240287, 216231,\n       23985, 36944, 13981], dtype=object)"
     },
     "execution_count": 606,
     "metadata": {},
     "output_type": "execute_result"
    }
   ],
   "source": [
    "asd[0:11].index.to_numpy()\n"
   ]
  },
  {
   "cell_type": "code",
   "execution_count": 607,
   "metadata": {},
   "outputs": [
    {
     "data": {
      "text/plain": "array([ 81051,  84737,  85375,  71251, 222079, 214188,  13420,  34942,\n        34361,  26601])"
     },
     "execution_count": 607,
     "metadata": {},
     "output_type": "execute_result"
    }
   ],
   "source": [
    "subset_normal_id[0:10]"
   ]
  },
  {
   "cell_type": "code",
   "execution_count": 608,
   "metadata": {},
   "outputs": [
    {
     "data": {
      "text/plain": "array([ 48873,  16966,  56412,   8556,  16682,  21352,  14735,  42967,\n        17496, 213140, 231537,  84774, 219173,  26299,   8679, 132703,\n        30007, 234797, 235000,  38028,   8630,  76808, 202881,  82487,\n        14668,  16260, 229247, 169322,  22702,  87137,  25137, 140135,\n       149738,  76763,  72191,  62706, 214785,  40286,  18397, 164208])"
     },
     "execution_count": 608,
     "metadata": {},
     "output_type": "execute_result"
    }
   ],
   "source": [
    "subset_fat_id"
   ]
  },
  {
   "cell_type": "code",
   "execution_count": 636,
   "metadata": {},
   "outputs": [
    {
     "data": {
      "text/plain": "array([  8630, 202881, 164208,   8679,  84774])"
     },
     "execution_count": 636,
     "metadata": {},
     "output_type": "execute_result"
    }
   ],
   "source": [
    "sample.index.to_numpy()"
   ]
  },
  {
   "cell_type": "code",
   "execution_count": 631,
   "metadata": {},
   "outputs": [],
   "source": [
    "#create one dimensional ingredients vector from user recipes profile\n",
    "user_one_vector = sample.copy()\n",
    "user_one_vector.loc['sum',:]= user_one_vector.sum(axis=0)\n",
    "user_one_vector = user_one_vector.drop(axis=0, labels=sample.index)\n",
    "user_one_vector[user_one_vector > 0] = 1"
   ]
  },
  {
   "cell_type": "code",
   "execution_count": 632,
   "metadata": {},
   "outputs": [
    {
     "data": {
      "text/html": "<div>\n<style scoped>\n    .dataframe tbody tr th:only-of-type {\n        vertical-align: middle;\n    }\n\n    .dataframe tbody tr th {\n        vertical-align: top;\n    }\n\n    .dataframe thead th {\n        text-align: right;\n    }\n</style>\n<table border=\"1\" class=\"dataframe\">\n  <thead>\n    <tr style=\"text-align: right;\">\n      <th></th>\n      <th>111</th>\n      <th>126</th>\n      <th>257</th>\n      <th>443</th>\n      <th>445</th>\n      <th>578</th>\n      <th>615</th>\n      <th>629</th>\n      <th>631</th>\n      <th>858</th>\n      <th>...</th>\n      <th>23047</th>\n      <th>23274</th>\n      <th>23383</th>\n      <th>24865</th>\n      <th>25518</th>\n      <th>25522</th>\n      <th>26269</th>\n      <th>26934</th>\n      <th>27343</th>\n      <th>27805</th>\n    </tr>\n    <tr>\n      <th>id</th>\n      <th></th>\n      <th></th>\n      <th></th>\n      <th></th>\n      <th></th>\n      <th></th>\n      <th></th>\n      <th></th>\n      <th></th>\n      <th></th>\n      <th></th>\n      <th></th>\n      <th></th>\n      <th></th>\n      <th></th>\n      <th></th>\n      <th></th>\n      <th></th>\n      <th></th>\n      <th></th>\n      <th></th>\n    </tr>\n  </thead>\n  <tbody>\n    <tr>\n      <td>sum</td>\n      <td>0.00000</td>\n      <td>0.00000</td>\n      <td>0.00000</td>\n      <td>0.00000</td>\n      <td>0.00000</td>\n      <td>0.00000</td>\n      <td>0.00000</td>\n      <td>0.00000</td>\n      <td>0.00000</td>\n      <td>0.00000</td>\n      <td>...</td>\n      <td>0.00000</td>\n      <td>0.00000</td>\n      <td>0.00000</td>\n      <td>0.00000</td>\n      <td>0.00000</td>\n      <td>0.00000</td>\n      <td>0.00000</td>\n      <td>0.00000</td>\n      <td>0.00000</td>\n      <td>0.00000</td>\n    </tr>\n  </tbody>\n</table>\n<p>1 rows × 720 columns</p>\n</div>",
      "text/plain": "      111     126     257     443     445     578     615     629     631    \\\nid                                                                            \nsum 0.00000 0.00000 0.00000 0.00000 0.00000 0.00000 0.00000 0.00000 0.00000   \n\n      858    ...   23047   23274   23383   24865   25518   25522   26269  \\\nid           ...                                                           \nsum 0.00000  ... 0.00000 0.00000 0.00000 0.00000 0.00000 0.00000 0.00000   \n\n      26934   27343   27805  \nid                           \nsum 0.00000 0.00000 0.00000  \n\n[1 rows x 720 columns]"
     },
     "execution_count": 632,
     "metadata": {},
     "output_type": "execute_result"
    }
   ],
   "source": [
    "user_one_vector"
   ]
  },
  {
   "cell_type": "code",
   "execution_count": 634,
   "metadata": {},
   "outputs": [
    {
     "data": {
      "text/html": "<div>\n<style scoped>\n    .dataframe tbody tr th:only-of-type {\n        vertical-align: middle;\n    }\n\n    .dataframe tbody tr th {\n        vertical-align: top;\n    }\n\n    .dataframe thead th {\n        text-align: right;\n    }\n</style>\n<table border=\"1\" class=\"dataframe\">\n  <thead>\n    <tr style=\"text-align: right;\">\n      <th></th>\n      <th>jaccard_distance_sum</th>\n    </tr>\n  </thead>\n  <tbody>\n    <tr>\n      <td>87627</td>\n      <td>0.78125</td>\n    </tr>\n    <tr>\n      <td>70447</td>\n      <td>0.81250</td>\n    </tr>\n    <tr>\n      <td>132801</td>\n      <td>0.83871</td>\n    </tr>\n    <tr>\n      <td>223360</td>\n      <td>0.83871</td>\n    </tr>\n    <tr>\n      <td>23849</td>\n      <td>0.84375</td>\n    </tr>\n    <tr>\n      <td>8796</td>\n      <td>0.84848</td>\n    </tr>\n    <tr>\n      <td>23981</td>\n      <td>0.85714</td>\n    </tr>\n    <tr>\n      <td>22478</td>\n      <td>0.86111</td>\n    </tr>\n    <tr>\n      <td>102831</td>\n      <td>0.86111</td>\n    </tr>\n    <tr>\n      <td>20611</td>\n      <td>0.86667</td>\n    </tr>\n  </tbody>\n</table>\n</div>",
      "text/plain": "        jaccard_distance_sum\n87627                0.78125\n70447                0.81250\n132801               0.83871\n223360               0.83871\n23849                0.84375\n8796                 0.84848\n23981                0.85714\n22478                0.86111\n102831               0.86111\n20611                0.86667"
     },
     "execution_count": 634,
     "metadata": {},
     "output_type": "execute_result"
    }
   ],
   "source": [
    "## Jaccard - user vector to recipe similarity with removal of basis ingredients and duplicate userrecipes\n",
    "\n",
    "result_array = cdist(user_one_vector, new_recipe_db_wo_userrecipes_fat,'jaccard')\n",
    "result_w_filter_vector = pd.DataFrame(result_array, columns=new_recipe_db_wo_userrecipes_fat.index.values, index=user_one_vector.index.values)\n",
    "\n",
    "\n",
    "result_w_filter_vector_10 = pd.DataFrame(result_w_filter_vector.sum(), columns=['jaccard_distance_sum'])\n",
    "result_w_filter_vector_10 = result_w_filter_vector_10.sort_values(by='jaccard_distance_sum')\n",
    "\n",
    "result_w_filter_vector_10[0:10]\n"
   ]
  },
  {
   "cell_type": "code",
   "execution_count": 633,
   "metadata": {},
   "outputs": [
    {
     "data": {
      "text/plain": "0.00000    690\n1.00000     30\ndtype: int64"
     },
     "execution_count": 633,
     "metadata": {},
     "output_type": "execute_result"
    }
   ],
   "source": [
    "user_one_vector.apply(pd.value_counts).count(axis=1)"
   ]
  },
  {
   "cell_type": "code",
   "execution_count": 635,
   "metadata": {},
   "outputs": [
    {
     "data": {
      "text/plain": "array([ 87627,  70447, 132801, 223360,  23849,   8796,  23981,  22478,\n       102831,  20611])"
     },
     "execution_count": 635,
     "metadata": {},
     "output_type": "execute_result"
    }
   ],
   "source": [
    "\n",
    "result_w_filter_vector_10[0:10].index.to_numpy()"
   ]
  }
 ]
}