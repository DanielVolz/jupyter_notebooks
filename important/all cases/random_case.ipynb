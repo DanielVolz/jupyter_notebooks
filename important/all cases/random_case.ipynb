{
 "nbformat": 4,
 "nbformat_minor": 2,
 "metadata": {
  "language_info": {
   "name": "python",
   "codemirror_mode": {
    "name": "ipython",
    "version": 3
   },
   "version": "3.7.6-final"
  },
  "orig_nbformat": 2,
  "file_extension": ".py",
  "mimetype": "text/x-python",
  "name": "python",
  "npconvert_exporter": "python",
  "pygments_lexer": "ipython3",
  "version": 3,
  "kernelspec": {
   "name": "python3",
   "display_name": "Python 3"
  }
 },
 "cells": [
  {
   "cell_type": "code",
   "execution_count": null,
   "metadata": {},
   "outputs": [],
   "source": [
    "import json\n",
    "\n",
    "import numpy as np\n",
    "import pandas as pd\n",
    "import pymongo\n",
    "import scipy\n",
    "from bson import ObjectId, json_util\n",
    "from pandas.io.json import json_normalize\n",
    "from pymongo import MongoClient as Connection\n",
    "from scipy import sparse, spatial\n",
    "from scipy.spatial.distance import cdist, pdist, squareform\n",
    "from sklearn.metrics.pairwise import cosine_similarity\n",
    "\n",
    "# scientific notation disabled form smaller numbers\n",
    "pd.options.display.float_format = '{:.5f}'.format\n",
    "\n",
    "# alles resultate anzeigen und nicht nur das letzte\n",
    "from IPython.core.interactiveshell import InteractiveShell\n",
    "InteractiveShell.ast_node_interactivity = \"all\"\n",
    "\n"
   ]
  },
  {
   "cell_type": "code",
   "execution_count": null,
   "metadata": {},
   "outputs": [],
   "source": [
    "# display multiple outputs in one row\n",
    "import pandas as pd\n",
    "import numpy as np\n",
    "from IPython.display import display, HTML\n",
    "\n",
    "CSS = \"\"\"\n",
    ".output {\n",
    "    flex-direction: row;\n",
    "}\n",
    "\"\"\"\n",
    "\n",
    "HTML('<style>{}</style>'.format(CSS))"
   ]
  },
  {
   "cell_type": "code",
   "execution_count": null,
   "metadata": {},
   "outputs": [],
   "source": [
    "connection = Connection()\n",
    "db = connection.recipe_db\n",
    "input_data = db.recipes_test_copy\n",
    "\n",
    "data = json.loads(json_util.dumps(input_data.find()))"
   ]
  },
  {
   "cell_type": "code",
   "execution_count": null,
   "metadata": {},
   "outputs": [],
   "source": [
    "ing = pd.DataFrame(json_normalize(data, record_path='ingredients',\n",
    "                             meta='id', record_prefix='ingredients_', errors='ignore'))\n",
    "\n",
    "\n",
    "nutritions = pd.DataFrame(json_normalize(data, record_path='nutritions',\n",
    "                            meta=['id', 'prep_time', 'rating', 'rating_count', 'ready_in_time', 'review_count']))\n"
   ]
  },
  {
   "cell_type": "code",
   "execution_count": null,
   "metadata": {},
   "outputs": [],
   "source": [
    "#  ------  erstellung und data cleansing - Ingredients\n",
    "\n",
    "# schmeiss alle zutaten raus, die weniger als 5 mal verwendet werden\n",
    "# setze multiinde auf 'id' und 'ingredients_id'\n",
    "ingredients = ing.set_index(['id', 'ingredients_id'])\n",
    "\n",
    "# filtere alle Zutaten samt ihrer rezepte id, die weniger gleich 5 mal vorkommen\n",
    "ingredients_eqles_5_ing = ingredients.groupby(\n",
    "    'ingredients_id').filter(lambda x: len(x) <= 5)\n",
    "\n",
    "# droppe alle rezepte, die eine Zutate besitzen, die weniger gleich 5 Mal vorkommen\n",
    "ingredients_filt = ingredients.drop(ingredients_eqles_5_ing.index.get_level_values('id').values, level=0)\n",
    "\n",
    "# drop alls rows with ingredients_id == 0\n",
    "ingredients_eqal_zero = ingredients_filt[ingredients_filt.index.get_level_values('ingredients_id') == 0]\n",
    "ingredients_filt = ingredients_filt.drop(ingredients_eqal_zero.index.get_level_values('id').values, level=0)\n"
   ]
  },
  {
   "cell_type": "code",
   "execution_count": null,
   "metadata": {},
   "outputs": [],
   "source": [
    "#  ------ Erstellung und cleansing des Nutrition Dataframes\n",
    "\n",
    "# erstelle neue liste auf basis der bereits gefilterten rezepte aus ingredients_filt\n",
    "id_overlap_mask = nutritions['id'].isin(ingredients_filt.index.get_level_values('id').values)\n",
    "\n",
    "# erstelle datenframe auf basis der overlapliste\n",
    "nutritions_filt = nutritions.loc[id_overlap_mask]\n",
    "\n",
    "nutrition_db = nutritions_filt.pivot_table(\n",
    "    index=['id'],\n",
    "    columns=['name'],\n",
    "    values=['amount'],\n",
    ").reset_index()\n",
    "\n",
    "nutrition_db.set_index('id', inplace=True)\n",
    "\n",
    "# remove multiindex 'amount'\n",
    "nutrition_db.columns = nutrition_db.columns.droplevel(0)\n",
    "\n",
    "# entferne alle NA\n",
    "nutrition_db = nutrition_db.dropna()\n",
    "\n",
    "# gleiche nochmals die ids der beiden dataframe nutrition und ingredients ab, da der nutrition dataframe noch NA Werte hatt\n",
    "id_overlap_mask = ingredients_filt.index.get_level_values('id').isin(nutrition_db.index)\n",
    "ingredients_db = ingredients_filt[id_overlap_mask]\n",
    "\n",
    "# abgleich ob anzahl der indizes von nutrition und zutaten dataframe gleich sind\n"
   ]
  },
  {
   "cell_type": "code",
   "execution_count": null,
   "metadata": {},
   "outputs": [],
   "source": [
    "\n",
    "\n",
    "ingredients_db.reset_index(inplace=True)\n",
    "\n",
    "recipe_db = pd.get_dummies(ingredients_db['ingredients_id']).groupby(\n",
    "    ingredients_db['id']).apply(max)\n",
    "\n"
   ]
  },
  {
   "cell_type": "code",
   "execution_count": null,
   "metadata": {},
   "outputs": [],
   "source": [
    "new_ingredients = ingredients_db.copy()\n",
    "#new_ingredients = new_ingredients.groupby(\"id\")[\"ingredients_grams\"].sum().reset_index()\n",
    "gramms_ingredients = new_ingredients.groupby(\"id\")[\"ingredients_grams\"].sum().reset_index().copy()\n",
    "\n",
    "Q1 = gramms_ingredients.quantile(0.25)\n",
    "Q3 = gramms_ingredients.quantile(0.75)\n",
    "IQR = Q3 - Q1\n",
    "\n",
    "#Filter out all recipes which are outlier by their weight (gramms)\n",
    "df = gramms_ingredients[~((gramms_ingredients < (Q1 - 1.5 * IQR)) |(gramms_ingredients > (Q3 + 1.5 * IQR))).any(axis=1)].copy()\n",
    "\n",
    "#filter out recipes by weight which are not in the range 500 - 2373.59 gramms\n",
    "df_start_at_fivehundret = df[df['ingredients_grams'].between(500, 2373.58225, inclusive=False)].copy()\n",
    "\n",
    "df_start_at_fivehundret.set_index('id', inplace=True)\n",
    "id_overlap_mask = nutritions['id'].isin(df_start_at_fivehundret.index.get_level_values('id').values)\n",
    "\n",
    "\n",
    "# erstelle datenframe auf basis der overlapliste\n",
    "nutritions_filt_gramm = nutritions.loc[id_overlap_mask]\n",
    "\n",
    "nutrition_db2 = nutritions_filt_gramm.pivot_table(\n",
    "    index=['id'],\n",
    "    columns=['name'],\n",
    "    values=['amount'],\n",
    ").reset_index()\n",
    "\n",
    "#create new nutrition db based on the above filtering\n",
    "nutrition_db2.set_index('id', inplace=True)\n",
    "nutrition_db2.columns = nutrition_db2.columns.droplevel(0)\n",
    "\n"
   ]
  },
  {
   "cell_type": "code",
   "execution_count": null,
   "metadata": {},
   "outputs": [],
   "source": [
    "# random\n",
    "subset_random_top10 = nutrition_db2.sample(n=10).copy()"
   ]
  },
  {
   "cell_type": "code",
   "execution_count": null,
   "metadata": {},
   "outputs": [],
   "source": [
    "#select 20 random recipes which are between the Fat-range of 35-40 gramms\n",
    "subset_fat = nutrition_db2[(nutrition_db2['Fat'] >= 35) & (nutrition_db2['Fat'] <= 40)].sample(n=40).copy()\n",
    "subset_fat_id = subset_fat.index.to_numpy()\n"
   ]
  },
  {
   "cell_type": "code",
   "execution_count": null,
   "metadata": {},
   "outputs": [],
   "source": [
    "subset_normal = nutrition_db2.sample(n=40).copy()\n",
    "subset_normal_id = subset_normal.index.to_numpy()"
   ]
  },
  {
   "cell_type": "code",
   "execution_count": null,
   "metadata": {},
   "outputs": [],
   "source": [
    "subset_normal.index.to_numpy()"
   ]
  },
  {
   "cell_type": "code",
   "execution_count": null,
   "metadata": {},
   "outputs": [],
   "source": [
    "subset_fat.index.to_numpy()"
   ]
  },
  {
   "cell_type": "code",
   "execution_count": null,
   "metadata": {},
   "outputs": [],
   "source": [
    "# remove recipes which are missing in nutrition df from the ingredients tecipes dataframe\n",
    "mask = recipe_db.index.isin(nutrition_db2.index.values)\n",
    "recipe_db = recipe_db.loc[mask]\n"
   ]
  },
  {
   "cell_type": "code",
   "execution_count": null,
   "metadata": {},
   "outputs": [],
   "source": [
    "subset_fat.describe()"
   ]
  },
  {
   "cell_type": "code",
   "execution_count": null,
   "metadata": {},
   "outputs": [],
   "source": [
    "subset_normal.describe()"
   ]
  },
  {
   "cell_type": "code",
   "execution_count": null,
   "metadata": {},
   "outputs": [],
   "source": [
    "user_recipes_fat = recipe_db[recipe_db.index.isin(subset_fat_id)]\n",
    "user_recipes_normal = recipe_db[recipe_db.index.isin(subset_normal_id)]"
   ]
  },
  {
   "cell_type": "code",
   "execution_count": null,
   "metadata": {},
   "outputs": [],
   "source": [
    "####temp#######\n",
    "temp_fat_20 = [16966,  14753,  62459,  18397,   8757,  52501,   8556, 240522,\n",
    "        86628, 221304, 223596,  51653,  48921, 142220,  76763, 222509,\n",
    "        17496,  14710,  86860,  86813]\n",
    "####temp#######\n",
    "user_recipes_fat = recipe_db[recipe_db.index.isin(temp_fat_20)]\n"
   ]
  },
  {
   "cell_type": "code",
   "execution_count": null,
   "metadata": {},
   "outputs": [],
   "source": [
    "user_recipes_fat"
   ]
  },
  {
   "cell_type": "code",
   "execution_count": null,
   "metadata": {},
   "outputs": [],
   "source": [
    "#top10 most common ingredients\n",
    "#16421    2125 salt\n",
    "#4342     1506 garlic\n",
    "#4397     1412 onion\n",
    "#16406    1185 ground black pepper\n",
    "#16157    1016 butter\n",
    "#6307      944 olive oil\n",
    "#6494      786 skinless bone less chicken breast\n",
    "#2496      749 water\n",
    "#16238     574 grated Parmesan cheese\n",
    "#16317     538 eggs\n",
    "\n",
    "\n",
    "drop_id_list = [16421, 4342, 4397, 16406, 16157, 6307, 6494, 2496, 16238, 16317]\n",
    "\n",
    "\n",
    "\n"
   ]
  },
  {
   "cell_type": "code",
   "execution_count": null,
   "metadata": {},
   "outputs": [],
   "source": [
    "subset_fat_id"
   ]
  },
  {
   "cell_type": "code",
   "execution_count": null,
   "metadata": {},
   "outputs": [],
   "source": [
    "subset_normal_id"
   ]
  },
  {
   "cell_type": "code",
   "execution_count": null,
   "metadata": {},
   "outputs": [],
   "source": [
    "#filter out ingredients which are too common and the recipes in the user profile from the recipes database\n",
    "new_recipe_db = recipe_db.drop(axis=1, labels=drop_id_list)\n",
    "\n",
    "#original\n",
    "#new_recipe_db_wo_userrecipes_fat = new_recipe_db.drop(axis=0, labels=subset_fat_id)\n",
    "#original\n",
    "\n",
    "\n",
    "####temp#######\n",
    "new_recipe_db_wo_userrecipes_fat = new_recipe_db.drop(axis=0, labels=temp_fat_20)\n",
    "####temp#######\n",
    "new_recipe_db_wo_userrecipes_normal = new_recipe_db.drop(axis=0, labels=subset_normal_id)"
   ]
  },
  {
   "cell_type": "code",
   "execution_count": null,
   "metadata": {},
   "outputs": [],
   "source": [
    "#remove basic ingredients like garlic, olive oil, skinless bone less chicken breast, butter, milk, salt and pepper, onion\n",
    "new_user_recipes_fat = user_recipes_fat.drop(axis=1, labels=drop_id_list)\n",
    "new_user_recipes_normal = user_recipes_normal.drop(axis=1, labels=drop_id_list)"
   ]
  },
  {
   "cell_type": "code",
   "execution_count": null,
   "metadata": {},
   "outputs": [],
   "source": [
    "sample_fat = new_user_recipes_fat.sample(n=20).copy()\n"
   ]
  },
  {
   "cell_type": "code",
   "execution_count": null,
   "metadata": {},
   "outputs": [],
   "source": [
    "sample_normal = new_user_recipes_normal.sample(n=40).copy()"
   ]
  },
  {
   "cell_type": "code",
   "execution_count": null,
   "metadata": {},
   "outputs": [],
   "source": [
    "sample_normal\n",
    "sample_fat"
   ]
  },
  {
   "cell_type": "code",
   "execution_count": null,
   "metadata": {},
   "outputs": [],
   "source": [
    "## Jaccard - fat\n",
    "\n",
    "result_array = cdist(sample_fat, new_recipe_db_wo_userrecipes_fat,'jaccard')\n",
    "result_w_filter_fat = pd.DataFrame(result_array, columns=new_recipe_db_wo_userrecipes_fat.index.values, index=sample_fat.index.values)\n",
    "# result_2\n",
    "\n",
    "result_w_filter_10_fat = pd.DataFrame(result_w_filter_fat.sum(), columns=['jaccard_distance_sum'])\n",
    "result_w_filter_10_fat = result_w_filter_10_fat.sort_values(by='jaccard_distance_sum')\n",
    "result_w_filter_10_fat['jaccard_distance_sum'] = result_w_filter_10_fat['jaccard_distance_sum'].div(20)\n",
    "result_w_filter_10_fat[0:10]\n"
   ]
  },
  {
   "cell_type": "code",
   "execution_count": null,
   "metadata": {},
   "outputs": [],
   "source": [
    "## Jaccard - normal\n",
    "\n",
    "result_array = cdist(sample_normal, new_recipe_db_wo_userrecipes_normal,'jaccard')\n",
    "result_w_filter_normal = pd.DataFrame(result_array, columns=new_recipe_db_wo_userrecipes_normal.index.values, index=sample_normal.index.values)\n",
    "# result_2\n",
    "\n",
    "result_w_filter_10_normal = pd.DataFrame(result_w_filter_normal.sum(), columns=['jaccard_distance_sum'])\n",
    "result_w_filter_10_normal = result_w_filter_10_normal.sort_values(by='jaccard_distance_sum')\n",
    "result_w_filter_10_normal['jaccard_distance_sum'] = result_w_filter_10_normal['jaccard_distance_sum'].div(20)\n",
    "result_w_filter_10_normal[0:10]\n"
   ]
  },
  {
   "cell_type": "code",
   "execution_count": null,
   "metadata": {},
   "outputs": [],
   "source": [
    "# userrecipes fat\n",
    "sample_fat.index.to_numpy()"
   ]
  },
  {
   "cell_type": "code",
   "execution_count": null,
   "metadata": {},
   "outputs": [],
   "source": [
    "# userrecipes normal\n",
    "sample_normal.index.to_numpy()\n"
   ]
  },
  {
   "cell_type": "code",
   "execution_count": null,
   "metadata": {},
   "outputs": [],
   "source": [
    "result_w_filter_10_fat[0:10].index.to_numpy()"
   ]
  },
  {
   "cell_type": "code",
   "execution_count": null,
   "metadata": {},
   "outputs": [],
   "source": [
    "result_w_filter_10_normal[0:10].index.to_numpy()"
   ]
  },
  {
   "cell_type": "code",
   "execution_count": null,
   "metadata": {},
   "outputs": [],
   "source": [
    "result_w_filter_fat_short = result_w_filter_fat.copy()\n",
    "result_w_filter_normal_short = result_w_filter_normal.copy()"
   ]
  },
  {
   "cell_type": "code",
   "execution_count": null,
   "metadata": {},
   "outputs": [],
   "source": [
    "# top 10 fat short\n",
    "fat_short = pd.DataFrame(np.sort(result_w_filter_fat_short.values, axis=0), index=result_w_filter_fat_short.index, columns=result_w_filter_fat_short.columns)\n",
    "\n",
    "new_columns = fat_short.columns[fat_short.loc[fat_short.first_valid_index()].argsort()]\n",
    "result_fat_short = fat_short[new_columns]\n",
    "result_fat_short = result_fat_short.reset_index()\n",
    "result_fat_short = result_fat_short.loc[1].to_frame()\n",
    "\n",
    "result_fat_short[0:11].index.to_numpy()\n"
   ]
  },
  {
   "cell_type": "code",
   "execution_count": null,
   "metadata": {},
   "outputs": [],
   "source": [
    "fat_short[new_columns]"
   ]
  },
  {
   "cell_type": "code",
   "execution_count": null,
   "metadata": {},
   "outputs": [],
   "source": [
    "sample_fat"
   ]
  },
  {
   "cell_type": "code",
   "execution_count": null,
   "metadata": {},
   "outputs": [],
   "source": [
    "# top 10 normal short\n",
    "normal_short = pd.DataFrame(np.sort(result_w_filter_normal_short.values, axis=0), index=result_w_filter_normal_short.index, columns=result_w_filter_normal_short.columns)\n",
    "\n",
    "new_columns = normal_short.columns[normal_short.loc[normal_short.first_valid_index()].argsort()]\n",
    "result_normal_short = normal_short[new_columns]\n",
    "result_normal_short = result_normal_short.reset_index()\n",
    "result_normal_short = result_normal_short.loc[0].to_frame()\n",
    "result_normal_short[0:11].index.to_numpy()\n"
   ]
  },
  {
   "cell_type": "code",
   "execution_count": null,
   "metadata": {},
   "outputs": [],
   "source": [
    "normal_short[new_columns]"
   ]
  },
  {
   "cell_type": "code",
   "execution_count": null,
   "metadata": {},
   "outputs": [],
   "source": [
    "sample_fat.index.to_numpy()"
   ]
  },
  {
   "cell_type": "code",
   "execution_count": null,
   "metadata": {},
   "outputs": [],
   "source": [
    "sample_normal.index.to_numpy()"
   ]
  },
  {
   "cell_type": "code",
   "execution_count": null,
   "metadata": {},
   "outputs": [],
   "source": [
    "#create one dimensional ingredients vector from user recipes profile\n",
    "user_one_vector_fat = sample_fat.copy()\n",
    "user_one_vector_fat.loc['sum',:]= user_one_vector_fat.sum(axis=0)\n",
    "user_one_vector_fat = user_one_vector_fat.drop(axis=0, labels=sample_fat.index)\n",
    "user_one_vector_fat[user_one_vector_fat > 0] = 1"
   ]
  },
  {
   "cell_type": "code",
   "execution_count": null,
   "metadata": {},
   "outputs": [],
   "source": [
    "#create one dimensional ingredients vector from user recipes profile\n",
    "user_one_vector_normal = sample_normal.copy()\n",
    "user_one_vector_normal.loc['sum',:]= user_one_vector_normal.sum(axis=0)\n",
    "user_one_vector_normal = user_one_vector_normal.drop(axis=0, labels=sample_normal.index)\n",
    "user_one_vector_normal[user_one_vector_normal > 0] = 1"
   ]
  },
  {
   "cell_type": "code",
   "execution_count": null,
   "metadata": {},
   "outputs": [],
   "source": [
    "user_one_vector_normal\n",
    "user_one_vector_normal.apply(pd.value_counts).count(axis=1)"
   ]
  },
  {
   "cell_type": "code",
   "execution_count": null,
   "metadata": {},
   "outputs": [],
   "source": [
    "user_one_vector_fat\n",
    "user_one_vector_fat.apply(pd.value_counts).count(axis=1)"
   ]
  },
  {
   "cell_type": "code",
   "execution_count": null,
   "metadata": {},
   "outputs": [],
   "source": [
    "## Jaccard - Vector fat top 10\n",
    "\n",
    "result_array = cdist(user_one_vector_fat, new_recipe_db_wo_userrecipes_fat,'jaccard')\n",
    "result_w_filter_vector_fat = pd.DataFrame(result_array, columns=new_recipe_db_wo_userrecipes_fat.index.values, index=user_one_vector_fat.index.values)\n",
    "\n",
    "\n",
    "result_w_filter_vector_10_fat = pd.DataFrame(result_w_filter_vector_fat.sum(), columns=['jaccard_distance_sum'])\n",
    "result_w_filter_vector_10_fat = result_w_filter_vector_10_fat.sort_values(by='jaccard_distance_sum')\n",
    "\n",
    "result_w_filter_vector_10_fat[0:10]\n"
   ]
  },
  {
   "cell_type": "code",
   "execution_count": null,
   "metadata": {},
   "outputs": [],
   "source": [
    "## Jaccard - Vector normal top 10\n",
    "\n",
    "result_array = cdist(user_one_vector_normal, new_recipe_db_wo_userrecipes_normal,'jaccard')\n",
    "result_w_filter_vector_normal = pd.DataFrame(result_array, columns=new_recipe_db_wo_userrecipes_normal.index.values, index=user_one_vector_normal.index.values)\n",
    "\n",
    "\n",
    "result_w_filter_vector_10_normal = pd.DataFrame(result_w_filter_vector_normal.sum(), columns=['jaccard_distance_sum'])\n",
    "result_w_filter_vector_10_normal = result_w_filter_vector_10_normal.sort_values(by='jaccard_distance_sum')\n",
    "\n",
    "result_w_filter_vector_10_normal[0:10]\n"
   ]
  },
  {
   "cell_type": "code",
   "execution_count": null,
   "metadata": {},
   "outputs": [],
   "source": [
    "result_w_filter_vector_10_normal[0:10].index.to_numpy()"
   ]
  },
  {
   "cell_type": "code",
   "execution_count": null,
   "metadata": {},
   "outputs": [],
   "source": [
    "####### results"
   ]
  },
  {
   "cell_type": "code",
   "execution_count": null,
   "metadata": {},
   "outputs": [],
   "source": [
    "# userrecipes fat\n",
    "sample_fat.index.to_numpy()"
   ]
  },
  {
   "cell_type": "code",
   "execution_count": null,
   "metadata": {},
   "outputs": [],
   "source": [
    "###### jaccard fat top 10 naiv\n",
    "result_w_filter_10_fat[0:10].index.to_numpy()"
   ]
  },
  {
   "cell_type": "code",
   "execution_count": null,
   "metadata": {},
   "outputs": [],
   "source": [
    "###### jaccard kurz fat top 10\n",
    "result_fat_short[1:11].index.to_numpy()\n"
   ]
  },
  {
   "cell_type": "code",
   "execution_count": null,
   "metadata": {},
   "outputs": [],
   "source": [
    "###### jaccard vector fat top 10\n",
    "result_w_filter_vector_10_fat[0:10].index.to_numpy()"
   ]
  },
  {
   "cell_type": "code",
   "execution_count": null,
   "metadata": {},
   "outputs": [],
   "source": []
  },
  {
   "cell_type": "code",
   "execution_count": null,
   "metadata": {},
   "outputs": [],
   "source": []
  },
  {
   "cell_type": "code",
   "execution_count": null,
   "metadata": {},
   "outputs": [],
   "source": []
  },
  {
   "cell_type": "code",
   "execution_count": null,
   "metadata": {},
   "outputs": [],
   "source": []
  },
  {
   "cell_type": "code",
   "execution_count": null,
   "metadata": {},
   "outputs": [],
   "source": [
    "# userrecipes normal\n",
    "sample_normal.index.to_numpy()"
   ]
  },
  {
   "cell_type": "code",
   "execution_count": null,
   "metadata": {},
   "outputs": [],
   "source": [
    "###### jaccard normal top 10 naiv\n",
    "result_w_filter_10_normal[0:10].index.to_numpy()"
   ]
  },
  {
   "cell_type": "code",
   "execution_count": null,
   "metadata": {},
   "outputs": [],
   "source": [
    "###### jaccard kurz normal top 10\n",
    "result_normal_short[1:11].index.to_numpy()\n"
   ]
  },
  {
   "cell_type": "code",
   "execution_count": null,
   "metadata": {},
   "outputs": [],
   "source": [
    "###### jaccard vector normal top 10\n",
    "result_w_filter_vector_10_normal[0:10].index.to_numpy()"
   ]
  },
  {
   "cell_type": "code",
   "execution_count": null,
   "metadata": {},
   "outputs": [],
   "source": [
    "##### random top 10\n",
    "subset_random_top10.index.to_numpy()"
   ]
  },
  {
   "cell_type": "code",
   "execution_count": null,
   "metadata": {},
   "outputs": [],
   "source": []
  },
  {
   "cell_type": "code",
   "execution_count": null,
   "metadata": {},
   "outputs": [],
   "source": []
  },
  {
   "cell_type": "code",
   "execution_count": null,
   "metadata": {},
   "outputs": [],
   "source": [
    "#https://www.ncbi.nlm.nih.gov/books/NBK56068/table/summarytables.t4/?report=objectonly\n",
    "#https://www.ncbi.nlm.nih.gov/books/NBK56068/table/summarytables.t1/?report=objectonly\n",
    "#https://www.ncbi.nlm.nih.gov/books/NBK56068/table/summarytables.t5/?report=objectonly\n",
    "#männer alter 31 - 50 pro tag geteil durch 3 mahlzeiten\n",
    "\n",
    "recommenden_nut_low_fat = pd.DataFrame(data=None, columns=nutrition_db2.columns, index=None)\n",
    "\n",
    "\n",
    "recommenden_nut_low_fat.loc['index'] = [\n",
    "    # \"Calcium\":[1],\n",
    "    266.67,\n",
    "    # \"Calories\":[1],\n",
    "    500,\n",
    "    # \"Calories from Fat\":[1],\n",
    "    0,\n",
    "    # \"Carbohydrates\":[1],\n",
    "    43.33,\n",
    "    # \"Cholesterol\":[1],\n",
    "    0,\n",
    "    # \"Dietary Fiber\t\":[1],\n",
    "    12.67,\n",
    "    # \"Fat\":[1],16.67,\n",
    "    10,\n",
    "    # \"Folate\":[1],\n",
    "    106.67, \n",
    "    # \"Iron\":[1],\n",
    "    2,\n",
    "    # \"Magnesium\":[1],\n",
    "    116.67, \n",
    "    # \"Niacin Equivalents\":[1],\n",
    "    4,\n",
    "    # \"Potassium\":[1],\n",
    "    1,\n",
    "    # \"Protein\":[1],\n",
    "    18.6,\n",
    "    # \"Saturated Fat\":[1],\n",
    "    1,\n",
    "    # \"Sodium\":[1],\n",
    "    0.5,\n",
    "    # \"Sugars\":[1],\n",
    "    1,\n",
    "    # \"Thiamin\":[1],\n",
    "    0.3, \n",
    "    # \"Vitamin A - IU\":[1],\n",
    "    208, \n",
    "    # \"Vitamin B6\":[1],\n",
    "    0.36, \n",
    "    # \"Vitamin C\":[1]}\n",
    "    25] "
   ]
  },
  {
   "cell_type": "code",
   "execution_count": null,
   "metadata": {},
   "outputs": [],
   "source": [
    "no_weight = [\n",
    "    # \"Calcium\":[1],\n",
    "    1,\n",
    "    # \"Calories\":[1],\n",
    "    1,\n",
    "    # \"Calories from Fat\":[1],\n",
    "    1,\n",
    "    # \"Carbohydrates\":[1],\n",
    "    1,\n",
    "    # \"Cholesterol\":[1],\n",
    "    1,\n",
    "    # \"Dietary Fiber\t\":[1],\n",
    "    1,\n",
    "    # \"Fat\":[1],\n",
    "    1,\n",
    "    # \"Folate\":[1],\n",
    "    1,\n",
    "    # \"Iron\":[1],\n",
    "    1,\n",
    "    # \"Magnesium\":[1],\n",
    "    1,\n",
    "    # \"Niacin Equivalents\":[1],\n",
    "    1,\n",
    "    # \"Potassium\":[1],\n",
    "    1,\n",
    "    # \"Protein\":[1],\n",
    "    1,\n",
    "    # \"Saturated Fat\":[1],\n",
    "    1,\n",
    "    # \"Sodium\":[1],\n",
    "    1,\n",
    "    # \"Sugars\":[1],\n",
    "    1,\n",
    "    # \"Thiamin\":[1],\n",
    "    1,\n",
    "    # \"Vitamin A - IU\":[1],\n",
    "    1,\n",
    "    # \"Vitamin B6\":[1],\n",
    "    1,\n",
    "    # \"Vitamin C\":[1]}\n",
    "    1]\n",
    "\n",
    "weighted_fat = [\n",
    "    # \"Calcium\":[1],\n",
    "    1000,\n",
    "    # \"Calories\":[1],\n",
    "    1,\n",
    "    # \"Calories from Fat\":[1],\n",
    "    1,\n",
    "    # \"Carbohydrates\":[1],\n",
    "    1,\n",
    "    # \"Cholesterol\":[1],\n",
    "    1,\n",
    "    # \"Dietary Fiber\t\":[1],\n",
    "    1,\n",
    "    # \"Fat\":[1],\n",
    "    100000,\n",
    "    # \"Folate\":[1],\n",
    "    1,\n",
    "    # \"Iron\":[1],\n",
    "    1,\n",
    "    # \"Magnesium\":[1],\n",
    "    100,\n",
    "    # \"Niacin Equivalents\":[1],\n",
    "    1,\n",
    "    # \"Potassium\":[1],\n",
    "    1,\n",
    "    # \"Protein\":[1],\n",
    "    1,\n",
    "    # \"Saturated Fat\":[1],\n",
    "    1,\n",
    "    # \"Sodium\":[1],\n",
    "    1,\n",
    "    # \"Sugars\":[1],\n",
    "    1,\n",
    "    # \"Thiamin\":[1],\n",
    "    1,\n",
    "    # \"Vitamin A - IU\":[1],\n",
    "    1,\n",
    "    # \"Vitamin B6\":[1],\n",
    "    1,\n",
    "    # \"Vitamin C\":[1]}\n",
    "    1]\n",
    "\n",
    "weighted_carbs = [\n",
    "    # \"Calcium\":[1],\n",
    "    1,\n",
    "    # \"Calories\":[1],\n",
    "    1,\n",
    "    # \"Calories from Fat\":[1],\n",
    "    1,\n",
    "    # \"Carbohydrates\":[1],\n",
    "    1000000,\n",
    "    # \"Cholesterol\":[1],\n",
    "    1,\n",
    "    # \"Dietary Fiber\t\":[1],\n",
    "    1,\n",
    "    # \"Fat\":[1],\n",
    "    1,\n",
    "    # \"Folate\":[1],\n",
    "    1,\n",
    "    # \"Iron\":[1],\n",
    "    1,\n",
    "    # \"Magnesium\":[1],\n",
    "    1,\n",
    "    # \"Niacin Equivalents\":[1],\n",
    "    1,\n",
    "    # \"Potassium\":[1],\n",
    "    1,\n",
    "    # \"Protein\":[1],\n",
    "    1,\n",
    "    # \"Saturated Fat\":[1],\n",
    "    1,\n",
    "    # \"Sodium\":[1],\n",
    "    1,\n",
    "    # \"Sugars\":[1],\n",
    "    1,\n",
    "    # \"Thiamin\":[1],\n",
    "    1,\n",
    "    # \"Vitamin A - IU\":[1],\n",
    "    1,\n",
    "    # \"Vitamin B6\":[1],\n",
    "    1,\n",
    "    # \"Vitamin C\":[1]}\n",
    "    1]"
   ]
  },
  {
   "cell_type": "code",
   "execution_count": null,
   "metadata": {},
   "outputs": [],
   "source": [
    "result_w_filter_fat_100_vector = result_w_filter_vector_10_fat[0:100].copy()\n",
    "result_w_filter_fat_100_vector['pos'] = np.arange(len(result_w_filter_fat_100_vector))\n",
    "result_w_filter_fat_100_vector = result_w_filter_fat_100_vector.reset_index()\n",
    "result_w_filter_fat_100_vector = result_w_filter_fat_100_vector.set_index('index')"
   ]
  },
  {
   "cell_type": "code",
   "execution_count": null,
   "metadata": {},
   "outputs": [],
   "source": [
    "result_w_filter_fat_100 = result_w_filter_10_fat[0:100].copy()\n",
    "result_w_filter_fat_100['pos'] = np.arange(len(result_w_filter_fat_100))\n",
    "result_w_filter_fat_100 = result_w_filter_fat_100.reset_index()\n",
    "result_w_filter_fat_100 = result_w_filter_fat_100.set_index('index')"
   ]
  },
  {
   "cell_type": "code",
   "execution_count": null,
   "metadata": {},
   "outputs": [],
   "source": [
    "#  ------ Erstellung und cleansing des Nutrition Dataframes\n",
    "\n",
    "# erstelle neue liste auf basis der bereits gefilterten rezepte aus ingredients_filt\n",
    "id_overlap_mask = nutritions['id'].isin(result_w_filter_fat_100.index.to_numpy())\n",
    "\n",
    "# erstelle datenframe auf basis der overlapliste\n",
    "nutritions_filt = nutritions.loc[id_overlap_mask]\n",
    "\n",
    "nutrition_fat_naiv = nutritions_filt.pivot_table(\n",
    "    index=['id'],\n",
    "    columns=['name'],\n",
    "    values=['amount'],\n",
    ").reset_index()\n",
    "\n",
    "nutrition_fat_naiv.set_index('id', inplace=True)\n",
    "\n",
    "# remove multiindex 'amount'\n",
    "nutrition_fat_naiv.columns = nutrition_fat_naiv.columns.droplevel(0)\n",
    "\n",
    "# entferne alle NA\n",
    "nutrition_fat_naiv = nutrition_fat_naiv.dropna()"
   ]
  },
  {
   "cell_type": "code",
   "execution_count": null,
   "metadata": {},
   "outputs": [],
   "source": [
    "# euklidische distanz für nährwerte\n",
    "\n",
    "result_array = cdist(recommenden_nut_low_fat, nutrition_fat_naiv, 'minkowski', p=2, w=weighted_fat)\n",
    "euclid_distance = pd.DataFrame(\n",
    "    result_array, columns=nutrition_fat_naiv.index.values, index=recommenden_nut_low_fat.index.values)\n",
    "\n",
    "euclid_distance_sum_fat_naiv = pd.DataFrame(euclid_distance.sum(), columns=['euclid_distance_sum'])\n",
    "euclid_distance_sum_fat_naiv = euclid_distance_sum_fat_naiv.sort_values(by='euclid_distance_sum')\n",
    "euclid_distance_sum_fat_naiv[0:10]"
   ]
  },
  {
   "cell_type": "code",
   "execution_count": null,
   "metadata": {},
   "outputs": [],
   "source": [
    "jaccard_euclid_joined_fat_naiv = pd.merge(euclid_distance_sum_fat_naiv, result_w_filter_fat_100, left_index=True, right_index=True)"
   ]
  },
  {
   "cell_type": "code",
   "execution_count": null,
   "metadata": {},
   "outputs": [],
   "source": [
    "jaccard_euclid_joined_fat_naiv[0:10]"
   ]
  },
  {
   "cell_type": "code",
   "execution_count": null,
   "metadata": {},
   "outputs": [],
   "source": [
    "#  ------ Erstellung und cleansing des Nutrition Dataframes\n",
    "\n",
    "# erstelle neue liste auf basis der bereits gefilterten rezepte aus ingredients_filt\n",
    "id_overlap_mask = nutritions['id'].isin(jaccard_euclid_joined_fat_naiv[0:10].index.to_numpy())\n",
    "\n",
    "# erstelle datenframe auf basis der overlapliste\n",
    "nutritions_filt = nutritions.loc[id_overlap_mask]\n",
    "\n",
    "nutrition_top10_fat_naiv = nutritions_filt.pivot_table(\n",
    "    index=['id'],\n",
    "    columns=['name'],\n",
    "    values=['amount'],\n",
    ").reset_index()\n",
    "\n",
    "nutrition_top10_fat_naiv.set_index('id', inplace=True)\n",
    "\n",
    "# remove multiindex 'amount'\n",
    "nutrition_top10_fat_naiv.columns = nutrition_top10_fat_naiv.columns.droplevel(0)\n",
    "\n",
    "# entferne alle NA\n",
    "nutrition_top10_fat_naiv = nutrition_top10_fat_naiv.dropna()"
   ]
  },
  {
   "cell_type": "code",
   "execution_count": 269,
   "metadata": {},
   "outputs": [
    {
     "data": {
      "text/html": "<div>\n<style scoped>\n    .dataframe tbody tr th:only-of-type {\n        vertical-align: middle;\n    }\n\n    .dataframe tbody tr th {\n        vertical-align: top;\n    }\n\n    .dataframe thead th {\n        text-align: right;\n    }\n</style>\n<table border=\"1\" class=\"dataframe\">\n  <thead>\n    <tr style=\"text-align: right;\">\n      <th>name</th>\n      <th>Calcium</th>\n      <th>Calories</th>\n      <th>Calories from Fat</th>\n      <th>Carbohydrates</th>\n      <th>Cholesterol</th>\n      <th>Dietary Fiber</th>\n      <th>Fat</th>\n      <th>Folate</th>\n      <th>Iron</th>\n      <th>Magnesium</th>\n      <th>Niacin Equivalents</th>\n      <th>Potassium</th>\n      <th>Protein</th>\n      <th>Saturated Fat</th>\n      <th>Sodium</th>\n      <th>Sugars</th>\n      <th>Thiamin</th>\n      <th>Vitamin A - IU</th>\n      <th>Vitamin B6</th>\n      <th>Vitamin C</th>\n    </tr>\n  </thead>\n  <tbody>\n    <tr>\n      <td>count</td>\n      <td>10.00000</td>\n      <td>10.00000</td>\n      <td>10.00000</td>\n      <td>10.00000</td>\n      <td>10.00000</td>\n      <td>10.00000</td>\n      <td>10.00000</td>\n      <td>10.00000</td>\n      <td>10.00000</td>\n      <td>10.00000</td>\n      <td>10.00000</td>\n      <td>10.00000</td>\n      <td>10.00000</td>\n      <td>10.00000</td>\n      <td>10.00000</td>\n      <td>10.00000</td>\n      <td>10.00000</td>\n      <td>10.00000</td>\n      <td>10.00000</td>\n      <td>10.00000</td>\n    </tr>\n    <tr>\n      <td>mean</td>\n      <td>212.15929</td>\n      <td>347.26522</td>\n      <td>140.72331</td>\n      <td>29.57564</td>\n      <td>75.88731</td>\n      <td>3.13171</td>\n      <td>15.63592</td>\n      <td>70.16376</td>\n      <td>3.28521</td>\n      <td>43.60824</td>\n      <td>9.33045</td>\n      <td>495.32276</td>\n      <td>21.98825</td>\n      <td>6.81862</td>\n      <td>726.05904</td>\n      <td>5.48924</td>\n      <td>0.26014</td>\n      <td>765.58346</td>\n      <td>0.36334</td>\n      <td>26.51701</td>\n    </tr>\n    <tr>\n      <td>std</td>\n      <td>82.36201</td>\n      <td>102.79235</td>\n      <td>25.55050</td>\n      <td>20.57749</td>\n      <td>22.26041</td>\n      <td>2.20438</td>\n      <td>2.83894</td>\n      <td>58.62786</td>\n      <td>1.81904</td>\n      <td>16.10101</td>\n      <td>3.46433</td>\n      <td>165.79725</td>\n      <td>5.96208</td>\n      <td>1.84304</td>\n      <td>269.68843</td>\n      <td>2.73489</td>\n      <td>0.18882</td>\n      <td>597.76996</td>\n      <td>0.15497</td>\n      <td>38.15255</td>\n    </tr>\n    <tr>\n      <td>min</td>\n      <td>115.45590</td>\n      <td>200.50960</td>\n      <td>96.83125</td>\n      <td>8.50724</td>\n      <td>53.31907</td>\n      <td>0.18479</td>\n      <td>10.75903</td>\n      <td>19.02514</td>\n      <td>1.61694</td>\n      <td>22.19329</td>\n      <td>6.48622</td>\n      <td>233.59590</td>\n      <td>11.25829</td>\n      <td>3.16377</td>\n      <td>135.44000</td>\n      <td>1.53699</td>\n      <td>0.06435</td>\n      <td>173.62590</td>\n      <td>0.16549</td>\n      <td>0.24869</td>\n    </tr>\n    <tr>\n      <td>25%</td>\n      <td>169.32903</td>\n      <td>321.24892</td>\n      <td>128.54217</td>\n      <td>20.18204</td>\n      <td>56.19729</td>\n      <td>2.15752</td>\n      <td>14.28247</td>\n      <td>51.08488</td>\n      <td>2.39708</td>\n      <td>31.66494</td>\n      <td>7.25196</td>\n      <td>362.11325</td>\n      <td>19.86547</td>\n      <td>6.17503</td>\n      <td>583.50835</td>\n      <td>3.21599</td>\n      <td>0.12469</td>\n      <td>519.63588</td>\n      <td>0.23250</td>\n      <td>2.78399</td>\n    </tr>\n    <tr>\n      <td>50%</td>\n      <td>189.07620</td>\n      <td>343.44495</td>\n      <td>134.31735</td>\n      <td>24.76168</td>\n      <td>71.35308</td>\n      <td>2.62511</td>\n      <td>14.92415</td>\n      <td>56.93271</td>\n      <td>3.00156</td>\n      <td>43.27683</td>\n      <td>8.76698</td>\n      <td>520.37845</td>\n      <td>21.88125</td>\n      <td>6.95089</td>\n      <td>814.45765</td>\n      <td>5.27446</td>\n      <td>0.24354</td>\n      <td>603.88525</td>\n      <td>0.36174</td>\n      <td>7.66879</td>\n    </tr>\n    <tr>\n      <td>75%</td>\n      <td>250.67625</td>\n      <td>370.21308</td>\n      <td>154.89895</td>\n      <td>28.30338</td>\n      <td>94.22309</td>\n      <td>3.53010</td>\n      <td>17.21100</td>\n      <td>64.72732</td>\n      <td>3.33173</td>\n      <td>47.02484</td>\n      <td>9.56176</td>\n      <td>624.49435</td>\n      <td>24.10793</td>\n      <td>8.07506</td>\n      <td>889.37787</td>\n      <td>7.74314</td>\n      <td>0.30506</td>\n      <td>745.44445</td>\n      <td>0.48236</td>\n      <td>28.78732</td>\n    </tr>\n    <tr>\n      <td>max</td>\n      <td>348.36540</td>\n      <td>587.87570</td>\n      <td>179.00710</td>\n      <td>75.33678</td>\n      <td>109.20330</td>\n      <td>7.99050</td>\n      <td>19.88968</td>\n      <td>232.06060</td>\n      <td>8.11861</td>\n      <td>74.57674</td>\n      <td>18.56014</td>\n      <td>707.67250</td>\n      <td>33.57063</td>\n      <td>9.21249</td>\n      <td>1034.15200</td>\n      <td>9.49131</td>\n      <td>0.71992</td>\n      <td>2207.05300</td>\n      <td>0.57304</td>\n      <td>106.70280</td>\n    </tr>\n  </tbody>\n</table>\n</div>",
      "text/plain": "name    Calcium  Calories  Calories from Fat  Carbohydrates  Cholesterol  \\\ncount  10.00000  10.00000           10.00000       10.00000     10.00000   \nmean  212.15929 347.26522          140.72331       29.57564     75.88731   \nstd    82.36201 102.79235           25.55050       20.57749     22.26041   \nmin   115.45590 200.50960           96.83125        8.50724     53.31907   \n25%   169.32903 321.24892          128.54217       20.18204     56.19729   \n50%   189.07620 343.44495          134.31735       24.76168     71.35308   \n75%   250.67625 370.21308          154.89895       28.30338     94.22309   \nmax   348.36540 587.87570          179.00710       75.33678    109.20330   \n\nname   Dietary Fiber      Fat    Folate     Iron  Magnesium  \\\ncount       10.00000 10.00000  10.00000 10.00000   10.00000   \nmean         3.13171 15.63592  70.16376  3.28521   43.60824   \nstd          2.20438  2.83894  58.62786  1.81904   16.10101   \nmin          0.18479 10.75903  19.02514  1.61694   22.19329   \n25%          2.15752 14.28247  51.08488  2.39708   31.66494   \n50%          2.62511 14.92415  56.93271  3.00156   43.27683   \n75%          3.53010 17.21100  64.72732  3.33173   47.02484   \nmax          7.99050 19.88968 232.06060  8.11861   74.57674   \n\nname   Niacin Equivalents  Potassium  Protein  Saturated Fat     Sodium  \\\ncount            10.00000   10.00000 10.00000       10.00000   10.00000   \nmean              9.33045  495.32276 21.98825        6.81862  726.05904   \nstd               3.46433  165.79725  5.96208        1.84304  269.68843   \nmin               6.48622  233.59590 11.25829        3.16377  135.44000   \n25%               7.25196  362.11325 19.86547        6.17503  583.50835   \n50%               8.76698  520.37845 21.88125        6.95089  814.45765   \n75%               9.56176  624.49435 24.10793        8.07506  889.37787   \nmax              18.56014  707.67250 33.57063        9.21249 1034.15200   \n\nname    Sugars  Thiamin  Vitamin A - IU  Vitamin B6  Vitamin C  \ncount 10.00000 10.00000        10.00000    10.00000   10.00000  \nmean   5.48924  0.26014       765.58346     0.36334   26.51701  \nstd    2.73489  0.18882       597.76996     0.15497   38.15255  \nmin    1.53699  0.06435       173.62590     0.16549    0.24869  \n25%    3.21599  0.12469       519.63588     0.23250    2.78399  \n50%    5.27446  0.24354       603.88525     0.36174    7.66879  \n75%    7.74314  0.30506       745.44445     0.48236   28.78732  \nmax    9.49131  0.71992      2207.05300     0.57304  106.70280  "
     },
     "execution_count": 269,
     "metadata": {},
     "output_type": "execute_result"
    }
   ],
   "source": [
    "nutrition_top10_fat_naiv.describe()"
   ]
  },
  {
   "cell_type": "code",
   "execution_count": null,
   "metadata": {},
   "outputs": [],
   "source": [
    "nutrition_top10_fat_naiv.index.to_numpy()"
   ]
  },
  {
   "cell_type": "code",
   "execution_count": 330,
   "metadata": {},
   "outputs": [],
   "source": [
    "new_df = nutrition_top10_fat_naiv[['Calories', 'Calories from Fat', 'Carbohydrates', 'Fat', 'Saturated Fat', 'Protein', 'Calcium', 'Magnesium', 'Iron' ]]"
   ]
  },
  {
   "cell_type": "code",
   "execution_count": 332,
   "metadata": {},
   "outputs": [
    {
     "data": {
      "text/html": "<div>\n<style scoped>\n    .dataframe tbody tr th:only-of-type {\n        vertical-align: middle;\n    }\n\n    .dataframe tbody tr th {\n        vertical-align: top;\n    }\n\n    .dataframe thead th {\n        text-align: right;\n    }\n</style>\n<table border=\"1\" class=\"dataframe\">\n  <thead>\n    <tr style=\"text-align: right;\">\n      <th>name</th>\n      <th>Calories</th>\n      <th>Calories from Fat</th>\n      <th>Carbohydrates</th>\n      <th>Fat</th>\n      <th>Saturated Fat</th>\n      <th>Protein</th>\n      <th>Calcium</th>\n      <th>Magnesium</th>\n      <th>Iron</th>\n    </tr>\n  </thead>\n  <tbody>\n    <tr>\n      <td>count</td>\n      <td>10.00000</td>\n      <td>10.00000</td>\n      <td>10.00000</td>\n      <td>10.00000</td>\n      <td>10.00000</td>\n      <td>10.00000</td>\n      <td>10.00000</td>\n      <td>10.00000</td>\n      <td>10.00000</td>\n    </tr>\n    <tr>\n      <td>mean</td>\n      <td>347.26522</td>\n      <td>140.72331</td>\n      <td>29.57564</td>\n      <td>15.63592</td>\n      <td>6.81862</td>\n      <td>21.98825</td>\n      <td>212.15929</td>\n      <td>43.60824</td>\n      <td>3.28521</td>\n    </tr>\n    <tr>\n      <td>std</td>\n      <td>102.79235</td>\n      <td>25.55050</td>\n      <td>20.57749</td>\n      <td>2.83894</td>\n      <td>1.84304</td>\n      <td>5.96208</td>\n      <td>82.36201</td>\n      <td>16.10101</td>\n      <td>1.81904</td>\n    </tr>\n    <tr>\n      <td>min</td>\n      <td>200.50960</td>\n      <td>96.83125</td>\n      <td>8.50724</td>\n      <td>10.75903</td>\n      <td>3.16377</td>\n      <td>11.25829</td>\n      <td>115.45590</td>\n      <td>22.19329</td>\n      <td>1.61694</td>\n    </tr>\n    <tr>\n      <td>25%</td>\n      <td>321.24892</td>\n      <td>128.54217</td>\n      <td>20.18204</td>\n      <td>14.28247</td>\n      <td>6.17503</td>\n      <td>19.86547</td>\n      <td>169.32903</td>\n      <td>31.66494</td>\n      <td>2.39708</td>\n    </tr>\n    <tr>\n      <td>50%</td>\n      <td>343.44495</td>\n      <td>134.31735</td>\n      <td>24.76168</td>\n      <td>14.92415</td>\n      <td>6.95089</td>\n      <td>21.88125</td>\n      <td>189.07620</td>\n      <td>43.27683</td>\n      <td>3.00156</td>\n    </tr>\n    <tr>\n      <td>75%</td>\n      <td>370.21308</td>\n      <td>154.89895</td>\n      <td>28.30338</td>\n      <td>17.21100</td>\n      <td>8.07506</td>\n      <td>24.10793</td>\n      <td>250.67625</td>\n      <td>47.02484</td>\n      <td>3.33173</td>\n    </tr>\n    <tr>\n      <td>max</td>\n      <td>587.87570</td>\n      <td>179.00710</td>\n      <td>75.33678</td>\n      <td>19.88968</td>\n      <td>9.21249</td>\n      <td>33.57063</td>\n      <td>348.36540</td>\n      <td>74.57674</td>\n      <td>8.11861</td>\n    </tr>\n  </tbody>\n</table>\n</div>",
      "text/plain": "name   Calories  Calories from Fat  Carbohydrates      Fat  Saturated Fat  \\\ncount  10.00000           10.00000       10.00000 10.00000       10.00000   \nmean  347.26522          140.72331       29.57564 15.63592        6.81862   \nstd   102.79235           25.55050       20.57749  2.83894        1.84304   \nmin   200.50960           96.83125        8.50724 10.75903        3.16377   \n25%   321.24892          128.54217       20.18204 14.28247        6.17503   \n50%   343.44495          134.31735       24.76168 14.92415        6.95089   \n75%   370.21308          154.89895       28.30338 17.21100        8.07506   \nmax   587.87570          179.00710       75.33678 19.88968        9.21249   \n\nname   Protein   Calcium  Magnesium     Iron  \ncount 10.00000  10.00000   10.00000 10.00000  \nmean  21.98825 212.15929   43.60824  3.28521  \nstd    5.96208  82.36201   16.10101  1.81904  \nmin   11.25829 115.45590   22.19329  1.61694  \n25%   19.86547 169.32903   31.66494  2.39708  \n50%   21.88125 189.07620   43.27683  3.00156  \n75%   24.10793 250.67625   47.02484  3.33173  \nmax   33.57063 348.36540   74.57674  8.11861  "
     },
     "execution_count": 332,
     "metadata": {},
     "output_type": "execute_result"
    }
   ],
   "source": [
    "new_df.describe()"
   ]
  },
  {
   "cell_type": "code",
   "execution_count": null,
   "metadata": {},
   "outputs": [],
   "source": []
  },
  {
   "cell_type": "code",
   "execution_count": 261,
   "metadata": {},
   "outputs": [],
   "source": [
    "result_w_filter_fat_100_short = result_fat_short[1:101].index.to_numpy().copy()\n"
   ]
  },
  {
   "cell_type": "code",
   "execution_count": 264,
   "metadata": {},
   "outputs": [],
   "source": [
    "#  ------ Erstellung und cleansing des Nutrition Dataframes\n",
    "\n",
    "# erstelle neue liste auf basis der bereits gefilterten rezepte aus ingredients_filt\n",
    "id_overlap_mask = nutritions['id'].isin(result_fat_short[1:101].index.to_numpy())\n",
    "\n",
    "# erstelle datenframe auf basis der overlapliste\n",
    "nutritions_filt = nutritions.loc[id_overlap_mask]\n",
    "\n",
    "nutrition_fat_short = nutritions_filt.pivot_table(\n",
    "    index=['id'],\n",
    "    columns=['name'],\n",
    "    values=['amount'],\n",
    ").reset_index()\n",
    "\n",
    "nutrition_fat_short.set_index('id', inplace=True)\n",
    "\n",
    "# remove multiindex 'amount'\n",
    "nutrition_fat_short.columns = nutrition_fat_short.columns.droplevel(0)\n",
    "\n",
    "# entferne alle NA\n",
    "nutrition_fat_short = nutrition_fat_short.dropna()"
   ]
  },
  {
   "cell_type": "code",
   "execution_count": 266,
   "metadata": {},
   "outputs": [
    {
     "data": {
      "text/html": "<div>\n<style scoped>\n    .dataframe tbody tr th:only-of-type {\n        vertical-align: middle;\n    }\n\n    .dataframe tbody tr th {\n        vertical-align: top;\n    }\n\n    .dataframe thead th {\n        text-align: right;\n    }\n</style>\n<table border=\"1\" class=\"dataframe\">\n  <thead>\n    <tr style=\"text-align: right;\">\n      <th></th>\n      <th>euclid_distance_sum</th>\n    </tr>\n  </thead>\n  <tbody>\n    <tr>\n      <td>235323</td>\n      <td>2963.70113</td>\n    </tr>\n    <tr>\n      <td>18442</td>\n      <td>3126.81472</td>\n    </tr>\n    <tr>\n      <td>8965</td>\n      <td>3288.17839</td>\n    </tr>\n    <tr>\n      <td>17869</td>\n      <td>3301.38331</td>\n    </tr>\n    <tr>\n      <td>52148</td>\n      <td>3392.22542</td>\n    </tr>\n    <tr>\n      <td>73964</td>\n      <td>3654.74357</td>\n    </tr>\n    <tr>\n      <td>21297</td>\n      <td>4087.73266</td>\n    </tr>\n    <tr>\n      <td>11916</td>\n      <td>4453.50712</td>\n    </tr>\n    <tr>\n      <td>34361</td>\n      <td>4911.82372</td>\n    </tr>\n    <tr>\n      <td>14724</td>\n      <td>4969.35463</td>\n    </tr>\n  </tbody>\n</table>\n</div>",
      "text/plain": "        euclid_distance_sum\n235323           2963.70113\n18442            3126.81472\n8965             3288.17839\n17869            3301.38331\n52148            3392.22542\n73964            3654.74357\n21297            4087.73266\n11916            4453.50712\n34361            4911.82372\n14724            4969.35463"
     },
     "execution_count": 266,
     "metadata": {},
     "output_type": "execute_result"
    }
   ],
   "source": [
    "# euklidische distanz für nährwerte\n",
    "\n",
    "result_array = cdist(recommenden_nut_low_fat, nutrition_fat_short, 'minkowski', p=2, w=weighted_fat)\n",
    "euclid_distance = pd.DataFrame(\n",
    "    result_array, columns=nutrition_fat_short.index.values, index=recommenden_nut_low_fat.index.values)\n",
    "\n",
    "euclid_distance_sum_fat_short = pd.DataFrame(euclid_distance.sum(), columns=['euclid_distance_sum'])\n",
    "euclid_distance_sum_fat_short = euclid_distance_sum_fat_short.sort_values(by='euclid_distance_sum')\n",
    "euclid_distance_sum_fat_short[0:10]"
   ]
  },
  {
   "cell_type": "code",
   "execution_count": 267,
   "metadata": {},
   "outputs": [],
   "source": [
    "#  ------ Erstellung und cleansing des Nutrition Dataframes\n",
    "\n",
    "# erstelle neue liste auf basis der bereits gefilterten rezepte aus ingredients_filt\n",
    "id_overlap_mask = nutritions['id'].isin(euclid_distance_sum_fat_short[0:10].index.to_numpy())\n",
    "\n",
    "# erstelle datenframe auf basis der overlapliste\n",
    "nutritions_filt = nutritions.loc[id_overlap_mask]\n",
    "\n",
    "nutrition_top10_fat_short = nutritions_filt.pivot_table(\n",
    "    index=['id'],\n",
    "    columns=['name'],\n",
    "    values=['amount'],\n",
    ").reset_index()\n",
    "\n",
    "nutrition_top10_fat_short.set_index('id', inplace=True)\n",
    "\n",
    "# remove multiindex 'amount'\n",
    "nutrition_top10_fat_short.columns = nutrition_top10_fat_short.columns.droplevel(0)\n",
    "\n",
    "# entferne alle NA\n",
    "nutrition_top10_fat_short = nutrition_top10_fat_short.dropna()"
   ]
  },
  {
   "cell_type": "code",
   "execution_count": 268,
   "metadata": {},
   "outputs": [
    {
     "data": {
      "text/html": "<div>\n<style scoped>\n    .dataframe tbody tr th:only-of-type {\n        vertical-align: middle;\n    }\n\n    .dataframe tbody tr th {\n        vertical-align: top;\n    }\n\n    .dataframe thead th {\n        text-align: right;\n    }\n</style>\n<table border=\"1\" class=\"dataframe\">\n  <thead>\n    <tr style=\"text-align: right;\">\n      <th>name</th>\n      <th>Calcium</th>\n      <th>Calories</th>\n      <th>Calories from Fat</th>\n      <th>Carbohydrates</th>\n      <th>Cholesterol</th>\n      <th>Dietary Fiber</th>\n      <th>Fat</th>\n      <th>Folate</th>\n      <th>Iron</th>\n      <th>Magnesium</th>\n      <th>Niacin Equivalents</th>\n      <th>Potassium</th>\n      <th>Protein</th>\n      <th>Saturated Fat</th>\n      <th>Sodium</th>\n      <th>Sugars</th>\n      <th>Thiamin</th>\n      <th>Vitamin A - IU</th>\n      <th>Vitamin B6</th>\n      <th>Vitamin C</th>\n    </tr>\n  </thead>\n  <tbody>\n    <tr>\n      <td>count</td>\n      <td>10.00000</td>\n      <td>10.00000</td>\n      <td>10.00000</td>\n      <td>10.00000</td>\n      <td>10.00000</td>\n      <td>10.00000</td>\n      <td>10.00000</td>\n      <td>10.00000</td>\n      <td>10.00000</td>\n      <td>10.00000</td>\n      <td>10.00000</td>\n      <td>10.00000</td>\n      <td>10.00000</td>\n      <td>10.00000</td>\n      <td>10.00000</td>\n      <td>10.00000</td>\n      <td>10.00000</td>\n      <td>10.00000</td>\n      <td>10.00000</td>\n      <td>10.00000</td>\n    </tr>\n    <tr>\n      <td>mean</td>\n      <td>246.13638</td>\n      <td>376.53420</td>\n      <td>135.33025</td>\n      <td>34.87812</td>\n      <td>69.31935</td>\n      <td>4.13922</td>\n      <td>15.03669</td>\n      <td>99.12528</td>\n      <td>3.21327</td>\n      <td>56.35856</td>\n      <td>11.34105</td>\n      <td>617.69192</td>\n      <td>24.47273</td>\n      <td>6.29289</td>\n      <td>797.67408</td>\n      <td>6.75959</td>\n      <td>0.39576</td>\n      <td>1104.28851</td>\n      <td>0.47839</td>\n      <td>41.12230</td>\n    </tr>\n    <tr>\n      <td>std</td>\n      <td>93.92264</td>\n      <td>117.27508</td>\n      <td>27.33583</td>\n      <td>19.38038</td>\n      <td>37.53288</td>\n      <td>2.64418</td>\n      <td>3.03731</td>\n      <td>64.34844</td>\n      <td>1.02763</td>\n      <td>12.21409</td>\n      <td>5.31644</td>\n      <td>196.48770</td>\n      <td>9.16575</td>\n      <td>1.35276</td>\n      <td>273.34081</td>\n      <td>3.73947</td>\n      <td>0.35304</td>\n      <td>1035.22989</td>\n      <td>0.22483</td>\n      <td>42.60456</td>\n    </tr>\n    <tr>\n      <td>min</td>\n      <td>120.13000</td>\n      <td>236.84920</td>\n      <td>75.64122</td>\n      <td>10.26850</td>\n      <td>22.48000</td>\n      <td>0.60750</td>\n      <td>8.40458</td>\n      <td>17.74500</td>\n      <td>1.85349</td>\n      <td>39.66000</td>\n      <td>6.53378</td>\n      <td>417.78530</td>\n      <td>11.25829</td>\n      <td>4.18225</td>\n      <td>135.44000</td>\n      <td>3.40015</td>\n      <td>0.06435</td>\n      <td>90.80750</td>\n      <td>0.23307</td>\n      <td>0.06100</td>\n    </tr>\n    <tr>\n      <td>25%</td>\n      <td>176.58055</td>\n      <td>316.09415</td>\n      <td>127.64125</td>\n      <td>23.62964</td>\n      <td>55.34107</td>\n      <td>2.66736</td>\n      <td>14.18237</td>\n      <td>59.84020</td>\n      <td>2.44834</td>\n      <td>45.85537</td>\n      <td>7.18329</td>\n      <td>487.32785</td>\n      <td>19.06985</td>\n      <td>5.22905</td>\n      <td>740.28135</td>\n      <td>4.23192</td>\n      <td>0.16660</td>\n      <td>646.70830</td>\n      <td>0.31175</td>\n      <td>7.41081</td>\n    </tr>\n    <tr>\n      <td>50%</td>\n      <td>241.66255</td>\n      <td>326.81905</td>\n      <td>133.37395</td>\n      <td>31.10388</td>\n      <td>65.78500</td>\n      <td>3.58660</td>\n      <td>14.81932</td>\n      <td>79.54997</td>\n      <td>3.17201</td>\n      <td>60.56481</td>\n      <td>9.33337</td>\n      <td>563.69635</td>\n      <td>22.24039</td>\n      <td>6.67609</td>\n      <td>864.61230</td>\n      <td>5.64700</td>\n      <td>0.22840</td>\n      <td>835.20980</td>\n      <td>0.42745</td>\n      <td>24.16721</td>\n    </tr>\n    <tr>\n      <td>75%</td>\n      <td>337.26127</td>\n      <td>416.24435</td>\n      <td>152.42108</td>\n      <td>40.58051</td>\n      <td>75.97485</td>\n      <td>4.21726</td>\n      <td>16.93567</td>\n      <td>131.91579</td>\n      <td>3.56851</td>\n      <td>64.26294</td>\n      <td>13.28304</td>\n      <td>704.44560</td>\n      <td>31.09789</td>\n      <td>7.12775</td>\n      <td>981.51135</td>\n      <td>7.74314</td>\n      <td>0.60273</td>\n      <td>1068.84575</td>\n      <td>0.55425</td>\n      <td>76.63280</td>\n    </tr>\n    <tr>\n      <td>max</td>\n      <td>352.94910</td>\n      <td>649.57600</td>\n      <td>170.77750</td>\n      <td>75.25994</td>\n      <td>153.69500</td>\n      <td>9.46078</td>\n      <td>18.97528</td>\n      <td>232.06060</td>\n      <td>5.33774</td>\n      <td>74.38944</td>\n      <td>21.90084</td>\n      <td>1074.64800</td>\n      <td>40.23982</td>\n      <td>8.03736</td>\n      <td>1030.99600</td>\n      <td>15.84195</td>\n      <td>1.16597</td>\n      <td>3895.99800</td>\n      <td>0.88844</td>\n      <td>106.70280</td>\n    </tr>\n  </tbody>\n</table>\n</div>",
      "text/plain": "name    Calcium  Calories  Calories from Fat  Carbohydrates  Cholesterol  \\\ncount  10.00000  10.00000           10.00000       10.00000     10.00000   \nmean  246.13638 376.53420          135.33025       34.87812     69.31935   \nstd    93.92264 117.27508           27.33583       19.38038     37.53288   \nmin   120.13000 236.84920           75.64122       10.26850     22.48000   \n25%   176.58055 316.09415          127.64125       23.62964     55.34107   \n50%   241.66255 326.81905          133.37395       31.10388     65.78500   \n75%   337.26127 416.24435          152.42108       40.58051     75.97485   \nmax   352.94910 649.57600          170.77750       75.25994    153.69500   \n\nname   Dietary Fiber      Fat    Folate     Iron  Magnesium  \\\ncount       10.00000 10.00000  10.00000 10.00000   10.00000   \nmean         4.13922 15.03669  99.12528  3.21327   56.35856   \nstd          2.64418  3.03731  64.34844  1.02763   12.21409   \nmin          0.60750  8.40458  17.74500  1.85349   39.66000   \n25%          2.66736 14.18237  59.84020  2.44834   45.85537   \n50%          3.58660 14.81932  79.54997  3.17201   60.56481   \n75%          4.21726 16.93567 131.91579  3.56851   64.26294   \nmax          9.46078 18.97528 232.06060  5.33774   74.38944   \n\nname   Niacin Equivalents  Potassium  Protein  Saturated Fat     Sodium  \\\ncount            10.00000   10.00000 10.00000       10.00000   10.00000   \nmean             11.34105  617.69192 24.47273        6.29289  797.67408   \nstd               5.31644  196.48770  9.16575        1.35276  273.34081   \nmin               6.53378  417.78530 11.25829        4.18225  135.44000   \n25%               7.18329  487.32785 19.06985        5.22905  740.28135   \n50%               9.33337  563.69635 22.24039        6.67609  864.61230   \n75%              13.28304  704.44560 31.09789        7.12775  981.51135   \nmax              21.90084 1074.64800 40.23982        8.03736 1030.99600   \n\nname    Sugars  Thiamin  Vitamin A - IU  Vitamin B6  Vitamin C  \ncount 10.00000 10.00000        10.00000    10.00000   10.00000  \nmean   6.75959  0.39576      1104.28851     0.47839   41.12230  \nstd    3.73947  0.35304      1035.22989     0.22483   42.60456  \nmin    3.40015  0.06435        90.80750     0.23307    0.06100  \n25%    4.23192  0.16660       646.70830     0.31175    7.41081  \n50%    5.64700  0.22840       835.20980     0.42745   24.16721  \n75%    7.74314  0.60273      1068.84575     0.55425   76.63280  \nmax   15.84195  1.16597      3895.99800     0.88844  106.70280  "
     },
     "execution_count": 268,
     "metadata": {},
     "output_type": "execute_result"
    }
   ],
   "source": [
    "nutrition_top10_fat_short.describe()"
   ]
  },
  {
   "cell_type": "code",
   "execution_count": 277,
   "metadata": {},
   "outputs": [
    {
     "data": {
      "text/plain": "array([  8965,  11916,  14724,  17869,  18442,  21297,  34361,  52148,\n        73964, 235323])"
     },
     "execution_count": 277,
     "metadata": {},
     "output_type": "execute_result"
    }
   ],
   "source": [
    "nutrition_top10_fat_short.index.to_numpy()"
   ]
  },
  {
   "cell_type": "code",
   "execution_count": null,
   "metadata": {},
   "outputs": [],
   "source": []
  },
  {
   "cell_type": "code",
   "execution_count": null,
   "metadata": {},
   "outputs": [],
   "source": []
  },
  {
   "cell_type": "code",
   "execution_count": null,
   "metadata": {},
   "outputs": [],
   "source": []
  },
  {
   "cell_type": "code",
   "execution_count": null,
   "metadata": {},
   "outputs": [],
   "source": []
  },
  {
   "cell_type": "code",
   "execution_count": 271,
   "metadata": {},
   "outputs": [],
   "source": [
    "result_w_filter_fat_100_vector = result_w_filter_vector_10_fat[0:100].copy()\n",
    "result_w_filter_fat_100_vector['pos'] = np.arange(len(result_w_filter_fat_100_vector))\n",
    "result_w_filter_fat_100_vector = result_w_filter_fat_100_vector.reset_index()\n",
    "result_w_filter_fat_100_vector = result_w_filter_fat_100_vector.set_index('index')"
   ]
  },
  {
   "cell_type": "code",
   "execution_count": 272,
   "metadata": {},
   "outputs": [],
   "source": [
    "#  ------ Erstellung und cleansing des Nutrition Dataframes\n",
    "\n",
    "# erstelle neue liste auf basis der bereits gefilterten rezepte aus ingredients_filt\n",
    "id_overlap_mask = nutritions['id'].isin(result_w_filter_fat_100_vector.index.to_numpy())\n",
    "\n",
    "# erstelle datenframe auf basis der overlapliste\n",
    "nutritions_filt = nutritions.loc[id_overlap_mask]\n",
    "\n",
    "nutrition_fat_vector = nutritions_filt.pivot_table(\n",
    "    index=['id'],\n",
    "    columns=['name'],\n",
    "    values=['amount'],\n",
    ").reset_index()\n",
    "\n",
    "nutrition_fat_vector.set_index('id', inplace=True)\n",
    "\n",
    "# remove multiindex 'amount'\n",
    "nutrition_fat_vector.columns = nutrition_fat_vector.columns.droplevel(0)\n",
    "\n",
    "# entferne alle NA\n",
    "nutrition_fat_vector = nutrition_fat_vector.dropna()"
   ]
  },
  {
   "cell_type": "code",
   "execution_count": 273,
   "metadata": {},
   "outputs": [
    {
     "data": {
      "text/html": "<div>\n<style scoped>\n    .dataframe tbody tr th:only-of-type {\n        vertical-align: middle;\n    }\n\n    .dataframe tbody tr th {\n        vertical-align: top;\n    }\n\n    .dataframe thead th {\n        text-align: right;\n    }\n</style>\n<table border=\"1\" class=\"dataframe\">\n  <thead>\n    <tr style=\"text-align: right;\">\n      <th></th>\n      <th>euclid_distance_sum</th>\n    </tr>\n  </thead>\n  <tbody>\n    <tr>\n      <td>222635</td>\n      <td>2656.70711</td>\n    </tr>\n    <tr>\n      <td>22751</td>\n      <td>2884.62922</td>\n    </tr>\n    <tr>\n      <td>218720</td>\n      <td>3205.85598</td>\n    </tr>\n    <tr>\n      <td>73964</td>\n      <td>3654.74357</td>\n    </tr>\n    <tr>\n      <td>47764</td>\n      <td>3694.71307</td>\n    </tr>\n    <tr>\n      <td>125646</td>\n      <td>3990.04083</td>\n    </tr>\n    <tr>\n      <td>51850</td>\n      <td>4309.87153</td>\n    </tr>\n    <tr>\n      <td>213108</td>\n      <td>4646.40433</td>\n    </tr>\n    <tr>\n      <td>213742</td>\n      <td>4690.02647</td>\n    </tr>\n    <tr>\n      <td>86515</td>\n      <td>4755.09357</td>\n    </tr>\n  </tbody>\n</table>\n</div>",
      "text/plain": "        euclid_distance_sum\n222635           2656.70711\n22751            2884.62922\n218720           3205.85598\n73964            3654.74357\n47764            3694.71307\n125646           3990.04083\n51850            4309.87153\n213108           4646.40433\n213742           4690.02647\n86515            4755.09357"
     },
     "execution_count": 273,
     "metadata": {},
     "output_type": "execute_result"
    }
   ],
   "source": [
    "# euklidische distanz für nährwerte\n",
    "\n",
    "result_array = cdist(recommenden_nut_low_fat, nutrition_fat_vector, 'minkowski', p=2, w=weighted_fat)\n",
    "euclid_distance = pd.DataFrame(\n",
    "    result_array, columns=nutrition_fat_vector.index.values, index=recommenden_nut_low_fat.index.values)\n",
    "\n",
    "euclid_distance_sum_fat_vector = pd.DataFrame(euclid_distance.sum(), columns=['euclid_distance_sum'])\n",
    "euclid_distance_sum_fat_vector = euclid_distance_sum_fat_vector.sort_values(by='euclid_distance_sum')\n",
    "euclid_distance_sum_fat_vector[0:10]"
   ]
  },
  {
   "cell_type": "code",
   "execution_count": 274,
   "metadata": {},
   "outputs": [],
   "source": [
    "#  ------ Erstellung und cleansing des Nutrition Dataframes\n",
    "\n",
    "# erstelle neue liste auf basis der bereits gefilterten rezepte aus ingredients_filt\n",
    "id_overlap_mask = nutritions['id'].isin(euclid_distance_sum_fat_vector[0:10].index.to_numpy())\n",
    "\n",
    "# erstelle datenframe auf basis der overlapliste\n",
    "nutritions_filt = nutritions.loc[id_overlap_mask]\n",
    "\n",
    "nutrition_top10_fat_vector = nutritions_filt.pivot_table(\n",
    "    index=['id'],\n",
    "    columns=['name'],\n",
    "    values=['amount'],\n",
    ").reset_index()\n",
    "\n",
    "nutrition_top10_fat_vector.set_index('id', inplace=True)\n",
    "\n",
    "# remove multiindex 'amount'\n",
    "nutrition_top10_fat_vector.columns = nutrition_top10_fat_vector.columns.droplevel(0)\n",
    "\n",
    "# entferne alle NA\n",
    "nutrition_top10_fat_vector = nutrition_top10_fat_vector.dropna()"
   ]
  },
  {
   "cell_type": "code",
   "execution_count": 275,
   "metadata": {},
   "outputs": [
    {
     "data": {
      "text/html": "<div>\n<style scoped>\n    .dataframe tbody tr th:only-of-type {\n        vertical-align: middle;\n    }\n\n    .dataframe tbody tr th {\n        vertical-align: top;\n    }\n\n    .dataframe thead th {\n        text-align: right;\n    }\n</style>\n<table border=\"1\" class=\"dataframe\">\n  <thead>\n    <tr style=\"text-align: right;\">\n      <th>name</th>\n      <th>Calcium</th>\n      <th>Calories</th>\n      <th>Calories from Fat</th>\n      <th>Carbohydrates</th>\n      <th>Cholesterol</th>\n      <th>Dietary Fiber</th>\n      <th>Fat</th>\n      <th>Folate</th>\n      <th>Iron</th>\n      <th>Magnesium</th>\n      <th>Niacin Equivalents</th>\n      <th>Potassium</th>\n      <th>Protein</th>\n      <th>Saturated Fat</th>\n      <th>Sodium</th>\n      <th>Sugars</th>\n      <th>Thiamin</th>\n      <th>Vitamin A - IU</th>\n      <th>Vitamin B6</th>\n      <th>Vitamin C</th>\n    </tr>\n  </thead>\n  <tbody>\n    <tr>\n      <td>count</td>\n      <td>10.00000</td>\n      <td>10.00000</td>\n      <td>10.00000</td>\n      <td>10.00000</td>\n      <td>10.00000</td>\n      <td>10.00000</td>\n      <td>10.00000</td>\n      <td>10.00000</td>\n      <td>10.00000</td>\n      <td>10.00000</td>\n      <td>10.00000</td>\n      <td>10.00000</td>\n      <td>10.00000</td>\n      <td>10.00000</td>\n      <td>10.00000</td>\n      <td>10.00000</td>\n      <td>10.00000</td>\n      <td>10.00000</td>\n      <td>10.00000</td>\n      <td>10.00000</td>\n    </tr>\n    <tr>\n      <td>mean</td>\n      <td>220.52175</td>\n      <td>331.05631</td>\n      <td>132.62326</td>\n      <td>28.41211</td>\n      <td>63.10973</td>\n      <td>3.76223</td>\n      <td>14.73592</td>\n      <td>77.04844</td>\n      <td>3.38780</td>\n      <td>53.94445</td>\n      <td>8.25789</td>\n      <td>551.85010</td>\n      <td>21.78478</td>\n      <td>6.02939</td>\n      <td>635.90571</td>\n      <td>5.13299</td>\n      <td>0.23259</td>\n      <td>1543.57442</td>\n      <td>0.37947</td>\n      <td>27.14741</td>\n    </tr>\n    <tr>\n      <td>std</td>\n      <td>74.32726</td>\n      <td>59.43686</td>\n      <td>39.81566</td>\n      <td>15.33014</td>\n      <td>30.57142</td>\n      <td>2.63906</td>\n      <td>4.42396</td>\n      <td>38.64705</td>\n      <td>1.24772</td>\n      <td>21.86293</td>\n      <td>1.51348</td>\n      <td>147.38850</td>\n      <td>5.28264</td>\n      <td>2.71222</td>\n      <td>234.36754</td>\n      <td>2.16354</td>\n      <td>0.10820</td>\n      <td>1142.29737</td>\n      <td>0.11479</td>\n      <td>21.30309</td>\n    </tr>\n    <tr>\n      <td>min</td>\n      <td>141.86220</td>\n      <td>225.31940</td>\n      <td>69.70808</td>\n      <td>10.26850</td>\n      <td>13.12500</td>\n      <td>1.54934</td>\n      <td>7.74534</td>\n      <td>30.26573</td>\n      <td>2.27139</td>\n      <td>26.74829</td>\n      <td>6.38666</td>\n      <td>233.59590</td>\n      <td>13.60084</td>\n      <td>1.43604</td>\n      <td>251.82900</td>\n      <td>1.75411</td>\n      <td>0.09686</td>\n      <td>390.79160</td>\n      <td>0.17184</td>\n      <td>3.56750</td>\n    </tr>\n    <tr>\n      <td>25%</td>\n      <td>157.40613</td>\n      <td>322.22235</td>\n      <td>106.55367</td>\n      <td>16.85230</td>\n      <td>54.67246</td>\n      <td>2.15752</td>\n      <td>11.83929</td>\n      <td>51.66255</td>\n      <td>2.76399</td>\n      <td>45.23232</td>\n      <td>7.25584</td>\n      <td>502.05890</td>\n      <td>19.92655</td>\n      <td>4.59974</td>\n      <td>523.47958</td>\n      <td>3.64864</td>\n      <td>0.16514</td>\n      <td>657.50013</td>\n      <td>0.32859</td>\n      <td>6.43829</td>\n    </tr>\n    <tr>\n      <td>50%</td>\n      <td>205.82620</td>\n      <td>342.15345</td>\n      <td>133.92645</td>\n      <td>27.30739</td>\n      <td>69.31846</td>\n      <td>2.71036</td>\n      <td>14.88071</td>\n      <td>68.84002</td>\n      <td>3.00156</td>\n      <td>48.58591</td>\n      <td>7.63795</td>\n      <td>532.84835</td>\n      <td>22.02222</td>\n      <td>6.31056</td>\n      <td>623.14290</td>\n      <td>5.27446</td>\n      <td>0.22213</td>\n      <td>1021.45430</td>\n      <td>0.38966</td>\n      <td>32.34010</td>\n    </tr>\n    <tr>\n      <td>75%</td>\n      <td>264.83247</td>\n      <td>374.03538</td>\n      <td>155.57768</td>\n      <td>30.44074</td>\n      <td>75.77294</td>\n      <td>4.60132</td>\n      <td>17.28641</td>\n      <td>102.38766</td>\n      <td>3.52882</td>\n      <td>57.63681</td>\n      <td>9.00264</td>\n      <td>667.16242</td>\n      <td>24.22196</td>\n      <td>8.07046</td>\n      <td>834.67255</td>\n      <td>6.97998</td>\n      <td>0.28556</td>\n      <td>2611.80250</td>\n      <td>0.47795</td>\n      <td>39.11250</td>\n    </tr>\n    <tr>\n      <td>max</td>\n      <td>348.36540</td>\n      <td>406.00630</td>\n      <td>193.96690</td>\n      <td>54.42183</td>\n      <td>109.20330</td>\n      <td>10.10235</td>\n      <td>21.55188</td>\n      <td>155.88120</td>\n      <td>6.70979</td>\n      <td>110.13140</td>\n      <td>11.35271</td>\n      <td>742.50300</td>\n      <td>31.03836</td>\n      <td>9.54182</td>\n      <td>939.88530</td>\n      <td>7.85019</td>\n      <td>0.40852</td>\n      <td>3368.70700</td>\n      <td>0.49912</td>\n      <td>68.26264</td>\n    </tr>\n  </tbody>\n</table>\n</div>",
      "text/plain": "name    Calcium  Calories  Calories from Fat  Carbohydrates  Cholesterol  \\\ncount  10.00000  10.00000           10.00000       10.00000     10.00000   \nmean  220.52175 331.05631          132.62326       28.41211     63.10973   \nstd    74.32726  59.43686           39.81566       15.33014     30.57142   \nmin   141.86220 225.31940           69.70808       10.26850     13.12500   \n25%   157.40613 322.22235          106.55367       16.85230     54.67246   \n50%   205.82620 342.15345          133.92645       27.30739     69.31846   \n75%   264.83247 374.03538          155.57768       30.44074     75.77294   \nmax   348.36540 406.00630          193.96690       54.42183    109.20330   \n\nname   Dietary Fiber      Fat    Folate     Iron  Magnesium  \\\ncount       10.00000 10.00000  10.00000 10.00000   10.00000   \nmean         3.76223 14.73592  77.04844  3.38780   53.94445   \nstd          2.63906  4.42396  38.64705  1.24772   21.86293   \nmin          1.54934  7.74534  30.26573  2.27139   26.74829   \n25%          2.15752 11.83929  51.66255  2.76399   45.23232   \n50%          2.71036 14.88071  68.84002  3.00156   48.58591   \n75%          4.60132 17.28641 102.38766  3.52882   57.63681   \nmax         10.10235 21.55188 155.88120  6.70979  110.13140   \n\nname   Niacin Equivalents  Potassium  Protein  Saturated Fat    Sodium  \\\ncount            10.00000   10.00000 10.00000       10.00000  10.00000   \nmean              8.25789  551.85010 21.78478        6.02939 635.90571   \nstd               1.51348  147.38850  5.28264        2.71222 234.36754   \nmin               6.38666  233.59590 13.60084        1.43604 251.82900   \n25%               7.25584  502.05890 19.92655        4.59974 523.47958   \n50%               7.63795  532.84835 22.02222        6.31056 623.14290   \n75%               9.00264  667.16242 24.22196        8.07046 834.67255   \nmax              11.35271  742.50300 31.03836        9.54182 939.88530   \n\nname    Sugars  Thiamin  Vitamin A - IU  Vitamin B6  Vitamin C  \ncount 10.00000 10.00000        10.00000    10.00000   10.00000  \nmean   5.13299  0.23259      1543.57442     0.37947   27.14741  \nstd    2.16354  0.10820      1142.29737     0.11479   21.30309  \nmin    1.75411  0.09686       390.79160     0.17184    3.56750  \n25%    3.64864  0.16514       657.50013     0.32859    6.43829  \n50%    5.27446  0.22213      1021.45430     0.38966   32.34010  \n75%    6.97998  0.28556      2611.80250     0.47795   39.11250  \nmax    7.85019  0.40852      3368.70700     0.49912   68.26264  "
     },
     "execution_count": 275,
     "metadata": {},
     "output_type": "execute_result"
    }
   ],
   "source": [
    "nutrition_top10_fat_vector.describe()"
   ]
  },
  {
   "cell_type": "code",
   "execution_count": 276,
   "metadata": {},
   "outputs": [
    {
     "data": {
      "text/plain": "array([ 22751,  47764,  51850,  73964,  86515, 125646, 213108, 213742,\n       218720, 222635])"
     },
     "execution_count": 276,
     "metadata": {},
     "output_type": "execute_result"
    }
   ],
   "source": [
    "nutrition_top10_fat_vector.index.to_numpy()"
   ]
  },
  {
   "cell_type": "code",
   "execution_count": null,
   "metadata": {},
   "outputs": [],
   "source": []
  },
  {
   "cell_type": "code",
   "execution_count": null,
   "metadata": {},
   "outputs": [],
   "source": []
  },
  {
   "cell_type": "code",
   "execution_count": 302,
   "metadata": {},
   "outputs": [],
   "source": [
    "#  ------ Erstellung und cleansing des Nutrition Dataframes\n",
    "\n",
    "# erstelle neue liste auf basis der bereits gefilterten rezepte aus ingredients_filt\n",
    "id_overlap_mask = nutritions['id'].isin(result_w_filter_10_fat.index.to_numpy())\n",
    "\n",
    "# erstelle datenframe auf basis der overlapliste\n",
    "nutritions_filt = nutritions.loc[id_overlap_mask]\n",
    "\n",
    "random_nut_fat_naiv = nutritions_filt.pivot_table(\n",
    "    index=['id'],\n",
    "    columns=['name'],\n",
    "    values=['amount'],\n",
    ").reset_index()\n",
    "\n",
    "random_nut_fat_naiv.set_index('id', inplace=True)\n",
    "\n",
    "# remove multiindex 'amount'\n",
    "random_nut_fat_naiv.columns = random_nut_fat_naiv.columns.droplevel(0)\n",
    "\n",
    "# entferne alle NA\n",
    "random_nut_fat_naiv = random_nut_fat_naiv.dropna()\n"
   ]
  },
  {
   "cell_type": "code",
   "execution_count": 303,
   "metadata": {},
   "outputs": [],
   "source": [
    "asd = random_nut_fat_naiv.sort_values(by='Fat')"
   ]
  },
  {
   "cell_type": "code",
   "execution_count": 305,
   "metadata": {},
   "outputs": [
    {
     "data": {
      "text/html": "<div>\n<style scoped>\n    .dataframe tbody tr th:only-of-type {\n        vertical-align: middle;\n    }\n\n    .dataframe tbody tr th {\n        vertical-align: top;\n    }\n\n    .dataframe thead th {\n        text-align: right;\n    }\n</style>\n<table border=\"1\" class=\"dataframe\">\n  <thead>\n    <tr style=\"text-align: right;\">\n      <th>name</th>\n      <th>Calcium</th>\n      <th>Calories</th>\n      <th>Calories from Fat</th>\n      <th>Carbohydrates</th>\n      <th>Cholesterol</th>\n      <th>Dietary Fiber</th>\n      <th>Fat</th>\n      <th>Folate</th>\n      <th>Iron</th>\n      <th>Magnesium</th>\n      <th>Niacin Equivalents</th>\n      <th>Potassium</th>\n      <th>Protein</th>\n      <th>Saturated Fat</th>\n      <th>Sodium</th>\n      <th>Sugars</th>\n      <th>Thiamin</th>\n      <th>Vitamin A - IU</th>\n      <th>Vitamin B6</th>\n      <th>Vitamin C</th>\n    </tr>\n  </thead>\n  <tbody>\n    <tr>\n      <td>count</td>\n      <td>10.00000</td>\n      <td>10.00000</td>\n      <td>10.00000</td>\n      <td>10.00000</td>\n      <td>10.00000</td>\n      <td>10.00000</td>\n      <td>10.00000</td>\n      <td>10.00000</td>\n      <td>10.00000</td>\n      <td>10.00000</td>\n      <td>10.00000</td>\n      <td>10.00000</td>\n      <td>10.00000</td>\n      <td>10.00000</td>\n      <td>10.00000</td>\n      <td>10.00000</td>\n      <td>10.00000</td>\n      <td>10.00000</td>\n      <td>10.00000</td>\n      <td>10.00000</td>\n    </tr>\n    <tr>\n      <td>mean</td>\n      <td>38.70887</td>\n      <td>186.72419</td>\n      <td>8.59290</td>\n      <td>29.76577</td>\n      <td>38.54453</td>\n      <td>2.73469</td>\n      <td>0.95477</td>\n      <td>44.79653</td>\n      <td>2.01912</td>\n      <td>39.79316</td>\n      <td>6.33330</td>\n      <td>482.15195</td>\n      <td>14.43233</td>\n      <td>0.18719</td>\n      <td>699.62336</td>\n      <td>7.82159</td>\n      <td>0.19012</td>\n      <td>950.15627</td>\n      <td>0.41897</td>\n      <td>17.61181</td>\n    </tr>\n    <tr>\n      <td>std</td>\n      <td>13.91447</td>\n      <td>88.90485</td>\n      <td>3.00284</td>\n      <td>25.51754</td>\n      <td>54.26492</td>\n      <td>2.79798</td>\n      <td>0.33365</td>\n      <td>47.34177</td>\n      <td>1.29271</td>\n      <td>22.17036</td>\n      <td>3.59982</td>\n      <td>462.21356</td>\n      <td>10.36769</td>\n      <td>0.07805</td>\n      <td>425.08936</td>\n      <td>10.32595</td>\n      <td>0.22016</td>\n      <td>1004.53875</td>\n      <td>0.32838</td>\n      <td>20.78962</td>\n    </tr>\n    <tr>\n      <td>min</td>\n      <td>22.24650</td>\n      <td>67.54216</td>\n      <td>1.32300</td>\n      <td>1.92550</td>\n      <td>0.00000</td>\n      <td>0.26294</td>\n      <td>0.14700</td>\n      <td>4.35167</td>\n      <td>0.35016</td>\n      <td>8.68500</td>\n      <td>0.54284</td>\n      <td>152.89170</td>\n      <td>0.75050</td>\n      <td>0.01992</td>\n      <td>183.87960</td>\n      <td>0.58219</td>\n      <td>0.00985</td>\n      <td>7.38000</td>\n      <td>0.06808</td>\n      <td>1.40368</td>\n    </tr>\n    <tr>\n      <td>25%</td>\n      <td>29.03908</td>\n      <td>144.54335</td>\n      <td>8.60387</td>\n      <td>12.03016</td>\n      <td>0.00000</td>\n      <td>1.03581</td>\n      <td>0.95599</td>\n      <td>12.82424</td>\n      <td>1.09430</td>\n      <td>29.74379</td>\n      <td>3.95787</td>\n      <td>185.08150</td>\n      <td>7.18936</td>\n      <td>0.14782</td>\n      <td>384.31890</td>\n      <td>3.15031</td>\n      <td>0.04068</td>\n      <td>332.61125</td>\n      <td>0.18691</td>\n      <td>6.52157</td>\n    </tr>\n    <tr>\n      <td>50%</td>\n      <td>37.62199</td>\n      <td>165.28260</td>\n      <td>9.61920</td>\n      <td>24.06730</td>\n      <td>21.98067</td>\n      <td>1.64616</td>\n      <td>1.06880</td>\n      <td>25.03194</td>\n      <td>1.99470</td>\n      <td>36.51286</td>\n      <td>6.34558</td>\n      <td>313.92140</td>\n      <td>11.93949</td>\n      <td>0.19185</td>\n      <td>606.55830</td>\n      <td>3.95583</td>\n      <td>0.07930</td>\n      <td>665.54215</td>\n      <td>0.31446</td>\n      <td>9.33288</td>\n    </tr>\n    <tr>\n      <td>75%</td>\n      <td>46.88089</td>\n      <td>215.73680</td>\n      <td>9.96918</td>\n      <td>42.23227</td>\n      <td>57.18543</td>\n      <td>2.73951</td>\n      <td>1.10769</td>\n      <td>64.98426</td>\n      <td>2.25283</td>\n      <td>42.86750</td>\n      <td>8.36965</td>\n      <td>537.11617</td>\n      <td>19.40237</td>\n      <td>0.24751</td>\n      <td>882.46690</td>\n      <td>5.24654</td>\n      <td>0.23163</td>\n      <td>1124.87050</td>\n      <td>0.56084</td>\n      <td>20.23434</td>\n    </tr>\n    <tr>\n      <td>max</td>\n      <td>68.01366</td>\n      <td>397.88000</td>\n      <td>11.42801</td>\n      <td>88.31117</td>\n      <td>172.57500</td>\n      <td>8.96175</td>\n      <td>1.26978</td>\n      <td>134.84210</td>\n      <td>4.33315</td>\n      <td>91.76000</td>\n      <td>12.94783</td>\n      <td>1587.04700</td>\n      <td>31.80096</td>\n      <td>0.27537</td>\n      <td>1469.93500</td>\n      <td>34.79835</td>\n      <td>0.59393</td>\n      <td>3392.83200</td>\n      <td>1.10230</td>\n      <td>72.69300</td>\n    </tr>\n  </tbody>\n</table>\n</div>",
      "text/plain": "name   Calcium  Calories  Calories from Fat  Carbohydrates  Cholesterol  \\\ncount 10.00000  10.00000           10.00000       10.00000     10.00000   \nmean  38.70887 186.72419            8.59290       29.76577     38.54453   \nstd   13.91447  88.90485            3.00284       25.51754     54.26492   \nmin   22.24650  67.54216            1.32300        1.92550      0.00000   \n25%   29.03908 144.54335            8.60387       12.03016      0.00000   \n50%   37.62199 165.28260            9.61920       24.06730     21.98067   \n75%   46.88089 215.73680            9.96918       42.23227     57.18543   \nmax   68.01366 397.88000           11.42801       88.31117    172.57500   \n\nname   Dietary Fiber      Fat    Folate     Iron  Magnesium  \\\ncount       10.00000 10.00000  10.00000 10.00000   10.00000   \nmean         2.73469  0.95477  44.79653  2.01912   39.79316   \nstd          2.79798  0.33365  47.34177  1.29271   22.17036   \nmin          0.26294  0.14700   4.35167  0.35016    8.68500   \n25%          1.03581  0.95599  12.82424  1.09430   29.74379   \n50%          1.64616  1.06880  25.03194  1.99470   36.51286   \n75%          2.73951  1.10769  64.98426  2.25283   42.86750   \nmax          8.96175  1.26978 134.84210  4.33315   91.76000   \n\nname   Niacin Equivalents  Potassium  Protein  Saturated Fat     Sodium  \\\ncount            10.00000   10.00000 10.00000       10.00000   10.00000   \nmean              6.33330  482.15195 14.43233        0.18719  699.62336   \nstd               3.59982  462.21356 10.36769        0.07805  425.08936   \nmin               0.54284  152.89170  0.75050        0.01992  183.87960   \n25%               3.95787  185.08150  7.18936        0.14782  384.31890   \n50%               6.34558  313.92140 11.93949        0.19185  606.55830   \n75%               8.36965  537.11617 19.40237        0.24751  882.46690   \nmax              12.94783 1587.04700 31.80096        0.27537 1469.93500   \n\nname    Sugars  Thiamin  Vitamin A - IU  Vitamin B6  Vitamin C  \ncount 10.00000 10.00000        10.00000    10.00000   10.00000  \nmean   7.82159  0.19012       950.15627     0.41897   17.61181  \nstd   10.32595  0.22016      1004.53875     0.32838   20.78962  \nmin    0.58219  0.00985         7.38000     0.06808    1.40368  \n25%    3.15031  0.04068       332.61125     0.18691    6.52157  \n50%    3.95583  0.07930       665.54215     0.31446    9.33288  \n75%    5.24654  0.23163      1124.87050     0.56084   20.23434  \nmax   34.79835  0.59393      3392.83200     1.10230   72.69300  "
     },
     "execution_count": 305,
     "metadata": {},
     "output_type": "execute_result"
    }
   ],
   "source": [
    "asd[0:10].describe()"
   ]
  },
  {
   "cell_type": "code",
   "execution_count": 297,
   "metadata": {},
   "outputs": [],
   "source": [
    "random_nut_fat = nutrition_db2.sort_values(by='Fat')"
   ]
  },
  {
   "cell_type": "code",
   "execution_count": 298,
   "metadata": {},
   "outputs": [
    {
     "data": {
      "text/plain": "array([ 14725,  53194, 223269, 216688,  23444,  12768,  50939,  99480,\n        13963,  19478])"
     },
     "execution_count": 298,
     "metadata": {},
     "output_type": "execute_result"
    }
   ],
   "source": [
    "random_nut_fat[0:10].index.to_numpy()"
   ]
  },
  {
   "cell_type": "code",
   "execution_count": 299,
   "metadata": {},
   "outputs": [],
   "source": [
    "#  ------ Erstellung und cleansing des Nutrition Dataframes\n",
    "\n",
    "# erstelle neue liste auf basis der bereits gefilterten rezepte aus ingredients_filt\n",
    "id_overlap_mask = nutritions['id'].isin(random_nut_fat[0:10].index.to_numpy())\n",
    "\n",
    "# erstelle datenframe auf basis der overlapliste\n",
    "nutritions_filt = nutritions.loc[id_overlap_mask]\n",
    "\n",
    "random_nut_fat = nutritions_filt.pivot_table(\n",
    "    index=['id'],\n",
    "    columns=['name'],\n",
    "    values=['amount'],\n",
    ").reset_index()\n",
    "\n",
    "random_nut_fat.set_index('id', inplace=True)\n",
    "\n",
    "# remove multiindex 'amount'\n",
    "random_nut_fat.columns = random_nut_fat.columns.droplevel(0)\n",
    "\n",
    "# entferne alle NA\n",
    "random_nut_fat = random_nut_fat.dropna()"
   ]
  },
  {
   "cell_type": "code",
   "execution_count": 300,
   "metadata": {},
   "outputs": [
    {
     "data": {
      "text/html": "<div>\n<style scoped>\n    .dataframe tbody tr th:only-of-type {\n        vertical-align: middle;\n    }\n\n    .dataframe tbody tr th {\n        vertical-align: top;\n    }\n\n    .dataframe thead th {\n        text-align: right;\n    }\n</style>\n<table border=\"1\" class=\"dataframe\">\n  <thead>\n    <tr style=\"text-align: right;\">\n      <th>name</th>\n      <th>Calcium</th>\n      <th>Calories</th>\n      <th>Calories from Fat</th>\n      <th>Carbohydrates</th>\n      <th>Cholesterol</th>\n      <th>Dietary Fiber</th>\n      <th>Fat</th>\n      <th>Folate</th>\n      <th>Iron</th>\n      <th>Magnesium</th>\n      <th>Niacin Equivalents</th>\n      <th>Potassium</th>\n      <th>Protein</th>\n      <th>Saturated Fat</th>\n      <th>Sodium</th>\n      <th>Sugars</th>\n      <th>Thiamin</th>\n      <th>Vitamin A - IU</th>\n      <th>Vitamin B6</th>\n      <th>Vitamin C</th>\n    </tr>\n  </thead>\n  <tbody>\n    <tr>\n      <td>count</td>\n      <td>10.00000</td>\n      <td>10.00000</td>\n      <td>10.00000</td>\n      <td>10.00000</td>\n      <td>10.00000</td>\n      <td>10.00000</td>\n      <td>10.00000</td>\n      <td>10.00000</td>\n      <td>10.00000</td>\n      <td>10.00000</td>\n      <td>10.00000</td>\n      <td>10.00000</td>\n      <td>10.00000</td>\n      <td>10.00000</td>\n      <td>10.00000</td>\n      <td>10.00000</td>\n      <td>10.00000</td>\n      <td>10.00000</td>\n      <td>10.00000</td>\n      <td>10.00000</td>\n    </tr>\n    <tr>\n      <td>mean</td>\n      <td>38.70887</td>\n      <td>186.72419</td>\n      <td>8.59290</td>\n      <td>29.76577</td>\n      <td>38.54453</td>\n      <td>2.73469</td>\n      <td>0.95477</td>\n      <td>44.79653</td>\n      <td>2.01912</td>\n      <td>39.79316</td>\n      <td>6.33330</td>\n      <td>482.15195</td>\n      <td>14.43233</td>\n      <td>0.18719</td>\n      <td>699.62336</td>\n      <td>7.82159</td>\n      <td>0.19012</td>\n      <td>950.15627</td>\n      <td>0.41897</td>\n      <td>17.61181</td>\n    </tr>\n    <tr>\n      <td>std</td>\n      <td>13.91447</td>\n      <td>88.90485</td>\n      <td>3.00284</td>\n      <td>25.51754</td>\n      <td>54.26492</td>\n      <td>2.79798</td>\n      <td>0.33365</td>\n      <td>47.34177</td>\n      <td>1.29271</td>\n      <td>22.17036</td>\n      <td>3.59982</td>\n      <td>462.21356</td>\n      <td>10.36769</td>\n      <td>0.07805</td>\n      <td>425.08936</td>\n      <td>10.32595</td>\n      <td>0.22016</td>\n      <td>1004.53875</td>\n      <td>0.32838</td>\n      <td>20.78962</td>\n    </tr>\n    <tr>\n      <td>min</td>\n      <td>22.24650</td>\n      <td>67.54216</td>\n      <td>1.32300</td>\n      <td>1.92550</td>\n      <td>0.00000</td>\n      <td>0.26294</td>\n      <td>0.14700</td>\n      <td>4.35167</td>\n      <td>0.35016</td>\n      <td>8.68500</td>\n      <td>0.54284</td>\n      <td>152.89170</td>\n      <td>0.75050</td>\n      <td>0.01992</td>\n      <td>183.87960</td>\n      <td>0.58219</td>\n      <td>0.00985</td>\n      <td>7.38000</td>\n      <td>0.06808</td>\n      <td>1.40368</td>\n    </tr>\n    <tr>\n      <td>25%</td>\n      <td>29.03908</td>\n      <td>144.54335</td>\n      <td>8.60387</td>\n      <td>12.03016</td>\n      <td>0.00000</td>\n      <td>1.03581</td>\n      <td>0.95599</td>\n      <td>12.82424</td>\n      <td>1.09430</td>\n      <td>29.74379</td>\n      <td>3.95787</td>\n      <td>185.08150</td>\n      <td>7.18936</td>\n      <td>0.14782</td>\n      <td>384.31890</td>\n      <td>3.15031</td>\n      <td>0.04068</td>\n      <td>332.61125</td>\n      <td>0.18691</td>\n      <td>6.52157</td>\n    </tr>\n    <tr>\n      <td>50%</td>\n      <td>37.62199</td>\n      <td>165.28260</td>\n      <td>9.61920</td>\n      <td>24.06730</td>\n      <td>21.98067</td>\n      <td>1.64616</td>\n      <td>1.06880</td>\n      <td>25.03194</td>\n      <td>1.99470</td>\n      <td>36.51286</td>\n      <td>6.34558</td>\n      <td>313.92140</td>\n      <td>11.93949</td>\n      <td>0.19185</td>\n      <td>606.55830</td>\n      <td>3.95583</td>\n      <td>0.07930</td>\n      <td>665.54215</td>\n      <td>0.31446</td>\n      <td>9.33288</td>\n    </tr>\n    <tr>\n      <td>75%</td>\n      <td>46.88089</td>\n      <td>215.73680</td>\n      <td>9.96918</td>\n      <td>42.23227</td>\n      <td>57.18543</td>\n      <td>2.73951</td>\n      <td>1.10769</td>\n      <td>64.98426</td>\n      <td>2.25283</td>\n      <td>42.86750</td>\n      <td>8.36965</td>\n      <td>537.11617</td>\n      <td>19.40237</td>\n      <td>0.24751</td>\n      <td>882.46690</td>\n      <td>5.24654</td>\n      <td>0.23163</td>\n      <td>1124.87050</td>\n      <td>0.56084</td>\n      <td>20.23434</td>\n    </tr>\n    <tr>\n      <td>max</td>\n      <td>68.01366</td>\n      <td>397.88000</td>\n      <td>11.42801</td>\n      <td>88.31117</td>\n      <td>172.57500</td>\n      <td>8.96175</td>\n      <td>1.26978</td>\n      <td>134.84210</td>\n      <td>4.33315</td>\n      <td>91.76000</td>\n      <td>12.94783</td>\n      <td>1587.04700</td>\n      <td>31.80096</td>\n      <td>0.27537</td>\n      <td>1469.93500</td>\n      <td>34.79835</td>\n      <td>0.59393</td>\n      <td>3392.83200</td>\n      <td>1.10230</td>\n      <td>72.69300</td>\n    </tr>\n  </tbody>\n</table>\n</div>",
      "text/plain": "name   Calcium  Calories  Calories from Fat  Carbohydrates  Cholesterol  \\\ncount 10.00000  10.00000           10.00000       10.00000     10.00000   \nmean  38.70887 186.72419            8.59290       29.76577     38.54453   \nstd   13.91447  88.90485            3.00284       25.51754     54.26492   \nmin   22.24650  67.54216            1.32300        1.92550      0.00000   \n25%   29.03908 144.54335            8.60387       12.03016      0.00000   \n50%   37.62199 165.28260            9.61920       24.06730     21.98067   \n75%   46.88089 215.73680            9.96918       42.23227     57.18543   \nmax   68.01366 397.88000           11.42801       88.31117    172.57500   \n\nname   Dietary Fiber      Fat    Folate     Iron  Magnesium  \\\ncount       10.00000 10.00000  10.00000 10.00000   10.00000   \nmean         2.73469  0.95477  44.79653  2.01912   39.79316   \nstd          2.79798  0.33365  47.34177  1.29271   22.17036   \nmin          0.26294  0.14700   4.35167  0.35016    8.68500   \n25%          1.03581  0.95599  12.82424  1.09430   29.74379   \n50%          1.64616  1.06880  25.03194  1.99470   36.51286   \n75%          2.73951  1.10769  64.98426  2.25283   42.86750   \nmax          8.96175  1.26978 134.84210  4.33315   91.76000   \n\nname   Niacin Equivalents  Potassium  Protein  Saturated Fat     Sodium  \\\ncount            10.00000   10.00000 10.00000       10.00000   10.00000   \nmean              6.33330  482.15195 14.43233        0.18719  699.62336   \nstd               3.59982  462.21356 10.36769        0.07805  425.08936   \nmin               0.54284  152.89170  0.75050        0.01992  183.87960   \n25%               3.95787  185.08150  7.18936        0.14782  384.31890   \n50%               6.34558  313.92140 11.93949        0.19185  606.55830   \n75%               8.36965  537.11617 19.40237        0.24751  882.46690   \nmax              12.94783 1587.04700 31.80096        0.27537 1469.93500   \n\nname    Sugars  Thiamin  Vitamin A - IU  Vitamin B6  Vitamin C  \ncount 10.00000 10.00000        10.00000    10.00000   10.00000  \nmean   7.82159  0.19012       950.15627     0.41897   17.61181  \nstd   10.32595  0.22016      1004.53875     0.32838   20.78962  \nmin    0.58219  0.00985         7.38000     0.06808    1.40368  \n25%    3.15031  0.04068       332.61125     0.18691    6.52157  \n50%    3.95583  0.07930       665.54215     0.31446    9.33288  \n75%    5.24654  0.23163      1124.87050     0.56084   20.23434  \nmax   34.79835  0.59393      3392.83200     1.10230   72.69300  "
     },
     "execution_count": 300,
     "metadata": {},
     "output_type": "execute_result"
    }
   ],
   "source": [
    "random_nut_fat.describe()"
   ]
  },
  {
   "cell_type": "code",
   "execution_count": null,
   "metadata": {},
   "outputs": [],
   "source": [
    "asd[0:50]"
   ]
  },
  {
   "cell_type": "code",
   "execution_count": null,
   "metadata": {},
   "outputs": [],
   "source": [
    "asd[0:10].index.to_numpy()"
   ]
  },
  {
   "cell_type": "code",
   "execution_count": 312,
   "metadata": {},
   "outputs": [
    {
     "data": {
      "text/html": "<div>\n<style scoped>\n    .dataframe tbody tr th:only-of-type {\n        vertical-align: middle;\n    }\n\n    .dataframe tbody tr th {\n        vertical-align: top;\n    }\n\n    .dataframe thead th {\n        text-align: right;\n    }\n</style>\n<table border=\"1\" class=\"dataframe\">\n  <thead>\n    <tr style=\"text-align: right;\">\n      <th>name</th>\n      <th>Calcium</th>\n      <th>Calories</th>\n      <th>Calories from Fat</th>\n      <th>Carbohydrates</th>\n      <th>Cholesterol</th>\n      <th>Dietary Fiber</th>\n      <th>Fat</th>\n      <th>Folate</th>\n      <th>Iron</th>\n      <th>Magnesium</th>\n      <th>Niacin Equivalents</th>\n      <th>Potassium</th>\n      <th>Protein</th>\n      <th>Saturated Fat</th>\n      <th>Sodium</th>\n      <th>Sugars</th>\n      <th>Thiamin</th>\n      <th>Vitamin A - IU</th>\n      <th>Vitamin B6</th>\n      <th>Vitamin C</th>\n    </tr>\n  </thead>\n  <tbody>\n    <tr>\n      <td>count</td>\n      <td>100.00000</td>\n      <td>100.00000</td>\n      <td>100.00000</td>\n      <td>100.00000</td>\n      <td>100.00000</td>\n      <td>100.00000</td>\n      <td>100.00000</td>\n      <td>100.00000</td>\n      <td>100.00000</td>\n      <td>100.00000</td>\n      <td>100.00000</td>\n      <td>100.00000</td>\n      <td>100.00000</td>\n      <td>100.00000</td>\n      <td>100.00000</td>\n      <td>100.00000</td>\n      <td>100.00000</td>\n      <td>100.00000</td>\n      <td>100.00000</td>\n      <td>100.00000</td>\n    </tr>\n    <tr>\n      <td>mean</td>\n      <td>193.58762</td>\n      <td>542.33307</td>\n      <td>280.92923</td>\n      <td>35.24085</td>\n      <td>126.84912</td>\n      <td>3.11108</td>\n      <td>31.21436</td>\n      <td>82.54184</td>\n      <td>3.74909</td>\n      <td>51.49306</td>\n      <td>12.97124</td>\n      <td>588.90950</td>\n      <td>30.01276</td>\n      <td>13.91145</td>\n      <td>878.25259</td>\n      <td>5.90811</td>\n      <td>0.34132</td>\n      <td>1067.70516</td>\n      <td>0.46588</td>\n      <td>20.47902</td>\n    </tr>\n    <tr>\n      <td>std</td>\n      <td>152.15803</td>\n      <td>233.04451</td>\n      <td>142.35312</td>\n      <td>28.64292</td>\n      <td>53.88096</td>\n      <td>3.21868</td>\n      <td>15.81701</td>\n      <td>66.17241</td>\n      <td>1.69520</td>\n      <td>21.31506</td>\n      <td>5.61848</td>\n      <td>280.87722</td>\n      <td>11.85509</td>\n      <td>8.19141</td>\n      <td>536.23257</td>\n      <td>4.45822</td>\n      <td>0.29503</td>\n      <td>1583.40654</td>\n      <td>0.23021</td>\n      <td>29.69788</td>\n    </tr>\n    <tr>\n      <td>min</td>\n      <td>21.16217</td>\n      <td>178.02370</td>\n      <td>81.26787</td>\n      <td>3.96258</td>\n      <td>42.62200</td>\n      <td>0.05250</td>\n      <td>9.02976</td>\n      <td>5.91633</td>\n      <td>0.63185</td>\n      <td>14.54606</td>\n      <td>3.28438</td>\n      <td>97.71526</td>\n      <td>7.24539</td>\n      <td>2.95201</td>\n      <td>90.84255</td>\n      <td>0.35572</td>\n      <td>0.02349</td>\n      <td>24.77542</td>\n      <td>0.15045</td>\n      <td>0.05513</td>\n    </tr>\n    <tr>\n      <td>25%</td>\n      <td>86.60862</td>\n      <td>347.46640</td>\n      <td>163.69540</td>\n      <td>18.63982</td>\n      <td>77.00405</td>\n      <td>1.38853</td>\n      <td>18.18838</td>\n      <td>38.24905</td>\n      <td>2.52238</td>\n      <td>35.87920</td>\n      <td>9.08077</td>\n      <td>384.01743</td>\n      <td>21.36922</td>\n      <td>6.91110</td>\n      <td>559.10540</td>\n      <td>2.95941</td>\n      <td>0.14412</td>\n      <td>327.33435</td>\n      <td>0.28597</td>\n      <td>2.29055</td>\n    </tr>\n    <tr>\n      <td>50%</td>\n      <td>135.24265</td>\n      <td>521.07890</td>\n      <td>257.11545</td>\n      <td>29.01693</td>\n      <td>121.89220</td>\n      <td>2.31647</td>\n      <td>28.56839</td>\n      <td>61.06267</td>\n      <td>3.41979</td>\n      <td>48.47376</td>\n      <td>12.01238</td>\n      <td>544.86530</td>\n      <td>27.71758</td>\n      <td>12.81584</td>\n      <td>770.02640</td>\n      <td>4.64207</td>\n      <td>0.25400</td>\n      <td>708.12000</td>\n      <td>0.43604</td>\n      <td>6.28739</td>\n    </tr>\n    <tr>\n      <td>75%</td>\n      <td>270.99390</td>\n      <td>671.04170</td>\n      <td>358.37510</td>\n      <td>44.43137</td>\n      <td>162.93713</td>\n      <td>3.81326</td>\n      <td>39.81945</td>\n      <td>109.30135</td>\n      <td>4.77342</td>\n      <td>64.83919</td>\n      <td>16.13937</td>\n      <td>735.37780</td>\n      <td>37.10145</td>\n      <td>17.99064</td>\n      <td>1057.41650</td>\n      <td>7.94706</td>\n      <td>0.41822</td>\n      <td>1275.62625</td>\n      <td>0.57877</td>\n      <td>23.21081</td>\n    </tr>\n    <tr>\n      <td>max</td>\n      <td>805.72420</td>\n      <td>1828.19200</td>\n      <td>669.48660</td>\n      <td>236.72050</td>\n      <td>255.27750</td>\n      <td>27.83175</td>\n      <td>74.38741</td>\n      <td>356.06120</td>\n      <td>11.15067</td>\n      <td>122.85450</td>\n      <td>34.42963</td>\n      <td>1621.57200</td>\n      <td>73.59243</td>\n      <td>37.37759</td>\n      <td>2885.61300</td>\n      <td>21.95344</td>\n      <td>1.56088</td>\n      <td>12034.20000</td>\n      <td>1.15913</td>\n      <td>110.51560</td>\n    </tr>\n  </tbody>\n</table>\n</div>",
      "text/plain": "name    Calcium   Calories  Calories from Fat  Carbohydrates  Cholesterol  \\\ncount 100.00000  100.00000          100.00000      100.00000    100.00000   \nmean  193.58762  542.33307          280.92923       35.24085    126.84912   \nstd   152.15803  233.04451          142.35312       28.64292     53.88096   \nmin    21.16217  178.02370           81.26787        3.96258     42.62200   \n25%    86.60862  347.46640          163.69540       18.63982     77.00405   \n50%   135.24265  521.07890          257.11545       29.01693    121.89220   \n75%   270.99390  671.04170          358.37510       44.43137    162.93713   \nmax   805.72420 1828.19200          669.48660      236.72050    255.27750   \n\nname   Dietary Fiber       Fat    Folate      Iron  Magnesium  \\\ncount      100.00000 100.00000 100.00000 100.00000  100.00000   \nmean         3.11108  31.21436  82.54184   3.74909   51.49306   \nstd          3.21868  15.81701  66.17241   1.69520   21.31506   \nmin          0.05250   9.02976   5.91633   0.63185   14.54606   \n25%          1.38853  18.18838  38.24905   2.52238   35.87920   \n50%          2.31647  28.56839  61.06267   3.41979   48.47376   \n75%          3.81326  39.81945 109.30135   4.77342   64.83919   \nmax         27.83175  74.38741 356.06120  11.15067  122.85450   \n\nname   Niacin Equivalents  Potassium   Protein  Saturated Fat     Sodium  \\\ncount           100.00000  100.00000 100.00000      100.00000  100.00000   \nmean             12.97124  588.90950  30.01276       13.91145  878.25259   \nstd               5.61848  280.87722  11.85509        8.19141  536.23257   \nmin               3.28438   97.71526   7.24539        2.95201   90.84255   \n25%               9.08077  384.01743  21.36922        6.91110  559.10540   \n50%              12.01238  544.86530  27.71758       12.81584  770.02640   \n75%              16.13937  735.37780  37.10145       17.99064 1057.41650   \nmax              34.42963 1621.57200  73.59243       37.37759 2885.61300   \n\nname     Sugars   Thiamin  Vitamin A - IU  Vitamin B6  Vitamin C  \ncount 100.00000 100.00000       100.00000   100.00000  100.00000  \nmean    5.90811   0.34132      1067.70516     0.46588   20.47902  \nstd     4.45822   0.29503      1583.40654     0.23021   29.69788  \nmin     0.35572   0.02349        24.77542     0.15045    0.05513  \n25%     2.95941   0.14412       327.33435     0.28597    2.29055  \n50%     4.64207   0.25400       708.12000     0.43604    6.28739  \n75%     7.94706   0.41822      1275.62625     0.57877   23.21081  \nmax    21.95344   1.56088     12034.20000     1.15913  110.51560  "
     },
     "execution_count": 312,
     "metadata": {},
     "output_type": "execute_result"
    }
   ],
   "source": [
    "nutrition_fat_naiv.describe()"
   ]
  },
  {
   "cell_type": "code",
   "execution_count": 318,
   "metadata": {},
   "outputs": [],
   "source": [
    "subset_fat_asd = nutrition_fat_naiv[(nutrition_fat_naiv['Fat'] >= 10) & (nutrition_fat_naiv['Fat'] <= 15)].sample(n=8).copy()"
   ]
  },
  {
   "cell_type": "code",
   "execution_count": 319,
   "metadata": {},
   "outputs": [
    {
     "data": {
      "text/html": "<div>\n<style scoped>\n    .dataframe tbody tr th:only-of-type {\n        vertical-align: middle;\n    }\n\n    .dataframe tbody tr th {\n        vertical-align: top;\n    }\n\n    .dataframe thead th {\n        text-align: right;\n    }\n</style>\n<table border=\"1\" class=\"dataframe\">\n  <thead>\n    <tr style=\"text-align: right;\">\n      <th>name</th>\n      <th>Calcium</th>\n      <th>Calories</th>\n      <th>Calories from Fat</th>\n      <th>Carbohydrates</th>\n      <th>Cholesterol</th>\n      <th>Dietary Fiber</th>\n      <th>Fat</th>\n      <th>Folate</th>\n      <th>Iron</th>\n      <th>Magnesium</th>\n      <th>Niacin Equivalents</th>\n      <th>Potassium</th>\n      <th>Protein</th>\n      <th>Saturated Fat</th>\n      <th>Sodium</th>\n      <th>Sugars</th>\n      <th>Thiamin</th>\n      <th>Vitamin A - IU</th>\n      <th>Vitamin B6</th>\n      <th>Vitamin C</th>\n    </tr>\n  </thead>\n  <tbody>\n    <tr>\n      <td>count</td>\n      <td>8.00000</td>\n      <td>8.00000</td>\n      <td>8.00000</td>\n      <td>8.00000</td>\n      <td>8.00000</td>\n      <td>8.00000</td>\n      <td>8.00000</td>\n      <td>8.00000</td>\n      <td>8.00000</td>\n      <td>8.00000</td>\n      <td>8.00000</td>\n      <td>8.00000</td>\n      <td>8.00000</td>\n      <td>8.00000</td>\n      <td>8.00000</td>\n      <td>8.00000</td>\n      <td>8.00000</td>\n      <td>8.00000</td>\n      <td>8.00000</td>\n      <td>8.00000</td>\n    </tr>\n    <tr>\n      <td>mean</td>\n      <td>162.80304</td>\n      <td>334.50117</td>\n      <td>123.01987</td>\n      <td>32.78413</td>\n      <td>67.18158</td>\n      <td>4.00545</td>\n      <td>13.66888</td>\n      <td>91.52332</td>\n      <td>3.08246</td>\n      <td>48.43924</td>\n      <td>8.95656</td>\n      <td>608.06612</td>\n      <td>20.27056</td>\n      <td>5.84605</td>\n      <td>617.81806</td>\n      <td>6.73912</td>\n      <td>0.27280</td>\n      <td>1990.47048</td>\n      <td>0.43365</td>\n      <td>32.21983</td>\n    </tr>\n    <tr>\n      <td>std</td>\n      <td>118.70006</td>\n      <td>86.45515</td>\n      <td>11.09020</td>\n      <td>19.87579</td>\n      <td>11.43892</td>\n      <td>2.94701</td>\n      <td>1.23224</td>\n      <td>70.15791</td>\n      <td>1.11092</td>\n      <td>20.77865</td>\n      <td>2.33444</td>\n      <td>464.87719</td>\n      <td>4.59847</td>\n      <td>1.50548</td>\n      <td>349.37536</td>\n      <td>4.28400</td>\n      <td>0.21137</td>\n      <td>4074.32996</td>\n      <td>0.31372</td>\n      <td>35.18379</td>\n    </tr>\n    <tr>\n      <td>min</td>\n      <td>42.22150</td>\n      <td>200.50960</td>\n      <td>96.83125</td>\n      <td>8.50724</td>\n      <td>53.31907</td>\n      <td>0.18479</td>\n      <td>10.75903</td>\n      <td>19.02514</td>\n      <td>1.61694</td>\n      <td>22.19329</td>\n      <td>6.48622</td>\n      <td>202.27820</td>\n      <td>11.25829</td>\n      <td>3.22836</td>\n      <td>132.19910</td>\n      <td>2.23212</td>\n      <td>0.06435</td>\n      <td>124.58660</td>\n      <td>0.16549</td>\n      <td>0.24869</td>\n    </tr>\n    <tr>\n      <td>25%</td>\n      <td>88.16350</td>\n      <td>287.39178</td>\n      <td>122.28388</td>\n      <td>19.57224</td>\n      <td>55.15042</td>\n      <td>2.41122</td>\n      <td>13.58710</td>\n      <td>54.77253</td>\n      <td>2.16691</td>\n      <td>37.15158</td>\n      <td>7.09761</td>\n      <td>287.17927</td>\n      <td>18.83971</td>\n      <td>5.27881</td>\n      <td>422.60060</td>\n      <td>3.92589</td>\n      <td>0.14520</td>\n      <td>405.76583</td>\n      <td>0.24251</td>\n      <td>1.50123</td>\n    </tr>\n    <tr>\n      <td>50%</td>\n      <td>117.79295</td>\n      <td>338.04640</td>\n      <td>127.18270</td>\n      <td>27.61447</td>\n      <td>71.05518</td>\n      <td>2.62511</td>\n      <td>14.13142</td>\n      <td>63.03995</td>\n      <td>3.18240</td>\n      <td>47.48286</td>\n      <td>8.56762</td>\n      <td>491.94015</td>\n      <td>21.39810</td>\n      <td>5.76511</td>\n      <td>665.69385</td>\n      <td>6.00521</td>\n      <td>0.20866</td>\n      <td>592.38995</td>\n      <td>0.35662</td>\n      <td>19.70184</td>\n    </tr>\n    <tr>\n      <td>75%</td>\n      <td>212.52058</td>\n      <td>394.08360</td>\n      <td>128.54217</td>\n      <td>54.38408</td>\n      <td>72.83828</td>\n      <td>6.15036</td>\n      <td>14.28247</td>\n      <td>106.04683</td>\n      <td>3.77064</td>\n      <td>54.78190</td>\n      <td>10.08627</td>\n      <td>733.37680</td>\n      <td>22.93564</td>\n      <td>6.74809</td>\n      <td>836.35553</td>\n      <td>8.35532</td>\n      <td>0.35260</td>\n      <td>786.99420</td>\n      <td>0.50485</td>\n      <td>61.95011</td>\n    </tr>\n    <tr>\n      <td>max</td>\n      <td>348.36540</td>\n      <td>451.01290</td>\n      <td>131.31390</td>\n      <td>55.97997</td>\n      <td>83.48000</td>\n      <td>8.34100</td>\n      <td>14.59043</td>\n      <td>232.06060</td>\n      <td>4.67316</td>\n      <td>88.10890</td>\n      <td>13.20469</td>\n      <td>1621.57200</td>\n      <td>25.49099</td>\n      <td>8.03736</td>\n      <td>1054.25900</td>\n      <td>15.31507</td>\n      <td>0.71992</td>\n      <td>12034.20000</td>\n      <td>1.12891</td>\n      <td>85.11700</td>\n    </tr>\n  </tbody>\n</table>\n</div>",
      "text/plain": "name    Calcium  Calories  Calories from Fat  Carbohydrates  Cholesterol  \\\ncount   8.00000   8.00000            8.00000        8.00000      8.00000   \nmean  162.80304 334.50117          123.01987       32.78413     67.18158   \nstd   118.70006  86.45515           11.09020       19.87579     11.43892   \nmin    42.22150 200.50960           96.83125        8.50724     53.31907   \n25%    88.16350 287.39178          122.28388       19.57224     55.15042   \n50%   117.79295 338.04640          127.18270       27.61447     71.05518   \n75%   212.52058 394.08360          128.54217       54.38408     72.83828   \nmax   348.36540 451.01290          131.31390       55.97997     83.48000   \n\nname   Dietary Fiber      Fat    Folate    Iron  Magnesium  \\\ncount        8.00000  8.00000   8.00000 8.00000    8.00000   \nmean         4.00545 13.66888  91.52332 3.08246   48.43924   \nstd          2.94701  1.23224  70.15791 1.11092   20.77865   \nmin          0.18479 10.75903  19.02514 1.61694   22.19329   \n25%          2.41122 13.58710  54.77253 2.16691   37.15158   \n50%          2.62511 14.13142  63.03995 3.18240   47.48286   \n75%          6.15036 14.28247 106.04683 3.77064   54.78190   \nmax          8.34100 14.59043 232.06060 4.67316   88.10890   \n\nname   Niacin Equivalents  Potassium  Protein  Saturated Fat     Sodium  \\\ncount             8.00000    8.00000  8.00000        8.00000    8.00000   \nmean              8.95656  608.06612 20.27056        5.84605  617.81806   \nstd               2.33444  464.87719  4.59847        1.50548  349.37536   \nmin               6.48622  202.27820 11.25829        3.22836  132.19910   \n25%               7.09761  287.17927 18.83971        5.27881  422.60060   \n50%               8.56762  491.94015 21.39810        5.76511  665.69385   \n75%              10.08627  733.37680 22.93564        6.74809  836.35553   \nmax              13.20469 1621.57200 25.49099        8.03736 1054.25900   \n\nname    Sugars  Thiamin  Vitamin A - IU  Vitamin B6  Vitamin C  \ncount  8.00000  8.00000         8.00000     8.00000    8.00000  \nmean   6.73912  0.27280      1990.47048     0.43365   32.21983  \nstd    4.28400  0.21137      4074.32996     0.31372   35.18379  \nmin    2.23212  0.06435       124.58660     0.16549    0.24869  \n25%    3.92589  0.14520       405.76583     0.24251    1.50123  \n50%    6.00521  0.20866       592.38995     0.35662   19.70184  \n75%    8.35532  0.35260       786.99420     0.50485   61.95011  \nmax   15.31507  0.71992     12034.20000     1.12891   85.11700  "
     },
     "execution_count": 319,
     "metadata": {},
     "output_type": "execute_result"
    }
   ],
   "source": [
    "subset_fat_asd.describe()"
   ]
  },
  {
   "cell_type": "code",
   "execution_count": null,
   "metadata": {},
   "outputs": [],
   "source": []
  },
  {
   "cell_type": "code",
   "execution_count": 320,
   "metadata": {},
   "outputs": [],
   "source": [
    "#  ------ Erstellung und cleansing des Nutrition Dataframes\n",
    "\n",
    "# erstelle neue liste auf basis der bereits gefilterten rezepte aus ingredients_filt\n",
    "id_overlap_mask = nutritions['id'].isin(new_recipe_db_wo_userrecipes_fat.sample(n=10, random_state=0).index.to_numpy())\n",
    "\n",
    "# erstelle datenframe auf basis der overlapliste\n",
    "nutritions_filt = nutritions.loc[id_overlap_mask]\n",
    "\n",
    "nutrition_random_10 = nutritions_filt.pivot_table(\n",
    "    index=['id'],\n",
    "    columns=['name'],\n",
    "    values=['amount'],\n",
    ").reset_index()\n",
    "\n",
    "nutrition_random_10.set_index('id', inplace=True)\n",
    "\n",
    "# remove multiindex 'amount'\n",
    "nutrition_random_10.columns = nutrition_random_10.columns.droplevel(0)\n",
    "\n",
    "# entferne alle NA\n",
    "nutrition_random_10 = nutrition_random_10.dropna()"
   ]
  },
  {
   "cell_type": "code",
   "execution_count": 321,
   "metadata": {},
   "outputs": [
    {
     "data": {
      "text/html": "<div>\n<style scoped>\n    .dataframe tbody tr th:only-of-type {\n        vertical-align: middle;\n    }\n\n    .dataframe tbody tr th {\n        vertical-align: top;\n    }\n\n    .dataframe thead th {\n        text-align: right;\n    }\n</style>\n<table border=\"1\" class=\"dataframe\">\n  <thead>\n    <tr style=\"text-align: right;\">\n      <th>name</th>\n      <th>Calcium</th>\n      <th>Calories</th>\n      <th>Calories from Fat</th>\n      <th>Carbohydrates</th>\n      <th>Cholesterol</th>\n      <th>Dietary Fiber</th>\n      <th>Fat</th>\n      <th>Folate</th>\n      <th>Iron</th>\n      <th>Magnesium</th>\n      <th>Niacin Equivalents</th>\n      <th>Potassium</th>\n      <th>Protein</th>\n      <th>Saturated Fat</th>\n      <th>Sodium</th>\n      <th>Sugars</th>\n      <th>Thiamin</th>\n      <th>Vitamin A - IU</th>\n      <th>Vitamin B6</th>\n      <th>Vitamin C</th>\n    </tr>\n  </thead>\n  <tbody>\n    <tr>\n      <td>count</td>\n      <td>10.00000</td>\n      <td>10.00000</td>\n      <td>10.00000</td>\n      <td>10.00000</td>\n      <td>10.00000</td>\n      <td>10.00000</td>\n      <td>10.00000</td>\n      <td>10.00000</td>\n      <td>10.00000</td>\n      <td>10.00000</td>\n      <td>10.00000</td>\n      <td>10.00000</td>\n      <td>10.00000</td>\n      <td>10.00000</td>\n      <td>10.00000</td>\n      <td>10.00000</td>\n      <td>10.00000</td>\n      <td>10.00000</td>\n      <td>10.00000</td>\n      <td>10.00000</td>\n    </tr>\n    <tr>\n      <td>mean</td>\n      <td>137.90247</td>\n      <td>451.04469</td>\n      <td>211.85386</td>\n      <td>31.49681</td>\n      <td>82.84401</td>\n      <td>2.89383</td>\n      <td>23.53932</td>\n      <td>74.55430</td>\n      <td>3.44682</td>\n      <td>51.44868</td>\n      <td>12.61770</td>\n      <td>499.74915</td>\n      <td>28.10035</td>\n      <td>9.71581</td>\n      <td>719.19517</td>\n      <td>5.93412</td>\n      <td>0.27628</td>\n      <td>797.43848</td>\n      <td>0.47752</td>\n      <td>22.14323</td>\n    </tr>\n    <tr>\n      <td>std</td>\n      <td>128.19425</td>\n      <td>128.11832</td>\n      <td>112.91222</td>\n      <td>19.86946</td>\n      <td>23.58573</td>\n      <td>2.13513</td>\n      <td>12.54580</td>\n      <td>63.62439</td>\n      <td>1.83572</td>\n      <td>25.37871</td>\n      <td>4.65311</td>\n      <td>228.03533</td>\n      <td>6.53025</td>\n      <td>10.16515</td>\n      <td>447.66180</td>\n      <td>4.63905</td>\n      <td>0.22714</td>\n      <td>634.90664</td>\n      <td>0.12033</td>\n      <td>24.80110</td>\n    </tr>\n    <tr>\n      <td>min</td>\n      <td>32.86518</td>\n      <td>279.24210</td>\n      <td>108.20860</td>\n      <td>2.57644</td>\n      <td>41.49303</td>\n      <td>0.31548</td>\n      <td>12.02318</td>\n      <td>11.60304</td>\n      <td>1.22664</td>\n      <td>27.07817</td>\n      <td>7.11536</td>\n      <td>262.10830</td>\n      <td>21.15413</td>\n      <td>2.13052</td>\n      <td>82.90843</td>\n      <td>0.13450</td>\n      <td>0.08658</td>\n      <td>79.34875</td>\n      <td>0.27633</td>\n      <td>0.00000</td>\n    </tr>\n    <tr>\n      <td>25%</td>\n      <td>45.73175</td>\n      <td>371.96933</td>\n      <td>135.81108</td>\n      <td>18.95888</td>\n      <td>68.72561</td>\n      <td>1.39430</td>\n      <td>15.09012</td>\n      <td>33.66391</td>\n      <td>1.97259</td>\n      <td>33.18492</td>\n      <td>8.49876</td>\n      <td>340.32630</td>\n      <td>22.94277</td>\n      <td>4.65956</td>\n      <td>304.59725</td>\n      <td>2.14126</td>\n      <td>0.16069</td>\n      <td>320.54398</td>\n      <td>0.38944</td>\n      <td>5.34257</td>\n    </tr>\n    <tr>\n      <td>50%</td>\n      <td>69.95123</td>\n      <td>428.61385</td>\n      <td>178.15480</td>\n      <td>29.86084</td>\n      <td>78.14209</td>\n      <td>2.72588</td>\n      <td>19.79498</td>\n      <td>53.02626</td>\n      <td>3.44418</td>\n      <td>38.86832</td>\n      <td>12.86435</td>\n      <td>400.11105</td>\n      <td>26.50746</td>\n      <td>7.84864</td>\n      <td>814.10190</td>\n      <td>6.20918</td>\n      <td>0.17573</td>\n      <td>718.81440</td>\n      <td>0.51670</td>\n      <td>11.51254</td>\n    </tr>\n    <tr>\n      <td>75%</td>\n      <td>195.90750</td>\n      <td>497.28538</td>\n      <td>240.62243</td>\n      <td>43.23842</td>\n      <td>99.89125</td>\n      <td>3.86521</td>\n      <td>26.73582</td>\n      <td>90.83728</td>\n      <td>4.35050</td>\n      <td>66.89249</td>\n      <td>15.29302</td>\n      <td>699.12432</td>\n      <td>31.21765</td>\n      <td>9.31209</td>\n      <td>1118.09800</td>\n      <td>7.57461</td>\n      <td>0.32586</td>\n      <td>969.58330</td>\n      <td>0.55993</td>\n      <td>37.01577</td>\n    </tr>\n    <tr>\n      <td>max</td>\n      <td>376.12170</td>\n      <td>654.76330</td>\n      <td>490.68870</td>\n      <td>66.52579</td>\n      <td>118.39000</td>\n      <td>7.56122</td>\n      <td>54.52096</td>\n      <td>199.01580</td>\n      <td>7.47058</td>\n      <td>100.54290</td>\n      <td>20.54744</td>\n      <td>874.28940</td>\n      <td>41.70995</td>\n      <td>37.44320</td>\n      <td>1285.50900</td>\n      <td>13.47391</td>\n      <td>0.83562</td>\n      <td>2185.77200</td>\n      <td>0.62032</td>\n      <td>72.18467</td>\n    </tr>\n  </tbody>\n</table>\n</div>",
      "text/plain": "name    Calcium  Calories  Calories from Fat  Carbohydrates  Cholesterol  \\\ncount  10.00000  10.00000           10.00000       10.00000     10.00000   \nmean  137.90247 451.04469          211.85386       31.49681     82.84401   \nstd   128.19425 128.11832          112.91222       19.86946     23.58573   \nmin    32.86518 279.24210          108.20860        2.57644     41.49303   \n25%    45.73175 371.96933          135.81108       18.95888     68.72561   \n50%    69.95123 428.61385          178.15480       29.86084     78.14209   \n75%   195.90750 497.28538          240.62243       43.23842     99.89125   \nmax   376.12170 654.76330          490.68870       66.52579    118.39000   \n\nname   Dietary Fiber      Fat    Folate     Iron  Magnesium  \\\ncount       10.00000 10.00000  10.00000 10.00000   10.00000   \nmean         2.89383 23.53932  74.55430  3.44682   51.44868   \nstd          2.13513 12.54580  63.62439  1.83572   25.37871   \nmin          0.31548 12.02318  11.60304  1.22664   27.07817   \n25%          1.39430 15.09012  33.66391  1.97259   33.18492   \n50%          2.72588 19.79498  53.02626  3.44418   38.86832   \n75%          3.86521 26.73582  90.83728  4.35050   66.89249   \nmax          7.56122 54.52096 199.01580  7.47058  100.54290   \n\nname   Niacin Equivalents  Potassium  Protein  Saturated Fat     Sodium  \\\ncount            10.00000   10.00000 10.00000       10.00000   10.00000   \nmean             12.61770  499.74915 28.10035        9.71581  719.19517   \nstd               4.65311  228.03533  6.53025       10.16515  447.66180   \nmin               7.11536  262.10830 21.15413        2.13052   82.90843   \n25%               8.49876  340.32630 22.94277        4.65956  304.59725   \n50%              12.86435  400.11105 26.50746        7.84864  814.10190   \n75%              15.29302  699.12432 31.21765        9.31209 1118.09800   \nmax              20.54744  874.28940 41.70995       37.44320 1285.50900   \n\nname    Sugars  Thiamin  Vitamin A - IU  Vitamin B6  Vitamin C  \ncount 10.00000 10.00000        10.00000    10.00000   10.00000  \nmean   5.93412  0.27628       797.43848     0.47752   22.14323  \nstd    4.63905  0.22714       634.90664     0.12033   24.80110  \nmin    0.13450  0.08658        79.34875     0.27633    0.00000  \n25%    2.14126  0.16069       320.54398     0.38944    5.34257  \n50%    6.20918  0.17573       718.81440     0.51670   11.51254  \n75%    7.57461  0.32586       969.58330     0.55993   37.01577  \nmax   13.47391  0.83562      2185.77200     0.62032   72.18467  "
     },
     "execution_count": 321,
     "metadata": {},
     "output_type": "execute_result"
    }
   ],
   "source": [
    "nutrition_random_10.describe()"
   ]
  },
  {
   "cell_type": "code",
   "execution_count": 327,
   "metadata": {},
   "outputs": [],
   "source": [
    "new_df = nutrition_random_10[['Calories', 'Calories from Fat', 'Carbohydrates', 'Fat', 'Saturated Fat', 'Protein', 'Calcium', 'Magnesium', 'Iron' ]]"
   ]
  },
  {
   "cell_type": "code",
   "execution_count": 329,
   "metadata": {},
   "outputs": [
    {
     "data": {
      "text/html": "<div>\n<style scoped>\n    .dataframe tbody tr th:only-of-type {\n        vertical-align: middle;\n    }\n\n    .dataframe tbody tr th {\n        vertical-align: top;\n    }\n\n    .dataframe thead th {\n        text-align: right;\n    }\n</style>\n<table border=\"1\" class=\"dataframe\">\n  <thead>\n    <tr style=\"text-align: right;\">\n      <th>name</th>\n      <th>Calories</th>\n      <th>Calories from Fat</th>\n      <th>Carbohydrates</th>\n      <th>Fat</th>\n      <th>Saturated Fat</th>\n      <th>Protein</th>\n      <th>Calcium</th>\n      <th>Magnesium</th>\n      <th>Iron</th>\n    </tr>\n  </thead>\n  <tbody>\n    <tr>\n      <td>count</td>\n      <td>10.00000</td>\n      <td>10.00000</td>\n      <td>10.00000</td>\n      <td>10.00000</td>\n      <td>10.00000</td>\n      <td>10.00000</td>\n      <td>10.00000</td>\n      <td>10.00000</td>\n      <td>10.00000</td>\n    </tr>\n    <tr>\n      <td>mean</td>\n      <td>451.04469</td>\n      <td>211.85386</td>\n      <td>31.49681</td>\n      <td>23.53932</td>\n      <td>9.71581</td>\n      <td>28.10035</td>\n      <td>137.90247</td>\n      <td>51.44868</td>\n      <td>3.44682</td>\n    </tr>\n    <tr>\n      <td>std</td>\n      <td>128.11832</td>\n      <td>112.91222</td>\n      <td>19.86946</td>\n      <td>12.54580</td>\n      <td>10.16515</td>\n      <td>6.53025</td>\n      <td>128.19425</td>\n      <td>25.37871</td>\n      <td>1.83572</td>\n    </tr>\n    <tr>\n      <td>min</td>\n      <td>279.24210</td>\n      <td>108.20860</td>\n      <td>2.57644</td>\n      <td>12.02318</td>\n      <td>2.13052</td>\n      <td>21.15413</td>\n      <td>32.86518</td>\n      <td>27.07817</td>\n      <td>1.22664</td>\n    </tr>\n    <tr>\n      <td>25%</td>\n      <td>371.96933</td>\n      <td>135.81108</td>\n      <td>18.95888</td>\n      <td>15.09012</td>\n      <td>4.65956</td>\n      <td>22.94277</td>\n      <td>45.73175</td>\n      <td>33.18492</td>\n      <td>1.97259</td>\n    </tr>\n    <tr>\n      <td>50%</td>\n      <td>428.61385</td>\n      <td>178.15480</td>\n      <td>29.86084</td>\n      <td>19.79498</td>\n      <td>7.84864</td>\n      <td>26.50746</td>\n      <td>69.95123</td>\n      <td>38.86832</td>\n      <td>3.44418</td>\n    </tr>\n    <tr>\n      <td>75%</td>\n      <td>497.28538</td>\n      <td>240.62243</td>\n      <td>43.23842</td>\n      <td>26.73582</td>\n      <td>9.31209</td>\n      <td>31.21765</td>\n      <td>195.90750</td>\n      <td>66.89249</td>\n      <td>4.35050</td>\n    </tr>\n    <tr>\n      <td>max</td>\n      <td>654.76330</td>\n      <td>490.68870</td>\n      <td>66.52579</td>\n      <td>54.52096</td>\n      <td>37.44320</td>\n      <td>41.70995</td>\n      <td>376.12170</td>\n      <td>100.54290</td>\n      <td>7.47058</td>\n    </tr>\n  </tbody>\n</table>\n</div>",
      "text/plain": "name   Calories  Calories from Fat  Carbohydrates      Fat  Saturated Fat  \\\ncount  10.00000           10.00000       10.00000 10.00000       10.00000   \nmean  451.04469          211.85386       31.49681 23.53932        9.71581   \nstd   128.11832          112.91222       19.86946 12.54580       10.16515   \nmin   279.24210          108.20860        2.57644 12.02318        2.13052   \n25%   371.96933          135.81108       18.95888 15.09012        4.65956   \n50%   428.61385          178.15480       29.86084 19.79498        7.84864   \n75%   497.28538          240.62243       43.23842 26.73582        9.31209   \nmax   654.76330          490.68870       66.52579 54.52096       37.44320   \n\nname   Protein   Calcium  Magnesium     Iron  \ncount 10.00000  10.00000   10.00000 10.00000  \nmean  28.10035 137.90247   51.44868  3.44682  \nstd    6.53025 128.19425   25.37871  1.83572  \nmin   21.15413  32.86518   27.07817  1.22664  \n25%   22.94277  45.73175   33.18492  1.97259  \n50%   26.50746  69.95123   38.86832  3.44418  \n75%   31.21765 195.90750   66.89249  4.35050  \nmax   41.70995 376.12170  100.54290  7.47058  "
     },
     "execution_count": 329,
     "metadata": {},
     "output_type": "execute_result"
    }
   ],
   "source": [
    "new_df.describe()"
   ]
  },
  {
   "cell_type": "code",
   "execution_count": 322,
   "metadata": {},
   "outputs": [
    {
     "data": {
      "text/plain": "array([  8600,  16849,  26615,  27819,  30794,  75672, 142951, 158429,\n       177497, 216928])"
     },
     "execution_count": 322,
     "metadata": {},
     "output_type": "execute_result"
    }
   ],
   "source": [
    "nutrition_random_10.index.to_numpy()"
   ]
  },
  {
   "cell_type": "code",
   "execution_count": null,
   "metadata": {},
   "outputs": [],
   "source": []
  },
  {
   "cell_type": "code",
   "execution_count": null,
   "metadata": {},
   "outputs": [],
   "source": []
  },
  {
   "cell_type": "code",
   "execution_count": null,
   "metadata": {},
   "outputs": [],
   "source": []
  },
  {
   "cell_type": "code",
   "execution_count": null,
   "metadata": {},
   "outputs": [],
   "source": []
  },
  {
   "cell_type": "code",
   "execution_count": null,
   "metadata": {},
   "outputs": [],
   "source": []
  },
  {
   "cell_type": "code",
   "execution_count": 333,
   "metadata": {},
   "outputs": [],
   "source": [
    "#  ------ Erstellung und cleansing des Nutrition Dataframes\n",
    "\n",
    "# erstelle neue liste auf basis der bereits gefilterten rezepte aus ingredients_filt\n",
    "id_overlap_mask = nutritions['id'].isin(user_recipes_fat.index.to_numpy())\n",
    "\n",
    "# erstelle datenframe auf basis der overlapliste\n",
    "nutritions_filt = nutritions.loc[id_overlap_mask]\n",
    "\n",
    "nutrition_user_recipes_fat = nutritions_filt.pivot_table(\n",
    "    index=['id'],\n",
    "    columns=['name'],\n",
    "    values=['amount'],\n",
    ").reset_index()\n",
    "\n",
    "nutrition_user_recipes_fat.set_index('id', inplace=True)\n",
    "\n",
    "# remove multiindex 'amount'\n",
    "nutrition_user_recipes_fat.columns = nutrition_user_recipes_fat.columns.droplevel(0)\n",
    "\n",
    "# entferne alle NA\n",
    "nutrition_user_recipes_fat = nutrition_user_recipes_fat.dropna()"
   ]
  },
  {
   "cell_type": "code",
   "execution_count": 334,
   "metadata": {},
   "outputs": [],
   "source": [
    "new_df = nutrition_user_recipes_fat[['Calories', 'Calories from Fat', 'Carbohydrates', 'Fat', 'Saturated Fat', 'Protein', 'Calcium', 'Magnesium', 'Iron' ]]"
   ]
  },
  {
   "cell_type": "code",
   "execution_count": 335,
   "metadata": {},
   "outputs": [
    {
     "data": {
      "text/html": "<div>\n<style scoped>\n    .dataframe tbody tr th:only-of-type {\n        vertical-align: middle;\n    }\n\n    .dataframe tbody tr th {\n        vertical-align: top;\n    }\n\n    .dataframe thead th {\n        text-align: right;\n    }\n</style>\n<table border=\"1\" class=\"dataframe\">\n  <thead>\n    <tr style=\"text-align: right;\">\n      <th>name</th>\n      <th>Calories</th>\n      <th>Calories from Fat</th>\n      <th>Carbohydrates</th>\n      <th>Fat</th>\n      <th>Saturated Fat</th>\n      <th>Protein</th>\n      <th>Calcium</th>\n      <th>Magnesium</th>\n      <th>Iron</th>\n    </tr>\n  </thead>\n  <tbody>\n    <tr>\n      <td>count</td>\n      <td>20.00000</td>\n      <td>20.00000</td>\n      <td>20.00000</td>\n      <td>20.00000</td>\n      <td>20.00000</td>\n      <td>20.00000</td>\n      <td>20.00000</td>\n      <td>20.00000</td>\n      <td>20.00000</td>\n    </tr>\n    <tr>\n      <td>mean</td>\n      <td>563.83977</td>\n      <td>334.64292</td>\n      <td>24.81982</td>\n      <td>37.18255</td>\n      <td>15.10086</td>\n      <td>32.44829</td>\n      <td>144.61405</td>\n      <td>62.11656</td>\n      <td>3.07888</td>\n    </tr>\n    <tr>\n      <td>std</td>\n      <td>92.24917</td>\n      <td>14.74709</td>\n      <td>16.54758</td>\n      <td>1.63857</td>\n      <td>5.02136</td>\n      <td>10.22158</td>\n      <td>126.89385</td>\n      <td>32.62118</td>\n      <td>1.33454</td>\n    </tr>\n    <tr>\n      <td>min</td>\n      <td>390.71980</td>\n      <td>315.51250</td>\n      <td>1.27936</td>\n      <td>35.05695</td>\n      <td>5.39091</td>\n      <td>14.97870</td>\n      <td>22.91706</td>\n      <td>21.99075</td>\n      <td>0.58999</td>\n    </tr>\n    <tr>\n      <td>25%</td>\n      <td>500.82482</td>\n      <td>321.00120</td>\n      <td>13.55052</td>\n      <td>35.66680</td>\n      <td>12.26370</td>\n      <td>24.81829</td>\n      <td>57.02250</td>\n      <td>44.04216</td>\n      <td>2.21580</td>\n    </tr>\n    <tr>\n      <td>50%</td>\n      <td>549.52315</td>\n      <td>335.26590</td>\n      <td>24.81457</td>\n      <td>37.25176</td>\n      <td>14.09328</td>\n      <td>32.58400</td>\n      <td>112.86760</td>\n      <td>54.51962</td>\n      <td>3.00261</td>\n    </tr>\n    <tr>\n      <td>75%</td>\n      <td>606.45907</td>\n      <td>347.85147</td>\n      <td>30.89026</td>\n      <td>38.65017</td>\n      <td>18.68514</td>\n      <td>38.42296</td>\n      <td>159.31080</td>\n      <td>70.92839</td>\n      <td>4.16262</td>\n    </tr>\n    <tr>\n      <td>max</td>\n      <td>754.54210</td>\n      <td>356.99080</td>\n      <td>68.65463</td>\n      <td>39.66564</td>\n      <td>22.90133</td>\n      <td>51.97705</td>\n      <td>448.91530</td>\n      <td>148.31270</td>\n      <td>5.45481</td>\n    </tr>\n  </tbody>\n</table>\n</div>",
      "text/plain": "name   Calories  Calories from Fat  Carbohydrates      Fat  Saturated Fat  \\\ncount  20.00000           20.00000       20.00000 20.00000       20.00000   \nmean  563.83977          334.64292       24.81982 37.18255       15.10086   \nstd    92.24917           14.74709       16.54758  1.63857        5.02136   \nmin   390.71980          315.51250        1.27936 35.05695        5.39091   \n25%   500.82482          321.00120       13.55052 35.66680       12.26370   \n50%   549.52315          335.26590       24.81457 37.25176       14.09328   \n75%   606.45907          347.85147       30.89026 38.65017       18.68514   \nmax   754.54210          356.99080       68.65463 39.66564       22.90133   \n\nname   Protein   Calcium  Magnesium     Iron  \ncount 20.00000  20.00000   20.00000 20.00000  \nmean  32.44829 144.61405   62.11656  3.07888  \nstd   10.22158 126.89385   32.62118  1.33454  \nmin   14.97870  22.91706   21.99075  0.58999  \n25%   24.81829  57.02250   44.04216  2.21580  \n50%   32.58400 112.86760   54.51962  3.00261  \n75%   38.42296 159.31080   70.92839  4.16262  \nmax   51.97705 448.91530  148.31270  5.45481  "
     },
     "execution_count": 335,
     "metadata": {},
     "output_type": "execute_result"
    }
   ],
   "source": [
    "new_df.describe()"
   ]
  },
  {
   "cell_type": "code",
   "execution_count": null,
   "metadata": {},
   "outputs": [],
   "source": [
    "#  ------ Erstellung und cleansing des Nutrition Dataframes\n",
    "\n",
    "# erstelle neue liste auf basis der bereits gefilterten rezepte aus ingredients_filt\n",
    "id_overlap_mask = nutritions['id'].isin(result_w_filter_10_fat[0:10].index.to_numpy())\n",
    "\n",
    "# erstelle datenframe auf basis der overlapliste\n",
    "nutritions_filt = nutritions.loc[id_overlap_mask]\n",
    "\n",
    "nutrition_jaccard_fat = nutritions_filt.pivot_table(\n",
    "    index=['id'],\n",
    "    columns=['name'],\n",
    "    values=['amount'],\n",
    ").reset_index()\n",
    "\n",
    "nutrition_jaccard_fat.set_index('id', inplace=True)\n",
    "\n",
    "# remove multiindex 'amount'\n",
    "nutrition_jaccard_fat.columns = nutrition_jaccard_fat.columns.droplevel(0)\n",
    "\n",
    "# entferne alle NA\n",
    "nutrition_jaccard_fat = nutrition_jaccard_fat.dropna()"
   ]
  }
 ]
}