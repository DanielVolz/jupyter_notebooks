{
 "nbformat": 4,
 "nbformat_minor": 2,
 "metadata": {
  "language_info": {
   "name": "python",
   "codemirror_mode": {
    "name": "ipython",
    "version": 3
   },
   "version": "3.7.6-final"
  },
  "orig_nbformat": 2,
  "file_extension": ".py",
  "mimetype": "text/x-python",
  "name": "python",
  "npconvert_exporter": "python",
  "pygments_lexer": "ipython3",
  "version": 3,
  "kernelspec": {
   "name": "python3",
   "display_name": "Python 3"
  }
 },
 "cells": [
  {
   "cell_type": "code",
   "execution_count": 1,
   "metadata": {},
   "outputs": [],
   "source": [
    "import json\n",
    "\n",
    "import numpy as np\n",
    "import pandas as pd\n",
    "import pymongo\n",
    "import scipy\n",
    "from bson import ObjectId, json_util\n",
    "from pandas.io.json import json_normalize\n",
    "from pymongo import MongoClient as Connection\n",
    "from scipy import sparse, spatial\n",
    "from scipy.spatial.distance import cdist, pdist, squareform\n",
    "from sklearn.metrics.pairwise import cosine_similarity\n",
    "\n",
    "# scientific notation disabled form smaller numbers\n",
    "pd.options.display.float_format = '{:.5f}'.format\n",
    "\n",
    "# alles resultate anzeigen und nicht nur das letzte\n",
    "from IPython.core.interactiveshell import InteractiveShell\n",
    "InteractiveShell.ast_node_interactivity = \"all\"\n",
    "\n"
   ]
  },
  {
   "cell_type": "code",
   "execution_count": 2,
   "metadata": {},
   "outputs": [
    {
     "data": {
      "text/html": "<style>\n.output {\n    flex-direction: row;\n}\n</style>",
      "text/plain": "<IPython.core.display.HTML object>"
     },
     "execution_count": 2,
     "metadata": {},
     "output_type": "execute_result"
    }
   ],
   "source": [
    "# display multiple outputs in one row\n",
    "import pandas as pd\n",
    "import numpy as np\n",
    "from IPython.display import display, HTML\n",
    "\n",
    "CSS = \"\"\"\n",
    ".output {\n",
    "    flex-direction: row;\n",
    "}\n",
    "\"\"\"\n",
    "\n",
    "HTML('<style>{}</style>'.format(CSS))"
   ]
  },
  {
   "cell_type": "code",
   "execution_count": 3,
   "metadata": {},
   "outputs": [],
   "source": [
    "connection = Connection()\n",
    "db = connection.recipe_db\n",
    "input_data = db.recipes_test_copy\n",
    "\n",
    "data = json.loads(json_util.dumps(input_data.find()))"
   ]
  },
  {
   "cell_type": "code",
   "execution_count": 4,
   "metadata": {},
   "outputs": [],
   "source": [
    "ing = pd.DataFrame(json_normalize(data, record_path='ingredients',\n",
    "                             meta='id', record_prefix='ingredients_', errors='ignore'))\n",
    "\n",
    "\n",
    "nutritions = pd.DataFrame(json_normalize(data, record_path='nutritions',\n",
    "                            meta=['id', 'prep_time', 'rating', 'rating_count', 'ready_in_time', 'review_count']))\n"
   ]
  },
  {
   "cell_type": "code",
   "execution_count": 5,
   "metadata": {},
   "outputs": [],
   "source": [
    "#  ------  erstellung und data cleansing - Ingredients\n",
    "\n",
    "# schmeiss alle zutaten raus, die weniger als 5 mal verwendet werden\n",
    "# setze multiinde auf 'id' und 'ingredients_id'\n",
    "ingredients = ing.set_index(['id', 'ingredients_id'])\n",
    "\n",
    "# filtere alle Zutaten samt ihrer rezepte id, die weniger gleich 5 mal vorkommen\n",
    "ingredients_eqles_5_ing = ingredients.groupby(\n",
    "    'ingredients_id').filter(lambda x: len(x) <= 5)\n",
    "\n",
    "# droppe alle rezepte, die eine Zutate besitzen, die weniger gleich 5 Mal vorkommen\n",
    "ingredients_filt = ingredients.drop(ingredients_eqles_5_ing.index.get_level_values('id').values, level=0)\n",
    "\n",
    "# drop alls rows with ingredients_id == 0\n",
    "ingredients_eqal_zero = ingredients_filt[ingredients_filt.index.get_level_values('ingredients_id') == 0]\n",
    "ingredients_filt = ingredients_filt.drop(ingredients_eqal_zero.index.get_level_values('id').values, level=0)\n"
   ]
  },
  {
   "cell_type": "code",
   "execution_count": 6,
   "metadata": {},
   "outputs": [],
   "source": [
    "#  ------ Erstellung und cleansing des Nutrition Dataframes\n",
    "\n",
    "# erstelle neue liste auf basis der bereits gefilterten rezepte aus ingredients_filt\n",
    "id_overlap_mask = nutritions['id'].isin(ingredients_filt.index.get_level_values('id').values)\n",
    "\n",
    "# erstelle datenframe auf basis der overlapliste\n",
    "nutritions_filt = nutritions.loc[id_overlap_mask]\n",
    "\n",
    "nutrition_db = nutritions_filt.pivot_table(\n",
    "    index=['id'],\n",
    "    columns=['name'],\n",
    "    values=['amount'],\n",
    ").reset_index()\n",
    "\n",
    "nutrition_db.set_index('id', inplace=True)\n",
    "\n",
    "# remove multiindex 'amount'\n",
    "nutrition_db.columns = nutrition_db.columns.droplevel(0)\n",
    "\n",
    "# entferne alle NA\n",
    "nutrition_db = nutrition_db.dropna()\n",
    "\n",
    "# gleiche nochmals die ids der beiden dataframe nutrition und ingredients ab, da der nutrition dataframe noch NA Werte hatt\n",
    "id_overlap_mask = ingredients_filt.index.get_level_values('id').isin(nutrition_db.index)\n",
    "ingredients_db = ingredients_filt[id_overlap_mask]\n",
    "\n",
    "# abgleich ob anzahl der indizes von nutrition und zutaten dataframe gleich sind\n"
   ]
  },
  {
   "cell_type": "code",
   "execution_count": 7,
   "metadata": {},
   "outputs": [],
   "source": [
    "\n",
    "\n",
    "ingredients_db.reset_index(inplace=True)\n",
    "\n",
    "recipe_db = pd.get_dummies(ingredients_db['ingredients_id']).groupby(\n",
    "    ingredients_db['id']).apply(max)\n",
    "\n"
   ]
  },
  {
   "cell_type": "code",
   "execution_count": 8,
   "metadata": {},
   "outputs": [],
   "source": [
    "new_ingredients = ingredients_db.copy()\n",
    "#new_ingredients = new_ingredients.groupby(\"id\")[\"ingredients_grams\"].sum().reset_index()\n",
    "gramms_ingredients = new_ingredients.groupby(\"id\")[\"ingredients_grams\"].sum().reset_index().copy()\n",
    "\n",
    "Q1 = gramms_ingredients.quantile(0.25)\n",
    "Q3 = gramms_ingredients.quantile(0.75)\n",
    "IQR = Q3 - Q1\n",
    "\n",
    "#Filter out all recipes which are outlier by their weight (gramms)\n",
    "df = gramms_ingredients[~((gramms_ingredients < (Q1 - 1.5 * IQR)) |(gramms_ingredients > (Q3 + 1.5 * IQR))).any(axis=1)].copy()\n",
    "\n",
    "#filter out recipes by weight which are not in the range 500 - 2373.59 gramms\n",
    "df_start_at_fivehundret = df[df['ingredients_grams'].between(500, 2373.58225, inclusive=False)].copy()\n",
    "\n",
    "df_start_at_fivehundret.set_index('id', inplace=True)\n",
    "id_overlap_mask = nutritions['id'].isin(df_start_at_fivehundret.index.get_level_values('id').values)\n",
    "\n",
    "\n",
    "# erstelle datenframe auf basis der overlapliste\n",
    "nutritions_filt_gramm = nutritions.loc[id_overlap_mask]\n",
    "\n",
    "nutrition_db2 = nutritions_filt_gramm.pivot_table(\n",
    "    index=['id'],\n",
    "    columns=['name'],\n",
    "    values=['amount'],\n",
    ").reset_index()\n",
    "\n",
    "#create new nutrition db based on the above filtering\n",
    "nutrition_db2.set_index('id', inplace=True)\n",
    "nutrition_db2.columns = nutrition_db2.columns.droplevel(0)\n",
    "\n"
   ]
  },
  {
   "cell_type": "code",
   "execution_count": 983,
   "metadata": {},
   "outputs": [],
   "source": [
    "# random\n",
    "subset_random_top10 = nutrition_db2.sample(n=10).copy()"
   ]
  },
  {
   "cell_type": "code",
   "execution_count": 801,
   "metadata": {},
   "outputs": [],
   "source": [
    "#select 20 random recipes which are between the Fat-range of 35-40 gramms\n",
    "subset_fat = nutrition_db2[(nutrition_db2['Fat'] >= 35) & (nutrition_db2['Fat'] <= 40)].sample(n=40).copy()\n",
    "subset_fat_id = subset_fat.index.to_numpy()\n"
   ]
  },
  {
   "cell_type": "code",
   "execution_count": 802,
   "metadata": {},
   "outputs": [],
   "source": [
    "subset_normal = nutrition_db2.sample(n=40).copy()\n",
    "subset_normal_id = subset_normal.index.to_numpy()"
   ]
  },
  {
   "cell_type": "code",
   "execution_count": 803,
   "metadata": {},
   "outputs": [
    {
     "data": {
      "text/plain": "array([ 43272,  30794, 220214,  14622, 140135,  20618,  19335,  15378,\n        88495,  21557,   8720,  18416,  16663,  15225,  88086, 202951,\n       166506,  16741,   8994,   8949,  45580,  11720, 109782, 199382,\n         8549,  79301, 217899,  59988,  36994,  24509, 150251,  22364,\n        21140, 230735,  16650,  17869,  24080,  24368,  52608,  27946])"
     },
     "execution_count": 803,
     "metadata": {},
     "output_type": "execute_result"
    }
   ],
   "source": [
    "subset_normal.index.to_numpy()"
   ]
  },
  {
   "cell_type": "code",
   "execution_count": 847,
   "metadata": {},
   "outputs": [
    {
     "data": {
      "text/plain": "array([ 17496, 221304,  62459,  86860, 214478, 125921,   8613,  21352,\n        51653, 164208,   8679,  16563,  16966,  48921,  11737, 149738,\n        15127, 102677,  52501, 177777,  40286,   8639,  11990,  14753,\n       216026, 240522, 223596, 222509,  18397,  76763,   8556,  13420,\n       237240, 142220,   8757,  16565,  86813,  14710,  16091,  86628])"
     },
     "execution_count": 847,
     "metadata": {},
     "output_type": "execute_result"
    }
   ],
   "source": [
    "subset_fat.index.to_numpy()"
   ]
  },
  {
   "cell_type": "code",
   "execution_count": 804,
   "metadata": {},
   "outputs": [],
   "source": [
    "# remove recipes which are missing in nutrition df from the ingredients tecipes dataframe\n",
    "mask = recipe_db.index.isin(nutrition_db2.index.values)\n",
    "recipe_db = recipe_db.loc[mask]\n"
   ]
  },
  {
   "cell_type": "code",
   "execution_count": 805,
   "metadata": {},
   "outputs": [
    {
     "data": {
      "text/html": "<div>\n<style scoped>\n    .dataframe tbody tr th:only-of-type {\n        vertical-align: middle;\n    }\n\n    .dataframe tbody tr th {\n        vertical-align: top;\n    }\n\n    .dataframe thead th {\n        text-align: right;\n    }\n</style>\n<table border=\"1\" class=\"dataframe\">\n  <thead>\n    <tr style=\"text-align: right;\">\n      <th>name</th>\n      <th>Calcium</th>\n      <th>Calories</th>\n      <th>Calories from Fat</th>\n      <th>Carbohydrates</th>\n      <th>Cholesterol</th>\n      <th>Dietary Fiber</th>\n      <th>Fat</th>\n      <th>Folate</th>\n      <th>Iron</th>\n      <th>Magnesium</th>\n      <th>Niacin Equivalents</th>\n      <th>Potassium</th>\n      <th>Protein</th>\n      <th>Saturated Fat</th>\n      <th>Sodium</th>\n      <th>Sugars</th>\n      <th>Thiamin</th>\n      <th>Vitamin A - IU</th>\n      <th>Vitamin B6</th>\n      <th>Vitamin C</th>\n    </tr>\n  </thead>\n  <tbody>\n    <tr>\n      <td>count</td>\n      <td>40.00000</td>\n      <td>40.00000</td>\n      <td>40.00000</td>\n      <td>40.00000</td>\n      <td>40.00000</td>\n      <td>40.00000</td>\n      <td>40.00000</td>\n      <td>40.00000</td>\n      <td>40.00000</td>\n      <td>40.00000</td>\n      <td>40.00000</td>\n      <td>40.00000</td>\n      <td>40.00000</td>\n      <td>40.00000</td>\n      <td>40.00000</td>\n      <td>40.00000</td>\n      <td>40.00000</td>\n      <td>40.00000</td>\n      <td>40.00000</td>\n      <td>40.00000</td>\n    </tr>\n    <tr>\n      <td>mean</td>\n      <td>194.47972</td>\n      <td>601.49387</td>\n      <td>337.78535</td>\n      <td>29.16805</td>\n      <td>150.06314</td>\n      <td>2.43257</td>\n      <td>37.53171</td>\n      <td>71.26957</td>\n      <td>3.34659</td>\n      <td>60.95864</td>\n      <td>17.45060</td>\n      <td>608.96086</td>\n      <td>36.69111</td>\n      <td>15.08782</td>\n      <td>914.33674</td>\n      <td>7.99216</td>\n      <td>0.41397</td>\n      <td>1423.86849</td>\n      <td>0.68791</td>\n      <td>14.07225</td>\n    </tr>\n    <tr>\n      <td>std</td>\n      <td>213.33364</td>\n      <td>116.43957</td>\n      <td>12.79348</td>\n      <td>22.88873</td>\n      <td>66.48725</td>\n      <td>2.25996</td>\n      <td>1.42150</td>\n      <td>62.37675</td>\n      <td>1.83084</td>\n      <td>27.67582</td>\n      <td>8.99566</td>\n      <td>202.87367</td>\n      <td>14.00937</td>\n      <td>4.68803</td>\n      <td>573.48789</td>\n      <td>17.13806</td>\n      <td>0.41369</td>\n      <td>1996.04420</td>\n      <td>0.30829</td>\n      <td>17.56565</td>\n    </tr>\n    <tr>\n      <td>min</td>\n      <td>19.97880</td>\n      <td>390.71980</td>\n      <td>315.51250</td>\n      <td>1.27936</td>\n      <td>41.73750</td>\n      <td>0.05625</td>\n      <td>35.05695</td>\n      <td>6.08000</td>\n      <td>0.52164</td>\n      <td>13.02275</td>\n      <td>2.13488</td>\n      <td>287.94660</td>\n      <td>10.86362</td>\n      <td>5.39091</td>\n      <td>46.13375</td>\n      <td>0.04464</td>\n      <td>0.02608</td>\n      <td>0.56250</td>\n      <td>0.10281</td>\n      <td>0.02250</td>\n    </tr>\n    <tr>\n      <td>25%</td>\n      <td>52.60393</td>\n      <td>510.59465</td>\n      <td>326.04705</td>\n      <td>10.45404</td>\n      <td>112.02998</td>\n      <td>0.90838</td>\n      <td>36.22745</td>\n      <td>19.68019</td>\n      <td>2.21709</td>\n      <td>45.24325</td>\n      <td>11.43623</td>\n      <td>463.71855</td>\n      <td>25.28096</td>\n      <td>12.19102</td>\n      <td>444.32873</td>\n      <td>1.71230</td>\n      <td>0.15462</td>\n      <td>330.06250</td>\n      <td>0.50037</td>\n      <td>2.22598</td>\n    </tr>\n    <tr>\n      <td>50%</td>\n      <td>105.94745</td>\n      <td>579.13780</td>\n      <td>339.54200</td>\n      <td>27.12899</td>\n      <td>144.70575</td>\n      <td>1.74797</td>\n      <td>37.72689</td>\n      <td>61.49586</td>\n      <td>3.11904</td>\n      <td>56.69952</td>\n      <td>16.69467</td>\n      <td>571.83110</td>\n      <td>36.28499</td>\n      <td>13.76573</td>\n      <td>859.22625</td>\n      <td>3.07298</td>\n      <td>0.28202</td>\n      <td>843.58875</td>\n      <td>0.62970</td>\n      <td>7.31479</td>\n    </tr>\n    <tr>\n      <td>75%</td>\n      <td>253.69303</td>\n      <td>678.84852</td>\n      <td>348.27902</td>\n      <td>36.03892</td>\n      <td>179.11353</td>\n      <td>3.00643</td>\n      <td>38.69768</td>\n      <td>106.31950</td>\n      <td>4.10491</td>\n      <td>73.77128</td>\n      <td>21.56779</td>\n      <td>758.52978</td>\n      <td>44.61936</td>\n      <td>18.97431</td>\n      <td>1207.45275</td>\n      <td>6.30719</td>\n      <td>0.45723</td>\n      <td>1388.06000</td>\n      <td>0.86224</td>\n      <td>23.14030</td>\n    </tr>\n    <tr>\n      <td>max</td>\n      <td>916.50970</td>\n      <td>905.35500</td>\n      <td>356.99080</td>\n      <td>107.07330</td>\n      <td>402.30000</td>\n      <td>8.19218</td>\n      <td>39.66564</td>\n      <td>265.00170</td>\n      <td>10.33637</td>\n      <td>148.31270</td>\n      <td>47.57578</td>\n      <td>1224.39900</td>\n      <td>71.14468</td>\n      <td>23.67693</td>\n      <td>2757.83400</td>\n      <td>104.81810</td>\n      <td>1.87098</td>\n      <td>10316.97000</td>\n      <td>1.57042</td>\n      <td>74.77966</td>\n    </tr>\n  </tbody>\n</table>\n</div>",
      "text/plain": "name    Calcium  Calories  Calories from Fat  Carbohydrates  Cholesterol  \\\ncount  40.00000  40.00000           40.00000       40.00000     40.00000   \nmean  194.47972 601.49387          337.78535       29.16805    150.06314   \nstd   213.33364 116.43957           12.79348       22.88873     66.48725   \nmin    19.97880 390.71980          315.51250        1.27936     41.73750   \n25%    52.60393 510.59465          326.04705       10.45404    112.02998   \n50%   105.94745 579.13780          339.54200       27.12899    144.70575   \n75%   253.69303 678.84852          348.27902       36.03892    179.11353   \nmax   916.50970 905.35500          356.99080      107.07330    402.30000   \n\nname   Dietary Fiber      Fat    Folate     Iron  Magnesium  \\\ncount       40.00000 40.00000  40.00000 40.00000   40.00000   \nmean         2.43257 37.53171  71.26957  3.34659   60.95864   \nstd          2.25996  1.42150  62.37675  1.83084   27.67582   \nmin          0.05625 35.05695   6.08000  0.52164   13.02275   \n25%          0.90838 36.22745  19.68019  2.21709   45.24325   \n50%          1.74797 37.72689  61.49586  3.11904   56.69952   \n75%          3.00643 38.69768 106.31950  4.10491   73.77128   \nmax          8.19218 39.66564 265.00170 10.33637  148.31270   \n\nname   Niacin Equivalents  Potassium  Protein  Saturated Fat     Sodium  \\\ncount            40.00000   40.00000 40.00000       40.00000   40.00000   \nmean             17.45060  608.96086 36.69111       15.08782  914.33674   \nstd               8.99566  202.87367 14.00937        4.68803  573.48789   \nmin               2.13488  287.94660 10.86362        5.39091   46.13375   \n25%              11.43623  463.71855 25.28096       12.19102  444.32873   \n50%              16.69467  571.83110 36.28499       13.76573  859.22625   \n75%              21.56779  758.52978 44.61936       18.97431 1207.45275   \nmax              47.57578 1224.39900 71.14468       23.67693 2757.83400   \n\nname     Sugars  Thiamin  Vitamin A - IU  Vitamin B6  Vitamin C  \ncount  40.00000 40.00000        40.00000    40.00000   40.00000  \nmean    7.99216  0.41397      1423.86849     0.68791   14.07225  \nstd    17.13806  0.41369      1996.04420     0.30829   17.56565  \nmin     0.04464  0.02608         0.56250     0.10281    0.02250  \n25%     1.71230  0.15462       330.06250     0.50037    2.22598  \n50%     3.07298  0.28202       843.58875     0.62970    7.31479  \n75%     6.30719  0.45723      1388.06000     0.86224   23.14030  \nmax   104.81810  1.87098     10316.97000     1.57042   74.77966  "
     },
     "execution_count": 805,
     "metadata": {},
     "output_type": "execute_result"
    }
   ],
   "source": [
    "subset_fat.describe()"
   ]
  },
  {
   "cell_type": "code",
   "execution_count": 806,
   "metadata": {},
   "outputs": [
    {
     "data": {
      "text/html": "<div>\n<style scoped>\n    .dataframe tbody tr th:only-of-type {\n        vertical-align: middle;\n    }\n\n    .dataframe tbody tr th {\n        vertical-align: top;\n    }\n\n    .dataframe thead th {\n        text-align: right;\n    }\n</style>\n<table border=\"1\" class=\"dataframe\">\n  <thead>\n    <tr style=\"text-align: right;\">\n      <th>name</th>\n      <th>Calcium</th>\n      <th>Calories</th>\n      <th>Calories from Fat</th>\n      <th>Carbohydrates</th>\n      <th>Cholesterol</th>\n      <th>Dietary Fiber</th>\n      <th>Fat</th>\n      <th>Folate</th>\n      <th>Iron</th>\n      <th>Magnesium</th>\n      <th>Niacin Equivalents</th>\n      <th>Potassium</th>\n      <th>Protein</th>\n      <th>Saturated Fat</th>\n      <th>Sodium</th>\n      <th>Sugars</th>\n      <th>Thiamin</th>\n      <th>Vitamin A - IU</th>\n      <th>Vitamin B6</th>\n      <th>Vitamin C</th>\n    </tr>\n  </thead>\n  <tbody>\n    <tr>\n      <td>count</td>\n      <td>40.00000</td>\n      <td>40.00000</td>\n      <td>40.00000</td>\n      <td>40.00000</td>\n      <td>40.00000</td>\n      <td>40.00000</td>\n      <td>40.00000</td>\n      <td>40.00000</td>\n      <td>40.00000</td>\n      <td>40.00000</td>\n      <td>40.00000</td>\n      <td>40.00000</td>\n      <td>40.00000</td>\n      <td>40.00000</td>\n      <td>40.00000</td>\n      <td>40.00000</td>\n      <td>40.00000</td>\n      <td>40.00000</td>\n      <td>40.00000</td>\n      <td>40.00000</td>\n    </tr>\n    <tr>\n      <td>mean</td>\n      <td>195.52469</td>\n      <td>450.54937</td>\n      <td>209.88841</td>\n      <td>30.74838</td>\n      <td>99.87757</td>\n      <td>2.49977</td>\n      <td>23.32093</td>\n      <td>66.09608</td>\n      <td>2.95025</td>\n      <td>54.97015</td>\n      <td>13.18617</td>\n      <td>518.59860</td>\n      <td>28.91198</td>\n      <td>10.13333</td>\n      <td>849.94854</td>\n      <td>6.94168</td>\n      <td>0.28208</td>\n      <td>1467.94280</td>\n      <td>0.49493</td>\n      <td>12.07557</td>\n    </tr>\n    <tr>\n      <td>std</td>\n      <td>178.75955</td>\n      <td>207.11369</td>\n      <td>142.26635</td>\n      <td>23.08855</td>\n      <td>55.73035</td>\n      <td>2.44707</td>\n      <td>15.80737</td>\n      <td>70.35193</td>\n      <td>1.70641</td>\n      <td>33.94836</td>\n      <td>7.43658</td>\n      <td>316.73942</td>\n      <td>12.44752</td>\n      <td>8.94448</td>\n      <td>591.67582</td>\n      <td>11.69328</td>\n      <td>0.28046</td>\n      <td>3016.64498</td>\n      <td>0.31869</td>\n      <td>14.37588</td>\n    </tr>\n    <tr>\n      <td>min</td>\n      <td>11.51977</td>\n      <td>179.94480</td>\n      <td>15.47674</td>\n      <td>2.30900</td>\n      <td>15.76667</td>\n      <td>0.02917</td>\n      <td>1.71964</td>\n      <td>3.06332</td>\n      <td>0.44957</td>\n      <td>16.60563</td>\n      <td>1.83924</td>\n      <td>165.86690</td>\n      <td>8.88312</td>\n      <td>0.41385</td>\n      <td>48.28076</td>\n      <td>0.53162</td>\n      <td>0.00254</td>\n      <td>1.52500</td>\n      <td>0.09412</td>\n      <td>0.06100</td>\n    </tr>\n    <tr>\n      <td>25%</td>\n      <td>52.73812</td>\n      <td>264.57755</td>\n      <td>101.05217</td>\n      <td>11.46596</td>\n      <td>64.63125</td>\n      <td>0.91358</td>\n      <td>11.22802</td>\n      <td>18.61364</td>\n      <td>1.62700</td>\n      <td>33.04839</td>\n      <td>6.90594</td>\n      <td>332.50210</td>\n      <td>21.31413</td>\n      <td>2.80919</td>\n      <td>399.14718</td>\n      <td>2.15192</td>\n      <td>0.09614</td>\n      <td>362.35582</td>\n      <td>0.25505</td>\n      <td>3.67745</td>\n    </tr>\n    <tr>\n      <td>50%</td>\n      <td>117.12005</td>\n      <td>434.04795</td>\n      <td>168.37980</td>\n      <td>24.72044</td>\n      <td>78.99882</td>\n      <td>1.81291</td>\n      <td>18.70887</td>\n      <td>34.61906</td>\n      <td>2.63547</td>\n      <td>45.39443</td>\n      <td>12.82867</td>\n      <td>417.18225</td>\n      <td>27.03035</td>\n      <td>7.71233</td>\n      <td>774.17390</td>\n      <td>3.97073</td>\n      <td>0.15700</td>\n      <td>689.34775</td>\n      <td>0.43285</td>\n      <td>7.62298</td>\n    </tr>\n    <tr>\n      <td>75%</td>\n      <td>322.86605</td>\n      <td>621.15710</td>\n      <td>294.41987</td>\n      <td>49.87391</td>\n      <td>135.51625</td>\n      <td>3.11939</td>\n      <td>32.71331</td>\n      <td>106.00048</td>\n      <td>3.90386</td>\n      <td>63.81725</td>\n      <td>16.90159</td>\n      <td>540.35833</td>\n      <td>33.35592</td>\n      <td>13.28235</td>\n      <td>1124.38225</td>\n      <td>6.48547</td>\n      <td>0.35720</td>\n      <td>1055.53925</td>\n      <td>0.66613</td>\n      <td>11.86989</td>\n    </tr>\n    <tr>\n      <td>max</td>\n      <td>571.60100</td>\n      <td>1081.28100</td>\n      <td>590.67500</td>\n      <td>94.90217</td>\n      <td>289.51880</td>\n      <td>10.19315</td>\n      <td>65.63055</td>\n      <td>362.73910</td>\n      <td>7.47058</td>\n      <td>177.79820</td>\n      <td>32.70740</td>\n      <td>1722.69600</td>\n      <td>73.38993</td>\n      <td>37.44320</td>\n      <td>2854.16100</td>\n      <td>72.41016</td>\n      <td>1.05480</td>\n      <td>17957.94000</td>\n      <td>1.74218</td>\n      <td>57.76982</td>\n    </tr>\n  </tbody>\n</table>\n</div>",
      "text/plain": "name    Calcium   Calories  Calories from Fat  Carbohydrates  Cholesterol  \\\ncount  40.00000   40.00000           40.00000       40.00000     40.00000   \nmean  195.52469  450.54937          209.88841       30.74838     99.87757   \nstd   178.75955  207.11369          142.26635       23.08855     55.73035   \nmin    11.51977  179.94480           15.47674        2.30900     15.76667   \n25%    52.73812  264.57755          101.05217       11.46596     64.63125   \n50%   117.12005  434.04795          168.37980       24.72044     78.99882   \n75%   322.86605  621.15710          294.41987       49.87391    135.51625   \nmax   571.60100 1081.28100          590.67500       94.90217    289.51880   \n\nname   Dietary Fiber      Fat    Folate     Iron  Magnesium  \\\ncount       40.00000 40.00000  40.00000 40.00000   40.00000   \nmean         2.49977 23.32093  66.09608  2.95025   54.97015   \nstd          2.44707 15.80737  70.35193  1.70641   33.94836   \nmin          0.02917  1.71964   3.06332  0.44957   16.60563   \n25%          0.91358 11.22802  18.61364  1.62700   33.04839   \n50%          1.81291 18.70887  34.61906  2.63547   45.39443   \n75%          3.11939 32.71331 106.00048  3.90386   63.81725   \nmax         10.19315 65.63055 362.73910  7.47058  177.79820   \n\nname   Niacin Equivalents  Potassium  Protein  Saturated Fat     Sodium  \\\ncount            40.00000   40.00000 40.00000       40.00000   40.00000   \nmean             13.18617  518.59860 28.91198       10.13333  849.94854   \nstd               7.43658  316.73942 12.44752        8.94448  591.67582   \nmin               1.83924  165.86690  8.88312        0.41385   48.28076   \n25%               6.90594  332.50210 21.31413        2.80919  399.14718   \n50%              12.82867  417.18225 27.03035        7.71233  774.17390   \n75%              16.90159  540.35833 33.35592       13.28235 1124.38225   \nmax              32.70740 1722.69600 73.38993       37.44320 2854.16100   \n\nname    Sugars  Thiamin  Vitamin A - IU  Vitamin B6  Vitamin C  \ncount 40.00000 40.00000        40.00000    40.00000   40.00000  \nmean   6.94168  0.28208      1467.94280     0.49493   12.07557  \nstd   11.69328  0.28046      3016.64498     0.31869   14.37588  \nmin    0.53162  0.00254         1.52500     0.09412    0.06100  \n25%    2.15192  0.09614       362.35582     0.25505    3.67745  \n50%    3.97073  0.15700       689.34775     0.43285    7.62298  \n75%    6.48547  0.35720      1055.53925     0.66613   11.86989  \nmax   72.41016  1.05480     17957.94000     1.74218   57.76982  "
     },
     "execution_count": 806,
     "metadata": {},
     "output_type": "execute_result"
    }
   ],
   "source": [
    "subset_normal.describe()"
   ]
  },
  {
   "cell_type": "code",
   "execution_count": 807,
   "metadata": {},
   "outputs": [],
   "source": [
    "user_recipes_fat = recipe_db[recipe_db.index.isin(subset_fat_id)]\n",
    "user_recipes_normal = recipe_db[recipe_db.index.isin(subset_normal_id)]"
   ]
  },
  {
   "cell_type": "code",
   "execution_count": 1169,
   "metadata": {},
   "outputs": [],
   "source": [
    "####temp#######\n",
    "temp_fat_20 = [16966,  14753,  62459,  18397,   8757,  52501,   8556, 240522,\n",
    "        86628, 221304, 223596,  51653,  48921, 142220,  76763, 222509,\n",
    "        17496,  14710,  86860,  86813]\n",
    "####temp#######\n",
    "user_recipes_fat = recipe_db[recipe_db.index.isin(temp_fat_20)]\n"
   ]
  },
  {
   "cell_type": "code",
   "execution_count": 1124,
   "metadata": {},
   "outputs": [
    {
     "data": {
      "text/html": "<div>\n<style scoped>\n    .dataframe tbody tr th:only-of-type {\n        vertical-align: middle;\n    }\n\n    .dataframe tbody tr th {\n        vertical-align: top;\n    }\n\n    .dataframe thead th {\n        text-align: right;\n    }\n</style>\n<table border=\"1\" class=\"dataframe\">\n  <thead>\n    <tr style=\"text-align: right;\">\n      <th></th>\n      <th>111</th>\n      <th>126</th>\n      <th>257</th>\n      <th>443</th>\n      <th>445</th>\n      <th>578</th>\n      <th>615</th>\n      <th>629</th>\n      <th>631</th>\n      <th>858</th>\n      <th>...</th>\n      <th>23047</th>\n      <th>23274</th>\n      <th>23383</th>\n      <th>24865</th>\n      <th>25518</th>\n      <th>25522</th>\n      <th>26269</th>\n      <th>26934</th>\n      <th>27343</th>\n      <th>27805</th>\n    </tr>\n    <tr>\n      <th>id</th>\n      <th></th>\n      <th></th>\n      <th></th>\n      <th></th>\n      <th></th>\n      <th></th>\n      <th></th>\n      <th></th>\n      <th></th>\n      <th></th>\n      <th></th>\n      <th></th>\n      <th></th>\n      <th></th>\n      <th></th>\n      <th></th>\n      <th></th>\n      <th></th>\n      <th></th>\n      <th></th>\n      <th></th>\n    </tr>\n  </thead>\n  <tbody>\n    <tr>\n      <td>8556</td>\n      <td>0</td>\n      <td>0</td>\n      <td>0</td>\n      <td>0</td>\n      <td>0</td>\n      <td>0</td>\n      <td>0</td>\n      <td>0</td>\n      <td>0</td>\n      <td>0</td>\n      <td>...</td>\n      <td>0</td>\n      <td>0</td>\n      <td>0</td>\n      <td>0</td>\n      <td>0</td>\n      <td>0</td>\n      <td>0</td>\n      <td>0</td>\n      <td>0</td>\n      <td>0</td>\n    </tr>\n    <tr>\n      <td>8757</td>\n      <td>0</td>\n      <td>0</td>\n      <td>0</td>\n      <td>0</td>\n      <td>0</td>\n      <td>0</td>\n      <td>0</td>\n      <td>0</td>\n      <td>0</td>\n      <td>0</td>\n      <td>...</td>\n      <td>0</td>\n      <td>0</td>\n      <td>0</td>\n      <td>0</td>\n      <td>0</td>\n      <td>0</td>\n      <td>0</td>\n      <td>0</td>\n      <td>0</td>\n      <td>0</td>\n    </tr>\n    <tr>\n      <td>14710</td>\n      <td>0</td>\n      <td>0</td>\n      <td>0</td>\n      <td>0</td>\n      <td>0</td>\n      <td>0</td>\n      <td>0</td>\n      <td>0</td>\n      <td>0</td>\n      <td>0</td>\n      <td>...</td>\n      <td>0</td>\n      <td>0</td>\n      <td>0</td>\n      <td>0</td>\n      <td>0</td>\n      <td>0</td>\n      <td>0</td>\n      <td>0</td>\n      <td>0</td>\n      <td>0</td>\n    </tr>\n    <tr>\n      <td>14753</td>\n      <td>0</td>\n      <td>0</td>\n      <td>0</td>\n      <td>0</td>\n      <td>0</td>\n      <td>0</td>\n      <td>0</td>\n      <td>0</td>\n      <td>0</td>\n      <td>0</td>\n      <td>...</td>\n      <td>0</td>\n      <td>0</td>\n      <td>0</td>\n      <td>0</td>\n      <td>0</td>\n      <td>0</td>\n      <td>0</td>\n      <td>0</td>\n      <td>0</td>\n      <td>0</td>\n    </tr>\n    <tr>\n      <td>16966</td>\n      <td>0</td>\n      <td>0</td>\n      <td>0</td>\n      <td>0</td>\n      <td>0</td>\n      <td>0</td>\n      <td>0</td>\n      <td>0</td>\n      <td>0</td>\n      <td>0</td>\n      <td>...</td>\n      <td>0</td>\n      <td>0</td>\n      <td>0</td>\n      <td>0</td>\n      <td>0</td>\n      <td>0</td>\n      <td>0</td>\n      <td>0</td>\n      <td>0</td>\n      <td>0</td>\n    </tr>\n    <tr>\n      <td>17496</td>\n      <td>0</td>\n      <td>0</td>\n      <td>0</td>\n      <td>0</td>\n      <td>0</td>\n      <td>0</td>\n      <td>0</td>\n      <td>0</td>\n      <td>0</td>\n      <td>0</td>\n      <td>...</td>\n      <td>0</td>\n      <td>0</td>\n      <td>0</td>\n      <td>0</td>\n      <td>0</td>\n      <td>0</td>\n      <td>0</td>\n      <td>0</td>\n      <td>0</td>\n      <td>0</td>\n    </tr>\n    <tr>\n      <td>18397</td>\n      <td>0</td>\n      <td>0</td>\n      <td>0</td>\n      <td>0</td>\n      <td>0</td>\n      <td>0</td>\n      <td>0</td>\n      <td>0</td>\n      <td>0</td>\n      <td>0</td>\n      <td>...</td>\n      <td>0</td>\n      <td>0</td>\n      <td>0</td>\n      <td>0</td>\n      <td>0</td>\n      <td>0</td>\n      <td>0</td>\n      <td>0</td>\n      <td>0</td>\n      <td>0</td>\n    </tr>\n    <tr>\n      <td>48921</td>\n      <td>0</td>\n      <td>0</td>\n      <td>0</td>\n      <td>0</td>\n      <td>0</td>\n      <td>0</td>\n      <td>0</td>\n      <td>0</td>\n      <td>0</td>\n      <td>0</td>\n      <td>...</td>\n      <td>0</td>\n      <td>0</td>\n      <td>0</td>\n      <td>0</td>\n      <td>0</td>\n      <td>0</td>\n      <td>0</td>\n      <td>0</td>\n      <td>0</td>\n      <td>0</td>\n    </tr>\n    <tr>\n      <td>51653</td>\n      <td>0</td>\n      <td>0</td>\n      <td>0</td>\n      <td>0</td>\n      <td>0</td>\n      <td>0</td>\n      <td>0</td>\n      <td>0</td>\n      <td>0</td>\n      <td>0</td>\n      <td>...</td>\n      <td>0</td>\n      <td>0</td>\n      <td>0</td>\n      <td>0</td>\n      <td>0</td>\n      <td>0</td>\n      <td>0</td>\n      <td>0</td>\n      <td>0</td>\n      <td>0</td>\n    </tr>\n    <tr>\n      <td>52501</td>\n      <td>0</td>\n      <td>0</td>\n      <td>0</td>\n      <td>0</td>\n      <td>0</td>\n      <td>0</td>\n      <td>0</td>\n      <td>0</td>\n      <td>0</td>\n      <td>0</td>\n      <td>...</td>\n      <td>0</td>\n      <td>0</td>\n      <td>0</td>\n      <td>0</td>\n      <td>0</td>\n      <td>0</td>\n      <td>0</td>\n      <td>0</td>\n      <td>0</td>\n      <td>0</td>\n    </tr>\n    <tr>\n      <td>62459</td>\n      <td>0</td>\n      <td>0</td>\n      <td>0</td>\n      <td>0</td>\n      <td>0</td>\n      <td>0</td>\n      <td>0</td>\n      <td>0</td>\n      <td>0</td>\n      <td>0</td>\n      <td>...</td>\n      <td>0</td>\n      <td>0</td>\n      <td>0</td>\n      <td>0</td>\n      <td>0</td>\n      <td>0</td>\n      <td>0</td>\n      <td>0</td>\n      <td>0</td>\n      <td>0</td>\n    </tr>\n    <tr>\n      <td>76763</td>\n      <td>0</td>\n      <td>0</td>\n      <td>0</td>\n      <td>0</td>\n      <td>0</td>\n      <td>0</td>\n      <td>0</td>\n      <td>0</td>\n      <td>0</td>\n      <td>0</td>\n      <td>...</td>\n      <td>0</td>\n      <td>0</td>\n      <td>0</td>\n      <td>0</td>\n      <td>0</td>\n      <td>0</td>\n      <td>0</td>\n      <td>0</td>\n      <td>0</td>\n      <td>0</td>\n    </tr>\n    <tr>\n      <td>86628</td>\n      <td>0</td>\n      <td>0</td>\n      <td>0</td>\n      <td>0</td>\n      <td>0</td>\n      <td>0</td>\n      <td>0</td>\n      <td>0</td>\n      <td>0</td>\n      <td>0</td>\n      <td>...</td>\n      <td>0</td>\n      <td>0</td>\n      <td>0</td>\n      <td>0</td>\n      <td>0</td>\n      <td>0</td>\n      <td>0</td>\n      <td>0</td>\n      <td>0</td>\n      <td>0</td>\n    </tr>\n    <tr>\n      <td>86813</td>\n      <td>0</td>\n      <td>0</td>\n      <td>0</td>\n      <td>0</td>\n      <td>0</td>\n      <td>0</td>\n      <td>0</td>\n      <td>0</td>\n      <td>0</td>\n      <td>0</td>\n      <td>...</td>\n      <td>0</td>\n      <td>0</td>\n      <td>0</td>\n      <td>0</td>\n      <td>0</td>\n      <td>0</td>\n      <td>0</td>\n      <td>0</td>\n      <td>0</td>\n      <td>0</td>\n    </tr>\n    <tr>\n      <td>86860</td>\n      <td>0</td>\n      <td>0</td>\n      <td>0</td>\n      <td>0</td>\n      <td>0</td>\n      <td>0</td>\n      <td>0</td>\n      <td>0</td>\n      <td>0</td>\n      <td>0</td>\n      <td>...</td>\n      <td>0</td>\n      <td>0</td>\n      <td>0</td>\n      <td>0</td>\n      <td>0</td>\n      <td>0</td>\n      <td>0</td>\n      <td>0</td>\n      <td>0</td>\n      <td>0</td>\n    </tr>\n    <tr>\n      <td>142220</td>\n      <td>0</td>\n      <td>0</td>\n      <td>0</td>\n      <td>0</td>\n      <td>0</td>\n      <td>0</td>\n      <td>0</td>\n      <td>0</td>\n      <td>0</td>\n      <td>0</td>\n      <td>...</td>\n      <td>0</td>\n      <td>0</td>\n      <td>0</td>\n      <td>0</td>\n      <td>0</td>\n      <td>0</td>\n      <td>0</td>\n      <td>0</td>\n      <td>0</td>\n      <td>0</td>\n    </tr>\n    <tr>\n      <td>221304</td>\n      <td>0</td>\n      <td>0</td>\n      <td>0</td>\n      <td>0</td>\n      <td>0</td>\n      <td>0</td>\n      <td>0</td>\n      <td>0</td>\n      <td>0</td>\n      <td>0</td>\n      <td>...</td>\n      <td>0</td>\n      <td>0</td>\n      <td>0</td>\n      <td>0</td>\n      <td>0</td>\n      <td>0</td>\n      <td>0</td>\n      <td>0</td>\n      <td>0</td>\n      <td>0</td>\n    </tr>\n    <tr>\n      <td>222509</td>\n      <td>0</td>\n      <td>0</td>\n      <td>0</td>\n      <td>0</td>\n      <td>0</td>\n      <td>0</td>\n      <td>0</td>\n      <td>0</td>\n      <td>0</td>\n      <td>0</td>\n      <td>...</td>\n      <td>0</td>\n      <td>0</td>\n      <td>0</td>\n      <td>0</td>\n      <td>0</td>\n      <td>0</td>\n      <td>0</td>\n      <td>0</td>\n      <td>0</td>\n      <td>0</td>\n    </tr>\n    <tr>\n      <td>223596</td>\n      <td>0</td>\n      <td>0</td>\n      <td>0</td>\n      <td>0</td>\n      <td>0</td>\n      <td>1</td>\n      <td>0</td>\n      <td>0</td>\n      <td>0</td>\n      <td>0</td>\n      <td>...</td>\n      <td>0</td>\n      <td>0</td>\n      <td>0</td>\n      <td>0</td>\n      <td>0</td>\n      <td>0</td>\n      <td>0</td>\n      <td>0</td>\n      <td>0</td>\n      <td>0</td>\n    </tr>\n    <tr>\n      <td>240522</td>\n      <td>0</td>\n      <td>0</td>\n      <td>0</td>\n      <td>0</td>\n      <td>0</td>\n      <td>0</td>\n      <td>0</td>\n      <td>0</td>\n      <td>0</td>\n      <td>0</td>\n      <td>...</td>\n      <td>0</td>\n      <td>0</td>\n      <td>0</td>\n      <td>0</td>\n      <td>0</td>\n      <td>0</td>\n      <td>0</td>\n      <td>0</td>\n      <td>0</td>\n      <td>0</td>\n    </tr>\n  </tbody>\n</table>\n<p>20 rows × 730 columns</p>\n</div>",
      "text/plain": "        111    126    257    443    445    578    615    629    631    858    \\\nid                                                                             \n8556        0      0      0      0      0      0      0      0      0      0   \n8757        0      0      0      0      0      0      0      0      0      0   \n14710       0      0      0      0      0      0      0      0      0      0   \n14753       0      0      0      0      0      0      0      0      0      0   \n16966       0      0      0      0      0      0      0      0      0      0   \n17496       0      0      0      0      0      0      0      0      0      0   \n18397       0      0      0      0      0      0      0      0      0      0   \n48921       0      0      0      0      0      0      0      0      0      0   \n51653       0      0      0      0      0      0      0      0      0      0   \n52501       0      0      0      0      0      0      0      0      0      0   \n62459       0      0      0      0      0      0      0      0      0      0   \n76763       0      0      0      0      0      0      0      0      0      0   \n86628       0      0      0      0      0      0      0      0      0      0   \n86813       0      0      0      0      0      0      0      0      0      0   \n86860       0      0      0      0      0      0      0      0      0      0   \n142220      0      0      0      0      0      0      0      0      0      0   \n221304      0      0      0      0      0      0      0      0      0      0   \n222509      0      0      0      0      0      0      0      0      0      0   \n223596      0      0      0      0      0      1      0      0      0      0   \n240522      0      0      0      0      0      0      0      0      0      0   \n\n        ...  23047  23274  23383  24865  25518  25522  26269  26934  27343  \\\nid      ...                                                                  \n8556    ...      0      0      0      0      0      0      0      0      0   \n8757    ...      0      0      0      0      0      0      0      0      0   \n14710   ...      0      0      0      0      0      0      0      0      0   \n14753   ...      0      0      0      0      0      0      0      0      0   \n16966   ...      0      0      0      0      0      0      0      0      0   \n17496   ...      0      0      0      0      0      0      0      0      0   \n18397   ...      0      0      0      0      0      0      0      0      0   \n48921   ...      0      0      0      0      0      0      0      0      0   \n51653   ...      0      0      0      0      0      0      0      0      0   \n52501   ...      0      0      0      0      0      0      0      0      0   \n62459   ...      0      0      0      0      0      0      0      0      0   \n76763   ...      0      0      0      0      0      0      0      0      0   \n86628   ...      0      0      0      0      0      0      0      0      0   \n86813   ...      0      0      0      0      0      0      0      0      0   \n86860   ...      0      0      0      0      0      0      0      0      0   \n142220  ...      0      0      0      0      0      0      0      0      0   \n221304  ...      0      0      0      0      0      0      0      0      0   \n222509  ...      0      0      0      0      0      0      0      0      0   \n223596  ...      0      0      0      0      0      0      0      0      0   \n240522  ...      0      0      0      0      0      0      0      0      0   \n\n        27805  \nid             \n8556        0  \n8757        0  \n14710       0  \n14753       0  \n16966       0  \n17496       0  \n18397       0  \n48921       0  \n51653       0  \n52501       0  \n62459       0  \n76763       0  \n86628       0  \n86813       0  \n86860       0  \n142220      0  \n221304      0  \n222509      0  \n223596      0  \n240522      0  \n\n[20 rows x 730 columns]"
     },
     "execution_count": 1124,
     "metadata": {},
     "output_type": "execute_result"
    }
   ],
   "source": [
    "user_recipes_fat"
   ]
  },
  {
   "cell_type": "code",
   "execution_count": 808,
   "metadata": {},
   "outputs": [],
   "source": [
    "#top10 most common ingredients\n",
    "#16421    2125 salt\n",
    "#4342     1506 garlic\n",
    "#4397     1412 onion\n",
    "#16406    1185 ground black pepper\n",
    "#16157    1016 butter\n",
    "#6307      944 olive oil\n",
    "#6494      786 skinless bone less chicken breast\n",
    "#2496      749 water\n",
    "#16238     574 grated Parmesan cheese\n",
    "#16317     538 eggs\n",
    "\n",
    "\n",
    "drop_id_list = [16421, 4342, 4397, 16406, 16157, 6307, 6494, 2496, 16238, 16317]\n",
    "\n",
    "\n",
    "\n"
   ]
  },
  {
   "cell_type": "code",
   "execution_count": 809,
   "metadata": {},
   "outputs": [
    {
     "data": {
      "text/plain": "array([ 17496, 221304,  62459,  86860, 214478, 125921,   8613,  21352,\n        51653, 164208,   8679,  16563,  16966,  48921,  11737, 149738,\n        15127, 102677,  52501, 177777,  40286,   8639,  11990,  14753,\n       216026, 240522, 223596, 222509,  18397,  76763,   8556,  13420,\n       237240, 142220,   8757,  16565,  86813,  14710,  16091,  86628])"
     },
     "execution_count": 809,
     "metadata": {},
     "output_type": "execute_result"
    }
   ],
   "source": [
    "subset_fat_id"
   ]
  },
  {
   "cell_type": "code",
   "execution_count": 810,
   "metadata": {},
   "outputs": [
    {
     "data": {
      "text/plain": "array([ 43272,  30794, 220214,  14622, 140135,  20618,  19335,  15378,\n        88495,  21557,   8720,  18416,  16663,  15225,  88086, 202951,\n       166506,  16741,   8994,   8949,  45580,  11720, 109782, 199382,\n         8549,  79301, 217899,  59988,  36994,  24509, 150251,  22364,\n        21140, 230735,  16650,  17869,  24080,  24368,  52608,  27946])"
     },
     "execution_count": 810,
     "metadata": {},
     "output_type": "execute_result"
    }
   ],
   "source": [
    "subset_normal_id"
   ]
  },
  {
   "cell_type": "code",
   "execution_count": 1170,
   "metadata": {},
   "outputs": [],
   "source": [
    "#filter out ingredients which are too common and the recipes in the user profile from the recipes database\n",
    "new_recipe_db = recipe_db.drop(axis=1, labels=drop_id_list)\n",
    "\n",
    "#original\n",
    "#new_recipe_db_wo_userrecipes_fat = new_recipe_db.drop(axis=0, labels=subset_fat_id)\n",
    "#original\n",
    "\n",
    "\n",
    "####temp#######\n",
    "new_recipe_db_wo_userrecipes_fat = new_recipe_db.drop(axis=0, labels=temp_fat_20)\n",
    "####temp#######\n",
    "new_recipe_db_wo_userrecipes_normal = new_recipe_db.drop(axis=0, labels=subset_normal_id)"
   ]
  },
  {
   "cell_type": "code",
   "execution_count": 1171,
   "metadata": {},
   "outputs": [],
   "source": [
    "#remove basic ingredients like garlic, olive oil, skinless bone less chicken breast, butter, milk, salt and pepper, onion\n",
    "new_user_recipes_fat = user_recipes_fat.drop(axis=1, labels=drop_id_list)\n",
    "new_user_recipes_normal = user_recipes_normal.drop(axis=1, labels=drop_id_list)"
   ]
  },
  {
   "cell_type": "code",
   "execution_count": 1172,
   "metadata": {},
   "outputs": [],
   "source": [
    "sample_fat = new_user_recipes_fat.sample(n=20).copy()\n"
   ]
  },
  {
   "cell_type": "code",
   "execution_count": null,
   "metadata": {},
   "outputs": [],
   "source": [
    "sample_normal = new_user_recipes_normal.sample(n=40).copy()"
   ]
  },
  {
   "cell_type": "code",
   "execution_count": 1173,
   "metadata": {},
   "outputs": [
    {
     "data": {
      "text/html": "<div>\n<style scoped>\n    .dataframe tbody tr th:only-of-type {\n        vertical-align: middle;\n    }\n\n    .dataframe tbody tr th {\n        vertical-align: top;\n    }\n\n    .dataframe thead th {\n        text-align: right;\n    }\n</style>\n<table border=\"1\" class=\"dataframe\">\n  <thead>\n    <tr style=\"text-align: right;\">\n      <th></th>\n      <th>111</th>\n      <th>126</th>\n      <th>257</th>\n      <th>443</th>\n      <th>445</th>\n      <th>578</th>\n      <th>615</th>\n      <th>629</th>\n      <th>631</th>\n      <th>858</th>\n      <th>...</th>\n      <th>23047</th>\n      <th>23274</th>\n      <th>23383</th>\n      <th>24865</th>\n      <th>25518</th>\n      <th>25522</th>\n      <th>26269</th>\n      <th>26934</th>\n      <th>27343</th>\n      <th>27805</th>\n    </tr>\n    <tr>\n      <th>id</th>\n      <th></th>\n      <th></th>\n      <th></th>\n      <th></th>\n      <th></th>\n      <th></th>\n      <th></th>\n      <th></th>\n      <th></th>\n      <th></th>\n      <th></th>\n      <th></th>\n      <th></th>\n      <th></th>\n      <th></th>\n      <th></th>\n      <th></th>\n      <th></th>\n      <th></th>\n      <th></th>\n      <th></th>\n    </tr>\n  </thead>\n  <tbody>\n    <tr>\n      <td>220214</td>\n      <td>0</td>\n      <td>0</td>\n      <td>0</td>\n      <td>0</td>\n      <td>0</td>\n      <td>0</td>\n      <td>0</td>\n      <td>0</td>\n      <td>0</td>\n      <td>0</td>\n      <td>...</td>\n      <td>0</td>\n      <td>0</td>\n      <td>0</td>\n      <td>0</td>\n      <td>0</td>\n      <td>0</td>\n      <td>0</td>\n      <td>0</td>\n      <td>0</td>\n      <td>0</td>\n    </tr>\n    <tr>\n      <td>24509</td>\n      <td>0</td>\n      <td>0</td>\n      <td>0</td>\n      <td>0</td>\n      <td>0</td>\n      <td>0</td>\n      <td>0</td>\n      <td>0</td>\n      <td>0</td>\n      <td>0</td>\n      <td>...</td>\n      <td>0</td>\n      <td>0</td>\n      <td>0</td>\n      <td>0</td>\n      <td>0</td>\n      <td>0</td>\n      <td>0</td>\n      <td>0</td>\n      <td>0</td>\n      <td>0</td>\n    </tr>\n    <tr>\n      <td>45580</td>\n      <td>0</td>\n      <td>0</td>\n      <td>0</td>\n      <td>0</td>\n      <td>0</td>\n      <td>0</td>\n      <td>0</td>\n      <td>0</td>\n      <td>0</td>\n      <td>0</td>\n      <td>...</td>\n      <td>0</td>\n      <td>0</td>\n      <td>0</td>\n      <td>0</td>\n      <td>0</td>\n      <td>0</td>\n      <td>0</td>\n      <td>0</td>\n      <td>0</td>\n      <td>0</td>\n    </tr>\n    <tr>\n      <td>150251</td>\n      <td>0</td>\n      <td>0</td>\n      <td>0</td>\n      <td>0</td>\n      <td>0</td>\n      <td>0</td>\n      <td>0</td>\n      <td>0</td>\n      <td>0</td>\n      <td>0</td>\n      <td>...</td>\n      <td>0</td>\n      <td>0</td>\n      <td>0</td>\n      <td>0</td>\n      <td>0</td>\n      <td>0</td>\n      <td>0</td>\n      <td>0</td>\n      <td>0</td>\n      <td>0</td>\n    </tr>\n    <tr>\n      <td>18416</td>\n      <td>0</td>\n      <td>0</td>\n      <td>0</td>\n      <td>0</td>\n      <td>0</td>\n      <td>0</td>\n      <td>0</td>\n      <td>0</td>\n      <td>0</td>\n      <td>0</td>\n      <td>...</td>\n      <td>0</td>\n      <td>0</td>\n      <td>0</td>\n      <td>0</td>\n      <td>0</td>\n      <td>0</td>\n      <td>0</td>\n      <td>0</td>\n      <td>0</td>\n      <td>0</td>\n    </tr>\n    <tr>\n      <td>202951</td>\n      <td>0</td>\n      <td>0</td>\n      <td>0</td>\n      <td>0</td>\n      <td>0</td>\n      <td>0</td>\n      <td>0</td>\n      <td>0</td>\n      <td>0</td>\n      <td>0</td>\n      <td>...</td>\n      <td>0</td>\n      <td>0</td>\n      <td>0</td>\n      <td>0</td>\n      <td>0</td>\n      <td>0</td>\n      <td>0</td>\n      <td>0</td>\n      <td>0</td>\n      <td>0</td>\n    </tr>\n    <tr>\n      <td>8994</td>\n      <td>0</td>\n      <td>0</td>\n      <td>0</td>\n      <td>0</td>\n      <td>0</td>\n      <td>0</td>\n      <td>0</td>\n      <td>0</td>\n      <td>0</td>\n      <td>0</td>\n      <td>...</td>\n      <td>0</td>\n      <td>0</td>\n      <td>0</td>\n      <td>0</td>\n      <td>0</td>\n      <td>0</td>\n      <td>0</td>\n      <td>0</td>\n      <td>0</td>\n      <td>0</td>\n    </tr>\n    <tr>\n      <td>52608</td>\n      <td>0</td>\n      <td>0</td>\n      <td>0</td>\n      <td>0</td>\n      <td>0</td>\n      <td>0</td>\n      <td>0</td>\n      <td>0</td>\n      <td>0</td>\n      <td>0</td>\n      <td>...</td>\n      <td>0</td>\n      <td>0</td>\n      <td>0</td>\n      <td>0</td>\n      <td>0</td>\n      <td>0</td>\n      <td>0</td>\n      <td>0</td>\n      <td>0</td>\n      <td>0</td>\n    </tr>\n    <tr>\n      <td>140135</td>\n      <td>0</td>\n      <td>0</td>\n      <td>0</td>\n      <td>0</td>\n      <td>0</td>\n      <td>0</td>\n      <td>0</td>\n      <td>0</td>\n      <td>0</td>\n      <td>0</td>\n      <td>...</td>\n      <td>0</td>\n      <td>0</td>\n      <td>0</td>\n      <td>0</td>\n      <td>0</td>\n      <td>0</td>\n      <td>0</td>\n      <td>0</td>\n      <td>0</td>\n      <td>0</td>\n    </tr>\n    <tr>\n      <td>24368</td>\n      <td>0</td>\n      <td>0</td>\n      <td>0</td>\n      <td>0</td>\n      <td>0</td>\n      <td>0</td>\n      <td>0</td>\n      <td>0</td>\n      <td>0</td>\n      <td>0</td>\n      <td>...</td>\n      <td>0</td>\n      <td>0</td>\n      <td>0</td>\n      <td>0</td>\n      <td>0</td>\n      <td>0</td>\n      <td>0</td>\n      <td>0</td>\n      <td>0</td>\n      <td>0</td>\n    </tr>\n    <tr>\n      <td>20618</td>\n      <td>0</td>\n      <td>0</td>\n      <td>0</td>\n      <td>0</td>\n      <td>0</td>\n      <td>0</td>\n      <td>0</td>\n      <td>0</td>\n      <td>0</td>\n      <td>0</td>\n      <td>...</td>\n      <td>0</td>\n      <td>0</td>\n      <td>0</td>\n      <td>0</td>\n      <td>0</td>\n      <td>0</td>\n      <td>0</td>\n      <td>0</td>\n      <td>0</td>\n      <td>0</td>\n    </tr>\n    <tr>\n      <td>14622</td>\n      <td>0</td>\n      <td>0</td>\n      <td>0</td>\n      <td>0</td>\n      <td>0</td>\n      <td>0</td>\n      <td>0</td>\n      <td>0</td>\n      <td>0</td>\n      <td>0</td>\n      <td>...</td>\n      <td>0</td>\n      <td>0</td>\n      <td>0</td>\n      <td>0</td>\n      <td>0</td>\n      <td>0</td>\n      <td>0</td>\n      <td>0</td>\n      <td>0</td>\n      <td>0</td>\n    </tr>\n    <tr>\n      <td>22364</td>\n      <td>0</td>\n      <td>0</td>\n      <td>0</td>\n      <td>0</td>\n      <td>0</td>\n      <td>0</td>\n      <td>0</td>\n      <td>0</td>\n      <td>0</td>\n      <td>0</td>\n      <td>...</td>\n      <td>0</td>\n      <td>0</td>\n      <td>0</td>\n      <td>0</td>\n      <td>0</td>\n      <td>0</td>\n      <td>0</td>\n      <td>0</td>\n      <td>0</td>\n      <td>0</td>\n    </tr>\n    <tr>\n      <td>217899</td>\n      <td>0</td>\n      <td>0</td>\n      <td>0</td>\n      <td>0</td>\n      <td>0</td>\n      <td>0</td>\n      <td>0</td>\n      <td>0</td>\n      <td>0</td>\n      <td>0</td>\n      <td>...</td>\n      <td>0</td>\n      <td>0</td>\n      <td>0</td>\n      <td>0</td>\n      <td>0</td>\n      <td>0</td>\n      <td>0</td>\n      <td>0</td>\n      <td>0</td>\n      <td>0</td>\n    </tr>\n    <tr>\n      <td>166506</td>\n      <td>0</td>\n      <td>0</td>\n      <td>0</td>\n      <td>0</td>\n      <td>0</td>\n      <td>0</td>\n      <td>0</td>\n      <td>0</td>\n      <td>0</td>\n      <td>0</td>\n      <td>...</td>\n      <td>0</td>\n      <td>0</td>\n      <td>0</td>\n      <td>0</td>\n      <td>0</td>\n      <td>0</td>\n      <td>0</td>\n      <td>0</td>\n      <td>0</td>\n      <td>0</td>\n    </tr>\n    <tr>\n      <td>199382</td>\n      <td>0</td>\n      <td>0</td>\n      <td>0</td>\n      <td>0</td>\n      <td>0</td>\n      <td>0</td>\n      <td>0</td>\n      <td>0</td>\n      <td>0</td>\n      <td>0</td>\n      <td>...</td>\n      <td>0</td>\n      <td>0</td>\n      <td>0</td>\n      <td>0</td>\n      <td>0</td>\n      <td>0</td>\n      <td>0</td>\n      <td>0</td>\n      <td>0</td>\n      <td>0</td>\n    </tr>\n    <tr>\n      <td>17869</td>\n      <td>0</td>\n      <td>0</td>\n      <td>0</td>\n      <td>0</td>\n      <td>0</td>\n      <td>0</td>\n      <td>0</td>\n      <td>0</td>\n      <td>0</td>\n      <td>0</td>\n      <td>...</td>\n      <td>0</td>\n      <td>0</td>\n      <td>0</td>\n      <td>0</td>\n      <td>0</td>\n      <td>0</td>\n      <td>0</td>\n      <td>0</td>\n      <td>0</td>\n      <td>0</td>\n    </tr>\n    <tr>\n      <td>36994</td>\n      <td>0</td>\n      <td>0</td>\n      <td>0</td>\n      <td>0</td>\n      <td>0</td>\n      <td>0</td>\n      <td>0</td>\n      <td>0</td>\n      <td>0</td>\n      <td>0</td>\n      <td>...</td>\n      <td>0</td>\n      <td>0</td>\n      <td>0</td>\n      <td>0</td>\n      <td>0</td>\n      <td>0</td>\n      <td>0</td>\n      <td>0</td>\n      <td>0</td>\n      <td>0</td>\n    </tr>\n    <tr>\n      <td>15225</td>\n      <td>0</td>\n      <td>0</td>\n      <td>0</td>\n      <td>0</td>\n      <td>0</td>\n      <td>0</td>\n      <td>0</td>\n      <td>0</td>\n      <td>0</td>\n      <td>0</td>\n      <td>...</td>\n      <td>0</td>\n      <td>0</td>\n      <td>0</td>\n      <td>0</td>\n      <td>0</td>\n      <td>0</td>\n      <td>0</td>\n      <td>0</td>\n      <td>0</td>\n      <td>0</td>\n    </tr>\n    <tr>\n      <td>59988</td>\n      <td>0</td>\n      <td>0</td>\n      <td>0</td>\n      <td>0</td>\n      <td>0</td>\n      <td>0</td>\n      <td>0</td>\n      <td>0</td>\n      <td>0</td>\n      <td>0</td>\n      <td>...</td>\n      <td>0</td>\n      <td>0</td>\n      <td>0</td>\n      <td>0</td>\n      <td>0</td>\n      <td>0</td>\n      <td>0</td>\n      <td>0</td>\n      <td>0</td>\n      <td>0</td>\n    </tr>\n    <tr>\n      <td>230735</td>\n      <td>0</td>\n      <td>0</td>\n      <td>0</td>\n      <td>0</td>\n      <td>0</td>\n      <td>0</td>\n      <td>0</td>\n      <td>0</td>\n      <td>0</td>\n      <td>0</td>\n      <td>...</td>\n      <td>0</td>\n      <td>1</td>\n      <td>0</td>\n      <td>0</td>\n      <td>0</td>\n      <td>0</td>\n      <td>0</td>\n      <td>0</td>\n      <td>0</td>\n      <td>0</td>\n    </tr>\n    <tr>\n      <td>88495</td>\n      <td>0</td>\n      <td>0</td>\n      <td>0</td>\n      <td>0</td>\n      <td>0</td>\n      <td>0</td>\n      <td>0</td>\n      <td>0</td>\n      <td>0</td>\n      <td>0</td>\n      <td>...</td>\n      <td>0</td>\n      <td>0</td>\n      <td>0</td>\n      <td>0</td>\n      <td>0</td>\n      <td>0</td>\n      <td>0</td>\n      <td>0</td>\n      <td>0</td>\n      <td>0</td>\n    </tr>\n    <tr>\n      <td>16650</td>\n      <td>0</td>\n      <td>0</td>\n      <td>0</td>\n      <td>0</td>\n      <td>0</td>\n      <td>0</td>\n      <td>0</td>\n      <td>0</td>\n      <td>0</td>\n      <td>0</td>\n      <td>...</td>\n      <td>0</td>\n      <td>0</td>\n      <td>0</td>\n      <td>0</td>\n      <td>0</td>\n      <td>0</td>\n      <td>0</td>\n      <td>0</td>\n      <td>0</td>\n      <td>0</td>\n    </tr>\n    <tr>\n      <td>8949</td>\n      <td>0</td>\n      <td>0</td>\n      <td>0</td>\n      <td>0</td>\n      <td>0</td>\n      <td>0</td>\n      <td>0</td>\n      <td>0</td>\n      <td>0</td>\n      <td>0</td>\n      <td>...</td>\n      <td>0</td>\n      <td>0</td>\n      <td>0</td>\n      <td>0</td>\n      <td>0</td>\n      <td>0</td>\n      <td>0</td>\n      <td>0</td>\n      <td>0</td>\n      <td>0</td>\n    </tr>\n    <tr>\n      <td>21557</td>\n      <td>0</td>\n      <td>0</td>\n      <td>0</td>\n      <td>0</td>\n      <td>0</td>\n      <td>0</td>\n      <td>0</td>\n      <td>0</td>\n      <td>0</td>\n      <td>0</td>\n      <td>...</td>\n      <td>0</td>\n      <td>0</td>\n      <td>0</td>\n      <td>0</td>\n      <td>0</td>\n      <td>0</td>\n      <td>0</td>\n      <td>0</td>\n      <td>0</td>\n      <td>0</td>\n    </tr>\n    <tr>\n      <td>109782</td>\n      <td>0</td>\n      <td>0</td>\n      <td>0</td>\n      <td>0</td>\n      <td>0</td>\n      <td>0</td>\n      <td>0</td>\n      <td>0</td>\n      <td>0</td>\n      <td>0</td>\n      <td>...</td>\n      <td>0</td>\n      <td>0</td>\n      <td>0</td>\n      <td>0</td>\n      <td>0</td>\n      <td>0</td>\n      <td>0</td>\n      <td>0</td>\n      <td>0</td>\n      <td>0</td>\n    </tr>\n    <tr>\n      <td>24080</td>\n      <td>0</td>\n      <td>0</td>\n      <td>0</td>\n      <td>0</td>\n      <td>0</td>\n      <td>0</td>\n      <td>0</td>\n      <td>0</td>\n      <td>0</td>\n      <td>0</td>\n      <td>...</td>\n      <td>0</td>\n      <td>0</td>\n      <td>0</td>\n      <td>0</td>\n      <td>0</td>\n      <td>0</td>\n      <td>0</td>\n      <td>0</td>\n      <td>0</td>\n      <td>0</td>\n    </tr>\n    <tr>\n      <td>11720</td>\n      <td>0</td>\n      <td>0</td>\n      <td>0</td>\n      <td>0</td>\n      <td>0</td>\n      <td>0</td>\n      <td>0</td>\n      <td>0</td>\n      <td>0</td>\n      <td>0</td>\n      <td>...</td>\n      <td>0</td>\n      <td>0</td>\n      <td>0</td>\n      <td>0</td>\n      <td>0</td>\n      <td>0</td>\n      <td>0</td>\n      <td>0</td>\n      <td>0</td>\n      <td>0</td>\n    </tr>\n    <tr>\n      <td>21140</td>\n      <td>0</td>\n      <td>0</td>\n      <td>0</td>\n      <td>0</td>\n      <td>0</td>\n      <td>0</td>\n      <td>0</td>\n      <td>0</td>\n      <td>0</td>\n      <td>0</td>\n      <td>...</td>\n      <td>0</td>\n      <td>0</td>\n      <td>0</td>\n      <td>0</td>\n      <td>0</td>\n      <td>0</td>\n      <td>0</td>\n      <td>0</td>\n      <td>0</td>\n      <td>0</td>\n    </tr>\n    <tr>\n      <td>27946</td>\n      <td>0</td>\n      <td>0</td>\n      <td>0</td>\n      <td>0</td>\n      <td>0</td>\n      <td>1</td>\n      <td>0</td>\n      <td>0</td>\n      <td>0</td>\n      <td>0</td>\n      <td>...</td>\n      <td>0</td>\n      <td>0</td>\n      <td>0</td>\n      <td>0</td>\n      <td>0</td>\n      <td>0</td>\n      <td>0</td>\n      <td>0</td>\n      <td>0</td>\n      <td>0</td>\n    </tr>\n    <tr>\n      <td>15378</td>\n      <td>0</td>\n      <td>0</td>\n      <td>0</td>\n      <td>0</td>\n      <td>0</td>\n      <td>0</td>\n      <td>0</td>\n      <td>0</td>\n      <td>0</td>\n      <td>0</td>\n      <td>...</td>\n      <td>0</td>\n      <td>0</td>\n      <td>0</td>\n      <td>0</td>\n      <td>0</td>\n      <td>0</td>\n      <td>0</td>\n      <td>0</td>\n      <td>0</td>\n      <td>0</td>\n    </tr>\n    <tr>\n      <td>8720</td>\n      <td>0</td>\n      <td>0</td>\n      <td>0</td>\n      <td>0</td>\n      <td>0</td>\n      <td>0</td>\n      <td>0</td>\n      <td>0</td>\n      <td>0</td>\n      <td>0</td>\n      <td>...</td>\n      <td>0</td>\n      <td>0</td>\n      <td>0</td>\n      <td>0</td>\n      <td>0</td>\n      <td>0</td>\n      <td>0</td>\n      <td>0</td>\n      <td>0</td>\n      <td>0</td>\n    </tr>\n    <tr>\n      <td>30794</td>\n      <td>0</td>\n      <td>0</td>\n      <td>0</td>\n      <td>0</td>\n      <td>0</td>\n      <td>0</td>\n      <td>0</td>\n      <td>0</td>\n      <td>0</td>\n      <td>0</td>\n      <td>...</td>\n      <td>0</td>\n      <td>0</td>\n      <td>0</td>\n      <td>0</td>\n      <td>0</td>\n      <td>0</td>\n      <td>0</td>\n      <td>0</td>\n      <td>0</td>\n      <td>0</td>\n    </tr>\n    <tr>\n      <td>79301</td>\n      <td>0</td>\n      <td>0</td>\n      <td>0</td>\n      <td>0</td>\n      <td>0</td>\n      <td>0</td>\n      <td>0</td>\n      <td>0</td>\n      <td>0</td>\n      <td>0</td>\n      <td>...</td>\n      <td>0</td>\n      <td>0</td>\n      <td>0</td>\n      <td>0</td>\n      <td>0</td>\n      <td>0</td>\n      <td>0</td>\n      <td>0</td>\n      <td>0</td>\n      <td>0</td>\n    </tr>\n    <tr>\n      <td>8549</td>\n      <td>0</td>\n      <td>0</td>\n      <td>0</td>\n      <td>0</td>\n      <td>0</td>\n      <td>0</td>\n      <td>0</td>\n      <td>0</td>\n      <td>0</td>\n      <td>0</td>\n      <td>...</td>\n      <td>0</td>\n      <td>0</td>\n      <td>0</td>\n      <td>0</td>\n      <td>0</td>\n      <td>0</td>\n      <td>0</td>\n      <td>0</td>\n      <td>0</td>\n      <td>0</td>\n    </tr>\n    <tr>\n      <td>16663</td>\n      <td>0</td>\n      <td>0</td>\n      <td>0</td>\n      <td>0</td>\n      <td>0</td>\n      <td>0</td>\n      <td>0</td>\n      <td>0</td>\n      <td>0</td>\n      <td>0</td>\n      <td>...</td>\n      <td>0</td>\n      <td>0</td>\n      <td>0</td>\n      <td>0</td>\n      <td>0</td>\n      <td>0</td>\n      <td>0</td>\n      <td>0</td>\n      <td>0</td>\n      <td>0</td>\n    </tr>\n    <tr>\n      <td>16741</td>\n      <td>0</td>\n      <td>0</td>\n      <td>0</td>\n      <td>0</td>\n      <td>0</td>\n      <td>0</td>\n      <td>0</td>\n      <td>0</td>\n      <td>0</td>\n      <td>0</td>\n      <td>...</td>\n      <td>0</td>\n      <td>0</td>\n      <td>0</td>\n      <td>0</td>\n      <td>0</td>\n      <td>0</td>\n      <td>0</td>\n      <td>0</td>\n      <td>0</td>\n      <td>0</td>\n    </tr>\n    <tr>\n      <td>43272</td>\n      <td>0</td>\n      <td>0</td>\n      <td>0</td>\n      <td>0</td>\n      <td>0</td>\n      <td>0</td>\n      <td>0</td>\n      <td>0</td>\n      <td>0</td>\n      <td>0</td>\n      <td>...</td>\n      <td>0</td>\n      <td>0</td>\n      <td>0</td>\n      <td>0</td>\n      <td>0</td>\n      <td>0</td>\n      <td>0</td>\n      <td>0</td>\n      <td>0</td>\n      <td>0</td>\n    </tr>\n    <tr>\n      <td>88086</td>\n      <td>0</td>\n      <td>0</td>\n      <td>0</td>\n      <td>0</td>\n      <td>0</td>\n      <td>0</td>\n      <td>0</td>\n      <td>0</td>\n      <td>0</td>\n      <td>0</td>\n      <td>...</td>\n      <td>0</td>\n      <td>0</td>\n      <td>0</td>\n      <td>0</td>\n      <td>0</td>\n      <td>0</td>\n      <td>0</td>\n      <td>0</td>\n      <td>0</td>\n      <td>0</td>\n    </tr>\n    <tr>\n      <td>19335</td>\n      <td>0</td>\n      <td>0</td>\n      <td>0</td>\n      <td>0</td>\n      <td>0</td>\n      <td>0</td>\n      <td>0</td>\n      <td>0</td>\n      <td>0</td>\n      <td>0</td>\n      <td>...</td>\n      <td>0</td>\n      <td>0</td>\n      <td>0</td>\n      <td>0</td>\n      <td>0</td>\n      <td>0</td>\n      <td>0</td>\n      <td>0</td>\n      <td>0</td>\n      <td>0</td>\n    </tr>\n  </tbody>\n</table>\n<p>40 rows × 720 columns</p>\n</div>",
      "text/plain": "        111    126    257    443    445    578    615    629    631    858    \\\nid                                                                             \n220214      0      0      0      0      0      0      0      0      0      0   \n24509       0      0      0      0      0      0      0      0      0      0   \n45580       0      0      0      0      0      0      0      0      0      0   \n150251      0      0      0      0      0      0      0      0      0      0   \n18416       0      0      0      0      0      0      0      0      0      0   \n202951      0      0      0      0      0      0      0      0      0      0   \n8994        0      0      0      0      0      0      0      0      0      0   \n52608       0      0      0      0      0      0      0      0      0      0   \n140135      0      0      0      0      0      0      0      0      0      0   \n24368       0      0      0      0      0      0      0      0      0      0   \n20618       0      0      0      0      0      0      0      0      0      0   \n14622       0      0      0      0      0      0      0      0      0      0   \n22364       0      0      0      0      0      0      0      0      0      0   \n217899      0      0      0      0      0      0      0      0      0      0   \n166506      0      0      0      0      0      0      0      0      0      0   \n199382      0      0      0      0      0      0      0      0      0      0   \n17869       0      0      0      0      0      0      0      0      0      0   \n36994       0      0      0      0      0      0      0      0      0      0   \n15225       0      0      0      0      0      0      0      0      0      0   \n59988       0      0      0      0      0      0      0      0      0      0   \n230735      0      0      0      0      0      0      0      0      0      0   \n88495       0      0      0      0      0      0      0      0      0      0   \n16650       0      0      0      0      0      0      0      0      0      0   \n8949        0      0      0      0      0      0      0      0      0      0   \n21557       0      0      0      0      0      0      0      0      0      0   \n109782      0      0      0      0      0      0      0      0      0      0   \n24080       0      0      0      0      0      0      0      0      0      0   \n11720       0      0      0      0      0      0      0      0      0      0   \n21140       0      0      0      0      0      0      0      0      0      0   \n27946       0      0      0      0      0      1      0      0      0      0   \n15378       0      0      0      0      0      0      0      0      0      0   \n8720        0      0      0      0      0      0      0      0      0      0   \n30794       0      0      0      0      0      0      0      0      0      0   \n79301       0      0      0      0      0      0      0      0      0      0   \n8549        0      0      0      0      0      0      0      0      0      0   \n16663       0      0      0      0      0      0      0      0      0      0   \n16741       0      0      0      0      0      0      0      0      0      0   \n43272       0      0      0      0      0      0      0      0      0      0   \n88086       0      0      0      0      0      0      0      0      0      0   \n19335       0      0      0      0      0      0      0      0      0      0   \n\n        ...  23047  23274  23383  24865  25518  25522  26269  26934  27343  \\\nid      ...                                                                  \n220214  ...      0      0      0      0      0      0      0      0      0   \n24509   ...      0      0      0      0      0      0      0      0      0   \n45580   ...      0      0      0      0      0      0      0      0      0   \n150251  ...      0      0      0      0      0      0      0      0      0   \n18416   ...      0      0      0      0      0      0      0      0      0   \n202951  ...      0      0      0      0      0      0      0      0      0   \n8994    ...      0      0      0      0      0      0      0      0      0   \n52608   ...      0      0      0      0      0      0      0      0      0   \n140135  ...      0      0      0      0      0      0      0      0      0   \n24368   ...      0      0      0      0      0      0      0      0      0   \n20618   ...      0      0      0      0      0      0      0      0      0   \n14622   ...      0      0      0      0      0      0      0      0      0   \n22364   ...      0      0      0      0      0      0      0      0      0   \n217899  ...      0      0      0      0      0      0      0      0      0   \n166506  ...      0      0      0      0      0      0      0      0      0   \n199382  ...      0      0      0      0      0      0      0      0      0   \n17869   ...      0      0      0      0      0      0      0      0      0   \n36994   ...      0      0      0      0      0      0      0      0      0   \n15225   ...      0      0      0      0      0      0      0      0      0   \n59988   ...      0      0      0      0      0      0      0      0      0   \n230735  ...      0      1      0      0      0      0      0      0      0   \n88495   ...      0      0      0      0      0      0      0      0      0   \n16650   ...      0      0      0      0      0      0      0      0      0   \n8949    ...      0      0      0      0      0      0      0      0      0   \n21557   ...      0      0      0      0      0      0      0      0      0   \n109782  ...      0      0      0      0      0      0      0      0      0   \n24080   ...      0      0      0      0      0      0      0      0      0   \n11720   ...      0      0      0      0      0      0      0      0      0   \n21140   ...      0      0      0      0      0      0      0      0      0   \n27946   ...      0      0      0      0      0      0      0      0      0   \n15378   ...      0      0      0      0      0      0      0      0      0   \n8720    ...      0      0      0      0      0      0      0      0      0   \n30794   ...      0      0      0      0      0      0      0      0      0   \n79301   ...      0      0      0      0      0      0      0      0      0   \n8549    ...      0      0      0      0      0      0      0      0      0   \n16663   ...      0      0      0      0      0      0      0      0      0   \n16741   ...      0      0      0      0      0      0      0      0      0   \n43272   ...      0      0      0      0      0      0      0      0      0   \n88086   ...      0      0      0      0      0      0      0      0      0   \n19335   ...      0      0      0      0      0      0      0      0      0   \n\n        27805  \nid             \n220214      0  \n24509       0  \n45580       0  \n150251      0  \n18416       0  \n202951      0  \n8994        0  \n52608       0  \n140135      0  \n24368       0  \n20618       0  \n14622       0  \n22364       0  \n217899      0  \n166506      0  \n199382      0  \n17869       0  \n36994       0  \n15225       0  \n59988       0  \n230735      0  \n88495       0  \n16650       0  \n8949        0  \n21557       0  \n109782      0  \n24080       0  \n11720       0  \n21140       0  \n27946       0  \n15378       0  \n8720        0  \n30794       0  \n79301       0  \n8549        0  \n16663       0  \n16741       0  \n43272       0  \n88086       0  \n19335       0  \n\n[40 rows x 720 columns]"
     },
     "execution_count": 1173,
     "metadata": {},
     "output_type": "execute_result"
    },
    {
     "data": {
      "text/html": "<div>\n<style scoped>\n    .dataframe tbody tr th:only-of-type {\n        vertical-align: middle;\n    }\n\n    .dataframe tbody tr th {\n        vertical-align: top;\n    }\n\n    .dataframe thead th {\n        text-align: right;\n    }\n</style>\n<table border=\"1\" class=\"dataframe\">\n  <thead>\n    <tr style=\"text-align: right;\">\n      <th></th>\n      <th>111</th>\n      <th>126</th>\n      <th>257</th>\n      <th>443</th>\n      <th>445</th>\n      <th>578</th>\n      <th>615</th>\n      <th>629</th>\n      <th>631</th>\n      <th>858</th>\n      <th>...</th>\n      <th>23047</th>\n      <th>23274</th>\n      <th>23383</th>\n      <th>24865</th>\n      <th>25518</th>\n      <th>25522</th>\n      <th>26269</th>\n      <th>26934</th>\n      <th>27343</th>\n      <th>27805</th>\n    </tr>\n    <tr>\n      <th>id</th>\n      <th></th>\n      <th></th>\n      <th></th>\n      <th></th>\n      <th></th>\n      <th></th>\n      <th></th>\n      <th></th>\n      <th></th>\n      <th></th>\n      <th></th>\n      <th></th>\n      <th></th>\n      <th></th>\n      <th></th>\n      <th></th>\n      <th></th>\n      <th></th>\n      <th></th>\n      <th></th>\n      <th></th>\n    </tr>\n  </thead>\n  <tbody>\n    <tr>\n      <td>48921</td>\n      <td>0</td>\n      <td>0</td>\n      <td>0</td>\n      <td>0</td>\n      <td>0</td>\n      <td>0</td>\n      <td>0</td>\n      <td>0</td>\n      <td>0</td>\n      <td>0</td>\n      <td>...</td>\n      <td>0</td>\n      <td>0</td>\n      <td>0</td>\n      <td>0</td>\n      <td>0</td>\n      <td>0</td>\n      <td>0</td>\n      <td>0</td>\n      <td>0</td>\n      <td>0</td>\n    </tr>\n    <tr>\n      <td>18397</td>\n      <td>0</td>\n      <td>0</td>\n      <td>0</td>\n      <td>0</td>\n      <td>0</td>\n      <td>0</td>\n      <td>0</td>\n      <td>0</td>\n      <td>0</td>\n      <td>0</td>\n      <td>...</td>\n      <td>0</td>\n      <td>0</td>\n      <td>0</td>\n      <td>0</td>\n      <td>0</td>\n      <td>0</td>\n      <td>0</td>\n      <td>0</td>\n      <td>0</td>\n      <td>0</td>\n    </tr>\n    <tr>\n      <td>76763</td>\n      <td>0</td>\n      <td>0</td>\n      <td>0</td>\n      <td>0</td>\n      <td>0</td>\n      <td>0</td>\n      <td>0</td>\n      <td>0</td>\n      <td>0</td>\n      <td>0</td>\n      <td>...</td>\n      <td>0</td>\n      <td>0</td>\n      <td>0</td>\n      <td>0</td>\n      <td>0</td>\n      <td>0</td>\n      <td>0</td>\n      <td>0</td>\n      <td>0</td>\n      <td>0</td>\n    </tr>\n    <tr>\n      <td>14710</td>\n      <td>0</td>\n      <td>0</td>\n      <td>0</td>\n      <td>0</td>\n      <td>0</td>\n      <td>0</td>\n      <td>0</td>\n      <td>0</td>\n      <td>0</td>\n      <td>0</td>\n      <td>...</td>\n      <td>0</td>\n      <td>0</td>\n      <td>0</td>\n      <td>0</td>\n      <td>0</td>\n      <td>0</td>\n      <td>0</td>\n      <td>0</td>\n      <td>0</td>\n      <td>0</td>\n    </tr>\n    <tr>\n      <td>17496</td>\n      <td>0</td>\n      <td>0</td>\n      <td>0</td>\n      <td>0</td>\n      <td>0</td>\n      <td>0</td>\n      <td>0</td>\n      <td>0</td>\n      <td>0</td>\n      <td>0</td>\n      <td>...</td>\n      <td>0</td>\n      <td>0</td>\n      <td>0</td>\n      <td>0</td>\n      <td>0</td>\n      <td>0</td>\n      <td>0</td>\n      <td>0</td>\n      <td>0</td>\n      <td>0</td>\n    </tr>\n    <tr>\n      <td>51653</td>\n      <td>0</td>\n      <td>0</td>\n      <td>0</td>\n      <td>0</td>\n      <td>0</td>\n      <td>0</td>\n      <td>0</td>\n      <td>0</td>\n      <td>0</td>\n      <td>0</td>\n      <td>...</td>\n      <td>0</td>\n      <td>0</td>\n      <td>0</td>\n      <td>0</td>\n      <td>0</td>\n      <td>0</td>\n      <td>0</td>\n      <td>0</td>\n      <td>0</td>\n      <td>0</td>\n    </tr>\n    <tr>\n      <td>52501</td>\n      <td>0</td>\n      <td>0</td>\n      <td>0</td>\n      <td>0</td>\n      <td>0</td>\n      <td>0</td>\n      <td>0</td>\n      <td>0</td>\n      <td>0</td>\n      <td>0</td>\n      <td>...</td>\n      <td>0</td>\n      <td>0</td>\n      <td>0</td>\n      <td>0</td>\n      <td>0</td>\n      <td>0</td>\n      <td>0</td>\n      <td>0</td>\n      <td>0</td>\n      <td>0</td>\n    </tr>\n    <tr>\n      <td>223596</td>\n      <td>0</td>\n      <td>0</td>\n      <td>0</td>\n      <td>0</td>\n      <td>0</td>\n      <td>1</td>\n      <td>0</td>\n      <td>0</td>\n      <td>0</td>\n      <td>0</td>\n      <td>...</td>\n      <td>0</td>\n      <td>0</td>\n      <td>0</td>\n      <td>0</td>\n      <td>0</td>\n      <td>0</td>\n      <td>0</td>\n      <td>0</td>\n      <td>0</td>\n      <td>0</td>\n    </tr>\n    <tr>\n      <td>221304</td>\n      <td>0</td>\n      <td>0</td>\n      <td>0</td>\n      <td>0</td>\n      <td>0</td>\n      <td>0</td>\n      <td>0</td>\n      <td>0</td>\n      <td>0</td>\n      <td>0</td>\n      <td>...</td>\n      <td>0</td>\n      <td>0</td>\n      <td>0</td>\n      <td>0</td>\n      <td>0</td>\n      <td>0</td>\n      <td>0</td>\n      <td>0</td>\n      <td>0</td>\n      <td>0</td>\n    </tr>\n    <tr>\n      <td>86813</td>\n      <td>0</td>\n      <td>0</td>\n      <td>0</td>\n      <td>0</td>\n      <td>0</td>\n      <td>0</td>\n      <td>0</td>\n      <td>0</td>\n      <td>0</td>\n      <td>0</td>\n      <td>...</td>\n      <td>0</td>\n      <td>0</td>\n      <td>0</td>\n      <td>0</td>\n      <td>0</td>\n      <td>0</td>\n      <td>0</td>\n      <td>0</td>\n      <td>0</td>\n      <td>0</td>\n    </tr>\n    <tr>\n      <td>62459</td>\n      <td>0</td>\n      <td>0</td>\n      <td>0</td>\n      <td>0</td>\n      <td>0</td>\n      <td>0</td>\n      <td>0</td>\n      <td>0</td>\n      <td>0</td>\n      <td>0</td>\n      <td>...</td>\n      <td>0</td>\n      <td>0</td>\n      <td>0</td>\n      <td>0</td>\n      <td>0</td>\n      <td>0</td>\n      <td>0</td>\n      <td>0</td>\n      <td>0</td>\n      <td>0</td>\n    </tr>\n    <tr>\n      <td>86628</td>\n      <td>0</td>\n      <td>0</td>\n      <td>0</td>\n      <td>0</td>\n      <td>0</td>\n      <td>0</td>\n      <td>0</td>\n      <td>0</td>\n      <td>0</td>\n      <td>0</td>\n      <td>...</td>\n      <td>0</td>\n      <td>0</td>\n      <td>0</td>\n      <td>0</td>\n      <td>0</td>\n      <td>0</td>\n      <td>0</td>\n      <td>0</td>\n      <td>0</td>\n      <td>0</td>\n    </tr>\n    <tr>\n      <td>16966</td>\n      <td>0</td>\n      <td>0</td>\n      <td>0</td>\n      <td>0</td>\n      <td>0</td>\n      <td>0</td>\n      <td>0</td>\n      <td>0</td>\n      <td>0</td>\n      <td>0</td>\n      <td>...</td>\n      <td>0</td>\n      <td>0</td>\n      <td>0</td>\n      <td>0</td>\n      <td>0</td>\n      <td>0</td>\n      <td>0</td>\n      <td>0</td>\n      <td>0</td>\n      <td>0</td>\n    </tr>\n    <tr>\n      <td>8556</td>\n      <td>0</td>\n      <td>0</td>\n      <td>0</td>\n      <td>0</td>\n      <td>0</td>\n      <td>0</td>\n      <td>0</td>\n      <td>0</td>\n      <td>0</td>\n      <td>0</td>\n      <td>...</td>\n      <td>0</td>\n      <td>0</td>\n      <td>0</td>\n      <td>0</td>\n      <td>0</td>\n      <td>0</td>\n      <td>0</td>\n      <td>0</td>\n      <td>0</td>\n      <td>0</td>\n    </tr>\n    <tr>\n      <td>86860</td>\n      <td>0</td>\n      <td>0</td>\n      <td>0</td>\n      <td>0</td>\n      <td>0</td>\n      <td>0</td>\n      <td>0</td>\n      <td>0</td>\n      <td>0</td>\n      <td>0</td>\n      <td>...</td>\n      <td>0</td>\n      <td>0</td>\n      <td>0</td>\n      <td>0</td>\n      <td>0</td>\n      <td>0</td>\n      <td>0</td>\n      <td>0</td>\n      <td>0</td>\n      <td>0</td>\n    </tr>\n    <tr>\n      <td>142220</td>\n      <td>0</td>\n      <td>0</td>\n      <td>0</td>\n      <td>0</td>\n      <td>0</td>\n      <td>0</td>\n      <td>0</td>\n      <td>0</td>\n      <td>0</td>\n      <td>0</td>\n      <td>...</td>\n      <td>0</td>\n      <td>0</td>\n      <td>0</td>\n      <td>0</td>\n      <td>0</td>\n      <td>0</td>\n      <td>0</td>\n      <td>0</td>\n      <td>0</td>\n      <td>0</td>\n    </tr>\n    <tr>\n      <td>14753</td>\n      <td>0</td>\n      <td>0</td>\n      <td>0</td>\n      <td>0</td>\n      <td>0</td>\n      <td>0</td>\n      <td>0</td>\n      <td>0</td>\n      <td>0</td>\n      <td>0</td>\n      <td>...</td>\n      <td>0</td>\n      <td>0</td>\n      <td>0</td>\n      <td>0</td>\n      <td>0</td>\n      <td>0</td>\n      <td>0</td>\n      <td>0</td>\n      <td>0</td>\n      <td>0</td>\n    </tr>\n    <tr>\n      <td>8757</td>\n      <td>0</td>\n      <td>0</td>\n      <td>0</td>\n      <td>0</td>\n      <td>0</td>\n      <td>0</td>\n      <td>0</td>\n      <td>0</td>\n      <td>0</td>\n      <td>0</td>\n      <td>...</td>\n      <td>0</td>\n      <td>0</td>\n      <td>0</td>\n      <td>0</td>\n      <td>0</td>\n      <td>0</td>\n      <td>0</td>\n      <td>0</td>\n      <td>0</td>\n      <td>0</td>\n    </tr>\n    <tr>\n      <td>240522</td>\n      <td>0</td>\n      <td>0</td>\n      <td>0</td>\n      <td>0</td>\n      <td>0</td>\n      <td>0</td>\n      <td>0</td>\n      <td>0</td>\n      <td>0</td>\n      <td>0</td>\n      <td>...</td>\n      <td>0</td>\n      <td>0</td>\n      <td>0</td>\n      <td>0</td>\n      <td>0</td>\n      <td>0</td>\n      <td>0</td>\n      <td>0</td>\n      <td>0</td>\n      <td>0</td>\n    </tr>\n    <tr>\n      <td>222509</td>\n      <td>0</td>\n      <td>0</td>\n      <td>0</td>\n      <td>0</td>\n      <td>0</td>\n      <td>0</td>\n      <td>0</td>\n      <td>0</td>\n      <td>0</td>\n      <td>0</td>\n      <td>...</td>\n      <td>0</td>\n      <td>0</td>\n      <td>0</td>\n      <td>0</td>\n      <td>0</td>\n      <td>0</td>\n      <td>0</td>\n      <td>0</td>\n      <td>0</td>\n      <td>0</td>\n    </tr>\n  </tbody>\n</table>\n<p>20 rows × 720 columns</p>\n</div>",
      "text/plain": "        111    126    257    443    445    578    615    629    631    858    \\\nid                                                                             \n48921       0      0      0      0      0      0      0      0      0      0   \n18397       0      0      0      0      0      0      0      0      0      0   \n76763       0      0      0      0      0      0      0      0      0      0   \n14710       0      0      0      0      0      0      0      0      0      0   \n17496       0      0      0      0      0      0      0      0      0      0   \n51653       0      0      0      0      0      0      0      0      0      0   \n52501       0      0      0      0      0      0      0      0      0      0   \n223596      0      0      0      0      0      1      0      0      0      0   \n221304      0      0      0      0      0      0      0      0      0      0   \n86813       0      0      0      0      0      0      0      0      0      0   \n62459       0      0      0      0      0      0      0      0      0      0   \n86628       0      0      0      0      0      0      0      0      0      0   \n16966       0      0      0      0      0      0      0      0      0      0   \n8556        0      0      0      0      0      0      0      0      0      0   \n86860       0      0      0      0      0      0      0      0      0      0   \n142220      0      0      0      0      0      0      0      0      0      0   \n14753       0      0      0      0      0      0      0      0      0      0   \n8757        0      0      0      0      0      0      0      0      0      0   \n240522      0      0      0      0      0      0      0      0      0      0   \n222509      0      0      0      0      0      0      0      0      0      0   \n\n        ...  23047  23274  23383  24865  25518  25522  26269  26934  27343  \\\nid      ...                                                                  \n48921   ...      0      0      0      0      0      0      0      0      0   \n18397   ...      0      0      0      0      0      0      0      0      0   \n76763   ...      0      0      0      0      0      0      0      0      0   \n14710   ...      0      0      0      0      0      0      0      0      0   \n17496   ...      0      0      0      0      0      0      0      0      0   \n51653   ...      0      0      0      0      0      0      0      0      0   \n52501   ...      0      0      0      0      0      0      0      0      0   \n223596  ...      0      0      0      0      0      0      0      0      0   \n221304  ...      0      0      0      0      0      0      0      0      0   \n86813   ...      0      0      0      0      0      0      0      0      0   \n62459   ...      0      0      0      0      0      0      0      0      0   \n86628   ...      0      0      0      0      0      0      0      0      0   \n16966   ...      0      0      0      0      0      0      0      0      0   \n8556    ...      0      0      0      0      0      0      0      0      0   \n86860   ...      0      0      0      0      0      0      0      0      0   \n142220  ...      0      0      0      0      0      0      0      0      0   \n14753   ...      0      0      0      0      0      0      0      0      0   \n8757    ...      0      0      0      0      0      0      0      0      0   \n240522  ...      0      0      0      0      0      0      0      0      0   \n222509  ...      0      0      0      0      0      0      0      0      0   \n\n        27805  \nid             \n48921       0  \n18397       0  \n76763       0  \n14710       0  \n17496       0  \n51653       0  \n52501       0  \n223596      0  \n221304      0  \n86813       0  \n62459       0  \n86628       0  \n16966       0  \n8556        0  \n86860       0  \n142220      0  \n14753       0  \n8757        0  \n240522      0  \n222509      0  \n\n[20 rows x 720 columns]"
     },
     "execution_count": 1173,
     "metadata": {},
     "output_type": "execute_result"
    }
   ],
   "source": [
    "sample_normal\n",
    "sample_fat"
   ]
  },
  {
   "cell_type": "code",
   "execution_count": 1174,
   "metadata": {},
   "outputs": [
    {
     "data": {
      "text/html": "<div>\n<style scoped>\n    .dataframe tbody tr th:only-of-type {\n        vertical-align: middle;\n    }\n\n    .dataframe tbody tr th {\n        vertical-align: top;\n    }\n\n    .dataframe thead th {\n        text-align: right;\n    }\n</style>\n<table border=\"1\" class=\"dataframe\">\n  <thead>\n    <tr style=\"text-align: right;\">\n      <th></th>\n      <th>jaccard_distance_sum</th>\n    </tr>\n  </thead>\n  <tbody>\n    <tr>\n      <td>8547</td>\n      <td>0.92198</td>\n    </tr>\n    <tr>\n      <td>188706</td>\n      <td>0.93331</td>\n    </tr>\n    <tr>\n      <td>70513</td>\n      <td>0.94038</td>\n    </tr>\n    <tr>\n      <td>141125</td>\n      <td>0.94441</td>\n    </tr>\n    <tr>\n      <td>62256</td>\n      <td>0.94456</td>\n    </tr>\n    <tr>\n      <td>231808</td>\n      <td>0.94471</td>\n    </tr>\n    <tr>\n      <td>90160</td>\n      <td>0.94768</td>\n    </tr>\n    <tr>\n      <td>240773</td>\n      <td>0.94804</td>\n    </tr>\n    <tr>\n      <td>18442</td>\n      <td>0.94897</td>\n    </tr>\n    <tr>\n      <td>14614</td>\n      <td>0.94936</td>\n    </tr>\n  </tbody>\n</table>\n</div>",
      "text/plain": "        jaccard_distance_sum\n8547                 0.92198\n188706               0.93331\n70513                0.94038\n141125               0.94441\n62256                0.94456\n231808               0.94471\n90160                0.94768\n240773               0.94804\n18442                0.94897\n14614                0.94936"
     },
     "execution_count": 1174,
     "metadata": {},
     "output_type": "execute_result"
    }
   ],
   "source": [
    "## Jaccard - fat\n",
    "\n",
    "result_array = cdist(sample_fat, new_recipe_db_wo_userrecipes_fat,'jaccard')\n",
    "result_w_filter_fat = pd.DataFrame(result_array, columns=new_recipe_db_wo_userrecipes_fat.index.values, index=sample_fat.index.values)\n",
    "# result_2\n",
    "\n",
    "result_w_filter_10_fat = pd.DataFrame(result_w_filter_fat.sum(), columns=['jaccard_distance_sum'])\n",
    "result_w_filter_10_fat = result_w_filter_10_fat.sort_values(by='jaccard_distance_sum')\n",
    "result_w_filter_10_fat['jaccard_distance_sum'] = result_w_filter_10_fat['jaccard_distance_sum'].div(20)\n",
    "result_w_filter_10_fat[0:10]\n"
   ]
  },
  {
   "cell_type": "code",
   "execution_count": 1175,
   "metadata": {},
   "outputs": [
    {
     "data": {
      "text/html": "<div>\n<style scoped>\n    .dataframe tbody tr th:only-of-type {\n        vertical-align: middle;\n    }\n\n    .dataframe tbody tr th {\n        vertical-align: top;\n    }\n\n    .dataframe thead th {\n        text-align: right;\n    }\n</style>\n<table border=\"1\" class=\"dataframe\">\n  <thead>\n    <tr style=\"text-align: right;\">\n      <th></th>\n      <th>jaccard_distance_sum</th>\n    </tr>\n  </thead>\n  <tbody>\n    <tr>\n      <td>24682</td>\n      <td>1.86720</td>\n    </tr>\n    <tr>\n      <td>31065</td>\n      <td>1.87740</td>\n    </tr>\n    <tr>\n      <td>86047</td>\n      <td>1.87842</td>\n    </tr>\n    <tr>\n      <td>15196</td>\n      <td>1.88124</td>\n    </tr>\n    <tr>\n      <td>159972</td>\n      <td>1.88440</td>\n    </tr>\n    <tr>\n      <td>11937</td>\n      <td>1.88443</td>\n    </tr>\n    <tr>\n      <td>9005</td>\n      <td>1.88669</td>\n    </tr>\n    <tr>\n      <td>30559</td>\n      <td>1.88670</td>\n    </tr>\n    <tr>\n      <td>20456</td>\n      <td>1.88828</td>\n    </tr>\n    <tr>\n      <td>231396</td>\n      <td>1.88930</td>\n    </tr>\n  </tbody>\n</table>\n</div>",
      "text/plain": "        jaccard_distance_sum\n24682                1.86720\n31065                1.87740\n86047                1.87842\n15196                1.88124\n159972               1.88440\n11937                1.88443\n9005                 1.88669\n30559                1.88670\n20456                1.88828\n231396               1.88930"
     },
     "execution_count": 1175,
     "metadata": {},
     "output_type": "execute_result"
    }
   ],
   "source": [
    "## Jaccard - normal\n",
    "\n",
    "result_array = cdist(sample_normal, new_recipe_db_wo_userrecipes_normal,'jaccard')\n",
    "result_w_filter_normal = pd.DataFrame(result_array, columns=new_recipe_db_wo_userrecipes_normal.index.values, index=sample_normal.index.values)\n",
    "# result_2\n",
    "\n",
    "result_w_filter_10_normal = pd.DataFrame(result_w_filter_normal.sum(), columns=['jaccard_distance_sum'])\n",
    "result_w_filter_10_normal = result_w_filter_10_normal.sort_values(by='jaccard_distance_sum')\n",
    "result_w_filter_10_normal['jaccard_distance_sum'] = result_w_filter_10_normal['jaccard_distance_sum'].div(20)\n",
    "result_w_filter_10_normal[0:10]\n"
   ]
  },
  {
   "cell_type": "code",
   "execution_count": 1176,
   "metadata": {},
   "outputs": [
    {
     "data": {
      "text/plain": "array([ 48921,  18397,  76763,  14710,  17496,  51653,  52501, 223596,\n       221304,  86813,  62459,  86628,  16966,   8556,  86860, 142220,\n        14753,   8757, 240522, 222509])"
     },
     "execution_count": 1176,
     "metadata": {},
     "output_type": "execute_result"
    }
   ],
   "source": [
    "# userrecipes fat\n",
    "sample_fat.index.to_numpy()"
   ]
  },
  {
   "cell_type": "code",
   "execution_count": 1177,
   "metadata": {},
   "outputs": [
    {
     "data": {
      "text/plain": "array([220214,  24509,  45580, 150251,  18416, 202951,   8994,  52608,\n       140135,  24368,  20618,  14622,  22364, 217899, 166506, 199382,\n        17869,  36994,  15225,  59988, 230735,  88495,  16650,   8949,\n        21557, 109782,  24080,  11720,  21140,  27946,  15378,   8720,\n        30794,  79301,   8549,  16663,  16741,  43272,  88086,  19335])"
     },
     "execution_count": 1177,
     "metadata": {},
     "output_type": "execute_result"
    }
   ],
   "source": [
    "# userrecipes normal\n",
    "sample_normal.index.to_numpy()\n"
   ]
  },
  {
   "cell_type": "code",
   "execution_count": 1178,
   "metadata": {},
   "outputs": [
    {
     "data": {
      "text/plain": "array([  8547, 188706,  70513, 141125,  62256, 231808,  90160, 240773,\n        18442,  14614])"
     },
     "execution_count": 1178,
     "metadata": {},
     "output_type": "execute_result"
    }
   ],
   "source": [
    "result_w_filter_10_fat[0:10].index.to_numpy()"
   ]
  },
  {
   "cell_type": "code",
   "execution_count": 1179,
   "metadata": {},
   "outputs": [
    {
     "data": {
      "text/plain": "array([ 24682,  31065,  86047,  15196, 159972,  11937,   9005,  30559,\n        20456, 231396])"
     },
     "execution_count": 1179,
     "metadata": {},
     "output_type": "execute_result"
    }
   ],
   "source": [
    "result_w_filter_10_normal[0:10].index.to_numpy()"
   ]
  },
  {
   "cell_type": "code",
   "execution_count": 1180,
   "metadata": {},
   "outputs": [],
   "source": [
    "result_w_filter_fat_short = result_w_filter_fat.copy()\n",
    "result_w_filter_normal_short = result_w_filter_normal.copy()"
   ]
  },
  {
   "cell_type": "code",
   "execution_count": 1181,
   "metadata": {},
   "outputs": [
    {
     "data": {
      "text/plain": "array(['index', 8547, 188706, 34361, 206120, 220716, 16372, 14525, 235948,\n       11678, 25884], dtype=object)"
     },
     "execution_count": 1181,
     "metadata": {},
     "output_type": "execute_result"
    }
   ],
   "source": [
    "# top 10 fat short\n",
    "fat_short = pd.DataFrame(np.sort(result_w_filter_fat_short.values, axis=0), index=result_w_filter_fat_short.index, columns=result_w_filter_fat_short.columns)\n",
    "\n",
    "new_columns = fat_short.columns[fat_short.loc[fat_short.first_valid_index()].argsort()]\n",
    "result_fat_short = fat_short[new_columns]\n",
    "result_fat_short = result_fat_short.reset_index()\n",
    "result_fat_short = result_fat_short.loc[0].to_frame()\n",
    "result_fat_short[0:11].index.to_numpy()\n"
   ]
  },
  {
   "cell_type": "code",
   "execution_count": 1182,
   "metadata": {},
   "outputs": [
    {
     "data": {
      "text/html": "<div>\n<style scoped>\n    .dataframe tbody tr th:only-of-type {\n        vertical-align: middle;\n    }\n\n    .dataframe tbody tr th {\n        vertical-align: top;\n    }\n\n    .dataframe thead th {\n        text-align: right;\n    }\n</style>\n<table border=\"1\" class=\"dataframe\">\n  <thead>\n    <tr style=\"text-align: right;\">\n      <th></th>\n      <th>8547</th>\n      <th>188706</th>\n      <th>34361</th>\n      <th>206120</th>\n      <th>220716</th>\n      <th>16372</th>\n      <th>14525</th>\n      <th>235948</th>\n      <th>11678</th>\n      <th>25884</th>\n      <th>...</th>\n      <th>24038</th>\n      <th>8933</th>\n      <th>17815</th>\n      <th>8938</th>\n      <th>13952</th>\n      <th>223218</th>\n      <th>232907</th>\n      <th>24160</th>\n      <th>87053</th>\n      <th>193219</th>\n    </tr>\n  </thead>\n  <tbody>\n    <tr>\n      <td>48921</td>\n      <td>0.00000</td>\n      <td>0.25000</td>\n      <td>0.33333</td>\n      <td>0.33333</td>\n      <td>0.33333</td>\n      <td>0.46154</td>\n      <td>0.50000</td>\n      <td>0.50000</td>\n      <td>0.50000</td>\n      <td>0.50000</td>\n      <td>...</td>\n      <td>1.00000</td>\n      <td>1.00000</td>\n      <td>1.00000</td>\n      <td>1.00000</td>\n      <td>1.00000</td>\n      <td>1.00000</td>\n      <td>1.00000</td>\n      <td>1.00000</td>\n      <td>1.00000</td>\n      <td>1.00000</td>\n    </tr>\n    <tr>\n      <td>18397</td>\n      <td>0.90000</td>\n      <td>0.81818</td>\n      <td>0.87500</td>\n      <td>0.87500</td>\n      <td>0.87500</td>\n      <td>0.80000</td>\n      <td>0.91667</td>\n      <td>0.90909</td>\n      <td>0.88889</td>\n      <td>0.90000</td>\n      <td>...</td>\n      <td>1.00000</td>\n      <td>1.00000</td>\n      <td>1.00000</td>\n      <td>1.00000</td>\n      <td>1.00000</td>\n      <td>1.00000</td>\n      <td>1.00000</td>\n      <td>1.00000</td>\n      <td>1.00000</td>\n      <td>1.00000</td>\n    </tr>\n    <tr>\n      <td>76763</td>\n      <td>0.90909</td>\n      <td>0.87500</td>\n      <td>1.00000</td>\n      <td>1.00000</td>\n      <td>1.00000</td>\n      <td>0.88235</td>\n      <td>1.00000</td>\n      <td>1.00000</td>\n      <td>1.00000</td>\n      <td>1.00000</td>\n      <td>...</td>\n      <td>1.00000</td>\n      <td>1.00000</td>\n      <td>1.00000</td>\n      <td>1.00000</td>\n      <td>1.00000</td>\n      <td>1.00000</td>\n      <td>1.00000</td>\n      <td>1.00000</td>\n      <td>1.00000</td>\n      <td>1.00000</td>\n    </tr>\n    <tr>\n      <td>14710</td>\n      <td>0.90909</td>\n      <td>0.90000</td>\n      <td>1.00000</td>\n      <td>1.00000</td>\n      <td>1.00000</td>\n      <td>0.95238</td>\n      <td>1.00000</td>\n      <td>1.00000</td>\n      <td>1.00000</td>\n      <td>1.00000</td>\n      <td>...</td>\n      <td>1.00000</td>\n      <td>1.00000</td>\n      <td>1.00000</td>\n      <td>1.00000</td>\n      <td>1.00000</td>\n      <td>1.00000</td>\n      <td>1.00000</td>\n      <td>1.00000</td>\n      <td>1.00000</td>\n      <td>1.00000</td>\n    </tr>\n    <tr>\n      <td>17496</td>\n      <td>0.92308</td>\n      <td>0.90000</td>\n      <td>1.00000</td>\n      <td>1.00000</td>\n      <td>1.00000</td>\n      <td>1.00000</td>\n      <td>1.00000</td>\n      <td>1.00000</td>\n      <td>1.00000</td>\n      <td>1.00000</td>\n      <td>...</td>\n      <td>1.00000</td>\n      <td>1.00000</td>\n      <td>1.00000</td>\n      <td>1.00000</td>\n      <td>1.00000</td>\n      <td>1.00000</td>\n      <td>1.00000</td>\n      <td>1.00000</td>\n      <td>1.00000</td>\n      <td>1.00000</td>\n    </tr>\n    <tr>\n      <td>51653</td>\n      <td>0.92857</td>\n      <td>0.92308</td>\n      <td>1.00000</td>\n      <td>1.00000</td>\n      <td>1.00000</td>\n      <td>1.00000</td>\n      <td>1.00000</td>\n      <td>1.00000</td>\n      <td>1.00000</td>\n      <td>1.00000</td>\n      <td>...</td>\n      <td>1.00000</td>\n      <td>1.00000</td>\n      <td>1.00000</td>\n      <td>1.00000</td>\n      <td>1.00000</td>\n      <td>1.00000</td>\n      <td>1.00000</td>\n      <td>1.00000</td>\n      <td>1.00000</td>\n      <td>1.00000</td>\n    </tr>\n    <tr>\n      <td>52501</td>\n      <td>0.92857</td>\n      <td>1.00000</td>\n      <td>1.00000</td>\n      <td>1.00000</td>\n      <td>1.00000</td>\n      <td>1.00000</td>\n      <td>1.00000</td>\n      <td>1.00000</td>\n      <td>1.00000</td>\n      <td>1.00000</td>\n      <td>...</td>\n      <td>1.00000</td>\n      <td>1.00000</td>\n      <td>1.00000</td>\n      <td>1.00000</td>\n      <td>1.00000</td>\n      <td>1.00000</td>\n      <td>1.00000</td>\n      <td>1.00000</td>\n      <td>1.00000</td>\n      <td>1.00000</td>\n    </tr>\n    <tr>\n      <td>223596</td>\n      <td>0.94118</td>\n      <td>1.00000</td>\n      <td>1.00000</td>\n      <td>1.00000</td>\n      <td>1.00000</td>\n      <td>1.00000</td>\n      <td>1.00000</td>\n      <td>1.00000</td>\n      <td>1.00000</td>\n      <td>1.00000</td>\n      <td>...</td>\n      <td>1.00000</td>\n      <td>1.00000</td>\n      <td>1.00000</td>\n      <td>1.00000</td>\n      <td>1.00000</td>\n      <td>1.00000</td>\n      <td>1.00000</td>\n      <td>1.00000</td>\n      <td>1.00000</td>\n      <td>1.00000</td>\n    </tr>\n    <tr>\n      <td>221304</td>\n      <td>1.00000</td>\n      <td>1.00000</td>\n      <td>1.00000</td>\n      <td>1.00000</td>\n      <td>1.00000</td>\n      <td>1.00000</td>\n      <td>1.00000</td>\n      <td>1.00000</td>\n      <td>1.00000</td>\n      <td>1.00000</td>\n      <td>...</td>\n      <td>1.00000</td>\n      <td>1.00000</td>\n      <td>1.00000</td>\n      <td>1.00000</td>\n      <td>1.00000</td>\n      <td>1.00000</td>\n      <td>1.00000</td>\n      <td>1.00000</td>\n      <td>1.00000</td>\n      <td>1.00000</td>\n    </tr>\n    <tr>\n      <td>86813</td>\n      <td>1.00000</td>\n      <td>1.00000</td>\n      <td>1.00000</td>\n      <td>1.00000</td>\n      <td>1.00000</td>\n      <td>1.00000</td>\n      <td>1.00000</td>\n      <td>1.00000</td>\n      <td>1.00000</td>\n      <td>1.00000</td>\n      <td>...</td>\n      <td>1.00000</td>\n      <td>1.00000</td>\n      <td>1.00000</td>\n      <td>1.00000</td>\n      <td>1.00000</td>\n      <td>1.00000</td>\n      <td>1.00000</td>\n      <td>1.00000</td>\n      <td>1.00000</td>\n      <td>1.00000</td>\n    </tr>\n    <tr>\n      <td>62459</td>\n      <td>1.00000</td>\n      <td>1.00000</td>\n      <td>1.00000</td>\n      <td>1.00000</td>\n      <td>1.00000</td>\n      <td>1.00000</td>\n      <td>1.00000</td>\n      <td>1.00000</td>\n      <td>1.00000</td>\n      <td>1.00000</td>\n      <td>...</td>\n      <td>1.00000</td>\n      <td>1.00000</td>\n      <td>1.00000</td>\n      <td>1.00000</td>\n      <td>1.00000</td>\n      <td>1.00000</td>\n      <td>1.00000</td>\n      <td>1.00000</td>\n      <td>1.00000</td>\n      <td>1.00000</td>\n    </tr>\n    <tr>\n      <td>86628</td>\n      <td>1.00000</td>\n      <td>1.00000</td>\n      <td>1.00000</td>\n      <td>1.00000</td>\n      <td>1.00000</td>\n      <td>1.00000</td>\n      <td>1.00000</td>\n      <td>1.00000</td>\n      <td>1.00000</td>\n      <td>1.00000</td>\n      <td>...</td>\n      <td>1.00000</td>\n      <td>1.00000</td>\n      <td>1.00000</td>\n      <td>1.00000</td>\n      <td>1.00000</td>\n      <td>1.00000</td>\n      <td>1.00000</td>\n      <td>1.00000</td>\n      <td>1.00000</td>\n      <td>1.00000</td>\n    </tr>\n    <tr>\n      <td>16966</td>\n      <td>1.00000</td>\n      <td>1.00000</td>\n      <td>1.00000</td>\n      <td>1.00000</td>\n      <td>1.00000</td>\n      <td>1.00000</td>\n      <td>1.00000</td>\n      <td>1.00000</td>\n      <td>1.00000</td>\n      <td>1.00000</td>\n      <td>...</td>\n      <td>1.00000</td>\n      <td>1.00000</td>\n      <td>1.00000</td>\n      <td>1.00000</td>\n      <td>1.00000</td>\n      <td>1.00000</td>\n      <td>1.00000</td>\n      <td>1.00000</td>\n      <td>1.00000</td>\n      <td>1.00000</td>\n    </tr>\n    <tr>\n      <td>8556</td>\n      <td>1.00000</td>\n      <td>1.00000</td>\n      <td>1.00000</td>\n      <td>1.00000</td>\n      <td>1.00000</td>\n      <td>1.00000</td>\n      <td>1.00000</td>\n      <td>1.00000</td>\n      <td>1.00000</td>\n      <td>1.00000</td>\n      <td>...</td>\n      <td>1.00000</td>\n      <td>1.00000</td>\n      <td>1.00000</td>\n      <td>1.00000</td>\n      <td>1.00000</td>\n      <td>1.00000</td>\n      <td>1.00000</td>\n      <td>1.00000</td>\n      <td>1.00000</td>\n      <td>1.00000</td>\n    </tr>\n    <tr>\n      <td>86860</td>\n      <td>1.00000</td>\n      <td>1.00000</td>\n      <td>1.00000</td>\n      <td>1.00000</td>\n      <td>1.00000</td>\n      <td>1.00000</td>\n      <td>1.00000</td>\n      <td>1.00000</td>\n      <td>1.00000</td>\n      <td>1.00000</td>\n      <td>...</td>\n      <td>1.00000</td>\n      <td>1.00000</td>\n      <td>1.00000</td>\n      <td>1.00000</td>\n      <td>1.00000</td>\n      <td>1.00000</td>\n      <td>1.00000</td>\n      <td>1.00000</td>\n      <td>1.00000</td>\n      <td>1.00000</td>\n    </tr>\n    <tr>\n      <td>142220</td>\n      <td>1.00000</td>\n      <td>1.00000</td>\n      <td>1.00000</td>\n      <td>1.00000</td>\n      <td>1.00000</td>\n      <td>1.00000</td>\n      <td>1.00000</td>\n      <td>1.00000</td>\n      <td>1.00000</td>\n      <td>1.00000</td>\n      <td>...</td>\n      <td>1.00000</td>\n      <td>1.00000</td>\n      <td>1.00000</td>\n      <td>1.00000</td>\n      <td>1.00000</td>\n      <td>1.00000</td>\n      <td>1.00000</td>\n      <td>1.00000</td>\n      <td>1.00000</td>\n      <td>1.00000</td>\n    </tr>\n    <tr>\n      <td>14753</td>\n      <td>1.00000</td>\n      <td>1.00000</td>\n      <td>1.00000</td>\n      <td>1.00000</td>\n      <td>1.00000</td>\n      <td>1.00000</td>\n      <td>1.00000</td>\n      <td>1.00000</td>\n      <td>1.00000</td>\n      <td>1.00000</td>\n      <td>...</td>\n      <td>1.00000</td>\n      <td>1.00000</td>\n      <td>1.00000</td>\n      <td>1.00000</td>\n      <td>1.00000</td>\n      <td>1.00000</td>\n      <td>1.00000</td>\n      <td>1.00000</td>\n      <td>1.00000</td>\n      <td>1.00000</td>\n    </tr>\n    <tr>\n      <td>8757</td>\n      <td>1.00000</td>\n      <td>1.00000</td>\n      <td>1.00000</td>\n      <td>1.00000</td>\n      <td>1.00000</td>\n      <td>1.00000</td>\n      <td>1.00000</td>\n      <td>1.00000</td>\n      <td>1.00000</td>\n      <td>1.00000</td>\n      <td>...</td>\n      <td>1.00000</td>\n      <td>1.00000</td>\n      <td>1.00000</td>\n      <td>1.00000</td>\n      <td>1.00000</td>\n      <td>1.00000</td>\n      <td>1.00000</td>\n      <td>1.00000</td>\n      <td>1.00000</td>\n      <td>1.00000</td>\n    </tr>\n    <tr>\n      <td>240522</td>\n      <td>1.00000</td>\n      <td>1.00000</td>\n      <td>1.00000</td>\n      <td>1.00000</td>\n      <td>1.00000</td>\n      <td>1.00000</td>\n      <td>1.00000</td>\n      <td>1.00000</td>\n      <td>1.00000</td>\n      <td>1.00000</td>\n      <td>...</td>\n      <td>1.00000</td>\n      <td>1.00000</td>\n      <td>1.00000</td>\n      <td>1.00000</td>\n      <td>1.00000</td>\n      <td>1.00000</td>\n      <td>1.00000</td>\n      <td>1.00000</td>\n      <td>1.00000</td>\n      <td>1.00000</td>\n    </tr>\n    <tr>\n      <td>222509</td>\n      <td>1.00000</td>\n      <td>1.00000</td>\n      <td>1.00000</td>\n      <td>1.00000</td>\n      <td>1.00000</td>\n      <td>1.00000</td>\n      <td>1.00000</td>\n      <td>1.00000</td>\n      <td>1.00000</td>\n      <td>1.00000</td>\n      <td>...</td>\n      <td>1.00000</td>\n      <td>1.00000</td>\n      <td>1.00000</td>\n      <td>1.00000</td>\n      <td>1.00000</td>\n      <td>1.00000</td>\n      <td>1.00000</td>\n      <td>1.00000</td>\n      <td>1.00000</td>\n      <td>1.00000</td>\n    </tr>\n  </tbody>\n</table>\n<p>20 rows × 3749 columns</p>\n</div>",
      "text/plain": "        8547    188706  34361   206120  220716  16372   14525   235948  \\\n48921  0.00000 0.25000 0.33333 0.33333 0.33333 0.46154 0.50000 0.50000   \n18397  0.90000 0.81818 0.87500 0.87500 0.87500 0.80000 0.91667 0.90909   \n76763  0.90909 0.87500 1.00000 1.00000 1.00000 0.88235 1.00000 1.00000   \n14710  0.90909 0.90000 1.00000 1.00000 1.00000 0.95238 1.00000 1.00000   \n17496  0.92308 0.90000 1.00000 1.00000 1.00000 1.00000 1.00000 1.00000   \n51653  0.92857 0.92308 1.00000 1.00000 1.00000 1.00000 1.00000 1.00000   \n52501  0.92857 1.00000 1.00000 1.00000 1.00000 1.00000 1.00000 1.00000   \n223596 0.94118 1.00000 1.00000 1.00000 1.00000 1.00000 1.00000 1.00000   \n221304 1.00000 1.00000 1.00000 1.00000 1.00000 1.00000 1.00000 1.00000   \n86813  1.00000 1.00000 1.00000 1.00000 1.00000 1.00000 1.00000 1.00000   \n62459  1.00000 1.00000 1.00000 1.00000 1.00000 1.00000 1.00000 1.00000   \n86628  1.00000 1.00000 1.00000 1.00000 1.00000 1.00000 1.00000 1.00000   \n16966  1.00000 1.00000 1.00000 1.00000 1.00000 1.00000 1.00000 1.00000   \n8556   1.00000 1.00000 1.00000 1.00000 1.00000 1.00000 1.00000 1.00000   \n86860  1.00000 1.00000 1.00000 1.00000 1.00000 1.00000 1.00000 1.00000   \n142220 1.00000 1.00000 1.00000 1.00000 1.00000 1.00000 1.00000 1.00000   \n14753  1.00000 1.00000 1.00000 1.00000 1.00000 1.00000 1.00000 1.00000   \n8757   1.00000 1.00000 1.00000 1.00000 1.00000 1.00000 1.00000 1.00000   \n240522 1.00000 1.00000 1.00000 1.00000 1.00000 1.00000 1.00000 1.00000   \n222509 1.00000 1.00000 1.00000 1.00000 1.00000 1.00000 1.00000 1.00000   \n\n        11678   25884   ...  24038   8933    17815   8938    13952   223218  \\\n48921  0.50000 0.50000  ... 1.00000 1.00000 1.00000 1.00000 1.00000 1.00000   \n18397  0.88889 0.90000  ... 1.00000 1.00000 1.00000 1.00000 1.00000 1.00000   \n76763  1.00000 1.00000  ... 1.00000 1.00000 1.00000 1.00000 1.00000 1.00000   \n14710  1.00000 1.00000  ... 1.00000 1.00000 1.00000 1.00000 1.00000 1.00000   \n17496  1.00000 1.00000  ... 1.00000 1.00000 1.00000 1.00000 1.00000 1.00000   \n51653  1.00000 1.00000  ... 1.00000 1.00000 1.00000 1.00000 1.00000 1.00000   \n52501  1.00000 1.00000  ... 1.00000 1.00000 1.00000 1.00000 1.00000 1.00000   \n223596 1.00000 1.00000  ... 1.00000 1.00000 1.00000 1.00000 1.00000 1.00000   \n221304 1.00000 1.00000  ... 1.00000 1.00000 1.00000 1.00000 1.00000 1.00000   \n86813  1.00000 1.00000  ... 1.00000 1.00000 1.00000 1.00000 1.00000 1.00000   \n62459  1.00000 1.00000  ... 1.00000 1.00000 1.00000 1.00000 1.00000 1.00000   \n86628  1.00000 1.00000  ... 1.00000 1.00000 1.00000 1.00000 1.00000 1.00000   \n16966  1.00000 1.00000  ... 1.00000 1.00000 1.00000 1.00000 1.00000 1.00000   \n8556   1.00000 1.00000  ... 1.00000 1.00000 1.00000 1.00000 1.00000 1.00000   \n86860  1.00000 1.00000  ... 1.00000 1.00000 1.00000 1.00000 1.00000 1.00000   \n142220 1.00000 1.00000  ... 1.00000 1.00000 1.00000 1.00000 1.00000 1.00000   \n14753  1.00000 1.00000  ... 1.00000 1.00000 1.00000 1.00000 1.00000 1.00000   \n8757   1.00000 1.00000  ... 1.00000 1.00000 1.00000 1.00000 1.00000 1.00000   \n240522 1.00000 1.00000  ... 1.00000 1.00000 1.00000 1.00000 1.00000 1.00000   \n222509 1.00000 1.00000  ... 1.00000 1.00000 1.00000 1.00000 1.00000 1.00000   \n\n        232907  24160   87053   193219  \n48921  1.00000 1.00000 1.00000 1.00000  \n18397  1.00000 1.00000 1.00000 1.00000  \n76763  1.00000 1.00000 1.00000 1.00000  \n14710  1.00000 1.00000 1.00000 1.00000  \n17496  1.00000 1.00000 1.00000 1.00000  \n51653  1.00000 1.00000 1.00000 1.00000  \n52501  1.00000 1.00000 1.00000 1.00000  \n223596 1.00000 1.00000 1.00000 1.00000  \n221304 1.00000 1.00000 1.00000 1.00000  \n86813  1.00000 1.00000 1.00000 1.00000  \n62459  1.00000 1.00000 1.00000 1.00000  \n86628  1.00000 1.00000 1.00000 1.00000  \n16966  1.00000 1.00000 1.00000 1.00000  \n8556   1.00000 1.00000 1.00000 1.00000  \n86860  1.00000 1.00000 1.00000 1.00000  \n142220 1.00000 1.00000 1.00000 1.00000  \n14753  1.00000 1.00000 1.00000 1.00000  \n8757   1.00000 1.00000 1.00000 1.00000  \n240522 1.00000 1.00000 1.00000 1.00000  \n222509 1.00000 1.00000 1.00000 1.00000  \n\n[20 rows x 3749 columns]"
     },
     "execution_count": 1182,
     "metadata": {},
     "output_type": "execute_result"
    }
   ],
   "source": [
    "fat_short[new_columns]"
   ]
  },
  {
   "cell_type": "code",
   "execution_count": 1183,
   "metadata": {},
   "outputs": [
    {
     "data": {
      "text/html": "<div>\n<style scoped>\n    .dataframe tbody tr th:only-of-type {\n        vertical-align: middle;\n    }\n\n    .dataframe tbody tr th {\n        vertical-align: top;\n    }\n\n    .dataframe thead th {\n        text-align: right;\n    }\n</style>\n<table border=\"1\" class=\"dataframe\">\n  <thead>\n    <tr style=\"text-align: right;\">\n      <th></th>\n      <th>111</th>\n      <th>126</th>\n      <th>257</th>\n      <th>443</th>\n      <th>445</th>\n      <th>578</th>\n      <th>615</th>\n      <th>629</th>\n      <th>631</th>\n      <th>858</th>\n      <th>...</th>\n      <th>23047</th>\n      <th>23274</th>\n      <th>23383</th>\n      <th>24865</th>\n      <th>25518</th>\n      <th>25522</th>\n      <th>26269</th>\n      <th>26934</th>\n      <th>27343</th>\n      <th>27805</th>\n    </tr>\n    <tr>\n      <th>id</th>\n      <th></th>\n      <th></th>\n      <th></th>\n      <th></th>\n      <th></th>\n      <th></th>\n      <th></th>\n      <th></th>\n      <th></th>\n      <th></th>\n      <th></th>\n      <th></th>\n      <th></th>\n      <th></th>\n      <th></th>\n      <th></th>\n      <th></th>\n      <th></th>\n      <th></th>\n      <th></th>\n      <th></th>\n    </tr>\n  </thead>\n  <tbody>\n    <tr>\n      <td>48921</td>\n      <td>0</td>\n      <td>0</td>\n      <td>0</td>\n      <td>0</td>\n      <td>0</td>\n      <td>0</td>\n      <td>0</td>\n      <td>0</td>\n      <td>0</td>\n      <td>0</td>\n      <td>...</td>\n      <td>0</td>\n      <td>0</td>\n      <td>0</td>\n      <td>0</td>\n      <td>0</td>\n      <td>0</td>\n      <td>0</td>\n      <td>0</td>\n      <td>0</td>\n      <td>0</td>\n    </tr>\n    <tr>\n      <td>18397</td>\n      <td>0</td>\n      <td>0</td>\n      <td>0</td>\n      <td>0</td>\n      <td>0</td>\n      <td>0</td>\n      <td>0</td>\n      <td>0</td>\n      <td>0</td>\n      <td>0</td>\n      <td>...</td>\n      <td>0</td>\n      <td>0</td>\n      <td>0</td>\n      <td>0</td>\n      <td>0</td>\n      <td>0</td>\n      <td>0</td>\n      <td>0</td>\n      <td>0</td>\n      <td>0</td>\n    </tr>\n    <tr>\n      <td>76763</td>\n      <td>0</td>\n      <td>0</td>\n      <td>0</td>\n      <td>0</td>\n      <td>0</td>\n      <td>0</td>\n      <td>0</td>\n      <td>0</td>\n      <td>0</td>\n      <td>0</td>\n      <td>...</td>\n      <td>0</td>\n      <td>0</td>\n      <td>0</td>\n      <td>0</td>\n      <td>0</td>\n      <td>0</td>\n      <td>0</td>\n      <td>0</td>\n      <td>0</td>\n      <td>0</td>\n    </tr>\n    <tr>\n      <td>14710</td>\n      <td>0</td>\n      <td>0</td>\n      <td>0</td>\n      <td>0</td>\n      <td>0</td>\n      <td>0</td>\n      <td>0</td>\n      <td>0</td>\n      <td>0</td>\n      <td>0</td>\n      <td>...</td>\n      <td>0</td>\n      <td>0</td>\n      <td>0</td>\n      <td>0</td>\n      <td>0</td>\n      <td>0</td>\n      <td>0</td>\n      <td>0</td>\n      <td>0</td>\n      <td>0</td>\n    </tr>\n    <tr>\n      <td>17496</td>\n      <td>0</td>\n      <td>0</td>\n      <td>0</td>\n      <td>0</td>\n      <td>0</td>\n      <td>0</td>\n      <td>0</td>\n      <td>0</td>\n      <td>0</td>\n      <td>0</td>\n      <td>...</td>\n      <td>0</td>\n      <td>0</td>\n      <td>0</td>\n      <td>0</td>\n      <td>0</td>\n      <td>0</td>\n      <td>0</td>\n      <td>0</td>\n      <td>0</td>\n      <td>0</td>\n    </tr>\n    <tr>\n      <td>51653</td>\n      <td>0</td>\n      <td>0</td>\n      <td>0</td>\n      <td>0</td>\n      <td>0</td>\n      <td>0</td>\n      <td>0</td>\n      <td>0</td>\n      <td>0</td>\n      <td>0</td>\n      <td>...</td>\n      <td>0</td>\n      <td>0</td>\n      <td>0</td>\n      <td>0</td>\n      <td>0</td>\n      <td>0</td>\n      <td>0</td>\n      <td>0</td>\n      <td>0</td>\n      <td>0</td>\n    </tr>\n    <tr>\n      <td>52501</td>\n      <td>0</td>\n      <td>0</td>\n      <td>0</td>\n      <td>0</td>\n      <td>0</td>\n      <td>0</td>\n      <td>0</td>\n      <td>0</td>\n      <td>0</td>\n      <td>0</td>\n      <td>...</td>\n      <td>0</td>\n      <td>0</td>\n      <td>0</td>\n      <td>0</td>\n      <td>0</td>\n      <td>0</td>\n      <td>0</td>\n      <td>0</td>\n      <td>0</td>\n      <td>0</td>\n    </tr>\n    <tr>\n      <td>223596</td>\n      <td>0</td>\n      <td>0</td>\n      <td>0</td>\n      <td>0</td>\n      <td>0</td>\n      <td>1</td>\n      <td>0</td>\n      <td>0</td>\n      <td>0</td>\n      <td>0</td>\n      <td>...</td>\n      <td>0</td>\n      <td>0</td>\n      <td>0</td>\n      <td>0</td>\n      <td>0</td>\n      <td>0</td>\n      <td>0</td>\n      <td>0</td>\n      <td>0</td>\n      <td>0</td>\n    </tr>\n    <tr>\n      <td>221304</td>\n      <td>0</td>\n      <td>0</td>\n      <td>0</td>\n      <td>0</td>\n      <td>0</td>\n      <td>0</td>\n      <td>0</td>\n      <td>0</td>\n      <td>0</td>\n      <td>0</td>\n      <td>...</td>\n      <td>0</td>\n      <td>0</td>\n      <td>0</td>\n      <td>0</td>\n      <td>0</td>\n      <td>0</td>\n      <td>0</td>\n      <td>0</td>\n      <td>0</td>\n      <td>0</td>\n    </tr>\n    <tr>\n      <td>86813</td>\n      <td>0</td>\n      <td>0</td>\n      <td>0</td>\n      <td>0</td>\n      <td>0</td>\n      <td>0</td>\n      <td>0</td>\n      <td>0</td>\n      <td>0</td>\n      <td>0</td>\n      <td>...</td>\n      <td>0</td>\n      <td>0</td>\n      <td>0</td>\n      <td>0</td>\n      <td>0</td>\n      <td>0</td>\n      <td>0</td>\n      <td>0</td>\n      <td>0</td>\n      <td>0</td>\n    </tr>\n    <tr>\n      <td>62459</td>\n      <td>0</td>\n      <td>0</td>\n      <td>0</td>\n      <td>0</td>\n      <td>0</td>\n      <td>0</td>\n      <td>0</td>\n      <td>0</td>\n      <td>0</td>\n      <td>0</td>\n      <td>...</td>\n      <td>0</td>\n      <td>0</td>\n      <td>0</td>\n      <td>0</td>\n      <td>0</td>\n      <td>0</td>\n      <td>0</td>\n      <td>0</td>\n      <td>0</td>\n      <td>0</td>\n    </tr>\n    <tr>\n      <td>86628</td>\n      <td>0</td>\n      <td>0</td>\n      <td>0</td>\n      <td>0</td>\n      <td>0</td>\n      <td>0</td>\n      <td>0</td>\n      <td>0</td>\n      <td>0</td>\n      <td>0</td>\n      <td>...</td>\n      <td>0</td>\n      <td>0</td>\n      <td>0</td>\n      <td>0</td>\n      <td>0</td>\n      <td>0</td>\n      <td>0</td>\n      <td>0</td>\n      <td>0</td>\n      <td>0</td>\n    </tr>\n    <tr>\n      <td>16966</td>\n      <td>0</td>\n      <td>0</td>\n      <td>0</td>\n      <td>0</td>\n      <td>0</td>\n      <td>0</td>\n      <td>0</td>\n      <td>0</td>\n      <td>0</td>\n      <td>0</td>\n      <td>...</td>\n      <td>0</td>\n      <td>0</td>\n      <td>0</td>\n      <td>0</td>\n      <td>0</td>\n      <td>0</td>\n      <td>0</td>\n      <td>0</td>\n      <td>0</td>\n      <td>0</td>\n    </tr>\n    <tr>\n      <td>8556</td>\n      <td>0</td>\n      <td>0</td>\n      <td>0</td>\n      <td>0</td>\n      <td>0</td>\n      <td>0</td>\n      <td>0</td>\n      <td>0</td>\n      <td>0</td>\n      <td>0</td>\n      <td>...</td>\n      <td>0</td>\n      <td>0</td>\n      <td>0</td>\n      <td>0</td>\n      <td>0</td>\n      <td>0</td>\n      <td>0</td>\n      <td>0</td>\n      <td>0</td>\n      <td>0</td>\n    </tr>\n    <tr>\n      <td>86860</td>\n      <td>0</td>\n      <td>0</td>\n      <td>0</td>\n      <td>0</td>\n      <td>0</td>\n      <td>0</td>\n      <td>0</td>\n      <td>0</td>\n      <td>0</td>\n      <td>0</td>\n      <td>...</td>\n      <td>0</td>\n      <td>0</td>\n      <td>0</td>\n      <td>0</td>\n      <td>0</td>\n      <td>0</td>\n      <td>0</td>\n      <td>0</td>\n      <td>0</td>\n      <td>0</td>\n    </tr>\n    <tr>\n      <td>142220</td>\n      <td>0</td>\n      <td>0</td>\n      <td>0</td>\n      <td>0</td>\n      <td>0</td>\n      <td>0</td>\n      <td>0</td>\n      <td>0</td>\n      <td>0</td>\n      <td>0</td>\n      <td>...</td>\n      <td>0</td>\n      <td>0</td>\n      <td>0</td>\n      <td>0</td>\n      <td>0</td>\n      <td>0</td>\n      <td>0</td>\n      <td>0</td>\n      <td>0</td>\n      <td>0</td>\n    </tr>\n    <tr>\n      <td>14753</td>\n      <td>0</td>\n      <td>0</td>\n      <td>0</td>\n      <td>0</td>\n      <td>0</td>\n      <td>0</td>\n      <td>0</td>\n      <td>0</td>\n      <td>0</td>\n      <td>0</td>\n      <td>...</td>\n      <td>0</td>\n      <td>0</td>\n      <td>0</td>\n      <td>0</td>\n      <td>0</td>\n      <td>0</td>\n      <td>0</td>\n      <td>0</td>\n      <td>0</td>\n      <td>0</td>\n    </tr>\n    <tr>\n      <td>8757</td>\n      <td>0</td>\n      <td>0</td>\n      <td>0</td>\n      <td>0</td>\n      <td>0</td>\n      <td>0</td>\n      <td>0</td>\n      <td>0</td>\n      <td>0</td>\n      <td>0</td>\n      <td>...</td>\n      <td>0</td>\n      <td>0</td>\n      <td>0</td>\n      <td>0</td>\n      <td>0</td>\n      <td>0</td>\n      <td>0</td>\n      <td>0</td>\n      <td>0</td>\n      <td>0</td>\n    </tr>\n    <tr>\n      <td>240522</td>\n      <td>0</td>\n      <td>0</td>\n      <td>0</td>\n      <td>0</td>\n      <td>0</td>\n      <td>0</td>\n      <td>0</td>\n      <td>0</td>\n      <td>0</td>\n      <td>0</td>\n      <td>...</td>\n      <td>0</td>\n      <td>0</td>\n      <td>0</td>\n      <td>0</td>\n      <td>0</td>\n      <td>0</td>\n      <td>0</td>\n      <td>0</td>\n      <td>0</td>\n      <td>0</td>\n    </tr>\n    <tr>\n      <td>222509</td>\n      <td>0</td>\n      <td>0</td>\n      <td>0</td>\n      <td>0</td>\n      <td>0</td>\n      <td>0</td>\n      <td>0</td>\n      <td>0</td>\n      <td>0</td>\n      <td>0</td>\n      <td>...</td>\n      <td>0</td>\n      <td>0</td>\n      <td>0</td>\n      <td>0</td>\n      <td>0</td>\n      <td>0</td>\n      <td>0</td>\n      <td>0</td>\n      <td>0</td>\n      <td>0</td>\n    </tr>\n  </tbody>\n</table>\n<p>20 rows × 720 columns</p>\n</div>",
      "text/plain": "        111    126    257    443    445    578    615    629    631    858    \\\nid                                                                             \n48921       0      0      0      0      0      0      0      0      0      0   \n18397       0      0      0      0      0      0      0      0      0      0   \n76763       0      0      0      0      0      0      0      0      0      0   \n14710       0      0      0      0      0      0      0      0      0      0   \n17496       0      0      0      0      0      0      0      0      0      0   \n51653       0      0      0      0      0      0      0      0      0      0   \n52501       0      0      0      0      0      0      0      0      0      0   \n223596      0      0      0      0      0      1      0      0      0      0   \n221304      0      0      0      0      0      0      0      0      0      0   \n86813       0      0      0      0      0      0      0      0      0      0   \n62459       0      0      0      0      0      0      0      0      0      0   \n86628       0      0      0      0      0      0      0      0      0      0   \n16966       0      0      0      0      0      0      0      0      0      0   \n8556        0      0      0      0      0      0      0      0      0      0   \n86860       0      0      0      0      0      0      0      0      0      0   \n142220      0      0      0      0      0      0      0      0      0      0   \n14753       0      0      0      0      0      0      0      0      0      0   \n8757        0      0      0      0      0      0      0      0      0      0   \n240522      0      0      0      0      0      0      0      0      0      0   \n222509      0      0      0      0      0      0      0      0      0      0   \n\n        ...  23047  23274  23383  24865  25518  25522  26269  26934  27343  \\\nid      ...                                                                  \n48921   ...      0      0      0      0      0      0      0      0      0   \n18397   ...      0      0      0      0      0      0      0      0      0   \n76763   ...      0      0      0      0      0      0      0      0      0   \n14710   ...      0      0      0      0      0      0      0      0      0   \n17496   ...      0      0      0      0      0      0      0      0      0   \n51653   ...      0      0      0      0      0      0      0      0      0   \n52501   ...      0      0      0      0      0      0      0      0      0   \n223596  ...      0      0      0      0      0      0      0      0      0   \n221304  ...      0      0      0      0      0      0      0      0      0   \n86813   ...      0      0      0      0      0      0      0      0      0   \n62459   ...      0      0      0      0      0      0      0      0      0   \n86628   ...      0      0      0      0      0      0      0      0      0   \n16966   ...      0      0      0      0      0      0      0      0      0   \n8556    ...      0      0      0      0      0      0      0      0      0   \n86860   ...      0      0      0      0      0      0      0      0      0   \n142220  ...      0      0      0      0      0      0      0      0      0   \n14753   ...      0      0      0      0      0      0      0      0      0   \n8757    ...      0      0      0      0      0      0      0      0      0   \n240522  ...      0      0      0      0      0      0      0      0      0   \n222509  ...      0      0      0      0      0      0      0      0      0   \n\n        27805  \nid             \n48921       0  \n18397       0  \n76763       0  \n14710       0  \n17496       0  \n51653       0  \n52501       0  \n223596      0  \n221304      0  \n86813       0  \n62459       0  \n86628       0  \n16966       0  \n8556        0  \n86860       0  \n142220      0  \n14753       0  \n8757        0  \n240522      0  \n222509      0  \n\n[20 rows x 720 columns]"
     },
     "execution_count": 1183,
     "metadata": {},
     "output_type": "execute_result"
    }
   ],
   "source": [
    "sample_fat"
   ]
  },
  {
   "cell_type": "code",
   "execution_count": 1184,
   "metadata": {},
   "outputs": [
    {
     "data": {
      "text/plain": "array(['index', 15502, 72007, 45361, 14773, 218070, 19400, 139948, 82693,\n       178809, 86047], dtype=object)"
     },
     "execution_count": 1184,
     "metadata": {},
     "output_type": "execute_result"
    }
   ],
   "source": [
    "# top 10 normal short\n",
    "normal_short = pd.DataFrame(np.sort(result_w_filter_normal_short.values, axis=0), index=result_w_filter_normal_short.index, columns=result_w_filter_normal_short.columns)\n",
    "\n",
    "new_columns = normal_short.columns[normal_short.loc[normal_short.first_valid_index()].argsort()]\n",
    "result_normal_short = normal_short[new_columns]\n",
    "result_normal_short = result_normal_short.reset_index()\n",
    "result_normal_short = result_normal_short.loc[0].to_frame()\n",
    "result_normal_short[0:11].index.to_numpy()\n"
   ]
  },
  {
   "cell_type": "code",
   "execution_count": 1185,
   "metadata": {},
   "outputs": [
    {
     "data": {
      "text/html": "<div>\n<style scoped>\n    .dataframe tbody tr th:only-of-type {\n        vertical-align: middle;\n    }\n\n    .dataframe tbody tr th {\n        vertical-align: top;\n    }\n\n    .dataframe thead th {\n        text-align: right;\n    }\n</style>\n<table border=\"1\" class=\"dataframe\">\n  <thead>\n    <tr style=\"text-align: right;\">\n      <th></th>\n      <th>15502</th>\n      <th>72007</th>\n      <th>45361</th>\n      <th>14773</th>\n      <th>218070</th>\n      <th>19400</th>\n      <th>139948</th>\n      <th>82693</th>\n      <th>178809</th>\n      <th>86047</th>\n      <th>...</th>\n      <th>19582</th>\n      <th>239137</th>\n      <th>92528</th>\n      <th>19494</th>\n      <th>19423</th>\n      <th>94113</th>\n      <th>18377</th>\n      <th>13464</th>\n      <th>97646</th>\n      <th>56785</th>\n    </tr>\n  </thead>\n  <tbody>\n    <tr>\n      <td>220214</td>\n      <td>0.00000</td>\n      <td>0.37500</td>\n      <td>0.40000</td>\n      <td>0.40000</td>\n      <td>0.42857</td>\n      <td>0.50000</td>\n      <td>0.50000</td>\n      <td>0.50000</td>\n      <td>0.50000</td>\n      <td>0.50000</td>\n      <td>...</td>\n      <td>1.00000</td>\n      <td>1.00000</td>\n      <td>1.00000</td>\n      <td>1.00000</td>\n      <td>1.00000</td>\n      <td>1.00000</td>\n      <td>1.00000</td>\n      <td>1.00000</td>\n      <td>1.00000</td>\n      <td>1.00000</td>\n    </tr>\n    <tr>\n      <td>24509</td>\n      <td>0.80000</td>\n      <td>0.83333</td>\n      <td>0.66667</td>\n      <td>0.87500</td>\n      <td>0.81818</td>\n      <td>0.90909</td>\n      <td>0.83333</td>\n      <td>0.50000</td>\n      <td>0.80000</td>\n      <td>0.75000</td>\n      <td>...</td>\n      <td>1.00000</td>\n      <td>1.00000</td>\n      <td>1.00000</td>\n      <td>1.00000</td>\n      <td>1.00000</td>\n      <td>1.00000</td>\n      <td>1.00000</td>\n      <td>1.00000</td>\n      <td>1.00000</td>\n      <td>1.00000</td>\n    </tr>\n    <tr>\n      <td>45580</td>\n      <td>0.85714</td>\n      <td>0.84615</td>\n      <td>0.75000</td>\n      <td>0.87500</td>\n      <td>0.85714</td>\n      <td>0.92857</td>\n      <td>0.87500</td>\n      <td>0.66667</td>\n      <td>0.84615</td>\n      <td>0.75000</td>\n      <td>...</td>\n      <td>1.00000</td>\n      <td>1.00000</td>\n      <td>1.00000</td>\n      <td>1.00000</td>\n      <td>1.00000</td>\n      <td>1.00000</td>\n      <td>1.00000</td>\n      <td>1.00000</td>\n      <td>1.00000</td>\n      <td>1.00000</td>\n    </tr>\n    <tr>\n      <td>150251</td>\n      <td>0.91667</td>\n      <td>0.86667</td>\n      <td>0.83333</td>\n      <td>0.88889</td>\n      <td>0.88889</td>\n      <td>0.92857</td>\n      <td>0.87500</td>\n      <td>0.75000</td>\n      <td>0.84615</td>\n      <td>0.77778</td>\n      <td>...</td>\n      <td>1.00000</td>\n      <td>1.00000</td>\n      <td>1.00000</td>\n      <td>1.00000</td>\n      <td>1.00000</td>\n      <td>1.00000</td>\n      <td>1.00000</td>\n      <td>1.00000</td>\n      <td>1.00000</td>\n      <td>1.00000</td>\n    </tr>\n    <tr>\n      <td>18416</td>\n      <td>0.91667</td>\n      <td>0.87500</td>\n      <td>0.87500</td>\n      <td>0.90000</td>\n      <td>0.88889</td>\n      <td>0.93750</td>\n      <td>0.88889</td>\n      <td>0.83333</td>\n      <td>0.91667</td>\n      <td>0.81818</td>\n      <td>...</td>\n      <td>1.00000</td>\n      <td>1.00000</td>\n      <td>1.00000</td>\n      <td>1.00000</td>\n      <td>1.00000</td>\n      <td>1.00000</td>\n      <td>1.00000</td>\n      <td>1.00000</td>\n      <td>1.00000</td>\n      <td>1.00000</td>\n    </tr>\n    <tr>\n      <td>202951</td>\n      <td>0.92308</td>\n      <td>0.88889</td>\n      <td>0.88889</td>\n      <td>1.00000</td>\n      <td>0.90000</td>\n      <td>1.00000</td>\n      <td>0.88889</td>\n      <td>0.85714</td>\n      <td>0.91667</td>\n      <td>0.84615</td>\n      <td>...</td>\n      <td>1.00000</td>\n      <td>1.00000</td>\n      <td>1.00000</td>\n      <td>1.00000</td>\n      <td>1.00000</td>\n      <td>1.00000</td>\n      <td>1.00000</td>\n      <td>1.00000</td>\n      <td>1.00000</td>\n      <td>1.00000</td>\n    </tr>\n    <tr>\n      <td>8994</td>\n      <td>0.93333</td>\n      <td>0.90000</td>\n      <td>0.88889</td>\n      <td>1.00000</td>\n      <td>0.90909</td>\n      <td>1.00000</td>\n      <td>0.90909</td>\n      <td>1.00000</td>\n      <td>0.91667</td>\n      <td>0.87500</td>\n      <td>...</td>\n      <td>1.00000</td>\n      <td>1.00000</td>\n      <td>1.00000</td>\n      <td>1.00000</td>\n      <td>1.00000</td>\n      <td>1.00000</td>\n      <td>1.00000</td>\n      <td>1.00000</td>\n      <td>1.00000</td>\n      <td>1.00000</td>\n    </tr>\n    <tr>\n      <td>52608</td>\n      <td>0.93333</td>\n      <td>0.90909</td>\n      <td>0.90000</td>\n      <td>1.00000</td>\n      <td>0.91667</td>\n      <td>1.00000</td>\n      <td>1.00000</td>\n      <td>1.00000</td>\n      <td>0.92308</td>\n      <td>0.90909</td>\n      <td>...</td>\n      <td>1.00000</td>\n      <td>1.00000</td>\n      <td>1.00000</td>\n      <td>1.00000</td>\n      <td>1.00000</td>\n      <td>1.00000</td>\n      <td>1.00000</td>\n      <td>1.00000</td>\n      <td>1.00000</td>\n      <td>1.00000</td>\n    </tr>\n    <tr>\n      <td>140135</td>\n      <td>0.93750</td>\n      <td>0.90909</td>\n      <td>0.92308</td>\n      <td>1.00000</td>\n      <td>0.93333</td>\n      <td>1.00000</td>\n      <td>1.00000</td>\n      <td>1.00000</td>\n      <td>0.92857</td>\n      <td>0.90909</td>\n      <td>...</td>\n      <td>1.00000</td>\n      <td>1.00000</td>\n      <td>1.00000</td>\n      <td>1.00000</td>\n      <td>1.00000</td>\n      <td>1.00000</td>\n      <td>1.00000</td>\n      <td>1.00000</td>\n      <td>1.00000</td>\n      <td>1.00000</td>\n    </tr>\n    <tr>\n      <td>24368</td>\n      <td>0.94118</td>\n      <td>0.91667</td>\n      <td>1.00000</td>\n      <td>1.00000</td>\n      <td>1.00000</td>\n      <td>1.00000</td>\n      <td>1.00000</td>\n      <td>1.00000</td>\n      <td>0.92857</td>\n      <td>0.90909</td>\n      <td>...</td>\n      <td>1.00000</td>\n      <td>1.00000</td>\n      <td>1.00000</td>\n      <td>1.00000</td>\n      <td>1.00000</td>\n      <td>1.00000</td>\n      <td>1.00000</td>\n      <td>1.00000</td>\n      <td>1.00000</td>\n      <td>1.00000</td>\n    </tr>\n    <tr>\n      <td>20618</td>\n      <td>1.00000</td>\n      <td>0.91667</td>\n      <td>1.00000</td>\n      <td>1.00000</td>\n      <td>1.00000</td>\n      <td>1.00000</td>\n      <td>1.00000</td>\n      <td>1.00000</td>\n      <td>0.92857</td>\n      <td>0.90909</td>\n      <td>...</td>\n      <td>1.00000</td>\n      <td>1.00000</td>\n      <td>1.00000</td>\n      <td>1.00000</td>\n      <td>1.00000</td>\n      <td>1.00000</td>\n      <td>1.00000</td>\n      <td>1.00000</td>\n      <td>1.00000</td>\n      <td>1.00000</td>\n    </tr>\n    <tr>\n      <td>14622</td>\n      <td>1.00000</td>\n      <td>0.91667</td>\n      <td>1.00000</td>\n      <td>1.00000</td>\n      <td>1.00000</td>\n      <td>1.00000</td>\n      <td>1.00000</td>\n      <td>1.00000</td>\n      <td>0.93333</td>\n      <td>0.90909</td>\n      <td>...</td>\n      <td>1.00000</td>\n      <td>1.00000</td>\n      <td>1.00000</td>\n      <td>1.00000</td>\n      <td>1.00000</td>\n      <td>1.00000</td>\n      <td>1.00000</td>\n      <td>1.00000</td>\n      <td>1.00000</td>\n      <td>1.00000</td>\n    </tr>\n    <tr>\n      <td>22364</td>\n      <td>1.00000</td>\n      <td>0.92308</td>\n      <td>1.00000</td>\n      <td>1.00000</td>\n      <td>1.00000</td>\n      <td>1.00000</td>\n      <td>1.00000</td>\n      <td>1.00000</td>\n      <td>0.93333</td>\n      <td>0.91667</td>\n      <td>...</td>\n      <td>1.00000</td>\n      <td>1.00000</td>\n      <td>1.00000</td>\n      <td>1.00000</td>\n      <td>1.00000</td>\n      <td>1.00000</td>\n      <td>1.00000</td>\n      <td>1.00000</td>\n      <td>1.00000</td>\n      <td>1.00000</td>\n    </tr>\n    <tr>\n      <td>217899</td>\n      <td>1.00000</td>\n      <td>0.92857</td>\n      <td>1.00000</td>\n      <td>1.00000</td>\n      <td>1.00000</td>\n      <td>1.00000</td>\n      <td>1.00000</td>\n      <td>1.00000</td>\n      <td>0.94118</td>\n      <td>0.92308</td>\n      <td>...</td>\n      <td>1.00000</td>\n      <td>1.00000</td>\n      <td>1.00000</td>\n      <td>1.00000</td>\n      <td>1.00000</td>\n      <td>1.00000</td>\n      <td>1.00000</td>\n      <td>1.00000</td>\n      <td>1.00000</td>\n      <td>1.00000</td>\n    </tr>\n    <tr>\n      <td>166506</td>\n      <td>1.00000</td>\n      <td>0.93333</td>\n      <td>1.00000</td>\n      <td>1.00000</td>\n      <td>1.00000</td>\n      <td>1.00000</td>\n      <td>1.00000</td>\n      <td>1.00000</td>\n      <td>0.94737</td>\n      <td>0.92857</td>\n      <td>...</td>\n      <td>1.00000</td>\n      <td>1.00000</td>\n      <td>1.00000</td>\n      <td>1.00000</td>\n      <td>1.00000</td>\n      <td>1.00000</td>\n      <td>1.00000</td>\n      <td>1.00000</td>\n      <td>1.00000</td>\n      <td>1.00000</td>\n    </tr>\n    <tr>\n      <td>199382</td>\n      <td>1.00000</td>\n      <td>0.94118</td>\n      <td>1.00000</td>\n      <td>1.00000</td>\n      <td>1.00000</td>\n      <td>1.00000</td>\n      <td>1.00000</td>\n      <td>1.00000</td>\n      <td>1.00000</td>\n      <td>0.93750</td>\n      <td>...</td>\n      <td>1.00000</td>\n      <td>1.00000</td>\n      <td>1.00000</td>\n      <td>1.00000</td>\n      <td>1.00000</td>\n      <td>1.00000</td>\n      <td>1.00000</td>\n      <td>1.00000</td>\n      <td>1.00000</td>\n      <td>1.00000</td>\n    </tr>\n    <tr>\n      <td>17869</td>\n      <td>1.00000</td>\n      <td>0.95238</td>\n      <td>1.00000</td>\n      <td>1.00000</td>\n      <td>1.00000</td>\n      <td>1.00000</td>\n      <td>1.00000</td>\n      <td>1.00000</td>\n      <td>1.00000</td>\n      <td>1.00000</td>\n      <td>...</td>\n      <td>1.00000</td>\n      <td>1.00000</td>\n      <td>1.00000</td>\n      <td>1.00000</td>\n      <td>1.00000</td>\n      <td>1.00000</td>\n      <td>1.00000</td>\n      <td>1.00000</td>\n      <td>1.00000</td>\n      <td>1.00000</td>\n    </tr>\n    <tr>\n      <td>36994</td>\n      <td>1.00000</td>\n      <td>1.00000</td>\n      <td>1.00000</td>\n      <td>1.00000</td>\n      <td>1.00000</td>\n      <td>1.00000</td>\n      <td>1.00000</td>\n      <td>1.00000</td>\n      <td>1.00000</td>\n      <td>1.00000</td>\n      <td>...</td>\n      <td>1.00000</td>\n      <td>1.00000</td>\n      <td>1.00000</td>\n      <td>1.00000</td>\n      <td>1.00000</td>\n      <td>1.00000</td>\n      <td>1.00000</td>\n      <td>1.00000</td>\n      <td>1.00000</td>\n      <td>1.00000</td>\n    </tr>\n    <tr>\n      <td>15225</td>\n      <td>1.00000</td>\n      <td>1.00000</td>\n      <td>1.00000</td>\n      <td>1.00000</td>\n      <td>1.00000</td>\n      <td>1.00000</td>\n      <td>1.00000</td>\n      <td>1.00000</td>\n      <td>1.00000</td>\n      <td>1.00000</td>\n      <td>...</td>\n      <td>1.00000</td>\n      <td>1.00000</td>\n      <td>1.00000</td>\n      <td>1.00000</td>\n      <td>1.00000</td>\n      <td>1.00000</td>\n      <td>1.00000</td>\n      <td>1.00000</td>\n      <td>1.00000</td>\n      <td>1.00000</td>\n    </tr>\n    <tr>\n      <td>59988</td>\n      <td>1.00000</td>\n      <td>1.00000</td>\n      <td>1.00000</td>\n      <td>1.00000</td>\n      <td>1.00000</td>\n      <td>1.00000</td>\n      <td>1.00000</td>\n      <td>1.00000</td>\n      <td>1.00000</td>\n      <td>1.00000</td>\n      <td>...</td>\n      <td>1.00000</td>\n      <td>1.00000</td>\n      <td>1.00000</td>\n      <td>1.00000</td>\n      <td>1.00000</td>\n      <td>1.00000</td>\n      <td>1.00000</td>\n      <td>1.00000</td>\n      <td>1.00000</td>\n      <td>1.00000</td>\n    </tr>\n    <tr>\n      <td>230735</td>\n      <td>1.00000</td>\n      <td>1.00000</td>\n      <td>1.00000</td>\n      <td>1.00000</td>\n      <td>1.00000</td>\n      <td>1.00000</td>\n      <td>1.00000</td>\n      <td>1.00000</td>\n      <td>1.00000</td>\n      <td>1.00000</td>\n      <td>...</td>\n      <td>1.00000</td>\n      <td>1.00000</td>\n      <td>1.00000</td>\n      <td>1.00000</td>\n      <td>1.00000</td>\n      <td>1.00000</td>\n      <td>1.00000</td>\n      <td>1.00000</td>\n      <td>1.00000</td>\n      <td>1.00000</td>\n    </tr>\n    <tr>\n      <td>88495</td>\n      <td>1.00000</td>\n      <td>1.00000</td>\n      <td>1.00000</td>\n      <td>1.00000</td>\n      <td>1.00000</td>\n      <td>1.00000</td>\n      <td>1.00000</td>\n      <td>1.00000</td>\n      <td>1.00000</td>\n      <td>1.00000</td>\n      <td>...</td>\n      <td>1.00000</td>\n      <td>1.00000</td>\n      <td>1.00000</td>\n      <td>1.00000</td>\n      <td>1.00000</td>\n      <td>1.00000</td>\n      <td>1.00000</td>\n      <td>1.00000</td>\n      <td>1.00000</td>\n      <td>1.00000</td>\n    </tr>\n    <tr>\n      <td>16650</td>\n      <td>1.00000</td>\n      <td>1.00000</td>\n      <td>1.00000</td>\n      <td>1.00000</td>\n      <td>1.00000</td>\n      <td>1.00000</td>\n      <td>1.00000</td>\n      <td>1.00000</td>\n      <td>1.00000</td>\n      <td>1.00000</td>\n      <td>...</td>\n      <td>1.00000</td>\n      <td>1.00000</td>\n      <td>1.00000</td>\n      <td>1.00000</td>\n      <td>1.00000</td>\n      <td>1.00000</td>\n      <td>1.00000</td>\n      <td>1.00000</td>\n      <td>1.00000</td>\n      <td>1.00000</td>\n    </tr>\n    <tr>\n      <td>8949</td>\n      <td>1.00000</td>\n      <td>1.00000</td>\n      <td>1.00000</td>\n      <td>1.00000</td>\n      <td>1.00000</td>\n      <td>1.00000</td>\n      <td>1.00000</td>\n      <td>1.00000</td>\n      <td>1.00000</td>\n      <td>1.00000</td>\n      <td>...</td>\n      <td>1.00000</td>\n      <td>1.00000</td>\n      <td>1.00000</td>\n      <td>1.00000</td>\n      <td>1.00000</td>\n      <td>1.00000</td>\n      <td>1.00000</td>\n      <td>1.00000</td>\n      <td>1.00000</td>\n      <td>1.00000</td>\n    </tr>\n    <tr>\n      <td>21557</td>\n      <td>1.00000</td>\n      <td>1.00000</td>\n      <td>1.00000</td>\n      <td>1.00000</td>\n      <td>1.00000</td>\n      <td>1.00000</td>\n      <td>1.00000</td>\n      <td>1.00000</td>\n      <td>1.00000</td>\n      <td>1.00000</td>\n      <td>...</td>\n      <td>1.00000</td>\n      <td>1.00000</td>\n      <td>1.00000</td>\n      <td>1.00000</td>\n      <td>1.00000</td>\n      <td>1.00000</td>\n      <td>1.00000</td>\n      <td>1.00000</td>\n      <td>1.00000</td>\n      <td>1.00000</td>\n    </tr>\n    <tr>\n      <td>109782</td>\n      <td>1.00000</td>\n      <td>1.00000</td>\n      <td>1.00000</td>\n      <td>1.00000</td>\n      <td>1.00000</td>\n      <td>1.00000</td>\n      <td>1.00000</td>\n      <td>1.00000</td>\n      <td>1.00000</td>\n      <td>1.00000</td>\n      <td>...</td>\n      <td>1.00000</td>\n      <td>1.00000</td>\n      <td>1.00000</td>\n      <td>1.00000</td>\n      <td>1.00000</td>\n      <td>1.00000</td>\n      <td>1.00000</td>\n      <td>1.00000</td>\n      <td>1.00000</td>\n      <td>1.00000</td>\n    </tr>\n    <tr>\n      <td>24080</td>\n      <td>1.00000</td>\n      <td>1.00000</td>\n      <td>1.00000</td>\n      <td>1.00000</td>\n      <td>1.00000</td>\n      <td>1.00000</td>\n      <td>1.00000</td>\n      <td>1.00000</td>\n      <td>1.00000</td>\n      <td>1.00000</td>\n      <td>...</td>\n      <td>1.00000</td>\n      <td>1.00000</td>\n      <td>1.00000</td>\n      <td>1.00000</td>\n      <td>1.00000</td>\n      <td>1.00000</td>\n      <td>1.00000</td>\n      <td>1.00000</td>\n      <td>1.00000</td>\n      <td>1.00000</td>\n    </tr>\n    <tr>\n      <td>11720</td>\n      <td>1.00000</td>\n      <td>1.00000</td>\n      <td>1.00000</td>\n      <td>1.00000</td>\n      <td>1.00000</td>\n      <td>1.00000</td>\n      <td>1.00000</td>\n      <td>1.00000</td>\n      <td>1.00000</td>\n      <td>1.00000</td>\n      <td>...</td>\n      <td>1.00000</td>\n      <td>1.00000</td>\n      <td>1.00000</td>\n      <td>1.00000</td>\n      <td>1.00000</td>\n      <td>1.00000</td>\n      <td>1.00000</td>\n      <td>1.00000</td>\n      <td>1.00000</td>\n      <td>1.00000</td>\n    </tr>\n    <tr>\n      <td>21140</td>\n      <td>1.00000</td>\n      <td>1.00000</td>\n      <td>1.00000</td>\n      <td>1.00000</td>\n      <td>1.00000</td>\n      <td>1.00000</td>\n      <td>1.00000</td>\n      <td>1.00000</td>\n      <td>1.00000</td>\n      <td>1.00000</td>\n      <td>...</td>\n      <td>1.00000</td>\n      <td>1.00000</td>\n      <td>1.00000</td>\n      <td>1.00000</td>\n      <td>1.00000</td>\n      <td>1.00000</td>\n      <td>1.00000</td>\n      <td>1.00000</td>\n      <td>1.00000</td>\n      <td>1.00000</td>\n    </tr>\n    <tr>\n      <td>27946</td>\n      <td>1.00000</td>\n      <td>1.00000</td>\n      <td>1.00000</td>\n      <td>1.00000</td>\n      <td>1.00000</td>\n      <td>1.00000</td>\n      <td>1.00000</td>\n      <td>1.00000</td>\n      <td>1.00000</td>\n      <td>1.00000</td>\n      <td>...</td>\n      <td>1.00000</td>\n      <td>1.00000</td>\n      <td>1.00000</td>\n      <td>1.00000</td>\n      <td>1.00000</td>\n      <td>1.00000</td>\n      <td>1.00000</td>\n      <td>1.00000</td>\n      <td>1.00000</td>\n      <td>1.00000</td>\n    </tr>\n    <tr>\n      <td>15378</td>\n      <td>1.00000</td>\n      <td>1.00000</td>\n      <td>1.00000</td>\n      <td>1.00000</td>\n      <td>1.00000</td>\n      <td>1.00000</td>\n      <td>1.00000</td>\n      <td>1.00000</td>\n      <td>1.00000</td>\n      <td>1.00000</td>\n      <td>...</td>\n      <td>1.00000</td>\n      <td>1.00000</td>\n      <td>1.00000</td>\n      <td>1.00000</td>\n      <td>1.00000</td>\n      <td>1.00000</td>\n      <td>1.00000</td>\n      <td>1.00000</td>\n      <td>1.00000</td>\n      <td>1.00000</td>\n    </tr>\n    <tr>\n      <td>8720</td>\n      <td>1.00000</td>\n      <td>1.00000</td>\n      <td>1.00000</td>\n      <td>1.00000</td>\n      <td>1.00000</td>\n      <td>1.00000</td>\n      <td>1.00000</td>\n      <td>1.00000</td>\n      <td>1.00000</td>\n      <td>1.00000</td>\n      <td>...</td>\n      <td>1.00000</td>\n      <td>1.00000</td>\n      <td>1.00000</td>\n      <td>1.00000</td>\n      <td>1.00000</td>\n      <td>1.00000</td>\n      <td>1.00000</td>\n      <td>1.00000</td>\n      <td>1.00000</td>\n      <td>1.00000</td>\n    </tr>\n    <tr>\n      <td>30794</td>\n      <td>1.00000</td>\n      <td>1.00000</td>\n      <td>1.00000</td>\n      <td>1.00000</td>\n      <td>1.00000</td>\n      <td>1.00000</td>\n      <td>1.00000</td>\n      <td>1.00000</td>\n      <td>1.00000</td>\n      <td>1.00000</td>\n      <td>...</td>\n      <td>1.00000</td>\n      <td>1.00000</td>\n      <td>1.00000</td>\n      <td>1.00000</td>\n      <td>1.00000</td>\n      <td>1.00000</td>\n      <td>1.00000</td>\n      <td>1.00000</td>\n      <td>1.00000</td>\n      <td>1.00000</td>\n    </tr>\n    <tr>\n      <td>79301</td>\n      <td>1.00000</td>\n      <td>1.00000</td>\n      <td>1.00000</td>\n      <td>1.00000</td>\n      <td>1.00000</td>\n      <td>1.00000</td>\n      <td>1.00000</td>\n      <td>1.00000</td>\n      <td>1.00000</td>\n      <td>1.00000</td>\n      <td>...</td>\n      <td>1.00000</td>\n      <td>1.00000</td>\n      <td>1.00000</td>\n      <td>1.00000</td>\n      <td>1.00000</td>\n      <td>1.00000</td>\n      <td>1.00000</td>\n      <td>1.00000</td>\n      <td>1.00000</td>\n      <td>1.00000</td>\n    </tr>\n    <tr>\n      <td>8549</td>\n      <td>1.00000</td>\n      <td>1.00000</td>\n      <td>1.00000</td>\n      <td>1.00000</td>\n      <td>1.00000</td>\n      <td>1.00000</td>\n      <td>1.00000</td>\n      <td>1.00000</td>\n      <td>1.00000</td>\n      <td>1.00000</td>\n      <td>...</td>\n      <td>1.00000</td>\n      <td>1.00000</td>\n      <td>1.00000</td>\n      <td>1.00000</td>\n      <td>1.00000</td>\n      <td>1.00000</td>\n      <td>1.00000</td>\n      <td>1.00000</td>\n      <td>1.00000</td>\n      <td>1.00000</td>\n    </tr>\n    <tr>\n      <td>16663</td>\n      <td>1.00000</td>\n      <td>1.00000</td>\n      <td>1.00000</td>\n      <td>1.00000</td>\n      <td>1.00000</td>\n      <td>1.00000</td>\n      <td>1.00000</td>\n      <td>1.00000</td>\n      <td>1.00000</td>\n      <td>1.00000</td>\n      <td>...</td>\n      <td>1.00000</td>\n      <td>1.00000</td>\n      <td>1.00000</td>\n      <td>1.00000</td>\n      <td>1.00000</td>\n      <td>1.00000</td>\n      <td>1.00000</td>\n      <td>1.00000</td>\n      <td>1.00000</td>\n      <td>1.00000</td>\n    </tr>\n    <tr>\n      <td>16741</td>\n      <td>1.00000</td>\n      <td>1.00000</td>\n      <td>1.00000</td>\n      <td>1.00000</td>\n      <td>1.00000</td>\n      <td>1.00000</td>\n      <td>1.00000</td>\n      <td>1.00000</td>\n      <td>1.00000</td>\n      <td>1.00000</td>\n      <td>...</td>\n      <td>1.00000</td>\n      <td>1.00000</td>\n      <td>1.00000</td>\n      <td>1.00000</td>\n      <td>1.00000</td>\n      <td>1.00000</td>\n      <td>1.00000</td>\n      <td>1.00000</td>\n      <td>1.00000</td>\n      <td>1.00000</td>\n    </tr>\n    <tr>\n      <td>43272</td>\n      <td>1.00000</td>\n      <td>1.00000</td>\n      <td>1.00000</td>\n      <td>1.00000</td>\n      <td>1.00000</td>\n      <td>1.00000</td>\n      <td>1.00000</td>\n      <td>1.00000</td>\n      <td>1.00000</td>\n      <td>1.00000</td>\n      <td>...</td>\n      <td>1.00000</td>\n      <td>1.00000</td>\n      <td>1.00000</td>\n      <td>1.00000</td>\n      <td>1.00000</td>\n      <td>1.00000</td>\n      <td>1.00000</td>\n      <td>1.00000</td>\n      <td>1.00000</td>\n      <td>1.00000</td>\n    </tr>\n    <tr>\n      <td>88086</td>\n      <td>1.00000</td>\n      <td>1.00000</td>\n      <td>1.00000</td>\n      <td>1.00000</td>\n      <td>1.00000</td>\n      <td>1.00000</td>\n      <td>1.00000</td>\n      <td>1.00000</td>\n      <td>1.00000</td>\n      <td>1.00000</td>\n      <td>...</td>\n      <td>1.00000</td>\n      <td>1.00000</td>\n      <td>1.00000</td>\n      <td>1.00000</td>\n      <td>1.00000</td>\n      <td>1.00000</td>\n      <td>1.00000</td>\n      <td>1.00000</td>\n      <td>1.00000</td>\n      <td>1.00000</td>\n    </tr>\n    <tr>\n      <td>19335</td>\n      <td>1.00000</td>\n      <td>1.00000</td>\n      <td>1.00000</td>\n      <td>1.00000</td>\n      <td>1.00000</td>\n      <td>1.00000</td>\n      <td>1.00000</td>\n      <td>1.00000</td>\n      <td>1.00000</td>\n      <td>1.00000</td>\n      <td>...</td>\n      <td>1.00000</td>\n      <td>1.00000</td>\n      <td>1.00000</td>\n      <td>1.00000</td>\n      <td>1.00000</td>\n      <td>1.00000</td>\n      <td>1.00000</td>\n      <td>1.00000</td>\n      <td>1.00000</td>\n      <td>1.00000</td>\n    </tr>\n  </tbody>\n</table>\n<p>40 rows × 3729 columns</p>\n</div>",
      "text/plain": "        15502   72007   45361   14773   218070  19400   139948  82693   \\\n220214 0.00000 0.37500 0.40000 0.40000 0.42857 0.50000 0.50000 0.50000   \n24509  0.80000 0.83333 0.66667 0.87500 0.81818 0.90909 0.83333 0.50000   \n45580  0.85714 0.84615 0.75000 0.87500 0.85714 0.92857 0.87500 0.66667   \n150251 0.91667 0.86667 0.83333 0.88889 0.88889 0.92857 0.87500 0.75000   \n18416  0.91667 0.87500 0.87500 0.90000 0.88889 0.93750 0.88889 0.83333   \n202951 0.92308 0.88889 0.88889 1.00000 0.90000 1.00000 0.88889 0.85714   \n8994   0.93333 0.90000 0.88889 1.00000 0.90909 1.00000 0.90909 1.00000   \n52608  0.93333 0.90909 0.90000 1.00000 0.91667 1.00000 1.00000 1.00000   \n140135 0.93750 0.90909 0.92308 1.00000 0.93333 1.00000 1.00000 1.00000   \n24368  0.94118 0.91667 1.00000 1.00000 1.00000 1.00000 1.00000 1.00000   \n20618  1.00000 0.91667 1.00000 1.00000 1.00000 1.00000 1.00000 1.00000   \n14622  1.00000 0.91667 1.00000 1.00000 1.00000 1.00000 1.00000 1.00000   \n22364  1.00000 0.92308 1.00000 1.00000 1.00000 1.00000 1.00000 1.00000   \n217899 1.00000 0.92857 1.00000 1.00000 1.00000 1.00000 1.00000 1.00000   \n166506 1.00000 0.93333 1.00000 1.00000 1.00000 1.00000 1.00000 1.00000   \n199382 1.00000 0.94118 1.00000 1.00000 1.00000 1.00000 1.00000 1.00000   \n17869  1.00000 0.95238 1.00000 1.00000 1.00000 1.00000 1.00000 1.00000   \n36994  1.00000 1.00000 1.00000 1.00000 1.00000 1.00000 1.00000 1.00000   \n15225  1.00000 1.00000 1.00000 1.00000 1.00000 1.00000 1.00000 1.00000   \n59988  1.00000 1.00000 1.00000 1.00000 1.00000 1.00000 1.00000 1.00000   \n230735 1.00000 1.00000 1.00000 1.00000 1.00000 1.00000 1.00000 1.00000   \n88495  1.00000 1.00000 1.00000 1.00000 1.00000 1.00000 1.00000 1.00000   \n16650  1.00000 1.00000 1.00000 1.00000 1.00000 1.00000 1.00000 1.00000   \n8949   1.00000 1.00000 1.00000 1.00000 1.00000 1.00000 1.00000 1.00000   \n21557  1.00000 1.00000 1.00000 1.00000 1.00000 1.00000 1.00000 1.00000   \n109782 1.00000 1.00000 1.00000 1.00000 1.00000 1.00000 1.00000 1.00000   \n24080  1.00000 1.00000 1.00000 1.00000 1.00000 1.00000 1.00000 1.00000   \n11720  1.00000 1.00000 1.00000 1.00000 1.00000 1.00000 1.00000 1.00000   \n21140  1.00000 1.00000 1.00000 1.00000 1.00000 1.00000 1.00000 1.00000   \n27946  1.00000 1.00000 1.00000 1.00000 1.00000 1.00000 1.00000 1.00000   \n15378  1.00000 1.00000 1.00000 1.00000 1.00000 1.00000 1.00000 1.00000   \n8720   1.00000 1.00000 1.00000 1.00000 1.00000 1.00000 1.00000 1.00000   \n30794  1.00000 1.00000 1.00000 1.00000 1.00000 1.00000 1.00000 1.00000   \n79301  1.00000 1.00000 1.00000 1.00000 1.00000 1.00000 1.00000 1.00000   \n8549   1.00000 1.00000 1.00000 1.00000 1.00000 1.00000 1.00000 1.00000   \n16663  1.00000 1.00000 1.00000 1.00000 1.00000 1.00000 1.00000 1.00000   \n16741  1.00000 1.00000 1.00000 1.00000 1.00000 1.00000 1.00000 1.00000   \n43272  1.00000 1.00000 1.00000 1.00000 1.00000 1.00000 1.00000 1.00000   \n88086  1.00000 1.00000 1.00000 1.00000 1.00000 1.00000 1.00000 1.00000   \n19335  1.00000 1.00000 1.00000 1.00000 1.00000 1.00000 1.00000 1.00000   \n\n        178809  86047   ...  19582   239137  92528   19494   19423   94113   \\\n220214 0.50000 0.50000  ... 1.00000 1.00000 1.00000 1.00000 1.00000 1.00000   \n24509  0.80000 0.75000  ... 1.00000 1.00000 1.00000 1.00000 1.00000 1.00000   \n45580  0.84615 0.75000  ... 1.00000 1.00000 1.00000 1.00000 1.00000 1.00000   \n150251 0.84615 0.77778  ... 1.00000 1.00000 1.00000 1.00000 1.00000 1.00000   \n18416  0.91667 0.81818  ... 1.00000 1.00000 1.00000 1.00000 1.00000 1.00000   \n202951 0.91667 0.84615  ... 1.00000 1.00000 1.00000 1.00000 1.00000 1.00000   \n8994   0.91667 0.87500  ... 1.00000 1.00000 1.00000 1.00000 1.00000 1.00000   \n52608  0.92308 0.90909  ... 1.00000 1.00000 1.00000 1.00000 1.00000 1.00000   \n140135 0.92857 0.90909  ... 1.00000 1.00000 1.00000 1.00000 1.00000 1.00000   \n24368  0.92857 0.90909  ... 1.00000 1.00000 1.00000 1.00000 1.00000 1.00000   \n20618  0.92857 0.90909  ... 1.00000 1.00000 1.00000 1.00000 1.00000 1.00000   \n14622  0.93333 0.90909  ... 1.00000 1.00000 1.00000 1.00000 1.00000 1.00000   \n22364  0.93333 0.91667  ... 1.00000 1.00000 1.00000 1.00000 1.00000 1.00000   \n217899 0.94118 0.92308  ... 1.00000 1.00000 1.00000 1.00000 1.00000 1.00000   \n166506 0.94737 0.92857  ... 1.00000 1.00000 1.00000 1.00000 1.00000 1.00000   \n199382 1.00000 0.93750  ... 1.00000 1.00000 1.00000 1.00000 1.00000 1.00000   \n17869  1.00000 1.00000  ... 1.00000 1.00000 1.00000 1.00000 1.00000 1.00000   \n36994  1.00000 1.00000  ... 1.00000 1.00000 1.00000 1.00000 1.00000 1.00000   \n15225  1.00000 1.00000  ... 1.00000 1.00000 1.00000 1.00000 1.00000 1.00000   \n59988  1.00000 1.00000  ... 1.00000 1.00000 1.00000 1.00000 1.00000 1.00000   \n230735 1.00000 1.00000  ... 1.00000 1.00000 1.00000 1.00000 1.00000 1.00000   \n88495  1.00000 1.00000  ... 1.00000 1.00000 1.00000 1.00000 1.00000 1.00000   \n16650  1.00000 1.00000  ... 1.00000 1.00000 1.00000 1.00000 1.00000 1.00000   \n8949   1.00000 1.00000  ... 1.00000 1.00000 1.00000 1.00000 1.00000 1.00000   \n21557  1.00000 1.00000  ... 1.00000 1.00000 1.00000 1.00000 1.00000 1.00000   \n109782 1.00000 1.00000  ... 1.00000 1.00000 1.00000 1.00000 1.00000 1.00000   \n24080  1.00000 1.00000  ... 1.00000 1.00000 1.00000 1.00000 1.00000 1.00000   \n11720  1.00000 1.00000  ... 1.00000 1.00000 1.00000 1.00000 1.00000 1.00000   \n21140  1.00000 1.00000  ... 1.00000 1.00000 1.00000 1.00000 1.00000 1.00000   \n27946  1.00000 1.00000  ... 1.00000 1.00000 1.00000 1.00000 1.00000 1.00000   \n15378  1.00000 1.00000  ... 1.00000 1.00000 1.00000 1.00000 1.00000 1.00000   \n8720   1.00000 1.00000  ... 1.00000 1.00000 1.00000 1.00000 1.00000 1.00000   \n30794  1.00000 1.00000  ... 1.00000 1.00000 1.00000 1.00000 1.00000 1.00000   \n79301  1.00000 1.00000  ... 1.00000 1.00000 1.00000 1.00000 1.00000 1.00000   \n8549   1.00000 1.00000  ... 1.00000 1.00000 1.00000 1.00000 1.00000 1.00000   \n16663  1.00000 1.00000  ... 1.00000 1.00000 1.00000 1.00000 1.00000 1.00000   \n16741  1.00000 1.00000  ... 1.00000 1.00000 1.00000 1.00000 1.00000 1.00000   \n43272  1.00000 1.00000  ... 1.00000 1.00000 1.00000 1.00000 1.00000 1.00000   \n88086  1.00000 1.00000  ... 1.00000 1.00000 1.00000 1.00000 1.00000 1.00000   \n19335  1.00000 1.00000  ... 1.00000 1.00000 1.00000 1.00000 1.00000 1.00000   \n\n        18377   13464   97646   56785   \n220214 1.00000 1.00000 1.00000 1.00000  \n24509  1.00000 1.00000 1.00000 1.00000  \n45580  1.00000 1.00000 1.00000 1.00000  \n150251 1.00000 1.00000 1.00000 1.00000  \n18416  1.00000 1.00000 1.00000 1.00000  \n202951 1.00000 1.00000 1.00000 1.00000  \n8994   1.00000 1.00000 1.00000 1.00000  \n52608  1.00000 1.00000 1.00000 1.00000  \n140135 1.00000 1.00000 1.00000 1.00000  \n24368  1.00000 1.00000 1.00000 1.00000  \n20618  1.00000 1.00000 1.00000 1.00000  \n14622  1.00000 1.00000 1.00000 1.00000  \n22364  1.00000 1.00000 1.00000 1.00000  \n217899 1.00000 1.00000 1.00000 1.00000  \n166506 1.00000 1.00000 1.00000 1.00000  \n199382 1.00000 1.00000 1.00000 1.00000  \n17869  1.00000 1.00000 1.00000 1.00000  \n36994  1.00000 1.00000 1.00000 1.00000  \n15225  1.00000 1.00000 1.00000 1.00000  \n59988  1.00000 1.00000 1.00000 1.00000  \n230735 1.00000 1.00000 1.00000 1.00000  \n88495  1.00000 1.00000 1.00000 1.00000  \n16650  1.00000 1.00000 1.00000 1.00000  \n8949   1.00000 1.00000 1.00000 1.00000  \n21557  1.00000 1.00000 1.00000 1.00000  \n109782 1.00000 1.00000 1.00000 1.00000  \n24080  1.00000 1.00000 1.00000 1.00000  \n11720  1.00000 1.00000 1.00000 1.00000  \n21140  1.00000 1.00000 1.00000 1.00000  \n27946  1.00000 1.00000 1.00000 1.00000  \n15378  1.00000 1.00000 1.00000 1.00000  \n8720   1.00000 1.00000 1.00000 1.00000  \n30794  1.00000 1.00000 1.00000 1.00000  \n79301  1.00000 1.00000 1.00000 1.00000  \n8549   1.00000 1.00000 1.00000 1.00000  \n16663  1.00000 1.00000 1.00000 1.00000  \n16741  1.00000 1.00000 1.00000 1.00000  \n43272  1.00000 1.00000 1.00000 1.00000  \n88086  1.00000 1.00000 1.00000 1.00000  \n19335  1.00000 1.00000 1.00000 1.00000  \n\n[40 rows x 3729 columns]"
     },
     "execution_count": 1185,
     "metadata": {},
     "output_type": "execute_result"
    }
   ],
   "source": [
    "normal_short[new_columns]"
   ]
  },
  {
   "cell_type": "code",
   "execution_count": 1186,
   "metadata": {},
   "outputs": [
    {
     "data": {
      "text/plain": "array([ 48921,  18397,  76763,  14710,  17496,  51653,  52501, 223596,\n       221304,  86813,  62459,  86628,  16966,   8556,  86860, 142220,\n        14753,   8757, 240522, 222509])"
     },
     "execution_count": 1186,
     "metadata": {},
     "output_type": "execute_result"
    }
   ],
   "source": [
    "sample_fat.index.to_numpy()"
   ]
  },
  {
   "cell_type": "code",
   "execution_count": 1187,
   "metadata": {},
   "outputs": [
    {
     "data": {
      "text/plain": "array([220214,  24509,  45580, 150251,  18416, 202951,   8994,  52608,\n       140135,  24368,  20618,  14622,  22364, 217899, 166506, 199382,\n        17869,  36994,  15225,  59988, 230735,  88495,  16650,   8949,\n        21557, 109782,  24080,  11720,  21140,  27946,  15378,   8720,\n        30794,  79301,   8549,  16663,  16741,  43272,  88086,  19335])"
     },
     "execution_count": 1187,
     "metadata": {},
     "output_type": "execute_result"
    }
   ],
   "source": [
    "sample_normal.index.to_numpy()"
   ]
  },
  {
   "cell_type": "code",
   "execution_count": 1188,
   "metadata": {},
   "outputs": [],
   "source": [
    "#create one dimensional ingredients vector from user recipes profile\n",
    "user_one_vector_fat = sample_fat.copy()\n",
    "user_one_vector_fat.loc['sum',:]= user_one_vector_fat.sum(axis=0)\n",
    "user_one_vector_fat = user_one_vector_fat.drop(axis=0, labels=sample_fat.index)\n",
    "user_one_vector_fat[user_one_vector_fat > 0] = 1"
   ]
  },
  {
   "cell_type": "code",
   "execution_count": 1189,
   "metadata": {},
   "outputs": [],
   "source": [
    "#create one dimensional ingredients vector from user recipes profile\n",
    "user_one_vector_normal = sample_normal.copy()\n",
    "user_one_vector_normal.loc['sum',:]= user_one_vector_normal.sum(axis=0)\n",
    "user_one_vector_normal = user_one_vector_normal.drop(axis=0, labels=sample_normal.index)\n",
    "user_one_vector_normal[user_one_vector_normal > 0] = 1"
   ]
  },
  {
   "cell_type": "code",
   "execution_count": 1190,
   "metadata": {},
   "outputs": [
    {
     "data": {
      "text/html": "<div>\n<style scoped>\n    .dataframe tbody tr th:only-of-type {\n        vertical-align: middle;\n    }\n\n    .dataframe tbody tr th {\n        vertical-align: top;\n    }\n\n    .dataframe thead th {\n        text-align: right;\n    }\n</style>\n<table border=\"1\" class=\"dataframe\">\n  <thead>\n    <tr style=\"text-align: right;\">\n      <th></th>\n      <th>111</th>\n      <th>126</th>\n      <th>257</th>\n      <th>443</th>\n      <th>445</th>\n      <th>578</th>\n      <th>615</th>\n      <th>629</th>\n      <th>631</th>\n      <th>858</th>\n      <th>...</th>\n      <th>23047</th>\n      <th>23274</th>\n      <th>23383</th>\n      <th>24865</th>\n      <th>25518</th>\n      <th>25522</th>\n      <th>26269</th>\n      <th>26934</th>\n      <th>27343</th>\n      <th>27805</th>\n    </tr>\n    <tr>\n      <th>id</th>\n      <th></th>\n      <th></th>\n      <th></th>\n      <th></th>\n      <th></th>\n      <th></th>\n      <th></th>\n      <th></th>\n      <th></th>\n      <th></th>\n      <th></th>\n      <th></th>\n      <th></th>\n      <th></th>\n      <th></th>\n      <th></th>\n      <th></th>\n      <th></th>\n      <th></th>\n      <th></th>\n      <th></th>\n    </tr>\n  </thead>\n  <tbody>\n    <tr>\n      <td>sum</td>\n      <td>0.00000</td>\n      <td>0.00000</td>\n      <td>0.00000</td>\n      <td>0.00000</td>\n      <td>0.00000</td>\n      <td>1.00000</td>\n      <td>0.00000</td>\n      <td>0.00000</td>\n      <td>0.00000</td>\n      <td>0.00000</td>\n      <td>...</td>\n      <td>0.00000</td>\n      <td>1.00000</td>\n      <td>0.00000</td>\n      <td>0.00000</td>\n      <td>0.00000</td>\n      <td>0.00000</td>\n      <td>0.00000</td>\n      <td>0.00000</td>\n      <td>0.00000</td>\n      <td>0.00000</td>\n    </tr>\n  </tbody>\n</table>\n<p>1 rows × 720 columns</p>\n</div>",
      "text/plain": "      111     126     257     443     445     578     615     629     631    \\\nid                                                                            \nsum 0.00000 0.00000 0.00000 0.00000 0.00000 1.00000 0.00000 0.00000 0.00000   \n\n      858    ...   23047   23274   23383   24865   25518   25522   26269  \\\nid           ...                                                           \nsum 0.00000  ... 0.00000 1.00000 0.00000 0.00000 0.00000 0.00000 0.00000   \n\n      26934   27343   27805  \nid                           \nsum 0.00000 0.00000 0.00000  \n\n[1 rows x 720 columns]"
     },
     "execution_count": 1190,
     "metadata": {},
     "output_type": "execute_result"
    },
    {
     "data": {
      "text/plain": "0.00000    562\n1.00000    158\ndtype: int64"
     },
     "execution_count": 1190,
     "metadata": {},
     "output_type": "execute_result"
    }
   ],
   "source": [
    "user_one_vector_normal\n",
    "user_one_vector_normal.apply(pd.value_counts).count(axis=1)"
   ]
  },
  {
   "cell_type": "code",
   "execution_count": 1191,
   "metadata": {},
   "outputs": [
    {
     "data": {
      "text/html": "<div>\n<style scoped>\n    .dataframe tbody tr th:only-of-type {\n        vertical-align: middle;\n    }\n\n    .dataframe tbody tr th {\n        vertical-align: top;\n    }\n\n    .dataframe thead th {\n        text-align: right;\n    }\n</style>\n<table border=\"1\" class=\"dataframe\">\n  <thead>\n    <tr style=\"text-align: right;\">\n      <th></th>\n      <th>111</th>\n      <th>126</th>\n      <th>257</th>\n      <th>443</th>\n      <th>445</th>\n      <th>578</th>\n      <th>615</th>\n      <th>629</th>\n      <th>631</th>\n      <th>858</th>\n      <th>...</th>\n      <th>23047</th>\n      <th>23274</th>\n      <th>23383</th>\n      <th>24865</th>\n      <th>25518</th>\n      <th>25522</th>\n      <th>26269</th>\n      <th>26934</th>\n      <th>27343</th>\n      <th>27805</th>\n    </tr>\n    <tr>\n      <th>id</th>\n      <th></th>\n      <th></th>\n      <th></th>\n      <th></th>\n      <th></th>\n      <th></th>\n      <th></th>\n      <th></th>\n      <th></th>\n      <th></th>\n      <th></th>\n      <th></th>\n      <th></th>\n      <th></th>\n      <th></th>\n      <th></th>\n      <th></th>\n      <th></th>\n      <th></th>\n      <th></th>\n      <th></th>\n    </tr>\n  </thead>\n  <tbody>\n    <tr>\n      <td>sum</td>\n      <td>0.00000</td>\n      <td>0.00000</td>\n      <td>0.00000</td>\n      <td>0.00000</td>\n      <td>0.00000</td>\n      <td>1.00000</td>\n      <td>0.00000</td>\n      <td>0.00000</td>\n      <td>0.00000</td>\n      <td>0.00000</td>\n      <td>...</td>\n      <td>0.00000</td>\n      <td>0.00000</td>\n      <td>0.00000</td>\n      <td>0.00000</td>\n      <td>0.00000</td>\n      <td>0.00000</td>\n      <td>0.00000</td>\n      <td>0.00000</td>\n      <td>0.00000</td>\n      <td>0.00000</td>\n    </tr>\n  </tbody>\n</table>\n<p>1 rows × 720 columns</p>\n</div>",
      "text/plain": "      111     126     257     443     445     578     615     629     631    \\\nid                                                                            \nsum 0.00000 0.00000 0.00000 0.00000 0.00000 1.00000 0.00000 0.00000 0.00000   \n\n      858    ...   23047   23274   23383   24865   25518   25522   26269  \\\nid           ...                                                           \nsum 0.00000  ... 0.00000 0.00000 0.00000 0.00000 0.00000 0.00000 0.00000   \n\n      26934   27343   27805  \nid                           \nsum 0.00000 0.00000 0.00000  \n\n[1 rows x 720 columns]"
     },
     "execution_count": 1191,
     "metadata": {},
     "output_type": "execute_result"
    },
    {
     "data": {
      "text/plain": "0.00000    626\n1.00000     94\ndtype: int64"
     },
     "execution_count": 1191,
     "metadata": {},
     "output_type": "execute_result"
    }
   ],
   "source": [
    "user_one_vector_fat\n",
    "user_one_vector_fat.apply(pd.value_counts).count(axis=1)"
   ]
  },
  {
   "cell_type": "code",
   "execution_count": 1192,
   "metadata": {},
   "outputs": [
    {
     "data": {
      "text/html": "<div>\n<style scoped>\n    .dataframe tbody tr th:only-of-type {\n        vertical-align: middle;\n    }\n\n    .dataframe tbody tr th {\n        vertical-align: top;\n    }\n\n    .dataframe thead th {\n        text-align: right;\n    }\n</style>\n<table border=\"1\" class=\"dataframe\">\n  <thead>\n    <tr style=\"text-align: right;\">\n      <th></th>\n      <th>jaccard_distance_sum</th>\n    </tr>\n  </thead>\n  <tbody>\n    <tr>\n      <td>51850</td>\n      <td>0.88889</td>\n    </tr>\n    <tr>\n      <td>231396</td>\n      <td>0.89796</td>\n    </tr>\n    <tr>\n      <td>135885</td>\n      <td>0.90000</td>\n    </tr>\n    <tr>\n      <td>52299</td>\n      <td>0.90000</td>\n    </tr>\n    <tr>\n      <td>145843</td>\n      <td>0.90426</td>\n    </tr>\n    <tr>\n      <td>16372</td>\n      <td>0.90526</td>\n    </tr>\n    <tr>\n      <td>83083</td>\n      <td>0.90909</td>\n    </tr>\n    <tr>\n      <td>180905</td>\n      <td>0.90909</td>\n    </tr>\n    <tr>\n      <td>24682</td>\n      <td>0.91489</td>\n    </tr>\n    <tr>\n      <td>70012</td>\n      <td>0.91579</td>\n    </tr>\n  </tbody>\n</table>\n</div>",
      "text/plain": "        jaccard_distance_sum\n51850                0.88889\n231396               0.89796\n135885               0.90000\n52299                0.90000\n145843               0.90426\n16372                0.90526\n83083                0.90909\n180905               0.90909\n24682                0.91489\n70012                0.91579"
     },
     "execution_count": 1192,
     "metadata": {},
     "output_type": "execute_result"
    }
   ],
   "source": [
    "## Jaccard - Vector fat top 10\n",
    "\n",
    "result_array = cdist(user_one_vector_fat, new_recipe_db_wo_userrecipes_fat,'jaccard')\n",
    "result_w_filter_vector_fat = pd.DataFrame(result_array, columns=new_recipe_db_wo_userrecipes_fat.index.values, index=user_one_vector_fat.index.values)\n",
    "\n",
    "\n",
    "result_w_filter_vector_10_fat = pd.DataFrame(result_w_filter_vector_fat.sum(), columns=['jaccard_distance_sum'])\n",
    "result_w_filter_vector_10_fat = result_w_filter_vector_10_fat.sort_values(by='jaccard_distance_sum')\n",
    "\n",
    "result_w_filter_vector_10_fat[0:10]\n"
   ]
  },
  {
   "cell_type": "code",
   "execution_count": 1193,
   "metadata": {},
   "outputs": [
    {
     "data": {
      "text/html": "<div>\n<style scoped>\n    .dataframe tbody tr th:only-of-type {\n        vertical-align: middle;\n    }\n\n    .dataframe tbody tr th {\n        vertical-align: top;\n    }\n\n    .dataframe thead th {\n        text-align: right;\n    }\n</style>\n<table border=\"1\" class=\"dataframe\">\n  <thead>\n    <tr style=\"text-align: right;\">\n      <th></th>\n      <th>jaccard_distance_sum</th>\n    </tr>\n  </thead>\n  <tbody>\n    <tr>\n      <td>11921</td>\n      <td>0.92405</td>\n    </tr>\n    <tr>\n      <td>9005</td>\n      <td>0.92453</td>\n    </tr>\n    <tr>\n      <td>231396</td>\n      <td>0.92500</td>\n    </tr>\n    <tr>\n      <td>51850</td>\n      <td>0.92593</td>\n    </tr>\n    <tr>\n      <td>239867</td>\n      <td>0.92683</td>\n    </tr>\n    <tr>\n      <td>60598</td>\n      <td>0.93125</td>\n    </tr>\n    <tr>\n      <td>143105</td>\n      <td>0.93125</td>\n    </tr>\n    <tr>\n      <td>8550</td>\n      <td>0.93168</td>\n    </tr>\n    <tr>\n      <td>111905</td>\n      <td>0.93210</td>\n    </tr>\n    <tr>\n      <td>52299</td>\n      <td>0.93252</td>\n    </tr>\n  </tbody>\n</table>\n</div>",
      "text/plain": "        jaccard_distance_sum\n11921                0.92405\n9005                 0.92453\n231396               0.92500\n51850                0.92593\n239867               0.92683\n60598                0.93125\n143105               0.93125\n8550                 0.93168\n111905               0.93210\n52299                0.93252"
     },
     "execution_count": 1193,
     "metadata": {},
     "output_type": "execute_result"
    }
   ],
   "source": [
    "## Jaccard - Vector normal top 10\n",
    "\n",
    "result_array = cdist(user_one_vector_normal, new_recipe_db_wo_userrecipes_normal,'jaccard')\n",
    "result_w_filter_vector_normal = pd.DataFrame(result_array, columns=new_recipe_db_wo_userrecipes_normal.index.values, index=user_one_vector_normal.index.values)\n",
    "\n",
    "\n",
    "result_w_filter_vector_10_normal = pd.DataFrame(result_w_filter_vector_normal.sum(), columns=['jaccard_distance_sum'])\n",
    "result_w_filter_vector_10_normal = result_w_filter_vector_10_normal.sort_values(by='jaccard_distance_sum')\n",
    "\n",
    "result_w_filter_vector_10_normal[0:10]\n"
   ]
  },
  {
   "cell_type": "code",
   "execution_count": 1194,
   "metadata": {},
   "outputs": [
    {
     "data": {
      "text/plain": "array([ 11921,   9005, 231396,  51850, 239867,  60598, 143105,   8550,\n       111905,  52299])"
     },
     "execution_count": 1194,
     "metadata": {},
     "output_type": "execute_result"
    }
   ],
   "source": [
    "result_w_filter_vector_10_normal[0:10].index.to_numpy()"
   ]
  },
  {
   "cell_type": "code",
   "execution_count": 1195,
   "metadata": {},
   "outputs": [],
   "source": [
    "####### results"
   ]
  },
  {
   "cell_type": "code",
   "execution_count": 1196,
   "metadata": {},
   "outputs": [
    {
     "data": {
      "text/plain": "array([ 48921,  18397,  76763,  14710,  17496,  51653,  52501, 223596,\n       221304,  86813,  62459,  86628,  16966,   8556,  86860, 142220,\n        14753,   8757, 240522, 222509])"
     },
     "execution_count": 1196,
     "metadata": {},
     "output_type": "execute_result"
    }
   ],
   "source": [
    "# userrecipes fat\n",
    "sample_fat.index.to_numpy()"
   ]
  },
  {
   "cell_type": "code",
   "execution_count": 1197,
   "metadata": {},
   "outputs": [
    {
     "data": {
      "text/plain": "array([  8547, 188706,  70513, 141125,  62256, 231808,  90160, 240773,\n        18442,  14614])"
     },
     "execution_count": 1197,
     "metadata": {},
     "output_type": "execute_result"
    }
   ],
   "source": [
    "###### jaccard fat top 10 naiv\n",
    "result_w_filter_10_fat[0:10].index.to_numpy()"
   ]
  },
  {
   "cell_type": "code",
   "execution_count": 1198,
   "metadata": {},
   "outputs": [
    {
     "data": {
      "text/plain": "array(['index', 8547, 188706, 34361, 206120, 220716, 16372, 14525, 235948,\n       11678, 25884], dtype=object)"
     },
     "execution_count": 1198,
     "metadata": {},
     "output_type": "execute_result"
    }
   ],
   "source": [
    "###### jaccard kurz fat top 10\n",
    "result_fat_short[0:11].index.to_numpy()\n"
   ]
  },
  {
   "cell_type": "code",
   "execution_count": 1199,
   "metadata": {},
   "outputs": [
    {
     "data": {
      "text/plain": "array([ 51850, 231396, 135885,  52299, 145843,  16372,  83083, 180905,\n        24682,  70012])"
     },
     "execution_count": 1199,
     "metadata": {},
     "output_type": "execute_result"
    }
   ],
   "source": [
    "###### jaccard vector fat top 10\n",
    "result_w_filter_vector_10_fat[0:10].index.to_numpy()"
   ]
  },
  {
   "cell_type": "code",
   "execution_count": null,
   "metadata": {},
   "outputs": [],
   "source": []
  },
  {
   "cell_type": "code",
   "execution_count": null,
   "metadata": {},
   "outputs": [],
   "source": []
  },
  {
   "cell_type": "code",
   "execution_count": null,
   "metadata": {},
   "outputs": [],
   "source": []
  },
  {
   "cell_type": "code",
   "execution_count": null,
   "metadata": {},
   "outputs": [],
   "source": []
  },
  {
   "cell_type": "code",
   "execution_count": 1200,
   "metadata": {},
   "outputs": [
    {
     "data": {
      "text/plain": "array([220214,  24509,  45580, 150251,  18416, 202951,   8994,  52608,\n       140135,  24368,  20618,  14622,  22364, 217899, 166506, 199382,\n        17869,  36994,  15225,  59988, 230735,  88495,  16650,   8949,\n        21557, 109782,  24080,  11720,  21140,  27946,  15378,   8720,\n        30794,  79301,   8549,  16663,  16741,  43272,  88086,  19335])"
     },
     "execution_count": 1200,
     "metadata": {},
     "output_type": "execute_result"
    }
   ],
   "source": [
    "# userrecipes normal\n",
    "sample_normal.index.to_numpy()"
   ]
  },
  {
   "cell_type": "code",
   "execution_count": 1201,
   "metadata": {},
   "outputs": [
    {
     "data": {
      "text/plain": "array([ 24682,  31065,  86047,  15196, 159972,  11937,   9005,  30559,\n        20456, 231396])"
     },
     "execution_count": 1201,
     "metadata": {},
     "output_type": "execute_result"
    }
   ],
   "source": [
    "###### jaccard normal top 10 naiv\n",
    "result_w_filter_10_normal[0:10].index.to_numpy()"
   ]
  },
  {
   "cell_type": "code",
   "execution_count": 1202,
   "metadata": {},
   "outputs": [
    {
     "data": {
      "text/plain": "array(['index', 15502, 72007, 45361, 14773, 218070, 19400, 139948, 82693,\n       178809, 86047], dtype=object)"
     },
     "execution_count": 1202,
     "metadata": {},
     "output_type": "execute_result"
    }
   ],
   "source": [
    "###### jaccard kurz normal top 10\n",
    "result_normal_short[0:11].index.to_numpy()\n"
   ]
  },
  {
   "cell_type": "code",
   "execution_count": 1203,
   "metadata": {},
   "outputs": [
    {
     "data": {
      "text/plain": "array([ 11921,   9005, 231396,  51850, 239867,  60598, 143105,   8550,\n       111905,  52299])"
     },
     "execution_count": 1203,
     "metadata": {},
     "output_type": "execute_result"
    }
   ],
   "source": [
    "###### jaccard vector normal top 10\n",
    "result_w_filter_vector_10_normal[0:10].index.to_numpy()"
   ]
  },
  {
   "cell_type": "code",
   "execution_count": 1204,
   "metadata": {},
   "outputs": [
    {
     "data": {
      "text/plain": "array([232097,  22943, 212882, 222249,  43024,   8606, 219919,  72767,\n       143375,  47667])"
     },
     "execution_count": 1204,
     "metadata": {},
     "output_type": "execute_result"
    }
   ],
   "source": [
    "##### random top 10\n",
    "subset_random_top10.index.to_numpy()"
   ]
  },
  {
   "cell_type": "code",
   "execution_count": null,
   "metadata": {},
   "outputs": [],
   "source": []
  },
  {
   "cell_type": "code",
   "execution_count": null,
   "metadata": {},
   "outputs": [],
   "source": []
  },
  {
   "cell_type": "code",
   "execution_count": null,
   "metadata": {},
   "outputs": [],
   "source": []
  },
  {
   "cell_type": "code",
   "execution_count": null,
   "metadata": {},
   "outputs": [],
   "source": []
  },
  {
   "cell_type": "code",
   "execution_count": 1216,
   "metadata": {},
   "outputs": [],
   "source": [
    "result_w_filter_fat_50 = result_w_filter_10_fat[0:50].copy()\n",
    "result_w_filter_fat_50['pos'] = np.arange(len(result_w_filter_fat_50))\n",
    "result_w_filter_fat_50 = result_w_filter_fat_50.reset_index()\n",
    "result_w_filter_fat_50 = result_w_filter_fat_50.set_index('index')"
   ]
  },
  {
   "cell_type": "code",
   "execution_count": 1236,
   "metadata": {},
   "outputs": [],
   "source": [
    "result_w_filter_fat_50 = result_w_filter_vector_10_fat[0:50].copy()\n",
    "result_w_filter_fat_50['pos'] = np.arange(len(result_w_filter_fat_50))\n",
    "result_w_filter_fat_50 = result_w_filter_fat_50.reset_index()\n",
    "result_w_filter_fat_50 = result_w_filter_fat_50.set_index('index')"
   ]
  },
  {
   "cell_type": "code",
   "execution_count": 1237,
   "metadata": {},
   "outputs": [],
   "source": [
    "#  ------ Erstellung und cleansing des Nutrition Dataframes\n",
    "\n",
    "# erstelle neue liste auf basis der bereits gefilterten rezepte aus ingredients_filt\n",
    "id_overlap_mask = nutritions['id'].isin(result_w_filter_fat_50.index.get_level_values('index').values)\n",
    "\n",
    "# erstelle datenframe auf basis der overlapliste\n",
    "nutritions_filt = nutritions.loc[id_overlap_mask]\n",
    "\n",
    "nutrition_db3 = nutritions_filt.pivot_table(\n",
    "    index=['id'],\n",
    "    columns=['name'],\n",
    "    values=['amount'],\n",
    ").reset_index()\n",
    "\n",
    "nutrition_db3.set_index('id', inplace=True)\n",
    "\n",
    "# remove multiindex 'amount'\n",
    "nutrition_db3.columns = nutrition_db3.columns.droplevel(0)\n",
    "\n",
    "# entferne alle NA\n",
    "nutrition_db3 = nutrition_db3.dropna()"
   ]
  },
  {
   "cell_type": "code",
   "execution_count": 1238,
   "metadata": {},
   "outputs": [],
   "source": [
    "# 19–30 empfohlene nährwerte pro tag #https://www.ncbi.nlm.nih.gov/books/NBK56068/table/summarytables.t4/?report=objectonly\n",
    "recommenden_nut_low_fat = pd.DataFrame(data=None, columns=nutrition_db2.columns, index=None)\n",
    "recommenden_nut_low_fat.loc['index'] = [\n",
    "    # \"Calcium\":[1],\n",
    "    333.3,\n",
    "    # \"Calories\":[1],\n",
    "    800,\n",
    "    # \"Calories from Fat\":[1],\n",
    "    0,\n",
    "    # \"Carbohydrates\":[1],\n",
    "    43.3,\n",
    "    # \"Cholesterol\":[1],\n",
    "    0,\n",
    "    # \"Dietary Fiber\t\":[1],\n",
    "    8.3,\n",
    "    # \"Fat\":[1],\n",
    "    1,\n",
    "    # \"Folate\":[1],\n",
    "    133.3,\n",
    "    # \"Iron\":[1],\n",
    "    2.6,\n",
    "    # \"Magnesium\":[1],\n",
    "    133.3,\n",
    "    # \"Niacin Equivalents\":[1],\n",
    "    5.3,\n",
    "    # \"Potassium\":[1],\n",
    "    1,\n",
    "    # \"Protein\":[1],\n",
    "    18.6,\n",
    "    # \"Saturated Fat\":[1],\n",
    "    0,\n",
    "    # \"Sodium\":[1],\n",
    "    0.5,\n",
    "    # \"Sugars\":[1],\n",
    "    0,\n",
    "    # \"Thiamin\":[1],\n",
    "    0.4,\n",
    "    # \"Vitamin A - IU\":[1],\n",
    "    300,\n",
    "    # \"Vitamin B6\":[1],\n",
    "    0.43,\n",
    "    # \"Vitamin C\":[1]}\n",
    "    30]\n"
   ]
  },
  {
   "cell_type": "code",
   "execution_count": 1239,
   "metadata": {},
   "outputs": [],
   "source": [
    "no_weight = [\n",
    "    # \"Calcium\":[1],\n",
    "    1,\n",
    "    # \"Calories\":[1],\n",
    "    1,\n",
    "    # \"Calories from Fat\":[1],\n",
    "    1,\n",
    "    # \"Carbohydrates\":[1],\n",
    "    1,\n",
    "    # \"Cholesterol\":[1],\n",
    "    1,\n",
    "    # \"Dietary Fiber\t\":[1],\n",
    "    1,\n",
    "    # \"Fat\":[1],\n",
    "    1,\n",
    "    # \"Folate\":[1],\n",
    "    1,\n",
    "    # \"Iron\":[1],\n",
    "    1,\n",
    "    # \"Magnesium\":[1],\n",
    "    1,\n",
    "    # \"Niacin Equivalents\":[1],\n",
    "    1,\n",
    "    # \"Potassium\":[1],\n",
    "    1,\n",
    "    # \"Protein\":[1],\n",
    "    1,\n",
    "    # \"Saturated Fat\":[1],\n",
    "    1,\n",
    "    # \"Sodium\":[1],\n",
    "    1,\n",
    "    # \"Sugars\":[1],\n",
    "    1,\n",
    "    # \"Thiamin\":[1],\n",
    "    1,\n",
    "    # \"Vitamin A - IU\":[1],\n",
    "    1,\n",
    "    # \"Vitamin B6\":[1],\n",
    "    1,\n",
    "    # \"Vitamin C\":[1]}\n",
    "    1]\n",
    "\n",
    "weighted_fat = [\n",
    "    # \"Calcium\":[1],\n",
    "    1,\n",
    "    # \"Calories\":[1],\n",
    "    1,\n",
    "    # \"Calories from Fat\":[1],\n",
    "    1,\n",
    "    # \"Carbohydrates\":[1],\n",
    "    1,\n",
    "    # \"Cholesterol\":[1],\n",
    "    1,\n",
    "    # \"Dietary Fiber\t\":[1],\n",
    "    1,\n",
    "    # \"Fat\":[1],\n",
    "    10000000,\n",
    "    # \"Folate\":[1],\n",
    "    1,\n",
    "    # \"Iron\":[1],\n",
    "    1,\n",
    "    # \"Magnesium\":[1],\n",
    "    1,\n",
    "    # \"Niacin Equivalents\":[1],\n",
    "    1,\n",
    "    # \"Potassium\":[1],\n",
    "    1,\n",
    "    # \"Protein\":[1],\n",
    "    1,\n",
    "    # \"Saturated Fat\":[1],\n",
    "    1,\n",
    "    # \"Sodium\":[1],\n",
    "    1,\n",
    "    # \"Sugars\":[1],\n",
    "    1,\n",
    "    # \"Thiamin\":[1],\n",
    "    1,\n",
    "    # \"Vitamin A - IU\":[1],\n",
    "    1,\n",
    "    # \"Vitamin B6\":[1],\n",
    "    1,\n",
    "    # \"Vitamin C\":[1]}\n",
    "    1]\n",
    "\n",
    "weighted_carbs = [\n",
    "    # \"Calcium\":[1],\n",
    "    1,\n",
    "    # \"Calories\":[1],\n",
    "    1,\n",
    "    # \"Calories from Fat\":[1],\n",
    "    1,\n",
    "    # \"Carbohydrates\":[1],\n",
    "    1000000,\n",
    "    # \"Cholesterol\":[1],\n",
    "    1,\n",
    "    # \"Dietary Fiber\t\":[1],\n",
    "    1,\n",
    "    # \"Fat\":[1],\n",
    "    1,\n",
    "    # \"Folate\":[1],\n",
    "    1,\n",
    "    # \"Iron\":[1],\n",
    "    1,\n",
    "    # \"Magnesium\":[1],\n",
    "    1,\n",
    "    # \"Niacin Equivalents\":[1],\n",
    "    1,\n",
    "    # \"Potassium\":[1],\n",
    "    1,\n",
    "    # \"Protein\":[1],\n",
    "    1,\n",
    "    # \"Saturated Fat\":[1],\n",
    "    1,\n",
    "    # \"Sodium\":[1],\n",
    "    1,\n",
    "    # \"Sugars\":[1],\n",
    "    1,\n",
    "    # \"Thiamin\":[1],\n",
    "    1,\n",
    "    # \"Vitamin A - IU\":[1],\n",
    "    1,\n",
    "    # \"Vitamin B6\":[1],\n",
    "    1,\n",
    "    # \"Vitamin C\":[1]}\n",
    "    1]"
   ]
  },
  {
   "cell_type": "code",
   "execution_count": 1240,
   "metadata": {},
   "outputs": [
    {
     "data": {
      "text/html": "<div>\n<style scoped>\n    .dataframe tbody tr th:only-of-type {\n        vertical-align: middle;\n    }\n\n    .dataframe tbody tr th {\n        vertical-align: top;\n    }\n\n    .dataframe thead th {\n        text-align: right;\n    }\n</style>\n<table border=\"1\" class=\"dataframe\">\n  <thead>\n    <tr style=\"text-align: right;\">\n      <th></th>\n      <th>euclid_distance_sum</th>\n    </tr>\n  </thead>\n  <tbody>\n    <tr>\n      <td>51039</td>\n      <td>11530.32013</td>\n    </tr>\n    <tr>\n      <td>22331</td>\n      <td>23518.12165</td>\n    </tr>\n    <tr>\n      <td>16330</td>\n      <td>26524.87854</td>\n    </tr>\n    <tr>\n      <td>51850</td>\n      <td>26566.83111</td>\n    </tr>\n    <tr>\n      <td>111905</td>\n      <td>28943.41405</td>\n    </tr>\n    <tr>\n      <td>22751</td>\n      <td>32658.76877</td>\n    </tr>\n    <tr>\n      <td>73964</td>\n      <td>39506.76667</td>\n    </tr>\n    <tr>\n      <td>218720</td>\n      <td>42338.13198</td>\n    </tr>\n    <tr>\n      <td>86515</td>\n      <td>45571.94446</td>\n    </tr>\n    <tr>\n      <td>72804</td>\n      <td>48045.81138</td>\n    </tr>\n  </tbody>\n</table>\n</div>",
      "text/plain": "        euclid_distance_sum\n51039           11530.32013\n22331           23518.12165\n16330           26524.87854\n51850           26566.83111\n111905          28943.41405\n22751           32658.76877\n73964           39506.76667\n218720          42338.13198\n86515           45571.94446\n72804           48045.81138"
     },
     "execution_count": 1240,
     "metadata": {},
     "output_type": "execute_result"
    }
   ],
   "source": [
    "# euklidische distanz für nährwerte\n",
    "\n",
    "result_array = cdist(recommenden_nut_low_fat, nutrition_db3, 'minkowski', p=2, w=weighted_fat)\n",
    "euclid_distance = pd.DataFrame(\n",
    "    result_array, columns=nutrition_db3.index.values, index=recommenden_nut_low_fat.index.values)\n",
    "\n",
    "euclid_distance_sum_fat = pd.DataFrame(\n",
    "    euclid_distance.sum(), columns=['euclid_distance_sum'])\n",
    "euclid_distance_sum_fat = euclid_distance_sum_fat.sort_values(by='euclid_distance_sum')\n",
    "euclid_distance_sum_fat[0:10]"
   ]
  },
  {
   "cell_type": "code",
   "execution_count": 1241,
   "metadata": {},
   "outputs": [],
   "source": [
    "jaccard_euclid_joined_fat = pd.merge(euclid_distance_sum_fat, result_w_filter_fat_50, left_index=True, right_index=True)"
   ]
  },
  {
   "cell_type": "code",
   "execution_count": 1242,
   "metadata": {},
   "outputs": [],
   "source": [
    "#  ------ Erstellung und cleansing des Nutrition Dataframes\n",
    "\n",
    "# erstelle neue liste auf basis der bereits gefilterten rezepte aus ingredients_filt\n",
    "id_overlap_mask = nutritions['id'].isin(jaccard_euclid_joined_fat[0:10].index.to_numpy())\n",
    "\n",
    "# erstelle datenframe auf basis der overlapliste\n",
    "nutritions_filt = nutritions.loc[id_overlap_mask]\n",
    "\n",
    "nutrition_top10_fat = nutritions_filt.pivot_table(\n",
    "    index=['id'],\n",
    "    columns=['name'],\n",
    "    values=['amount'],\n",
    ").reset_index()\n",
    "\n",
    "nutrition_top10_fat.set_index('id', inplace=True)\n",
    "\n",
    "# remove multiindex 'amount'\n",
    "nutrition_top10_fat.columns = nutrition_top10_fat.columns.droplevel(0)\n",
    "\n",
    "# entferne alle NA\n",
    "nutrition_top10_fat = nutrition_top10_fat.dropna()"
   ]
  },
  {
   "cell_type": "code",
   "execution_count": 1243,
   "metadata": {},
   "outputs": [],
   "source": [
    "#  ------ Erstellung und cleansing des Nutrition Dataframes\n",
    "\n",
    "# erstelle neue liste auf basis der bereits gefilterten rezepte aus ingredients_filt\n",
    "id_overlap_mask = nutritions['id'].isin(user_recipes_fat.index.to_numpy())\n",
    "\n",
    "# erstelle datenframe auf basis der overlapliste\n",
    "nutritions_filt = nutritions.loc[id_overlap_mask]\n",
    "\n",
    "nutrition_user_recipes_fat = nutritions_filt.pivot_table(\n",
    "    index=['id'],\n",
    "    columns=['name'],\n",
    "    values=['amount'],\n",
    ").reset_index()\n",
    "\n",
    "nutrition_user_recipes_fat.set_index('id', inplace=True)\n",
    "\n",
    "# remove multiindex 'amount'\n",
    "nutrition_user_recipes_fat.columns = nutrition_user_recipes_fat.columns.droplevel(0)\n",
    "\n",
    "# entferne alle NA\n",
    "nutrition_user_recipes_fat = nutrition_user_recipes_fat.dropna()"
   ]
  },
  {
   "cell_type": "code",
   "execution_count": 1244,
   "metadata": {},
   "outputs": [
    {
     "data": {
      "text/html": "<div>\n<style scoped>\n    .dataframe tbody tr th:only-of-type {\n        vertical-align: middle;\n    }\n\n    .dataframe tbody tr th {\n        vertical-align: top;\n    }\n\n    .dataframe thead th {\n        text-align: right;\n    }\n</style>\n<table border=\"1\" class=\"dataframe\">\n  <thead>\n    <tr style=\"text-align: right;\">\n      <th>name</th>\n      <th>Calcium</th>\n      <th>Calories</th>\n      <th>Calories from Fat</th>\n      <th>Carbohydrates</th>\n      <th>Cholesterol</th>\n      <th>Dietary Fiber</th>\n      <th>Fat</th>\n      <th>Folate</th>\n      <th>Iron</th>\n      <th>Magnesium</th>\n      <th>Niacin Equivalents</th>\n      <th>Potassium</th>\n      <th>Protein</th>\n      <th>Saturated Fat</th>\n      <th>Sodium</th>\n      <th>Sugars</th>\n      <th>Thiamin</th>\n      <th>Vitamin A - IU</th>\n      <th>Vitamin B6</th>\n      <th>Vitamin C</th>\n    </tr>\n  </thead>\n  <tbody>\n    <tr>\n      <td>count</td>\n      <td>20.00000</td>\n      <td>20.00000</td>\n      <td>20.00000</td>\n      <td>20.00000</td>\n      <td>20.00000</td>\n      <td>20.00000</td>\n      <td>20.00000</td>\n      <td>20.00000</td>\n      <td>20.00000</td>\n      <td>20.00000</td>\n      <td>20.00000</td>\n      <td>20.00000</td>\n      <td>20.00000</td>\n      <td>20.00000</td>\n      <td>20.00000</td>\n      <td>20.00000</td>\n      <td>20.00000</td>\n      <td>20.00000</td>\n      <td>20.00000</td>\n      <td>20.00000</td>\n    </tr>\n    <tr>\n      <td>mean</td>\n      <td>144.61405</td>\n      <td>563.83977</td>\n      <td>334.64292</td>\n      <td>24.81982</td>\n      <td>148.59054</td>\n      <td>2.55403</td>\n      <td>37.18255</td>\n      <td>66.66100</td>\n      <td>3.07888</td>\n      <td>62.11656</td>\n      <td>15.13814</td>\n      <td>623.81233</td>\n      <td>32.44829</td>\n      <td>15.10086</td>\n      <td>831.17217</td>\n      <td>5.65421</td>\n      <td>0.44840</td>\n      <td>1688.64223</td>\n      <td>0.62842</td>\n      <td>13.15263</td>\n    </tr>\n    <tr>\n      <td>std</td>\n      <td>126.89385</td>\n      <td>92.24917</td>\n      <td>14.74709</td>\n      <td>16.54758</td>\n      <td>73.82278</td>\n      <td>2.18785</td>\n      <td>1.63857</td>\n      <td>63.02347</td>\n      <td>1.33454</td>\n      <td>32.62118</td>\n      <td>5.77701</td>\n      <td>236.43041</td>\n      <td>10.22158</td>\n      <td>5.02136</td>\n      <td>509.40516</td>\n      <td>6.72385</td>\n      <td>0.46234</td>\n      <td>2520.36637</td>\n      <td>0.23017</td>\n      <td>17.42727</td>\n    </tr>\n    <tr>\n      <td>min</td>\n      <td>22.91706</td>\n      <td>390.71980</td>\n      <td>315.51250</td>\n      <td>1.27936</td>\n      <td>41.73750</td>\n      <td>0.09962</td>\n      <td>35.05695</td>\n      <td>6.08000</td>\n      <td>0.58999</td>\n      <td>21.99075</td>\n      <td>7.48167</td>\n      <td>287.94660</td>\n      <td>14.97870</td>\n      <td>5.39091</td>\n      <td>46.13375</td>\n      <td>0.04464</td>\n      <td>0.09600</td>\n      <td>92.58968</td>\n      <td>0.21252</td>\n      <td>0.87000</td>\n    </tr>\n    <tr>\n      <td>25%</td>\n      <td>57.02250</td>\n      <td>500.82482</td>\n      <td>321.00120</td>\n      <td>13.55052</td>\n      <td>112.02998</td>\n      <td>1.29250</td>\n      <td>35.66680</td>\n      <td>23.66486</td>\n      <td>2.21580</td>\n      <td>44.04216</td>\n      <td>10.62018</td>\n      <td>450.36312</td>\n      <td>24.81829</td>\n      <td>12.26370</td>\n      <td>468.45170</td>\n      <td>1.89710</td>\n      <td>0.15030</td>\n      <td>253.70312</td>\n      <td>0.52699</td>\n      <td>2.74889</td>\n    </tr>\n    <tr>\n      <td>50%</td>\n      <td>112.86760</td>\n      <td>549.52315</td>\n      <td>335.26590</td>\n      <td>24.81457</td>\n      <td>137.62725</td>\n      <td>1.80051</td>\n      <td>37.25176</td>\n      <td>52.50934</td>\n      <td>3.00261</td>\n      <td>54.51962</td>\n      <td>13.48708</td>\n      <td>576.30155</td>\n      <td>32.58400</td>\n      <td>14.09328</td>\n      <td>740.38360</td>\n      <td>2.21235</td>\n      <td>0.27884</td>\n      <td>806.58680</td>\n      <td>0.58379</td>\n      <td>8.96771</td>\n    </tr>\n    <tr>\n      <td>75%</td>\n      <td>159.31080</td>\n      <td>606.45907</td>\n      <td>347.85147</td>\n      <td>30.89026</td>\n      <td>167.07108</td>\n      <td>3.00643</td>\n      <td>38.65017</td>\n      <td>69.04147</td>\n      <td>4.16262</td>\n      <td>70.92839</td>\n      <td>20.04293</td>\n      <td>761.43085</td>\n      <td>38.42296</td>\n      <td>18.68514</td>\n      <td>1061.28575</td>\n      <td>7.69758</td>\n      <td>0.55754</td>\n      <td>1667.73675</td>\n      <td>0.73867</td>\n      <td>12.07114</td>\n    </tr>\n    <tr>\n      <td>max</td>\n      <td>448.91530</td>\n      <td>754.54210</td>\n      <td>356.99080</td>\n      <td>68.65463</td>\n      <td>402.30000</td>\n      <td>8.02383</td>\n      <td>39.66564</td>\n      <td>265.00170</td>\n      <td>5.45481</td>\n      <td>148.31270</td>\n      <td>27.61897</td>\n      <td>1224.39900</td>\n      <td>51.97705</td>\n      <td>22.90133</td>\n      <td>2130.98300</td>\n      <td>22.38983</td>\n      <td>1.87098</td>\n      <td>10316.97000</td>\n      <td>1.18235</td>\n      <td>74.77966</td>\n    </tr>\n  </tbody>\n</table>\n</div>",
      "text/plain": "name    Calcium  Calories  Calories from Fat  Carbohydrates  Cholesterol  \\\ncount  20.00000  20.00000           20.00000       20.00000     20.00000   \nmean  144.61405 563.83977          334.64292       24.81982    148.59054   \nstd   126.89385  92.24917           14.74709       16.54758     73.82278   \nmin    22.91706 390.71980          315.51250        1.27936     41.73750   \n25%    57.02250 500.82482          321.00120       13.55052    112.02998   \n50%   112.86760 549.52315          335.26590       24.81457    137.62725   \n75%   159.31080 606.45907          347.85147       30.89026    167.07108   \nmax   448.91530 754.54210          356.99080       68.65463    402.30000   \n\nname   Dietary Fiber      Fat    Folate     Iron  Magnesium  \\\ncount       20.00000 20.00000  20.00000 20.00000   20.00000   \nmean         2.55403 37.18255  66.66100  3.07888   62.11656   \nstd          2.18785  1.63857  63.02347  1.33454   32.62118   \nmin          0.09962 35.05695   6.08000  0.58999   21.99075   \n25%          1.29250 35.66680  23.66486  2.21580   44.04216   \n50%          1.80051 37.25176  52.50934  3.00261   54.51962   \n75%          3.00643 38.65017  69.04147  4.16262   70.92839   \nmax          8.02383 39.66564 265.00170  5.45481  148.31270   \n\nname   Niacin Equivalents  Potassium  Protein  Saturated Fat     Sodium  \\\ncount            20.00000   20.00000 20.00000       20.00000   20.00000   \nmean             15.13814  623.81233 32.44829       15.10086  831.17217   \nstd               5.77701  236.43041 10.22158        5.02136  509.40516   \nmin               7.48167  287.94660 14.97870        5.39091   46.13375   \n25%              10.62018  450.36312 24.81829       12.26370  468.45170   \n50%              13.48708  576.30155 32.58400       14.09328  740.38360   \n75%              20.04293  761.43085 38.42296       18.68514 1061.28575   \nmax              27.61897 1224.39900 51.97705       22.90133 2130.98300   \n\nname    Sugars  Thiamin  Vitamin A - IU  Vitamin B6  Vitamin C  \ncount 20.00000 20.00000        20.00000    20.00000   20.00000  \nmean   5.65421  0.44840      1688.64223     0.62842   13.15263  \nstd    6.72385  0.46234      2520.36637     0.23017   17.42727  \nmin    0.04464  0.09600        92.58968     0.21252    0.87000  \n25%    1.89710  0.15030       253.70312     0.52699    2.74889  \n50%    2.21235  0.27884       806.58680     0.58379    8.96771  \n75%    7.69758  0.55754      1667.73675     0.73867   12.07114  \nmax   22.38983  1.87098     10316.97000     1.18235   74.77966  "
     },
     "execution_count": 1244,
     "metadata": {},
     "output_type": "execute_result"
    }
   ],
   "source": [
    "nutrition_user_recipes_fat.describe()"
   ]
  },
  {
   "cell_type": "code",
   "execution_count": 1245,
   "metadata": {},
   "outputs": [
    {
     "data": {
      "text/html": "<div>\n<style scoped>\n    .dataframe tbody tr th:only-of-type {\n        vertical-align: middle;\n    }\n\n    .dataframe tbody tr th {\n        vertical-align: top;\n    }\n\n    .dataframe thead th {\n        text-align: right;\n    }\n</style>\n<table border=\"1\" class=\"dataframe\">\n  <thead>\n    <tr style=\"text-align: right;\">\n      <th></th>\n      <th>euclid_distance_sum</th>\n      <th>jaccard_distance_sum</th>\n      <th>pos</th>\n    </tr>\n  </thead>\n  <tbody>\n    <tr>\n      <td>51039</td>\n      <td>11530.32013</td>\n      <td>0.91837</td>\n      <td>18</td>\n    </tr>\n    <tr>\n      <td>22331</td>\n      <td>23518.12165</td>\n      <td>0.91919</td>\n      <td>23</td>\n    </tr>\n    <tr>\n      <td>16330</td>\n      <td>26524.87854</td>\n      <td>0.92632</td>\n      <td>31</td>\n    </tr>\n    <tr>\n      <td>51850</td>\n      <td>26566.83111</td>\n      <td>0.88889</td>\n      <td>0</td>\n    </tr>\n    <tr>\n      <td>111905</td>\n      <td>28943.41405</td>\n      <td>0.92079</td>\n      <td>26</td>\n    </tr>\n    <tr>\n      <td>22751</td>\n      <td>32658.76877</td>\n      <td>0.92632</td>\n      <td>29</td>\n    </tr>\n    <tr>\n      <td>73964</td>\n      <td>39506.76667</td>\n      <td>0.92708</td>\n      <td>40</td>\n    </tr>\n    <tr>\n      <td>218720</td>\n      <td>42338.13198</td>\n      <td>0.92708</td>\n      <td>33</td>\n    </tr>\n    <tr>\n      <td>86515</td>\n      <td>45571.94446</td>\n      <td>0.92079</td>\n      <td>25</td>\n    </tr>\n    <tr>\n      <td>72804</td>\n      <td>48045.81138</td>\n      <td>0.91837</td>\n      <td>19</td>\n    </tr>\n  </tbody>\n</table>\n</div>",
      "text/plain": "        euclid_distance_sum  jaccard_distance_sum  pos\n51039           11530.32013               0.91837   18\n22331           23518.12165               0.91919   23\n16330           26524.87854               0.92632   31\n51850           26566.83111               0.88889    0\n111905          28943.41405               0.92079   26\n22751           32658.76877               0.92632   29\n73964           39506.76667               0.92708   40\n218720          42338.13198               0.92708   33\n86515           45571.94446               0.92079   25\n72804           48045.81138               0.91837   19"
     },
     "execution_count": 1245,
     "metadata": {},
     "output_type": "execute_result"
    }
   ],
   "source": [
    "jaccard_euclid_joined_fat[0:10]"
   ]
  },
  {
   "cell_type": "code",
   "execution_count": 1246,
   "metadata": {},
   "outputs": [
    {
     "data": {
      "text/plain": "array([ 51039,  22331,  16330,  51850, 111905,  22751,  73964, 218720,\n        86515,  72804])"
     },
     "execution_count": 1246,
     "metadata": {},
     "output_type": "execute_result"
    }
   ],
   "source": [
    "jaccard_euclid_joined_fat[0:10].index.to_numpy()"
   ]
  },
  {
   "cell_type": "code",
   "execution_count": 1247,
   "metadata": {},
   "outputs": [
    {
     "data": {
      "text/plain": "array([ 16330,  22331,  22751,  51039,  51850,  72804,  73964,  86515,\n       111905, 218720])"
     },
     "execution_count": 1247,
     "metadata": {},
     "output_type": "execute_result"
    }
   ],
   "source": [
    "nutrition_top10_fat.index.to_numpy()"
   ]
  },
  {
   "cell_type": "code",
   "execution_count": 1248,
   "metadata": {},
   "outputs": [
    {
     "data": {
      "text/html": "<div>\n<style scoped>\n    .dataframe tbody tr th:only-of-type {\n        vertical-align: middle;\n    }\n\n    .dataframe tbody tr th {\n        vertical-align: top;\n    }\n\n    .dataframe thead th {\n        text-align: right;\n    }\n</style>\n<table border=\"1\" class=\"dataframe\">\n  <thead>\n    <tr style=\"text-align: right;\">\n      <th>name</th>\n      <th>Calcium</th>\n      <th>Calories</th>\n      <th>Calories from Fat</th>\n      <th>Carbohydrates</th>\n      <th>Cholesterol</th>\n      <th>Dietary Fiber</th>\n      <th>Fat</th>\n      <th>Folate</th>\n      <th>Iron</th>\n      <th>Magnesium</th>\n      <th>Niacin Equivalents</th>\n      <th>Potassium</th>\n      <th>Protein</th>\n      <th>Saturated Fat</th>\n      <th>Sodium</th>\n      <th>Sugars</th>\n      <th>Thiamin</th>\n      <th>Vitamin A - IU</th>\n      <th>Vitamin B6</th>\n      <th>Vitamin C</th>\n    </tr>\n  </thead>\n  <tbody>\n    <tr>\n      <td>count</td>\n      <td>10.00000</td>\n      <td>10.00000</td>\n      <td>10.00000</td>\n      <td>10.00000</td>\n      <td>10.00000</td>\n      <td>10.00000</td>\n      <td>10.00000</td>\n      <td>10.00000</td>\n      <td>10.00000</td>\n      <td>10.00000</td>\n      <td>10.00000</td>\n      <td>10.00000</td>\n      <td>10.00000</td>\n      <td>10.00000</td>\n      <td>10.00000</td>\n      <td>10.00000</td>\n      <td>10.00000</td>\n      <td>10.00000</td>\n      <td>10.00000</td>\n      <td>10.00000</td>\n    </tr>\n    <tr>\n      <td>mean</td>\n      <td>131.75451</td>\n      <td>302.88898</td>\n      <td>101.32971</td>\n      <td>28.40184</td>\n      <td>56.39162</td>\n      <td>2.85592</td>\n      <td>11.25886</td>\n      <td>62.27610</td>\n      <td>2.64841</td>\n      <td>45.69298</td>\n      <td>11.04583</td>\n      <td>494.85227</td>\n      <td>21.90511</td>\n      <td>3.45302</td>\n      <td>837.72160</td>\n      <td>11.36681</td>\n      <td>0.21913</td>\n      <td>1568.89711</td>\n      <td>0.46788</td>\n      <td>26.84125</td>\n    </tr>\n    <tr>\n      <td>std</td>\n      <td>109.05386</td>\n      <td>81.02762</td>\n      <td>32.49154</td>\n      <td>18.79912</td>\n      <td>18.25881</td>\n      <td>1.38868</td>\n      <td>3.61017</td>\n      <td>44.92809</td>\n      <td>0.60092</td>\n      <td>14.83878</td>\n      <td>5.73558</td>\n      <td>172.19809</td>\n      <td>6.17445</td>\n      <td>1.98677</td>\n      <td>554.44844</td>\n      <td>16.14545</td>\n      <td>0.14238</td>\n      <td>993.47436</td>\n      <td>0.23908</td>\n      <td>27.62678</td>\n    </tr>\n    <tr>\n      <td>min</td>\n      <td>34.35106</td>\n      <td>194.36270</td>\n      <td>40.95089</td>\n      <td>10.26850</td>\n      <td>15.40167</td>\n      <td>1.28899</td>\n      <td>4.55010</td>\n      <td>7.59145</td>\n      <td>1.89260</td>\n      <td>26.74829</td>\n      <td>6.38666</td>\n      <td>233.59590</td>\n      <td>13.60084</td>\n      <td>0.88550</td>\n      <td>251.82900</td>\n      <td>1.75411</td>\n      <td>0.07396</td>\n      <td>50.63841</td>\n      <td>0.17184</td>\n      <td>4.29336</td>\n    </tr>\n    <tr>\n      <td>25%</td>\n      <td>42.49552</td>\n      <td>239.55507</td>\n      <td>84.41155</td>\n      <td>14.82348</td>\n      <td>48.02700</td>\n      <td>1.79375</td>\n      <td>9.37906</td>\n      <td>36.93420</td>\n      <td>2.08343</td>\n      <td>34.28930</td>\n      <td>7.15479</td>\n      <td>373.82885</td>\n      <td>16.90826</td>\n      <td>1.88520</td>\n      <td>565.15812</td>\n      <td>2.96123</td>\n      <td>0.10868</td>\n      <td>1044.31535</td>\n      <td>0.32859</td>\n      <td>10.89144</td>\n    </tr>\n    <tr>\n      <td>50%</td>\n      <td>99.62789</td>\n      <td>299.08350</td>\n      <td>96.45348</td>\n      <td>23.17948</td>\n      <td>61.29291</td>\n      <td>2.53357</td>\n      <td>10.71705</td>\n      <td>53.48394</td>\n      <td>2.73235</td>\n      <td>43.40824</td>\n      <td>7.78749</td>\n      <td>482.70320</td>\n      <td>21.52152</td>\n      <td>3.14365</td>\n      <td>640.33080</td>\n      <td>5.83783</td>\n      <td>0.18512</td>\n      <td>1469.39950</td>\n      <td>0.44899</td>\n      <td>14.63942</td>\n    </tr>\n    <tr>\n      <td>75%</td>\n      <td>170.74938</td>\n      <td>340.16745</td>\n      <td>127.43638</td>\n      <td>30.44074</td>\n      <td>68.13024</td>\n      <td>3.49309</td>\n      <td>14.15960</td>\n      <td>81.36064</td>\n      <td>2.96001</td>\n      <td>57.63681</td>\n      <td>14.93306</td>\n      <td>626.79703</td>\n      <td>25.15311</td>\n      <td>4.81450</td>\n      <td>768.32225</td>\n      <td>11.96604</td>\n      <td>0.26448</td>\n      <td>1843.44850</td>\n      <td>0.53621</td>\n      <td>36.55744</td>\n    </tr>\n    <tr>\n      <td>max</td>\n      <td>348.36540</td>\n      <td>442.17210</td>\n      <td>145.63280</td>\n      <td>67.86639</td>\n      <td>76.50800</td>\n      <td>5.93529</td>\n      <td>16.18143</td>\n      <td>155.88120</td>\n      <td>3.61423</td>\n      <td>71.90273</td>\n      <td>23.41771</td>\n      <td>746.42290</td>\n      <td>34.32086</td>\n      <td>6.58164</td>\n      <td>1930.57000</td>\n      <td>55.54696</td>\n      <td>0.51300</td>\n      <td>3368.70700</td>\n      <td>1.00677</td>\n      <td>96.19368</td>\n    </tr>\n  </tbody>\n</table>\n</div>",
      "text/plain": "name    Calcium  Calories  Calories from Fat  Carbohydrates  Cholesterol  \\\ncount  10.00000  10.00000           10.00000       10.00000     10.00000   \nmean  131.75451 302.88898          101.32971       28.40184     56.39162   \nstd   109.05386  81.02762           32.49154       18.79912     18.25881   \nmin    34.35106 194.36270           40.95089       10.26850     15.40167   \n25%    42.49552 239.55507           84.41155       14.82348     48.02700   \n50%    99.62789 299.08350           96.45348       23.17948     61.29291   \n75%   170.74938 340.16745          127.43638       30.44074     68.13024   \nmax   348.36540 442.17210          145.63280       67.86639     76.50800   \n\nname   Dietary Fiber      Fat    Folate     Iron  Magnesium  \\\ncount       10.00000 10.00000  10.00000 10.00000   10.00000   \nmean         2.85592 11.25886  62.27610  2.64841   45.69298   \nstd          1.38868  3.61017  44.92809  0.60092   14.83878   \nmin          1.28899  4.55010   7.59145  1.89260   26.74829   \n25%          1.79375  9.37906  36.93420  2.08343   34.28930   \n50%          2.53357 10.71705  53.48394  2.73235   43.40824   \n75%          3.49309 14.15960  81.36064  2.96001   57.63681   \nmax          5.93529 16.18143 155.88120  3.61423   71.90273   \n\nname   Niacin Equivalents  Potassium  Protein  Saturated Fat     Sodium  \\\ncount            10.00000   10.00000 10.00000       10.00000   10.00000   \nmean             11.04583  494.85227 21.90511        3.45302  837.72160   \nstd               5.73558  172.19809  6.17445        1.98677  554.44844   \nmin               6.38666  233.59590 13.60084        0.88550  251.82900   \n25%               7.15479  373.82885 16.90826        1.88520  565.15812   \n50%               7.78749  482.70320 21.52152        3.14365  640.33080   \n75%              14.93306  626.79703 25.15311        4.81450  768.32225   \nmax              23.41771  746.42290 34.32086        6.58164 1930.57000   \n\nname    Sugars  Thiamin  Vitamin A - IU  Vitamin B6  Vitamin C  \ncount 10.00000 10.00000        10.00000    10.00000   10.00000  \nmean  11.36681  0.21913      1568.89711     0.46788   26.84125  \nstd   16.14545  0.14238       993.47436     0.23908   27.62678  \nmin    1.75411  0.07396        50.63841     0.17184    4.29336  \n25%    2.96123  0.10868      1044.31535     0.32859   10.89144  \n50%    5.83783  0.18512      1469.39950     0.44899   14.63942  \n75%   11.96604  0.26448      1843.44850     0.53621   36.55744  \nmax   55.54696  0.51300      3368.70700     1.00677   96.19368  "
     },
     "execution_count": 1248,
     "metadata": {},
     "output_type": "execute_result"
    }
   ],
   "source": [
    "nutrition_top10_fat.describe()"
   ]
  },
  {
   "cell_type": "code",
   "execution_count": 1249,
   "metadata": {},
   "outputs": [
    {
     "data": {
      "text/html": "<div>\n<style scoped>\n    .dataframe tbody tr th:only-of-type {\n        vertical-align: middle;\n    }\n\n    .dataframe tbody tr th {\n        vertical-align: top;\n    }\n\n    .dataframe thead th {\n        text-align: right;\n    }\n</style>\n<table border=\"1\" class=\"dataframe\">\n  <thead>\n    <tr style=\"text-align: right;\">\n      <th>name</th>\n      <th>Calcium</th>\n      <th>Calories</th>\n      <th>Calories from Fat</th>\n      <th>Carbohydrates</th>\n      <th>Cholesterol</th>\n      <th>Dietary Fiber</th>\n      <th>Fat</th>\n      <th>Folate</th>\n      <th>Iron</th>\n      <th>Magnesium</th>\n      <th>Niacin Equivalents</th>\n      <th>Potassium</th>\n      <th>Protein</th>\n      <th>Saturated Fat</th>\n      <th>Sodium</th>\n      <th>Sugars</th>\n      <th>Thiamin</th>\n      <th>Vitamin A - IU</th>\n      <th>Vitamin B6</th>\n      <th>Vitamin C</th>\n    </tr>\n  </thead>\n  <tbody>\n    <tr>\n      <td>count</td>\n      <td>3769.00000</td>\n      <td>3769.00000</td>\n      <td>3769.00000</td>\n      <td>3769.00000</td>\n      <td>3769.00000</td>\n      <td>3769.00000</td>\n      <td>3769.00000</td>\n      <td>3769.00000</td>\n      <td>3769.00000</td>\n      <td>3769.00000</td>\n      <td>3769.00000</td>\n      <td>3769.00000</td>\n      <td>3769.00000</td>\n      <td>3769.00000</td>\n      <td>3769.00000</td>\n      <td>3769.00000</td>\n      <td>3769.00000</td>\n      <td>3769.00000</td>\n      <td>3769.00000</td>\n      <td>3769.00000</td>\n    </tr>\n    <tr>\n      <td>mean</td>\n      <td>147.65186</td>\n      <td>437.44356</td>\n      <td>206.11989</td>\n      <td>29.13837</td>\n      <td>97.10705</td>\n      <td>2.59745</td>\n      <td>22.90221</td>\n      <td>60.52532</td>\n      <td>3.15292</td>\n      <td>51.41953</td>\n      <td>12.44388</td>\n      <td>532.06962</td>\n      <td>28.05446</td>\n      <td>8.74674</td>\n      <td>851.15449</td>\n      <td>6.72550</td>\n      <td>0.30428</td>\n      <td>1169.01319</td>\n      <td>0.50992</td>\n      <td>16.28996</td>\n    </tr>\n    <tr>\n      <td>std</td>\n      <td>160.00437</td>\n      <td>183.08939</td>\n      <td>125.84039</td>\n      <td>22.82783</td>\n      <td>60.47445</td>\n      <td>2.51004</td>\n      <td>13.98227</td>\n      <td>59.87693</td>\n      <td>2.44362</td>\n      <td>29.11251</td>\n      <td>6.89390</td>\n      <td>267.49221</td>\n      <td>12.01243</td>\n      <td>6.80052</td>\n      <td>643.62150</td>\n      <td>8.81425</td>\n      <td>0.30165</td>\n      <td>2322.11124</td>\n      <td>0.31208</td>\n      <td>24.36018</td>\n    </tr>\n    <tr>\n      <td>min</td>\n      <td>2.24700</td>\n      <td>51.34326</td>\n      <td>1.32300</td>\n      <td>0.00000</td>\n      <td>0.00000</td>\n      <td>0.00000</td>\n      <td>0.14700</td>\n      <td>0.00000</td>\n      <td>0.19784</td>\n      <td>0.99745</td>\n      <td>0.03511</td>\n      <td>21.35641</td>\n      <td>0.75050</td>\n      <td>0.01992</td>\n      <td>5.20206</td>\n      <td>0.00000</td>\n      <td>0.00055</td>\n      <td>0.00000</td>\n      <td>0.00497</td>\n      <td>0.00000</td>\n    </tr>\n    <tr>\n      <td>25%</td>\n      <td>41.91497</td>\n      <td>302.97180</td>\n      <td>116.53740</td>\n      <td>10.22622</td>\n      <td>60.37200</td>\n      <td>0.74534</td>\n      <td>12.94860</td>\n      <td>15.88967</td>\n      <td>1.81434</td>\n      <td>33.22178</td>\n      <td>7.40249</td>\n      <td>345.47480</td>\n      <td>19.97439</td>\n      <td>3.62848</td>\n      <td>418.62460</td>\n      <td>1.76465</td>\n      <td>0.10514</td>\n      <td>236.89130</td>\n      <td>0.28450</td>\n      <td>2.15387</td>\n    </tr>\n    <tr>\n      <td>50%</td>\n      <td>83.16850</td>\n      <td>407.24760</td>\n      <td>182.76280</td>\n      <td>24.77198</td>\n      <td>85.12875</td>\n      <td>1.94552</td>\n      <td>20.30698</td>\n      <td>38.70226</td>\n      <td>2.76635</td>\n      <td>45.93000</td>\n      <td>11.16012</td>\n      <td>480.78320</td>\n      <td>26.86635</td>\n      <td>7.16552</td>\n      <td>734.00700</td>\n      <td>3.90585</td>\n      <td>0.19772</td>\n      <td>581.41080</td>\n      <td>0.44630</td>\n      <td>6.66049</td>\n    </tr>\n    <tr>\n      <td>75%</td>\n      <td>193.60330</td>\n      <td>541.55730</td>\n      <td>271.88850</td>\n      <td>43.25740</td>\n      <td>126.73700</td>\n      <td>3.66472</td>\n      <td>30.20983</td>\n      <td>88.10015</td>\n      <td>3.93263</td>\n      <td>63.26534</td>\n      <td>16.56103</td>\n      <td>654.28050</td>\n      <td>34.32086</td>\n      <td>12.13782</td>\n      <td>1093.02700</td>\n      <td>7.83809</td>\n      <td>0.39695</td>\n      <td>1113.57900</td>\n      <td>0.68318</td>\n      <td>19.57264</td>\n    </tr>\n    <tr>\n      <td>max</td>\n      <td>1264.32600</td>\n      <td>1828.19200</td>\n      <td>989.10300</td>\n      <td>236.72050</td>\n      <td>708.85000</td>\n      <td>27.83175</td>\n      <td>109.90030</td>\n      <td>519.53590</td>\n      <td>55.89075</td>\n      <td>590.39220</td>\n      <td>47.57578</td>\n      <td>1931.48800</td>\n      <td>99.72639</td>\n      <td>59.31002</td>\n      <td>7322.28900</td>\n      <td>104.81810</td>\n      <td>2.35457</td>\n      <td>38664.70000</td>\n      <td>3.83736</td>\n      <td>270.41310</td>\n    </tr>\n  </tbody>\n</table>\n</div>",
      "text/plain": "name     Calcium   Calories  Calories from Fat  Carbohydrates  Cholesterol  \\\ncount 3769.00000 3769.00000         3769.00000     3769.00000   3769.00000   \nmean   147.65186  437.44356          206.11989       29.13837     97.10705   \nstd    160.00437  183.08939          125.84039       22.82783     60.47445   \nmin      2.24700   51.34326            1.32300        0.00000      0.00000   \n25%     41.91497  302.97180          116.53740       10.22622     60.37200   \n50%     83.16850  407.24760          182.76280       24.77198     85.12875   \n75%    193.60330  541.55730          271.88850       43.25740    126.73700   \nmax   1264.32600 1828.19200          989.10300      236.72050    708.85000   \n\nname   Dietary Fiber        Fat     Folate       Iron  Magnesium  \\\ncount     3769.00000 3769.00000 3769.00000 3769.00000 3769.00000   \nmean         2.59745   22.90221   60.52532    3.15292   51.41953   \nstd          2.51004   13.98227   59.87693    2.44362   29.11251   \nmin          0.00000    0.14700    0.00000    0.19784    0.99745   \n25%          0.74534   12.94860   15.88967    1.81434   33.22178   \n50%          1.94552   20.30698   38.70226    2.76635   45.93000   \n75%          3.66472   30.20983   88.10015    3.93263   63.26534   \nmax         27.83175  109.90030  519.53590   55.89075  590.39220   \n\nname   Niacin Equivalents  Potassium    Protein  Saturated Fat     Sodium  \\\ncount          3769.00000 3769.00000 3769.00000     3769.00000 3769.00000   \nmean             12.44388  532.06962   28.05446        8.74674  851.15449   \nstd               6.89390  267.49221   12.01243        6.80052  643.62150   \nmin               0.03511   21.35641    0.75050        0.01992    5.20206   \n25%               7.40249  345.47480   19.97439        3.62848  418.62460   \n50%              11.16012  480.78320   26.86635        7.16552  734.00700   \n75%              16.56103  654.28050   34.32086       12.13782 1093.02700   \nmax              47.57578 1931.48800   99.72639       59.31002 7322.28900   \n\nname      Sugars    Thiamin  Vitamin A - IU  Vitamin B6  Vitamin C  \ncount 3769.00000 3769.00000      3769.00000  3769.00000 3769.00000  \nmean     6.72550    0.30428      1169.01319     0.50992   16.28996  \nstd      8.81425    0.30165      2322.11124     0.31208   24.36018  \nmin      0.00000    0.00055         0.00000     0.00497    0.00000  \n25%      1.76465    0.10514       236.89130     0.28450    2.15387  \n50%      3.90585    0.19772       581.41080     0.44630    6.66049  \n75%      7.83809    0.39695      1113.57900     0.68318   19.57264  \nmax    104.81810    2.35457     38664.70000     3.83736  270.41310  "
     },
     "execution_count": 1249,
     "metadata": {},
     "output_type": "execute_result"
    }
   ],
   "source": [
    "nutrition_db2.describe()"
   ]
  }
 ]
}