{
 "nbformat": 4,
 "nbformat_minor": 2,
 "metadata": {
  "language_info": {
   "name": "python",
   "codemirror_mode": {
    "name": "ipython",
    "version": 3
   },
   "version": "3.7.6-final"
  },
  "orig_nbformat": 2,
  "file_extension": ".py",
  "mimetype": "text/x-python",
  "name": "python",
  "npconvert_exporter": "python",
  "pygments_lexer": "ipython3",
  "version": 3,
  "kernelspec": {
   "name": "python3",
   "display_name": "Python 3"
  }
 },
 "cells": [
  {
   "cell_type": "code",
   "execution_count": 244,
   "metadata": {},
   "outputs": [],
   "source": [
    "import json\n",
    "\n",
    "import numpy as np\n",
    "import pandas as pd\n",
    "import pymongo\n",
    "import scipy\n",
    "from bson import ObjectId, json_util\n",
    "from pandas.io.json import json_normalize\n",
    "from pymongo import MongoClient as Connection\n",
    "from scipy import sparse, spatial\n",
    "from scipy.spatial.distance import cdist, pdist, squareform\n",
    "from sklearn.metrics.pairwise import cosine_similarity\n",
    "\n",
    "# scientific notation disabled form smaller numbers\n",
    "pd.options.display.float_format = '{:.5f}'.format\n",
    "\n",
    "# alles resultate anzeigen und nicht nur das letzte\n",
    "from IPython.core.interactiveshell import InteractiveShell\n",
    "InteractiveShell.ast_node_interactivity = \"all\"\n",
    "\n"
   ]
  },
  {
   "cell_type": "code",
   "execution_count": 245,
   "metadata": {},
   "outputs": [
    {
     "data": {
      "text/html": "<style>\n.output {\n    flex-direction: row;\n}\n</style>",
      "text/plain": "<IPython.core.display.HTML object>"
     },
     "execution_count": 245,
     "metadata": {},
     "output_type": "execute_result"
    }
   ],
   "source": [
    "# display multiple outputs in one row\n",
    "import pandas as pd\n",
    "import numpy as np\n",
    "from IPython.display import display, HTML\n",
    "\n",
    "CSS = \"\"\"\n",
    ".output {\n",
    "    flex-direction: row;\n",
    "}\n",
    "\"\"\"\n",
    "\n",
    "HTML('<style>{}</style>'.format(CSS))"
   ]
  },
  {
   "cell_type": "code",
   "execution_count": 246,
   "metadata": {},
   "outputs": [],
   "source": [
    "connection = Connection()\n",
    "db = connection.recipe_db\n",
    "input_data = db.recipes_test_copy\n",
    "\n",
    "data = json.loads(json_util.dumps(input_data.find()))"
   ]
  },
  {
   "cell_type": "code",
   "execution_count": 247,
   "metadata": {},
   "outputs": [],
   "source": [
    "ing = pd.DataFrame(json_normalize(data, record_path='ingredients',\n",
    "                             meta='id', record_prefix='ingredients_', errors='ignore'))\n",
    "\n",
    "\n",
    "nutritions = pd.DataFrame(json_normalize(data, record_path='nutritions',\n",
    "                            meta=['id', 'prep_time', 'rating', 'rating_count', 'ready_in_time', 'review_count']))\n"
   ]
  },
  {
   "cell_type": "code",
   "execution_count": 248,
   "metadata": {},
   "outputs": [],
   "source": [
    "#  ------  erstellung und data cleansing - Ingredients\n",
    "\n",
    "# schmeiss alle zutaten raus, die weniger als 5 mal verwendet werden\n",
    "# setze multiinde auf 'id' und 'ingredients_id'\n",
    "ingredients = ing.set_index(['id', 'ingredients_id'])\n",
    "\n",
    "# filtere alle Zutaten samt ihrer rezepte id, die weniger gleich 5 mal vorkommen\n",
    "ingredients_eqles_5_ing = ingredients.groupby(\n",
    "    'ingredients_id').filter(lambda x: len(x) <= 5)\n",
    "\n",
    "# droppe alle rezepte, die eine Zutate besitzen, die weniger gleich 5 Mal vorkommen\n",
    "ingredients_filt = ingredients.drop(ingredients_eqles_5_ing.index.get_level_values('id').values, level=0)\n",
    "\n",
    "# drop alls rows with ingredients_id == 0\n",
    "ingredients_eqal_zero = ingredients_filt[ingredients_filt.index.get_level_values('ingredients_id') == 0]\n",
    "ingredients_filt = ingredients_filt.drop(ingredients_eqal_zero.index.get_level_values('id').values, level=0)\n"
   ]
  },
  {
   "cell_type": "code",
   "execution_count": 249,
   "metadata": {},
   "outputs": [],
   "source": [
    "#  ------ Erstellung und cleansing des Nutrition Dataframes\n",
    "\n",
    "# erstelle neue liste auf basis der bereits gefilterten rezepte aus ingredients_filt\n",
    "id_overlap_mask = nutritions['id'].isin(ingredients_filt.index.get_level_values('id').values)\n",
    "\n",
    "# erstelle datenframe auf basis der overlapliste\n",
    "nutritions_filt = nutritions.loc[id_overlap_mask]\n",
    "\n",
    "nutrition_db = nutritions_filt.pivot_table(\n",
    "    index=['id'],\n",
    "    columns=['name'],\n",
    "    values=['amount'],\n",
    ").reset_index()\n",
    "\n",
    "nutrition_db.set_index('id', inplace=True)\n",
    "\n",
    "# remove multiindex 'amount'\n",
    "nutrition_db.columns = nutrition_db.columns.droplevel(0)\n",
    "\n",
    "# entferne alle NA\n",
    "nutrition_db = nutrition_db.dropna()\n",
    "\n",
    "# gleiche nochmals die ids der beiden dataframe nutrition und ingredients ab, da der nutrition dataframe noch NA Werte hatt\n",
    "id_overlap_mask = ingredients_filt.index.get_level_values('id').isin(nutrition_db.index)\n",
    "ingredients_db = ingredients_filt[id_overlap_mask]\n",
    "\n",
    "# abgleich ob anzahl der indizes von nutrition und zutaten dataframe gleich sind\n"
   ]
  },
  {
   "cell_type": "code",
   "execution_count": 250,
   "metadata": {},
   "outputs": [],
   "source": [
    "\n",
    "\n",
    "ingredients_db.reset_index(inplace=True)\n",
    "\n",
    "recipe_db = pd.get_dummies(ingredients_db['ingredients_id']).groupby(\n",
    "    ingredients_db['id']).apply(max)\n",
    "\n"
   ]
  },
  {
   "cell_type": "code",
   "execution_count": 251,
   "metadata": {},
   "outputs": [],
   "source": [
    "new_ingredients = ingredients_db.copy()\n",
    "#new_ingredients = new_ingredients.groupby(\"id\")[\"ingredients_grams\"].sum().reset_index()\n",
    "gramms_ingredients = new_ingredients.groupby(\"id\")[\"ingredients_grams\"].sum().reset_index().copy()\n",
    "\n",
    "Q1 = gramms_ingredients.quantile(0.25)\n",
    "Q3 = gramms_ingredients.quantile(0.75)\n",
    "IQR = Q3 - Q1\n",
    "\n",
    "#Filter out all recipes which are outlier by their weight (gramms)\n",
    "df = gramms_ingredients[~((gramms_ingredients < (Q1 - 1.5 * IQR)) |(gramms_ingredients > (Q3 + 1.5 * IQR))).any(axis=1)].copy()\n",
    "\n",
    "#filter out recipes by weight which are not in the range 500 - 2373.59 gramms\n",
    "df_start_at_fivehundret = df[df['ingredients_grams'].between(500, 2373.58225, inclusive=False)].copy()\n",
    "\n",
    "df_start_at_fivehundret.set_index('id', inplace=True)\n",
    "id_overlap_mask = nutritions['id'].isin(df_start_at_fivehundret.index.get_level_values('id').values)\n",
    "\n",
    "\n",
    "# erstelle datenframe auf basis der overlapliste\n",
    "nutritions_filt_gramm = nutritions.loc[id_overlap_mask]\n",
    "\n",
    "nutrition_db2 = nutritions_filt_gramm.pivot_table(\n",
    "    index=['id'],\n",
    "    columns=['name'],\n",
    "    values=['amount'],\n",
    ").reset_index()\n",
    "\n",
    "#create new nutrition db based on the above filtering\n",
    "nutrition_db2.set_index('id', inplace=True)\n",
    "nutrition_db2.columns = nutrition_db2.columns.droplevel(0)\n",
    "\n"
   ]
  },
  {
   "cell_type": "code",
   "execution_count": 252,
   "metadata": {},
   "outputs": [],
   "source": [
    "# random\n",
    "subset_random_top10 = nutrition_db2.sample(n=10).copy()"
   ]
  },
  {
   "cell_type": "code",
   "execution_count": 253,
   "metadata": {},
   "outputs": [],
   "source": [
    "#select 20 random recipes which are between the Fat-range of 35-40 gramms\n",
    "subset_fat = nutrition_db2[(nutrition_db2['Fat'] >= 35) & (nutrition_db2['Fat'] <= 40)].sample(n=40).copy()\n",
    "subset_fat_id = subset_fat.index.to_numpy()\n"
   ]
  },
  {
   "cell_type": "code",
   "execution_count": 254,
   "metadata": {},
   "outputs": [],
   "source": [
    "subset_normal = nutrition_db2.sample(n=40).copy()\n",
    "subset_normal_id = subset_normal.index.to_numpy()"
   ]
  },
  {
   "cell_type": "code",
   "execution_count": 255,
   "metadata": {},
   "outputs": [
    {
     "data": {
      "text/plain": "array([ 13890,  58348, 240593,  74188,  22671, 148818,  46859,  72613,\n       244507,  69754, 223058,  72712,   9037,  75115, 212511,   8990,\n       143105,  20618,  72804,  92525,  71251, 219005,  94113, 213497,\n        16566,  18883,  23691,  86415,  37022, 231533, 214617,  21076,\n        18130,  24851,  17807,   8758,   9143,  21317, 240502,  25146])"
     },
     "execution_count": 255,
     "metadata": {},
     "output_type": "execute_result"
    }
   ],
   "source": [
    "subset_normal.index.to_numpy()"
   ]
  },
  {
   "cell_type": "code",
   "execution_count": 256,
   "metadata": {},
   "outputs": [
    {
     "data": {
      "text/plain": "array([236703,  87137,   8855,  15024,  82487, 223596,  14610,  23881,\n       223005,  16794,  48873, 235171,   8998, 199688,  19484,  17022,\n        21352, 148970,   8693, 219766,  69538, 132511,  52299,  18059,\n       147305,  11757,   8639,  16756, 156232,  84774, 231537, 213748,\n       219173,   8772,  14592,  17496, 169974, 151997,  17169,  16429])"
     },
     "execution_count": 256,
     "metadata": {},
     "output_type": "execute_result"
    }
   ],
   "source": [
    "subset_fat.index.to_numpy()"
   ]
  },
  {
   "cell_type": "code",
   "execution_count": 257,
   "metadata": {},
   "outputs": [],
   "source": [
    "# remove recipes which are missing in nutrition df from the ingredients tecipes dataframe\n",
    "mask = recipe_db.index.isin(nutrition_db2.index.values)\n",
    "recipe_db = recipe_db.loc[mask]\n"
   ]
  },
  {
   "cell_type": "code",
   "execution_count": 258,
   "metadata": {},
   "outputs": [
    {
     "data": {
      "text/html": "<div>\n<style scoped>\n    .dataframe tbody tr th:only-of-type {\n        vertical-align: middle;\n    }\n\n    .dataframe tbody tr th {\n        vertical-align: top;\n    }\n\n    .dataframe thead th {\n        text-align: right;\n    }\n</style>\n<table border=\"1\" class=\"dataframe\">\n  <thead>\n    <tr style=\"text-align: right;\">\n      <th>name</th>\n      <th>Calcium</th>\n      <th>Calories</th>\n      <th>Calories from Fat</th>\n      <th>Carbohydrates</th>\n      <th>Cholesterol</th>\n      <th>Dietary Fiber</th>\n      <th>Fat</th>\n      <th>Folate</th>\n      <th>Iron</th>\n      <th>Magnesium</th>\n      <th>Niacin Equivalents</th>\n      <th>Potassium</th>\n      <th>Protein</th>\n      <th>Saturated Fat</th>\n      <th>Sodium</th>\n      <th>Sugars</th>\n      <th>Thiamin</th>\n      <th>Vitamin A - IU</th>\n      <th>Vitamin B6</th>\n      <th>Vitamin C</th>\n    </tr>\n  </thead>\n  <tbody>\n    <tr>\n      <td>count</td>\n      <td>40.00000</td>\n      <td>40.00000</td>\n      <td>40.00000</td>\n      <td>40.00000</td>\n      <td>40.00000</td>\n      <td>40.00000</td>\n      <td>40.00000</td>\n      <td>40.00000</td>\n      <td>40.00000</td>\n      <td>40.00000</td>\n      <td>40.00000</td>\n      <td>40.00000</td>\n      <td>40.00000</td>\n      <td>40.00000</td>\n      <td>40.00000</td>\n      <td>40.00000</td>\n      <td>40.00000</td>\n      <td>40.00000</td>\n      <td>40.00000</td>\n      <td>40.00000</td>\n    </tr>\n    <tr>\n      <td>mean</td>\n      <td>157.72578</td>\n      <td>610.56563</td>\n      <td>336.51414</td>\n      <td>35.10243</td>\n      <td>134.21295</td>\n      <td>2.99279</td>\n      <td>37.39046</td>\n      <td>65.66339</td>\n      <td>4.35112</td>\n      <td>56.34080</td>\n      <td>14.91191</td>\n      <td>590.54623</td>\n      <td>34.33186</td>\n      <td>14.06400</td>\n      <td>1106.41721</td>\n      <td>10.33480</td>\n      <td>0.25431</td>\n      <td>1210.00575</td>\n      <td>0.55539</td>\n      <td>22.70230</td>\n    </tr>\n    <tr>\n      <td>std</td>\n      <td>128.96090</td>\n      <td>132.43712</td>\n      <td>13.06915</td>\n      <td>29.81708</td>\n      <td>61.83977</td>\n      <td>3.17401</td>\n      <td>1.45213</td>\n      <td>60.02029</td>\n      <td>4.52088</td>\n      <td>28.48468</td>\n      <td>7.85325</td>\n      <td>246.25798</td>\n      <td>11.76542</td>\n      <td>4.43835</td>\n      <td>798.46029</td>\n      <td>17.90307</td>\n      <td>0.23677</td>\n      <td>1068.02383</td>\n      <td>0.27447</td>\n      <td>31.22216</td>\n    </tr>\n    <tr>\n      <td>min</td>\n      <td>30.76337</td>\n      <td>425.03750</td>\n      <td>315.47950</td>\n      <td>1.23348</td>\n      <td>0.00000</td>\n      <td>0.00000</td>\n      <td>35.05328</td>\n      <td>3.39608</td>\n      <td>0.52164</td>\n      <td>3.57022</td>\n      <td>0.15610</td>\n      <td>198.29030</td>\n      <td>8.75428</td>\n      <td>5.34590</td>\n      <td>198.24950</td>\n      <td>0.09294</td>\n      <td>0.00777</td>\n      <td>92.58968</td>\n      <td>0.01814</td>\n      <td>1.40750</td>\n    </tr>\n    <tr>\n      <td>25%</td>\n      <td>56.88125</td>\n      <td>505.87670</td>\n      <td>323.10667</td>\n      <td>13.61048</td>\n      <td>82.35536</td>\n      <td>1.12808</td>\n      <td>35.90074</td>\n      <td>22.78383</td>\n      <td>2.79012</td>\n      <td>38.96380</td>\n      <td>9.04509</td>\n      <td>443.26707</td>\n      <td>25.29728</td>\n      <td>11.45838</td>\n      <td>670.73403</td>\n      <td>2.93199</td>\n      <td>0.12860</td>\n      <td>502.66787</td>\n      <td>0.35960</td>\n      <td>3.57610</td>\n    </tr>\n    <tr>\n      <td>50%</td>\n      <td>115.25615</td>\n      <td>587.59100</td>\n      <td>338.01915</td>\n      <td>26.97010</td>\n      <td>133.07400</td>\n      <td>1.83790</td>\n      <td>37.55768</td>\n      <td>49.44646</td>\n      <td>3.62218</td>\n      <td>52.35764</td>\n      <td>14.35320</td>\n      <td>514.51450</td>\n      <td>34.13750</td>\n      <td>13.53264</td>\n      <td>943.48605</td>\n      <td>4.57093</td>\n      <td>0.18117</td>\n      <td>824.65815</td>\n      <td>0.47314</td>\n      <td>8.28085</td>\n    </tr>\n    <tr>\n      <td>75%</td>\n      <td>220.64058</td>\n      <td>676.27487</td>\n      <td>346.75815</td>\n      <td>47.96036</td>\n      <td>174.77125</td>\n      <td>3.83399</td>\n      <td>38.52868</td>\n      <td>86.26763</td>\n      <td>5.11716</td>\n      <td>61.80344</td>\n      <td>19.86615</td>\n      <td>751.33280</td>\n      <td>43.44811</td>\n      <td>16.66782</td>\n      <td>1398.06850</td>\n      <td>10.15844</td>\n      <td>0.33688</td>\n      <td>1450.03100</td>\n      <td>0.77755</td>\n      <td>24.86832</td>\n    </tr>\n    <tr>\n      <td>max</td>\n      <td>534.98750</td>\n      <td>905.35500</td>\n      <td>358.77810</td>\n      <td>107.07330</td>\n      <td>267.99500</td>\n      <td>14.87823</td>\n      <td>39.86424</td>\n      <td>297.41650</td>\n      <td>30.22156</td>\n      <td>138.75320</td>\n      <td>33.33672</td>\n      <td>1406.06000</td>\n      <td>59.51241</td>\n      <td>23.50516</td>\n      <td>4604.16100</td>\n      <td>104.81810</td>\n      <td>1.31390</td>\n      <td>4561.21900</td>\n      <td>1.25088</td>\n      <td>147.35700</td>\n    </tr>\n  </tbody>\n</table>\n</div>",
      "text/plain": "name    Calcium  Calories  Calories from Fat  Carbohydrates  Cholesterol  \\\ncount  40.00000  40.00000           40.00000       40.00000     40.00000   \nmean  157.72578 610.56563          336.51414       35.10243    134.21295   \nstd   128.96090 132.43712           13.06915       29.81708     61.83977   \nmin    30.76337 425.03750          315.47950        1.23348      0.00000   \n25%    56.88125 505.87670          323.10667       13.61048     82.35536   \n50%   115.25615 587.59100          338.01915       26.97010    133.07400   \n75%   220.64058 676.27487          346.75815       47.96036    174.77125   \nmax   534.98750 905.35500          358.77810      107.07330    267.99500   \n\nname   Dietary Fiber      Fat    Folate     Iron  Magnesium  \\\ncount       40.00000 40.00000  40.00000 40.00000   40.00000   \nmean         2.99279 37.39046  65.66339  4.35112   56.34080   \nstd          3.17401  1.45213  60.02029  4.52088   28.48468   \nmin          0.00000 35.05328   3.39608  0.52164    3.57022   \n25%          1.12808 35.90074  22.78383  2.79012   38.96380   \n50%          1.83790 37.55768  49.44646  3.62218   52.35764   \n75%          3.83399 38.52868  86.26763  5.11716   61.80344   \nmax         14.87823 39.86424 297.41650 30.22156  138.75320   \n\nname   Niacin Equivalents  Potassium  Protein  Saturated Fat     Sodium  \\\ncount            40.00000   40.00000 40.00000       40.00000   40.00000   \nmean             14.91191  590.54623 34.33186       14.06400 1106.41721   \nstd               7.85325  246.25798 11.76542        4.43835  798.46029   \nmin               0.15610  198.29030  8.75428        5.34590  198.24950   \n25%               9.04509  443.26707 25.29728       11.45838  670.73403   \n50%              14.35320  514.51450 34.13750       13.53264  943.48605   \n75%              19.86615  751.33280 43.44811       16.66782 1398.06850   \nmax              33.33672 1406.06000 59.51241       23.50516 4604.16100   \n\nname     Sugars  Thiamin  Vitamin A - IU  Vitamin B6  Vitamin C  \ncount  40.00000 40.00000        40.00000    40.00000   40.00000  \nmean   10.33480  0.25431      1210.00575     0.55539   22.70230  \nstd    17.90307  0.23677      1068.02383     0.27447   31.22216  \nmin     0.09294  0.00777        92.58968     0.01814    1.40750  \n25%     2.93199  0.12860       502.66787     0.35960    3.57610  \n50%     4.57093  0.18117       824.65815     0.47314    8.28085  \n75%    10.15844  0.33688      1450.03100     0.77755   24.86832  \nmax   104.81810  1.31390      4561.21900     1.25088  147.35700  "
     },
     "execution_count": 258,
     "metadata": {},
     "output_type": "execute_result"
    }
   ],
   "source": [
    "subset_fat.describe()"
   ]
  },
  {
   "cell_type": "code",
   "execution_count": 259,
   "metadata": {},
   "outputs": [
    {
     "data": {
      "text/html": "<div>\n<style scoped>\n    .dataframe tbody tr th:only-of-type {\n        vertical-align: middle;\n    }\n\n    .dataframe tbody tr th {\n        vertical-align: top;\n    }\n\n    .dataframe thead th {\n        text-align: right;\n    }\n</style>\n<table border=\"1\" class=\"dataframe\">\n  <thead>\n    <tr style=\"text-align: right;\">\n      <th>name</th>\n      <th>Calcium</th>\n      <th>Calories</th>\n      <th>Calories from Fat</th>\n      <th>Carbohydrates</th>\n      <th>Cholesterol</th>\n      <th>Dietary Fiber</th>\n      <th>Fat</th>\n      <th>Folate</th>\n      <th>Iron</th>\n      <th>Magnesium</th>\n      <th>Niacin Equivalents</th>\n      <th>Potassium</th>\n      <th>Protein</th>\n      <th>Saturated Fat</th>\n      <th>Sodium</th>\n      <th>Sugars</th>\n      <th>Thiamin</th>\n      <th>Vitamin A - IU</th>\n      <th>Vitamin B6</th>\n      <th>Vitamin C</th>\n    </tr>\n  </thead>\n  <tbody>\n    <tr>\n      <td>count</td>\n      <td>40.00000</td>\n      <td>40.00000</td>\n      <td>40.00000</td>\n      <td>40.00000</td>\n      <td>40.00000</td>\n      <td>40.00000</td>\n      <td>40.00000</td>\n      <td>40.00000</td>\n      <td>40.00000</td>\n      <td>40.00000</td>\n      <td>40.00000</td>\n      <td>40.00000</td>\n      <td>40.00000</td>\n      <td>40.00000</td>\n      <td>40.00000</td>\n      <td>40.00000</td>\n      <td>40.00000</td>\n      <td>40.00000</td>\n      <td>40.00000</td>\n      <td>40.00000</td>\n    </tr>\n    <tr>\n      <td>mean</td>\n      <td>178.86088</td>\n      <td>408.39294</td>\n      <td>179.16069</td>\n      <td>29.95357</td>\n      <td>90.40450</td>\n      <td>2.25344</td>\n      <td>19.90674</td>\n      <td>58.06536</td>\n      <td>2.82201</td>\n      <td>45.92398</td>\n      <td>10.84935</td>\n      <td>456.49066</td>\n      <td>26.43781</td>\n      <td>7.79308</td>\n      <td>881.00683</td>\n      <td>6.96501</td>\n      <td>0.30564</td>\n      <td>1015.66741</td>\n      <td>0.41716</td>\n      <td>11.80128</td>\n    </tr>\n    <tr>\n      <td>std</td>\n      <td>166.92805</td>\n      <td>110.22633</td>\n      <td>67.30888</td>\n      <td>19.07784</td>\n      <td>49.18230</td>\n      <td>1.85985</td>\n      <td>7.47876</td>\n      <td>50.31382</td>\n      <td>1.38303</td>\n      <td>19.76118</td>\n      <td>5.49250</td>\n      <td>175.35695</td>\n      <td>9.79886</td>\n      <td>4.40350</td>\n      <td>646.82220</td>\n      <td>7.49054</td>\n      <td>0.27236</td>\n      <td>1607.27076</td>\n      <td>0.25420</td>\n      <td>23.59605</td>\n    </tr>\n    <tr>\n      <td>min</td>\n      <td>5.95000</td>\n      <td>227.09170</td>\n      <td>36.95806</td>\n      <td>0.00000</td>\n      <td>9.48833</td>\n      <td>0.00000</td>\n      <td>4.10645</td>\n      <td>0.82311</td>\n      <td>0.75290</td>\n      <td>14.17172</td>\n      <td>0.96885</td>\n      <td>168.76250</td>\n      <td>5.40403</td>\n      <td>2.11712</td>\n      <td>58.50833</td>\n      <td>0.00000</td>\n      <td>0.01469</td>\n      <td>0.00000</td>\n      <td>0.07379</td>\n      <td>0.00000</td>\n    </tr>\n    <tr>\n      <td>25%</td>\n      <td>49.26274</td>\n      <td>319.14442</td>\n      <td>130.33095</td>\n      <td>15.16033</td>\n      <td>66.04429</td>\n      <td>0.86444</td>\n      <td>14.48121</td>\n      <td>14.57852</td>\n      <td>1.86490</td>\n      <td>29.52328</td>\n      <td>7.19732</td>\n      <td>328.29800</td>\n      <td>20.55757</td>\n      <td>4.46101</td>\n      <td>362.23480</td>\n      <td>2.87150</td>\n      <td>0.09049</td>\n      <td>316.00322</td>\n      <td>0.24017</td>\n      <td>2.70574</td>\n    </tr>\n    <tr>\n      <td>50%</td>\n      <td>128.90410</td>\n      <td>411.38160</td>\n      <td>175.06245</td>\n      <td>28.18462</td>\n      <td>78.21771</td>\n      <td>1.71311</td>\n      <td>19.45139</td>\n      <td>42.36745</td>\n      <td>2.46431</td>\n      <td>44.61657</td>\n      <td>9.73675</td>\n      <td>430.96845</td>\n      <td>24.82977</td>\n      <td>6.80382</td>\n      <td>809.48580</td>\n      <td>4.20962</td>\n      <td>0.19860</td>\n      <td>578.63980</td>\n      <td>0.34042</td>\n      <td>4.82702</td>\n    </tr>\n    <tr>\n      <td>75%</td>\n      <td>250.50267</td>\n      <td>477.81553</td>\n      <td>227.21825</td>\n      <td>43.35413</td>\n      <td>101.90696</td>\n      <td>2.90374</td>\n      <td>25.24648</td>\n      <td>99.57001</td>\n      <td>3.82829</td>\n      <td>60.44118</td>\n      <td>13.36158</td>\n      <td>568.87323</td>\n      <td>34.50450</td>\n      <td>11.36834</td>\n      <td>1116.12100</td>\n      <td>7.89653</td>\n      <td>0.46566</td>\n      <td>988.02458</td>\n      <td>0.54473</td>\n      <td>9.62192</td>\n    </tr>\n    <tr>\n      <td>max</td>\n      <td>676.97610</td>\n      <td>723.60770</td>\n      <td>337.95520</td>\n      <td>77.18266</td>\n      <td>258.78000</td>\n      <td>8.06500</td>\n      <td>37.55058</td>\n      <td>158.87970</td>\n      <td>7.87272</td>\n      <td>91.56936</td>\n      <td>26.91518</td>\n      <td>821.56100</td>\n      <td>49.29967</td>\n      <td>19.29810</td>\n      <td>3276.48700</td>\n      <td>33.53006</td>\n      <td>1.26143</td>\n      <td>8619.63200</td>\n      <td>1.10675</td>\n      <td>140.94150</td>\n    </tr>\n  </tbody>\n</table>\n</div>",
      "text/plain": "name    Calcium  Calories  Calories from Fat  Carbohydrates  Cholesterol  \\\ncount  40.00000  40.00000           40.00000       40.00000     40.00000   \nmean  178.86088 408.39294          179.16069       29.95357     90.40450   \nstd   166.92805 110.22633           67.30888       19.07784     49.18230   \nmin     5.95000 227.09170           36.95806        0.00000      9.48833   \n25%    49.26274 319.14442          130.33095       15.16033     66.04429   \n50%   128.90410 411.38160          175.06245       28.18462     78.21771   \n75%   250.50267 477.81553          227.21825       43.35413    101.90696   \nmax   676.97610 723.60770          337.95520       77.18266    258.78000   \n\nname   Dietary Fiber      Fat    Folate     Iron  Magnesium  \\\ncount       40.00000 40.00000  40.00000 40.00000   40.00000   \nmean         2.25344 19.90674  58.06536  2.82201   45.92398   \nstd          1.85985  7.47876  50.31382  1.38303   19.76118   \nmin          0.00000  4.10645   0.82311  0.75290   14.17172   \n25%          0.86444 14.48121  14.57852  1.86490   29.52328   \n50%          1.71311 19.45139  42.36745  2.46431   44.61657   \n75%          2.90374 25.24648  99.57001  3.82829   60.44118   \nmax          8.06500 37.55058 158.87970  7.87272   91.56936   \n\nname   Niacin Equivalents  Potassium  Protein  Saturated Fat     Sodium  \\\ncount            40.00000   40.00000 40.00000       40.00000   40.00000   \nmean             10.84935  456.49066 26.43781        7.79308  881.00683   \nstd               5.49250  175.35695  9.79886        4.40350  646.82220   \nmin               0.96885  168.76250  5.40403        2.11712   58.50833   \n25%               7.19732  328.29800 20.55757        4.46101  362.23480   \n50%               9.73675  430.96845 24.82977        6.80382  809.48580   \n75%              13.36158  568.87323 34.50450       11.36834 1116.12100   \nmax              26.91518  821.56100 49.29967       19.29810 3276.48700   \n\nname    Sugars  Thiamin  Vitamin A - IU  Vitamin B6  Vitamin C  \ncount 40.00000 40.00000        40.00000    40.00000   40.00000  \nmean   6.96501  0.30564      1015.66741     0.41716   11.80128  \nstd    7.49054  0.27236      1607.27076     0.25420   23.59605  \nmin    0.00000  0.01469         0.00000     0.07379    0.00000  \n25%    2.87150  0.09049       316.00322     0.24017    2.70574  \n50%    4.20962  0.19860       578.63980     0.34042    4.82702  \n75%    7.89653  0.46566       988.02458     0.54473    9.62192  \nmax   33.53006  1.26143      8619.63200     1.10675  140.94150  "
     },
     "execution_count": 259,
     "metadata": {},
     "output_type": "execute_result"
    }
   ],
   "source": [
    "subset_normal.describe()"
   ]
  },
  {
   "cell_type": "code",
   "execution_count": 260,
   "metadata": {},
   "outputs": [],
   "source": [
    "user_recipes_fat = recipe_db[recipe_db.index.isin(subset_fat_id)]\n",
    "user_recipes_normal = recipe_db[recipe_db.index.isin(subset_normal_id)]"
   ]
  },
  {
   "cell_type": "code",
   "execution_count": 261,
   "metadata": {},
   "outputs": [],
   "source": [
    "####temp#######\n",
    "temp_fat_20 = [16966,  14753,  62459,  18397,   8757,  52501,   8556, 240522,\n",
    "        86628, 221304, 223596,  51653,  48921, 142220,  76763, 222509,\n",
    "        17496,  14710,  86860,  86813]\n",
    "\n",
    "user_recipes_fat = recipe_db[recipe_db.index.isin(temp_fat_20)]\n",
    "\n",
    "temp_normal_20 = [36994,  16741,  14622,  24080,  11720,   8994,  24509,   8949,\n",
    "       217899,  15225,   8549, 220214,  21140, 230735, 140135,  27946,\n",
    "       199382, 109782,  30794,  22364]\n",
    "####temp#######\n",
    "user_recipes_normal = recipe_db[recipe_db.index.isin(temp_normal_20)]\n",
    "\n"
   ]
  },
  {
   "cell_type": "code",
   "execution_count": 262,
   "metadata": {},
   "outputs": [
    {
     "data": {
      "text/html": "<div>\n<style scoped>\n    .dataframe tbody tr th:only-of-type {\n        vertical-align: middle;\n    }\n\n    .dataframe tbody tr th {\n        vertical-align: top;\n    }\n\n    .dataframe thead th {\n        text-align: right;\n    }\n</style>\n<table border=\"1\" class=\"dataframe\">\n  <thead>\n    <tr style=\"text-align: right;\">\n      <th></th>\n      <th>111</th>\n      <th>126</th>\n      <th>257</th>\n      <th>443</th>\n      <th>445</th>\n      <th>578</th>\n      <th>615</th>\n      <th>629</th>\n      <th>631</th>\n      <th>858</th>\n      <th>...</th>\n      <th>23047</th>\n      <th>23274</th>\n      <th>23383</th>\n      <th>24865</th>\n      <th>25518</th>\n      <th>25522</th>\n      <th>26269</th>\n      <th>26934</th>\n      <th>27343</th>\n      <th>27805</th>\n    </tr>\n    <tr>\n      <th>id</th>\n      <th></th>\n      <th></th>\n      <th></th>\n      <th></th>\n      <th></th>\n      <th></th>\n      <th></th>\n      <th></th>\n      <th></th>\n      <th></th>\n      <th></th>\n      <th></th>\n      <th></th>\n      <th></th>\n      <th></th>\n      <th></th>\n      <th></th>\n      <th></th>\n      <th></th>\n      <th></th>\n      <th></th>\n    </tr>\n  </thead>\n  <tbody>\n    <tr>\n      <td>8556</td>\n      <td>0</td>\n      <td>0</td>\n      <td>0</td>\n      <td>0</td>\n      <td>0</td>\n      <td>0</td>\n      <td>0</td>\n      <td>0</td>\n      <td>0</td>\n      <td>0</td>\n      <td>...</td>\n      <td>0</td>\n      <td>0</td>\n      <td>0</td>\n      <td>0</td>\n      <td>0</td>\n      <td>0</td>\n      <td>0</td>\n      <td>0</td>\n      <td>0</td>\n      <td>0</td>\n    </tr>\n    <tr>\n      <td>8757</td>\n      <td>0</td>\n      <td>0</td>\n      <td>0</td>\n      <td>0</td>\n      <td>0</td>\n      <td>0</td>\n      <td>0</td>\n      <td>0</td>\n      <td>0</td>\n      <td>0</td>\n      <td>...</td>\n      <td>0</td>\n      <td>0</td>\n      <td>0</td>\n      <td>0</td>\n      <td>0</td>\n      <td>0</td>\n      <td>0</td>\n      <td>0</td>\n      <td>0</td>\n      <td>0</td>\n    </tr>\n    <tr>\n      <td>14710</td>\n      <td>0</td>\n      <td>0</td>\n      <td>0</td>\n      <td>0</td>\n      <td>0</td>\n      <td>0</td>\n      <td>0</td>\n      <td>0</td>\n      <td>0</td>\n      <td>0</td>\n      <td>...</td>\n      <td>0</td>\n      <td>0</td>\n      <td>0</td>\n      <td>0</td>\n      <td>0</td>\n      <td>0</td>\n      <td>0</td>\n      <td>0</td>\n      <td>0</td>\n      <td>0</td>\n    </tr>\n    <tr>\n      <td>14753</td>\n      <td>0</td>\n      <td>0</td>\n      <td>0</td>\n      <td>0</td>\n      <td>0</td>\n      <td>0</td>\n      <td>0</td>\n      <td>0</td>\n      <td>0</td>\n      <td>0</td>\n      <td>...</td>\n      <td>0</td>\n      <td>0</td>\n      <td>0</td>\n      <td>0</td>\n      <td>0</td>\n      <td>0</td>\n      <td>0</td>\n      <td>0</td>\n      <td>0</td>\n      <td>0</td>\n    </tr>\n    <tr>\n      <td>16966</td>\n      <td>0</td>\n      <td>0</td>\n      <td>0</td>\n      <td>0</td>\n      <td>0</td>\n      <td>0</td>\n      <td>0</td>\n      <td>0</td>\n      <td>0</td>\n      <td>0</td>\n      <td>...</td>\n      <td>0</td>\n      <td>0</td>\n      <td>0</td>\n      <td>0</td>\n      <td>0</td>\n      <td>0</td>\n      <td>0</td>\n      <td>0</td>\n      <td>0</td>\n      <td>0</td>\n    </tr>\n    <tr>\n      <td>17496</td>\n      <td>0</td>\n      <td>0</td>\n      <td>0</td>\n      <td>0</td>\n      <td>0</td>\n      <td>0</td>\n      <td>0</td>\n      <td>0</td>\n      <td>0</td>\n      <td>0</td>\n      <td>...</td>\n      <td>0</td>\n      <td>0</td>\n      <td>0</td>\n      <td>0</td>\n      <td>0</td>\n      <td>0</td>\n      <td>0</td>\n      <td>0</td>\n      <td>0</td>\n      <td>0</td>\n    </tr>\n    <tr>\n      <td>18397</td>\n      <td>0</td>\n      <td>0</td>\n      <td>0</td>\n      <td>0</td>\n      <td>0</td>\n      <td>0</td>\n      <td>0</td>\n      <td>0</td>\n      <td>0</td>\n      <td>0</td>\n      <td>...</td>\n      <td>0</td>\n      <td>0</td>\n      <td>0</td>\n      <td>0</td>\n      <td>0</td>\n      <td>0</td>\n      <td>0</td>\n      <td>0</td>\n      <td>0</td>\n      <td>0</td>\n    </tr>\n    <tr>\n      <td>48921</td>\n      <td>0</td>\n      <td>0</td>\n      <td>0</td>\n      <td>0</td>\n      <td>0</td>\n      <td>0</td>\n      <td>0</td>\n      <td>0</td>\n      <td>0</td>\n      <td>0</td>\n      <td>...</td>\n      <td>0</td>\n      <td>0</td>\n      <td>0</td>\n      <td>0</td>\n      <td>0</td>\n      <td>0</td>\n      <td>0</td>\n      <td>0</td>\n      <td>0</td>\n      <td>0</td>\n    </tr>\n    <tr>\n      <td>51653</td>\n      <td>0</td>\n      <td>0</td>\n      <td>0</td>\n      <td>0</td>\n      <td>0</td>\n      <td>0</td>\n      <td>0</td>\n      <td>0</td>\n      <td>0</td>\n      <td>0</td>\n      <td>...</td>\n      <td>0</td>\n      <td>0</td>\n      <td>0</td>\n      <td>0</td>\n      <td>0</td>\n      <td>0</td>\n      <td>0</td>\n      <td>0</td>\n      <td>0</td>\n      <td>0</td>\n    </tr>\n    <tr>\n      <td>52501</td>\n      <td>0</td>\n      <td>0</td>\n      <td>0</td>\n      <td>0</td>\n      <td>0</td>\n      <td>0</td>\n      <td>0</td>\n      <td>0</td>\n      <td>0</td>\n      <td>0</td>\n      <td>...</td>\n      <td>0</td>\n      <td>0</td>\n      <td>0</td>\n      <td>0</td>\n      <td>0</td>\n      <td>0</td>\n      <td>0</td>\n      <td>0</td>\n      <td>0</td>\n      <td>0</td>\n    </tr>\n    <tr>\n      <td>62459</td>\n      <td>0</td>\n      <td>0</td>\n      <td>0</td>\n      <td>0</td>\n      <td>0</td>\n      <td>0</td>\n      <td>0</td>\n      <td>0</td>\n      <td>0</td>\n      <td>0</td>\n      <td>...</td>\n      <td>0</td>\n      <td>0</td>\n      <td>0</td>\n      <td>0</td>\n      <td>0</td>\n      <td>0</td>\n      <td>0</td>\n      <td>0</td>\n      <td>0</td>\n      <td>0</td>\n    </tr>\n    <tr>\n      <td>76763</td>\n      <td>0</td>\n      <td>0</td>\n      <td>0</td>\n      <td>0</td>\n      <td>0</td>\n      <td>0</td>\n      <td>0</td>\n      <td>0</td>\n      <td>0</td>\n      <td>0</td>\n      <td>...</td>\n      <td>0</td>\n      <td>0</td>\n      <td>0</td>\n      <td>0</td>\n      <td>0</td>\n      <td>0</td>\n      <td>0</td>\n      <td>0</td>\n      <td>0</td>\n      <td>0</td>\n    </tr>\n    <tr>\n      <td>86628</td>\n      <td>0</td>\n      <td>0</td>\n      <td>0</td>\n      <td>0</td>\n      <td>0</td>\n      <td>0</td>\n      <td>0</td>\n      <td>0</td>\n      <td>0</td>\n      <td>0</td>\n      <td>...</td>\n      <td>0</td>\n      <td>0</td>\n      <td>0</td>\n      <td>0</td>\n      <td>0</td>\n      <td>0</td>\n      <td>0</td>\n      <td>0</td>\n      <td>0</td>\n      <td>0</td>\n    </tr>\n    <tr>\n      <td>86813</td>\n      <td>0</td>\n      <td>0</td>\n      <td>0</td>\n      <td>0</td>\n      <td>0</td>\n      <td>0</td>\n      <td>0</td>\n      <td>0</td>\n      <td>0</td>\n      <td>0</td>\n      <td>...</td>\n      <td>0</td>\n      <td>0</td>\n      <td>0</td>\n      <td>0</td>\n      <td>0</td>\n      <td>0</td>\n      <td>0</td>\n      <td>0</td>\n      <td>0</td>\n      <td>0</td>\n    </tr>\n    <tr>\n      <td>86860</td>\n      <td>0</td>\n      <td>0</td>\n      <td>0</td>\n      <td>0</td>\n      <td>0</td>\n      <td>0</td>\n      <td>0</td>\n      <td>0</td>\n      <td>0</td>\n      <td>0</td>\n      <td>...</td>\n      <td>0</td>\n      <td>0</td>\n      <td>0</td>\n      <td>0</td>\n      <td>0</td>\n      <td>0</td>\n      <td>0</td>\n      <td>0</td>\n      <td>0</td>\n      <td>0</td>\n    </tr>\n    <tr>\n      <td>142220</td>\n      <td>0</td>\n      <td>0</td>\n      <td>0</td>\n      <td>0</td>\n      <td>0</td>\n      <td>0</td>\n      <td>0</td>\n      <td>0</td>\n      <td>0</td>\n      <td>0</td>\n      <td>...</td>\n      <td>0</td>\n      <td>0</td>\n      <td>0</td>\n      <td>0</td>\n      <td>0</td>\n      <td>0</td>\n      <td>0</td>\n      <td>0</td>\n      <td>0</td>\n      <td>0</td>\n    </tr>\n    <tr>\n      <td>221304</td>\n      <td>0</td>\n      <td>0</td>\n      <td>0</td>\n      <td>0</td>\n      <td>0</td>\n      <td>0</td>\n      <td>0</td>\n      <td>0</td>\n      <td>0</td>\n      <td>0</td>\n      <td>...</td>\n      <td>0</td>\n      <td>0</td>\n      <td>0</td>\n      <td>0</td>\n      <td>0</td>\n      <td>0</td>\n      <td>0</td>\n      <td>0</td>\n      <td>0</td>\n      <td>0</td>\n    </tr>\n    <tr>\n      <td>222509</td>\n      <td>0</td>\n      <td>0</td>\n      <td>0</td>\n      <td>0</td>\n      <td>0</td>\n      <td>0</td>\n      <td>0</td>\n      <td>0</td>\n      <td>0</td>\n      <td>0</td>\n      <td>...</td>\n      <td>0</td>\n      <td>0</td>\n      <td>0</td>\n      <td>0</td>\n      <td>0</td>\n      <td>0</td>\n      <td>0</td>\n      <td>0</td>\n      <td>0</td>\n      <td>0</td>\n    </tr>\n    <tr>\n      <td>223596</td>\n      <td>0</td>\n      <td>0</td>\n      <td>0</td>\n      <td>0</td>\n      <td>0</td>\n      <td>1</td>\n      <td>0</td>\n      <td>0</td>\n      <td>0</td>\n      <td>0</td>\n      <td>...</td>\n      <td>0</td>\n      <td>0</td>\n      <td>0</td>\n      <td>0</td>\n      <td>0</td>\n      <td>0</td>\n      <td>0</td>\n      <td>0</td>\n      <td>0</td>\n      <td>0</td>\n    </tr>\n    <tr>\n      <td>240522</td>\n      <td>0</td>\n      <td>0</td>\n      <td>0</td>\n      <td>0</td>\n      <td>0</td>\n      <td>0</td>\n      <td>0</td>\n      <td>0</td>\n      <td>0</td>\n      <td>0</td>\n      <td>...</td>\n      <td>0</td>\n      <td>0</td>\n      <td>0</td>\n      <td>0</td>\n      <td>0</td>\n      <td>0</td>\n      <td>0</td>\n      <td>0</td>\n      <td>0</td>\n      <td>0</td>\n    </tr>\n  </tbody>\n</table>\n<p>20 rows × 730 columns</p>\n</div>",
      "text/plain": "        111    126    257    443    445    578    615    629    631    858    \\\nid                                                                             \n8556        0      0      0      0      0      0      0      0      0      0   \n8757        0      0      0      0      0      0      0      0      0      0   \n14710       0      0      0      0      0      0      0      0      0      0   \n14753       0      0      0      0      0      0      0      0      0      0   \n16966       0      0      0      0      0      0      0      0      0      0   \n17496       0      0      0      0      0      0      0      0      0      0   \n18397       0      0      0      0      0      0      0      0      0      0   \n48921       0      0      0      0      0      0      0      0      0      0   \n51653       0      0      0      0      0      0      0      0      0      0   \n52501       0      0      0      0      0      0      0      0      0      0   \n62459       0      0      0      0      0      0      0      0      0      0   \n76763       0      0      0      0      0      0      0      0      0      0   \n86628       0      0      0      0      0      0      0      0      0      0   \n86813       0      0      0      0      0      0      0      0      0      0   \n86860       0      0      0      0      0      0      0      0      0      0   \n142220      0      0      0      0      0      0      0      0      0      0   \n221304      0      0      0      0      0      0      0      0      0      0   \n222509      0      0      0      0      0      0      0      0      0      0   \n223596      0      0      0      0      0      1      0      0      0      0   \n240522      0      0      0      0      0      0      0      0      0      0   \n\n        ...  23047  23274  23383  24865  25518  25522  26269  26934  27343  \\\nid      ...                                                                  \n8556    ...      0      0      0      0      0      0      0      0      0   \n8757    ...      0      0      0      0      0      0      0      0      0   \n14710   ...      0      0      0      0      0      0      0      0      0   \n14753   ...      0      0      0      0      0      0      0      0      0   \n16966   ...      0      0      0      0      0      0      0      0      0   \n17496   ...      0      0      0      0      0      0      0      0      0   \n18397   ...      0      0      0      0      0      0      0      0      0   \n48921   ...      0      0      0      0      0      0      0      0      0   \n51653   ...      0      0      0      0      0      0      0      0      0   \n52501   ...      0      0      0      0      0      0      0      0      0   \n62459   ...      0      0      0      0      0      0      0      0      0   \n76763   ...      0      0      0      0      0      0      0      0      0   \n86628   ...      0      0      0      0      0      0      0      0      0   \n86813   ...      0      0      0      0      0      0      0      0      0   \n86860   ...      0      0      0      0      0      0      0      0      0   \n142220  ...      0      0      0      0      0      0      0      0      0   \n221304  ...      0      0      0      0      0      0      0      0      0   \n222509  ...      0      0      0      0      0      0      0      0      0   \n223596  ...      0      0      0      0      0      0      0      0      0   \n240522  ...      0      0      0      0      0      0      0      0      0   \n\n        27805  \nid             \n8556        0  \n8757        0  \n14710       0  \n14753       0  \n16966       0  \n17496       0  \n18397       0  \n48921       0  \n51653       0  \n52501       0  \n62459       0  \n76763       0  \n86628       0  \n86813       0  \n86860       0  \n142220      0  \n221304      0  \n222509      0  \n223596      0  \n240522      0  \n\n[20 rows x 730 columns]"
     },
     "execution_count": 262,
     "metadata": {},
     "output_type": "execute_result"
    }
   ],
   "source": [
    "user_recipes_fat"
   ]
  },
  {
   "cell_type": "code",
   "execution_count": 263,
   "metadata": {},
   "outputs": [],
   "source": [
    "#top10 most common ingredients\n",
    "#16421    2125 salt\n",
    "#4342     1506 garlic\n",
    "#4397     1412 onion\n",
    "#16406    1185 ground black pepper\n",
    "#16157    1016 butter\n",
    "#6307      944 olive oil\n",
    "#6494      786 skinless bone less chicken breast\n",
    "#2496      749 water\n",
    "#16238     574 grated Parmesan cheese\n",
    "#16317     538 eggs\n",
    "\n",
    "\n",
    "drop_id_list = [16421, 4342, 4397, 16406, 16157, 6307, 6494, 2496, 16238, 16317]\n",
    "\n",
    "\n",
    "\n"
   ]
  },
  {
   "cell_type": "code",
   "execution_count": 264,
   "metadata": {},
   "outputs": [
    {
     "data": {
      "text/plain": "array([236703,  87137,   8855,  15024,  82487, 223596,  14610,  23881,\n       223005,  16794,  48873, 235171,   8998, 199688,  19484,  17022,\n        21352, 148970,   8693, 219766,  69538, 132511,  52299,  18059,\n       147305,  11757,   8639,  16756, 156232,  84774, 231537, 213748,\n       219173,   8772,  14592,  17496, 169974, 151997,  17169,  16429])"
     },
     "execution_count": 264,
     "metadata": {},
     "output_type": "execute_result"
    }
   ],
   "source": [
    "subset_fat_id"
   ]
  },
  {
   "cell_type": "code",
   "execution_count": 265,
   "metadata": {},
   "outputs": [
    {
     "data": {
      "text/plain": "array([ 13890,  58348, 240593,  74188,  22671, 148818,  46859,  72613,\n       244507,  69754, 223058,  72712,   9037,  75115, 212511,   8990,\n       143105,  20618,  72804,  92525,  71251, 219005,  94113, 213497,\n        16566,  18883,  23691,  86415,  37022, 231533, 214617,  21076,\n        18130,  24851,  17807,   8758,   9143,  21317, 240502,  25146])"
     },
     "execution_count": 265,
     "metadata": {},
     "output_type": "execute_result"
    }
   ],
   "source": [
    "subset_normal_id"
   ]
  },
  {
   "cell_type": "code",
   "execution_count": 266,
   "metadata": {},
   "outputs": [],
   "source": [
    "#filter out ingredients which are too common and the recipes in the user profile from the recipes database\n",
    "new_recipe_db = recipe_db.drop(axis=1, labels=drop_id_list)\n",
    "\n",
    "#original\n",
    "#new_recipe_db_wo_userrecipes_fat = new_recipe_db.drop(axis=0, labels=subset_fat_id)\n",
    "#original\n",
    "\n",
    "\n",
    "####temp#######\n",
    "new_recipe_db_wo_userrecipes_fat = new_recipe_db.drop(axis=0, labels=temp_fat_20)\n",
    "\n",
    "new_recipe_db_wo_userrecipes_normal = new_recipe_db.drop(axis=0, labels=temp_normal_20)\n",
    "####temp#######"
   ]
  },
  {
   "cell_type": "code",
   "execution_count": 267,
   "metadata": {},
   "outputs": [],
   "source": [
    "#remove basic ingredients like garlic, olive oil, skinless bone less chicken breast, butter, milk, salt and pepper, onion\n",
    "new_user_recipes_fat = user_recipes_fat.drop(axis=1, labels=drop_id_list)\n",
    "new_user_recipes_normal = user_recipes_normal.drop(axis=1, labels=drop_id_list)"
   ]
  },
  {
   "cell_type": "code",
   "execution_count": 268,
   "metadata": {},
   "outputs": [],
   "source": [
    "sample_fat = new_user_recipes_fat.sample(n=20).copy()\n"
   ]
  },
  {
   "cell_type": "code",
   "execution_count": 269,
   "metadata": {},
   "outputs": [],
   "source": [
    "sample_normal = new_user_recipes_normal.sample(n=20).copy()"
   ]
  },
  {
   "cell_type": "code",
   "execution_count": 270,
   "metadata": {},
   "outputs": [
    {
     "data": {
      "text/html": "<div>\n<style scoped>\n    .dataframe tbody tr th:only-of-type {\n        vertical-align: middle;\n    }\n\n    .dataframe tbody tr th {\n        vertical-align: top;\n    }\n\n    .dataframe thead th {\n        text-align: right;\n    }\n</style>\n<table border=\"1\" class=\"dataframe\">\n  <thead>\n    <tr style=\"text-align: right;\">\n      <th></th>\n      <th>111</th>\n      <th>126</th>\n      <th>257</th>\n      <th>443</th>\n      <th>445</th>\n      <th>578</th>\n      <th>615</th>\n      <th>629</th>\n      <th>631</th>\n      <th>858</th>\n      <th>...</th>\n      <th>23047</th>\n      <th>23274</th>\n      <th>23383</th>\n      <th>24865</th>\n      <th>25518</th>\n      <th>25522</th>\n      <th>26269</th>\n      <th>26934</th>\n      <th>27343</th>\n      <th>27805</th>\n    </tr>\n    <tr>\n      <th>id</th>\n      <th></th>\n      <th></th>\n      <th></th>\n      <th></th>\n      <th></th>\n      <th></th>\n      <th></th>\n      <th></th>\n      <th></th>\n      <th></th>\n      <th></th>\n      <th></th>\n      <th></th>\n      <th></th>\n      <th></th>\n      <th></th>\n      <th></th>\n      <th></th>\n      <th></th>\n      <th></th>\n      <th></th>\n    </tr>\n  </thead>\n  <tbody>\n    <tr>\n      <td>24509</td>\n      <td>0</td>\n      <td>0</td>\n      <td>0</td>\n      <td>0</td>\n      <td>0</td>\n      <td>0</td>\n      <td>0</td>\n      <td>0</td>\n      <td>0</td>\n      <td>0</td>\n      <td>...</td>\n      <td>0</td>\n      <td>0</td>\n      <td>0</td>\n      <td>0</td>\n      <td>0</td>\n      <td>0</td>\n      <td>0</td>\n      <td>0</td>\n      <td>0</td>\n      <td>0</td>\n    </tr>\n    <tr>\n      <td>27946</td>\n      <td>0</td>\n      <td>0</td>\n      <td>0</td>\n      <td>0</td>\n      <td>0</td>\n      <td>1</td>\n      <td>0</td>\n      <td>0</td>\n      <td>0</td>\n      <td>0</td>\n      <td>...</td>\n      <td>0</td>\n      <td>0</td>\n      <td>0</td>\n      <td>0</td>\n      <td>0</td>\n      <td>0</td>\n      <td>0</td>\n      <td>0</td>\n      <td>0</td>\n      <td>0</td>\n    </tr>\n    <tr>\n      <td>109782</td>\n      <td>0</td>\n      <td>0</td>\n      <td>0</td>\n      <td>0</td>\n      <td>0</td>\n      <td>0</td>\n      <td>0</td>\n      <td>0</td>\n      <td>0</td>\n      <td>0</td>\n      <td>...</td>\n      <td>0</td>\n      <td>0</td>\n      <td>0</td>\n      <td>0</td>\n      <td>0</td>\n      <td>0</td>\n      <td>0</td>\n      <td>0</td>\n      <td>0</td>\n      <td>0</td>\n    </tr>\n    <tr>\n      <td>11720</td>\n      <td>0</td>\n      <td>0</td>\n      <td>0</td>\n      <td>0</td>\n      <td>0</td>\n      <td>0</td>\n      <td>0</td>\n      <td>0</td>\n      <td>0</td>\n      <td>0</td>\n      <td>...</td>\n      <td>0</td>\n      <td>0</td>\n      <td>0</td>\n      <td>0</td>\n      <td>0</td>\n      <td>0</td>\n      <td>0</td>\n      <td>0</td>\n      <td>0</td>\n      <td>0</td>\n    </tr>\n    <tr>\n      <td>8949</td>\n      <td>0</td>\n      <td>0</td>\n      <td>0</td>\n      <td>0</td>\n      <td>0</td>\n      <td>0</td>\n      <td>0</td>\n      <td>0</td>\n      <td>0</td>\n      <td>0</td>\n      <td>...</td>\n      <td>0</td>\n      <td>0</td>\n      <td>0</td>\n      <td>0</td>\n      <td>0</td>\n      <td>0</td>\n      <td>0</td>\n      <td>0</td>\n      <td>0</td>\n      <td>0</td>\n    </tr>\n    <tr>\n      <td>140135</td>\n      <td>0</td>\n      <td>0</td>\n      <td>0</td>\n      <td>0</td>\n      <td>0</td>\n      <td>0</td>\n      <td>0</td>\n      <td>0</td>\n      <td>0</td>\n      <td>0</td>\n      <td>...</td>\n      <td>0</td>\n      <td>0</td>\n      <td>0</td>\n      <td>0</td>\n      <td>0</td>\n      <td>0</td>\n      <td>0</td>\n      <td>0</td>\n      <td>0</td>\n      <td>0</td>\n    </tr>\n    <tr>\n      <td>16741</td>\n      <td>0</td>\n      <td>0</td>\n      <td>0</td>\n      <td>0</td>\n      <td>0</td>\n      <td>0</td>\n      <td>0</td>\n      <td>0</td>\n      <td>0</td>\n      <td>0</td>\n      <td>...</td>\n      <td>0</td>\n      <td>0</td>\n      <td>0</td>\n      <td>0</td>\n      <td>0</td>\n      <td>0</td>\n      <td>0</td>\n      <td>0</td>\n      <td>0</td>\n      <td>0</td>\n    </tr>\n    <tr>\n      <td>30794</td>\n      <td>0</td>\n      <td>0</td>\n      <td>0</td>\n      <td>0</td>\n      <td>0</td>\n      <td>0</td>\n      <td>0</td>\n      <td>0</td>\n      <td>0</td>\n      <td>0</td>\n      <td>...</td>\n      <td>0</td>\n      <td>0</td>\n      <td>0</td>\n      <td>0</td>\n      <td>0</td>\n      <td>0</td>\n      <td>0</td>\n      <td>0</td>\n      <td>0</td>\n      <td>0</td>\n    </tr>\n    <tr>\n      <td>220214</td>\n      <td>0</td>\n      <td>0</td>\n      <td>0</td>\n      <td>0</td>\n      <td>0</td>\n      <td>0</td>\n      <td>0</td>\n      <td>0</td>\n      <td>0</td>\n      <td>0</td>\n      <td>...</td>\n      <td>0</td>\n      <td>0</td>\n      <td>0</td>\n      <td>0</td>\n      <td>0</td>\n      <td>0</td>\n      <td>0</td>\n      <td>0</td>\n      <td>0</td>\n      <td>0</td>\n    </tr>\n    <tr>\n      <td>15225</td>\n      <td>0</td>\n      <td>0</td>\n      <td>0</td>\n      <td>0</td>\n      <td>0</td>\n      <td>0</td>\n      <td>0</td>\n      <td>0</td>\n      <td>0</td>\n      <td>0</td>\n      <td>...</td>\n      <td>0</td>\n      <td>0</td>\n      <td>0</td>\n      <td>0</td>\n      <td>0</td>\n      <td>0</td>\n      <td>0</td>\n      <td>0</td>\n      <td>0</td>\n      <td>0</td>\n    </tr>\n    <tr>\n      <td>8549</td>\n      <td>0</td>\n      <td>0</td>\n      <td>0</td>\n      <td>0</td>\n      <td>0</td>\n      <td>0</td>\n      <td>0</td>\n      <td>0</td>\n      <td>0</td>\n      <td>0</td>\n      <td>...</td>\n      <td>0</td>\n      <td>0</td>\n      <td>0</td>\n      <td>0</td>\n      <td>0</td>\n      <td>0</td>\n      <td>0</td>\n      <td>0</td>\n      <td>0</td>\n      <td>0</td>\n    </tr>\n    <tr>\n      <td>22364</td>\n      <td>0</td>\n      <td>0</td>\n      <td>0</td>\n      <td>0</td>\n      <td>0</td>\n      <td>0</td>\n      <td>0</td>\n      <td>0</td>\n      <td>0</td>\n      <td>0</td>\n      <td>...</td>\n      <td>0</td>\n      <td>0</td>\n      <td>0</td>\n      <td>0</td>\n      <td>0</td>\n      <td>0</td>\n      <td>0</td>\n      <td>0</td>\n      <td>0</td>\n      <td>0</td>\n    </tr>\n    <tr>\n      <td>199382</td>\n      <td>0</td>\n      <td>0</td>\n      <td>0</td>\n      <td>0</td>\n      <td>0</td>\n      <td>0</td>\n      <td>0</td>\n      <td>0</td>\n      <td>0</td>\n      <td>0</td>\n      <td>...</td>\n      <td>0</td>\n      <td>0</td>\n      <td>0</td>\n      <td>0</td>\n      <td>0</td>\n      <td>0</td>\n      <td>0</td>\n      <td>0</td>\n      <td>0</td>\n      <td>0</td>\n    </tr>\n    <tr>\n      <td>217899</td>\n      <td>0</td>\n      <td>0</td>\n      <td>0</td>\n      <td>0</td>\n      <td>0</td>\n      <td>0</td>\n      <td>0</td>\n      <td>0</td>\n      <td>0</td>\n      <td>0</td>\n      <td>...</td>\n      <td>0</td>\n      <td>0</td>\n      <td>0</td>\n      <td>0</td>\n      <td>0</td>\n      <td>0</td>\n      <td>0</td>\n      <td>0</td>\n      <td>0</td>\n      <td>0</td>\n    </tr>\n    <tr>\n      <td>24080</td>\n      <td>0</td>\n      <td>0</td>\n      <td>0</td>\n      <td>0</td>\n      <td>0</td>\n      <td>0</td>\n      <td>0</td>\n      <td>0</td>\n      <td>0</td>\n      <td>0</td>\n      <td>...</td>\n      <td>0</td>\n      <td>0</td>\n      <td>0</td>\n      <td>0</td>\n      <td>0</td>\n      <td>0</td>\n      <td>0</td>\n      <td>0</td>\n      <td>0</td>\n      <td>0</td>\n    </tr>\n    <tr>\n      <td>14622</td>\n      <td>0</td>\n      <td>0</td>\n      <td>0</td>\n      <td>0</td>\n      <td>0</td>\n      <td>0</td>\n      <td>0</td>\n      <td>0</td>\n      <td>0</td>\n      <td>0</td>\n      <td>...</td>\n      <td>0</td>\n      <td>0</td>\n      <td>0</td>\n      <td>0</td>\n      <td>0</td>\n      <td>0</td>\n      <td>0</td>\n      <td>0</td>\n      <td>0</td>\n      <td>0</td>\n    </tr>\n    <tr>\n      <td>230735</td>\n      <td>0</td>\n      <td>0</td>\n      <td>0</td>\n      <td>0</td>\n      <td>0</td>\n      <td>0</td>\n      <td>0</td>\n      <td>0</td>\n      <td>0</td>\n      <td>0</td>\n      <td>...</td>\n      <td>0</td>\n      <td>1</td>\n      <td>0</td>\n      <td>0</td>\n      <td>0</td>\n      <td>0</td>\n      <td>0</td>\n      <td>0</td>\n      <td>0</td>\n      <td>0</td>\n    </tr>\n    <tr>\n      <td>21140</td>\n      <td>0</td>\n      <td>0</td>\n      <td>0</td>\n      <td>0</td>\n      <td>0</td>\n      <td>0</td>\n      <td>0</td>\n      <td>0</td>\n      <td>0</td>\n      <td>0</td>\n      <td>...</td>\n      <td>0</td>\n      <td>0</td>\n      <td>0</td>\n      <td>0</td>\n      <td>0</td>\n      <td>0</td>\n      <td>0</td>\n      <td>0</td>\n      <td>0</td>\n      <td>0</td>\n    </tr>\n    <tr>\n      <td>36994</td>\n      <td>0</td>\n      <td>0</td>\n      <td>0</td>\n      <td>0</td>\n      <td>0</td>\n      <td>0</td>\n      <td>0</td>\n      <td>0</td>\n      <td>0</td>\n      <td>0</td>\n      <td>...</td>\n      <td>0</td>\n      <td>0</td>\n      <td>0</td>\n      <td>0</td>\n      <td>0</td>\n      <td>0</td>\n      <td>0</td>\n      <td>0</td>\n      <td>0</td>\n      <td>0</td>\n    </tr>\n    <tr>\n      <td>8994</td>\n      <td>0</td>\n      <td>0</td>\n      <td>0</td>\n      <td>0</td>\n      <td>0</td>\n      <td>0</td>\n      <td>0</td>\n      <td>0</td>\n      <td>0</td>\n      <td>0</td>\n      <td>...</td>\n      <td>0</td>\n      <td>0</td>\n      <td>0</td>\n      <td>0</td>\n      <td>0</td>\n      <td>0</td>\n      <td>0</td>\n      <td>0</td>\n      <td>0</td>\n      <td>0</td>\n    </tr>\n  </tbody>\n</table>\n<p>20 rows × 720 columns</p>\n</div>",
      "text/plain": "        111    126    257    443    445    578    615    629    631    858    \\\nid                                                                             \n24509       0      0      0      0      0      0      0      0      0      0   \n27946       0      0      0      0      0      1      0      0      0      0   \n109782      0      0      0      0      0      0      0      0      0      0   \n11720       0      0      0      0      0      0      0      0      0      0   \n8949        0      0      0      0      0      0      0      0      0      0   \n140135      0      0      0      0      0      0      0      0      0      0   \n16741       0      0      0      0      0      0      0      0      0      0   \n30794       0      0      0      0      0      0      0      0      0      0   \n220214      0      0      0      0      0      0      0      0      0      0   \n15225       0      0      0      0      0      0      0      0      0      0   \n8549        0      0      0      0      0      0      0      0      0      0   \n22364       0      0      0      0      0      0      0      0      0      0   \n199382      0      0      0      0      0      0      0      0      0      0   \n217899      0      0      0      0      0      0      0      0      0      0   \n24080       0      0      0      0      0      0      0      0      0      0   \n14622       0      0      0      0      0      0      0      0      0      0   \n230735      0      0      0      0      0      0      0      0      0      0   \n21140       0      0      0      0      0      0      0      0      0      0   \n36994       0      0      0      0      0      0      0      0      0      0   \n8994        0      0      0      0      0      0      0      0      0      0   \n\n        ...  23047  23274  23383  24865  25518  25522  26269  26934  27343  \\\nid      ...                                                                  \n24509   ...      0      0      0      0      0      0      0      0      0   \n27946   ...      0      0      0      0      0      0      0      0      0   \n109782  ...      0      0      0      0      0      0      0      0      0   \n11720   ...      0      0      0      0      0      0      0      0      0   \n8949    ...      0      0      0      0      0      0      0      0      0   \n140135  ...      0      0      0      0      0      0      0      0      0   \n16741   ...      0      0      0      0      0      0      0      0      0   \n30794   ...      0      0      0      0      0      0      0      0      0   \n220214  ...      0      0      0      0      0      0      0      0      0   \n15225   ...      0      0      0      0      0      0      0      0      0   \n8549    ...      0      0      0      0      0      0      0      0      0   \n22364   ...      0      0      0      0      0      0      0      0      0   \n199382  ...      0      0      0      0      0      0      0      0      0   \n217899  ...      0      0      0      0      0      0      0      0      0   \n24080   ...      0      0      0      0      0      0      0      0      0   \n14622   ...      0      0      0      0      0      0      0      0      0   \n230735  ...      0      1      0      0      0      0      0      0      0   \n21140   ...      0      0      0      0      0      0      0      0      0   \n36994   ...      0      0      0      0      0      0      0      0      0   \n8994    ...      0      0      0      0      0      0      0      0      0   \n\n        27805  \nid             \n24509       0  \n27946       0  \n109782      0  \n11720       0  \n8949        0  \n140135      0  \n16741       0  \n30794       0  \n220214      0  \n15225       0  \n8549        0  \n22364       0  \n199382      0  \n217899      0  \n24080       0  \n14622       0  \n230735      0  \n21140       0  \n36994       0  \n8994        0  \n\n[20 rows x 720 columns]"
     },
     "execution_count": 270,
     "metadata": {},
     "output_type": "execute_result"
    },
    {
     "data": {
      "text/html": "<div>\n<style scoped>\n    .dataframe tbody tr th:only-of-type {\n        vertical-align: middle;\n    }\n\n    .dataframe tbody tr th {\n        vertical-align: top;\n    }\n\n    .dataframe thead th {\n        text-align: right;\n    }\n</style>\n<table border=\"1\" class=\"dataframe\">\n  <thead>\n    <tr style=\"text-align: right;\">\n      <th></th>\n      <th>111</th>\n      <th>126</th>\n      <th>257</th>\n      <th>443</th>\n      <th>445</th>\n      <th>578</th>\n      <th>615</th>\n      <th>629</th>\n      <th>631</th>\n      <th>858</th>\n      <th>...</th>\n      <th>23047</th>\n      <th>23274</th>\n      <th>23383</th>\n      <th>24865</th>\n      <th>25518</th>\n      <th>25522</th>\n      <th>26269</th>\n      <th>26934</th>\n      <th>27343</th>\n      <th>27805</th>\n    </tr>\n    <tr>\n      <th>id</th>\n      <th></th>\n      <th></th>\n      <th></th>\n      <th></th>\n      <th></th>\n      <th></th>\n      <th></th>\n      <th></th>\n      <th></th>\n      <th></th>\n      <th></th>\n      <th></th>\n      <th></th>\n      <th></th>\n      <th></th>\n      <th></th>\n      <th></th>\n      <th></th>\n      <th></th>\n      <th></th>\n      <th></th>\n    </tr>\n  </thead>\n  <tbody>\n    <tr>\n      <td>18397</td>\n      <td>0</td>\n      <td>0</td>\n      <td>0</td>\n      <td>0</td>\n      <td>0</td>\n      <td>0</td>\n      <td>0</td>\n      <td>0</td>\n      <td>0</td>\n      <td>0</td>\n      <td>...</td>\n      <td>0</td>\n      <td>0</td>\n      <td>0</td>\n      <td>0</td>\n      <td>0</td>\n      <td>0</td>\n      <td>0</td>\n      <td>0</td>\n      <td>0</td>\n      <td>0</td>\n    </tr>\n    <tr>\n      <td>8757</td>\n      <td>0</td>\n      <td>0</td>\n      <td>0</td>\n      <td>0</td>\n      <td>0</td>\n      <td>0</td>\n      <td>0</td>\n      <td>0</td>\n      <td>0</td>\n      <td>0</td>\n      <td>...</td>\n      <td>0</td>\n      <td>0</td>\n      <td>0</td>\n      <td>0</td>\n      <td>0</td>\n      <td>0</td>\n      <td>0</td>\n      <td>0</td>\n      <td>0</td>\n      <td>0</td>\n    </tr>\n    <tr>\n      <td>86628</td>\n      <td>0</td>\n      <td>0</td>\n      <td>0</td>\n      <td>0</td>\n      <td>0</td>\n      <td>0</td>\n      <td>0</td>\n      <td>0</td>\n      <td>0</td>\n      <td>0</td>\n      <td>...</td>\n      <td>0</td>\n      <td>0</td>\n      <td>0</td>\n      <td>0</td>\n      <td>0</td>\n      <td>0</td>\n      <td>0</td>\n      <td>0</td>\n      <td>0</td>\n      <td>0</td>\n    </tr>\n    <tr>\n      <td>223596</td>\n      <td>0</td>\n      <td>0</td>\n      <td>0</td>\n      <td>0</td>\n      <td>0</td>\n      <td>1</td>\n      <td>0</td>\n      <td>0</td>\n      <td>0</td>\n      <td>0</td>\n      <td>...</td>\n      <td>0</td>\n      <td>0</td>\n      <td>0</td>\n      <td>0</td>\n      <td>0</td>\n      <td>0</td>\n      <td>0</td>\n      <td>0</td>\n      <td>0</td>\n      <td>0</td>\n    </tr>\n    <tr>\n      <td>48921</td>\n      <td>0</td>\n      <td>0</td>\n      <td>0</td>\n      <td>0</td>\n      <td>0</td>\n      <td>0</td>\n      <td>0</td>\n      <td>0</td>\n      <td>0</td>\n      <td>0</td>\n      <td>...</td>\n      <td>0</td>\n      <td>0</td>\n      <td>0</td>\n      <td>0</td>\n      <td>0</td>\n      <td>0</td>\n      <td>0</td>\n      <td>0</td>\n      <td>0</td>\n      <td>0</td>\n    </tr>\n    <tr>\n      <td>17496</td>\n      <td>0</td>\n      <td>0</td>\n      <td>0</td>\n      <td>0</td>\n      <td>0</td>\n      <td>0</td>\n      <td>0</td>\n      <td>0</td>\n      <td>0</td>\n      <td>0</td>\n      <td>...</td>\n      <td>0</td>\n      <td>0</td>\n      <td>0</td>\n      <td>0</td>\n      <td>0</td>\n      <td>0</td>\n      <td>0</td>\n      <td>0</td>\n      <td>0</td>\n      <td>0</td>\n    </tr>\n    <tr>\n      <td>240522</td>\n      <td>0</td>\n      <td>0</td>\n      <td>0</td>\n      <td>0</td>\n      <td>0</td>\n      <td>0</td>\n      <td>0</td>\n      <td>0</td>\n      <td>0</td>\n      <td>0</td>\n      <td>...</td>\n      <td>0</td>\n      <td>0</td>\n      <td>0</td>\n      <td>0</td>\n      <td>0</td>\n      <td>0</td>\n      <td>0</td>\n      <td>0</td>\n      <td>0</td>\n      <td>0</td>\n    </tr>\n    <tr>\n      <td>221304</td>\n      <td>0</td>\n      <td>0</td>\n      <td>0</td>\n      <td>0</td>\n      <td>0</td>\n      <td>0</td>\n      <td>0</td>\n      <td>0</td>\n      <td>0</td>\n      <td>0</td>\n      <td>...</td>\n      <td>0</td>\n      <td>0</td>\n      <td>0</td>\n      <td>0</td>\n      <td>0</td>\n      <td>0</td>\n      <td>0</td>\n      <td>0</td>\n      <td>0</td>\n      <td>0</td>\n    </tr>\n    <tr>\n      <td>16966</td>\n      <td>0</td>\n      <td>0</td>\n      <td>0</td>\n      <td>0</td>\n      <td>0</td>\n      <td>0</td>\n      <td>0</td>\n      <td>0</td>\n      <td>0</td>\n      <td>0</td>\n      <td>...</td>\n      <td>0</td>\n      <td>0</td>\n      <td>0</td>\n      <td>0</td>\n      <td>0</td>\n      <td>0</td>\n      <td>0</td>\n      <td>0</td>\n      <td>0</td>\n      <td>0</td>\n    </tr>\n    <tr>\n      <td>52501</td>\n      <td>0</td>\n      <td>0</td>\n      <td>0</td>\n      <td>0</td>\n      <td>0</td>\n      <td>0</td>\n      <td>0</td>\n      <td>0</td>\n      <td>0</td>\n      <td>0</td>\n      <td>...</td>\n      <td>0</td>\n      <td>0</td>\n      <td>0</td>\n      <td>0</td>\n      <td>0</td>\n      <td>0</td>\n      <td>0</td>\n      <td>0</td>\n      <td>0</td>\n      <td>0</td>\n    </tr>\n    <tr>\n      <td>62459</td>\n      <td>0</td>\n      <td>0</td>\n      <td>0</td>\n      <td>0</td>\n      <td>0</td>\n      <td>0</td>\n      <td>0</td>\n      <td>0</td>\n      <td>0</td>\n      <td>0</td>\n      <td>...</td>\n      <td>0</td>\n      <td>0</td>\n      <td>0</td>\n      <td>0</td>\n      <td>0</td>\n      <td>0</td>\n      <td>0</td>\n      <td>0</td>\n      <td>0</td>\n      <td>0</td>\n    </tr>\n    <tr>\n      <td>86813</td>\n      <td>0</td>\n      <td>0</td>\n      <td>0</td>\n      <td>0</td>\n      <td>0</td>\n      <td>0</td>\n      <td>0</td>\n      <td>0</td>\n      <td>0</td>\n      <td>0</td>\n      <td>...</td>\n      <td>0</td>\n      <td>0</td>\n      <td>0</td>\n      <td>0</td>\n      <td>0</td>\n      <td>0</td>\n      <td>0</td>\n      <td>0</td>\n      <td>0</td>\n      <td>0</td>\n    </tr>\n    <tr>\n      <td>14710</td>\n      <td>0</td>\n      <td>0</td>\n      <td>0</td>\n      <td>0</td>\n      <td>0</td>\n      <td>0</td>\n      <td>0</td>\n      <td>0</td>\n      <td>0</td>\n      <td>0</td>\n      <td>...</td>\n      <td>0</td>\n      <td>0</td>\n      <td>0</td>\n      <td>0</td>\n      <td>0</td>\n      <td>0</td>\n      <td>0</td>\n      <td>0</td>\n      <td>0</td>\n      <td>0</td>\n    </tr>\n    <tr>\n      <td>222509</td>\n      <td>0</td>\n      <td>0</td>\n      <td>0</td>\n      <td>0</td>\n      <td>0</td>\n      <td>0</td>\n      <td>0</td>\n      <td>0</td>\n      <td>0</td>\n      <td>0</td>\n      <td>...</td>\n      <td>0</td>\n      <td>0</td>\n      <td>0</td>\n      <td>0</td>\n      <td>0</td>\n      <td>0</td>\n      <td>0</td>\n      <td>0</td>\n      <td>0</td>\n      <td>0</td>\n    </tr>\n    <tr>\n      <td>51653</td>\n      <td>0</td>\n      <td>0</td>\n      <td>0</td>\n      <td>0</td>\n      <td>0</td>\n      <td>0</td>\n      <td>0</td>\n      <td>0</td>\n      <td>0</td>\n      <td>0</td>\n      <td>...</td>\n      <td>0</td>\n      <td>0</td>\n      <td>0</td>\n      <td>0</td>\n      <td>0</td>\n      <td>0</td>\n      <td>0</td>\n      <td>0</td>\n      <td>0</td>\n      <td>0</td>\n    </tr>\n    <tr>\n      <td>8556</td>\n      <td>0</td>\n      <td>0</td>\n      <td>0</td>\n      <td>0</td>\n      <td>0</td>\n      <td>0</td>\n      <td>0</td>\n      <td>0</td>\n      <td>0</td>\n      <td>0</td>\n      <td>...</td>\n      <td>0</td>\n      <td>0</td>\n      <td>0</td>\n      <td>0</td>\n      <td>0</td>\n      <td>0</td>\n      <td>0</td>\n      <td>0</td>\n      <td>0</td>\n      <td>0</td>\n    </tr>\n    <tr>\n      <td>86860</td>\n      <td>0</td>\n      <td>0</td>\n      <td>0</td>\n      <td>0</td>\n      <td>0</td>\n      <td>0</td>\n      <td>0</td>\n      <td>0</td>\n      <td>0</td>\n      <td>0</td>\n      <td>...</td>\n      <td>0</td>\n      <td>0</td>\n      <td>0</td>\n      <td>0</td>\n      <td>0</td>\n      <td>0</td>\n      <td>0</td>\n      <td>0</td>\n      <td>0</td>\n      <td>0</td>\n    </tr>\n    <tr>\n      <td>14753</td>\n      <td>0</td>\n      <td>0</td>\n      <td>0</td>\n      <td>0</td>\n      <td>0</td>\n      <td>0</td>\n      <td>0</td>\n      <td>0</td>\n      <td>0</td>\n      <td>0</td>\n      <td>...</td>\n      <td>0</td>\n      <td>0</td>\n      <td>0</td>\n      <td>0</td>\n      <td>0</td>\n      <td>0</td>\n      <td>0</td>\n      <td>0</td>\n      <td>0</td>\n      <td>0</td>\n    </tr>\n    <tr>\n      <td>76763</td>\n      <td>0</td>\n      <td>0</td>\n      <td>0</td>\n      <td>0</td>\n      <td>0</td>\n      <td>0</td>\n      <td>0</td>\n      <td>0</td>\n      <td>0</td>\n      <td>0</td>\n      <td>...</td>\n      <td>0</td>\n      <td>0</td>\n      <td>0</td>\n      <td>0</td>\n      <td>0</td>\n      <td>0</td>\n      <td>0</td>\n      <td>0</td>\n      <td>0</td>\n      <td>0</td>\n    </tr>\n    <tr>\n      <td>142220</td>\n      <td>0</td>\n      <td>0</td>\n      <td>0</td>\n      <td>0</td>\n      <td>0</td>\n      <td>0</td>\n      <td>0</td>\n      <td>0</td>\n      <td>0</td>\n      <td>0</td>\n      <td>...</td>\n      <td>0</td>\n      <td>0</td>\n      <td>0</td>\n      <td>0</td>\n      <td>0</td>\n      <td>0</td>\n      <td>0</td>\n      <td>0</td>\n      <td>0</td>\n      <td>0</td>\n    </tr>\n  </tbody>\n</table>\n<p>20 rows × 720 columns</p>\n</div>",
      "text/plain": "        111    126    257    443    445    578    615    629    631    858    \\\nid                                                                             \n18397       0      0      0      0      0      0      0      0      0      0   \n8757        0      0      0      0      0      0      0      0      0      0   \n86628       0      0      0      0      0      0      0      0      0      0   \n223596      0      0      0      0      0      1      0      0      0      0   \n48921       0      0      0      0      0      0      0      0      0      0   \n17496       0      0      0      0      0      0      0      0      0      0   \n240522      0      0      0      0      0      0      0      0      0      0   \n221304      0      0      0      0      0      0      0      0      0      0   \n16966       0      0      0      0      0      0      0      0      0      0   \n52501       0      0      0      0      0      0      0      0      0      0   \n62459       0      0      0      0      0      0      0      0      0      0   \n86813       0      0      0      0      0      0      0      0      0      0   \n14710       0      0      0      0      0      0      0      0      0      0   \n222509      0      0      0      0      0      0      0      0      0      0   \n51653       0      0      0      0      0      0      0      0      0      0   \n8556        0      0      0      0      0      0      0      0      0      0   \n86860       0      0      0      0      0      0      0      0      0      0   \n14753       0      0      0      0      0      0      0      0      0      0   \n76763       0      0      0      0      0      0      0      0      0      0   \n142220      0      0      0      0      0      0      0      0      0      0   \n\n        ...  23047  23274  23383  24865  25518  25522  26269  26934  27343  \\\nid      ...                                                                  \n18397   ...      0      0      0      0      0      0      0      0      0   \n8757    ...      0      0      0      0      0      0      0      0      0   \n86628   ...      0      0      0      0      0      0      0      0      0   \n223596  ...      0      0      0      0      0      0      0      0      0   \n48921   ...      0      0      0      0      0      0      0      0      0   \n17496   ...      0      0      0      0      0      0      0      0      0   \n240522  ...      0      0      0      0      0      0      0      0      0   \n221304  ...      0      0      0      0      0      0      0      0      0   \n16966   ...      0      0      0      0      0      0      0      0      0   \n52501   ...      0      0      0      0      0      0      0      0      0   \n62459   ...      0      0      0      0      0      0      0      0      0   \n86813   ...      0      0      0      0      0      0      0      0      0   \n14710   ...      0      0      0      0      0      0      0      0      0   \n222509  ...      0      0      0      0      0      0      0      0      0   \n51653   ...      0      0      0      0      0      0      0      0      0   \n8556    ...      0      0      0      0      0      0      0      0      0   \n86860   ...      0      0      0      0      0      0      0      0      0   \n14753   ...      0      0      0      0      0      0      0      0      0   \n76763   ...      0      0      0      0      0      0      0      0      0   \n142220  ...      0      0      0      0      0      0      0      0      0   \n\n        27805  \nid             \n18397       0  \n8757        0  \n86628       0  \n223596      0  \n48921       0  \n17496       0  \n240522      0  \n221304      0  \n16966       0  \n52501       0  \n62459       0  \n86813       0  \n14710       0  \n222509      0  \n51653       0  \n8556        0  \n86860       0  \n14753       0  \n76763       0  \n142220      0  \n\n[20 rows x 720 columns]"
     },
     "execution_count": 270,
     "metadata": {},
     "output_type": "execute_result"
    }
   ],
   "source": [
    "sample_normal\n",
    "sample_fat"
   ]
  },
  {
   "cell_type": "code",
   "execution_count": 271,
   "metadata": {},
   "outputs": [
    {
     "data": {
      "text/html": "<div>\n<style scoped>\n    .dataframe tbody tr th:only-of-type {\n        vertical-align: middle;\n    }\n\n    .dataframe tbody tr th {\n        vertical-align: top;\n    }\n\n    .dataframe thead th {\n        text-align: right;\n    }\n</style>\n<table border=\"1\" class=\"dataframe\">\n  <thead>\n    <tr style=\"text-align: right;\">\n      <th></th>\n      <th>jaccard_distance_sum</th>\n    </tr>\n  </thead>\n  <tbody>\n    <tr>\n      <td>8547</td>\n      <td>0.92198</td>\n    </tr>\n    <tr>\n      <td>188706</td>\n      <td>0.93331</td>\n    </tr>\n    <tr>\n      <td>70513</td>\n      <td>0.94038</td>\n    </tr>\n    <tr>\n      <td>141125</td>\n      <td>0.94441</td>\n    </tr>\n    <tr>\n      <td>62256</td>\n      <td>0.94456</td>\n    </tr>\n    <tr>\n      <td>231808</td>\n      <td>0.94471</td>\n    </tr>\n    <tr>\n      <td>90160</td>\n      <td>0.94768</td>\n    </tr>\n    <tr>\n      <td>240773</td>\n      <td>0.94804</td>\n    </tr>\n    <tr>\n      <td>18442</td>\n      <td>0.94897</td>\n    </tr>\n    <tr>\n      <td>14614</td>\n      <td>0.94936</td>\n    </tr>\n  </tbody>\n</table>\n</div>",
      "text/plain": "        jaccard_distance_sum\n8547                 0.92198\n188706               0.93331\n70513                0.94038\n141125               0.94441\n62256                0.94456\n231808               0.94471\n90160                0.94768\n240773               0.94804\n18442                0.94897\n14614                0.94936"
     },
     "execution_count": 271,
     "metadata": {},
     "output_type": "execute_result"
    }
   ],
   "source": [
    "## Jaccard - fat\n",
    "\n",
    "result_array = cdist(sample_fat, new_recipe_db_wo_userrecipes_fat,'jaccard')\n",
    "result_w_filter_fat = pd.DataFrame(result_array, columns=new_recipe_db_wo_userrecipes_fat.index.values, index=sample_fat.index.values)\n",
    "# result_2\n",
    "\n",
    "result_w_filter_10_fat = pd.DataFrame(result_w_filter_fat.sum(), columns=['jaccard_distance_sum'])\n",
    "result_w_filter_10_fat = result_w_filter_10_fat.sort_values(by='jaccard_distance_sum')\n",
    "result_w_filter_10_fat['jaccard_distance_sum'] = result_w_filter_10_fat['jaccard_distance_sum'].div(20)\n",
    "result_w_filter_10_fat[0:10]\n"
   ]
  },
  {
   "cell_type": "code",
   "execution_count": 272,
   "metadata": {},
   "outputs": [
    {
     "data": {
      "text/html": "<div>\n<style scoped>\n    .dataframe tbody tr th:only-of-type {\n        vertical-align: middle;\n    }\n\n    .dataframe tbody tr th {\n        vertical-align: top;\n    }\n\n    .dataframe thead th {\n        text-align: right;\n    }\n</style>\n<table border=\"1\" class=\"dataframe\">\n  <thead>\n    <tr style=\"text-align: right;\">\n      <th></th>\n      <th>jaccard_distance_sum</th>\n    </tr>\n  </thead>\n  <tbody>\n    <tr>\n      <td>15502</td>\n      <td>0.92905</td>\n    </tr>\n    <tr>\n      <td>65671</td>\n      <td>0.93429</td>\n    </tr>\n    <tr>\n      <td>178809</td>\n      <td>0.93591</td>\n    </tr>\n    <tr>\n      <td>21699</td>\n      <td>0.93597</td>\n    </tr>\n    <tr>\n      <td>232458</td>\n      <td>0.93654</td>\n    </tr>\n    <tr>\n      <td>82693</td>\n      <td>0.93869</td>\n    </tr>\n    <tr>\n      <td>20456</td>\n      <td>0.93879</td>\n    </tr>\n    <tr>\n      <td>21643</td>\n      <td>0.93901</td>\n    </tr>\n    <tr>\n      <td>86047</td>\n      <td>0.94013</td>\n    </tr>\n    <tr>\n      <td>47006</td>\n      <td>0.94082</td>\n    </tr>\n  </tbody>\n</table>\n</div>",
      "text/plain": "        jaccard_distance_sum\n15502                0.92905\n65671                0.93429\n178809               0.93591\n21699                0.93597\n232458               0.93654\n82693                0.93869\n20456                0.93879\n21643                0.93901\n86047                0.94013\n47006                0.94082"
     },
     "execution_count": 272,
     "metadata": {},
     "output_type": "execute_result"
    }
   ],
   "source": [
    "## Jaccard - normal\n",
    "\n",
    "result_array = cdist(sample_normal, new_recipe_db_wo_userrecipes_normal,'jaccard')\n",
    "result_w_filter_normal = pd.DataFrame(result_array, columns=new_recipe_db_wo_userrecipes_normal.index.values, index=sample_normal.index.values)\n",
    "# result_2\n",
    "\n",
    "result_w_filter_10_normal = pd.DataFrame(result_w_filter_normal.sum(), columns=['jaccard_distance_sum'])\n",
    "result_w_filter_10_normal = result_w_filter_10_normal.sort_values(by='jaccard_distance_sum')\n",
    "result_w_filter_10_normal['jaccard_distance_sum'] = result_w_filter_10_normal['jaccard_distance_sum'].div(20)\n",
    "result_w_filter_10_normal[0:10]\n"
   ]
  },
  {
   "cell_type": "code",
   "execution_count": 273,
   "metadata": {},
   "outputs": [
    {
     "data": {
      "text/plain": "array([ 18397,   8757,  86628, 223596,  48921,  17496, 240522, 221304,\n        16966,  52501,  62459,  86813,  14710, 222509,  51653,   8556,\n        86860,  14753,  76763, 142220])"
     },
     "execution_count": 273,
     "metadata": {},
     "output_type": "execute_result"
    }
   ],
   "source": [
    "# userrecipes fat\n",
    "sample_fat.index.to_numpy()"
   ]
  },
  {
   "cell_type": "code",
   "execution_count": 274,
   "metadata": {},
   "outputs": [
    {
     "data": {
      "text/plain": "array([ 24509,  27946, 109782,  11720,   8949, 140135,  16741,  30794,\n       220214,  15225,   8549,  22364, 199382, 217899,  24080,  14622,\n       230735,  21140,  36994,   8994])"
     },
     "execution_count": 274,
     "metadata": {},
     "output_type": "execute_result"
    }
   ],
   "source": [
    "# userrecipes normal\n",
    "sample_normal.index.to_numpy()\n"
   ]
  },
  {
   "cell_type": "code",
   "execution_count": 275,
   "metadata": {},
   "outputs": [
    {
     "data": {
      "text/plain": "array([  8547, 188706,  70513, 141125,  62256, 231808,  90160, 240773,\n        18442,  14614])"
     },
     "execution_count": 275,
     "metadata": {},
     "output_type": "execute_result"
    }
   ],
   "source": [
    "result_w_filter_10_fat[0:10].index.to_numpy()"
   ]
  },
  {
   "cell_type": "code",
   "execution_count": 276,
   "metadata": {},
   "outputs": [
    {
     "data": {
      "text/plain": "array([ 15502,  65671, 178809,  21699, 232458,  82693,  20456,  21643,\n        86047,  47006])"
     },
     "execution_count": 276,
     "metadata": {},
     "output_type": "execute_result"
    }
   ],
   "source": [
    "result_w_filter_10_normal[0:10].index.to_numpy()"
   ]
  },
  {
   "cell_type": "code",
   "execution_count": 277,
   "metadata": {},
   "outputs": [],
   "source": [
    "result_w_filter_fat_short = result_w_filter_fat.copy()\n",
    "result_w_filter_normal_short = result_w_filter_normal.copy()"
   ]
  },
  {
   "cell_type": "code",
   "execution_count": 278,
   "metadata": {},
   "outputs": [
    {
     "data": {
      "text/plain": "array(['index', 8547, 188706, 34361, 206120, 220716, 16372, 14525, 235948,\n       11678, 25884], dtype=object)"
     },
     "execution_count": 278,
     "metadata": {},
     "output_type": "execute_result"
    }
   ],
   "source": [
    "# top 10 fat short\n",
    "fat_short = pd.DataFrame(np.sort(result_w_filter_fat_short.values, axis=0), index=result_w_filter_fat_short.index, columns=result_w_filter_fat_short.columns)\n",
    "\n",
    "new_columns = fat_short.columns[fat_short.loc[fat_short.first_valid_index()].argsort()]\n",
    "result_fat_short = fat_short[new_columns]\n",
    "result_fat_short = result_fat_short.reset_index()\n",
    "result_fat_short = result_fat_short.loc[1].to_frame()\n",
    "\n",
    "result_fat_short[0:11].index.to_numpy()\n"
   ]
  },
  {
   "cell_type": "code",
   "execution_count": 279,
   "metadata": {},
   "outputs": [
    {
     "data": {
      "text/html": "<div>\n<style scoped>\n    .dataframe tbody tr th:only-of-type {\n        vertical-align: middle;\n    }\n\n    .dataframe tbody tr th {\n        vertical-align: top;\n    }\n\n    .dataframe thead th {\n        text-align: right;\n    }\n</style>\n<table border=\"1\" class=\"dataframe\">\n  <thead>\n    <tr style=\"text-align: right;\">\n      <th></th>\n      <th>8547</th>\n      <th>188706</th>\n      <th>34361</th>\n      <th>206120</th>\n      <th>220716</th>\n      <th>16372</th>\n      <th>14525</th>\n      <th>235948</th>\n      <th>11678</th>\n      <th>25884</th>\n      <th>...</th>\n      <th>24038</th>\n      <th>8933</th>\n      <th>17815</th>\n      <th>8938</th>\n      <th>13952</th>\n      <th>223218</th>\n      <th>232907</th>\n      <th>24160</th>\n      <th>87053</th>\n      <th>193219</th>\n    </tr>\n  </thead>\n  <tbody>\n    <tr>\n      <td>18397</td>\n      <td>0.00000</td>\n      <td>0.25000</td>\n      <td>0.33333</td>\n      <td>0.33333</td>\n      <td>0.33333</td>\n      <td>0.46154</td>\n      <td>0.50000</td>\n      <td>0.50000</td>\n      <td>0.50000</td>\n      <td>0.50000</td>\n      <td>...</td>\n      <td>1.00000</td>\n      <td>1.00000</td>\n      <td>1.00000</td>\n      <td>1.00000</td>\n      <td>1.00000</td>\n      <td>1.00000</td>\n      <td>1.00000</td>\n      <td>1.00000</td>\n      <td>1.00000</td>\n      <td>1.00000</td>\n    </tr>\n    <tr>\n      <td>8757</td>\n      <td>0.90000</td>\n      <td>0.81818</td>\n      <td>0.87500</td>\n      <td>0.87500</td>\n      <td>0.87500</td>\n      <td>0.80000</td>\n      <td>0.91667</td>\n      <td>0.90909</td>\n      <td>0.88889</td>\n      <td>0.90000</td>\n      <td>...</td>\n      <td>1.00000</td>\n      <td>1.00000</td>\n      <td>1.00000</td>\n      <td>1.00000</td>\n      <td>1.00000</td>\n      <td>1.00000</td>\n      <td>1.00000</td>\n      <td>1.00000</td>\n      <td>1.00000</td>\n      <td>1.00000</td>\n    </tr>\n    <tr>\n      <td>86628</td>\n      <td>0.90909</td>\n      <td>0.87500</td>\n      <td>1.00000</td>\n      <td>1.00000</td>\n      <td>1.00000</td>\n      <td>0.88235</td>\n      <td>1.00000</td>\n      <td>1.00000</td>\n      <td>1.00000</td>\n      <td>1.00000</td>\n      <td>...</td>\n      <td>1.00000</td>\n      <td>1.00000</td>\n      <td>1.00000</td>\n      <td>1.00000</td>\n      <td>1.00000</td>\n      <td>1.00000</td>\n      <td>1.00000</td>\n      <td>1.00000</td>\n      <td>1.00000</td>\n      <td>1.00000</td>\n    </tr>\n    <tr>\n      <td>223596</td>\n      <td>0.90909</td>\n      <td>0.90000</td>\n      <td>1.00000</td>\n      <td>1.00000</td>\n      <td>1.00000</td>\n      <td>0.95238</td>\n      <td>1.00000</td>\n      <td>1.00000</td>\n      <td>1.00000</td>\n      <td>1.00000</td>\n      <td>...</td>\n      <td>1.00000</td>\n      <td>1.00000</td>\n      <td>1.00000</td>\n      <td>1.00000</td>\n      <td>1.00000</td>\n      <td>1.00000</td>\n      <td>1.00000</td>\n      <td>1.00000</td>\n      <td>1.00000</td>\n      <td>1.00000</td>\n    </tr>\n    <tr>\n      <td>48921</td>\n      <td>0.92308</td>\n      <td>0.90000</td>\n      <td>1.00000</td>\n      <td>1.00000</td>\n      <td>1.00000</td>\n      <td>1.00000</td>\n      <td>1.00000</td>\n      <td>1.00000</td>\n      <td>1.00000</td>\n      <td>1.00000</td>\n      <td>...</td>\n      <td>1.00000</td>\n      <td>1.00000</td>\n      <td>1.00000</td>\n      <td>1.00000</td>\n      <td>1.00000</td>\n      <td>1.00000</td>\n      <td>1.00000</td>\n      <td>1.00000</td>\n      <td>1.00000</td>\n      <td>1.00000</td>\n    </tr>\n    <tr>\n      <td>17496</td>\n      <td>0.92857</td>\n      <td>0.92308</td>\n      <td>1.00000</td>\n      <td>1.00000</td>\n      <td>1.00000</td>\n      <td>1.00000</td>\n      <td>1.00000</td>\n      <td>1.00000</td>\n      <td>1.00000</td>\n      <td>1.00000</td>\n      <td>...</td>\n      <td>1.00000</td>\n      <td>1.00000</td>\n      <td>1.00000</td>\n      <td>1.00000</td>\n      <td>1.00000</td>\n      <td>1.00000</td>\n      <td>1.00000</td>\n      <td>1.00000</td>\n      <td>1.00000</td>\n      <td>1.00000</td>\n    </tr>\n    <tr>\n      <td>240522</td>\n      <td>0.92857</td>\n      <td>1.00000</td>\n      <td>1.00000</td>\n      <td>1.00000</td>\n      <td>1.00000</td>\n      <td>1.00000</td>\n      <td>1.00000</td>\n      <td>1.00000</td>\n      <td>1.00000</td>\n      <td>1.00000</td>\n      <td>...</td>\n      <td>1.00000</td>\n      <td>1.00000</td>\n      <td>1.00000</td>\n      <td>1.00000</td>\n      <td>1.00000</td>\n      <td>1.00000</td>\n      <td>1.00000</td>\n      <td>1.00000</td>\n      <td>1.00000</td>\n      <td>1.00000</td>\n    </tr>\n    <tr>\n      <td>221304</td>\n      <td>0.94118</td>\n      <td>1.00000</td>\n      <td>1.00000</td>\n      <td>1.00000</td>\n      <td>1.00000</td>\n      <td>1.00000</td>\n      <td>1.00000</td>\n      <td>1.00000</td>\n      <td>1.00000</td>\n      <td>1.00000</td>\n      <td>...</td>\n      <td>1.00000</td>\n      <td>1.00000</td>\n      <td>1.00000</td>\n      <td>1.00000</td>\n      <td>1.00000</td>\n      <td>1.00000</td>\n      <td>1.00000</td>\n      <td>1.00000</td>\n      <td>1.00000</td>\n      <td>1.00000</td>\n    </tr>\n    <tr>\n      <td>16966</td>\n      <td>1.00000</td>\n      <td>1.00000</td>\n      <td>1.00000</td>\n      <td>1.00000</td>\n      <td>1.00000</td>\n      <td>1.00000</td>\n      <td>1.00000</td>\n      <td>1.00000</td>\n      <td>1.00000</td>\n      <td>1.00000</td>\n      <td>...</td>\n      <td>1.00000</td>\n      <td>1.00000</td>\n      <td>1.00000</td>\n      <td>1.00000</td>\n      <td>1.00000</td>\n      <td>1.00000</td>\n      <td>1.00000</td>\n      <td>1.00000</td>\n      <td>1.00000</td>\n      <td>1.00000</td>\n    </tr>\n    <tr>\n      <td>52501</td>\n      <td>1.00000</td>\n      <td>1.00000</td>\n      <td>1.00000</td>\n      <td>1.00000</td>\n      <td>1.00000</td>\n      <td>1.00000</td>\n      <td>1.00000</td>\n      <td>1.00000</td>\n      <td>1.00000</td>\n      <td>1.00000</td>\n      <td>...</td>\n      <td>1.00000</td>\n      <td>1.00000</td>\n      <td>1.00000</td>\n      <td>1.00000</td>\n      <td>1.00000</td>\n      <td>1.00000</td>\n      <td>1.00000</td>\n      <td>1.00000</td>\n      <td>1.00000</td>\n      <td>1.00000</td>\n    </tr>\n    <tr>\n      <td>62459</td>\n      <td>1.00000</td>\n      <td>1.00000</td>\n      <td>1.00000</td>\n      <td>1.00000</td>\n      <td>1.00000</td>\n      <td>1.00000</td>\n      <td>1.00000</td>\n      <td>1.00000</td>\n      <td>1.00000</td>\n      <td>1.00000</td>\n      <td>...</td>\n      <td>1.00000</td>\n      <td>1.00000</td>\n      <td>1.00000</td>\n      <td>1.00000</td>\n      <td>1.00000</td>\n      <td>1.00000</td>\n      <td>1.00000</td>\n      <td>1.00000</td>\n      <td>1.00000</td>\n      <td>1.00000</td>\n    </tr>\n    <tr>\n      <td>86813</td>\n      <td>1.00000</td>\n      <td>1.00000</td>\n      <td>1.00000</td>\n      <td>1.00000</td>\n      <td>1.00000</td>\n      <td>1.00000</td>\n      <td>1.00000</td>\n      <td>1.00000</td>\n      <td>1.00000</td>\n      <td>1.00000</td>\n      <td>...</td>\n      <td>1.00000</td>\n      <td>1.00000</td>\n      <td>1.00000</td>\n      <td>1.00000</td>\n      <td>1.00000</td>\n      <td>1.00000</td>\n      <td>1.00000</td>\n      <td>1.00000</td>\n      <td>1.00000</td>\n      <td>1.00000</td>\n    </tr>\n    <tr>\n      <td>14710</td>\n      <td>1.00000</td>\n      <td>1.00000</td>\n      <td>1.00000</td>\n      <td>1.00000</td>\n      <td>1.00000</td>\n      <td>1.00000</td>\n      <td>1.00000</td>\n      <td>1.00000</td>\n      <td>1.00000</td>\n      <td>1.00000</td>\n      <td>...</td>\n      <td>1.00000</td>\n      <td>1.00000</td>\n      <td>1.00000</td>\n      <td>1.00000</td>\n      <td>1.00000</td>\n      <td>1.00000</td>\n      <td>1.00000</td>\n      <td>1.00000</td>\n      <td>1.00000</td>\n      <td>1.00000</td>\n    </tr>\n    <tr>\n      <td>222509</td>\n      <td>1.00000</td>\n      <td>1.00000</td>\n      <td>1.00000</td>\n      <td>1.00000</td>\n      <td>1.00000</td>\n      <td>1.00000</td>\n      <td>1.00000</td>\n      <td>1.00000</td>\n      <td>1.00000</td>\n      <td>1.00000</td>\n      <td>...</td>\n      <td>1.00000</td>\n      <td>1.00000</td>\n      <td>1.00000</td>\n      <td>1.00000</td>\n      <td>1.00000</td>\n      <td>1.00000</td>\n      <td>1.00000</td>\n      <td>1.00000</td>\n      <td>1.00000</td>\n      <td>1.00000</td>\n    </tr>\n    <tr>\n      <td>51653</td>\n      <td>1.00000</td>\n      <td>1.00000</td>\n      <td>1.00000</td>\n      <td>1.00000</td>\n      <td>1.00000</td>\n      <td>1.00000</td>\n      <td>1.00000</td>\n      <td>1.00000</td>\n      <td>1.00000</td>\n      <td>1.00000</td>\n      <td>...</td>\n      <td>1.00000</td>\n      <td>1.00000</td>\n      <td>1.00000</td>\n      <td>1.00000</td>\n      <td>1.00000</td>\n      <td>1.00000</td>\n      <td>1.00000</td>\n      <td>1.00000</td>\n      <td>1.00000</td>\n      <td>1.00000</td>\n    </tr>\n    <tr>\n      <td>8556</td>\n      <td>1.00000</td>\n      <td>1.00000</td>\n      <td>1.00000</td>\n      <td>1.00000</td>\n      <td>1.00000</td>\n      <td>1.00000</td>\n      <td>1.00000</td>\n      <td>1.00000</td>\n      <td>1.00000</td>\n      <td>1.00000</td>\n      <td>...</td>\n      <td>1.00000</td>\n      <td>1.00000</td>\n      <td>1.00000</td>\n      <td>1.00000</td>\n      <td>1.00000</td>\n      <td>1.00000</td>\n      <td>1.00000</td>\n      <td>1.00000</td>\n      <td>1.00000</td>\n      <td>1.00000</td>\n    </tr>\n    <tr>\n      <td>86860</td>\n      <td>1.00000</td>\n      <td>1.00000</td>\n      <td>1.00000</td>\n      <td>1.00000</td>\n      <td>1.00000</td>\n      <td>1.00000</td>\n      <td>1.00000</td>\n      <td>1.00000</td>\n      <td>1.00000</td>\n      <td>1.00000</td>\n      <td>...</td>\n      <td>1.00000</td>\n      <td>1.00000</td>\n      <td>1.00000</td>\n      <td>1.00000</td>\n      <td>1.00000</td>\n      <td>1.00000</td>\n      <td>1.00000</td>\n      <td>1.00000</td>\n      <td>1.00000</td>\n      <td>1.00000</td>\n    </tr>\n    <tr>\n      <td>14753</td>\n      <td>1.00000</td>\n      <td>1.00000</td>\n      <td>1.00000</td>\n      <td>1.00000</td>\n      <td>1.00000</td>\n      <td>1.00000</td>\n      <td>1.00000</td>\n      <td>1.00000</td>\n      <td>1.00000</td>\n      <td>1.00000</td>\n      <td>...</td>\n      <td>1.00000</td>\n      <td>1.00000</td>\n      <td>1.00000</td>\n      <td>1.00000</td>\n      <td>1.00000</td>\n      <td>1.00000</td>\n      <td>1.00000</td>\n      <td>1.00000</td>\n      <td>1.00000</td>\n      <td>1.00000</td>\n    </tr>\n    <tr>\n      <td>76763</td>\n      <td>1.00000</td>\n      <td>1.00000</td>\n      <td>1.00000</td>\n      <td>1.00000</td>\n      <td>1.00000</td>\n      <td>1.00000</td>\n      <td>1.00000</td>\n      <td>1.00000</td>\n      <td>1.00000</td>\n      <td>1.00000</td>\n      <td>...</td>\n      <td>1.00000</td>\n      <td>1.00000</td>\n      <td>1.00000</td>\n      <td>1.00000</td>\n      <td>1.00000</td>\n      <td>1.00000</td>\n      <td>1.00000</td>\n      <td>1.00000</td>\n      <td>1.00000</td>\n      <td>1.00000</td>\n    </tr>\n    <tr>\n      <td>142220</td>\n      <td>1.00000</td>\n      <td>1.00000</td>\n      <td>1.00000</td>\n      <td>1.00000</td>\n      <td>1.00000</td>\n      <td>1.00000</td>\n      <td>1.00000</td>\n      <td>1.00000</td>\n      <td>1.00000</td>\n      <td>1.00000</td>\n      <td>...</td>\n      <td>1.00000</td>\n      <td>1.00000</td>\n      <td>1.00000</td>\n      <td>1.00000</td>\n      <td>1.00000</td>\n      <td>1.00000</td>\n      <td>1.00000</td>\n      <td>1.00000</td>\n      <td>1.00000</td>\n      <td>1.00000</td>\n    </tr>\n  </tbody>\n</table>\n<p>20 rows × 3749 columns</p>\n</div>",
      "text/plain": "        8547    188706  34361   206120  220716  16372   14525   235948  \\\n18397  0.00000 0.25000 0.33333 0.33333 0.33333 0.46154 0.50000 0.50000   \n8757   0.90000 0.81818 0.87500 0.87500 0.87500 0.80000 0.91667 0.90909   \n86628  0.90909 0.87500 1.00000 1.00000 1.00000 0.88235 1.00000 1.00000   \n223596 0.90909 0.90000 1.00000 1.00000 1.00000 0.95238 1.00000 1.00000   \n48921  0.92308 0.90000 1.00000 1.00000 1.00000 1.00000 1.00000 1.00000   \n17496  0.92857 0.92308 1.00000 1.00000 1.00000 1.00000 1.00000 1.00000   \n240522 0.92857 1.00000 1.00000 1.00000 1.00000 1.00000 1.00000 1.00000   \n221304 0.94118 1.00000 1.00000 1.00000 1.00000 1.00000 1.00000 1.00000   \n16966  1.00000 1.00000 1.00000 1.00000 1.00000 1.00000 1.00000 1.00000   \n52501  1.00000 1.00000 1.00000 1.00000 1.00000 1.00000 1.00000 1.00000   \n62459  1.00000 1.00000 1.00000 1.00000 1.00000 1.00000 1.00000 1.00000   \n86813  1.00000 1.00000 1.00000 1.00000 1.00000 1.00000 1.00000 1.00000   \n14710  1.00000 1.00000 1.00000 1.00000 1.00000 1.00000 1.00000 1.00000   \n222509 1.00000 1.00000 1.00000 1.00000 1.00000 1.00000 1.00000 1.00000   \n51653  1.00000 1.00000 1.00000 1.00000 1.00000 1.00000 1.00000 1.00000   \n8556   1.00000 1.00000 1.00000 1.00000 1.00000 1.00000 1.00000 1.00000   \n86860  1.00000 1.00000 1.00000 1.00000 1.00000 1.00000 1.00000 1.00000   \n14753  1.00000 1.00000 1.00000 1.00000 1.00000 1.00000 1.00000 1.00000   \n76763  1.00000 1.00000 1.00000 1.00000 1.00000 1.00000 1.00000 1.00000   \n142220 1.00000 1.00000 1.00000 1.00000 1.00000 1.00000 1.00000 1.00000   \n\n        11678   25884   ...  24038   8933    17815   8938    13952   223218  \\\n18397  0.50000 0.50000  ... 1.00000 1.00000 1.00000 1.00000 1.00000 1.00000   \n8757   0.88889 0.90000  ... 1.00000 1.00000 1.00000 1.00000 1.00000 1.00000   \n86628  1.00000 1.00000  ... 1.00000 1.00000 1.00000 1.00000 1.00000 1.00000   \n223596 1.00000 1.00000  ... 1.00000 1.00000 1.00000 1.00000 1.00000 1.00000   \n48921  1.00000 1.00000  ... 1.00000 1.00000 1.00000 1.00000 1.00000 1.00000   \n17496  1.00000 1.00000  ... 1.00000 1.00000 1.00000 1.00000 1.00000 1.00000   \n240522 1.00000 1.00000  ... 1.00000 1.00000 1.00000 1.00000 1.00000 1.00000   \n221304 1.00000 1.00000  ... 1.00000 1.00000 1.00000 1.00000 1.00000 1.00000   \n16966  1.00000 1.00000  ... 1.00000 1.00000 1.00000 1.00000 1.00000 1.00000   \n52501  1.00000 1.00000  ... 1.00000 1.00000 1.00000 1.00000 1.00000 1.00000   \n62459  1.00000 1.00000  ... 1.00000 1.00000 1.00000 1.00000 1.00000 1.00000   \n86813  1.00000 1.00000  ... 1.00000 1.00000 1.00000 1.00000 1.00000 1.00000   \n14710  1.00000 1.00000  ... 1.00000 1.00000 1.00000 1.00000 1.00000 1.00000   \n222509 1.00000 1.00000  ... 1.00000 1.00000 1.00000 1.00000 1.00000 1.00000   \n51653  1.00000 1.00000  ... 1.00000 1.00000 1.00000 1.00000 1.00000 1.00000   \n8556   1.00000 1.00000  ... 1.00000 1.00000 1.00000 1.00000 1.00000 1.00000   \n86860  1.00000 1.00000  ... 1.00000 1.00000 1.00000 1.00000 1.00000 1.00000   \n14753  1.00000 1.00000  ... 1.00000 1.00000 1.00000 1.00000 1.00000 1.00000   \n76763  1.00000 1.00000  ... 1.00000 1.00000 1.00000 1.00000 1.00000 1.00000   \n142220 1.00000 1.00000  ... 1.00000 1.00000 1.00000 1.00000 1.00000 1.00000   \n\n        232907  24160   87053   193219  \n18397  1.00000 1.00000 1.00000 1.00000  \n8757   1.00000 1.00000 1.00000 1.00000  \n86628  1.00000 1.00000 1.00000 1.00000  \n223596 1.00000 1.00000 1.00000 1.00000  \n48921  1.00000 1.00000 1.00000 1.00000  \n17496  1.00000 1.00000 1.00000 1.00000  \n240522 1.00000 1.00000 1.00000 1.00000  \n221304 1.00000 1.00000 1.00000 1.00000  \n16966  1.00000 1.00000 1.00000 1.00000  \n52501  1.00000 1.00000 1.00000 1.00000  \n62459  1.00000 1.00000 1.00000 1.00000  \n86813  1.00000 1.00000 1.00000 1.00000  \n14710  1.00000 1.00000 1.00000 1.00000  \n222509 1.00000 1.00000 1.00000 1.00000  \n51653  1.00000 1.00000 1.00000 1.00000  \n8556   1.00000 1.00000 1.00000 1.00000  \n86860  1.00000 1.00000 1.00000 1.00000  \n14753  1.00000 1.00000 1.00000 1.00000  \n76763  1.00000 1.00000 1.00000 1.00000  \n142220 1.00000 1.00000 1.00000 1.00000  \n\n[20 rows x 3749 columns]"
     },
     "execution_count": 279,
     "metadata": {},
     "output_type": "execute_result"
    }
   ],
   "source": [
    "fat_short[new_columns]"
   ]
  },
  {
   "cell_type": "code",
   "execution_count": 280,
   "metadata": {},
   "outputs": [
    {
     "data": {
      "text/html": "<div>\n<style scoped>\n    .dataframe tbody tr th:only-of-type {\n        vertical-align: middle;\n    }\n\n    .dataframe tbody tr th {\n        vertical-align: top;\n    }\n\n    .dataframe thead th {\n        text-align: right;\n    }\n</style>\n<table border=\"1\" class=\"dataframe\">\n  <thead>\n    <tr style=\"text-align: right;\">\n      <th></th>\n      <th>111</th>\n      <th>126</th>\n      <th>257</th>\n      <th>443</th>\n      <th>445</th>\n      <th>578</th>\n      <th>615</th>\n      <th>629</th>\n      <th>631</th>\n      <th>858</th>\n      <th>...</th>\n      <th>23047</th>\n      <th>23274</th>\n      <th>23383</th>\n      <th>24865</th>\n      <th>25518</th>\n      <th>25522</th>\n      <th>26269</th>\n      <th>26934</th>\n      <th>27343</th>\n      <th>27805</th>\n    </tr>\n    <tr>\n      <th>id</th>\n      <th></th>\n      <th></th>\n      <th></th>\n      <th></th>\n      <th></th>\n      <th></th>\n      <th></th>\n      <th></th>\n      <th></th>\n      <th></th>\n      <th></th>\n      <th></th>\n      <th></th>\n      <th></th>\n      <th></th>\n      <th></th>\n      <th></th>\n      <th></th>\n      <th></th>\n      <th></th>\n      <th></th>\n    </tr>\n  </thead>\n  <tbody>\n    <tr>\n      <td>18397</td>\n      <td>0</td>\n      <td>0</td>\n      <td>0</td>\n      <td>0</td>\n      <td>0</td>\n      <td>0</td>\n      <td>0</td>\n      <td>0</td>\n      <td>0</td>\n      <td>0</td>\n      <td>...</td>\n      <td>0</td>\n      <td>0</td>\n      <td>0</td>\n      <td>0</td>\n      <td>0</td>\n      <td>0</td>\n      <td>0</td>\n      <td>0</td>\n      <td>0</td>\n      <td>0</td>\n    </tr>\n    <tr>\n      <td>8757</td>\n      <td>0</td>\n      <td>0</td>\n      <td>0</td>\n      <td>0</td>\n      <td>0</td>\n      <td>0</td>\n      <td>0</td>\n      <td>0</td>\n      <td>0</td>\n      <td>0</td>\n      <td>...</td>\n      <td>0</td>\n      <td>0</td>\n      <td>0</td>\n      <td>0</td>\n      <td>0</td>\n      <td>0</td>\n      <td>0</td>\n      <td>0</td>\n      <td>0</td>\n      <td>0</td>\n    </tr>\n    <tr>\n      <td>86628</td>\n      <td>0</td>\n      <td>0</td>\n      <td>0</td>\n      <td>0</td>\n      <td>0</td>\n      <td>0</td>\n      <td>0</td>\n      <td>0</td>\n      <td>0</td>\n      <td>0</td>\n      <td>...</td>\n      <td>0</td>\n      <td>0</td>\n      <td>0</td>\n      <td>0</td>\n      <td>0</td>\n      <td>0</td>\n      <td>0</td>\n      <td>0</td>\n      <td>0</td>\n      <td>0</td>\n    </tr>\n    <tr>\n      <td>223596</td>\n      <td>0</td>\n      <td>0</td>\n      <td>0</td>\n      <td>0</td>\n      <td>0</td>\n      <td>1</td>\n      <td>0</td>\n      <td>0</td>\n      <td>0</td>\n      <td>0</td>\n      <td>...</td>\n      <td>0</td>\n      <td>0</td>\n      <td>0</td>\n      <td>0</td>\n      <td>0</td>\n      <td>0</td>\n      <td>0</td>\n      <td>0</td>\n      <td>0</td>\n      <td>0</td>\n    </tr>\n    <tr>\n      <td>48921</td>\n      <td>0</td>\n      <td>0</td>\n      <td>0</td>\n      <td>0</td>\n      <td>0</td>\n      <td>0</td>\n      <td>0</td>\n      <td>0</td>\n      <td>0</td>\n      <td>0</td>\n      <td>...</td>\n      <td>0</td>\n      <td>0</td>\n      <td>0</td>\n      <td>0</td>\n      <td>0</td>\n      <td>0</td>\n      <td>0</td>\n      <td>0</td>\n      <td>0</td>\n      <td>0</td>\n    </tr>\n    <tr>\n      <td>17496</td>\n      <td>0</td>\n      <td>0</td>\n      <td>0</td>\n      <td>0</td>\n      <td>0</td>\n      <td>0</td>\n      <td>0</td>\n      <td>0</td>\n      <td>0</td>\n      <td>0</td>\n      <td>...</td>\n      <td>0</td>\n      <td>0</td>\n      <td>0</td>\n      <td>0</td>\n      <td>0</td>\n      <td>0</td>\n      <td>0</td>\n      <td>0</td>\n      <td>0</td>\n      <td>0</td>\n    </tr>\n    <tr>\n      <td>240522</td>\n      <td>0</td>\n      <td>0</td>\n      <td>0</td>\n      <td>0</td>\n      <td>0</td>\n      <td>0</td>\n      <td>0</td>\n      <td>0</td>\n      <td>0</td>\n      <td>0</td>\n      <td>...</td>\n      <td>0</td>\n      <td>0</td>\n      <td>0</td>\n      <td>0</td>\n      <td>0</td>\n      <td>0</td>\n      <td>0</td>\n      <td>0</td>\n      <td>0</td>\n      <td>0</td>\n    </tr>\n    <tr>\n      <td>221304</td>\n      <td>0</td>\n      <td>0</td>\n      <td>0</td>\n      <td>0</td>\n      <td>0</td>\n      <td>0</td>\n      <td>0</td>\n      <td>0</td>\n      <td>0</td>\n      <td>0</td>\n      <td>...</td>\n      <td>0</td>\n      <td>0</td>\n      <td>0</td>\n      <td>0</td>\n      <td>0</td>\n      <td>0</td>\n      <td>0</td>\n      <td>0</td>\n      <td>0</td>\n      <td>0</td>\n    </tr>\n    <tr>\n      <td>16966</td>\n      <td>0</td>\n      <td>0</td>\n      <td>0</td>\n      <td>0</td>\n      <td>0</td>\n      <td>0</td>\n      <td>0</td>\n      <td>0</td>\n      <td>0</td>\n      <td>0</td>\n      <td>...</td>\n      <td>0</td>\n      <td>0</td>\n      <td>0</td>\n      <td>0</td>\n      <td>0</td>\n      <td>0</td>\n      <td>0</td>\n      <td>0</td>\n      <td>0</td>\n      <td>0</td>\n    </tr>\n    <tr>\n      <td>52501</td>\n      <td>0</td>\n      <td>0</td>\n      <td>0</td>\n      <td>0</td>\n      <td>0</td>\n      <td>0</td>\n      <td>0</td>\n      <td>0</td>\n      <td>0</td>\n      <td>0</td>\n      <td>...</td>\n      <td>0</td>\n      <td>0</td>\n      <td>0</td>\n      <td>0</td>\n      <td>0</td>\n      <td>0</td>\n      <td>0</td>\n      <td>0</td>\n      <td>0</td>\n      <td>0</td>\n    </tr>\n    <tr>\n      <td>62459</td>\n      <td>0</td>\n      <td>0</td>\n      <td>0</td>\n      <td>0</td>\n      <td>0</td>\n      <td>0</td>\n      <td>0</td>\n      <td>0</td>\n      <td>0</td>\n      <td>0</td>\n      <td>...</td>\n      <td>0</td>\n      <td>0</td>\n      <td>0</td>\n      <td>0</td>\n      <td>0</td>\n      <td>0</td>\n      <td>0</td>\n      <td>0</td>\n      <td>0</td>\n      <td>0</td>\n    </tr>\n    <tr>\n      <td>86813</td>\n      <td>0</td>\n      <td>0</td>\n      <td>0</td>\n      <td>0</td>\n      <td>0</td>\n      <td>0</td>\n      <td>0</td>\n      <td>0</td>\n      <td>0</td>\n      <td>0</td>\n      <td>...</td>\n      <td>0</td>\n      <td>0</td>\n      <td>0</td>\n      <td>0</td>\n      <td>0</td>\n      <td>0</td>\n      <td>0</td>\n      <td>0</td>\n      <td>0</td>\n      <td>0</td>\n    </tr>\n    <tr>\n      <td>14710</td>\n      <td>0</td>\n      <td>0</td>\n      <td>0</td>\n      <td>0</td>\n      <td>0</td>\n      <td>0</td>\n      <td>0</td>\n      <td>0</td>\n      <td>0</td>\n      <td>0</td>\n      <td>...</td>\n      <td>0</td>\n      <td>0</td>\n      <td>0</td>\n      <td>0</td>\n      <td>0</td>\n      <td>0</td>\n      <td>0</td>\n      <td>0</td>\n      <td>0</td>\n      <td>0</td>\n    </tr>\n    <tr>\n      <td>222509</td>\n      <td>0</td>\n      <td>0</td>\n      <td>0</td>\n      <td>0</td>\n      <td>0</td>\n      <td>0</td>\n      <td>0</td>\n      <td>0</td>\n      <td>0</td>\n      <td>0</td>\n      <td>...</td>\n      <td>0</td>\n      <td>0</td>\n      <td>0</td>\n      <td>0</td>\n      <td>0</td>\n      <td>0</td>\n      <td>0</td>\n      <td>0</td>\n      <td>0</td>\n      <td>0</td>\n    </tr>\n    <tr>\n      <td>51653</td>\n      <td>0</td>\n      <td>0</td>\n      <td>0</td>\n      <td>0</td>\n      <td>0</td>\n      <td>0</td>\n      <td>0</td>\n      <td>0</td>\n      <td>0</td>\n      <td>0</td>\n      <td>...</td>\n      <td>0</td>\n      <td>0</td>\n      <td>0</td>\n      <td>0</td>\n      <td>0</td>\n      <td>0</td>\n      <td>0</td>\n      <td>0</td>\n      <td>0</td>\n      <td>0</td>\n    </tr>\n    <tr>\n      <td>8556</td>\n      <td>0</td>\n      <td>0</td>\n      <td>0</td>\n      <td>0</td>\n      <td>0</td>\n      <td>0</td>\n      <td>0</td>\n      <td>0</td>\n      <td>0</td>\n      <td>0</td>\n      <td>...</td>\n      <td>0</td>\n      <td>0</td>\n      <td>0</td>\n      <td>0</td>\n      <td>0</td>\n      <td>0</td>\n      <td>0</td>\n      <td>0</td>\n      <td>0</td>\n      <td>0</td>\n    </tr>\n    <tr>\n      <td>86860</td>\n      <td>0</td>\n      <td>0</td>\n      <td>0</td>\n      <td>0</td>\n      <td>0</td>\n      <td>0</td>\n      <td>0</td>\n      <td>0</td>\n      <td>0</td>\n      <td>0</td>\n      <td>...</td>\n      <td>0</td>\n      <td>0</td>\n      <td>0</td>\n      <td>0</td>\n      <td>0</td>\n      <td>0</td>\n      <td>0</td>\n      <td>0</td>\n      <td>0</td>\n      <td>0</td>\n    </tr>\n    <tr>\n      <td>14753</td>\n      <td>0</td>\n      <td>0</td>\n      <td>0</td>\n      <td>0</td>\n      <td>0</td>\n      <td>0</td>\n      <td>0</td>\n      <td>0</td>\n      <td>0</td>\n      <td>0</td>\n      <td>...</td>\n      <td>0</td>\n      <td>0</td>\n      <td>0</td>\n      <td>0</td>\n      <td>0</td>\n      <td>0</td>\n      <td>0</td>\n      <td>0</td>\n      <td>0</td>\n      <td>0</td>\n    </tr>\n    <tr>\n      <td>76763</td>\n      <td>0</td>\n      <td>0</td>\n      <td>0</td>\n      <td>0</td>\n      <td>0</td>\n      <td>0</td>\n      <td>0</td>\n      <td>0</td>\n      <td>0</td>\n      <td>0</td>\n      <td>...</td>\n      <td>0</td>\n      <td>0</td>\n      <td>0</td>\n      <td>0</td>\n      <td>0</td>\n      <td>0</td>\n      <td>0</td>\n      <td>0</td>\n      <td>0</td>\n      <td>0</td>\n    </tr>\n    <tr>\n      <td>142220</td>\n      <td>0</td>\n      <td>0</td>\n      <td>0</td>\n      <td>0</td>\n      <td>0</td>\n      <td>0</td>\n      <td>0</td>\n      <td>0</td>\n      <td>0</td>\n      <td>0</td>\n      <td>...</td>\n      <td>0</td>\n      <td>0</td>\n      <td>0</td>\n      <td>0</td>\n      <td>0</td>\n      <td>0</td>\n      <td>0</td>\n      <td>0</td>\n      <td>0</td>\n      <td>0</td>\n    </tr>\n  </tbody>\n</table>\n<p>20 rows × 720 columns</p>\n</div>",
      "text/plain": "        111    126    257    443    445    578    615    629    631    858    \\\nid                                                                             \n18397       0      0      0      0      0      0      0      0      0      0   \n8757        0      0      0      0      0      0      0      0      0      0   \n86628       0      0      0      0      0      0      0      0      0      0   \n223596      0      0      0      0      0      1      0      0      0      0   \n48921       0      0      0      0      0      0      0      0      0      0   \n17496       0      0      0      0      0      0      0      0      0      0   \n240522      0      0      0      0      0      0      0      0      0      0   \n221304      0      0      0      0      0      0      0      0      0      0   \n16966       0      0      0      0      0      0      0      0      0      0   \n52501       0      0      0      0      0      0      0      0      0      0   \n62459       0      0      0      0      0      0      0      0      0      0   \n86813       0      0      0      0      0      0      0      0      0      0   \n14710       0      0      0      0      0      0      0      0      0      0   \n222509      0      0      0      0      0      0      0      0      0      0   \n51653       0      0      0      0      0      0      0      0      0      0   \n8556        0      0      0      0      0      0      0      0      0      0   \n86860       0      0      0      0      0      0      0      0      0      0   \n14753       0      0      0      0      0      0      0      0      0      0   \n76763       0      0      0      0      0      0      0      0      0      0   \n142220      0      0      0      0      0      0      0      0      0      0   \n\n        ...  23047  23274  23383  24865  25518  25522  26269  26934  27343  \\\nid      ...                                                                  \n18397   ...      0      0      0      0      0      0      0      0      0   \n8757    ...      0      0      0      0      0      0      0      0      0   \n86628   ...      0      0      0      0      0      0      0      0      0   \n223596  ...      0      0      0      0      0      0      0      0      0   \n48921   ...      0      0      0      0      0      0      0      0      0   \n17496   ...      0      0      0      0      0      0      0      0      0   \n240522  ...      0      0      0      0      0      0      0      0      0   \n221304  ...      0      0      0      0      0      0      0      0      0   \n16966   ...      0      0      0      0      0      0      0      0      0   \n52501   ...      0      0      0      0      0      0      0      0      0   \n62459   ...      0      0      0      0      0      0      0      0      0   \n86813   ...      0      0      0      0      0      0      0      0      0   \n14710   ...      0      0      0      0      0      0      0      0      0   \n222509  ...      0      0      0      0      0      0      0      0      0   \n51653   ...      0      0      0      0      0      0      0      0      0   \n8556    ...      0      0      0      0      0      0      0      0      0   \n86860   ...      0      0      0      0      0      0      0      0      0   \n14753   ...      0      0      0      0      0      0      0      0      0   \n76763   ...      0      0      0      0      0      0      0      0      0   \n142220  ...      0      0      0      0      0      0      0      0      0   \n\n        27805  \nid             \n18397       0  \n8757        0  \n86628       0  \n223596      0  \n48921       0  \n17496       0  \n240522      0  \n221304      0  \n16966       0  \n52501       0  \n62459       0  \n86813       0  \n14710       0  \n222509      0  \n51653       0  \n8556        0  \n86860       0  \n14753       0  \n76763       0  \n142220      0  \n\n[20 rows x 720 columns]"
     },
     "execution_count": 280,
     "metadata": {},
     "output_type": "execute_result"
    }
   ],
   "source": [
    "sample_fat"
   ]
  },
  {
   "cell_type": "code",
   "execution_count": 281,
   "metadata": {},
   "outputs": [
    {
     "data": {
      "text/plain": "array(['index', 15502, 14773, 45361, 178809, 86047, 23998, 139948, 19400,\n       82693, 23711], dtype=object)"
     },
     "execution_count": 281,
     "metadata": {},
     "output_type": "execute_result"
    }
   ],
   "source": [
    "# top 10 normal short\n",
    "normal_short = pd.DataFrame(np.sort(result_w_filter_normal_short.values, axis=0), index=result_w_filter_normal_short.index, columns=result_w_filter_normal_short.columns)\n",
    "\n",
    "new_columns = normal_short.columns[normal_short.loc[normal_short.first_valid_index()].argsort()]\n",
    "result_normal_short = normal_short[new_columns]\n",
    "result_normal_short = result_normal_short.reset_index()\n",
    "result_normal_short = result_normal_short.loc[0].to_frame()\n",
    "result_normal_short[0:11].index.to_numpy()\n"
   ]
  },
  {
   "cell_type": "code",
   "execution_count": 282,
   "metadata": {},
   "outputs": [
    {
     "data": {
      "text/html": "<div>\n<style scoped>\n    .dataframe tbody tr th:only-of-type {\n        vertical-align: middle;\n    }\n\n    .dataframe tbody tr th {\n        vertical-align: top;\n    }\n\n    .dataframe thead th {\n        text-align: right;\n    }\n</style>\n<table border=\"1\" class=\"dataframe\">\n  <thead>\n    <tr style=\"text-align: right;\">\n      <th></th>\n      <th>15502</th>\n      <th>14773</th>\n      <th>45361</th>\n      <th>178809</th>\n      <th>86047</th>\n      <th>23998</th>\n      <th>139948</th>\n      <th>19400</th>\n      <th>82693</th>\n      <th>23711</th>\n      <th>...</th>\n      <th>17576</th>\n      <th>75141</th>\n      <th>17625</th>\n      <th>74949</th>\n      <th>17745</th>\n      <th>230247</th>\n      <th>17862</th>\n      <th>206120</th>\n      <th>19919</th>\n      <th>143146</th>\n    </tr>\n  </thead>\n  <tbody>\n    <tr>\n      <td>24509</td>\n      <td>0.00000</td>\n      <td>0.40000</td>\n      <td>0.40000</td>\n      <td>0.50000</td>\n      <td>0.50000</td>\n      <td>0.50000</td>\n      <td>0.50000</td>\n      <td>0.50000</td>\n      <td>0.50000</td>\n      <td>0.55556</td>\n      <td>...</td>\n      <td>1.00000</td>\n      <td>1.00000</td>\n      <td>1.00000</td>\n      <td>1.00000</td>\n      <td>1.00000</td>\n      <td>1.00000</td>\n      <td>1.00000</td>\n      <td>1.00000</td>\n      <td>1.00000</td>\n      <td>1.00000</td>\n    </tr>\n    <tr>\n      <td>27946</td>\n      <td>0.80000</td>\n      <td>0.87500</td>\n      <td>0.75000</td>\n      <td>0.80000</td>\n      <td>0.84615</td>\n      <td>0.87500</td>\n      <td>0.87500</td>\n      <td>0.92857</td>\n      <td>0.66667</td>\n      <td>0.90000</td>\n      <td>...</td>\n      <td>1.00000</td>\n      <td>1.00000</td>\n      <td>1.00000</td>\n      <td>1.00000</td>\n      <td>1.00000</td>\n      <td>1.00000</td>\n      <td>1.00000</td>\n      <td>1.00000</td>\n      <td>1.00000</td>\n      <td>1.00000</td>\n    </tr>\n    <tr>\n      <td>109782</td>\n      <td>0.91667</td>\n      <td>0.90000</td>\n      <td>0.83333</td>\n      <td>0.84615</td>\n      <td>0.87500</td>\n      <td>0.92308</td>\n      <td>0.88889</td>\n      <td>0.93750</td>\n      <td>0.75000</td>\n      <td>0.91667</td>\n      <td>...</td>\n      <td>1.00000</td>\n      <td>1.00000</td>\n      <td>1.00000</td>\n      <td>1.00000</td>\n      <td>1.00000</td>\n      <td>1.00000</td>\n      <td>1.00000</td>\n      <td>1.00000</td>\n      <td>1.00000</td>\n      <td>1.00000</td>\n    </tr>\n    <tr>\n      <td>11720</td>\n      <td>0.92308</td>\n      <td>1.00000</td>\n      <td>0.88889</td>\n      <td>0.84615</td>\n      <td>0.90909</td>\n      <td>1.00000</td>\n      <td>1.00000</td>\n      <td>1.00000</td>\n      <td>0.85714</td>\n      <td>1.00000</td>\n      <td>...</td>\n      <td>1.00000</td>\n      <td>1.00000</td>\n      <td>1.00000</td>\n      <td>1.00000</td>\n      <td>1.00000</td>\n      <td>1.00000</td>\n      <td>1.00000</td>\n      <td>1.00000</td>\n      <td>1.00000</td>\n      <td>1.00000</td>\n    </tr>\n    <tr>\n      <td>8949</td>\n      <td>0.94118</td>\n      <td>1.00000</td>\n      <td>1.00000</td>\n      <td>0.91667</td>\n      <td>0.90909</td>\n      <td>1.00000</td>\n      <td>1.00000</td>\n      <td>1.00000</td>\n      <td>1.00000</td>\n      <td>1.00000</td>\n      <td>...</td>\n      <td>1.00000</td>\n      <td>1.00000</td>\n      <td>1.00000</td>\n      <td>1.00000</td>\n      <td>1.00000</td>\n      <td>1.00000</td>\n      <td>1.00000</td>\n      <td>1.00000</td>\n      <td>1.00000</td>\n      <td>1.00000</td>\n    </tr>\n    <tr>\n      <td>140135</td>\n      <td>1.00000</td>\n      <td>1.00000</td>\n      <td>1.00000</td>\n      <td>0.92857</td>\n      <td>0.90909</td>\n      <td>1.00000</td>\n      <td>1.00000</td>\n      <td>1.00000</td>\n      <td>1.00000</td>\n      <td>1.00000</td>\n      <td>...</td>\n      <td>1.00000</td>\n      <td>1.00000</td>\n      <td>1.00000</td>\n      <td>1.00000</td>\n      <td>1.00000</td>\n      <td>1.00000</td>\n      <td>1.00000</td>\n      <td>1.00000</td>\n      <td>1.00000</td>\n      <td>1.00000</td>\n    </tr>\n    <tr>\n      <td>16741</td>\n      <td>1.00000</td>\n      <td>1.00000</td>\n      <td>1.00000</td>\n      <td>0.93333</td>\n      <td>0.91667</td>\n      <td>1.00000</td>\n      <td>1.00000</td>\n      <td>1.00000</td>\n      <td>1.00000</td>\n      <td>1.00000</td>\n      <td>...</td>\n      <td>1.00000</td>\n      <td>1.00000</td>\n      <td>1.00000</td>\n      <td>1.00000</td>\n      <td>1.00000</td>\n      <td>1.00000</td>\n      <td>1.00000</td>\n      <td>1.00000</td>\n      <td>1.00000</td>\n      <td>1.00000</td>\n    </tr>\n    <tr>\n      <td>30794</td>\n      <td>1.00000</td>\n      <td>1.00000</td>\n      <td>1.00000</td>\n      <td>0.94737</td>\n      <td>0.93750</td>\n      <td>1.00000</td>\n      <td>1.00000</td>\n      <td>1.00000</td>\n      <td>1.00000</td>\n      <td>1.00000</td>\n      <td>...</td>\n      <td>1.00000</td>\n      <td>1.00000</td>\n      <td>1.00000</td>\n      <td>1.00000</td>\n      <td>1.00000</td>\n      <td>1.00000</td>\n      <td>1.00000</td>\n      <td>1.00000</td>\n      <td>1.00000</td>\n      <td>1.00000</td>\n    </tr>\n    <tr>\n      <td>220214</td>\n      <td>1.00000</td>\n      <td>1.00000</td>\n      <td>1.00000</td>\n      <td>1.00000</td>\n      <td>1.00000</td>\n      <td>1.00000</td>\n      <td>1.00000</td>\n      <td>1.00000</td>\n      <td>1.00000</td>\n      <td>1.00000</td>\n      <td>...</td>\n      <td>1.00000</td>\n      <td>1.00000</td>\n      <td>1.00000</td>\n      <td>1.00000</td>\n      <td>1.00000</td>\n      <td>1.00000</td>\n      <td>1.00000</td>\n      <td>1.00000</td>\n      <td>1.00000</td>\n      <td>1.00000</td>\n    </tr>\n    <tr>\n      <td>15225</td>\n      <td>1.00000</td>\n      <td>1.00000</td>\n      <td>1.00000</td>\n      <td>1.00000</td>\n      <td>1.00000</td>\n      <td>1.00000</td>\n      <td>1.00000</td>\n      <td>1.00000</td>\n      <td>1.00000</td>\n      <td>1.00000</td>\n      <td>...</td>\n      <td>1.00000</td>\n      <td>1.00000</td>\n      <td>1.00000</td>\n      <td>1.00000</td>\n      <td>1.00000</td>\n      <td>1.00000</td>\n      <td>1.00000</td>\n      <td>1.00000</td>\n      <td>1.00000</td>\n      <td>1.00000</td>\n    </tr>\n    <tr>\n      <td>8549</td>\n      <td>1.00000</td>\n      <td>1.00000</td>\n      <td>1.00000</td>\n      <td>1.00000</td>\n      <td>1.00000</td>\n      <td>1.00000</td>\n      <td>1.00000</td>\n      <td>1.00000</td>\n      <td>1.00000</td>\n      <td>1.00000</td>\n      <td>...</td>\n      <td>1.00000</td>\n      <td>1.00000</td>\n      <td>1.00000</td>\n      <td>1.00000</td>\n      <td>1.00000</td>\n      <td>1.00000</td>\n      <td>1.00000</td>\n      <td>1.00000</td>\n      <td>1.00000</td>\n      <td>1.00000</td>\n    </tr>\n    <tr>\n      <td>22364</td>\n      <td>1.00000</td>\n      <td>1.00000</td>\n      <td>1.00000</td>\n      <td>1.00000</td>\n      <td>1.00000</td>\n      <td>1.00000</td>\n      <td>1.00000</td>\n      <td>1.00000</td>\n      <td>1.00000</td>\n      <td>1.00000</td>\n      <td>...</td>\n      <td>1.00000</td>\n      <td>1.00000</td>\n      <td>1.00000</td>\n      <td>1.00000</td>\n      <td>1.00000</td>\n      <td>1.00000</td>\n      <td>1.00000</td>\n      <td>1.00000</td>\n      <td>1.00000</td>\n      <td>1.00000</td>\n    </tr>\n    <tr>\n      <td>199382</td>\n      <td>1.00000</td>\n      <td>1.00000</td>\n      <td>1.00000</td>\n      <td>1.00000</td>\n      <td>1.00000</td>\n      <td>1.00000</td>\n      <td>1.00000</td>\n      <td>1.00000</td>\n      <td>1.00000</td>\n      <td>1.00000</td>\n      <td>...</td>\n      <td>1.00000</td>\n      <td>1.00000</td>\n      <td>1.00000</td>\n      <td>1.00000</td>\n      <td>1.00000</td>\n      <td>1.00000</td>\n      <td>1.00000</td>\n      <td>1.00000</td>\n      <td>1.00000</td>\n      <td>1.00000</td>\n    </tr>\n    <tr>\n      <td>217899</td>\n      <td>1.00000</td>\n      <td>1.00000</td>\n      <td>1.00000</td>\n      <td>1.00000</td>\n      <td>1.00000</td>\n      <td>1.00000</td>\n      <td>1.00000</td>\n      <td>1.00000</td>\n      <td>1.00000</td>\n      <td>1.00000</td>\n      <td>...</td>\n      <td>1.00000</td>\n      <td>1.00000</td>\n      <td>1.00000</td>\n      <td>1.00000</td>\n      <td>1.00000</td>\n      <td>1.00000</td>\n      <td>1.00000</td>\n      <td>1.00000</td>\n      <td>1.00000</td>\n      <td>1.00000</td>\n    </tr>\n    <tr>\n      <td>24080</td>\n      <td>1.00000</td>\n      <td>1.00000</td>\n      <td>1.00000</td>\n      <td>1.00000</td>\n      <td>1.00000</td>\n      <td>1.00000</td>\n      <td>1.00000</td>\n      <td>1.00000</td>\n      <td>1.00000</td>\n      <td>1.00000</td>\n      <td>...</td>\n      <td>1.00000</td>\n      <td>1.00000</td>\n      <td>1.00000</td>\n      <td>1.00000</td>\n      <td>1.00000</td>\n      <td>1.00000</td>\n      <td>1.00000</td>\n      <td>1.00000</td>\n      <td>1.00000</td>\n      <td>1.00000</td>\n    </tr>\n    <tr>\n      <td>14622</td>\n      <td>1.00000</td>\n      <td>1.00000</td>\n      <td>1.00000</td>\n      <td>1.00000</td>\n      <td>1.00000</td>\n      <td>1.00000</td>\n      <td>1.00000</td>\n      <td>1.00000</td>\n      <td>1.00000</td>\n      <td>1.00000</td>\n      <td>...</td>\n      <td>1.00000</td>\n      <td>1.00000</td>\n      <td>1.00000</td>\n      <td>1.00000</td>\n      <td>1.00000</td>\n      <td>1.00000</td>\n      <td>1.00000</td>\n      <td>1.00000</td>\n      <td>1.00000</td>\n      <td>1.00000</td>\n    </tr>\n    <tr>\n      <td>230735</td>\n      <td>1.00000</td>\n      <td>1.00000</td>\n      <td>1.00000</td>\n      <td>1.00000</td>\n      <td>1.00000</td>\n      <td>1.00000</td>\n      <td>1.00000</td>\n      <td>1.00000</td>\n      <td>1.00000</td>\n      <td>1.00000</td>\n      <td>...</td>\n      <td>1.00000</td>\n      <td>1.00000</td>\n      <td>1.00000</td>\n      <td>1.00000</td>\n      <td>1.00000</td>\n      <td>1.00000</td>\n      <td>1.00000</td>\n      <td>1.00000</td>\n      <td>1.00000</td>\n      <td>1.00000</td>\n    </tr>\n    <tr>\n      <td>21140</td>\n      <td>1.00000</td>\n      <td>1.00000</td>\n      <td>1.00000</td>\n      <td>1.00000</td>\n      <td>1.00000</td>\n      <td>1.00000</td>\n      <td>1.00000</td>\n      <td>1.00000</td>\n      <td>1.00000</td>\n      <td>1.00000</td>\n      <td>...</td>\n      <td>1.00000</td>\n      <td>1.00000</td>\n      <td>1.00000</td>\n      <td>1.00000</td>\n      <td>1.00000</td>\n      <td>1.00000</td>\n      <td>1.00000</td>\n      <td>1.00000</td>\n      <td>1.00000</td>\n      <td>1.00000</td>\n    </tr>\n    <tr>\n      <td>36994</td>\n      <td>1.00000</td>\n      <td>1.00000</td>\n      <td>1.00000</td>\n      <td>1.00000</td>\n      <td>1.00000</td>\n      <td>1.00000</td>\n      <td>1.00000</td>\n      <td>1.00000</td>\n      <td>1.00000</td>\n      <td>1.00000</td>\n      <td>...</td>\n      <td>1.00000</td>\n      <td>1.00000</td>\n      <td>1.00000</td>\n      <td>1.00000</td>\n      <td>1.00000</td>\n      <td>1.00000</td>\n      <td>1.00000</td>\n      <td>1.00000</td>\n      <td>1.00000</td>\n      <td>1.00000</td>\n    </tr>\n    <tr>\n      <td>8994</td>\n      <td>1.00000</td>\n      <td>1.00000</td>\n      <td>1.00000</td>\n      <td>1.00000</td>\n      <td>1.00000</td>\n      <td>1.00000</td>\n      <td>1.00000</td>\n      <td>1.00000</td>\n      <td>1.00000</td>\n      <td>1.00000</td>\n      <td>...</td>\n      <td>1.00000</td>\n      <td>1.00000</td>\n      <td>1.00000</td>\n      <td>1.00000</td>\n      <td>1.00000</td>\n      <td>1.00000</td>\n      <td>1.00000</td>\n      <td>1.00000</td>\n      <td>1.00000</td>\n      <td>1.00000</td>\n    </tr>\n  </tbody>\n</table>\n<p>20 rows × 3749 columns</p>\n</div>",
      "text/plain": "        15502   14773   45361   178809  86047   23998   139948  19400   \\\n24509  0.00000 0.40000 0.40000 0.50000 0.50000 0.50000 0.50000 0.50000   \n27946  0.80000 0.87500 0.75000 0.80000 0.84615 0.87500 0.87500 0.92857   \n109782 0.91667 0.90000 0.83333 0.84615 0.87500 0.92308 0.88889 0.93750   \n11720  0.92308 1.00000 0.88889 0.84615 0.90909 1.00000 1.00000 1.00000   \n8949   0.94118 1.00000 1.00000 0.91667 0.90909 1.00000 1.00000 1.00000   \n140135 1.00000 1.00000 1.00000 0.92857 0.90909 1.00000 1.00000 1.00000   \n16741  1.00000 1.00000 1.00000 0.93333 0.91667 1.00000 1.00000 1.00000   \n30794  1.00000 1.00000 1.00000 0.94737 0.93750 1.00000 1.00000 1.00000   \n220214 1.00000 1.00000 1.00000 1.00000 1.00000 1.00000 1.00000 1.00000   \n15225  1.00000 1.00000 1.00000 1.00000 1.00000 1.00000 1.00000 1.00000   \n8549   1.00000 1.00000 1.00000 1.00000 1.00000 1.00000 1.00000 1.00000   \n22364  1.00000 1.00000 1.00000 1.00000 1.00000 1.00000 1.00000 1.00000   \n199382 1.00000 1.00000 1.00000 1.00000 1.00000 1.00000 1.00000 1.00000   \n217899 1.00000 1.00000 1.00000 1.00000 1.00000 1.00000 1.00000 1.00000   \n24080  1.00000 1.00000 1.00000 1.00000 1.00000 1.00000 1.00000 1.00000   \n14622  1.00000 1.00000 1.00000 1.00000 1.00000 1.00000 1.00000 1.00000   \n230735 1.00000 1.00000 1.00000 1.00000 1.00000 1.00000 1.00000 1.00000   \n21140  1.00000 1.00000 1.00000 1.00000 1.00000 1.00000 1.00000 1.00000   \n36994  1.00000 1.00000 1.00000 1.00000 1.00000 1.00000 1.00000 1.00000   \n8994   1.00000 1.00000 1.00000 1.00000 1.00000 1.00000 1.00000 1.00000   \n\n        82693   23711   ...  17576   75141   17625   74949   17745   230247  \\\n24509  0.50000 0.55556  ... 1.00000 1.00000 1.00000 1.00000 1.00000 1.00000   \n27946  0.66667 0.90000  ... 1.00000 1.00000 1.00000 1.00000 1.00000 1.00000   \n109782 0.75000 0.91667  ... 1.00000 1.00000 1.00000 1.00000 1.00000 1.00000   \n11720  0.85714 1.00000  ... 1.00000 1.00000 1.00000 1.00000 1.00000 1.00000   \n8949   1.00000 1.00000  ... 1.00000 1.00000 1.00000 1.00000 1.00000 1.00000   \n140135 1.00000 1.00000  ... 1.00000 1.00000 1.00000 1.00000 1.00000 1.00000   \n16741  1.00000 1.00000  ... 1.00000 1.00000 1.00000 1.00000 1.00000 1.00000   \n30794  1.00000 1.00000  ... 1.00000 1.00000 1.00000 1.00000 1.00000 1.00000   \n220214 1.00000 1.00000  ... 1.00000 1.00000 1.00000 1.00000 1.00000 1.00000   \n15225  1.00000 1.00000  ... 1.00000 1.00000 1.00000 1.00000 1.00000 1.00000   \n8549   1.00000 1.00000  ... 1.00000 1.00000 1.00000 1.00000 1.00000 1.00000   \n22364  1.00000 1.00000  ... 1.00000 1.00000 1.00000 1.00000 1.00000 1.00000   \n199382 1.00000 1.00000  ... 1.00000 1.00000 1.00000 1.00000 1.00000 1.00000   \n217899 1.00000 1.00000  ... 1.00000 1.00000 1.00000 1.00000 1.00000 1.00000   \n24080  1.00000 1.00000  ... 1.00000 1.00000 1.00000 1.00000 1.00000 1.00000   \n14622  1.00000 1.00000  ... 1.00000 1.00000 1.00000 1.00000 1.00000 1.00000   \n230735 1.00000 1.00000  ... 1.00000 1.00000 1.00000 1.00000 1.00000 1.00000   \n21140  1.00000 1.00000  ... 1.00000 1.00000 1.00000 1.00000 1.00000 1.00000   \n36994  1.00000 1.00000  ... 1.00000 1.00000 1.00000 1.00000 1.00000 1.00000   \n8994   1.00000 1.00000  ... 1.00000 1.00000 1.00000 1.00000 1.00000 1.00000   \n\n        17862   206120  19919   143146  \n24509  1.00000 1.00000 1.00000 1.00000  \n27946  1.00000 1.00000 1.00000 1.00000  \n109782 1.00000 1.00000 1.00000 1.00000  \n11720  1.00000 1.00000 1.00000 1.00000  \n8949   1.00000 1.00000 1.00000 1.00000  \n140135 1.00000 1.00000 1.00000 1.00000  \n16741  1.00000 1.00000 1.00000 1.00000  \n30794  1.00000 1.00000 1.00000 1.00000  \n220214 1.00000 1.00000 1.00000 1.00000  \n15225  1.00000 1.00000 1.00000 1.00000  \n8549   1.00000 1.00000 1.00000 1.00000  \n22364  1.00000 1.00000 1.00000 1.00000  \n199382 1.00000 1.00000 1.00000 1.00000  \n217899 1.00000 1.00000 1.00000 1.00000  \n24080  1.00000 1.00000 1.00000 1.00000  \n14622  1.00000 1.00000 1.00000 1.00000  \n230735 1.00000 1.00000 1.00000 1.00000  \n21140  1.00000 1.00000 1.00000 1.00000  \n36994  1.00000 1.00000 1.00000 1.00000  \n8994   1.00000 1.00000 1.00000 1.00000  \n\n[20 rows x 3749 columns]"
     },
     "execution_count": 282,
     "metadata": {},
     "output_type": "execute_result"
    }
   ],
   "source": [
    "normal_short[new_columns]"
   ]
  },
  {
   "cell_type": "code",
   "execution_count": 283,
   "metadata": {},
   "outputs": [
    {
     "data": {
      "text/plain": "array([ 18397,   8757,  86628, 223596,  48921,  17496, 240522, 221304,\n        16966,  52501,  62459,  86813,  14710, 222509,  51653,   8556,\n        86860,  14753,  76763, 142220])"
     },
     "execution_count": 283,
     "metadata": {},
     "output_type": "execute_result"
    }
   ],
   "source": [
    "sample_fat.index.to_numpy()"
   ]
  },
  {
   "cell_type": "code",
   "execution_count": 284,
   "metadata": {},
   "outputs": [
    {
     "data": {
      "text/plain": "array([ 24509,  27946, 109782,  11720,   8949, 140135,  16741,  30794,\n       220214,  15225,   8549,  22364, 199382, 217899,  24080,  14622,\n       230735,  21140,  36994,   8994])"
     },
     "execution_count": 284,
     "metadata": {},
     "output_type": "execute_result"
    }
   ],
   "source": [
    "sample_normal.index.to_numpy()"
   ]
  },
  {
   "cell_type": "code",
   "execution_count": 285,
   "metadata": {},
   "outputs": [],
   "source": [
    "#create one dimensional ingredients vector from user recipes profile\n",
    "user_one_vector_fat = sample_fat.copy()\n",
    "user_one_vector_fat.loc['sum',:]= user_one_vector_fat.sum(axis=0)\n",
    "user_one_vector_fat = user_one_vector_fat.drop(axis=0, labels=sample_fat.index)\n",
    "user_one_vector_fat[user_one_vector_fat > 0] = 1"
   ]
  },
  {
   "cell_type": "code",
   "execution_count": 286,
   "metadata": {},
   "outputs": [],
   "source": [
    "#create one dimensional ingredients vector from user recipes profile\n",
    "user_one_vector_normal = sample_normal.copy()\n",
    "user_one_vector_normal.loc['sum',:]= user_one_vector_normal.sum(axis=0)\n",
    "user_one_vector_normal = user_one_vector_normal.drop(axis=0, labels=sample_normal.index)\n",
    "user_one_vector_normal[user_one_vector_normal > 0] = 1"
   ]
  },
  {
   "cell_type": "code",
   "execution_count": 287,
   "metadata": {},
   "outputs": [
    {
     "data": {
      "text/html": "<div>\n<style scoped>\n    .dataframe tbody tr th:only-of-type {\n        vertical-align: middle;\n    }\n\n    .dataframe tbody tr th {\n        vertical-align: top;\n    }\n\n    .dataframe thead th {\n        text-align: right;\n    }\n</style>\n<table border=\"1\" class=\"dataframe\">\n  <thead>\n    <tr style=\"text-align: right;\">\n      <th></th>\n      <th>111</th>\n      <th>126</th>\n      <th>257</th>\n      <th>443</th>\n      <th>445</th>\n      <th>578</th>\n      <th>615</th>\n      <th>629</th>\n      <th>631</th>\n      <th>858</th>\n      <th>...</th>\n      <th>23047</th>\n      <th>23274</th>\n      <th>23383</th>\n      <th>24865</th>\n      <th>25518</th>\n      <th>25522</th>\n      <th>26269</th>\n      <th>26934</th>\n      <th>27343</th>\n      <th>27805</th>\n    </tr>\n    <tr>\n      <th>id</th>\n      <th></th>\n      <th></th>\n      <th></th>\n      <th></th>\n      <th></th>\n      <th></th>\n      <th></th>\n      <th></th>\n      <th></th>\n      <th></th>\n      <th></th>\n      <th></th>\n      <th></th>\n      <th></th>\n      <th></th>\n      <th></th>\n      <th></th>\n      <th></th>\n      <th></th>\n      <th></th>\n      <th></th>\n    </tr>\n  </thead>\n  <tbody>\n    <tr>\n      <td>sum</td>\n      <td>0.00000</td>\n      <td>0.00000</td>\n      <td>0.00000</td>\n      <td>0.00000</td>\n      <td>0.00000</td>\n      <td>1.00000</td>\n      <td>0.00000</td>\n      <td>0.00000</td>\n      <td>0.00000</td>\n      <td>0.00000</td>\n      <td>...</td>\n      <td>0.00000</td>\n      <td>1.00000</td>\n      <td>0.00000</td>\n      <td>0.00000</td>\n      <td>0.00000</td>\n      <td>0.00000</td>\n      <td>0.00000</td>\n      <td>0.00000</td>\n      <td>0.00000</td>\n      <td>0.00000</td>\n    </tr>\n  </tbody>\n</table>\n<p>1 rows × 720 columns</p>\n</div>",
      "text/plain": "      111     126     257     443     445     578     615     629     631    \\\nid                                                                            \nsum 0.00000 0.00000 0.00000 0.00000 0.00000 1.00000 0.00000 0.00000 0.00000   \n\n      858    ...   23047   23274   23383   24865   25518   25522   26269  \\\nid           ...                                                           \nsum 0.00000  ... 0.00000 1.00000 0.00000 0.00000 0.00000 0.00000 0.00000   \n\n      26934   27343   27805  \nid                           \nsum 0.00000 0.00000 0.00000  \n\n[1 rows x 720 columns]"
     },
     "execution_count": 287,
     "metadata": {},
     "output_type": "execute_result"
    },
    {
     "data": {
      "text/plain": "0.00000    621\n1.00000     99\ndtype: int64"
     },
     "execution_count": 287,
     "metadata": {},
     "output_type": "execute_result"
    }
   ],
   "source": [
    "user_one_vector_normal\n",
    "user_one_vector_normal.apply(pd.value_counts).count(axis=1)"
   ]
  },
  {
   "cell_type": "code",
   "execution_count": 288,
   "metadata": {},
   "outputs": [
    {
     "data": {
      "text/html": "<div>\n<style scoped>\n    .dataframe tbody tr th:only-of-type {\n        vertical-align: middle;\n    }\n\n    .dataframe tbody tr th {\n        vertical-align: top;\n    }\n\n    .dataframe thead th {\n        text-align: right;\n    }\n</style>\n<table border=\"1\" class=\"dataframe\">\n  <thead>\n    <tr style=\"text-align: right;\">\n      <th></th>\n      <th>111</th>\n      <th>126</th>\n      <th>257</th>\n      <th>443</th>\n      <th>445</th>\n      <th>578</th>\n      <th>615</th>\n      <th>629</th>\n      <th>631</th>\n      <th>858</th>\n      <th>...</th>\n      <th>23047</th>\n      <th>23274</th>\n      <th>23383</th>\n      <th>24865</th>\n      <th>25518</th>\n      <th>25522</th>\n      <th>26269</th>\n      <th>26934</th>\n      <th>27343</th>\n      <th>27805</th>\n    </tr>\n    <tr>\n      <th>id</th>\n      <th></th>\n      <th></th>\n      <th></th>\n      <th></th>\n      <th></th>\n      <th></th>\n      <th></th>\n      <th></th>\n      <th></th>\n      <th></th>\n      <th></th>\n      <th></th>\n      <th></th>\n      <th></th>\n      <th></th>\n      <th></th>\n      <th></th>\n      <th></th>\n      <th></th>\n      <th></th>\n      <th></th>\n    </tr>\n  </thead>\n  <tbody>\n    <tr>\n      <td>sum</td>\n      <td>0.00000</td>\n      <td>0.00000</td>\n      <td>0.00000</td>\n      <td>0.00000</td>\n      <td>0.00000</td>\n      <td>1.00000</td>\n      <td>0.00000</td>\n      <td>0.00000</td>\n      <td>0.00000</td>\n      <td>0.00000</td>\n      <td>...</td>\n      <td>0.00000</td>\n      <td>0.00000</td>\n      <td>0.00000</td>\n      <td>0.00000</td>\n      <td>0.00000</td>\n      <td>0.00000</td>\n      <td>0.00000</td>\n      <td>0.00000</td>\n      <td>0.00000</td>\n      <td>0.00000</td>\n    </tr>\n  </tbody>\n</table>\n<p>1 rows × 720 columns</p>\n</div>",
      "text/plain": "      111     126     257     443     445     578     615     629     631    \\\nid                                                                            \nsum 0.00000 0.00000 0.00000 0.00000 0.00000 1.00000 0.00000 0.00000 0.00000   \n\n      858    ...   23047   23274   23383   24865   25518   25522   26269  \\\nid           ...                                                           \nsum 0.00000  ... 0.00000 0.00000 0.00000 0.00000 0.00000 0.00000 0.00000   \n\n      26934   27343   27805  \nid                           \nsum 0.00000 0.00000 0.00000  \n\n[1 rows x 720 columns]"
     },
     "execution_count": 288,
     "metadata": {},
     "output_type": "execute_result"
    },
    {
     "data": {
      "text/plain": "0.00000    626\n1.00000     94\ndtype: int64"
     },
     "execution_count": 288,
     "metadata": {},
     "output_type": "execute_result"
    }
   ],
   "source": [
    "user_one_vector_fat\n",
    "user_one_vector_fat.apply(pd.value_counts).count(axis=1)"
   ]
  },
  {
   "cell_type": "code",
   "execution_count": 289,
   "metadata": {},
   "outputs": [
    {
     "data": {
      "text/html": "<div>\n<style scoped>\n    .dataframe tbody tr th:only-of-type {\n        vertical-align: middle;\n    }\n\n    .dataframe tbody tr th {\n        vertical-align: top;\n    }\n\n    .dataframe thead th {\n        text-align: right;\n    }\n</style>\n<table border=\"1\" class=\"dataframe\">\n  <thead>\n    <tr style=\"text-align: right;\">\n      <th></th>\n      <th>jaccard_distance_sum</th>\n    </tr>\n  </thead>\n  <tbody>\n    <tr>\n      <td>51850</td>\n      <td>0.88889</td>\n    </tr>\n    <tr>\n      <td>231396</td>\n      <td>0.89796</td>\n    </tr>\n    <tr>\n      <td>135885</td>\n      <td>0.90000</td>\n    </tr>\n    <tr>\n      <td>52299</td>\n      <td>0.90000</td>\n    </tr>\n    <tr>\n      <td>145843</td>\n      <td>0.90426</td>\n    </tr>\n    <tr>\n      <td>16372</td>\n      <td>0.90526</td>\n    </tr>\n    <tr>\n      <td>83083</td>\n      <td>0.90909</td>\n    </tr>\n    <tr>\n      <td>180905</td>\n      <td>0.90909</td>\n    </tr>\n    <tr>\n      <td>24682</td>\n      <td>0.91489</td>\n    </tr>\n    <tr>\n      <td>70012</td>\n      <td>0.91579</td>\n    </tr>\n  </tbody>\n</table>\n</div>",
      "text/plain": "        jaccard_distance_sum\n51850                0.88889\n231396               0.89796\n135885               0.90000\n52299                0.90000\n145843               0.90426\n16372                0.90526\n83083                0.90909\n180905               0.90909\n24682                0.91489\n70012                0.91579"
     },
     "execution_count": 289,
     "metadata": {},
     "output_type": "execute_result"
    }
   ],
   "source": [
    "## Jaccard - Vector fat top 10\n",
    "\n",
    "result_array = cdist(user_one_vector_fat, new_recipe_db_wo_userrecipes_fat,'jaccard')\n",
    "result_w_filter_vector_fat = pd.DataFrame(result_array, columns=new_recipe_db_wo_userrecipes_fat.index.values, index=user_one_vector_fat.index.values)\n",
    "\n",
    "\n",
    "result_w_filter_vector_10_fat = pd.DataFrame(result_w_filter_vector_fat.sum(), columns=['jaccard_distance_sum'])\n",
    "result_w_filter_vector_10_fat = result_w_filter_vector_10_fat.sort_values(by='jaccard_distance_sum')\n",
    "\n",
    "result_w_filter_vector_10_fat[0:10]\n"
   ]
  },
  {
   "cell_type": "code",
   "execution_count": 290,
   "metadata": {},
   "outputs": [
    {
     "data": {
      "text/html": "<div>\n<style scoped>\n    .dataframe tbody tr th:only-of-type {\n        vertical-align: middle;\n    }\n\n    .dataframe tbody tr th {\n        vertical-align: top;\n    }\n\n    .dataframe thead th {\n        text-align: right;\n    }\n</style>\n<table border=\"1\" class=\"dataframe\">\n  <thead>\n    <tr style=\"text-align: right;\">\n      <th></th>\n      <th>jaccard_distance_sum</th>\n    </tr>\n  </thead>\n  <tbody>\n    <tr>\n      <td>9005</td>\n      <td>0.89109</td>\n    </tr>\n    <tr>\n      <td>53075</td>\n      <td>0.90196</td>\n    </tr>\n    <tr>\n      <td>231396</td>\n      <td>0.90291</td>\n    </tr>\n    <tr>\n      <td>111905</td>\n      <td>0.90385</td>\n    </tr>\n    <tr>\n      <td>22991</td>\n      <td>0.90909</td>\n    </tr>\n    <tr>\n      <td>178809</td>\n      <td>0.90909</td>\n    </tr>\n    <tr>\n      <td>8758</td>\n      <td>0.91089</td>\n    </tr>\n    <tr>\n      <td>228266</td>\n      <td>0.91089</td>\n    </tr>\n    <tr>\n      <td>236114</td>\n      <td>0.91176</td>\n    </tr>\n    <tr>\n      <td>83083</td>\n      <td>0.91346</td>\n    </tr>\n  </tbody>\n</table>\n</div>",
      "text/plain": "        jaccard_distance_sum\n9005                 0.89109\n53075                0.90196\n231396               0.90291\n111905               0.90385\n22991                0.90909\n178809               0.90909\n8758                 0.91089\n228266               0.91089\n236114               0.91176\n83083                0.91346"
     },
     "execution_count": 290,
     "metadata": {},
     "output_type": "execute_result"
    }
   ],
   "source": [
    "## Jaccard - Vector normal top 10\n",
    "\n",
    "result_array = cdist(user_one_vector_normal, new_recipe_db_wo_userrecipes_normal,'jaccard')\n",
    "result_w_filter_vector_normal = pd.DataFrame(result_array, columns=new_recipe_db_wo_userrecipes_normal.index.values, index=user_one_vector_normal.index.values)\n",
    "\n",
    "\n",
    "result_w_filter_vector_10_normal = pd.DataFrame(result_w_filter_vector_normal.sum(), columns=['jaccard_distance_sum'])\n",
    "result_w_filter_vector_10_normal = result_w_filter_vector_10_normal.sort_values(by='jaccard_distance_sum')\n",
    "\n",
    "result_w_filter_vector_10_normal[0:10]\n"
   ]
  },
  {
   "cell_type": "code",
   "execution_count": 291,
   "metadata": {},
   "outputs": [
    {
     "data": {
      "text/plain": "array([  9005,  53075, 231396, 111905,  22991, 178809,   8758, 228266,\n       236114,  83083])"
     },
     "execution_count": 291,
     "metadata": {},
     "output_type": "execute_result"
    }
   ],
   "source": [
    "result_w_filter_vector_10_normal[0:10].index.to_numpy()"
   ]
  },
  {
   "cell_type": "code",
   "execution_count": 292,
   "metadata": {},
   "outputs": [],
   "source": [
    "####### results"
   ]
  },
  {
   "cell_type": "code",
   "execution_count": 293,
   "metadata": {},
   "outputs": [
    {
     "data": {
      "text/plain": "array([ 18397,   8757,  86628, 223596,  48921,  17496, 240522, 221304,\n        16966,  52501,  62459,  86813,  14710, 222509,  51653,   8556,\n        86860,  14753,  76763, 142220])"
     },
     "execution_count": 293,
     "metadata": {},
     "output_type": "execute_result"
    }
   ],
   "source": [
    "# userrecipes fat\n",
    "sample_fat.index.to_numpy()"
   ]
  },
  {
   "cell_type": "code",
   "execution_count": 294,
   "metadata": {},
   "outputs": [
    {
     "data": {
      "text/plain": "array([  8547, 188706,  70513, 141125,  62256, 231808,  90160, 240773,\n        18442,  14614])"
     },
     "execution_count": 294,
     "metadata": {},
     "output_type": "execute_result"
    }
   ],
   "source": [
    "###### jaccard fat top 10 naiv\n",
    "result_w_filter_10_fat[0:10].index.to_numpy()"
   ]
  },
  {
   "cell_type": "code",
   "execution_count": 295,
   "metadata": {},
   "outputs": [
    {
     "data": {
      "text/plain": "array([8547, 188706, 34361, 206120, 220716, 16372, 14525, 235948, 11678,\n       25884], dtype=object)"
     },
     "execution_count": 295,
     "metadata": {},
     "output_type": "execute_result"
    }
   ],
   "source": [
    "###### jaccard kurz fat top 10\n",
    "result_fat_short[1:11].index.to_numpy()\n"
   ]
  },
  {
   "cell_type": "code",
   "execution_count": 296,
   "metadata": {},
   "outputs": [
    {
     "data": {
      "text/plain": "array([ 51850, 231396, 135885,  52299, 145843,  16372,  83083, 180905,\n        24682,  70012])"
     },
     "execution_count": 296,
     "metadata": {},
     "output_type": "execute_result"
    }
   ],
   "source": [
    "###### jaccard vector fat top 10\n",
    "result_w_filter_vector_10_fat[0:10].index.to_numpy()"
   ]
  },
  {
   "cell_type": "code",
   "execution_count": null,
   "metadata": {},
   "outputs": [],
   "source": []
  },
  {
   "cell_type": "code",
   "execution_count": null,
   "metadata": {},
   "outputs": [],
   "source": []
  },
  {
   "cell_type": "code",
   "execution_count": null,
   "metadata": {},
   "outputs": [],
   "source": []
  },
  {
   "cell_type": "code",
   "execution_count": null,
   "metadata": {},
   "outputs": [],
   "source": []
  },
  {
   "cell_type": "code",
   "execution_count": 297,
   "metadata": {},
   "outputs": [
    {
     "data": {
      "text/plain": "array([ 24509,  27946, 109782,  11720,   8949, 140135,  16741,  30794,\n       220214,  15225,   8549,  22364, 199382, 217899,  24080,  14622,\n       230735,  21140,  36994,   8994])"
     },
     "execution_count": 297,
     "metadata": {},
     "output_type": "execute_result"
    }
   ],
   "source": [
    "# userrecipes normal\n",
    "sample_normal.index.to_numpy()"
   ]
  },
  {
   "cell_type": "code",
   "execution_count": 298,
   "metadata": {},
   "outputs": [
    {
     "data": {
      "text/plain": "array([ 15502,  65671, 178809,  21699, 232458,  82693,  20456,  21643,\n        86047,  47006])"
     },
     "execution_count": 298,
     "metadata": {},
     "output_type": "execute_result"
    }
   ],
   "source": [
    "###### jaccard normal top 10 naiv\n",
    "result_w_filter_10_normal[0:10].index.to_numpy()"
   ]
  },
  {
   "cell_type": "code",
   "execution_count": 299,
   "metadata": {},
   "outputs": [
    {
     "data": {
      "text/plain": "array([15502, 14773, 45361, 178809, 86047, 23998, 139948, 19400, 82693,\n       23711], dtype=object)"
     },
     "execution_count": 299,
     "metadata": {},
     "output_type": "execute_result"
    }
   ],
   "source": [
    "###### jaccard kurz normal top 10\n",
    "result_normal_short[1:11].index.to_numpy()\n"
   ]
  },
  {
   "cell_type": "code",
   "execution_count": 300,
   "metadata": {},
   "outputs": [
    {
     "data": {
      "text/plain": "array([  9005,  53075, 231396, 111905,  22991, 178809,   8758, 228266,\n       236114,  83083])"
     },
     "execution_count": 300,
     "metadata": {},
     "output_type": "execute_result"
    }
   ],
   "source": [
    "###### jaccard vector normal top 10\n",
    "result_w_filter_vector_10_normal[0:10].index.to_numpy()"
   ]
  },
  {
   "cell_type": "code",
   "execution_count": 301,
   "metadata": {},
   "outputs": [
    {
     "data": {
      "text/plain": "array([ 26607, 165079,  62423, 220149,  74037,  60022,  54215,  11733,\n        14618, 152156])"
     },
     "execution_count": 301,
     "metadata": {},
     "output_type": "execute_result"
    }
   ],
   "source": [
    "##### random top 10\n",
    "subset_random_top10.index.to_numpy()"
   ]
  },
  {
   "cell_type": "code",
   "execution_count": null,
   "metadata": {},
   "outputs": [],
   "source": []
  },
  {
   "cell_type": "code",
   "execution_count": 302,
   "metadata": {},
   "outputs": [
    {
     "data": {
      "text/html": "<div>\n<style scoped>\n    .dataframe tbody tr th:only-of-type {\n        vertical-align: middle;\n    }\n\n    .dataframe tbody tr th {\n        vertical-align: top;\n    }\n\n    .dataframe thead th {\n        text-align: right;\n    }\n</style>\n<table border=\"1\" class=\"dataframe\">\n  <thead>\n    <tr style=\"text-align: right;\">\n      <th>name</th>\n      <th>Calcium</th>\n      <th>Calories</th>\n      <th>Calories from Fat</th>\n      <th>Carbohydrates</th>\n      <th>Cholesterol</th>\n      <th>Dietary Fiber</th>\n      <th>Fat</th>\n      <th>Folate</th>\n      <th>Iron</th>\n      <th>Magnesium</th>\n      <th>Niacin Equivalents</th>\n      <th>Potassium</th>\n      <th>Protein</th>\n      <th>Saturated Fat</th>\n      <th>Sodium</th>\n      <th>Sugars</th>\n      <th>Thiamin</th>\n      <th>Vitamin A - IU</th>\n      <th>Vitamin B6</th>\n      <th>Vitamin C</th>\n    </tr>\n  </thead>\n  <tbody>\n    <tr>\n      <td>count</td>\n      <td>3769.00000</td>\n      <td>3769.00000</td>\n      <td>3769.00000</td>\n      <td>3769.00000</td>\n      <td>3769.00000</td>\n      <td>3769.00000</td>\n      <td>3769.00000</td>\n      <td>3769.00000</td>\n      <td>3769.00000</td>\n      <td>3769.00000</td>\n      <td>3769.00000</td>\n      <td>3769.00000</td>\n      <td>3769.00000</td>\n      <td>3769.00000</td>\n      <td>3769.00000</td>\n      <td>3769.00000</td>\n      <td>3769.00000</td>\n      <td>3769.00000</td>\n      <td>3769.00000</td>\n      <td>3769.00000</td>\n    </tr>\n    <tr>\n      <td>mean</td>\n      <td>147.65186</td>\n      <td>437.44356</td>\n      <td>206.11989</td>\n      <td>29.13837</td>\n      <td>97.10705</td>\n      <td>2.59745</td>\n      <td>22.90221</td>\n      <td>60.52532</td>\n      <td>3.15292</td>\n      <td>51.41953</td>\n      <td>12.44388</td>\n      <td>532.06962</td>\n      <td>28.05446</td>\n      <td>8.74674</td>\n      <td>851.15449</td>\n      <td>6.72550</td>\n      <td>0.30428</td>\n      <td>1169.01319</td>\n      <td>0.50992</td>\n      <td>16.28996</td>\n    </tr>\n    <tr>\n      <td>std</td>\n      <td>160.00437</td>\n      <td>183.08939</td>\n      <td>125.84039</td>\n      <td>22.82783</td>\n      <td>60.47445</td>\n      <td>2.51004</td>\n      <td>13.98227</td>\n      <td>59.87693</td>\n      <td>2.44362</td>\n      <td>29.11251</td>\n      <td>6.89390</td>\n      <td>267.49221</td>\n      <td>12.01243</td>\n      <td>6.80052</td>\n      <td>643.62150</td>\n      <td>8.81425</td>\n      <td>0.30165</td>\n      <td>2322.11124</td>\n      <td>0.31208</td>\n      <td>24.36018</td>\n    </tr>\n    <tr>\n      <td>min</td>\n      <td>2.24700</td>\n      <td>51.34326</td>\n      <td>1.32300</td>\n      <td>0.00000</td>\n      <td>0.00000</td>\n      <td>0.00000</td>\n      <td>0.14700</td>\n      <td>0.00000</td>\n      <td>0.19784</td>\n      <td>0.99745</td>\n      <td>0.03511</td>\n      <td>21.35641</td>\n      <td>0.75050</td>\n      <td>0.01992</td>\n      <td>5.20206</td>\n      <td>0.00000</td>\n      <td>0.00055</td>\n      <td>0.00000</td>\n      <td>0.00497</td>\n      <td>0.00000</td>\n    </tr>\n    <tr>\n      <td>25%</td>\n      <td>41.91497</td>\n      <td>302.97180</td>\n      <td>116.53740</td>\n      <td>10.22622</td>\n      <td>60.37200</td>\n      <td>0.74534</td>\n      <td>12.94860</td>\n      <td>15.88967</td>\n      <td>1.81434</td>\n      <td>33.22178</td>\n      <td>7.40249</td>\n      <td>345.47480</td>\n      <td>19.97439</td>\n      <td>3.62848</td>\n      <td>418.62460</td>\n      <td>1.76465</td>\n      <td>0.10514</td>\n      <td>236.89130</td>\n      <td>0.28450</td>\n      <td>2.15387</td>\n    </tr>\n    <tr>\n      <td>50%</td>\n      <td>83.16850</td>\n      <td>407.24760</td>\n      <td>182.76280</td>\n      <td>24.77198</td>\n      <td>85.12875</td>\n      <td>1.94552</td>\n      <td>20.30698</td>\n      <td>38.70226</td>\n      <td>2.76635</td>\n      <td>45.93000</td>\n      <td>11.16012</td>\n      <td>480.78320</td>\n      <td>26.86635</td>\n      <td>7.16552</td>\n      <td>734.00700</td>\n      <td>3.90585</td>\n      <td>0.19772</td>\n      <td>581.41080</td>\n      <td>0.44630</td>\n      <td>6.66049</td>\n    </tr>\n    <tr>\n      <td>75%</td>\n      <td>193.60330</td>\n      <td>541.55730</td>\n      <td>271.88850</td>\n      <td>43.25740</td>\n      <td>126.73700</td>\n      <td>3.66472</td>\n      <td>30.20983</td>\n      <td>88.10015</td>\n      <td>3.93263</td>\n      <td>63.26534</td>\n      <td>16.56103</td>\n      <td>654.28050</td>\n      <td>34.32086</td>\n      <td>12.13782</td>\n      <td>1093.02700</td>\n      <td>7.83809</td>\n      <td>0.39695</td>\n      <td>1113.57900</td>\n      <td>0.68318</td>\n      <td>19.57264</td>\n    </tr>\n    <tr>\n      <td>max</td>\n      <td>1264.32600</td>\n      <td>1828.19200</td>\n      <td>989.10300</td>\n      <td>236.72050</td>\n      <td>708.85000</td>\n      <td>27.83175</td>\n      <td>109.90030</td>\n      <td>519.53590</td>\n      <td>55.89075</td>\n      <td>590.39220</td>\n      <td>47.57578</td>\n      <td>1931.48800</td>\n      <td>99.72639</td>\n      <td>59.31002</td>\n      <td>7322.28900</td>\n      <td>104.81810</td>\n      <td>2.35457</td>\n      <td>38664.70000</td>\n      <td>3.83736</td>\n      <td>270.41310</td>\n    </tr>\n  </tbody>\n</table>\n</div>",
      "text/plain": "name     Calcium   Calories  Calories from Fat  Carbohydrates  Cholesterol  \\\ncount 3769.00000 3769.00000         3769.00000     3769.00000   3769.00000   \nmean   147.65186  437.44356          206.11989       29.13837     97.10705   \nstd    160.00437  183.08939          125.84039       22.82783     60.47445   \nmin      2.24700   51.34326            1.32300        0.00000      0.00000   \n25%     41.91497  302.97180          116.53740       10.22622     60.37200   \n50%     83.16850  407.24760          182.76280       24.77198     85.12875   \n75%    193.60330  541.55730          271.88850       43.25740    126.73700   \nmax   1264.32600 1828.19200          989.10300      236.72050    708.85000   \n\nname   Dietary Fiber        Fat     Folate       Iron  Magnesium  \\\ncount     3769.00000 3769.00000 3769.00000 3769.00000 3769.00000   \nmean         2.59745   22.90221   60.52532    3.15292   51.41953   \nstd          2.51004   13.98227   59.87693    2.44362   29.11251   \nmin          0.00000    0.14700    0.00000    0.19784    0.99745   \n25%          0.74534   12.94860   15.88967    1.81434   33.22178   \n50%          1.94552   20.30698   38.70226    2.76635   45.93000   \n75%          3.66472   30.20983   88.10015    3.93263   63.26534   \nmax         27.83175  109.90030  519.53590   55.89075  590.39220   \n\nname   Niacin Equivalents  Potassium    Protein  Saturated Fat     Sodium  \\\ncount          3769.00000 3769.00000 3769.00000     3769.00000 3769.00000   \nmean             12.44388  532.06962   28.05446        8.74674  851.15449   \nstd               6.89390  267.49221   12.01243        6.80052  643.62150   \nmin               0.03511   21.35641    0.75050        0.01992    5.20206   \n25%               7.40249  345.47480   19.97439        3.62848  418.62460   \n50%              11.16012  480.78320   26.86635        7.16552  734.00700   \n75%              16.56103  654.28050   34.32086       12.13782 1093.02700   \nmax              47.57578 1931.48800   99.72639       59.31002 7322.28900   \n\nname      Sugars    Thiamin  Vitamin A - IU  Vitamin B6  Vitamin C  \ncount 3769.00000 3769.00000      3769.00000  3769.00000 3769.00000  \nmean     6.72550    0.30428      1169.01319     0.50992   16.28996  \nstd      8.81425    0.30165      2322.11124     0.31208   24.36018  \nmin      0.00000    0.00055         0.00000     0.00497    0.00000  \n25%      1.76465    0.10514       236.89130     0.28450    2.15387  \n50%      3.90585    0.19772       581.41080     0.44630    6.66049  \n75%      7.83809    0.39695      1113.57900     0.68318   19.57264  \nmax    104.81810    2.35457     38664.70000     3.83736  270.41310  "
     },
     "execution_count": 302,
     "metadata": {},
     "output_type": "execute_result"
    }
   ],
   "source": [
    "nutrition_db2.describe()"
   ]
  },
  {
   "cell_type": "code",
   "execution_count": 303,
   "metadata": {},
   "outputs": [],
   "source": [
    "new_df = nutrition_db2[['Calories', 'Calories from Fat', 'Carbohydrates', 'Fat', 'Saturated Fat', 'Protein', 'Calcium', 'Magnesium', 'Iron' ]]"
   ]
  },
  {
   "cell_type": "code",
   "execution_count": 304,
   "metadata": {},
   "outputs": [
    {
     "data": {
      "text/html": "<div>\n<style scoped>\n    .dataframe tbody tr th:only-of-type {\n        vertical-align: middle;\n    }\n\n    .dataframe tbody tr th {\n        vertical-align: top;\n    }\n\n    .dataframe thead th {\n        text-align: right;\n    }\n</style>\n<table border=\"1\" class=\"dataframe\">\n  <thead>\n    <tr style=\"text-align: right;\">\n      <th>name</th>\n      <th>Calories</th>\n      <th>Calories from Fat</th>\n      <th>Carbohydrates</th>\n      <th>Fat</th>\n      <th>Saturated Fat</th>\n      <th>Protein</th>\n      <th>Calcium</th>\n      <th>Magnesium</th>\n      <th>Iron</th>\n    </tr>\n  </thead>\n  <tbody>\n    <tr>\n      <td>count</td>\n      <td>3769.00000</td>\n      <td>3769.00000</td>\n      <td>3769.00000</td>\n      <td>3769.00000</td>\n      <td>3769.00000</td>\n      <td>3769.00000</td>\n      <td>3769.00000</td>\n      <td>3769.00000</td>\n      <td>3769.00000</td>\n    </tr>\n    <tr>\n      <td>mean</td>\n      <td>437.44356</td>\n      <td>206.11989</td>\n      <td>29.13837</td>\n      <td>22.90221</td>\n      <td>8.74674</td>\n      <td>28.05446</td>\n      <td>147.65186</td>\n      <td>51.41953</td>\n      <td>3.15292</td>\n    </tr>\n    <tr>\n      <td>std</td>\n      <td>183.08939</td>\n      <td>125.84039</td>\n      <td>22.82783</td>\n      <td>13.98227</td>\n      <td>6.80052</td>\n      <td>12.01243</td>\n      <td>160.00437</td>\n      <td>29.11251</td>\n      <td>2.44362</td>\n    </tr>\n    <tr>\n      <td>min</td>\n      <td>51.34326</td>\n      <td>1.32300</td>\n      <td>0.00000</td>\n      <td>0.14700</td>\n      <td>0.01992</td>\n      <td>0.75050</td>\n      <td>2.24700</td>\n      <td>0.99745</td>\n      <td>0.19784</td>\n    </tr>\n    <tr>\n      <td>25%</td>\n      <td>302.97180</td>\n      <td>116.53740</td>\n      <td>10.22622</td>\n      <td>12.94860</td>\n      <td>3.62848</td>\n      <td>19.97439</td>\n      <td>41.91497</td>\n      <td>33.22178</td>\n      <td>1.81434</td>\n    </tr>\n    <tr>\n      <td>50%</td>\n      <td>407.24760</td>\n      <td>182.76280</td>\n      <td>24.77198</td>\n      <td>20.30698</td>\n      <td>7.16552</td>\n      <td>26.86635</td>\n      <td>83.16850</td>\n      <td>45.93000</td>\n      <td>2.76635</td>\n    </tr>\n    <tr>\n      <td>75%</td>\n      <td>541.55730</td>\n      <td>271.88850</td>\n      <td>43.25740</td>\n      <td>30.20983</td>\n      <td>12.13782</td>\n      <td>34.32086</td>\n      <td>193.60330</td>\n      <td>63.26534</td>\n      <td>3.93263</td>\n    </tr>\n    <tr>\n      <td>max</td>\n      <td>1828.19200</td>\n      <td>989.10300</td>\n      <td>236.72050</td>\n      <td>109.90030</td>\n      <td>59.31002</td>\n      <td>99.72639</td>\n      <td>1264.32600</td>\n      <td>590.39220</td>\n      <td>55.89075</td>\n    </tr>\n  </tbody>\n</table>\n</div>",
      "text/plain": "name    Calories  Calories from Fat  Carbohydrates        Fat  Saturated Fat  \\\ncount 3769.00000         3769.00000     3769.00000 3769.00000     3769.00000   \nmean   437.44356          206.11989       29.13837   22.90221        8.74674   \nstd    183.08939          125.84039       22.82783   13.98227        6.80052   \nmin     51.34326            1.32300        0.00000    0.14700        0.01992   \n25%    302.97180          116.53740       10.22622   12.94860        3.62848   \n50%    407.24760          182.76280       24.77198   20.30698        7.16552   \n75%    541.55730          271.88850       43.25740   30.20983       12.13782   \nmax   1828.19200          989.10300      236.72050  109.90030       59.31002   \n\nname     Protein    Calcium  Magnesium       Iron  \ncount 3769.00000 3769.00000 3769.00000 3769.00000  \nmean    28.05446  147.65186   51.41953    3.15292  \nstd     12.01243  160.00437   29.11251    2.44362  \nmin      0.75050    2.24700    0.99745    0.19784  \n25%     19.97439   41.91497   33.22178    1.81434  \n50%     26.86635   83.16850   45.93000    2.76635  \n75%     34.32086  193.60330   63.26534    3.93263  \nmax     99.72639 1264.32600  590.39220   55.89075  "
     },
     "execution_count": 304,
     "metadata": {},
     "output_type": "execute_result"
    }
   ],
   "source": [
    "new_df.describe()"
   ]
  },
  {
   "cell_type": "code",
   "execution_count": 305,
   "metadata": {},
   "outputs": [],
   "source": [
    "#https://www.ncbi.nlm.nih.gov/books/NBK56068/table/summarytables.t4/?report=objectonly\n",
    "#https://www.ncbi.nlm.nih.gov/books/NBK56068/table/summarytables.t1/?report=objectonly\n",
    "#https://www.ncbi.nlm.nih.gov/books/NBK56068/table/summarytables.t5/?report=objectonly\n",
    "#männer alter 31 - 50 pro tag geteil durch 3 mahlzeiten\n",
    "#angepasst an einen keto (low/carb) dietplan https://www.healthline.com/nutrition/keto-diet-meal-plan-and-menu#bottom-line\n",
    "\n",
    "\n",
    "recommenden_nut_low_carb = pd.DataFrame(data=None, columns=nutrition_db2.columns, index=None)\n",
    "\n",
    "\n",
    "recommenden_nut_low_carb.loc['index'] = [\n",
    "    # \"Calcium\":[1],\n",
    "    266.67,\n",
    "    # \"Calories\":[1],\n",
    "    600,\n",
    "    # \"Calories from Fat\":[1],\n",
    "    0,\n",
    "    # \"Carbohydrates\":[1],\n",
    "    5,\n",
    "    # \"Cholesterol\":[1],\n",
    "    0,\n",
    "    # \"Dietary Fiber\t\":[1],\n",
    "    5,\n",
    "    # \"Fat\":[1],16.67,\n",
    "    50,\n",
    "    # \"Folate\":[1],\n",
    "    106.67, \n",
    "    # \"Iron\":[1],\n",
    "    2,\n",
    "    # \"Magnesium\":[1],\n",
    "    116.67, \n",
    "    # \"Niacin Equivalents\":[1],\n",
    "    4,\n",
    "    # \"Potassium\":[1],\n",
    "    1,\n",
    "    # \"Protein\":[1],\n",
    "    30,\n",
    "    # \"Saturated Fat\":[1],\n",
    "    1,\n",
    "    # \"Sodium\":[1],\n",
    "    0.5,\n",
    "    # \"Sugars\":[1],\n",
    "    1,\n",
    "    # \"Thiamin\":[1],\n",
    "    0.3, \n",
    "    # \"Vitamin A - IU\":[1],\n",
    "    208, \n",
    "    # \"Vitamin B6\":[1],\n",
    "    0.36, \n",
    "    # \"Vitamin C\":[1]}\n",
    "    25] "
   ]
  },
  {
   "cell_type": "code",
   "execution_count": 306,
   "metadata": {},
   "outputs": [],
   "source": [
    "no_weight = [\n",
    "    # \"Calcium\":[1],\n",
    "    1,\n",
    "    # \"Calories\":[1],\n",
    "    1,\n",
    "    # \"Calories from Fat\":[1],\n",
    "    1,\n",
    "    # \"Carbohydrates\":[1],\n",
    "    1,\n",
    "    # \"Cholesterol\":[1],\n",
    "    1,\n",
    "    # \"Dietary Fiber\t\":[1],\n",
    "    1,\n",
    "    # \"Fat\":[1],\n",
    "    1,\n",
    "    # \"Folate\":[1],\n",
    "    1,\n",
    "    # \"Iron\":[1],\n",
    "    1,\n",
    "    # \"Magnesium\":[1],\n",
    "    1,\n",
    "    # \"Niacin Equivalents\":[1],\n",
    "    1,\n",
    "    # \"Potassium\":[1],\n",
    "    1,\n",
    "    # \"Protein\":[1],\n",
    "    1,\n",
    "    # \"Saturated Fat\":[1],\n",
    "    1,\n",
    "    # \"Sodium\":[1],\n",
    "    1,\n",
    "    # \"Sugars\":[1],\n",
    "    1,\n",
    "    # \"Thiamin\":[1],\n",
    "    1,\n",
    "    # \"Vitamin A - IU\":[1],\n",
    "    1,\n",
    "    # \"Vitamin B6\":[1],\n",
    "    1,\n",
    "    # \"Vitamin C\":[1]}\n",
    "    1]\n",
    "\n",
    "weighted_carbs = [\n",
    "    # \"Calcium\":[1],\n",
    "    10,\n",
    "    # \"Calories\":[1],\n",
    "    1,\n",
    "    # \"Calories from Fat\":[1],\n",
    "    1,\n",
    "    # \"Carbohydrates\":[1],\n",
    "    100000,\n",
    "    # \"Cholesterol\":[1],\n",
    "    1,\n",
    "    # \"Dietary Fiber\t\":[1],\n",
    "    100,\n",
    "    # \"Fat\":[1],\n",
    "    10000,\n",
    "    # \"Folate\":[1],\n",
    "    1,\n",
    "    # \"Iron\":[1],\n",
    "    10,\n",
    "    # \"Magnesium\":[1],\n",
    "    10,\n",
    "    # \"Niacin Equivalents\":[1],\n",
    "    1,\n",
    "    # \"Potassium\":[1],\n",
    "    1,\n",
    "    # \"Protein\":[1],\n",
    "    100,\n",
    "    # \"Saturated Fat\":[1],\n",
    "    1,\n",
    "    # \"Sodium\":[1],\n",
    "    1,\n",
    "    # \"Sugars\":[1],\n",
    "    1,\n",
    "    # \"Thiamin\":[1],\n",
    "    1,\n",
    "    # \"Vitamin A - IU\":[1],\n",
    "    1,\n",
    "    # \"Vitamin B6\":[1],\n",
    "    1,\n",
    "    # \"Vitamin C\":[1]}\n",
    "    1]\n",
    "\n"
   ]
  },
  {
   "cell_type": "code",
   "execution_count": 307,
   "metadata": {},
   "outputs": [],
   "source": [
    "result_w_filter_normal_100_vector = result_w_filter_vector_10_normal[0:100].copy()\n",
    "result_w_filter_normal_100_vector['pos'] = np.arange(len(result_w_filter_normal_100_vector))\n",
    "result_w_filter_normal_100_vector = result_w_filter_normal_100_vector.reset_index()\n",
    "result_w_filter_normal_100_vector = result_w_filter_normal_100_vector.set_index('index')"
   ]
  },
  {
   "cell_type": "code",
   "execution_count": 308,
   "metadata": {},
   "outputs": [],
   "source": [
    "result_w_filter_normal_100 = result_w_filter_10_normal[0:100].copy()\n",
    "result_w_filter_normal_100['pos'] = np.arange(len(result_w_filter_normal_100))\n",
    "result_w_filter_normal_100 = result_w_filter_normal_100.reset_index()\n",
    "result_w_filter_normal_100 = result_w_filter_normal_100.set_index('index')"
   ]
  },
  {
   "cell_type": "code",
   "execution_count": 309,
   "metadata": {},
   "outputs": [],
   "source": [
    "#  ------ Erstellung und cleansing des Nutrition Dataframes\n",
    "\n",
    "# erstelle neue liste auf basis der bereits gefilterten rezepte aus ingredients_filt\n",
    "id_overlap_mask = nutritions['id'].isin(result_w_filter_normal_100.index.to_numpy())\n",
    "\n",
    "# erstelle datenframe auf basis der overlapliste\n",
    "nutritions_filt = nutritions.loc[id_overlap_mask]\n",
    "\n",
    "nutrition_normal_naiv = nutritions_filt.pivot_table(\n",
    "    index=['id'],\n",
    "    columns=['name'],\n",
    "    values=['amount'],\n",
    ").reset_index()\n",
    "\n",
    "nutrition_normal_naiv.set_index('id', inplace=True)\n",
    "\n",
    "# remove multiindex 'amount'\n",
    "nutrition_normal_naiv.columns = nutrition_normal_naiv.columns.droplevel(0)\n",
    "\n",
    "# entferne alle NA\n",
    "nutrition_normal_naiv = nutrition_normal_naiv.dropna()"
   ]
  },
  {
   "cell_type": "code",
   "execution_count": 397,
   "metadata": {},
   "outputs": [
    {
     "data": {
      "text/html": "<div>\n<style scoped>\n    .dataframe tbody tr th:only-of-type {\n        vertical-align: middle;\n    }\n\n    .dataframe tbody tr th {\n        vertical-align: top;\n    }\n\n    .dataframe thead th {\n        text-align: right;\n    }\n</style>\n<table border=\"1\" class=\"dataframe\">\n  <thead>\n    <tr style=\"text-align: right;\">\n      <th></th>\n      <th>euclid_distance_sum</th>\n    </tr>\n  </thead>\n  <tbody>\n    <tr>\n      <td>34957</td>\n      <td>1233.45803</td>\n    </tr>\n    <tr>\n      <td>229277</td>\n      <td>1798.47782</td>\n    </tr>\n    <tr>\n      <td>15005</td>\n      <td>1909.37895</td>\n    </tr>\n    <tr>\n      <td>228363</td>\n      <td>2280.15207</td>\n    </tr>\n    <tr>\n      <td>8529</td>\n      <td>2721.79205</td>\n    </tr>\n    <tr>\n      <td>234803</td>\n      <td>2815.07624</td>\n    </tr>\n    <tr>\n      <td>54839</td>\n      <td>3115.41086</td>\n    </tr>\n    <tr>\n      <td>16628</td>\n      <td>3125.59868</td>\n    </tr>\n    <tr>\n      <td>15196</td>\n      <td>3263.59136</td>\n    </tr>\n    <tr>\n      <td>232326</td>\n      <td>3280.71921</td>\n    </tr>\n  </tbody>\n</table>\n</div>",
      "text/plain": "        euclid_distance_sum\n34957            1233.45803\n229277           1798.47782\n15005            1909.37895\n228363           2280.15207\n8529             2721.79205\n234803           2815.07624\n54839            3115.41086\n16628            3125.59868\n15196            3263.59136\n232326           3280.71921"
     },
     "execution_count": 397,
     "metadata": {},
     "output_type": "execute_result"
    }
   ],
   "source": [
    "# euklidische distanz für nährwerte\n",
    "\n",
    "result_array = cdist(recommenden_nut_low_carb, nutrition_normal_naiv, 'minkowski', p=2, w=weighted_carbs)\n",
    "euclid_distance = pd.DataFrame(\n",
    "    result_array, columns=nutrition_normal_naiv.index.values, index=recommenden_nut_low_carb.index.values)\n",
    "\n",
    "euclid_distance_sum_normal_naiv = pd.DataFrame(euclid_distance.sum(), columns=['euclid_distance_sum'])\n",
    "euclid_distance_sum_normal_naiv = euclid_distance_sum_normal_naiv.sort_values(by='euclid_distance_sum')\n",
    "euclid_distance_sum_normal_naiv[0:10]"
   ]
  },
  {
   "cell_type": "code",
   "execution_count": 398,
   "metadata": {},
   "outputs": [],
   "source": [
    "jaccard_euclid_joined_normal_naiv = pd.merge(euclid_distance_sum_normal_naiv, result_w_filter_normal_100, left_index=True, right_index=True)"
   ]
  },
  {
   "cell_type": "code",
   "execution_count": 399,
   "metadata": {},
   "outputs": [
    {
     "data": {
      "text/html": "<div>\n<style scoped>\n    .dataframe tbody tr th:only-of-type {\n        vertical-align: middle;\n    }\n\n    .dataframe tbody tr th {\n        vertical-align: top;\n    }\n\n    .dataframe thead th {\n        text-align: right;\n    }\n</style>\n<table border=\"1\" class=\"dataframe\">\n  <thead>\n    <tr style=\"text-align: right;\">\n      <th></th>\n      <th>euclid_distance_sum</th>\n      <th>jaccard_distance_sum</th>\n      <th>pos</th>\n    </tr>\n  </thead>\n  <tbody>\n    <tr>\n      <td>34957</td>\n      <td>1233.45803</td>\n      <td>0.95408</td>\n      <td>71</td>\n    </tr>\n    <tr>\n      <td>229277</td>\n      <td>1798.47782</td>\n      <td>0.95382</td>\n      <td>68</td>\n    </tr>\n    <tr>\n      <td>15005</td>\n      <td>1909.37895</td>\n      <td>0.95566</td>\n      <td>95</td>\n    </tr>\n    <tr>\n      <td>228363</td>\n      <td>2280.15207</td>\n      <td>0.95600</td>\n      <td>99</td>\n    </tr>\n    <tr>\n      <td>8529</td>\n      <td>2721.79205</td>\n      <td>0.95555</td>\n      <td>92</td>\n    </tr>\n    <tr>\n      <td>234803</td>\n      <td>2815.07624</td>\n      <td>0.95210</td>\n      <td>51</td>\n    </tr>\n    <tr>\n      <td>54839</td>\n      <td>3115.41086</td>\n      <td>0.95405</td>\n      <td>70</td>\n    </tr>\n    <tr>\n      <td>16628</td>\n      <td>3125.59868</td>\n      <td>0.95426</td>\n      <td>74</td>\n    </tr>\n    <tr>\n      <td>15196</td>\n      <td>3263.59136</td>\n      <td>0.94907</td>\n      <td>31</td>\n    </tr>\n    <tr>\n      <td>232326</td>\n      <td>3280.71921</td>\n      <td>0.95581</td>\n      <td>96</td>\n    </tr>\n  </tbody>\n</table>\n</div>",
      "text/plain": "        euclid_distance_sum  jaccard_distance_sum  pos\n34957            1233.45803               0.95408   71\n229277           1798.47782               0.95382   68\n15005            1909.37895               0.95566   95\n228363           2280.15207               0.95600   99\n8529             2721.79205               0.95555   92\n234803           2815.07624               0.95210   51\n54839            3115.41086               0.95405   70\n16628            3125.59868               0.95426   74\n15196            3263.59136               0.94907   31\n232326           3280.71921               0.95581   96"
     },
     "execution_count": 399,
     "metadata": {},
     "output_type": "execute_result"
    }
   ],
   "source": [
    "jaccard_euclid_joined_normal_naiv[0:10]"
   ]
  },
  {
   "cell_type": "code",
   "execution_count": 400,
   "metadata": {},
   "outputs": [],
   "source": [
    "#  ------ Erstellung und cleansing des Nutrition Dataframes\n",
    "\n",
    "# erstelle neue liste auf basis der bereits gefilterten rezepte aus ingredients_filt\n",
    "id_overlap_mask = nutritions['id'].isin(jaccard_euclid_joined_normal_naiv[0:10].index.to_numpy())\n",
    "\n",
    "# erstelle datenframe auf basis der overlapliste\n",
    "nutritions_filt = nutritions.loc[id_overlap_mask]\n",
    "\n",
    "nutrition_top10_normal_naiv = nutritions_filt.pivot_table(\n",
    "    index=['id'],\n",
    "    columns=['name'],\n",
    "    values=['amount'],\n",
    ").reset_index()\n",
    "\n",
    "nutrition_top10_normal_naiv.set_index('id', inplace=True)\n",
    "\n",
    "# remove multiindex 'amount'\n",
    "nutrition_top10_normal_naiv.columns = nutrition_top10_normal_naiv.columns.droplevel(0)\n",
    "\n",
    "# entferne alle NA\n",
    "nutrition_top10_normal_naiv = nutrition_top10_normal_naiv.dropna()"
   ]
  },
  {
   "cell_type": "code",
   "execution_count": 445,
   "metadata": {},
   "outputs": [
    {
     "data": {
      "text/html": "<div>\n<style scoped>\n    .dataframe tbody tr th:only-of-type {\n        vertical-align: middle;\n    }\n\n    .dataframe tbody tr th {\n        vertical-align: top;\n    }\n\n    .dataframe thead th {\n        text-align: right;\n    }\n</style>\n<table border=\"1\" class=\"dataframe\">\n  <thead>\n    <tr style=\"text-align: right;\">\n      <th>name</th>\n      <th>Calcium</th>\n      <th>Calories</th>\n      <th>Calories from Fat</th>\n      <th>Carbohydrates</th>\n      <th>Cholesterol</th>\n      <th>Dietary Fiber</th>\n      <th>Fat</th>\n      <th>Folate</th>\n      <th>Iron</th>\n      <th>Magnesium</th>\n      <th>Niacin Equivalents</th>\n      <th>Potassium</th>\n      <th>Protein</th>\n      <th>Saturated Fat</th>\n      <th>Sodium</th>\n      <th>Sugars</th>\n      <th>Thiamin</th>\n      <th>Vitamin A - IU</th>\n      <th>Vitamin B6</th>\n      <th>Vitamin C</th>\n    </tr>\n  </thead>\n  <tbody>\n    <tr>\n      <td>count</td>\n      <td>10.00000</td>\n      <td>10.00000</td>\n      <td>10.00000</td>\n      <td>10.00000</td>\n      <td>10.00000</td>\n      <td>10.00000</td>\n      <td>10.00000</td>\n      <td>10.00000</td>\n      <td>10.00000</td>\n      <td>10.00000</td>\n      <td>10.00000</td>\n      <td>10.00000</td>\n      <td>10.00000</td>\n      <td>10.00000</td>\n      <td>10.00000</td>\n      <td>10.00000</td>\n      <td>10.00000</td>\n      <td>10.00000</td>\n      <td>10.00000</td>\n      <td>10.00000</td>\n    </tr>\n    <tr>\n      <td>mean</td>\n      <td>106.87714</td>\n      <td>482.33193</td>\n      <td>296.96785</td>\n      <td>6.24093</td>\n      <td>144.33067</td>\n      <td>0.73464</td>\n      <td>32.99643</td>\n      <td>18.75976</td>\n      <td>2.54890</td>\n      <td>43.91740</td>\n      <td>18.19840</td>\n      <td>478.96160</td>\n      <td>38.19900</td>\n      <td>12.23374</td>\n      <td>577.98494</td>\n      <td>1.77820</td>\n      <td>0.16193</td>\n      <td>686.92352</td>\n      <td>0.70366</td>\n      <td>6.22223</td>\n    </tr>\n    <tr>\n      <td>std</td>\n      <td>96.82942</td>\n      <td>163.50590</td>\n      <td>111.35130</td>\n      <td>3.09023</td>\n      <td>56.93486</td>\n      <td>0.27223</td>\n      <td>12.37237</td>\n      <td>8.78879</td>\n      <td>1.09965</td>\n      <td>14.35581</td>\n      <td>7.73815</td>\n      <td>88.47135</td>\n      <td>10.94609</td>\n      <td>5.39099</td>\n      <td>388.63266</td>\n      <td>2.09240</td>\n      <td>0.17771</td>\n      <td>449.94769</td>\n      <td>0.20658</td>\n      <td>6.86794</td>\n    </tr>\n    <tr>\n      <td>min</td>\n      <td>16.19160</td>\n      <td>295.93870</td>\n      <td>170.01770</td>\n      <td>1.62752</td>\n      <td>75.97800</td>\n      <td>0.33416</td>\n      <td>18.89085</td>\n      <td>5.81638</td>\n      <td>1.28493</td>\n      <td>25.51370</td>\n      <td>8.07638</td>\n      <td>298.31200</td>\n      <td>22.41871</td>\n      <td>7.30422</td>\n      <td>61.91653</td>\n      <td>0.34573</td>\n      <td>0.00889</td>\n      <td>58.64625</td>\n      <td>0.40378</td>\n      <td>1.30604</td>\n    </tr>\n    <tr>\n      <td>25%</td>\n      <td>32.58996</td>\n      <td>375.88225</td>\n      <td>221.32960</td>\n      <td>4.42001</td>\n      <td>100.91009</td>\n      <td>0.59805</td>\n      <td>24.59217</td>\n      <td>13.75998</td>\n      <td>1.59378</td>\n      <td>33.82286</td>\n      <td>12.66763</td>\n      <td>433.02200</td>\n      <td>30.76304</td>\n      <td>8.35387</td>\n      <td>231.14497</td>\n      <td>0.64539</td>\n      <td>0.08949</td>\n      <td>391.12445</td>\n      <td>0.55453</td>\n      <td>1.53589</td>\n    </tr>\n    <tr>\n      <td>50%</td>\n      <td>50.84447</td>\n      <td>453.61130</td>\n      <td>269.83170</td>\n      <td>5.50791</td>\n      <td>133.20940</td>\n      <td>0.72191</td>\n      <td>29.98130</td>\n      <td>15.75412</td>\n      <td>2.56422</td>\n      <td>42.00024</td>\n      <td>16.18116</td>\n      <td>490.23640</td>\n      <td>37.66320</td>\n      <td>10.06997</td>\n      <td>628.30975</td>\n      <td>1.21789</td>\n      <td>0.11951</td>\n      <td>700.73610</td>\n      <td>0.67594</td>\n      <td>4.04875</td>\n    </tr>\n    <tr>\n      <td>75%</td>\n      <td>187.00457</td>\n      <td>561.88357</td>\n      <td>364.77368</td>\n      <td>8.45709</td>\n      <td>176.63625</td>\n      <td>0.80505</td>\n      <td>40.53041</td>\n      <td>21.66105</td>\n      <td>3.02987</td>\n      <td>51.23097</td>\n      <td>23.09417</td>\n      <td>531.88240</td>\n      <td>42.32862</td>\n      <td>14.07311</td>\n      <td>859.29552</td>\n      <td>1.94705</td>\n      <td>0.17052</td>\n      <td>946.43480</td>\n      <td>0.82346</td>\n      <td>6.00930</td>\n    </tr>\n    <tr>\n      <td>max</td>\n      <td>275.62050</td>\n      <td>835.73660</td>\n      <td>520.69370</td>\n      <td>11.35139</td>\n      <td>252.11560</td>\n      <td>1.15985</td>\n      <td>57.85485</td>\n      <td>35.04619</td>\n      <td>4.75413</td>\n      <td>71.06262</td>\n      <td>31.27942</td>\n      <td>613.78070</td>\n      <td>58.66879</td>\n      <td>21.68964</td>\n      <td>1115.72300</td>\n      <td>7.40242</td>\n      <td>0.63653</td>\n      <td>1349.64700</td>\n      <td>1.04302</td>\n      <td>22.88027</td>\n    </tr>\n  </tbody>\n</table>\n</div>",
      "text/plain": "name    Calcium  Calories  Calories from Fat  Carbohydrates  Cholesterol  \\\ncount  10.00000  10.00000           10.00000       10.00000     10.00000   \nmean  106.87714 482.33193          296.96785        6.24093    144.33067   \nstd    96.82942 163.50590          111.35130        3.09023     56.93486   \nmin    16.19160 295.93870          170.01770        1.62752     75.97800   \n25%    32.58996 375.88225          221.32960        4.42001    100.91009   \n50%    50.84447 453.61130          269.83170        5.50791    133.20940   \n75%   187.00457 561.88357          364.77368        8.45709    176.63625   \nmax   275.62050 835.73660          520.69370       11.35139    252.11560   \n\nname   Dietary Fiber      Fat   Folate     Iron  Magnesium  \\\ncount       10.00000 10.00000 10.00000 10.00000   10.00000   \nmean         0.73464 32.99643 18.75976  2.54890   43.91740   \nstd          0.27223 12.37237  8.78879  1.09965   14.35581   \nmin          0.33416 18.89085  5.81638  1.28493   25.51370   \n25%          0.59805 24.59217 13.75998  1.59378   33.82286   \n50%          0.72191 29.98130 15.75412  2.56422   42.00024   \n75%          0.80505 40.53041 21.66105  3.02987   51.23097   \nmax          1.15985 57.85485 35.04619  4.75413   71.06262   \n\nname   Niacin Equivalents  Potassium  Protein  Saturated Fat     Sodium  \\\ncount            10.00000   10.00000 10.00000       10.00000   10.00000   \nmean             18.19840  478.96160 38.19900       12.23374  577.98494   \nstd               7.73815   88.47135 10.94609        5.39099  388.63266   \nmin               8.07638  298.31200 22.41871        7.30422   61.91653   \n25%              12.66763  433.02200 30.76304        8.35387  231.14497   \n50%              16.18116  490.23640 37.66320       10.06997  628.30975   \n75%              23.09417  531.88240 42.32862       14.07311  859.29552   \nmax              31.27942  613.78070 58.66879       21.68964 1115.72300   \n\nname    Sugars  Thiamin  Vitamin A - IU  Vitamin B6  Vitamin C  \ncount 10.00000 10.00000        10.00000    10.00000   10.00000  \nmean   1.77820  0.16193       686.92352     0.70366    6.22223  \nstd    2.09240  0.17771       449.94769     0.20658    6.86794  \nmin    0.34573  0.00889        58.64625     0.40378    1.30604  \n25%    0.64539  0.08949       391.12445     0.55453    1.53589  \n50%    1.21789  0.11951       700.73610     0.67594    4.04875  \n75%    1.94705  0.17052       946.43480     0.82346    6.00930  \nmax    7.40242  0.63653      1349.64700     1.04302   22.88027  "
     },
     "execution_count": 445,
     "metadata": {},
     "output_type": "execute_result"
    }
   ],
   "source": [
    "nutrition_top10_normal_naiv.describe()"
   ]
  },
  {
   "cell_type": "code",
   "execution_count": 402,
   "metadata": {},
   "outputs": [],
   "source": [
    "#nutrition_top10_normal_naiv.describe()"
   ]
  },
  {
   "cell_type": "code",
   "execution_count": 403,
   "metadata": {},
   "outputs": [
    {
     "data": {
      "text/plain": "array([  8529,  15005,  15196,  16628,  34957,  54839, 228363, 229277,\n       232326, 234803])"
     },
     "execution_count": 403,
     "metadata": {},
     "output_type": "execute_result"
    }
   ],
   "source": [
    "nutrition_top10_normal_naiv.index.to_numpy()"
   ]
  },
  {
   "cell_type": "code",
   "execution_count": 404,
   "metadata": {},
   "outputs": [],
   "source": [
    "new_df = nutrition_top10_normal_naiv[['Calories', 'Calories from Fat', 'Carbohydrates', 'Fat', 'Saturated Fat', 'Protein', 'Calcium', 'Magnesium', 'Iron' ]]"
   ]
  },
  {
   "cell_type": "code",
   "execution_count": 446,
   "metadata": {},
   "outputs": [],
   "source": [
    "new_df = nutrition_top10_normal_naiv[['Calories', 'Carbohydrates', 'Fat', 'Protein', 'Calcium', 'Magnesium', 'Iron' ]]"
   ]
  },
  {
   "cell_type": "code",
   "execution_count": 447,
   "metadata": {},
   "outputs": [
    {
     "data": {
      "text/html": "<div>\n<style scoped>\n    .dataframe tbody tr th:only-of-type {\n        vertical-align: middle;\n    }\n\n    .dataframe tbody tr th {\n        vertical-align: top;\n    }\n\n    .dataframe thead th {\n        text-align: right;\n    }\n</style>\n<table border=\"1\" class=\"dataframe\">\n  <thead>\n    <tr style=\"text-align: right;\">\n      <th>name</th>\n      <th>Calories</th>\n      <th>Carbohydrates</th>\n      <th>Fat</th>\n      <th>Protein</th>\n      <th>Calcium</th>\n      <th>Magnesium</th>\n      <th>Iron</th>\n    </tr>\n  </thead>\n  <tbody>\n    <tr>\n      <td>count</td>\n      <td>10.00000</td>\n      <td>10.00000</td>\n      <td>10.00000</td>\n      <td>10.00000</td>\n      <td>10.00000</td>\n      <td>10.00000</td>\n      <td>10.00000</td>\n    </tr>\n    <tr>\n      <td>mean</td>\n      <td>482.33193</td>\n      <td>6.24093</td>\n      <td>32.99643</td>\n      <td>38.19900</td>\n      <td>106.87714</td>\n      <td>43.91740</td>\n      <td>2.54890</td>\n    </tr>\n    <tr>\n      <td>std</td>\n      <td>163.50590</td>\n      <td>3.09023</td>\n      <td>12.37237</td>\n      <td>10.94609</td>\n      <td>96.82942</td>\n      <td>14.35581</td>\n      <td>1.09965</td>\n    </tr>\n    <tr>\n      <td>min</td>\n      <td>295.93870</td>\n      <td>1.62752</td>\n      <td>18.89085</td>\n      <td>22.41871</td>\n      <td>16.19160</td>\n      <td>25.51370</td>\n      <td>1.28493</td>\n    </tr>\n    <tr>\n      <td>25%</td>\n      <td>375.88225</td>\n      <td>4.42001</td>\n      <td>24.59217</td>\n      <td>30.76304</td>\n      <td>32.58996</td>\n      <td>33.82286</td>\n      <td>1.59378</td>\n    </tr>\n    <tr>\n      <td>50%</td>\n      <td>453.61130</td>\n      <td>5.50791</td>\n      <td>29.98130</td>\n      <td>37.66320</td>\n      <td>50.84447</td>\n      <td>42.00024</td>\n      <td>2.56422</td>\n    </tr>\n    <tr>\n      <td>75%</td>\n      <td>561.88357</td>\n      <td>8.45709</td>\n      <td>40.53041</td>\n      <td>42.32862</td>\n      <td>187.00457</td>\n      <td>51.23097</td>\n      <td>3.02987</td>\n    </tr>\n    <tr>\n      <td>max</td>\n      <td>835.73660</td>\n      <td>11.35139</td>\n      <td>57.85485</td>\n      <td>58.66879</td>\n      <td>275.62050</td>\n      <td>71.06262</td>\n      <td>4.75413</td>\n    </tr>\n  </tbody>\n</table>\n</div>",
      "text/plain": "name   Calories  Carbohydrates      Fat  Protein   Calcium  Magnesium     Iron\ncount  10.00000       10.00000 10.00000 10.00000  10.00000   10.00000 10.00000\nmean  482.33193        6.24093 32.99643 38.19900 106.87714   43.91740  2.54890\nstd   163.50590        3.09023 12.37237 10.94609  96.82942   14.35581  1.09965\nmin   295.93870        1.62752 18.89085 22.41871  16.19160   25.51370  1.28493\n25%   375.88225        4.42001 24.59217 30.76304  32.58996   33.82286  1.59378\n50%   453.61130        5.50791 29.98130 37.66320  50.84447   42.00024  2.56422\n75%   561.88357        8.45709 40.53041 42.32862 187.00457   51.23097  3.02987\nmax   835.73660       11.35139 57.85485 58.66879 275.62050   71.06262  4.75413"
     },
     "execution_count": 447,
     "metadata": {},
     "output_type": "execute_result"
    }
   ],
   "source": [
    "new_df.describe()"
   ]
  },
  {
   "cell_type": "code",
   "execution_count": null,
   "metadata": {},
   "outputs": [],
   "source": []
  },
  {
   "cell_type": "code",
   "execution_count": 406,
   "metadata": {},
   "outputs": [],
   "source": [
    "result_w_filter_normal_100_short = result_normal_short[1:101].index.to_numpy().copy()\n"
   ]
  },
  {
   "cell_type": "code",
   "execution_count": 407,
   "metadata": {},
   "outputs": [],
   "source": [
    "#  ------ Erstellung und cleansing des Nutrition Dataframes\n",
    "\n",
    "# erstelle neue liste auf basis der bereits gefilterten rezepte aus ingredients_filt\n",
    "id_overlap_mask = nutritions['id'].isin(result_normal_short[1:101].index.to_numpy())\n",
    "\n",
    "# erstelle datenframe auf basis der overlapliste\n",
    "nutritions_filt = nutritions.loc[id_overlap_mask]\n",
    "\n",
    "nutrition_normal_short = nutritions_filt.pivot_table(\n",
    "    index=['id'],\n",
    "    columns=['name'],\n",
    "    values=['amount'],\n",
    ").reset_index()\n",
    "\n",
    "nutrition_normal_short.set_index('id', inplace=True)\n",
    "\n",
    "# remove multiindex 'amount'\n",
    "nutrition_normal_short.columns = nutrition_normal_short.columns.droplevel(0)\n",
    "\n",
    "# entferne alle NA\n",
    "nutrition_normal_short = nutrition_normal_short.dropna()"
   ]
  },
  {
   "cell_type": "code",
   "execution_count": 408,
   "metadata": {},
   "outputs": [
    {
     "data": {
      "text/html": "<div>\n<style scoped>\n    .dataframe tbody tr th:only-of-type {\n        vertical-align: middle;\n    }\n\n    .dataframe tbody tr th {\n        vertical-align: top;\n    }\n\n    .dataframe thead th {\n        text-align: right;\n    }\n</style>\n<table border=\"1\" class=\"dataframe\">\n  <thead>\n    <tr style=\"text-align: right;\">\n      <th></th>\n      <th>euclid_distance_sum</th>\n    </tr>\n  </thead>\n  <tbody>\n    <tr>\n      <td>26595</td>\n      <td>2009.54974</td>\n    </tr>\n    <tr>\n      <td>60014</td>\n      <td>2677.20928</td>\n    </tr>\n    <tr>\n      <td>103067</td>\n      <td>2697.75648</td>\n    </tr>\n    <tr>\n      <td>8529</td>\n      <td>2721.79205</td>\n    </tr>\n    <tr>\n      <td>8647</td>\n      <td>2813.57577</td>\n    </tr>\n    <tr>\n      <td>22538</td>\n      <td>3177.01471</td>\n    </tr>\n    <tr>\n      <td>222850</td>\n      <td>3190.28378</td>\n    </tr>\n    <tr>\n      <td>15196</td>\n      <td>3263.59136</td>\n    </tr>\n    <tr>\n      <td>16285</td>\n      <td>3329.39161</td>\n    </tr>\n    <tr>\n      <td>93168</td>\n      <td>3347.55653</td>\n    </tr>\n  </tbody>\n</table>\n</div>",
      "text/plain": "        euclid_distance_sum\n26595            2009.54974\n60014            2677.20928\n103067           2697.75648\n8529             2721.79205\n8647             2813.57577\n22538            3177.01471\n222850           3190.28378\n15196            3263.59136\n16285            3329.39161\n93168            3347.55653"
     },
     "execution_count": 408,
     "metadata": {},
     "output_type": "execute_result"
    }
   ],
   "source": [
    "# euklidische distanz für nährwerte\n",
    "\n",
    "result_array = cdist(recommenden_nut_low_carb, nutrition_normal_short, 'minkowski', p=2, w=weighted_carbs)\n",
    "euclid_distance = pd.DataFrame(\n",
    "    result_array, columns=nutrition_normal_short.index.values, index=recommenden_nut_low_carb.index.values)\n",
    "\n",
    "euclid_distance_sum_normal_short = pd.DataFrame(euclid_distance.sum(), columns=['euclid_distance_sum'])\n",
    "euclid_distance_sum_normal_short = euclid_distance_sum_normal_short.sort_values(by='euclid_distance_sum')\n",
    "euclid_distance_sum_normal_short[0:10]"
   ]
  },
  {
   "cell_type": "code",
   "execution_count": 409,
   "metadata": {},
   "outputs": [],
   "source": [
    "#  ------ Erstellung und cleansing des Nutrition Dataframes\n",
    "\n",
    "# erstelle neue liste auf basis der bereits gefilterten rezepte aus ingredients_filt\n",
    "id_overlap_mask = nutritions['id'].isin(euclid_distance_sum_normal_short[0:10].index.to_numpy())\n",
    "\n",
    "# erstelle datenframe auf basis der overlapliste\n",
    "nutritions_filt = nutritions.loc[id_overlap_mask]\n",
    "\n",
    "nutrition_top10_normal_short = nutritions_filt.pivot_table(\n",
    "    index=['id'],\n",
    "    columns=['name'],\n",
    "    values=['amount'],\n",
    ").reset_index()\n",
    "\n",
    "nutrition_top10_normal_short.set_index('id', inplace=True)\n",
    "\n",
    "# remove multiindex 'amount'\n",
    "nutrition_top10_normal_short.columns = nutrition_top10_normal_short.columns.droplevel(0)\n",
    "\n",
    "# entferne alle NA\n",
    "nutrition_top10_normal_short = nutrition_top10_normal_short.dropna()"
   ]
  },
  {
   "cell_type": "code",
   "execution_count": 410,
   "metadata": {},
   "outputs": [
    {
     "data": {
      "text/html": "<div>\n<style scoped>\n    .dataframe tbody tr th:only-of-type {\n        vertical-align: middle;\n    }\n\n    .dataframe tbody tr th {\n        vertical-align: top;\n    }\n\n    .dataframe thead th {\n        text-align: right;\n    }\n</style>\n<table border=\"1\" class=\"dataframe\">\n  <thead>\n    <tr style=\"text-align: right;\">\n      <th>name</th>\n      <th>Calcium</th>\n      <th>Calories</th>\n      <th>Calories from Fat</th>\n      <th>Carbohydrates</th>\n      <th>Cholesterol</th>\n      <th>Dietary Fiber</th>\n      <th>Fat</th>\n      <th>Folate</th>\n      <th>Iron</th>\n      <th>Magnesium</th>\n      <th>Niacin Equivalents</th>\n      <th>Potassium</th>\n      <th>Protein</th>\n      <th>Saturated Fat</th>\n      <th>Sodium</th>\n      <th>Sugars</th>\n      <th>Thiamin</th>\n      <th>Vitamin A - IU</th>\n      <th>Vitamin B6</th>\n      <th>Vitamin C</th>\n    </tr>\n  </thead>\n  <tbody>\n    <tr>\n      <td>count</td>\n      <td>10.00000</td>\n      <td>10.00000</td>\n      <td>10.00000</td>\n      <td>10.00000</td>\n      <td>10.00000</td>\n      <td>10.00000</td>\n      <td>10.00000</td>\n      <td>10.00000</td>\n      <td>10.00000</td>\n      <td>10.00000</td>\n      <td>10.00000</td>\n      <td>10.00000</td>\n      <td>10.00000</td>\n      <td>10.00000</td>\n      <td>10.00000</td>\n      <td>10.00000</td>\n      <td>10.00000</td>\n      <td>10.00000</td>\n      <td>10.00000</td>\n      <td>10.00000</td>\n    </tr>\n    <tr>\n      <td>mean</td>\n      <td>68.80492</td>\n      <td>447.48073</td>\n      <td>272.40118</td>\n      <td>4.59262</td>\n      <td>139.86272</td>\n      <td>0.54333</td>\n      <td>30.26680</td>\n      <td>18.43878</td>\n      <td>2.70670</td>\n      <td>39.27815</td>\n      <td>15.33525</td>\n      <td>454.22718</td>\n      <td>36.67739</td>\n      <td>11.78398</td>\n      <td>541.76870</td>\n      <td>0.81067</td>\n      <td>0.12733</td>\n      <td>464.28478</td>\n      <td>0.60538</td>\n      <td>3.20152</td>\n    </tr>\n    <tr>\n      <td>std</td>\n      <td>86.86750</td>\n      <td>177.52774</td>\n      <td>116.64413</td>\n      <td>4.32238</td>\n      <td>54.57713</td>\n      <td>0.43692</td>\n      <td>12.96046</td>\n      <td>9.33691</td>\n      <td>1.24197</td>\n      <td>15.62335</td>\n      <td>8.34864</td>\n      <td>160.23708</td>\n      <td>13.68390</td>\n      <td>4.94432</td>\n      <td>433.19612</td>\n      <td>1.01743</td>\n      <td>0.08008</td>\n      <td>377.72088</td>\n      <td>0.34964</td>\n      <td>3.09538</td>\n    </tr>\n    <tr>\n      <td>min</td>\n      <td>12.92700</td>\n      <td>327.29850</td>\n      <td>169.64450</td>\n      <td>0.00852</td>\n      <td>74.54200</td>\n      <td>0.00000</td>\n      <td>18.84939</td>\n      <td>7.90259</td>\n      <td>0.85171</td>\n      <td>16.81800</td>\n      <td>4.50316</td>\n      <td>218.96800</td>\n      <td>18.92661</td>\n      <td>7.38248</td>\n      <td>49.39900</td>\n      <td>0.00852</td>\n      <td>0.00245</td>\n      <td>0.79300</td>\n      <td>0.20433</td>\n      <td>0.00000</td>\n    </tr>\n    <tr>\n      <td>25%</td>\n      <td>21.91103</td>\n      <td>337.58290</td>\n      <td>204.19575</td>\n      <td>0.99506</td>\n      <td>109.20473</td>\n      <td>0.19850</td>\n      <td>22.68842</td>\n      <td>12.24300</td>\n      <td>1.80970</td>\n      <td>28.98001</td>\n      <td>9.99713</td>\n      <td>352.54700</td>\n      <td>30.34238</td>\n      <td>8.38699</td>\n      <td>214.88540</td>\n      <td>0.17677</td>\n      <td>0.07260</td>\n      <td>119.69340</td>\n      <td>0.36688</td>\n      <td>0.76822</td>\n    </tr>\n    <tr>\n      <td>50%</td>\n      <td>34.58058</td>\n      <td>382.14785</td>\n      <td>231.03200</td>\n      <td>3.00389</td>\n      <td>125.33640</td>\n      <td>0.45514</td>\n      <td>25.67022</td>\n      <td>14.89280</td>\n      <td>2.50389</td>\n      <td>35.83729</td>\n      <td>12.18893</td>\n      <td>443.75495</td>\n      <td>33.06036</td>\n      <td>9.85059</td>\n      <td>450.49465</td>\n      <td>0.54773</td>\n      <td>0.11704</td>\n      <td>415.07520</td>\n      <td>0.53920</td>\n      <td>2.56657</td>\n    </tr>\n    <tr>\n      <td>75%</td>\n      <td>45.81831</td>\n      <td>414.17195</td>\n      <td>255.51118</td>\n      <td>8.32624</td>\n      <td>140.67927</td>\n      <td>0.74923</td>\n      <td>28.39013</td>\n      <td>24.28613</td>\n      <td>3.60548</td>\n      <td>49.37852</td>\n      <td>21.50244</td>\n      <td>525.28398</td>\n      <td>37.59506</td>\n      <td>13.68141</td>\n      <td>821.03265</td>\n      <td>0.90868</td>\n      <td>0.18861</td>\n      <td>830.99608</td>\n      <td>0.72379</td>\n      <td>5.29234</td>\n    </tr>\n    <tr>\n      <td>max</td>\n      <td>275.62050</td>\n      <td>835.73660</td>\n      <td>520.69370</td>\n      <td>11.35139</td>\n      <td>252.11560</td>\n      <td>1.34991</td>\n      <td>57.85485</td>\n      <td>35.04619</td>\n      <td>4.74324</td>\n      <td>71.06262</td>\n      <td>31.27942</td>\n      <td>767.24800</td>\n      <td>61.89990</td>\n      <td>21.41816</td>\n      <td>1310.92200</td>\n      <td>3.44844</td>\n      <td>0.26951</td>\n      <td>953.94210</td>\n      <td>1.29291</td>\n      <td>9.42897</td>\n    </tr>\n  </tbody>\n</table>\n</div>",
      "text/plain": "name    Calcium  Calories  Calories from Fat  Carbohydrates  Cholesterol  \\\ncount  10.00000  10.00000           10.00000       10.00000     10.00000   \nmean   68.80492 447.48073          272.40118        4.59262    139.86272   \nstd    86.86750 177.52774          116.64413        4.32238     54.57713   \nmin    12.92700 327.29850          169.64450        0.00852     74.54200   \n25%    21.91103 337.58290          204.19575        0.99506    109.20473   \n50%    34.58058 382.14785          231.03200        3.00389    125.33640   \n75%    45.81831 414.17195          255.51118        8.32624    140.67927   \nmax   275.62050 835.73660          520.69370       11.35139    252.11560   \n\nname   Dietary Fiber      Fat   Folate     Iron  Magnesium  \\\ncount       10.00000 10.00000 10.00000 10.00000   10.00000   \nmean         0.54333 30.26680 18.43878  2.70670   39.27815   \nstd          0.43692 12.96046  9.33691  1.24197   15.62335   \nmin          0.00000 18.84939  7.90259  0.85171   16.81800   \n25%          0.19850 22.68842 12.24300  1.80970   28.98001   \n50%          0.45514 25.67022 14.89280  2.50389   35.83729   \n75%          0.74923 28.39013 24.28613  3.60548   49.37852   \nmax          1.34991 57.85485 35.04619  4.74324   71.06262   \n\nname   Niacin Equivalents  Potassium  Protein  Saturated Fat     Sodium  \\\ncount            10.00000   10.00000 10.00000       10.00000   10.00000   \nmean             15.33525  454.22718 36.67739       11.78398  541.76870   \nstd               8.34864  160.23708 13.68390        4.94432  433.19612   \nmin               4.50316  218.96800 18.92661        7.38248   49.39900   \n25%               9.99713  352.54700 30.34238        8.38699  214.88540   \n50%              12.18893  443.75495 33.06036        9.85059  450.49465   \n75%              21.50244  525.28398 37.59506       13.68141  821.03265   \nmax              31.27942  767.24800 61.89990       21.41816 1310.92200   \n\nname    Sugars  Thiamin  Vitamin A - IU  Vitamin B6  Vitamin C  \ncount 10.00000 10.00000        10.00000    10.00000   10.00000  \nmean   0.81067  0.12733       464.28478     0.60538    3.20152  \nstd    1.01743  0.08008       377.72088     0.34964    3.09538  \nmin    0.00852  0.00245         0.79300     0.20433    0.00000  \n25%    0.17677  0.07260       119.69340     0.36688    0.76822  \n50%    0.54773  0.11704       415.07520     0.53920    2.56657  \n75%    0.90868  0.18861       830.99608     0.72379    5.29234  \nmax    3.44844  0.26951       953.94210     1.29291    9.42897  "
     },
     "execution_count": 410,
     "metadata": {},
     "output_type": "execute_result"
    }
   ],
   "source": [
    "nutrition_top10_normal_short.describe()"
   ]
  },
  {
   "cell_type": "code",
   "execution_count": 411,
   "metadata": {},
   "outputs": [
    {
     "data": {
      "text/plain": "array([  8529,   8647,  15196,  16285,  22538,  26595,  60014,  93168,\n       103067, 222850])"
     },
     "execution_count": 411,
     "metadata": {},
     "output_type": "execute_result"
    }
   ],
   "source": [
    "nutrition_top10_normal_short.index.to_numpy()"
   ]
  },
  {
   "cell_type": "code",
   "execution_count": 412,
   "metadata": {},
   "outputs": [],
   "source": [
    "new_df = nutrition_top10_normal_short[['Calories', 'Calories from Fat', 'Carbohydrates', 'Fat', 'Saturated Fat', 'Protein', 'Calcium', 'Magnesium', 'Iron' ]]"
   ]
  },
  {
   "cell_type": "code",
   "execution_count": 450,
   "metadata": {},
   "outputs": [],
   "source": [
    "new_df = nutrition_top10_normal_short[['Calories', 'Carbohydrates', 'Fat', 'Protein', 'Calcium', 'Magnesium', 'Iron' ]]"
   ]
  },
  {
   "cell_type": "code",
   "execution_count": 451,
   "metadata": {},
   "outputs": [
    {
     "data": {
      "text/html": "<div>\n<style scoped>\n    .dataframe tbody tr th:only-of-type {\n        vertical-align: middle;\n    }\n\n    .dataframe tbody tr th {\n        vertical-align: top;\n    }\n\n    .dataframe thead th {\n        text-align: right;\n    }\n</style>\n<table border=\"1\" class=\"dataframe\">\n  <thead>\n    <tr style=\"text-align: right;\">\n      <th>name</th>\n      <th>Calories</th>\n      <th>Carbohydrates</th>\n      <th>Fat</th>\n      <th>Protein</th>\n      <th>Calcium</th>\n      <th>Magnesium</th>\n      <th>Iron</th>\n    </tr>\n  </thead>\n  <tbody>\n    <tr>\n      <td>count</td>\n      <td>10.00000</td>\n      <td>10.00000</td>\n      <td>10.00000</td>\n      <td>10.00000</td>\n      <td>10.00000</td>\n      <td>10.00000</td>\n      <td>10.00000</td>\n    </tr>\n    <tr>\n      <td>mean</td>\n      <td>447.48073</td>\n      <td>4.59262</td>\n      <td>30.26680</td>\n      <td>36.67739</td>\n      <td>68.80492</td>\n      <td>39.27815</td>\n      <td>2.70670</td>\n    </tr>\n    <tr>\n      <td>std</td>\n      <td>177.52774</td>\n      <td>4.32238</td>\n      <td>12.96046</td>\n      <td>13.68390</td>\n      <td>86.86750</td>\n      <td>15.62335</td>\n      <td>1.24197</td>\n    </tr>\n    <tr>\n      <td>min</td>\n      <td>327.29850</td>\n      <td>0.00852</td>\n      <td>18.84939</td>\n      <td>18.92661</td>\n      <td>12.92700</td>\n      <td>16.81800</td>\n      <td>0.85171</td>\n    </tr>\n    <tr>\n      <td>25%</td>\n      <td>337.58290</td>\n      <td>0.99506</td>\n      <td>22.68842</td>\n      <td>30.34238</td>\n      <td>21.91103</td>\n      <td>28.98001</td>\n      <td>1.80970</td>\n    </tr>\n    <tr>\n      <td>50%</td>\n      <td>382.14785</td>\n      <td>3.00389</td>\n      <td>25.67022</td>\n      <td>33.06036</td>\n      <td>34.58058</td>\n      <td>35.83729</td>\n      <td>2.50389</td>\n    </tr>\n    <tr>\n      <td>75%</td>\n      <td>414.17195</td>\n      <td>8.32624</td>\n      <td>28.39013</td>\n      <td>37.59506</td>\n      <td>45.81831</td>\n      <td>49.37852</td>\n      <td>3.60548</td>\n    </tr>\n    <tr>\n      <td>max</td>\n      <td>835.73660</td>\n      <td>11.35139</td>\n      <td>57.85485</td>\n      <td>61.89990</td>\n      <td>275.62050</td>\n      <td>71.06262</td>\n      <td>4.74324</td>\n    </tr>\n  </tbody>\n</table>\n</div>",
      "text/plain": "name   Calories  Carbohydrates      Fat  Protein   Calcium  Magnesium     Iron\ncount  10.00000       10.00000 10.00000 10.00000  10.00000   10.00000 10.00000\nmean  447.48073        4.59262 30.26680 36.67739  68.80492   39.27815  2.70670\nstd   177.52774        4.32238 12.96046 13.68390  86.86750   15.62335  1.24197\nmin   327.29850        0.00852 18.84939 18.92661  12.92700   16.81800  0.85171\n25%   337.58290        0.99506 22.68842 30.34238  21.91103   28.98001  1.80970\n50%   382.14785        3.00389 25.67022 33.06036  34.58058   35.83729  2.50389\n75%   414.17195        8.32624 28.39013 37.59506  45.81831   49.37852  3.60548\nmax   835.73660       11.35139 57.85485 61.89990 275.62050   71.06262  4.74324"
     },
     "execution_count": 451,
     "metadata": {},
     "output_type": "execute_result"
    }
   ],
   "source": [
    "new_df.describe()"
   ]
  },
  {
   "cell_type": "code",
   "execution_count": null,
   "metadata": {},
   "outputs": [],
   "source": []
  },
  {
   "cell_type": "code",
   "execution_count": null,
   "metadata": {},
   "outputs": [],
   "source": []
  },
  {
   "cell_type": "code",
   "execution_count": 414,
   "metadata": {},
   "outputs": [],
   "source": [
    "result_w_filter_normal_100_vector = result_w_filter_vector_10_normal[0:100].copy()\n",
    "result_w_filter_normal_100_vector['pos'] = np.arange(len(result_w_filter_normal_100_vector))\n",
    "result_w_filter_normal_100_vector = result_w_filter_normal_100_vector.reset_index()\n",
    "result_w_filter_normal_100_vector = result_w_filter_normal_100_vector.set_index('index')"
   ]
  },
  {
   "cell_type": "code",
   "execution_count": 415,
   "metadata": {},
   "outputs": [],
   "source": [
    "#  ------ Erstellung und cleansing des Nutrition Dataframes\n",
    "\n",
    "# erstelle neue liste auf basis der bereits gefilterten rezepte aus ingredients_filt\n",
    "id_overlap_mask = nutritions['id'].isin(result_w_filter_normal_100_vector.index.to_numpy())\n",
    "\n",
    "# erstelle datenframe auf basis der overlapliste\n",
    "nutritions_filt = nutritions.loc[id_overlap_mask]\n",
    "\n",
    "nutrition_normal_vector = nutritions_filt.pivot_table(\n",
    "    index=['id'],\n",
    "    columns=['name'],\n",
    "    values=['amount'],\n",
    ").reset_index()\n",
    "\n",
    "nutrition_normal_vector.set_index('id', inplace=True)\n",
    "\n",
    "# remove multiindex 'amount'\n",
    "nutrition_normal_vector.columns = nutrition_normal_vector.columns.droplevel(0)\n",
    "\n",
    "# entferne alle NA\n",
    "nutrition_normal_vector = nutrition_normal_vector.dropna()"
   ]
  },
  {
   "cell_type": "code",
   "execution_count": 416,
   "metadata": {},
   "outputs": [
    {
     "data": {
      "text/html": "<div>\n<style scoped>\n    .dataframe tbody tr th:only-of-type {\n        vertical-align: middle;\n    }\n\n    .dataframe tbody tr th {\n        vertical-align: top;\n    }\n\n    .dataframe thead th {\n        text-align: right;\n    }\n</style>\n<table border=\"1\" class=\"dataframe\">\n  <thead>\n    <tr style=\"text-align: right;\">\n      <th></th>\n      <th>euclid_distance_sum</th>\n    </tr>\n  </thead>\n  <tbody>\n    <tr>\n      <td>166292</td>\n      <td>1476.65340</td>\n    </tr>\n    <tr>\n      <td>228363</td>\n      <td>2280.15207</td>\n    </tr>\n    <tr>\n      <td>8529</td>\n      <td>2721.79205</td>\n    </tr>\n    <tr>\n      <td>87497</td>\n      <td>2850.20461</td>\n    </tr>\n    <tr>\n      <td>54839</td>\n      <td>3115.41086</td>\n    </tr>\n    <tr>\n      <td>83421</td>\n      <td>3305.17612</td>\n    </tr>\n    <tr>\n      <td>68860</td>\n      <td>3350.97467</td>\n    </tr>\n    <tr>\n      <td>20606</td>\n      <td>3420.04183</td>\n    </tr>\n    <tr>\n      <td>17496</td>\n      <td>3581.64293</td>\n    </tr>\n    <tr>\n      <td>223047</td>\n      <td>3631.94865</td>\n    </tr>\n  </tbody>\n</table>\n</div>",
      "text/plain": "        euclid_distance_sum\n166292           1476.65340\n228363           2280.15207\n8529             2721.79205\n87497            2850.20461\n54839            3115.41086\n83421            3305.17612\n68860            3350.97467\n20606            3420.04183\n17496            3581.64293\n223047           3631.94865"
     },
     "execution_count": 416,
     "metadata": {},
     "output_type": "execute_result"
    }
   ],
   "source": [
    "# euklidische distanz für nährwerte\n",
    "\n",
    "result_array = cdist(recommenden_nut_low_carb, nutrition_normal_vector, 'minkowski', p=2, w=weighted_carbs)\n",
    "euclid_distance = pd.DataFrame(\n",
    "    result_array, columns=nutrition_normal_vector.index.values, index=recommenden_nut_low_carb.index.values)\n",
    "\n",
    "euclid_distance_sum_normal_vector = pd.DataFrame(euclid_distance.sum(), columns=['euclid_distance_sum'])\n",
    "euclid_distance_sum_normal_vector = euclid_distance_sum_normal_vector.sort_values(by='euclid_distance_sum')\n",
    "euclid_distance_sum_normal_vector[0:10]"
   ]
  },
  {
   "cell_type": "code",
   "execution_count": 417,
   "metadata": {},
   "outputs": [],
   "source": [
    "#  ------ Erstellung und cleansing des Nutrition Dataframes\n",
    "\n",
    "# erstelle neue liste auf basis der bereits gefilterten rezepte aus ingredients_filt\n",
    "id_overlap_mask = nutritions['id'].isin(euclid_distance_sum_normal_vector[0:10].index.to_numpy())\n",
    "\n",
    "# erstelle datenframe auf basis der overlapliste\n",
    "nutritions_filt = nutritions.loc[id_overlap_mask]\n",
    "\n",
    "nutrition_top10_normal_vector = nutritions_filt.pivot_table(\n",
    "    index=['id'],\n",
    "    columns=['name'],\n",
    "    values=['amount'],\n",
    ").reset_index()\n",
    "\n",
    "nutrition_top10_normal_vector.set_index('id', inplace=True)\n",
    "\n",
    "# remove multiindex 'amount'\n",
    "nutrition_top10_normal_vector.columns = nutrition_top10_normal_vector.columns.droplevel(0)\n",
    "\n",
    "# entferne alle NA\n",
    "nutrition_top10_normal_vector = nutrition_top10_normal_vector.dropna()"
   ]
  },
  {
   "cell_type": "code",
   "execution_count": 418,
   "metadata": {},
   "outputs": [
    {
     "data": {
      "text/html": "<div>\n<style scoped>\n    .dataframe tbody tr th:only-of-type {\n        vertical-align: middle;\n    }\n\n    .dataframe tbody tr th {\n        vertical-align: top;\n    }\n\n    .dataframe thead th {\n        text-align: right;\n    }\n</style>\n<table border=\"1\" class=\"dataframe\">\n  <thead>\n    <tr style=\"text-align: right;\">\n      <th>name</th>\n      <th>Calcium</th>\n      <th>Calories</th>\n      <th>Calories from Fat</th>\n      <th>Carbohydrates</th>\n      <th>Cholesterol</th>\n      <th>Dietary Fiber</th>\n      <th>Fat</th>\n      <th>Folate</th>\n      <th>Iron</th>\n      <th>Magnesium</th>\n      <th>Niacin Equivalents</th>\n      <th>Potassium</th>\n      <th>Protein</th>\n      <th>Saturated Fat</th>\n      <th>Sodium</th>\n      <th>Sugars</th>\n      <th>Thiamin</th>\n      <th>Vitamin A - IU</th>\n      <th>Vitamin B6</th>\n      <th>Vitamin C</th>\n    </tr>\n  </thead>\n  <tbody>\n    <tr>\n      <td>count</td>\n      <td>10.00000</td>\n      <td>10.00000</td>\n      <td>10.00000</td>\n      <td>10.00000</td>\n      <td>10.00000</td>\n      <td>10.00000</td>\n      <td>10.00000</td>\n      <td>10.00000</td>\n      <td>10.00000</td>\n      <td>10.00000</td>\n      <td>10.00000</td>\n      <td>10.00000</td>\n      <td>10.00000</td>\n      <td>10.00000</td>\n      <td>10.00000</td>\n      <td>10.00000</td>\n      <td>10.00000</td>\n      <td>10.00000</td>\n      <td>10.00000</td>\n      <td>10.00000</td>\n    </tr>\n    <tr>\n      <td>mean</td>\n      <td>58.25634</td>\n      <td>460.14029</td>\n      <td>287.45059</td>\n      <td>7.16126</td>\n      <td>124.91453</td>\n      <td>0.89356</td>\n      <td>31.93895</td>\n      <td>23.30154</td>\n      <td>2.65780</td>\n      <td>43.33581</td>\n      <td>14.69293</td>\n      <td>516.83587</td>\n      <td>33.87165</td>\n      <td>9.97761</td>\n      <td>535.62256</td>\n      <td>3.15896</td>\n      <td>0.32511</td>\n      <td>743.66754</td>\n      <td>0.64256</td>\n      <td>12.10611</td>\n    </tr>\n    <tr>\n      <td>std</td>\n      <td>52.39662</td>\n      <td>168.32816</td>\n      <td>128.14339</td>\n      <td>4.55408</td>\n      <td>63.65503</td>\n      <td>0.39959</td>\n      <td>14.23815</td>\n      <td>17.12503</td>\n      <td>1.47214</td>\n      <td>18.81300</td>\n      <td>7.15917</td>\n      <td>240.62088</td>\n      <td>12.43708</td>\n      <td>5.33965</td>\n      <td>330.02773</td>\n      <td>3.06189</td>\n      <td>0.39029</td>\n      <td>388.97786</td>\n      <td>0.34912</td>\n      <td>13.78661</td>\n    </tr>\n    <tr>\n      <td>min</td>\n      <td>23.03594</td>\n      <td>260.37730</td>\n      <td>140.96870</td>\n      <td>1.62752</td>\n      <td>38.74166</td>\n      <td>0.34361</td>\n      <td>15.66319</td>\n      <td>3.34426</td>\n      <td>0.93527</td>\n      <td>18.25972</td>\n      <td>6.15597</td>\n      <td>163.22680</td>\n      <td>16.05327</td>\n      <td>3.62848</td>\n      <td>107.24730</td>\n      <td>0.34573</td>\n      <td>0.04188</td>\n      <td>164.91330</td>\n      <td>0.11614</td>\n      <td>0.32614</td>\n    </tr>\n    <tr>\n      <td>25%</td>\n      <td>24.79795</td>\n      <td>343.69515</td>\n      <td>193.18020</td>\n      <td>3.22905</td>\n      <td>90.97250</td>\n      <td>0.75806</td>\n      <td>21.46447</td>\n      <td>12.88401</td>\n      <td>1.75519</td>\n      <td>27.87755</td>\n      <td>9.75177</td>\n      <td>386.66352</td>\n      <td>23.55742</td>\n      <td>6.19428</td>\n      <td>393.16147</td>\n      <td>1.05003</td>\n      <td>0.11545</td>\n      <td>482.58132</td>\n      <td>0.35945</td>\n      <td>1.89688</td>\n    </tr>\n    <tr>\n      <td>50%</td>\n      <td>30.76448</td>\n      <td>435.63765</td>\n      <td>260.15070</td>\n      <td>7.31095</td>\n      <td>119.87350</td>\n      <td>0.84504</td>\n      <td>28.90564</td>\n      <td>14.45852</td>\n      <td>2.22705</td>\n      <td>42.00024</td>\n      <td>13.23853</td>\n      <td>489.73535</td>\n      <td>35.84529</td>\n      <td>8.55771</td>\n      <td>451.62405</td>\n      <td>1.54642</td>\n      <td>0.14386</td>\n      <td>728.85060</td>\n      <td>0.67594</td>\n      <td>6.69192</td>\n    </tr>\n    <tr>\n      <td>75%</td>\n      <td>82.08885</td>\n      <td>540.10740</td>\n      <td>336.57962</td>\n      <td>10.46850</td>\n      <td>128.64170</td>\n      <td>1.08796</td>\n      <td>37.39774</td>\n      <td>34.97927</td>\n      <td>3.43663</td>\n      <td>58.27775</td>\n      <td>17.17041</td>\n      <td>657.37970</td>\n      <td>40.21294</td>\n      <td>12.92636</td>\n      <td>612.02082</td>\n      <td>6.07483</td>\n      <td>0.33072</td>\n      <td>922.42015</td>\n      <td>0.83480</td>\n      <td>17.51722</td>\n    </tr>\n    <tr>\n      <td>max</td>\n      <td>177.34570</td>\n      <td>835.73660</td>\n      <td>520.69370</td>\n      <td>14.76202</td>\n      <td>252.11560</td>\n      <td>1.74117</td>\n      <td>57.85485</td>\n      <td>57.63073</td>\n      <td>5.25145</td>\n      <td>71.06262</td>\n      <td>31.27942</td>\n      <td>915.80730</td>\n      <td>58.66879</td>\n      <td>21.41816</td>\n      <td>1115.72300</td>\n      <td>7.65177</td>\n      <td>1.31760</td>\n      <td>1349.64700</td>\n      <td>1.16962</td>\n      <td>37.63184</td>\n    </tr>\n  </tbody>\n</table>\n</div>",
      "text/plain": "name    Calcium  Calories  Calories from Fat  Carbohydrates  Cholesterol  \\\ncount  10.00000  10.00000           10.00000       10.00000     10.00000   \nmean   58.25634 460.14029          287.45059        7.16126    124.91453   \nstd    52.39662 168.32816          128.14339        4.55408     63.65503   \nmin    23.03594 260.37730          140.96870        1.62752     38.74166   \n25%    24.79795 343.69515          193.18020        3.22905     90.97250   \n50%    30.76448 435.63765          260.15070        7.31095    119.87350   \n75%    82.08885 540.10740          336.57962       10.46850    128.64170   \nmax   177.34570 835.73660          520.69370       14.76202    252.11560   \n\nname   Dietary Fiber      Fat   Folate     Iron  Magnesium  \\\ncount       10.00000 10.00000 10.00000 10.00000   10.00000   \nmean         0.89356 31.93895 23.30154  2.65780   43.33581   \nstd          0.39959 14.23815 17.12503  1.47214   18.81300   \nmin          0.34361 15.66319  3.34426  0.93527   18.25972   \n25%          0.75806 21.46447 12.88401  1.75519   27.87755   \n50%          0.84504 28.90564 14.45852  2.22705   42.00024   \n75%          1.08796 37.39774 34.97927  3.43663   58.27775   \nmax          1.74117 57.85485 57.63073  5.25145   71.06262   \n\nname   Niacin Equivalents  Potassium  Protein  Saturated Fat     Sodium  \\\ncount            10.00000   10.00000 10.00000       10.00000   10.00000   \nmean             14.69293  516.83587 33.87165        9.97761  535.62256   \nstd               7.15917  240.62088 12.43708        5.33965  330.02773   \nmin               6.15597  163.22680 16.05327        3.62848  107.24730   \n25%               9.75177  386.66352 23.55742        6.19428  393.16147   \n50%              13.23853  489.73535 35.84529        8.55771  451.62405   \n75%              17.17041  657.37970 40.21294       12.92636  612.02082   \nmax              31.27942  915.80730 58.66879       21.41816 1115.72300   \n\nname    Sugars  Thiamin  Vitamin A - IU  Vitamin B6  Vitamin C  \ncount 10.00000 10.00000        10.00000    10.00000   10.00000  \nmean   3.15896  0.32511       743.66754     0.64256   12.10611  \nstd    3.06189  0.39029       388.97786     0.34912   13.78661  \nmin    0.34573  0.04188       164.91330     0.11614    0.32614  \n25%    1.05003  0.11545       482.58132     0.35945    1.89688  \n50%    1.54642  0.14386       728.85060     0.67594    6.69192  \n75%    6.07483  0.33072       922.42015     0.83480   17.51722  \nmax    7.65177  1.31760      1349.64700     1.16962   37.63184  "
     },
     "execution_count": 418,
     "metadata": {},
     "output_type": "execute_result"
    }
   ],
   "source": [
    "nutrition_top10_normal_vector.describe()"
   ]
  },
  {
   "cell_type": "code",
   "execution_count": 419,
   "metadata": {},
   "outputs": [
    {
     "data": {
      "text/plain": "array([  8529,  17496,  20606,  54839,  68860,  83421,  87497, 166292,\n       223047, 228363])"
     },
     "execution_count": 419,
     "metadata": {},
     "output_type": "execute_result"
    }
   ],
   "source": [
    "nutrition_top10_normal_vector.index.to_numpy()"
   ]
  },
  {
   "cell_type": "code",
   "execution_count": 420,
   "metadata": {},
   "outputs": [],
   "source": [
    "new_df = nutrition_top10_normal_vector[['Calories', 'Calories from Fat', 'Carbohydrates', 'Fat', 'Saturated Fat', 'Protein', 'Calcium', 'Magnesium', 'Iron' ]]"
   ]
  },
  {
   "cell_type": "code",
   "execution_count": 452,
   "metadata": {},
   "outputs": [],
   "source": [
    "new_df = nutrition_top10_normal_vector[['Calories', 'Carbohydrates', 'Fat', 'Protein', 'Calcium', 'Magnesium', 'Iron' ]]"
   ]
  },
  {
   "cell_type": "code",
   "execution_count": 453,
   "metadata": {},
   "outputs": [
    {
     "data": {
      "text/html": "<div>\n<style scoped>\n    .dataframe tbody tr th:only-of-type {\n        vertical-align: middle;\n    }\n\n    .dataframe tbody tr th {\n        vertical-align: top;\n    }\n\n    .dataframe thead th {\n        text-align: right;\n    }\n</style>\n<table border=\"1\" class=\"dataframe\">\n  <thead>\n    <tr style=\"text-align: right;\">\n      <th>name</th>\n      <th>Calories</th>\n      <th>Carbohydrates</th>\n      <th>Fat</th>\n      <th>Protein</th>\n      <th>Calcium</th>\n      <th>Magnesium</th>\n      <th>Iron</th>\n    </tr>\n  </thead>\n  <tbody>\n    <tr>\n      <td>count</td>\n      <td>10.00000</td>\n      <td>10.00000</td>\n      <td>10.00000</td>\n      <td>10.00000</td>\n      <td>10.00000</td>\n      <td>10.00000</td>\n      <td>10.00000</td>\n    </tr>\n    <tr>\n      <td>mean</td>\n      <td>460.14029</td>\n      <td>7.16126</td>\n      <td>31.93895</td>\n      <td>33.87165</td>\n      <td>58.25634</td>\n      <td>43.33581</td>\n      <td>2.65780</td>\n    </tr>\n    <tr>\n      <td>std</td>\n      <td>168.32816</td>\n      <td>4.55408</td>\n      <td>14.23815</td>\n      <td>12.43708</td>\n      <td>52.39662</td>\n      <td>18.81300</td>\n      <td>1.47214</td>\n    </tr>\n    <tr>\n      <td>min</td>\n      <td>260.37730</td>\n      <td>1.62752</td>\n      <td>15.66319</td>\n      <td>16.05327</td>\n      <td>23.03594</td>\n      <td>18.25972</td>\n      <td>0.93527</td>\n    </tr>\n    <tr>\n      <td>25%</td>\n      <td>343.69515</td>\n      <td>3.22905</td>\n      <td>21.46447</td>\n      <td>23.55742</td>\n      <td>24.79795</td>\n      <td>27.87755</td>\n      <td>1.75519</td>\n    </tr>\n    <tr>\n      <td>50%</td>\n      <td>435.63765</td>\n      <td>7.31095</td>\n      <td>28.90564</td>\n      <td>35.84529</td>\n      <td>30.76448</td>\n      <td>42.00024</td>\n      <td>2.22705</td>\n    </tr>\n    <tr>\n      <td>75%</td>\n      <td>540.10740</td>\n      <td>10.46850</td>\n      <td>37.39774</td>\n      <td>40.21294</td>\n      <td>82.08885</td>\n      <td>58.27775</td>\n      <td>3.43663</td>\n    </tr>\n    <tr>\n      <td>max</td>\n      <td>835.73660</td>\n      <td>14.76202</td>\n      <td>57.85485</td>\n      <td>58.66879</td>\n      <td>177.34570</td>\n      <td>71.06262</td>\n      <td>5.25145</td>\n    </tr>\n  </tbody>\n</table>\n</div>",
      "text/plain": "name   Calories  Carbohydrates      Fat  Protein   Calcium  Magnesium     Iron\ncount  10.00000       10.00000 10.00000 10.00000  10.00000   10.00000 10.00000\nmean  460.14029        7.16126 31.93895 33.87165  58.25634   43.33581  2.65780\nstd   168.32816        4.55408 14.23815 12.43708  52.39662   18.81300  1.47214\nmin   260.37730        1.62752 15.66319 16.05327  23.03594   18.25972  0.93527\n25%   343.69515        3.22905 21.46447 23.55742  24.79795   27.87755  1.75519\n50%   435.63765        7.31095 28.90564 35.84529  30.76448   42.00024  2.22705\n75%   540.10740       10.46850 37.39774 40.21294  82.08885   58.27775  3.43663\nmax   835.73660       14.76202 57.85485 58.66879 177.34570   71.06262  5.25145"
     },
     "execution_count": 453,
     "metadata": {},
     "output_type": "execute_result"
    }
   ],
   "source": [
    "new_df.describe()"
   ]
  },
  {
   "cell_type": "code",
   "execution_count": null,
   "metadata": {},
   "outputs": [],
   "source": []
  },
  {
   "cell_type": "code",
   "execution_count": null,
   "metadata": {},
   "outputs": [],
   "source": []
  },
  {
   "cell_type": "code",
   "execution_count": null,
   "metadata": {},
   "outputs": [],
   "source": []
  },
  {
   "cell_type": "code",
   "execution_count": 422,
   "metadata": {},
   "outputs": [],
   "source": [
    "#  ------ Erstellung und cleansing des Nutrition Dataframes\n",
    "\n",
    "# erstelle neue liste auf basis der bereits gefilterten rezepte aus ingredients_filt\n",
    "id_overlap_mask = nutritions['id'].isin(result_w_filter_10_normal.index.to_numpy())\n",
    "\n",
    "# erstelle datenframe auf basis der overlapliste\n",
    "nutritions_filt = nutritions.loc[id_overlap_mask]\n",
    "\n",
    "random_nut_normal_naiv = nutritions_filt.pivot_table(\n",
    "    index=['id'],\n",
    "    columns=['name'],\n",
    "    values=['amount'],\n",
    ").reset_index()\n",
    "\n",
    "random_nut_normal_naiv.set_index('id', inplace=True)\n",
    "\n",
    "# remove multiindex 'amount'\n",
    "random_nut_normal_naiv.columns = random_nut_normal_naiv.columns.droplevel(0)\n",
    "\n",
    "# entferne alle NA\n",
    "random_nut_normal_naiv = random_nut_normal_naiv.dropna()\n"
   ]
  },
  {
   "cell_type": "code",
   "execution_count": 423,
   "metadata": {},
   "outputs": [],
   "source": [
    "asd = random_nut_normal_naiv.sort_values(by='Carbohydrates')"
   ]
  },
  {
   "cell_type": "code",
   "execution_count": 424,
   "metadata": {},
   "outputs": [
    {
     "data": {
      "text/html": "<div>\n<style scoped>\n    .dataframe tbody tr th:only-of-type {\n        vertical-align: middle;\n    }\n\n    .dataframe tbody tr th {\n        vertical-align: top;\n    }\n\n    .dataframe thead th {\n        text-align: right;\n    }\n</style>\n<table border=\"1\" class=\"dataframe\">\n  <thead>\n    <tr style=\"text-align: right;\">\n      <th>name</th>\n      <th>Calcium</th>\n      <th>Calories</th>\n      <th>Calories from Fat</th>\n      <th>Carbohydrates</th>\n      <th>Cholesterol</th>\n      <th>Dietary Fiber</th>\n      <th>Fat</th>\n      <th>Folate</th>\n      <th>Iron</th>\n      <th>Magnesium</th>\n      <th>Niacin Equivalents</th>\n      <th>Potassium</th>\n      <th>Protein</th>\n      <th>Saturated Fat</th>\n      <th>Sodium</th>\n      <th>Sugars</th>\n      <th>Thiamin</th>\n      <th>Vitamin A - IU</th>\n      <th>Vitamin B6</th>\n      <th>Vitamin C</th>\n    </tr>\n  </thead>\n  <tbody>\n    <tr>\n      <td>count</td>\n      <td>10.00000</td>\n      <td>10.00000</td>\n      <td>10.00000</td>\n      <td>10.00000</td>\n      <td>10.00000</td>\n      <td>10.00000</td>\n      <td>10.00000</td>\n      <td>10.00000</td>\n      <td>10.00000</td>\n      <td>10.00000</td>\n      <td>10.00000</td>\n      <td>10.00000</td>\n      <td>10.00000</td>\n      <td>10.00000</td>\n      <td>10.00000</td>\n      <td>10.00000</td>\n      <td>10.00000</td>\n      <td>10.00000</td>\n      <td>10.00000</td>\n      <td>10.00000</td>\n    </tr>\n    <tr>\n      <td>mean</td>\n      <td>28.44493</td>\n      <td>331.86876</td>\n      <td>176.97565</td>\n      <td>0.05063</td>\n      <td>114.70602</td>\n      <td>0.01441</td>\n      <td>19.66396</td>\n      <td>8.42683</td>\n      <td>4.36869</td>\n      <td>36.17567</td>\n      <td>15.46108</td>\n      <td>402.99730</td>\n      <td>36.39433</td>\n      <td>6.78872</td>\n      <td>405.11665</td>\n      <td>0.01560</td>\n      <td>0.23332</td>\n      <td>155.01973</td>\n      <td>0.62126</td>\n      <td>0.24158</td>\n    </tr>\n    <tr>\n      <td>std</td>\n      <td>20.62043</td>\n      <td>175.52979</td>\n      <td>107.73843</td>\n      <td>0.06518</td>\n      <td>61.25709</td>\n      <td>0.02899</td>\n      <td>11.97093</td>\n      <td>6.59899</td>\n      <td>4.90920</td>\n      <td>15.28027</td>\n      <td>6.40235</td>\n      <td>204.26726</td>\n      <td>18.57905</td>\n      <td>5.00701</td>\n      <td>425.08680</td>\n      <td>0.03643</td>\n      <td>0.27807</td>\n      <td>186.02701</td>\n      <td>0.33419</td>\n      <td>0.47315</td>\n    </tr>\n    <tr>\n      <td>min</td>\n      <td>5.95000</td>\n      <td>190.55750</td>\n      <td>86.22270</td>\n      <td>0.00000</td>\n      <td>67.15000</td>\n      <td>0.00000</td>\n      <td>9.58030</td>\n      <td>1.98500</td>\n      <td>0.79819</td>\n      <td>18.82775</td>\n      <td>7.12442</td>\n      <td>198.08500</td>\n      <td>22.98380</td>\n      <td>1.72994</td>\n      <td>58.50833</td>\n      <td>0.00000</td>\n      <td>0.05391</td>\n      <td>0.00000</td>\n      <td>0.23219</td>\n      <td>0.00000</td>\n    </tr>\n    <tr>\n      <td>25%</td>\n      <td>14.04347</td>\n      <td>227.09988</td>\n      <td>117.34180</td>\n      <td>0.00497</td>\n      <td>71.74249</td>\n      <td>0.00000</td>\n      <td>13.03798</td>\n      <td>3.82825</td>\n      <td>1.34672</td>\n      <td>22.70406</td>\n      <td>9.58787</td>\n      <td>238.43688</td>\n      <td>23.90248</td>\n      <td>4.07090</td>\n      <td>160.13387</td>\n      <td>0.00000</td>\n      <td>0.06140</td>\n      <td>6.94487</td>\n      <td>0.37442</td>\n      <td>0.00000</td>\n    </tr>\n    <tr>\n      <td>50%</td>\n      <td>18.70479</td>\n      <td>236.20300</td>\n      <td>131.50655</td>\n      <td>0.01220</td>\n      <td>83.84475</td>\n      <td>0.00000</td>\n      <td>14.61184</td>\n      <td>5.51012</td>\n      <td>2.88077</td>\n      <td>33.84019</td>\n      <td>15.31916</td>\n      <td>350.73045</td>\n      <td>26.22061</td>\n      <td>5.61383</td>\n      <td>202.23240</td>\n      <td>0.00360</td>\n      <td>0.10425</td>\n      <td>76.44315</td>\n      <td>0.51540</td>\n      <td>0.02083</td>\n    </tr>\n    <tr>\n      <td>75%</td>\n      <td>43.72512</td>\n      <td>412.58407</td>\n      <td>190.61260</td>\n      <td>0.08467</td>\n      <td>157.77746</td>\n      <td>0.01425</td>\n      <td>21.17918</td>\n      <td>13.34584</td>\n      <td>4.15801</td>\n      <td>49.74599</td>\n      <td>21.32081</td>\n      <td>548.35560</td>\n      <td>52.77548</td>\n      <td>7.78108</td>\n      <td>598.24150</td>\n      <td>0.00852</td>\n      <td>0.23585</td>\n      <td>305.53745</td>\n      <td>0.83336</td>\n      <td>0.12693</td>\n    </tr>\n    <tr>\n      <td>max</td>\n      <td>63.28278</td>\n      <td>710.57900</td>\n      <td>450.46280</td>\n      <td>0.16583</td>\n      <td>218.69000</td>\n      <td>0.08948</td>\n      <td>50.05142</td>\n      <td>20.58600</td>\n      <td>16.53440</td>\n      <td>59.27167</td>\n      <td>24.10592</td>\n      <td>767.24800</td>\n      <td>66.38522</td>\n      <td>19.09217</td>\n      <td>1418.20600</td>\n      <td>0.11844</td>\n      <td>0.84263</td>\n      <td>494.72760</td>\n      <td>1.29291</td>\n      <td>1.44434</td>\n    </tr>\n  </tbody>\n</table>\n</div>",
      "text/plain": "name   Calcium  Calories  Calories from Fat  Carbohydrates  Cholesterol  \\\ncount 10.00000  10.00000           10.00000       10.00000     10.00000   \nmean  28.44493 331.86876          176.97565        0.05063    114.70602   \nstd   20.62043 175.52979          107.73843        0.06518     61.25709   \nmin    5.95000 190.55750           86.22270        0.00000     67.15000   \n25%   14.04347 227.09988          117.34180        0.00497     71.74249   \n50%   18.70479 236.20300          131.50655        0.01220     83.84475   \n75%   43.72512 412.58407          190.61260        0.08467    157.77746   \nmax   63.28278 710.57900          450.46280        0.16583    218.69000   \n\nname   Dietary Fiber      Fat   Folate     Iron  Magnesium  \\\ncount       10.00000 10.00000 10.00000 10.00000   10.00000   \nmean         0.01441 19.66396  8.42683  4.36869   36.17567   \nstd          0.02899 11.97093  6.59899  4.90920   15.28027   \nmin          0.00000  9.58030  1.98500  0.79819   18.82775   \n25%          0.00000 13.03798  3.82825  1.34672   22.70406   \n50%          0.00000 14.61184  5.51012  2.88077   33.84019   \n75%          0.01425 21.17918 13.34584  4.15801   49.74599   \nmax          0.08948 50.05142 20.58600 16.53440   59.27167   \n\nname   Niacin Equivalents  Potassium  Protein  Saturated Fat     Sodium  \\\ncount            10.00000   10.00000 10.00000       10.00000   10.00000   \nmean             15.46108  402.99730 36.39433        6.78872  405.11665   \nstd               6.40235  204.26726 18.57905        5.00701  425.08680   \nmin               7.12442  198.08500 22.98380        1.72994   58.50833   \n25%               9.58787  238.43688 23.90248        4.07090  160.13387   \n50%              15.31916  350.73045 26.22061        5.61383  202.23240   \n75%              21.32081  548.35560 52.77548        7.78108  598.24150   \nmax              24.10592  767.24800 66.38522       19.09217 1418.20600   \n\nname    Sugars  Thiamin  Vitamin A - IU  Vitamin B6  Vitamin C  \ncount 10.00000 10.00000        10.00000    10.00000   10.00000  \nmean   0.01560  0.23332       155.01973     0.62126    0.24158  \nstd    0.03643  0.27807       186.02701     0.33419    0.47315  \nmin    0.00000  0.05391         0.00000     0.23219    0.00000  \n25%    0.00000  0.06140         6.94487     0.37442    0.00000  \n50%    0.00360  0.10425        76.44315     0.51540    0.02083  \n75%    0.00852  0.23585       305.53745     0.83336    0.12693  \nmax    0.11844  0.84263       494.72760     1.29291    1.44434  "
     },
     "execution_count": 424,
     "metadata": {},
     "output_type": "execute_result"
    }
   ],
   "source": [
    "asd[0:10].describe()"
   ]
  },
  {
   "cell_type": "code",
   "execution_count": 425,
   "metadata": {},
   "outputs": [],
   "source": [
    "random_nut_normal = nutrition_db2.sort_values(by='Carbohydrates')"
   ]
  },
  {
   "cell_type": "code",
   "execution_count": 426,
   "metadata": {},
   "outputs": [
    {
     "data": {
      "text/plain": "array([ 94113,  24035,  21422, 239137,  26595,  25147,  13662, 240208,\n         8690,  21749])"
     },
     "execution_count": 426,
     "metadata": {},
     "output_type": "execute_result"
    }
   ],
   "source": [
    "random_nut_normal[0:10].index.to_numpy()"
   ]
  },
  {
   "cell_type": "code",
   "execution_count": 427,
   "metadata": {},
   "outputs": [],
   "source": [
    "#  ------ Erstellung und cleansing des Nutrition Dataframes\n",
    "\n",
    "# erstelle neue liste auf basis der bereits gefilterten rezepte aus ingredients_filt\n",
    "id_overlap_mask = nutritions['id'].isin(random_nut_normal[0:10].index.to_numpy())\n",
    "\n",
    "# erstelle datenframe auf basis der overlapliste\n",
    "nutritions_filt = nutritions.loc[id_overlap_mask]\n",
    "\n",
    "random_nut_normal = nutritions_filt.pivot_table(\n",
    "    index=['id'],\n",
    "    columns=['name'],\n",
    "    values=['amount'],\n",
    ").reset_index()\n",
    "\n",
    "random_nut_normal.set_index('id', inplace=True)\n",
    "\n",
    "# remove multiindex 'amount'\n",
    "random_nut_normal.columns = random_nut_normal.columns.droplevel(0)\n",
    "\n",
    "# entferne alle NA\n",
    "random_nut_normal = random_nut_normal.dropna()"
   ]
  },
  {
   "cell_type": "code",
   "execution_count": 428,
   "metadata": {},
   "outputs": [
    {
     "data": {
      "text/html": "<div>\n<style scoped>\n    .dataframe tbody tr th:only-of-type {\n        vertical-align: middle;\n    }\n\n    .dataframe tbody tr th {\n        vertical-align: top;\n    }\n\n    .dataframe thead th {\n        text-align: right;\n    }\n</style>\n<table border=\"1\" class=\"dataframe\">\n  <thead>\n    <tr style=\"text-align: right;\">\n      <th>name</th>\n      <th>Calcium</th>\n      <th>Calories</th>\n      <th>Calories from Fat</th>\n      <th>Carbohydrates</th>\n      <th>Cholesterol</th>\n      <th>Dietary Fiber</th>\n      <th>Fat</th>\n      <th>Folate</th>\n      <th>Iron</th>\n      <th>Magnesium</th>\n      <th>Niacin Equivalents</th>\n      <th>Potassium</th>\n      <th>Protein</th>\n      <th>Saturated Fat</th>\n      <th>Sodium</th>\n      <th>Sugars</th>\n      <th>Thiamin</th>\n      <th>Vitamin A - IU</th>\n      <th>Vitamin B6</th>\n      <th>Vitamin C</th>\n    </tr>\n  </thead>\n  <tbody>\n    <tr>\n      <td>count</td>\n      <td>10.00000</td>\n      <td>10.00000</td>\n      <td>10.00000</td>\n      <td>10.00000</td>\n      <td>10.00000</td>\n      <td>10.00000</td>\n      <td>10.00000</td>\n      <td>10.00000</td>\n      <td>10.00000</td>\n      <td>10.00000</td>\n      <td>10.00000</td>\n      <td>10.00000</td>\n      <td>10.00000</td>\n      <td>10.00000</td>\n      <td>10.00000</td>\n      <td>10.00000</td>\n      <td>10.00000</td>\n      <td>10.00000</td>\n      <td>10.00000</td>\n      <td>10.00000</td>\n    </tr>\n    <tr>\n      <td>mean</td>\n      <td>28.44493</td>\n      <td>331.86876</td>\n      <td>176.97565</td>\n      <td>0.05063</td>\n      <td>114.70602</td>\n      <td>0.01441</td>\n      <td>19.66396</td>\n      <td>8.42683</td>\n      <td>4.36869</td>\n      <td>36.17567</td>\n      <td>15.46108</td>\n      <td>402.99730</td>\n      <td>36.39433</td>\n      <td>6.78872</td>\n      <td>405.11665</td>\n      <td>0.01560</td>\n      <td>0.23332</td>\n      <td>155.01973</td>\n      <td>0.62126</td>\n      <td>0.24158</td>\n    </tr>\n    <tr>\n      <td>std</td>\n      <td>20.62043</td>\n      <td>175.52979</td>\n      <td>107.73843</td>\n      <td>0.06518</td>\n      <td>61.25709</td>\n      <td>0.02899</td>\n      <td>11.97093</td>\n      <td>6.59899</td>\n      <td>4.90920</td>\n      <td>15.28027</td>\n      <td>6.40235</td>\n      <td>204.26726</td>\n      <td>18.57905</td>\n      <td>5.00701</td>\n      <td>425.08680</td>\n      <td>0.03643</td>\n      <td>0.27807</td>\n      <td>186.02701</td>\n      <td>0.33419</td>\n      <td>0.47315</td>\n    </tr>\n    <tr>\n      <td>min</td>\n      <td>5.95000</td>\n      <td>190.55750</td>\n      <td>86.22270</td>\n      <td>0.00000</td>\n      <td>67.15000</td>\n      <td>0.00000</td>\n      <td>9.58030</td>\n      <td>1.98500</td>\n      <td>0.79819</td>\n      <td>18.82775</td>\n      <td>7.12442</td>\n      <td>198.08500</td>\n      <td>22.98380</td>\n      <td>1.72994</td>\n      <td>58.50833</td>\n      <td>0.00000</td>\n      <td>0.05391</td>\n      <td>0.00000</td>\n      <td>0.23219</td>\n      <td>0.00000</td>\n    </tr>\n    <tr>\n      <td>25%</td>\n      <td>14.04347</td>\n      <td>227.09988</td>\n      <td>117.34180</td>\n      <td>0.00497</td>\n      <td>71.74249</td>\n      <td>0.00000</td>\n      <td>13.03798</td>\n      <td>3.82825</td>\n      <td>1.34672</td>\n      <td>22.70406</td>\n      <td>9.58787</td>\n      <td>238.43688</td>\n      <td>23.90248</td>\n      <td>4.07090</td>\n      <td>160.13387</td>\n      <td>0.00000</td>\n      <td>0.06140</td>\n      <td>6.94487</td>\n      <td>0.37442</td>\n      <td>0.00000</td>\n    </tr>\n    <tr>\n      <td>50%</td>\n      <td>18.70479</td>\n      <td>236.20300</td>\n      <td>131.50655</td>\n      <td>0.01220</td>\n      <td>83.84475</td>\n      <td>0.00000</td>\n      <td>14.61184</td>\n      <td>5.51012</td>\n      <td>2.88077</td>\n      <td>33.84019</td>\n      <td>15.31916</td>\n      <td>350.73045</td>\n      <td>26.22061</td>\n      <td>5.61383</td>\n      <td>202.23240</td>\n      <td>0.00360</td>\n      <td>0.10425</td>\n      <td>76.44315</td>\n      <td>0.51540</td>\n      <td>0.02083</td>\n    </tr>\n    <tr>\n      <td>75%</td>\n      <td>43.72512</td>\n      <td>412.58407</td>\n      <td>190.61260</td>\n      <td>0.08467</td>\n      <td>157.77746</td>\n      <td>0.01425</td>\n      <td>21.17918</td>\n      <td>13.34584</td>\n      <td>4.15801</td>\n      <td>49.74599</td>\n      <td>21.32081</td>\n      <td>548.35560</td>\n      <td>52.77548</td>\n      <td>7.78108</td>\n      <td>598.24150</td>\n      <td>0.00852</td>\n      <td>0.23585</td>\n      <td>305.53745</td>\n      <td>0.83336</td>\n      <td>0.12693</td>\n    </tr>\n    <tr>\n      <td>max</td>\n      <td>63.28278</td>\n      <td>710.57900</td>\n      <td>450.46280</td>\n      <td>0.16583</td>\n      <td>218.69000</td>\n      <td>0.08948</td>\n      <td>50.05142</td>\n      <td>20.58600</td>\n      <td>16.53440</td>\n      <td>59.27167</td>\n      <td>24.10592</td>\n      <td>767.24800</td>\n      <td>66.38522</td>\n      <td>19.09217</td>\n      <td>1418.20600</td>\n      <td>0.11844</td>\n      <td>0.84263</td>\n      <td>494.72760</td>\n      <td>1.29291</td>\n      <td>1.44434</td>\n    </tr>\n  </tbody>\n</table>\n</div>",
      "text/plain": "name   Calcium  Calories  Calories from Fat  Carbohydrates  Cholesterol  \\\ncount 10.00000  10.00000           10.00000       10.00000     10.00000   \nmean  28.44493 331.86876          176.97565        0.05063    114.70602   \nstd   20.62043 175.52979          107.73843        0.06518     61.25709   \nmin    5.95000 190.55750           86.22270        0.00000     67.15000   \n25%   14.04347 227.09988          117.34180        0.00497     71.74249   \n50%   18.70479 236.20300          131.50655        0.01220     83.84475   \n75%   43.72512 412.58407          190.61260        0.08467    157.77746   \nmax   63.28278 710.57900          450.46280        0.16583    218.69000   \n\nname   Dietary Fiber      Fat   Folate     Iron  Magnesium  \\\ncount       10.00000 10.00000 10.00000 10.00000   10.00000   \nmean         0.01441 19.66396  8.42683  4.36869   36.17567   \nstd          0.02899 11.97093  6.59899  4.90920   15.28027   \nmin          0.00000  9.58030  1.98500  0.79819   18.82775   \n25%          0.00000 13.03798  3.82825  1.34672   22.70406   \n50%          0.00000 14.61184  5.51012  2.88077   33.84019   \n75%          0.01425 21.17918 13.34584  4.15801   49.74599   \nmax          0.08948 50.05142 20.58600 16.53440   59.27167   \n\nname   Niacin Equivalents  Potassium  Protein  Saturated Fat     Sodium  \\\ncount            10.00000   10.00000 10.00000       10.00000   10.00000   \nmean             15.46108  402.99730 36.39433        6.78872  405.11665   \nstd               6.40235  204.26726 18.57905        5.00701  425.08680   \nmin               7.12442  198.08500 22.98380        1.72994   58.50833   \n25%               9.58787  238.43688 23.90248        4.07090  160.13387   \n50%              15.31916  350.73045 26.22061        5.61383  202.23240   \n75%              21.32081  548.35560 52.77548        7.78108  598.24150   \nmax              24.10592  767.24800 66.38522       19.09217 1418.20600   \n\nname    Sugars  Thiamin  Vitamin A - IU  Vitamin B6  Vitamin C  \ncount 10.00000 10.00000        10.00000    10.00000   10.00000  \nmean   0.01560  0.23332       155.01973     0.62126    0.24158  \nstd    0.03643  0.27807       186.02701     0.33419    0.47315  \nmin    0.00000  0.05391         0.00000     0.23219    0.00000  \n25%    0.00000  0.06140         6.94487     0.37442    0.00000  \n50%    0.00360  0.10425        76.44315     0.51540    0.02083  \n75%    0.00852  0.23585       305.53745     0.83336    0.12693  \nmax    0.11844  0.84263       494.72760     1.29291    1.44434  "
     },
     "execution_count": 428,
     "metadata": {},
     "output_type": "execute_result"
    }
   ],
   "source": [
    "random_nut_normal.describe()"
   ]
  },
  {
   "cell_type": "code",
   "execution_count": 429,
   "metadata": {},
   "outputs": [
    {
     "data": {
      "text/html": "<div>\n<style scoped>\n    .dataframe tbody tr th:only-of-type {\n        vertical-align: middle;\n    }\n\n    .dataframe tbody tr th {\n        vertical-align: top;\n    }\n\n    .dataframe thead th {\n        text-align: right;\n    }\n</style>\n<table border=\"1\" class=\"dataframe\">\n  <thead>\n    <tr style=\"text-align: right;\">\n      <th>name</th>\n      <th>Calcium</th>\n      <th>Calories</th>\n      <th>Calories from Fat</th>\n      <th>Carbohydrates</th>\n      <th>Cholesterol</th>\n      <th>Dietary Fiber</th>\n      <th>Fat</th>\n      <th>Folate</th>\n      <th>Iron</th>\n      <th>Magnesium</th>\n      <th>Niacin Equivalents</th>\n      <th>Potassium</th>\n      <th>Protein</th>\n      <th>Saturated Fat</th>\n      <th>Sodium</th>\n      <th>Sugars</th>\n      <th>Thiamin</th>\n      <th>Vitamin A - IU</th>\n      <th>Vitamin B6</th>\n      <th>Vitamin C</th>\n    </tr>\n    <tr>\n      <th>id</th>\n      <th></th>\n      <th></th>\n      <th></th>\n      <th></th>\n      <th></th>\n      <th></th>\n      <th></th>\n      <th></th>\n      <th></th>\n      <th></th>\n      <th></th>\n      <th></th>\n      <th></th>\n      <th></th>\n      <th></th>\n      <th></th>\n      <th></th>\n      <th></th>\n      <th></th>\n      <th></th>\n    </tr>\n  </thead>\n  <tbody>\n    <tr>\n      <td>24035</td>\n      <td>20.09839</td>\n      <td>243.25000</td>\n      <td>132.23230</td>\n      <td>0.00000</td>\n      <td>82.37750</td>\n      <td>0.00000</td>\n      <td>14.69248</td>\n      <td>1.98500</td>\n      <td>8.76073</td>\n      <td>34.13264</td>\n      <td>11.26620</td>\n      <td>347.77570</td>\n      <td>25.87448</td>\n      <td>4.82820</td>\n      <td>714.58800</td>\n      <td>0.00000</td>\n      <td>0.84263</td>\n      <td>6.94750</td>\n      <td>0.55679</td>\n      <td>0.09925</td>\n    </tr>\n    <tr>\n      <td>94113</td>\n      <td>5.95000</td>\n      <td>227.09170</td>\n      <td>113.79370</td>\n      <td>0.00000</td>\n      <td>71.39999</td>\n      <td>0.00000</td>\n      <td>12.64375</td>\n      <td>6.94167</td>\n      <td>1.82467</td>\n      <td>23.80000</td>\n      <td>8.41925</td>\n      <td>358.98330</td>\n      <td>26.56675</td>\n      <td>4.93850</td>\n      <td>58.50833</td>\n      <td>0.00000</td>\n      <td>0.07933</td>\n      <td>0.00000</td>\n      <td>0.34708</td>\n      <td>0.00000</td>\n    </tr>\n    <tr>\n      <td>21422</td>\n      <td>63.28278</td>\n      <td>536.20640</td>\n      <td>252.74380</td>\n      <td>0.00378</td>\n      <td>207.12250</td>\n      <td>0.00000</td>\n      <td>28.08264</td>\n      <td>16.71306</td>\n      <td>4.22666</td>\n      <td>59.27167</td>\n      <td>24.10592</td>\n      <td>662.60060</td>\n      <td>66.38522</td>\n      <td>9.94302</td>\n      <td>197.23280</td>\n      <td>0.00378</td>\n      <td>0.13487</td>\n      <td>157.57580</td>\n      <td>0.96802</td>\n      <td>0.00000</td>\n    </tr>\n    <tr>\n      <td>239137</td>\n      <td>15.16500</td>\n      <td>227.12440</td>\n      <td>127.98610</td>\n      <td>0.00851</td>\n      <td>95.10313</td>\n      <td>0.00000</td>\n      <td>14.22068</td>\n      <td>3.46563</td>\n      <td>0.79819</td>\n      <td>22.33875</td>\n      <td>15.03951</td>\n      <td>198.08500</td>\n      <td>23.69579</td>\n      <td>8.05543</td>\n      <td>719.33000</td>\n      <td>0.00851</td>\n      <td>0.05391</td>\n      <td>370.50560</td>\n      <td>0.45643</td>\n      <td>0.00000</td>\n    </tr>\n    <tr>\n      <td>26595</td>\n      <td>48.20800</td>\n      <td>710.57900</td>\n      <td>450.46280</td>\n      <td>0.00852</td>\n      <td>218.69000</td>\n      <td>0.00000</td>\n      <td>50.05142</td>\n      <td>20.58600</td>\n      <td>3.95205</td>\n      <td>51.80400</td>\n      <td>23.22978</td>\n      <td>767.24800</td>\n      <td>61.89990</td>\n      <td>19.09217</td>\n      <td>207.23200</td>\n      <td>0.00852</td>\n      <td>0.26951</td>\n      <td>354.85800</td>\n      <td>1.29291</td>\n      <td>0.00000</td>\n    </tr>\n    <tr>\n      <td>25147</td>\n      <td>30.27650</td>\n      <td>269.68620</td>\n      <td>169.17880</td>\n      <td>0.01588</td>\n      <td>85.31200</td>\n      <td>0.00000</td>\n      <td>18.79765</td>\n      <td>5.87250</td>\n      <td>1.50648</td>\n      <td>18.82775</td>\n      <td>9.02842</td>\n      <td>353.68520</td>\n      <td>23.38481</td>\n      <td>6.95803</td>\n      <td>196.00450</td>\n      <td>0.00000</td>\n      <td>0.63369</td>\n      <td>6.94400</td>\n      <td>0.23219</td>\n      <td>0.69440</td>\n    </tr>\n    <tr>\n      <td>13662</td>\n      <td>57.96445</td>\n      <td>460.21670</td>\n      <td>197.75720</td>\n      <td>0.05369</td>\n      <td>178.66890</td>\n      <td>0.03567</td>\n      <td>21.97302</td>\n      <td>15.48056</td>\n      <td>3.93688</td>\n      <td>54.69722</td>\n      <td>22.24237</td>\n      <td>611.47970</td>\n      <td>61.23595</td>\n      <td>6.28917</td>\n      <td>148.17700</td>\n      <td>0.00341</td>\n      <td>0.12420</td>\n      <td>5.75250</td>\n      <td>0.89435</td>\n      <td>0.04167</td>\n    </tr>\n    <tr>\n      <td>240208</td>\n      <td>12.52339</td>\n      <td>190.55750</td>\n      <td>86.22270</td>\n      <td>0.09500</td>\n      <td>67.15000</td>\n      <td>0.01900</td>\n      <td>9.58030</td>\n      <td>3.16000</td>\n      <td>16.53440</td>\n      <td>43.57196</td>\n      <td>15.59881</td>\n      <td>215.52200</td>\n      <td>24.52255</td>\n      <td>1.72994</td>\n      <td>1418.20600</td>\n      <td>0.00000</td>\n      <td>0.05530</td>\n      <td>16.59000</td>\n      <td>0.47400</td>\n      <td>0.00000</td>\n    </tr>\n    <tr>\n      <td>8690</td>\n      <td>13.66963</td>\n      <td>229.15600</td>\n      <td>130.78080</td>\n      <td>0.15506</td>\n      <td>72.77000</td>\n      <td>0.08948</td>\n      <td>14.53120</td>\n      <td>5.14774</td>\n      <td>1.29347</td>\n      <td>19.76499</td>\n      <td>7.12442</td>\n      <td>207.41200</td>\n      <td>22.98380</td>\n      <td>3.81847</td>\n      <td>142.68590</td>\n      <td>0.01336</td>\n      <td>0.05543</td>\n      <td>136.29630</td>\n      <td>0.34048</td>\n      <td>0.13616</td>\n    </tr>\n    <tr>\n      <td>21749</td>\n      <td>17.31119</td>\n      <td>224.81970</td>\n      <td>108.59830</td>\n      <td>0.16583</td>\n      <td>68.46621</td>\n      <td>0.00000</td>\n      <td>12.06648</td>\n      <td>4.91614</td>\n      <td>0.85337</td>\n      <td>33.54774</td>\n      <td>18.55613</td>\n      <td>307.18150</td>\n      <td>27.39408</td>\n      <td>2.23425</td>\n      <td>249.20200</td>\n      <td>0.11844</td>\n      <td>0.08430</td>\n      <td>494.72760</td>\n      <td>0.65039</td>\n      <td>1.44434</td>\n    </tr>\n    <tr>\n      <td>8647</td>\n      <td>21.48118</td>\n      <td>407.80700</td>\n      <td>256.83960</td>\n      <td>0.21189</td>\n      <td>141.87500</td>\n      <td>0.14217</td>\n      <td>28.53773</td>\n      <td>11.75295</td>\n      <td>1.79218</td>\n      <td>38.53659</td>\n      <td>19.44971</td>\n      <td>366.43550</td>\n      <td>35.24111</td>\n      <td>8.16107</td>\n      <td>132.54590</td>\n      <td>0.03931</td>\n      <td>0.00245</td>\n      <td>465.29960</td>\n      <td>0.67736</td>\n      <td>3.29695</td>\n    </tr>\n    <tr>\n      <td>42176</td>\n      <td>11.90749</td>\n      <td>484.07530</td>\n      <td>291.72900</td>\n      <td>0.22495</td>\n      <td>138.34800</td>\n      <td>0.04609</td>\n      <td>32.41433</td>\n      <td>13.62138</td>\n      <td>3.09342</td>\n      <td>45.66396</td>\n      <td>7.63137</td>\n      <td>763.42930</td>\n      <td>44.77341</td>\n      <td>12.88341</td>\n      <td>271.23070</td>\n      <td>0.05679</td>\n      <td>0.20529</td>\n      <td>0.26162</td>\n      <td>0.93698</td>\n      <td>0.06003</td>\n    </tr>\n    <tr>\n      <td>23628</td>\n      <td>39.54248</td>\n      <td>464.03770</td>\n      <td>233.71190</td>\n      <td>0.24614</td>\n      <td>197.88620</td>\n      <td>0.13258</td>\n      <td>25.96799</td>\n      <td>11.27308</td>\n      <td>2.14777</td>\n      <td>67.43583</td>\n      <td>37.13277</td>\n      <td>611.52680</td>\n      <td>54.76623</td>\n      <td>15.36425</td>\n      <td>317.03710</td>\n      <td>0.02315</td>\n      <td>0.16846</td>\n      <td>772.26790</td>\n      <td>1.30082</td>\n      <td>3.01117</td>\n    </tr>\n    <tr>\n      <td>245367</td>\n      <td>28.08013</td>\n      <td>462.43880</td>\n      <td>270.12480</td>\n      <td>0.30976</td>\n      <td>157.23810</td>\n      <td>0.08400</td>\n      <td>30.01386</td>\n      <td>6.72600</td>\n      <td>1.78857</td>\n      <td>42.69438</td>\n      <td>27.75826</td>\n      <td>387.37940</td>\n      <td>45.09318</td>\n      <td>11.53052</td>\n      <td>243.51840</td>\n      <td>0.08389</td>\n      <td>0.10049</td>\n      <td>523.56150</td>\n      <td>0.84671</td>\n      <td>0.96060</td>\n    </tr>\n    <tr>\n      <td>218126</td>\n      <td>23.39925</td>\n      <td>389.44130</td>\n      <td>196.83420</td>\n      <td>0.34025</td>\n      <td>126.63000</td>\n      <td>0.13912</td>\n      <td>21.87047</td>\n      <td>6.08250</td>\n      <td>1.76454</td>\n      <td>41.72100</td>\n      <td>27.70882</td>\n      <td>375.94730</td>\n      <td>44.98098</td>\n      <td>4.72407</td>\n      <td>1067.26300</td>\n      <td>0.00336</td>\n      <td>0.10007</td>\n      <td>141.76730</td>\n      <td>0.84598</td>\n      <td>0.11025</td>\n    </tr>\n    <tr>\n      <td>66066</td>\n      <td>37.36691</td>\n      <td>369.63070</td>\n      <td>194.66770</td>\n      <td>0.39773</td>\n      <td>125.98070</td>\n      <td>0.26868</td>\n      <td>21.62974</td>\n      <td>4.60031</td>\n      <td>0.68491</td>\n      <td>1.96938</td>\n      <td>0.10509</td>\n      <td>717.68590</td>\n      <td>38.19198</td>\n      <td>6.81100</td>\n      <td>198.62400</td>\n      <td>0.11825</td>\n      <td>0.00650</td>\n      <td>895.63440</td>\n      <td>0.01767</td>\n      <td>6.12418</td>\n    </tr>\n    <tr>\n      <td>39447</td>\n      <td>30.43079</td>\n      <td>335.16920</td>\n      <td>177.46700</td>\n      <td>0.42089</td>\n      <td>110.15330</td>\n      <td>0.13255</td>\n      <td>19.71856</td>\n      <td>9.02299</td>\n      <td>1.54021</td>\n      <td>36.41694</td>\n      <td>15.13966</td>\n      <td>556.14620</td>\n      <td>36.47163</td>\n      <td>7.23060</td>\n      <td>683.51800</td>\n      <td>0.00260</td>\n      <td>1.32807</td>\n      <td>29.31751</td>\n      <td>0.75128</td>\n      <td>0.97708</td>\n    </tr>\n    <tr>\n      <td>90223</td>\n      <td>242.85850</td>\n      <td>283.81650</td>\n      <td>152.52410</td>\n      <td>0.44994</td>\n      <td>204.79480</td>\n      <td>0.00000</td>\n      <td>16.94712</td>\n      <td>8.27318</td>\n      <td>2.99691</td>\n      <td>41.43120</td>\n      <td>6.47090</td>\n      <td>274.47660</td>\n      <td>30.72441</td>\n      <td>8.06910</td>\n      <td>753.03630</td>\n      <td>0.14000</td>\n      <td>0.15522</td>\n      <td>401.62650</td>\n      <td>0.18961</td>\n      <td>1.80411</td>\n    </tr>\n    <tr>\n      <td>158400</td>\n      <td>20.72735</td>\n      <td>234.57390</td>\n      <td>129.23210</td>\n      <td>0.53918</td>\n      <td>97.70413</td>\n      <td>0.04225</td>\n      <td>14.35912</td>\n      <td>4.07710</td>\n      <td>0.96899</td>\n      <td>23.43688</td>\n      <td>15.68308</td>\n      <td>223.26360</td>\n      <td>24.75530</td>\n      <td>8.08634</td>\n      <td>140.54200</td>\n      <td>0.09880</td>\n      <td>0.05718</td>\n      <td>388.70070</td>\n      <td>0.47670</td>\n      <td>1.73057</td>\n    </tr>\n    <tr>\n      <td>97621</td>\n      <td>23.87306</td>\n      <td>576.13560</td>\n      <td>416.17910</td>\n      <td>0.56332</td>\n      <td>137.22670</td>\n      <td>0.13856</td>\n      <td>46.24213</td>\n      <td>9.96425</td>\n      <td>4.07180</td>\n      <td>34.03408</td>\n      <td>12.08760</td>\n      <td>538.72830</td>\n      <td>37.00193</td>\n      <td>18.62059</td>\n      <td>879.59430</td>\n      <td>0.11470</td>\n      <td>0.10174</td>\n      <td>1.04650</td>\n      <td>0.41160</td>\n      <td>0.15680</td>\n    </tr>\n    <tr>\n      <td>236504</td>\n      <td>101.04630</td>\n      <td>406.87950</td>\n      <td>231.86160</td>\n      <td>0.58115</td>\n      <td>101.50750</td>\n      <td>0.20990</td>\n      <td>25.76241</td>\n      <td>27.07650</td>\n      <td>1.88010</td>\n      <td>168.14830</td>\n      <td>19.29638</td>\n      <td>945.24370</td>\n      <td>41.82616</td>\n      <td>10.70505</td>\n      <td>211.56270</td>\n      <td>0.23514</td>\n      <td>0.12025</td>\n      <td>921.79350</td>\n      <td>0.63054</td>\n      <td>2.85540</td>\n    </tr>\n    <tr>\n      <td>16685</td>\n      <td>18.25783</td>\n      <td>159.31380</td>\n      <td>69.75870</td>\n      <td>0.58432</td>\n      <td>75.15667</td>\n      <td>0.13977</td>\n      <td>7.75097</td>\n      <td>0.88067</td>\n      <td>0.95236</td>\n      <td>25.80000</td>\n      <td>9.58056</td>\n      <td>344.51790</td>\n      <td>20.63359</td>\n      <td>3.63887</td>\n      <td>1063.02000</td>\n      <td>0.20560</td>\n      <td>1.02318</td>\n      <td>126.21580</td>\n      <td>0.75996</td>\n      <td>0.11128</td>\n    </tr>\n    <tr>\n      <td>72818</td>\n      <td>17.98236</td>\n      <td>234.91530</td>\n      <td>124.91540</td>\n      <td>0.60293</td>\n      <td>100.21720</td>\n      <td>0.13399</td>\n      <td>13.87949</td>\n      <td>1.36464</td>\n      <td>2.34031</td>\n      <td>21.87568</td>\n      <td>12.43689</td>\n      <td>184.65120</td>\n      <td>25.27756</td>\n      <td>6.70826</td>\n      <td>393.35880</td>\n      <td>0.00967</td>\n      <td>0.12280</td>\n      <td>21.35707</td>\n      <td>0.14749</td>\n      <td>0.51961</td>\n    </tr>\n    <tr>\n      <td>12729</td>\n      <td>38.00105</td>\n      <td>229.39020</td>\n      <td>68.85874</td>\n      <td>0.63384</td>\n      <td>62.48000</td>\n      <td>0.14838</td>\n      <td>7.65097</td>\n      <td>1.40046</td>\n      <td>1.94755</td>\n      <td>1.38386</td>\n      <td>0.03511</td>\n      <td>793.27890</td>\n      <td>35.98316</td>\n      <td>0.62865</td>\n      <td>94.03860</td>\n      <td>0.09321</td>\n      <td>0.00214</td>\n      <td>335.46410</td>\n      <td>0.00646</td>\n      <td>1.71378</td>\n    </tr>\n    <tr>\n      <td>139603</td>\n      <td>24.93458</td>\n      <td>222.65480</td>\n      <td>124.53020</td>\n      <td>0.66695</td>\n      <td>73.34499</td>\n      <td>0.17306</td>\n      <td>13.83669</td>\n      <td>5.05950</td>\n      <td>1.07936</td>\n      <td>20.28864</td>\n      <td>8.52866</td>\n      <td>289.94820</td>\n      <td>22.22923</td>\n      <td>4.95137</td>\n      <td>474.31090</td>\n      <td>0.27651</td>\n      <td>0.61507</td>\n      <td>16.27938</td>\n      <td>0.32383</td>\n      <td>0.35929</td>\n    </tr>\n    <tr>\n      <td>160099</td>\n      <td>27.64167</td>\n      <td>300.72400</td>\n      <td>160.12850</td>\n      <td>0.66963</td>\n      <td>71.42001</td>\n      <td>0.28203</td>\n      <td>17.79206</td>\n      <td>3.26333</td>\n      <td>1.36913</td>\n      <td>72.90466</td>\n      <td>20.11862</td>\n      <td>645.38020</td>\n      <td>33.28960</td>\n      <td>4.03626</td>\n      <td>1033.60000</td>\n      <td>0.03073</td>\n      <td>0.61702</td>\n      <td>269.87870</td>\n      <td>1.28420</td>\n      <td>1.76440</td>\n    </tr>\n    <tr>\n      <td>232723</td>\n      <td>26.03525</td>\n      <td>329.75700</td>\n      <td>145.41460</td>\n      <td>0.70313</td>\n      <td>168.93500</td>\n      <td>0.03105</td>\n      <td>16.15717</td>\n      <td>6.48960</td>\n      <td>1.17988</td>\n      <td>42.70525</td>\n      <td>20.12555</td>\n      <td>577.08150</td>\n      <td>42.75112</td>\n      <td>7.20526</td>\n      <td>185.53720</td>\n      <td>0.51811</td>\n      <td>1.33536</td>\n      <td>267.86530</td>\n      <td>1.09841</td>\n      <td>0.08000</td>\n    </tr>\n    <tr>\n      <td>69882</td>\n      <td>17.12810</td>\n      <td>418.40890</td>\n      <td>338.74620</td>\n      <td>0.70492</td>\n      <td>81.82140</td>\n      <td>0.01742</td>\n      <td>37.63846</td>\n      <td>7.55885</td>\n      <td>1.15328</td>\n      <td>17.96093</td>\n      <td>7.13711</td>\n      <td>193.04260</td>\n      <td>16.58382</td>\n      <td>7.19042</td>\n      <td>936.73740</td>\n      <td>0.29187</td>\n      <td>0.04648</td>\n      <td>138.41220</td>\n      <td>0.20621</td>\n      <td>0.01850</td>\n    </tr>\n    <tr>\n      <td>28011</td>\n      <td>27.74659</td>\n      <td>264.34920</td>\n      <td>52.02369</td>\n      <td>0.72196</td>\n      <td>134.30000</td>\n      <td>0.35772</td>\n      <td>5.78041</td>\n      <td>7.35973</td>\n      <td>1.86193</td>\n      <td>47.92127</td>\n      <td>31.27790</td>\n      <td>424.90770</td>\n      <td>49.13609</td>\n      <td>1.62358</td>\n      <td>357.53540</td>\n      <td>0.07176</td>\n      <td>0.11252</td>\n      <td>267.44670</td>\n      <td>0.96944</td>\n      <td>0.46530</td>\n    </tr>\n    <tr>\n      <td>240992</td>\n      <td>13.04485</td>\n      <td>130.87050</td>\n      <td>25.89480</td>\n      <td>0.76012</td>\n      <td>65.53750</td>\n      <td>0.03080</td>\n      <td>2.87720</td>\n      <td>3.55158</td>\n      <td>0.80461</td>\n      <td>22.45423</td>\n      <td>15.02371</td>\n      <td>202.24050</td>\n      <td>23.82470</td>\n      <td>0.76827</td>\n      <td>275.16310</td>\n      <td>0.28529</td>\n      <td>0.05583</td>\n      <td>16.77992</td>\n      <td>0.46718</td>\n      <td>1.96457</td>\n    </tr>\n    <tr>\n      <td>150685</td>\n      <td>4.62766</td>\n      <td>344.46690</td>\n      <td>207.84920</td>\n      <td>0.80324</td>\n      <td>103.19670</td>\n      <td>0.10910</td>\n      <td>23.09436</td>\n      <td>0.58369</td>\n      <td>0.19784</td>\n      <td>2.09530</td>\n      <td>0.04861</td>\n      <td>21.35641</td>\n      <td>31.23007</td>\n      <td>7.49523</td>\n      <td>291.68840</td>\n      <td>0.07546</td>\n      <td>0.00303</td>\n      <td>23.00033</td>\n      <td>0.01918</td>\n      <td>0.70027</td>\n    </tr>\n    <tr>\n      <td>93168</td>\n      <td>21.49387</td>\n      <td>356.48870</td>\n      <td>224.30340</td>\n      <td>0.81417</td>\n      <td>117.36210</td>\n      <td>0.49718</td>\n      <td>24.92260</td>\n      <td>7.90259</td>\n      <td>1.96638</td>\n      <td>28.37960</td>\n      <td>9.67011</td>\n      <td>301.97530</td>\n      <td>30.87962</td>\n      <td>9.65985</td>\n      <td>1310.92200</td>\n      <td>0.12530</td>\n      <td>0.08089</td>\n      <td>944.52310</td>\n      <td>0.49387</td>\n      <td>0.86684</td>\n    </tr>\n    <tr>\n      <td>45782</td>\n      <td>21.67842</td>\n      <td>231.61380</td>\n      <td>109.69480</td>\n      <td>0.82028</td>\n      <td>77.90640</td>\n      <td>0.11195</td>\n      <td>12.18831</td>\n      <td>8.56545</td>\n      <td>1.40928</td>\n      <td>65.04740</td>\n      <td>7.54747</td>\n      <td>404.73390</td>\n      <td>28.15821</td>\n      <td>4.89861</td>\n      <td>237.04350</td>\n      <td>0.10331</td>\n      <td>0.15940</td>\n      <td>532.81710</td>\n      <td>0.57333</td>\n      <td>1.46513</td>\n    </tr>\n    <tr>\n      <td>13525</td>\n      <td>71.80816</td>\n      <td>596.46010</td>\n      <td>303.42530</td>\n      <td>0.83458</td>\n      <td>198.33750</td>\n      <td>0.22080</td>\n      <td>33.71392</td>\n      <td>18.10643</td>\n      <td>4.59401</td>\n      <td>62.17530</td>\n      <td>24.73876</td>\n      <td>691.91230</td>\n      <td>68.12447</td>\n      <td>8.28358</td>\n      <td>165.10670</td>\n      <td>0.02857</td>\n      <td>0.14128</td>\n      <td>34.89889</td>\n      <td>1.01593</td>\n      <td>0.73500</td>\n    </tr>\n    <tr>\n      <td>100072</td>\n      <td>44.34017</td>\n      <td>584.89750</td>\n      <td>365.31360</td>\n      <td>0.83649</td>\n      <td>235.61630</td>\n      <td>0.15736</td>\n      <td>40.59040</td>\n      <td>15.37069</td>\n      <td>5.06651</td>\n      <td>58.68756</td>\n      <td>17.00326</td>\n      <td>775.87380</td>\n      <td>51.70557</td>\n      <td>20.88130</td>\n      <td>902.36520</td>\n      <td>0.11517</td>\n      <td>0.24125</td>\n      <td>751.62130</td>\n      <td>0.66185</td>\n      <td>0.06248</td>\n    </tr>\n    <tr>\n      <td>15023</td>\n      <td>48.97450</td>\n      <td>402.30000</td>\n      <td>209.63080</td>\n      <td>0.84420</td>\n      <td>157.16000</td>\n      <td>0.45956</td>\n      <td>23.29231</td>\n      <td>9.66129</td>\n      <td>2.09524</td>\n      <td>46.23725</td>\n      <td>27.85695</td>\n      <td>413.73180</td>\n      <td>45.24051</td>\n      <td>10.59892</td>\n      <td>642.24200</td>\n      <td>0.02776</td>\n      <td>0.10187</td>\n      <td>600.52430</td>\n      <td>0.91253</td>\n      <td>0.68875</td>\n    </tr>\n    <tr>\n      <td>58431</td>\n      <td>143.36520</td>\n      <td>292.60510</td>\n      <td>157.28930</td>\n      <td>0.85101</td>\n      <td>110.35500</td>\n      <td>0.08390</td>\n      <td>17.47659</td>\n      <td>8.47390</td>\n      <td>1.07247</td>\n      <td>39.34225</td>\n      <td>19.54501</td>\n      <td>367.34760</td>\n      <td>31.73022</td>\n      <td>10.51607</td>\n      <td>1042.14700</td>\n      <td>0.45328</td>\n      <td>0.09651</td>\n      <td>570.14130</td>\n      <td>0.70538</td>\n      <td>22.33382</td>\n    </tr>\n    <tr>\n      <td>39374</td>\n      <td>16.66389</td>\n      <td>491.41150</td>\n      <td>228.39510</td>\n      <td>0.85675</td>\n      <td>210.92400</td>\n      <td>0.07975</td>\n      <td>25.37723</td>\n      <td>19.28650</td>\n      <td>5.14919</td>\n      <td>42.22047</td>\n      <td>17.57327</td>\n      <td>512.62800</td>\n      <td>61.30983</td>\n      <td>7.75298</td>\n      <td>530.71340</td>\n      <td>0.14350</td>\n      <td>0.23110</td>\n      <td>0.06750</td>\n      <td>0.81944</td>\n      <td>0.23400</td>\n    </tr>\n    <tr>\n      <td>13464</td>\n      <td>76.84731</td>\n      <td>545.18680</td>\n      <td>251.08950</td>\n      <td>0.85822</td>\n      <td>209.79610</td>\n      <td>0.13036</td>\n      <td>27.89884</td>\n      <td>18.24331</td>\n      <td>4.55613</td>\n      <td>62.75810</td>\n      <td>24.76233</td>\n      <td>700.71250</td>\n      <td>68.13842</td>\n      <td>9.60976</td>\n      <td>560.04550</td>\n      <td>0.17937</td>\n      <td>0.14076</td>\n      <td>241.57730</td>\n      <td>1.00975</td>\n      <td>0.65733</td>\n    </tr>\n    <tr>\n      <td>232906</td>\n      <td>78.52580</td>\n      <td>228.48780</td>\n      <td>41.98168</td>\n      <td>0.85901</td>\n      <td>138.79750</td>\n      <td>0.25612</td>\n      <td>4.66463</td>\n      <td>24.03940</td>\n      <td>2.56411</td>\n      <td>90.43275</td>\n      <td>16.33208</td>\n      <td>726.68980</td>\n      <td>43.16479</td>\n      <td>2.13275</td>\n      <td>465.81870</td>\n      <td>0.22240</td>\n      <td>0.07629</td>\n      <td>398.32780</td>\n      <td>0.64190</td>\n      <td>0.44485</td>\n    </tr>\n    <tr>\n      <td>199581</td>\n      <td>23.72077</td>\n      <td>228.39430</td>\n      <td>125.50210</td>\n      <td>0.85958</td>\n      <td>63.13125</td>\n      <td>0.40881</td>\n      <td>13.94468</td>\n      <td>7.67157</td>\n      <td>1.08565</td>\n      <td>26.15551</td>\n      <td>9.32568</td>\n      <td>415.70490</td>\n      <td>23.68518</td>\n      <td>4.56702</td>\n      <td>271.86060</td>\n      <td>0.08981</td>\n      <td>0.65127</td>\n      <td>409.26860</td>\n      <td>0.37861</td>\n      <td>0.92393</td>\n    </tr>\n    <tr>\n      <td>76659</td>\n      <td>112.64420</td>\n      <td>235.34510</td>\n      <td>125.13620</td>\n      <td>0.86161</td>\n      <td>57.96190</td>\n      <td>0.07430</td>\n      <td>13.90402</td>\n      <td>15.31198</td>\n      <td>1.04279</td>\n      <td>97.63478</td>\n      <td>11.18864</td>\n      <td>530.21010</td>\n      <td>25.74591</td>\n      <td>5.49451</td>\n      <td>281.72810</td>\n      <td>0.24802</td>\n      <td>0.06617</td>\n      <td>397.76960</td>\n      <td>0.38792</td>\n      <td>2.15920</td>\n    </tr>\n    <tr>\n      <td>99742</td>\n      <td>88.90501</td>\n      <td>356.44870</td>\n      <td>220.90470</td>\n      <td>0.86703</td>\n      <td>222.50630</td>\n      <td>0.00000</td>\n      <td>24.54496</td>\n      <td>16.15125</td>\n      <td>16.19068</td>\n      <td>67.09251</td>\n      <td>9.94758</td>\n      <td>485.03500</td>\n      <td>32.20119</td>\n      <td>14.88167</td>\n      <td>1986.64000</td>\n      <td>0.01702</td>\n      <td>0.01162</td>\n      <td>828.09120</td>\n      <td>0.10795</td>\n      <td>0.00000</td>\n    </tr>\n    <tr>\n      <td>15889</td>\n      <td>16.94817</td>\n      <td>141.09650</td>\n      <td>25.44900</td>\n      <td>0.87003</td>\n      <td>67.20100</td>\n      <td>0.01311</td>\n      <td>2.82767</td>\n      <td>3.57169</td>\n      <td>0.92481</td>\n      <td>26.59657</td>\n      <td>15.61543</td>\n      <td>239.35530</td>\n      <td>24.63991</td>\n      <td>0.80029</td>\n      <td>1570.61300</td>\n      <td>0.15933</td>\n      <td>0.05534</td>\n      <td>16.60260</td>\n      <td>0.61369</td>\n      <td>0.00082</td>\n    </tr>\n    <tr>\n      <td>47872</td>\n      <td>21.02550</td>\n      <td>298.71250</td>\n      <td>90.00549</td>\n      <td>0.88803</td>\n      <td>138.34800</td>\n      <td>0.13475</td>\n      <td>10.00061</td>\n      <td>18.23900</td>\n      <td>6.23593</td>\n      <td>55.61100</td>\n      <td>17.11048</td>\n      <td>831.17460</td>\n      <td>48.33784</td>\n      <td>3.49793</td>\n      <td>132.03800</td>\n      <td>0.02224</td>\n      <td>0.29922</td>\n      <td>1.22650</td>\n      <td>1.02381</td>\n      <td>0.69750</td>\n    </tr>\n    <tr>\n      <td>16679</td>\n      <td>54.10637</td>\n      <td>302.49120</td>\n      <td>196.50950</td>\n      <td>0.90012</td>\n      <td>260.95500</td>\n      <td>0.13711</td>\n      <td>21.83439</td>\n      <td>7.01274</td>\n      <td>3.81084</td>\n      <td>41.93678</td>\n      <td>8.89178</td>\n      <td>237.18900</td>\n      <td>25.02068</td>\n      <td>8.88546</td>\n      <td>460.75760</td>\n      <td>0.11399</td>\n      <td>0.04314</td>\n      <td>784.45530</td>\n      <td>0.18253</td>\n      <td>3.88530</td>\n    </tr>\n    <tr>\n      <td>214944</td>\n      <td>13.24533</td>\n      <td>294.18220</td>\n      <td>157.08530</td>\n      <td>0.90883</td>\n      <td>97.34500</td>\n      <td>0.10272</td>\n      <td>17.45393</td>\n      <td>4.80888</td>\n      <td>0.89419</td>\n      <td>35.07012</td>\n      <td>13.48173</td>\n      <td>452.31280</td>\n      <td>31.18827</td>\n      <td>4.23978</td>\n      <td>486.46050</td>\n      <td>0.16868</td>\n      <td>0.32257</td>\n      <td>207.32000</td>\n      <td>0.28306</td>\n      <td>0.24995</td>\n    </tr>\n    <tr>\n      <td>19135</td>\n      <td>26.99145</td>\n      <td>338.03980</td>\n      <td>232.83690</td>\n      <td>0.92110</td>\n      <td>128.20730</td>\n      <td>0.14432</td>\n      <td>25.87077</td>\n      <td>4.74242</td>\n      <td>1.10909</td>\n      <td>24.69014</td>\n      <td>15.74072</td>\n      <td>223.97170</td>\n      <td>24.94591</td>\n      <td>15.38378</td>\n      <td>222.92880</td>\n      <td>0.04940</td>\n      <td>0.06227</td>\n      <td>743.11670</td>\n      <td>0.50583</td>\n      <td>0.92848</td>\n    </tr>\n    <tr>\n      <td>54196</td>\n      <td>18.53273</td>\n      <td>239.27280</td>\n      <td>150.44570</td>\n      <td>0.92361</td>\n      <td>71.02000</td>\n      <td>0.13717</td>\n      <td>16.71619</td>\n      <td>31.42300</td>\n      <td>0.53370</td>\n      <td>30.76497</td>\n      <td>11.08779</td>\n      <td>363.36680</td>\n      <td>20.15934</td>\n      <td>5.86708</td>\n      <td>892.16090</td>\n      <td>0.28445</td>\n      <td>0.30406</td>\n      <td>222.07490</td>\n      <td>0.58465</td>\n      <td>3.30217</td>\n    </tr>\n    <tr>\n      <td>41393</td>\n      <td>69.50778</td>\n      <td>596.80630</td>\n      <td>303.13830</td>\n      <td>0.93287</td>\n      <td>198.33750</td>\n      <td>0.20898</td>\n      <td>33.68203</td>\n      <td>17.55801</td>\n      <td>4.52088</td>\n      <td>62.42574</td>\n      <td>24.75152</td>\n      <td>696.44380</td>\n      <td>68.17879</td>\n      <td>8.27285</td>\n      <td>311.27270</td>\n      <td>0.25644</td>\n      <td>0.14338</td>\n      <td>19.18372</td>\n      <td>1.02711</td>\n      <td>0.32247</td>\n    </tr>\n  </tbody>\n</table>\n</div>",
      "text/plain": "name     Calcium  Calories  Calories from Fat  Carbohydrates  Cholesterol  \\\nid                                                                          \n24035   20.09839 243.25000          132.23230        0.00000     82.37750   \n94113    5.95000 227.09170          113.79370        0.00000     71.39999   \n21422   63.28278 536.20640          252.74380        0.00378    207.12250   \n239137  15.16500 227.12440          127.98610        0.00851     95.10313   \n26595   48.20800 710.57900          450.46280        0.00852    218.69000   \n25147   30.27650 269.68620          169.17880        0.01588     85.31200   \n13662   57.96445 460.21670          197.75720        0.05369    178.66890   \n240208  12.52339 190.55750           86.22270        0.09500     67.15000   \n8690    13.66963 229.15600          130.78080        0.15506     72.77000   \n21749   17.31119 224.81970          108.59830        0.16583     68.46621   \n8647    21.48118 407.80700          256.83960        0.21189    141.87500   \n42176   11.90749 484.07530          291.72900        0.22495    138.34800   \n23628   39.54248 464.03770          233.71190        0.24614    197.88620   \n245367  28.08013 462.43880          270.12480        0.30976    157.23810   \n218126  23.39925 389.44130          196.83420        0.34025    126.63000   \n66066   37.36691 369.63070          194.66770        0.39773    125.98070   \n39447   30.43079 335.16920          177.46700        0.42089    110.15330   \n90223  242.85850 283.81650          152.52410        0.44994    204.79480   \n158400  20.72735 234.57390          129.23210        0.53918     97.70413   \n97621   23.87306 576.13560          416.17910        0.56332    137.22670   \n236504 101.04630 406.87950          231.86160        0.58115    101.50750   \n16685   18.25783 159.31380           69.75870        0.58432     75.15667   \n72818   17.98236 234.91530          124.91540        0.60293    100.21720   \n12729   38.00105 229.39020           68.85874        0.63384     62.48000   \n139603  24.93458 222.65480          124.53020        0.66695     73.34499   \n160099  27.64167 300.72400          160.12850        0.66963     71.42001   \n232723  26.03525 329.75700          145.41460        0.70313    168.93500   \n69882   17.12810 418.40890          338.74620        0.70492     81.82140   \n28011   27.74659 264.34920           52.02369        0.72196    134.30000   \n240992  13.04485 130.87050           25.89480        0.76012     65.53750   \n150685   4.62766 344.46690          207.84920        0.80324    103.19670   \n93168   21.49387 356.48870          224.30340        0.81417    117.36210   \n45782   21.67842 231.61380          109.69480        0.82028     77.90640   \n13525   71.80816 596.46010          303.42530        0.83458    198.33750   \n100072  44.34017 584.89750          365.31360        0.83649    235.61630   \n15023   48.97450 402.30000          209.63080        0.84420    157.16000   \n58431  143.36520 292.60510          157.28930        0.85101    110.35500   \n39374   16.66389 491.41150          228.39510        0.85675    210.92400   \n13464   76.84731 545.18680          251.08950        0.85822    209.79610   \n232906  78.52580 228.48780           41.98168        0.85901    138.79750   \n199581  23.72077 228.39430          125.50210        0.85958     63.13125   \n76659  112.64420 235.34510          125.13620        0.86161     57.96190   \n99742   88.90501 356.44870          220.90470        0.86703    222.50630   \n15889   16.94817 141.09650           25.44900        0.87003     67.20100   \n47872   21.02550 298.71250           90.00549        0.88803    138.34800   \n16679   54.10637 302.49120          196.50950        0.90012    260.95500   \n214944  13.24533 294.18220          157.08530        0.90883     97.34500   \n19135   26.99145 338.03980          232.83690        0.92110    128.20730   \n54196   18.53273 239.27280          150.44570        0.92361     71.02000   \n41393   69.50778 596.80630          303.13830        0.93287    198.33750   \n\nname    Dietary Fiber      Fat   Folate     Iron  Magnesium  \\\nid                                                            \n24035         0.00000 14.69248  1.98500  8.76073   34.13264   \n94113         0.00000 12.64375  6.94167  1.82467   23.80000   \n21422         0.00000 28.08264 16.71306  4.22666   59.27167   \n239137        0.00000 14.22068  3.46563  0.79819   22.33875   \n26595         0.00000 50.05142 20.58600  3.95205   51.80400   \n25147         0.00000 18.79765  5.87250  1.50648   18.82775   \n13662         0.03567 21.97302 15.48056  3.93688   54.69722   \n240208        0.01900  9.58030  3.16000 16.53440   43.57196   \n8690          0.08948 14.53120  5.14774  1.29347   19.76499   \n21749         0.00000 12.06648  4.91614  0.85337   33.54774   \n8647          0.14217 28.53773 11.75295  1.79218   38.53659   \n42176         0.04609 32.41433 13.62138  3.09342   45.66396   \n23628         0.13258 25.96799 11.27308  2.14777   67.43583   \n245367        0.08400 30.01386  6.72600  1.78857   42.69438   \n218126        0.13912 21.87047  6.08250  1.76454   41.72100   \n66066         0.26868 21.62974  4.60031  0.68491    1.96938   \n39447         0.13255 19.71856  9.02299  1.54021   36.41694   \n90223         0.00000 16.94712  8.27318  2.99691   41.43120   \n158400        0.04225 14.35912  4.07710  0.96899   23.43688   \n97621         0.13856 46.24213  9.96425  4.07180   34.03408   \n236504        0.20990 25.76241 27.07650  1.88010  168.14830   \n16685         0.13977  7.75097  0.88067  0.95236   25.80000   \n72818         0.13399 13.87949  1.36464  2.34031   21.87568   \n12729         0.14838  7.65097  1.40046  1.94755    1.38386   \n139603        0.17306 13.83669  5.05950  1.07936   20.28864   \n160099        0.28203 17.79206  3.26333  1.36913   72.90466   \n232723        0.03105 16.15717  6.48960  1.17988   42.70525   \n69882         0.01742 37.63846  7.55885  1.15328   17.96093   \n28011         0.35772  5.78041  7.35973  1.86193   47.92127   \n240992        0.03080  2.87720  3.55158  0.80461   22.45423   \n150685        0.10910 23.09436  0.58369  0.19784    2.09530   \n93168         0.49718 24.92260  7.90259  1.96638   28.37960   \n45782         0.11195 12.18831  8.56545  1.40928   65.04740   \n13525         0.22080 33.71392 18.10643  4.59401   62.17530   \n100072        0.15736 40.59040 15.37069  5.06651   58.68756   \n15023         0.45956 23.29231  9.66129  2.09524   46.23725   \n58431         0.08390 17.47659  8.47390  1.07247   39.34225   \n39374         0.07975 25.37723 19.28650  5.14919   42.22047   \n13464         0.13036 27.89884 18.24331  4.55613   62.75810   \n232906        0.25612  4.66463 24.03940  2.56411   90.43275   \n199581        0.40881 13.94468  7.67157  1.08565   26.15551   \n76659         0.07430 13.90402 15.31198  1.04279   97.63478   \n99742         0.00000 24.54496 16.15125 16.19068   67.09251   \n15889         0.01311  2.82767  3.57169  0.92481   26.59657   \n47872         0.13475 10.00061 18.23900  6.23593   55.61100   \n16679         0.13711 21.83439  7.01274  3.81084   41.93678   \n214944        0.10272 17.45393  4.80888  0.89419   35.07012   \n19135         0.14432 25.87077  4.74242  1.10909   24.69014   \n54196         0.13717 16.71619 31.42300  0.53370   30.76497   \n41393         0.20898 33.68203 17.55801  4.52088   62.42574   \n\nname    Niacin Equivalents  Potassium  Protein  Saturated Fat     Sodium  \\\nid                                                                         \n24035             11.26620  347.77570 25.87448        4.82820  714.58800   \n94113              8.41925  358.98330 26.56675        4.93850   58.50833   \n21422             24.10592  662.60060 66.38522        9.94302  197.23280   \n239137            15.03951  198.08500 23.69579        8.05543  719.33000   \n26595             23.22978  767.24800 61.89990       19.09217  207.23200   \n25147              9.02842  353.68520 23.38481        6.95803  196.00450   \n13662             22.24237  611.47970 61.23595        6.28917  148.17700   \n240208            15.59881  215.52200 24.52255        1.72994 1418.20600   \n8690               7.12442  207.41200 22.98380        3.81847  142.68590   \n21749             18.55613  307.18150 27.39408        2.23425  249.20200   \n8647              19.44971  366.43550 35.24111        8.16107  132.54590   \n42176              7.63137  763.42930 44.77341       12.88341  271.23070   \n23628             37.13277  611.52680 54.76623       15.36425  317.03710   \n245367            27.75826  387.37940 45.09318       11.53052  243.51840   \n218126            27.70882  375.94730 44.98098        4.72407 1067.26300   \n66066              0.10509  717.68590 38.19198        6.81100  198.62400   \n39447             15.13966  556.14620 36.47163        7.23060  683.51800   \n90223              6.47090  274.47660 30.72441        8.06910  753.03630   \n158400            15.68308  223.26360 24.75530        8.08634  140.54200   \n97621             12.08760  538.72830 37.00193       18.62059  879.59430   \n236504            19.29638  945.24370 41.82616       10.70505  211.56270   \n16685              9.58056  344.51790 20.63359        3.63887 1063.02000   \n72818             12.43689  184.65120 25.27756        6.70826  393.35880   \n12729              0.03511  793.27890 35.98316        0.62865   94.03860   \n139603             8.52866  289.94820 22.22923        4.95137  474.31090   \n160099            20.11862  645.38020 33.28960        4.03626 1033.60000   \n232723            20.12555  577.08150 42.75112        7.20526  185.53720   \n69882              7.13711  193.04260 16.58382        7.19042  936.73740   \n28011             31.27790  424.90770 49.13609        1.62358  357.53540   \n240992            15.02371  202.24050 23.82470        0.76827  275.16310   \n150685             0.04861   21.35641 31.23007        7.49523  291.68840   \n93168              9.67011  301.97530 30.87962        9.65985 1310.92200   \n45782              7.54747  404.73390 28.15821        4.89861  237.04350   \n13525             24.73876  691.91230 68.12447        8.28358  165.10670   \n100072            17.00326  775.87380 51.70557       20.88130  902.36520   \n15023             27.85695  413.73180 45.24051       10.59892  642.24200   \n58431             19.54501  367.34760 31.73022       10.51607 1042.14700   \n39374             17.57327  512.62800 61.30983        7.75298  530.71340   \n13464             24.76233  700.71250 68.13842        9.60976  560.04550   \n232906            16.33208  726.68980 43.16479        2.13275  465.81870   \n199581             9.32568  415.70490 23.68518        4.56702  271.86060   \n76659             11.18864  530.21010 25.74591        5.49451  281.72810   \n99742              9.94758  485.03500 32.20119       14.88167 1986.64000   \n15889             15.61543  239.35530 24.63991        0.80029 1570.61300   \n47872             17.11048  831.17460 48.33784        3.49793  132.03800   \n16679              8.89178  237.18900 25.02068        8.88546  460.75760   \n214944            13.48173  452.31280 31.18827        4.23978  486.46050   \n19135             15.74072  223.97170 24.94591       15.38378  222.92880   \n54196             11.08779  363.36680 20.15934        5.86708  892.16090   \n41393             24.75152  696.44380 68.17879        8.27285  311.27270   \n\nname    Sugars  Thiamin  Vitamin A - IU  Vitamin B6  Vitamin C  \nid                                                              \n24035  0.00000  0.84263         6.94750     0.55679    0.09925  \n94113  0.00000  0.07933         0.00000     0.34708    0.00000  \n21422  0.00378  0.13487       157.57580     0.96802    0.00000  \n239137 0.00851  0.05391       370.50560     0.45643    0.00000  \n26595  0.00852  0.26951       354.85800     1.29291    0.00000  \n25147  0.00000  0.63369         6.94400     0.23219    0.69440  \n13662  0.00341  0.12420         5.75250     0.89435    0.04167  \n240208 0.00000  0.05530        16.59000     0.47400    0.00000  \n8690   0.01336  0.05543       136.29630     0.34048    0.13616  \n21749  0.11844  0.08430       494.72760     0.65039    1.44434  \n8647   0.03931  0.00245       465.29960     0.67736    3.29695  \n42176  0.05679  0.20529         0.26162     0.93698    0.06003  \n23628  0.02315  0.16846       772.26790     1.30082    3.01117  \n245367 0.08389  0.10049       523.56150     0.84671    0.96060  \n218126 0.00336  0.10007       141.76730     0.84598    0.11025  \n66066  0.11825  0.00650       895.63440     0.01767    6.12418  \n39447  0.00260  1.32807        29.31751     0.75128    0.97708  \n90223  0.14000  0.15522       401.62650     0.18961    1.80411  \n158400 0.09880  0.05718       388.70070     0.47670    1.73057  \n97621  0.11470  0.10174         1.04650     0.41160    0.15680  \n236504 0.23514  0.12025       921.79350     0.63054    2.85540  \n16685  0.20560  1.02318       126.21580     0.75996    0.11128  \n72818  0.00967  0.12280        21.35707     0.14749    0.51961  \n12729  0.09321  0.00214       335.46410     0.00646    1.71378  \n139603 0.27651  0.61507        16.27938     0.32383    0.35929  \n160099 0.03073  0.61702       269.87870     1.28420    1.76440  \n232723 0.51811  1.33536       267.86530     1.09841    0.08000  \n69882  0.29187  0.04648       138.41220     0.20621    0.01850  \n28011  0.07176  0.11252       267.44670     0.96944    0.46530  \n240992 0.28529  0.05583        16.77992     0.46718    1.96457  \n150685 0.07546  0.00303        23.00033     0.01918    0.70027  \n93168  0.12530  0.08089       944.52310     0.49387    0.86684  \n45782  0.10331  0.15940       532.81710     0.57333    1.46513  \n13525  0.02857  0.14128        34.89889     1.01593    0.73500  \n100072 0.11517  0.24125       751.62130     0.66185    0.06248  \n15023  0.02776  0.10187       600.52430     0.91253    0.68875  \n58431  0.45328  0.09651       570.14130     0.70538   22.33382  \n39374  0.14350  0.23110         0.06750     0.81944    0.23400  \n13464  0.17937  0.14076       241.57730     1.00975    0.65733  \n232906 0.22240  0.07629       398.32780     0.64190    0.44485  \n199581 0.08981  0.65127       409.26860     0.37861    0.92393  \n76659  0.24802  0.06617       397.76960     0.38792    2.15920  \n99742  0.01702  0.01162       828.09120     0.10795    0.00000  \n15889  0.15933  0.05534        16.60260     0.61369    0.00082  \n47872  0.02224  0.29922         1.22650     1.02381    0.69750  \n16679  0.11399  0.04314       784.45530     0.18253    3.88530  \n214944 0.16868  0.32257       207.32000     0.28306    0.24995  \n19135  0.04940  0.06227       743.11670     0.50583    0.92848  \n54196  0.28445  0.30406       222.07490     0.58465    3.30217  \n41393  0.25644  0.14338        19.18372     1.02711    0.32247  "
     },
     "execution_count": 429,
     "metadata": {},
     "output_type": "execute_result"
    }
   ],
   "source": [
    "asd[0:50]"
   ]
  },
  {
   "cell_type": "code",
   "execution_count": 430,
   "metadata": {},
   "outputs": [
    {
     "data": {
      "text/plain": "array([ 24035,  94113,  21422, 239137,  26595,  25147,  13662, 240208,\n         8690,  21749])"
     },
     "execution_count": 430,
     "metadata": {},
     "output_type": "execute_result"
    }
   ],
   "source": [
    "asd[0:10].index.to_numpy()"
   ]
  },
  {
   "cell_type": "code",
   "execution_count": 431,
   "metadata": {},
   "outputs": [
    {
     "data": {
      "text/html": "<div>\n<style scoped>\n    .dataframe tbody tr th:only-of-type {\n        vertical-align: middle;\n    }\n\n    .dataframe tbody tr th {\n        vertical-align: top;\n    }\n\n    .dataframe thead th {\n        text-align: right;\n    }\n</style>\n<table border=\"1\" class=\"dataframe\">\n  <thead>\n    <tr style=\"text-align: right;\">\n      <th>name</th>\n      <th>Calcium</th>\n      <th>Calories</th>\n      <th>Calories from Fat</th>\n      <th>Carbohydrates</th>\n      <th>Cholesterol</th>\n      <th>Dietary Fiber</th>\n      <th>Fat</th>\n      <th>Folate</th>\n      <th>Iron</th>\n      <th>Magnesium</th>\n      <th>Niacin Equivalents</th>\n      <th>Potassium</th>\n      <th>Protein</th>\n      <th>Saturated Fat</th>\n      <th>Sodium</th>\n      <th>Sugars</th>\n      <th>Thiamin</th>\n      <th>Vitamin A - IU</th>\n      <th>Vitamin B6</th>\n      <th>Vitamin C</th>\n    </tr>\n  </thead>\n  <tbody>\n    <tr>\n      <td>count</td>\n      <td>10.00000</td>\n      <td>10.00000</td>\n      <td>10.00000</td>\n      <td>10.00000</td>\n      <td>10.00000</td>\n      <td>10.00000</td>\n      <td>10.00000</td>\n      <td>10.00000</td>\n      <td>10.00000</td>\n      <td>10.00000</td>\n      <td>10.00000</td>\n      <td>10.00000</td>\n      <td>10.00000</td>\n      <td>10.00000</td>\n      <td>10.00000</td>\n      <td>10.00000</td>\n      <td>10.00000</td>\n      <td>10.00000</td>\n      <td>10.00000</td>\n      <td>10.00000</td>\n    </tr>\n    <tr>\n      <td>mean</td>\n      <td>28.44493</td>\n      <td>331.86876</td>\n      <td>176.97565</td>\n      <td>0.05063</td>\n      <td>114.70602</td>\n      <td>0.01441</td>\n      <td>19.66396</td>\n      <td>8.42683</td>\n      <td>4.36869</td>\n      <td>36.17567</td>\n      <td>15.46108</td>\n      <td>402.99730</td>\n      <td>36.39433</td>\n      <td>6.78872</td>\n      <td>405.11665</td>\n      <td>0.01560</td>\n      <td>0.23332</td>\n      <td>155.01973</td>\n      <td>0.62126</td>\n      <td>0.24158</td>\n    </tr>\n    <tr>\n      <td>std</td>\n      <td>20.62043</td>\n      <td>175.52979</td>\n      <td>107.73843</td>\n      <td>0.06518</td>\n      <td>61.25709</td>\n      <td>0.02899</td>\n      <td>11.97093</td>\n      <td>6.59899</td>\n      <td>4.90920</td>\n      <td>15.28027</td>\n      <td>6.40235</td>\n      <td>204.26726</td>\n      <td>18.57905</td>\n      <td>5.00701</td>\n      <td>425.08680</td>\n      <td>0.03643</td>\n      <td>0.27807</td>\n      <td>186.02701</td>\n      <td>0.33419</td>\n      <td>0.47315</td>\n    </tr>\n    <tr>\n      <td>min</td>\n      <td>5.95000</td>\n      <td>190.55750</td>\n      <td>86.22270</td>\n      <td>0.00000</td>\n      <td>67.15000</td>\n      <td>0.00000</td>\n      <td>9.58030</td>\n      <td>1.98500</td>\n      <td>0.79819</td>\n      <td>18.82775</td>\n      <td>7.12442</td>\n      <td>198.08500</td>\n      <td>22.98380</td>\n      <td>1.72994</td>\n      <td>58.50833</td>\n      <td>0.00000</td>\n      <td>0.05391</td>\n      <td>0.00000</td>\n      <td>0.23219</td>\n      <td>0.00000</td>\n    </tr>\n    <tr>\n      <td>25%</td>\n      <td>14.04347</td>\n      <td>227.09988</td>\n      <td>117.34180</td>\n      <td>0.00497</td>\n      <td>71.74249</td>\n      <td>0.00000</td>\n      <td>13.03798</td>\n      <td>3.82825</td>\n      <td>1.34672</td>\n      <td>22.70406</td>\n      <td>9.58787</td>\n      <td>238.43688</td>\n      <td>23.90248</td>\n      <td>4.07090</td>\n      <td>160.13387</td>\n      <td>0.00000</td>\n      <td>0.06140</td>\n      <td>6.94487</td>\n      <td>0.37442</td>\n      <td>0.00000</td>\n    </tr>\n    <tr>\n      <td>50%</td>\n      <td>18.70479</td>\n      <td>236.20300</td>\n      <td>131.50655</td>\n      <td>0.01220</td>\n      <td>83.84475</td>\n      <td>0.00000</td>\n      <td>14.61184</td>\n      <td>5.51012</td>\n      <td>2.88077</td>\n      <td>33.84019</td>\n      <td>15.31916</td>\n      <td>350.73045</td>\n      <td>26.22061</td>\n      <td>5.61383</td>\n      <td>202.23240</td>\n      <td>0.00360</td>\n      <td>0.10425</td>\n      <td>76.44315</td>\n      <td>0.51540</td>\n      <td>0.02083</td>\n    </tr>\n    <tr>\n      <td>75%</td>\n      <td>43.72512</td>\n      <td>412.58407</td>\n      <td>190.61260</td>\n      <td>0.08467</td>\n      <td>157.77746</td>\n      <td>0.01425</td>\n      <td>21.17918</td>\n      <td>13.34584</td>\n      <td>4.15801</td>\n      <td>49.74599</td>\n      <td>21.32081</td>\n      <td>548.35560</td>\n      <td>52.77548</td>\n      <td>7.78108</td>\n      <td>598.24150</td>\n      <td>0.00852</td>\n      <td>0.23585</td>\n      <td>305.53745</td>\n      <td>0.83336</td>\n      <td>0.12693</td>\n    </tr>\n    <tr>\n      <td>max</td>\n      <td>63.28278</td>\n      <td>710.57900</td>\n      <td>450.46280</td>\n      <td>0.16583</td>\n      <td>218.69000</td>\n      <td>0.08948</td>\n      <td>50.05142</td>\n      <td>20.58600</td>\n      <td>16.53440</td>\n      <td>59.27167</td>\n      <td>24.10592</td>\n      <td>767.24800</td>\n      <td>66.38522</td>\n      <td>19.09217</td>\n      <td>1418.20600</td>\n      <td>0.11844</td>\n      <td>0.84263</td>\n      <td>494.72760</td>\n      <td>1.29291</td>\n      <td>1.44434</td>\n    </tr>\n  </tbody>\n</table>\n</div>",
      "text/plain": "name   Calcium  Calories  Calories from Fat  Carbohydrates  Cholesterol  \\\ncount 10.00000  10.00000           10.00000       10.00000     10.00000   \nmean  28.44493 331.86876          176.97565        0.05063    114.70602   \nstd   20.62043 175.52979          107.73843        0.06518     61.25709   \nmin    5.95000 190.55750           86.22270        0.00000     67.15000   \n25%   14.04347 227.09988          117.34180        0.00497     71.74249   \n50%   18.70479 236.20300          131.50655        0.01220     83.84475   \n75%   43.72512 412.58407          190.61260        0.08467    157.77746   \nmax   63.28278 710.57900          450.46280        0.16583    218.69000   \n\nname   Dietary Fiber      Fat   Folate     Iron  Magnesium  \\\ncount       10.00000 10.00000 10.00000 10.00000   10.00000   \nmean         0.01441 19.66396  8.42683  4.36869   36.17567   \nstd          0.02899 11.97093  6.59899  4.90920   15.28027   \nmin          0.00000  9.58030  1.98500  0.79819   18.82775   \n25%          0.00000 13.03798  3.82825  1.34672   22.70406   \n50%          0.00000 14.61184  5.51012  2.88077   33.84019   \n75%          0.01425 21.17918 13.34584  4.15801   49.74599   \nmax          0.08948 50.05142 20.58600 16.53440   59.27167   \n\nname   Niacin Equivalents  Potassium  Protein  Saturated Fat     Sodium  \\\ncount            10.00000   10.00000 10.00000       10.00000   10.00000   \nmean             15.46108  402.99730 36.39433        6.78872  405.11665   \nstd               6.40235  204.26726 18.57905        5.00701  425.08680   \nmin               7.12442  198.08500 22.98380        1.72994   58.50833   \n25%               9.58787  238.43688 23.90248        4.07090  160.13387   \n50%              15.31916  350.73045 26.22061        5.61383  202.23240   \n75%              21.32081  548.35560 52.77548        7.78108  598.24150   \nmax              24.10592  767.24800 66.38522       19.09217 1418.20600   \n\nname    Sugars  Thiamin  Vitamin A - IU  Vitamin B6  Vitamin C  \ncount 10.00000 10.00000        10.00000    10.00000   10.00000  \nmean   0.01560  0.23332       155.01973     0.62126    0.24158  \nstd    0.03643  0.27807       186.02701     0.33419    0.47315  \nmin    0.00000  0.05391         0.00000     0.23219    0.00000  \n25%    0.00000  0.06140         6.94487     0.37442    0.00000  \n50%    0.00360  0.10425        76.44315     0.51540    0.02083  \n75%    0.00852  0.23585       305.53745     0.83336    0.12693  \nmax    0.11844  0.84263       494.72760     1.29291    1.44434  "
     },
     "execution_count": 431,
     "metadata": {},
     "output_type": "execute_result"
    }
   ],
   "source": [
    "random_nut_normal.describe()"
   ]
  },
  {
   "cell_type": "code",
   "execution_count": 432,
   "metadata": {},
   "outputs": [],
   "source": [
    "subset_fat_asd = nutrition_fat_naiv[(nutrition_fat_naiv['Fat'] >= 10) & (nutrition_fat_naiv['Fat'] <= 15)].sample(n=8).copy()"
   ]
  },
  {
   "cell_type": "code",
   "execution_count": null,
   "metadata": {},
   "outputs": [],
   "source": []
  },
  {
   "cell_type": "code",
   "execution_count": 433,
   "metadata": {},
   "outputs": [
    {
     "data": {
      "text/html": "<div>\n<style scoped>\n    .dataframe tbody tr th:only-of-type {\n        vertical-align: middle;\n    }\n\n    .dataframe tbody tr th {\n        vertical-align: top;\n    }\n\n    .dataframe thead th {\n        text-align: right;\n    }\n</style>\n<table border=\"1\" class=\"dataframe\">\n  <thead>\n    <tr style=\"text-align: right;\">\n      <th>name</th>\n      <th>Calcium</th>\n      <th>Calories</th>\n      <th>Calories from Fat</th>\n      <th>Carbohydrates</th>\n      <th>Cholesterol</th>\n      <th>Dietary Fiber</th>\n      <th>Fat</th>\n      <th>Folate</th>\n      <th>Iron</th>\n      <th>Magnesium</th>\n      <th>Niacin Equivalents</th>\n      <th>Potassium</th>\n      <th>Protein</th>\n      <th>Saturated Fat</th>\n      <th>Sodium</th>\n      <th>Sugars</th>\n      <th>Thiamin</th>\n      <th>Vitamin A - IU</th>\n      <th>Vitamin B6</th>\n      <th>Vitamin C</th>\n    </tr>\n  </thead>\n  <tbody>\n    <tr>\n      <td>count</td>\n      <td>8.00000</td>\n      <td>8.00000</td>\n      <td>8.00000</td>\n      <td>8.00000</td>\n      <td>8.00000</td>\n      <td>8.00000</td>\n      <td>8.00000</td>\n      <td>8.00000</td>\n      <td>8.00000</td>\n      <td>8.00000</td>\n      <td>8.00000</td>\n      <td>8.00000</td>\n      <td>8.00000</td>\n      <td>8.00000</td>\n      <td>8.00000</td>\n      <td>8.00000</td>\n      <td>8.00000</td>\n      <td>8.00000</td>\n      <td>8.00000</td>\n      <td>8.00000</td>\n    </tr>\n    <tr>\n      <td>mean</td>\n      <td>162.80304</td>\n      <td>334.50117</td>\n      <td>123.01987</td>\n      <td>32.78413</td>\n      <td>67.18158</td>\n      <td>4.00545</td>\n      <td>13.66888</td>\n      <td>91.52332</td>\n      <td>3.08246</td>\n      <td>48.43924</td>\n      <td>8.95656</td>\n      <td>608.06612</td>\n      <td>20.27056</td>\n      <td>5.84605</td>\n      <td>617.81806</td>\n      <td>6.73912</td>\n      <td>0.27280</td>\n      <td>1990.47048</td>\n      <td>0.43365</td>\n      <td>32.21983</td>\n    </tr>\n    <tr>\n      <td>std</td>\n      <td>118.70006</td>\n      <td>86.45515</td>\n      <td>11.09020</td>\n      <td>19.87579</td>\n      <td>11.43892</td>\n      <td>2.94701</td>\n      <td>1.23224</td>\n      <td>70.15791</td>\n      <td>1.11092</td>\n      <td>20.77865</td>\n      <td>2.33444</td>\n      <td>464.87719</td>\n      <td>4.59847</td>\n      <td>1.50548</td>\n      <td>349.37536</td>\n      <td>4.28400</td>\n      <td>0.21137</td>\n      <td>4074.32996</td>\n      <td>0.31372</td>\n      <td>35.18379</td>\n    </tr>\n    <tr>\n      <td>min</td>\n      <td>42.22150</td>\n      <td>200.50960</td>\n      <td>96.83125</td>\n      <td>8.50724</td>\n      <td>53.31907</td>\n      <td>0.18479</td>\n      <td>10.75903</td>\n      <td>19.02514</td>\n      <td>1.61694</td>\n      <td>22.19329</td>\n      <td>6.48622</td>\n      <td>202.27820</td>\n      <td>11.25829</td>\n      <td>3.22836</td>\n      <td>132.19910</td>\n      <td>2.23212</td>\n      <td>0.06435</td>\n      <td>124.58660</td>\n      <td>0.16549</td>\n      <td>0.24869</td>\n    </tr>\n    <tr>\n      <td>25%</td>\n      <td>88.16350</td>\n      <td>287.39178</td>\n      <td>122.28388</td>\n      <td>19.57224</td>\n      <td>55.15042</td>\n      <td>2.41122</td>\n      <td>13.58710</td>\n      <td>54.77253</td>\n      <td>2.16691</td>\n      <td>37.15158</td>\n      <td>7.09761</td>\n      <td>287.17927</td>\n      <td>18.83971</td>\n      <td>5.27881</td>\n      <td>422.60060</td>\n      <td>3.92589</td>\n      <td>0.14520</td>\n      <td>405.76583</td>\n      <td>0.24251</td>\n      <td>1.50123</td>\n    </tr>\n    <tr>\n      <td>50%</td>\n      <td>117.79295</td>\n      <td>338.04640</td>\n      <td>127.18270</td>\n      <td>27.61447</td>\n      <td>71.05518</td>\n      <td>2.62511</td>\n      <td>14.13142</td>\n      <td>63.03995</td>\n      <td>3.18240</td>\n      <td>47.48286</td>\n      <td>8.56762</td>\n      <td>491.94015</td>\n      <td>21.39810</td>\n      <td>5.76511</td>\n      <td>665.69385</td>\n      <td>6.00521</td>\n      <td>0.20866</td>\n      <td>592.38995</td>\n      <td>0.35662</td>\n      <td>19.70184</td>\n    </tr>\n    <tr>\n      <td>75%</td>\n      <td>212.52058</td>\n      <td>394.08360</td>\n      <td>128.54217</td>\n      <td>54.38408</td>\n      <td>72.83828</td>\n      <td>6.15036</td>\n      <td>14.28247</td>\n      <td>106.04683</td>\n      <td>3.77064</td>\n      <td>54.78190</td>\n      <td>10.08627</td>\n      <td>733.37680</td>\n      <td>22.93564</td>\n      <td>6.74809</td>\n      <td>836.35553</td>\n      <td>8.35532</td>\n      <td>0.35260</td>\n      <td>786.99420</td>\n      <td>0.50485</td>\n      <td>61.95011</td>\n    </tr>\n    <tr>\n      <td>max</td>\n      <td>348.36540</td>\n      <td>451.01290</td>\n      <td>131.31390</td>\n      <td>55.97997</td>\n      <td>83.48000</td>\n      <td>8.34100</td>\n      <td>14.59043</td>\n      <td>232.06060</td>\n      <td>4.67316</td>\n      <td>88.10890</td>\n      <td>13.20469</td>\n      <td>1621.57200</td>\n      <td>25.49099</td>\n      <td>8.03736</td>\n      <td>1054.25900</td>\n      <td>15.31507</td>\n      <td>0.71992</td>\n      <td>12034.20000</td>\n      <td>1.12891</td>\n      <td>85.11700</td>\n    </tr>\n  </tbody>\n</table>\n</div>",
      "text/plain": "name    Calcium  Calories  Calories from Fat  Carbohydrates  Cholesterol  \\\ncount   8.00000   8.00000            8.00000        8.00000      8.00000   \nmean  162.80304 334.50117          123.01987       32.78413     67.18158   \nstd   118.70006  86.45515           11.09020       19.87579     11.43892   \nmin    42.22150 200.50960           96.83125        8.50724     53.31907   \n25%    88.16350 287.39178          122.28388       19.57224     55.15042   \n50%   117.79295 338.04640          127.18270       27.61447     71.05518   \n75%   212.52058 394.08360          128.54217       54.38408     72.83828   \nmax   348.36540 451.01290          131.31390       55.97997     83.48000   \n\nname   Dietary Fiber      Fat    Folate    Iron  Magnesium  \\\ncount        8.00000  8.00000   8.00000 8.00000    8.00000   \nmean         4.00545 13.66888  91.52332 3.08246   48.43924   \nstd          2.94701  1.23224  70.15791 1.11092   20.77865   \nmin          0.18479 10.75903  19.02514 1.61694   22.19329   \n25%          2.41122 13.58710  54.77253 2.16691   37.15158   \n50%          2.62511 14.13142  63.03995 3.18240   47.48286   \n75%          6.15036 14.28247 106.04683 3.77064   54.78190   \nmax          8.34100 14.59043 232.06060 4.67316   88.10890   \n\nname   Niacin Equivalents  Potassium  Protein  Saturated Fat     Sodium  \\\ncount             8.00000    8.00000  8.00000        8.00000    8.00000   \nmean              8.95656  608.06612 20.27056        5.84605  617.81806   \nstd               2.33444  464.87719  4.59847        1.50548  349.37536   \nmin               6.48622  202.27820 11.25829        3.22836  132.19910   \n25%               7.09761  287.17927 18.83971        5.27881  422.60060   \n50%               8.56762  491.94015 21.39810        5.76511  665.69385   \n75%              10.08627  733.37680 22.93564        6.74809  836.35553   \nmax              13.20469 1621.57200 25.49099        8.03736 1054.25900   \n\nname    Sugars  Thiamin  Vitamin A - IU  Vitamin B6  Vitamin C  \ncount  8.00000  8.00000         8.00000     8.00000    8.00000  \nmean   6.73912  0.27280      1990.47048     0.43365   32.21983  \nstd    4.28400  0.21137      4074.32996     0.31372   35.18379  \nmin    2.23212  0.06435       124.58660     0.16549    0.24869  \n25%    3.92589  0.14520       405.76583     0.24251    1.50123  \n50%    6.00521  0.20866       592.38995     0.35662   19.70184  \n75%    8.35532  0.35260       786.99420     0.50485   61.95011  \nmax   15.31507  0.71992     12034.20000     1.12891   85.11700  "
     },
     "execution_count": 433,
     "metadata": {},
     "output_type": "execute_result"
    }
   ],
   "source": [
    "subset_fat_asd.describe()"
   ]
  },
  {
   "cell_type": "code",
   "execution_count": 434,
   "metadata": {},
   "outputs": [],
   "source": [
    "new_df = subset_fat_asd[['Calories', 'Calories from Fat', 'Carbohydrates', 'Fat', 'Saturated Fat', 'Protein', 'Calcium', 'Magnesium', 'Iron' ]]"
   ]
  },
  {
   "cell_type": "code",
   "execution_count": 435,
   "metadata": {},
   "outputs": [
    {
     "data": {
      "text/html": "<div>\n<style scoped>\n    .dataframe tbody tr th:only-of-type {\n        vertical-align: middle;\n    }\n\n    .dataframe tbody tr th {\n        vertical-align: top;\n    }\n\n    .dataframe thead th {\n        text-align: right;\n    }\n</style>\n<table border=\"1\" class=\"dataframe\">\n  <thead>\n    <tr style=\"text-align: right;\">\n      <th>name</th>\n      <th>Calories</th>\n      <th>Calories from Fat</th>\n      <th>Carbohydrates</th>\n      <th>Fat</th>\n      <th>Saturated Fat</th>\n      <th>Protein</th>\n      <th>Calcium</th>\n      <th>Magnesium</th>\n      <th>Iron</th>\n    </tr>\n  </thead>\n  <tbody>\n    <tr>\n      <td>count</td>\n      <td>8.00000</td>\n      <td>8.00000</td>\n      <td>8.00000</td>\n      <td>8.00000</td>\n      <td>8.00000</td>\n      <td>8.00000</td>\n      <td>8.00000</td>\n      <td>8.00000</td>\n      <td>8.00000</td>\n    </tr>\n    <tr>\n      <td>mean</td>\n      <td>334.50117</td>\n      <td>123.01987</td>\n      <td>32.78413</td>\n      <td>13.66888</td>\n      <td>5.84605</td>\n      <td>20.27056</td>\n      <td>162.80304</td>\n      <td>48.43924</td>\n      <td>3.08246</td>\n    </tr>\n    <tr>\n      <td>std</td>\n      <td>86.45515</td>\n      <td>11.09020</td>\n      <td>19.87579</td>\n      <td>1.23224</td>\n      <td>1.50548</td>\n      <td>4.59847</td>\n      <td>118.70006</td>\n      <td>20.77865</td>\n      <td>1.11092</td>\n    </tr>\n    <tr>\n      <td>min</td>\n      <td>200.50960</td>\n      <td>96.83125</td>\n      <td>8.50724</td>\n      <td>10.75903</td>\n      <td>3.22836</td>\n      <td>11.25829</td>\n      <td>42.22150</td>\n      <td>22.19329</td>\n      <td>1.61694</td>\n    </tr>\n    <tr>\n      <td>25%</td>\n      <td>287.39178</td>\n      <td>122.28388</td>\n      <td>19.57224</td>\n      <td>13.58710</td>\n      <td>5.27881</td>\n      <td>18.83971</td>\n      <td>88.16350</td>\n      <td>37.15158</td>\n      <td>2.16691</td>\n    </tr>\n    <tr>\n      <td>50%</td>\n      <td>338.04640</td>\n      <td>127.18270</td>\n      <td>27.61447</td>\n      <td>14.13142</td>\n      <td>5.76511</td>\n      <td>21.39810</td>\n      <td>117.79295</td>\n      <td>47.48286</td>\n      <td>3.18240</td>\n    </tr>\n    <tr>\n      <td>75%</td>\n      <td>394.08360</td>\n      <td>128.54217</td>\n      <td>54.38408</td>\n      <td>14.28247</td>\n      <td>6.74809</td>\n      <td>22.93564</td>\n      <td>212.52058</td>\n      <td>54.78190</td>\n      <td>3.77064</td>\n    </tr>\n    <tr>\n      <td>max</td>\n      <td>451.01290</td>\n      <td>131.31390</td>\n      <td>55.97997</td>\n      <td>14.59043</td>\n      <td>8.03736</td>\n      <td>25.49099</td>\n      <td>348.36540</td>\n      <td>88.10890</td>\n      <td>4.67316</td>\n    </tr>\n  </tbody>\n</table>\n</div>",
      "text/plain": "name   Calories  Calories from Fat  Carbohydrates      Fat  Saturated Fat  \\\ncount   8.00000            8.00000        8.00000  8.00000        8.00000   \nmean  334.50117          123.01987       32.78413 13.66888        5.84605   \nstd    86.45515           11.09020       19.87579  1.23224        1.50548   \nmin   200.50960           96.83125        8.50724 10.75903        3.22836   \n25%   287.39178          122.28388       19.57224 13.58710        5.27881   \n50%   338.04640          127.18270       27.61447 14.13142        5.76511   \n75%   394.08360          128.54217       54.38408 14.28247        6.74809   \nmax   451.01290          131.31390       55.97997 14.59043        8.03736   \n\nname   Protein   Calcium  Magnesium    Iron  \ncount  8.00000   8.00000    8.00000 8.00000  \nmean  20.27056 162.80304   48.43924 3.08246  \nstd    4.59847 118.70006   20.77865 1.11092  \nmin   11.25829  42.22150   22.19329 1.61694  \n25%   18.83971  88.16350   37.15158 2.16691  \n50%   21.39810 117.79295   47.48286 3.18240  \n75%   22.93564 212.52058   54.78190 3.77064  \nmax   25.49099 348.36540   88.10890 4.67316  "
     },
     "execution_count": 435,
     "metadata": {},
     "output_type": "execute_result"
    }
   ],
   "source": [
    "new_df.describe()"
   ]
  },
  {
   "cell_type": "code",
   "execution_count": null,
   "metadata": {},
   "outputs": [],
   "source": []
  },
  {
   "cell_type": "code",
   "execution_count": null,
   "metadata": {},
   "outputs": [],
   "source": []
  },
  {
   "cell_type": "code",
   "execution_count": 436,
   "metadata": {},
   "outputs": [],
   "source": [
    "#  ------ Erstellung und cleansing des Nutrition Dataframes\n",
    "\n",
    "# erstelle neue liste auf basis der bereits gefilterten rezepte aus ingredients_filt\n",
    "id_overlap_mask = nutritions['id'].isin(new_recipe_db_wo_userrecipes_normal.sample(n=10, random_state=0).index.to_numpy())\n",
    "\n",
    "# erstelle datenframe auf basis der overlapliste\n",
    "nutritions_filt = nutritions.loc[id_overlap_mask]\n",
    "\n",
    "nutrition_random_10_normal = nutritions_filt.pivot_table(\n",
    "    index=['id'],\n",
    "    columns=['name'],\n",
    "    values=['amount'],\n",
    ").reset_index()\n",
    "\n",
    "nutrition_random_10_normal.set_index('id', inplace=True)\n",
    "\n",
    "# remove multiindex 'amount'\n",
    "nutrition_random_10_normal.columns = nutrition_random_10_normal.columns.droplevel(0)\n",
    "\n",
    "# entferne alle NA\n",
    "nutrition_random_10_normal = nutrition_random_10_normal.dropna()"
   ]
  },
  {
   "cell_type": "code",
   "execution_count": 437,
   "metadata": {},
   "outputs": [
    {
     "data": {
      "text/html": "<div>\n<style scoped>\n    .dataframe tbody tr th:only-of-type {\n        vertical-align: middle;\n    }\n\n    .dataframe tbody tr th {\n        vertical-align: top;\n    }\n\n    .dataframe thead th {\n        text-align: right;\n    }\n</style>\n<table border=\"1\" class=\"dataframe\">\n  <thead>\n    <tr style=\"text-align: right;\">\n      <th>name</th>\n      <th>Calcium</th>\n      <th>Calories</th>\n      <th>Calories from Fat</th>\n      <th>Carbohydrates</th>\n      <th>Cholesterol</th>\n      <th>Dietary Fiber</th>\n      <th>Fat</th>\n      <th>Folate</th>\n      <th>Iron</th>\n      <th>Magnesium</th>\n      <th>Niacin Equivalents</th>\n      <th>Potassium</th>\n      <th>Protein</th>\n      <th>Saturated Fat</th>\n      <th>Sodium</th>\n      <th>Sugars</th>\n      <th>Thiamin</th>\n      <th>Vitamin A - IU</th>\n      <th>Vitamin B6</th>\n      <th>Vitamin C</th>\n    </tr>\n  </thead>\n  <tbody>\n    <tr>\n      <td>count</td>\n      <td>10.00000</td>\n      <td>10.00000</td>\n      <td>10.00000</td>\n      <td>10.00000</td>\n      <td>10.00000</td>\n      <td>10.00000</td>\n      <td>10.00000</td>\n      <td>10.00000</td>\n      <td>10.00000</td>\n      <td>10.00000</td>\n      <td>10.00000</td>\n      <td>10.00000</td>\n      <td>10.00000</td>\n      <td>10.00000</td>\n      <td>10.00000</td>\n      <td>10.00000</td>\n      <td>10.00000</td>\n      <td>10.00000</td>\n      <td>10.00000</td>\n      <td>10.00000</td>\n    </tr>\n    <tr>\n      <td>mean</td>\n      <td>97.28871</td>\n      <td>435.19290</td>\n      <td>209.15793</td>\n      <td>25.31728</td>\n      <td>121.74253</td>\n      <td>2.06578</td>\n      <td>23.23977</td>\n      <td>56.75383</td>\n      <td>3.10080</td>\n      <td>50.78209</td>\n      <td>14.13487</td>\n      <td>484.92607</td>\n      <td>29.76400</td>\n      <td>7.03595</td>\n      <td>979.85422</td>\n      <td>5.79723</td>\n      <td>0.21942</td>\n      <td>2887.82834</td>\n      <td>0.52851</td>\n      <td>13.16883</td>\n    </tr>\n    <tr>\n      <td>std</td>\n      <td>78.73340</td>\n      <td>142.26302</td>\n      <td>157.57367</td>\n      <td>19.92788</td>\n      <td>54.34168</td>\n      <td>1.77159</td>\n      <td>17.50818</td>\n      <td>48.25503</td>\n      <td>1.33899</td>\n      <td>27.54426</td>\n      <td>6.05306</td>\n      <td>260.57846</td>\n      <td>8.83564</td>\n      <td>4.18763</td>\n      <td>1096.05323</td>\n      <td>9.15937</td>\n      <td>0.10799</td>\n      <td>7527.37123</td>\n      <td>0.24171</td>\n      <td>16.89636</td>\n    </tr>\n    <tr>\n      <td>min</td>\n      <td>21.47987</td>\n      <td>320.10040</td>\n      <td>87.80512</td>\n      <td>2.57644</td>\n      <td>41.49303</td>\n      <td>0.06054</td>\n      <td>9.75612</td>\n      <td>6.51380</td>\n      <td>1.79438</td>\n      <td>26.28246</td>\n      <td>8.50346</td>\n      <td>262.10830</td>\n      <td>22.02634</td>\n      <td>1.88752</td>\n      <td>254.69760</td>\n      <td>0.13450</td>\n      <td>0.08308</td>\n      <td>79.34875</td>\n      <td>0.22895</td>\n      <td>0.00000</td>\n    </tr>\n    <tr>\n      <td>25%</td>\n      <td>56.13166</td>\n      <td>365.66660</td>\n      <td>134.46865</td>\n      <td>11.12530</td>\n      <td>82.39769</td>\n      <td>0.77895</td>\n      <td>14.94096</td>\n      <td>30.26054</td>\n      <td>1.97259</td>\n      <td>33.68068</td>\n      <td>9.86245</td>\n      <td>299.20815</td>\n      <td>25.25222</td>\n      <td>3.81110</td>\n      <td>315.61507</td>\n      <td>1.63075</td>\n      <td>0.17333</td>\n      <td>298.29765</td>\n      <td>0.39468</td>\n      <td>1.48278</td>\n    </tr>\n    <tr>\n      <td>50%</td>\n      <td>68.26243</td>\n      <td>381.72410</td>\n      <td>178.18075</td>\n      <td>20.24820</td>\n      <td>114.26835</td>\n      <td>1.67803</td>\n      <td>19.79786</td>\n      <td>48.06017</td>\n      <td>2.68679</td>\n      <td>39.11582</td>\n      <td>12.86435</td>\n      <td>352.33340</td>\n      <td>27.10081</td>\n      <td>6.05637</td>\n      <td>710.78105</td>\n      <td>2.42703</td>\n      <td>0.21086</td>\n      <td>526.89785</td>\n      <td>0.47320</td>\n      <td>5.72612</td>\n    </tr>\n    <tr>\n      <td>75%</td>\n      <td>100.03805</td>\n      <td>459.51370</td>\n      <td>194.81890</td>\n      <td>31.70747</td>\n      <td>173.22925</td>\n      <td>2.70763</td>\n      <td>21.64654</td>\n      <td>69.66164</td>\n      <td>4.10871</td>\n      <td>64.17368</td>\n      <td>16.34769</td>\n      <td>703.39065</td>\n      <td>30.76011</td>\n      <td>9.76885</td>\n      <td>1103.39802</td>\n      <td>6.22420</td>\n      <td>0.25496</td>\n      <td>795.31140</td>\n      <td>0.55954</td>\n      <td>17.27151</td>\n    </tr>\n    <tr>\n      <td>max</td>\n      <td>264.38860</td>\n      <td>808.13880</td>\n      <td>635.59940</td>\n      <td>62.10049</td>\n      <td>194.77960</td>\n      <td>5.48290</td>\n      <td>70.62215</td>\n      <td>172.27980</td>\n      <td>5.74535</td>\n      <td>114.62010</td>\n      <td>28.49606</td>\n      <td>893.34750</td>\n      <td>53.39647</td>\n      <td>13.92243</td>\n      <td>3930.28400</td>\n      <td>30.84370</td>\n      <td>0.45015</td>\n      <td>24293.95000</td>\n      <td>1.03521</td>\n      <td>43.64300</td>\n    </tr>\n  </tbody>\n</table>\n</div>",
      "text/plain": "name    Calcium  Calories  Calories from Fat  Carbohydrates  Cholesterol  \\\ncount  10.00000  10.00000           10.00000       10.00000     10.00000   \nmean   97.28871 435.19290          209.15793       25.31728    121.74253   \nstd    78.73340 142.26302          157.57367       19.92788     54.34168   \nmin    21.47987 320.10040           87.80512        2.57644     41.49303   \n25%    56.13166 365.66660          134.46865       11.12530     82.39769   \n50%    68.26243 381.72410          178.18075       20.24820    114.26835   \n75%   100.03805 459.51370          194.81890       31.70747    173.22925   \nmax   264.38860 808.13880          635.59940       62.10049    194.77960   \n\nname   Dietary Fiber      Fat    Folate     Iron  Magnesium  \\\ncount       10.00000 10.00000  10.00000 10.00000   10.00000   \nmean         2.06578 23.23977  56.75383  3.10080   50.78209   \nstd          1.77159 17.50818  48.25503  1.33899   27.54426   \nmin          0.06054  9.75612   6.51380  1.79438   26.28246   \n25%          0.77895 14.94096  30.26054  1.97259   33.68068   \n50%          1.67803 19.79786  48.06017  2.68679   39.11582   \n75%          2.70763 21.64654  69.66164  4.10871   64.17368   \nmax          5.48290 70.62215 172.27980  5.74535  114.62010   \n\nname   Niacin Equivalents  Potassium  Protein  Saturated Fat     Sodium  \\\ncount            10.00000   10.00000 10.00000       10.00000   10.00000   \nmean             14.13487  484.92607 29.76400        7.03595  979.85422   \nstd               6.05306  260.57846  8.83564        4.18763 1096.05323   \nmin               8.50346  262.10830 22.02634        1.88752  254.69760   \n25%               9.86245  299.20815 25.25222        3.81110  315.61507   \n50%              12.86435  352.33340 27.10081        6.05637  710.78105   \n75%              16.34769  703.39065 30.76011        9.76885 1103.39802   \nmax              28.49606  893.34750 53.39647       13.92243 3930.28400   \n\nname    Sugars  Thiamin  Vitamin A - IU  Vitamin B6  Vitamin C  \ncount 10.00000 10.00000        10.00000    10.00000   10.00000  \nmean   5.79723  0.21942      2887.82834     0.52851   13.16883  \nstd    9.15937  0.10799      7527.37123     0.24171   16.89636  \nmin    0.13450  0.08308        79.34875     0.22895    0.00000  \n25%    1.63075  0.17333       298.29765     0.39468    1.48278  \n50%    2.42703  0.21086       526.89785     0.47320    5.72612  \n75%    6.22420  0.25496       795.31140     0.55954   17.27151  \nmax   30.84370  0.45015     24293.95000     1.03521   43.64300  "
     },
     "execution_count": 437,
     "metadata": {},
     "output_type": "execute_result"
    }
   ],
   "source": [
    "nutrition_random_10_normal.describe()"
   ]
  },
  {
   "cell_type": "code",
   "execution_count": 438,
   "metadata": {},
   "outputs": [],
   "source": [
    "new_df = nutrition_random_10_normal[['Calories', 'Calories from Fat', 'Carbohydrates', 'Fat', 'Saturated Fat', 'Protein', 'Calcium', 'Magnesium', 'Iron' ]]"
   ]
  },
  {
   "cell_type": "code",
   "execution_count": 439,
   "metadata": {},
   "outputs": [
    {
     "data": {
      "text/html": "<div>\n<style scoped>\n    .dataframe tbody tr th:only-of-type {\n        vertical-align: middle;\n    }\n\n    .dataframe tbody tr th {\n        vertical-align: top;\n    }\n\n    .dataframe thead th {\n        text-align: right;\n    }\n</style>\n<table border=\"1\" class=\"dataframe\">\n  <thead>\n    <tr style=\"text-align: right;\">\n      <th>name</th>\n      <th>Calories</th>\n      <th>Calories from Fat</th>\n      <th>Carbohydrates</th>\n      <th>Fat</th>\n      <th>Saturated Fat</th>\n      <th>Protein</th>\n      <th>Calcium</th>\n      <th>Magnesium</th>\n      <th>Iron</th>\n    </tr>\n  </thead>\n  <tbody>\n    <tr>\n      <td>count</td>\n      <td>10.00000</td>\n      <td>10.00000</td>\n      <td>10.00000</td>\n      <td>10.00000</td>\n      <td>10.00000</td>\n      <td>10.00000</td>\n      <td>10.00000</td>\n      <td>10.00000</td>\n      <td>10.00000</td>\n    </tr>\n    <tr>\n      <td>mean</td>\n      <td>435.19290</td>\n      <td>209.15793</td>\n      <td>25.31728</td>\n      <td>23.23977</td>\n      <td>7.03595</td>\n      <td>29.76400</td>\n      <td>97.28871</td>\n      <td>50.78209</td>\n      <td>3.10080</td>\n    </tr>\n    <tr>\n      <td>std</td>\n      <td>142.26302</td>\n      <td>157.57367</td>\n      <td>19.92788</td>\n      <td>17.50818</td>\n      <td>4.18763</td>\n      <td>8.83564</td>\n      <td>78.73340</td>\n      <td>27.54426</td>\n      <td>1.33899</td>\n    </tr>\n    <tr>\n      <td>min</td>\n      <td>320.10040</td>\n      <td>87.80512</td>\n      <td>2.57644</td>\n      <td>9.75612</td>\n      <td>1.88752</td>\n      <td>22.02634</td>\n      <td>21.47987</td>\n      <td>26.28246</td>\n      <td>1.79438</td>\n    </tr>\n    <tr>\n      <td>25%</td>\n      <td>365.66660</td>\n      <td>134.46865</td>\n      <td>11.12530</td>\n      <td>14.94096</td>\n      <td>3.81110</td>\n      <td>25.25222</td>\n      <td>56.13166</td>\n      <td>33.68068</td>\n      <td>1.97259</td>\n    </tr>\n    <tr>\n      <td>50%</td>\n      <td>381.72410</td>\n      <td>178.18075</td>\n      <td>20.24820</td>\n      <td>19.79786</td>\n      <td>6.05637</td>\n      <td>27.10081</td>\n      <td>68.26243</td>\n      <td>39.11582</td>\n      <td>2.68679</td>\n    </tr>\n    <tr>\n      <td>75%</td>\n      <td>459.51370</td>\n      <td>194.81890</td>\n      <td>31.70747</td>\n      <td>21.64654</td>\n      <td>9.76885</td>\n      <td>30.76011</td>\n      <td>100.03805</td>\n      <td>64.17368</td>\n      <td>4.10871</td>\n    </tr>\n    <tr>\n      <td>max</td>\n      <td>808.13880</td>\n      <td>635.59940</td>\n      <td>62.10049</td>\n      <td>70.62215</td>\n      <td>13.92243</td>\n      <td>53.39647</td>\n      <td>264.38860</td>\n      <td>114.62010</td>\n      <td>5.74535</td>\n    </tr>\n  </tbody>\n</table>\n</div>",
      "text/plain": "name   Calories  Calories from Fat  Carbohydrates      Fat  Saturated Fat  \\\ncount  10.00000           10.00000       10.00000 10.00000       10.00000   \nmean  435.19290          209.15793       25.31728 23.23977        7.03595   \nstd   142.26302          157.57367       19.92788 17.50818        4.18763   \nmin   320.10040           87.80512        2.57644  9.75612        1.88752   \n25%   365.66660          134.46865       11.12530 14.94096        3.81110   \n50%   381.72410          178.18075       20.24820 19.79786        6.05637   \n75%   459.51370          194.81890       31.70747 21.64654        9.76885   \nmax   808.13880          635.59940       62.10049 70.62215       13.92243   \n\nname   Protein   Calcium  Magnesium     Iron  \ncount 10.00000  10.00000   10.00000 10.00000  \nmean  29.76400  97.28871   50.78209  3.10080  \nstd    8.83564  78.73340   27.54426  1.33899  \nmin   22.02634  21.47987   26.28246  1.79438  \n25%   25.25222  56.13166   33.68068  1.97259  \n50%   27.10081  68.26243   39.11582  2.68679  \n75%   30.76011 100.03805   64.17368  4.10871  \nmax   53.39647 264.38860  114.62010  5.74535  "
     },
     "execution_count": 439,
     "metadata": {},
     "output_type": "execute_result"
    }
   ],
   "source": [
    "new_df.describe()"
   ]
  },
  {
   "cell_type": "code",
   "execution_count": 440,
   "metadata": {},
   "outputs": [
    {
     "data": {
      "text/plain": "array([  8600,  16862,  26637,  27987,  31045,  75790, 142951, 158429,\n       177497, 216942])"
     },
     "execution_count": 440,
     "metadata": {},
     "output_type": "execute_result"
    }
   ],
   "source": [
    "nutrition_random_10_normal.index.to_numpy()"
   ]
  },
  {
   "cell_type": "code",
   "execution_count": null,
   "metadata": {},
   "outputs": [],
   "source": []
  },
  {
   "cell_type": "code",
   "execution_count": null,
   "metadata": {},
   "outputs": [],
   "source": []
  },
  {
   "cell_type": "code",
   "execution_count": null,
   "metadata": {},
   "outputs": [],
   "source": []
  },
  {
   "cell_type": "code",
   "execution_count": null,
   "metadata": {},
   "outputs": [],
   "source": []
  },
  {
   "cell_type": "code",
   "execution_count": null,
   "metadata": {},
   "outputs": [],
   "source": []
  },
  {
   "cell_type": "code",
   "execution_count": 441,
   "metadata": {},
   "outputs": [],
   "source": [
    "#  ------ Erstellung und cleansing des Nutrition Dataframes\n",
    "\n",
    "# erstelle neue liste auf basis der bereits gefilterten rezepte aus ingredients_filt\n",
    "id_overlap_mask = nutritions['id'].isin(user_recipes_normal.index.to_numpy())\n",
    "\n",
    "# erstelle datenframe auf basis der overlapliste\n",
    "nutritions_filt = nutritions.loc[id_overlap_mask]\n",
    "\n",
    "nutrition_user_recipes_normal = nutritions_filt.pivot_table(\n",
    "    index=['id'],\n",
    "    columns=['name'],\n",
    "    values=['amount'],\n",
    ").reset_index()\n",
    "\n",
    "nutrition_user_recipes_normal.set_index('id', inplace=True)\n",
    "\n",
    "# remove multiindex 'amount'\n",
    "nutrition_user_recipes_normal.columns = nutrition_user_recipes_normal.columns.droplevel(0)\n",
    "\n",
    "# entferne alle NA\n",
    "nutrition_user_recipes_normal = nutrition_user_recipes_normal.dropna()"
   ]
  },
  {
   "cell_type": "code",
   "execution_count": 448,
   "metadata": {},
   "outputs": [],
   "source": [
    "new_df = nutrition_user_recipes_normal[['Calories', 'Carbohydrates', 'Fat', 'Protein', 'Calcium', 'Magnesium', 'Iron' ]]"
   ]
  },
  {
   "cell_type": "code",
   "execution_count": 449,
   "metadata": {},
   "outputs": [
    {
     "data": {
      "text/html": "<div>\n<style scoped>\n    .dataframe tbody tr th:only-of-type {\n        vertical-align: middle;\n    }\n\n    .dataframe tbody tr th {\n        vertical-align: top;\n    }\n\n    .dataframe thead th {\n        text-align: right;\n    }\n</style>\n<table border=\"1\" class=\"dataframe\">\n  <thead>\n    <tr style=\"text-align: right;\">\n      <th>name</th>\n      <th>Calories</th>\n      <th>Carbohydrates</th>\n      <th>Fat</th>\n      <th>Protein</th>\n      <th>Calcium</th>\n      <th>Magnesium</th>\n      <th>Iron</th>\n    </tr>\n  </thead>\n  <tbody>\n    <tr>\n      <td>count</td>\n      <td>20.00000</td>\n      <td>20.00000</td>\n      <td>20.00000</td>\n      <td>20.00000</td>\n      <td>20.00000</td>\n      <td>20.00000</td>\n      <td>20.00000</td>\n    </tr>\n    <tr>\n      <td>mean</td>\n      <td>476.60570</td>\n      <td>30.19359</td>\n      <td>26.67188</td>\n      <td>29.13993</td>\n      <td>191.78426</td>\n      <td>49.42357</td>\n      <td>2.65442</td>\n    </tr>\n    <tr>\n      <td>std</td>\n      <td>195.53450</td>\n      <td>22.57396</td>\n      <td>16.94325</td>\n      <td>9.20861</td>\n      <td>177.61952</td>\n      <td>22.10680</td>\n      <td>1.63424</td>\n    </tr>\n    <tr>\n      <td>min</td>\n      <td>180.54610</td>\n      <td>2.30900</td>\n      <td>1.71964</td>\n      <td>17.08666</td>\n      <td>14.10812</td>\n      <td>20.00892</td>\n      <td>0.44957</td>\n    </tr>\n    <tr>\n      <td>25%</td>\n      <td>335.87992</td>\n      <td>12.73448</td>\n      <td>13.65864</td>\n      <td>22.54001</td>\n      <td>33.60625</td>\n      <td>33.04839</td>\n      <td>1.66485</td>\n    </tr>\n    <tr>\n      <td>50%</td>\n      <td>450.42955</td>\n      <td>25.43967</td>\n      <td>22.82371</td>\n      <td>27.91984</td>\n      <td>117.12005</td>\n      <td>44.08357</td>\n      <td>2.35468</td>\n    </tr>\n    <tr>\n      <td>75%</td>\n      <td>649.80575</td>\n      <td>52.06238</td>\n      <td>40.61526</td>\n      <td>33.67842</td>\n      <td>315.03085</td>\n      <td>57.96935</td>\n      <td>2.77898</td>\n    </tr>\n    <tr>\n      <td>max</td>\n      <td>804.33190</td>\n      <td>79.48119</td>\n      <td>54.52096</td>\n      <td>49.44593</td>\n      <td>515.96170</td>\n      <td>100.54290</td>\n      <td>7.47058</td>\n    </tr>\n  </tbody>\n</table>\n</div>",
      "text/plain": "name   Calories  Carbohydrates      Fat  Protein   Calcium  Magnesium     Iron\ncount  20.00000       20.00000 20.00000 20.00000  20.00000   20.00000 20.00000\nmean  476.60570       30.19359 26.67188 29.13993 191.78426   49.42357  2.65442\nstd   195.53450       22.57396 16.94325  9.20861 177.61952   22.10680  1.63424\nmin   180.54610        2.30900  1.71964 17.08666  14.10812   20.00892  0.44957\n25%   335.87992       12.73448 13.65864 22.54001  33.60625   33.04839  1.66485\n50%   450.42955       25.43967 22.82371 27.91984 117.12005   44.08357  2.35468\n75%   649.80575       52.06238 40.61526 33.67842 315.03085   57.96935  2.77898\nmax   804.33190       79.48119 54.52096 49.44593 515.96170  100.54290  7.47058"
     },
     "execution_count": 449,
     "metadata": {},
     "output_type": "execute_result"
    }
   ],
   "source": [
    "new_df.describe()"
   ]
  },
  {
   "cell_type": "code",
   "execution_count": 444,
   "metadata": {},
   "outputs": [],
   "source": [
    "#  ------ Erstellung und cleansing des Nutrition Dataframes\n",
    "\n",
    "# erstelle neue liste auf basis der bereits gefilterten rezepte aus ingredients_filt\n",
    "id_overlap_mask = nutritions['id'].isin(result_w_filter_10_normal[0:10].index.to_numpy())\n",
    "\n",
    "# erstelle datenframe auf basis der overlapliste\n",
    "nutritions_filt = nutritions.loc[id_overlap_mask]\n",
    "\n",
    "nutrition_jaccard_normal = nutritions_filt.pivot_table(\n",
    "    index=['id'],\n",
    "    columns=['name'],\n",
    "    values=['amount'],\n",
    ").reset_index()\n",
    "\n",
    "nutrition_jaccard_normal.set_index('id', inplace=True)\n",
    "\n",
    "# remove multiindex 'amount'\n",
    "nutrition_jaccard_normal.columns = nutrition_jaccard_normal.columns.droplevel(0)\n",
    "\n",
    "# entferne alle NA\n",
    "nutrition_jaccard_normal = nutrition_jaccard_normal.dropna()"
   ]
  }
 ]
}