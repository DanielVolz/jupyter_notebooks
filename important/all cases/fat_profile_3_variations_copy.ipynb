{
 "nbformat": 4,
 "nbformat_minor": 2,
 "metadata": {
  "language_info": {
   "name": "python",
   "codemirror_mode": {
    "name": "ipython",
    "version": 3
   },
   "version": "3.7.4-final"
  },
  "orig_nbformat": 2,
  "file_extension": ".py",
  "mimetype": "text/x-python",
  "name": "python",
  "npconvert_exporter": "python",
  "pygments_lexer": "ipython3",
  "version": 3,
  "kernelspec": {
   "name": "python3",
   "display_name": "Python 3"
  }
 },
 "cells": [
  {
   "cell_type": "code",
   "execution_count": 169,
   "metadata": {},
   "outputs": [],
   "source": [
    "import json\n",
    "\n",
    "import numpy as np\n",
    "import pandas as pd\n",
    "import pymongo\n",
    "import scipy\n",
    "from bson import ObjectId, json_util\n",
    "from pandas.io.json import json_normalize\n",
    "from pymongo import MongoClient as Connection\n",
    "from scipy import sparse, spatial\n",
    "from scipy.spatial.distance import cdist, pdist, squareform\n",
    "from sklearn.metrics.pairwise import cosine_similarity\n",
    "\n",
    "# scientific notation disabled form smaller numbers\n",
    "pd.options.display.float_format = '{:.5f}'.format\n",
    "\n",
    "# alles resultate anzeigen und nicht nur das letzte\n",
    "from IPython.core.interactiveshell import InteractiveShell\n",
    "InteractiveShell.ast_node_interactivity = \"all\"\n",
    "\n"
   ]
  },
  {
   "cell_type": "code",
   "execution_count": 170,
   "metadata": {},
   "outputs": [
    {
     "data": {
      "text/html": "<style>\n.output {\n    flex-direction: row;\n}\n</style>",
      "text/plain": "<IPython.core.display.HTML object>"
     },
     "execution_count": 170,
     "metadata": {},
     "output_type": "execute_result"
    }
   ],
   "source": [
    "# display multiple outputs in one row\n",
    "import pandas as pd\n",
    "import numpy as np\n",
    "from IPython.display import display, HTML\n",
    "\n",
    "CSS = \"\"\"\n",
    ".output {\n",
    "    flex-direction: row;\n",
    "}\n",
    "\"\"\"\n",
    "\n",
    "HTML('<style>{}</style>'.format(CSS))"
   ]
  },
  {
   "cell_type": "code",
   "execution_count": 171,
   "metadata": {},
   "outputs": [],
   "source": [
    "connection = Connection()\n",
    "db = connection.recipe_db\n",
    "input_data = db.recipes_test_copy\n",
    "\n",
    "data = json.loads(json_util.dumps(input_data.find()))"
   ]
  },
  {
   "cell_type": "code",
   "execution_count": 172,
   "metadata": {},
   "outputs": [],
   "source": [
    "ing = pd.DataFrame(json_normalize(data, record_path='ingredients',\n",
    "                             meta='id', record_prefix='ingredients_', errors='ignore'))\n",
    "\n",
    "\n",
    "nutritions = pd.DataFrame(json_normalize(data, record_path='nutritions',\n",
    "                            meta=['id', 'prep_time', 'rating', 'rating_count', 'ready_in_time', 'review_count']))\n"
   ]
  },
  {
   "cell_type": "code",
   "execution_count": 173,
   "metadata": {},
   "outputs": [],
   "source": [
    "#ingredients\n",
    "#ingredients.loc[ingredients['id'] == 9380]"
   ]
  },
  {
   "cell_type": "code",
   "execution_count": 174,
   "metadata": {},
   "outputs": [],
   "source": [
    "#ingredients.loc[ingredients['ingredients_id'] == 2972]"
   ]
  },
  {
   "cell_type": "code",
   "execution_count": 175,
   "metadata": {},
   "outputs": [],
   "source": [
    "#  ------  erstellung und data cleansing - Ingredients\n",
    "\n",
    "# schmeiss alle zutaten raus, die weniger als 5 mal verwendet werden\n",
    "# setze multiinde auf 'id' und 'ingredients_id'\n",
    "ingredients = ing.set_index(['id', 'ingredients_id'])\n",
    "\n",
    "# filtere alle Zutaten samt ihrer rezepte id, die weniger gleich 5 mal vorkommen\n",
    "ingredients_eqles_5_ing = ingredients.groupby(\n",
    "    'ingredients_id').filter(lambda x: len(x) <= 5)\n",
    "\n",
    "# droppe alle rezepte, die eine Zutate besitzen, die weniger gleich 5 Mal vorkommen\n",
    "ingredients_filt = ingredients.drop(ingredients_eqles_5_ing.index.get_level_values('id').values, level=0)\n",
    "\n",
    "# drop alls rows with ingredients_id == 0\n",
    "ingredients_eqal_zero = ingredients_filt[ingredients_filt.index.get_level_values('ingredients_id') == 0]\n",
    "ingredients_filt = ingredients_filt.drop(ingredients_eqal_zero.index.get_level_values('id').values, level=0)\n"
   ]
  },
  {
   "cell_type": "code",
   "execution_count": 176,
   "metadata": {},
   "outputs": [],
   "source": [
    "#  ------ Erstellung und cleansing des Nutrition Dataframes\n",
    "\n",
    "# erstelle neue liste auf basis der bereits gefilterten rezepte aus ingredients_filt\n",
    "id_overlap_mask = nutritions['id'].isin(ingredients_filt.index.get_level_values('id').values)\n",
    "\n",
    "# erstelle datenframe auf basis der overlapliste\n",
    "nutritions_filt = nutritions.loc[id_overlap_mask]\n",
    "\n",
    "nutrition_db = nutritions_filt.pivot_table(\n",
    "    index=['id'],\n",
    "    columns=['name'],\n",
    "    values=['amount'],\n",
    ").reset_index()\n",
    "\n",
    "nutrition_db.set_index('id', inplace=True)\n",
    "\n",
    "# remove multiindex 'amount'\n",
    "nutrition_db.columns = nutrition_db.columns.droplevel(0)\n",
    "\n",
    "# entferne alle NA\n",
    "nutrition_db = nutrition_db.dropna()\n",
    "\n",
    "# gleiche nochmals die ids der beiden dataframe nutrition und ingredients ab, da der nutrition dataframe noch NA Werte hatt\n",
    "id_overlap_mask = ingredients_filt.index.get_level_values('id').isin(nutrition_db.index)\n",
    "ingredients_db = ingredients_filt[id_overlap_mask]\n",
    "\n",
    "# abgleich ob anzahl der indizes von nutrition und zutaten dataframe gleich sind\n"
   ]
  },
  {
   "cell_type": "code",
   "execution_count": 177,
   "metadata": {},
   "outputs": [
    {
     "data": {
      "text/plain": "4062"
     },
     "execution_count": 177,
     "metadata": {},
     "output_type": "execute_result"
    },
    {
     "data": {
      "text/plain": "4062"
     },
     "execution_count": 177,
     "metadata": {},
     "output_type": "execute_result"
    }
   ],
   "source": [
    "nutrition_db.index.nunique()\n",
    "ingredients_db.index.get_level_values('id').nunique()\n"
   ]
  },
  {
   "cell_type": "code",
   "execution_count": 178,
   "metadata": {},
   "outputs": [
    {
     "data": {
      "text/plain": "0          59661\n1          59661\n2          59661\n3          59661\n4          59661\n           ...  \n126095    244188\n126096    244188\n126097    244188\n126098    244188\n126099    244188\nName: id, Length: 126100, dtype: object"
     },
     "execution_count": 178,
     "metadata": {},
     "output_type": "execute_result"
    }
   ],
   "source": [
    "nutritions['id']"
   ]
  },
  {
   "cell_type": "code",
   "execution_count": 179,
   "metadata": {},
   "outputs": [],
   "source": [
    "\n",
    "\n",
    "ingredients_db.reset_index(inplace=True)\n",
    "\n",
    "recipe_db = pd.get_dummies(ingredients_db['ingredients_id']).groupby(\n",
    "    ingredients_db['id']).apply(max)\n",
    "\n"
   ]
  },
  {
   "cell_type": "code",
   "execution_count": 180,
   "metadata": {},
   "outputs": [],
   "source": [
    "new_ingredients = ingredients_db.copy()\n",
    "#new_ingredients = new_ingredients.groupby(\"id\")[\"ingredients_grams\"].sum().reset_index()\n",
    "gramms_ingredients = new_ingredients.groupby(\"id\")[\"ingredients_grams\"].sum().reset_index().copy()\n",
    "\n",
    "Q1 = gramms_ingredients.quantile(0.25)\n",
    "Q3 = gramms_ingredients.quantile(0.75)\n",
    "IQR = Q3 - Q1\n",
    "\n",
    "#Filter out all recipes which are outlier by their weight (gramms)\n",
    "df = gramms_ingredients[~((gramms_ingredients < (Q1 - 1.5 * IQR)) |(gramms_ingredients > (Q3 + 1.5 * IQR))).any(axis=1)].copy()\n",
    "\n",
    "#filter out recipes by weight which are not in the range 500 - 2373.59 gramms\n",
    "df_start_at_fivehundret = df[df['ingredients_grams'].between(500, 2373.58225, inclusive=False)].copy()\n",
    "\n",
    "df_start_at_fivehundret.set_index('id', inplace=True)\n",
    "id_overlap_mask = nutritions['id'].isin(df_start_at_fivehundret.index.get_level_values('id').values)\n",
    "\n",
    "\n",
    "# erstelle datenframe auf basis der overlapliste\n",
    "nutritions_filt_gramm = nutritions.loc[id_overlap_mask]\n",
    "\n",
    "nutrition_db2 = nutritions_filt_gramm.pivot_table(\n",
    "    index=['id'],\n",
    "    columns=['name'],\n",
    "    values=['amount'],\n",
    ").reset_index()\n",
    "\n",
    "#create new nutrition db based on the above filtering\n",
    "nutrition_db2.set_index('id', inplace=True)\n",
    "nutrition_db2.columns = nutrition_db2.columns.droplevel(0)\n",
    "\n"
   ]
  },
  {
   "cell_type": "code",
   "execution_count": 181,
   "metadata": {},
   "outputs": [],
   "source": [
    "#select 20 random recipes which are between the Fat-range of 35-40 gramms\n",
    "subset_fat = nutrition_db2[(nutrition_db2['Fat'] >= 35) & (nutrition_db2['Fat'] <= 40)].sample(n=20).copy()\n",
    "\n",
    "subset_fat_id = subset_fat.index.to_numpy()\n"
   ]
  },
  {
   "cell_type": "code",
   "execution_count": 182,
   "metadata": {},
   "outputs": [
    {
     "data": {
      "text/html": "<div>\n<style scoped>\n    .dataframe tbody tr th:only-of-type {\n        vertical-align: middle;\n    }\n\n    .dataframe tbody tr th {\n        vertical-align: top;\n    }\n\n    .dataframe thead th {\n        text-align: right;\n    }\n</style>\n<table border=\"1\" class=\"dataframe\">\n  <thead>\n    <tr style=\"text-align: right;\">\n      <th>name</th>\n      <th>Calcium</th>\n      <th>Calories</th>\n      <th>Calories from Fat</th>\n      <th>Carbohydrates</th>\n      <th>Cholesterol</th>\n      <th>Dietary Fiber</th>\n      <th>Fat</th>\n      <th>Folate</th>\n      <th>Iron</th>\n      <th>Magnesium</th>\n      <th>Niacin Equivalents</th>\n      <th>Potassium</th>\n      <th>Protein</th>\n      <th>Saturated Fat</th>\n      <th>Sodium</th>\n      <th>Sugars</th>\n      <th>Thiamin</th>\n      <th>Vitamin A - IU</th>\n      <th>Vitamin B6</th>\n      <th>Vitamin C</th>\n    </tr>\n  </thead>\n  <tbody>\n    <tr>\n      <td>count</td>\n      <td>20.00000</td>\n      <td>20.00000</td>\n      <td>20.00000</td>\n      <td>20.00000</td>\n      <td>20.00000</td>\n      <td>20.00000</td>\n      <td>20.00000</td>\n      <td>20.00000</td>\n      <td>20.00000</td>\n      <td>20.00000</td>\n      <td>20.00000</td>\n      <td>20.00000</td>\n      <td>20.00000</td>\n      <td>20.00000</td>\n      <td>20.00000</td>\n      <td>20.00000</td>\n      <td>20.00000</td>\n      <td>20.00000</td>\n      <td>20.00000</td>\n      <td>20.00000</td>\n    </tr>\n    <tr>\n      <td>mean</td>\n      <td>238.85851</td>\n      <td>625.23455</td>\n      <td>335.80760</td>\n      <td>34.41037</td>\n      <td>134.42824</td>\n      <td>2.63719</td>\n      <td>37.31196</td>\n      <td>58.05198</td>\n      <td>3.22893</td>\n      <td>57.73384</td>\n      <td>15.24230</td>\n      <td>551.43052</td>\n      <td>36.60062</td>\n      <td>14.46800</td>\n      <td>1191.74457</td>\n      <td>9.91234</td>\n      <td>0.33895</td>\n      <td>816.09034</td>\n      <td>0.60973</td>\n      <td>9.65090</td>\n    </tr>\n    <tr>\n      <td>std</td>\n      <td>229.09583</td>\n      <td>139.53321</td>\n      <td>14.33978</td>\n      <td>30.38971</td>\n      <td>61.99192</td>\n      <td>2.12950</td>\n      <td>1.59331</td>\n      <td>57.10700</td>\n      <td>1.47966</td>\n      <td>22.12646</td>\n      <td>7.76502</td>\n      <td>259.19207</td>\n      <td>17.22302</td>\n      <td>6.00894</td>\n      <td>916.43903</td>\n      <td>23.03661</td>\n      <td>0.29711</td>\n      <td>625.71962</td>\n      <td>0.38016</td>\n      <td>11.78670</td>\n    </tr>\n    <tr>\n      <td>min</td>\n      <td>22.25000</td>\n      <td>390.71980</td>\n      <td>316.48840</td>\n      <td>1.23348</td>\n      <td>41.73750</td>\n      <td>0.01267</td>\n      <td>35.16538</td>\n      <td>6.72250</td>\n      <td>0.58999</td>\n      <td>21.99075</td>\n      <td>6.50392</td>\n      <td>226.68230</td>\n      <td>14.97870</td>\n      <td>5.39091</td>\n      <td>309.45940</td>\n      <td>0.09750</td>\n      <td>0.00254</td>\n      <td>61.20000</td>\n      <td>0.18250</td>\n      <td>0.88163</td>\n    </tr>\n    <tr>\n      <td>25%</td>\n      <td>61.87009</td>\n      <td>533.80088</td>\n      <td>324.18075</td>\n      <td>9.90685</td>\n      <td>93.04813</td>\n      <td>0.63773</td>\n      <td>36.02009</td>\n      <td>14.65907</td>\n      <td>2.46838</td>\n      <td>38.51588</td>\n      <td>9.18962</td>\n      <td>449.91240</td>\n      <td>25.00840</td>\n      <td>10.09683</td>\n      <td>664.25170</td>\n      <td>1.32350</td>\n      <td>0.12001</td>\n      <td>305.90217</td>\n      <td>0.37202</td>\n      <td>2.61114</td>\n    </tr>\n    <tr>\n      <td>50%</td>\n      <td>161.49760</td>\n      <td>615.10430</td>\n      <td>330.59140</td>\n      <td>28.28986</td>\n      <td>122.17400</td>\n      <td>2.36380</td>\n      <td>36.73237</td>\n      <td>26.86872</td>\n      <td>3.32006</td>\n      <td>56.32185</td>\n      <td>13.97020</td>\n      <td>488.49385</td>\n      <td>34.58010</td>\n      <td>13.59444</td>\n      <td>1026.87650</td>\n      <td>2.78702</td>\n      <td>0.26079</td>\n      <td>662.47605</td>\n      <td>0.58080</td>\n      <td>4.95239</td>\n    </tr>\n    <tr>\n      <td>75%</td>\n      <td>369.36730</td>\n      <td>733.23633</td>\n      <td>352.49740</td>\n      <td>51.19213</td>\n      <td>172.81660</td>\n      <td>4.19259</td>\n      <td>39.16638</td>\n      <td>93.46076</td>\n      <td>4.31244</td>\n      <td>74.20366</td>\n      <td>18.06179</td>\n      <td>552.63028</td>\n      <td>43.03869</td>\n      <td>19.68914</td>\n      <td>1466.90925</td>\n      <td>7.78525</td>\n      <td>0.49669</td>\n      <td>1231.33675</td>\n      <td>0.74062</td>\n      <td>10.38401</td>\n    </tr>\n    <tr>\n      <td>max</td>\n      <td>739.72610</td>\n      <td>905.35500</td>\n      <td>358.77810</td>\n      <td>107.07330</td>\n      <td>308.72000</td>\n      <td>6.80708</td>\n      <td>39.86424</td>\n      <td>196.67600</td>\n      <td>6.63845</td>\n      <td>104.49980</td>\n      <td>35.70167</td>\n      <td>1288.86700</td>\n      <td>93.23131</td>\n      <td>23.07542</td>\n      <td>4604.16100</td>\n      <td>104.81810</td>\n      <td>1.17043</td>\n      <td>2343.18100</td>\n      <td>1.90431</td>\n      <td>42.96725</td>\n    </tr>\n  </tbody>\n</table>\n</div>",
      "text/plain": "name    Calcium  Calories  Calories from Fat  Carbohydrates  Cholesterol  \\\ncount  20.00000  20.00000           20.00000       20.00000     20.00000   \nmean  238.85851 625.23455          335.80760       34.41037    134.42824   \nstd   229.09583 139.53321           14.33978       30.38971     61.99192   \nmin    22.25000 390.71980          316.48840        1.23348     41.73750   \n25%    61.87009 533.80088          324.18075        9.90685     93.04813   \n50%   161.49760 615.10430          330.59140       28.28986    122.17400   \n75%   369.36730 733.23633          352.49740       51.19213    172.81660   \nmax   739.72610 905.35500          358.77810      107.07330    308.72000   \n\nname   Dietary Fiber      Fat    Folate     Iron  Magnesium  \\\ncount       20.00000 20.00000  20.00000 20.00000   20.00000   \nmean         2.63719 37.31196  58.05198  3.22893   57.73384   \nstd          2.12950  1.59331  57.10700  1.47966   22.12646   \nmin          0.01267 35.16538   6.72250  0.58999   21.99075   \n25%          0.63773 36.02009  14.65907  2.46838   38.51588   \n50%          2.36380 36.73237  26.86872  3.32006   56.32185   \n75%          4.19259 39.16638  93.46076  4.31244   74.20366   \nmax          6.80708 39.86424 196.67600  6.63845  104.49980   \n\nname   Niacin Equivalents  Potassium  Protein  Saturated Fat     Sodium  \\\ncount            20.00000   20.00000 20.00000       20.00000   20.00000   \nmean             15.24230  551.43052 36.60062       14.46800 1191.74457   \nstd               7.76502  259.19207 17.22302        6.00894  916.43903   \nmin               6.50392  226.68230 14.97870        5.39091  309.45940   \n25%               9.18962  449.91240 25.00840       10.09683  664.25170   \n50%              13.97020  488.49385 34.58010       13.59444 1026.87650   \n75%              18.06179  552.63028 43.03869       19.68914 1466.90925   \nmax              35.70167 1288.86700 93.23131       23.07542 4604.16100   \n\nname     Sugars  Thiamin  Vitamin A - IU  Vitamin B6  Vitamin C  \ncount  20.00000 20.00000        20.00000    20.00000   20.00000  \nmean    9.91234  0.33895       816.09034     0.60973    9.65090  \nstd    23.03661  0.29711       625.71962     0.38016   11.78670  \nmin     0.09750  0.00254        61.20000     0.18250    0.88163  \n25%     1.32350  0.12001       305.90217     0.37202    2.61114  \n50%     2.78702  0.26079       662.47605     0.58080    4.95239  \n75%     7.78525  0.49669      1231.33675     0.74062   10.38401  \nmax   104.81810  1.17043      2343.18100     1.90431   42.96725  "
     },
     "execution_count": 182,
     "metadata": {},
     "output_type": "execute_result"
    }
   ],
   "source": [
    "subset_fat.describe()"
   ]
  },
  {
   "cell_type": "code",
   "execution_count": 183,
   "metadata": {},
   "outputs": [],
   "source": [
    "subset_normal = nutrition_db2.sample(n=20).copy()\n",
    "subset_normal_id = subset_normal.index.to_numpy()"
   ]
  },
  {
   "cell_type": "code",
   "execution_count": 184,
   "metadata": {},
   "outputs": [
    {
     "data": {
      "text/html": "<div>\n<style scoped>\n    .dataframe tbody tr th:only-of-type {\n        vertical-align: middle;\n    }\n\n    .dataframe tbody tr th {\n        vertical-align: top;\n    }\n\n    .dataframe thead th {\n        text-align: right;\n    }\n</style>\n<table border=\"1\" class=\"dataframe\">\n  <thead>\n    <tr style=\"text-align: right;\">\n      <th>name</th>\n      <th>Calcium</th>\n      <th>Calories</th>\n      <th>Calories from Fat</th>\n      <th>Carbohydrates</th>\n      <th>Cholesterol</th>\n      <th>Dietary Fiber</th>\n      <th>Fat</th>\n      <th>Folate</th>\n      <th>Iron</th>\n      <th>Magnesium</th>\n      <th>Niacin Equivalents</th>\n      <th>Potassium</th>\n      <th>Protein</th>\n      <th>Saturated Fat</th>\n      <th>Sodium</th>\n      <th>Sugars</th>\n      <th>Thiamin</th>\n      <th>Vitamin A - IU</th>\n      <th>Vitamin B6</th>\n      <th>Vitamin C</th>\n    </tr>\n  </thead>\n  <tbody>\n    <tr>\n      <td>count</td>\n      <td>20.00000</td>\n      <td>20.00000</td>\n      <td>20.00000</td>\n      <td>20.00000</td>\n      <td>20.00000</td>\n      <td>20.00000</td>\n      <td>20.00000</td>\n      <td>20.00000</td>\n      <td>20.00000</td>\n      <td>20.00000</td>\n      <td>20.00000</td>\n      <td>20.00000</td>\n      <td>20.00000</td>\n      <td>20.00000</td>\n      <td>20.00000</td>\n      <td>20.00000</td>\n      <td>20.00000</td>\n      <td>20.00000</td>\n      <td>20.00000</td>\n      <td>20.00000</td>\n    </tr>\n    <tr>\n      <td>mean</td>\n      <td>211.49570</td>\n      <td>518.76626</td>\n      <td>257.05309</td>\n      <td>35.74187</td>\n      <td>103.27640</td>\n      <td>3.45189</td>\n      <td>28.56145</td>\n      <td>69.49802</td>\n      <td>3.11789</td>\n      <td>52.47289</td>\n      <td>11.18658</td>\n      <td>552.52021</td>\n      <td>29.42957</td>\n      <td>11.50726</td>\n      <td>1133.67803</td>\n      <td>5.96288</td>\n      <td>0.35340</td>\n      <td>716.61142</td>\n      <td>0.52584</td>\n      <td>18.07291</td>\n    </tr>\n    <tr>\n      <td>std</td>\n      <td>220.02455</td>\n      <td>213.42576</td>\n      <td>167.55857</td>\n      <td>21.26642</td>\n      <td>54.01567</td>\n      <td>3.31721</td>\n      <td>18.61762</td>\n      <td>56.58976</td>\n      <td>1.83945</td>\n      <td>17.53750</td>\n      <td>5.67367</td>\n      <td>216.41205</td>\n      <td>11.04587</td>\n      <td>8.77867</td>\n      <td>943.72900</td>\n      <td>8.75286</td>\n      <td>0.30062</td>\n      <td>666.43498</td>\n      <td>0.23922</td>\n      <td>31.44758</td>\n    </tr>\n    <tr>\n      <td>min</td>\n      <td>14.10812</td>\n      <td>220.52430</td>\n      <td>77.72115</td>\n      <td>4.54504</td>\n      <td>12.65000</td>\n      <td>0.02917</td>\n      <td>8.63568</td>\n      <td>7.24333</td>\n      <td>0.44957</td>\n      <td>20.32250</td>\n      <td>3.82888</td>\n      <td>279.60500</td>\n      <td>9.18529</td>\n      <td>2.59906</td>\n      <td>69.17555</td>\n      <td>1.27184</td>\n      <td>0.07251</td>\n      <td>56.75000</td>\n      <td>0.11364</td>\n      <td>0.00000</td>\n    </tr>\n    <tr>\n      <td>25%</td>\n      <td>48.99000</td>\n      <td>359.18928</td>\n      <td>131.50088</td>\n      <td>19.47196</td>\n      <td>63.39833</td>\n      <td>1.06579</td>\n      <td>14.61121</td>\n      <td>28.11200</td>\n      <td>1.67255</td>\n      <td>40.74167</td>\n      <td>6.59979</td>\n      <td>405.93295</td>\n      <td>20.86687</td>\n      <td>4.26439</td>\n      <td>409.81808</td>\n      <td>2.36435</td>\n      <td>0.15009</td>\n      <td>248.20717</td>\n      <td>0.32689</td>\n      <td>2.25207</td>\n    </tr>\n    <tr>\n      <td>50%</td>\n      <td>115.43066</td>\n      <td>528.56145</td>\n      <td>213.47700</td>\n      <td>36.50668</td>\n      <td>97.73450</td>\n      <td>2.33620</td>\n      <td>23.71967</td>\n      <td>51.35306</td>\n      <td>3.00686</td>\n      <td>49.57259</td>\n      <td>11.32422</td>\n      <td>509.00930</td>\n      <td>30.23345</td>\n      <td>10.82787</td>\n      <td>885.47545</td>\n      <td>3.28783</td>\n      <td>0.26763</td>\n      <td>524.41270</td>\n      <td>0.49920</td>\n      <td>10.02415</td>\n    </tr>\n    <tr>\n      <td>75%</td>\n      <td>301.50830</td>\n      <td>609.95087</td>\n      <td>343.60573</td>\n      <td>49.52168</td>\n      <td>161.39535</td>\n      <td>4.50656</td>\n      <td>38.17842</td>\n      <td>103.08928</td>\n      <td>4.19786</td>\n      <td>63.76328</td>\n      <td>13.74992</td>\n      <td>678.03205</td>\n      <td>36.50952</td>\n      <td>13.92908</td>\n      <td>1589.35325</td>\n      <td>4.66415</td>\n      <td>0.41635</td>\n      <td>865.06067</td>\n      <td>0.73401</td>\n      <td>19.54670</td>\n    </tr>\n    <tr>\n      <td>max</td>\n      <td>752.48130</td>\n      <td>1095.74800</td>\n      <td>770.46170</td>\n      <td>82.39710</td>\n      <td>178.71120</td>\n      <td>12.04811</td>\n      <td>85.60685</td>\n      <td>196.82940</td>\n      <td>8.64466</td>\n      <td>83.73882</td>\n      <td>24.97207</td>\n      <td>1152.39400</td>\n      <td>49.44593</td>\n      <td>36.23195</td>\n      <td>3755.90300</td>\n      <td>41.01900</td>\n      <td>1.11606</td>\n      <td>2616.35500</td>\n      <td>0.86662</td>\n      <td>142.94250</td>\n    </tr>\n  </tbody>\n</table>\n</div>",
      "text/plain": "name    Calcium   Calories  Calories from Fat  Carbohydrates  Cholesterol  \\\ncount  20.00000   20.00000           20.00000       20.00000     20.00000   \nmean  211.49570  518.76626          257.05309       35.74187    103.27640   \nstd   220.02455  213.42576          167.55857       21.26642     54.01567   \nmin    14.10812  220.52430           77.72115        4.54504     12.65000   \n25%    48.99000  359.18928          131.50088       19.47196     63.39833   \n50%   115.43066  528.56145          213.47700       36.50668     97.73450   \n75%   301.50830  609.95087          343.60573       49.52168    161.39535   \nmax   752.48130 1095.74800          770.46170       82.39710    178.71120   \n\nname   Dietary Fiber      Fat    Folate     Iron  Magnesium  \\\ncount       20.00000 20.00000  20.00000 20.00000   20.00000   \nmean         3.45189 28.56145  69.49802  3.11789   52.47289   \nstd          3.31721 18.61762  56.58976  1.83945   17.53750   \nmin          0.02917  8.63568   7.24333  0.44957   20.32250   \n25%          1.06579 14.61121  28.11200  1.67255   40.74167   \n50%          2.33620 23.71967  51.35306  3.00686   49.57259   \n75%          4.50656 38.17842 103.08928  4.19786   63.76328   \nmax         12.04811 85.60685 196.82940  8.64466   83.73882   \n\nname   Niacin Equivalents  Potassium  Protein  Saturated Fat     Sodium  \\\ncount            20.00000   20.00000 20.00000       20.00000   20.00000   \nmean             11.18658  552.52021 29.42957       11.50726 1133.67803   \nstd               5.67367  216.41205 11.04587        8.77867  943.72900   \nmin               3.82888  279.60500  9.18529        2.59906   69.17555   \n25%               6.59979  405.93295 20.86687        4.26439  409.81808   \n50%              11.32422  509.00930 30.23345       10.82787  885.47545   \n75%              13.74992  678.03205 36.50952       13.92908 1589.35325   \nmax              24.97207 1152.39400 49.44593       36.23195 3755.90300   \n\nname    Sugars  Thiamin  Vitamin A - IU  Vitamin B6  Vitamin C  \ncount 20.00000 20.00000        20.00000    20.00000   20.00000  \nmean   5.96288  0.35340       716.61142     0.52584   18.07291  \nstd    8.75286  0.30062       666.43498     0.23922   31.44758  \nmin    1.27184  0.07251        56.75000     0.11364    0.00000  \n25%    2.36435  0.15009       248.20717     0.32689    2.25207  \n50%    3.28783  0.26763       524.41270     0.49920   10.02415  \n75%    4.66415  0.41635       865.06067     0.73401   19.54670  \nmax   41.01900  1.11606      2616.35500     0.86662  142.94250  "
     },
     "execution_count": 184,
     "metadata": {},
     "output_type": "execute_result"
    }
   ],
   "source": [
    "subset_normal.describe()"
   ]
  },
  {
   "cell_type": "code",
   "execution_count": 567,
   "metadata": {},
   "outputs": [
    {
     "data": {
      "text/html": "<div>\n<style scoped>\n    .dataframe tbody tr th:only-of-type {\n        vertical-align: middle;\n    }\n\n    .dataframe tbody tr th {\n        vertical-align: top;\n    }\n\n    .dataframe thead th {\n        text-align: right;\n    }\n</style>\n<table border=\"1\" class=\"dataframe\">\n  <thead>\n    <tr style=\"text-align: right;\">\n      <th>name</th>\n      <th>Calcium</th>\n      <th>Calories</th>\n      <th>Calories from Fat</th>\n      <th>Carbohydrates</th>\n      <th>Cholesterol</th>\n      <th>Dietary Fiber</th>\n      <th>Fat</th>\n      <th>Folate</th>\n      <th>Iron</th>\n      <th>Magnesium</th>\n      <th>Niacin Equivalents</th>\n      <th>Potassium</th>\n      <th>Protein</th>\n      <th>Saturated Fat</th>\n      <th>Sodium</th>\n      <th>Sugars</th>\n      <th>Thiamin</th>\n      <th>Vitamin A - IU</th>\n      <th>Vitamin B6</th>\n      <th>Vitamin C</th>\n    </tr>\n  </thead>\n  <tbody>\n    <tr>\n      <td>count</td>\n      <td>4062.00000</td>\n      <td>4062.00000</td>\n      <td>4062.00000</td>\n      <td>4062.00000</td>\n      <td>4062.00000</td>\n      <td>4062.00000</td>\n      <td>4062.00000</td>\n      <td>4062.00000</td>\n      <td>4062.00000</td>\n      <td>4062.00000</td>\n      <td>4062.00000</td>\n      <td>4062.00000</td>\n      <td>4062.00000</td>\n      <td>4062.00000</td>\n      <td>4062.00000</td>\n      <td>4062.00000</td>\n      <td>4062.00000</td>\n      <td>4062.00000</td>\n      <td>4062.00000</td>\n      <td>4062.00000</td>\n    </tr>\n    <tr>\n      <td>mean</td>\n      <td>146.24830</td>\n      <td>436.37865</td>\n      <td>205.34702</td>\n      <td>29.33343</td>\n      <td>96.53694</td>\n      <td>2.63156</td>\n      <td>22.81634</td>\n      <td>60.76312</td>\n      <td>3.17220</td>\n      <td>51.61716</td>\n      <td>12.29576</td>\n      <td>537.34508</td>\n      <td>27.76217</td>\n      <td>8.69277</td>\n      <td>846.59716</td>\n      <td>6.72692</td>\n      <td>0.30153</td>\n      <td>1221.15249</td>\n      <td>0.50863</td>\n      <td>16.72403</td>\n    </tr>\n    <tr>\n      <td>std</td>\n      <td>159.43529</td>\n      <td>208.87063</td>\n      <td>142.06021</td>\n      <td>23.54473</td>\n      <td>64.78237</td>\n      <td>2.63814</td>\n      <td>15.78447</td>\n      <td>60.62101</td>\n      <td>2.60926</td>\n      <td>32.32778</td>\n      <td>7.29221</td>\n      <td>325.02968</td>\n      <td>13.36258</td>\n      <td>7.23449</td>\n      <td>736.41251</td>\n      <td>9.17527</td>\n      <td>0.30493</td>\n      <td>2557.35848</td>\n      <td>0.34451</td>\n      <td>26.92288</td>\n    </tr>\n    <tr>\n      <td>min</td>\n      <td>0.93181</td>\n      <td>13.63194</td>\n      <td>0.92750</td>\n      <td>0.00000</td>\n      <td>0.00000</td>\n      <td>0.00000</td>\n      <td>0.10306</td>\n      <td>0.00000</td>\n      <td>0.07193</td>\n      <td>0.85861</td>\n      <td>0.03511</td>\n      <td>4.66014</td>\n      <td>0.44604</td>\n      <td>0.01992</td>\n      <td>2.67762</td>\n      <td>0.00000</td>\n      <td>0.00012</td>\n      <td>0.00000</td>\n      <td>0.00252</td>\n      <td>0.00000</td>\n    </tr>\n    <tr>\n      <td>25%</td>\n      <td>41.70011</td>\n      <td>293.54442</td>\n      <td>110.92578</td>\n      <td>10.18247</td>\n      <td>58.52000</td>\n      <td>0.72435</td>\n      <td>12.32509</td>\n      <td>15.83209</td>\n      <td>1.76229</td>\n      <td>31.96466</td>\n      <td>7.13552</td>\n      <td>330.89170</td>\n      <td>19.10710</td>\n      <td>3.47082</td>\n      <td>403.29090</td>\n      <td>1.70223</td>\n      <td>0.10243</td>\n      <td>226.36468</td>\n      <td>0.26930</td>\n      <td>2.03935</td>\n    </tr>\n    <tr>\n      <td>50%</td>\n      <td>82.97927</td>\n      <td>402.20005</td>\n      <td>179.08945</td>\n      <td>24.76714</td>\n      <td>83.21569</td>\n      <td>1.90935</td>\n      <td>19.89883</td>\n      <td>39.22277</td>\n      <td>2.73010</td>\n      <td>45.61357</td>\n      <td>10.96068</td>\n      <td>474.24250</td>\n      <td>26.43599</td>\n      <td>6.94796</td>\n      <td>719.31585</td>\n      <td>3.83273</td>\n      <td>0.19551</td>\n      <td>569.14505</td>\n      <td>0.43692</td>\n      <td>6.48954</td>\n    </tr>\n    <tr>\n      <td>75%</td>\n      <td>191.84663</td>\n      <td>543.92980</td>\n      <td>270.07430</td>\n      <td>43.31172</td>\n      <td>126.23355</td>\n      <td>3.67162</td>\n      <td>30.00825</td>\n      <td>88.13897</td>\n      <td>3.95110</td>\n      <td>63.71924</td>\n      <td>16.48592</td>\n      <td>660.26665</td>\n      <td>34.29652</td>\n      <td>11.96499</td>\n      <td>1084.20950</td>\n      <td>7.81531</td>\n      <td>0.39490</td>\n      <td>1118.61200</td>\n      <td>0.68542</td>\n      <td>19.56792</td>\n    </tr>\n    <tr>\n      <td>max</td>\n      <td>1264.32600</td>\n      <td>4709.19900</td>\n      <td>3455.29000</td>\n      <td>236.72050</td>\n      <td>979.77610</td>\n      <td>27.83175</td>\n      <td>383.92110</td>\n      <td>519.53590</td>\n      <td>55.89075</td>\n      <td>590.39220</td>\n      <td>109.01730</td>\n      <td>6063.16200</td>\n      <td>273.21630</td>\n      <td>103.43580</td>\n      <td>22099.37000</td>\n      <td>136.50510</td>\n      <td>3.25879</td>\n      <td>40386.87000</td>\n      <td>5.98334</td>\n      <td>507.27710</td>\n    </tr>\n  </tbody>\n</table>\n</div>",
      "text/plain": "name     Calcium   Calories  Calories from Fat  Carbohydrates  Cholesterol  \\\ncount 4062.00000 4062.00000         4062.00000     4062.00000   4062.00000   \nmean   146.24830  436.37865          205.34702       29.33343     96.53694   \nstd    159.43529  208.87063          142.06021       23.54473     64.78237   \nmin      0.93181   13.63194            0.92750        0.00000      0.00000   \n25%     41.70011  293.54442          110.92578       10.18247     58.52000   \n50%     82.97927  402.20005          179.08945       24.76714     83.21569   \n75%    191.84663  543.92980          270.07430       43.31172    126.23355   \nmax   1264.32600 4709.19900         3455.29000      236.72050    979.77610   \n\nname   Dietary Fiber        Fat     Folate       Iron  Magnesium  \\\ncount     4062.00000 4062.00000 4062.00000 4062.00000 4062.00000   \nmean         2.63156   22.81634   60.76312    3.17220   51.61716   \nstd          2.63814   15.78447   60.62101    2.60926   32.32778   \nmin          0.00000    0.10306    0.00000    0.07193    0.85861   \n25%          0.72435   12.32509   15.83209    1.76229   31.96466   \n50%          1.90935   19.89883   39.22277    2.73010   45.61357   \n75%          3.67162   30.00825   88.13897    3.95110   63.71924   \nmax         27.83175  383.92110  519.53590   55.89075  590.39220   \n\nname   Niacin Equivalents  Potassium    Protein  Saturated Fat      Sodium  \\\ncount          4062.00000 4062.00000 4062.00000     4062.00000  4062.00000   \nmean             12.29576  537.34508   27.76217        8.69277   846.59716   \nstd               7.29221  325.02968   13.36258        7.23449   736.41251   \nmin               0.03511    4.66014    0.44604        0.01992     2.67762   \n25%               7.13552  330.89170   19.10710        3.47082   403.29090   \n50%              10.96068  474.24250   26.43599        6.94796   719.31585   \n75%              16.48592  660.26665   34.29652       11.96499  1084.20950   \nmax             109.01730 6063.16200  273.21630      103.43580 22099.37000   \n\nname      Sugars    Thiamin  Vitamin A - IU  Vitamin B6  Vitamin C  \ncount 4062.00000 4062.00000      4062.00000  4062.00000 4062.00000  \nmean     6.72692    0.30153      1221.15249     0.50863   16.72403  \nstd      9.17527    0.30493      2557.35848     0.34451   26.92288  \nmin      0.00000    0.00012         0.00000     0.00252    0.00000  \n25%      1.70223    0.10243       226.36468     0.26930    2.03935  \n50%      3.83273    0.19551       569.14505     0.43692    6.48954  \n75%      7.81531    0.39490      1118.61200     0.68542   19.56792  \nmax    136.50510    3.25879     40386.87000     5.98334  507.27710  "
     },
     "execution_count": 567,
     "metadata": {},
     "output_type": "execute_result"
    }
   ],
   "source": [
    "nutrition_db.describe()"
   ]
  },
  {
   "cell_type": "code",
   "execution_count": 566,
   "metadata": {},
   "outputs": [
    {
     "data": {
      "text/html": "<div>\n<style scoped>\n    .dataframe tbody tr th:only-of-type {\n        vertical-align: middle;\n    }\n\n    .dataframe tbody tr th {\n        vertical-align: top;\n    }\n\n    .dataframe thead th {\n        text-align: right;\n    }\n</style>\n<table border=\"1\" class=\"dataframe\">\n  <thead>\n    <tr style=\"text-align: right;\">\n      <th>name</th>\n      <th>Calcium</th>\n      <th>Calories</th>\n      <th>Calories from Fat</th>\n      <th>Carbohydrates</th>\n      <th>Cholesterol</th>\n      <th>Dietary Fiber</th>\n      <th>Fat</th>\n      <th>Folate</th>\n      <th>Iron</th>\n      <th>Magnesium</th>\n      <th>Niacin Equivalents</th>\n      <th>Potassium</th>\n      <th>Protein</th>\n      <th>Saturated Fat</th>\n      <th>Sodium</th>\n      <th>Sugars</th>\n      <th>Thiamin</th>\n      <th>Vitamin A - IU</th>\n      <th>Vitamin B6</th>\n      <th>Vitamin C</th>\n    </tr>\n  </thead>\n  <tbody>\n    <tr>\n      <td>count</td>\n      <td>3770.00000</td>\n      <td>3770.00000</td>\n      <td>3770.00000</td>\n      <td>3770.00000</td>\n      <td>3770.00000</td>\n      <td>3770.00000</td>\n      <td>3770.00000</td>\n      <td>3770.00000</td>\n      <td>3770.00000</td>\n      <td>3770.00000</td>\n      <td>3770.00000</td>\n      <td>3770.00000</td>\n      <td>3770.00000</td>\n      <td>3770.00000</td>\n      <td>3770.00000</td>\n      <td>3770.00000</td>\n      <td>3770.00000</td>\n      <td>3770.00000</td>\n      <td>3770.00000</td>\n      <td>3770.00000</td>\n    </tr>\n    <tr>\n      <td>mean</td>\n      <td>147.62368</td>\n      <td>437.40977</td>\n      <td>206.09237</td>\n      <td>29.13842</td>\n      <td>97.12707</td>\n      <td>2.59778</td>\n      <td>22.89915</td>\n      <td>60.51086</td>\n      <td>3.15299</td>\n      <td>51.41984</td>\n      <td>12.44257</td>\n      <td>532.01939</td>\n      <td>28.05297</td>\n      <td>8.74708</td>\n      <td>851.17479</td>\n      <td>6.72738</td>\n      <td>0.30421</td>\n      <td>1168.79318</td>\n      <td>0.50982</td>\n      <td>16.28622</td>\n    </tr>\n    <tr>\n      <td>std</td>\n      <td>159.99250</td>\n      <td>183.07685</td>\n      <td>125.83504</td>\n      <td>22.82480</td>\n      <td>60.47892</td>\n      <td>2.50979</td>\n      <td>13.98167</td>\n      <td>59.87557</td>\n      <td>2.44330</td>\n      <td>29.10865</td>\n      <td>6.89345</td>\n      <td>267.47451</td>\n      <td>12.01118</td>\n      <td>6.79965</td>\n      <td>643.53732</td>\n      <td>8.81384</td>\n      <td>0.30164</td>\n      <td>2321.84247</td>\n      <td>0.31210</td>\n      <td>24.35803</td>\n    </tr>\n    <tr>\n      <td>min</td>\n      <td>2.24700</td>\n      <td>51.34326</td>\n      <td>1.32300</td>\n      <td>0.00000</td>\n      <td>0.00000</td>\n      <td>0.00000</td>\n      <td>0.14700</td>\n      <td>0.00000</td>\n      <td>0.19784</td>\n      <td>0.99745</td>\n      <td>0.03511</td>\n      <td>21.35641</td>\n      <td>0.75050</td>\n      <td>0.01992</td>\n      <td>5.20206</td>\n      <td>0.00000</td>\n      <td>0.00055</td>\n      <td>0.00000</td>\n      <td>0.00497</td>\n      <td>0.00000</td>\n    </tr>\n    <tr>\n      <td>25%</td>\n      <td>41.89560</td>\n      <td>302.98010</td>\n      <td>116.53312</td>\n      <td>10.22884</td>\n      <td>60.39150</td>\n      <td>0.74548</td>\n      <td>12.94812</td>\n      <td>15.88195</td>\n      <td>1.81476</td>\n      <td>33.22880</td>\n      <td>7.40300</td>\n      <td>345.45530</td>\n      <td>19.97516</td>\n      <td>3.62944</td>\n      <td>418.67972</td>\n      <td>1.76526</td>\n      <td>0.10510</td>\n      <td>236.94223</td>\n      <td>0.28412</td>\n      <td>2.15411</td>\n    </tr>\n    <tr>\n      <td>50%</td>\n      <td>83.16640</td>\n      <td>407.19045</td>\n      <td>182.75790</td>\n      <td>24.78570</td>\n      <td>85.15604</td>\n      <td>1.94681</td>\n      <td>20.30644</td>\n      <td>38.70213</td>\n      <td>2.76656</td>\n      <td>45.93100</td>\n      <td>11.15695</td>\n      <td>480.73480</td>\n      <td>26.86586</td>\n      <td>7.16939</td>\n      <td>734.11100</td>\n      <td>3.90747</td>\n      <td>0.19759</td>\n      <td>581.03190</td>\n      <td>0.44613</td>\n      <td>6.66003</td>\n    </tr>\n    <tr>\n      <td>75%</td>\n      <td>193.59578</td>\n      <td>541.44173</td>\n      <td>271.86345</td>\n      <td>43.25593</td>\n      <td>126.76047</td>\n      <td>3.66756</td>\n      <td>30.20705</td>\n      <td>88.07055</td>\n      <td>3.93232</td>\n      <td>63.26032</td>\n      <td>16.56040</td>\n      <td>654.20570</td>\n      <td>34.31604</td>\n      <td>12.13675</td>\n      <td>1092.85675</td>\n      <td>7.83992</td>\n      <td>0.39693</td>\n      <td>1113.54200</td>\n      <td>0.68317</td>\n      <td>19.56792</td>\n    </tr>\n    <tr>\n      <td>max</td>\n      <td>1264.32600</td>\n      <td>1828.19200</td>\n      <td>989.10300</td>\n      <td>236.72050</td>\n      <td>708.85000</td>\n      <td>27.83175</td>\n      <td>109.90030</td>\n      <td>519.53590</td>\n      <td>55.89075</td>\n      <td>590.39220</td>\n      <td>47.57578</td>\n      <td>1931.48800</td>\n      <td>99.72639</td>\n      <td>59.31002</td>\n      <td>7322.28900</td>\n      <td>104.81810</td>\n      <td>2.35457</td>\n      <td>38664.70000</td>\n      <td>3.83736</td>\n      <td>270.41310</td>\n    </tr>\n  </tbody>\n</table>\n</div>",
      "text/plain": "name     Calcium   Calories  Calories from Fat  Carbohydrates  Cholesterol  \\\ncount 3770.00000 3770.00000         3770.00000     3770.00000   3770.00000   \nmean   147.62368  437.40977          206.09237       29.13842     97.12707   \nstd    159.99250  183.07685          125.83504       22.82480     60.47892   \nmin      2.24700   51.34326            1.32300        0.00000      0.00000   \n25%     41.89560  302.98010          116.53312       10.22884     60.39150   \n50%     83.16640  407.19045          182.75790       24.78570     85.15604   \n75%    193.59578  541.44173          271.86345       43.25593    126.76047   \nmax   1264.32600 1828.19200          989.10300      236.72050    708.85000   \n\nname   Dietary Fiber        Fat     Folate       Iron  Magnesium  \\\ncount     3770.00000 3770.00000 3770.00000 3770.00000 3770.00000   \nmean         2.59778   22.89915   60.51086    3.15299   51.41984   \nstd          2.50979   13.98167   59.87557    2.44330   29.10865   \nmin          0.00000    0.14700    0.00000    0.19784    0.99745   \n25%          0.74548   12.94812   15.88195    1.81476   33.22880   \n50%          1.94681   20.30644   38.70213    2.76656   45.93100   \n75%          3.66756   30.20705   88.07055    3.93232   63.26032   \nmax         27.83175  109.90030  519.53590   55.89075  590.39220   \n\nname   Niacin Equivalents  Potassium    Protein  Saturated Fat     Sodium  \\\ncount          3770.00000 3770.00000 3770.00000     3770.00000 3770.00000   \nmean             12.44257  532.01939   28.05297        8.74708  851.17479   \nstd               6.89345  267.47451   12.01118        6.79965  643.53732   \nmin               0.03511   21.35641    0.75050        0.01992    5.20206   \n25%               7.40300  345.45530   19.97516        3.62944  418.67972   \n50%              11.15695  480.73480   26.86586        7.16939  734.11100   \n75%              16.56040  654.20570   34.31604       12.13675 1092.85675   \nmax              47.57578 1931.48800   99.72639       59.31002 7322.28900   \n\nname      Sugars    Thiamin  Vitamin A - IU  Vitamin B6  Vitamin C  \ncount 3770.00000 3770.00000      3770.00000  3770.00000 3770.00000  \nmean     6.72738    0.30421      1168.79318     0.50982   16.28622  \nstd      8.81384    0.30164      2321.84247     0.31210   24.35803  \nmin      0.00000    0.00055         0.00000     0.00497    0.00000  \n25%      1.76526    0.10510       236.94223     0.28412    2.15411  \n50%      3.90747    0.19759       581.03190     0.44613    6.66003  \n75%      7.83992    0.39693      1113.54200     0.68317   19.56792  \nmax    104.81810    2.35457     38664.70000     3.83736  270.41310  "
     },
     "execution_count": 566,
     "metadata": {},
     "output_type": "execute_result"
    }
   ],
   "source": [
    "nutrition_db2.describe()"
   ]
  },
  {
   "cell_type": "code",
   "execution_count": 185,
   "metadata": {},
   "outputs": [],
   "source": [
    "# remove recipes which are missing in nutrition df from the ingredients tecipes dataframe\n",
    "mask = recipe_db.index.isin(nutrition_db2.index.values)\n",
    "recipe_db = recipe_db.loc[mask]\n"
   ]
  },
  {
   "cell_type": "code",
   "execution_count": 186,
   "metadata": {},
   "outputs": [],
   "source": [
    "user_recipes_fat = recipe_db[recipe_db.index.isin(subset_fat_id)]\n",
    "user_recipes_normal = recipe_db[recipe_db.index.isin(subset_normal_id)]"
   ]
  },
  {
   "cell_type": "code",
   "execution_count": 187,
   "metadata": {},
   "outputs": [],
   "source": [
    "#top10 most common ingredients\n",
    "#16421    2125 salt\n",
    "#4342     1506 garlic\n",
    "#4397     1412 onion\n",
    "#16406    1185 ground black pepper\n",
    "#16157    1016 butter\n",
    "#6307      944 olive oil\n",
    "#6494      786 skinless bone less chicken breast\n",
    "#2496      749 water\n",
    "#16238     574 grated Parmesan cheese\n",
    "#16317     538 eggs\n",
    "\n",
    "\n",
    "drop_id_list = [16421, 4342, 4397, 16406, 16157, 6307, 6494, 2496, 16238, 16317]\n",
    "\n",
    "\n",
    "\n"
   ]
  },
  {
   "cell_type": "code",
   "execution_count": 188,
   "metadata": {},
   "outputs": [],
   "source": [
    "#filter out ingredients which are too common and the recipes in the user profile from the recipes database\n",
    "new_recipe_db = recipe_db.drop(axis=1, labels=drop_id_list)\n",
    "new_recipe_db_wo_userrecipes_fat = new_recipe_db.drop(axis=0, labels=subset_fat_id)\n",
    "new_recipe_db_wo_userrecipes_normal = new_recipe_db.drop(axis=0, labels=subset_normal_id)"
   ]
  },
  {
   "cell_type": "code",
   "execution_count": 189,
   "metadata": {},
   "outputs": [],
   "source": [
    "#remove basic ingredients like garlic, olive oil, skinless bone less chicken breast, butter, milk, salt and pepper, onion\n",
    "new_user_recipes_fat = user_recipes_fat.drop(axis=1, labels=drop_id_list)\n",
    "new_user_recipes_normal = user_recipes_normal.drop(axis=1, labels=drop_id_list)"
   ]
  },
  {
   "cell_type": "code",
   "execution_count": 190,
   "metadata": {},
   "outputs": [
    {
     "data": {
      "text/html": "<div>\n<style scoped>\n    .dataframe tbody tr th:only-of-type {\n        vertical-align: middle;\n    }\n\n    .dataframe tbody tr th {\n        vertical-align: top;\n    }\n\n    .dataframe thead th {\n        text-align: right;\n    }\n</style>\n<table border=\"1\" class=\"dataframe\">\n  <thead>\n    <tr style=\"text-align: right;\">\n      <th></th>\n      <th>jaccard_distance_sum</th>\n    </tr>\n  </thead>\n  <tbody>\n    <tr>\n      <td>83302</td>\n      <td>0.87908</td>\n    </tr>\n    <tr>\n      <td>51653</td>\n      <td>0.87945</td>\n    </tr>\n    <tr>\n      <td>158587</td>\n      <td>0.88098</td>\n    </tr>\n    <tr>\n      <td>218344</td>\n      <td>0.88406</td>\n    </tr>\n    <tr>\n      <td>15196</td>\n      <td>0.88437</td>\n    </tr>\n    <tr>\n      <td>25927</td>\n      <td>0.88587</td>\n    </tr>\n    <tr>\n      <td>189590</td>\n      <td>0.88605</td>\n    </tr>\n    <tr>\n      <td>8598</td>\n      <td>0.88905</td>\n    </tr>\n    <tr>\n      <td>20100</td>\n      <td>0.88920</td>\n    </tr>\n    <tr>\n      <td>71291</td>\n      <td>0.88981</td>\n    </tr>\n  </tbody>\n</table>\n</div>",
      "text/plain": "        jaccard_distance_sum\n83302                0.87908\n51653                0.87945\n158587               0.88098\n218344               0.88406\n15196                0.88437\n25927                0.88587\n189590               0.88605\n8598                 0.88905\n20100                0.88920\n71291                0.88981"
     },
     "execution_count": 190,
     "metadata": {},
     "output_type": "execute_result"
    }
   ],
   "source": [
    "## Jaccard - recipe to recipe similarity without any removal of basis ingredients and duplicate userrecipes\n",
    "\n",
    "result_array = cdist(user_recipes_fat, recipe_db,'jaccard')\n",
    "result_wo_filter = pd.DataFrame(result_array, columns=recipe_db.index.values, index=user_recipes_fat.index.values)\n",
    "# result_2\n",
    "\n",
    "result_wo_filter_10 = pd.DataFrame(result_wo_filter.sum(), columns=['jaccard_distance_sum'])\n",
    "result_wo_filter_10 = result_wo_filter_10.sort_values(by='jaccard_distance_sum')\n",
    "result_wo_filter_10['jaccard_distance_sum'] = result_wo_filter_10['jaccard_distance_sum'].div(20)\n",
    "result_wo_filter_10[0:10]\n"
   ]
  },
  {
   "cell_type": "code",
   "execution_count": 191,
   "metadata": {},
   "outputs": [
    {
     "data": {
      "text/plain": "0     51653\n1    158587\ndtype: int64"
     },
     "execution_count": 191,
     "metadata": {},
     "output_type": "execute_result"
    }
   ],
   "source": [
    "pd.Series(np.intersect1d(subset_fat_id, result_wo_filter_10[0:10].index.to_numpy()))\n"
   ]
  },
  {
   "cell_type": "code",
   "execution_count": 192,
   "metadata": {},
   "outputs": [
    {
     "data": {
      "text/html": "<div>\n<style scoped>\n    .dataframe tbody tr th:only-of-type {\n        vertical-align: middle;\n    }\n\n    .dataframe tbody tr th {\n        vertical-align: top;\n    }\n\n    .dataframe thead th {\n        text-align: right;\n    }\n</style>\n<table border=\"1\" class=\"dataframe\">\n  <thead>\n    <tr style=\"text-align: right;\">\n      <th></th>\n      <th>jaccard_distance_sum</th>\n    </tr>\n  </thead>\n  <tbody>\n    <tr>\n      <td>51653</td>\n      <td>0.90715</td>\n    </tr>\n    <tr>\n      <td>15127</td>\n      <td>0.91631</td>\n    </tr>\n    <tr>\n      <td>158587</td>\n      <td>0.91867</td>\n    </tr>\n    <tr>\n      <td>229885</td>\n      <td>0.92472</td>\n    </tr>\n    <tr>\n      <td>22286</td>\n      <td>0.92722</td>\n    </tr>\n    <tr>\n      <td>230283</td>\n      <td>0.92733</td>\n    </tr>\n    <tr>\n      <td>161869</td>\n      <td>0.92779</td>\n    </tr>\n    <tr>\n      <td>218344</td>\n      <td>0.92846</td>\n    </tr>\n    <tr>\n      <td>23157</td>\n      <td>0.92962</td>\n    </tr>\n    <tr>\n      <td>235171</td>\n      <td>0.93086</td>\n    </tr>\n  </tbody>\n</table>\n</div>",
      "text/plain": "        jaccard_distance_sum\n51653                0.90715\n15127                0.91631\n158587               0.91867\n229885               0.92472\n22286                0.92722\n230283               0.92733\n161869               0.92779\n218344               0.92846\n23157                0.92962\n235171               0.93086"
     },
     "execution_count": 192,
     "metadata": {},
     "output_type": "execute_result"
    }
   ],
   "source": [
    "## Jaccard - recipe to recipe similarity without any removal of basis ingredients \n",
    "\n",
    "result_array = cdist(new_user_recipes_fat, new_recipe_db,'jaccard')\n",
    "result_wo_basis_filter = pd.DataFrame(result_array, columns=new_recipe_db.index.values, index=new_user_recipes_fat.index.values)\n",
    "# result_2\n",
    "\n",
    "result_wo_basis_filter_10 = pd.DataFrame(result_wo_basis_filter.sum(), columns=['jaccard_distance_sum'])\n",
    "result_wo_basis_filter_10 = result_wo_basis_filter_10.sort_values(by='jaccard_distance_sum')\n",
    "result_wo_basis_filter_10['jaccard_distance_sum'] = result_wo_basis_filter_10['jaccard_distance_sum'].div(20)\n",
    "result_wo_basis_filter_10[0:10]\n"
   ]
  },
  {
   "cell_type": "code",
   "execution_count": 193,
   "metadata": {},
   "outputs": [
    {
     "data": {
      "text/plain": "array([ 51653,  15127, 158587, 229885,  22286, 230283, 161869, 218344,\n        23157, 235171])"
     },
     "execution_count": 193,
     "metadata": {},
     "output_type": "execute_result"
    }
   ],
   "source": [
    "result_wo_basis_filter_10[0:10].index.to_numpy()"
   ]
  },
  {
   "cell_type": "code",
   "execution_count": 253,
   "metadata": {},
   "outputs": [
    {
     "data": {
      "text/plain": "array([  8630,  62706, 229885, 228431,   8639,  42247, 233661, 158587,\n        22286, 231233,  76763, 236103,  51653,   8549,  69538,  23157,\n        11892, 180150, 235171,  15127])"
     },
     "execution_count": 253,
     "metadata": {},
     "output_type": "execute_result"
    }
   ],
   "source": [
    "subset_fat_id"
   ]
  },
  {
   "cell_type": "code",
   "execution_count": 254,
   "metadata": {},
   "outputs": [
    {
     "data": {
      "text/plain": "0     15127\n1     22286\n2     23157\n3     51653\n4    158587\n5    229885\n6    235171\ndtype: int64"
     },
     "execution_count": 254,
     "metadata": {},
     "output_type": "execute_result"
    }
   ],
   "source": [
    "pd.Series(np.intersect1d(subset_fat_id, result_wo_basis_filter_10[0:10].index.to_numpy()))\n"
   ]
  },
  {
   "cell_type": "code",
   "execution_count": 255,
   "metadata": {},
   "outputs": [
    {
     "data": {
      "text/html": "<div>\n<style scoped>\n    .dataframe tbody tr th:only-of-type {\n        vertical-align: middle;\n    }\n\n    .dataframe tbody tr th {\n        vertical-align: top;\n    }\n\n    .dataframe thead th {\n        text-align: right;\n    }\n</style>\n<table border=\"1\" class=\"dataframe\">\n  <thead>\n    <tr style=\"text-align: right;\">\n      <th></th>\n      <th>jaccard_distance_sum</th>\n    </tr>\n  </thead>\n  <tbody>\n    <tr>\n      <td>230283</td>\n      <td>0.92733</td>\n    </tr>\n    <tr>\n      <td>161869</td>\n      <td>0.92779</td>\n    </tr>\n    <tr>\n      <td>218344</td>\n      <td>0.92846</td>\n    </tr>\n    <tr>\n      <td>19422</td>\n      <td>0.93188</td>\n    </tr>\n    <tr>\n      <td>18349</td>\n      <td>0.93435</td>\n    </tr>\n    <tr>\n      <td>83302</td>\n      <td>0.93692</td>\n    </tr>\n    <tr>\n      <td>20100</td>\n      <td>0.93694</td>\n    </tr>\n    <tr>\n      <td>11937</td>\n      <td>0.93709</td>\n    </tr>\n    <tr>\n      <td>46813</td>\n      <td>0.93737</td>\n    </tr>\n    <tr>\n      <td>16998</td>\n      <td>0.93739</td>\n    </tr>\n  </tbody>\n</table>\n</div>",
      "text/plain": "        jaccard_distance_sum\n230283               0.92733\n161869               0.92779\n218344               0.92846\n19422                0.93188\n18349                0.93435\n83302                0.93692\n20100                0.93694\n11937                0.93709\n46813                0.93737\n16998                0.93739"
     },
     "execution_count": 255,
     "metadata": {},
     "output_type": "execute_result"
    }
   ],
   "source": [
    "## Jaccard - recipe to recipe similarity with removal of basis ingredients and duplicate userrecipes\n",
    "\n",
    "result_array = cdist(new_user_recipes_fat, new_recipe_db_wo_userrecipes_fat,'jaccard')\n",
    "result_w_filter = pd.DataFrame(result_array, columns=new_recipe_db_wo_userrecipes_fat.index.values, index=new_user_recipes_fat.index.values)\n",
    "# result_2\n",
    "\n",
    "result_w_filter_10 = pd.DataFrame(result_w_filter.sum(), columns=['jaccard_distance_sum'])\n",
    "result_w_filter_10 = result_w_filter_10.sort_values(by='jaccard_distance_sum')\n",
    "result_w_filter_10['jaccard_distance_sum'] = result_w_filter_10['jaccard_distance_sum'].div(20)\n",
    "result_w_filter_10[0:10]\n"
   ]
  },
  {
   "cell_type": "code",
   "execution_count": 256,
   "metadata": {},
   "outputs": [
    {
     "data": {
      "text/html": "<div>\n<style scoped>\n    .dataframe tbody tr th:only-of-type {\n        vertical-align: middle;\n    }\n\n    .dataframe tbody tr th {\n        vertical-align: top;\n    }\n\n    .dataframe thead th {\n        text-align: right;\n    }\n</style>\n<table border=\"1\" class=\"dataframe\">\n  <thead>\n    <tr style=\"text-align: right;\">\n      <th></th>\n      <th>jaccard_distance_sum</th>\n    </tr>\n  </thead>\n  <tbody>\n    <tr>\n      <td>230283</td>\n      <td>0.92733</td>\n    </tr>\n    <tr>\n      <td>161869</td>\n      <td>0.92779</td>\n    </tr>\n    <tr>\n      <td>218344</td>\n      <td>0.92846</td>\n    </tr>\n    <tr>\n      <td>19422</td>\n      <td>0.93188</td>\n    </tr>\n    <tr>\n      <td>18349</td>\n      <td>0.93435</td>\n    </tr>\n    <tr>\n      <td>...</td>\n      <td>...</td>\n    </tr>\n    <tr>\n      <td>25860</td>\n      <td>1.00000</td>\n    </tr>\n    <tr>\n      <td>230901</td>\n      <td>1.00000</td>\n    </tr>\n    <tr>\n      <td>87934</td>\n      <td>1.00000</td>\n    </tr>\n    <tr>\n      <td>87053</td>\n      <td>1.00000</td>\n    </tr>\n    <tr>\n      <td>89742</td>\n      <td>1.00000</td>\n    </tr>\n  </tbody>\n</table>\n<p>3750 rows × 1 columns</p>\n</div>",
      "text/plain": "        jaccard_distance_sum\n230283               0.92733\n161869               0.92779\n218344               0.92846\n19422                0.93188\n18349                0.93435\n...                      ...\n25860                1.00000\n230901               1.00000\n87934                1.00000\n87053                1.00000\n89742                1.00000\n\n[3750 rows x 1 columns]"
     },
     "execution_count": 256,
     "metadata": {},
     "output_type": "execute_result"
    }
   ],
   "source": [
    "result_w_filter_10"
   ]
  },
  {
   "cell_type": "code",
   "execution_count": 257,
   "metadata": {},
   "outputs": [],
   "source": [
    "\n",
    "result_w_filter_10 = result_w_filter_10.reset_index()\n"
   ]
  },
  {
   "cell_type": "code",
   "execution_count": 258,
   "metadata": {},
   "outputs": [],
   "source": [
    "result_w_filter_10.set_index('index', inplace=True)"
   ]
  },
  {
   "cell_type": "code",
   "execution_count": 259,
   "metadata": {},
   "outputs": [
    {
     "data": {
      "text/html": "<div>\n<style scoped>\n    .dataframe tbody tr th:only-of-type {\n        vertical-align: middle;\n    }\n\n    .dataframe tbody tr th {\n        vertical-align: top;\n    }\n\n    .dataframe thead th {\n        text-align: right;\n    }\n</style>\n<table border=\"1\" class=\"dataframe\">\n  <thead>\n    <tr style=\"text-align: right;\">\n      <th></th>\n      <th>jaccard_distance_sum</th>\n    </tr>\n    <tr>\n      <th>index</th>\n      <th></th>\n    </tr>\n  </thead>\n  <tbody>\n    <tr>\n      <td>230283</td>\n      <td>0.92733</td>\n    </tr>\n    <tr>\n      <td>161869</td>\n      <td>0.92779</td>\n    </tr>\n    <tr>\n      <td>218344</td>\n      <td>0.92846</td>\n    </tr>\n    <tr>\n      <td>19422</td>\n      <td>0.93188</td>\n    </tr>\n    <tr>\n      <td>18349</td>\n      <td>0.93435</td>\n    </tr>\n    <tr>\n      <td>...</td>\n      <td>...</td>\n    </tr>\n    <tr>\n      <td>25860</td>\n      <td>1.00000</td>\n    </tr>\n    <tr>\n      <td>230901</td>\n      <td>1.00000</td>\n    </tr>\n    <tr>\n      <td>87934</td>\n      <td>1.00000</td>\n    </tr>\n    <tr>\n      <td>87053</td>\n      <td>1.00000</td>\n    </tr>\n    <tr>\n      <td>89742</td>\n      <td>1.00000</td>\n    </tr>\n  </tbody>\n</table>\n<p>3750 rows × 1 columns</p>\n</div>",
      "text/plain": "        jaccard_distance_sum\nindex                       \n230283               0.92733\n161869               0.92779\n218344               0.92846\n19422                0.93188\n18349                0.93435\n...                      ...\n25860                1.00000\n230901               1.00000\n87934                1.00000\n87053                1.00000\n89742                1.00000\n\n[3750 rows x 1 columns]"
     },
     "execution_count": 259,
     "metadata": {},
     "output_type": "execute_result"
    }
   ],
   "source": [
    "result_w_filter_10"
   ]
  },
  {
   "cell_type": "code",
   "execution_count": 260,
   "metadata": {},
   "outputs": [],
   "source": [
    "#  ------ Erstellung und cleansing des Nutrition Dataframes\n",
    "\n",
    "# erstelle neue liste auf basis der bereits gefilterten rezepte aus ingredients_filt\n",
    "id_overlap_mask = nutritions['id'].isin(result_w_filter_10.index.get_level_values('index').values)\n",
    "\n",
    "# erstelle datenframe auf basis der overlapliste\n",
    "nutritions_filt = nutritions.loc[id_overlap_mask]\n",
    "\n",
    "nutrition_jaccard_top_10 = nutritions_filt.pivot_table(\n",
    "    index=['id'],\n",
    "    columns=['name'],\n",
    "    values=['amount'],\n",
    ").reset_index()\n",
    "\n",
    "nutrition_jaccard_top_10.set_index('id', inplace=True)\n",
    "\n",
    "# remove multiindex 'amount'\n",
    "nutrition_jaccard_top_10.columns = nutrition_jaccard_top_10.columns.droplevel(0)\n",
    "\n",
    "# entferne alle NA\n",
    "nutrition_jaccard_top_10 = nutrition_jaccard_top_10.dropna()"
   ]
  },
  {
   "cell_type": "code",
   "execution_count": 261,
   "metadata": {},
   "outputs": [
    {
     "data": {
      "text/html": "<div>\n<style scoped>\n    .dataframe tbody tr th:only-of-type {\n        vertical-align: middle;\n    }\n\n    .dataframe tbody tr th {\n        vertical-align: top;\n    }\n\n    .dataframe thead th {\n        text-align: right;\n    }\n</style>\n<table border=\"1\" class=\"dataframe\">\n  <thead>\n    <tr style=\"text-align: right;\">\n      <th>name</th>\n      <th>Calcium</th>\n      <th>Calories</th>\n      <th>Calories from Fat</th>\n      <th>Carbohydrates</th>\n      <th>Cholesterol</th>\n      <th>Dietary Fiber</th>\n      <th>Fat</th>\n      <th>Folate</th>\n      <th>Iron</th>\n      <th>Magnesium</th>\n      <th>Niacin Equivalents</th>\n      <th>Potassium</th>\n      <th>Protein</th>\n      <th>Saturated Fat</th>\n      <th>Sodium</th>\n      <th>Sugars</th>\n      <th>Thiamin</th>\n      <th>Vitamin A - IU</th>\n      <th>Vitamin B6</th>\n      <th>Vitamin C</th>\n    </tr>\n  </thead>\n  <tbody>\n    <tr>\n      <td>count</td>\n      <td>3750.00000</td>\n      <td>3750.00000</td>\n      <td>3750.00000</td>\n      <td>3750.00000</td>\n      <td>3750.00000</td>\n      <td>3750.00000</td>\n      <td>3750.00000</td>\n      <td>3750.00000</td>\n      <td>3750.00000</td>\n      <td>3750.00000</td>\n      <td>3750.00000</td>\n      <td>3750.00000</td>\n      <td>3750.00000</td>\n      <td>3750.00000</td>\n      <td>3750.00000</td>\n      <td>3750.00000</td>\n      <td>3750.00000</td>\n      <td>3750.00000</td>\n      <td>3750.00000</td>\n      <td>3750.00000</td>\n    </tr>\n    <tr>\n      <td>mean</td>\n      <td>147.13709</td>\n      <td>436.40804</td>\n      <td>205.40056</td>\n      <td>29.11030</td>\n      <td>96.92813</td>\n      <td>2.59757</td>\n      <td>22.82228</td>\n      <td>60.52398</td>\n      <td>3.15258</td>\n      <td>51.38616</td>\n      <td>12.42764</td>\n      <td>531.91587</td>\n      <td>28.00739</td>\n      <td>8.71657</td>\n      <td>849.35842</td>\n      <td>6.71039</td>\n      <td>0.30402</td>\n      <td>1170.67426</td>\n      <td>0.50929</td>\n      <td>16.32161</td>\n    </tr>\n    <tr>\n      <td>std</td>\n      <td>159.44754</td>\n      <td>182.77873</td>\n      <td>125.80797</td>\n      <td>22.77984</td>\n      <td>60.41749</td>\n      <td>2.51191</td>\n      <td>13.97866</td>\n      <td>59.89698</td>\n      <td>2.44753</td>\n      <td>29.13999</td>\n      <td>6.88662</td>\n      <td>267.54772</td>\n      <td>11.96424</td>\n      <td>6.79142</td>\n      <td>641.46015</td>\n      <td>8.68068</td>\n      <td>0.30169</td>\n      <td>2327.45793</td>\n      <td>0.31167</td>\n      <td>24.40366</td>\n    </tr>\n    <tr>\n      <td>min</td>\n      <td>2.24700</td>\n      <td>51.34326</td>\n      <td>1.32300</td>\n      <td>0.00000</td>\n      <td>0.00000</td>\n      <td>0.00000</td>\n      <td>0.14700</td>\n      <td>0.00000</td>\n      <td>0.19784</td>\n      <td>0.99745</td>\n      <td>0.03511</td>\n      <td>21.35641</td>\n      <td>0.75050</td>\n      <td>0.01992</td>\n      <td>5.20206</td>\n      <td>0.00000</td>\n      <td>0.00055</td>\n      <td>0.00000</td>\n      <td>0.00497</td>\n      <td>0.00000</td>\n    </tr>\n    <tr>\n      <td>25%</td>\n      <td>41.85553</td>\n      <td>302.48205</td>\n      <td>116.14998</td>\n      <td>10.23955</td>\n      <td>60.27750</td>\n      <td>0.74599</td>\n      <td>12.90555</td>\n      <td>15.89910</td>\n      <td>1.81333</td>\n      <td>33.18473</td>\n      <td>7.39559</td>\n      <td>345.42128</td>\n      <td>19.94660</td>\n      <td>3.61431</td>\n      <td>418.04737</td>\n      <td>1.76712</td>\n      <td>0.10500</td>\n      <td>236.94223</td>\n      <td>0.28369</td>\n      <td>2.14741</td>\n    </tr>\n    <tr>\n      <td>50%</td>\n      <td>83.04989</td>\n      <td>405.90590</td>\n      <td>182.43700</td>\n      <td>24.76714</td>\n      <td>84.87916</td>\n      <td>1.94505</td>\n      <td>20.27078</td>\n      <td>38.71169</td>\n      <td>2.76524</td>\n      <td>45.89463</td>\n      <td>11.14604</td>\n      <td>480.59680</td>\n      <td>26.81967</td>\n      <td>7.14019</td>\n      <td>732.97435</td>\n      <td>3.91375</td>\n      <td>0.19736</td>\n      <td>581.03190</td>\n      <td>0.44540</td>\n      <td>6.68777</td>\n    </tr>\n    <tr>\n      <td>75%</td>\n      <td>193.06110</td>\n      <td>539.28337</td>\n      <td>270.51977</td>\n      <td>43.24507</td>\n      <td>126.63000</td>\n      <td>3.66432</td>\n      <td>30.05775</td>\n      <td>88.07055</td>\n      <td>3.92674</td>\n      <td>63.21386</td>\n      <td>16.52695</td>\n      <td>654.43387</td>\n      <td>34.25542</td>\n      <td>12.10183</td>\n      <td>1090.45625</td>\n      <td>7.83992</td>\n      <td>0.39680</td>\n      <td>1112.92000</td>\n      <td>0.68266</td>\n      <td>19.57767</td>\n    </tr>\n    <tr>\n      <td>max</td>\n      <td>1264.32600</td>\n      <td>1828.19200</td>\n      <td>989.10300</td>\n      <td>236.72050</td>\n      <td>708.85000</td>\n      <td>27.83175</td>\n      <td>109.90030</td>\n      <td>519.53590</td>\n      <td>55.89075</td>\n      <td>590.39220</td>\n      <td>47.57578</td>\n      <td>1931.48800</td>\n      <td>99.72639</td>\n      <td>59.31002</td>\n      <td>7322.28900</td>\n      <td>102.04480</td>\n      <td>2.35457</td>\n      <td>38664.70000</td>\n      <td>3.83736</td>\n      <td>270.41310</td>\n    </tr>\n  </tbody>\n</table>\n</div>",
      "text/plain": "name     Calcium   Calories  Calories from Fat  Carbohydrates  Cholesterol  \\\ncount 3750.00000 3750.00000         3750.00000     3750.00000   3750.00000   \nmean   147.13709  436.40804          205.40056       29.11030     96.92813   \nstd    159.44754  182.77873          125.80797       22.77984     60.41749   \nmin      2.24700   51.34326            1.32300        0.00000      0.00000   \n25%     41.85553  302.48205          116.14998       10.23955     60.27750   \n50%     83.04989  405.90590          182.43700       24.76714     84.87916   \n75%    193.06110  539.28337          270.51977       43.24507    126.63000   \nmax   1264.32600 1828.19200          989.10300      236.72050    708.85000   \n\nname   Dietary Fiber        Fat     Folate       Iron  Magnesium  \\\ncount     3750.00000 3750.00000 3750.00000 3750.00000 3750.00000   \nmean         2.59757   22.82228   60.52398    3.15258   51.38616   \nstd          2.51191   13.97866   59.89698    2.44753   29.13999   \nmin          0.00000    0.14700    0.00000    0.19784    0.99745   \n25%          0.74599   12.90555   15.89910    1.81333   33.18473   \n50%          1.94505   20.27078   38.71169    2.76524   45.89463   \n75%          3.66432   30.05775   88.07055    3.92674   63.21386   \nmax         27.83175  109.90030  519.53590   55.89075  590.39220   \n\nname   Niacin Equivalents  Potassium    Protein  Saturated Fat     Sodium  \\\ncount          3750.00000 3750.00000 3750.00000     3750.00000 3750.00000   \nmean             12.42764  531.91587   28.00739        8.71657  849.35842   \nstd               6.88662  267.54772   11.96424        6.79142  641.46015   \nmin               0.03511   21.35641    0.75050        0.01992    5.20206   \n25%               7.39559  345.42128   19.94660        3.61431  418.04737   \n50%              11.14604  480.59680   26.81967        7.14019  732.97435   \n75%              16.52695  654.43387   34.25542       12.10183 1090.45625   \nmax              47.57578 1931.48800   99.72639       59.31002 7322.28900   \n\nname      Sugars    Thiamin  Vitamin A - IU  Vitamin B6  Vitamin C  \ncount 3750.00000 3750.00000      3750.00000  3750.00000 3750.00000  \nmean     6.71039    0.30402      1170.67426     0.50929   16.32161  \nstd      8.68068    0.30169      2327.45793     0.31167   24.40366  \nmin      0.00000    0.00055         0.00000     0.00497    0.00000  \n25%      1.76712    0.10500       236.94223     0.28369    2.14741  \n50%      3.91375    0.19736       581.03190     0.44540    6.68777  \n75%      7.83992    0.39680      1112.92000     0.68266   19.57767  \nmax    102.04480    2.35457     38664.70000     3.83736  270.41310  "
     },
     "execution_count": 261,
     "metadata": {},
     "output_type": "execute_result"
    }
   ],
   "source": [
    "nutrition_jaccard_top_10.describe()"
   ]
  },
  {
   "cell_type": "code",
   "execution_count": 262,
   "metadata": {},
   "outputs": [
    {
     "data": {
      "text/plain": "array([230283, 161869, 218344,  19422,  18349,  83302,  20100,  11937,\n        46813,  16998, 238691,  11735,   8663, 221227,  18805, 214502,\n       219166, 180905,  12016, 102393, 196428,  23058,  23105,   9043,\n        42919,  15196,  15530,  70012,  18795,  11962, 178809, 263813,\n        74142,  86069, 228367, 245764, 236703,  15375,  20456,   9000])"
     },
     "execution_count": 262,
     "metadata": {},
     "output_type": "execute_result"
    }
   ],
   "source": [
    "result_w_filter_10[0:40].index.to_numpy()"
   ]
  },
  {
   "cell_type": "code",
   "execution_count": 312,
   "metadata": {},
   "outputs": [
    {
     "data": {
      "text/plain": "array([  8630,  62706, 229885, 228431,   8639,  42247, 233661, 158587,\n        22286, 231233,  76763, 236103,  51653,   8549,  69538,  23157,\n        11892, 180150, 235171,  15127])"
     },
     "execution_count": 312,
     "metadata": {},
     "output_type": "execute_result"
    }
   ],
   "source": [
    "subset_fat_id"
   ]
  },
  {
   "cell_type": "code",
   "execution_count": 361,
   "metadata": {},
   "outputs": [
    {
     "data": {
      "text/plain": "Series([], dtype: int64)"
     },
     "execution_count": 361,
     "metadata": {},
     "output_type": "execute_result"
    }
   ],
   "source": [
    "pd.Series(np.intersect1d(subset_fat_id,result_w_filter_10[0:10].index.to_numpy()))\n"
   ]
  },
  {
   "cell_type": "code",
   "execution_count": 569,
   "metadata": {},
   "outputs": [
    {
     "data": {
      "text/plain": "8549     1.00000\n8630     0.90909\n8639     1.00000\n11892    1.00000\n15127    0.88889\n22286    0.92857\n23157    0.83333\n42247    1.00000\n51653    0.85714\n62706    1.00000\n69538    1.00000\n76763    1.00000\n158587   0.84615\n180150   1.00000\n228431   1.00000\n229885   0.88889\n231233   0.91667\n233661   1.00000\n235171   1.00000\n236103   1.00000\nName: 166992, dtype: float64"
     },
     "execution_count": 569,
     "metadata": {},
     "output_type": "execute_result"
    }
   ],
   "source": [
    "result_w_filter[166992]"
   ]
  },
  {
   "cell_type": "code",
   "execution_count": 363,
   "metadata": {},
   "outputs": [],
   "source": [
    "test = result_w_filter_10.reset_index()"
   ]
  },
  {
   "cell_type": "code",
   "execution_count": 364,
   "metadata": {},
   "outputs": [],
   "source": [
    "test.set_index('index', inplace=True)"
   ]
  },
  {
   "cell_type": "code",
   "execution_count": 365,
   "metadata": {},
   "outputs": [],
   "source": [
    "df['C'] = np.arange(len(df))"
   ]
  },
  {
   "cell_type": "code",
   "execution_count": 366,
   "metadata": {},
   "outputs": [
    {
     "data": {
      "text/plain": "jaccard_distance_sum   0.98583\nName: 14127, dtype: float64"
     },
     "execution_count": 366,
     "metadata": {},
     "output_type": "execute_result"
    }
   ],
   "source": [
    "test.loc[14127]"
   ]
  },
  {
   "cell_type": "code",
   "execution_count": 367,
   "metadata": {},
   "outputs": [],
   "source": [
    "#create one dimensional ingredients vector from user recipes profile\n",
    "user_one_vector = new_user_recipes_fat.copy()\n",
    "user_one_vector.loc['sum',:]= user_one_vector.sum(axis=0)\n",
    "user_one_vector = user_one_vector.drop(axis=0, labels=subset_fat_id)\n",
    "user_one_vector[user_one_vector > 0] = 1"
   ]
  },
  {
   "cell_type": "code",
   "execution_count": 368,
   "metadata": {},
   "outputs": [
    {
     "data": {
      "text/plain": "0.00000    613\n1.00000    107\ndtype: int64"
     },
     "execution_count": 368,
     "metadata": {},
     "output_type": "execute_result"
    }
   ],
   "source": [
    "#show number of ingredients\n",
    "user_one_vector.apply(pd.value_counts).count(axis=1)"
   ]
  },
  {
   "cell_type": "code",
   "execution_count": 369,
   "metadata": {},
   "outputs": [
    {
     "data": {
      "text/html": "<div>\n<style scoped>\n    .dataframe tbody tr th:only-of-type {\n        vertical-align: middle;\n    }\n\n    .dataframe tbody tr th {\n        vertical-align: top;\n    }\n\n    .dataframe thead th {\n        text-align: right;\n    }\n</style>\n<table border=\"1\" class=\"dataframe\">\n  <thead>\n    <tr style=\"text-align: right;\">\n      <th></th>\n      <th>jaccard_distance_sum</th>\n    </tr>\n  </thead>\n  <tbody>\n    <tr>\n      <td>180905</td>\n      <td>0.90000</td>\n    </tr>\n    <tr>\n      <td>218344</td>\n      <td>0.90654</td>\n    </tr>\n    <tr>\n      <td>9005</td>\n      <td>0.90909</td>\n    </tr>\n    <tr>\n      <td>111905</td>\n      <td>0.91071</td>\n    </tr>\n    <tr>\n      <td>230283</td>\n      <td>0.91589</td>\n    </tr>\n    <tr>\n      <td>125658</td>\n      <td>0.91667</td>\n    </tr>\n    <tr>\n      <td>23105</td>\n      <td>0.91667</td>\n    </tr>\n    <tr>\n      <td>186691</td>\n      <td>0.91743</td>\n    </tr>\n    <tr>\n      <td>234797</td>\n      <td>0.91964</td>\n    </tr>\n    <tr>\n      <td>112206</td>\n      <td>0.91964</td>\n    </tr>\n    <tr>\n      <td>231396</td>\n      <td>0.91964</td>\n    </tr>\n    <tr>\n      <td>236805</td>\n      <td>0.92105</td>\n    </tr>\n    <tr>\n      <td>76373</td>\n      <td>0.92241</td>\n    </tr>\n    <tr>\n      <td>15375</td>\n      <td>0.92523</td>\n    </tr>\n    <tr>\n      <td>22991</td>\n      <td>0.92593</td>\n    </tr>\n    <tr>\n      <td>68380</td>\n      <td>0.92593</td>\n    </tr>\n    <tr>\n      <td>239230</td>\n      <td>0.92593</td>\n    </tr>\n    <tr>\n      <td>137576</td>\n      <td>0.92661</td>\n    </tr>\n    <tr>\n      <td>26656</td>\n      <td>0.92661</td>\n    </tr>\n    <tr>\n      <td>49374</td>\n      <td>0.92661</td>\n    </tr>\n  </tbody>\n</table>\n</div>",
      "text/plain": "        jaccard_distance_sum\n180905               0.90000\n218344               0.90654\n9005                 0.90909\n111905               0.91071\n230283               0.91589\n125658               0.91667\n23105                0.91667\n186691               0.91743\n234797               0.91964\n112206               0.91964\n231396               0.91964\n236805               0.92105\n76373                0.92241\n15375                0.92523\n22991                0.92593\n68380                0.92593\n239230               0.92593\n137576               0.92661\n26656                0.92661\n49374                0.92661"
     },
     "execution_count": 369,
     "metadata": {},
     "output_type": "execute_result"
    }
   ],
   "source": [
    "## Jaccard - user vector to recipe similarity with removal of basis ingredients and duplicate userrecipes\n",
    "\n",
    "result_array = cdist(user_one_vector, new_recipe_db_wo_userrecipes_fat,'jaccard')\n",
    "result_w_filter_vector = pd.DataFrame(result_array, columns=new_recipe_db_wo_userrecipes_fat.index.values, index=user_one_vector.index.values)\n",
    "\n",
    "\n",
    "result_w_filter_vector_10 = pd.DataFrame(result_w_filter_vector.sum(), columns=['jaccard_distance_sum'])\n",
    "result_w_filter_vector_10 = result_w_filter_vector_10.sort_values(by='jaccard_distance_sum')\n",
    "\n",
    "result_w_filter_vector_10[0:20]\n"
   ]
  },
  {
   "cell_type": "code",
   "execution_count": 570,
   "metadata": {},
   "outputs": [
    {
     "data": {
      "text/html": "<div>\n<style scoped>\n    .dataframe tbody tr th:only-of-type {\n        vertical-align: middle;\n    }\n\n    .dataframe tbody tr th {\n        vertical-align: top;\n    }\n\n    .dataframe thead th {\n        text-align: right;\n    }\n</style>\n<table border=\"1\" class=\"dataframe\">\n  <thead>\n    <tr style=\"text-align: right;\">\n      <th></th>\n      <th>7198</th>\n      <th>8493</th>\n      <th>8494</th>\n      <th>8495</th>\n      <th>8496</th>\n      <th>8497</th>\n      <th>8498</th>\n      <th>8500</th>\n      <th>8503</th>\n      <th>8506</th>\n      <th>...</th>\n      <th>254874</th>\n      <th>254940</th>\n      <th>255038</th>\n      <th>255263</th>\n      <th>255545</th>\n      <th>255936</th>\n      <th>257312</th>\n      <th>260193</th>\n      <th>261124</th>\n      <th>263813</th>\n    </tr>\n  </thead>\n  <tbody>\n    <tr>\n      <td>sum</td>\n      <td>0.98230</td>\n      <td>0.97222</td>\n      <td>0.96460</td>\n      <td>0.98148</td>\n      <td>0.99074</td>\n      <td>0.97222</td>\n      <td>0.97222</td>\n      <td>0.95370</td>\n      <td>0.99107</td>\n      <td>0.95413</td>\n      <td>...</td>\n      <td>0.98165</td>\n      <td>0.98165</td>\n      <td>0.93694</td>\n      <td>0.96296</td>\n      <td>0.94595</td>\n      <td>0.98230</td>\n      <td>0.98182</td>\n      <td>0.99083</td>\n      <td>0.95370</td>\n      <td>0.94495</td>\n    </tr>\n  </tbody>\n</table>\n<p>1 rows × 3750 columns</p>\n</div>",
      "text/plain": "     7198    8493    8494    8495    8496    8497    8498    8500    8503    \\\nsum 0.98230 0.97222 0.96460 0.98148 0.99074 0.97222 0.97222 0.95370 0.99107   \n\n     8506    ...  254874  254940  255038  255263  255545  255936  257312  \\\nsum 0.95413  ... 0.98165 0.98165 0.93694 0.96296 0.94595 0.98230 0.98182   \n\n     260193  261124  263813  \nsum 0.99083 0.95370 0.94495  \n\n[1 rows x 3750 columns]"
     },
     "execution_count": 570,
     "metadata": {},
     "output_type": "execute_result"
    }
   ],
   "source": [
    "result_w_filter_vector"
   ]
  },
  {
   "cell_type": "code",
   "execution_count": 409,
   "metadata": {},
   "outputs": [
    {
     "data": {
      "text/plain": "Series([], dtype: int64)"
     },
     "execution_count": 409,
     "metadata": {},
     "output_type": "execute_result"
    }
   ],
   "source": [
    "pd.Series(np.intersect1d(subset_fat_id, result_w_filter_vector_10[0:10].index.to_numpy()))\n"
   ]
  },
  {
   "cell_type": "code",
   "execution_count": 410,
   "metadata": {},
   "outputs": [
    {
     "data": {
      "text/plain": "array([180905, 218344,   9005, 111905, 230283, 125658,  23105, 186691,\n       234797, 112206, 231396, 236805,  76373,  15375,  22991,  68380,\n       239230, 137576,  26656,  49374])"
     },
     "execution_count": 410,
     "metadata": {},
     "output_type": "execute_result"
    }
   ],
   "source": [
    "result_w_filter_vector_10[0:20].index.to_numpy()"
   ]
  },
  {
   "cell_type": "code",
   "execution_count": 448,
   "metadata": {},
   "outputs": [
    {
     "data": {
      "text/plain": "array([  8630,  62706, 229885, 228431,   8639,  42247, 233661, 158587,\n        22286, 231233,  76763, 236103,  51653,   8549,  69538,  23157,\n        11892, 180150, 235171,  15127])"
     },
     "execution_count": 448,
     "metadata": {},
     "output_type": "execute_result"
    }
   ],
   "source": [
    "subset_fat_id"
   ]
  },
  {
   "cell_type": "code",
   "execution_count": 449,
   "metadata": {},
   "outputs": [],
   "source": [
    "recommenden_nut = pd.DataFrame(data=None, columns=nutrition_db2.columns, index=None)"
   ]
  },
  {
   "cell_type": "code",
   "execution_count": 450,
   "metadata": {},
   "outputs": [
    {
     "data": {
      "text/html": "<div>\n<style scoped>\n    .dataframe tbody tr th:only-of-type {\n        vertical-align: middle;\n    }\n\n    .dataframe tbody tr th {\n        vertical-align: top;\n    }\n\n    .dataframe thead th {\n        text-align: right;\n    }\n</style>\n<table border=\"1\" class=\"dataframe\">\n  <thead>\n    <tr style=\"text-align: right;\">\n      <th>name</th>\n      <th>Calcium</th>\n      <th>Calories</th>\n      <th>Calories from Fat</th>\n      <th>Carbohydrates</th>\n      <th>Cholesterol</th>\n      <th>Dietary Fiber</th>\n      <th>Fat</th>\n      <th>Folate</th>\n      <th>Iron</th>\n      <th>Magnesium</th>\n      <th>Niacin Equivalents</th>\n      <th>Potassium</th>\n      <th>Protein</th>\n      <th>Saturated Fat</th>\n      <th>Sodium</th>\n      <th>Sugars</th>\n      <th>Thiamin</th>\n      <th>Vitamin A - IU</th>\n      <th>Vitamin B6</th>\n      <th>Vitamin C</th>\n    </tr>\n  </thead>\n  <tbody>\n    <tr>\n      <td>index</td>\n      <td>333.30000</td>\n      <td>800.00000</td>\n      <td>0.00000</td>\n      <td>43.30000</td>\n      <td>0.00000</td>\n      <td>8.30000</td>\n      <td>30.00000</td>\n      <td>133.30000</td>\n      <td>2.60000</td>\n      <td>133.30000</td>\n      <td>5.30000</td>\n      <td>1.00000</td>\n      <td>18.60000</td>\n      <td>0.00000</td>\n      <td>0.50000</td>\n      <td>0.00000</td>\n      <td>0.40000</td>\n      <td>300.00000</td>\n      <td>0.43000</td>\n      <td>30.00000</td>\n    </tr>\n  </tbody>\n</table>\n</div>",
      "text/plain": "name    Calcium  Calories  Calories from Fat  Carbohydrates  Cholesterol  \\\nindex 333.30000 800.00000            0.00000       43.30000      0.00000   \n\nname   Dietary Fiber      Fat    Folate    Iron  Magnesium  \\\nindex        8.30000 30.00000 133.30000 2.60000  133.30000   \n\nname   Niacin Equivalents  Potassium  Protein  Saturated Fat  Sodium  Sugars  \\\nindex             5.30000    1.00000 18.60000        0.00000 0.50000 0.00000   \n\nname   Thiamin  Vitamin A - IU  Vitamin B6  Vitamin C  \nindex  0.40000       300.00000     0.43000   30.00000  "
     },
     "execution_count": 450,
     "metadata": {},
     "output_type": "execute_result"
    }
   ],
   "source": [
    "# 19–30 empfohlene nährwerte pro tag #https://www.ncbi.nlm.nih.gov/books/NBK56068/table/summarytables.t4/?report=objectonly\n",
    "recommenden_nut = pd.DataFrame(data=None, columns=nutrition_db2.columns, index=None)\n",
    "recommenden_nut.loc['index'] = [\n",
    "    # \"Calcium\":[1],\n",
    "    333.3,\n",
    "    # \"Calories\":[1],\n",
    "    800,\n",
    "    # \"Calories from Fat\":[1],\n",
    "    0,\n",
    "    # \"Carbohydrates\":[1],\n",
    "    43.3,\n",
    "    # \"Cholesterol\":[1],\n",
    "    0,\n",
    "    # \"Dietary Fiber\t\":[1],\n",
    "    8.3,\n",
    "    # \"Fat\":[1],\n",
    "    30,\n",
    "    # \"Folate\":[1],\n",
    "    133.3,\n",
    "    # \"Iron\":[1],\n",
    "    2.6,\n",
    "    # \"Magnesium\":[1],\n",
    "    133.3,\n",
    "    # \"Niacin Equivalents\":[1],\n",
    "    5.3,\n",
    "    # \"Potassium\":[1],\n",
    "    1,\n",
    "    # \"Protein\":[1],\n",
    "    18.6,\n",
    "    # \"Saturated Fat\":[1],\n",
    "    0,\n",
    "    # \"Sodium\":[1],\n",
    "    0.5,\n",
    "    # \"Sugars\":[1],\n",
    "    0,\n",
    "    # \"Thiamin\":[1],\n",
    "    0.4,\n",
    "    # \"Vitamin A - IU\":[1],\n",
    "    300,\n",
    "    # \"Vitamin B6\":[1],\n",
    "    0.43,\n",
    "    # \"Vitamin C\":[1]}\n",
    "    30]\n",
    "recommenden_nut"
   ]
  },
  {
   "cell_type": "code",
   "execution_count": 451,
   "metadata": {},
   "outputs": [
    {
     "data": {
      "text/plain": "array([230283, 161869, 218344,  19422,  18349,  83302,  20100,  11937,\n        46813,  16998])"
     },
     "execution_count": 451,
     "metadata": {},
     "output_type": "execute_result"
    }
   ],
   "source": [
    "result_w_filter_10[0:10].index.to_numpy()"
   ]
  },
  {
   "cell_type": "code",
   "execution_count": 485,
   "metadata": {},
   "outputs": [
    {
     "data": {
      "text/plain": "array([  8630,  62706, 229885, 228431,   8639,  42247, 233661, 158587,\n        22286, 231233,  76763, 236103,  51653,   8549,  69538,  23157,\n        11892, 180150, 235171,  15127])"
     },
     "execution_count": 485,
     "metadata": {},
     "output_type": "execute_result"
    }
   ],
   "source": [
    "subset_fat_id"
   ]
  },
  {
   "cell_type": "code",
   "execution_count": 486,
   "metadata": {},
   "outputs": [
    {
     "data": {
      "text/html": "<div>\n<style scoped>\n    .dataframe tbody tr th:only-of-type {\n        vertical-align: middle;\n    }\n\n    .dataframe tbody tr th {\n        vertical-align: top;\n    }\n\n    .dataframe thead th {\n        text-align: right;\n    }\n</style>\n<table border=\"1\" class=\"dataframe\">\n  <thead>\n    <tr style=\"text-align: right;\">\n      <th></th>\n      <th>id</th>\n      <th>ingredients_id</th>\n      <th>ingredients_name</th>\n      <th>ingredients_grams</th>\n      <th>ingredients_type</th>\n    </tr>\n  </thead>\n  <tbody>\n    <tr>\n      <td>0</td>\n      <td>59661</td>\n      <td>16157</td>\n      <td>10 g butter</td>\n      <td>11.36000</td>\n      <td>Normal</td>\n    </tr>\n    <tr>\n      <td>1</td>\n      <td>59661</td>\n      <td>4405</td>\n      <td>40 g sliced green onions</td>\n      <td>41.80000</td>\n      <td>Normal</td>\n    </tr>\n    <tr>\n      <td>2</td>\n      <td>59661</td>\n      <td>4342</td>\n      <td>1-1/2 cloves garlic, minced</td>\n      <td>4.80000</td>\n      <td>Normal</td>\n    </tr>\n    <tr>\n      <td>3</td>\n      <td>59661</td>\n      <td>4520</td>\n      <td>3/4 (10 ounce) package frozen chopped spinach ...</td>\n      <td>227.20000</td>\n      <td>Normal</td>\n    </tr>\n    <tr>\n      <td>4</td>\n      <td>59661</td>\n      <td>16243</td>\n      <td>180 g ricotta cheese</td>\n      <td>182.40001</td>\n      <td>Normal</td>\n    </tr>\n    <tr>\n      <td>...</td>\n      <td>...</td>\n      <td>...</td>\n      <td>...</td>\n      <td>...</td>\n      <td>...</td>\n    </tr>\n    <tr>\n      <td>36691</td>\n      <td>229659</td>\n      <td>16423</td>\n      <td>1-3/4 sprigs fresh thyme, divided</td>\n      <td>0.66667</td>\n      <td>Normal</td>\n    </tr>\n    <tr>\n      <td>36692</td>\n      <td>229659</td>\n      <td>20270</td>\n      <td>3/8 white onion, chopped - divided</td>\n      <td>36.66667</td>\n      <td>Normal</td>\n    </tr>\n    <tr>\n      <td>36693</td>\n      <td>229659</td>\n      <td>16157</td>\n      <td>40 g butter, sliced into pats</td>\n      <td>37.83334</td>\n      <td>Normal</td>\n    </tr>\n    <tr>\n      <td>36694</td>\n      <td>229659</td>\n      <td>4292</td>\n      <td>80 g chopped fresh celery leaves</td>\n      <td>80.00000</td>\n      <td>Normal</td>\n    </tr>\n    <tr>\n      <td>36695</td>\n      <td>229659</td>\n      <td>3474</td>\n      <td>1/8 (750 milliliter) bottle white wine, or mor...</td>\n      <td>124.69144</td>\n      <td>Normal</td>\n    </tr>\n  </tbody>\n</table>\n<p>36696 rows × 5 columns</p>\n</div>",
      "text/plain": "           id  ingredients_id  \\\n0       59661           16157   \n1       59661            4405   \n2       59661            4342   \n3       59661            4520   \n4       59661           16243   \n...       ...             ...   \n36691  229659           16423   \n36692  229659           20270   \n36693  229659           16157   \n36694  229659            4292   \n36695  229659            3474   \n\n                                        ingredients_name  ingredients_grams  \\\n0                                            10 g butter           11.36000   \n1                               40 g sliced green onions           41.80000   \n2                            1-1/2 cloves garlic, minced            4.80000   \n3      3/4 (10 ounce) package frozen chopped spinach ...          227.20000   \n4                                   180 g ricotta cheese          182.40001   \n...                                                  ...                ...   \n36691                  1-3/4 sprigs fresh thyme, divided            0.66667   \n36692                 3/8 white onion, chopped - divided           36.66667   \n36693                      40 g butter, sliced into pats           37.83334   \n36694                   80 g chopped fresh celery leaves           80.00000   \n36695  1/8 (750 milliliter) bottle white wine, or mor...          124.69144   \n\n      ingredients_type  \n0               Normal  \n1               Normal  \n2               Normal  \n3               Normal  \n4               Normal  \n...                ...  \n36691           Normal  \n36692           Normal  \n36693           Normal  \n36694           Normal  \n36695           Normal  \n\n[36696 rows x 5 columns]"
     },
     "execution_count": 486,
     "metadata": {},
     "output_type": "execute_result"
    }
   ],
   "source": [
    "new_ingredients"
   ]
  },
  {
   "cell_type": "code",
   "execution_count": 518,
   "metadata": {},
   "outputs": [
    {
     "data": {
      "text/plain": "array([[<matplotlib.axes._subplots.AxesSubplot object at 0x7f9f0f1f7a50>]],\n      dtype=object)"
     },
     "execution_count": 518,
     "metadata": {},
     "output_type": "execute_result"
    }
   ],
   "source": [
    "new_ingredients.hist(column='ingredients_id', bins=700)"
   ]
  },
  {
   "cell_type": "code",
   "execution_count": 519,
   "metadata": {},
   "outputs": [],
   "source": [
    "asd = new_ingredients['ingredients_id'].value_counts()"
   ]
  },
  {
   "cell_type": "code",
   "execution_count": 520,
   "metadata": {},
   "outputs": [
    {
     "data": {
      "text/plain": "16421    2126\n4342     1506\n4397     1412\n16406    1185\n16157    1016\n         ... \n23047       1\n20486       1\n18921       1\n21368       1\n20792       1\nName: ingredients_id, Length: 730, dtype: int64"
     },
     "execution_count": 520,
     "metadata": {},
     "output_type": "execute_result"
    }
   ],
   "source": [
    "asd"
   ]
  },
  {
   "cell_type": "code",
   "execution_count": 521,
   "metadata": {},
   "outputs": [],
   "source": [
    "result_w_filter_100 = result_w_filter_10[0:100].copy()"
   ]
  },
  {
   "cell_type": "code",
   "execution_count": 522,
   "metadata": {},
   "outputs": [],
   "source": [
    "result_w_filter_100['pos'] = np.arange(len(result_w_filter_100))"
   ]
  },
  {
   "cell_type": "code",
   "execution_count": 523,
   "metadata": {},
   "outputs": [],
   "source": [
    "result_w_filter_100 = result_w_filter_100.reset_index()"
   ]
  },
  {
   "cell_type": "code",
   "execution_count": 524,
   "metadata": {},
   "outputs": [],
   "source": [
    "result_w_filter_100 = result_w_filter_100.set_index('index')"
   ]
  },
  {
   "cell_type": "code",
   "execution_count": 525,
   "metadata": {},
   "outputs": [
    {
     "data": {
      "text/html": "<div>\n<style scoped>\n    .dataframe tbody tr th:only-of-type {\n        vertical-align: middle;\n    }\n\n    .dataframe tbody tr th {\n        vertical-align: top;\n    }\n\n    .dataframe thead th {\n        text-align: right;\n    }\n</style>\n<table border=\"1\" class=\"dataframe\">\n  <thead>\n    <tr style=\"text-align: right;\">\n      <th></th>\n      <th>jaccard_distance_sum</th>\n      <th>pos</th>\n    </tr>\n    <tr>\n      <th>index</th>\n      <th></th>\n      <th></th>\n    </tr>\n  </thead>\n  <tbody>\n    <tr>\n      <td>230283</td>\n      <td>0.92733</td>\n      <td>0</td>\n    </tr>\n    <tr>\n      <td>161869</td>\n      <td>0.92779</td>\n      <td>1</td>\n    </tr>\n    <tr>\n      <td>218344</td>\n      <td>0.92846</td>\n      <td>2</td>\n    </tr>\n    <tr>\n      <td>19422</td>\n      <td>0.93188</td>\n      <td>3</td>\n    </tr>\n    <tr>\n      <td>18349</td>\n      <td>0.93435</td>\n      <td>4</td>\n    </tr>\n    <tr>\n      <td>...</td>\n      <td>...</td>\n      <td>...</td>\n    </tr>\n    <tr>\n      <td>15509</td>\n      <td>0.95621</td>\n      <td>95</td>\n    </tr>\n    <tr>\n      <td>86047</td>\n      <td>0.95668</td>\n      <td>96</td>\n    </tr>\n    <tr>\n      <td>16563</td>\n      <td>0.95673</td>\n      <td>97</td>\n    </tr>\n    <tr>\n      <td>151153</td>\n      <td>0.95674</td>\n      <td>98</td>\n    </tr>\n    <tr>\n      <td>18481</td>\n      <td>0.95678</td>\n      <td>99</td>\n    </tr>\n  </tbody>\n</table>\n<p>100 rows × 2 columns</p>\n</div>",
      "text/plain": "        jaccard_distance_sum  pos\nindex                            \n230283               0.92733    0\n161869               0.92779    1\n218344               0.92846    2\n19422                0.93188    3\n18349                0.93435    4\n...                      ...  ...\n15509                0.95621   95\n86047                0.95668   96\n16563                0.95673   97\n151153               0.95674   98\n18481                0.95678   99\n\n[100 rows x 2 columns]"
     },
     "execution_count": 525,
     "metadata": {},
     "output_type": "execute_result"
    }
   ],
   "source": [
    "result_w_filter_100"
   ]
  },
  {
   "cell_type": "code",
   "execution_count": 526,
   "metadata": {},
   "outputs": [],
   "source": [
    "#  ------ Erstellung und cleansing des Nutrition Dataframes\n",
    "\n",
    "# erstelle neue liste auf basis der bereits gefilterten rezepte aus ingredients_filt\n",
    "id_overlap_mask = nutritions['id'].isin(result_w_filter_100.index.get_level_values('index').values)\n",
    "\n",
    "# erstelle datenframe auf basis der overlapliste\n",
    "nutritions_filt = nutritions.loc[id_overlap_mask]\n",
    "\n",
    "nutrition_db3 = nutritions_filt.pivot_table(\n",
    "    index=['id'],\n",
    "    columns=['name'],\n",
    "    values=['amount'],\n",
    ").reset_index()\n",
    "\n",
    "nutrition_db3.set_index('id', inplace=True)\n",
    "\n",
    "# remove multiindex 'amount'\n",
    "nutrition_db3.columns = nutrition_db3.columns.droplevel(0)\n",
    "\n",
    "# entferne alle NA\n",
    "nutrition_db3 = nutrition_db3.dropna()"
   ]
  },
  {
   "cell_type": "code",
   "execution_count": 527,
   "metadata": {},
   "outputs": [
    {
     "data": {
      "text/html": "<div>\n<style scoped>\n    .dataframe tbody tr th:only-of-type {\n        vertical-align: middle;\n    }\n\n    .dataframe tbody tr th {\n        vertical-align: top;\n    }\n\n    .dataframe thead th {\n        text-align: right;\n    }\n</style>\n<table border=\"1\" class=\"dataframe\">\n  <thead>\n    <tr style=\"text-align: right;\">\n      <th>name</th>\n      <th>Calcium</th>\n      <th>Calories</th>\n      <th>Calories from Fat</th>\n      <th>Carbohydrates</th>\n      <th>Cholesterol</th>\n      <th>Dietary Fiber</th>\n      <th>Fat</th>\n      <th>Folate</th>\n      <th>Iron</th>\n      <th>Magnesium</th>\n      <th>Niacin Equivalents</th>\n      <th>Potassium</th>\n      <th>Protein</th>\n      <th>Saturated Fat</th>\n      <th>Sodium</th>\n      <th>Sugars</th>\n      <th>Thiamin</th>\n      <th>Vitamin A - IU</th>\n      <th>Vitamin B6</th>\n      <th>Vitamin C</th>\n    </tr>\n  </thead>\n  <tbody>\n    <tr>\n      <td>index</td>\n      <td>333.30000</td>\n      <td>800.00000</td>\n      <td>0.00000</td>\n      <td>43.30000</td>\n      <td>0.00000</td>\n      <td>8.30000</td>\n      <td>30.00000</td>\n      <td>133.30000</td>\n      <td>2.60000</td>\n      <td>133.30000</td>\n      <td>5.30000</td>\n      <td>1.00000</td>\n      <td>18.60000</td>\n      <td>0.00000</td>\n      <td>0.50000</td>\n      <td>0.00000</td>\n      <td>0.40000</td>\n      <td>300.00000</td>\n      <td>0.43000</td>\n      <td>30.00000</td>\n    </tr>\n  </tbody>\n</table>\n</div>",
      "text/plain": "name    Calcium  Calories  Calories from Fat  Carbohydrates  Cholesterol  \\\nindex 333.30000 800.00000            0.00000       43.30000      0.00000   \n\nname   Dietary Fiber      Fat    Folate    Iron  Magnesium  \\\nindex        8.30000 30.00000 133.30000 2.60000  133.30000   \n\nname   Niacin Equivalents  Potassium  Protein  Saturated Fat  Sodium  Sugars  \\\nindex             5.30000    1.00000 18.60000        0.00000 0.50000 0.00000   \n\nname   Thiamin  Vitamin A - IU  Vitamin B6  Vitamin C  \nindex  0.40000       300.00000     0.43000   30.00000  "
     },
     "execution_count": 527,
     "metadata": {},
     "output_type": "execute_result"
    }
   ],
   "source": [
    "# 19–30 empfohlene nährwerte pro tag #https://www.ncbi.nlm.nih.gov/books/NBK56068/table/summarytables.t4/?report=objectonly\n",
    "recommenden_nut_low_fat = pd.DataFrame(data=None, columns=nutrition_db2.columns, index=None)\n",
    "recommenden_nut_low_fat.loc['index'] = [\n",
    "    # \"Calcium\":[1],\n",
    "    333.3,\n",
    "    # \"Calories\":[1],\n",
    "    800,\n",
    "    # \"Calories from Fat\":[1],\n",
    "    0,\n",
    "    # \"Carbohydrates\":[1],\n",
    "    43.3,\n",
    "    # \"Cholesterol\":[1],\n",
    "    0,\n",
    "    # \"Dietary Fiber\t\":[1],\n",
    "    8.3,\n",
    "    # \"Fat\":[1],\n",
    "    1,\n",
    "    # \"Folate\":[1],\n",
    "    133.3,\n",
    "    # \"Iron\":[1],\n",
    "    2.6,\n",
    "    # \"Magnesium\":[1],\n",
    "    133.3,\n",
    "    # \"Niacin Equivalents\":[1],\n",
    "    5.3,\n",
    "    # \"Potassium\":[1],\n",
    "    1,\n",
    "    # \"Protein\":[1],\n",
    "    18.6,\n",
    "    # \"Saturated Fat\":[1],\n",
    "    0,\n",
    "    # \"Sodium\":[1],\n",
    "    0.5,\n",
    "    # \"Sugars\":[1],\n",
    "    0,\n",
    "    # \"Thiamin\":[1],\n",
    "    0.4,\n",
    "    # \"Vitamin A - IU\":[1],\n",
    "    300,\n",
    "    # \"Vitamin B6\":[1],\n",
    "    0.43,\n",
    "    # \"Vitamin C\":[1]}\n",
    "    30]\n",
    "recommenden_nut"
   ]
  },
  {
   "cell_type": "code",
   "execution_count": 528,
   "metadata": {},
   "outputs": [
    {
     "data": {
      "text/html": "<div>\n<style scoped>\n    .dataframe tbody tr th:only-of-type {\n        vertical-align: middle;\n    }\n\n    .dataframe tbody tr th {\n        vertical-align: top;\n    }\n\n    .dataframe thead th {\n        text-align: right;\n    }\n</style>\n<table border=\"1\" class=\"dataframe\">\n  <thead>\n    <tr style=\"text-align: right;\">\n      <th>name</th>\n      <th>Calcium</th>\n      <th>Calories</th>\n      <th>Calories from Fat</th>\n      <th>Carbohydrates</th>\n      <th>Cholesterol</th>\n      <th>Dietary Fiber</th>\n      <th>Fat</th>\n      <th>Folate</th>\n      <th>Iron</th>\n      <th>Magnesium</th>\n      <th>Niacin Equivalents</th>\n      <th>Potassium</th>\n      <th>Protein</th>\n      <th>Saturated Fat</th>\n      <th>Sodium</th>\n      <th>Sugars</th>\n      <th>Thiamin</th>\n      <th>Vitamin A - IU</th>\n      <th>Vitamin B6</th>\n      <th>Vitamin C</th>\n    </tr>\n  </thead>\n  <tbody>\n    <tr>\n      <td>index</td>\n      <td>333.30000</td>\n      <td>800.00000</td>\n      <td>0.00000</td>\n      <td>43.30000</td>\n      <td>0.00000</td>\n      <td>8.30000</td>\n      <td>30.00000</td>\n      <td>133.30000</td>\n      <td>2.60000</td>\n      <td>133.30000</td>\n      <td>5.30000</td>\n      <td>1.00000</td>\n      <td>18.60000</td>\n      <td>0.00000</td>\n      <td>0.50000</td>\n      <td>0.00000</td>\n      <td>0.40000</td>\n      <td>300.00000</td>\n      <td>0.43000</td>\n      <td>30.00000</td>\n    </tr>\n  </tbody>\n</table>\n</div>",
      "text/plain": "name    Calcium  Calories  Calories from Fat  Carbohydrates  Cholesterol  \\\nindex 333.30000 800.00000            0.00000       43.30000      0.00000   \n\nname   Dietary Fiber      Fat    Folate    Iron  Magnesium  \\\nindex        8.30000 30.00000 133.30000 2.60000  133.30000   \n\nname   Niacin Equivalents  Potassium  Protein  Saturated Fat  Sodium  Sugars  \\\nindex             5.30000    1.00000 18.60000        0.00000 0.50000 0.00000   \n\nname   Thiamin  Vitamin A - IU  Vitamin B6  Vitamin C  \nindex  0.40000       300.00000     0.43000   30.00000  "
     },
     "execution_count": 528,
     "metadata": {},
     "output_type": "execute_result"
    }
   ],
   "source": [
    "# 19–30 empfohlene nährwerte pro tag #https://www.ncbi.nlm.nih.gov/books/NBK56068/table/summarytables.t4/?report=objectonly\n",
    "recommenden_nut_low_carbs = pd.DataFrame(data=None, columns=nutrition_db2.columns, index=None)\n",
    "recommenden_nut_low_carbs.loc['index'] = [\n",
    "    # \"Calcium\":[1],\n",
    "    333.3,\n",
    "    # \"Calories\":[1],\n",
    "    800,\n",
    "    # \"Calories from Fat\":[1],\n",
    "    0,\n",
    "    # \"Carbohydrates\":[1],\n",
    "    1,\n",
    "    # \"Cholesterol\":[1],\n",
    "    0,\n",
    "    # \"Dietary Fiber\t\":[1],\n",
    "    8.3,\n",
    "    # \"Fat\":[1],\n",
    "    20,\n",
    "    # \"Folate\":[1],\n",
    "    133.3,\n",
    "    # \"Iron\":[1],\n",
    "    2.6,\n",
    "    # \"Magnesium\":[1],\n",
    "    133.3,\n",
    "    # \"Niacin Equivalents\":[1],\n",
    "    5.3,\n",
    "    # \"Potassium\":[1],\n",
    "    1,\n",
    "    # \"Protein\":[1],\n",
    "    18.6,\n",
    "    # \"Saturated Fat\":[1],\n",
    "    0,\n",
    "    # \"Sodium\":[1],\n",
    "    0.5,\n",
    "    # \"Sugars\":[1],\n",
    "    0,\n",
    "    # \"Thiamin\":[1],\n",
    "    0.4,\n",
    "    # \"Vitamin A - IU\":[1],\n",
    "    300,\n",
    "    # \"Vitamin B6\":[1],\n",
    "    0.43,\n",
    "    # \"Vitamin C\":[1]}\n",
    "    30]\n",
    "recommenden_nut"
   ]
  },
  {
   "cell_type": "code",
   "execution_count": 529,
   "metadata": {},
   "outputs": [
    {
     "data": {
      "text/html": "<div>\n<style scoped>\n    .dataframe tbody tr th:only-of-type {\n        vertical-align: middle;\n    }\n\n    .dataframe tbody tr th {\n        vertical-align: top;\n    }\n\n    .dataframe thead th {\n        text-align: right;\n    }\n</style>\n<table border=\"1\" class=\"dataframe\">\n  <thead>\n    <tr style=\"text-align: right;\">\n      <th></th>\n      <th>euclid_distance_sum</th>\n    </tr>\n  </thead>\n  <tbody>\n    <tr>\n      <td>219911</td>\n      <td>1864.80522</td>\n    </tr>\n    <tr>\n      <td>20100</td>\n      <td>3593.08980</td>\n    </tr>\n    <tr>\n      <td>229277</td>\n      <td>4526.79447</td>\n    </tr>\n    <tr>\n      <td>166992</td>\n      <td>5692.98398</td>\n    </tr>\n    <tr>\n      <td>239230</td>\n      <td>6924.10905</td>\n    </tr>\n    <tr>\n      <td>173906</td>\n      <td>7316.65939</td>\n    </tr>\n    <tr>\n      <td>228367</td>\n      <td>7980.20119</td>\n    </tr>\n    <tr>\n      <td>15196</td>\n      <td>8996.04468</td>\n    </tr>\n    <tr>\n      <td>38276</td>\n      <td>9336.40822</td>\n    </tr>\n    <tr>\n      <td>15530</td>\n      <td>9848.96357</td>\n    </tr>\n  </tbody>\n</table>\n</div>",
      "text/plain": "        euclid_distance_sum\n219911           1864.80522\n20100            3593.08980\n229277           4526.79447\n166992           5692.98398\n239230           6924.10905\n173906           7316.65939\n228367           7980.20119\n15196            8996.04468\n38276            9336.40822\n15530            9848.96357"
     },
     "execution_count": 529,
     "metadata": {},
     "output_type": "execute_result"
    }
   ],
   "source": [
    "# euklidische distanz für nährwerte\n",
    "no_weight = [\n",
    "    # \"Calcium\":[1],\n",
    "    1,\n",
    "    # \"Calories\":[1],\n",
    "    1,\n",
    "    # \"Calories from Fat\":[1],\n",
    "    1,\n",
    "    # \"Carbohydrates\":[1],\n",
    "    1,\n",
    "    # \"Cholesterol\":[1],\n",
    "    1,\n",
    "    # \"Dietary Fiber\t\":[1],\n",
    "    1,\n",
    "    # \"Fat\":[1],\n",
    "    1,\n",
    "    # \"Folate\":[1],\n",
    "    1,\n",
    "    # \"Iron\":[1],\n",
    "    1,\n",
    "    # \"Magnesium\":[1],\n",
    "    1,\n",
    "    # \"Niacin Equivalents\":[1],\n",
    "    1,\n",
    "    # \"Potassium\":[1],\n",
    "    1,\n",
    "    # \"Protein\":[1],\n",
    "    1,\n",
    "    # \"Saturated Fat\":[1],\n",
    "    1,\n",
    "    # \"Sodium\":[1],\n",
    "    1,\n",
    "    # \"Sugars\":[1],\n",
    "    1,\n",
    "    # \"Thiamin\":[1],\n",
    "    1,\n",
    "    # \"Vitamin A - IU\":[1],\n",
    "    1,\n",
    "    # \"Vitamin B6\":[1],\n",
    "    1,\n",
    "    # \"Vitamin C\":[1]}\n",
    "    1]\n",
    "\n",
    "weighted_fat = [\n",
    "    # \"Calcium\":[1],\n",
    "    1,\n",
    "    # \"Calories\":[1],\n",
    "    1,\n",
    "    # \"Calories from Fat\":[1],\n",
    "    1,\n",
    "    # \"Carbohydrates\":[1],\n",
    "    1,\n",
    "    # \"Cholesterol\":[1],\n",
    "    1,\n",
    "    # \"Dietary Fiber\t\":[1],\n",
    "    1,\n",
    "    # \"Fat\":[1],\n",
    "    10000000,\n",
    "    # \"Folate\":[1],\n",
    "    1,\n",
    "    # \"Iron\":[1],\n",
    "    1,\n",
    "    # \"Magnesium\":[1],\n",
    "    1,\n",
    "    # \"Niacin Equivalents\":[1],\n",
    "    1,\n",
    "    # \"Potassium\":[1],\n",
    "    1,\n",
    "    # \"Protein\":[1],\n",
    "    1,\n",
    "    # \"Saturated Fat\":[1],\n",
    "    1,\n",
    "    # \"Sodium\":[1],\n",
    "    1,\n",
    "    # \"Sugars\":[1],\n",
    "    1,\n",
    "    # \"Thiamin\":[1],\n",
    "    1,\n",
    "    # \"Vitamin A - IU\":[1],\n",
    "    1,\n",
    "    # \"Vitamin B6\":[1],\n",
    "    1,\n",
    "    # \"Vitamin C\":[1]}\n",
    "    1]\n",
    "\n",
    "weighted_carbs = [\n",
    "    # \"Calcium\":[1],\n",
    "    1,\n",
    "    # \"Calories\":[1],\n",
    "    1,\n",
    "    # \"Calories from Fat\":[1],\n",
    "    1,\n",
    "    # \"Carbohydrates\":[1],\n",
    "    1000000,\n",
    "    # \"Cholesterol\":[1],\n",
    "    1,\n",
    "    # \"Dietary Fiber\t\":[1],\n",
    "    1,\n",
    "    # \"Fat\":[1],\n",
    "    1,\n",
    "    # \"Folate\":[1],\n",
    "    1,\n",
    "    # \"Iron\":[1],\n",
    "    1,\n",
    "    # \"Magnesium\":[1],\n",
    "    1,\n",
    "    # \"Niacin Equivalents\":[1],\n",
    "    1,\n",
    "    # \"Potassium\":[1],\n",
    "    1,\n",
    "    # \"Protein\":[1],\n",
    "    1,\n",
    "    # \"Saturated Fat\":[1],\n",
    "    1,\n",
    "    # \"Sodium\":[1],\n",
    "    1,\n",
    "    # \"Sugars\":[1],\n",
    "    1,\n",
    "    # \"Thiamin\":[1],\n",
    "    1,\n",
    "    # \"Vitamin A - IU\":[1],\n",
    "    1,\n",
    "    # \"Vitamin B6\":[1],\n",
    "    1,\n",
    "    # \"Vitamin C\":[1]}\n",
    "    1]\n",
    "\n",
    "\n",
    "result_array = cdist(recommenden_nut_low_carbs, nutrition_db3, 'minkowski', p=2, w=weighted_carbs)\n",
    "euclid_distance = pd.DataFrame(\n",
    "    result_array, columns=nutrition_db3.index.values, index=recommenden_nut.index.values)\n",
    "\n",
    "euclid_distance_sum_carbs = pd.DataFrame(\n",
    "    euclid_distance.sum(), columns=['euclid_distance_sum'])\n",
    "euclid_distance_sum_carbs = euclid_distance_sum_carbs.sort_values(by='euclid_distance_sum')\n",
    "euclid_distance_sum_carbs[0:10]"
   ]
  },
  {
   "cell_type": "code",
   "execution_count": 530,
   "metadata": {},
   "outputs": [],
   "source": [
    "jaccard_euclid_joined_carbs = pd.merge(euclid_distance_sum_carbs, result_w_filter_100, left_index=True, right_index=True)"
   ]
  },
  {
   "cell_type": "code",
   "execution_count": 531,
   "metadata": {},
   "outputs": [
    {
     "data": {
      "text/html": "<div>\n<style scoped>\n    .dataframe tbody tr th:only-of-type {\n        vertical-align: middle;\n    }\n\n    .dataframe tbody tr th {\n        vertical-align: top;\n    }\n\n    .dataframe thead th {\n        text-align: right;\n    }\n</style>\n<table border=\"1\" class=\"dataframe\">\n  <thead>\n    <tr style=\"text-align: right;\">\n      <th></th>\n      <th>euclid_distance_sum</th>\n      <th>jaccard_distance_sum</th>\n      <th>pos</th>\n    </tr>\n  </thead>\n  <tbody>\n    <tr>\n      <td>219911</td>\n      <td>1864.80522</td>\n      <td>0.95598</td>\n      <td>90</td>\n    </tr>\n    <tr>\n      <td>20100</td>\n      <td>3593.08980</td>\n      <td>0.93694</td>\n      <td>6</td>\n    </tr>\n    <tr>\n      <td>229277</td>\n      <td>4526.79447</td>\n      <td>0.95550</td>\n      <td>79</td>\n    </tr>\n    <tr>\n      <td>166992</td>\n      <td>5692.98398</td>\n      <td>0.95344</td>\n      <td>63</td>\n    </tr>\n    <tr>\n      <td>239230</td>\n      <td>6924.10905</td>\n      <td>0.95219</td>\n      <td>56</td>\n    </tr>\n    <tr>\n      <td>173906</td>\n      <td>7316.65939</td>\n      <td>0.95612</td>\n      <td>93</td>\n    </tr>\n    <tr>\n      <td>228367</td>\n      <td>7980.20119</td>\n      <td>0.94768</td>\n      <td>34</td>\n    </tr>\n    <tr>\n      <td>15196</td>\n      <td>8996.04468</td>\n      <td>0.94512</td>\n      <td>25</td>\n    </tr>\n    <tr>\n      <td>38276</td>\n      <td>9336.40822</td>\n      <td>0.95331</td>\n      <td>62</td>\n    </tr>\n    <tr>\n      <td>15530</td>\n      <td>9848.96357</td>\n      <td>0.94587</td>\n      <td>26</td>\n    </tr>\n    <tr>\n      <td>52310</td>\n      <td>10456.62543</td>\n      <td>0.95231</td>\n      <td>58</td>\n    </tr>\n    <tr>\n      <td>228134</td>\n      <td>11321.38527</td>\n      <td>0.95005</td>\n      <td>48</td>\n    </tr>\n    <tr>\n      <td>18795</td>\n      <td>12351.55019</td>\n      <td>0.94637</td>\n      <td>28</td>\n    </tr>\n    <tr>\n      <td>146125</td>\n      <td>13759.34193</td>\n      <td>0.95093</td>\n      <td>50</td>\n    </tr>\n    <tr>\n      <td>42919</td>\n      <td>14210.46601</td>\n      <td>0.94467</td>\n      <td>24</td>\n    </tr>\n    <tr>\n      <td>19496</td>\n      <td>14783.39945</td>\n      <td>0.95376</td>\n      <td>64</td>\n    </tr>\n    <tr>\n      <td>86168</td>\n      <td>14846.17304</td>\n      <td>0.94876</td>\n      <td>40</td>\n    </tr>\n    <tr>\n      <td>8635</td>\n      <td>15123.19326</td>\n      <td>0.94891</td>\n      <td>41</td>\n    </tr>\n    <tr>\n      <td>20747</td>\n      <td>15183.83157</td>\n      <td>0.95578</td>\n      <td>85</td>\n    </tr>\n    <tr>\n      <td>83083</td>\n      <td>15431.18743</td>\n      <td>0.95531</td>\n      <td>76</td>\n    </tr>\n  </tbody>\n</table>\n</div>",
      "text/plain": "        euclid_distance_sum  jaccard_distance_sum  pos\n219911           1864.80522               0.95598   90\n20100            3593.08980               0.93694    6\n229277           4526.79447               0.95550   79\n166992           5692.98398               0.95344   63\n239230           6924.10905               0.95219   56\n173906           7316.65939               0.95612   93\n228367           7980.20119               0.94768   34\n15196            8996.04468               0.94512   25\n38276            9336.40822               0.95331   62\n15530            9848.96357               0.94587   26\n52310           10456.62543               0.95231   58\n228134          11321.38527               0.95005   48\n18795           12351.55019               0.94637   28\n146125          13759.34193               0.95093   50\n42919           14210.46601               0.94467   24\n19496           14783.39945               0.95376   64\n86168           14846.17304               0.94876   40\n8635            15123.19326               0.94891   41\n20747           15183.83157               0.95578   85\n83083           15431.18743               0.95531   76"
     },
     "execution_count": 531,
     "metadata": {},
     "output_type": "execute_result"
    }
   ],
   "source": [
    "jaccard_euclid_joined_carbs[0:20]"
   ]
  },
  {
   "cell_type": "code",
   "execution_count": 532,
   "metadata": {},
   "outputs": [
    {
     "data": {
      "text/plain": "array([219911,  20100, 229277, 166992, 239230, 173906, 228367,  15196,\n        38276,  15530,  52310, 228134,  18795, 146125,  42919,  19496,\n        86168,   8635,  20747,  83083])"
     },
     "execution_count": 532,
     "metadata": {},
     "output_type": "execute_result"
    }
   ],
   "source": [
    "jaccard_euclid_joined_carbs[0:20].index.to_numpy()"
   ]
  },
  {
   "cell_type": "code",
   "execution_count": 549,
   "metadata": {},
   "outputs": [
    {
     "data": {
      "text/plain": "array([  8630,  62706, 229885, 228431,   8639,  42247, 233661, 158587,\n        22286, 231233,  76763, 236103,  51653,   8549,  69538,  23157,\n        11892, 180150, 235171,  15127])"
     },
     "execution_count": 549,
     "metadata": {},
     "output_type": "execute_result"
    }
   ],
   "source": [
    "subset_fat_id"
   ]
  },
  {
   "cell_type": "code",
   "execution_count": 550,
   "metadata": {},
   "outputs": [],
   "source": [
    "#  ------ Erstellung und cleansing des Nutrition Dataframes\n",
    "\n",
    "# erstelle neue liste auf basis der bereits gefilterten rezepte aus ingredients_filt\n",
    "id_overlap_mask = nutritions['id'].isin(jaccard_euclid_joined_carbs[0:20].index.to_numpy())\n",
    "\n",
    "# erstelle datenframe auf basis der overlapliste\n",
    "nutritions_filt = nutritions.loc[id_overlap_mask]\n",
    "\n",
    "nutrition_top20_carbs = nutritions_filt.pivot_table(\n",
    "    index=['id'],\n",
    "    columns=['name'],\n",
    "    values=['amount'],\n",
    ").reset_index()\n",
    "\n",
    "nutrition_top20_carbs.set_index('id', inplace=True)\n",
    "\n",
    "# remove multiindex 'amount'\n",
    "nutrition_top20_carbs.columns = nutrition_top20_carbs.columns.droplevel(0)\n",
    "\n",
    "# entferne alle NA\n",
    "nutrition_top20_carbs = nutrition_top20_carbs.dropna()"
   ]
  },
  {
   "cell_type": "code",
   "execution_count": 551,
   "metadata": {},
   "outputs": [
    {
     "data": {
      "text/html": "<div>\n<style scoped>\n    .dataframe tbody tr th:only-of-type {\n        vertical-align: middle;\n    }\n\n    .dataframe tbody tr th {\n        vertical-align: top;\n    }\n\n    .dataframe thead th {\n        text-align: right;\n    }\n</style>\n<table border=\"1\" class=\"dataframe\">\n  <thead>\n    <tr style=\"text-align: right;\">\n      <th>name</th>\n      <th>Calcium</th>\n      <th>Calories</th>\n      <th>Calories from Fat</th>\n      <th>Carbohydrates</th>\n      <th>Cholesterol</th>\n      <th>Dietary Fiber</th>\n      <th>Fat</th>\n      <th>Folate</th>\n      <th>Iron</th>\n      <th>Magnesium</th>\n      <th>Niacin Equivalents</th>\n      <th>Potassium</th>\n      <th>Protein</th>\n      <th>Saturated Fat</th>\n      <th>Sodium</th>\n      <th>Sugars</th>\n      <th>Thiamin</th>\n      <th>Vitamin A - IU</th>\n      <th>Vitamin B6</th>\n      <th>Vitamin C</th>\n    </tr>\n  </thead>\n  <tbody>\n    <tr>\n      <td>count</td>\n      <td>20.00000</td>\n      <td>20.00000</td>\n      <td>20.00000</td>\n      <td>20.00000</td>\n      <td>20.00000</td>\n      <td>20.00000</td>\n      <td>20.00000</td>\n      <td>20.00000</td>\n      <td>20.00000</td>\n      <td>20.00000</td>\n      <td>20.00000</td>\n      <td>20.00000</td>\n      <td>20.00000</td>\n      <td>20.00000</td>\n      <td>20.00000</td>\n      <td>20.00000</td>\n      <td>20.00000</td>\n      <td>20.00000</td>\n      <td>20.00000</td>\n      <td>20.00000</td>\n    </tr>\n    <tr>\n      <td>mean</td>\n      <td>204.86523</td>\n      <td>410.79177</td>\n      <td>253.77652</td>\n      <td>10.97870</td>\n      <td>125.20405</td>\n      <td>1.19942</td>\n      <td>28.19739</td>\n      <td>40.16242</td>\n      <td>2.07384</td>\n      <td>42.24196</td>\n      <td>11.69192</td>\n      <td>451.45138</td>\n      <td>27.51125</td>\n      <td>12.21518</td>\n      <td>613.00164</td>\n      <td>2.38731</td>\n      <td>0.23007</td>\n      <td>1149.25191</td>\n      <td>0.48631</td>\n      <td>12.69634</td>\n    </tr>\n    <tr>\n      <td>std</td>\n      <td>159.99624</td>\n      <td>115.34002</td>\n      <td>98.47066</td>\n      <td>4.43908</td>\n      <td>61.90203</td>\n      <td>0.94328</td>\n      <td>10.94118</td>\n      <td>20.19376</td>\n      <td>0.71051</td>\n      <td>13.88346</td>\n      <td>6.04099</td>\n      <td>230.50891</td>\n      <td>8.90707</td>\n      <td>6.91730</td>\n      <td>272.93169</td>\n      <td>2.26681</td>\n      <td>0.29293</td>\n      <td>934.31671</td>\n      <td>0.37088</td>\n      <td>17.05545</td>\n    </tr>\n    <tr>\n      <td>min</td>\n      <td>19.11785</td>\n      <td>92.88802</td>\n      <td>16.25565</td>\n      <td>2.26866</td>\n      <td>23.40800</td>\n      <td>0.13215</td>\n      <td>1.80618</td>\n      <td>13.06472</td>\n      <td>1.19646</td>\n      <td>17.92577</td>\n      <td>4.13235</td>\n      <td>202.73980</td>\n      <td>10.42320</td>\n      <td>0.40453</td>\n      <td>93.74258</td>\n      <td>0.09556</td>\n      <td>0.04025</td>\n      <td>302.27430</td>\n      <td>0.13703</td>\n      <td>0.27028</td>\n    </tr>\n    <tr>\n      <td>25%</td>\n      <td>38.17979</td>\n      <td>336.89098</td>\n      <td>208.29092</td>\n      <td>7.75123</td>\n      <td>87.67284</td>\n      <td>0.44891</td>\n      <td>23.14344</td>\n      <td>27.90341</td>\n      <td>1.55477</td>\n      <td>32.80139</td>\n      <td>8.03626</td>\n      <td>297.78172</td>\n      <td>18.66935</td>\n      <td>8.65249</td>\n      <td>436.80122</td>\n      <td>0.71165</td>\n      <td>0.08627</td>\n      <td>664.17230</td>\n      <td>0.26458</td>\n      <td>2.56954</td>\n    </tr>\n    <tr>\n      <td>50%</td>\n      <td>184.69855</td>\n      <td>411.35915</td>\n      <td>246.81225</td>\n      <td>11.07889</td>\n      <td>121.18675</td>\n      <td>0.99085</td>\n      <td>27.42358</td>\n      <td>37.40552</td>\n      <td>1.86312</td>\n      <td>41.79050</td>\n      <td>9.93753</td>\n      <td>418.93820</td>\n      <td>28.34315</td>\n      <td>11.97288</td>\n      <td>607.93035</td>\n      <td>1.57520</td>\n      <td>0.17282</td>\n      <td>859.33890</td>\n      <td>0.42397</td>\n      <td>3.86660</td>\n    </tr>\n    <tr>\n      <td>75%</td>\n      <td>329.36895</td>\n      <td>491.87915</td>\n      <td>307.14603</td>\n      <td>15.28558</td>\n      <td>159.73343</td>\n      <td>1.65781</td>\n      <td>34.12734</td>\n      <td>50.25457</td>\n      <td>2.46847</td>\n      <td>49.27809</td>\n      <td>15.28825</td>\n      <td>545.27132</td>\n      <td>32.91793</td>\n      <td>15.29058</td>\n      <td>732.62252</td>\n      <td>2.95702</td>\n      <td>0.20314</td>\n      <td>1273.35450</td>\n      <td>0.49107</td>\n      <td>16.94934</td>\n    </tr>\n    <tr>\n      <td>max</td>\n      <td>569.28590</td>\n      <td>650.68660</td>\n      <td>483.24890</td>\n      <td>16.40021</td>\n      <td>258.35100</td>\n      <td>3.17641</td>\n      <td>53.69432</td>\n      <td>103.16220</td>\n      <td>4.15584</td>\n      <td>68.94528</td>\n      <td>26.14678</td>\n      <td>1140.01100</td>\n      <td>45.10956</td>\n      <td>31.61760</td>\n      <td>1242.20000</td>\n      <td>6.72990</td>\n      <td>1.39136</td>\n      <td>3660.16200</td>\n      <td>1.80021</td>\n      <td>52.78600</td>\n    </tr>\n  </tbody>\n</table>\n</div>",
      "text/plain": "name    Calcium  Calories  Calories from Fat  Carbohydrates  Cholesterol  \\\ncount  20.00000  20.00000           20.00000       20.00000     20.00000   \nmean  204.86523 410.79177          253.77652       10.97870    125.20405   \nstd   159.99624 115.34002           98.47066        4.43908     61.90203   \nmin    19.11785  92.88802           16.25565        2.26866     23.40800   \n25%    38.17979 336.89098          208.29092        7.75123     87.67284   \n50%   184.69855 411.35915          246.81225       11.07889    121.18675   \n75%   329.36895 491.87915          307.14603       15.28558    159.73343   \nmax   569.28590 650.68660          483.24890       16.40021    258.35100   \n\nname   Dietary Fiber      Fat    Folate     Iron  Magnesium  \\\ncount       20.00000 20.00000  20.00000 20.00000   20.00000   \nmean         1.19942 28.19739  40.16242  2.07384   42.24196   \nstd          0.94328 10.94118  20.19376  0.71051   13.88346   \nmin          0.13215  1.80618  13.06472  1.19646   17.92577   \n25%          0.44891 23.14344  27.90341  1.55477   32.80139   \n50%          0.99085 27.42358  37.40552  1.86312   41.79050   \n75%          1.65781 34.12734  50.25457  2.46847   49.27809   \nmax          3.17641 53.69432 103.16220  4.15584   68.94528   \n\nname   Niacin Equivalents  Potassium  Protein  Saturated Fat     Sodium  \\\ncount            20.00000   20.00000 20.00000       20.00000   20.00000   \nmean             11.69192  451.45138 27.51125       12.21518  613.00164   \nstd               6.04099  230.50891  8.90707        6.91730  272.93169   \nmin               4.13235  202.73980 10.42320        0.40453   93.74258   \n25%               8.03626  297.78172 18.66935        8.65249  436.80122   \n50%               9.93753  418.93820 28.34315       11.97288  607.93035   \n75%              15.28825  545.27132 32.91793       15.29058  732.62252   \nmax              26.14678 1140.01100 45.10956       31.61760 1242.20000   \n\nname    Sugars  Thiamin  Vitamin A - IU  Vitamin B6  Vitamin C  \ncount 20.00000 20.00000        20.00000    20.00000   20.00000  \nmean   2.38731  0.23007      1149.25191     0.48631   12.69634  \nstd    2.26681  0.29293       934.31671     0.37088   17.05545  \nmin    0.09556  0.04025       302.27430     0.13703    0.27028  \n25%    0.71165  0.08627       664.17230     0.26458    2.56954  \n50%    1.57520  0.17282       859.33890     0.42397    3.86660  \n75%    2.95702  0.20314      1273.35450     0.49107   16.94934  \nmax    6.72990  1.39136      3660.16200     1.80021   52.78600  "
     },
     "execution_count": 551,
     "metadata": {},
     "output_type": "execute_result"
    }
   ],
   "source": [
    "nutrition_top20_carbs.describe()"
   ]
  },
  {
   "cell_type": "code",
   "execution_count": 568,
   "metadata": {},
   "outputs": [
    {
     "data": {
      "text/html": "<div>\n<style scoped>\n    .dataframe tbody tr th:only-of-type {\n        vertical-align: middle;\n    }\n\n    .dataframe tbody tr th {\n        vertical-align: top;\n    }\n\n    .dataframe thead th {\n        text-align: right;\n    }\n</style>\n<table border=\"1\" class=\"dataframe\">\n  <thead>\n    <tr style=\"text-align: right;\">\n      <th>name</th>\n      <th>Calcium</th>\n      <th>Calories</th>\n      <th>Calories from Fat</th>\n      <th>Carbohydrates</th>\n      <th>Cholesterol</th>\n      <th>Dietary Fiber</th>\n      <th>Fat</th>\n      <th>Folate</th>\n      <th>Iron</th>\n      <th>Magnesium</th>\n      <th>Niacin Equivalents</th>\n      <th>Potassium</th>\n      <th>Protein</th>\n      <th>Saturated Fat</th>\n      <th>Sodium</th>\n      <th>Sugars</th>\n      <th>Thiamin</th>\n      <th>Vitamin A - IU</th>\n      <th>Vitamin B6</th>\n      <th>Vitamin C</th>\n    </tr>\n  </thead>\n  <tbody>\n    <tr>\n      <td>count</td>\n      <td>3770.00000</td>\n      <td>3770.00000</td>\n      <td>3770.00000</td>\n      <td>3770.00000</td>\n      <td>3770.00000</td>\n      <td>3770.00000</td>\n      <td>3770.00000</td>\n      <td>3770.00000</td>\n      <td>3770.00000</td>\n      <td>3770.00000</td>\n      <td>3770.00000</td>\n      <td>3770.00000</td>\n      <td>3770.00000</td>\n      <td>3770.00000</td>\n      <td>3770.00000</td>\n      <td>3770.00000</td>\n      <td>3770.00000</td>\n      <td>3770.00000</td>\n      <td>3770.00000</td>\n      <td>3770.00000</td>\n    </tr>\n    <tr>\n      <td>mean</td>\n      <td>147.62368</td>\n      <td>437.40977</td>\n      <td>206.09237</td>\n      <td>29.13842</td>\n      <td>97.12707</td>\n      <td>2.59778</td>\n      <td>22.89915</td>\n      <td>60.51086</td>\n      <td>3.15299</td>\n      <td>51.41984</td>\n      <td>12.44257</td>\n      <td>532.01939</td>\n      <td>28.05297</td>\n      <td>8.74708</td>\n      <td>851.17479</td>\n      <td>6.72738</td>\n      <td>0.30421</td>\n      <td>1168.79318</td>\n      <td>0.50982</td>\n      <td>16.28622</td>\n    </tr>\n    <tr>\n      <td>std</td>\n      <td>159.99250</td>\n      <td>183.07685</td>\n      <td>125.83504</td>\n      <td>22.82480</td>\n      <td>60.47892</td>\n      <td>2.50979</td>\n      <td>13.98167</td>\n      <td>59.87557</td>\n      <td>2.44330</td>\n      <td>29.10865</td>\n      <td>6.89345</td>\n      <td>267.47451</td>\n      <td>12.01118</td>\n      <td>6.79965</td>\n      <td>643.53732</td>\n      <td>8.81384</td>\n      <td>0.30164</td>\n      <td>2321.84247</td>\n      <td>0.31210</td>\n      <td>24.35803</td>\n    </tr>\n    <tr>\n      <td>min</td>\n      <td>2.24700</td>\n      <td>51.34326</td>\n      <td>1.32300</td>\n      <td>0.00000</td>\n      <td>0.00000</td>\n      <td>0.00000</td>\n      <td>0.14700</td>\n      <td>0.00000</td>\n      <td>0.19784</td>\n      <td>0.99745</td>\n      <td>0.03511</td>\n      <td>21.35641</td>\n      <td>0.75050</td>\n      <td>0.01992</td>\n      <td>5.20206</td>\n      <td>0.00000</td>\n      <td>0.00055</td>\n      <td>0.00000</td>\n      <td>0.00497</td>\n      <td>0.00000</td>\n    </tr>\n    <tr>\n      <td>25%</td>\n      <td>41.89560</td>\n      <td>302.98010</td>\n      <td>116.53312</td>\n      <td>10.22884</td>\n      <td>60.39150</td>\n      <td>0.74548</td>\n      <td>12.94812</td>\n      <td>15.88195</td>\n      <td>1.81476</td>\n      <td>33.22880</td>\n      <td>7.40300</td>\n      <td>345.45530</td>\n      <td>19.97516</td>\n      <td>3.62944</td>\n      <td>418.67972</td>\n      <td>1.76526</td>\n      <td>0.10510</td>\n      <td>236.94223</td>\n      <td>0.28412</td>\n      <td>2.15411</td>\n    </tr>\n    <tr>\n      <td>50%</td>\n      <td>83.16640</td>\n      <td>407.19045</td>\n      <td>182.75790</td>\n      <td>24.78570</td>\n      <td>85.15604</td>\n      <td>1.94681</td>\n      <td>20.30644</td>\n      <td>38.70213</td>\n      <td>2.76656</td>\n      <td>45.93100</td>\n      <td>11.15695</td>\n      <td>480.73480</td>\n      <td>26.86586</td>\n      <td>7.16939</td>\n      <td>734.11100</td>\n      <td>3.90747</td>\n      <td>0.19759</td>\n      <td>581.03190</td>\n      <td>0.44613</td>\n      <td>6.66003</td>\n    </tr>\n    <tr>\n      <td>75%</td>\n      <td>193.59578</td>\n      <td>541.44173</td>\n      <td>271.86345</td>\n      <td>43.25593</td>\n      <td>126.76047</td>\n      <td>3.66756</td>\n      <td>30.20705</td>\n      <td>88.07055</td>\n      <td>3.93232</td>\n      <td>63.26032</td>\n      <td>16.56040</td>\n      <td>654.20570</td>\n      <td>34.31604</td>\n      <td>12.13675</td>\n      <td>1092.85675</td>\n      <td>7.83992</td>\n      <td>0.39693</td>\n      <td>1113.54200</td>\n      <td>0.68317</td>\n      <td>19.56792</td>\n    </tr>\n    <tr>\n      <td>max</td>\n      <td>1264.32600</td>\n      <td>1828.19200</td>\n      <td>989.10300</td>\n      <td>236.72050</td>\n      <td>708.85000</td>\n      <td>27.83175</td>\n      <td>109.90030</td>\n      <td>519.53590</td>\n      <td>55.89075</td>\n      <td>590.39220</td>\n      <td>47.57578</td>\n      <td>1931.48800</td>\n      <td>99.72639</td>\n      <td>59.31002</td>\n      <td>7322.28900</td>\n      <td>104.81810</td>\n      <td>2.35457</td>\n      <td>38664.70000</td>\n      <td>3.83736</td>\n      <td>270.41310</td>\n    </tr>\n  </tbody>\n</table>\n</div>",
      "text/plain": "name     Calcium   Calories  Calories from Fat  Carbohydrates  Cholesterol  \\\ncount 3770.00000 3770.00000         3770.00000     3770.00000   3770.00000   \nmean   147.62368  437.40977          206.09237       29.13842     97.12707   \nstd    159.99250  183.07685          125.83504       22.82480     60.47892   \nmin      2.24700   51.34326            1.32300        0.00000      0.00000   \n25%     41.89560  302.98010          116.53312       10.22884     60.39150   \n50%     83.16640  407.19045          182.75790       24.78570     85.15604   \n75%    193.59578  541.44173          271.86345       43.25593    126.76047   \nmax   1264.32600 1828.19200          989.10300      236.72050    708.85000   \n\nname   Dietary Fiber        Fat     Folate       Iron  Magnesium  \\\ncount     3770.00000 3770.00000 3770.00000 3770.00000 3770.00000   \nmean         2.59778   22.89915   60.51086    3.15299   51.41984   \nstd          2.50979   13.98167   59.87557    2.44330   29.10865   \nmin          0.00000    0.14700    0.00000    0.19784    0.99745   \n25%          0.74548   12.94812   15.88195    1.81476   33.22880   \n50%          1.94681   20.30644   38.70213    2.76656   45.93100   \n75%          3.66756   30.20705   88.07055    3.93232   63.26032   \nmax         27.83175  109.90030  519.53590   55.89075  590.39220   \n\nname   Niacin Equivalents  Potassium    Protein  Saturated Fat     Sodium  \\\ncount          3770.00000 3770.00000 3770.00000     3770.00000 3770.00000   \nmean             12.44257  532.01939   28.05297        8.74708  851.17479   \nstd               6.89345  267.47451   12.01118        6.79965  643.53732   \nmin               0.03511   21.35641    0.75050        0.01992    5.20206   \n25%               7.40300  345.45530   19.97516        3.62944  418.67972   \n50%              11.15695  480.73480   26.86586        7.16939  734.11100   \n75%              16.56040  654.20570   34.31604       12.13675 1092.85675   \nmax              47.57578 1931.48800   99.72639       59.31002 7322.28900   \n\nname      Sugars    Thiamin  Vitamin A - IU  Vitamin B6  Vitamin C  \ncount 3770.00000 3770.00000      3770.00000  3770.00000 3770.00000  \nmean     6.72738    0.30421      1168.79318     0.50982   16.28622  \nstd      8.81384    0.30164      2321.84247     0.31210   24.35803  \nmin      0.00000    0.00055         0.00000     0.00497    0.00000  \n25%      1.76526    0.10510       236.94223     0.28412    2.15411  \n50%      3.90747    0.19759       581.03190     0.44613    6.66003  \n75%      7.83992    0.39693      1113.54200     0.68317   19.56792  \nmax    104.81810    2.35457     38664.70000     3.83736  270.41310  "
     },
     "execution_count": 568,
     "metadata": {},
     "output_type": "execute_result"
    }
   ],
   "source": [
    "nutrition_db2.describe()"
   ]
  },
  {
   "cell_type": "code",
   "execution_count": 553,
   "metadata": {},
   "outputs": [
    {
     "data": {
      "text/html": "<div>\n<style scoped>\n    .dataframe tbody tr th:only-of-type {\n        vertical-align: middle;\n    }\n\n    .dataframe tbody tr th {\n        vertical-align: top;\n    }\n\n    .dataframe thead th {\n        text-align: right;\n    }\n</style>\n<table border=\"1\" class=\"dataframe\">\n  <thead>\n    <tr style=\"text-align: right;\">\n      <th></th>\n      <th>euclid_distance_sum</th>\n    </tr>\n  </thead>\n  <tbody>\n    <tr>\n      <td>228367</td>\n      <td>3005.56365</td>\n    </tr>\n    <tr>\n      <td>12877</td>\n      <td>21071.50815</td>\n    </tr>\n    <tr>\n      <td>9043</td>\n      <td>27696.36338</td>\n    </tr>\n    <tr>\n      <td>34159</td>\n      <td>30357.05836</td>\n    </tr>\n    <tr>\n      <td>72068</td>\n      <td>32822.63747</td>\n    </tr>\n    <tr>\n      <td>86047</td>\n      <td>32886.58213</td>\n    </tr>\n    <tr>\n      <td>74142</td>\n      <td>40314.84759</td>\n    </tr>\n    <tr>\n      <td>52310</td>\n      <td>49390.10581</td>\n    </tr>\n    <tr>\n      <td>16998</td>\n      <td>49893.71803</td>\n    </tr>\n    <tr>\n      <td>11914</td>\n      <td>50598.45271</td>\n    </tr>\n  </tbody>\n</table>\n</div>",
      "text/plain": "        euclid_distance_sum\n228367           3005.56365\n12877           21071.50815\n9043            27696.36338\n34159           30357.05836\n72068           32822.63747\n86047           32886.58213\n74142           40314.84759\n52310           49390.10581\n16998           49893.71803\n11914           50598.45271"
     },
     "execution_count": 553,
     "metadata": {},
     "output_type": "execute_result"
    }
   ],
   "source": [
    "result_array = cdist(recommenden_nut_low_fat, nutrition_db3, 'minkowski', p=2, w=weighted_fat)\n",
    "euclid_distance = pd.DataFrame(\n",
    "    result_array, columns=nutrition_db3.index.values, index=recommenden_nut_low_fat.index.values)\n",
    "\n",
    "euclid_distance_sum_fat = pd.DataFrame(\n",
    "    euclid_distance.sum(), columns=['euclid_distance_sum'])\n",
    "euclid_distance_sum_fat = euclid_distance_sum_fat.sort_values(by='euclid_distance_sum')\n",
    "euclid_distance_sum_fat[0:10]"
   ]
  },
  {
   "cell_type": "code",
   "execution_count": 554,
   "metadata": {},
   "outputs": [],
   "source": [
    "jaccard_euclid_joined_fat = pd.merge(euclid_distance_sum_fat, result_w_filter_100, left_index=True, right_index=True)"
   ]
  },
  {
   "cell_type": "code",
   "execution_count": 555,
   "metadata": {},
   "outputs": [
    {
     "data": {
      "text/html": "<div>\n<style scoped>\n    .dataframe tbody tr th:only-of-type {\n        vertical-align: middle;\n    }\n\n    .dataframe tbody tr th {\n        vertical-align: top;\n    }\n\n    .dataframe thead th {\n        text-align: right;\n    }\n</style>\n<table border=\"1\" class=\"dataframe\">\n  <thead>\n    <tr style=\"text-align: right;\">\n      <th></th>\n      <th>euclid_distance_sum</th>\n      <th>jaccard_distance_sum</th>\n      <th>pos</th>\n    </tr>\n  </thead>\n  <tbody>\n    <tr>\n      <td>228367</td>\n      <td>3005.56365</td>\n      <td>0.94768</td>\n      <td>34</td>\n    </tr>\n    <tr>\n      <td>12877</td>\n      <td>21071.50815</td>\n      <td>0.95620</td>\n      <td>94</td>\n    </tr>\n    <tr>\n      <td>9043</td>\n      <td>27696.36338</td>\n      <td>0.94413</td>\n      <td>23</td>\n    </tr>\n    <tr>\n      <td>34159</td>\n      <td>30357.05836</td>\n      <td>0.95480</td>\n      <td>73</td>\n    </tr>\n    <tr>\n      <td>72068</td>\n      <td>32822.63747</td>\n      <td>0.94961</td>\n      <td>44</td>\n    </tr>\n    <tr>\n      <td>86047</td>\n      <td>32886.58213</td>\n      <td>0.95668</td>\n      <td>96</td>\n    </tr>\n    <tr>\n      <td>74142</td>\n      <td>40314.84759</td>\n      <td>0.94728</td>\n      <td>32</td>\n    </tr>\n    <tr>\n      <td>52310</td>\n      <td>49390.10581</td>\n      <td>0.95231</td>\n      <td>58</td>\n    </tr>\n    <tr>\n      <td>16998</td>\n      <td>49893.71803</td>\n      <td>0.93739</td>\n      <td>9</td>\n    </tr>\n    <tr>\n      <td>11914</td>\n      <td>50598.45271</td>\n      <td>0.95275</td>\n      <td>60</td>\n    </tr>\n    <tr>\n      <td>8857</td>\n      <td>50893.46445</td>\n      <td>0.95246</td>\n      <td>59</td>\n    </tr>\n    <tr>\n      <td>161469</td>\n      <td>53197.20820</td>\n      <td>0.95586</td>\n      <td>86</td>\n    </tr>\n    <tr>\n      <td>239230</td>\n      <td>53812.58446</td>\n      <td>0.95219</td>\n      <td>56</td>\n    </tr>\n    <tr>\n      <td>203752</td>\n      <td>58167.81816</td>\n      <td>0.95591</td>\n      <td>87</td>\n    </tr>\n    <tr>\n      <td>38276</td>\n      <td>58253.61310</td>\n      <td>0.95331</td>\n      <td>62</td>\n    </tr>\n    <tr>\n      <td>20100</td>\n      <td>58367.22527</td>\n      <td>0.93694</td>\n      <td>6</td>\n    </tr>\n    <tr>\n      <td>23058</td>\n      <td>58572.25508</td>\n      <td>0.94392</td>\n      <td>21</td>\n    </tr>\n    <tr>\n      <td>214502</td>\n      <td>59282.14857</td>\n      <td>0.93953</td>\n      <td>15</td>\n    </tr>\n    <tr>\n      <td>77799</td>\n      <td>59484.40040</td>\n      <td>0.95561</td>\n      <td>80</td>\n    </tr>\n    <tr>\n      <td>11735</td>\n      <td>61200.63313</td>\n      <td>0.93739</td>\n      <td>11</td>\n    </tr>\n  </tbody>\n</table>\n</div>",
      "text/plain": "        euclid_distance_sum  jaccard_distance_sum  pos\n228367           3005.56365               0.94768   34\n12877           21071.50815               0.95620   94\n9043            27696.36338               0.94413   23\n34159           30357.05836               0.95480   73\n72068           32822.63747               0.94961   44\n86047           32886.58213               0.95668   96\n74142           40314.84759               0.94728   32\n52310           49390.10581               0.95231   58\n16998           49893.71803               0.93739    9\n11914           50598.45271               0.95275   60\n8857            50893.46445               0.95246   59\n161469          53197.20820               0.95586   86\n239230          53812.58446               0.95219   56\n203752          58167.81816               0.95591   87\n38276           58253.61310               0.95331   62\n20100           58367.22527               0.93694    6\n23058           58572.25508               0.94392   21\n214502          59282.14857               0.93953   15\n77799           59484.40040               0.95561   80\n11735           61200.63313               0.93739   11"
     },
     "execution_count": 555,
     "metadata": {},
     "output_type": "execute_result"
    }
   ],
   "source": [
    "jaccard_euclid_joined_fat[0:20]"
   ]
  },
  {
   "cell_type": "code",
   "execution_count": 556,
   "metadata": {},
   "outputs": [],
   "source": [
    "#  ------ Erstellung und cleansing des Nutrition Dataframes\n",
    "\n",
    "# erstelle neue liste auf basis der bereits gefilterten rezepte aus ingredients_filt\n",
    "id_overlap_mask = nutritions['id'].isin(jaccard_euclid_joined_fat[0:20].index.to_numpy())\n",
    "\n",
    "# erstelle datenframe auf basis der overlapliste\n",
    "nutritions_filt = nutritions.loc[id_overlap_mask]\n",
    "\n",
    "nutrition_top20_fat = nutritions_filt.pivot_table(\n",
    "    index=['id'],\n",
    "    columns=['name'],\n",
    "    values=['amount'],\n",
    ").reset_index()\n",
    "\n",
    "nutrition_top20_fat.set_index('id', inplace=True)\n",
    "\n",
    "# remove multiindex 'amount'\n",
    "nutrition_top20_fat.columns = nutrition_top20_fat.columns.droplevel(0)\n",
    "\n",
    "# entferne alle NA\n",
    "nutrition_top20_fat = nutrition_top20_fat.dropna()"
   ]
  },
  {
   "cell_type": "code",
   "execution_count": null,
   "metadata": {},
   "outputs": [],
   "source": []
  },
  {
   "cell_type": "code",
   "execution_count": 557,
   "metadata": {},
   "outputs": [
    {
     "data": {
      "text/html": "<div>\n<style scoped>\n    .dataframe tbody tr th:only-of-type {\n        vertical-align: middle;\n    }\n\n    .dataframe tbody tr th {\n        vertical-align: top;\n    }\n\n    .dataframe thead th {\n        text-align: right;\n    }\n</style>\n<table border=\"1\" class=\"dataframe\">\n  <thead>\n    <tr style=\"text-align: right;\">\n      <th>name</th>\n      <th>Calcium</th>\n      <th>Calories</th>\n      <th>Calories from Fat</th>\n      <th>Carbohydrates</th>\n      <th>Cholesterol</th>\n      <th>Dietary Fiber</th>\n      <th>Fat</th>\n      <th>Folate</th>\n      <th>Iron</th>\n      <th>Magnesium</th>\n      <th>Niacin Equivalents</th>\n      <th>Potassium</th>\n      <th>Protein</th>\n      <th>Saturated Fat</th>\n      <th>Sodium</th>\n      <th>Sugars</th>\n      <th>Thiamin</th>\n      <th>Vitamin A - IU</th>\n      <th>Vitamin B6</th>\n      <th>Vitamin C</th>\n    </tr>\n  </thead>\n  <tbody>\n    <tr>\n      <td>count</td>\n      <td>20.00000</td>\n      <td>20.00000</td>\n      <td>20.00000</td>\n      <td>20.00000</td>\n      <td>20.00000</td>\n      <td>20.00000</td>\n      <td>20.00000</td>\n      <td>20.00000</td>\n      <td>20.00000</td>\n      <td>20.00000</td>\n      <td>20.00000</td>\n      <td>20.00000</td>\n      <td>20.00000</td>\n      <td>20.00000</td>\n      <td>20.00000</td>\n      <td>20.00000</td>\n      <td>20.00000</td>\n      <td>20.00000</td>\n      <td>20.00000</td>\n      <td>20.00000</td>\n    </tr>\n    <tr>\n      <td>mean</td>\n      <td>160.67187</td>\n      <td>350.67709</td>\n      <td>138.26094</td>\n      <td>27.31692</td>\n      <td>84.92430</td>\n      <td>1.67415</td>\n      <td>15.36233</td>\n      <td>60.42228</td>\n      <td>2.54444</td>\n      <td>43.39233</td>\n      <td>12.60868</td>\n      <td>395.78786</td>\n      <td>24.83405</td>\n      <td>6.90554</td>\n      <td>822.79532</td>\n      <td>4.07454</td>\n      <td>0.27336</td>\n      <td>675.41923</td>\n      <td>0.44793</td>\n      <td>6.42620</td>\n    </tr>\n    <tr>\n      <td>std</td>\n      <td>130.78937</td>\n      <td>87.31382</td>\n      <td>45.44801</td>\n      <td>14.12786</td>\n      <td>41.89009</td>\n      <td>1.09570</td>\n      <td>5.04978</td>\n      <td>36.27908</td>\n      <td>1.23440</td>\n      <td>15.52454</td>\n      <td>7.09588</td>\n      <td>186.55297</td>\n      <td>9.77361</td>\n      <td>4.07377</td>\n      <td>858.15968</td>\n      <td>5.01952</td>\n      <td>0.19422</td>\n      <td>390.43007</td>\n      <td>0.26977</td>\n      <td>8.90380</td>\n    </tr>\n    <tr>\n      <td>min</td>\n      <td>19.87494</td>\n      <td>92.88802</td>\n      <td>16.25565</td>\n      <td>4.44503</td>\n      <td>23.40800</td>\n      <td>0.10547</td>\n      <td>1.80618</td>\n      <td>8.98550</td>\n      <td>1.19646</td>\n      <td>17.92577</td>\n      <td>4.86628</td>\n      <td>179.02910</td>\n      <td>10.42320</td>\n      <td>0.40453</td>\n      <td>196.54230</td>\n      <td>0.10680</td>\n      <td>0.04025</td>\n      <td>79.04500</td>\n      <td>0.08415</td>\n      <td>0.00000</td>\n    </tr>\n    <tr>\n      <td>25%</td>\n      <td>47.88339</td>\n      <td>310.77785</td>\n      <td>102.50305</td>\n      <td>15.98734</td>\n      <td>50.03422</td>\n      <td>0.77748</td>\n      <td>11.38923</td>\n      <td>31.77384</td>\n      <td>1.55554</td>\n      <td>32.26539</td>\n      <td>6.01045</td>\n      <td>257.96525</td>\n      <td>15.47294</td>\n      <td>3.09384</td>\n      <td>383.35455</td>\n      <td>1.30467</td>\n      <td>0.09781</td>\n      <td>472.89077</td>\n      <td>0.24867</td>\n      <td>0.86175</td>\n    </tr>\n    <tr>\n      <td>50%</td>\n      <td>127.86225</td>\n      <td>374.23950</td>\n      <td>153.40230</td>\n      <td>27.44924</td>\n      <td>79.97533</td>\n      <td>1.91762</td>\n      <td>17.04469</td>\n      <td>57.78565</td>\n      <td>2.19814</td>\n      <td>40.28243</td>\n      <td>10.88178</td>\n      <td>356.81650</td>\n      <td>26.34727</td>\n      <td>7.56975</td>\n      <td>634.15585</td>\n      <td>3.29568</td>\n      <td>0.22612</td>\n      <td>663.03695</td>\n      <td>0.40181</td>\n      <td>2.68942</td>\n    </tr>\n    <tr>\n      <td>75%</td>\n      <td>282.11065</td>\n      <td>391.61180</td>\n      <td>174.84408</td>\n      <td>37.44271</td>\n      <td>111.61198</td>\n      <td>2.24282</td>\n      <td>19.42712</td>\n      <td>85.46954</td>\n      <td>3.48530</td>\n      <td>51.28204</td>\n      <td>19.06126</td>\n      <td>484.49532</td>\n      <td>33.27296</td>\n      <td>10.22820</td>\n      <td>912.33945</td>\n      <td>4.71994</td>\n      <td>0.36632</td>\n      <td>773.00425</td>\n      <td>0.62644</td>\n      <td>6.06492</td>\n    </tr>\n    <tr>\n      <td>max</td>\n      <td>435.60640</td>\n      <td>514.89280</td>\n      <td>183.15820</td>\n      <td>53.01272</td>\n      <td>172.52000</td>\n      <td>3.75688</td>\n      <td>20.35091</td>\n      <td>134.62800</td>\n      <td>4.97842</td>\n      <td>78.45733</td>\n      <td>24.71010</td>\n      <td>818.25690</td>\n      <td>39.08948</td>\n      <td>12.52908</td>\n      <td>4174.66100</td>\n      <td>23.27062</td>\n      <td>0.70433</td>\n      <td>1621.32000</td>\n      <td>0.93401</td>\n      <td>28.86500</td>\n    </tr>\n  </tbody>\n</table>\n</div>",
      "text/plain": "name    Calcium  Calories  Calories from Fat  Carbohydrates  Cholesterol  \\\ncount  20.00000  20.00000           20.00000       20.00000     20.00000   \nmean  160.67187 350.67709          138.26094       27.31692     84.92430   \nstd   130.78937  87.31382           45.44801       14.12786     41.89009   \nmin    19.87494  92.88802           16.25565        4.44503     23.40800   \n25%    47.88339 310.77785          102.50305       15.98734     50.03422   \n50%   127.86225 374.23950          153.40230       27.44924     79.97533   \n75%   282.11065 391.61180          174.84408       37.44271    111.61198   \nmax   435.60640 514.89280          183.15820       53.01272    172.52000   \n\nname   Dietary Fiber      Fat    Folate     Iron  Magnesium  \\\ncount       20.00000 20.00000  20.00000 20.00000   20.00000   \nmean         1.67415 15.36233  60.42228  2.54444   43.39233   \nstd          1.09570  5.04978  36.27908  1.23440   15.52454   \nmin          0.10547  1.80618   8.98550  1.19646   17.92577   \n25%          0.77748 11.38923  31.77384  1.55554   32.26539   \n50%          1.91762 17.04469  57.78565  2.19814   40.28243   \n75%          2.24282 19.42712  85.46954  3.48530   51.28204   \nmax          3.75688 20.35091 134.62800  4.97842   78.45733   \n\nname   Niacin Equivalents  Potassium  Protein  Saturated Fat     Sodium  \\\ncount            20.00000   20.00000 20.00000       20.00000   20.00000   \nmean             12.60868  395.78786 24.83405        6.90554  822.79532   \nstd               7.09588  186.55297  9.77361        4.07377  858.15968   \nmin               4.86628  179.02910 10.42320        0.40453  196.54230   \n25%               6.01045  257.96525 15.47294        3.09384  383.35455   \n50%              10.88178  356.81650 26.34727        7.56975  634.15585   \n75%              19.06126  484.49532 33.27296       10.22820  912.33945   \nmax              24.71010  818.25690 39.08948       12.52908 4174.66100   \n\nname    Sugars  Thiamin  Vitamin A - IU  Vitamin B6  Vitamin C  \ncount 20.00000 20.00000        20.00000    20.00000   20.00000  \nmean   4.07454  0.27336       675.41923     0.44793    6.42620  \nstd    5.01952  0.19422       390.43007     0.26977    8.90380  \nmin    0.10680  0.04025        79.04500     0.08415    0.00000  \n25%    1.30467  0.09781       472.89077     0.24867    0.86175  \n50%    3.29568  0.22612       663.03695     0.40181    2.68942  \n75%    4.71994  0.36632       773.00425     0.62644    6.06492  \nmax   23.27062  0.70433      1621.32000     0.93401   28.86500  "
     },
     "execution_count": 557,
     "metadata": {},
     "output_type": "execute_result"
    }
   ],
   "source": [
    "nutrition_top20_fat.describe()"
   ]
  },
  {
   "cell_type": "code",
   "execution_count": 558,
   "metadata": {},
   "outputs": [
    {
     "data": {
      "text/html": "<div>\n<style scoped>\n    .dataframe tbody tr th:only-of-type {\n        vertical-align: middle;\n    }\n\n    .dataframe tbody tr th {\n        vertical-align: top;\n    }\n\n    .dataframe thead th {\n        text-align: right;\n    }\n</style>\n<table border=\"1\" class=\"dataframe\">\n  <thead>\n    <tr style=\"text-align: right;\">\n      <th>name</th>\n      <th>Calcium</th>\n      <th>Calories</th>\n      <th>Calories from Fat</th>\n      <th>Carbohydrates</th>\n      <th>Cholesterol</th>\n      <th>Dietary Fiber</th>\n      <th>Fat</th>\n      <th>Folate</th>\n      <th>Iron</th>\n      <th>Magnesium</th>\n      <th>Niacin Equivalents</th>\n      <th>Potassium</th>\n      <th>Protein</th>\n      <th>Saturated Fat</th>\n      <th>Sodium</th>\n      <th>Sugars</th>\n      <th>Thiamin</th>\n      <th>Vitamin A - IU</th>\n      <th>Vitamin B6</th>\n      <th>Vitamin C</th>\n    </tr>\n  </thead>\n  <tbody>\n    <tr>\n      <td>count</td>\n      <td>4062.00000</td>\n      <td>4062.00000</td>\n      <td>4062.00000</td>\n      <td>4062.00000</td>\n      <td>4062.00000</td>\n      <td>4062.00000</td>\n      <td>4062.00000</td>\n      <td>4062.00000</td>\n      <td>4062.00000</td>\n      <td>4062.00000</td>\n      <td>4062.00000</td>\n      <td>4062.00000</td>\n      <td>4062.00000</td>\n      <td>4062.00000</td>\n      <td>4062.00000</td>\n      <td>4062.00000</td>\n      <td>4062.00000</td>\n      <td>4062.00000</td>\n      <td>4062.00000</td>\n      <td>4062.00000</td>\n    </tr>\n    <tr>\n      <td>mean</td>\n      <td>146.24830</td>\n      <td>436.37865</td>\n      <td>205.34702</td>\n      <td>29.33343</td>\n      <td>96.53694</td>\n      <td>2.63156</td>\n      <td>22.81634</td>\n      <td>60.76312</td>\n      <td>3.17220</td>\n      <td>51.61716</td>\n      <td>12.29576</td>\n      <td>537.34508</td>\n      <td>27.76217</td>\n      <td>8.69277</td>\n      <td>846.59716</td>\n      <td>6.72692</td>\n      <td>0.30153</td>\n      <td>1221.15249</td>\n      <td>0.50863</td>\n      <td>16.72403</td>\n    </tr>\n    <tr>\n      <td>std</td>\n      <td>159.43529</td>\n      <td>208.87063</td>\n      <td>142.06021</td>\n      <td>23.54473</td>\n      <td>64.78237</td>\n      <td>2.63814</td>\n      <td>15.78447</td>\n      <td>60.62101</td>\n      <td>2.60926</td>\n      <td>32.32778</td>\n      <td>7.29221</td>\n      <td>325.02968</td>\n      <td>13.36258</td>\n      <td>7.23449</td>\n      <td>736.41251</td>\n      <td>9.17527</td>\n      <td>0.30493</td>\n      <td>2557.35848</td>\n      <td>0.34451</td>\n      <td>26.92288</td>\n    </tr>\n    <tr>\n      <td>min</td>\n      <td>0.93181</td>\n      <td>13.63194</td>\n      <td>0.92750</td>\n      <td>0.00000</td>\n      <td>0.00000</td>\n      <td>0.00000</td>\n      <td>0.10306</td>\n      <td>0.00000</td>\n      <td>0.07193</td>\n      <td>0.85861</td>\n      <td>0.03511</td>\n      <td>4.66014</td>\n      <td>0.44604</td>\n      <td>0.01992</td>\n      <td>2.67762</td>\n      <td>0.00000</td>\n      <td>0.00012</td>\n      <td>0.00000</td>\n      <td>0.00252</td>\n      <td>0.00000</td>\n    </tr>\n    <tr>\n      <td>25%</td>\n      <td>41.70011</td>\n      <td>293.54442</td>\n      <td>110.92578</td>\n      <td>10.18247</td>\n      <td>58.52000</td>\n      <td>0.72435</td>\n      <td>12.32509</td>\n      <td>15.83209</td>\n      <td>1.76229</td>\n      <td>31.96466</td>\n      <td>7.13552</td>\n      <td>330.89170</td>\n      <td>19.10710</td>\n      <td>3.47082</td>\n      <td>403.29090</td>\n      <td>1.70223</td>\n      <td>0.10243</td>\n      <td>226.36468</td>\n      <td>0.26930</td>\n      <td>2.03935</td>\n    </tr>\n    <tr>\n      <td>50%</td>\n      <td>82.97927</td>\n      <td>402.20005</td>\n      <td>179.08945</td>\n      <td>24.76714</td>\n      <td>83.21569</td>\n      <td>1.90935</td>\n      <td>19.89883</td>\n      <td>39.22277</td>\n      <td>2.73010</td>\n      <td>45.61357</td>\n      <td>10.96068</td>\n      <td>474.24250</td>\n      <td>26.43599</td>\n      <td>6.94796</td>\n      <td>719.31585</td>\n      <td>3.83273</td>\n      <td>0.19551</td>\n      <td>569.14505</td>\n      <td>0.43692</td>\n      <td>6.48954</td>\n    </tr>\n    <tr>\n      <td>75%</td>\n      <td>191.84663</td>\n      <td>543.92980</td>\n      <td>270.07430</td>\n      <td>43.31172</td>\n      <td>126.23355</td>\n      <td>3.67162</td>\n      <td>30.00825</td>\n      <td>88.13897</td>\n      <td>3.95110</td>\n      <td>63.71924</td>\n      <td>16.48592</td>\n      <td>660.26665</td>\n      <td>34.29652</td>\n      <td>11.96499</td>\n      <td>1084.20950</td>\n      <td>7.81531</td>\n      <td>0.39490</td>\n      <td>1118.61200</td>\n      <td>0.68542</td>\n      <td>19.56792</td>\n    </tr>\n    <tr>\n      <td>max</td>\n      <td>1264.32600</td>\n      <td>4709.19900</td>\n      <td>3455.29000</td>\n      <td>236.72050</td>\n      <td>979.77610</td>\n      <td>27.83175</td>\n      <td>383.92110</td>\n      <td>519.53590</td>\n      <td>55.89075</td>\n      <td>590.39220</td>\n      <td>109.01730</td>\n      <td>6063.16200</td>\n      <td>273.21630</td>\n      <td>103.43580</td>\n      <td>22099.37000</td>\n      <td>136.50510</td>\n      <td>3.25879</td>\n      <td>40386.87000</td>\n      <td>5.98334</td>\n      <td>507.27710</td>\n    </tr>\n  </tbody>\n</table>\n</div>",
      "text/plain": "name     Calcium   Calories  Calories from Fat  Carbohydrates  Cholesterol  \\\ncount 4062.00000 4062.00000         4062.00000     4062.00000   4062.00000   \nmean   146.24830  436.37865          205.34702       29.33343     96.53694   \nstd    159.43529  208.87063          142.06021       23.54473     64.78237   \nmin      0.93181   13.63194            0.92750        0.00000      0.00000   \n25%     41.70011  293.54442          110.92578       10.18247     58.52000   \n50%     82.97927  402.20005          179.08945       24.76714     83.21569   \n75%    191.84663  543.92980          270.07430       43.31172    126.23355   \nmax   1264.32600 4709.19900         3455.29000      236.72050    979.77610   \n\nname   Dietary Fiber        Fat     Folate       Iron  Magnesium  \\\ncount     4062.00000 4062.00000 4062.00000 4062.00000 4062.00000   \nmean         2.63156   22.81634   60.76312    3.17220   51.61716   \nstd          2.63814   15.78447   60.62101    2.60926   32.32778   \nmin          0.00000    0.10306    0.00000    0.07193    0.85861   \n25%          0.72435   12.32509   15.83209    1.76229   31.96466   \n50%          1.90935   19.89883   39.22277    2.73010   45.61357   \n75%          3.67162   30.00825   88.13897    3.95110   63.71924   \nmax         27.83175  383.92110  519.53590   55.89075  590.39220   \n\nname   Niacin Equivalents  Potassium    Protein  Saturated Fat      Sodium  \\\ncount          4062.00000 4062.00000 4062.00000     4062.00000  4062.00000   \nmean             12.29576  537.34508   27.76217        8.69277   846.59716   \nstd               7.29221  325.02968   13.36258        7.23449   736.41251   \nmin               0.03511    4.66014    0.44604        0.01992     2.67762   \n25%               7.13552  330.89170   19.10710        3.47082   403.29090   \n50%              10.96068  474.24250   26.43599        6.94796   719.31585   \n75%              16.48592  660.26665   34.29652       11.96499  1084.20950   \nmax             109.01730 6063.16200  273.21630      103.43580 22099.37000   \n\nname      Sugars    Thiamin  Vitamin A - IU  Vitamin B6  Vitamin C  \ncount 4062.00000 4062.00000      4062.00000  4062.00000 4062.00000  \nmean     6.72692    0.30153      1221.15249     0.50863   16.72403  \nstd      9.17527    0.30493      2557.35848     0.34451   26.92288  \nmin      0.00000    0.00012         0.00000     0.00252    0.00000  \n25%      1.70223    0.10243       226.36468     0.26930    2.03935  \n50%      3.83273    0.19551       569.14505     0.43692    6.48954  \n75%      7.81531    0.39490      1118.61200     0.68542   19.56792  \nmax    136.50510    3.25879     40386.87000     5.98334  507.27710  "
     },
     "execution_count": 558,
     "metadata": {},
     "output_type": "execute_result"
    }
   ],
   "source": [
    "nutrition_db.describe()"
   ]
  },
  {
   "cell_type": "code",
   "execution_count": 559,
   "metadata": {},
   "outputs": [
    {
     "data": {
      "text/html": "<div>\n<style scoped>\n    .dataframe tbody tr th:only-of-type {\n        vertical-align: middle;\n    }\n\n    .dataframe tbody tr th {\n        vertical-align: top;\n    }\n\n    .dataframe thead th {\n        text-align: right;\n    }\n</style>\n<table border=\"1\" class=\"dataframe\">\n  <thead>\n    <tr style=\"text-align: right;\">\n      <th></th>\n      <th>euclid_distance_sum</th>\n    </tr>\n  </thead>\n  <tbody>\n    <tr>\n      <td>8805</td>\n      <td>635.52549</td>\n    </tr>\n    <tr>\n      <td>8635</td>\n      <td>636.56520</td>\n    </tr>\n    <tr>\n      <td>9000</td>\n      <td>664.43886</td>\n    </tr>\n    <tr>\n      <td>8836</td>\n      <td>667.51755</td>\n    </tr>\n    <tr>\n      <td>16998</td>\n      <td>669.27187</td>\n    </tr>\n    <tr>\n      <td>214502</td>\n      <td>674.00850</td>\n    </tr>\n    <tr>\n      <td>9043</td>\n      <td>735.22167</td>\n    </tr>\n    <tr>\n      <td>196428</td>\n      <td>735.44302</td>\n    </tr>\n    <tr>\n      <td>72068</td>\n      <td>755.64468</td>\n    </tr>\n    <tr>\n      <td>19422</td>\n      <td>759.75811</td>\n    </tr>\n  </tbody>\n</table>\n</div>",
      "text/plain": "        euclid_distance_sum\n8805              635.52549\n8635              636.56520\n9000              664.43886\n8836              667.51755\n16998             669.27187\n214502            674.00850\n9043              735.22167\n196428            735.44302\n72068             755.64468\n19422             759.75811"
     },
     "execution_count": 559,
     "metadata": {},
     "output_type": "execute_result"
    }
   ],
   "source": [
    "result_array = cdist(recommenden_nut, nutrition_db3, 'minkowski', p=2, w=no_weight)\n",
    "euclid_distance = pd.DataFrame(\n",
    "    result_array, columns=nutrition_db3.index.values, index=recommenden_nut.index.values)\n",
    "\n",
    "euclid_distance_sum = pd.DataFrame(\n",
    "    euclid_distance.sum(), columns=['euclid_distance_sum'])\n",
    "euclid_distance_sum = euclid_distance_sum.sort_values(by='euclid_distance_sum')\n",
    "euclid_distance_sum[0:10]"
   ]
  },
  {
   "cell_type": "code",
   "execution_count": 560,
   "metadata": {},
   "outputs": [],
   "source": [
    "jaccard_euclid_joined = pd.merge(euclid_distance_sum, result_w_filter_100, left_index=True, right_index=True)"
   ]
  },
  {
   "cell_type": "code",
   "execution_count": 561,
   "metadata": {},
   "outputs": [
    {
     "data": {
      "text/html": "<div>\n<style scoped>\n    .dataframe tbody tr th:only-of-type {\n        vertical-align: middle;\n    }\n\n    .dataframe tbody tr th {\n        vertical-align: top;\n    }\n\n    .dataframe thead th {\n        text-align: right;\n    }\n</style>\n<table border=\"1\" class=\"dataframe\">\n  <thead>\n    <tr style=\"text-align: right;\">\n      <th></th>\n      <th>euclid_distance_sum</th>\n      <th>jaccard_distance_sum</th>\n      <th>pos</th>\n    </tr>\n  </thead>\n  <tbody>\n    <tr>\n      <td>8805</td>\n      <td>635.52549</td>\n      <td>0.94905</td>\n      <td>42</td>\n    </tr>\n    <tr>\n      <td>8635</td>\n      <td>636.56520</td>\n      <td>0.94891</td>\n      <td>41</td>\n    </tr>\n    <tr>\n      <td>9000</td>\n      <td>664.43886</td>\n      <td>0.94852</td>\n      <td>39</td>\n    </tr>\n    <tr>\n      <td>8836</td>\n      <td>667.51755</td>\n      <td>0.95050</td>\n      <td>49</td>\n    </tr>\n    <tr>\n      <td>16998</td>\n      <td>669.27187</td>\n      <td>0.93739</td>\n      <td>9</td>\n    </tr>\n    <tr>\n      <td>214502</td>\n      <td>674.00850</td>\n      <td>0.93953</td>\n      <td>15</td>\n    </tr>\n    <tr>\n      <td>9043</td>\n      <td>735.22167</td>\n      <td>0.94413</td>\n      <td>23</td>\n    </tr>\n    <tr>\n      <td>196428</td>\n      <td>735.44302</td>\n      <td>0.94338</td>\n      <td>20</td>\n    </tr>\n    <tr>\n      <td>72068</td>\n      <td>755.64468</td>\n      <td>0.94961</td>\n      <td>44</td>\n    </tr>\n    <tr>\n      <td>19422</td>\n      <td>759.75811</td>\n      <td>0.93188</td>\n      <td>3</td>\n    </tr>\n    <tr>\n      <td>18481</td>\n      <td>793.59086</td>\n      <td>0.95678</td>\n      <td>99</td>\n    </tr>\n    <tr>\n      <td>178809</td>\n      <td>849.89398</td>\n      <td>0.94724</td>\n      <td>30</td>\n    </tr>\n    <tr>\n      <td>18805</td>\n      <td>850.16739</td>\n      <td>0.93874</td>\n      <td>14</td>\n    </tr>\n    <tr>\n      <td>15375</td>\n      <td>877.51574</td>\n      <td>0.94810</td>\n      <td>37</td>\n    </tr>\n    <tr>\n      <td>11914</td>\n      <td>909.69635</td>\n      <td>0.95275</td>\n      <td>60</td>\n    </tr>\n    <tr>\n      <td>8857</td>\n      <td>912.50222</td>\n      <td>0.95246</td>\n      <td>59</td>\n    </tr>\n    <tr>\n      <td>15530</td>\n      <td>953.64166</td>\n      <td>0.94587</td>\n      <td>26</td>\n    </tr>\n    <tr>\n      <td>239230</td>\n      <td>966.30640</td>\n      <td>0.95219</td>\n      <td>56</td>\n    </tr>\n    <tr>\n      <td>11735</td>\n      <td>969.74770</td>\n      <td>0.93739</td>\n      <td>11</td>\n    </tr>\n    <tr>\n      <td>11962</td>\n      <td>971.21360</td>\n      <td>0.94698</td>\n      <td>29</td>\n    </tr>\n  </tbody>\n</table>\n</div>",
      "text/plain": "        euclid_distance_sum  jaccard_distance_sum  pos\n8805              635.52549               0.94905   42\n8635              636.56520               0.94891   41\n9000              664.43886               0.94852   39\n8836              667.51755               0.95050   49\n16998             669.27187               0.93739    9\n214502            674.00850               0.93953   15\n9043              735.22167               0.94413   23\n196428            735.44302               0.94338   20\n72068             755.64468               0.94961   44\n19422             759.75811               0.93188    3\n18481             793.59086               0.95678   99\n178809            849.89398               0.94724   30\n18805             850.16739               0.93874   14\n15375             877.51574               0.94810   37\n11914             909.69635               0.95275   60\n8857              912.50222               0.95246   59\n15530             953.64166               0.94587   26\n239230            966.30640               0.95219   56\n11735             969.74770               0.93739   11\n11962             971.21360               0.94698   29"
     },
     "execution_count": 561,
     "metadata": {},
     "output_type": "execute_result"
    }
   ],
   "source": [
    "jaccard_euclid_joined[0:20]"
   ]
  },
  {
   "cell_type": "code",
   "execution_count": 562,
   "metadata": {},
   "outputs": [],
   "source": [
    "#  ------ Erstellung und cleansing des Nutrition Dataframes\n",
    "\n",
    "# erstelle neue liste auf basis der bereits gefilterten rezepte aus ingredients_filt\n",
    "id_overlap_mask = nutritions['id'].isin(jaccard_euclid_joined[0:20].index.to_numpy())\n",
    "\n",
    "# erstelle datenframe auf basis der overlapliste\n",
    "nutritions_filt = nutritions.loc[id_overlap_mask]\n",
    "\n",
    "nutrition_top20 = nutritions_filt.pivot_table(\n",
    "    index=['id'],\n",
    "    columns=['name'],\n",
    "    values=['amount'],\n",
    ").reset_index()\n",
    "\n",
    "nutrition_top20.set_index('id', inplace=True)\n",
    "\n",
    "# remove multiindex 'amount'\n",
    "nutrition_top20.columns = nutrition_top20.columns.droplevel(0)\n",
    "\n",
    "# entferne alle NA\n",
    "nutrition_top20 = nutrition_top20.dropna()"
   ]
  },
  {
   "cell_type": "code",
   "execution_count": 563,
   "metadata": {},
   "outputs": [
    {
     "data": {
      "text/html": "<div>\n<style scoped>\n    .dataframe tbody tr th:only-of-type {\n        vertical-align: middle;\n    }\n\n    .dataframe tbody tr th {\n        vertical-align: top;\n    }\n\n    .dataframe thead th {\n        text-align: right;\n    }\n</style>\n<table border=\"1\" class=\"dataframe\">\n  <thead>\n    <tr style=\"text-align: right;\">\n      <th>name</th>\n      <th>Calcium</th>\n      <th>Calories</th>\n      <th>Calories from Fat</th>\n      <th>Carbohydrates</th>\n      <th>Cholesterol</th>\n      <th>Dietary Fiber</th>\n      <th>Fat</th>\n      <th>Folate</th>\n      <th>Iron</th>\n      <th>Magnesium</th>\n      <th>Niacin Equivalents</th>\n      <th>Potassium</th>\n      <th>Protein</th>\n      <th>Saturated Fat</th>\n      <th>Sodium</th>\n      <th>Sugars</th>\n      <th>Thiamin</th>\n      <th>Vitamin A - IU</th>\n      <th>Vitamin B6</th>\n      <th>Vitamin C</th>\n    </tr>\n  </thead>\n  <tbody>\n    <tr>\n      <td>count</td>\n      <td>20.00000</td>\n      <td>20.00000</td>\n      <td>20.00000</td>\n      <td>20.00000</td>\n      <td>20.00000</td>\n      <td>20.00000</td>\n      <td>20.00000</td>\n      <td>20.00000</td>\n      <td>20.00000</td>\n      <td>20.00000</td>\n      <td>20.00000</td>\n      <td>20.00000</td>\n      <td>20.00000</td>\n      <td>20.00000</td>\n      <td>20.00000</td>\n      <td>20.00000</td>\n      <td>20.00000</td>\n      <td>20.00000</td>\n      <td>20.00000</td>\n      <td>20.00000</td>\n    </tr>\n    <tr>\n      <td>mean</td>\n      <td>139.67291</td>\n      <td>432.38593</td>\n      <td>205.54611</td>\n      <td>28.70548</td>\n      <td>87.95749</td>\n      <td>1.41157</td>\n      <td>22.83846</td>\n      <td>62.80706</td>\n      <td>2.36776</td>\n      <td>37.32161</td>\n      <td>12.98041</td>\n      <td>326.70598</td>\n      <td>26.66772</td>\n      <td>8.07104</td>\n      <td>401.90679</td>\n      <td>4.97491</td>\n      <td>0.28450</td>\n      <td>448.14096</td>\n      <td>0.38774</td>\n      <td>4.18025</td>\n    </tr>\n    <tr>\n      <td>std</td>\n      <td>134.72489</td>\n      <td>86.82371</td>\n      <td>64.96514</td>\n      <td>11.38519</td>\n      <td>34.55245</td>\n      <td>0.81901</td>\n      <td>7.21835</td>\n      <td>30.24442</td>\n      <td>0.80329</td>\n      <td>8.65180</td>\n      <td>6.67966</td>\n      <td>104.58874</td>\n      <td>9.84059</td>\n      <td>3.33231</td>\n      <td>203.63807</td>\n      <td>5.95048</td>\n      <td>0.12315</td>\n      <td>218.04806</td>\n      <td>0.22779</td>\n      <td>7.74070</td>\n    </tr>\n    <tr>\n      <td>min</td>\n      <td>19.11785</td>\n      <td>296.94380</td>\n      <td>87.79747</td>\n      <td>7.85645</td>\n      <td>49.80750</td>\n      <td>0.10547</td>\n      <td>9.75527</td>\n      <td>8.98550</td>\n      <td>1.29727</td>\n      <td>20.72080</td>\n      <td>5.00230</td>\n      <td>179.02910</td>\n      <td>13.13587</td>\n      <td>2.36103</td>\n      <td>93.74258</td>\n      <td>0.06328</td>\n      <td>0.08877</td>\n      <td>79.04500</td>\n      <td>0.08415</td>\n      <td>0.00000</td>\n    </tr>\n    <tr>\n      <td>25%</td>\n      <td>26.38823</td>\n      <td>364.44880</td>\n      <td>160.05197</td>\n      <td>22.14934</td>\n      <td>59.10922</td>\n      <td>0.78408</td>\n      <td>17.78355</td>\n      <td>45.58490</td>\n      <td>1.63460</td>\n      <td>32.47948</td>\n      <td>6.57829</td>\n      <td>238.49597</td>\n      <td>17.26798</td>\n      <td>5.66036</td>\n      <td>240.86055</td>\n      <td>1.48685</td>\n      <td>0.22193</td>\n      <td>294.68032</td>\n      <td>0.16809</td>\n      <td>0.34106</td>\n    </tr>\n    <tr>\n      <td>50%</td>\n      <td>83.84575</td>\n      <td>440.26270</td>\n      <td>208.55365</td>\n      <td>27.91405</td>\n      <td>79.61916</td>\n      <td>1.10479</td>\n      <td>23.17263</td>\n      <td>61.01816</td>\n      <td>2.32731</td>\n      <td>37.07570</td>\n      <td>11.64028</td>\n      <td>318.05215</td>\n      <td>26.16965</td>\n      <td>7.42372</td>\n      <td>407.48090</td>\n      <td>3.65357</td>\n      <td>0.28384</td>\n      <td>498.05250</td>\n      <td>0.38343</td>\n      <td>1.04343</td>\n    </tr>\n    <tr>\n      <td>75%</td>\n      <td>217.02835</td>\n      <td>485.96745</td>\n      <td>242.78433</td>\n      <td>36.81882</td>\n      <td>110.56280</td>\n      <td>1.85071</td>\n      <td>26.97604</td>\n      <td>84.91656</td>\n      <td>2.93891</td>\n      <td>41.55434</td>\n      <td>19.05475</td>\n      <td>386.72990</td>\n      <td>35.12858</td>\n      <td>10.22820</td>\n      <td>583.70127</td>\n      <td>5.08346</td>\n      <td>0.34072</td>\n      <td>592.62822</td>\n      <td>0.54009</td>\n      <td>3.15906</td>\n    </tr>\n    <tr>\n      <td>max</td>\n      <td>424.00300</td>\n      <td>623.27190</td>\n      <td>371.52600</td>\n      <td>53.01272</td>\n      <td>181.12980</td>\n      <td>3.22975</td>\n      <td>41.28066</td>\n      <td>134.62800</td>\n      <td>4.12710</td>\n      <td>62.25500</td>\n      <td>24.71010</td>\n      <td>546.85600</td>\n      <td>40.73360</td>\n      <td>14.59043</td>\n      <td>687.00700</td>\n      <td>23.27062</td>\n      <td>0.63331</td>\n      <td>785.69960</td>\n      <td>0.80909</td>\n      <td>28.86500</td>\n    </tr>\n  </tbody>\n</table>\n</div>",
      "text/plain": "name    Calcium  Calories  Calories from Fat  Carbohydrates  Cholesterol  \\\ncount  20.00000  20.00000           20.00000       20.00000     20.00000   \nmean  139.67291 432.38593          205.54611       28.70548     87.95749   \nstd   134.72489  86.82371           64.96514       11.38519     34.55245   \nmin    19.11785 296.94380           87.79747        7.85645     49.80750   \n25%    26.38823 364.44880          160.05197       22.14934     59.10922   \n50%    83.84575 440.26270          208.55365       27.91405     79.61916   \n75%   217.02835 485.96745          242.78433       36.81882    110.56280   \nmax   424.00300 623.27190          371.52600       53.01272    181.12980   \n\nname   Dietary Fiber      Fat    Folate     Iron  Magnesium  \\\ncount       20.00000 20.00000  20.00000 20.00000   20.00000   \nmean         1.41157 22.83846  62.80706  2.36776   37.32161   \nstd          0.81901  7.21835  30.24442  0.80329    8.65180   \nmin          0.10547  9.75527   8.98550  1.29727   20.72080   \n25%          0.78408 17.78355  45.58490  1.63460   32.47948   \n50%          1.10479 23.17263  61.01816  2.32731   37.07570   \n75%          1.85071 26.97604  84.91656  2.93891   41.55434   \nmax          3.22975 41.28066 134.62800  4.12710   62.25500   \n\nname   Niacin Equivalents  Potassium  Protein  Saturated Fat    Sodium  \\\ncount            20.00000   20.00000 20.00000       20.00000  20.00000   \nmean             12.98041  326.70598 26.66772        8.07104 401.90679   \nstd               6.67966  104.58874  9.84059        3.33231 203.63807   \nmin               5.00230  179.02910 13.13587        2.36103  93.74258   \n25%               6.57829  238.49597 17.26798        5.66036 240.86055   \n50%              11.64028  318.05215 26.16965        7.42372 407.48090   \n75%              19.05475  386.72990 35.12858       10.22820 583.70127   \nmax              24.71010  546.85600 40.73360       14.59043 687.00700   \n\nname    Sugars  Thiamin  Vitamin A - IU  Vitamin B6  Vitamin C  \ncount 20.00000 20.00000        20.00000    20.00000   20.00000  \nmean   4.97491  0.28450       448.14096     0.38774    4.18025  \nstd    5.95048  0.12315       218.04806     0.22779    7.74070  \nmin    0.06328  0.08877        79.04500     0.08415    0.00000  \n25%    1.48685  0.22193       294.68032     0.16809    0.34106  \n50%    3.65357  0.28384       498.05250     0.38343    1.04343  \n75%    5.08346  0.34072       592.62822     0.54009    3.15906  \nmax   23.27062  0.63331       785.69960     0.80909   28.86500  "
     },
     "execution_count": 563,
     "metadata": {},
     "output_type": "execute_result"
    }
   ],
   "source": [
    "nutrition_top20.describe()"
   ]
  },
  {
   "cell_type": "code",
   "execution_count": 564,
   "metadata": {},
   "outputs": [
    {
     "data": {
      "text/html": "<div>\n<style scoped>\n    .dataframe tbody tr th:only-of-type {\n        vertical-align: middle;\n    }\n\n    .dataframe tbody tr th {\n        vertical-align: top;\n    }\n\n    .dataframe thead th {\n        text-align: right;\n    }\n</style>\n<table border=\"1\" class=\"dataframe\">\n  <thead>\n    <tr style=\"text-align: right;\">\n      <th>name</th>\n      <th>Calcium</th>\n      <th>Calories</th>\n      <th>Calories from Fat</th>\n      <th>Carbohydrates</th>\n      <th>Cholesterol</th>\n      <th>Dietary Fiber</th>\n      <th>Fat</th>\n      <th>Folate</th>\n      <th>Iron</th>\n      <th>Magnesium</th>\n      <th>Niacin Equivalents</th>\n      <th>Potassium</th>\n      <th>Protein</th>\n      <th>Saturated Fat</th>\n      <th>Sodium</th>\n      <th>Sugars</th>\n      <th>Thiamin</th>\n      <th>Vitamin A - IU</th>\n      <th>Vitamin B6</th>\n      <th>Vitamin C</th>\n    </tr>\n  </thead>\n  <tbody>\n    <tr>\n      <td>count</td>\n      <td>4062.00000</td>\n      <td>4062.00000</td>\n      <td>4062.00000</td>\n      <td>4062.00000</td>\n      <td>4062.00000</td>\n      <td>4062.00000</td>\n      <td>4062.00000</td>\n      <td>4062.00000</td>\n      <td>4062.00000</td>\n      <td>4062.00000</td>\n      <td>4062.00000</td>\n      <td>4062.00000</td>\n      <td>4062.00000</td>\n      <td>4062.00000</td>\n      <td>4062.00000</td>\n      <td>4062.00000</td>\n      <td>4062.00000</td>\n      <td>4062.00000</td>\n      <td>4062.00000</td>\n      <td>4062.00000</td>\n    </tr>\n    <tr>\n      <td>mean</td>\n      <td>146.24830</td>\n      <td>436.37865</td>\n      <td>205.34702</td>\n      <td>29.33343</td>\n      <td>96.53694</td>\n      <td>2.63156</td>\n      <td>22.81634</td>\n      <td>60.76312</td>\n      <td>3.17220</td>\n      <td>51.61716</td>\n      <td>12.29576</td>\n      <td>537.34508</td>\n      <td>27.76217</td>\n      <td>8.69277</td>\n      <td>846.59716</td>\n      <td>6.72692</td>\n      <td>0.30153</td>\n      <td>1221.15249</td>\n      <td>0.50863</td>\n      <td>16.72403</td>\n    </tr>\n    <tr>\n      <td>std</td>\n      <td>159.43529</td>\n      <td>208.87063</td>\n      <td>142.06021</td>\n      <td>23.54473</td>\n      <td>64.78237</td>\n      <td>2.63814</td>\n      <td>15.78447</td>\n      <td>60.62101</td>\n      <td>2.60926</td>\n      <td>32.32778</td>\n      <td>7.29221</td>\n      <td>325.02968</td>\n      <td>13.36258</td>\n      <td>7.23449</td>\n      <td>736.41251</td>\n      <td>9.17527</td>\n      <td>0.30493</td>\n      <td>2557.35848</td>\n      <td>0.34451</td>\n      <td>26.92288</td>\n    </tr>\n    <tr>\n      <td>min</td>\n      <td>0.93181</td>\n      <td>13.63194</td>\n      <td>0.92750</td>\n      <td>0.00000</td>\n      <td>0.00000</td>\n      <td>0.00000</td>\n      <td>0.10306</td>\n      <td>0.00000</td>\n      <td>0.07193</td>\n      <td>0.85861</td>\n      <td>0.03511</td>\n      <td>4.66014</td>\n      <td>0.44604</td>\n      <td>0.01992</td>\n      <td>2.67762</td>\n      <td>0.00000</td>\n      <td>0.00012</td>\n      <td>0.00000</td>\n      <td>0.00252</td>\n      <td>0.00000</td>\n    </tr>\n    <tr>\n      <td>25%</td>\n      <td>41.70011</td>\n      <td>293.54442</td>\n      <td>110.92578</td>\n      <td>10.18247</td>\n      <td>58.52000</td>\n      <td>0.72435</td>\n      <td>12.32509</td>\n      <td>15.83209</td>\n      <td>1.76229</td>\n      <td>31.96466</td>\n      <td>7.13552</td>\n      <td>330.89170</td>\n      <td>19.10710</td>\n      <td>3.47082</td>\n      <td>403.29090</td>\n      <td>1.70223</td>\n      <td>0.10243</td>\n      <td>226.36468</td>\n      <td>0.26930</td>\n      <td>2.03935</td>\n    </tr>\n    <tr>\n      <td>50%</td>\n      <td>82.97927</td>\n      <td>402.20005</td>\n      <td>179.08945</td>\n      <td>24.76714</td>\n      <td>83.21569</td>\n      <td>1.90935</td>\n      <td>19.89883</td>\n      <td>39.22277</td>\n      <td>2.73010</td>\n      <td>45.61357</td>\n      <td>10.96068</td>\n      <td>474.24250</td>\n      <td>26.43599</td>\n      <td>6.94796</td>\n      <td>719.31585</td>\n      <td>3.83273</td>\n      <td>0.19551</td>\n      <td>569.14505</td>\n      <td>0.43692</td>\n      <td>6.48954</td>\n    </tr>\n    <tr>\n      <td>75%</td>\n      <td>191.84663</td>\n      <td>543.92980</td>\n      <td>270.07430</td>\n      <td>43.31172</td>\n      <td>126.23355</td>\n      <td>3.67162</td>\n      <td>30.00825</td>\n      <td>88.13897</td>\n      <td>3.95110</td>\n      <td>63.71924</td>\n      <td>16.48592</td>\n      <td>660.26665</td>\n      <td>34.29652</td>\n      <td>11.96499</td>\n      <td>1084.20950</td>\n      <td>7.81531</td>\n      <td>0.39490</td>\n      <td>1118.61200</td>\n      <td>0.68542</td>\n      <td>19.56792</td>\n    </tr>\n    <tr>\n      <td>max</td>\n      <td>1264.32600</td>\n      <td>4709.19900</td>\n      <td>3455.29000</td>\n      <td>236.72050</td>\n      <td>979.77610</td>\n      <td>27.83175</td>\n      <td>383.92110</td>\n      <td>519.53590</td>\n      <td>55.89075</td>\n      <td>590.39220</td>\n      <td>109.01730</td>\n      <td>6063.16200</td>\n      <td>273.21630</td>\n      <td>103.43580</td>\n      <td>22099.37000</td>\n      <td>136.50510</td>\n      <td>3.25879</td>\n      <td>40386.87000</td>\n      <td>5.98334</td>\n      <td>507.27710</td>\n    </tr>\n  </tbody>\n</table>\n</div>",
      "text/plain": "name     Calcium   Calories  Calories from Fat  Carbohydrates  Cholesterol  \\\ncount 4062.00000 4062.00000         4062.00000     4062.00000   4062.00000   \nmean   146.24830  436.37865          205.34702       29.33343     96.53694   \nstd    159.43529  208.87063          142.06021       23.54473     64.78237   \nmin      0.93181   13.63194            0.92750        0.00000      0.00000   \n25%     41.70011  293.54442          110.92578       10.18247     58.52000   \n50%     82.97927  402.20005          179.08945       24.76714     83.21569   \n75%    191.84663  543.92980          270.07430       43.31172    126.23355   \nmax   1264.32600 4709.19900         3455.29000      236.72050    979.77610   \n\nname   Dietary Fiber        Fat     Folate       Iron  Magnesium  \\\ncount     4062.00000 4062.00000 4062.00000 4062.00000 4062.00000   \nmean         2.63156   22.81634   60.76312    3.17220   51.61716   \nstd          2.63814   15.78447   60.62101    2.60926   32.32778   \nmin          0.00000    0.10306    0.00000    0.07193    0.85861   \n25%          0.72435   12.32509   15.83209    1.76229   31.96466   \n50%          1.90935   19.89883   39.22277    2.73010   45.61357   \n75%          3.67162   30.00825   88.13897    3.95110   63.71924   \nmax         27.83175  383.92110  519.53590   55.89075  590.39220   \n\nname   Niacin Equivalents  Potassium    Protein  Saturated Fat      Sodium  \\\ncount          4062.00000 4062.00000 4062.00000     4062.00000  4062.00000   \nmean             12.29576  537.34508   27.76217        8.69277   846.59716   \nstd               7.29221  325.02968   13.36258        7.23449   736.41251   \nmin               0.03511    4.66014    0.44604        0.01992     2.67762   \n25%               7.13552  330.89170   19.10710        3.47082   403.29090   \n50%              10.96068  474.24250   26.43599        6.94796   719.31585   \n75%              16.48592  660.26665   34.29652       11.96499  1084.20950   \nmax             109.01730 6063.16200  273.21630      103.43580 22099.37000   \n\nname      Sugars    Thiamin  Vitamin A - IU  Vitamin B6  Vitamin C  \ncount 4062.00000 4062.00000      4062.00000  4062.00000 4062.00000  \nmean     6.72692    0.30153      1221.15249     0.50863   16.72403  \nstd      9.17527    0.30493      2557.35848     0.34451   26.92288  \nmin      0.00000    0.00012         0.00000     0.00252    0.00000  \n25%      1.70223    0.10243       226.36468     0.26930    2.03935  \n50%      3.83273    0.19551       569.14505     0.43692    6.48954  \n75%      7.81531    0.39490      1118.61200     0.68542   19.56792  \nmax    136.50510    3.25879     40386.87000     5.98334  507.27710  "
     },
     "execution_count": 564,
     "metadata": {},
     "output_type": "execute_result"
    }
   ],
   "source": [
    "nutrition_db.describe()"
   ]
  }
 ]
}