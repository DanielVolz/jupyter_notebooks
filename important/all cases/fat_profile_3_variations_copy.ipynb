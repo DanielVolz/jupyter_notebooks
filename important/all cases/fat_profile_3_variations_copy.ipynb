{
 "nbformat": 4,
 "nbformat_minor": 2,
 "metadata": {
  "language_info": {
   "name": "python",
   "codemirror_mode": {
    "name": "ipython",
    "version": 3
   },
   "version": "3.7.6-final"
  },
  "orig_nbformat": 2,
  "file_extension": ".py",
  "mimetype": "text/x-python",
  "name": "python",
  "npconvert_exporter": "python",
  "pygments_lexer": "ipython3",
  "version": 3,
  "kernelspec": {
   "name": "python3",
   "display_name": "Python 3"
  }
 },
 "cells": [
  {
   "cell_type": "code",
   "execution_count": 2,
   "metadata": {},
   "outputs": [],
   "source": [
    "import json\n",
    "\n",
    "import numpy as np\n",
    "import pandas as pd\n",
    "import pymongo\n",
    "import scipy\n",
    "from bson import ObjectId, json_util\n",
    "from pandas.io.json import json_normalize\n",
    "from pymongo import MongoClient as Connection\n",
    "from scipy import sparse, spatial\n",
    "from scipy.spatial.distance import cdist, pdist, squareform\n",
    "from sklearn.metrics.pairwise import cosine_similarity\n",
    "\n",
    "# scientific notation disabled form smaller numbers\n",
    "pd.options.display.float_format = '{:.5f}'.format\n",
    "\n",
    "# alles resultate anzeigen und nicht nur das letzte\n",
    "from IPython.core.interactiveshell import InteractiveShell\n",
    "InteractiveShell.ast_node_interactivity = \"all\"\n",
    "\n"
   ]
  },
  {
   "cell_type": "code",
   "execution_count": 3,
   "metadata": {},
   "outputs": [
    {
     "data": {
      "text/html": "<style>\n.output {\n    flex-direction: row;\n}\n</style>",
      "text/plain": "<IPython.core.display.HTML object>"
     },
     "execution_count": 3,
     "metadata": {},
     "output_type": "execute_result"
    }
   ],
   "source": [
    "# display multiple outputs in one row\n",
    "import pandas as pd\n",
    "import numpy as np\n",
    "from IPython.display import display, HTML\n",
    "\n",
    "CSS = \"\"\"\n",
    ".output {\n",
    "    flex-direction: row;\n",
    "}\n",
    "\"\"\"\n",
    "\n",
    "HTML('<style>{}</style>'.format(CSS))"
   ]
  },
  {
   "cell_type": "code",
   "execution_count": 4,
   "metadata": {},
   "outputs": [],
   "source": [
    "connection = Connection()\n",
    "db = connection.recipe_db\n",
    "input_data = db.recipes_test_copy\n",
    "\n",
    "data = json.loads(json_util.dumps(input_data.find()))"
   ]
  },
  {
   "cell_type": "code",
   "execution_count": 5,
   "metadata": {},
   "outputs": [],
   "source": [
    "ing = pd.DataFrame(json_normalize(data, record_path='ingredients',\n",
    "                             meta='id', record_prefix='ingredients_', errors='ignore'))\n",
    "\n",
    "\n",
    "nutritions = pd.DataFrame(json_normalize(data, record_path='nutritions',\n",
    "                            meta=['id', 'prep_time', 'rating', 'rating_count', 'ready_in_time', 'review_count']))\n"
   ]
  },
  {
   "cell_type": "code",
   "execution_count": 6,
   "metadata": {},
   "outputs": [],
   "source": [
    "#ingredients\n",
    "#ingredients.loc[ingredients['id'] == 9380]"
   ]
  },
  {
   "cell_type": "code",
   "execution_count": 7,
   "metadata": {},
   "outputs": [],
   "source": [
    "#ingredients.loc[ingredients['ingredients_id'] == 2972]"
   ]
  },
  {
   "cell_type": "code",
   "execution_count": 8,
   "metadata": {},
   "outputs": [],
   "source": [
    "#  ------  erstellung und data cleansing - Ingredients\n",
    "\n",
    "# schmeiss alle zutaten raus, die weniger als 5 mal verwendet werden\n",
    "# setze multiinde auf 'id' und 'ingredients_id'\n",
    "ingredients = ing.set_index(['id', 'ingredients_id'])\n",
    "\n",
    "# filtere alle Zutaten samt ihrer rezepte id, die weniger gleich 5 mal vorkommen\n",
    "ingredients_eqles_5_ing = ingredients.groupby(\n",
    "    'ingredients_id').filter(lambda x: len(x) <= 5)\n",
    "\n",
    "# droppe alle rezepte, die eine Zutate besitzen, die weniger gleich 5 Mal vorkommen\n",
    "ingredients_filt = ingredients.drop(ingredients_eqles_5_ing.index.get_level_values('id').values, level=0)\n",
    "\n",
    "# drop alls rows with ingredients_id == 0\n",
    "ingredients_eqal_zero = ingredients_filt[ingredients_filt.index.get_level_values('ingredients_id') == 0]\n",
    "ingredients_filt = ingredients_filt.drop(ingredients_eqal_zero.index.get_level_values('id').values, level=0)\n"
   ]
  },
  {
   "cell_type": "code",
   "execution_count": 9,
   "metadata": {},
   "outputs": [],
   "source": [
    "#  ------ Erstellung und cleansing des Nutrition Dataframes\n",
    "\n",
    "# erstelle neue liste auf basis der bereits gefilterten rezepte aus ingredients_filt\n",
    "id_overlap_mask = nutritions['id'].isin(ingredients_filt.index.get_level_values('id').values)\n",
    "\n",
    "# erstelle datenframe auf basis der overlapliste\n",
    "nutritions_filt = nutritions.loc[id_overlap_mask]\n",
    "\n",
    "nutrition_db = nutritions_filt.pivot_table(\n",
    "    index=['id'],\n",
    "    columns=['name'],\n",
    "    values=['amount'],\n",
    ").reset_index()\n",
    "\n",
    "nutrition_db.set_index('id', inplace=True)\n",
    "\n",
    "# remove multiindex 'amount'\n",
    "nutrition_db.columns = nutrition_db.columns.droplevel(0)\n",
    "\n",
    "# entferne alle NA\n",
    "nutrition_db = nutrition_db.dropna()\n",
    "\n",
    "# gleiche nochmals die ids der beiden dataframe nutrition und ingredients ab, da der nutrition dataframe noch NA Werte hatt\n",
    "id_overlap_mask = ingredients_filt.index.get_level_values('id').isin(nutrition_db.index)\n",
    "ingredients_db = ingredients_filt[id_overlap_mask]\n",
    "\n",
    "# abgleich ob anzahl der indizes von nutrition und zutaten dataframe gleich sind\n"
   ]
  },
  {
   "cell_type": "code",
   "execution_count": 10,
   "metadata": {},
   "outputs": [
    {
     "data": {
      "text/plain": "4061"
     },
     "execution_count": 10,
     "metadata": {},
     "output_type": "execute_result"
    },
    {
     "data": {
      "text/plain": "4061"
     },
     "execution_count": 10,
     "metadata": {},
     "output_type": "execute_result"
    }
   ],
   "source": [
    "nutrition_db.index.nunique()\n",
    "ingredients_db.index.get_level_values('id').nunique()\n"
   ]
  },
  {
   "cell_type": "code",
   "execution_count": 11,
   "metadata": {},
   "outputs": [],
   "source": [
    "\n",
    "\n",
    "ingredients_db.reset_index(inplace=True)\n",
    "\n",
    "recipe_db = pd.get_dummies(ingredients_db['ingredients_id']).groupby(\n",
    "    ingredients_db['id']).apply(max)\n",
    "\n"
   ]
  },
  {
   "cell_type": "code",
   "execution_count": 12,
   "metadata": {},
   "outputs": [],
   "source": [
    "new_ingredients = ingredients_db.copy()\n",
    "#new_ingredients = new_ingredients.groupby(\"id\")[\"ingredients_grams\"].sum().reset_index()\n",
    "gramms_ingredients = new_ingredients.groupby(\"id\")[\"ingredients_grams\"].sum().reset_index().copy()\n",
    "\n",
    "Q1 = gramms_ingredients.quantile(0.25)\n",
    "Q3 = gramms_ingredients.quantile(0.75)\n",
    "IQR = Q3 - Q1\n",
    "\n",
    "#Filter out all recipes which are outlier by their weight (gramms)\n",
    "df = gramms_ingredients[~((gramms_ingredients < (Q1 - 1.5 * IQR)) |(gramms_ingredients > (Q3 + 1.5 * IQR))).any(axis=1)].copy()\n",
    "\n",
    "#filter out recipes by weight which are not in the range 500 - 2373.59 gramms\n",
    "df_start_at_fivehundret = df[df['ingredients_grams'].between(500, 2373.58225, inclusive=False)].copy()\n",
    "\n",
    "df_start_at_fivehundret.set_index('id', inplace=True)\n",
    "id_overlap_mask = nutritions['id'].isin(df_start_at_fivehundret.index.get_level_values('id').values)\n",
    "\n",
    "\n",
    "# erstelle datenframe auf basis der overlapliste\n",
    "nutritions_filt_gramm = nutritions.loc[id_overlap_mask]\n",
    "\n",
    "nutrition_db2 = nutritions_filt_gramm.pivot_table(\n",
    "    index=['id'],\n",
    "    columns=['name'],\n",
    "    values=['amount'],\n",
    ").reset_index()\n",
    "\n",
    "#create new nutrition db based on the above filtering\n",
    "nutrition_db2.set_index('id', inplace=True)\n",
    "nutrition_db2.columns = nutrition_db2.columns.droplevel(0)\n",
    "\n"
   ]
  },
  {
   "cell_type": "code",
   "execution_count": 13,
   "metadata": {},
   "outputs": [],
   "source": [
    "#select 20 random recipes which are between the Fat-range of 35-40 gramms\n",
    "subset_fat = nutrition_db2[(nutrition_db2['Fat'] >= 35) & (nutrition_db2['Fat'] <= 40)].sample(n=20).copy()\n",
    "\n",
    "subset_fat_20 = subset_fat.index.to_numpy()\n",
    "id_list = subset_fat_20.copy()"
   ]
  },
  {
   "cell_type": "code",
   "execution_count": 14,
   "metadata": {},
   "outputs": [],
   "source": [
    "subset_random = nutrition_db2.sample(n=10).copy()\n",
    "subset_random = subset_random.index.to_numpy()"
   ]
  },
  {
   "cell_type": "code",
   "execution_count": 15,
   "metadata": {},
   "outputs": [],
   "source": [
    "# remove recipes which are missing in nutrition df from the ingredients tecipes dataframe\n",
    "mask = recipe_db.index.isin(nutrition_db2.index.values)\n",
    "recipe_db = recipe_db.loc[mask]\n"
   ]
  },
  {
   "cell_type": "code",
   "execution_count": 16,
   "metadata": {},
   "outputs": [],
   "source": [
    "user_recipes = recipe_db[recipe_db.index.isin(id_list)]"
   ]
  },
  {
   "cell_type": "code",
   "execution_count": 17,
   "metadata": {},
   "outputs": [],
   "source": [
    "drop_id_list = [4342, 6307, 6494, 16157, 16278, 16421, 4397]\n",
    "\n",
    "#4342, 6307, 6494, 16157, 16278, 16421, 4397\n",
    "#garlic, olive oil, skinless bone less chicken breast, butter, milk, salt and pepper, onion\n",
    "#>= 5 mal vorkommen in der top 10 rezept liste"
   ]
  },
  {
   "cell_type": "code",
   "execution_count": 18,
   "metadata": {},
   "outputs": [],
   "source": [
    "#filter out ingredients which are too common and the recipes in the user profile from the recipes database\n",
    "new_recipe_db = recipe_db.drop(axis=1, labels=drop_id_list)\n",
    "new_recipe_db_wo_userrecipes = new_recipe_db.drop(axis=0, labels=subset_fat_20)\n"
   ]
  },
  {
   "cell_type": "code",
   "execution_count": 19,
   "metadata": {},
   "outputs": [],
   "source": [
    "#remove basic ingredients like garlic, olive oil, skinless bone less chicken breast, butter, milk, salt and pepper, onion\n",
    "new_user_recipes = user_recipes.drop(axis=1, labels=drop_id_list)"
   ]
  },
  {
   "cell_type": "code",
   "execution_count": 20,
   "metadata": {},
   "outputs": [
    {
     "data": {
      "text/html": "<div>\n<style scoped>\n    .dataframe tbody tr th:only-of-type {\n        vertical-align: middle;\n    }\n\n    .dataframe tbody tr th {\n        vertical-align: top;\n    }\n\n    .dataframe thead th {\n        text-align: right;\n    }\n</style>\n<table border=\"1\" class=\"dataframe\">\n  <thead>\n    <tr style=\"text-align: right;\">\n      <th></th>\n      <th>jaccard_distance_sum</th>\n    </tr>\n  </thead>\n  <tbody>\n    <tr>\n      <td>84044</td>\n      <td>0.83899</td>\n    </tr>\n    <tr>\n      <td>71291</td>\n      <td>0.84130</td>\n    </tr>\n    <tr>\n      <td>23849</td>\n      <td>0.85383</td>\n    </tr>\n    <tr>\n      <td>135645</td>\n      <td>0.85572</td>\n    </tr>\n    <tr>\n      <td>52464</td>\n      <td>0.85727</td>\n    </tr>\n    <tr>\n      <td>22353</td>\n      <td>0.85916</td>\n    </tr>\n    <tr>\n      <td>16388</td>\n      <td>0.86233</td>\n    </tr>\n    <tr>\n      <td>229277</td>\n      <td>0.86454</td>\n    </tr>\n    <tr>\n      <td>162690</td>\n      <td>0.86610</td>\n    </tr>\n    <tr>\n      <td>37076</td>\n      <td>0.86629</td>\n    </tr>\n  </tbody>\n</table>\n</div>",
      "text/plain": "        jaccard_distance_sum\n84044                0.83899\n71291                0.84130\n23849                0.85383\n135645               0.85572\n52464                0.85727\n22353                0.85916\n16388                0.86233\n229277               0.86454\n162690               0.86610\n37076                0.86629"
     },
     "execution_count": 20,
     "metadata": {},
     "output_type": "execute_result"
    }
   ],
   "source": [
    "## Jaccard - recipe to recipe similarity without any removal of basis ingredients and duplicate userrecipes\n",
    "\n",
    "result_array = cdist(user_recipes, recipe_db,'jaccard')\n",
    "result_wo_filter = pd.DataFrame(result_array, columns=recipe_db.index.values, index=user_recipes.index.values)\n",
    "# result_2\n",
    "\n",
    "result_wo_filter_10 = pd.DataFrame(result_wo_filter.sum(), columns=['jaccard_distance_sum'])\n",
    "result_wo_filter_10 = result_wo_filter_10.sort_values(by='jaccard_distance_sum')\n",
    "result_wo_filter_10['jaccard_distance_sum'] = result_wo_filter_10['jaccard_distance_sum'].div(20)\n",
    "result_wo_filter_10[0:10]\n"
   ]
  },
  {
   "cell_type": "code",
   "execution_count": 21,
   "metadata": {},
   "outputs": [
    {
     "data": {
      "text/plain": "0     23849\n1     84044\n2    229277\ndtype: int64"
     },
     "execution_count": 21,
     "metadata": {},
     "output_type": "execute_result"
    }
   ],
   "source": [
    "pd.Series(np.intersect1d(id_list,result_wo_filter_10[0:10].index.to_numpy()))\n"
   ]
  },
  {
   "cell_type": "code",
   "execution_count": 22,
   "metadata": {},
   "outputs": [
    {
     "data": {
      "text/html": "<div>\n<style scoped>\n    .dataframe tbody tr th:only-of-type {\n        vertical-align: middle;\n    }\n\n    .dataframe tbody tr th {\n        vertical-align: top;\n    }\n\n    .dataframe thead th {\n        text-align: right;\n    }\n</style>\n<table border=\"1\" class=\"dataframe\">\n  <thead>\n    <tr style=\"text-align: right;\">\n      <th></th>\n      <th>jaccard_distance_sum</th>\n    </tr>\n  </thead>\n  <tbody>\n    <tr>\n      <td>231233</td>\n      <td>0.89992</td>\n    </tr>\n    <tr>\n      <td>84044</td>\n      <td>0.90560</td>\n    </tr>\n    <tr>\n      <td>23849</td>\n      <td>0.90786</td>\n    </tr>\n    <tr>\n      <td>216026</td>\n      <td>0.91243</td>\n    </tr>\n    <tr>\n      <td>229277</td>\n      <td>0.91444</td>\n    </tr>\n    <tr>\n      <td>14735</td>\n      <td>0.91670</td>\n    </tr>\n    <tr>\n      <td>164208</td>\n      <td>0.91794</td>\n    </tr>\n    <tr>\n      <td>12562</td>\n      <td>0.91822</td>\n    </tr>\n    <tr>\n      <td>8693</td>\n      <td>0.91846</td>\n    </tr>\n    <tr>\n      <td>21541</td>\n      <td>0.91883</td>\n    </tr>\n  </tbody>\n</table>\n</div>",
      "text/plain": "        jaccard_distance_sum\n231233               0.89992\n84044                0.90560\n23849                0.90786\n216026               0.91243\n229277               0.91444\n14735                0.91670\n164208               0.91794\n12562                0.91822\n8693                 0.91846\n21541                0.91883"
     },
     "execution_count": 22,
     "metadata": {},
     "output_type": "execute_result"
    }
   ],
   "source": [
    "## Jaccard - recipe to recipe similarity without any removal of basis ingredients \n",
    "\n",
    "result_array = cdist(new_user_recipes, new_recipe_db,'jaccard')\n",
    "result_wo_basis_filter = pd.DataFrame(result_array, columns=new_recipe_db.index.values, index=new_user_recipes.index.values)\n",
    "# result_2\n",
    "\n",
    "result_wo_basis_filter_10 = pd.DataFrame(result_wo_basis_filter.sum(), columns=['jaccard_distance_sum'])\n",
    "result_wo_basis_filter_10 = result_wo_basis_filter_10.sort_values(by='jaccard_distance_sum')\n",
    "result_wo_basis_filter_10['jaccard_distance_sum'] = result_wo_basis_filter_10['jaccard_distance_sum'].div(20)\n",
    "result_wo_basis_filter_10[0:10]\n"
   ]
  },
  {
   "cell_type": "code",
   "execution_count": 23,
   "metadata": {},
   "outputs": [
    {
     "data": {
      "text/plain": "array([231233,  84044,  23849, 216026, 229277,  14735, 164208,  12562,\n         8693,  21541])"
     },
     "execution_count": 23,
     "metadata": {},
     "output_type": "execute_result"
    }
   ],
   "source": [
    "result_wo_basis_filter_10[0:10].index.to_numpy()"
   ]
  },
  {
   "cell_type": "code",
   "execution_count": 24,
   "metadata": {},
   "outputs": [
    {
     "data": {
      "text/plain": "array([ 86860,  18093,  18397,  20312, 231233, 164208,  23849,   8639,\n         8693,  14735,  84044, 216026, 231537, 219766,  48873, 169322,\n        12562,  70051, 229277, 237320])"
     },
     "execution_count": 24,
     "metadata": {},
     "output_type": "execute_result"
    }
   ],
   "source": [
    "id_list"
   ]
  },
  {
   "cell_type": "code",
   "execution_count": 25,
   "metadata": {},
   "outputs": [
    {
     "data": {
      "text/plain": "0      8693\n1     12562\n2     14735\n3     23849\n4     84044\n5    164208\n6    216026\n7    229277\n8    231233\ndtype: int64"
     },
     "execution_count": 25,
     "metadata": {},
     "output_type": "execute_result"
    }
   ],
   "source": [
    "pd.Series(np.intersect1d(id_list,result_wo_basis_filter_10[0:10].index.to_numpy()))\n"
   ]
  },
  {
   "cell_type": "code",
   "execution_count": 26,
   "metadata": {},
   "outputs": [
    {
     "data": {
      "text/html": "<div>\n<style scoped>\n    .dataframe tbody tr th:only-of-type {\n        vertical-align: middle;\n    }\n\n    .dataframe tbody tr th {\n        vertical-align: top;\n    }\n\n    .dataframe thead th {\n        text-align: right;\n    }\n</style>\n<table border=\"1\" class=\"dataframe\">\n  <thead>\n    <tr style=\"text-align: right;\">\n      <th></th>\n      <th>jaccard_distance_sum</th>\n    </tr>\n  </thead>\n  <tbody>\n    <tr>\n      <td>21541</td>\n      <td>0.91883</td>\n    </tr>\n    <tr>\n      <td>87025</td>\n      <td>0.92020</td>\n    </tr>\n    <tr>\n      <td>15196</td>\n      <td>0.92378</td>\n    </tr>\n    <tr>\n      <td>71291</td>\n      <td>0.92413</td>\n    </tr>\n    <tr>\n      <td>23058</td>\n      <td>0.92473</td>\n    </tr>\n    <tr>\n      <td>240619</td>\n      <td>0.92544</td>\n    </tr>\n    <tr>\n      <td>11832</td>\n      <td>0.92674</td>\n    </tr>\n    <tr>\n      <td>229994</td>\n      <td>0.93067</td>\n    </tr>\n    <tr>\n      <td>8691</td>\n      <td>0.93090</td>\n    </tr>\n    <tr>\n      <td>37784</td>\n      <td>0.93174</td>\n    </tr>\n  </tbody>\n</table>\n</div>",
      "text/plain": "        jaccard_distance_sum\n21541                0.91883\n87025                0.92020\n15196                0.92378\n71291                0.92413\n23058                0.92473\n240619               0.92544\n11832                0.92674\n229994               0.93067\n8691                 0.93090\n37784                0.93174"
     },
     "execution_count": 26,
     "metadata": {},
     "output_type": "execute_result"
    }
   ],
   "source": [
    "## Jaccard - recipe to recipe similarity with removal of basis ingredients and duplicate userrecipes\n",
    "\n",
    "result_array = cdist(new_user_recipes, new_recipe_db_wo_userrecipes,'jaccard')\n",
    "result_w_filter = pd.DataFrame(result_array, columns=new_recipe_db_wo_userrecipes.index.values, index=new_user_recipes.index.values)\n",
    "# result_2\n",
    "\n",
    "result_w_filter_10 = pd.DataFrame(result_w_filter.sum(), columns=['jaccard_distance_sum'])\n",
    "result_w_filter_10 = result_w_filter_10.sort_values(by='jaccard_distance_sum')\n",
    "result_w_filter_10['jaccard_distance_sum'] = result_w_filter_10['jaccard_distance_sum'].div(20)\n",
    "result_w_filter_10[0:10]\n"
   ]
  },
  {
   "cell_type": "code",
   "execution_count": 27,
   "metadata": {},
   "outputs": [
    {
     "data": {
      "text/plain": "array([ 21541,  87025,  15196,  71291,  23058, 240619,  11832, 229994,\n         8691,  37784])"
     },
     "execution_count": 27,
     "metadata": {},
     "output_type": "execute_result"
    }
   ],
   "source": [
    "result_w_filter_10[0:10].index.to_numpy()"
   ]
  },
  {
   "cell_type": "code",
   "execution_count": 28,
   "metadata": {},
   "outputs": [
    {
     "data": {
      "text/plain": "array([ 86860,  18093,  18397,  20312, 231233, 164208,  23849,   8639,\n         8693,  14735,  84044, 216026, 231537, 219766,  48873, 169322,\n        12562,  70051, 229277, 237320])"
     },
     "execution_count": 28,
     "metadata": {},
     "output_type": "execute_result"
    }
   ],
   "source": [
    "id_list"
   ]
  },
  {
   "cell_type": "code",
   "execution_count": 29,
   "metadata": {},
   "outputs": [
    {
     "data": {
      "text/plain": "Series([], dtype: int64)"
     },
     "execution_count": 29,
     "metadata": {},
     "output_type": "execute_result"
    }
   ],
   "source": [
    "pd.Series(np.intersect1d(id_list,result_w_filter_10[0:10].index.to_numpy()))\n"
   ]
  },
  {
   "cell_type": "code",
   "execution_count": 30,
   "metadata": {},
   "outputs": [],
   "source": [
    "#create one dimensional ingredients vector from user recipes profile\n",
    "user_one_vector = new_user_recipes.copy()\n",
    "user_one_vector.loc['sum',:]= user_one_vector.sum(axis=0)\n",
    "user_one_vector = user_one_vector.drop(axis=0, labels=subset_fat_20)\n",
    "user_one_vector[user_one_vector > 0] = 1"
   ]
  },
  {
   "cell_type": "code",
   "execution_count": 31,
   "metadata": {},
   "outputs": [
    {
     "data": {
      "text/plain": "0.00000    623\n1.00000    100\ndtype: int64"
     },
     "execution_count": 31,
     "metadata": {},
     "output_type": "execute_result"
    }
   ],
   "source": [
    "#show number of ingredients\n",
    "user_one_vector.apply(pd.value_counts).count(axis=1)"
   ]
  },
  {
   "cell_type": "code",
   "execution_count": 38,
   "metadata": {},
   "outputs": [
    {
     "data": {
      "text/html": "<div>\n<style scoped>\n    .dataframe tbody tr th:only-of-type {\n        vertical-align: middle;\n    }\n\n    .dataframe tbody tr th {\n        vertical-align: top;\n    }\n\n    .dataframe thead th {\n        text-align: right;\n    }\n</style>\n<table border=\"1\" class=\"dataframe\">\n  <thead>\n    <tr style=\"text-align: right;\">\n      <th></th>\n      <th>jaccard_distance_sum</th>\n    </tr>\n  </thead>\n  <tbody>\n    <tr>\n      <td>172958</td>\n      <td>0.88571</td>\n    </tr>\n    <tr>\n      <td>8697</td>\n      <td>0.89109</td>\n    </tr>\n    <tr>\n      <td>245362</td>\n      <td>0.89216</td>\n    </tr>\n    <tr>\n      <td>231396</td>\n      <td>0.89423</td>\n    </tr>\n    <tr>\n      <td>25300</td>\n      <td>0.90196</td>\n    </tr>\n    <tr>\n      <td>11688</td>\n      <td>0.90291</td>\n    </tr>\n    <tr>\n      <td>31988</td>\n      <td>0.90385</td>\n    </tr>\n    <tr>\n      <td>83083</td>\n      <td>0.90385</td>\n    </tr>\n    <tr>\n      <td>24085</td>\n      <td>0.90476</td>\n    </tr>\n    <tr>\n      <td>154183</td>\n      <td>0.90476</td>\n    </tr>\n    <tr>\n      <td>237807</td>\n      <td>0.90476</td>\n    </tr>\n    <tr>\n      <td>229289</td>\n      <td>0.90476</td>\n    </tr>\n    <tr>\n      <td>228446</td>\n      <td>0.90566</td>\n    </tr>\n    <tr>\n      <td>239867</td>\n      <td>0.90826</td>\n    </tr>\n    <tr>\n      <td>228680</td>\n      <td>0.91089</td>\n    </tr>\n    <tr>\n      <td>8758</td>\n      <td>0.91262</td>\n    </tr>\n    <tr>\n      <td>22729</td>\n      <td>0.91262</td>\n    </tr>\n    <tr>\n      <td>255038</td>\n      <td>0.91262</td>\n    </tr>\n    <tr>\n      <td>34413</td>\n      <td>0.91262</td>\n    </tr>\n    <tr>\n      <td>13905</td>\n      <td>0.91346</td>\n    </tr>\n  </tbody>\n</table>\n</div>",
      "text/plain": "        jaccard_distance_sum\n172958               0.88571\n8697                 0.89109\n245362               0.89216\n231396               0.89423\n25300                0.90196\n11688                0.90291\n31988                0.90385\n83083                0.90385\n24085                0.90476\n154183               0.90476\n237807               0.90476\n229289               0.90476\n228446               0.90566\n239867               0.90826\n228680               0.91089\n8758                 0.91262\n22729                0.91262\n255038               0.91262\n34413                0.91262\n13905                0.91346"
     },
     "execution_count": 38,
     "metadata": {},
     "output_type": "execute_result"
    }
   ],
   "source": [
    "## Jaccard - user vector to recipe similarity with removal of basis ingredients and duplicate userrecipes\n",
    "\n",
    "result_array = cdist(user_one_vector, new_recipe_db_wo_userrecipes,'jaccard')\n",
    "result_w_filter_vector = pd.DataFrame(result_array, columns=new_recipe_db_wo_userrecipes.index.values, index=user_one_vector.index.values)\n",
    "\n",
    "\n",
    "result_w_filter_vector_10 = pd.DataFrame(result_w_filter_vector.sum(), columns=['jaccard_distance_sum'])\n",
    "result_w_filter_vector_10 = result_w_filter_vector_10.sort_values(by='jaccard_distance_sum')\n",
    "\n",
    "result_w_filter_vector_10[0:20]\n"
   ]
  },
  {
   "cell_type": "code",
   "execution_count": 33,
   "metadata": {},
   "outputs": [
    {
     "data": {
      "text/plain": "Series([], dtype: int64)"
     },
     "execution_count": 33,
     "metadata": {},
     "output_type": "execute_result"
    }
   ],
   "source": [
    "pd.Series(np.intersect1d(id_list, result_w_filter_vector_10[0:10].index.to_numpy()))\n"
   ]
  },
  {
   "cell_type": "code",
   "execution_count": 37,
   "metadata": {},
   "outputs": [
    {
     "data": {
      "text/plain": "array([172958,   8697, 245362, 231396,  25300,  11688,  31988,  83083,\n        24085, 154183, 237807, 229289, 228446, 239867, 228680,   8758,\n        22729, 255038,  34413,  13905])"
     },
     "execution_count": 37,
     "metadata": {},
     "output_type": "execute_result"
    }
   ],
   "source": [
    "result_w_filter_vector_10[0:20].index.to_numpy()"
   ]
  },
  {
   "cell_type": "code",
   "execution_count": 35,
   "metadata": {},
   "outputs": [
    {
     "data": {
      "text/plain": "array([ 86860,  18093,  18397,  20312, 231233, 164208,  23849,   8639,\n         8693,  14735,  84044, 216026, 231537, 219766,  48873, 169322,\n        12562,  70051, 229277, 237320])"
     },
     "execution_count": 35,
     "metadata": {},
     "output_type": "execute_result"
    }
   ],
   "source": [
    "id_list"
   ]
  },
  {
   "cell_type": "code",
   "execution_count": 36,
   "metadata": {},
   "outputs": [
    {
     "ename": "NameError",
     "evalue": "name 'user_nutrition' is not defined",
     "output_type": "error",
     "traceback": [
      "\u001b[0;31m---------------------------------------------------------------------------\u001b[0m",
      "\u001b[0;31mNameError\u001b[0m                                 Traceback (most recent call last)",
      "\u001b[0;32m<ipython-input-36-2e1b73854753>\u001b[0m in \u001b[0;36m<module>\u001b[0;34m\u001b[0m\n\u001b[1;32m     66\u001b[0m     1]\n\u001b[1;32m     67\u001b[0m \u001b[0;34m\u001b[0m\u001b[0m\n\u001b[0;32m---> 68\u001b[0;31m \u001b[0mresult_array\u001b[0m \u001b[0;34m=\u001b[0m \u001b[0mcdist\u001b[0m\u001b[0;34m(\u001b[0m\u001b[0muser_nutrition\u001b[0m\u001b[0;34m,\u001b[0m \u001b[0mnutrition_db\u001b[0m\u001b[0;34m,\u001b[0m \u001b[0;34m'minkowski'\u001b[0m\u001b[0;34m,\u001b[0m \u001b[0mp\u001b[0m\u001b[0;34m=\u001b[0m\u001b[0;36m2\u001b[0m\u001b[0;34m,\u001b[0m \u001b[0mw\u001b[0m\u001b[0;34m=\u001b[0m\u001b[0mrec_2\u001b[0m\u001b[0;34m)\u001b[0m\u001b[0;34m\u001b[0m\u001b[0;34m\u001b[0m\u001b[0m\n\u001b[0m\u001b[1;32m     69\u001b[0m \u001b[0;31m# result_array = cdist(user_nutrition, nutrition_db,'minkowski', p = 2)\u001b[0m\u001b[0;34m\u001b[0m\u001b[0;34m\u001b[0m\u001b[0;34m\u001b[0m\u001b[0m\n\u001b[1;32m     70\u001b[0m euclid_distance = pd.DataFrame(\n",
      "\u001b[0;31mNameError\u001b[0m: name 'user_nutrition' is not defined"
     ]
    }
   ],
   "source": [
    "# Euklidische Distanz - rezept zu rezept vergelich\n",
    "# minkowski(u, v, p=2, w=None)\n",
    "# rec = []\n",
    "# rec = {\n",
    "#     \"Calcium\":[1],\n",
    "#     \"Calories\":[1],\n",
    "#     \"Calories from Fat\":[1],\n",
    "#     \"Carbohydrates\":[1],\n",
    "#     \"Cholesterol\":[1],\n",
    "#     \"Dietary Fiber\":[1],\n",
    "#     \"Fat\":[1],\n",
    "#     \"Folate\":[1],\n",
    "#     \"Iron\":[1],\n",
    "#     \"Magnesium\":[1],\n",
    "#     \"Niacin Equivalents\":[1],\n",
    "#     \"Potassium\":[1],\n",
    "#     \"Protein\":[1],\n",
    "#     \"Saturated Fat\":[1],\n",
    "#     \"Sodium\":[1],\n",
    "#     \"Sugars\":[1],\n",
    "#     \"Thiamin\":[1],\n",
    "#     \"Vitamin A - IU\":[1],\n",
    "#     \"Vitamin B6\":[1],\n",
    "#     \"Vitamin C\":[1]}\n",
    "\n",
    "rec_2 = [\n",
    "    # \"Calcium\":[1],\n",
    "    1,\n",
    "    # \"Calories\":[1],\n",
    "    1,\n",
    "    # \"Calories from Fat\":[1],\n",
    "    1,\n",
    "    # \"Carbohydrates\":[1],\n",
    "    1,\n",
    "    # \"Cholesterol\":[1],\n",
    "    1,\n",
    "    # \"Dietary Fiber\t\":[1],\n",
    "    1,\n",
    "    # \"Fat\":[1],\n",
    "    1,\n",
    "    # \"Folate\":[1],\n",
    "    1,\n",
    "    # \"Iron\":[1],\n",
    "    1,\n",
    "    # \"Magnesium\":[1],\n",
    "    1,\n",
    "    # \"Niacin Equivalents\":[1],\n",
    "    1,\n",
    "    # \"Potassium\":[1],\n",
    "    1,\n",
    "    # \"Protein\":[1],\n",
    "    1,\n",
    "    # \"Saturated Fat\":[1],\n",
    "    1,\n",
    "    # \"Sodium\":[1],\n",
    "    1,\n",
    "    # \"Sugars\":[1],\n",
    "    1,\n",
    "    # \"Thiamin\":[1],\n",
    "    1,\n",
    "    # \"Vitamin A - IU\":[1],\n",
    "    1,\n",
    "    # \"Vitamin B6\":[1],\n",
    "    1,\n",
    "    # \"Vitamin C\":[1]}\n",
    "    1]\n",
    "\n",
    "result_array = cdist(user_nutrition, nutrition_db, 'minkowski', p=2, w=rec_2)\n",
    "# result_array = cdist(user_nutrition, nutrition_db,'minkowski', p = 2)\n",
    "euclid_distance = pd.DataFrame(\n",
    "    result_array, columns=nutrition_db.index.values, index=user_nutrition.index.values)\n",
    "\n",
    "euclid_distance_sum = pd.DataFrame(\n",
    "    euclid_distance.sum(), columns=['euclid_distance_sum'])\n",
    "euclid_distance_sum = euclid_distance_sum.sort_values(by='euclid_distance_sum')\n",
    "euclid_distance_sum"
   ]
  }
 ]
}