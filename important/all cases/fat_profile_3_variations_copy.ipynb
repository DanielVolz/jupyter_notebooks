{
 "nbformat": 4,
 "nbformat_minor": 2,
 "metadata": {
  "language_info": {
   "name": "python",
   "codemirror_mode": {
    "name": "ipython",
    "version": 3
   },
   "version": "3.7.6-final"
  },
  "orig_nbformat": 2,
  "file_extension": ".py",
  "mimetype": "text/x-python",
  "name": "python",
  "npconvert_exporter": "python",
  "pygments_lexer": "ipython3",
  "version": 3,
  "kernelspec": {
   "name": "python3",
   "display_name": "Python 3"
  }
 },
 "cells": [
  {
   "cell_type": "code",
   "execution_count": 1,
   "metadata": {},
   "outputs": [],
   "source": [
    "import json\n",
    "\n",
    "import numpy as np\n",
    "import pandas as pd\n",
    "import pymongo\n",
    "import scipy\n",
    "from bson import ObjectId, json_util\n",
    "from pandas.io.json import json_normalize\n",
    "from pymongo import MongoClient as Connection\n",
    "from scipy import sparse, spatial\n",
    "from scipy.spatial.distance import cdist, pdist, squareform\n",
    "from sklearn.metrics.pairwise import cosine_similarity\n",
    "\n",
    "# scientific notation disabled form smaller numbers\n",
    "pd.options.display.float_format = '{:.5f}'.format\n",
    "\n",
    "# alles resultate anzeigen und nicht nur das letzte\n",
    "from IPython.core.interactiveshell import InteractiveShell\n",
    "InteractiveShell.ast_node_interactivity = \"all\"\n",
    "\n"
   ]
  },
  {
   "cell_type": "code",
   "execution_count": 2,
   "metadata": {},
   "outputs": [
    {
     "data": {
      "text/html": "<style>\n.output {\n    flex-direction: row;\n}\n</style>",
      "text/plain": "<IPython.core.display.HTML object>"
     },
     "execution_count": 2,
     "metadata": {},
     "output_type": "execute_result"
    }
   ],
   "source": [
    "# display multiple outputs in one row\n",
    "import pandas as pd\n",
    "import numpy as np\n",
    "from IPython.display import display, HTML\n",
    "\n",
    "CSS = \"\"\"\n",
    ".output {\n",
    "    flex-direction: row;\n",
    "}\n",
    "\"\"\"\n",
    "\n",
    "HTML('<style>{}</style>'.format(CSS))"
   ]
  },
  {
   "cell_type": "code",
   "execution_count": 3,
   "metadata": {},
   "outputs": [],
   "source": [
    "connection = Connection()\n",
    "db = connection.recipe_db\n",
    "input_data = db.recipes_test_copy\n",
    "\n",
    "data = json.loads(json_util.dumps(input_data.find()))"
   ]
  },
  {
   "cell_type": "code",
   "execution_count": 4,
   "metadata": {},
   "outputs": [],
   "source": [
    "ing = pd.DataFrame(json_normalize(data, record_path='ingredients',\n",
    "                             meta='id', record_prefix='ingredients_', errors='ignore'))\n",
    "\n",
    "\n",
    "nutritions = pd.DataFrame(json_normalize(data, record_path='nutritions',\n",
    "                            meta=['id', 'prep_time', 'rating', 'rating_count', 'ready_in_time', 'review_count']))\n"
   ]
  },
  {
   "cell_type": "code",
   "execution_count": 5,
   "metadata": {},
   "outputs": [],
   "source": [
    "#ingredients\n",
    "#ingredients.loc[ingredients['id'] == 9380]"
   ]
  },
  {
   "cell_type": "code",
   "execution_count": 6,
   "metadata": {},
   "outputs": [],
   "source": [
    "#ingredients.loc[ingredients['ingredients_id'] == 2972]"
   ]
  },
  {
   "cell_type": "code",
   "execution_count": 7,
   "metadata": {},
   "outputs": [],
   "source": [
    "#  ------  erstellung und data cleansing - Ingredients\n",
    "\n",
    "# schmeiss alle zutaten raus, die weniger als 5 mal verwendet werden\n",
    "# setze multiinde auf 'id' und 'ingredients_id'\n",
    "ingredients = ing.set_index(['id', 'ingredients_id'])\n",
    "\n",
    "# filtere alle Zutaten samt ihrer rezepte id, die weniger gleich 5 mal vorkommen\n",
    "ingredients_eqles_5_ing = ingredients.groupby(\n",
    "    'ingredients_id').filter(lambda x: len(x) <= 5)\n",
    "\n",
    "# droppe alle rezepte, die eine Zutate besitzen, die weniger gleich 5 Mal vorkommen\n",
    "ingredients_filt = ingredients.drop(ingredients_eqles_5_ing.index.get_level_values('id').values, level=0)\n",
    "\n",
    "# drop alls rows with ingredients_id == 0\n",
    "ingredients_eqal_zero = ingredients_filt[ingredients_filt.index.get_level_values('ingredients_id') == 0]\n",
    "ingredients_filt = ingredients_filt.drop(ingredients_eqal_zero.index.get_level_values('id').values, level=0)\n"
   ]
  },
  {
   "cell_type": "code",
   "execution_count": 8,
   "metadata": {},
   "outputs": [],
   "source": [
    "#  ------ Erstellung und cleansing des Nutrition Dataframes\n",
    "\n",
    "# erstelle neue liste auf basis der bereits gefilterten rezepte aus ingredients_filt\n",
    "id_overlap_mask = nutritions['id'].isin(ingredients_filt.index.get_level_values('id').values)\n",
    "\n",
    "# erstelle datenframe auf basis der overlapliste\n",
    "nutritions_filt = nutritions.loc[id_overlap_mask]\n",
    "\n",
    "nutrition_db = nutritions_filt.pivot_table(\n",
    "    index=['id'],\n",
    "    columns=['name'],\n",
    "    values=['amount'],\n",
    ").reset_index()\n",
    "\n",
    "nutrition_db.set_index('id', inplace=True)\n",
    "\n",
    "# remove multiindex 'amount'\n",
    "nutrition_db.columns = nutrition_db.columns.droplevel(0)\n",
    "\n",
    "# entferne alle NA\n",
    "nutrition_db = nutrition_db.dropna()\n",
    "\n",
    "# gleiche nochmals die ids der beiden dataframe nutrition und ingredients ab, da der nutrition dataframe noch NA Werte hatt\n",
    "id_overlap_mask = ingredients_filt.index.get_level_values('id').isin(nutrition_db.index)\n",
    "ingredients_db = ingredients_filt[id_overlap_mask]\n",
    "\n",
    "# abgleich ob anzahl der indizes von nutrition und zutaten dataframe gleich sind\n"
   ]
  },
  {
   "cell_type": "code",
   "execution_count": 9,
   "metadata": {},
   "outputs": [
    {
     "data": {
      "text/plain": "4061"
     },
     "execution_count": 9,
     "metadata": {},
     "output_type": "execute_result"
    },
    {
     "data": {
      "text/plain": "4061"
     },
     "execution_count": 9,
     "metadata": {},
     "output_type": "execute_result"
    }
   ],
   "source": [
    "nutrition_db.index.nunique()\n",
    "ingredients_db.index.get_level_values('id').nunique()\n"
   ]
  },
  {
   "cell_type": "code",
   "execution_count": 10,
   "metadata": {},
   "outputs": [
    {
     "data": {
      "text/plain": "0          59661\n1          59661\n2          59661\n3          59661\n4          59661\n           ...  \n126075    244188\n126076    244188\n126077    244188\n126078    244188\n126079    244188\nName: id, Length: 126080, dtype: object"
     },
     "execution_count": 10,
     "metadata": {},
     "output_type": "execute_result"
    }
   ],
   "source": [
    "nutritions['id']"
   ]
  },
  {
   "cell_type": "code",
   "execution_count": 11,
   "metadata": {},
   "outputs": [],
   "source": [
    "\n",
    "\n",
    "ingredients_db.reset_index(inplace=True)\n",
    "\n",
    "recipe_db = pd.get_dummies(ingredients_db['ingredients_id']).groupby(\n",
    "    ingredients_db['id']).apply(max)\n",
    "\n"
   ]
  },
  {
   "cell_type": "code",
   "execution_count": 12,
   "metadata": {},
   "outputs": [],
   "source": [
    "new_ingredients = ingredients_db.copy()\n",
    "#new_ingredients = new_ingredients.groupby(\"id\")[\"ingredients_grams\"].sum().reset_index()\n",
    "gramms_ingredients = new_ingredients.groupby(\"id\")[\"ingredients_grams\"].sum().reset_index().copy()\n",
    "\n",
    "Q1 = gramms_ingredients.quantile(0.25)\n",
    "Q3 = gramms_ingredients.quantile(0.75)\n",
    "IQR = Q3 - Q1\n",
    "\n",
    "#Filter out all recipes which are outlier by their weight (gramms)\n",
    "df = gramms_ingredients[~((gramms_ingredients < (Q1 - 1.5 * IQR)) |(gramms_ingredients > (Q3 + 1.5 * IQR))).any(axis=1)].copy()\n",
    "\n",
    "#filter out recipes by weight which are not in the range 500 - 2373.59 gramms\n",
    "df_start_at_fivehundret = df[df['ingredients_grams'].between(500, 2373.58225, inclusive=False)].copy()\n",
    "\n",
    "df_start_at_fivehundret.set_index('id', inplace=True)\n",
    "id_overlap_mask = nutritions['id'].isin(df_start_at_fivehundret.index.get_level_values('id').values)\n",
    "\n",
    "\n",
    "# erstelle datenframe auf basis der overlapliste\n",
    "nutritions_filt_gramm = nutritions.loc[id_overlap_mask]\n",
    "\n",
    "nutrition_db2 = nutritions_filt_gramm.pivot_table(\n",
    "    index=['id'],\n",
    "    columns=['name'],\n",
    "    values=['amount'],\n",
    ").reset_index()\n",
    "\n",
    "#create new nutrition db based on the above filtering\n",
    "nutrition_db2.set_index('id', inplace=True)\n",
    "nutrition_db2.columns = nutrition_db2.columns.droplevel(0)\n",
    "\n"
   ]
  },
  {
   "cell_type": "code",
   "execution_count": 199,
   "metadata": {},
   "outputs": [],
   "source": [
    "#select 20 random recipes which are between the Fat-range of 35-40 gramms\n",
    "subset_fat = nutrition_db2[(nutrition_db2['Fat'] >= 35) & (nutrition_db2['Fat'] <= 40)].sample(n=20).copy()\n",
    "\n",
    "subset_fat_id = subset_fat.index.to_numpy()\n"
   ]
  },
  {
   "cell_type": "code",
   "execution_count": 200,
   "metadata": {},
   "outputs": [
    {
     "data": {
      "text/html": "<div>\n<style scoped>\n    .dataframe tbody tr th:only-of-type {\n        vertical-align: middle;\n    }\n\n    .dataframe tbody tr th {\n        vertical-align: top;\n    }\n\n    .dataframe thead th {\n        text-align: right;\n    }\n</style>\n<table border=\"1\" class=\"dataframe\">\n  <thead>\n    <tr style=\"text-align: right;\">\n      <th>name</th>\n      <th>Calcium</th>\n      <th>Calories</th>\n      <th>Calories from Fat</th>\n      <th>Carbohydrates</th>\n      <th>Cholesterol</th>\n      <th>Dietary Fiber</th>\n      <th>Fat</th>\n      <th>Folate</th>\n      <th>Iron</th>\n      <th>Magnesium</th>\n      <th>Niacin Equivalents</th>\n      <th>Potassium</th>\n      <th>Protein</th>\n      <th>Saturated Fat</th>\n      <th>Sodium</th>\n      <th>Sugars</th>\n      <th>Thiamin</th>\n      <th>Vitamin A - IU</th>\n      <th>Vitamin B6</th>\n      <th>Vitamin C</th>\n    </tr>\n  </thead>\n  <tbody>\n    <tr>\n      <td>count</td>\n      <td>20.00000</td>\n      <td>20.00000</td>\n      <td>20.00000</td>\n      <td>20.00000</td>\n      <td>20.00000</td>\n      <td>20.00000</td>\n      <td>20.00000</td>\n      <td>20.00000</td>\n      <td>20.00000</td>\n      <td>20.00000</td>\n      <td>20.00000</td>\n      <td>20.00000</td>\n      <td>20.00000</td>\n      <td>20.00000</td>\n      <td>20.00000</td>\n      <td>20.00000</td>\n      <td>20.00000</td>\n      <td>20.00000</td>\n      <td>20.00000</td>\n      <td>20.00000</td>\n    </tr>\n    <tr>\n      <td>mean</td>\n      <td>217.48873</td>\n      <td>609.54474</td>\n      <td>330.09607</td>\n      <td>33.57968</td>\n      <td>137.72264</td>\n      <td>2.26831</td>\n      <td>36.67734</td>\n      <td>51.14367</td>\n      <td>3.01907</td>\n      <td>56.94197</td>\n      <td>15.69682</td>\n      <td>591.20307</td>\n      <td>35.80749</td>\n      <td>15.49787</td>\n      <td>1154.64603</td>\n      <td>11.38103</td>\n      <td>0.45136</td>\n      <td>1139.96369</td>\n      <td>0.64947</td>\n      <td>13.59643</td>\n    </tr>\n    <tr>\n      <td>std</td>\n      <td>193.58192</td>\n      <td>140.28993</td>\n      <td>8.78791</td>\n      <td>32.25752</td>\n      <td>49.32740</td>\n      <td>2.51251</td>\n      <td>0.97643</td>\n      <td>53.40865</td>\n      <td>1.99419</td>\n      <td>23.62967</td>\n      <td>7.98455</td>\n      <td>257.21866</td>\n      <td>12.21169</td>\n      <td>4.86165</td>\n      <td>657.63432</td>\n      <td>23.52717</td>\n      <td>0.49112</td>\n      <td>1333.99580</td>\n      <td>0.33071</td>\n      <td>19.10575</td>\n    </tr>\n    <tr>\n      <td>min</td>\n      <td>37.82000</td>\n      <td>461.03810</td>\n      <td>316.32090</td>\n      <td>2.21908</td>\n      <td>60.04000</td>\n      <td>0.00000</td>\n      <td>35.14676</td>\n      <td>6.08000</td>\n      <td>0.76233</td>\n      <td>29.78105</td>\n      <td>7.12813</td>\n      <td>273.21790</td>\n      <td>16.83116</td>\n      <td>6.11953</td>\n      <td>222.99830</td>\n      <td>0.09294</td>\n      <td>0.01793</td>\n      <td>193.29330</td>\n      <td>0.21252</td>\n      <td>0.07625</td>\n    </tr>\n    <tr>\n      <td>25%</td>\n      <td>69.79853</td>\n      <td>492.83783</td>\n      <td>322.35107</td>\n      <td>7.55662</td>\n      <td>100.19257</td>\n      <td>0.51576</td>\n      <td>35.81679</td>\n      <td>17.08777</td>\n      <td>1.74555</td>\n      <td>40.19062</td>\n      <td>10.46881</td>\n      <td>368.56598</td>\n      <td>26.99913</td>\n      <td>11.99563</td>\n      <td>755.47642</td>\n      <td>1.19676</td>\n      <td>0.11392</td>\n      <td>360.97500</td>\n      <td>0.40588</td>\n      <td>2.41172</td>\n    </tr>\n    <tr>\n      <td>50%</td>\n      <td>127.44295</td>\n      <td>571.61660</td>\n      <td>331.64380</td>\n      <td>26.60258</td>\n      <td>153.47325</td>\n      <td>1.45910</td>\n      <td>36.84932</td>\n      <td>28.87129</td>\n      <td>2.85558</td>\n      <td>52.94833</td>\n      <td>13.57014</td>\n      <td>523.55045</td>\n      <td>34.16740</td>\n      <td>14.99472</td>\n      <td>1125.45050</td>\n      <td>2.80224</td>\n      <td>0.16894</td>\n      <td>795.44290</td>\n      <td>0.62013</td>\n      <td>7.30208</td>\n    </tr>\n    <tr>\n      <td>75%</td>\n      <td>312.28233</td>\n      <td>700.44155</td>\n      <td>336.81705</td>\n      <td>48.91836</td>\n      <td>171.81152</td>\n      <td>2.91781</td>\n      <td>37.42411</td>\n      <td>71.77647</td>\n      <td>3.71495</td>\n      <td>64.29415</td>\n      <td>19.16338</td>\n      <td>747.86930</td>\n      <td>43.95483</td>\n      <td>18.89772</td>\n      <td>1528.65325</td>\n      <td>9.71889</td>\n      <td>0.70234</td>\n      <td>1294.31050</td>\n      <td>0.74875</td>\n      <td>14.66976</td>\n    </tr>\n    <tr>\n      <td>max</td>\n      <td>708.43200</td>\n      <td>905.35500</td>\n      <td>345.89150</td>\n      <td>107.07330</td>\n      <td>212.22070</td>\n      <td>9.47687</td>\n      <td>38.43239</td>\n      <td>207.93860</td>\n      <td>9.38980</td>\n      <td>134.55390</td>\n      <td>42.04708</td>\n      <td>1193.16200</td>\n      <td>69.14301</td>\n      <td>23.50516</td>\n      <td>3117.70600</td>\n      <td>104.81810</td>\n      <td>1.68185</td>\n      <td>6331.44300</td>\n      <td>1.48080</td>\n      <td>77.86107</td>\n    </tr>\n  </tbody>\n</table>\n</div>",
      "text/plain": "name    Calcium  Calories  Calories from Fat  Carbohydrates  Cholesterol  \\\ncount  20.00000  20.00000           20.00000       20.00000     20.00000   \nmean  217.48873 609.54474          330.09607       33.57968    137.72264   \nstd   193.58192 140.28993            8.78791       32.25752     49.32740   \nmin    37.82000 461.03810          316.32090        2.21908     60.04000   \n25%    69.79853 492.83783          322.35107        7.55662    100.19257   \n50%   127.44295 571.61660          331.64380       26.60258    153.47325   \n75%   312.28233 700.44155          336.81705       48.91836    171.81152   \nmax   708.43200 905.35500          345.89150      107.07330    212.22070   \n\nname   Dietary Fiber      Fat    Folate     Iron  Magnesium  \\\ncount       20.00000 20.00000  20.00000 20.00000   20.00000   \nmean         2.26831 36.67734  51.14367  3.01907   56.94197   \nstd          2.51251  0.97643  53.40865  1.99419   23.62967   \nmin          0.00000 35.14676   6.08000  0.76233   29.78105   \n25%          0.51576 35.81679  17.08777  1.74555   40.19062   \n50%          1.45910 36.84932  28.87129  2.85558   52.94833   \n75%          2.91781 37.42411  71.77647  3.71495   64.29415   \nmax          9.47687 38.43239 207.93860  9.38980  134.55390   \n\nname   Niacin Equivalents  Potassium  Protein  Saturated Fat     Sodium  \\\ncount            20.00000   20.00000 20.00000       20.00000   20.00000   \nmean             15.69682  591.20307 35.80749       15.49787 1154.64603   \nstd               7.98455  257.21866 12.21169        4.86165  657.63432   \nmin               7.12813  273.21790 16.83116        6.11953  222.99830   \n25%              10.46881  368.56598 26.99913       11.99563  755.47642   \n50%              13.57014  523.55045 34.16740       14.99472 1125.45050   \n75%              19.16338  747.86930 43.95483       18.89772 1528.65325   \nmax              42.04708 1193.16200 69.14301       23.50516 3117.70600   \n\nname     Sugars  Thiamin  Vitamin A - IU  Vitamin B6  Vitamin C  \ncount  20.00000 20.00000        20.00000    20.00000   20.00000  \nmean   11.38103  0.45136      1139.96369     0.64947   13.59643  \nstd    23.52717  0.49112      1333.99580     0.33071   19.10575  \nmin     0.09294  0.01793       193.29330     0.21252    0.07625  \n25%     1.19676  0.11392       360.97500     0.40588    2.41172  \n50%     2.80224  0.16894       795.44290     0.62013    7.30208  \n75%     9.71889  0.70234      1294.31050     0.74875   14.66976  \nmax   104.81810  1.68185      6331.44300     1.48080   77.86107  "
     },
     "execution_count": 200,
     "metadata": {},
     "output_type": "execute_result"
    }
   ],
   "source": [
    "subset_fat.describe()"
   ]
  },
  {
   "cell_type": "code",
   "execution_count": 202,
   "metadata": {},
   "outputs": [],
   "source": [
    "subset_normal = nutrition_db2.sample(n=20).copy()\n",
    "subset_normal_id = subset_normal.index.to_numpy()"
   ]
  },
  {
   "cell_type": "code",
   "execution_count": 204,
   "metadata": {},
   "outputs": [
    {
     "data": {
      "text/html": "<div>\n<style scoped>\n    .dataframe tbody tr th:only-of-type {\n        vertical-align: middle;\n    }\n\n    .dataframe tbody tr th {\n        vertical-align: top;\n    }\n\n    .dataframe thead th {\n        text-align: right;\n    }\n</style>\n<table border=\"1\" class=\"dataframe\">\n  <thead>\n    <tr style=\"text-align: right;\">\n      <th>name</th>\n      <th>Calcium</th>\n      <th>Calories</th>\n      <th>Calories from Fat</th>\n      <th>Carbohydrates</th>\n      <th>Cholesterol</th>\n      <th>Dietary Fiber</th>\n      <th>Fat</th>\n      <th>Folate</th>\n      <th>Iron</th>\n      <th>Magnesium</th>\n      <th>Niacin Equivalents</th>\n      <th>Potassium</th>\n      <th>Protein</th>\n      <th>Saturated Fat</th>\n      <th>Sodium</th>\n      <th>Sugars</th>\n      <th>Thiamin</th>\n      <th>Vitamin A - IU</th>\n      <th>Vitamin B6</th>\n      <th>Vitamin C</th>\n    </tr>\n  </thead>\n  <tbody>\n    <tr>\n      <td>count</td>\n      <td>20.00000</td>\n      <td>20.00000</td>\n      <td>20.00000</td>\n      <td>20.00000</td>\n      <td>20.00000</td>\n      <td>20.00000</td>\n      <td>20.00000</td>\n      <td>20.00000</td>\n      <td>20.00000</td>\n      <td>20.00000</td>\n      <td>20.00000</td>\n      <td>20.00000</td>\n      <td>20.00000</td>\n      <td>20.00000</td>\n      <td>20.00000</td>\n      <td>20.00000</td>\n      <td>20.00000</td>\n      <td>20.00000</td>\n      <td>20.00000</td>\n      <td>20.00000</td>\n    </tr>\n    <tr>\n      <td>mean</td>\n      <td>132.85827</td>\n      <td>385.95645</td>\n      <td>181.60761</td>\n      <td>23.69738</td>\n      <td>87.05815</td>\n      <td>1.97484</td>\n      <td>20.17862</td>\n      <td>43.98828</td>\n      <td>2.57912</td>\n      <td>49.26250</td>\n      <td>11.67466</td>\n      <td>505.01168</td>\n      <td>26.41286</td>\n      <td>7.33201</td>\n      <td>768.06263</td>\n      <td>5.24918</td>\n      <td>0.23131</td>\n      <td>1087.17806</td>\n      <td>0.46982</td>\n      <td>11.43423</td>\n    </tr>\n    <tr>\n      <td>std</td>\n      <td>116.35727</td>\n      <td>136.70025</td>\n      <td>101.96627</td>\n      <td>18.64182</td>\n      <td>46.63282</td>\n      <td>2.16963</td>\n      <td>11.32959</td>\n      <td>33.96273</td>\n      <td>1.28129</td>\n      <td>35.04222</td>\n      <td>5.54857</td>\n      <td>229.59552</td>\n      <td>10.14185</td>\n      <td>5.36463</td>\n      <td>415.56784</td>\n      <td>5.65418</td>\n      <td>0.21594</td>\n      <td>2089.23129</td>\n      <td>0.30043</td>\n      <td>13.94517</td>\n    </tr>\n    <tr>\n      <td>min</td>\n      <td>13.66963</td>\n      <td>150.13250</td>\n      <td>15.39000</td>\n      <td>0.15506</td>\n      <td>0.00000</td>\n      <td>0.00000</td>\n      <td>1.71000</td>\n      <td>5.14774</td>\n      <td>0.58782</td>\n      <td>12.79541</td>\n      <td>3.13676</td>\n      <td>177.86040</td>\n      <td>6.32874</td>\n      <td>0.34200</td>\n      <td>142.68590</td>\n      <td>0.00000</td>\n      <td>0.00055</td>\n      <td>3.43000</td>\n      <td>0.10839</td>\n      <td>0.00000</td>\n    </tr>\n    <tr>\n      <td>25%</td>\n      <td>44.95076</td>\n      <td>305.74935</td>\n      <td>130.19088</td>\n      <td>6.40123</td>\n      <td>50.04688</td>\n      <td>0.27648</td>\n      <td>14.46565</td>\n      <td>20.16587</td>\n      <td>1.61308</td>\n      <td>28.83570</td>\n      <td>7.75324</td>\n      <td>350.44062</td>\n      <td>18.77309</td>\n      <td>3.54748</td>\n      <td>398.08855</td>\n      <td>1.14867</td>\n      <td>0.06176</td>\n      <td>242.37103</td>\n      <td>0.30834</td>\n      <td>1.93228</td>\n    </tr>\n    <tr>\n      <td>50%</td>\n      <td>96.75110</td>\n      <td>399.58150</td>\n      <td>176.23205</td>\n      <td>23.20832</td>\n      <td>83.14183</td>\n      <td>1.33563</td>\n      <td>19.58134</td>\n      <td>32.21345</td>\n      <td>2.20039</td>\n      <td>41.13745</td>\n      <td>10.38527</td>\n      <td>468.15940</td>\n      <td>26.68554</td>\n      <td>7.13062</td>\n      <td>832.16775</td>\n      <td>3.29664</td>\n      <td>0.17167</td>\n      <td>402.27205</td>\n      <td>0.36199</td>\n      <td>4.37123</td>\n    </tr>\n    <tr>\n      <td>75%</td>\n      <td>202.83993</td>\n      <td>493.99887</td>\n      <td>218.97532</td>\n      <td>34.36651</td>\n      <td>118.77500</td>\n      <td>2.95659</td>\n      <td>24.33059</td>\n      <td>61.33469</td>\n      <td>3.31753</td>\n      <td>57.03867</td>\n      <td>14.34324</td>\n      <td>597.54925</td>\n      <td>34.01940</td>\n      <td>10.01424</td>\n      <td>1069.12050</td>\n      <td>7.25609</td>\n      <td>0.29550</td>\n      <td>894.43508</td>\n      <td>0.60750</td>\n      <td>17.65577</td>\n    </tr>\n    <tr>\n      <td>max</td>\n      <td>456.75270</td>\n      <td>673.84990</td>\n      <td>399.32610</td>\n      <td>67.42516</td>\n      <td>180.50000</td>\n      <td>7.22278</td>\n      <td>44.36957</td>\n      <td>126.16440</td>\n      <td>5.43513</td>\n      <td>168.14830</td>\n      <td>23.27805</td>\n      <td>993.47920</td>\n      <td>42.24757</td>\n      <td>20.55330</td>\n      <td>1722.04900</td>\n      <td>21.40838</td>\n      <td>0.70105</td>\n      <td>9392.67900</td>\n      <td>1.41892</td>\n      <td>41.84249</td>\n    </tr>\n  </tbody>\n</table>\n</div>",
      "text/plain": "name    Calcium  Calories  Calories from Fat  Carbohydrates  Cholesterol  \\\ncount  20.00000  20.00000           20.00000       20.00000     20.00000   \nmean  132.85827 385.95645          181.60761       23.69738     87.05815   \nstd   116.35727 136.70025          101.96627       18.64182     46.63282   \nmin    13.66963 150.13250           15.39000        0.15506      0.00000   \n25%    44.95076 305.74935          130.19088        6.40123     50.04688   \n50%    96.75110 399.58150          176.23205       23.20832     83.14183   \n75%   202.83993 493.99887          218.97532       34.36651    118.77500   \nmax   456.75270 673.84990          399.32610       67.42516    180.50000   \n\nname   Dietary Fiber      Fat    Folate     Iron  Magnesium  \\\ncount       20.00000 20.00000  20.00000 20.00000   20.00000   \nmean         1.97484 20.17862  43.98828  2.57912   49.26250   \nstd          2.16963 11.32959  33.96273  1.28129   35.04222   \nmin          0.00000  1.71000   5.14774  0.58782   12.79541   \n25%          0.27648 14.46565  20.16587  1.61308   28.83570   \n50%          1.33563 19.58134  32.21345  2.20039   41.13745   \n75%          2.95659 24.33059  61.33469  3.31753   57.03867   \nmax          7.22278 44.36957 126.16440  5.43513  168.14830   \n\nname   Niacin Equivalents  Potassium  Protein  Saturated Fat     Sodium  \\\ncount            20.00000   20.00000 20.00000       20.00000   20.00000   \nmean             11.67466  505.01168 26.41286        7.33201  768.06263   \nstd               5.54857  229.59552 10.14185        5.36463  415.56784   \nmin               3.13676  177.86040  6.32874        0.34200  142.68590   \n25%               7.75324  350.44062 18.77309        3.54748  398.08855   \n50%              10.38527  468.15940 26.68554        7.13062  832.16775   \n75%              14.34324  597.54925 34.01940       10.01424 1069.12050   \nmax              23.27805  993.47920 42.24757       20.55330 1722.04900   \n\nname    Sugars  Thiamin  Vitamin A - IU  Vitamin B6  Vitamin C  \ncount 20.00000 20.00000        20.00000    20.00000   20.00000  \nmean   5.24918  0.23131      1087.17806     0.46982   11.43423  \nstd    5.65418  0.21594      2089.23129     0.30043   13.94517  \nmin    0.00000  0.00055         3.43000     0.10839    0.00000  \n25%    1.14867  0.06176       242.37103     0.30834    1.93228  \n50%    3.29664  0.17167       402.27205     0.36199    4.37123  \n75%    7.25609  0.29550       894.43508     0.60750   17.65577  \nmax   21.40838  0.70105      9392.67900     1.41892   41.84249  "
     },
     "execution_count": 204,
     "metadata": {},
     "output_type": "execute_result"
    }
   ],
   "source": [
    "subset_normal.describe()"
   ]
  },
  {
   "cell_type": "code",
   "execution_count": 15,
   "metadata": {},
   "outputs": [],
   "source": [
    "# remove recipes which are missing in nutrition df from the ingredients tecipes dataframe\n",
    "mask = recipe_db.index.isin(nutrition_db2.index.values)\n",
    "recipe_db = recipe_db.loc[mask]\n"
   ]
  },
  {
   "cell_type": "code",
   "execution_count": 205,
   "metadata": {},
   "outputs": [],
   "source": [
    "user_recipes_fat = recipe_db[recipe_db.index.isin(subset_fat_id)]\n",
    "user_recipes_normal = recipe_db[recipe_db.index.isin(subset_normal_id)]"
   ]
  },
  {
   "cell_type": "code",
   "execution_count": 17,
   "metadata": {},
   "outputs": [],
   "source": [
    "#top10 most common ingredients\n",
    "#16421    2125 salt\n",
    "#4342     1506 garlic\n",
    "#4397     1412 onion\n",
    "#16406    1185 ground black pepper\n",
    "#16157    1016 butter\n",
    "#6307      944 olive oil\n",
    "#6494      786 skinless bone less chicken breast\n",
    "#2496      749 water\n",
    "#16238     574 grated Parmesan cheese\n",
    "#16317     538 eggs\n",
    "\n",
    "\n",
    "drop_id_list = [16421, 4342, 4397, 16406, 16157, 6307, 6494, 2496, 16238, 16317]\n",
    "\n",
    "\n",
    "\n"
   ]
  },
  {
   "cell_type": "code",
   "execution_count": 206,
   "metadata": {},
   "outputs": [],
   "source": [
    "#filter out ingredients which are too common and the recipes in the user profile from the recipes database\n",
    "new_recipe_db = recipe_db.drop(axis=1, labels=drop_id_list)\n",
    "new_recipe_db_wo_userrecipes_fat = new_recipe_db.drop(axis=0, labels=subset_fat_id)\n",
    "new_recipe_db_wo_userrecipes_normal = new_recipe_db.drop(axis=0, labels=subset_normal_id)"
   ]
  },
  {
   "cell_type": "code",
   "execution_count": 19,
   "metadata": {},
   "outputs": [],
   "source": [
    "#remove basic ingredients like garlic, olive oil, skinless bone less chicken breast, butter, milk, salt and pepper, onion\n",
    "new_user_recipes_fat = user_recipes_fat.drop(axis=1, labels=drop_id_list)\n",
    "new_user_recipes_normal = user_recipes_normal.drop(axis=1, labels=drop_id_list)"
   ]
  },
  {
   "cell_type": "code",
   "execution_count": 20,
   "metadata": {},
   "outputs": [
    {
     "data": {
      "text/html": "<div>\n<style scoped>\n    .dataframe tbody tr th:only-of-type {\n        vertical-align: middle;\n    }\n\n    .dataframe tbody tr th {\n        vertical-align: top;\n    }\n\n    .dataframe thead th {\n        text-align: right;\n    }\n</style>\n<table border=\"1\" class=\"dataframe\">\n  <thead>\n    <tr style=\"text-align: right;\">\n      <th></th>\n      <th>jaccard_distance_sum</th>\n    </tr>\n  </thead>\n  <tbody>\n    <tr>\n      <td>158587</td>\n      <td>0.85511</td>\n    </tr>\n    <tr>\n      <td>71291</td>\n      <td>0.85877</td>\n    </tr>\n    <tr>\n      <td>70522</td>\n      <td>0.85896</td>\n    </tr>\n    <tr>\n      <td>11707</td>\n      <td>0.85911</td>\n    </tr>\n    <tr>\n      <td>11832</td>\n      <td>0.86056</td>\n    </tr>\n    <tr>\n      <td>17311</td>\n      <td>0.86069</td>\n    </tr>\n    <tr>\n      <td>114351</td>\n      <td>0.86194</td>\n    </tr>\n    <tr>\n      <td>52464</td>\n      <td>0.86364</td>\n    </tr>\n    <tr>\n      <td>132511</td>\n      <td>0.86430</td>\n    </tr>\n    <tr>\n      <td>34437</td>\n      <td>0.86482</td>\n    </tr>\n  </tbody>\n</table>\n</div>",
      "text/plain": "        jaccard_distance_sum\n158587               0.85511\n71291                0.85877\n70522                0.85896\n11707                0.85911\n11832                0.86056\n17311                0.86069\n114351               0.86194\n52464                0.86364\n132511               0.86430\n34437                0.86482"
     },
     "execution_count": 20,
     "metadata": {},
     "output_type": "execute_result"
    }
   ],
   "source": [
    "## Jaccard - recipe to recipe similarity without any removal of basis ingredients and duplicate userrecipes\n",
    "\n",
    "result_array = cdist(user_recipes_fat, recipe_db,'jaccard')\n",
    "result_wo_filter = pd.DataFrame(result_array, columns=recipe_db.index.values, index=user_recipes_fat.index.values)\n",
    "# result_2\n",
    "\n",
    "result_wo_filter_10 = pd.DataFrame(result_wo_filter.sum(), columns=['jaccard_distance_sum'])\n",
    "result_wo_filter_10 = result_wo_filter_10.sort_values(by='jaccard_distance_sum')\n",
    "result_wo_filter_10['jaccard_distance_sum'] = result_wo_filter_10['jaccard_distance_sum'].div(20)\n",
    "result_wo_filter_10[0:10]\n"
   ]
  },
  {
   "cell_type": "code",
   "execution_count": 21,
   "metadata": {},
   "outputs": [
    {
     "data": {
      "text/plain": "0    114351\n1    158587\ndtype: int64"
     },
     "execution_count": 21,
     "metadata": {},
     "output_type": "execute_result"
    }
   ],
   "source": [
    "pd.Series(np.intersect1d(id_list,result_wo_filter_10[0:10].index.to_numpy()))\n"
   ]
  },
  {
   "cell_type": "code",
   "execution_count": 22,
   "metadata": {},
   "outputs": [
    {
     "data": {
      "text/html": "<div>\n<style scoped>\n    .dataframe tbody tr th:only-of-type {\n        vertical-align: middle;\n    }\n\n    .dataframe tbody tr th {\n        vertical-align: top;\n    }\n\n    .dataframe thead th {\n        text-align: right;\n    }\n</style>\n<table border=\"1\" class=\"dataframe\">\n  <thead>\n    <tr style=\"text-align: right;\">\n      <th></th>\n      <th>jaccard_distance_sum</th>\n    </tr>\n  </thead>\n  <tbody>\n    <tr>\n      <td>16304</td>\n      <td>0.90398</td>\n    </tr>\n    <tr>\n      <td>158587</td>\n      <td>0.91643</td>\n    </tr>\n    <tr>\n      <td>177777</td>\n      <td>0.92115</td>\n    </tr>\n    <tr>\n      <td>42967</td>\n      <td>0.92134</td>\n    </tr>\n    <tr>\n      <td>114351</td>\n      <td>0.92276</td>\n    </tr>\n    <tr>\n      <td>216026</td>\n      <td>0.92367</td>\n    </tr>\n    <tr>\n      <td>234797</td>\n      <td>0.92391</td>\n    </tr>\n    <tr>\n      <td>35469</td>\n      <td>0.92466</td>\n    </tr>\n    <tr>\n      <td>8757</td>\n      <td>0.92613</td>\n    </tr>\n    <tr>\n      <td>8547</td>\n      <td>0.92613</td>\n    </tr>\n  </tbody>\n</table>\n</div>",
      "text/plain": "        jaccard_distance_sum\n16304                0.90398\n158587               0.91643\n177777               0.92115\n42967                0.92134\n114351               0.92276\n216026               0.92367\n234797               0.92391\n35469                0.92466\n8757                 0.92613\n8547                 0.92613"
     },
     "execution_count": 22,
     "metadata": {},
     "output_type": "execute_result"
    }
   ],
   "source": [
    "## Jaccard - recipe to recipe similarity without any removal of basis ingredients \n",
    "\n",
    "result_array = cdist(new_user_recipes_fat, new_recipe_db,'jaccard')\n",
    "result_wo_basis_filter = pd.DataFrame(result_array, columns=new_recipe_db.index.values, index=new_user_recipes_fat.index.values)\n",
    "# result_2\n",
    "\n",
    "result_wo_basis_filter_10 = pd.DataFrame(result_wo_basis_filter.sum(), columns=['jaccard_distance_sum'])\n",
    "result_wo_basis_filter_10 = result_wo_basis_filter_10.sort_values(by='jaccard_distance_sum')\n",
    "result_wo_basis_filter_10['jaccard_distance_sum'] = result_wo_basis_filter_10['jaccard_distance_sum'].div(20)\n",
    "result_wo_basis_filter_10[0:10]\n"
   ]
  },
  {
   "cell_type": "code",
   "execution_count": 23,
   "metadata": {},
   "outputs": [
    {
     "data": {
      "text/plain": "array([ 16304, 158587, 177777,  42967, 114351, 216026, 234797,  35469,\n         8757,   8547])"
     },
     "execution_count": 23,
     "metadata": {},
     "output_type": "execute_result"
    }
   ],
   "source": [
    "result_wo_basis_filter_10[0:10].index.to_numpy()"
   ]
  },
  {
   "cell_type": "code",
   "execution_count": 24,
   "metadata": {},
   "outputs": [
    {
     "data": {
      "text/plain": "array([169974, 114351, 216026,  42967, 215616, 164208,  22931, 158587,\n        26299,  16304, 169322,  38028, 177777, 222509, 234797,  86813,\n        14668,  16682,  35469,   8757])"
     },
     "execution_count": 24,
     "metadata": {},
     "output_type": "execute_result"
    }
   ],
   "source": [
    "id_list"
   ]
  },
  {
   "cell_type": "code",
   "execution_count": 25,
   "metadata": {},
   "outputs": [
    {
     "data": {
      "text/plain": "0      8757\n1     16304\n2     35469\n3     42967\n4    114351\n5    158587\n6    177777\n7    216026\n8    234797\ndtype: int64"
     },
     "execution_count": 25,
     "metadata": {},
     "output_type": "execute_result"
    }
   ],
   "source": [
    "pd.Series(np.intersect1d(id_list,result_wo_basis_filter_10[0:10].index.to_numpy()))\n"
   ]
  },
  {
   "cell_type": "code",
   "execution_count": 191,
   "metadata": {},
   "outputs": [
    {
     "data": {
      "text/html": "<div>\n<style scoped>\n    .dataframe tbody tr th:only-of-type {\n        vertical-align: middle;\n    }\n\n    .dataframe tbody tr th {\n        vertical-align: top;\n    }\n\n    .dataframe thead th {\n        text-align: right;\n    }\n</style>\n<table border=\"1\" class=\"dataframe\">\n  <thead>\n    <tr style=\"text-align: right;\">\n      <th></th>\n      <th>jaccard_distance_sum</th>\n    </tr>\n  </thead>\n  <tbody>\n    <tr>\n      <td>8547</td>\n      <td>0.92613</td>\n    </tr>\n    <tr>\n      <td>22991</td>\n      <td>0.92640</td>\n    </tr>\n    <tr>\n      <td>230283</td>\n      <td>0.92840</td>\n    </tr>\n    <tr>\n      <td>14587</td>\n      <td>0.92900</td>\n    </tr>\n    <tr>\n      <td>19301</td>\n      <td>0.93156</td>\n    </tr>\n    <tr>\n      <td>240619</td>\n      <td>0.93254</td>\n    </tr>\n    <tr>\n      <td>19324</td>\n      <td>0.93300</td>\n    </tr>\n    <tr>\n      <td>180905</td>\n      <td>0.93562</td>\n    </tr>\n    <tr>\n      <td>161869</td>\n      <td>0.93796</td>\n    </tr>\n    <tr>\n      <td>19422</td>\n      <td>0.93818</td>\n    </tr>\n  </tbody>\n</table>\n</div>",
      "text/plain": "        jaccard_distance_sum\n8547                 0.92613\n22991                0.92640\n230283               0.92840\n14587                0.92900\n19301                0.93156\n240619               0.93254\n19324                0.93300\n180905               0.93562\n161869               0.93796\n19422                0.93818"
     },
     "execution_count": 191,
     "metadata": {},
     "output_type": "execute_result"
    }
   ],
   "source": [
    "## Jaccard - recipe to recipe similarity with removal of basis ingredients and duplicate userrecipes\n",
    "\n",
    "result_array = cdist(new_user_recipes_fat, new_recipe_db_wo_userrecipes_fat,'jaccard')\n",
    "result_w_filter = pd.DataFrame(result_array, columns=new_recipe_db_wo_userrecipes_fat.index.values, index=new_user_recipes_fat.index.values)\n",
    "# result_2\n",
    "\n",
    "result_w_filter_10 = pd.DataFrame(result_w_filter.sum(), columns=['jaccard_distance_sum'])\n",
    "result_w_filter_10 = result_w_filter_10.sort_values(by='jaccard_distance_sum')\n",
    "result_w_filter_10['jaccard_distance_sum'] = result_w_filter_10['jaccard_distance_sum'].div(20)\n",
    "result_w_filter_10[0:10]\n"
   ]
  },
  {
   "cell_type": "code",
   "execution_count": 186,
   "metadata": {},
   "outputs": [
    {
     "data": {
      "text/html": "<div>\n<style scoped>\n    .dataframe tbody tr th:only-of-type {\n        vertical-align: middle;\n    }\n\n    .dataframe tbody tr th {\n        vertical-align: top;\n    }\n\n    .dataframe thead th {\n        text-align: right;\n    }\n</style>\n<table border=\"1\" class=\"dataframe\">\n  <thead>\n    <tr style=\"text-align: right;\">\n      <th></th>\n      <th>jaccard_distance_sum</th>\n    </tr>\n  </thead>\n  <tbody>\n    <tr>\n      <td>8547</td>\n      <td>0.92613</td>\n    </tr>\n    <tr>\n      <td>22991</td>\n      <td>0.92640</td>\n    </tr>\n    <tr>\n      <td>230283</td>\n      <td>0.92840</td>\n    </tr>\n    <tr>\n      <td>14587</td>\n      <td>0.92900</td>\n    </tr>\n    <tr>\n      <td>19301</td>\n      <td>0.93156</td>\n    </tr>\n    <tr>\n      <td>...</td>\n      <td>...</td>\n    </tr>\n    <tr>\n      <td>41393</td>\n      <td>1.00000</td>\n    </tr>\n    <tr>\n      <td>22538</td>\n      <td>1.00000</td>\n    </tr>\n    <tr>\n      <td>70096</td>\n      <td>1.00000</td>\n    </tr>\n    <tr>\n      <td>14551</td>\n      <td>1.00000</td>\n    </tr>\n    <tr>\n      <td>189679</td>\n      <td>1.00000</td>\n    </tr>\n  </tbody>\n</table>\n<p>3749 rows × 1 columns</p>\n</div>",
      "text/plain": "        jaccard_distance_sum\n8547                 0.92613\n22991                0.92640\n230283               0.92840\n14587                0.92900\n19301                0.93156\n...                      ...\n41393                1.00000\n22538                1.00000\n70096                1.00000\n14551                1.00000\n189679               1.00000\n\n[3749 rows x 1 columns]"
     },
     "execution_count": 186,
     "metadata": {},
     "output_type": "execute_result"
    }
   ],
   "source": [
    "result_w_filter_10"
   ]
  },
  {
   "cell_type": "code",
   "execution_count": 192,
   "metadata": {},
   "outputs": [],
   "source": [
    "\n",
    "result_w_filter_10 = result_w_filter_10.reset_index()\n"
   ]
  },
  {
   "cell_type": "code",
   "execution_count": 193,
   "metadata": {},
   "outputs": [],
   "source": [
    "result_w_filter_10.set_index('index', inplace=True)"
   ]
  },
  {
   "cell_type": "code",
   "execution_count": 194,
   "metadata": {},
   "outputs": [
    {
     "data": {
      "text/html": "<div>\n<style scoped>\n    .dataframe tbody tr th:only-of-type {\n        vertical-align: middle;\n    }\n\n    .dataframe tbody tr th {\n        vertical-align: top;\n    }\n\n    .dataframe thead th {\n        text-align: right;\n    }\n</style>\n<table border=\"1\" class=\"dataframe\">\n  <thead>\n    <tr style=\"text-align: right;\">\n      <th></th>\n      <th>jaccard_distance_sum</th>\n    </tr>\n    <tr>\n      <th>index</th>\n      <th></th>\n    </tr>\n  </thead>\n  <tbody>\n    <tr>\n      <td>8547</td>\n      <td>0.92613</td>\n    </tr>\n    <tr>\n      <td>22991</td>\n      <td>0.92640</td>\n    </tr>\n    <tr>\n      <td>230283</td>\n      <td>0.92840</td>\n    </tr>\n    <tr>\n      <td>14587</td>\n      <td>0.92900</td>\n    </tr>\n    <tr>\n      <td>19301</td>\n      <td>0.93156</td>\n    </tr>\n    <tr>\n      <td>...</td>\n      <td>...</td>\n    </tr>\n    <tr>\n      <td>41393</td>\n      <td>1.00000</td>\n    </tr>\n    <tr>\n      <td>22538</td>\n      <td>1.00000</td>\n    </tr>\n    <tr>\n      <td>70096</td>\n      <td>1.00000</td>\n    </tr>\n    <tr>\n      <td>14551</td>\n      <td>1.00000</td>\n    </tr>\n    <tr>\n      <td>189679</td>\n      <td>1.00000</td>\n    </tr>\n  </tbody>\n</table>\n<p>3749 rows × 1 columns</p>\n</div>",
      "text/plain": "        jaccard_distance_sum\nindex                       \n8547                 0.92613\n22991                0.92640\n230283               0.92840\n14587                0.92900\n19301                0.93156\n...                      ...\n41393                1.00000\n22538                1.00000\n70096                1.00000\n14551                1.00000\n189679               1.00000\n\n[3749 rows x 1 columns]"
     },
     "execution_count": 194,
     "metadata": {},
     "output_type": "execute_result"
    }
   ],
   "source": [
    "result_w_filter_10"
   ]
  },
  {
   "cell_type": "code",
   "execution_count": 195,
   "metadata": {},
   "outputs": [],
   "source": [
    "#  ------ Erstellung und cleansing des Nutrition Dataframes\n",
    "\n",
    "# erstelle neue liste auf basis der bereits gefilterten rezepte aus ingredients_filt\n",
    "id_overlap_mask = nutritions['id'].isin(result_w_filter_10.index.get_level_values('index').values)\n",
    "\n",
    "# erstelle datenframe auf basis der overlapliste\n",
    "nutritions_filt = nutritions.loc[id_overlap_mask]\n",
    "\n",
    "nutrition_jaccard_top_10 = nutritions_filt.pivot_table(\n",
    "    index=['id'],\n",
    "    columns=['name'],\n",
    "    values=['amount'],\n",
    ").reset_index()\n",
    "\n",
    "nutrition_jaccard_top_10.set_index('id', inplace=True)\n",
    "\n",
    "# remove multiindex 'amount'\n",
    "nutrition_jaccard_top_10.columns = nutrition_jaccard_top_10.columns.droplevel(0)\n",
    "\n",
    "# entferne alle NA\n",
    "nutrition_jaccard_top_10 = nutrition_jaccard_top_10.dropna()"
   ]
  },
  {
   "cell_type": "code",
   "execution_count": 196,
   "metadata": {},
   "outputs": [
    {
     "data": {
      "text/html": "<div>\n<style scoped>\n    .dataframe tbody tr th:only-of-type {\n        vertical-align: middle;\n    }\n\n    .dataframe tbody tr th {\n        vertical-align: top;\n    }\n\n    .dataframe thead th {\n        text-align: right;\n    }\n</style>\n<table border=\"1\" class=\"dataframe\">\n  <thead>\n    <tr style=\"text-align: right;\">\n      <th>name</th>\n      <th>Calcium</th>\n      <th>Calories</th>\n      <th>Calories from Fat</th>\n      <th>Carbohydrates</th>\n      <th>Cholesterol</th>\n      <th>Dietary Fiber</th>\n      <th>Fat</th>\n      <th>Folate</th>\n      <th>Iron</th>\n      <th>Magnesium</th>\n      <th>Niacin Equivalents</th>\n      <th>Potassium</th>\n      <th>Protein</th>\n      <th>Saturated Fat</th>\n      <th>Sodium</th>\n      <th>Sugars</th>\n      <th>Thiamin</th>\n      <th>Vitamin A - IU</th>\n      <th>Vitamin B6</th>\n      <th>Vitamin C</th>\n    </tr>\n  </thead>\n  <tbody>\n    <tr>\n      <td>count</td>\n      <td>3749.00000</td>\n      <td>3749.00000</td>\n      <td>3749.00000</td>\n      <td>3749.00000</td>\n      <td>3749.00000</td>\n      <td>3749.00000</td>\n      <td>3749.00000</td>\n      <td>3749.00000</td>\n      <td>3749.00000</td>\n      <td>3749.00000</td>\n      <td>3749.00000</td>\n      <td>3749.00000</td>\n      <td>3749.00000</td>\n      <td>3749.00000</td>\n      <td>3749.00000</td>\n      <td>3749.00000</td>\n      <td>3749.00000</td>\n      <td>3749.00000</td>\n      <td>3749.00000</td>\n      <td>3749.00000</td>\n    </tr>\n    <tr>\n      <td>mean</td>\n      <td>146.95446</td>\n      <td>436.38406</td>\n      <td>205.41119</td>\n      <td>29.05600</td>\n      <td>96.96383</td>\n      <td>2.59212</td>\n      <td>22.82347</td>\n      <td>60.27003</td>\n      <td>3.14749</td>\n      <td>51.31239</td>\n      <td>12.43405</td>\n      <td>531.27784</td>\n      <td>28.03340</td>\n      <td>8.70033</td>\n      <td>850.59829</td>\n      <td>6.72939</td>\n      <td>0.30341</td>\n      <td>1167.06599</td>\n      <td>0.50977</td>\n      <td>16.26599</td>\n    </tr>\n    <tr>\n      <td>std</td>\n      <td>159.43519</td>\n      <td>182.62195</td>\n      <td>125.79641</td>\n      <td>22.74143</td>\n      <td>60.47518</td>\n      <td>2.50767</td>\n      <td>13.97738</td>\n      <td>59.63294</td>\n      <td>2.44253</td>\n      <td>29.06080</td>\n      <td>6.89504</td>\n      <td>267.07160</td>\n      <td>12.01635</td>\n      <td>6.78157</td>\n      <td>644.31205</td>\n      <td>8.83209</td>\n      <td>0.30128</td>\n      <td>2326.37175</td>\n      <td>0.31239</td>\n      <td>24.36387</td>\n    </tr>\n    <tr>\n      <td>min</td>\n      <td>2.24700</td>\n      <td>51.34326</td>\n      <td>1.32300</td>\n      <td>0.00000</td>\n      <td>0.00000</td>\n      <td>0.00000</td>\n      <td>0.14700</td>\n      <td>0.00000</td>\n      <td>0.19784</td>\n      <td>0.99745</td>\n      <td>0.03511</td>\n      <td>21.35641</td>\n      <td>0.75050</td>\n      <td>0.01992</td>\n      <td>5.20206</td>\n      <td>0.00000</td>\n      <td>0.00055</td>\n      <td>0.00000</td>\n      <td>0.00497</td>\n      <td>0.00000</td>\n    </tr>\n    <tr>\n      <td>25%</td>\n      <td>41.76382</td>\n      <td>302.47900</td>\n      <td>116.21680</td>\n      <td>10.22224</td>\n      <td>60.27000</td>\n      <td>0.74399</td>\n      <td>12.91297</td>\n      <td>15.85232</td>\n      <td>1.81151</td>\n      <td>33.17641</td>\n      <td>7.39561</td>\n      <td>345.25600</td>\n      <td>19.94853</td>\n      <td>3.61286</td>\n      <td>417.77350</td>\n      <td>1.76207</td>\n      <td>0.10497</td>\n      <td>235.95000</td>\n      <td>0.28385</td>\n      <td>2.14500</td>\n    </tr>\n    <tr>\n      <td>50%</td>\n      <td>82.90875</td>\n      <td>405.89920</td>\n      <td>182.54490</td>\n      <td>24.74984</td>\n      <td>84.80499</td>\n      <td>1.94179</td>\n      <td>20.28276</td>\n      <td>38.62750</td>\n      <td>2.76611</td>\n      <td>45.87583</td>\n      <td>11.14604</td>\n      <td>480.10700</td>\n      <td>26.83928</td>\n      <td>7.11517</td>\n      <td>733.86540</td>\n      <td>3.89837</td>\n      <td>0.19721</td>\n      <td>578.60250</td>\n      <td>0.44459</td>\n      <td>6.65546</td>\n    </tr>\n    <tr>\n      <td>75%</td>\n      <td>192.75800</td>\n      <td>539.72480</td>\n      <td>270.55330</td>\n      <td>43.23486</td>\n      <td>126.63360</td>\n      <td>3.66420</td>\n      <td>30.06147</td>\n      <td>87.71037</td>\n      <td>3.91886</td>\n      <td>63.18910</td>\n      <td>16.54115</td>\n      <td>652.98580</td>\n      <td>34.28136</td>\n      <td>12.05830</td>\n      <td>1091.80900</td>\n      <td>7.83809</td>\n      <td>0.39568</td>\n      <td>1108.59600</td>\n      <td>0.68273</td>\n      <td>19.52150</td>\n    </tr>\n    <tr>\n      <td>max</td>\n      <td>1264.32600</td>\n      <td>1828.19200</td>\n      <td>989.10300</td>\n      <td>236.72050</td>\n      <td>708.85000</td>\n      <td>27.83175</td>\n      <td>109.90030</td>\n      <td>519.53590</td>\n      <td>55.89075</td>\n      <td>590.39220</td>\n      <td>47.57578</td>\n      <td>1931.48800</td>\n      <td>99.72639</td>\n      <td>59.31002</td>\n      <td>7322.28900</td>\n      <td>104.81810</td>\n      <td>2.35457</td>\n      <td>38664.70000</td>\n      <td>3.83736</td>\n      <td>270.41310</td>\n    </tr>\n  </tbody>\n</table>\n</div>",
      "text/plain": "name     Calcium   Calories  Calories from Fat  Carbohydrates  Cholesterol  \\\ncount 3749.00000 3749.00000         3749.00000     3749.00000   3749.00000   \nmean   146.95446  436.38406          205.41119       29.05600     96.96383   \nstd    159.43519  182.62195          125.79641       22.74143     60.47518   \nmin      2.24700   51.34326            1.32300        0.00000      0.00000   \n25%     41.76382  302.47900          116.21680       10.22224     60.27000   \n50%     82.90875  405.89920          182.54490       24.74984     84.80499   \n75%    192.75800  539.72480          270.55330       43.23486    126.63360   \nmax   1264.32600 1828.19200          989.10300      236.72050    708.85000   \n\nname   Dietary Fiber        Fat     Folate       Iron  Magnesium  \\\ncount     3749.00000 3749.00000 3749.00000 3749.00000 3749.00000   \nmean         2.59212   22.82347   60.27003    3.14749   51.31239   \nstd          2.50767   13.97738   59.63294    2.44253   29.06080   \nmin          0.00000    0.14700    0.00000    0.19784    0.99745   \n25%          0.74399   12.91297   15.85232    1.81151   33.17641   \n50%          1.94179   20.28276   38.62750    2.76611   45.87583   \n75%          3.66420   30.06147   87.71037    3.91886   63.18910   \nmax         27.83175  109.90030  519.53590   55.89075  590.39220   \n\nname   Niacin Equivalents  Potassium    Protein  Saturated Fat     Sodium  \\\ncount          3749.00000 3749.00000 3749.00000     3749.00000 3749.00000   \nmean             12.43405  531.27784   28.03340        8.70033  850.59829   \nstd               6.89504  267.07160   12.01635        6.78157  644.31205   \nmin               0.03511   21.35641    0.75050        0.01992    5.20206   \n25%               7.39561  345.25600   19.94853        3.61286  417.77350   \n50%              11.14604  480.10700   26.83928        7.11517  733.86540   \n75%              16.54115  652.98580   34.28136       12.05830 1091.80900   \nmax              47.57578 1931.48800   99.72639       59.31002 7322.28900   \n\nname      Sugars    Thiamin  Vitamin A - IU  Vitamin B6  Vitamin C  \ncount 3749.00000 3749.00000      3749.00000  3749.00000 3749.00000  \nmean     6.72939    0.30341      1167.06599     0.50977   16.26599  \nstd      8.83209    0.30128      2326.37175     0.31239   24.36387  \nmin      0.00000    0.00055         0.00000     0.00497    0.00000  \n25%      1.76207    0.10497       235.95000     0.28385    2.14500  \n50%      3.89837    0.19721       578.60250     0.44459    6.65546  \n75%      7.83809    0.39568      1108.59600     0.68273   19.52150  \nmax    104.81810    2.35457     38664.70000     3.83736  270.41310  "
     },
     "execution_count": 196,
     "metadata": {},
     "output_type": "execute_result"
    }
   ],
   "source": [
    "nutrition_jaccard_top_10.describe()"
   ]
  },
  {
   "cell_type": "code",
   "execution_count": 27,
   "metadata": {},
   "outputs": [
    {
     "data": {
      "text/plain": "array([  8547,  22991, 230283,  14587,  19301, 240619,  19324, 180905,\n       161869,  19422,  11832,  14604, 228680, 231808, 132511,  46813,\n       214046,   8694,  52934,  18841,  12073,  14735,  17996, 216231,\n       188706,  14614,  18349, 215680,  24162, 263813,  25877,  11937,\n       232465,  18805,  23058, 195045,  31965, 150156,  19368, 140653])"
     },
     "execution_count": 27,
     "metadata": {},
     "output_type": "execute_result"
    }
   ],
   "source": [
    "result_w_filter_10[0:40].index.to_numpy()"
   ]
  },
  {
   "cell_type": "code",
   "execution_count": 28,
   "metadata": {},
   "outputs": [
    {
     "data": {
      "text/plain": "array([169974, 114351, 216026,  42967, 215616, 164208,  22931, 158587,\n        26299,  16304, 169322,  38028, 177777, 222509, 234797,  86813,\n        14668,  16682,  35469,   8757])"
     },
     "execution_count": 28,
     "metadata": {},
     "output_type": "execute_result"
    }
   ],
   "source": [
    "id_list"
   ]
  },
  {
   "cell_type": "code",
   "execution_count": 29,
   "metadata": {},
   "outputs": [
    {
     "data": {
      "text/plain": "Series([], dtype: int64)"
     },
     "execution_count": 29,
     "metadata": {},
     "output_type": "execute_result"
    }
   ],
   "source": [
    "pd.Series(np.intersect1d(id_list,result_w_filter_10[0:10].index.to_numpy()))\n"
   ]
  },
  {
   "cell_type": "code",
   "execution_count": 30,
   "metadata": {},
   "outputs": [
    {
     "data": {
      "text/plain": "8757     1.00000\n14668    1.00000\n16304    1.00000\n16682    1.00000\n22931    1.00000\n26299    0.90000\n35469    1.00000\n38028    1.00000\n42967    0.90909\n86813    1.00000\n114351   1.00000\n158587   1.00000\n164208   0.88889\n169322   1.00000\n169974   1.00000\n177777   1.00000\n215616   0.83333\n216026   1.00000\n222509   1.00000\n234797   1.00000\nName: 14127, dtype: float64"
     },
     "execution_count": 30,
     "metadata": {},
     "output_type": "execute_result"
    }
   ],
   "source": [
    "result_w_filter[14127]"
   ]
  },
  {
   "cell_type": "code",
   "execution_count": 31,
   "metadata": {},
   "outputs": [],
   "source": [
    "test = result_w_filter_10.reset_index()"
   ]
  },
  {
   "cell_type": "code",
   "execution_count": 32,
   "metadata": {},
   "outputs": [],
   "source": [
    "test.set_index('index', inplace=True)"
   ]
  },
  {
   "cell_type": "code",
   "execution_count": 33,
   "metadata": {},
   "outputs": [],
   "source": [
    "df['C'] = np.arange(len(df))"
   ]
  },
  {
   "cell_type": "code",
   "execution_count": 34,
   "metadata": {},
   "outputs": [
    {
     "data": {
      "text/plain": "jaccard_distance_sum   0.97657\nName: 14127, dtype: float64"
     },
     "execution_count": 34,
     "metadata": {},
     "output_type": "execute_result"
    }
   ],
   "source": [
    "test.loc[14127]"
   ]
  },
  {
   "cell_type": "code",
   "execution_count": 35,
   "metadata": {},
   "outputs": [],
   "source": [
    "#create one dimensional ingredients vector from user recipes profile\n",
    "user_one_vector = new_user_recipes_fat.copy()\n",
    "user_one_vector.loc['sum',:]= user_one_vector.sum(axis=0)\n",
    "user_one_vector = user_one_vector.drop(axis=0, labels=subset_fat_id)\n",
    "user_one_vector[user_one_vector > 0] = 1"
   ]
  },
  {
   "cell_type": "code",
   "execution_count": 36,
   "metadata": {},
   "outputs": [
    {
     "data": {
      "text/plain": "0.00000    616\n1.00000    104\ndtype: int64"
     },
     "execution_count": 36,
     "metadata": {},
     "output_type": "execute_result"
    }
   ],
   "source": [
    "#show number of ingredients\n",
    "user_one_vector.apply(pd.value_counts).count(axis=1)"
   ]
  },
  {
   "cell_type": "code",
   "execution_count": 37,
   "metadata": {},
   "outputs": [
    {
     "data": {
      "text/html": "<div>\n<style scoped>\n    .dataframe tbody tr th:only-of-type {\n        vertical-align: middle;\n    }\n\n    .dataframe tbody tr th {\n        vertical-align: top;\n    }\n\n    .dataframe thead th {\n        text-align: right;\n    }\n</style>\n<table border=\"1\" class=\"dataframe\">\n  <thead>\n    <tr style=\"text-align: right;\">\n      <th></th>\n      <th>jaccard_distance_sum</th>\n    </tr>\n  </thead>\n  <tbody>\n    <tr>\n      <td>231396</td>\n      <td>0.88679</td>\n    </tr>\n    <tr>\n      <td>236805</td>\n      <td>0.88889</td>\n    </tr>\n    <tr>\n      <td>180905</td>\n      <td>0.89720</td>\n    </tr>\n    <tr>\n      <td>13905</td>\n      <td>0.90654</td>\n    </tr>\n    <tr>\n      <td>125658</td>\n      <td>0.91429</td>\n    </tr>\n    <tr>\n      <td>102831</td>\n      <td>0.91509</td>\n    </tr>\n    <tr>\n      <td>218982</td>\n      <td>0.91509</td>\n    </tr>\n    <tr>\n      <td>219166</td>\n      <td>0.91509</td>\n    </tr>\n    <tr>\n      <td>11921</td>\n      <td>0.91589</td>\n    </tr>\n    <tr>\n      <td>151153</td>\n      <td>0.91589</td>\n    </tr>\n    <tr>\n      <td>9005</td>\n      <td>0.91667</td>\n    </tr>\n    <tr>\n      <td>112206</td>\n      <td>0.91743</td>\n    </tr>\n    <tr>\n      <td>83083</td>\n      <td>0.91743</td>\n    </tr>\n    <tr>\n      <td>76373</td>\n      <td>0.92035</td>\n    </tr>\n    <tr>\n      <td>232465</td>\n      <td>0.92381</td>\n    </tr>\n    <tr>\n      <td>25877</td>\n      <td>0.92381</td>\n    </tr>\n    <tr>\n      <td>18349</td>\n      <td>0.92381</td>\n    </tr>\n    <tr>\n      <td>228680</td>\n      <td>0.92381</td>\n    </tr>\n    <tr>\n      <td>8694</td>\n      <td>0.92381</td>\n    </tr>\n    <tr>\n      <td>233571</td>\n      <td>0.92453</td>\n    </tr>\n  </tbody>\n</table>\n</div>",
      "text/plain": "        jaccard_distance_sum\n231396               0.88679\n236805               0.88889\n180905               0.89720\n13905                0.90654\n125658               0.91429\n102831               0.91509\n218982               0.91509\n219166               0.91509\n11921                0.91589\n151153               0.91589\n9005                 0.91667\n112206               0.91743\n83083                0.91743\n76373                0.92035\n232465               0.92381\n25877                0.92381\n18349                0.92381\n228680               0.92381\n8694                 0.92381\n233571               0.92453"
     },
     "execution_count": 37,
     "metadata": {},
     "output_type": "execute_result"
    }
   ],
   "source": [
    "## Jaccard - user vector to recipe similarity with removal of basis ingredients and duplicate userrecipes\n",
    "\n",
    "result_array = cdist(user_one_vector, new_recipe_db_wo_userrecipes_fat,'jaccard')\n",
    "result_w_filter_vector = pd.DataFrame(result_array, columns=new_recipe_db_wo_userrecipes_fat.index.values, index=user_one_vector.index.values)\n",
    "\n",
    "\n",
    "result_w_filter_vector_10 = pd.DataFrame(result_w_filter_vector.sum(), columns=['jaccard_distance_sum'])\n",
    "result_w_filter_vector_10 = result_w_filter_vector_10.sort_values(by='jaccard_distance_sum')\n",
    "\n",
    "result_w_filter_vector_10[0:20]\n"
   ]
  },
  {
   "cell_type": "code",
   "execution_count": 38,
   "metadata": {},
   "outputs": [
    {
     "data": {
      "text/plain": "Series([], dtype: int64)"
     },
     "execution_count": 38,
     "metadata": {},
     "output_type": "execute_result"
    }
   ],
   "source": [
    "pd.Series(np.intersect1d(id_list, result_w_filter_vector_10[0:10].index.to_numpy()))\n"
   ]
  },
  {
   "cell_type": "code",
   "execution_count": 39,
   "metadata": {},
   "outputs": [
    {
     "data": {
      "text/plain": "array([231396, 236805, 180905,  13905, 125658, 102831, 218982, 219166,\n        11921, 151153,   9005, 112206,  83083,  76373, 232465,  25877,\n        18349, 228680,   8694, 233571])"
     },
     "execution_count": 39,
     "metadata": {},
     "output_type": "execute_result"
    }
   ],
   "source": [
    "result_w_filter_vector_10[0:20].index.to_numpy()"
   ]
  },
  {
   "cell_type": "code",
   "execution_count": 40,
   "metadata": {},
   "outputs": [
    {
     "data": {
      "text/plain": "array([169974, 114351, 216026,  42967, 215616, 164208,  22931, 158587,\n        26299,  16304, 169322,  38028, 177777, 222509, 234797,  86813,\n        14668,  16682,  35469,   8757])"
     },
     "execution_count": 40,
     "metadata": {},
     "output_type": "execute_result"
    }
   ],
   "source": [
    "id_list"
   ]
  },
  {
   "cell_type": "code",
   "execution_count": 41,
   "metadata": {},
   "outputs": [],
   "source": [
    "recommenden_nut = pd.DataFrame(data=None, columns=nutrition_db2.columns, index=None)"
   ]
  },
  {
   "cell_type": "code",
   "execution_count": 42,
   "metadata": {},
   "outputs": [
    {
     "data": {
      "text/html": "<div>\n<style scoped>\n    .dataframe tbody tr th:only-of-type {\n        vertical-align: middle;\n    }\n\n    .dataframe tbody tr th {\n        vertical-align: top;\n    }\n\n    .dataframe thead th {\n        text-align: right;\n    }\n</style>\n<table border=\"1\" class=\"dataframe\">\n  <thead>\n    <tr style=\"text-align: right;\">\n      <th>name</th>\n      <th>Calcium</th>\n      <th>Calories</th>\n      <th>Calories from Fat</th>\n      <th>Carbohydrates</th>\n      <th>Cholesterol</th>\n      <th>Dietary Fiber</th>\n      <th>Fat</th>\n      <th>Folate</th>\n      <th>Iron</th>\n      <th>Magnesium</th>\n      <th>Niacin Equivalents</th>\n      <th>Potassium</th>\n      <th>Protein</th>\n      <th>Saturated Fat</th>\n      <th>Sodium</th>\n      <th>Sugars</th>\n      <th>Thiamin</th>\n      <th>Vitamin A - IU</th>\n      <th>Vitamin B6</th>\n      <th>Vitamin C</th>\n    </tr>\n  </thead>\n  <tbody>\n    <tr>\n      <td>index</td>\n      <td>333.30000</td>\n      <td>800.00000</td>\n      <td>0.00000</td>\n      <td>43.30000</td>\n      <td>0.00000</td>\n      <td>8.30000</td>\n      <td>30.00000</td>\n      <td>133.30000</td>\n      <td>2.60000</td>\n      <td>133.30000</td>\n      <td>5.30000</td>\n      <td>1.00000</td>\n      <td>18.60000</td>\n      <td>0.00000</td>\n      <td>0.50000</td>\n      <td>0.00000</td>\n      <td>0.40000</td>\n      <td>300.00000</td>\n      <td>0.43000</td>\n      <td>30.00000</td>\n    </tr>\n  </tbody>\n</table>\n</div>",
      "text/plain": "name    Calcium  Calories  Calories from Fat  Carbohydrates  Cholesterol  \\\nindex 333.30000 800.00000            0.00000       43.30000      0.00000   \n\nname   Dietary Fiber      Fat    Folate    Iron  Magnesium  \\\nindex        8.30000 30.00000 133.30000 2.60000  133.30000   \n\nname   Niacin Equivalents  Potassium  Protein  Saturated Fat  Sodium  Sugars  \\\nindex             5.30000    1.00000 18.60000        0.00000 0.50000 0.00000   \n\nname   Thiamin  Vitamin A - IU  Vitamin B6  Vitamin C  \nindex  0.40000       300.00000     0.43000   30.00000  "
     },
     "execution_count": 42,
     "metadata": {},
     "output_type": "execute_result"
    }
   ],
   "source": [
    "# 19–30 empfohlene nährwerte pro tag #https://www.ncbi.nlm.nih.gov/books/NBK56068/table/summarytables.t4/?report=objectonly\n",
    "recommenden_nut = pd.DataFrame(data=None, columns=nutrition_db2.columns, index=None)\n",
    "recommenden_nut.loc['index'] = [\n",
    "    # \"Calcium\":[1],\n",
    "    333.3,\n",
    "    # \"Calories\":[1],\n",
    "    800,\n",
    "    # \"Calories from Fat\":[1],\n",
    "    0,\n",
    "    # \"Carbohydrates\":[1],\n",
    "    43.3,\n",
    "    # \"Cholesterol\":[1],\n",
    "    0,\n",
    "    # \"Dietary Fiber\t\":[1],\n",
    "    8.3,\n",
    "    # \"Fat\":[1],\n",
    "    30,\n",
    "    # \"Folate\":[1],\n",
    "    133.3,\n",
    "    # \"Iron\":[1],\n",
    "    2.6,\n",
    "    # \"Magnesium\":[1],\n",
    "    133.3,\n",
    "    # \"Niacin Equivalents\":[1],\n",
    "    5.3,\n",
    "    # \"Potassium\":[1],\n",
    "    1,\n",
    "    # \"Protein\":[1],\n",
    "    18.6,\n",
    "    # \"Saturated Fat\":[1],\n",
    "    0,\n",
    "    # \"Sodium\":[1],\n",
    "    0.5,\n",
    "    # \"Sugars\":[1],\n",
    "    0,\n",
    "    # \"Thiamin\":[1],\n",
    "    0.4,\n",
    "    # \"Vitamin A - IU\":[1],\n",
    "    300,\n",
    "    # \"Vitamin B6\":[1],\n",
    "    0.43,\n",
    "    # \"Vitamin C\":[1]}\n",
    "    30]\n",
    "recommenden_nut"
   ]
  },
  {
   "cell_type": "code",
   "execution_count": 43,
   "metadata": {},
   "outputs": [
    {
     "data": {
      "text/plain": "array([  8547,  22991, 230283,  14587,  19301, 240619,  19324, 180905,\n       161869,  19422])"
     },
     "execution_count": 43,
     "metadata": {},
     "output_type": "execute_result"
    }
   ],
   "source": [
    "result_w_filter_10[0:10].index.to_numpy()"
   ]
  },
  {
   "cell_type": "code",
   "execution_count": 44,
   "metadata": {},
   "outputs": [
    {
     "data": {
      "text/plain": "array([169974, 114351, 216026,  42967, 215616, 164208,  22931, 158587,\n        26299,  16304, 169322,  38028, 177777, 222509, 234797,  86813,\n        14668,  16682,  35469,   8757])"
     },
     "execution_count": 44,
     "metadata": {},
     "output_type": "execute_result"
    }
   ],
   "source": [
    "id_list"
   ]
  },
  {
   "cell_type": "code",
   "execution_count": 45,
   "metadata": {},
   "outputs": [
    {
     "data": {
      "text/html": "<div>\n<style scoped>\n    .dataframe tbody tr th:only-of-type {\n        vertical-align: middle;\n    }\n\n    .dataframe tbody tr th {\n        vertical-align: top;\n    }\n\n    .dataframe thead th {\n        text-align: right;\n    }\n</style>\n<table border=\"1\" class=\"dataframe\">\n  <thead>\n    <tr style=\"text-align: right;\">\n      <th></th>\n      <th>id</th>\n      <th>ingredients_id</th>\n      <th>ingredients_name</th>\n      <th>ingredients_grams</th>\n      <th>ingredients_type</th>\n    </tr>\n  </thead>\n  <tbody>\n    <tr>\n      <td>0</td>\n      <td>59661</td>\n      <td>16157</td>\n      <td>10 g butter</td>\n      <td>11.36000</td>\n      <td>Normal</td>\n    </tr>\n    <tr>\n      <td>1</td>\n      <td>59661</td>\n      <td>4405</td>\n      <td>40 g sliced green onions</td>\n      <td>41.80000</td>\n      <td>Normal</td>\n    </tr>\n    <tr>\n      <td>2</td>\n      <td>59661</td>\n      <td>4342</td>\n      <td>1-1/2 cloves garlic, minced</td>\n      <td>4.80000</td>\n      <td>Normal</td>\n    </tr>\n    <tr>\n      <td>3</td>\n      <td>59661</td>\n      <td>4520</td>\n      <td>3/4 (10 ounce) package frozen chopped spinach ...</td>\n      <td>227.20000</td>\n      <td>Normal</td>\n    </tr>\n    <tr>\n      <td>4</td>\n      <td>59661</td>\n      <td>16243</td>\n      <td>180 g ricotta cheese</td>\n      <td>182.40001</td>\n      <td>Normal</td>\n    </tr>\n    <tr>\n      <td>...</td>\n      <td>...</td>\n      <td>...</td>\n      <td>...</td>\n      <td>...</td>\n      <td>...</td>\n    </tr>\n    <tr>\n      <td>36685</td>\n      <td>229659</td>\n      <td>16423</td>\n      <td>1-3/4 sprigs fresh thyme, divided</td>\n      <td>0.66667</td>\n      <td>Normal</td>\n    </tr>\n    <tr>\n      <td>36686</td>\n      <td>229659</td>\n      <td>20270</td>\n      <td>3/8 white onion, chopped - divided</td>\n      <td>36.66667</td>\n      <td>Normal</td>\n    </tr>\n    <tr>\n      <td>36687</td>\n      <td>229659</td>\n      <td>16157</td>\n      <td>40 g butter, sliced into pats</td>\n      <td>37.83334</td>\n      <td>Normal</td>\n    </tr>\n    <tr>\n      <td>36688</td>\n      <td>229659</td>\n      <td>4292</td>\n      <td>80 g chopped fresh celery leaves</td>\n      <td>80.00000</td>\n      <td>Normal</td>\n    </tr>\n    <tr>\n      <td>36689</td>\n      <td>229659</td>\n      <td>3474</td>\n      <td>1/8 (750 milliliter) bottle white wine, or mor...</td>\n      <td>124.69144</td>\n      <td>Normal</td>\n    </tr>\n  </tbody>\n</table>\n<p>36690 rows × 5 columns</p>\n</div>",
      "text/plain": "           id  ingredients_id  \\\n0       59661           16157   \n1       59661            4405   \n2       59661            4342   \n3       59661            4520   \n4       59661           16243   \n...       ...             ...   \n36685  229659           16423   \n36686  229659           20270   \n36687  229659           16157   \n36688  229659            4292   \n36689  229659            3474   \n\n                                        ingredients_name  ingredients_grams  \\\n0                                            10 g butter           11.36000   \n1                               40 g sliced green onions           41.80000   \n2                            1-1/2 cloves garlic, minced            4.80000   \n3      3/4 (10 ounce) package frozen chopped spinach ...          227.20000   \n4                                   180 g ricotta cheese          182.40001   \n...                                                  ...                ...   \n36685                  1-3/4 sprigs fresh thyme, divided            0.66667   \n36686                 3/8 white onion, chopped - divided           36.66667   \n36687                      40 g butter, sliced into pats           37.83334   \n36688                   80 g chopped fresh celery leaves           80.00000   \n36689  1/8 (750 milliliter) bottle white wine, or mor...          124.69144   \n\n      ingredients_type  \n0               Normal  \n1               Normal  \n2               Normal  \n3               Normal  \n4               Normal  \n...                ...  \n36685           Normal  \n36686           Normal  \n36687           Normal  \n36688           Normal  \n36689           Normal  \n\n[36690 rows x 5 columns]"
     },
     "execution_count": 45,
     "metadata": {},
     "output_type": "execute_result"
    }
   ],
   "source": [
    "new_ingredients"
   ]
  },
  {
   "cell_type": "code",
   "execution_count": 46,
   "metadata": {},
   "outputs": [
    {
     "data": {
      "text/plain": "array([[<matplotlib.axes._subplots.AxesSubplot object at 0x121f8ee50>]],\n      dtype=object)"
     },
     "execution_count": 46,
     "metadata": {},
     "output_type": "execute_result"
    }
   ],
   "source": [
    "new_ingredients.hist(column='ingredients_id', bins=700)"
   ]
  },
  {
   "cell_type": "code",
   "execution_count": 47,
   "metadata": {},
   "outputs": [],
   "source": [
    "asd = new_ingredients['ingredients_id'].value_counts()"
   ]
  },
  {
   "cell_type": "code",
   "execution_count": 48,
   "metadata": {},
   "outputs": [
    {
     "data": {
      "text/plain": "16421    2125\n4342     1506\n4397     1412\n16406    1185\n16157    1016\n         ... \n23047       1\n20486       1\n18921       1\n21368       1\n20792       1\nName: ingredients_id, Length: 730, dtype: int64"
     },
     "execution_count": 48,
     "metadata": {},
     "output_type": "execute_result"
    }
   ],
   "source": [
    "asd"
   ]
  },
  {
   "cell_type": "code",
   "execution_count": 49,
   "metadata": {},
   "outputs": [],
   "source": [
    "result_w_filter_100 =result_w_filter_10[0:100].copy()"
   ]
  },
  {
   "cell_type": "code",
   "execution_count": 50,
   "metadata": {},
   "outputs": [],
   "source": [
    "result_w_filter_100['pos'] = np.arange(len(result_w_filter_100))"
   ]
  },
  {
   "cell_type": "code",
   "execution_count": 51,
   "metadata": {},
   "outputs": [],
   "source": [
    "result_w_filter_100 = result_w_filter_100.reset_index()"
   ]
  },
  {
   "cell_type": "code",
   "execution_count": 52,
   "metadata": {},
   "outputs": [],
   "source": [
    "result_w_filter_100 = result_w_filter_100.set_index('index')"
   ]
  },
  {
   "cell_type": "code",
   "execution_count": 53,
   "metadata": {},
   "outputs": [
    {
     "data": {
      "text/html": "<div>\n<style scoped>\n    .dataframe tbody tr th:only-of-type {\n        vertical-align: middle;\n    }\n\n    .dataframe tbody tr th {\n        vertical-align: top;\n    }\n\n    .dataframe thead th {\n        text-align: right;\n    }\n</style>\n<table border=\"1\" class=\"dataframe\">\n  <thead>\n    <tr style=\"text-align: right;\">\n      <th></th>\n      <th>jaccard_distance_sum</th>\n      <th>pos</th>\n    </tr>\n    <tr>\n      <th>index</th>\n      <th></th>\n      <th></th>\n    </tr>\n  </thead>\n  <tbody>\n    <tr>\n      <td>8547</td>\n      <td>0.92613</td>\n      <td>0</td>\n    </tr>\n    <tr>\n      <td>22991</td>\n      <td>0.92640</td>\n      <td>1</td>\n    </tr>\n    <tr>\n      <td>230283</td>\n      <td>0.92840</td>\n      <td>2</td>\n    </tr>\n    <tr>\n      <td>14587</td>\n      <td>0.92900</td>\n      <td>3</td>\n    </tr>\n    <tr>\n      <td>19301</td>\n      <td>0.93156</td>\n      <td>4</td>\n    </tr>\n    <tr>\n      <td>...</td>\n      <td>...</td>\n      <td>...</td>\n    </tr>\n    <tr>\n      <td>233571</td>\n      <td>0.95197</td>\n      <td>95</td>\n    </tr>\n    <tr>\n      <td>26260</td>\n      <td>0.95198</td>\n      <td>96</td>\n    </tr>\n    <tr>\n      <td>14636</td>\n      <td>0.95201</td>\n      <td>97</td>\n    </tr>\n    <tr>\n      <td>89721</td>\n      <td>0.95215</td>\n      <td>98</td>\n    </tr>\n    <tr>\n      <td>154183</td>\n      <td>0.95220</td>\n      <td>99</td>\n    </tr>\n  </tbody>\n</table>\n<p>100 rows × 2 columns</p>\n</div>",
      "text/plain": "        jaccard_distance_sum  pos\nindex                            \n8547                 0.92613    0\n22991                0.92640    1\n230283               0.92840    2\n14587                0.92900    3\n19301                0.93156    4\n...                      ...  ...\n233571               0.95197   95\n26260                0.95198   96\n14636                0.95201   97\n89721                0.95215   98\n154183               0.95220   99\n\n[100 rows x 2 columns]"
     },
     "execution_count": 53,
     "metadata": {},
     "output_type": "execute_result"
    }
   ],
   "source": [
    "result_w_filter_100"
   ]
  },
  {
   "cell_type": "code",
   "execution_count": 54,
   "metadata": {},
   "outputs": [],
   "source": [
    "#  ------ Erstellung und cleansing des Nutrition Dataframes\n",
    "\n",
    "# erstelle neue liste auf basis der bereits gefilterten rezepte aus ingredients_filt\n",
    "id_overlap_mask = nutritions['id'].isin(result_w_filter_100.index.get_level_values('index').values)\n",
    "\n",
    "# erstelle datenframe auf basis der overlapliste\n",
    "nutritions_filt = nutritions.loc[id_overlap_mask]\n",
    "\n",
    "nutrition_db3 = nutritions_filt.pivot_table(\n",
    "    index=['id'],\n",
    "    columns=['name'],\n",
    "    values=['amount'],\n",
    ").reset_index()\n",
    "\n",
    "nutrition_db3.set_index('id', inplace=True)\n",
    "\n",
    "# remove multiindex 'amount'\n",
    "nutrition_db3.columns = nutrition_db3.columns.droplevel(0)\n",
    "\n",
    "# entferne alle NA\n",
    "nutrition_db3 = nutrition_db3.dropna()"
   ]
  },
  {
   "cell_type": "code",
   "execution_count": 138,
   "metadata": {},
   "outputs": [
    {
     "data": {
      "text/html": "<div>\n<style scoped>\n    .dataframe tbody tr th:only-of-type {\n        vertical-align: middle;\n    }\n\n    .dataframe tbody tr th {\n        vertical-align: top;\n    }\n\n    .dataframe thead th {\n        text-align: right;\n    }\n</style>\n<table border=\"1\" class=\"dataframe\">\n  <thead>\n    <tr style=\"text-align: right;\">\n      <th>name</th>\n      <th>Calcium</th>\n      <th>Calories</th>\n      <th>Calories from Fat</th>\n      <th>Carbohydrates</th>\n      <th>Cholesterol</th>\n      <th>Dietary Fiber</th>\n      <th>Fat</th>\n      <th>Folate</th>\n      <th>Iron</th>\n      <th>Magnesium</th>\n      <th>Niacin Equivalents</th>\n      <th>Potassium</th>\n      <th>Protein</th>\n      <th>Saturated Fat</th>\n      <th>Sodium</th>\n      <th>Sugars</th>\n      <th>Thiamin</th>\n      <th>Vitamin A - IU</th>\n      <th>Vitamin B6</th>\n      <th>Vitamin C</th>\n    </tr>\n  </thead>\n  <tbody>\n    <tr>\n      <td>index</td>\n      <td>333.30000</td>\n      <td>800.00000</td>\n      <td>0.00000</td>\n      <td>43.30000</td>\n      <td>0.00000</td>\n      <td>8.30000</td>\n      <td>30.00000</td>\n      <td>133.30000</td>\n      <td>2.60000</td>\n      <td>133.30000</td>\n      <td>5.30000</td>\n      <td>1.00000</td>\n      <td>18.60000</td>\n      <td>0.00000</td>\n      <td>0.50000</td>\n      <td>0.00000</td>\n      <td>0.40000</td>\n      <td>300.00000</td>\n      <td>0.43000</td>\n      <td>30.00000</td>\n    </tr>\n  </tbody>\n</table>\n</div>",
      "text/plain": "name    Calcium  Calories  Calories from Fat  Carbohydrates  Cholesterol  \\\nindex 333.30000 800.00000            0.00000       43.30000      0.00000   \n\nname   Dietary Fiber      Fat    Folate    Iron  Magnesium  \\\nindex        8.30000 30.00000 133.30000 2.60000  133.30000   \n\nname   Niacin Equivalents  Potassium  Protein  Saturated Fat  Sodium  Sugars  \\\nindex             5.30000    1.00000 18.60000        0.00000 0.50000 0.00000   \n\nname   Thiamin  Vitamin A - IU  Vitamin B6  Vitamin C  \nindex  0.40000       300.00000     0.43000   30.00000  "
     },
     "execution_count": 138,
     "metadata": {},
     "output_type": "execute_result"
    }
   ],
   "source": [
    "# 19–30 empfohlene nährwerte pro tag #https://www.ncbi.nlm.nih.gov/books/NBK56068/table/summarytables.t4/?report=objectonly\n",
    "recommenden_nut_low_fat = pd.DataFrame(data=None, columns=nutrition_db2.columns, index=None)\n",
    "recommenden_nut_low_fat.loc['index'] = [\n",
    "    # \"Calcium\":[1],\n",
    "    333.3,\n",
    "    # \"Calories\":[1],\n",
    "    800,\n",
    "    # \"Calories from Fat\":[1],\n",
    "    0,\n",
    "    # \"Carbohydrates\":[1],\n",
    "    43.3,\n",
    "    # \"Cholesterol\":[1],\n",
    "    0,\n",
    "    # \"Dietary Fiber\t\":[1],\n",
    "    8.3,\n",
    "    # \"Fat\":[1],\n",
    "    1,\n",
    "    # \"Folate\":[1],\n",
    "    133.3,\n",
    "    # \"Iron\":[1],\n",
    "    2.6,\n",
    "    # \"Magnesium\":[1],\n",
    "    133.3,\n",
    "    # \"Niacin Equivalents\":[1],\n",
    "    5.3,\n",
    "    # \"Potassium\":[1],\n",
    "    1,\n",
    "    # \"Protein\":[1],\n",
    "    18.6,\n",
    "    # \"Saturated Fat\":[1],\n",
    "    0,\n",
    "    # \"Sodium\":[1],\n",
    "    0.5,\n",
    "    # \"Sugars\":[1],\n",
    "    0,\n",
    "    # \"Thiamin\":[1],\n",
    "    0.4,\n",
    "    # \"Vitamin A - IU\":[1],\n",
    "    300,\n",
    "    # \"Vitamin B6\":[1],\n",
    "    0.43,\n",
    "    # \"Vitamin C\":[1]}\n",
    "    30]\n",
    "recommenden_nut"
   ]
  },
  {
   "cell_type": "code",
   "execution_count": 139,
   "metadata": {},
   "outputs": [
    {
     "data": {
      "text/html": "<div>\n<style scoped>\n    .dataframe tbody tr th:only-of-type {\n        vertical-align: middle;\n    }\n\n    .dataframe tbody tr th {\n        vertical-align: top;\n    }\n\n    .dataframe thead th {\n        text-align: right;\n    }\n</style>\n<table border=\"1\" class=\"dataframe\">\n  <thead>\n    <tr style=\"text-align: right;\">\n      <th>name</th>\n      <th>Calcium</th>\n      <th>Calories</th>\n      <th>Calories from Fat</th>\n      <th>Carbohydrates</th>\n      <th>Cholesterol</th>\n      <th>Dietary Fiber</th>\n      <th>Fat</th>\n      <th>Folate</th>\n      <th>Iron</th>\n      <th>Magnesium</th>\n      <th>Niacin Equivalents</th>\n      <th>Potassium</th>\n      <th>Protein</th>\n      <th>Saturated Fat</th>\n      <th>Sodium</th>\n      <th>Sugars</th>\n      <th>Thiamin</th>\n      <th>Vitamin A - IU</th>\n      <th>Vitamin B6</th>\n      <th>Vitamin C</th>\n    </tr>\n  </thead>\n  <tbody>\n    <tr>\n      <td>index</td>\n      <td>333.30000</td>\n      <td>800.00000</td>\n      <td>0.00000</td>\n      <td>43.30000</td>\n      <td>0.00000</td>\n      <td>8.30000</td>\n      <td>30.00000</td>\n      <td>133.30000</td>\n      <td>2.60000</td>\n      <td>133.30000</td>\n      <td>5.30000</td>\n      <td>1.00000</td>\n      <td>18.60000</td>\n      <td>0.00000</td>\n      <td>0.50000</td>\n      <td>0.00000</td>\n      <td>0.40000</td>\n      <td>300.00000</td>\n      <td>0.43000</td>\n      <td>30.00000</td>\n    </tr>\n  </tbody>\n</table>\n</div>",
      "text/plain": "name    Calcium  Calories  Calories from Fat  Carbohydrates  Cholesterol  \\\nindex 333.30000 800.00000            0.00000       43.30000      0.00000   \n\nname   Dietary Fiber      Fat    Folate    Iron  Magnesium  \\\nindex        8.30000 30.00000 133.30000 2.60000  133.30000   \n\nname   Niacin Equivalents  Potassium  Protein  Saturated Fat  Sodium  Sugars  \\\nindex             5.30000    1.00000 18.60000        0.00000 0.50000 0.00000   \n\nname   Thiamin  Vitamin A - IU  Vitamin B6  Vitamin C  \nindex  0.40000       300.00000     0.43000   30.00000  "
     },
     "execution_count": 139,
     "metadata": {},
     "output_type": "execute_result"
    }
   ],
   "source": [
    "# 19–30 empfohlene nährwerte pro tag #https://www.ncbi.nlm.nih.gov/books/NBK56068/table/summarytables.t4/?report=objectonly\n",
    "recommenden_nut_low_carbs = pd.DataFrame(data=None, columns=nutrition_db2.columns, index=None)\n",
    "recommenden_nut_low_carbs.loc['index'] = [\n",
    "    # \"Calcium\":[1],\n",
    "    333.3,\n",
    "    # \"Calories\":[1],\n",
    "    800,\n",
    "    # \"Calories from Fat\":[1],\n",
    "    0,\n",
    "    # \"Carbohydrates\":[1],\n",
    "    1,\n",
    "    # \"Cholesterol\":[1],\n",
    "    0,\n",
    "    # \"Dietary Fiber\t\":[1],\n",
    "    8.3,\n",
    "    # \"Fat\":[1],\n",
    "    20,\n",
    "    # \"Folate\":[1],\n",
    "    133.3,\n",
    "    # \"Iron\":[1],\n",
    "    2.6,\n",
    "    # \"Magnesium\":[1],\n",
    "    133.3,\n",
    "    # \"Niacin Equivalents\":[1],\n",
    "    5.3,\n",
    "    # \"Potassium\":[1],\n",
    "    1,\n",
    "    # \"Protein\":[1],\n",
    "    18.6,\n",
    "    # \"Saturated Fat\":[1],\n",
    "    0,\n",
    "    # \"Sodium\":[1],\n",
    "    0.5,\n",
    "    # \"Sugars\":[1],\n",
    "    0,\n",
    "    # \"Thiamin\":[1],\n",
    "    0.4,\n",
    "    # \"Vitamin A - IU\":[1],\n",
    "    300,\n",
    "    # \"Vitamin B6\":[1],\n",
    "    0.43,\n",
    "    # \"Vitamin C\":[1]}\n",
    "    30]\n",
    "recommenden_nut"
   ]
  },
  {
   "cell_type": "code",
   "execution_count": 140,
   "metadata": {},
   "outputs": [
    {
     "data": {
      "text/html": "<div>\n<style scoped>\n    .dataframe tbody tr th:only-of-type {\n        vertical-align: middle;\n    }\n\n    .dataframe tbody tr th {\n        vertical-align: top;\n    }\n\n    .dataframe thead th {\n        text-align: right;\n    }\n</style>\n<table border=\"1\" class=\"dataframe\">\n  <thead>\n    <tr style=\"text-align: right;\">\n      <th></th>\n      <th>euclid_distance_sum</th>\n    </tr>\n  </thead>\n  <tbody>\n    <tr>\n      <td>20100</td>\n      <td>3593.08980</td>\n    </tr>\n    <tr>\n      <td>229277</td>\n      <td>4526.79447</td>\n    </tr>\n    <tr>\n      <td>25877</td>\n      <td>8375.80445</td>\n    </tr>\n    <tr>\n      <td>8547</td>\n      <td>8421.21207</td>\n    </tr>\n    <tr>\n      <td>20606</td>\n      <td>9089.34335</td>\n    </tr>\n    <tr>\n      <td>11832</td>\n      <td>11261.16514</td>\n    </tr>\n    <tr>\n      <td>14614</td>\n      <td>11984.20615</td>\n    </tr>\n    <tr>\n      <td>52464</td>\n      <td>12082.38184</td>\n    </tr>\n    <tr>\n      <td>16602</td>\n      <td>13061.68059</td>\n    </tr>\n    <tr>\n      <td>105016</td>\n      <td>13540.12259</td>\n    </tr>\n  </tbody>\n</table>\n</div>",
      "text/plain": "        euclid_distance_sum\n20100            3593.08980\n229277           4526.79447\n25877            8375.80445\n8547             8421.21207\n20606            9089.34335\n11832           11261.16514\n14614           11984.20615\n52464           12082.38184\n16602           13061.68059\n105016          13540.12259"
     },
     "execution_count": 140,
     "metadata": {},
     "output_type": "execute_result"
    }
   ],
   "source": [
    "# euklidische distanz für nährwerte\n",
    "no_weight = [\n",
    "    # \"Calcium\":[1],\n",
    "    1,\n",
    "    # \"Calories\":[1],\n",
    "    1,\n",
    "    # \"Calories from Fat\":[1],\n",
    "    1,\n",
    "    # \"Carbohydrates\":[1],\n",
    "    1,\n",
    "    # \"Cholesterol\":[1],\n",
    "    1,\n",
    "    # \"Dietary Fiber\t\":[1],\n",
    "    1,\n",
    "    # \"Fat\":[1],\n",
    "    1,\n",
    "    # \"Folate\":[1],\n",
    "    1,\n",
    "    # \"Iron\":[1],\n",
    "    1,\n",
    "    # \"Magnesium\":[1],\n",
    "    1,\n",
    "    # \"Niacin Equivalents\":[1],\n",
    "    1,\n",
    "    # \"Potassium\":[1],\n",
    "    1,\n",
    "    # \"Protein\":[1],\n",
    "    1,\n",
    "    # \"Saturated Fat\":[1],\n",
    "    1,\n",
    "    # \"Sodium\":[1],\n",
    "    1,\n",
    "    # \"Sugars\":[1],\n",
    "    1,\n",
    "    # \"Thiamin\":[1],\n",
    "    1,\n",
    "    # \"Vitamin A - IU\":[1],\n",
    "    1,\n",
    "    # \"Vitamin B6\":[1],\n",
    "    1,\n",
    "    # \"Vitamin C\":[1]}\n",
    "    1]\n",
    "\n",
    "weighted_fat = [\n",
    "    # \"Calcium\":[1],\n",
    "    1,\n",
    "    # \"Calories\":[1],\n",
    "    1,\n",
    "    # \"Calories from Fat\":[1],\n",
    "    1,\n",
    "    # \"Carbohydrates\":[1],\n",
    "    1,\n",
    "    # \"Cholesterol\":[1],\n",
    "    1,\n",
    "    # \"Dietary Fiber\t\":[1],\n",
    "    1,\n",
    "    # \"Fat\":[1],\n",
    "    10000000,\n",
    "    # \"Folate\":[1],\n",
    "    1,\n",
    "    # \"Iron\":[1],\n",
    "    1,\n",
    "    # \"Magnesium\":[1],\n",
    "    1,\n",
    "    # \"Niacin Equivalents\":[1],\n",
    "    1,\n",
    "    # \"Potassium\":[1],\n",
    "    1,\n",
    "    # \"Protein\":[1],\n",
    "    1,\n",
    "    # \"Saturated Fat\":[1],\n",
    "    1,\n",
    "    # \"Sodium\":[1],\n",
    "    1,\n",
    "    # \"Sugars\":[1],\n",
    "    1,\n",
    "    # \"Thiamin\":[1],\n",
    "    1,\n",
    "    # \"Vitamin A - IU\":[1],\n",
    "    1,\n",
    "    # \"Vitamin B6\":[1],\n",
    "    1,\n",
    "    # \"Vitamin C\":[1]}\n",
    "    1]\n",
    "\n",
    "weighted_carbs = [\n",
    "    # \"Calcium\":[1],\n",
    "    1,\n",
    "    # \"Calories\":[1],\n",
    "    1,\n",
    "    # \"Calories from Fat\":[1],\n",
    "    1,\n",
    "    # \"Carbohydrates\":[1],\n",
    "    1000000,\n",
    "    # \"Cholesterol\":[1],\n",
    "    1,\n",
    "    # \"Dietary Fiber\t\":[1],\n",
    "    1,\n",
    "    # \"Fat\":[1],\n",
    "    1,\n",
    "    # \"Folate\":[1],\n",
    "    1,\n",
    "    # \"Iron\":[1],\n",
    "    1,\n",
    "    # \"Magnesium\":[1],\n",
    "    1,\n",
    "    # \"Niacin Equivalents\":[1],\n",
    "    1,\n",
    "    # \"Potassium\":[1],\n",
    "    1,\n",
    "    # \"Protein\":[1],\n",
    "    1,\n",
    "    # \"Saturated Fat\":[1],\n",
    "    1,\n",
    "    # \"Sodium\":[1],\n",
    "    1,\n",
    "    # \"Sugars\":[1],\n",
    "    1,\n",
    "    # \"Thiamin\":[1],\n",
    "    1,\n",
    "    # \"Vitamin A - IU\":[1],\n",
    "    1,\n",
    "    # \"Vitamin B6\":[1],\n",
    "    1,\n",
    "    # \"Vitamin C\":[1]}\n",
    "    1]\n",
    "\n",
    "\n",
    "result_array = cdist(recommenden_nut_low_carbs, nutrition_db3, 'minkowski', p=2, w=weighted_carbs)\n",
    "euclid_distance = pd.DataFrame(\n",
    "    result_array, columns=nutrition_db3.index.values, index=recommenden_nut.index.values)\n",
    "\n",
    "euclid_distance_sum_carbs = pd.DataFrame(\n",
    "    euclid_distance.sum(), columns=['euclid_distance_sum'])\n",
    "euclid_distance_sum_carbs = euclid_distance_sum_carbs.sort_values(by='euclid_distance_sum')\n",
    "euclid_distance_sum_carbs[0:10]"
   ]
  },
  {
   "cell_type": "code",
   "execution_count": 141,
   "metadata": {},
   "outputs": [],
   "source": [
    "jaccard_euclid_joined_carbs = pd.merge(euclid_distance_sum_carbs, result_w_filter_100, left_index=True, right_index=True)"
   ]
  },
  {
   "cell_type": "code",
   "execution_count": 142,
   "metadata": {},
   "outputs": [
    {
     "data": {
      "text/html": "<div>\n<style scoped>\n    .dataframe tbody tr th:only-of-type {\n        vertical-align: middle;\n    }\n\n    .dataframe tbody tr th {\n        vertical-align: top;\n    }\n\n    .dataframe thead th {\n        text-align: right;\n    }\n</style>\n<table border=\"1\" class=\"dataframe\">\n  <thead>\n    <tr style=\"text-align: right;\">\n      <th></th>\n      <th>euclid_distance_sum</th>\n      <th>jaccard_distance_sum</th>\n      <th>pos</th>\n    </tr>\n  </thead>\n  <tbody>\n    <tr>\n      <td>20100</td>\n      <td>3593.08980</td>\n      <td>0.95019</td>\n      <td>68</td>\n    </tr>\n    <tr>\n      <td>229277</td>\n      <td>4526.79447</td>\n      <td>0.95173</td>\n      <td>93</td>\n    </tr>\n    <tr>\n      <td>25877</td>\n      <td>8375.80445</td>\n      <td>0.94456</td>\n      <td>30</td>\n    </tr>\n    <tr>\n      <td>8547</td>\n      <td>8421.21207</td>\n      <td>0.92613</td>\n      <td>0</td>\n    </tr>\n    <tr>\n      <td>20606</td>\n      <td>9089.34335</td>\n      <td>0.94754</td>\n      <td>50</td>\n    </tr>\n    <tr>\n      <td>11832</td>\n      <td>11261.16514</td>\n      <td>0.93826</td>\n      <td>10</td>\n    </tr>\n    <tr>\n      <td>14614</td>\n      <td>11984.20615</td>\n      <td>0.94352</td>\n      <td>25</td>\n    </tr>\n    <tr>\n      <td>52464</td>\n      <td>12082.38184</td>\n      <td>0.94773</td>\n      <td>51</td>\n    </tr>\n    <tr>\n      <td>16602</td>\n      <td>13061.68059</td>\n      <td>0.95108</td>\n      <td>76</td>\n    </tr>\n    <tr>\n      <td>105016</td>\n      <td>13540.12259</td>\n      <td>0.95110</td>\n      <td>78</td>\n    </tr>\n    <tr>\n      <td>216914</td>\n      <td>14798.36152</td>\n      <td>0.94810</td>\n      <td>55</td>\n    </tr>\n    <tr>\n      <td>216902</td>\n      <td>15934.44766</td>\n      <td>0.94961</td>\n      <td>62</td>\n    </tr>\n    <tr>\n      <td>228450</td>\n      <td>16002.83285</td>\n      <td>0.95095</td>\n      <td>75</td>\n    </tr>\n    <tr>\n      <td>132511</td>\n      <td>17735.43223</td>\n      <td>0.94033</td>\n      <td>14</td>\n    </tr>\n    <tr>\n      <td>68380</td>\n      <td>18087.44235</td>\n      <td>0.94698</td>\n      <td>45</td>\n    </tr>\n    <tr>\n      <td>16978</td>\n      <td>19776.34865</td>\n      <td>0.94775</td>\n      <td>53</td>\n    </tr>\n    <tr>\n      <td>231396</td>\n      <td>19864.72619</td>\n      <td>0.95166</td>\n      <td>92</td>\n    </tr>\n    <tr>\n      <td>21021</td>\n      <td>20118.03645</td>\n      <td>0.94893</td>\n      <td>59</td>\n    </tr>\n    <tr>\n      <td>84044</td>\n      <td>21075.48453</td>\n      <td>0.94979</td>\n      <td>64</td>\n    </tr>\n    <tr>\n      <td>26614</td>\n      <td>21278.62675</td>\n      <td>0.95154</td>\n      <td>89</td>\n    </tr>\n  </tbody>\n</table>\n</div>",
      "text/plain": "        euclid_distance_sum  jaccard_distance_sum  pos\n20100            3593.08980               0.95019   68\n229277           4526.79447               0.95173   93\n25877            8375.80445               0.94456   30\n8547             8421.21207               0.92613    0\n20606            9089.34335               0.94754   50\n11832           11261.16514               0.93826   10\n14614           11984.20615               0.94352   25\n52464           12082.38184               0.94773   51\n16602           13061.68059               0.95108   76\n105016          13540.12259               0.95110   78\n216914          14798.36152               0.94810   55\n216902          15934.44766               0.94961   62\n228450          16002.83285               0.95095   75\n132511          17735.43223               0.94033   14\n68380           18087.44235               0.94698   45\n16978           19776.34865               0.94775   53\n231396          19864.72619               0.95166   92\n21021           20118.03645               0.94893   59\n84044           21075.48453               0.94979   64\n26614           21278.62675               0.95154   89"
     },
     "execution_count": 142,
     "metadata": {},
     "output_type": "execute_result"
    }
   ],
   "source": [
    "jaccard_euclid_joined_carbs[0:20]"
   ]
  },
  {
   "cell_type": "code",
   "execution_count": 143,
   "metadata": {},
   "outputs": [
    {
     "data": {
      "text/plain": "array([ 20100, 229277,  25877,   8547,  20606,  11832,  14614,  52464,\n        16602, 105016, 216914, 216902, 228450, 132511,  68380,  16978,\n       231396,  21021,  84044,  26614])"
     },
     "execution_count": 143,
     "metadata": {},
     "output_type": "execute_result"
    }
   ],
   "source": [
    "jaccard_euclid_joined_carbs[0:20].index.to_numpy()"
   ]
  },
  {
   "cell_type": "code",
   "execution_count": 144,
   "metadata": {},
   "outputs": [
    {
     "data": {
      "text/plain": "array([169974, 114351, 216026,  42967, 215616, 164208,  22931, 158587,\n        26299,  16304, 169322,  38028, 177777, 222509, 234797,  86813,\n        14668,  16682,  35469,   8757])"
     },
     "execution_count": 144,
     "metadata": {},
     "output_type": "execute_result"
    }
   ],
   "source": [
    "id_list"
   ]
  },
  {
   "cell_type": "code",
   "execution_count": 145,
   "metadata": {},
   "outputs": [],
   "source": [
    "#  ------ Erstellung und cleansing des Nutrition Dataframes\n",
    "\n",
    "# erstelle neue liste auf basis der bereits gefilterten rezepte aus ingredients_filt\n",
    "id_overlap_mask = nutritions['id'].isin(jaccard_euclid_joined_carbs[0:20].index.to_numpy())\n",
    "\n",
    "# erstelle datenframe auf basis der overlapliste\n",
    "nutritions_filt = nutritions.loc[id_overlap_mask]\n",
    "\n",
    "nutrition_top20_carbs = nutritions_filt.pivot_table(\n",
    "    index=['id'],\n",
    "    columns=['name'],\n",
    "    values=['amount'],\n",
    ").reset_index()\n",
    "\n",
    "nutrition_top20_carbs.set_index('id', inplace=True)\n",
    "\n",
    "# remove multiindex 'amount'\n",
    "nutrition_top20_carbs.columns = nutrition_top20_carbs.columns.droplevel(0)\n",
    "\n",
    "# entferne alle NA\n",
    "nutrition_top20_carbs = nutrition_top20_carbs.dropna()"
   ]
  },
  {
   "cell_type": "code",
   "execution_count": 146,
   "metadata": {},
   "outputs": [
    {
     "data": {
      "text/html": "<div>\n<style scoped>\n    .dataframe tbody tr th:only-of-type {\n        vertical-align: middle;\n    }\n\n    .dataframe tbody tr th {\n        vertical-align: top;\n    }\n\n    .dataframe thead th {\n        text-align: right;\n    }\n</style>\n<table border=\"1\" class=\"dataframe\">\n  <thead>\n    <tr style=\"text-align: right;\">\n      <th>name</th>\n      <th>Calcium</th>\n      <th>Calories</th>\n      <th>Calories from Fat</th>\n      <th>Carbohydrates</th>\n      <th>Cholesterol</th>\n      <th>Dietary Fiber</th>\n      <th>Fat</th>\n      <th>Folate</th>\n      <th>Iron</th>\n      <th>Magnesium</th>\n      <th>Niacin Equivalents</th>\n      <th>Potassium</th>\n      <th>Protein</th>\n      <th>Saturated Fat</th>\n      <th>Sodium</th>\n      <th>Sugars</th>\n      <th>Thiamin</th>\n      <th>Vitamin A - IU</th>\n      <th>Vitamin B6</th>\n      <th>Vitamin C</th>\n    </tr>\n  </thead>\n  <tbody>\n    <tr>\n      <td>count</td>\n      <td>20.00000</td>\n      <td>20.00000</td>\n      <td>20.00000</td>\n      <td>20.00000</td>\n      <td>20.00000</td>\n      <td>20.00000</td>\n      <td>20.00000</td>\n      <td>20.00000</td>\n      <td>20.00000</td>\n      <td>20.00000</td>\n      <td>20.00000</td>\n      <td>20.00000</td>\n      <td>20.00000</td>\n      <td>20.00000</td>\n      <td>20.00000</td>\n      <td>20.00000</td>\n      <td>20.00000</td>\n      <td>20.00000</td>\n      <td>20.00000</td>\n      <td>20.00000</td>\n    </tr>\n    <tr>\n      <td>mean</td>\n      <td>232.80897</td>\n      <td>441.21565</td>\n      <td>263.47568</td>\n      <td>14.89874</td>\n      <td>139.05943</td>\n      <td>1.52673</td>\n      <td>29.27507</td>\n      <td>38.51919</td>\n      <td>2.53864</td>\n      <td>40.96111</td>\n      <td>12.67663</td>\n      <td>457.20880</td>\n      <td>28.79743</td>\n      <td>14.75222</td>\n      <td>727.31931</td>\n      <td>3.60900</td>\n      <td>0.20827</td>\n      <td>1441.35990</td>\n      <td>0.44272</td>\n      <td>20.75536</td>\n    </tr>\n    <tr>\n      <td>std</td>\n      <td>124.51105</td>\n      <td>126.92228</td>\n      <td>91.15115</td>\n      <td>5.41389</td>\n      <td>74.02676</td>\n      <td>1.20651</td>\n      <td>10.12790</td>\n      <td>19.90540</td>\n      <td>1.18942</td>\n      <td>11.69708</td>\n      <td>7.07195</td>\n      <td>152.81855</td>\n      <td>11.16186</td>\n      <td>6.25299</td>\n      <td>347.00075</td>\n      <td>2.97849</td>\n      <td>0.15671</td>\n      <td>912.48502</td>\n      <td>0.25420</td>\n      <td>36.78659</td>\n    </tr>\n    <tr>\n      <td>min</td>\n      <td>68.09885</td>\n      <td>216.95200</td>\n      <td>103.74080</td>\n      <td>4.44503</td>\n      <td>16.25600</td>\n      <td>0.20320</td>\n      <td>11.52676</td>\n      <td>13.06472</td>\n      <td>1.08367</td>\n      <td>21.07063</td>\n      <td>3.23102</td>\n      <td>166.84280</td>\n      <td>8.33184</td>\n      <td>3.67949</td>\n      <td>167.14420</td>\n      <td>0.35572</td>\n      <td>0.04025</td>\n      <td>331.48460</td>\n      <td>0.07274</td>\n      <td>0.33399</td>\n    </tr>\n    <tr>\n      <td>25%</td>\n      <td>157.43647</td>\n      <td>333.20508</td>\n      <td>187.88507</td>\n      <td>11.66502</td>\n      <td>80.97720</td>\n      <td>0.58755</td>\n      <td>20.87612</td>\n      <td>20.49061</td>\n      <td>1.78654</td>\n      <td>32.18264</td>\n      <td>8.08036</td>\n      <td>362.17585</td>\n      <td>22.20007</td>\n      <td>9.97146</td>\n      <td>542.96300</td>\n      <td>1.58669</td>\n      <td>0.09246</td>\n      <td>807.48828</td>\n      <td>0.28054</td>\n      <td>2.90062</td>\n    </tr>\n    <tr>\n      <td>50%</td>\n      <td>196.07420</td>\n      <td>446.41015</td>\n      <td>248.80110</td>\n      <td>14.87917</td>\n      <td>140.73475</td>\n      <td>1.28332</td>\n      <td>27.64457</td>\n      <td>37.92956</td>\n      <td>2.10808</td>\n      <td>39.11562</td>\n      <td>10.27193</td>\n      <td>444.41395</td>\n      <td>27.50297</td>\n      <td>13.17364</td>\n      <td>665.54930</td>\n      <td>2.85883</td>\n      <td>0.14487</td>\n      <td>1283.48000</td>\n      <td>0.35866</td>\n      <td>9.72693</td>\n    </tr>\n    <tr>\n      <td>75%</td>\n      <td>356.95022</td>\n      <td>524.49665</td>\n      <td>339.68033</td>\n      <td>19.42903</td>\n      <td>179.79188</td>\n      <td>1.79294</td>\n      <td>37.74226</td>\n      <td>50.27422</td>\n      <td>3.34453</td>\n      <td>49.92160</td>\n      <td>16.80057</td>\n      <td>589.22190</td>\n      <td>34.29183</td>\n      <td>20.28089</td>\n      <td>876.01245</td>\n      <td>4.87895</td>\n      <td>0.31885</td>\n      <td>1861.59100</td>\n      <td>0.60429</td>\n      <td>20.85158</td>\n    </tr>\n    <tr>\n      <td>max</td>\n      <td>479.44080</td>\n      <td>641.84630</td>\n      <td>411.54340</td>\n      <td>22.26139</td>\n      <td>359.67140</td>\n      <td>4.70360</td>\n      <td>45.72704</td>\n      <td>75.14988</td>\n      <td>5.34475</td>\n      <td>64.35880</td>\n      <td>29.67555</td>\n      <td>680.96200</td>\n      <td>50.00866</td>\n      <td>26.02578</td>\n      <td>1722.32400</td>\n      <td>12.23150</td>\n      <td>0.49511</td>\n      <td>4513.28800</td>\n      <td>1.12702</td>\n      <td>160.61080</td>\n    </tr>\n  </tbody>\n</table>\n</div>",
      "text/plain": "name    Calcium  Calories  Calories from Fat  Carbohydrates  Cholesterol  \\\ncount  20.00000  20.00000           20.00000       20.00000     20.00000   \nmean  232.80897 441.21565          263.47568       14.89874    139.05943   \nstd   124.51105 126.92228           91.15115        5.41389     74.02676   \nmin    68.09885 216.95200          103.74080        4.44503     16.25600   \n25%   157.43647 333.20508          187.88507       11.66502     80.97720   \n50%   196.07420 446.41015          248.80110       14.87917    140.73475   \n75%   356.95022 524.49665          339.68033       19.42903    179.79188   \nmax   479.44080 641.84630          411.54340       22.26139    359.67140   \n\nname   Dietary Fiber      Fat   Folate     Iron  Magnesium  \\\ncount       20.00000 20.00000 20.00000 20.00000   20.00000   \nmean         1.52673 29.27507 38.51919  2.53864   40.96111   \nstd          1.20651 10.12790 19.90540  1.18942   11.69708   \nmin          0.20320 11.52676 13.06472  1.08367   21.07063   \n25%          0.58755 20.87612 20.49061  1.78654   32.18264   \n50%          1.28332 27.64457 37.92956  2.10808   39.11562   \n75%          1.79294 37.74226 50.27422  3.34453   49.92160   \nmax          4.70360 45.72704 75.14988  5.34475   64.35880   \n\nname   Niacin Equivalents  Potassium  Protein  Saturated Fat     Sodium  \\\ncount            20.00000   20.00000 20.00000       20.00000   20.00000   \nmean             12.67663  457.20880 28.79743       14.75222  727.31931   \nstd               7.07195  152.81855 11.16186        6.25299  347.00075   \nmin               3.23102  166.84280  8.33184        3.67949  167.14420   \n25%               8.08036  362.17585 22.20007        9.97146  542.96300   \n50%              10.27193  444.41395 27.50297       13.17364  665.54930   \n75%              16.80057  589.22190 34.29183       20.28089  876.01245   \nmax              29.67555  680.96200 50.00866       26.02578 1722.32400   \n\nname    Sugars  Thiamin  Vitamin A - IU  Vitamin B6  Vitamin C  \ncount 20.00000 20.00000        20.00000    20.00000   20.00000  \nmean   3.60900  0.20827      1441.35990     0.44272   20.75536  \nstd    2.97849  0.15671       912.48502     0.25420   36.78659  \nmin    0.35572  0.04025       331.48460     0.07274    0.33399  \n25%    1.58669  0.09246       807.48828     0.28054    2.90062  \n50%    2.85883  0.14487      1283.48000     0.35866    9.72693  \n75%    4.87895  0.31885      1861.59100     0.60429   20.85158  \nmax   12.23150  0.49511      4513.28800     1.12702  160.61080  "
     },
     "execution_count": 146,
     "metadata": {},
     "output_type": "execute_result"
    }
   ],
   "source": [
    "nutrition_top20_carbs.describe()"
   ]
  },
  {
   "cell_type": "code",
   "execution_count": 147,
   "metadata": {},
   "outputs": [
    {
     "data": {
      "text/html": "<div>\n<style scoped>\n    .dataframe tbody tr th:only-of-type {\n        vertical-align: middle;\n    }\n\n    .dataframe tbody tr th {\n        vertical-align: top;\n    }\n\n    .dataframe thead th {\n        text-align: right;\n    }\n</style>\n<table border=\"1\" class=\"dataframe\">\n  <thead>\n    <tr style=\"text-align: right;\">\n      <th>name</th>\n      <th>Calcium</th>\n      <th>Calories</th>\n      <th>Calories from Fat</th>\n      <th>Carbohydrates</th>\n      <th>Cholesterol</th>\n      <th>Dietary Fiber</th>\n      <th>Fat</th>\n      <th>Folate</th>\n      <th>Iron</th>\n      <th>Magnesium</th>\n      <th>Niacin Equivalents</th>\n      <th>Potassium</th>\n      <th>Protein</th>\n      <th>Saturated Fat</th>\n      <th>Sodium</th>\n      <th>Sugars</th>\n      <th>Thiamin</th>\n      <th>Vitamin A - IU</th>\n      <th>Vitamin B6</th>\n      <th>Vitamin C</th>\n    </tr>\n  </thead>\n  <tbody>\n    <tr>\n      <td>count</td>\n      <td>4061.00000</td>\n      <td>4061.00000</td>\n      <td>4061.00000</td>\n      <td>4061.00000</td>\n      <td>4061.00000</td>\n      <td>4061.00000</td>\n      <td>4061.00000</td>\n      <td>4061.00000</td>\n      <td>4061.00000</td>\n      <td>4061.00000</td>\n      <td>4061.00000</td>\n      <td>4061.00000</td>\n      <td>4061.00000</td>\n      <td>4061.00000</td>\n      <td>4061.00000</td>\n      <td>4061.00000</td>\n      <td>4061.00000</td>\n      <td>4061.00000</td>\n      <td>4061.00000</td>\n      <td>4061.00000</td>\n    </tr>\n    <tr>\n      <td>mean</td>\n      <td>146.27411</td>\n      <td>436.40975</td>\n      <td>205.37237</td>\n      <td>29.33344</td>\n      <td>96.51821</td>\n      <td>2.63126</td>\n      <td>22.81915</td>\n      <td>60.77660</td>\n      <td>3.17214</td>\n      <td>51.61693</td>\n      <td>12.29695</td>\n      <td>537.39301</td>\n      <td>27.76348</td>\n      <td>8.69244</td>\n      <td>846.57719</td>\n      <td>6.72518</td>\n      <td>0.30159</td>\n      <td>1221.36958</td>\n      <td>0.50872</td>\n      <td>16.72761</td>\n    </tr>\n    <tr>\n      <td>std</td>\n      <td>159.44644</td>\n      <td>208.88694</td>\n      <td>142.06851</td>\n      <td>23.54763</td>\n      <td>64.77935</td>\n      <td>2.63839</td>\n      <td>15.78539</td>\n      <td>60.62238</td>\n      <td>2.60958</td>\n      <td>32.33175</td>\n      <td>7.29271</td>\n      <td>325.05535</td>\n      <td>13.36397</td>\n      <td>7.23535</td>\n      <td>736.50210</td>\n      <td>9.17572</td>\n      <td>0.30494</td>\n      <td>2557.63597</td>\n      <td>0.34450</td>\n      <td>26.92523</td>\n    </tr>\n    <tr>\n      <td>min</td>\n      <td>0.93181</td>\n      <td>13.63194</td>\n      <td>0.92750</td>\n      <td>0.00000</td>\n      <td>0.00000</td>\n      <td>0.00000</td>\n      <td>0.10306</td>\n      <td>0.00000</td>\n      <td>0.07193</td>\n      <td>0.85861</td>\n      <td>0.03511</td>\n      <td>4.66014</td>\n      <td>0.44604</td>\n      <td>0.01992</td>\n      <td>2.67762</td>\n      <td>0.00000</td>\n      <td>0.00012</td>\n      <td>0.00000</td>\n      <td>0.00252</td>\n      <td>0.00000</td>\n    </tr>\n    <tr>\n      <td>25%</td>\n      <td>41.70671</td>\n      <td>293.53170</td>\n      <td>110.96110</td>\n      <td>10.17949</td>\n      <td>58.52000</td>\n      <td>0.72400</td>\n      <td>12.32901</td>\n      <td>15.83472</td>\n      <td>1.76227</td>\n      <td>31.96074</td>\n      <td>7.13499</td>\n      <td>330.88660</td>\n      <td>19.10435</td>\n      <td>3.46839</td>\n      <td>403.24870</td>\n      <td>1.70200</td>\n      <td>0.10256</td>\n      <td>226.24930</td>\n      <td>0.26951</td>\n      <td>2.03857</td>\n    </tr>\n    <tr>\n      <td>50%</td>\n      <td>82.98421</td>\n      <td>402.21690</td>\n      <td>179.09050</td>\n      <td>24.76230</td>\n      <td>83.20487</td>\n      <td>1.90878</td>\n      <td>19.89894</td>\n      <td>39.23425</td>\n      <td>2.72961</td>\n      <td>45.60215</td>\n      <td>10.96189</td>\n      <td>474.42300</td>\n      <td>26.44455</td>\n      <td>6.94486</td>\n      <td>719.30310</td>\n      <td>3.83038</td>\n      <td>0.19551</td>\n      <td>569.17940</td>\n      <td>0.43700</td>\n      <td>6.49813</td>\n    </tr>\n    <tr>\n      <td>75%</td>\n      <td>191.93500</td>\n      <td>543.94100</td>\n      <td>270.12480</td>\n      <td>43.31408</td>\n      <td>126.13500</td>\n      <td>3.67149</td>\n      <td>30.01386</td>\n      <td>88.15191</td>\n      <td>3.95205</td>\n      <td>63.72025</td>\n      <td>16.48777</td>\n      <td>660.33650</td>\n      <td>34.30157</td>\n      <td>11.96910</td>\n      <td>1084.22600</td>\n      <td>7.81290</td>\n      <td>0.39492</td>\n      <td>1118.82800</td>\n      <td>0.68543</td>\n      <td>19.57264</td>\n    </tr>\n    <tr>\n      <td>max</td>\n      <td>1264.32600</td>\n      <td>4709.19900</td>\n      <td>3455.29000</td>\n      <td>236.72050</td>\n      <td>979.77610</td>\n      <td>27.83175</td>\n      <td>383.92110</td>\n      <td>519.53590</td>\n      <td>55.89075</td>\n      <td>590.39220</td>\n      <td>109.01730</td>\n      <td>6063.16200</td>\n      <td>273.21630</td>\n      <td>103.43580</td>\n      <td>22099.37000</td>\n      <td>136.50510</td>\n      <td>3.25879</td>\n      <td>40386.87000</td>\n      <td>5.98334</td>\n      <td>507.27710</td>\n    </tr>\n  </tbody>\n</table>\n</div>",
      "text/plain": "name     Calcium   Calories  Calories from Fat  Carbohydrates  Cholesterol  \\\ncount 4061.00000 4061.00000         4061.00000     4061.00000   4061.00000   \nmean   146.27411  436.40975          205.37237       29.33344     96.51821   \nstd    159.44644  208.88694          142.06851       23.54763     64.77935   \nmin      0.93181   13.63194            0.92750        0.00000      0.00000   \n25%     41.70671  293.53170          110.96110       10.17949     58.52000   \n50%     82.98421  402.21690          179.09050       24.76230     83.20487   \n75%    191.93500  543.94100          270.12480       43.31408    126.13500   \nmax   1264.32600 4709.19900         3455.29000      236.72050    979.77610   \n\nname   Dietary Fiber        Fat     Folate       Iron  Magnesium  \\\ncount     4061.00000 4061.00000 4061.00000 4061.00000 4061.00000   \nmean         2.63126   22.81915   60.77660    3.17214   51.61693   \nstd          2.63839   15.78539   60.62238    2.60958   32.33175   \nmin          0.00000    0.10306    0.00000    0.07193    0.85861   \n25%          0.72400   12.32901   15.83472    1.76227   31.96074   \n50%          1.90878   19.89894   39.23425    2.72961   45.60215   \n75%          3.67149   30.01386   88.15191    3.95205   63.72025   \nmax         27.83175  383.92110  519.53590   55.89075  590.39220   \n\nname   Niacin Equivalents  Potassium    Protein  Saturated Fat      Sodium  \\\ncount          4061.00000 4061.00000 4061.00000     4061.00000  4061.00000   \nmean             12.29695  537.39301   27.76348        8.69244   846.57719   \nstd               7.29271  325.05535   13.36397        7.23535   736.50210   \nmin               0.03511    4.66014    0.44604        0.01992     2.67762   \n25%               7.13499  330.88660   19.10435        3.46839   403.24870   \n50%              10.96189  474.42300   26.44455        6.94486   719.30310   \n75%              16.48777  660.33650   34.30157       11.96910  1084.22600   \nmax             109.01730 6063.16200  273.21630      103.43580 22099.37000   \n\nname      Sugars    Thiamin  Vitamin A - IU  Vitamin B6  Vitamin C  \ncount 4061.00000 4061.00000      4061.00000  4061.00000 4061.00000  \nmean     6.72518    0.30159      1221.36958     0.50872   16.72761  \nstd      9.17572    0.30494      2557.63597     0.34450   26.92523  \nmin      0.00000    0.00012         0.00000     0.00252    0.00000  \n25%      1.70200    0.10256       226.24930     0.26951    2.03857  \n50%      3.83038    0.19551       569.17940     0.43700    6.49813  \n75%      7.81290    0.39492      1118.82800     0.68543   19.57264  \nmax    136.50510    3.25879     40386.87000     5.98334  507.27710  "
     },
     "execution_count": 147,
     "metadata": {},
     "output_type": "execute_result"
    }
   ],
   "source": [
    "nutrition_db.describe()"
   ]
  },
  {
   "cell_type": "code",
   "execution_count": 148,
   "metadata": {},
   "outputs": [
    {
     "data": {
      "text/html": "<div>\n<style scoped>\n    .dataframe tbody tr th:only-of-type {\n        vertical-align: middle;\n    }\n\n    .dataframe tbody tr th {\n        vertical-align: top;\n    }\n\n    .dataframe thead th {\n        text-align: right;\n    }\n</style>\n<table border=\"1\" class=\"dataframe\">\n  <thead>\n    <tr style=\"text-align: right;\">\n      <th></th>\n      <th>euclid_distance_sum</th>\n    </tr>\n  </thead>\n  <tbody>\n    <tr>\n      <td>143078</td>\n      <td>20155.62579</td>\n    </tr>\n    <tr>\n      <td>21021</td>\n      <td>33346.83979</td>\n    </tr>\n    <tr>\n      <td>232465</td>\n      <td>42982.76626</td>\n    </tr>\n    <tr>\n      <td>18442</td>\n      <td>42993.88484</td>\n    </tr>\n    <tr>\n      <td>23717</td>\n      <td>44123.69806</td>\n    </tr>\n    <tr>\n      <td>23181</td>\n      <td>45190.38766</td>\n    </tr>\n    <tr>\n      <td>16998</td>\n      <td>49893.71803</td>\n    </tr>\n    <tr>\n      <td>195045</td>\n      <td>50635.35647</td>\n    </tr>\n    <tr>\n      <td>26614</td>\n      <td>51624.49039</td>\n    </tr>\n    <tr>\n      <td>52934</td>\n      <td>51795.66121</td>\n    </tr>\n  </tbody>\n</table>\n</div>",
      "text/plain": "        euclid_distance_sum\n143078          20155.62579\n21021           33346.83979\n232465          42982.76626\n18442           42993.88484\n23717           44123.69806\n23181           45190.38766\n16998           49893.71803\n195045          50635.35647\n26614           51624.49039\n52934           51795.66121"
     },
     "execution_count": 148,
     "metadata": {},
     "output_type": "execute_result"
    }
   ],
   "source": [
    "result_array = cdist(recommenden_nut_low_fat, nutrition_db3, 'minkowski', p=2, w=weighted_fat)\n",
    "euclid_distance = pd.DataFrame(\n",
    "    result_array, columns=nutrition_db3.index.values, index=recommenden_nut_low_fat.index.values)\n",
    "\n",
    "euclid_distance_sum_fat = pd.DataFrame(\n",
    "    euclid_distance.sum(), columns=['euclid_distance_sum'])\n",
    "euclid_distance_sum_fat = euclid_distance_sum_fat.sort_values(by='euclid_distance_sum')\n",
    "euclid_distance_sum_fat[0:10]"
   ]
  },
  {
   "cell_type": "code",
   "execution_count": 149,
   "metadata": {},
   "outputs": [],
   "source": [
    "jaccard_euclid_joined_fat = pd.merge(euclid_distance_sum_fat, result_w_filter_100, left_index=True, right_index=True)"
   ]
  },
  {
   "cell_type": "code",
   "execution_count": 150,
   "metadata": {},
   "outputs": [
    {
     "data": {
      "text/html": "<div>\n<style scoped>\n    .dataframe tbody tr th:only-of-type {\n        vertical-align: middle;\n    }\n\n    .dataframe tbody tr th {\n        vertical-align: top;\n    }\n\n    .dataframe thead th {\n        text-align: right;\n    }\n</style>\n<table border=\"1\" class=\"dataframe\">\n  <thead>\n    <tr style=\"text-align: right;\">\n      <th></th>\n      <th>euclid_distance_sum</th>\n      <th>jaccard_distance_sum</th>\n      <th>pos</th>\n    </tr>\n  </thead>\n  <tbody>\n    <tr>\n      <td>143078</td>\n      <td>20155.62579</td>\n      <td>0.95131</td>\n      <td>83</td>\n    </tr>\n    <tr>\n      <td>21021</td>\n      <td>33346.83979</td>\n      <td>0.94893</td>\n      <td>59</td>\n    </tr>\n    <tr>\n      <td>232465</td>\n      <td>42982.76626</td>\n      <td>0.94491</td>\n      <td>32</td>\n    </tr>\n    <tr>\n      <td>18442</td>\n      <td>42993.88484</td>\n      <td>0.95116</td>\n      <td>79</td>\n    </tr>\n    <tr>\n      <td>23717</td>\n      <td>44123.69806</td>\n      <td>0.94617</td>\n      <td>42</td>\n    </tr>\n    <tr>\n      <td>23181</td>\n      <td>45190.38766</td>\n      <td>0.94670</td>\n      <td>43</td>\n    </tr>\n    <tr>\n      <td>16998</td>\n      <td>49893.71803</td>\n      <td>0.95138</td>\n      <td>85</td>\n    </tr>\n    <tr>\n      <td>195045</td>\n      <td>50635.35647</td>\n      <td>0.94525</td>\n      <td>35</td>\n    </tr>\n    <tr>\n      <td>26614</td>\n      <td>51624.49039</td>\n      <td>0.95154</td>\n      <td>89</td>\n    </tr>\n    <tr>\n      <td>52934</td>\n      <td>51795.66121</td>\n      <td>0.94168</td>\n      <td>18</td>\n    </tr>\n    <tr>\n      <td>60264</td>\n      <td>51893.23190</td>\n      <td>0.94738</td>\n      <td>49</td>\n    </tr>\n    <tr>\n      <td>103503</td>\n      <td>52531.19226</td>\n      <td>0.95131</td>\n      <td>82</td>\n    </tr>\n    <tr>\n      <td>105016</td>\n      <td>53022.73952</td>\n      <td>0.95110</td>\n      <td>78</td>\n    </tr>\n    <tr>\n      <td>8702</td>\n      <td>53368.89667</td>\n      <td>0.95155</td>\n      <td>90</td>\n    </tr>\n    <tr>\n      <td>54143</td>\n      <td>53713.06449</td>\n      <td>0.94674</td>\n      <td>44</td>\n    </tr>\n    <tr>\n      <td>8522</td>\n      <td>55911.66390</td>\n      <td>0.95110</td>\n      <td>77</td>\n    </tr>\n    <tr>\n      <td>188706</td>\n      <td>57119.98940</td>\n      <td>0.94341</td>\n      <td>24</td>\n    </tr>\n    <tr>\n      <td>20100</td>\n      <td>58367.22527</td>\n      <td>0.95019</td>\n      <td>68</td>\n    </tr>\n    <tr>\n      <td>23058</td>\n      <td>58572.25508</td>\n      <td>0.94514</td>\n      <td>34</td>\n    </tr>\n    <tr>\n      <td>215680</td>\n      <td>60534.65751</td>\n      <td>0.94394</td>\n      <td>27</td>\n    </tr>\n  </tbody>\n</table>\n</div>",
      "text/plain": "        euclid_distance_sum  jaccard_distance_sum  pos\n143078          20155.62579               0.95131   83\n21021           33346.83979               0.94893   59\n232465          42982.76626               0.94491   32\n18442           42993.88484               0.95116   79\n23717           44123.69806               0.94617   42\n23181           45190.38766               0.94670   43\n16998           49893.71803               0.95138   85\n195045          50635.35647               0.94525   35\n26614           51624.49039               0.95154   89\n52934           51795.66121               0.94168   18\n60264           51893.23190               0.94738   49\n103503          52531.19226               0.95131   82\n105016          53022.73952               0.95110   78\n8702            53368.89667               0.95155   90\n54143           53713.06449               0.94674   44\n8522            55911.66390               0.95110   77\n188706          57119.98940               0.94341   24\n20100           58367.22527               0.95019   68\n23058           58572.25508               0.94514   34\n215680          60534.65751               0.94394   27"
     },
     "execution_count": 150,
     "metadata": {},
     "output_type": "execute_result"
    }
   ],
   "source": [
    "jaccard_euclid_joined_fat[0:20]"
   ]
  },
  {
   "cell_type": "code",
   "execution_count": 151,
   "metadata": {},
   "outputs": [],
   "source": [
    "#  ------ Erstellung und cleansing des Nutrition Dataframes\n",
    "\n",
    "# erstelle neue liste auf basis der bereits gefilterten rezepte aus ingredients_filt\n",
    "id_overlap_mask = nutritions['id'].isin(jaccard_euclid_joined_fat[0:20].index.to_numpy())\n",
    "\n",
    "# erstelle datenframe auf basis der overlapliste\n",
    "nutritions_filt = nutritions.loc[id_overlap_mask]\n",
    "\n",
    "nutrition_top20_fat = nutritions_filt.pivot_table(\n",
    "    index=['id'],\n",
    "    columns=['name'],\n",
    "    values=['amount'],\n",
    ").reset_index()\n",
    "\n",
    "nutrition_top20_fat.set_index('id', inplace=True)\n",
    "\n",
    "# remove multiindex 'amount'\n",
    "nutrition_top20_fat.columns = nutrition_top20_fat.columns.droplevel(0)\n",
    "\n",
    "# entferne alle NA\n",
    "nutrition_top20_fat = nutrition_top20_fat.dropna()"
   ]
  },
  {
   "cell_type": "code",
   "execution_count": null,
   "metadata": {},
   "outputs": [],
   "source": []
  },
  {
   "cell_type": "code",
   "execution_count": 152,
   "metadata": {},
   "outputs": [
    {
     "data": {
      "text/html": "<div>\n<style scoped>\n    .dataframe tbody tr th:only-of-type {\n        vertical-align: middle;\n    }\n\n    .dataframe tbody tr th {\n        vertical-align: top;\n    }\n\n    .dataframe thead th {\n        text-align: right;\n    }\n</style>\n<table border=\"1\" class=\"dataframe\">\n  <thead>\n    <tr style=\"text-align: right;\">\n      <th>name</th>\n      <th>Calcium</th>\n      <th>Calories</th>\n      <th>Calories from Fat</th>\n      <th>Carbohydrates</th>\n      <th>Cholesterol</th>\n      <th>Dietary Fiber</th>\n      <th>Fat</th>\n      <th>Folate</th>\n      <th>Iron</th>\n      <th>Magnesium</th>\n      <th>Niacin Equivalents</th>\n      <th>Potassium</th>\n      <th>Protein</th>\n      <th>Saturated Fat</th>\n      <th>Sodium</th>\n      <th>Sugars</th>\n      <th>Thiamin</th>\n      <th>Vitamin A - IU</th>\n      <th>Vitamin B6</th>\n      <th>Vitamin C</th>\n    </tr>\n  </thead>\n  <tbody>\n    <tr>\n      <td>count</td>\n      <td>20.00000</td>\n      <td>20.00000</td>\n      <td>20.00000</td>\n      <td>20.00000</td>\n      <td>20.00000</td>\n      <td>20.00000</td>\n      <td>20.00000</td>\n      <td>20.00000</td>\n      <td>20.00000</td>\n      <td>20.00000</td>\n      <td>20.00000</td>\n      <td>20.00000</td>\n      <td>20.00000</td>\n      <td>20.00000</td>\n      <td>20.00000</td>\n      <td>20.00000</td>\n      <td>20.00000</td>\n      <td>20.00000</td>\n      <td>20.00000</td>\n      <td>20.00000</td>\n    </tr>\n    <tr>\n      <td>mean</td>\n      <td>225.63097</td>\n      <td>361.33828</td>\n      <td>149.48200</td>\n      <td>33.49949</td>\n      <td>62.71316</td>\n      <td>3.25757</td>\n      <td>16.60911</td>\n      <td>87.13427</td>\n      <td>2.65907</td>\n      <td>48.03571</td>\n      <td>9.10122</td>\n      <td>486.26236</td>\n      <td>19.30083</td>\n      <td>7.68102</td>\n      <td>685.19848</td>\n      <td>6.80457</td>\n      <td>0.25233</td>\n      <td>1077.00305</td>\n      <td>0.34190</td>\n      <td>20.04686</td>\n    </tr>\n    <tr>\n      <td>std</td>\n      <td>124.08694</td>\n      <td>58.54630</td>\n      <td>26.97969</td>\n      <td>12.77928</td>\n      <td>24.93021</td>\n      <td>1.79744</td>\n      <td>2.99774</td>\n      <td>42.82209</td>\n      <td>0.92428</td>\n      <td>13.61981</td>\n      <td>2.75874</td>\n      <td>179.60648</td>\n      <td>5.70006</td>\n      <td>2.09446</td>\n      <td>255.17050</td>\n      <td>4.91540</td>\n      <td>0.21036</td>\n      <td>1096.15959</td>\n      <td>0.14174</td>\n      <td>36.87455</td>\n    </tr>\n    <tr>\n      <td>min</td>\n      <td>48.81821</td>\n      <td>216.95200</td>\n      <td>66.31706</td>\n      <td>4.44503</td>\n      <td>11.68765</td>\n      <td>0.20320</td>\n      <td>7.36856</td>\n      <td>20.69480</td>\n      <td>1.26368</td>\n      <td>28.65933</td>\n      <td>4.33836</td>\n      <td>169.09400</td>\n      <td>8.33184</td>\n      <td>2.56057</td>\n      <td>243.03070</td>\n      <td>0.38131</td>\n      <td>0.02461</td>\n      <td>126.41880</td>\n      <td>0.07887</td>\n      <td>0.10675</td>\n    </tr>\n    <tr>\n      <td>25%</td>\n      <td>118.16830</td>\n      <td>329.68860</td>\n      <td>136.81412</td>\n      <td>26.01690</td>\n      <td>51.34537</td>\n      <td>1.78807</td>\n      <td>15.20157</td>\n      <td>59.01698</td>\n      <td>1.90403</td>\n      <td>35.91155</td>\n      <td>7.56586</td>\n      <td>365.44502</td>\n      <td>16.05611</td>\n      <td>6.93771</td>\n      <td>530.09057</td>\n      <td>3.20384</td>\n      <td>0.10069</td>\n      <td>511.94425</td>\n      <td>0.25563</td>\n      <td>2.25269</td>\n    </tr>\n    <tr>\n      <td>50%</td>\n      <td>209.00040</td>\n      <td>368.17700</td>\n      <td>156.52180</td>\n      <td>33.70431</td>\n      <td>64.68534</td>\n      <td>3.21772</td>\n      <td>17.39131</td>\n      <td>77.48428</td>\n      <td>2.48806</td>\n      <td>46.07156</td>\n      <td>9.15311</td>\n      <td>489.98110</td>\n      <td>20.91920</td>\n      <td>7.43219</td>\n      <td>650.95165</td>\n      <td>5.55564</td>\n      <td>0.18206</td>\n      <td>740.04790</td>\n      <td>0.31664</td>\n      <td>5.96437</td>\n    </tr>\n    <tr>\n      <td>75%</td>\n      <td>306.03388</td>\n      <td>394.44550</td>\n      <td>163.20397</td>\n      <td>44.38020</td>\n      <td>73.56875</td>\n      <td>4.52479</td>\n      <td>18.13377</td>\n      <td>112.65640</td>\n      <td>3.35078</td>\n      <td>62.30237</td>\n      <td>9.89506</td>\n      <td>622.57812</td>\n      <td>22.94034</td>\n      <td>8.59722</td>\n      <td>842.19102</td>\n      <td>8.83287</td>\n      <td>0.36099</td>\n      <td>1095.61675</td>\n      <td>0.45228</td>\n      <td>21.71645</td>\n    </tr>\n    <tr>\n      <td>max</td>\n      <td>508.50310</td>\n      <td>481.07730</td>\n      <td>181.22750</td>\n      <td>53.13089</td>\n      <td>124.24100</td>\n      <td>6.77872</td>\n      <td>20.13639</td>\n      <td>211.49180</td>\n      <td>4.76909</td>\n      <td>73.49545</td>\n      <td>15.38974</td>\n      <td>829.57560</td>\n      <td>28.37642</td>\n      <td>11.73836</td>\n      <td>1183.61800</td>\n      <td>17.42694</td>\n      <td>0.82351</td>\n      <td>4513.28800</td>\n      <td>0.58210</td>\n      <td>160.61080</td>\n    </tr>\n  </tbody>\n</table>\n</div>",
      "text/plain": "name    Calcium  Calories  Calories from Fat  Carbohydrates  Cholesterol  \\\ncount  20.00000  20.00000           20.00000       20.00000     20.00000   \nmean  225.63097 361.33828          149.48200       33.49949     62.71316   \nstd   124.08694  58.54630           26.97969       12.77928     24.93021   \nmin    48.81821 216.95200           66.31706        4.44503     11.68765   \n25%   118.16830 329.68860          136.81412       26.01690     51.34537   \n50%   209.00040 368.17700          156.52180       33.70431     64.68534   \n75%   306.03388 394.44550          163.20397       44.38020     73.56875   \nmax   508.50310 481.07730          181.22750       53.13089    124.24100   \n\nname   Dietary Fiber      Fat    Folate     Iron  Magnesium  \\\ncount       20.00000 20.00000  20.00000 20.00000   20.00000   \nmean         3.25757 16.60911  87.13427  2.65907   48.03571   \nstd          1.79744  2.99774  42.82209  0.92428   13.61981   \nmin          0.20320  7.36856  20.69480  1.26368   28.65933   \n25%          1.78807 15.20157  59.01698  1.90403   35.91155   \n50%          3.21772 17.39131  77.48428  2.48806   46.07156   \n75%          4.52479 18.13377 112.65640  3.35078   62.30237   \nmax          6.77872 20.13639 211.49180  4.76909   73.49545   \n\nname   Niacin Equivalents  Potassium  Protein  Saturated Fat     Sodium  \\\ncount            20.00000   20.00000 20.00000       20.00000   20.00000   \nmean              9.10122  486.26236 19.30083        7.68102  685.19848   \nstd               2.75874  179.60648  5.70006        2.09446  255.17050   \nmin               4.33836  169.09400  8.33184        2.56057  243.03070   \n25%               7.56586  365.44502 16.05611        6.93771  530.09057   \n50%               9.15311  489.98110 20.91920        7.43219  650.95165   \n75%               9.89506  622.57812 22.94034        8.59722  842.19102   \nmax              15.38974  829.57560 28.37642       11.73836 1183.61800   \n\nname    Sugars  Thiamin  Vitamin A - IU  Vitamin B6  Vitamin C  \ncount 20.00000 20.00000        20.00000    20.00000   20.00000  \nmean   6.80457  0.25233      1077.00305     0.34190   20.04686  \nstd    4.91540  0.21036      1096.15959     0.14174   36.87455  \nmin    0.38131  0.02461       126.41880     0.07887    0.10675  \n25%    3.20384  0.10069       511.94425     0.25563    2.25269  \n50%    5.55564  0.18206       740.04790     0.31664    5.96437  \n75%    8.83287  0.36099      1095.61675     0.45228   21.71645  \nmax   17.42694  0.82351      4513.28800     0.58210  160.61080  "
     },
     "execution_count": 152,
     "metadata": {},
     "output_type": "execute_result"
    }
   ],
   "source": [
    "nutrition_top20_fat.describe()"
   ]
  },
  {
   "cell_type": "code",
   "execution_count": 153,
   "metadata": {},
   "outputs": [
    {
     "data": {
      "text/html": "<div>\n<style scoped>\n    .dataframe tbody tr th:only-of-type {\n        vertical-align: middle;\n    }\n\n    .dataframe tbody tr th {\n        vertical-align: top;\n    }\n\n    .dataframe thead th {\n        text-align: right;\n    }\n</style>\n<table border=\"1\" class=\"dataframe\">\n  <thead>\n    <tr style=\"text-align: right;\">\n      <th>name</th>\n      <th>Calcium</th>\n      <th>Calories</th>\n      <th>Calories from Fat</th>\n      <th>Carbohydrates</th>\n      <th>Cholesterol</th>\n      <th>Dietary Fiber</th>\n      <th>Fat</th>\n      <th>Folate</th>\n      <th>Iron</th>\n      <th>Magnesium</th>\n      <th>Niacin Equivalents</th>\n      <th>Potassium</th>\n      <th>Protein</th>\n      <th>Saturated Fat</th>\n      <th>Sodium</th>\n      <th>Sugars</th>\n      <th>Thiamin</th>\n      <th>Vitamin A - IU</th>\n      <th>Vitamin B6</th>\n      <th>Vitamin C</th>\n    </tr>\n  </thead>\n  <tbody>\n    <tr>\n      <td>count</td>\n      <td>4061.00000</td>\n      <td>4061.00000</td>\n      <td>4061.00000</td>\n      <td>4061.00000</td>\n      <td>4061.00000</td>\n      <td>4061.00000</td>\n      <td>4061.00000</td>\n      <td>4061.00000</td>\n      <td>4061.00000</td>\n      <td>4061.00000</td>\n      <td>4061.00000</td>\n      <td>4061.00000</td>\n      <td>4061.00000</td>\n      <td>4061.00000</td>\n      <td>4061.00000</td>\n      <td>4061.00000</td>\n      <td>4061.00000</td>\n      <td>4061.00000</td>\n      <td>4061.00000</td>\n      <td>4061.00000</td>\n    </tr>\n    <tr>\n      <td>mean</td>\n      <td>146.27411</td>\n      <td>436.40975</td>\n      <td>205.37237</td>\n      <td>29.33344</td>\n      <td>96.51821</td>\n      <td>2.63126</td>\n      <td>22.81915</td>\n      <td>60.77660</td>\n      <td>3.17214</td>\n      <td>51.61693</td>\n      <td>12.29695</td>\n      <td>537.39301</td>\n      <td>27.76348</td>\n      <td>8.69244</td>\n      <td>846.57719</td>\n      <td>6.72518</td>\n      <td>0.30159</td>\n      <td>1221.36958</td>\n      <td>0.50872</td>\n      <td>16.72761</td>\n    </tr>\n    <tr>\n      <td>std</td>\n      <td>159.44644</td>\n      <td>208.88694</td>\n      <td>142.06851</td>\n      <td>23.54763</td>\n      <td>64.77935</td>\n      <td>2.63839</td>\n      <td>15.78539</td>\n      <td>60.62238</td>\n      <td>2.60958</td>\n      <td>32.33175</td>\n      <td>7.29271</td>\n      <td>325.05535</td>\n      <td>13.36397</td>\n      <td>7.23535</td>\n      <td>736.50210</td>\n      <td>9.17572</td>\n      <td>0.30494</td>\n      <td>2557.63597</td>\n      <td>0.34450</td>\n      <td>26.92523</td>\n    </tr>\n    <tr>\n      <td>min</td>\n      <td>0.93181</td>\n      <td>13.63194</td>\n      <td>0.92750</td>\n      <td>0.00000</td>\n      <td>0.00000</td>\n      <td>0.00000</td>\n      <td>0.10306</td>\n      <td>0.00000</td>\n      <td>0.07193</td>\n      <td>0.85861</td>\n      <td>0.03511</td>\n      <td>4.66014</td>\n      <td>0.44604</td>\n      <td>0.01992</td>\n      <td>2.67762</td>\n      <td>0.00000</td>\n      <td>0.00012</td>\n      <td>0.00000</td>\n      <td>0.00252</td>\n      <td>0.00000</td>\n    </tr>\n    <tr>\n      <td>25%</td>\n      <td>41.70671</td>\n      <td>293.53170</td>\n      <td>110.96110</td>\n      <td>10.17949</td>\n      <td>58.52000</td>\n      <td>0.72400</td>\n      <td>12.32901</td>\n      <td>15.83472</td>\n      <td>1.76227</td>\n      <td>31.96074</td>\n      <td>7.13499</td>\n      <td>330.88660</td>\n      <td>19.10435</td>\n      <td>3.46839</td>\n      <td>403.24870</td>\n      <td>1.70200</td>\n      <td>0.10256</td>\n      <td>226.24930</td>\n      <td>0.26951</td>\n      <td>2.03857</td>\n    </tr>\n    <tr>\n      <td>50%</td>\n      <td>82.98421</td>\n      <td>402.21690</td>\n      <td>179.09050</td>\n      <td>24.76230</td>\n      <td>83.20487</td>\n      <td>1.90878</td>\n      <td>19.89894</td>\n      <td>39.23425</td>\n      <td>2.72961</td>\n      <td>45.60215</td>\n      <td>10.96189</td>\n      <td>474.42300</td>\n      <td>26.44455</td>\n      <td>6.94486</td>\n      <td>719.30310</td>\n      <td>3.83038</td>\n      <td>0.19551</td>\n      <td>569.17940</td>\n      <td>0.43700</td>\n      <td>6.49813</td>\n    </tr>\n    <tr>\n      <td>75%</td>\n      <td>191.93500</td>\n      <td>543.94100</td>\n      <td>270.12480</td>\n      <td>43.31408</td>\n      <td>126.13500</td>\n      <td>3.67149</td>\n      <td>30.01386</td>\n      <td>88.15191</td>\n      <td>3.95205</td>\n      <td>63.72025</td>\n      <td>16.48777</td>\n      <td>660.33650</td>\n      <td>34.30157</td>\n      <td>11.96910</td>\n      <td>1084.22600</td>\n      <td>7.81290</td>\n      <td>0.39492</td>\n      <td>1118.82800</td>\n      <td>0.68543</td>\n      <td>19.57264</td>\n    </tr>\n    <tr>\n      <td>max</td>\n      <td>1264.32600</td>\n      <td>4709.19900</td>\n      <td>3455.29000</td>\n      <td>236.72050</td>\n      <td>979.77610</td>\n      <td>27.83175</td>\n      <td>383.92110</td>\n      <td>519.53590</td>\n      <td>55.89075</td>\n      <td>590.39220</td>\n      <td>109.01730</td>\n      <td>6063.16200</td>\n      <td>273.21630</td>\n      <td>103.43580</td>\n      <td>22099.37000</td>\n      <td>136.50510</td>\n      <td>3.25879</td>\n      <td>40386.87000</td>\n      <td>5.98334</td>\n      <td>507.27710</td>\n    </tr>\n  </tbody>\n</table>\n</div>",
      "text/plain": "name     Calcium   Calories  Calories from Fat  Carbohydrates  Cholesterol  \\\ncount 4061.00000 4061.00000         4061.00000     4061.00000   4061.00000   \nmean   146.27411  436.40975          205.37237       29.33344     96.51821   \nstd    159.44644  208.88694          142.06851       23.54763     64.77935   \nmin      0.93181   13.63194            0.92750        0.00000      0.00000   \n25%     41.70671  293.53170          110.96110       10.17949     58.52000   \n50%     82.98421  402.21690          179.09050       24.76230     83.20487   \n75%    191.93500  543.94100          270.12480       43.31408    126.13500   \nmax   1264.32600 4709.19900         3455.29000      236.72050    979.77610   \n\nname   Dietary Fiber        Fat     Folate       Iron  Magnesium  \\\ncount     4061.00000 4061.00000 4061.00000 4061.00000 4061.00000   \nmean         2.63126   22.81915   60.77660    3.17214   51.61693   \nstd          2.63839   15.78539   60.62238    2.60958   32.33175   \nmin          0.00000    0.10306    0.00000    0.07193    0.85861   \n25%          0.72400   12.32901   15.83472    1.76227   31.96074   \n50%          1.90878   19.89894   39.23425    2.72961   45.60215   \n75%          3.67149   30.01386   88.15191    3.95205   63.72025   \nmax         27.83175  383.92110  519.53590   55.89075  590.39220   \n\nname   Niacin Equivalents  Potassium    Protein  Saturated Fat      Sodium  \\\ncount          4061.00000 4061.00000 4061.00000     4061.00000  4061.00000   \nmean             12.29695  537.39301   27.76348        8.69244   846.57719   \nstd               7.29271  325.05535   13.36397        7.23535   736.50210   \nmin               0.03511    4.66014    0.44604        0.01992     2.67762   \n25%               7.13499  330.88660   19.10435        3.46839   403.24870   \n50%              10.96189  474.42300   26.44455        6.94486   719.30310   \n75%              16.48777  660.33650   34.30157       11.96910  1084.22600   \nmax             109.01730 6063.16200  273.21630      103.43580 22099.37000   \n\nname      Sugars    Thiamin  Vitamin A - IU  Vitamin B6  Vitamin C  \ncount 4061.00000 4061.00000      4061.00000  4061.00000 4061.00000  \nmean     6.72518    0.30159      1221.36958     0.50872   16.72761  \nstd      9.17572    0.30494      2557.63597     0.34450   26.92523  \nmin      0.00000    0.00012         0.00000     0.00252    0.00000  \n25%      1.70200    0.10256       226.24930     0.26951    2.03857  \n50%      3.83038    0.19551       569.17940     0.43700    6.49813  \n75%      7.81290    0.39492      1118.82800     0.68543   19.57264  \nmax    136.50510    3.25879     40386.87000     5.98334  507.27710  "
     },
     "execution_count": 153,
     "metadata": {},
     "output_type": "execute_result"
    }
   ],
   "source": [
    "nutrition_db.describe()"
   ]
  },
  {
   "cell_type": "code",
   "execution_count": 165,
   "metadata": {},
   "outputs": [
    {
     "data": {
      "text/html": "<div>\n<style scoped>\n    .dataframe tbody tr th:only-of-type {\n        vertical-align: middle;\n    }\n\n    .dataframe tbody tr th {\n        vertical-align: top;\n    }\n\n    .dataframe thead th {\n        text-align: right;\n    }\n</style>\n<table border=\"1\" class=\"dataframe\">\n  <thead>\n    <tr style=\"text-align: right;\">\n      <th></th>\n      <th>euclid_distance_sum</th>\n    </tr>\n  </thead>\n  <tbody>\n    <tr>\n      <td>150156</td>\n      <td>668.61959</td>\n    </tr>\n    <tr>\n      <td>16998</td>\n      <td>669.27187</td>\n    </tr>\n    <tr>\n      <td>19422</td>\n      <td>759.75811</td>\n    </tr>\n    <tr>\n      <td>19324</td>\n      <td>790.15793</td>\n    </tr>\n    <tr>\n      <td>143078</td>\n      <td>814.74933</td>\n    </tr>\n    <tr>\n      <td>18805</td>\n      <td>850.16739</td>\n    </tr>\n    <tr>\n      <td>26614</td>\n      <td>856.64922</td>\n    </tr>\n    <tr>\n      <td>14614</td>\n      <td>900.78376</td>\n    </tr>\n    <tr>\n      <td>216914</td>\n      <td>905.94805</td>\n    </tr>\n    <tr>\n      <td>52934</td>\n      <td>951.97590</td>\n    </tr>\n  </tbody>\n</table>\n</div>",
      "text/plain": "        euclid_distance_sum\n150156            668.61959\n16998             669.27187\n19422             759.75811\n19324             790.15793\n143078            814.74933\n18805             850.16739\n26614             856.64922\n14614             900.78376\n216914            905.94805\n52934             951.97590"
     },
     "execution_count": 165,
     "metadata": {},
     "output_type": "execute_result"
    }
   ],
   "source": [
    "result_array = cdist(recommenden_nut, nutrition_db3, 'minkowski', p=2, w=no_weight)\n",
    "euclid_distance = pd.DataFrame(\n",
    "    result_array, columns=nutrition_db3.index.values, index=recommenden_nut.index.values)\n",
    "\n",
    "euclid_distance_sum = pd.DataFrame(\n",
    "    euclid_distance.sum(), columns=['euclid_distance_sum'])\n",
    "euclid_distance_sum = euclid_distance_sum.sort_values(by='euclid_distance_sum')\n",
    "euclid_distance_sum[0:10]"
   ]
  },
  {
   "cell_type": "code",
   "execution_count": 166,
   "metadata": {},
   "outputs": [],
   "source": [
    "jaccard_euclid_joined = pd.merge(euclid_distance_sum, result_w_filter_100, left_index=True, right_index=True)"
   ]
  },
  {
   "cell_type": "code",
   "execution_count": 167,
   "metadata": {},
   "outputs": [
    {
     "data": {
      "text/html": "<div>\n<style scoped>\n    .dataframe tbody tr th:only-of-type {\n        vertical-align: middle;\n    }\n\n    .dataframe tbody tr th {\n        vertical-align: top;\n    }\n\n    .dataframe thead th {\n        text-align: right;\n    }\n</style>\n<table border=\"1\" class=\"dataframe\">\n  <thead>\n    <tr style=\"text-align: right;\">\n      <th></th>\n      <th>euclid_distance_sum</th>\n      <th>jaccard_distance_sum</th>\n      <th>pos</th>\n    </tr>\n  </thead>\n  <tbody>\n    <tr>\n      <td>150156</td>\n      <td>668.61959</td>\n      <td>0.94543</td>\n      <td>37</td>\n    </tr>\n    <tr>\n      <td>16998</td>\n      <td>669.27187</td>\n      <td>0.95138</td>\n      <td>85</td>\n    </tr>\n    <tr>\n      <td>19422</td>\n      <td>759.75811</td>\n      <td>0.93818</td>\n      <td>9</td>\n    </tr>\n    <tr>\n      <td>19324</td>\n      <td>790.15793</td>\n      <td>0.93300</td>\n      <td>6</td>\n    </tr>\n    <tr>\n      <td>143078</td>\n      <td>814.74933</td>\n      <td>0.95131</td>\n      <td>83</td>\n    </tr>\n    <tr>\n      <td>18805</td>\n      <td>850.16739</td>\n      <td>0.94507</td>\n      <td>33</td>\n    </tr>\n    <tr>\n      <td>26614</td>\n      <td>856.64922</td>\n      <td>0.95154</td>\n      <td>89</td>\n    </tr>\n    <tr>\n      <td>14614</td>\n      <td>900.78376</td>\n      <td>0.94352</td>\n      <td>25</td>\n    </tr>\n    <tr>\n      <td>216914</td>\n      <td>905.94805</td>\n      <td>0.94810</td>\n      <td>55</td>\n    </tr>\n    <tr>\n      <td>52934</td>\n      <td>951.97590</td>\n      <td>0.94168</td>\n      <td>18</td>\n    </tr>\n    <tr>\n      <td>11735</td>\n      <td>969.74770</td>\n      <td>0.95138</td>\n      <td>84</td>\n    </tr>\n    <tr>\n      <td>11832</td>\n      <td>970.49697</td>\n      <td>0.93826</td>\n      <td>10</td>\n    </tr>\n    <tr>\n      <td>230283</td>\n      <td>981.34144</td>\n      <td>0.92840</td>\n      <td>2</td>\n    </tr>\n    <tr>\n      <td>188706</td>\n      <td>992.50583</td>\n      <td>0.94341</td>\n      <td>24</td>\n    </tr>\n    <tr>\n      <td>20100</td>\n      <td>1021.61828</td>\n      <td>0.95019</td>\n      <td>68</td>\n    </tr>\n    <tr>\n      <td>263813</td>\n      <td>1031.91263</td>\n      <td>0.94435</td>\n      <td>29</td>\n    </tr>\n    <tr>\n      <td>14604</td>\n      <td>1063.23096</td>\n      <td>0.93872</td>\n      <td>11</td>\n    </tr>\n    <tr>\n      <td>19301</td>\n      <td>1064.05444</td>\n      <td>0.93156</td>\n      <td>4</td>\n    </tr>\n    <tr>\n      <td>8522</td>\n      <td>1067.17896</td>\n      <td>0.95110</td>\n      <td>77</td>\n    </tr>\n    <tr>\n      <td>8702</td>\n      <td>1070.80601</td>\n      <td>0.95155</td>\n      <td>90</td>\n    </tr>\n  </tbody>\n</table>\n</div>",
      "text/plain": "        euclid_distance_sum  jaccard_distance_sum  pos\n150156            668.61959               0.94543   37\n16998             669.27187               0.95138   85\n19422             759.75811               0.93818    9\n19324             790.15793               0.93300    6\n143078            814.74933               0.95131   83\n18805             850.16739               0.94507   33\n26614             856.64922               0.95154   89\n14614             900.78376               0.94352   25\n216914            905.94805               0.94810   55\n52934             951.97590               0.94168   18\n11735             969.74770               0.95138   84\n11832             970.49697               0.93826   10\n230283            981.34144               0.92840    2\n188706            992.50583               0.94341   24\n20100            1021.61828               0.95019   68\n263813           1031.91263               0.94435   29\n14604            1063.23096               0.93872   11\n19301            1064.05444               0.93156    4\n8522             1067.17896               0.95110   77\n8702             1070.80601               0.95155   90"
     },
     "execution_count": 167,
     "metadata": {},
     "output_type": "execute_result"
    }
   ],
   "source": [
    "jaccard_euclid_joined[0:20]"
   ]
  },
  {
   "cell_type": "code",
   "execution_count": 168,
   "metadata": {},
   "outputs": [],
   "source": [
    "#  ------ Erstellung und cleansing des Nutrition Dataframes\n",
    "\n",
    "# erstelle neue liste auf basis der bereits gefilterten rezepte aus ingredients_filt\n",
    "id_overlap_mask = nutritions['id'].isin(jaccard_euclid_joined[0:20].index.to_numpy())\n",
    "\n",
    "# erstelle datenframe auf basis der overlapliste\n",
    "nutritions_filt = nutritions.loc[id_overlap_mask]\n",
    "\n",
    "nutrition_top20 = nutritions_filt.pivot_table(\n",
    "    index=['id'],\n",
    "    columns=['name'],\n",
    "    values=['amount'],\n",
    ").reset_index()\n",
    "\n",
    "nutrition_top20.set_index('id', inplace=True)\n",
    "\n",
    "# remove multiindex 'amount'\n",
    "nutrition_top20.columns = nutrition_top20.columns.droplevel(0)\n",
    "\n",
    "# entferne alle NA\n",
    "nutrition_top20 = nutrition_top20.dropna()"
   ]
  },
  {
   "cell_type": "code",
   "execution_count": 169,
   "metadata": {},
   "outputs": [
    {
     "data": {
      "text/html": "<div>\n<style scoped>\n    .dataframe tbody tr th:only-of-type {\n        vertical-align: middle;\n    }\n\n    .dataframe tbody tr th {\n        vertical-align: top;\n    }\n\n    .dataframe thead th {\n        text-align: right;\n    }\n</style>\n<table border=\"1\" class=\"dataframe\">\n  <thead>\n    <tr style=\"text-align: right;\">\n      <th>name</th>\n      <th>Calcium</th>\n      <th>Calories</th>\n      <th>Calories from Fat</th>\n      <th>Carbohydrates</th>\n      <th>Cholesterol</th>\n      <th>Dietary Fiber</th>\n      <th>Fat</th>\n      <th>Folate</th>\n      <th>Iron</th>\n      <th>Magnesium</th>\n      <th>Niacin Equivalents</th>\n      <th>Potassium</th>\n      <th>Protein</th>\n      <th>Saturated Fat</th>\n      <th>Sodium</th>\n      <th>Sugars</th>\n      <th>Thiamin</th>\n      <th>Vitamin A - IU</th>\n      <th>Vitamin B6</th>\n      <th>Vitamin C</th>\n    </tr>\n  </thead>\n  <tbody>\n    <tr>\n      <td>count</td>\n      <td>20.00000</td>\n      <td>20.00000</td>\n      <td>20.00000</td>\n      <td>20.00000</td>\n      <td>20.00000</td>\n      <td>20.00000</td>\n      <td>20.00000</td>\n      <td>20.00000</td>\n      <td>20.00000</td>\n      <td>20.00000</td>\n      <td>20.00000</td>\n      <td>20.00000</td>\n      <td>20.00000</td>\n      <td>20.00000</td>\n      <td>20.00000</td>\n      <td>20.00000</td>\n      <td>20.00000</td>\n      <td>20.00000</td>\n      <td>20.00000</td>\n      <td>20.00000</td>\n    </tr>\n    <tr>\n      <td>mean</td>\n      <td>225.31266</td>\n      <td>404.44916</td>\n      <td>199.03767</td>\n      <td>31.19360</td>\n      <td>84.78608</td>\n      <td>1.91138</td>\n      <td>22.11530</td>\n      <td>90.08384</td>\n      <td>2.38563</td>\n      <td>42.22751</td>\n      <td>8.70000</td>\n      <td>339.67471</td>\n      <td>20.19299</td>\n      <td>11.68777</td>\n      <td>516.23087</td>\n      <td>3.63598</td>\n      <td>0.30388</td>\n      <td>690.31136</td>\n      <td>0.24664</td>\n      <td>9.31400</td>\n    </tr>\n    <tr>\n      <td>std</td>\n      <td>126.73302</td>\n      <td>76.19736</td>\n      <td>51.02366</td>\n      <td>13.32301</td>\n      <td>30.07009</td>\n      <td>1.34378</td>\n      <td>5.66929</td>\n      <td>46.21913</td>\n      <td>0.86197</td>\n      <td>12.87130</td>\n      <td>4.59963</td>\n      <td>133.87192</td>\n      <td>7.89784</td>\n      <td>3.73455</td>\n      <td>140.15621</td>\n      <td>2.17361</td>\n      <td>0.21060</td>\n      <td>206.84604</td>\n      <td>0.13487</td>\n      <td>16.18968</td>\n    </tr>\n    <tr>\n      <td>min</td>\n      <td>48.81821</td>\n      <td>293.69350</td>\n      <td>66.31706</td>\n      <td>4.44503</td>\n      <td>11.68765</td>\n      <td>0.20320</td>\n      <td>7.36856</td>\n      <td>15.40374</td>\n      <td>1.08367</td>\n      <td>25.38203</td>\n      <td>4.33836</td>\n      <td>166.84280</td>\n      <td>10.80376</td>\n      <td>2.56057</td>\n      <td>243.03070</td>\n      <td>0.38131</td>\n      <td>0.02461</td>\n      <td>209.27730</td>\n      <td>0.07887</td>\n      <td>0.10675</td>\n    </tr>\n    <tr>\n      <td>25%</td>\n      <td>118.16830</td>\n      <td>359.01662</td>\n      <td>166.28878</td>\n      <td>24.58361</td>\n      <td>68.66725</td>\n      <td>1.20913</td>\n      <td>18.47653</td>\n      <td>60.12996</td>\n      <td>1.61366</td>\n      <td>33.54040</td>\n      <td>6.32075</td>\n      <td>232.26857</td>\n      <td>16.83354</td>\n      <td>9.79424</td>\n      <td>441.01673</td>\n      <td>2.18473</td>\n      <td>0.16977</td>\n      <td>574.58067</td>\n      <td>0.12313</td>\n      <td>0.49434</td>\n    </tr>\n    <tr>\n      <td>50%</td>\n      <td>189.02045</td>\n      <td>398.61000</td>\n      <td>202.50660</td>\n      <td>30.64144</td>\n      <td>82.88584</td>\n      <td>1.87400</td>\n      <td>22.50073</td>\n      <td>89.00666</td>\n      <td>2.40153</td>\n      <td>40.51551</td>\n      <td>7.88390</td>\n      <td>324.60090</td>\n      <td>18.93710</td>\n      <td>12.13372</td>\n      <td>533.38790</td>\n      <td>3.35454</td>\n      <td>0.27855</td>\n      <td>732.30790</td>\n      <td>0.24021</td>\n      <td>2.33149</td>\n    </tr>\n    <tr>\n      <td>75%</td>\n      <td>337.68735</td>\n      <td>449.28827</td>\n      <td>230.84748</td>\n      <td>43.66485</td>\n      <td>99.82651</td>\n      <td>2.22018</td>\n      <td>25.64972</td>\n      <td>109.18187</td>\n      <td>3.05235</td>\n      <td>43.92696</td>\n      <td>9.69416</td>\n      <td>387.82320</td>\n      <td>22.14248</td>\n      <td>14.45590</td>\n      <td>603.82480</td>\n      <td>4.40843</td>\n      <td>0.37104</td>\n      <td>794.24555</td>\n      <td>0.31446</td>\n      <td>9.42497</td>\n    </tr>\n    <tr>\n      <td>max</td>\n      <td>485.16930</td>\n      <td>613.20350</td>\n      <td>269.23420</td>\n      <td>53.13089</td>\n      <td>149.34500</td>\n      <td>6.77872</td>\n      <td>29.91492</td>\n      <td>211.49180</td>\n      <td>3.95681</td>\n      <td>79.57173</td>\n      <td>25.88058</td>\n      <td>587.75100</td>\n      <td>49.29259</td>\n      <td>18.42387</td>\n      <td>754.22380</td>\n      <td>7.97937</td>\n      <td>0.82351</td>\n      <td>1090.20300</td>\n      <td>0.51950</td>\n      <td>67.36604</td>\n    </tr>\n  </tbody>\n</table>\n</div>",
      "text/plain": "name    Calcium  Calories  Calories from Fat  Carbohydrates  Cholesterol  \\\ncount  20.00000  20.00000           20.00000       20.00000     20.00000   \nmean  225.31266 404.44916          199.03767       31.19360     84.78608   \nstd   126.73302  76.19736           51.02366       13.32301     30.07009   \nmin    48.81821 293.69350           66.31706        4.44503     11.68765   \n25%   118.16830 359.01662          166.28878       24.58361     68.66725   \n50%   189.02045 398.61000          202.50660       30.64144     82.88584   \n75%   337.68735 449.28827          230.84748       43.66485     99.82651   \nmax   485.16930 613.20350          269.23420       53.13089    149.34500   \n\nname   Dietary Fiber      Fat    Folate     Iron  Magnesium  \\\ncount       20.00000 20.00000  20.00000 20.00000   20.00000   \nmean         1.91138 22.11530  90.08384  2.38563   42.22751   \nstd          1.34378  5.66929  46.21913  0.86197   12.87130   \nmin          0.20320  7.36856  15.40374  1.08367   25.38203   \n25%          1.20913 18.47653  60.12996  1.61366   33.54040   \n50%          1.87400 22.50073  89.00666  2.40153   40.51551   \n75%          2.22018 25.64972 109.18187  3.05235   43.92696   \nmax          6.77872 29.91492 211.49180  3.95681   79.57173   \n\nname   Niacin Equivalents  Potassium  Protein  Saturated Fat    Sodium  \\\ncount            20.00000   20.00000 20.00000       20.00000  20.00000   \nmean              8.70000  339.67471 20.19299       11.68777 516.23087   \nstd               4.59963  133.87192  7.89784        3.73455 140.15621   \nmin               4.33836  166.84280 10.80376        2.56057 243.03070   \n25%               6.32075  232.26857 16.83354        9.79424 441.01673   \n50%               7.88390  324.60090 18.93710       12.13372 533.38790   \n75%               9.69416  387.82320 22.14248       14.45590 603.82480   \nmax              25.88058  587.75100 49.29259       18.42387 754.22380   \n\nname    Sugars  Thiamin  Vitamin A - IU  Vitamin B6  Vitamin C  \ncount 20.00000 20.00000        20.00000    20.00000   20.00000  \nmean   3.63598  0.30388       690.31136     0.24664    9.31400  \nstd    2.17361  0.21060       206.84604     0.13487   16.18968  \nmin    0.38131  0.02461       209.27730     0.07887    0.10675  \n25%    2.18473  0.16977       574.58067     0.12313    0.49434  \n50%    3.35454  0.27855       732.30790     0.24021    2.33149  \n75%    4.40843  0.37104       794.24555     0.31446    9.42497  \nmax    7.97937  0.82351      1090.20300     0.51950   67.36604  "
     },
     "execution_count": 169,
     "metadata": {},
     "output_type": "execute_result"
    }
   ],
   "source": [
    "nutrition_top20.describe()"
   ]
  },
  {
   "cell_type": "code",
   "execution_count": 170,
   "metadata": {},
   "outputs": [
    {
     "data": {
      "text/html": "<div>\n<style scoped>\n    .dataframe tbody tr th:only-of-type {\n        vertical-align: middle;\n    }\n\n    .dataframe tbody tr th {\n        vertical-align: top;\n    }\n\n    .dataframe thead th {\n        text-align: right;\n    }\n</style>\n<table border=\"1\" class=\"dataframe\">\n  <thead>\n    <tr style=\"text-align: right;\">\n      <th>name</th>\n      <th>Calcium</th>\n      <th>Calories</th>\n      <th>Calories from Fat</th>\n      <th>Carbohydrates</th>\n      <th>Cholesterol</th>\n      <th>Dietary Fiber</th>\n      <th>Fat</th>\n      <th>Folate</th>\n      <th>Iron</th>\n      <th>Magnesium</th>\n      <th>Niacin Equivalents</th>\n      <th>Potassium</th>\n      <th>Protein</th>\n      <th>Saturated Fat</th>\n      <th>Sodium</th>\n      <th>Sugars</th>\n      <th>Thiamin</th>\n      <th>Vitamin A - IU</th>\n      <th>Vitamin B6</th>\n      <th>Vitamin C</th>\n    </tr>\n  </thead>\n  <tbody>\n    <tr>\n      <td>count</td>\n      <td>4061.00000</td>\n      <td>4061.00000</td>\n      <td>4061.00000</td>\n      <td>4061.00000</td>\n      <td>4061.00000</td>\n      <td>4061.00000</td>\n      <td>4061.00000</td>\n      <td>4061.00000</td>\n      <td>4061.00000</td>\n      <td>4061.00000</td>\n      <td>4061.00000</td>\n      <td>4061.00000</td>\n      <td>4061.00000</td>\n      <td>4061.00000</td>\n      <td>4061.00000</td>\n      <td>4061.00000</td>\n      <td>4061.00000</td>\n      <td>4061.00000</td>\n      <td>4061.00000</td>\n      <td>4061.00000</td>\n    </tr>\n    <tr>\n      <td>mean</td>\n      <td>146.27411</td>\n      <td>436.40975</td>\n      <td>205.37237</td>\n      <td>29.33344</td>\n      <td>96.51821</td>\n      <td>2.63126</td>\n      <td>22.81915</td>\n      <td>60.77660</td>\n      <td>3.17214</td>\n      <td>51.61693</td>\n      <td>12.29695</td>\n      <td>537.39301</td>\n      <td>27.76348</td>\n      <td>8.69244</td>\n      <td>846.57719</td>\n      <td>6.72518</td>\n      <td>0.30159</td>\n      <td>1221.36958</td>\n      <td>0.50872</td>\n      <td>16.72761</td>\n    </tr>\n    <tr>\n      <td>std</td>\n      <td>159.44644</td>\n      <td>208.88694</td>\n      <td>142.06851</td>\n      <td>23.54763</td>\n      <td>64.77935</td>\n      <td>2.63839</td>\n      <td>15.78539</td>\n      <td>60.62238</td>\n      <td>2.60958</td>\n      <td>32.33175</td>\n      <td>7.29271</td>\n      <td>325.05535</td>\n      <td>13.36397</td>\n      <td>7.23535</td>\n      <td>736.50210</td>\n      <td>9.17572</td>\n      <td>0.30494</td>\n      <td>2557.63597</td>\n      <td>0.34450</td>\n      <td>26.92523</td>\n    </tr>\n    <tr>\n      <td>min</td>\n      <td>0.93181</td>\n      <td>13.63194</td>\n      <td>0.92750</td>\n      <td>0.00000</td>\n      <td>0.00000</td>\n      <td>0.00000</td>\n      <td>0.10306</td>\n      <td>0.00000</td>\n      <td>0.07193</td>\n      <td>0.85861</td>\n      <td>0.03511</td>\n      <td>4.66014</td>\n      <td>0.44604</td>\n      <td>0.01992</td>\n      <td>2.67762</td>\n      <td>0.00000</td>\n      <td>0.00012</td>\n      <td>0.00000</td>\n      <td>0.00252</td>\n      <td>0.00000</td>\n    </tr>\n    <tr>\n      <td>25%</td>\n      <td>41.70671</td>\n      <td>293.53170</td>\n      <td>110.96110</td>\n      <td>10.17949</td>\n      <td>58.52000</td>\n      <td>0.72400</td>\n      <td>12.32901</td>\n      <td>15.83472</td>\n      <td>1.76227</td>\n      <td>31.96074</td>\n      <td>7.13499</td>\n      <td>330.88660</td>\n      <td>19.10435</td>\n      <td>3.46839</td>\n      <td>403.24870</td>\n      <td>1.70200</td>\n      <td>0.10256</td>\n      <td>226.24930</td>\n      <td>0.26951</td>\n      <td>2.03857</td>\n    </tr>\n    <tr>\n      <td>50%</td>\n      <td>82.98421</td>\n      <td>402.21690</td>\n      <td>179.09050</td>\n      <td>24.76230</td>\n      <td>83.20487</td>\n      <td>1.90878</td>\n      <td>19.89894</td>\n      <td>39.23425</td>\n      <td>2.72961</td>\n      <td>45.60215</td>\n      <td>10.96189</td>\n      <td>474.42300</td>\n      <td>26.44455</td>\n      <td>6.94486</td>\n      <td>719.30310</td>\n      <td>3.83038</td>\n      <td>0.19551</td>\n      <td>569.17940</td>\n      <td>0.43700</td>\n      <td>6.49813</td>\n    </tr>\n    <tr>\n      <td>75%</td>\n      <td>191.93500</td>\n      <td>543.94100</td>\n      <td>270.12480</td>\n      <td>43.31408</td>\n      <td>126.13500</td>\n      <td>3.67149</td>\n      <td>30.01386</td>\n      <td>88.15191</td>\n      <td>3.95205</td>\n      <td>63.72025</td>\n      <td>16.48777</td>\n      <td>660.33650</td>\n      <td>34.30157</td>\n      <td>11.96910</td>\n      <td>1084.22600</td>\n      <td>7.81290</td>\n      <td>0.39492</td>\n      <td>1118.82800</td>\n      <td>0.68543</td>\n      <td>19.57264</td>\n    </tr>\n    <tr>\n      <td>max</td>\n      <td>1264.32600</td>\n      <td>4709.19900</td>\n      <td>3455.29000</td>\n      <td>236.72050</td>\n      <td>979.77610</td>\n      <td>27.83175</td>\n      <td>383.92110</td>\n      <td>519.53590</td>\n      <td>55.89075</td>\n      <td>590.39220</td>\n      <td>109.01730</td>\n      <td>6063.16200</td>\n      <td>273.21630</td>\n      <td>103.43580</td>\n      <td>22099.37000</td>\n      <td>136.50510</td>\n      <td>3.25879</td>\n      <td>40386.87000</td>\n      <td>5.98334</td>\n      <td>507.27710</td>\n    </tr>\n  </tbody>\n</table>\n</div>",
      "text/plain": "name     Calcium   Calories  Calories from Fat  Carbohydrates  Cholesterol  \\\ncount 4061.00000 4061.00000         4061.00000     4061.00000   4061.00000   \nmean   146.27411  436.40975          205.37237       29.33344     96.51821   \nstd    159.44644  208.88694          142.06851       23.54763     64.77935   \nmin      0.93181   13.63194            0.92750        0.00000      0.00000   \n25%     41.70671  293.53170          110.96110       10.17949     58.52000   \n50%     82.98421  402.21690          179.09050       24.76230     83.20487   \n75%    191.93500  543.94100          270.12480       43.31408    126.13500   \nmax   1264.32600 4709.19900         3455.29000      236.72050    979.77610   \n\nname   Dietary Fiber        Fat     Folate       Iron  Magnesium  \\\ncount     4061.00000 4061.00000 4061.00000 4061.00000 4061.00000   \nmean         2.63126   22.81915   60.77660    3.17214   51.61693   \nstd          2.63839   15.78539   60.62238    2.60958   32.33175   \nmin          0.00000    0.10306    0.00000    0.07193    0.85861   \n25%          0.72400   12.32901   15.83472    1.76227   31.96074   \n50%          1.90878   19.89894   39.23425    2.72961   45.60215   \n75%          3.67149   30.01386   88.15191    3.95205   63.72025   \nmax         27.83175  383.92110  519.53590   55.89075  590.39220   \n\nname   Niacin Equivalents  Potassium    Protein  Saturated Fat      Sodium  \\\ncount          4061.00000 4061.00000 4061.00000     4061.00000  4061.00000   \nmean             12.29695  537.39301   27.76348        8.69244   846.57719   \nstd               7.29271  325.05535   13.36397        7.23535   736.50210   \nmin               0.03511    4.66014    0.44604        0.01992     2.67762   \n25%               7.13499  330.88660   19.10435        3.46839   403.24870   \n50%              10.96189  474.42300   26.44455        6.94486   719.30310   \n75%              16.48777  660.33650   34.30157       11.96910  1084.22600   \nmax             109.01730 6063.16200  273.21630      103.43580 22099.37000   \n\nname      Sugars    Thiamin  Vitamin A - IU  Vitamin B6  Vitamin C  \ncount 4061.00000 4061.00000      4061.00000  4061.00000 4061.00000  \nmean     6.72518    0.30159      1221.36958     0.50872   16.72761  \nstd      9.17572    0.30494      2557.63597     0.34450   26.92523  \nmin      0.00000    0.00012         0.00000     0.00252    0.00000  \n25%      1.70200    0.10256       226.24930     0.26951    2.03857  \n50%      3.83038    0.19551       569.17940     0.43700    6.49813  \n75%      7.81290    0.39492      1118.82800     0.68543   19.57264  \nmax    136.50510    3.25879     40386.87000     5.98334  507.27710  "
     },
     "execution_count": 170,
     "metadata": {},
     "output_type": "execute_result"
    }
   ],
   "source": [
    "nutrition_db.describe()"
   ]
  }
 ]
}