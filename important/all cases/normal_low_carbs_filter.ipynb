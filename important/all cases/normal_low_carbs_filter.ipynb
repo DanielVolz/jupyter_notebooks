{
 "nbformat": 4,
 "nbformat_minor": 2,
 "metadata": {
  "language_info": {
   "name": "python",
   "codemirror_mode": {
    "name": "ipython",
    "version": 3
   },
   "version": "3.7.6-final"
  },
  "orig_nbformat": 2,
  "file_extension": ".py",
  "mimetype": "text/x-python",
  "name": "python",
  "npconvert_exporter": "python",
  "pygments_lexer": "ipython3",
  "version": 3,
  "kernelspec": {
   "name": "python3",
   "display_name": "Python 3"
  }
 },
 "cells": [
  {
   "cell_type": "code",
   "execution_count": 1,
   "metadata": {},
   "outputs": [],
   "source": [
    "import json\n",
    "\n",
    "import numpy as np\n",
    "import pandas as pd\n",
    "import pymongo\n",
    "import scipy\n",
    "from bson import ObjectId, json_util\n",
    "from pandas.io.json import json_normalize\n",
    "from pymongo import MongoClient as Connection\n",
    "from scipy import sparse, spatial\n",
    "from scipy.spatial.distance import cdist, pdist, squareform\n",
    "from sklearn.metrics.pairwise import cosine_similarity\n",
    "\n",
    "# scientific notation disabled form smaller numbers\n",
    "pd.options.display.float_format = '{:.5f}'.format\n",
    "\n",
    "# alles resultate anzeigen und nicht nur das letzte\n",
    "from IPython.core.interactiveshell import InteractiveShell\n",
    "InteractiveShell.ast_node_interactivity = \"all\"\n",
    "\n"
   ]
  },
  {
   "cell_type": "code",
   "execution_count": 2,
   "metadata": {},
   "outputs": [
    {
     "data": {
      "text/html": "<style>\n.output {\n    flex-direction: row;\n}\n</style>",
      "text/plain": "<IPython.core.display.HTML object>"
     },
     "execution_count": 2,
     "metadata": {},
     "output_type": "execute_result"
    }
   ],
   "source": [
    "# display multiple outputs in one row\n",
    "import pandas as pd\n",
    "import numpy as np\n",
    "from IPython.display import display, HTML\n",
    "\n",
    "CSS = \"\"\"\n",
    ".output {\n",
    "    flex-direction: row;\n",
    "}\n",
    "\"\"\"\n",
    "\n",
    "HTML('<style>{}</style>'.format(CSS))"
   ]
  },
  {
   "cell_type": "code",
   "execution_count": 3,
   "metadata": {},
   "outputs": [],
   "source": [
    "connection = Connection()\n",
    "db = connection.recipe_db\n",
    "input_data = db.recipes_test_copy\n",
    "\n",
    "data = json.loads(json_util.dumps(input_data.find()))"
   ]
  },
  {
   "cell_type": "code",
   "execution_count": 4,
   "metadata": {},
   "outputs": [],
   "source": [
    "ing = pd.DataFrame(json_normalize(data, record_path='ingredients',\n",
    "                             meta='id', record_prefix='ingredients_', errors='ignore'))\n",
    "\n",
    "\n",
    "nutritions = pd.DataFrame(json_normalize(data, record_path='nutritions',\n",
    "                            meta=['id', 'prep_time', 'rating', 'rating_count', 'ready_in_time', 'review_count']))\n"
   ]
  },
  {
   "cell_type": "code",
   "execution_count": 5,
   "metadata": {},
   "outputs": [],
   "source": [
    "#  ------  erstellung und data cleansing - Ingredients\n",
    "\n",
    "# schmeiss alle zutaten raus, die weniger als 5 mal verwendet werden\n",
    "# setze multiinde auf 'id' und 'ingredients_id'\n",
    "ingredients = ing.set_index(['id', 'ingredients_id'])\n",
    "\n",
    "# filtere alle Zutaten samt ihrer rezepte id, die weniger gleich 5 mal vorkommen\n",
    "ingredients_eqles_5_ing = ingredients.groupby(\n",
    "    'ingredients_id').filter(lambda x: len(x) <= 5)\n",
    "\n",
    "# droppe alle rezepte, die eine Zutate besitzen, die weniger gleich 5 Mal vorkommen\n",
    "ingredients_filt = ingredients.drop(ingredients_eqles_5_ing.index.get_level_values('id').values, level=0)\n",
    "\n",
    "# drop alls rows with ingredients_id == 0\n",
    "ingredients_eqal_zero = ingredients_filt[ingredients_filt.index.get_level_values('ingredients_id') == 0]\n",
    "ingredients_filt = ingredients_filt.drop(ingredients_eqal_zero.index.get_level_values('id').values, level=0)\n"
   ]
  },
  {
   "cell_type": "code",
   "execution_count": 6,
   "metadata": {},
   "outputs": [],
   "source": [
    "#  ------ Erstellung und cleansing des Nutrition Dataframes\n",
    "\n",
    "# erstelle neue liste auf basis der bereits gefilterten rezepte aus ingredients_filt\n",
    "id_overlap_mask = nutritions['id'].isin(ingredients_filt.index.get_level_values('id').values)\n",
    "\n",
    "# erstelle datenframe auf basis der overlapliste\n",
    "nutritions_filt = nutritions.loc[id_overlap_mask]\n",
    "\n",
    "nutrition_db = nutritions_filt.pivot_table(\n",
    "    index=['id'],\n",
    "    columns=['name'],\n",
    "    values=['amount'],\n",
    ").reset_index()\n",
    "\n",
    "nutrition_db.set_index('id', inplace=True)\n",
    "\n",
    "# remove multiindex 'amount'\n",
    "nutrition_db.columns = nutrition_db.columns.droplevel(0)\n",
    "\n",
    "# entferne alle NA\n",
    "nutrition_db = nutrition_db.dropna()\n",
    "\n",
    "# gleiche nochmals die ids der beiden dataframe nutrition und ingredients ab, da der nutrition dataframe noch NA Werte hatt\n",
    "id_overlap_mask = ingredients_filt.index.get_level_values('id').isin(nutrition_db.index)\n",
    "ingredients_db = ingredients_filt[id_overlap_mask]\n",
    "\n",
    "# abgleich ob anzahl der indizes von nutrition und zutaten dataframe gleich sind\n"
   ]
  },
  {
   "cell_type": "code",
   "execution_count": 7,
   "metadata": {},
   "outputs": [],
   "source": [
    "\n",
    "\n",
    "ingredients_db.reset_index(inplace=True)\n",
    "\n",
    "recipe_db = pd.get_dummies(ingredients_db['ingredients_id']).groupby(\n",
    "    ingredients_db['id']).apply(max)\n",
    "\n"
   ]
  },
  {
   "cell_type": "code",
   "execution_count": 8,
   "metadata": {},
   "outputs": [],
   "source": [
    "new_ingredients = ingredients_db.copy()\n",
    "#new_ingredients = new_ingredients.groupby(\"id\")[\"ingredients_grams\"].sum().reset_index()\n",
    "gramms_ingredients = new_ingredients.groupby(\"id\")[\"ingredients_grams\"].sum().reset_index().copy()\n",
    "\n",
    "Q1 = gramms_ingredients.quantile(0.25)\n",
    "Q3 = gramms_ingredients.quantile(0.75)\n",
    "IQR = Q3 - Q1\n",
    "\n",
    "#Filter out all recipes which are outlier by their weight (gramms)\n",
    "df = gramms_ingredients[~((gramms_ingredients < (Q1 - 1.5 * IQR)) |(gramms_ingredients > (Q3 + 1.5 * IQR))).any(axis=1)].copy()\n",
    "\n",
    "#filter out recipes by weight which are not in the range 500 - 2373.59 gramms\n",
    "df_start_at_fivehundret = df[df['ingredients_grams'].between(500, 2373.58225, inclusive=False)].copy()\n",
    "\n",
    "df_start_at_fivehundret.set_index('id', inplace=True)\n",
    "id_overlap_mask = nutritions['id'].isin(df_start_at_fivehundret.index.get_level_values('id').values)\n",
    "\n",
    "\n",
    "# erstelle datenframe auf basis der overlapliste\n",
    "nutritions_filt_gramm = nutritions.loc[id_overlap_mask]\n",
    "\n",
    "nutrition_db2 = nutritions_filt_gramm.pivot_table(\n",
    "    index=['id'],\n",
    "    columns=['name'],\n",
    "    values=['amount'],\n",
    ").reset_index()\n",
    "\n",
    "#create new nutrition db based on the above filtering\n",
    "nutrition_db2.set_index('id', inplace=True)\n",
    "nutrition_db2.columns = nutrition_db2.columns.droplevel(0)\n",
    "\n"
   ]
  },
  {
   "cell_type": "code",
   "execution_count": 9,
   "metadata": {},
   "outputs": [],
   "source": [
    "# random\n",
    "subset_random_top10 = nutrition_db2.sample(n=10).copy()"
   ]
  },
  {
   "cell_type": "code",
   "execution_count": 10,
   "metadata": {},
   "outputs": [],
   "source": [
    "#select 20 random recipes which are between the Fat-range of 35-40 gramms\n",
    "subset_fat = nutrition_db2[(nutrition_db2['Fat'] >= 35) & (nutrition_db2['Fat'] <= 40)].sample(n=40).copy()\n",
    "subset_fat_id = subset_fat.index.to_numpy()\n"
   ]
  },
  {
   "cell_type": "code",
   "execution_count": 11,
   "metadata": {},
   "outputs": [],
   "source": [
    "subset_normal = nutrition_db2.sample(n=40).copy()\n",
    "subset_normal_id = subset_normal.index.to_numpy()"
   ]
  },
  {
   "cell_type": "code",
   "execution_count": 12,
   "metadata": {},
   "outputs": [
    {
     "data": {
      "text/plain": "array([ 14679,  12073,  84886,  24368, 229090,  12012,   9143,  45361,\n        16603,  19943,  50579, 171368,  57071,  81222,  86649,  17862,\n         8763,  17120,  34384,  70680,  31988, 151379, 240287,  14647,\n       163894, 235432,  21003,  72311,  20684,  31065,  15407, 166292,\n        60333,   9039,  39456, 109782,  17717,  12823, 216470,  13959])"
     },
     "execution_count": 12,
     "metadata": {},
     "output_type": "execute_result"
    }
   ],
   "source": [
    "subset_normal.index.to_numpy()"
   ]
  },
  {
   "cell_type": "code",
   "execution_count": 13,
   "metadata": {},
   "outputs": [
    {
     "data": {
      "text/plain": "array([102677,  21352, 222509,   8747,  18093,  52501,  19856, 239896,\n        36766,  86813,  11737, 230478,  11892, 111823,  31072,  23881,\n       158587, 218085, 231233, 202881,  48921,  20312,   8556, 220515,\n        23923,  13420,   8757,  14610,  42247,  18795, 208314,  23434,\n        40286, 229277,  25137,  37677, 237320,  23157, 236103, 127500])"
     },
     "execution_count": 13,
     "metadata": {},
     "output_type": "execute_result"
    }
   ],
   "source": [
    "subset_fat.index.to_numpy()"
   ]
  },
  {
   "cell_type": "code",
   "execution_count": 14,
   "metadata": {},
   "outputs": [],
   "source": [
    "# remove recipes which are missing in nutrition df from the ingredients tecipes dataframe\n",
    "mask = recipe_db.index.isin(nutrition_db2.index.values)\n",
    "recipe_db = recipe_db.loc[mask]\n"
   ]
  },
  {
   "cell_type": "code",
   "execution_count": 15,
   "metadata": {},
   "outputs": [
    {
     "data": {
      "text/html": "<div>\n<style scoped>\n    .dataframe tbody tr th:only-of-type {\n        vertical-align: middle;\n    }\n\n    .dataframe tbody tr th {\n        vertical-align: top;\n    }\n\n    .dataframe thead th {\n        text-align: right;\n    }\n</style>\n<table border=\"1\" class=\"dataframe\">\n  <thead>\n    <tr style=\"text-align: right;\">\n      <th>name</th>\n      <th>Calcium</th>\n      <th>Calories</th>\n      <th>Calories from Fat</th>\n      <th>Carbohydrates</th>\n      <th>Cholesterol</th>\n      <th>Dietary Fiber</th>\n      <th>Fat</th>\n      <th>Folate</th>\n      <th>Iron</th>\n      <th>Magnesium</th>\n      <th>Niacin Equivalents</th>\n      <th>Potassium</th>\n      <th>Protein</th>\n      <th>Saturated Fat</th>\n      <th>Sodium</th>\n      <th>Sugars</th>\n      <th>Thiamin</th>\n      <th>Vitamin A - IU</th>\n      <th>Vitamin B6</th>\n      <th>Vitamin C</th>\n    </tr>\n  </thead>\n  <tbody>\n    <tr>\n      <td>count</td>\n      <td>40.00000</td>\n      <td>40.00000</td>\n      <td>40.00000</td>\n      <td>40.00000</td>\n      <td>40.00000</td>\n      <td>40.00000</td>\n      <td>40.00000</td>\n      <td>40.00000</td>\n      <td>40.00000</td>\n      <td>40.00000</td>\n      <td>40.00000</td>\n      <td>40.00000</td>\n      <td>40.00000</td>\n      <td>40.00000</td>\n      <td>40.00000</td>\n      <td>40.00000</td>\n      <td>40.00000</td>\n      <td>40.00000</td>\n      <td>40.00000</td>\n      <td>40.00000</td>\n    </tr>\n    <tr>\n      <td>mean</td>\n      <td>182.19044</td>\n      <td>608.21842</td>\n      <td>336.48215</td>\n      <td>31.97870</td>\n      <td>138.04925</td>\n      <td>2.42907</td>\n      <td>37.38690</td>\n      <td>76.43211</td>\n      <td>3.86567</td>\n      <td>61.73156</td>\n      <td>14.74757</td>\n      <td>592.22181</td>\n      <td>34.18899</td>\n      <td>15.31001</td>\n      <td>930.25197</td>\n      <td>4.61853</td>\n      <td>0.45389</td>\n      <td>1868.22768</td>\n      <td>0.59322</td>\n      <td>11.28142</td>\n    </tr>\n    <tr>\n      <td>std</td>\n      <td>189.34252</td>\n      <td>116.42767</td>\n      <td>12.96024</td>\n      <td>25.55162</td>\n      <td>57.93036</td>\n      <td>2.86041</td>\n      <td>1.44003</td>\n      <td>96.99082</td>\n      <td>2.41814</td>\n      <td>49.35353</td>\n      <td>7.20601</td>\n      <td>310.61398</td>\n      <td>13.87148</td>\n      <td>4.53214</td>\n      <td>550.22250</td>\n      <td>6.07728</td>\n      <td>0.37107</td>\n      <td>5808.43244</td>\n      <td>0.33829</td>\n      <td>16.33920</td>\n    </tr>\n    <tr>\n      <td>min</td>\n      <td>19.12100</td>\n      <td>402.84330</td>\n      <td>316.35900</td>\n      <td>1.87220</td>\n      <td>36.55200</td>\n      <td>0.00000</td>\n      <td>35.15100</td>\n      <td>6.73080</td>\n      <td>0.52164</td>\n      <td>16.00843</td>\n      <td>5.34861</td>\n      <td>255.34140</td>\n      <td>15.71987</td>\n      <td>5.72920</td>\n      <td>263.74250</td>\n      <td>0.07930</td>\n      <td>0.08727</td>\n      <td>0.56250</td>\n      <td>0.17025</td>\n      <td>0.02250</td>\n    </tr>\n    <tr>\n      <td>25%</td>\n      <td>42.61495</td>\n      <td>522.00257</td>\n      <td>326.16895</td>\n      <td>9.16919</td>\n      <td>100.84455</td>\n      <td>0.53693</td>\n      <td>36.24099</td>\n      <td>13.73089</td>\n      <td>2.69275</td>\n      <td>39.09463</td>\n      <td>9.89062</td>\n      <td>391.04413</td>\n      <td>24.77848</td>\n      <td>12.23351</td>\n      <td>500.27255</td>\n      <td>0.98664</td>\n      <td>0.17687</td>\n      <td>183.83725</td>\n      <td>0.35192</td>\n      <td>1.57534</td>\n    </tr>\n    <tr>\n      <td>50%</td>\n      <td>112.14975</td>\n      <td>587.54280</td>\n      <td>337.36705</td>\n      <td>28.14095</td>\n      <td>131.46735</td>\n      <td>1.36922</td>\n      <td>37.48523</td>\n      <td>51.79167</td>\n      <td>3.38713</td>\n      <td>48.17340</td>\n      <td>13.33910</td>\n      <td>521.09860</td>\n      <td>31.80968</td>\n      <td>13.94200</td>\n      <td>768.10395</td>\n      <td>3.07298</td>\n      <td>0.36719</td>\n      <td>762.03385</td>\n      <td>0.52697</td>\n      <td>3.83369</td>\n    </tr>\n    <tr>\n      <td>75%</td>\n      <td>294.92285</td>\n      <td>694.68290</td>\n      <td>346.95983</td>\n      <td>46.92905</td>\n      <td>156.34817</td>\n      <td>3.00479</td>\n      <td>38.55109</td>\n      <td>94.94129</td>\n      <td>4.44902</td>\n      <td>69.32928</td>\n      <td>18.30405</td>\n      <td>733.45978</td>\n      <td>40.36773</td>\n      <td>19.10003</td>\n      <td>1172.96050</td>\n      <td>5.90758</td>\n      <td>0.49669</td>\n      <td>1143.99950</td>\n      <td>0.77407</td>\n      <td>11.03837</td>\n    </tr>\n    <tr>\n      <td>max</td>\n      <td>701.80850</td>\n      <td>881.30310</td>\n      <td>359.86030</td>\n      <td>87.90229</td>\n      <td>308.72000</td>\n      <td>12.12185</td>\n      <td>39.98447</td>\n      <td>519.53590</td>\n      <td>14.15739</td>\n      <td>326.44140</td>\n      <td>35.70167</td>\n      <td>1931.48800</td>\n      <td>93.23131</td>\n      <td>23.07542</td>\n      <td>2757.83400</td>\n      <td>35.81975</td>\n      <td>1.35536</td>\n      <td>36741.70000</td>\n      <td>1.90431</td>\n      <td>74.77966</td>\n    </tr>\n  </tbody>\n</table>\n</div>",
      "text/plain": "name    Calcium  Calories  Calories from Fat  Carbohydrates  Cholesterol  \\\ncount  40.00000  40.00000           40.00000       40.00000     40.00000   \nmean  182.19044 608.21842          336.48215       31.97870    138.04925   \nstd   189.34252 116.42767           12.96024       25.55162     57.93036   \nmin    19.12100 402.84330          316.35900        1.87220     36.55200   \n25%    42.61495 522.00257          326.16895        9.16919    100.84455   \n50%   112.14975 587.54280          337.36705       28.14095    131.46735   \n75%   294.92285 694.68290          346.95983       46.92905    156.34817   \nmax   701.80850 881.30310          359.86030       87.90229    308.72000   \n\nname   Dietary Fiber      Fat    Folate     Iron  Magnesium  \\\ncount       40.00000 40.00000  40.00000 40.00000   40.00000   \nmean         2.42907 37.38690  76.43211  3.86567   61.73156   \nstd          2.86041  1.44003  96.99082  2.41814   49.35353   \nmin          0.00000 35.15100   6.73080  0.52164   16.00843   \n25%          0.53693 36.24099  13.73089  2.69275   39.09463   \n50%          1.36922 37.48523  51.79167  3.38713   48.17340   \n75%          3.00479 38.55109  94.94129  4.44902   69.32928   \nmax         12.12185 39.98447 519.53590 14.15739  326.44140   \n\nname   Niacin Equivalents  Potassium  Protein  Saturated Fat     Sodium  \\\ncount            40.00000   40.00000 40.00000       40.00000   40.00000   \nmean             14.74757  592.22181 34.18899       15.31001  930.25197   \nstd               7.20601  310.61398 13.87148        4.53214  550.22250   \nmin               5.34861  255.34140 15.71987        5.72920  263.74250   \n25%               9.89062  391.04413 24.77848       12.23351  500.27255   \n50%              13.33910  521.09860 31.80968       13.94200  768.10395   \n75%              18.30405  733.45978 40.36773       19.10003 1172.96050   \nmax              35.70167 1931.48800 93.23131       23.07542 2757.83400   \n\nname    Sugars  Thiamin  Vitamin A - IU  Vitamin B6  Vitamin C  \ncount 40.00000 40.00000        40.00000    40.00000   40.00000  \nmean   4.61853  0.45389      1868.22768     0.59322   11.28142  \nstd    6.07728  0.37107      5808.43244     0.33829   16.33920  \nmin    0.07930  0.08727         0.56250     0.17025    0.02250  \n25%    0.98664  0.17687       183.83725     0.35192    1.57534  \n50%    3.07298  0.36719       762.03385     0.52697    3.83369  \n75%    5.90758  0.49669      1143.99950     0.77407   11.03837  \nmax   35.81975  1.35536     36741.70000     1.90431   74.77966  "
     },
     "execution_count": 15,
     "metadata": {},
     "output_type": "execute_result"
    }
   ],
   "source": [
    "subset_fat.describe()"
   ]
  },
  {
   "cell_type": "code",
   "execution_count": 16,
   "metadata": {},
   "outputs": [
    {
     "data": {
      "text/html": "<div>\n<style scoped>\n    .dataframe tbody tr th:only-of-type {\n        vertical-align: middle;\n    }\n\n    .dataframe tbody tr th {\n        vertical-align: top;\n    }\n\n    .dataframe thead th {\n        text-align: right;\n    }\n</style>\n<table border=\"1\" class=\"dataframe\">\n  <thead>\n    <tr style=\"text-align: right;\">\n      <th>name</th>\n      <th>Calcium</th>\n      <th>Calories</th>\n      <th>Calories from Fat</th>\n      <th>Carbohydrates</th>\n      <th>Cholesterol</th>\n      <th>Dietary Fiber</th>\n      <th>Fat</th>\n      <th>Folate</th>\n      <th>Iron</th>\n      <th>Magnesium</th>\n      <th>Niacin Equivalents</th>\n      <th>Potassium</th>\n      <th>Protein</th>\n      <th>Saturated Fat</th>\n      <th>Sodium</th>\n      <th>Sugars</th>\n      <th>Thiamin</th>\n      <th>Vitamin A - IU</th>\n      <th>Vitamin B6</th>\n      <th>Vitamin C</th>\n    </tr>\n  </thead>\n  <tbody>\n    <tr>\n      <td>count</td>\n      <td>40.00000</td>\n      <td>40.00000</td>\n      <td>40.00000</td>\n      <td>40.00000</td>\n      <td>40.00000</td>\n      <td>40.00000</td>\n      <td>40.00000</td>\n      <td>40.00000</td>\n      <td>40.00000</td>\n      <td>40.00000</td>\n      <td>40.00000</td>\n      <td>40.00000</td>\n      <td>40.00000</td>\n      <td>40.00000</td>\n      <td>40.00000</td>\n      <td>40.00000</td>\n      <td>40.00000</td>\n      <td>40.00000</td>\n      <td>40.00000</td>\n      <td>40.00000</td>\n    </tr>\n    <tr>\n      <td>mean</td>\n      <td>196.09910</td>\n      <td>485.47077</td>\n      <td>246.31665</td>\n      <td>30.89658</td>\n      <td>95.64285</td>\n      <td>2.25384</td>\n      <td>27.36852</td>\n      <td>50.38060</td>\n      <td>3.00218</td>\n      <td>48.78765</td>\n      <td>11.54192</td>\n      <td>498.52503</td>\n      <td>28.39946</td>\n      <td>10.24769</td>\n      <td>934.36089</td>\n      <td>7.41708</td>\n      <td>0.25297</td>\n      <td>895.06425</td>\n      <td>0.46755</td>\n      <td>8.72278</td>\n    </tr>\n    <tr>\n      <td>std</td>\n      <td>205.62021</td>\n      <td>227.27974</td>\n      <td>179.85616</td>\n      <td>25.84626</td>\n      <td>63.89711</td>\n      <td>2.69225</td>\n      <td>19.98401</td>\n      <td>57.44862</td>\n      <td>2.04032</td>\n      <td>26.13401</td>\n      <td>7.14851</td>\n      <td>277.52660</td>\n      <td>13.57031</td>\n      <td>8.46734</td>\n      <td>496.98896</td>\n      <td>9.13422</td>\n      <td>0.25525</td>\n      <td>1234.54219</td>\n      <td>0.30913</td>\n      <td>12.34968</td>\n    </tr>\n    <tr>\n      <td>min</td>\n      <td>6.12773</td>\n      <td>185.77880</td>\n      <td>47.26966</td>\n      <td>1.95229</td>\n      <td>0.00000</td>\n      <td>0.00000</td>\n      <td>5.25218</td>\n      <td>3.34426</td>\n      <td>0.72508</td>\n      <td>5.61653</td>\n      <td>0.21848</td>\n      <td>69.78000</td>\n      <td>5.40403</td>\n      <td>1.97351</td>\n      <td>93.92116</td>\n      <td>0.11998</td>\n      <td>0.02235</td>\n      <td>2.05748</td>\n      <td>0.02044</td>\n      <td>0.29898</td>\n    </tr>\n    <tr>\n      <td>25%</td>\n      <td>40.54730</td>\n      <td>327.72412</td>\n      <td>123.55208</td>\n      <td>11.09381</td>\n      <td>54.88120</td>\n      <td>0.58224</td>\n      <td>13.72800</td>\n      <td>17.04097</td>\n      <td>1.67852</td>\n      <td>29.51014</td>\n      <td>6.41973</td>\n      <td>349.03415</td>\n      <td>19.11413</td>\n      <td>4.06079</td>\n      <td>561.53305</td>\n      <td>2.47309</td>\n      <td>0.10145</td>\n      <td>106.41814</td>\n      <td>0.27285</td>\n      <td>1.89484</td>\n    </tr>\n    <tr>\n      <td>50%</td>\n      <td>86.61471</td>\n      <td>436.21520</td>\n      <td>188.92380</td>\n      <td>22.79190</td>\n      <td>88.07059</td>\n      <td>1.19657</td>\n      <td>20.99153</td>\n      <td>27.31100</td>\n      <td>2.66452</td>\n      <td>44.32084</td>\n      <td>9.53437</td>\n      <td>443.11600</td>\n      <td>24.55208</td>\n      <td>8.23403</td>\n      <td>891.32100</td>\n      <td>4.21077</td>\n      <td>0.16699</td>\n      <td>409.36650</td>\n      <td>0.39399</td>\n      <td>3.53158</td>\n    </tr>\n    <tr>\n      <td>75%</td>\n      <td>278.50070</td>\n      <td>623.59995</td>\n      <td>301.85032</td>\n      <td>42.86154</td>\n      <td>126.52425</td>\n      <td>3.48576</td>\n      <td>33.53893</td>\n      <td>46.43787</td>\n      <td>3.41637</td>\n      <td>60.53861</td>\n      <td>16.87748</td>\n      <td>622.09455</td>\n      <td>38.36617</td>\n      <td>13.69192</td>\n      <td>1159.95925</td>\n      <td>9.47168</td>\n      <td>0.28311</td>\n      <td>1046.75475</td>\n      <td>0.69683</td>\n      <td>9.97948</td>\n    </tr>\n    <tr>\n      <td>max</td>\n      <td>790.40460</td>\n      <td>1285.39900</td>\n      <td>989.10300</td>\n      <td>93.62617</td>\n      <td>275.94000</td>\n      <td>12.79123</td>\n      <td>109.90030</td>\n      <td>267.82510</td>\n      <td>11.15067</td>\n      <td>125.02260</td>\n      <td>25.03877</td>\n      <td>1584.16400</td>\n      <td>64.74465</td>\n      <td>41.72193</td>\n      <td>2308.54900</td>\n      <td>41.97056</td>\n      <td>1.22795</td>\n      <td>5345.74000</td>\n      <td>1.52668</td>\n      <td>64.99386</td>\n    </tr>\n  </tbody>\n</table>\n</div>",
      "text/plain": "name    Calcium   Calories  Calories from Fat  Carbohydrates  Cholesterol  \\\ncount  40.00000   40.00000           40.00000       40.00000     40.00000   \nmean  196.09910  485.47077          246.31665       30.89658     95.64285   \nstd   205.62021  227.27974          179.85616       25.84626     63.89711   \nmin     6.12773  185.77880           47.26966        1.95229      0.00000   \n25%    40.54730  327.72412          123.55208       11.09381     54.88120   \n50%    86.61471  436.21520          188.92380       22.79190     88.07059   \n75%   278.50070  623.59995          301.85032       42.86154    126.52425   \nmax   790.40460 1285.39900          989.10300       93.62617    275.94000   \n\nname   Dietary Fiber       Fat    Folate     Iron  Magnesium  \\\ncount       40.00000  40.00000  40.00000 40.00000   40.00000   \nmean         2.25384  27.36852  50.38060  3.00218   48.78765   \nstd          2.69225  19.98401  57.44862  2.04032   26.13401   \nmin          0.00000   5.25218   3.34426  0.72508    5.61653   \n25%          0.58224  13.72800  17.04097  1.67852   29.51014   \n50%          1.19657  20.99153  27.31100  2.66452   44.32084   \n75%          3.48576  33.53893  46.43787  3.41637   60.53861   \nmax         12.79123 109.90030 267.82510 11.15067  125.02260   \n\nname   Niacin Equivalents  Potassium  Protein  Saturated Fat     Sodium  \\\ncount            40.00000   40.00000 40.00000       40.00000   40.00000   \nmean             11.54192  498.52503 28.39946       10.24769  934.36089   \nstd               7.14851  277.52660 13.57031        8.46734  496.98896   \nmin               0.21848   69.78000  5.40403        1.97351   93.92116   \n25%               6.41973  349.03415 19.11413        4.06079  561.53305   \n50%               9.53437  443.11600 24.55208        8.23403  891.32100   \n75%              16.87748  622.09455 38.36617       13.69192 1159.95925   \nmax              25.03877 1584.16400 64.74465       41.72193 2308.54900   \n\nname    Sugars  Thiamin  Vitamin A - IU  Vitamin B6  Vitamin C  \ncount 40.00000 40.00000        40.00000    40.00000   40.00000  \nmean   7.41708  0.25297       895.06425     0.46755    8.72278  \nstd    9.13422  0.25525      1234.54219     0.30913   12.34968  \nmin    0.11998  0.02235         2.05748     0.02044    0.29898  \n25%    2.47309  0.10145       106.41814     0.27285    1.89484  \n50%    4.21077  0.16699       409.36650     0.39399    3.53158  \n75%    9.47168  0.28311      1046.75475     0.69683    9.97948  \nmax   41.97056  1.22795      5345.74000     1.52668   64.99386  "
     },
     "execution_count": 16,
     "metadata": {},
     "output_type": "execute_result"
    }
   ],
   "source": [
    "subset_normal.describe()"
   ]
  },
  {
   "cell_type": "code",
   "execution_count": 17,
   "metadata": {},
   "outputs": [],
   "source": [
    "user_recipes_fat = recipe_db[recipe_db.index.isin(subset_fat_id)]\n",
    "user_recipes_normal = recipe_db[recipe_db.index.isin(subset_normal_id)]"
   ]
  },
  {
   "cell_type": "code",
   "execution_count": 18,
   "metadata": {},
   "outputs": [],
   "source": [
    "####temp#######\n",
    "temp_fat_20 = [16966,  14753,  62459,  18397,   8757,  52501,   8556, 240522,\n",
    "        86628, 221304, 223596,  51653,  48921, 142220,  76763, 222509,\n",
    "        17496,  14710,  86860,  86813]\n",
    "####temp#######\n",
    "user_recipes_fat = recipe_db[recipe_db.index.isin(temp_fat_20)]\n"
   ]
  },
  {
   "cell_type": "code",
   "execution_count": 19,
   "metadata": {},
   "outputs": [
    {
     "data": {
      "text/html": "<div>\n<style scoped>\n    .dataframe tbody tr th:only-of-type {\n        vertical-align: middle;\n    }\n\n    .dataframe tbody tr th {\n        vertical-align: top;\n    }\n\n    .dataframe thead th {\n        text-align: right;\n    }\n</style>\n<table border=\"1\" class=\"dataframe\">\n  <thead>\n    <tr style=\"text-align: right;\">\n      <th></th>\n      <th>111</th>\n      <th>126</th>\n      <th>257</th>\n      <th>443</th>\n      <th>445</th>\n      <th>578</th>\n      <th>615</th>\n      <th>629</th>\n      <th>631</th>\n      <th>858</th>\n      <th>...</th>\n      <th>23047</th>\n      <th>23274</th>\n      <th>23383</th>\n      <th>24865</th>\n      <th>25518</th>\n      <th>25522</th>\n      <th>26269</th>\n      <th>26934</th>\n      <th>27343</th>\n      <th>27805</th>\n    </tr>\n    <tr>\n      <th>id</th>\n      <th></th>\n      <th></th>\n      <th></th>\n      <th></th>\n      <th></th>\n      <th></th>\n      <th></th>\n      <th></th>\n      <th></th>\n      <th></th>\n      <th></th>\n      <th></th>\n      <th></th>\n      <th></th>\n      <th></th>\n      <th></th>\n      <th></th>\n      <th></th>\n      <th></th>\n      <th></th>\n      <th></th>\n    </tr>\n  </thead>\n  <tbody>\n    <tr>\n      <td>8556</td>\n      <td>0</td>\n      <td>0</td>\n      <td>0</td>\n      <td>0</td>\n      <td>0</td>\n      <td>0</td>\n      <td>0</td>\n      <td>0</td>\n      <td>0</td>\n      <td>0</td>\n      <td>...</td>\n      <td>0</td>\n      <td>0</td>\n      <td>0</td>\n      <td>0</td>\n      <td>0</td>\n      <td>0</td>\n      <td>0</td>\n      <td>0</td>\n      <td>0</td>\n      <td>0</td>\n    </tr>\n    <tr>\n      <td>8757</td>\n      <td>0</td>\n      <td>0</td>\n      <td>0</td>\n      <td>0</td>\n      <td>0</td>\n      <td>0</td>\n      <td>0</td>\n      <td>0</td>\n      <td>0</td>\n      <td>0</td>\n      <td>...</td>\n      <td>0</td>\n      <td>0</td>\n      <td>0</td>\n      <td>0</td>\n      <td>0</td>\n      <td>0</td>\n      <td>0</td>\n      <td>0</td>\n      <td>0</td>\n      <td>0</td>\n    </tr>\n    <tr>\n      <td>14710</td>\n      <td>0</td>\n      <td>0</td>\n      <td>0</td>\n      <td>0</td>\n      <td>0</td>\n      <td>0</td>\n      <td>0</td>\n      <td>0</td>\n      <td>0</td>\n      <td>0</td>\n      <td>...</td>\n      <td>0</td>\n      <td>0</td>\n      <td>0</td>\n      <td>0</td>\n      <td>0</td>\n      <td>0</td>\n      <td>0</td>\n      <td>0</td>\n      <td>0</td>\n      <td>0</td>\n    </tr>\n    <tr>\n      <td>14753</td>\n      <td>0</td>\n      <td>0</td>\n      <td>0</td>\n      <td>0</td>\n      <td>0</td>\n      <td>0</td>\n      <td>0</td>\n      <td>0</td>\n      <td>0</td>\n      <td>0</td>\n      <td>...</td>\n      <td>0</td>\n      <td>0</td>\n      <td>0</td>\n      <td>0</td>\n      <td>0</td>\n      <td>0</td>\n      <td>0</td>\n      <td>0</td>\n      <td>0</td>\n      <td>0</td>\n    </tr>\n    <tr>\n      <td>16966</td>\n      <td>0</td>\n      <td>0</td>\n      <td>0</td>\n      <td>0</td>\n      <td>0</td>\n      <td>0</td>\n      <td>0</td>\n      <td>0</td>\n      <td>0</td>\n      <td>0</td>\n      <td>...</td>\n      <td>0</td>\n      <td>0</td>\n      <td>0</td>\n      <td>0</td>\n      <td>0</td>\n      <td>0</td>\n      <td>0</td>\n      <td>0</td>\n      <td>0</td>\n      <td>0</td>\n    </tr>\n    <tr>\n      <td>17496</td>\n      <td>0</td>\n      <td>0</td>\n      <td>0</td>\n      <td>0</td>\n      <td>0</td>\n      <td>0</td>\n      <td>0</td>\n      <td>0</td>\n      <td>0</td>\n      <td>0</td>\n      <td>...</td>\n      <td>0</td>\n      <td>0</td>\n      <td>0</td>\n      <td>0</td>\n      <td>0</td>\n      <td>0</td>\n      <td>0</td>\n      <td>0</td>\n      <td>0</td>\n      <td>0</td>\n    </tr>\n    <tr>\n      <td>18397</td>\n      <td>0</td>\n      <td>0</td>\n      <td>0</td>\n      <td>0</td>\n      <td>0</td>\n      <td>0</td>\n      <td>0</td>\n      <td>0</td>\n      <td>0</td>\n      <td>0</td>\n      <td>...</td>\n      <td>0</td>\n      <td>0</td>\n      <td>0</td>\n      <td>0</td>\n      <td>0</td>\n      <td>0</td>\n      <td>0</td>\n      <td>0</td>\n      <td>0</td>\n      <td>0</td>\n    </tr>\n    <tr>\n      <td>48921</td>\n      <td>0</td>\n      <td>0</td>\n      <td>0</td>\n      <td>0</td>\n      <td>0</td>\n      <td>0</td>\n      <td>0</td>\n      <td>0</td>\n      <td>0</td>\n      <td>0</td>\n      <td>...</td>\n      <td>0</td>\n      <td>0</td>\n      <td>0</td>\n      <td>0</td>\n      <td>0</td>\n      <td>0</td>\n      <td>0</td>\n      <td>0</td>\n      <td>0</td>\n      <td>0</td>\n    </tr>\n    <tr>\n      <td>51653</td>\n      <td>0</td>\n      <td>0</td>\n      <td>0</td>\n      <td>0</td>\n      <td>0</td>\n      <td>0</td>\n      <td>0</td>\n      <td>0</td>\n      <td>0</td>\n      <td>0</td>\n      <td>...</td>\n      <td>0</td>\n      <td>0</td>\n      <td>0</td>\n      <td>0</td>\n      <td>0</td>\n      <td>0</td>\n      <td>0</td>\n      <td>0</td>\n      <td>0</td>\n      <td>0</td>\n    </tr>\n    <tr>\n      <td>52501</td>\n      <td>0</td>\n      <td>0</td>\n      <td>0</td>\n      <td>0</td>\n      <td>0</td>\n      <td>0</td>\n      <td>0</td>\n      <td>0</td>\n      <td>0</td>\n      <td>0</td>\n      <td>...</td>\n      <td>0</td>\n      <td>0</td>\n      <td>0</td>\n      <td>0</td>\n      <td>0</td>\n      <td>0</td>\n      <td>0</td>\n      <td>0</td>\n      <td>0</td>\n      <td>0</td>\n    </tr>\n    <tr>\n      <td>62459</td>\n      <td>0</td>\n      <td>0</td>\n      <td>0</td>\n      <td>0</td>\n      <td>0</td>\n      <td>0</td>\n      <td>0</td>\n      <td>0</td>\n      <td>0</td>\n      <td>0</td>\n      <td>...</td>\n      <td>0</td>\n      <td>0</td>\n      <td>0</td>\n      <td>0</td>\n      <td>0</td>\n      <td>0</td>\n      <td>0</td>\n      <td>0</td>\n      <td>0</td>\n      <td>0</td>\n    </tr>\n    <tr>\n      <td>76763</td>\n      <td>0</td>\n      <td>0</td>\n      <td>0</td>\n      <td>0</td>\n      <td>0</td>\n      <td>0</td>\n      <td>0</td>\n      <td>0</td>\n      <td>0</td>\n      <td>0</td>\n      <td>...</td>\n      <td>0</td>\n      <td>0</td>\n      <td>0</td>\n      <td>0</td>\n      <td>0</td>\n      <td>0</td>\n      <td>0</td>\n      <td>0</td>\n      <td>0</td>\n      <td>0</td>\n    </tr>\n    <tr>\n      <td>86628</td>\n      <td>0</td>\n      <td>0</td>\n      <td>0</td>\n      <td>0</td>\n      <td>0</td>\n      <td>0</td>\n      <td>0</td>\n      <td>0</td>\n      <td>0</td>\n      <td>0</td>\n      <td>...</td>\n      <td>0</td>\n      <td>0</td>\n      <td>0</td>\n      <td>0</td>\n      <td>0</td>\n      <td>0</td>\n      <td>0</td>\n      <td>0</td>\n      <td>0</td>\n      <td>0</td>\n    </tr>\n    <tr>\n      <td>86813</td>\n      <td>0</td>\n      <td>0</td>\n      <td>0</td>\n      <td>0</td>\n      <td>0</td>\n      <td>0</td>\n      <td>0</td>\n      <td>0</td>\n      <td>0</td>\n      <td>0</td>\n      <td>...</td>\n      <td>0</td>\n      <td>0</td>\n      <td>0</td>\n      <td>0</td>\n      <td>0</td>\n      <td>0</td>\n      <td>0</td>\n      <td>0</td>\n      <td>0</td>\n      <td>0</td>\n    </tr>\n    <tr>\n      <td>86860</td>\n      <td>0</td>\n      <td>0</td>\n      <td>0</td>\n      <td>0</td>\n      <td>0</td>\n      <td>0</td>\n      <td>0</td>\n      <td>0</td>\n      <td>0</td>\n      <td>0</td>\n      <td>...</td>\n      <td>0</td>\n      <td>0</td>\n      <td>0</td>\n      <td>0</td>\n      <td>0</td>\n      <td>0</td>\n      <td>0</td>\n      <td>0</td>\n      <td>0</td>\n      <td>0</td>\n    </tr>\n    <tr>\n      <td>142220</td>\n      <td>0</td>\n      <td>0</td>\n      <td>0</td>\n      <td>0</td>\n      <td>0</td>\n      <td>0</td>\n      <td>0</td>\n      <td>0</td>\n      <td>0</td>\n      <td>0</td>\n      <td>...</td>\n      <td>0</td>\n      <td>0</td>\n      <td>0</td>\n      <td>0</td>\n      <td>0</td>\n      <td>0</td>\n      <td>0</td>\n      <td>0</td>\n      <td>0</td>\n      <td>0</td>\n    </tr>\n    <tr>\n      <td>221304</td>\n      <td>0</td>\n      <td>0</td>\n      <td>0</td>\n      <td>0</td>\n      <td>0</td>\n      <td>0</td>\n      <td>0</td>\n      <td>0</td>\n      <td>0</td>\n      <td>0</td>\n      <td>...</td>\n      <td>0</td>\n      <td>0</td>\n      <td>0</td>\n      <td>0</td>\n      <td>0</td>\n      <td>0</td>\n      <td>0</td>\n      <td>0</td>\n      <td>0</td>\n      <td>0</td>\n    </tr>\n    <tr>\n      <td>222509</td>\n      <td>0</td>\n      <td>0</td>\n      <td>0</td>\n      <td>0</td>\n      <td>0</td>\n      <td>0</td>\n      <td>0</td>\n      <td>0</td>\n      <td>0</td>\n      <td>0</td>\n      <td>...</td>\n      <td>0</td>\n      <td>0</td>\n      <td>0</td>\n      <td>0</td>\n      <td>0</td>\n      <td>0</td>\n      <td>0</td>\n      <td>0</td>\n      <td>0</td>\n      <td>0</td>\n    </tr>\n    <tr>\n      <td>223596</td>\n      <td>0</td>\n      <td>0</td>\n      <td>0</td>\n      <td>0</td>\n      <td>0</td>\n      <td>1</td>\n      <td>0</td>\n      <td>0</td>\n      <td>0</td>\n      <td>0</td>\n      <td>...</td>\n      <td>0</td>\n      <td>0</td>\n      <td>0</td>\n      <td>0</td>\n      <td>0</td>\n      <td>0</td>\n      <td>0</td>\n      <td>0</td>\n      <td>0</td>\n      <td>0</td>\n    </tr>\n    <tr>\n      <td>240522</td>\n      <td>0</td>\n      <td>0</td>\n      <td>0</td>\n      <td>0</td>\n      <td>0</td>\n      <td>0</td>\n      <td>0</td>\n      <td>0</td>\n      <td>0</td>\n      <td>0</td>\n      <td>...</td>\n      <td>0</td>\n      <td>0</td>\n      <td>0</td>\n      <td>0</td>\n      <td>0</td>\n      <td>0</td>\n      <td>0</td>\n      <td>0</td>\n      <td>0</td>\n      <td>0</td>\n    </tr>\n  </tbody>\n</table>\n<p>20 rows × 730 columns</p>\n</div>",
      "text/plain": "        111    126    257    443    445    578    615    629    631    858    \\\nid                                                                             \n8556        0      0      0      0      0      0      0      0      0      0   \n8757        0      0      0      0      0      0      0      0      0      0   \n14710       0      0      0      0      0      0      0      0      0      0   \n14753       0      0      0      0      0      0      0      0      0      0   \n16966       0      0      0      0      0      0      0      0      0      0   \n17496       0      0      0      0      0      0      0      0      0      0   \n18397       0      0      0      0      0      0      0      0      0      0   \n48921       0      0      0      0      0      0      0      0      0      0   \n51653       0      0      0      0      0      0      0      0      0      0   \n52501       0      0      0      0      0      0      0      0      0      0   \n62459       0      0      0      0      0      0      0      0      0      0   \n76763       0      0      0      0      0      0      0      0      0      0   \n86628       0      0      0      0      0      0      0      0      0      0   \n86813       0      0      0      0      0      0      0      0      0      0   \n86860       0      0      0      0      0      0      0      0      0      0   \n142220      0      0      0      0      0      0      0      0      0      0   \n221304      0      0      0      0      0      0      0      0      0      0   \n222509      0      0      0      0      0      0      0      0      0      0   \n223596      0      0      0      0      0      1      0      0      0      0   \n240522      0      0      0      0      0      0      0      0      0      0   \n\n        ...  23047  23274  23383  24865  25518  25522  26269  26934  27343  \\\nid      ...                                                                  \n8556    ...      0      0      0      0      0      0      0      0      0   \n8757    ...      0      0      0      0      0      0      0      0      0   \n14710   ...      0      0      0      0      0      0      0      0      0   \n14753   ...      0      0      0      0      0      0      0      0      0   \n16966   ...      0      0      0      0      0      0      0      0      0   \n17496   ...      0      0      0      0      0      0      0      0      0   \n18397   ...      0      0      0      0      0      0      0      0      0   \n48921   ...      0      0      0      0      0      0      0      0      0   \n51653   ...      0      0      0      0      0      0      0      0      0   \n52501   ...      0      0      0      0      0      0      0      0      0   \n62459   ...      0      0      0      0      0      0      0      0      0   \n76763   ...      0      0      0      0      0      0      0      0      0   \n86628   ...      0      0      0      0      0      0      0      0      0   \n86813   ...      0      0      0      0      0      0      0      0      0   \n86860   ...      0      0      0      0      0      0      0      0      0   \n142220  ...      0      0      0      0      0      0      0      0      0   \n221304  ...      0      0      0      0      0      0      0      0      0   \n222509  ...      0      0      0      0      0      0      0      0      0   \n223596  ...      0      0      0      0      0      0      0      0      0   \n240522  ...      0      0      0      0      0      0      0      0      0   \n\n        27805  \nid             \n8556        0  \n8757        0  \n14710       0  \n14753       0  \n16966       0  \n17496       0  \n18397       0  \n48921       0  \n51653       0  \n52501       0  \n62459       0  \n76763       0  \n86628       0  \n86813       0  \n86860       0  \n142220      0  \n221304      0  \n222509      0  \n223596      0  \n240522      0  \n\n[20 rows x 730 columns]"
     },
     "execution_count": 19,
     "metadata": {},
     "output_type": "execute_result"
    }
   ],
   "source": [
    "user_recipes_fat"
   ]
  },
  {
   "cell_type": "code",
   "execution_count": 20,
   "metadata": {},
   "outputs": [],
   "source": [
    "#top10 most common ingredients\n",
    "#16421    2125 salt\n",
    "#4342     1506 garlic\n",
    "#4397     1412 onion\n",
    "#16406    1185 ground black pepper\n",
    "#16157    1016 butter\n",
    "#6307      944 olive oil\n",
    "#6494      786 skinless bone less chicken breast\n",
    "#2496      749 water\n",
    "#16238     574 grated Parmesan cheese\n",
    "#16317     538 eggs\n",
    "\n",
    "\n",
    "drop_id_list = [16421, 4342, 4397, 16406, 16157, 6307, 6494, 2496, 16238, 16317]\n",
    "\n",
    "\n",
    "\n"
   ]
  },
  {
   "cell_type": "code",
   "execution_count": 21,
   "metadata": {},
   "outputs": [
    {
     "data": {
      "text/plain": "array([102677,  21352, 222509,   8747,  18093,  52501,  19856, 239896,\n        36766,  86813,  11737, 230478,  11892, 111823,  31072,  23881,\n       158587, 218085, 231233, 202881,  48921,  20312,   8556, 220515,\n        23923,  13420,   8757,  14610,  42247,  18795, 208314,  23434,\n        40286, 229277,  25137,  37677, 237320,  23157, 236103, 127500])"
     },
     "execution_count": 21,
     "metadata": {},
     "output_type": "execute_result"
    }
   ],
   "source": [
    "subset_fat_id"
   ]
  },
  {
   "cell_type": "code",
   "execution_count": 22,
   "metadata": {},
   "outputs": [
    {
     "data": {
      "text/plain": "array([ 14679,  12073,  84886,  24368, 229090,  12012,   9143,  45361,\n        16603,  19943,  50579, 171368,  57071,  81222,  86649,  17862,\n         8763,  17120,  34384,  70680,  31988, 151379, 240287,  14647,\n       163894, 235432,  21003,  72311,  20684,  31065,  15407, 166292,\n        60333,   9039,  39456, 109782,  17717,  12823, 216470,  13959])"
     },
     "execution_count": 22,
     "metadata": {},
     "output_type": "execute_result"
    }
   ],
   "source": [
    "subset_normal_id"
   ]
  },
  {
   "cell_type": "code",
   "execution_count": 23,
   "metadata": {},
   "outputs": [],
   "source": [
    "#filter out ingredients which are too common and the recipes in the user profile from the recipes database\n",
    "new_recipe_db = recipe_db.drop(axis=1, labels=drop_id_list)\n",
    "\n",
    "#original\n",
    "#new_recipe_db_wo_userrecipes_fat = new_recipe_db.drop(axis=0, labels=subset_fat_id)\n",
    "#original\n",
    "\n",
    "\n",
    "####temp#######\n",
    "new_recipe_db_wo_userrecipes_fat = new_recipe_db.drop(axis=0, labels=temp_fat_20)\n",
    "####temp#######\n",
    "new_recipe_db_wo_userrecipes_normal = new_recipe_db.drop(axis=0, labels=subset_normal_id)"
   ]
  },
  {
   "cell_type": "code",
   "execution_count": 24,
   "metadata": {},
   "outputs": [],
   "source": [
    "#remove basic ingredients like garlic, olive oil, skinless bone less chicken breast, butter, milk, salt and pepper, onion\n",
    "new_user_recipes_fat = user_recipes_fat.drop(axis=1, labels=drop_id_list)\n",
    "new_user_recipes_normal = user_recipes_normal.drop(axis=1, labels=drop_id_list)"
   ]
  },
  {
   "cell_type": "code",
   "execution_count": 25,
   "metadata": {},
   "outputs": [],
   "source": [
    "sample_fat = new_user_recipes_fat.sample(n=20).copy()\n"
   ]
  },
  {
   "cell_type": "code",
   "execution_count": 26,
   "metadata": {},
   "outputs": [],
   "source": [
    "sample_normal = new_user_recipes_normal.sample(n=40).copy()"
   ]
  },
  {
   "cell_type": "code",
   "execution_count": 27,
   "metadata": {},
   "outputs": [
    {
     "data": {
      "text/html": "<div>\n<style scoped>\n    .dataframe tbody tr th:only-of-type {\n        vertical-align: middle;\n    }\n\n    .dataframe tbody tr th {\n        vertical-align: top;\n    }\n\n    .dataframe thead th {\n        text-align: right;\n    }\n</style>\n<table border=\"1\" class=\"dataframe\">\n  <thead>\n    <tr style=\"text-align: right;\">\n      <th></th>\n      <th>111</th>\n      <th>126</th>\n      <th>257</th>\n      <th>443</th>\n      <th>445</th>\n      <th>578</th>\n      <th>615</th>\n      <th>629</th>\n      <th>631</th>\n      <th>858</th>\n      <th>...</th>\n      <th>23047</th>\n      <th>23274</th>\n      <th>23383</th>\n      <th>24865</th>\n      <th>25518</th>\n      <th>25522</th>\n      <th>26269</th>\n      <th>26934</th>\n      <th>27343</th>\n      <th>27805</th>\n    </tr>\n    <tr>\n      <th>id</th>\n      <th></th>\n      <th></th>\n      <th></th>\n      <th></th>\n      <th></th>\n      <th></th>\n      <th></th>\n      <th></th>\n      <th></th>\n      <th></th>\n      <th></th>\n      <th></th>\n      <th></th>\n      <th></th>\n      <th></th>\n      <th></th>\n      <th></th>\n      <th></th>\n      <th></th>\n      <th></th>\n      <th></th>\n    </tr>\n  </thead>\n  <tbody>\n    <tr>\n      <td>14679</td>\n      <td>0</td>\n      <td>0</td>\n      <td>0</td>\n      <td>0</td>\n      <td>0</td>\n      <td>0</td>\n      <td>0</td>\n      <td>0</td>\n      <td>0</td>\n      <td>0</td>\n      <td>...</td>\n      <td>0</td>\n      <td>0</td>\n      <td>0</td>\n      <td>0</td>\n      <td>0</td>\n      <td>0</td>\n      <td>0</td>\n      <td>0</td>\n      <td>0</td>\n      <td>0</td>\n    </tr>\n    <tr>\n      <td>50579</td>\n      <td>0</td>\n      <td>0</td>\n      <td>0</td>\n      <td>0</td>\n      <td>0</td>\n      <td>0</td>\n      <td>0</td>\n      <td>0</td>\n      <td>0</td>\n      <td>0</td>\n      <td>...</td>\n      <td>0</td>\n      <td>0</td>\n      <td>0</td>\n      <td>0</td>\n      <td>0</td>\n      <td>0</td>\n      <td>0</td>\n      <td>0</td>\n      <td>0</td>\n      <td>0</td>\n    </tr>\n    <tr>\n      <td>17717</td>\n      <td>0</td>\n      <td>0</td>\n      <td>0</td>\n      <td>0</td>\n      <td>0</td>\n      <td>0</td>\n      <td>0</td>\n      <td>0</td>\n      <td>0</td>\n      <td>0</td>\n      <td>...</td>\n      <td>0</td>\n      <td>0</td>\n      <td>0</td>\n      <td>0</td>\n      <td>0</td>\n      <td>0</td>\n      <td>0</td>\n      <td>0</td>\n      <td>0</td>\n      <td>0</td>\n    </tr>\n    <tr>\n      <td>31988</td>\n      <td>0</td>\n      <td>0</td>\n      <td>0</td>\n      <td>0</td>\n      <td>0</td>\n      <td>0</td>\n      <td>0</td>\n      <td>0</td>\n      <td>0</td>\n      <td>0</td>\n      <td>...</td>\n      <td>0</td>\n      <td>0</td>\n      <td>0</td>\n      <td>0</td>\n      <td>0</td>\n      <td>0</td>\n      <td>0</td>\n      <td>0</td>\n      <td>0</td>\n      <td>0</td>\n    </tr>\n    <tr>\n      <td>81222</td>\n      <td>0</td>\n      <td>0</td>\n      <td>0</td>\n      <td>0</td>\n      <td>0</td>\n      <td>0</td>\n      <td>0</td>\n      <td>0</td>\n      <td>0</td>\n      <td>0</td>\n      <td>...</td>\n      <td>0</td>\n      <td>0</td>\n      <td>0</td>\n      <td>0</td>\n      <td>0</td>\n      <td>0</td>\n      <td>0</td>\n      <td>0</td>\n      <td>0</td>\n      <td>0</td>\n    </tr>\n    <tr>\n      <td>34384</td>\n      <td>0</td>\n      <td>0</td>\n      <td>0</td>\n      <td>0</td>\n      <td>0</td>\n      <td>0</td>\n      <td>0</td>\n      <td>0</td>\n      <td>0</td>\n      <td>0</td>\n      <td>...</td>\n      <td>0</td>\n      <td>0</td>\n      <td>0</td>\n      <td>0</td>\n      <td>0</td>\n      <td>0</td>\n      <td>0</td>\n      <td>0</td>\n      <td>0</td>\n      <td>0</td>\n    </tr>\n    <tr>\n      <td>57071</td>\n      <td>0</td>\n      <td>0</td>\n      <td>0</td>\n      <td>0</td>\n      <td>0</td>\n      <td>0</td>\n      <td>0</td>\n      <td>0</td>\n      <td>0</td>\n      <td>0</td>\n      <td>...</td>\n      <td>0</td>\n      <td>0</td>\n      <td>0</td>\n      <td>0</td>\n      <td>0</td>\n      <td>0</td>\n      <td>0</td>\n      <td>0</td>\n      <td>0</td>\n      <td>0</td>\n    </tr>\n    <tr>\n      <td>60333</td>\n      <td>0</td>\n      <td>0</td>\n      <td>0</td>\n      <td>0</td>\n      <td>0</td>\n      <td>0</td>\n      <td>0</td>\n      <td>0</td>\n      <td>0</td>\n      <td>0</td>\n      <td>...</td>\n      <td>0</td>\n      <td>0</td>\n      <td>0</td>\n      <td>0</td>\n      <td>0</td>\n      <td>0</td>\n      <td>0</td>\n      <td>0</td>\n      <td>0</td>\n      <td>0</td>\n    </tr>\n    <tr>\n      <td>9039</td>\n      <td>0</td>\n      <td>0</td>\n      <td>0</td>\n      <td>0</td>\n      <td>0</td>\n      <td>0</td>\n      <td>0</td>\n      <td>0</td>\n      <td>0</td>\n      <td>0</td>\n      <td>...</td>\n      <td>0</td>\n      <td>0</td>\n      <td>0</td>\n      <td>0</td>\n      <td>0</td>\n      <td>0</td>\n      <td>0</td>\n      <td>0</td>\n      <td>0</td>\n      <td>0</td>\n    </tr>\n    <tr>\n      <td>45361</td>\n      <td>0</td>\n      <td>0</td>\n      <td>0</td>\n      <td>0</td>\n      <td>0</td>\n      <td>0</td>\n      <td>0</td>\n      <td>0</td>\n      <td>0</td>\n      <td>0</td>\n      <td>...</td>\n      <td>0</td>\n      <td>0</td>\n      <td>0</td>\n      <td>0</td>\n      <td>0</td>\n      <td>0</td>\n      <td>0</td>\n      <td>0</td>\n      <td>0</td>\n      <td>0</td>\n    </tr>\n    <tr>\n      <td>17862</td>\n      <td>0</td>\n      <td>0</td>\n      <td>0</td>\n      <td>0</td>\n      <td>0</td>\n      <td>0</td>\n      <td>0</td>\n      <td>0</td>\n      <td>0</td>\n      <td>0</td>\n      <td>...</td>\n      <td>0</td>\n      <td>0</td>\n      <td>0</td>\n      <td>0</td>\n      <td>0</td>\n      <td>0</td>\n      <td>0</td>\n      <td>0</td>\n      <td>0</td>\n      <td>0</td>\n    </tr>\n    <tr>\n      <td>166292</td>\n      <td>0</td>\n      <td>0</td>\n      <td>0</td>\n      <td>0</td>\n      <td>0</td>\n      <td>0</td>\n      <td>0</td>\n      <td>0</td>\n      <td>0</td>\n      <td>0</td>\n      <td>...</td>\n      <td>0</td>\n      <td>0</td>\n      <td>0</td>\n      <td>0</td>\n      <td>0</td>\n      <td>0</td>\n      <td>0</td>\n      <td>0</td>\n      <td>0</td>\n      <td>0</td>\n    </tr>\n    <tr>\n      <td>39456</td>\n      <td>0</td>\n      <td>0</td>\n      <td>0</td>\n      <td>0</td>\n      <td>0</td>\n      <td>0</td>\n      <td>0</td>\n      <td>0</td>\n      <td>0</td>\n      <td>0</td>\n      <td>...</td>\n      <td>0</td>\n      <td>0</td>\n      <td>0</td>\n      <td>0</td>\n      <td>0</td>\n      <td>0</td>\n      <td>0</td>\n      <td>0</td>\n      <td>0</td>\n      <td>0</td>\n    </tr>\n    <tr>\n      <td>17120</td>\n      <td>0</td>\n      <td>0</td>\n      <td>0</td>\n      <td>0</td>\n      <td>0</td>\n      <td>0</td>\n      <td>0</td>\n      <td>0</td>\n      <td>0</td>\n      <td>0</td>\n      <td>...</td>\n      <td>0</td>\n      <td>0</td>\n      <td>0</td>\n      <td>0</td>\n      <td>0</td>\n      <td>0</td>\n      <td>0</td>\n      <td>0</td>\n      <td>0</td>\n      <td>0</td>\n    </tr>\n    <tr>\n      <td>31065</td>\n      <td>0</td>\n      <td>0</td>\n      <td>0</td>\n      <td>0</td>\n      <td>0</td>\n      <td>0</td>\n      <td>0</td>\n      <td>0</td>\n      <td>0</td>\n      <td>0</td>\n      <td>...</td>\n      <td>0</td>\n      <td>0</td>\n      <td>0</td>\n      <td>0</td>\n      <td>0</td>\n      <td>0</td>\n      <td>0</td>\n      <td>0</td>\n      <td>0</td>\n      <td>0</td>\n    </tr>\n    <tr>\n      <td>70680</td>\n      <td>0</td>\n      <td>0</td>\n      <td>0</td>\n      <td>0</td>\n      <td>0</td>\n      <td>0</td>\n      <td>0</td>\n      <td>0</td>\n      <td>0</td>\n      <td>0</td>\n      <td>...</td>\n      <td>0</td>\n      <td>0</td>\n      <td>0</td>\n      <td>0</td>\n      <td>0</td>\n      <td>0</td>\n      <td>0</td>\n      <td>0</td>\n      <td>0</td>\n      <td>0</td>\n    </tr>\n    <tr>\n      <td>12823</td>\n      <td>0</td>\n      <td>0</td>\n      <td>0</td>\n      <td>0</td>\n      <td>0</td>\n      <td>0</td>\n      <td>0</td>\n      <td>0</td>\n      <td>0</td>\n      <td>0</td>\n      <td>...</td>\n      <td>0</td>\n      <td>0</td>\n      <td>0</td>\n      <td>0</td>\n      <td>0</td>\n      <td>0</td>\n      <td>0</td>\n      <td>0</td>\n      <td>0</td>\n      <td>0</td>\n    </tr>\n    <tr>\n      <td>9143</td>\n      <td>0</td>\n      <td>0</td>\n      <td>0</td>\n      <td>0</td>\n      <td>0</td>\n      <td>0</td>\n      <td>0</td>\n      <td>0</td>\n      <td>0</td>\n      <td>0</td>\n      <td>...</td>\n      <td>0</td>\n      <td>0</td>\n      <td>0</td>\n      <td>0</td>\n      <td>0</td>\n      <td>0</td>\n      <td>0</td>\n      <td>0</td>\n      <td>0</td>\n      <td>0</td>\n    </tr>\n    <tr>\n      <td>240287</td>\n      <td>0</td>\n      <td>0</td>\n      <td>0</td>\n      <td>0</td>\n      <td>0</td>\n      <td>0</td>\n      <td>0</td>\n      <td>0</td>\n      <td>0</td>\n      <td>0</td>\n      <td>...</td>\n      <td>0</td>\n      <td>0</td>\n      <td>0</td>\n      <td>0</td>\n      <td>0</td>\n      <td>0</td>\n      <td>0</td>\n      <td>0</td>\n      <td>0</td>\n      <td>0</td>\n    </tr>\n    <tr>\n      <td>235432</td>\n      <td>0</td>\n      <td>0</td>\n      <td>0</td>\n      <td>0</td>\n      <td>0</td>\n      <td>0</td>\n      <td>0</td>\n      <td>0</td>\n      <td>0</td>\n      <td>0</td>\n      <td>...</td>\n      <td>0</td>\n      <td>0</td>\n      <td>0</td>\n      <td>0</td>\n      <td>0</td>\n      <td>0</td>\n      <td>0</td>\n      <td>0</td>\n      <td>0</td>\n      <td>0</td>\n    </tr>\n    <tr>\n      <td>72311</td>\n      <td>0</td>\n      <td>0</td>\n      <td>0</td>\n      <td>0</td>\n      <td>0</td>\n      <td>0</td>\n      <td>0</td>\n      <td>0</td>\n      <td>0</td>\n      <td>0</td>\n      <td>...</td>\n      <td>0</td>\n      <td>0</td>\n      <td>0</td>\n      <td>0</td>\n      <td>0</td>\n      <td>0</td>\n      <td>0</td>\n      <td>0</td>\n      <td>0</td>\n      <td>0</td>\n    </tr>\n    <tr>\n      <td>109782</td>\n      <td>0</td>\n      <td>0</td>\n      <td>0</td>\n      <td>0</td>\n      <td>0</td>\n      <td>0</td>\n      <td>0</td>\n      <td>0</td>\n      <td>0</td>\n      <td>0</td>\n      <td>...</td>\n      <td>0</td>\n      <td>0</td>\n      <td>0</td>\n      <td>0</td>\n      <td>0</td>\n      <td>0</td>\n      <td>0</td>\n      <td>0</td>\n      <td>0</td>\n      <td>0</td>\n    </tr>\n    <tr>\n      <td>21003</td>\n      <td>0</td>\n      <td>0</td>\n      <td>0</td>\n      <td>0</td>\n      <td>0</td>\n      <td>0</td>\n      <td>0</td>\n      <td>0</td>\n      <td>0</td>\n      <td>0</td>\n      <td>...</td>\n      <td>0</td>\n      <td>0</td>\n      <td>0</td>\n      <td>0</td>\n      <td>0</td>\n      <td>0</td>\n      <td>0</td>\n      <td>0</td>\n      <td>0</td>\n      <td>0</td>\n    </tr>\n    <tr>\n      <td>24368</td>\n      <td>0</td>\n      <td>0</td>\n      <td>0</td>\n      <td>0</td>\n      <td>0</td>\n      <td>0</td>\n      <td>0</td>\n      <td>0</td>\n      <td>0</td>\n      <td>0</td>\n      <td>...</td>\n      <td>0</td>\n      <td>0</td>\n      <td>0</td>\n      <td>0</td>\n      <td>0</td>\n      <td>0</td>\n      <td>0</td>\n      <td>0</td>\n      <td>0</td>\n      <td>0</td>\n    </tr>\n    <tr>\n      <td>16603</td>\n      <td>0</td>\n      <td>0</td>\n      <td>0</td>\n      <td>0</td>\n      <td>0</td>\n      <td>0</td>\n      <td>0</td>\n      <td>0</td>\n      <td>0</td>\n      <td>0</td>\n      <td>...</td>\n      <td>0</td>\n      <td>0</td>\n      <td>0</td>\n      <td>0</td>\n      <td>0</td>\n      <td>0</td>\n      <td>0</td>\n      <td>0</td>\n      <td>0</td>\n      <td>0</td>\n    </tr>\n    <tr>\n      <td>86649</td>\n      <td>0</td>\n      <td>0</td>\n      <td>0</td>\n      <td>0</td>\n      <td>0</td>\n      <td>0</td>\n      <td>0</td>\n      <td>0</td>\n      <td>0</td>\n      <td>0</td>\n      <td>...</td>\n      <td>0</td>\n      <td>0</td>\n      <td>0</td>\n      <td>0</td>\n      <td>0</td>\n      <td>0</td>\n      <td>0</td>\n      <td>0</td>\n      <td>0</td>\n      <td>0</td>\n    </tr>\n    <tr>\n      <td>163894</td>\n      <td>0</td>\n      <td>0</td>\n      <td>0</td>\n      <td>0</td>\n      <td>0</td>\n      <td>0</td>\n      <td>0</td>\n      <td>0</td>\n      <td>0</td>\n      <td>0</td>\n      <td>...</td>\n      <td>0</td>\n      <td>0</td>\n      <td>0</td>\n      <td>0</td>\n      <td>0</td>\n      <td>0</td>\n      <td>0</td>\n      <td>0</td>\n      <td>0</td>\n      <td>0</td>\n    </tr>\n    <tr>\n      <td>216470</td>\n      <td>0</td>\n      <td>0</td>\n      <td>0</td>\n      <td>0</td>\n      <td>0</td>\n      <td>0</td>\n      <td>0</td>\n      <td>0</td>\n      <td>0</td>\n      <td>0</td>\n      <td>...</td>\n      <td>0</td>\n      <td>0</td>\n      <td>0</td>\n      <td>0</td>\n      <td>0</td>\n      <td>0</td>\n      <td>0</td>\n      <td>0</td>\n      <td>0</td>\n      <td>0</td>\n    </tr>\n    <tr>\n      <td>15407</td>\n      <td>0</td>\n      <td>0</td>\n      <td>0</td>\n      <td>0</td>\n      <td>0</td>\n      <td>0</td>\n      <td>0</td>\n      <td>0</td>\n      <td>0</td>\n      <td>0</td>\n      <td>...</td>\n      <td>0</td>\n      <td>0</td>\n      <td>0</td>\n      <td>0</td>\n      <td>0</td>\n      <td>0</td>\n      <td>0</td>\n      <td>0</td>\n      <td>0</td>\n      <td>0</td>\n    </tr>\n    <tr>\n      <td>19943</td>\n      <td>0</td>\n      <td>0</td>\n      <td>0</td>\n      <td>0</td>\n      <td>0</td>\n      <td>0</td>\n      <td>0</td>\n      <td>0</td>\n      <td>0</td>\n      <td>0</td>\n      <td>...</td>\n      <td>0</td>\n      <td>0</td>\n      <td>0</td>\n      <td>0</td>\n      <td>0</td>\n      <td>0</td>\n      <td>0</td>\n      <td>0</td>\n      <td>0</td>\n      <td>0</td>\n    </tr>\n    <tr>\n      <td>151379</td>\n      <td>0</td>\n      <td>0</td>\n      <td>0</td>\n      <td>0</td>\n      <td>0</td>\n      <td>0</td>\n      <td>0</td>\n      <td>0</td>\n      <td>0</td>\n      <td>0</td>\n      <td>...</td>\n      <td>0</td>\n      <td>0</td>\n      <td>0</td>\n      <td>0</td>\n      <td>0</td>\n      <td>0</td>\n      <td>0</td>\n      <td>0</td>\n      <td>0</td>\n      <td>0</td>\n    </tr>\n    <tr>\n      <td>171368</td>\n      <td>0</td>\n      <td>0</td>\n      <td>0</td>\n      <td>0</td>\n      <td>0</td>\n      <td>0</td>\n      <td>0</td>\n      <td>0</td>\n      <td>0</td>\n      <td>0</td>\n      <td>...</td>\n      <td>0</td>\n      <td>0</td>\n      <td>0</td>\n      <td>0</td>\n      <td>0</td>\n      <td>0</td>\n      <td>0</td>\n      <td>0</td>\n      <td>0</td>\n      <td>0</td>\n    </tr>\n    <tr>\n      <td>12073</td>\n      <td>0</td>\n      <td>0</td>\n      <td>0</td>\n      <td>0</td>\n      <td>0</td>\n      <td>0</td>\n      <td>0</td>\n      <td>0</td>\n      <td>0</td>\n      <td>0</td>\n      <td>...</td>\n      <td>0</td>\n      <td>0</td>\n      <td>0</td>\n      <td>0</td>\n      <td>0</td>\n      <td>0</td>\n      <td>0</td>\n      <td>0</td>\n      <td>0</td>\n      <td>0</td>\n    </tr>\n    <tr>\n      <td>20684</td>\n      <td>0</td>\n      <td>0</td>\n      <td>0</td>\n      <td>0</td>\n      <td>0</td>\n      <td>0</td>\n      <td>0</td>\n      <td>0</td>\n      <td>0</td>\n      <td>0</td>\n      <td>...</td>\n      <td>0</td>\n      <td>0</td>\n      <td>0</td>\n      <td>0</td>\n      <td>0</td>\n      <td>0</td>\n      <td>0</td>\n      <td>0</td>\n      <td>0</td>\n      <td>0</td>\n    </tr>\n    <tr>\n      <td>84886</td>\n      <td>0</td>\n      <td>0</td>\n      <td>0</td>\n      <td>0</td>\n      <td>0</td>\n      <td>0</td>\n      <td>0</td>\n      <td>0</td>\n      <td>0</td>\n      <td>0</td>\n      <td>...</td>\n      <td>0</td>\n      <td>0</td>\n      <td>0</td>\n      <td>0</td>\n      <td>0</td>\n      <td>0</td>\n      <td>0</td>\n      <td>0</td>\n      <td>0</td>\n      <td>0</td>\n    </tr>\n    <tr>\n      <td>229090</td>\n      <td>0</td>\n      <td>0</td>\n      <td>1</td>\n      <td>0</td>\n      <td>0</td>\n      <td>0</td>\n      <td>0</td>\n      <td>0</td>\n      <td>0</td>\n      <td>0</td>\n      <td>...</td>\n      <td>0</td>\n      <td>0</td>\n      <td>0</td>\n      <td>0</td>\n      <td>0</td>\n      <td>0</td>\n      <td>0</td>\n      <td>0</td>\n      <td>0</td>\n      <td>0</td>\n    </tr>\n    <tr>\n      <td>12012</td>\n      <td>0</td>\n      <td>0</td>\n      <td>0</td>\n      <td>0</td>\n      <td>0</td>\n      <td>0</td>\n      <td>0</td>\n      <td>0</td>\n      <td>0</td>\n      <td>0</td>\n      <td>...</td>\n      <td>0</td>\n      <td>0</td>\n      <td>0</td>\n      <td>0</td>\n      <td>0</td>\n      <td>0</td>\n      <td>0</td>\n      <td>0</td>\n      <td>0</td>\n      <td>0</td>\n    </tr>\n    <tr>\n      <td>13959</td>\n      <td>0</td>\n      <td>0</td>\n      <td>0</td>\n      <td>0</td>\n      <td>0</td>\n      <td>0</td>\n      <td>0</td>\n      <td>0</td>\n      <td>0</td>\n      <td>0</td>\n      <td>...</td>\n      <td>0</td>\n      <td>0</td>\n      <td>0</td>\n      <td>0</td>\n      <td>0</td>\n      <td>0</td>\n      <td>0</td>\n      <td>0</td>\n      <td>0</td>\n      <td>0</td>\n    </tr>\n    <tr>\n      <td>14647</td>\n      <td>0</td>\n      <td>0</td>\n      <td>0</td>\n      <td>0</td>\n      <td>0</td>\n      <td>0</td>\n      <td>0</td>\n      <td>0</td>\n      <td>0</td>\n      <td>0</td>\n      <td>...</td>\n      <td>0</td>\n      <td>0</td>\n      <td>0</td>\n      <td>0</td>\n      <td>0</td>\n      <td>0</td>\n      <td>0</td>\n      <td>0</td>\n      <td>0</td>\n      <td>0</td>\n    </tr>\n    <tr>\n      <td>8763</td>\n      <td>0</td>\n      <td>0</td>\n      <td>0</td>\n      <td>0</td>\n      <td>0</td>\n      <td>0</td>\n      <td>0</td>\n      <td>0</td>\n      <td>0</td>\n      <td>0</td>\n      <td>...</td>\n      <td>0</td>\n      <td>0</td>\n      <td>0</td>\n      <td>0</td>\n      <td>0</td>\n      <td>0</td>\n      <td>0</td>\n      <td>0</td>\n      <td>0</td>\n      <td>0</td>\n    </tr>\n  </tbody>\n</table>\n<p>40 rows × 720 columns</p>\n</div>",
      "text/plain": "        111    126    257    443    445    578    615    629    631    858    \\\nid                                                                             \n14679       0      0      0      0      0      0      0      0      0      0   \n50579       0      0      0      0      0      0      0      0      0      0   \n17717       0      0      0      0      0      0      0      0      0      0   \n31988       0      0      0      0      0      0      0      0      0      0   \n81222       0      0      0      0      0      0      0      0      0      0   \n34384       0      0      0      0      0      0      0      0      0      0   \n57071       0      0      0      0      0      0      0      0      0      0   \n60333       0      0      0      0      0      0      0      0      0      0   \n9039        0      0      0      0      0      0      0      0      0      0   \n45361       0      0      0      0      0      0      0      0      0      0   \n17862       0      0      0      0      0      0      0      0      0      0   \n166292      0      0      0      0      0      0      0      0      0      0   \n39456       0      0      0      0      0      0      0      0      0      0   \n17120       0      0      0      0      0      0      0      0      0      0   \n31065       0      0      0      0      0      0      0      0      0      0   \n70680       0      0      0      0      0      0      0      0      0      0   \n12823       0      0      0      0      0      0      0      0      0      0   \n9143        0      0      0      0      0      0      0      0      0      0   \n240287      0      0      0      0      0      0      0      0      0      0   \n235432      0      0      0      0      0      0      0      0      0      0   \n72311       0      0      0      0      0      0      0      0      0      0   \n109782      0      0      0      0      0      0      0      0      0      0   \n21003       0      0      0      0      0      0      0      0      0      0   \n24368       0      0      0      0      0      0      0      0      0      0   \n16603       0      0      0      0      0      0      0      0      0      0   \n86649       0      0      0      0      0      0      0      0      0      0   \n163894      0      0      0      0      0      0      0      0      0      0   \n216470      0      0      0      0      0      0      0      0      0      0   \n15407       0      0      0      0      0      0      0      0      0      0   \n19943       0      0      0      0      0      0      0      0      0      0   \n151379      0      0      0      0      0      0      0      0      0      0   \n171368      0      0      0      0      0      0      0      0      0      0   \n12073       0      0      0      0      0      0      0      0      0      0   \n20684       0      0      0      0      0      0      0      0      0      0   \n84886       0      0      0      0      0      0      0      0      0      0   \n229090      0      0      1      0      0      0      0      0      0      0   \n12012       0      0      0      0      0      0      0      0      0      0   \n13959       0      0      0      0      0      0      0      0      0      0   \n14647       0      0      0      0      0      0      0      0      0      0   \n8763        0      0      0      0      0      0      0      0      0      0   \n\n        ...  23047  23274  23383  24865  25518  25522  26269  26934  27343  \\\nid      ...                                                                  \n14679   ...      0      0      0      0      0      0      0      0      0   \n50579   ...      0      0      0      0      0      0      0      0      0   \n17717   ...      0      0      0      0      0      0      0      0      0   \n31988   ...      0      0      0      0      0      0      0      0      0   \n81222   ...      0      0      0      0      0      0      0      0      0   \n34384   ...      0      0      0      0      0      0      0      0      0   \n57071   ...      0      0      0      0      0      0      0      0      0   \n60333   ...      0      0      0      0      0      0      0      0      0   \n9039    ...      0      0      0      0      0      0      0      0      0   \n45361   ...      0      0      0      0      0      0      0      0      0   \n17862   ...      0      0      0      0      0      0      0      0      0   \n166292  ...      0      0      0      0      0      0      0      0      0   \n39456   ...      0      0      0      0      0      0      0      0      0   \n17120   ...      0      0      0      0      0      0      0      0      0   \n31065   ...      0      0      0      0      0      0      0      0      0   \n70680   ...      0      0      0      0      0      0      0      0      0   \n12823   ...      0      0      0      0      0      0      0      0      0   \n9143    ...      0      0      0      0      0      0      0      0      0   \n240287  ...      0      0      0      0      0      0      0      0      0   \n235432  ...      0      0      0      0      0      0      0      0      0   \n72311   ...      0      0      0      0      0      0      0      0      0   \n109782  ...      0      0      0      0      0      0      0      0      0   \n21003   ...      0      0      0      0      0      0      0      0      0   \n24368   ...      0      0      0      0      0      0      0      0      0   \n16603   ...      0      0      0      0      0      0      0      0      0   \n86649   ...      0      0      0      0      0      0      0      0      0   \n163894  ...      0      0      0      0      0      0      0      0      0   \n216470  ...      0      0      0      0      0      0      0      0      0   \n15407   ...      0      0      0      0      0      0      0      0      0   \n19943   ...      0      0      0      0      0      0      0      0      0   \n151379  ...      0      0      0      0      0      0      0      0      0   \n171368  ...      0      0      0      0      0      0      0      0      0   \n12073   ...      0      0      0      0      0      0      0      0      0   \n20684   ...      0      0      0      0      0      0      0      0      0   \n84886   ...      0      0      0      0      0      0      0      0      0   \n229090  ...      0      0      0      0      0      0      0      0      0   \n12012   ...      0      0      0      0      0      0      0      0      0   \n13959   ...      0      0      0      0      0      0      0      0      0   \n14647   ...      0      0      0      0      0      0      0      0      0   \n8763    ...      0      0      0      0      0      0      0      0      0   \n\n        27805  \nid             \n14679       0  \n50579       0  \n17717       0  \n31988       0  \n81222       0  \n34384       0  \n57071       0  \n60333       0  \n9039        0  \n45361       0  \n17862       0  \n166292      0  \n39456       0  \n17120       0  \n31065       0  \n70680       0  \n12823       0  \n9143        0  \n240287      0  \n235432      0  \n72311       0  \n109782      0  \n21003       0  \n24368       0  \n16603       0  \n86649       0  \n163894      0  \n216470      0  \n15407       0  \n19943       0  \n151379      0  \n171368      0  \n12073       0  \n20684       0  \n84886       0  \n229090      0  \n12012       0  \n13959       0  \n14647       0  \n8763        0  \n\n[40 rows x 720 columns]"
     },
     "execution_count": 27,
     "metadata": {},
     "output_type": "execute_result"
    },
    {
     "data": {
      "text/html": "<div>\n<style scoped>\n    .dataframe tbody tr th:only-of-type {\n        vertical-align: middle;\n    }\n\n    .dataframe tbody tr th {\n        vertical-align: top;\n    }\n\n    .dataframe thead th {\n        text-align: right;\n    }\n</style>\n<table border=\"1\" class=\"dataframe\">\n  <thead>\n    <tr style=\"text-align: right;\">\n      <th></th>\n      <th>111</th>\n      <th>126</th>\n      <th>257</th>\n      <th>443</th>\n      <th>445</th>\n      <th>578</th>\n      <th>615</th>\n      <th>629</th>\n      <th>631</th>\n      <th>858</th>\n      <th>...</th>\n      <th>23047</th>\n      <th>23274</th>\n      <th>23383</th>\n      <th>24865</th>\n      <th>25518</th>\n      <th>25522</th>\n      <th>26269</th>\n      <th>26934</th>\n      <th>27343</th>\n      <th>27805</th>\n    </tr>\n    <tr>\n      <th>id</th>\n      <th></th>\n      <th></th>\n      <th></th>\n      <th></th>\n      <th></th>\n      <th></th>\n      <th></th>\n      <th></th>\n      <th></th>\n      <th></th>\n      <th></th>\n      <th></th>\n      <th></th>\n      <th></th>\n      <th></th>\n      <th></th>\n      <th></th>\n      <th></th>\n      <th></th>\n      <th></th>\n      <th></th>\n    </tr>\n  </thead>\n  <tbody>\n    <tr>\n      <td>222509</td>\n      <td>0</td>\n      <td>0</td>\n      <td>0</td>\n      <td>0</td>\n      <td>0</td>\n      <td>0</td>\n      <td>0</td>\n      <td>0</td>\n      <td>0</td>\n      <td>0</td>\n      <td>...</td>\n      <td>0</td>\n      <td>0</td>\n      <td>0</td>\n      <td>0</td>\n      <td>0</td>\n      <td>0</td>\n      <td>0</td>\n      <td>0</td>\n      <td>0</td>\n      <td>0</td>\n    </tr>\n    <tr>\n      <td>76763</td>\n      <td>0</td>\n      <td>0</td>\n      <td>0</td>\n      <td>0</td>\n      <td>0</td>\n      <td>0</td>\n      <td>0</td>\n      <td>0</td>\n      <td>0</td>\n      <td>0</td>\n      <td>...</td>\n      <td>0</td>\n      <td>0</td>\n      <td>0</td>\n      <td>0</td>\n      <td>0</td>\n      <td>0</td>\n      <td>0</td>\n      <td>0</td>\n      <td>0</td>\n      <td>0</td>\n    </tr>\n    <tr>\n      <td>48921</td>\n      <td>0</td>\n      <td>0</td>\n      <td>0</td>\n      <td>0</td>\n      <td>0</td>\n      <td>0</td>\n      <td>0</td>\n      <td>0</td>\n      <td>0</td>\n      <td>0</td>\n      <td>...</td>\n      <td>0</td>\n      <td>0</td>\n      <td>0</td>\n      <td>0</td>\n      <td>0</td>\n      <td>0</td>\n      <td>0</td>\n      <td>0</td>\n      <td>0</td>\n      <td>0</td>\n    </tr>\n    <tr>\n      <td>62459</td>\n      <td>0</td>\n      <td>0</td>\n      <td>0</td>\n      <td>0</td>\n      <td>0</td>\n      <td>0</td>\n      <td>0</td>\n      <td>0</td>\n      <td>0</td>\n      <td>0</td>\n      <td>...</td>\n      <td>0</td>\n      <td>0</td>\n      <td>0</td>\n      <td>0</td>\n      <td>0</td>\n      <td>0</td>\n      <td>0</td>\n      <td>0</td>\n      <td>0</td>\n      <td>0</td>\n    </tr>\n    <tr>\n      <td>17496</td>\n      <td>0</td>\n      <td>0</td>\n      <td>0</td>\n      <td>0</td>\n      <td>0</td>\n      <td>0</td>\n      <td>0</td>\n      <td>0</td>\n      <td>0</td>\n      <td>0</td>\n      <td>...</td>\n      <td>0</td>\n      <td>0</td>\n      <td>0</td>\n      <td>0</td>\n      <td>0</td>\n      <td>0</td>\n      <td>0</td>\n      <td>0</td>\n      <td>0</td>\n      <td>0</td>\n    </tr>\n    <tr>\n      <td>18397</td>\n      <td>0</td>\n      <td>0</td>\n      <td>0</td>\n      <td>0</td>\n      <td>0</td>\n      <td>0</td>\n      <td>0</td>\n      <td>0</td>\n      <td>0</td>\n      <td>0</td>\n      <td>...</td>\n      <td>0</td>\n      <td>0</td>\n      <td>0</td>\n      <td>0</td>\n      <td>0</td>\n      <td>0</td>\n      <td>0</td>\n      <td>0</td>\n      <td>0</td>\n      <td>0</td>\n    </tr>\n    <tr>\n      <td>221304</td>\n      <td>0</td>\n      <td>0</td>\n      <td>0</td>\n      <td>0</td>\n      <td>0</td>\n      <td>0</td>\n      <td>0</td>\n      <td>0</td>\n      <td>0</td>\n      <td>0</td>\n      <td>...</td>\n      <td>0</td>\n      <td>0</td>\n      <td>0</td>\n      <td>0</td>\n      <td>0</td>\n      <td>0</td>\n      <td>0</td>\n      <td>0</td>\n      <td>0</td>\n      <td>0</td>\n    </tr>\n    <tr>\n      <td>240522</td>\n      <td>0</td>\n      <td>0</td>\n      <td>0</td>\n      <td>0</td>\n      <td>0</td>\n      <td>0</td>\n      <td>0</td>\n      <td>0</td>\n      <td>0</td>\n      <td>0</td>\n      <td>...</td>\n      <td>0</td>\n      <td>0</td>\n      <td>0</td>\n      <td>0</td>\n      <td>0</td>\n      <td>0</td>\n      <td>0</td>\n      <td>0</td>\n      <td>0</td>\n      <td>0</td>\n    </tr>\n    <tr>\n      <td>51653</td>\n      <td>0</td>\n      <td>0</td>\n      <td>0</td>\n      <td>0</td>\n      <td>0</td>\n      <td>0</td>\n      <td>0</td>\n      <td>0</td>\n      <td>0</td>\n      <td>0</td>\n      <td>...</td>\n      <td>0</td>\n      <td>0</td>\n      <td>0</td>\n      <td>0</td>\n      <td>0</td>\n      <td>0</td>\n      <td>0</td>\n      <td>0</td>\n      <td>0</td>\n      <td>0</td>\n    </tr>\n    <tr>\n      <td>14753</td>\n      <td>0</td>\n      <td>0</td>\n      <td>0</td>\n      <td>0</td>\n      <td>0</td>\n      <td>0</td>\n      <td>0</td>\n      <td>0</td>\n      <td>0</td>\n      <td>0</td>\n      <td>...</td>\n      <td>0</td>\n      <td>0</td>\n      <td>0</td>\n      <td>0</td>\n      <td>0</td>\n      <td>0</td>\n      <td>0</td>\n      <td>0</td>\n      <td>0</td>\n      <td>0</td>\n    </tr>\n    <tr>\n      <td>86628</td>\n      <td>0</td>\n      <td>0</td>\n      <td>0</td>\n      <td>0</td>\n      <td>0</td>\n      <td>0</td>\n      <td>0</td>\n      <td>0</td>\n      <td>0</td>\n      <td>0</td>\n      <td>...</td>\n      <td>0</td>\n      <td>0</td>\n      <td>0</td>\n      <td>0</td>\n      <td>0</td>\n      <td>0</td>\n      <td>0</td>\n      <td>0</td>\n      <td>0</td>\n      <td>0</td>\n    </tr>\n    <tr>\n      <td>86813</td>\n      <td>0</td>\n      <td>0</td>\n      <td>0</td>\n      <td>0</td>\n      <td>0</td>\n      <td>0</td>\n      <td>0</td>\n      <td>0</td>\n      <td>0</td>\n      <td>0</td>\n      <td>...</td>\n      <td>0</td>\n      <td>0</td>\n      <td>0</td>\n      <td>0</td>\n      <td>0</td>\n      <td>0</td>\n      <td>0</td>\n      <td>0</td>\n      <td>0</td>\n      <td>0</td>\n    </tr>\n    <tr>\n      <td>8757</td>\n      <td>0</td>\n      <td>0</td>\n      <td>0</td>\n      <td>0</td>\n      <td>0</td>\n      <td>0</td>\n      <td>0</td>\n      <td>0</td>\n      <td>0</td>\n      <td>0</td>\n      <td>...</td>\n      <td>0</td>\n      <td>0</td>\n      <td>0</td>\n      <td>0</td>\n      <td>0</td>\n      <td>0</td>\n      <td>0</td>\n      <td>0</td>\n      <td>0</td>\n      <td>0</td>\n    </tr>\n    <tr>\n      <td>142220</td>\n      <td>0</td>\n      <td>0</td>\n      <td>0</td>\n      <td>0</td>\n      <td>0</td>\n      <td>0</td>\n      <td>0</td>\n      <td>0</td>\n      <td>0</td>\n      <td>0</td>\n      <td>...</td>\n      <td>0</td>\n      <td>0</td>\n      <td>0</td>\n      <td>0</td>\n      <td>0</td>\n      <td>0</td>\n      <td>0</td>\n      <td>0</td>\n      <td>0</td>\n      <td>0</td>\n    </tr>\n    <tr>\n      <td>223596</td>\n      <td>0</td>\n      <td>0</td>\n      <td>0</td>\n      <td>0</td>\n      <td>0</td>\n      <td>1</td>\n      <td>0</td>\n      <td>0</td>\n      <td>0</td>\n      <td>0</td>\n      <td>...</td>\n      <td>0</td>\n      <td>0</td>\n      <td>0</td>\n      <td>0</td>\n      <td>0</td>\n      <td>0</td>\n      <td>0</td>\n      <td>0</td>\n      <td>0</td>\n      <td>0</td>\n    </tr>\n    <tr>\n      <td>8556</td>\n      <td>0</td>\n      <td>0</td>\n      <td>0</td>\n      <td>0</td>\n      <td>0</td>\n      <td>0</td>\n      <td>0</td>\n      <td>0</td>\n      <td>0</td>\n      <td>0</td>\n      <td>...</td>\n      <td>0</td>\n      <td>0</td>\n      <td>0</td>\n      <td>0</td>\n      <td>0</td>\n      <td>0</td>\n      <td>0</td>\n      <td>0</td>\n      <td>0</td>\n      <td>0</td>\n    </tr>\n    <tr>\n      <td>14710</td>\n      <td>0</td>\n      <td>0</td>\n      <td>0</td>\n      <td>0</td>\n      <td>0</td>\n      <td>0</td>\n      <td>0</td>\n      <td>0</td>\n      <td>0</td>\n      <td>0</td>\n      <td>...</td>\n      <td>0</td>\n      <td>0</td>\n      <td>0</td>\n      <td>0</td>\n      <td>0</td>\n      <td>0</td>\n      <td>0</td>\n      <td>0</td>\n      <td>0</td>\n      <td>0</td>\n    </tr>\n    <tr>\n      <td>16966</td>\n      <td>0</td>\n      <td>0</td>\n      <td>0</td>\n      <td>0</td>\n      <td>0</td>\n      <td>0</td>\n      <td>0</td>\n      <td>0</td>\n      <td>0</td>\n      <td>0</td>\n      <td>...</td>\n      <td>0</td>\n      <td>0</td>\n      <td>0</td>\n      <td>0</td>\n      <td>0</td>\n      <td>0</td>\n      <td>0</td>\n      <td>0</td>\n      <td>0</td>\n      <td>0</td>\n    </tr>\n    <tr>\n      <td>52501</td>\n      <td>0</td>\n      <td>0</td>\n      <td>0</td>\n      <td>0</td>\n      <td>0</td>\n      <td>0</td>\n      <td>0</td>\n      <td>0</td>\n      <td>0</td>\n      <td>0</td>\n      <td>...</td>\n      <td>0</td>\n      <td>0</td>\n      <td>0</td>\n      <td>0</td>\n      <td>0</td>\n      <td>0</td>\n      <td>0</td>\n      <td>0</td>\n      <td>0</td>\n      <td>0</td>\n    </tr>\n    <tr>\n      <td>86860</td>\n      <td>0</td>\n      <td>0</td>\n      <td>0</td>\n      <td>0</td>\n      <td>0</td>\n      <td>0</td>\n      <td>0</td>\n      <td>0</td>\n      <td>0</td>\n      <td>0</td>\n      <td>...</td>\n      <td>0</td>\n      <td>0</td>\n      <td>0</td>\n      <td>0</td>\n      <td>0</td>\n      <td>0</td>\n      <td>0</td>\n      <td>0</td>\n      <td>0</td>\n      <td>0</td>\n    </tr>\n  </tbody>\n</table>\n<p>20 rows × 720 columns</p>\n</div>",
      "text/plain": "        111    126    257    443    445    578    615    629    631    858    \\\nid                                                                             \n222509      0      0      0      0      0      0      0      0      0      0   \n76763       0      0      0      0      0      0      0      0      0      0   \n48921       0      0      0      0      0      0      0      0      0      0   \n62459       0      0      0      0      0      0      0      0      0      0   \n17496       0      0      0      0      0      0      0      0      0      0   \n18397       0      0      0      0      0      0      0      0      0      0   \n221304      0      0      0      0      0      0      0      0      0      0   \n240522      0      0      0      0      0      0      0      0      0      0   \n51653       0      0      0      0      0      0      0      0      0      0   \n14753       0      0      0      0      0      0      0      0      0      0   \n86628       0      0      0      0      0      0      0      0      0      0   \n86813       0      0      0      0      0      0      0      0      0      0   \n8757        0      0      0      0      0      0      0      0      0      0   \n142220      0      0      0      0      0      0      0      0      0      0   \n223596      0      0      0      0      0      1      0      0      0      0   \n8556        0      0      0      0      0      0      0      0      0      0   \n14710       0      0      0      0      0      0      0      0      0      0   \n16966       0      0      0      0      0      0      0      0      0      0   \n52501       0      0      0      0      0      0      0      0      0      0   \n86860       0      0      0      0      0      0      0      0      0      0   \n\n        ...  23047  23274  23383  24865  25518  25522  26269  26934  27343  \\\nid      ...                                                                  \n222509  ...      0      0      0      0      0      0      0      0      0   \n76763   ...      0      0      0      0      0      0      0      0      0   \n48921   ...      0      0      0      0      0      0      0      0      0   \n62459   ...      0      0      0      0      0      0      0      0      0   \n17496   ...      0      0      0      0      0      0      0      0      0   \n18397   ...      0      0      0      0      0      0      0      0      0   \n221304  ...      0      0      0      0      0      0      0      0      0   \n240522  ...      0      0      0      0      0      0      0      0      0   \n51653   ...      0      0      0      0      0      0      0      0      0   \n14753   ...      0      0      0      0      0      0      0      0      0   \n86628   ...      0      0      0      0      0      0      0      0      0   \n86813   ...      0      0      0      0      0      0      0      0      0   \n8757    ...      0      0      0      0      0      0      0      0      0   \n142220  ...      0      0      0      0      0      0      0      0      0   \n223596  ...      0      0      0      0      0      0      0      0      0   \n8556    ...      0      0      0      0      0      0      0      0      0   \n14710   ...      0      0      0      0      0      0      0      0      0   \n16966   ...      0      0      0      0      0      0      0      0      0   \n52501   ...      0      0      0      0      0      0      0      0      0   \n86860   ...      0      0      0      0      0      0      0      0      0   \n\n        27805  \nid             \n222509      0  \n76763       0  \n48921       0  \n62459       0  \n17496       0  \n18397       0  \n221304      0  \n240522      0  \n51653       0  \n14753       0  \n86628       0  \n86813       0  \n8757        0  \n142220      0  \n223596      0  \n8556        0  \n14710       0  \n16966       0  \n52501       0  \n86860       0  \n\n[20 rows x 720 columns]"
     },
     "execution_count": 27,
     "metadata": {},
     "output_type": "execute_result"
    }
   ],
   "source": [
    "sample_normal\n",
    "sample_fat"
   ]
  },
  {
   "cell_type": "code",
   "execution_count": 28,
   "metadata": {},
   "outputs": [
    {
     "data": {
      "text/html": "<div>\n<style scoped>\n    .dataframe tbody tr th:only-of-type {\n        vertical-align: middle;\n    }\n\n    .dataframe tbody tr th {\n        vertical-align: top;\n    }\n\n    .dataframe thead th {\n        text-align: right;\n    }\n</style>\n<table border=\"1\" class=\"dataframe\">\n  <thead>\n    <tr style=\"text-align: right;\">\n      <th></th>\n      <th>jaccard_distance_sum</th>\n    </tr>\n  </thead>\n  <tbody>\n    <tr>\n      <td>8547</td>\n      <td>0.92198</td>\n    </tr>\n    <tr>\n      <td>188706</td>\n      <td>0.93331</td>\n    </tr>\n    <tr>\n      <td>70513</td>\n      <td>0.94038</td>\n    </tr>\n    <tr>\n      <td>141125</td>\n      <td>0.94441</td>\n    </tr>\n    <tr>\n      <td>62256</td>\n      <td>0.94456</td>\n    </tr>\n    <tr>\n      <td>231808</td>\n      <td>0.94471</td>\n    </tr>\n    <tr>\n      <td>90160</td>\n      <td>0.94768</td>\n    </tr>\n    <tr>\n      <td>240773</td>\n      <td>0.94804</td>\n    </tr>\n    <tr>\n      <td>18442</td>\n      <td>0.94897</td>\n    </tr>\n    <tr>\n      <td>14614</td>\n      <td>0.94936</td>\n    </tr>\n  </tbody>\n</table>\n</div>",
      "text/plain": "        jaccard_distance_sum\n8547                 0.92198\n188706               0.93331\n70513                0.94038\n141125               0.94441\n62256                0.94456\n231808               0.94471\n90160                0.94768\n240773               0.94804\n18442                0.94897\n14614                0.94936"
     },
     "execution_count": 28,
     "metadata": {},
     "output_type": "execute_result"
    }
   ],
   "source": [
    "## Jaccard - fat\n",
    "\n",
    "result_array = cdist(sample_fat, new_recipe_db_wo_userrecipes_fat,'jaccard')\n",
    "result_w_filter_fat = pd.DataFrame(result_array, columns=new_recipe_db_wo_userrecipes_fat.index.values, index=sample_fat.index.values)\n",
    "# result_2\n",
    "\n",
    "result_w_filter_10_fat = pd.DataFrame(result_w_filter_fat.sum(), columns=['jaccard_distance_sum'])\n",
    "result_w_filter_10_fat = result_w_filter_10_fat.sort_values(by='jaccard_distance_sum')\n",
    "result_w_filter_10_fat['jaccard_distance_sum'] = result_w_filter_10_fat['jaccard_distance_sum'].div(20)\n",
    "result_w_filter_10_fat[0:10]\n"
   ]
  },
  {
   "cell_type": "code",
   "execution_count": 29,
   "metadata": {},
   "outputs": [
    {
     "data": {
      "text/html": "<div>\n<style scoped>\n    .dataframe tbody tr th:only-of-type {\n        vertical-align: middle;\n    }\n\n    .dataframe tbody tr th {\n        vertical-align: top;\n    }\n\n    .dataframe thead th {\n        text-align: right;\n    }\n</style>\n<table border=\"1\" class=\"dataframe\">\n  <thead>\n    <tr style=\"text-align: right;\">\n      <th></th>\n      <th>jaccard_distance_sum</th>\n    </tr>\n  </thead>\n  <tbody>\n    <tr>\n      <td>72007</td>\n      <td>1.88822</td>\n    </tr>\n    <tr>\n      <td>44742</td>\n      <td>1.89108</td>\n    </tr>\n    <tr>\n      <td>24682</td>\n      <td>1.89121</td>\n    </tr>\n    <tr>\n      <td>16416</td>\n      <td>1.89288</td>\n    </tr>\n    <tr>\n      <td>20456</td>\n      <td>1.89362</td>\n    </tr>\n    <tr>\n      <td>13941</td>\n      <td>1.89672</td>\n    </tr>\n    <tr>\n      <td>24202</td>\n      <td>1.89793</td>\n    </tr>\n    <tr>\n      <td>78370</td>\n      <td>1.89885</td>\n    </tr>\n    <tr>\n      <td>14604</td>\n      <td>1.89902</td>\n    </tr>\n    <tr>\n      <td>18044</td>\n      <td>1.89992</td>\n    </tr>\n  </tbody>\n</table>\n</div>",
      "text/plain": "       jaccard_distance_sum\n72007               1.88822\n44742               1.89108\n24682               1.89121\n16416               1.89288\n20456               1.89362\n13941               1.89672\n24202               1.89793\n78370               1.89885\n14604               1.89902\n18044               1.89992"
     },
     "execution_count": 29,
     "metadata": {},
     "output_type": "execute_result"
    }
   ],
   "source": [
    "## Jaccard - normal\n",
    "\n",
    "result_array = cdist(sample_normal, new_recipe_db_wo_userrecipes_normal,'jaccard')\n",
    "result_w_filter_normal = pd.DataFrame(result_array, columns=new_recipe_db_wo_userrecipes_normal.index.values, index=sample_normal.index.values)\n",
    "# result_2\n",
    "\n",
    "result_w_filter_10_normal = pd.DataFrame(result_w_filter_normal.sum(), columns=['jaccard_distance_sum'])\n",
    "result_w_filter_10_normal = result_w_filter_10_normal.sort_values(by='jaccard_distance_sum')\n",
    "result_w_filter_10_normal['jaccard_distance_sum'] = result_w_filter_10_normal['jaccard_distance_sum'].div(20)\n",
    "result_w_filter_10_normal[0:10]\n"
   ]
  },
  {
   "cell_type": "code",
   "execution_count": 30,
   "metadata": {},
   "outputs": [
    {
     "data": {
      "text/plain": "array([222509,  76763,  48921,  62459,  17496,  18397, 221304, 240522,\n        51653,  14753,  86628,  86813,   8757, 142220, 223596,   8556,\n        14710,  16966,  52501,  86860])"
     },
     "execution_count": 30,
     "metadata": {},
     "output_type": "execute_result"
    }
   ],
   "source": [
    "# userrecipes fat\n",
    "sample_fat.index.to_numpy()"
   ]
  },
  {
   "cell_type": "code",
   "execution_count": 31,
   "metadata": {},
   "outputs": [
    {
     "data": {
      "text/plain": "array([ 14679,  50579,  17717,  31988,  81222,  34384,  57071,  60333,\n         9039,  45361,  17862, 166292,  39456,  17120,  31065,  70680,\n        12823,   9143, 240287, 235432,  72311, 109782,  21003,  24368,\n        16603,  86649, 163894, 216470,  15407,  19943, 151379, 171368,\n        12073,  20684,  84886, 229090,  12012,  13959,  14647,   8763])"
     },
     "execution_count": 31,
     "metadata": {},
     "output_type": "execute_result"
    }
   ],
   "source": [
    "# userrecipes normal\n",
    "sample_normal.index.to_numpy()\n"
   ]
  },
  {
   "cell_type": "code",
   "execution_count": 32,
   "metadata": {},
   "outputs": [
    {
     "data": {
      "text/plain": "array([  8547, 188706,  70513, 141125,  62256, 231808,  90160, 240773,\n        18442,  14614])"
     },
     "execution_count": 32,
     "metadata": {},
     "output_type": "execute_result"
    }
   ],
   "source": [
    "result_w_filter_10_fat[0:10].index.to_numpy()"
   ]
  },
  {
   "cell_type": "code",
   "execution_count": 33,
   "metadata": {},
   "outputs": [
    {
     "data": {
      "text/plain": "array([72007, 44742, 24682, 16416, 20456, 13941, 24202, 78370, 14604,\n       18044])"
     },
     "execution_count": 33,
     "metadata": {},
     "output_type": "execute_result"
    }
   ],
   "source": [
    "result_w_filter_10_normal[0:10].index.to_numpy()"
   ]
  },
  {
   "cell_type": "code",
   "execution_count": 34,
   "metadata": {},
   "outputs": [],
   "source": [
    "result_w_filter_fat_short = result_w_filter_fat.copy()\n",
    "result_w_filter_normal_short = result_w_filter_normal.copy()"
   ]
  },
  {
   "cell_type": "code",
   "execution_count": 35,
   "metadata": {},
   "outputs": [
    {
     "data": {
      "text/plain": "array(['index', 8547, 188706, 34361, 206120, 220716, 16372, 14525, 235948,\n       11678, 25884], dtype=object)"
     },
     "execution_count": 35,
     "metadata": {},
     "output_type": "execute_result"
    }
   ],
   "source": [
    "# top 10 fat short\n",
    "fat_short = pd.DataFrame(np.sort(result_w_filter_fat_short.values, axis=0), index=result_w_filter_fat_short.index, columns=result_w_filter_fat_short.columns)\n",
    "\n",
    "new_columns = fat_short.columns[fat_short.loc[fat_short.first_valid_index()].argsort()]\n",
    "result_fat_short = fat_short[new_columns]\n",
    "result_fat_short = result_fat_short.reset_index()\n",
    "result_fat_short = result_fat_short.loc[1].to_frame()\n",
    "\n",
    "result_fat_short[0:11].index.to_numpy()\n"
   ]
  },
  {
   "cell_type": "code",
   "execution_count": 36,
   "metadata": {},
   "outputs": [
    {
     "data": {
      "text/html": "<div>\n<style scoped>\n    .dataframe tbody tr th:only-of-type {\n        vertical-align: middle;\n    }\n\n    .dataframe tbody tr th {\n        vertical-align: top;\n    }\n\n    .dataframe thead th {\n        text-align: right;\n    }\n</style>\n<table border=\"1\" class=\"dataframe\">\n  <thead>\n    <tr style=\"text-align: right;\">\n      <th></th>\n      <th>8547</th>\n      <th>188706</th>\n      <th>34361</th>\n      <th>206120</th>\n      <th>220716</th>\n      <th>16372</th>\n      <th>14525</th>\n      <th>235948</th>\n      <th>11678</th>\n      <th>25884</th>\n      <th>...</th>\n      <th>24038</th>\n      <th>8933</th>\n      <th>17815</th>\n      <th>8938</th>\n      <th>13952</th>\n      <th>223218</th>\n      <th>232907</th>\n      <th>24160</th>\n      <th>87053</th>\n      <th>193219</th>\n    </tr>\n  </thead>\n  <tbody>\n    <tr>\n      <td>222509</td>\n      <td>0.00000</td>\n      <td>0.25000</td>\n      <td>0.33333</td>\n      <td>0.33333</td>\n      <td>0.33333</td>\n      <td>0.46154</td>\n      <td>0.50000</td>\n      <td>0.50000</td>\n      <td>0.50000</td>\n      <td>0.50000</td>\n      <td>...</td>\n      <td>1.00000</td>\n      <td>1.00000</td>\n      <td>1.00000</td>\n      <td>1.00000</td>\n      <td>1.00000</td>\n      <td>1.00000</td>\n      <td>1.00000</td>\n      <td>1.00000</td>\n      <td>1.00000</td>\n      <td>1.00000</td>\n    </tr>\n    <tr>\n      <td>76763</td>\n      <td>0.90000</td>\n      <td>0.81818</td>\n      <td>0.87500</td>\n      <td>0.87500</td>\n      <td>0.87500</td>\n      <td>0.80000</td>\n      <td>0.91667</td>\n      <td>0.90909</td>\n      <td>0.88889</td>\n      <td>0.90000</td>\n      <td>...</td>\n      <td>1.00000</td>\n      <td>1.00000</td>\n      <td>1.00000</td>\n      <td>1.00000</td>\n      <td>1.00000</td>\n      <td>1.00000</td>\n      <td>1.00000</td>\n      <td>1.00000</td>\n      <td>1.00000</td>\n      <td>1.00000</td>\n    </tr>\n    <tr>\n      <td>48921</td>\n      <td>0.90909</td>\n      <td>0.87500</td>\n      <td>1.00000</td>\n      <td>1.00000</td>\n      <td>1.00000</td>\n      <td>0.88235</td>\n      <td>1.00000</td>\n      <td>1.00000</td>\n      <td>1.00000</td>\n      <td>1.00000</td>\n      <td>...</td>\n      <td>1.00000</td>\n      <td>1.00000</td>\n      <td>1.00000</td>\n      <td>1.00000</td>\n      <td>1.00000</td>\n      <td>1.00000</td>\n      <td>1.00000</td>\n      <td>1.00000</td>\n      <td>1.00000</td>\n      <td>1.00000</td>\n    </tr>\n    <tr>\n      <td>62459</td>\n      <td>0.90909</td>\n      <td>0.90000</td>\n      <td>1.00000</td>\n      <td>1.00000</td>\n      <td>1.00000</td>\n      <td>0.95238</td>\n      <td>1.00000</td>\n      <td>1.00000</td>\n      <td>1.00000</td>\n      <td>1.00000</td>\n      <td>...</td>\n      <td>1.00000</td>\n      <td>1.00000</td>\n      <td>1.00000</td>\n      <td>1.00000</td>\n      <td>1.00000</td>\n      <td>1.00000</td>\n      <td>1.00000</td>\n      <td>1.00000</td>\n      <td>1.00000</td>\n      <td>1.00000</td>\n    </tr>\n    <tr>\n      <td>17496</td>\n      <td>0.92308</td>\n      <td>0.90000</td>\n      <td>1.00000</td>\n      <td>1.00000</td>\n      <td>1.00000</td>\n      <td>1.00000</td>\n      <td>1.00000</td>\n      <td>1.00000</td>\n      <td>1.00000</td>\n      <td>1.00000</td>\n      <td>...</td>\n      <td>1.00000</td>\n      <td>1.00000</td>\n      <td>1.00000</td>\n      <td>1.00000</td>\n      <td>1.00000</td>\n      <td>1.00000</td>\n      <td>1.00000</td>\n      <td>1.00000</td>\n      <td>1.00000</td>\n      <td>1.00000</td>\n    </tr>\n    <tr>\n      <td>18397</td>\n      <td>0.92857</td>\n      <td>0.92308</td>\n      <td>1.00000</td>\n      <td>1.00000</td>\n      <td>1.00000</td>\n      <td>1.00000</td>\n      <td>1.00000</td>\n      <td>1.00000</td>\n      <td>1.00000</td>\n      <td>1.00000</td>\n      <td>...</td>\n      <td>1.00000</td>\n      <td>1.00000</td>\n      <td>1.00000</td>\n      <td>1.00000</td>\n      <td>1.00000</td>\n      <td>1.00000</td>\n      <td>1.00000</td>\n      <td>1.00000</td>\n      <td>1.00000</td>\n      <td>1.00000</td>\n    </tr>\n    <tr>\n      <td>221304</td>\n      <td>0.92857</td>\n      <td>1.00000</td>\n      <td>1.00000</td>\n      <td>1.00000</td>\n      <td>1.00000</td>\n      <td>1.00000</td>\n      <td>1.00000</td>\n      <td>1.00000</td>\n      <td>1.00000</td>\n      <td>1.00000</td>\n      <td>...</td>\n      <td>1.00000</td>\n      <td>1.00000</td>\n      <td>1.00000</td>\n      <td>1.00000</td>\n      <td>1.00000</td>\n      <td>1.00000</td>\n      <td>1.00000</td>\n      <td>1.00000</td>\n      <td>1.00000</td>\n      <td>1.00000</td>\n    </tr>\n    <tr>\n      <td>240522</td>\n      <td>0.94118</td>\n      <td>1.00000</td>\n      <td>1.00000</td>\n      <td>1.00000</td>\n      <td>1.00000</td>\n      <td>1.00000</td>\n      <td>1.00000</td>\n      <td>1.00000</td>\n      <td>1.00000</td>\n      <td>1.00000</td>\n      <td>...</td>\n      <td>1.00000</td>\n      <td>1.00000</td>\n      <td>1.00000</td>\n      <td>1.00000</td>\n      <td>1.00000</td>\n      <td>1.00000</td>\n      <td>1.00000</td>\n      <td>1.00000</td>\n      <td>1.00000</td>\n      <td>1.00000</td>\n    </tr>\n    <tr>\n      <td>51653</td>\n      <td>1.00000</td>\n      <td>1.00000</td>\n      <td>1.00000</td>\n      <td>1.00000</td>\n      <td>1.00000</td>\n      <td>1.00000</td>\n      <td>1.00000</td>\n      <td>1.00000</td>\n      <td>1.00000</td>\n      <td>1.00000</td>\n      <td>...</td>\n      <td>1.00000</td>\n      <td>1.00000</td>\n      <td>1.00000</td>\n      <td>1.00000</td>\n      <td>1.00000</td>\n      <td>1.00000</td>\n      <td>1.00000</td>\n      <td>1.00000</td>\n      <td>1.00000</td>\n      <td>1.00000</td>\n    </tr>\n    <tr>\n      <td>14753</td>\n      <td>1.00000</td>\n      <td>1.00000</td>\n      <td>1.00000</td>\n      <td>1.00000</td>\n      <td>1.00000</td>\n      <td>1.00000</td>\n      <td>1.00000</td>\n      <td>1.00000</td>\n      <td>1.00000</td>\n      <td>1.00000</td>\n      <td>...</td>\n      <td>1.00000</td>\n      <td>1.00000</td>\n      <td>1.00000</td>\n      <td>1.00000</td>\n      <td>1.00000</td>\n      <td>1.00000</td>\n      <td>1.00000</td>\n      <td>1.00000</td>\n      <td>1.00000</td>\n      <td>1.00000</td>\n    </tr>\n    <tr>\n      <td>86628</td>\n      <td>1.00000</td>\n      <td>1.00000</td>\n      <td>1.00000</td>\n      <td>1.00000</td>\n      <td>1.00000</td>\n      <td>1.00000</td>\n      <td>1.00000</td>\n      <td>1.00000</td>\n      <td>1.00000</td>\n      <td>1.00000</td>\n      <td>...</td>\n      <td>1.00000</td>\n      <td>1.00000</td>\n      <td>1.00000</td>\n      <td>1.00000</td>\n      <td>1.00000</td>\n      <td>1.00000</td>\n      <td>1.00000</td>\n      <td>1.00000</td>\n      <td>1.00000</td>\n      <td>1.00000</td>\n    </tr>\n    <tr>\n      <td>86813</td>\n      <td>1.00000</td>\n      <td>1.00000</td>\n      <td>1.00000</td>\n      <td>1.00000</td>\n      <td>1.00000</td>\n      <td>1.00000</td>\n      <td>1.00000</td>\n      <td>1.00000</td>\n      <td>1.00000</td>\n      <td>1.00000</td>\n      <td>...</td>\n      <td>1.00000</td>\n      <td>1.00000</td>\n      <td>1.00000</td>\n      <td>1.00000</td>\n      <td>1.00000</td>\n      <td>1.00000</td>\n      <td>1.00000</td>\n      <td>1.00000</td>\n      <td>1.00000</td>\n      <td>1.00000</td>\n    </tr>\n    <tr>\n      <td>8757</td>\n      <td>1.00000</td>\n      <td>1.00000</td>\n      <td>1.00000</td>\n      <td>1.00000</td>\n      <td>1.00000</td>\n      <td>1.00000</td>\n      <td>1.00000</td>\n      <td>1.00000</td>\n      <td>1.00000</td>\n      <td>1.00000</td>\n      <td>...</td>\n      <td>1.00000</td>\n      <td>1.00000</td>\n      <td>1.00000</td>\n      <td>1.00000</td>\n      <td>1.00000</td>\n      <td>1.00000</td>\n      <td>1.00000</td>\n      <td>1.00000</td>\n      <td>1.00000</td>\n      <td>1.00000</td>\n    </tr>\n    <tr>\n      <td>142220</td>\n      <td>1.00000</td>\n      <td>1.00000</td>\n      <td>1.00000</td>\n      <td>1.00000</td>\n      <td>1.00000</td>\n      <td>1.00000</td>\n      <td>1.00000</td>\n      <td>1.00000</td>\n      <td>1.00000</td>\n      <td>1.00000</td>\n      <td>...</td>\n      <td>1.00000</td>\n      <td>1.00000</td>\n      <td>1.00000</td>\n      <td>1.00000</td>\n      <td>1.00000</td>\n      <td>1.00000</td>\n      <td>1.00000</td>\n      <td>1.00000</td>\n      <td>1.00000</td>\n      <td>1.00000</td>\n    </tr>\n    <tr>\n      <td>223596</td>\n      <td>1.00000</td>\n      <td>1.00000</td>\n      <td>1.00000</td>\n      <td>1.00000</td>\n      <td>1.00000</td>\n      <td>1.00000</td>\n      <td>1.00000</td>\n      <td>1.00000</td>\n      <td>1.00000</td>\n      <td>1.00000</td>\n      <td>...</td>\n      <td>1.00000</td>\n      <td>1.00000</td>\n      <td>1.00000</td>\n      <td>1.00000</td>\n      <td>1.00000</td>\n      <td>1.00000</td>\n      <td>1.00000</td>\n      <td>1.00000</td>\n      <td>1.00000</td>\n      <td>1.00000</td>\n    </tr>\n    <tr>\n      <td>8556</td>\n      <td>1.00000</td>\n      <td>1.00000</td>\n      <td>1.00000</td>\n      <td>1.00000</td>\n      <td>1.00000</td>\n      <td>1.00000</td>\n      <td>1.00000</td>\n      <td>1.00000</td>\n      <td>1.00000</td>\n      <td>1.00000</td>\n      <td>...</td>\n      <td>1.00000</td>\n      <td>1.00000</td>\n      <td>1.00000</td>\n      <td>1.00000</td>\n      <td>1.00000</td>\n      <td>1.00000</td>\n      <td>1.00000</td>\n      <td>1.00000</td>\n      <td>1.00000</td>\n      <td>1.00000</td>\n    </tr>\n    <tr>\n      <td>14710</td>\n      <td>1.00000</td>\n      <td>1.00000</td>\n      <td>1.00000</td>\n      <td>1.00000</td>\n      <td>1.00000</td>\n      <td>1.00000</td>\n      <td>1.00000</td>\n      <td>1.00000</td>\n      <td>1.00000</td>\n      <td>1.00000</td>\n      <td>...</td>\n      <td>1.00000</td>\n      <td>1.00000</td>\n      <td>1.00000</td>\n      <td>1.00000</td>\n      <td>1.00000</td>\n      <td>1.00000</td>\n      <td>1.00000</td>\n      <td>1.00000</td>\n      <td>1.00000</td>\n      <td>1.00000</td>\n    </tr>\n    <tr>\n      <td>16966</td>\n      <td>1.00000</td>\n      <td>1.00000</td>\n      <td>1.00000</td>\n      <td>1.00000</td>\n      <td>1.00000</td>\n      <td>1.00000</td>\n      <td>1.00000</td>\n      <td>1.00000</td>\n      <td>1.00000</td>\n      <td>1.00000</td>\n      <td>...</td>\n      <td>1.00000</td>\n      <td>1.00000</td>\n      <td>1.00000</td>\n      <td>1.00000</td>\n      <td>1.00000</td>\n      <td>1.00000</td>\n      <td>1.00000</td>\n      <td>1.00000</td>\n      <td>1.00000</td>\n      <td>1.00000</td>\n    </tr>\n    <tr>\n      <td>52501</td>\n      <td>1.00000</td>\n      <td>1.00000</td>\n      <td>1.00000</td>\n      <td>1.00000</td>\n      <td>1.00000</td>\n      <td>1.00000</td>\n      <td>1.00000</td>\n      <td>1.00000</td>\n      <td>1.00000</td>\n      <td>1.00000</td>\n      <td>...</td>\n      <td>1.00000</td>\n      <td>1.00000</td>\n      <td>1.00000</td>\n      <td>1.00000</td>\n      <td>1.00000</td>\n      <td>1.00000</td>\n      <td>1.00000</td>\n      <td>1.00000</td>\n      <td>1.00000</td>\n      <td>1.00000</td>\n    </tr>\n    <tr>\n      <td>86860</td>\n      <td>1.00000</td>\n      <td>1.00000</td>\n      <td>1.00000</td>\n      <td>1.00000</td>\n      <td>1.00000</td>\n      <td>1.00000</td>\n      <td>1.00000</td>\n      <td>1.00000</td>\n      <td>1.00000</td>\n      <td>1.00000</td>\n      <td>...</td>\n      <td>1.00000</td>\n      <td>1.00000</td>\n      <td>1.00000</td>\n      <td>1.00000</td>\n      <td>1.00000</td>\n      <td>1.00000</td>\n      <td>1.00000</td>\n      <td>1.00000</td>\n      <td>1.00000</td>\n      <td>1.00000</td>\n    </tr>\n  </tbody>\n</table>\n<p>20 rows × 3749 columns</p>\n</div>",
      "text/plain": "        8547    188706  34361   206120  220716  16372   14525   235948  \\\n222509 0.00000 0.25000 0.33333 0.33333 0.33333 0.46154 0.50000 0.50000   \n76763  0.90000 0.81818 0.87500 0.87500 0.87500 0.80000 0.91667 0.90909   \n48921  0.90909 0.87500 1.00000 1.00000 1.00000 0.88235 1.00000 1.00000   \n62459  0.90909 0.90000 1.00000 1.00000 1.00000 0.95238 1.00000 1.00000   \n17496  0.92308 0.90000 1.00000 1.00000 1.00000 1.00000 1.00000 1.00000   \n18397  0.92857 0.92308 1.00000 1.00000 1.00000 1.00000 1.00000 1.00000   \n221304 0.92857 1.00000 1.00000 1.00000 1.00000 1.00000 1.00000 1.00000   \n240522 0.94118 1.00000 1.00000 1.00000 1.00000 1.00000 1.00000 1.00000   \n51653  1.00000 1.00000 1.00000 1.00000 1.00000 1.00000 1.00000 1.00000   \n14753  1.00000 1.00000 1.00000 1.00000 1.00000 1.00000 1.00000 1.00000   \n86628  1.00000 1.00000 1.00000 1.00000 1.00000 1.00000 1.00000 1.00000   \n86813  1.00000 1.00000 1.00000 1.00000 1.00000 1.00000 1.00000 1.00000   \n8757   1.00000 1.00000 1.00000 1.00000 1.00000 1.00000 1.00000 1.00000   \n142220 1.00000 1.00000 1.00000 1.00000 1.00000 1.00000 1.00000 1.00000   \n223596 1.00000 1.00000 1.00000 1.00000 1.00000 1.00000 1.00000 1.00000   \n8556   1.00000 1.00000 1.00000 1.00000 1.00000 1.00000 1.00000 1.00000   \n14710  1.00000 1.00000 1.00000 1.00000 1.00000 1.00000 1.00000 1.00000   \n16966  1.00000 1.00000 1.00000 1.00000 1.00000 1.00000 1.00000 1.00000   \n52501  1.00000 1.00000 1.00000 1.00000 1.00000 1.00000 1.00000 1.00000   \n86860  1.00000 1.00000 1.00000 1.00000 1.00000 1.00000 1.00000 1.00000   \n\n        11678   25884   ...  24038   8933    17815   8938    13952   223218  \\\n222509 0.50000 0.50000  ... 1.00000 1.00000 1.00000 1.00000 1.00000 1.00000   \n76763  0.88889 0.90000  ... 1.00000 1.00000 1.00000 1.00000 1.00000 1.00000   \n48921  1.00000 1.00000  ... 1.00000 1.00000 1.00000 1.00000 1.00000 1.00000   \n62459  1.00000 1.00000  ... 1.00000 1.00000 1.00000 1.00000 1.00000 1.00000   \n17496  1.00000 1.00000  ... 1.00000 1.00000 1.00000 1.00000 1.00000 1.00000   \n18397  1.00000 1.00000  ... 1.00000 1.00000 1.00000 1.00000 1.00000 1.00000   \n221304 1.00000 1.00000  ... 1.00000 1.00000 1.00000 1.00000 1.00000 1.00000   \n240522 1.00000 1.00000  ... 1.00000 1.00000 1.00000 1.00000 1.00000 1.00000   \n51653  1.00000 1.00000  ... 1.00000 1.00000 1.00000 1.00000 1.00000 1.00000   \n14753  1.00000 1.00000  ... 1.00000 1.00000 1.00000 1.00000 1.00000 1.00000   \n86628  1.00000 1.00000  ... 1.00000 1.00000 1.00000 1.00000 1.00000 1.00000   \n86813  1.00000 1.00000  ... 1.00000 1.00000 1.00000 1.00000 1.00000 1.00000   \n8757   1.00000 1.00000  ... 1.00000 1.00000 1.00000 1.00000 1.00000 1.00000   \n142220 1.00000 1.00000  ... 1.00000 1.00000 1.00000 1.00000 1.00000 1.00000   \n223596 1.00000 1.00000  ... 1.00000 1.00000 1.00000 1.00000 1.00000 1.00000   \n8556   1.00000 1.00000  ... 1.00000 1.00000 1.00000 1.00000 1.00000 1.00000   \n14710  1.00000 1.00000  ... 1.00000 1.00000 1.00000 1.00000 1.00000 1.00000   \n16966  1.00000 1.00000  ... 1.00000 1.00000 1.00000 1.00000 1.00000 1.00000   \n52501  1.00000 1.00000  ... 1.00000 1.00000 1.00000 1.00000 1.00000 1.00000   \n86860  1.00000 1.00000  ... 1.00000 1.00000 1.00000 1.00000 1.00000 1.00000   \n\n        232907  24160   87053   193219  \n222509 1.00000 1.00000 1.00000 1.00000  \n76763  1.00000 1.00000 1.00000 1.00000  \n48921  1.00000 1.00000 1.00000 1.00000  \n62459  1.00000 1.00000 1.00000 1.00000  \n17496  1.00000 1.00000 1.00000 1.00000  \n18397  1.00000 1.00000 1.00000 1.00000  \n221304 1.00000 1.00000 1.00000 1.00000  \n240522 1.00000 1.00000 1.00000 1.00000  \n51653  1.00000 1.00000 1.00000 1.00000  \n14753  1.00000 1.00000 1.00000 1.00000  \n86628  1.00000 1.00000 1.00000 1.00000  \n86813  1.00000 1.00000 1.00000 1.00000  \n8757   1.00000 1.00000 1.00000 1.00000  \n142220 1.00000 1.00000 1.00000 1.00000  \n223596 1.00000 1.00000 1.00000 1.00000  \n8556   1.00000 1.00000 1.00000 1.00000  \n14710  1.00000 1.00000 1.00000 1.00000  \n16966  1.00000 1.00000 1.00000 1.00000  \n52501  1.00000 1.00000 1.00000 1.00000  \n86860  1.00000 1.00000 1.00000 1.00000  \n\n[20 rows x 3749 columns]"
     },
     "execution_count": 36,
     "metadata": {},
     "output_type": "execute_result"
    }
   ],
   "source": [
    "fat_short[new_columns]"
   ]
  },
  {
   "cell_type": "code",
   "execution_count": 37,
   "metadata": {},
   "outputs": [
    {
     "data": {
      "text/html": "<div>\n<style scoped>\n    .dataframe tbody tr th:only-of-type {\n        vertical-align: middle;\n    }\n\n    .dataframe tbody tr th {\n        vertical-align: top;\n    }\n\n    .dataframe thead th {\n        text-align: right;\n    }\n</style>\n<table border=\"1\" class=\"dataframe\">\n  <thead>\n    <tr style=\"text-align: right;\">\n      <th></th>\n      <th>111</th>\n      <th>126</th>\n      <th>257</th>\n      <th>443</th>\n      <th>445</th>\n      <th>578</th>\n      <th>615</th>\n      <th>629</th>\n      <th>631</th>\n      <th>858</th>\n      <th>...</th>\n      <th>23047</th>\n      <th>23274</th>\n      <th>23383</th>\n      <th>24865</th>\n      <th>25518</th>\n      <th>25522</th>\n      <th>26269</th>\n      <th>26934</th>\n      <th>27343</th>\n      <th>27805</th>\n    </tr>\n    <tr>\n      <th>id</th>\n      <th></th>\n      <th></th>\n      <th></th>\n      <th></th>\n      <th></th>\n      <th></th>\n      <th></th>\n      <th></th>\n      <th></th>\n      <th></th>\n      <th></th>\n      <th></th>\n      <th></th>\n      <th></th>\n      <th></th>\n      <th></th>\n      <th></th>\n      <th></th>\n      <th></th>\n      <th></th>\n      <th></th>\n    </tr>\n  </thead>\n  <tbody>\n    <tr>\n      <td>222509</td>\n      <td>0</td>\n      <td>0</td>\n      <td>0</td>\n      <td>0</td>\n      <td>0</td>\n      <td>0</td>\n      <td>0</td>\n      <td>0</td>\n      <td>0</td>\n      <td>0</td>\n      <td>...</td>\n      <td>0</td>\n      <td>0</td>\n      <td>0</td>\n      <td>0</td>\n      <td>0</td>\n      <td>0</td>\n      <td>0</td>\n      <td>0</td>\n      <td>0</td>\n      <td>0</td>\n    </tr>\n    <tr>\n      <td>76763</td>\n      <td>0</td>\n      <td>0</td>\n      <td>0</td>\n      <td>0</td>\n      <td>0</td>\n      <td>0</td>\n      <td>0</td>\n      <td>0</td>\n      <td>0</td>\n      <td>0</td>\n      <td>...</td>\n      <td>0</td>\n      <td>0</td>\n      <td>0</td>\n      <td>0</td>\n      <td>0</td>\n      <td>0</td>\n      <td>0</td>\n      <td>0</td>\n      <td>0</td>\n      <td>0</td>\n    </tr>\n    <tr>\n      <td>48921</td>\n      <td>0</td>\n      <td>0</td>\n      <td>0</td>\n      <td>0</td>\n      <td>0</td>\n      <td>0</td>\n      <td>0</td>\n      <td>0</td>\n      <td>0</td>\n      <td>0</td>\n      <td>...</td>\n      <td>0</td>\n      <td>0</td>\n      <td>0</td>\n      <td>0</td>\n      <td>0</td>\n      <td>0</td>\n      <td>0</td>\n      <td>0</td>\n      <td>0</td>\n      <td>0</td>\n    </tr>\n    <tr>\n      <td>62459</td>\n      <td>0</td>\n      <td>0</td>\n      <td>0</td>\n      <td>0</td>\n      <td>0</td>\n      <td>0</td>\n      <td>0</td>\n      <td>0</td>\n      <td>0</td>\n      <td>0</td>\n      <td>...</td>\n      <td>0</td>\n      <td>0</td>\n      <td>0</td>\n      <td>0</td>\n      <td>0</td>\n      <td>0</td>\n      <td>0</td>\n      <td>0</td>\n      <td>0</td>\n      <td>0</td>\n    </tr>\n    <tr>\n      <td>17496</td>\n      <td>0</td>\n      <td>0</td>\n      <td>0</td>\n      <td>0</td>\n      <td>0</td>\n      <td>0</td>\n      <td>0</td>\n      <td>0</td>\n      <td>0</td>\n      <td>0</td>\n      <td>...</td>\n      <td>0</td>\n      <td>0</td>\n      <td>0</td>\n      <td>0</td>\n      <td>0</td>\n      <td>0</td>\n      <td>0</td>\n      <td>0</td>\n      <td>0</td>\n      <td>0</td>\n    </tr>\n    <tr>\n      <td>18397</td>\n      <td>0</td>\n      <td>0</td>\n      <td>0</td>\n      <td>0</td>\n      <td>0</td>\n      <td>0</td>\n      <td>0</td>\n      <td>0</td>\n      <td>0</td>\n      <td>0</td>\n      <td>...</td>\n      <td>0</td>\n      <td>0</td>\n      <td>0</td>\n      <td>0</td>\n      <td>0</td>\n      <td>0</td>\n      <td>0</td>\n      <td>0</td>\n      <td>0</td>\n      <td>0</td>\n    </tr>\n    <tr>\n      <td>221304</td>\n      <td>0</td>\n      <td>0</td>\n      <td>0</td>\n      <td>0</td>\n      <td>0</td>\n      <td>0</td>\n      <td>0</td>\n      <td>0</td>\n      <td>0</td>\n      <td>0</td>\n      <td>...</td>\n      <td>0</td>\n      <td>0</td>\n      <td>0</td>\n      <td>0</td>\n      <td>0</td>\n      <td>0</td>\n      <td>0</td>\n      <td>0</td>\n      <td>0</td>\n      <td>0</td>\n    </tr>\n    <tr>\n      <td>240522</td>\n      <td>0</td>\n      <td>0</td>\n      <td>0</td>\n      <td>0</td>\n      <td>0</td>\n      <td>0</td>\n      <td>0</td>\n      <td>0</td>\n      <td>0</td>\n      <td>0</td>\n      <td>...</td>\n      <td>0</td>\n      <td>0</td>\n      <td>0</td>\n      <td>0</td>\n      <td>0</td>\n      <td>0</td>\n      <td>0</td>\n      <td>0</td>\n      <td>0</td>\n      <td>0</td>\n    </tr>\n    <tr>\n      <td>51653</td>\n      <td>0</td>\n      <td>0</td>\n      <td>0</td>\n      <td>0</td>\n      <td>0</td>\n      <td>0</td>\n      <td>0</td>\n      <td>0</td>\n      <td>0</td>\n      <td>0</td>\n      <td>...</td>\n      <td>0</td>\n      <td>0</td>\n      <td>0</td>\n      <td>0</td>\n      <td>0</td>\n      <td>0</td>\n      <td>0</td>\n      <td>0</td>\n      <td>0</td>\n      <td>0</td>\n    </tr>\n    <tr>\n      <td>14753</td>\n      <td>0</td>\n      <td>0</td>\n      <td>0</td>\n      <td>0</td>\n      <td>0</td>\n      <td>0</td>\n      <td>0</td>\n      <td>0</td>\n      <td>0</td>\n      <td>0</td>\n      <td>...</td>\n      <td>0</td>\n      <td>0</td>\n      <td>0</td>\n      <td>0</td>\n      <td>0</td>\n      <td>0</td>\n      <td>0</td>\n      <td>0</td>\n      <td>0</td>\n      <td>0</td>\n    </tr>\n    <tr>\n      <td>86628</td>\n      <td>0</td>\n      <td>0</td>\n      <td>0</td>\n      <td>0</td>\n      <td>0</td>\n      <td>0</td>\n      <td>0</td>\n      <td>0</td>\n      <td>0</td>\n      <td>0</td>\n      <td>...</td>\n      <td>0</td>\n      <td>0</td>\n      <td>0</td>\n      <td>0</td>\n      <td>0</td>\n      <td>0</td>\n      <td>0</td>\n      <td>0</td>\n      <td>0</td>\n      <td>0</td>\n    </tr>\n    <tr>\n      <td>86813</td>\n      <td>0</td>\n      <td>0</td>\n      <td>0</td>\n      <td>0</td>\n      <td>0</td>\n      <td>0</td>\n      <td>0</td>\n      <td>0</td>\n      <td>0</td>\n      <td>0</td>\n      <td>...</td>\n      <td>0</td>\n      <td>0</td>\n      <td>0</td>\n      <td>0</td>\n      <td>0</td>\n      <td>0</td>\n      <td>0</td>\n      <td>0</td>\n      <td>0</td>\n      <td>0</td>\n    </tr>\n    <tr>\n      <td>8757</td>\n      <td>0</td>\n      <td>0</td>\n      <td>0</td>\n      <td>0</td>\n      <td>0</td>\n      <td>0</td>\n      <td>0</td>\n      <td>0</td>\n      <td>0</td>\n      <td>0</td>\n      <td>...</td>\n      <td>0</td>\n      <td>0</td>\n      <td>0</td>\n      <td>0</td>\n      <td>0</td>\n      <td>0</td>\n      <td>0</td>\n      <td>0</td>\n      <td>0</td>\n      <td>0</td>\n    </tr>\n    <tr>\n      <td>142220</td>\n      <td>0</td>\n      <td>0</td>\n      <td>0</td>\n      <td>0</td>\n      <td>0</td>\n      <td>0</td>\n      <td>0</td>\n      <td>0</td>\n      <td>0</td>\n      <td>0</td>\n      <td>...</td>\n      <td>0</td>\n      <td>0</td>\n      <td>0</td>\n      <td>0</td>\n      <td>0</td>\n      <td>0</td>\n      <td>0</td>\n      <td>0</td>\n      <td>0</td>\n      <td>0</td>\n    </tr>\n    <tr>\n      <td>223596</td>\n      <td>0</td>\n      <td>0</td>\n      <td>0</td>\n      <td>0</td>\n      <td>0</td>\n      <td>1</td>\n      <td>0</td>\n      <td>0</td>\n      <td>0</td>\n      <td>0</td>\n      <td>...</td>\n      <td>0</td>\n      <td>0</td>\n      <td>0</td>\n      <td>0</td>\n      <td>0</td>\n      <td>0</td>\n      <td>0</td>\n      <td>0</td>\n      <td>0</td>\n      <td>0</td>\n    </tr>\n    <tr>\n      <td>8556</td>\n      <td>0</td>\n      <td>0</td>\n      <td>0</td>\n      <td>0</td>\n      <td>0</td>\n      <td>0</td>\n      <td>0</td>\n      <td>0</td>\n      <td>0</td>\n      <td>0</td>\n      <td>...</td>\n      <td>0</td>\n      <td>0</td>\n      <td>0</td>\n      <td>0</td>\n      <td>0</td>\n      <td>0</td>\n      <td>0</td>\n      <td>0</td>\n      <td>0</td>\n      <td>0</td>\n    </tr>\n    <tr>\n      <td>14710</td>\n      <td>0</td>\n      <td>0</td>\n      <td>0</td>\n      <td>0</td>\n      <td>0</td>\n      <td>0</td>\n      <td>0</td>\n      <td>0</td>\n      <td>0</td>\n      <td>0</td>\n      <td>...</td>\n      <td>0</td>\n      <td>0</td>\n      <td>0</td>\n      <td>0</td>\n      <td>0</td>\n      <td>0</td>\n      <td>0</td>\n      <td>0</td>\n      <td>0</td>\n      <td>0</td>\n    </tr>\n    <tr>\n      <td>16966</td>\n      <td>0</td>\n      <td>0</td>\n      <td>0</td>\n      <td>0</td>\n      <td>0</td>\n      <td>0</td>\n      <td>0</td>\n      <td>0</td>\n      <td>0</td>\n      <td>0</td>\n      <td>...</td>\n      <td>0</td>\n      <td>0</td>\n      <td>0</td>\n      <td>0</td>\n      <td>0</td>\n      <td>0</td>\n      <td>0</td>\n      <td>0</td>\n      <td>0</td>\n      <td>0</td>\n    </tr>\n    <tr>\n      <td>52501</td>\n      <td>0</td>\n      <td>0</td>\n      <td>0</td>\n      <td>0</td>\n      <td>0</td>\n      <td>0</td>\n      <td>0</td>\n      <td>0</td>\n      <td>0</td>\n      <td>0</td>\n      <td>...</td>\n      <td>0</td>\n      <td>0</td>\n      <td>0</td>\n      <td>0</td>\n      <td>0</td>\n      <td>0</td>\n      <td>0</td>\n      <td>0</td>\n      <td>0</td>\n      <td>0</td>\n    </tr>\n    <tr>\n      <td>86860</td>\n      <td>0</td>\n      <td>0</td>\n      <td>0</td>\n      <td>0</td>\n      <td>0</td>\n      <td>0</td>\n      <td>0</td>\n      <td>0</td>\n      <td>0</td>\n      <td>0</td>\n      <td>...</td>\n      <td>0</td>\n      <td>0</td>\n      <td>0</td>\n      <td>0</td>\n      <td>0</td>\n      <td>0</td>\n      <td>0</td>\n      <td>0</td>\n      <td>0</td>\n      <td>0</td>\n    </tr>\n  </tbody>\n</table>\n<p>20 rows × 720 columns</p>\n</div>",
      "text/plain": "        111    126    257    443    445    578    615    629    631    858    \\\nid                                                                             \n222509      0      0      0      0      0      0      0      0      0      0   \n76763       0      0      0      0      0      0      0      0      0      0   \n48921       0      0      0      0      0      0      0      0      0      0   \n62459       0      0      0      0      0      0      0      0      0      0   \n17496       0      0      0      0      0      0      0      0      0      0   \n18397       0      0      0      0      0      0      0      0      0      0   \n221304      0      0      0      0      0      0      0      0      0      0   \n240522      0      0      0      0      0      0      0      0      0      0   \n51653       0      0      0      0      0      0      0      0      0      0   \n14753       0      0      0      0      0      0      0      0      0      0   \n86628       0      0      0      0      0      0      0      0      0      0   \n86813       0      0      0      0      0      0      0      0      0      0   \n8757        0      0      0      0      0      0      0      0      0      0   \n142220      0      0      0      0      0      0      0      0      0      0   \n223596      0      0      0      0      0      1      0      0      0      0   \n8556        0      0      0      0      0      0      0      0      0      0   \n14710       0      0      0      0      0      0      0      0      0      0   \n16966       0      0      0      0      0      0      0      0      0      0   \n52501       0      0      0      0      0      0      0      0      0      0   \n86860       0      0      0      0      0      0      0      0      0      0   \n\n        ...  23047  23274  23383  24865  25518  25522  26269  26934  27343  \\\nid      ...                                                                  \n222509  ...      0      0      0      0      0      0      0      0      0   \n76763   ...      0      0      0      0      0      0      0      0      0   \n48921   ...      0      0      0      0      0      0      0      0      0   \n62459   ...      0      0      0      0      0      0      0      0      0   \n17496   ...      0      0      0      0      0      0      0      0      0   \n18397   ...      0      0      0      0      0      0      0      0      0   \n221304  ...      0      0      0      0      0      0      0      0      0   \n240522  ...      0      0      0      0      0      0      0      0      0   \n51653   ...      0      0      0      0      0      0      0      0      0   \n14753   ...      0      0      0      0      0      0      0      0      0   \n86628   ...      0      0      0      0      0      0      0      0      0   \n86813   ...      0      0      0      0      0      0      0      0      0   \n8757    ...      0      0      0      0      0      0      0      0      0   \n142220  ...      0      0      0      0      0      0      0      0      0   \n223596  ...      0      0      0      0      0      0      0      0      0   \n8556    ...      0      0      0      0      0      0      0      0      0   \n14710   ...      0      0      0      0      0      0      0      0      0   \n16966   ...      0      0      0      0      0      0      0      0      0   \n52501   ...      0      0      0      0      0      0      0      0      0   \n86860   ...      0      0      0      0      0      0      0      0      0   \n\n        27805  \nid             \n222509      0  \n76763       0  \n48921       0  \n62459       0  \n17496       0  \n18397       0  \n221304      0  \n240522      0  \n51653       0  \n14753       0  \n86628       0  \n86813       0  \n8757        0  \n142220      0  \n223596      0  \n8556        0  \n14710       0  \n16966       0  \n52501       0  \n86860       0  \n\n[20 rows x 720 columns]"
     },
     "execution_count": 37,
     "metadata": {},
     "output_type": "execute_result"
    }
   ],
   "source": [
    "sample_fat"
   ]
  },
  {
   "cell_type": "code",
   "execution_count": 38,
   "metadata": {},
   "outputs": [
    {
     "data": {
      "text/plain": "array(['index', 228546, 8896, 36994, 143064, 216902, 220751, 81959,\n       132703, 8732, 222182], dtype=object)"
     },
     "execution_count": 38,
     "metadata": {},
     "output_type": "execute_result"
    }
   ],
   "source": [
    "# top 10 normal short\n",
    "normal_short = pd.DataFrame(np.sort(result_w_filter_normal_short.values, axis=0), index=result_w_filter_normal_short.index, columns=result_w_filter_normal_short.columns)\n",
    "\n",
    "new_columns = normal_short.columns[normal_short.loc[normal_short.first_valid_index()].argsort()]\n",
    "result_normal_short = normal_short[new_columns]\n",
    "result_normal_short = result_normal_short.reset_index()\n",
    "result_normal_short = result_normal_short.loc[0].to_frame()\n",
    "result_normal_short[0:11].index.to_numpy()\n"
   ]
  },
  {
   "cell_type": "code",
   "execution_count": 39,
   "metadata": {},
   "outputs": [
    {
     "data": {
      "text/html": "<div>\n<style scoped>\n    .dataframe tbody tr th:only-of-type {\n        vertical-align: middle;\n    }\n\n    .dataframe tbody tr th {\n        vertical-align: top;\n    }\n\n    .dataframe thead th {\n        text-align: right;\n    }\n</style>\n<table border=\"1\" class=\"dataframe\">\n  <thead>\n    <tr style=\"text-align: right;\">\n      <th></th>\n      <th>228546</th>\n      <th>8896</th>\n      <th>36994</th>\n      <th>143064</th>\n      <th>216902</th>\n      <th>220751</th>\n      <th>81959</th>\n      <th>132703</th>\n      <th>8732</th>\n      <th>222182</th>\n      <th>...</th>\n      <th>23892</th>\n      <th>11903</th>\n      <th>20582</th>\n      <th>239137</th>\n      <th>21333</th>\n      <th>11879</th>\n      <th>239096</th>\n      <th>40061</th>\n      <th>150353</th>\n      <th>73110</th>\n    </tr>\n  </thead>\n  <tbody>\n    <tr>\n      <td>14679</td>\n      <td>0.16667</td>\n      <td>0.40000</td>\n      <td>0.40000</td>\n      <td>0.40000</td>\n      <td>0.42857</td>\n      <td>0.42857</td>\n      <td>0.42857</td>\n      <td>0.42857</td>\n      <td>0.42857</td>\n      <td>0.44444</td>\n      <td>...</td>\n      <td>1.00000</td>\n      <td>1.00000</td>\n      <td>1.00000</td>\n      <td>1.00000</td>\n      <td>1.00000</td>\n      <td>1.00000</td>\n      <td>1.00000</td>\n      <td>1.00000</td>\n      <td>1.00000</td>\n      <td>1.00000</td>\n    </tr>\n    <tr>\n      <td>50579</td>\n      <td>0.85714</td>\n      <td>0.80000</td>\n      <td>0.83333</td>\n      <td>0.83333</td>\n      <td>0.77778</td>\n      <td>0.85714</td>\n      <td>0.81818</td>\n      <td>0.85714</td>\n      <td>0.81818</td>\n      <td>0.81250</td>\n      <td>...</td>\n      <td>1.00000</td>\n      <td>1.00000</td>\n      <td>1.00000</td>\n      <td>1.00000</td>\n      <td>1.00000</td>\n      <td>1.00000</td>\n      <td>1.00000</td>\n      <td>1.00000</td>\n      <td>1.00000</td>\n      <td>1.00000</td>\n    </tr>\n    <tr>\n      <td>17717</td>\n      <td>0.88889</td>\n      <td>0.84615</td>\n      <td>0.85714</td>\n      <td>0.85714</td>\n      <td>0.80000</td>\n      <td>0.87500</td>\n      <td>0.88889</td>\n      <td>0.88889</td>\n      <td>0.88889</td>\n      <td>0.89474</td>\n      <td>...</td>\n      <td>1.00000</td>\n      <td>1.00000</td>\n      <td>1.00000</td>\n      <td>1.00000</td>\n      <td>1.00000</td>\n      <td>1.00000</td>\n      <td>1.00000</td>\n      <td>1.00000</td>\n      <td>1.00000</td>\n      <td>1.00000</td>\n    </tr>\n    <tr>\n      <td>31988</td>\n      <td>0.90000</td>\n      <td>0.87500</td>\n      <td>0.88889</td>\n      <td>0.87500</td>\n      <td>0.81818</td>\n      <td>0.88889</td>\n      <td>0.90000</td>\n      <td>0.90000</td>\n      <td>0.90000</td>\n      <td>0.91667</td>\n      <td>...</td>\n      <td>1.00000</td>\n      <td>1.00000</td>\n      <td>1.00000</td>\n      <td>1.00000</td>\n      <td>1.00000</td>\n      <td>1.00000</td>\n      <td>1.00000</td>\n      <td>1.00000</td>\n      <td>1.00000</td>\n      <td>1.00000</td>\n    </tr>\n    <tr>\n      <td>81222</td>\n      <td>0.90000</td>\n      <td>0.90909</td>\n      <td>1.00000</td>\n      <td>0.90000</td>\n      <td>0.88889</td>\n      <td>0.90000</td>\n      <td>0.90000</td>\n      <td>0.90909</td>\n      <td>0.90000</td>\n      <td>0.92308</td>\n      <td>...</td>\n      <td>1.00000</td>\n      <td>1.00000</td>\n      <td>1.00000</td>\n      <td>1.00000</td>\n      <td>1.00000</td>\n      <td>1.00000</td>\n      <td>1.00000</td>\n      <td>1.00000</td>\n      <td>1.00000</td>\n      <td>1.00000</td>\n    </tr>\n    <tr>\n      <td>34384</td>\n      <td>0.90909</td>\n      <td>0.93333</td>\n      <td>1.00000</td>\n      <td>0.90909</td>\n      <td>0.88889</td>\n      <td>0.90909</td>\n      <td>0.90909</td>\n      <td>0.90909</td>\n      <td>0.90909</td>\n      <td>0.92308</td>\n      <td>...</td>\n      <td>1.00000</td>\n      <td>1.00000</td>\n      <td>1.00000</td>\n      <td>1.00000</td>\n      <td>1.00000</td>\n      <td>1.00000</td>\n      <td>1.00000</td>\n      <td>1.00000</td>\n      <td>1.00000</td>\n      <td>1.00000</td>\n    </tr>\n    <tr>\n      <td>57071</td>\n      <td>0.90909</td>\n      <td>1.00000</td>\n      <td>1.00000</td>\n      <td>0.91667</td>\n      <td>0.90000</td>\n      <td>0.90909</td>\n      <td>0.92308</td>\n      <td>0.90909</td>\n      <td>0.92308</td>\n      <td>0.92308</td>\n      <td>...</td>\n      <td>1.00000</td>\n      <td>1.00000</td>\n      <td>1.00000</td>\n      <td>1.00000</td>\n      <td>1.00000</td>\n      <td>1.00000</td>\n      <td>1.00000</td>\n      <td>1.00000</td>\n      <td>1.00000</td>\n      <td>1.00000</td>\n    </tr>\n    <tr>\n      <td>60333</td>\n      <td>0.90909</td>\n      <td>1.00000</td>\n      <td>1.00000</td>\n      <td>0.92308</td>\n      <td>0.90909</td>\n      <td>0.90909</td>\n      <td>0.92308</td>\n      <td>0.90909</td>\n      <td>1.00000</td>\n      <td>0.92857</td>\n      <td>...</td>\n      <td>1.00000</td>\n      <td>1.00000</td>\n      <td>1.00000</td>\n      <td>1.00000</td>\n      <td>1.00000</td>\n      <td>1.00000</td>\n      <td>1.00000</td>\n      <td>1.00000</td>\n      <td>1.00000</td>\n      <td>1.00000</td>\n    </tr>\n    <tr>\n      <td>9039</td>\n      <td>0.90909</td>\n      <td>1.00000</td>\n      <td>1.00000</td>\n      <td>1.00000</td>\n      <td>0.92308</td>\n      <td>0.90909</td>\n      <td>1.00000</td>\n      <td>0.91667</td>\n      <td>1.00000</td>\n      <td>0.92857</td>\n      <td>...</td>\n      <td>1.00000</td>\n      <td>1.00000</td>\n      <td>1.00000</td>\n      <td>1.00000</td>\n      <td>1.00000</td>\n      <td>1.00000</td>\n      <td>1.00000</td>\n      <td>1.00000</td>\n      <td>1.00000</td>\n      <td>1.00000</td>\n    </tr>\n    <tr>\n      <td>45361</td>\n      <td>0.91667</td>\n      <td>1.00000</td>\n      <td>1.00000</td>\n      <td>1.00000</td>\n      <td>1.00000</td>\n      <td>0.91667</td>\n      <td>1.00000</td>\n      <td>0.92308</td>\n      <td>1.00000</td>\n      <td>0.92857</td>\n      <td>...</td>\n      <td>1.00000</td>\n      <td>1.00000</td>\n      <td>1.00000</td>\n      <td>1.00000</td>\n      <td>1.00000</td>\n      <td>1.00000</td>\n      <td>1.00000</td>\n      <td>1.00000</td>\n      <td>1.00000</td>\n      <td>1.00000</td>\n    </tr>\n    <tr>\n      <td>17862</td>\n      <td>0.92308</td>\n      <td>1.00000</td>\n      <td>1.00000</td>\n      <td>1.00000</td>\n      <td>1.00000</td>\n      <td>0.92308</td>\n      <td>1.00000</td>\n      <td>0.94118</td>\n      <td>1.00000</td>\n      <td>0.92857</td>\n      <td>...</td>\n      <td>1.00000</td>\n      <td>1.00000</td>\n      <td>1.00000</td>\n      <td>1.00000</td>\n      <td>1.00000</td>\n      <td>1.00000</td>\n      <td>1.00000</td>\n      <td>1.00000</td>\n      <td>1.00000</td>\n      <td>1.00000</td>\n    </tr>\n    <tr>\n      <td>166292</td>\n      <td>0.94118</td>\n      <td>1.00000</td>\n      <td>1.00000</td>\n      <td>1.00000</td>\n      <td>1.00000</td>\n      <td>0.93750</td>\n      <td>1.00000</td>\n      <td>1.00000</td>\n      <td>1.00000</td>\n      <td>0.92857</td>\n      <td>...</td>\n      <td>1.00000</td>\n      <td>1.00000</td>\n      <td>1.00000</td>\n      <td>1.00000</td>\n      <td>1.00000</td>\n      <td>1.00000</td>\n      <td>1.00000</td>\n      <td>1.00000</td>\n      <td>1.00000</td>\n      <td>1.00000</td>\n    </tr>\n    <tr>\n      <td>39456</td>\n      <td>1.00000</td>\n      <td>1.00000</td>\n      <td>1.00000</td>\n      <td>1.00000</td>\n      <td>1.00000</td>\n      <td>1.00000</td>\n      <td>1.00000</td>\n      <td>1.00000</td>\n      <td>1.00000</td>\n      <td>0.93333</td>\n      <td>...</td>\n      <td>1.00000</td>\n      <td>1.00000</td>\n      <td>1.00000</td>\n      <td>1.00000</td>\n      <td>1.00000</td>\n      <td>1.00000</td>\n      <td>1.00000</td>\n      <td>1.00000</td>\n      <td>1.00000</td>\n      <td>1.00000</td>\n    </tr>\n    <tr>\n      <td>17120</td>\n      <td>1.00000</td>\n      <td>1.00000</td>\n      <td>1.00000</td>\n      <td>1.00000</td>\n      <td>1.00000</td>\n      <td>1.00000</td>\n      <td>1.00000</td>\n      <td>1.00000</td>\n      <td>1.00000</td>\n      <td>0.93750</td>\n      <td>...</td>\n      <td>1.00000</td>\n      <td>1.00000</td>\n      <td>1.00000</td>\n      <td>1.00000</td>\n      <td>1.00000</td>\n      <td>1.00000</td>\n      <td>1.00000</td>\n      <td>1.00000</td>\n      <td>1.00000</td>\n      <td>1.00000</td>\n    </tr>\n    <tr>\n      <td>31065</td>\n      <td>1.00000</td>\n      <td>1.00000</td>\n      <td>1.00000</td>\n      <td>1.00000</td>\n      <td>1.00000</td>\n      <td>1.00000</td>\n      <td>1.00000</td>\n      <td>1.00000</td>\n      <td>1.00000</td>\n      <td>0.94118</td>\n      <td>...</td>\n      <td>1.00000</td>\n      <td>1.00000</td>\n      <td>1.00000</td>\n      <td>1.00000</td>\n      <td>1.00000</td>\n      <td>1.00000</td>\n      <td>1.00000</td>\n      <td>1.00000</td>\n      <td>1.00000</td>\n      <td>1.00000</td>\n    </tr>\n    <tr>\n      <td>70680</td>\n      <td>1.00000</td>\n      <td>1.00000</td>\n      <td>1.00000</td>\n      <td>1.00000</td>\n      <td>1.00000</td>\n      <td>1.00000</td>\n      <td>1.00000</td>\n      <td>1.00000</td>\n      <td>1.00000</td>\n      <td>0.94737</td>\n      <td>...</td>\n      <td>1.00000</td>\n      <td>1.00000</td>\n      <td>1.00000</td>\n      <td>1.00000</td>\n      <td>1.00000</td>\n      <td>1.00000</td>\n      <td>1.00000</td>\n      <td>1.00000</td>\n      <td>1.00000</td>\n      <td>1.00000</td>\n    </tr>\n    <tr>\n      <td>12823</td>\n      <td>1.00000</td>\n      <td>1.00000</td>\n      <td>1.00000</td>\n      <td>1.00000</td>\n      <td>1.00000</td>\n      <td>1.00000</td>\n      <td>1.00000</td>\n      <td>1.00000</td>\n      <td>1.00000</td>\n      <td>1.00000</td>\n      <td>...</td>\n      <td>1.00000</td>\n      <td>1.00000</td>\n      <td>1.00000</td>\n      <td>1.00000</td>\n      <td>1.00000</td>\n      <td>1.00000</td>\n      <td>1.00000</td>\n      <td>1.00000</td>\n      <td>1.00000</td>\n      <td>1.00000</td>\n    </tr>\n    <tr>\n      <td>9143</td>\n      <td>1.00000</td>\n      <td>1.00000</td>\n      <td>1.00000</td>\n      <td>1.00000</td>\n      <td>1.00000</td>\n      <td>1.00000</td>\n      <td>1.00000</td>\n      <td>1.00000</td>\n      <td>1.00000</td>\n      <td>1.00000</td>\n      <td>...</td>\n      <td>1.00000</td>\n      <td>1.00000</td>\n      <td>1.00000</td>\n      <td>1.00000</td>\n      <td>1.00000</td>\n      <td>1.00000</td>\n      <td>1.00000</td>\n      <td>1.00000</td>\n      <td>1.00000</td>\n      <td>1.00000</td>\n    </tr>\n    <tr>\n      <td>240287</td>\n      <td>1.00000</td>\n      <td>1.00000</td>\n      <td>1.00000</td>\n      <td>1.00000</td>\n      <td>1.00000</td>\n      <td>1.00000</td>\n      <td>1.00000</td>\n      <td>1.00000</td>\n      <td>1.00000</td>\n      <td>1.00000</td>\n      <td>...</td>\n      <td>1.00000</td>\n      <td>1.00000</td>\n      <td>1.00000</td>\n      <td>1.00000</td>\n      <td>1.00000</td>\n      <td>1.00000</td>\n      <td>1.00000</td>\n      <td>1.00000</td>\n      <td>1.00000</td>\n      <td>1.00000</td>\n    </tr>\n    <tr>\n      <td>235432</td>\n      <td>1.00000</td>\n      <td>1.00000</td>\n      <td>1.00000</td>\n      <td>1.00000</td>\n      <td>1.00000</td>\n      <td>1.00000</td>\n      <td>1.00000</td>\n      <td>1.00000</td>\n      <td>1.00000</td>\n      <td>1.00000</td>\n      <td>...</td>\n      <td>1.00000</td>\n      <td>1.00000</td>\n      <td>1.00000</td>\n      <td>1.00000</td>\n      <td>1.00000</td>\n      <td>1.00000</td>\n      <td>1.00000</td>\n      <td>1.00000</td>\n      <td>1.00000</td>\n      <td>1.00000</td>\n    </tr>\n    <tr>\n      <td>72311</td>\n      <td>1.00000</td>\n      <td>1.00000</td>\n      <td>1.00000</td>\n      <td>1.00000</td>\n      <td>1.00000</td>\n      <td>1.00000</td>\n      <td>1.00000</td>\n      <td>1.00000</td>\n      <td>1.00000</td>\n      <td>1.00000</td>\n      <td>...</td>\n      <td>1.00000</td>\n      <td>1.00000</td>\n      <td>1.00000</td>\n      <td>1.00000</td>\n      <td>1.00000</td>\n      <td>1.00000</td>\n      <td>1.00000</td>\n      <td>1.00000</td>\n      <td>1.00000</td>\n      <td>1.00000</td>\n    </tr>\n    <tr>\n      <td>109782</td>\n      <td>1.00000</td>\n      <td>1.00000</td>\n      <td>1.00000</td>\n      <td>1.00000</td>\n      <td>1.00000</td>\n      <td>1.00000</td>\n      <td>1.00000</td>\n      <td>1.00000</td>\n      <td>1.00000</td>\n      <td>1.00000</td>\n      <td>...</td>\n      <td>1.00000</td>\n      <td>1.00000</td>\n      <td>1.00000</td>\n      <td>1.00000</td>\n      <td>1.00000</td>\n      <td>1.00000</td>\n      <td>1.00000</td>\n      <td>1.00000</td>\n      <td>1.00000</td>\n      <td>1.00000</td>\n    </tr>\n    <tr>\n      <td>21003</td>\n      <td>1.00000</td>\n      <td>1.00000</td>\n      <td>1.00000</td>\n      <td>1.00000</td>\n      <td>1.00000</td>\n      <td>1.00000</td>\n      <td>1.00000</td>\n      <td>1.00000</td>\n      <td>1.00000</td>\n      <td>1.00000</td>\n      <td>...</td>\n      <td>1.00000</td>\n      <td>1.00000</td>\n      <td>1.00000</td>\n      <td>1.00000</td>\n      <td>1.00000</td>\n      <td>1.00000</td>\n      <td>1.00000</td>\n      <td>1.00000</td>\n      <td>1.00000</td>\n      <td>1.00000</td>\n    </tr>\n    <tr>\n      <td>24368</td>\n      <td>1.00000</td>\n      <td>1.00000</td>\n      <td>1.00000</td>\n      <td>1.00000</td>\n      <td>1.00000</td>\n      <td>1.00000</td>\n      <td>1.00000</td>\n      <td>1.00000</td>\n      <td>1.00000</td>\n      <td>1.00000</td>\n      <td>...</td>\n      <td>1.00000</td>\n      <td>1.00000</td>\n      <td>1.00000</td>\n      <td>1.00000</td>\n      <td>1.00000</td>\n      <td>1.00000</td>\n      <td>1.00000</td>\n      <td>1.00000</td>\n      <td>1.00000</td>\n      <td>1.00000</td>\n    </tr>\n    <tr>\n      <td>16603</td>\n      <td>1.00000</td>\n      <td>1.00000</td>\n      <td>1.00000</td>\n      <td>1.00000</td>\n      <td>1.00000</td>\n      <td>1.00000</td>\n      <td>1.00000</td>\n      <td>1.00000</td>\n      <td>1.00000</td>\n      <td>1.00000</td>\n      <td>...</td>\n      <td>1.00000</td>\n      <td>1.00000</td>\n      <td>1.00000</td>\n      <td>1.00000</td>\n      <td>1.00000</td>\n      <td>1.00000</td>\n      <td>1.00000</td>\n      <td>1.00000</td>\n      <td>1.00000</td>\n      <td>1.00000</td>\n    </tr>\n    <tr>\n      <td>86649</td>\n      <td>1.00000</td>\n      <td>1.00000</td>\n      <td>1.00000</td>\n      <td>1.00000</td>\n      <td>1.00000</td>\n      <td>1.00000</td>\n      <td>1.00000</td>\n      <td>1.00000</td>\n      <td>1.00000</td>\n      <td>1.00000</td>\n      <td>...</td>\n      <td>1.00000</td>\n      <td>1.00000</td>\n      <td>1.00000</td>\n      <td>1.00000</td>\n      <td>1.00000</td>\n      <td>1.00000</td>\n      <td>1.00000</td>\n      <td>1.00000</td>\n      <td>1.00000</td>\n      <td>1.00000</td>\n    </tr>\n    <tr>\n      <td>163894</td>\n      <td>1.00000</td>\n      <td>1.00000</td>\n      <td>1.00000</td>\n      <td>1.00000</td>\n      <td>1.00000</td>\n      <td>1.00000</td>\n      <td>1.00000</td>\n      <td>1.00000</td>\n      <td>1.00000</td>\n      <td>1.00000</td>\n      <td>...</td>\n      <td>1.00000</td>\n      <td>1.00000</td>\n      <td>1.00000</td>\n      <td>1.00000</td>\n      <td>1.00000</td>\n      <td>1.00000</td>\n      <td>1.00000</td>\n      <td>1.00000</td>\n      <td>1.00000</td>\n      <td>1.00000</td>\n    </tr>\n    <tr>\n      <td>216470</td>\n      <td>1.00000</td>\n      <td>1.00000</td>\n      <td>1.00000</td>\n      <td>1.00000</td>\n      <td>1.00000</td>\n      <td>1.00000</td>\n      <td>1.00000</td>\n      <td>1.00000</td>\n      <td>1.00000</td>\n      <td>1.00000</td>\n      <td>...</td>\n      <td>1.00000</td>\n      <td>1.00000</td>\n      <td>1.00000</td>\n      <td>1.00000</td>\n      <td>1.00000</td>\n      <td>1.00000</td>\n      <td>1.00000</td>\n      <td>1.00000</td>\n      <td>1.00000</td>\n      <td>1.00000</td>\n    </tr>\n    <tr>\n      <td>15407</td>\n      <td>1.00000</td>\n      <td>1.00000</td>\n      <td>1.00000</td>\n      <td>1.00000</td>\n      <td>1.00000</td>\n      <td>1.00000</td>\n      <td>1.00000</td>\n      <td>1.00000</td>\n      <td>1.00000</td>\n      <td>1.00000</td>\n      <td>...</td>\n      <td>1.00000</td>\n      <td>1.00000</td>\n      <td>1.00000</td>\n      <td>1.00000</td>\n      <td>1.00000</td>\n      <td>1.00000</td>\n      <td>1.00000</td>\n      <td>1.00000</td>\n      <td>1.00000</td>\n      <td>1.00000</td>\n    </tr>\n    <tr>\n      <td>19943</td>\n      <td>1.00000</td>\n      <td>1.00000</td>\n      <td>1.00000</td>\n      <td>1.00000</td>\n      <td>1.00000</td>\n      <td>1.00000</td>\n      <td>1.00000</td>\n      <td>1.00000</td>\n      <td>1.00000</td>\n      <td>1.00000</td>\n      <td>...</td>\n      <td>1.00000</td>\n      <td>1.00000</td>\n      <td>1.00000</td>\n      <td>1.00000</td>\n      <td>1.00000</td>\n      <td>1.00000</td>\n      <td>1.00000</td>\n      <td>1.00000</td>\n      <td>1.00000</td>\n      <td>1.00000</td>\n    </tr>\n    <tr>\n      <td>151379</td>\n      <td>1.00000</td>\n      <td>1.00000</td>\n      <td>1.00000</td>\n      <td>1.00000</td>\n      <td>1.00000</td>\n      <td>1.00000</td>\n      <td>1.00000</td>\n      <td>1.00000</td>\n      <td>1.00000</td>\n      <td>1.00000</td>\n      <td>...</td>\n      <td>1.00000</td>\n      <td>1.00000</td>\n      <td>1.00000</td>\n      <td>1.00000</td>\n      <td>1.00000</td>\n      <td>1.00000</td>\n      <td>1.00000</td>\n      <td>1.00000</td>\n      <td>1.00000</td>\n      <td>1.00000</td>\n    </tr>\n    <tr>\n      <td>171368</td>\n      <td>1.00000</td>\n      <td>1.00000</td>\n      <td>1.00000</td>\n      <td>1.00000</td>\n      <td>1.00000</td>\n      <td>1.00000</td>\n      <td>1.00000</td>\n      <td>1.00000</td>\n      <td>1.00000</td>\n      <td>1.00000</td>\n      <td>...</td>\n      <td>1.00000</td>\n      <td>1.00000</td>\n      <td>1.00000</td>\n      <td>1.00000</td>\n      <td>1.00000</td>\n      <td>1.00000</td>\n      <td>1.00000</td>\n      <td>1.00000</td>\n      <td>1.00000</td>\n      <td>1.00000</td>\n    </tr>\n    <tr>\n      <td>12073</td>\n      <td>1.00000</td>\n      <td>1.00000</td>\n      <td>1.00000</td>\n      <td>1.00000</td>\n      <td>1.00000</td>\n      <td>1.00000</td>\n      <td>1.00000</td>\n      <td>1.00000</td>\n      <td>1.00000</td>\n      <td>1.00000</td>\n      <td>...</td>\n      <td>1.00000</td>\n      <td>1.00000</td>\n      <td>1.00000</td>\n      <td>1.00000</td>\n      <td>1.00000</td>\n      <td>1.00000</td>\n      <td>1.00000</td>\n      <td>1.00000</td>\n      <td>1.00000</td>\n      <td>1.00000</td>\n    </tr>\n    <tr>\n      <td>20684</td>\n      <td>1.00000</td>\n      <td>1.00000</td>\n      <td>1.00000</td>\n      <td>1.00000</td>\n      <td>1.00000</td>\n      <td>1.00000</td>\n      <td>1.00000</td>\n      <td>1.00000</td>\n      <td>1.00000</td>\n      <td>1.00000</td>\n      <td>...</td>\n      <td>1.00000</td>\n      <td>1.00000</td>\n      <td>1.00000</td>\n      <td>1.00000</td>\n      <td>1.00000</td>\n      <td>1.00000</td>\n      <td>1.00000</td>\n      <td>1.00000</td>\n      <td>1.00000</td>\n      <td>1.00000</td>\n    </tr>\n    <tr>\n      <td>84886</td>\n      <td>1.00000</td>\n      <td>1.00000</td>\n      <td>1.00000</td>\n      <td>1.00000</td>\n      <td>1.00000</td>\n      <td>1.00000</td>\n      <td>1.00000</td>\n      <td>1.00000</td>\n      <td>1.00000</td>\n      <td>1.00000</td>\n      <td>...</td>\n      <td>1.00000</td>\n      <td>1.00000</td>\n      <td>1.00000</td>\n      <td>1.00000</td>\n      <td>1.00000</td>\n      <td>1.00000</td>\n      <td>1.00000</td>\n      <td>1.00000</td>\n      <td>1.00000</td>\n      <td>1.00000</td>\n    </tr>\n    <tr>\n      <td>229090</td>\n      <td>1.00000</td>\n      <td>1.00000</td>\n      <td>1.00000</td>\n      <td>1.00000</td>\n      <td>1.00000</td>\n      <td>1.00000</td>\n      <td>1.00000</td>\n      <td>1.00000</td>\n      <td>1.00000</td>\n      <td>1.00000</td>\n      <td>...</td>\n      <td>1.00000</td>\n      <td>1.00000</td>\n      <td>1.00000</td>\n      <td>1.00000</td>\n      <td>1.00000</td>\n      <td>1.00000</td>\n      <td>1.00000</td>\n      <td>1.00000</td>\n      <td>1.00000</td>\n      <td>1.00000</td>\n    </tr>\n    <tr>\n      <td>12012</td>\n      <td>1.00000</td>\n      <td>1.00000</td>\n      <td>1.00000</td>\n      <td>1.00000</td>\n      <td>1.00000</td>\n      <td>1.00000</td>\n      <td>1.00000</td>\n      <td>1.00000</td>\n      <td>1.00000</td>\n      <td>1.00000</td>\n      <td>...</td>\n      <td>1.00000</td>\n      <td>1.00000</td>\n      <td>1.00000</td>\n      <td>1.00000</td>\n      <td>1.00000</td>\n      <td>1.00000</td>\n      <td>1.00000</td>\n      <td>1.00000</td>\n      <td>1.00000</td>\n      <td>1.00000</td>\n    </tr>\n    <tr>\n      <td>13959</td>\n      <td>1.00000</td>\n      <td>1.00000</td>\n      <td>1.00000</td>\n      <td>1.00000</td>\n      <td>1.00000</td>\n      <td>1.00000</td>\n      <td>1.00000</td>\n      <td>1.00000</td>\n      <td>1.00000</td>\n      <td>1.00000</td>\n      <td>...</td>\n      <td>1.00000</td>\n      <td>1.00000</td>\n      <td>1.00000</td>\n      <td>1.00000</td>\n      <td>1.00000</td>\n      <td>1.00000</td>\n      <td>1.00000</td>\n      <td>1.00000</td>\n      <td>1.00000</td>\n      <td>1.00000</td>\n    </tr>\n    <tr>\n      <td>14647</td>\n      <td>1.00000</td>\n      <td>1.00000</td>\n      <td>1.00000</td>\n      <td>1.00000</td>\n      <td>1.00000</td>\n      <td>1.00000</td>\n      <td>1.00000</td>\n      <td>1.00000</td>\n      <td>1.00000</td>\n      <td>1.00000</td>\n      <td>...</td>\n      <td>1.00000</td>\n      <td>1.00000</td>\n      <td>1.00000</td>\n      <td>1.00000</td>\n      <td>1.00000</td>\n      <td>1.00000</td>\n      <td>1.00000</td>\n      <td>1.00000</td>\n      <td>1.00000</td>\n      <td>1.00000</td>\n    </tr>\n    <tr>\n      <td>8763</td>\n      <td>1.00000</td>\n      <td>1.00000</td>\n      <td>1.00000</td>\n      <td>1.00000</td>\n      <td>1.00000</td>\n      <td>1.00000</td>\n      <td>1.00000</td>\n      <td>1.00000</td>\n      <td>1.00000</td>\n      <td>1.00000</td>\n      <td>...</td>\n      <td>1.00000</td>\n      <td>1.00000</td>\n      <td>1.00000</td>\n      <td>1.00000</td>\n      <td>1.00000</td>\n      <td>1.00000</td>\n      <td>1.00000</td>\n      <td>1.00000</td>\n      <td>1.00000</td>\n      <td>1.00000</td>\n    </tr>\n  </tbody>\n</table>\n<p>40 rows × 3729 columns</p>\n</div>",
      "text/plain": "        228546  8896    36994   143064  216902  220751  81959   132703  \\\n14679  0.16667 0.40000 0.40000 0.40000 0.42857 0.42857 0.42857 0.42857   \n50579  0.85714 0.80000 0.83333 0.83333 0.77778 0.85714 0.81818 0.85714   \n17717  0.88889 0.84615 0.85714 0.85714 0.80000 0.87500 0.88889 0.88889   \n31988  0.90000 0.87500 0.88889 0.87500 0.81818 0.88889 0.90000 0.90000   \n81222  0.90000 0.90909 1.00000 0.90000 0.88889 0.90000 0.90000 0.90909   \n34384  0.90909 0.93333 1.00000 0.90909 0.88889 0.90909 0.90909 0.90909   \n57071  0.90909 1.00000 1.00000 0.91667 0.90000 0.90909 0.92308 0.90909   \n60333  0.90909 1.00000 1.00000 0.92308 0.90909 0.90909 0.92308 0.90909   \n9039   0.90909 1.00000 1.00000 1.00000 0.92308 0.90909 1.00000 0.91667   \n45361  0.91667 1.00000 1.00000 1.00000 1.00000 0.91667 1.00000 0.92308   \n17862  0.92308 1.00000 1.00000 1.00000 1.00000 0.92308 1.00000 0.94118   \n166292 0.94118 1.00000 1.00000 1.00000 1.00000 0.93750 1.00000 1.00000   \n39456  1.00000 1.00000 1.00000 1.00000 1.00000 1.00000 1.00000 1.00000   \n17120  1.00000 1.00000 1.00000 1.00000 1.00000 1.00000 1.00000 1.00000   \n31065  1.00000 1.00000 1.00000 1.00000 1.00000 1.00000 1.00000 1.00000   \n70680  1.00000 1.00000 1.00000 1.00000 1.00000 1.00000 1.00000 1.00000   \n12823  1.00000 1.00000 1.00000 1.00000 1.00000 1.00000 1.00000 1.00000   \n9143   1.00000 1.00000 1.00000 1.00000 1.00000 1.00000 1.00000 1.00000   \n240287 1.00000 1.00000 1.00000 1.00000 1.00000 1.00000 1.00000 1.00000   \n235432 1.00000 1.00000 1.00000 1.00000 1.00000 1.00000 1.00000 1.00000   \n72311  1.00000 1.00000 1.00000 1.00000 1.00000 1.00000 1.00000 1.00000   \n109782 1.00000 1.00000 1.00000 1.00000 1.00000 1.00000 1.00000 1.00000   \n21003  1.00000 1.00000 1.00000 1.00000 1.00000 1.00000 1.00000 1.00000   \n24368  1.00000 1.00000 1.00000 1.00000 1.00000 1.00000 1.00000 1.00000   \n16603  1.00000 1.00000 1.00000 1.00000 1.00000 1.00000 1.00000 1.00000   \n86649  1.00000 1.00000 1.00000 1.00000 1.00000 1.00000 1.00000 1.00000   \n163894 1.00000 1.00000 1.00000 1.00000 1.00000 1.00000 1.00000 1.00000   \n216470 1.00000 1.00000 1.00000 1.00000 1.00000 1.00000 1.00000 1.00000   \n15407  1.00000 1.00000 1.00000 1.00000 1.00000 1.00000 1.00000 1.00000   \n19943  1.00000 1.00000 1.00000 1.00000 1.00000 1.00000 1.00000 1.00000   \n151379 1.00000 1.00000 1.00000 1.00000 1.00000 1.00000 1.00000 1.00000   \n171368 1.00000 1.00000 1.00000 1.00000 1.00000 1.00000 1.00000 1.00000   \n12073  1.00000 1.00000 1.00000 1.00000 1.00000 1.00000 1.00000 1.00000   \n20684  1.00000 1.00000 1.00000 1.00000 1.00000 1.00000 1.00000 1.00000   \n84886  1.00000 1.00000 1.00000 1.00000 1.00000 1.00000 1.00000 1.00000   \n229090 1.00000 1.00000 1.00000 1.00000 1.00000 1.00000 1.00000 1.00000   \n12012  1.00000 1.00000 1.00000 1.00000 1.00000 1.00000 1.00000 1.00000   \n13959  1.00000 1.00000 1.00000 1.00000 1.00000 1.00000 1.00000 1.00000   \n14647  1.00000 1.00000 1.00000 1.00000 1.00000 1.00000 1.00000 1.00000   \n8763   1.00000 1.00000 1.00000 1.00000 1.00000 1.00000 1.00000 1.00000   \n\n        8732    222182  ...  23892   11903   20582   239137  21333   11879   \\\n14679  0.42857 0.44444  ... 1.00000 1.00000 1.00000 1.00000 1.00000 1.00000   \n50579  0.81818 0.81250  ... 1.00000 1.00000 1.00000 1.00000 1.00000 1.00000   \n17717  0.88889 0.89474  ... 1.00000 1.00000 1.00000 1.00000 1.00000 1.00000   \n31988  0.90000 0.91667  ... 1.00000 1.00000 1.00000 1.00000 1.00000 1.00000   \n81222  0.90000 0.92308  ... 1.00000 1.00000 1.00000 1.00000 1.00000 1.00000   \n34384  0.90909 0.92308  ... 1.00000 1.00000 1.00000 1.00000 1.00000 1.00000   \n57071  0.92308 0.92308  ... 1.00000 1.00000 1.00000 1.00000 1.00000 1.00000   \n60333  1.00000 0.92857  ... 1.00000 1.00000 1.00000 1.00000 1.00000 1.00000   \n9039   1.00000 0.92857  ... 1.00000 1.00000 1.00000 1.00000 1.00000 1.00000   \n45361  1.00000 0.92857  ... 1.00000 1.00000 1.00000 1.00000 1.00000 1.00000   \n17862  1.00000 0.92857  ... 1.00000 1.00000 1.00000 1.00000 1.00000 1.00000   \n166292 1.00000 0.92857  ... 1.00000 1.00000 1.00000 1.00000 1.00000 1.00000   \n39456  1.00000 0.93333  ... 1.00000 1.00000 1.00000 1.00000 1.00000 1.00000   \n17120  1.00000 0.93750  ... 1.00000 1.00000 1.00000 1.00000 1.00000 1.00000   \n31065  1.00000 0.94118  ... 1.00000 1.00000 1.00000 1.00000 1.00000 1.00000   \n70680  1.00000 0.94737  ... 1.00000 1.00000 1.00000 1.00000 1.00000 1.00000   \n12823  1.00000 1.00000  ... 1.00000 1.00000 1.00000 1.00000 1.00000 1.00000   \n9143   1.00000 1.00000  ... 1.00000 1.00000 1.00000 1.00000 1.00000 1.00000   \n240287 1.00000 1.00000  ... 1.00000 1.00000 1.00000 1.00000 1.00000 1.00000   \n235432 1.00000 1.00000  ... 1.00000 1.00000 1.00000 1.00000 1.00000 1.00000   \n72311  1.00000 1.00000  ... 1.00000 1.00000 1.00000 1.00000 1.00000 1.00000   \n109782 1.00000 1.00000  ... 1.00000 1.00000 1.00000 1.00000 1.00000 1.00000   \n21003  1.00000 1.00000  ... 1.00000 1.00000 1.00000 1.00000 1.00000 1.00000   \n24368  1.00000 1.00000  ... 1.00000 1.00000 1.00000 1.00000 1.00000 1.00000   \n16603  1.00000 1.00000  ... 1.00000 1.00000 1.00000 1.00000 1.00000 1.00000   \n86649  1.00000 1.00000  ... 1.00000 1.00000 1.00000 1.00000 1.00000 1.00000   \n163894 1.00000 1.00000  ... 1.00000 1.00000 1.00000 1.00000 1.00000 1.00000   \n216470 1.00000 1.00000  ... 1.00000 1.00000 1.00000 1.00000 1.00000 1.00000   \n15407  1.00000 1.00000  ... 1.00000 1.00000 1.00000 1.00000 1.00000 1.00000   \n19943  1.00000 1.00000  ... 1.00000 1.00000 1.00000 1.00000 1.00000 1.00000   \n151379 1.00000 1.00000  ... 1.00000 1.00000 1.00000 1.00000 1.00000 1.00000   \n171368 1.00000 1.00000  ... 1.00000 1.00000 1.00000 1.00000 1.00000 1.00000   \n12073  1.00000 1.00000  ... 1.00000 1.00000 1.00000 1.00000 1.00000 1.00000   \n20684  1.00000 1.00000  ... 1.00000 1.00000 1.00000 1.00000 1.00000 1.00000   \n84886  1.00000 1.00000  ... 1.00000 1.00000 1.00000 1.00000 1.00000 1.00000   \n229090 1.00000 1.00000  ... 1.00000 1.00000 1.00000 1.00000 1.00000 1.00000   \n12012  1.00000 1.00000  ... 1.00000 1.00000 1.00000 1.00000 1.00000 1.00000   \n13959  1.00000 1.00000  ... 1.00000 1.00000 1.00000 1.00000 1.00000 1.00000   \n14647  1.00000 1.00000  ... 1.00000 1.00000 1.00000 1.00000 1.00000 1.00000   \n8763   1.00000 1.00000  ... 1.00000 1.00000 1.00000 1.00000 1.00000 1.00000   \n\n        239096  40061   150353  73110   \n14679  1.00000 1.00000 1.00000 1.00000  \n50579  1.00000 1.00000 1.00000 1.00000  \n17717  1.00000 1.00000 1.00000 1.00000  \n31988  1.00000 1.00000 1.00000 1.00000  \n81222  1.00000 1.00000 1.00000 1.00000  \n34384  1.00000 1.00000 1.00000 1.00000  \n57071  1.00000 1.00000 1.00000 1.00000  \n60333  1.00000 1.00000 1.00000 1.00000  \n9039   1.00000 1.00000 1.00000 1.00000  \n45361  1.00000 1.00000 1.00000 1.00000  \n17862  1.00000 1.00000 1.00000 1.00000  \n166292 1.00000 1.00000 1.00000 1.00000  \n39456  1.00000 1.00000 1.00000 1.00000  \n17120  1.00000 1.00000 1.00000 1.00000  \n31065  1.00000 1.00000 1.00000 1.00000  \n70680  1.00000 1.00000 1.00000 1.00000  \n12823  1.00000 1.00000 1.00000 1.00000  \n9143   1.00000 1.00000 1.00000 1.00000  \n240287 1.00000 1.00000 1.00000 1.00000  \n235432 1.00000 1.00000 1.00000 1.00000  \n72311  1.00000 1.00000 1.00000 1.00000  \n109782 1.00000 1.00000 1.00000 1.00000  \n21003  1.00000 1.00000 1.00000 1.00000  \n24368  1.00000 1.00000 1.00000 1.00000  \n16603  1.00000 1.00000 1.00000 1.00000  \n86649  1.00000 1.00000 1.00000 1.00000  \n163894 1.00000 1.00000 1.00000 1.00000  \n216470 1.00000 1.00000 1.00000 1.00000  \n15407  1.00000 1.00000 1.00000 1.00000  \n19943  1.00000 1.00000 1.00000 1.00000  \n151379 1.00000 1.00000 1.00000 1.00000  \n171368 1.00000 1.00000 1.00000 1.00000  \n12073  1.00000 1.00000 1.00000 1.00000  \n20684  1.00000 1.00000 1.00000 1.00000  \n84886  1.00000 1.00000 1.00000 1.00000  \n229090 1.00000 1.00000 1.00000 1.00000  \n12012  1.00000 1.00000 1.00000 1.00000  \n13959  1.00000 1.00000 1.00000 1.00000  \n14647  1.00000 1.00000 1.00000 1.00000  \n8763   1.00000 1.00000 1.00000 1.00000  \n\n[40 rows x 3729 columns]"
     },
     "execution_count": 39,
     "metadata": {},
     "output_type": "execute_result"
    }
   ],
   "source": [
    "normal_short[new_columns]"
   ]
  },
  {
   "cell_type": "code",
   "execution_count": 40,
   "metadata": {},
   "outputs": [
    {
     "data": {
      "text/plain": "array([222509,  76763,  48921,  62459,  17496,  18397, 221304, 240522,\n        51653,  14753,  86628,  86813,   8757, 142220, 223596,   8556,\n        14710,  16966,  52501,  86860])"
     },
     "execution_count": 40,
     "metadata": {},
     "output_type": "execute_result"
    }
   ],
   "source": [
    "sample_fat.index.to_numpy()"
   ]
  },
  {
   "cell_type": "code",
   "execution_count": 41,
   "metadata": {},
   "outputs": [
    {
     "data": {
      "text/plain": "array([ 14679,  50579,  17717,  31988,  81222,  34384,  57071,  60333,\n         9039,  45361,  17862, 166292,  39456,  17120,  31065,  70680,\n        12823,   9143, 240287, 235432,  72311, 109782,  21003,  24368,\n        16603,  86649, 163894, 216470,  15407,  19943, 151379, 171368,\n        12073,  20684,  84886, 229090,  12012,  13959,  14647,   8763])"
     },
     "execution_count": 41,
     "metadata": {},
     "output_type": "execute_result"
    }
   ],
   "source": [
    "sample_normal.index.to_numpy()"
   ]
  },
  {
   "cell_type": "code",
   "execution_count": 42,
   "metadata": {},
   "outputs": [],
   "source": [
    "#create one dimensional ingredients vector from user recipes profile\n",
    "user_one_vector_fat = sample_fat.copy()\n",
    "user_one_vector_fat.loc['sum',:]= user_one_vector_fat.sum(axis=0)\n",
    "user_one_vector_fat = user_one_vector_fat.drop(axis=0, labels=sample_fat.index)\n",
    "user_one_vector_fat[user_one_vector_fat > 0] = 1"
   ]
  },
  {
   "cell_type": "code",
   "execution_count": 43,
   "metadata": {},
   "outputs": [],
   "source": [
    "#create one dimensional ingredients vector from user recipes profile\n",
    "user_one_vector_normal = sample_normal.copy()\n",
    "user_one_vector_normal.loc['sum',:]= user_one_vector_normal.sum(axis=0)\n",
    "user_one_vector_normal = user_one_vector_normal.drop(axis=0, labels=sample_normal.index)\n",
    "user_one_vector_normal[user_one_vector_normal > 0] = 1"
   ]
  },
  {
   "cell_type": "code",
   "execution_count": 44,
   "metadata": {},
   "outputs": [
    {
     "data": {
      "text/html": "<div>\n<style scoped>\n    .dataframe tbody tr th:only-of-type {\n        vertical-align: middle;\n    }\n\n    .dataframe tbody tr th {\n        vertical-align: top;\n    }\n\n    .dataframe thead th {\n        text-align: right;\n    }\n</style>\n<table border=\"1\" class=\"dataframe\">\n  <thead>\n    <tr style=\"text-align: right;\">\n      <th></th>\n      <th>111</th>\n      <th>126</th>\n      <th>257</th>\n      <th>443</th>\n      <th>445</th>\n      <th>578</th>\n      <th>615</th>\n      <th>629</th>\n      <th>631</th>\n      <th>858</th>\n      <th>...</th>\n      <th>23047</th>\n      <th>23274</th>\n      <th>23383</th>\n      <th>24865</th>\n      <th>25518</th>\n      <th>25522</th>\n      <th>26269</th>\n      <th>26934</th>\n      <th>27343</th>\n      <th>27805</th>\n    </tr>\n    <tr>\n      <th>id</th>\n      <th></th>\n      <th></th>\n      <th></th>\n      <th></th>\n      <th></th>\n      <th></th>\n      <th></th>\n      <th></th>\n      <th></th>\n      <th></th>\n      <th></th>\n      <th></th>\n      <th></th>\n      <th></th>\n      <th></th>\n      <th></th>\n      <th></th>\n      <th></th>\n      <th></th>\n      <th></th>\n      <th></th>\n    </tr>\n  </thead>\n  <tbody>\n    <tr>\n      <td>sum</td>\n      <td>0.00000</td>\n      <td>0.00000</td>\n      <td>1.00000</td>\n      <td>0.00000</td>\n      <td>0.00000</td>\n      <td>0.00000</td>\n      <td>0.00000</td>\n      <td>0.00000</td>\n      <td>0.00000</td>\n      <td>0.00000</td>\n      <td>...</td>\n      <td>0.00000</td>\n      <td>0.00000</td>\n      <td>0.00000</td>\n      <td>0.00000</td>\n      <td>0.00000</td>\n      <td>0.00000</td>\n      <td>0.00000</td>\n      <td>0.00000</td>\n      <td>0.00000</td>\n      <td>0.00000</td>\n    </tr>\n  </tbody>\n</table>\n<p>1 rows × 720 columns</p>\n</div>",
      "text/plain": "      111     126     257     443     445     578     615     629     631    \\\nid                                                                            \nsum 0.00000 0.00000 1.00000 0.00000 0.00000 0.00000 0.00000 0.00000 0.00000   \n\n      858    ...   23047   23274   23383   24865   25518   25522   26269  \\\nid           ...                                                           \nsum 0.00000  ... 0.00000 0.00000 0.00000 0.00000 0.00000 0.00000 0.00000   \n\n      26934   27343   27805  \nid                           \nsum 0.00000 0.00000 0.00000  \n\n[1 rows x 720 columns]"
     },
     "execution_count": 44,
     "metadata": {},
     "output_type": "execute_result"
    },
    {
     "data": {
      "text/plain": "0.00000    563\n1.00000    157\ndtype: int64"
     },
     "execution_count": 44,
     "metadata": {},
     "output_type": "execute_result"
    }
   ],
   "source": [
    "user_one_vector_normal\n",
    "user_one_vector_normal.apply(pd.value_counts).count(axis=1)"
   ]
  },
  {
   "cell_type": "code",
   "execution_count": 45,
   "metadata": {},
   "outputs": [
    {
     "data": {
      "text/html": "<div>\n<style scoped>\n    .dataframe tbody tr th:only-of-type {\n        vertical-align: middle;\n    }\n\n    .dataframe tbody tr th {\n        vertical-align: top;\n    }\n\n    .dataframe thead th {\n        text-align: right;\n    }\n</style>\n<table border=\"1\" class=\"dataframe\">\n  <thead>\n    <tr style=\"text-align: right;\">\n      <th></th>\n      <th>111</th>\n      <th>126</th>\n      <th>257</th>\n      <th>443</th>\n      <th>445</th>\n      <th>578</th>\n      <th>615</th>\n      <th>629</th>\n      <th>631</th>\n      <th>858</th>\n      <th>...</th>\n      <th>23047</th>\n      <th>23274</th>\n      <th>23383</th>\n      <th>24865</th>\n      <th>25518</th>\n      <th>25522</th>\n      <th>26269</th>\n      <th>26934</th>\n      <th>27343</th>\n      <th>27805</th>\n    </tr>\n    <tr>\n      <th>id</th>\n      <th></th>\n      <th></th>\n      <th></th>\n      <th></th>\n      <th></th>\n      <th></th>\n      <th></th>\n      <th></th>\n      <th></th>\n      <th></th>\n      <th></th>\n      <th></th>\n      <th></th>\n      <th></th>\n      <th></th>\n      <th></th>\n      <th></th>\n      <th></th>\n      <th></th>\n      <th></th>\n      <th></th>\n    </tr>\n  </thead>\n  <tbody>\n    <tr>\n      <td>sum</td>\n      <td>0.00000</td>\n      <td>0.00000</td>\n      <td>0.00000</td>\n      <td>0.00000</td>\n      <td>0.00000</td>\n      <td>1.00000</td>\n      <td>0.00000</td>\n      <td>0.00000</td>\n      <td>0.00000</td>\n      <td>0.00000</td>\n      <td>...</td>\n      <td>0.00000</td>\n      <td>0.00000</td>\n      <td>0.00000</td>\n      <td>0.00000</td>\n      <td>0.00000</td>\n      <td>0.00000</td>\n      <td>0.00000</td>\n      <td>0.00000</td>\n      <td>0.00000</td>\n      <td>0.00000</td>\n    </tr>\n  </tbody>\n</table>\n<p>1 rows × 720 columns</p>\n</div>",
      "text/plain": "      111     126     257     443     445     578     615     629     631    \\\nid                                                                            \nsum 0.00000 0.00000 0.00000 0.00000 0.00000 1.00000 0.00000 0.00000 0.00000   \n\n      858    ...   23047   23274   23383   24865   25518   25522   26269  \\\nid           ...                                                           \nsum 0.00000  ... 0.00000 0.00000 0.00000 0.00000 0.00000 0.00000 0.00000   \n\n      26934   27343   27805  \nid                           \nsum 0.00000 0.00000 0.00000  \n\n[1 rows x 720 columns]"
     },
     "execution_count": 45,
     "metadata": {},
     "output_type": "execute_result"
    },
    {
     "data": {
      "text/plain": "0.00000    626\n1.00000     94\ndtype: int64"
     },
     "execution_count": 45,
     "metadata": {},
     "output_type": "execute_result"
    }
   ],
   "source": [
    "user_one_vector_fat\n",
    "user_one_vector_fat.apply(pd.value_counts).count(axis=1)"
   ]
  },
  {
   "cell_type": "code",
   "execution_count": 46,
   "metadata": {},
   "outputs": [
    {
     "data": {
      "text/html": "<div>\n<style scoped>\n    .dataframe tbody tr th:only-of-type {\n        vertical-align: middle;\n    }\n\n    .dataframe tbody tr th {\n        vertical-align: top;\n    }\n\n    .dataframe thead th {\n        text-align: right;\n    }\n</style>\n<table border=\"1\" class=\"dataframe\">\n  <thead>\n    <tr style=\"text-align: right;\">\n      <th></th>\n      <th>jaccard_distance_sum</th>\n    </tr>\n  </thead>\n  <tbody>\n    <tr>\n      <td>51850</td>\n      <td>0.88889</td>\n    </tr>\n    <tr>\n      <td>231396</td>\n      <td>0.89796</td>\n    </tr>\n    <tr>\n      <td>135885</td>\n      <td>0.90000</td>\n    </tr>\n    <tr>\n      <td>52299</td>\n      <td>0.90000</td>\n    </tr>\n    <tr>\n      <td>145843</td>\n      <td>0.90426</td>\n    </tr>\n    <tr>\n      <td>16372</td>\n      <td>0.90526</td>\n    </tr>\n    <tr>\n      <td>83083</td>\n      <td>0.90909</td>\n    </tr>\n    <tr>\n      <td>180905</td>\n      <td>0.90909</td>\n    </tr>\n    <tr>\n      <td>24682</td>\n      <td>0.91489</td>\n    </tr>\n    <tr>\n      <td>70012</td>\n      <td>0.91579</td>\n    </tr>\n  </tbody>\n</table>\n</div>",
      "text/plain": "        jaccard_distance_sum\n51850                0.88889\n231396               0.89796\n135885               0.90000\n52299                0.90000\n145843               0.90426\n16372                0.90526\n83083                0.90909\n180905               0.90909\n24682                0.91489\n70012                0.91579"
     },
     "execution_count": 46,
     "metadata": {},
     "output_type": "execute_result"
    }
   ],
   "source": [
    "## Jaccard - Vector fat top 10\n",
    "\n",
    "result_array = cdist(user_one_vector_fat, new_recipe_db_wo_userrecipes_fat,'jaccard')\n",
    "result_w_filter_vector_fat = pd.DataFrame(result_array, columns=new_recipe_db_wo_userrecipes_fat.index.values, index=user_one_vector_fat.index.values)\n",
    "\n",
    "\n",
    "result_w_filter_vector_10_fat = pd.DataFrame(result_w_filter_vector_fat.sum(), columns=['jaccard_distance_sum'])\n",
    "result_w_filter_vector_10_fat = result_w_filter_vector_10_fat.sort_values(by='jaccard_distance_sum')\n",
    "\n",
    "result_w_filter_vector_10_fat[0:10]\n"
   ]
  },
  {
   "cell_type": "code",
   "execution_count": 47,
   "metadata": {},
   "outputs": [
    {
     "data": {
      "text/html": "<div>\n<style scoped>\n    .dataframe tbody tr th:only-of-type {\n        vertical-align: middle;\n    }\n\n    .dataframe tbody tr th {\n        vertical-align: top;\n    }\n\n    .dataframe thead th {\n        text-align: right;\n    }\n</style>\n<table border=\"1\" class=\"dataframe\">\n  <thead>\n    <tr style=\"text-align: right;\">\n      <th></th>\n      <th>jaccard_distance_sum</th>\n    </tr>\n  </thead>\n  <tbody>\n    <tr>\n      <td>237807</td>\n      <td>0.92405</td>\n    </tr>\n    <tr>\n      <td>111905</td>\n      <td>0.92500</td>\n    </tr>\n    <tr>\n      <td>9005</td>\n      <td>0.93082</td>\n    </tr>\n    <tr>\n      <td>231396</td>\n      <td>0.93125</td>\n    </tr>\n    <tr>\n      <td>190490</td>\n      <td>0.93168</td>\n    </tr>\n    <tr>\n      <td>13988</td>\n      <td>0.93210</td>\n    </tr>\n    <tr>\n      <td>236805</td>\n      <td>0.93210</td>\n    </tr>\n    <tr>\n      <td>51850</td>\n      <td>0.93210</td>\n    </tr>\n    <tr>\n      <td>218075</td>\n      <td>0.93631</td>\n    </tr>\n    <tr>\n      <td>69754</td>\n      <td>0.93671</td>\n    </tr>\n  </tbody>\n</table>\n</div>",
      "text/plain": "        jaccard_distance_sum\n237807               0.92405\n111905               0.92500\n9005                 0.93082\n231396               0.93125\n190490               0.93168\n13988                0.93210\n236805               0.93210\n51850                0.93210\n218075               0.93631\n69754                0.93671"
     },
     "execution_count": 47,
     "metadata": {},
     "output_type": "execute_result"
    }
   ],
   "source": [
    "## Jaccard - Vector normal top 10\n",
    "\n",
    "result_array = cdist(user_one_vector_normal, new_recipe_db_wo_userrecipes_normal,'jaccard')\n",
    "result_w_filter_vector_normal = pd.DataFrame(result_array, columns=new_recipe_db_wo_userrecipes_normal.index.values, index=user_one_vector_normal.index.values)\n",
    "\n",
    "\n",
    "result_w_filter_vector_10_normal = pd.DataFrame(result_w_filter_vector_normal.sum(), columns=['jaccard_distance_sum'])\n",
    "result_w_filter_vector_10_normal = result_w_filter_vector_10_normal.sort_values(by='jaccard_distance_sum')\n",
    "\n",
    "result_w_filter_vector_10_normal[0:10]\n"
   ]
  },
  {
   "cell_type": "code",
   "execution_count": 48,
   "metadata": {},
   "outputs": [
    {
     "data": {
      "text/plain": "array([237807, 111905,   9005, 231396, 190490,  13988, 236805,  51850,\n       218075,  69754])"
     },
     "execution_count": 48,
     "metadata": {},
     "output_type": "execute_result"
    }
   ],
   "source": [
    "result_w_filter_vector_10_normal[0:10].index.to_numpy()"
   ]
  },
  {
   "cell_type": "code",
   "execution_count": 49,
   "metadata": {},
   "outputs": [],
   "source": [
    "####### results"
   ]
  },
  {
   "cell_type": "code",
   "execution_count": 50,
   "metadata": {},
   "outputs": [
    {
     "data": {
      "text/plain": "array([222509,  76763,  48921,  62459,  17496,  18397, 221304, 240522,\n        51653,  14753,  86628,  86813,   8757, 142220, 223596,   8556,\n        14710,  16966,  52501,  86860])"
     },
     "execution_count": 50,
     "metadata": {},
     "output_type": "execute_result"
    }
   ],
   "source": [
    "# userrecipes fat\n",
    "sample_fat.index.to_numpy()"
   ]
  },
  {
   "cell_type": "code",
   "execution_count": 51,
   "metadata": {},
   "outputs": [
    {
     "data": {
      "text/plain": "array([  8547, 188706,  70513, 141125,  62256, 231808,  90160, 240773,\n        18442,  14614])"
     },
     "execution_count": 51,
     "metadata": {},
     "output_type": "execute_result"
    }
   ],
   "source": [
    "###### jaccard fat top 10 naiv\n",
    "result_w_filter_10_fat[0:10].index.to_numpy()"
   ]
  },
  {
   "cell_type": "code",
   "execution_count": 52,
   "metadata": {},
   "outputs": [
    {
     "data": {
      "text/plain": "array([8547, 188706, 34361, 206120, 220716, 16372, 14525, 235948, 11678,\n       25884], dtype=object)"
     },
     "execution_count": 52,
     "metadata": {},
     "output_type": "execute_result"
    }
   ],
   "source": [
    "###### jaccard kurz fat top 10\n",
    "result_fat_short[1:11].index.to_numpy()\n"
   ]
  },
  {
   "cell_type": "code",
   "execution_count": 53,
   "metadata": {},
   "outputs": [
    {
     "data": {
      "text/plain": "array([ 51850, 231396, 135885,  52299, 145843,  16372,  83083, 180905,\n        24682,  70012])"
     },
     "execution_count": 53,
     "metadata": {},
     "output_type": "execute_result"
    }
   ],
   "source": [
    "###### jaccard vector fat top 10\n",
    "result_w_filter_vector_10_fat[0:10].index.to_numpy()"
   ]
  },
  {
   "cell_type": "code",
   "execution_count": null,
   "metadata": {},
   "outputs": [],
   "source": []
  },
  {
   "cell_type": "code",
   "execution_count": null,
   "metadata": {},
   "outputs": [],
   "source": []
  },
  {
   "cell_type": "code",
   "execution_count": null,
   "metadata": {},
   "outputs": [],
   "source": []
  },
  {
   "cell_type": "code",
   "execution_count": null,
   "metadata": {},
   "outputs": [],
   "source": []
  },
  {
   "cell_type": "code",
   "execution_count": 54,
   "metadata": {},
   "outputs": [
    {
     "data": {
      "text/plain": "array([ 14679,  50579,  17717,  31988,  81222,  34384,  57071,  60333,\n         9039,  45361,  17862, 166292,  39456,  17120,  31065,  70680,\n        12823,   9143, 240287, 235432,  72311, 109782,  21003,  24368,\n        16603,  86649, 163894, 216470,  15407,  19943, 151379, 171368,\n        12073,  20684,  84886, 229090,  12012,  13959,  14647,   8763])"
     },
     "execution_count": 54,
     "metadata": {},
     "output_type": "execute_result"
    }
   ],
   "source": [
    "# userrecipes normal\n",
    "sample_normal.index.to_numpy()"
   ]
  },
  {
   "cell_type": "code",
   "execution_count": 55,
   "metadata": {},
   "outputs": [
    {
     "data": {
      "text/plain": "array([72007, 44742, 24682, 16416, 20456, 13941, 24202, 78370, 14604,\n       18044])"
     },
     "execution_count": 55,
     "metadata": {},
     "output_type": "execute_result"
    }
   ],
   "source": [
    "###### jaccard normal top 10 naiv\n",
    "result_w_filter_10_normal[0:10].index.to_numpy()"
   ]
  },
  {
   "cell_type": "code",
   "execution_count": 56,
   "metadata": {},
   "outputs": [
    {
     "data": {
      "text/plain": "array([228546, 8896, 36994, 143064, 216902, 220751, 81959, 132703, 8732,\n       222182], dtype=object)"
     },
     "execution_count": 56,
     "metadata": {},
     "output_type": "execute_result"
    }
   ],
   "source": [
    "###### jaccard kurz normal top 10\n",
    "result_normal_short[1:11].index.to_numpy()\n"
   ]
  },
  {
   "cell_type": "code",
   "execution_count": 57,
   "metadata": {},
   "outputs": [
    {
     "data": {
      "text/plain": "array([237807, 111905,   9005, 231396, 190490,  13988, 236805,  51850,\n       218075,  69754])"
     },
     "execution_count": 57,
     "metadata": {},
     "output_type": "execute_result"
    }
   ],
   "source": [
    "###### jaccard vector normal top 10\n",
    "result_w_filter_vector_10_normal[0:10].index.to_numpy()"
   ]
  },
  {
   "cell_type": "code",
   "execution_count": 58,
   "metadata": {},
   "outputs": [
    {
     "data": {
      "text/plain": "array([ 81124, 234462,  86813,  40549,   9009, 242134,  81140, 228109,\n        13896,  13890])"
     },
     "execution_count": 58,
     "metadata": {},
     "output_type": "execute_result"
    }
   ],
   "source": [
    "##### random top 10\n",
    "subset_random_top10.index.to_numpy()"
   ]
  },
  {
   "cell_type": "code",
   "execution_count": null,
   "metadata": {},
   "outputs": [],
   "source": []
  },
  {
   "cell_type": "code",
   "execution_count": 119,
   "metadata": {},
   "outputs": [
    {
     "data": {
      "text/html": "<div>\n<style scoped>\n    .dataframe tbody tr th:only-of-type {\n        vertical-align: middle;\n    }\n\n    .dataframe tbody tr th {\n        vertical-align: top;\n    }\n\n    .dataframe thead th {\n        text-align: right;\n    }\n</style>\n<table border=\"1\" class=\"dataframe\">\n  <thead>\n    <tr style=\"text-align: right;\">\n      <th>name</th>\n      <th>Calcium</th>\n      <th>Calories</th>\n      <th>Calories from Fat</th>\n      <th>Carbohydrates</th>\n      <th>Cholesterol</th>\n      <th>Dietary Fiber</th>\n      <th>Fat</th>\n      <th>Folate</th>\n      <th>Iron</th>\n      <th>Magnesium</th>\n      <th>Niacin Equivalents</th>\n      <th>Potassium</th>\n      <th>Protein</th>\n      <th>Saturated Fat</th>\n      <th>Sodium</th>\n      <th>Sugars</th>\n      <th>Thiamin</th>\n      <th>Vitamin A - IU</th>\n      <th>Vitamin B6</th>\n      <th>Vitamin C</th>\n    </tr>\n  </thead>\n  <tbody>\n    <tr>\n      <td>count</td>\n      <td>3769.00000</td>\n      <td>3769.00000</td>\n      <td>3769.00000</td>\n      <td>3769.00000</td>\n      <td>3769.00000</td>\n      <td>3769.00000</td>\n      <td>3769.00000</td>\n      <td>3769.00000</td>\n      <td>3769.00000</td>\n      <td>3769.00000</td>\n      <td>3769.00000</td>\n      <td>3769.00000</td>\n      <td>3769.00000</td>\n      <td>3769.00000</td>\n      <td>3769.00000</td>\n      <td>3769.00000</td>\n      <td>3769.00000</td>\n      <td>3769.00000</td>\n      <td>3769.00000</td>\n      <td>3769.00000</td>\n    </tr>\n    <tr>\n      <td>mean</td>\n      <td>147.65186</td>\n      <td>437.44356</td>\n      <td>206.11989</td>\n      <td>29.13837</td>\n      <td>97.10705</td>\n      <td>2.59745</td>\n      <td>22.90221</td>\n      <td>60.52532</td>\n      <td>3.15292</td>\n      <td>51.41953</td>\n      <td>12.44388</td>\n      <td>532.06962</td>\n      <td>28.05446</td>\n      <td>8.74674</td>\n      <td>851.15449</td>\n      <td>6.72550</td>\n      <td>0.30428</td>\n      <td>1169.01319</td>\n      <td>0.50992</td>\n      <td>16.28996</td>\n    </tr>\n    <tr>\n      <td>std</td>\n      <td>160.00437</td>\n      <td>183.08939</td>\n      <td>125.84039</td>\n      <td>22.82783</td>\n      <td>60.47445</td>\n      <td>2.51004</td>\n      <td>13.98227</td>\n      <td>59.87693</td>\n      <td>2.44362</td>\n      <td>29.11251</td>\n      <td>6.89390</td>\n      <td>267.49221</td>\n      <td>12.01243</td>\n      <td>6.80052</td>\n      <td>643.62150</td>\n      <td>8.81425</td>\n      <td>0.30165</td>\n      <td>2322.11124</td>\n      <td>0.31208</td>\n      <td>24.36018</td>\n    </tr>\n    <tr>\n      <td>min</td>\n      <td>2.24700</td>\n      <td>51.34326</td>\n      <td>1.32300</td>\n      <td>0.00000</td>\n      <td>0.00000</td>\n      <td>0.00000</td>\n      <td>0.14700</td>\n      <td>0.00000</td>\n      <td>0.19784</td>\n      <td>0.99745</td>\n      <td>0.03511</td>\n      <td>21.35641</td>\n      <td>0.75050</td>\n      <td>0.01992</td>\n      <td>5.20206</td>\n      <td>0.00000</td>\n      <td>0.00055</td>\n      <td>0.00000</td>\n      <td>0.00497</td>\n      <td>0.00000</td>\n    </tr>\n    <tr>\n      <td>25%</td>\n      <td>41.91497</td>\n      <td>302.97180</td>\n      <td>116.53740</td>\n      <td>10.22622</td>\n      <td>60.37200</td>\n      <td>0.74534</td>\n      <td>12.94860</td>\n      <td>15.88967</td>\n      <td>1.81434</td>\n      <td>33.22178</td>\n      <td>7.40249</td>\n      <td>345.47480</td>\n      <td>19.97439</td>\n      <td>3.62848</td>\n      <td>418.62460</td>\n      <td>1.76465</td>\n      <td>0.10514</td>\n      <td>236.89130</td>\n      <td>0.28450</td>\n      <td>2.15387</td>\n    </tr>\n    <tr>\n      <td>50%</td>\n      <td>83.16850</td>\n      <td>407.24760</td>\n      <td>182.76280</td>\n      <td>24.77198</td>\n      <td>85.12875</td>\n      <td>1.94552</td>\n      <td>20.30698</td>\n      <td>38.70226</td>\n      <td>2.76635</td>\n      <td>45.93000</td>\n      <td>11.16012</td>\n      <td>480.78320</td>\n      <td>26.86635</td>\n      <td>7.16552</td>\n      <td>734.00700</td>\n      <td>3.90585</td>\n      <td>0.19772</td>\n      <td>581.41080</td>\n      <td>0.44630</td>\n      <td>6.66049</td>\n    </tr>\n    <tr>\n      <td>75%</td>\n      <td>193.60330</td>\n      <td>541.55730</td>\n      <td>271.88850</td>\n      <td>43.25740</td>\n      <td>126.73700</td>\n      <td>3.66472</td>\n      <td>30.20983</td>\n      <td>88.10015</td>\n      <td>3.93263</td>\n      <td>63.26534</td>\n      <td>16.56103</td>\n      <td>654.28050</td>\n      <td>34.32086</td>\n      <td>12.13782</td>\n      <td>1093.02700</td>\n      <td>7.83809</td>\n      <td>0.39695</td>\n      <td>1113.57900</td>\n      <td>0.68318</td>\n      <td>19.57264</td>\n    </tr>\n    <tr>\n      <td>max</td>\n      <td>1264.32600</td>\n      <td>1828.19200</td>\n      <td>989.10300</td>\n      <td>236.72050</td>\n      <td>708.85000</td>\n      <td>27.83175</td>\n      <td>109.90030</td>\n      <td>519.53590</td>\n      <td>55.89075</td>\n      <td>590.39220</td>\n      <td>47.57578</td>\n      <td>1931.48800</td>\n      <td>99.72639</td>\n      <td>59.31002</td>\n      <td>7322.28900</td>\n      <td>104.81810</td>\n      <td>2.35457</td>\n      <td>38664.70000</td>\n      <td>3.83736</td>\n      <td>270.41310</td>\n    </tr>\n  </tbody>\n</table>\n</div>",
      "text/plain": "name     Calcium   Calories  Calories from Fat  Carbohydrates  Cholesterol  \\\ncount 3769.00000 3769.00000         3769.00000     3769.00000   3769.00000   \nmean   147.65186  437.44356          206.11989       29.13837     97.10705   \nstd    160.00437  183.08939          125.84039       22.82783     60.47445   \nmin      2.24700   51.34326            1.32300        0.00000      0.00000   \n25%     41.91497  302.97180          116.53740       10.22622     60.37200   \n50%     83.16850  407.24760          182.76280       24.77198     85.12875   \n75%    193.60330  541.55730          271.88850       43.25740    126.73700   \nmax   1264.32600 1828.19200          989.10300      236.72050    708.85000   \n\nname   Dietary Fiber        Fat     Folate       Iron  Magnesium  \\\ncount     3769.00000 3769.00000 3769.00000 3769.00000 3769.00000   \nmean         2.59745   22.90221   60.52532    3.15292   51.41953   \nstd          2.51004   13.98227   59.87693    2.44362   29.11251   \nmin          0.00000    0.14700    0.00000    0.19784    0.99745   \n25%          0.74534   12.94860   15.88967    1.81434   33.22178   \n50%          1.94552   20.30698   38.70226    2.76635   45.93000   \n75%          3.66472   30.20983   88.10015    3.93263   63.26534   \nmax         27.83175  109.90030  519.53590   55.89075  590.39220   \n\nname   Niacin Equivalents  Potassium    Protein  Saturated Fat     Sodium  \\\ncount          3769.00000 3769.00000 3769.00000     3769.00000 3769.00000   \nmean             12.44388  532.06962   28.05446        8.74674  851.15449   \nstd               6.89390  267.49221   12.01243        6.80052  643.62150   \nmin               0.03511   21.35641    0.75050        0.01992    5.20206   \n25%               7.40249  345.47480   19.97439        3.62848  418.62460   \n50%              11.16012  480.78320   26.86635        7.16552  734.00700   \n75%              16.56103  654.28050   34.32086       12.13782 1093.02700   \nmax              47.57578 1931.48800   99.72639       59.31002 7322.28900   \n\nname      Sugars    Thiamin  Vitamin A - IU  Vitamin B6  Vitamin C  \ncount 3769.00000 3769.00000      3769.00000  3769.00000 3769.00000  \nmean     6.72550    0.30428      1169.01319     0.50992   16.28996  \nstd      8.81425    0.30165      2322.11124     0.31208   24.36018  \nmin      0.00000    0.00055         0.00000     0.00497    0.00000  \n25%      1.76465    0.10514       236.89130     0.28450    2.15387  \n50%      3.90585    0.19772       581.41080     0.44630    6.66049  \n75%      7.83809    0.39695      1113.57900     0.68318   19.57264  \nmax    104.81810    2.35457     38664.70000     3.83736  270.41310  "
     },
     "execution_count": 119,
     "metadata": {},
     "output_type": "execute_result"
    }
   ],
   "source": [
    "nutrition_db2.describe()"
   ]
  },
  {
   "cell_type": "code",
   "execution_count": 120,
   "metadata": {},
   "outputs": [],
   "source": [
    "new_df = nutrition_db2[['Calories', 'Calories from Fat', 'Carbohydrates', 'Fat', 'Saturated Fat', 'Protein', 'Calcium', 'Magnesium', 'Iron' ]]"
   ]
  },
  {
   "cell_type": "code",
   "execution_count": 121,
   "metadata": {},
   "outputs": [
    {
     "data": {
      "text/html": "<div>\n<style scoped>\n    .dataframe tbody tr th:only-of-type {\n        vertical-align: middle;\n    }\n\n    .dataframe tbody tr th {\n        vertical-align: top;\n    }\n\n    .dataframe thead th {\n        text-align: right;\n    }\n</style>\n<table border=\"1\" class=\"dataframe\">\n  <thead>\n    <tr style=\"text-align: right;\">\n      <th>name</th>\n      <th>Calories</th>\n      <th>Calories from Fat</th>\n      <th>Carbohydrates</th>\n      <th>Fat</th>\n      <th>Saturated Fat</th>\n      <th>Protein</th>\n      <th>Calcium</th>\n      <th>Magnesium</th>\n      <th>Iron</th>\n    </tr>\n  </thead>\n  <tbody>\n    <tr>\n      <td>count</td>\n      <td>3769.00000</td>\n      <td>3769.00000</td>\n      <td>3769.00000</td>\n      <td>3769.00000</td>\n      <td>3769.00000</td>\n      <td>3769.00000</td>\n      <td>3769.00000</td>\n      <td>3769.00000</td>\n      <td>3769.00000</td>\n    </tr>\n    <tr>\n      <td>mean</td>\n      <td>437.44356</td>\n      <td>206.11989</td>\n      <td>29.13837</td>\n      <td>22.90221</td>\n      <td>8.74674</td>\n      <td>28.05446</td>\n      <td>147.65186</td>\n      <td>51.41953</td>\n      <td>3.15292</td>\n    </tr>\n    <tr>\n      <td>std</td>\n      <td>183.08939</td>\n      <td>125.84039</td>\n      <td>22.82783</td>\n      <td>13.98227</td>\n      <td>6.80052</td>\n      <td>12.01243</td>\n      <td>160.00437</td>\n      <td>29.11251</td>\n      <td>2.44362</td>\n    </tr>\n    <tr>\n      <td>min</td>\n      <td>51.34326</td>\n      <td>1.32300</td>\n      <td>0.00000</td>\n      <td>0.14700</td>\n      <td>0.01992</td>\n      <td>0.75050</td>\n      <td>2.24700</td>\n      <td>0.99745</td>\n      <td>0.19784</td>\n    </tr>\n    <tr>\n      <td>25%</td>\n      <td>302.97180</td>\n      <td>116.53740</td>\n      <td>10.22622</td>\n      <td>12.94860</td>\n      <td>3.62848</td>\n      <td>19.97439</td>\n      <td>41.91497</td>\n      <td>33.22178</td>\n      <td>1.81434</td>\n    </tr>\n    <tr>\n      <td>50%</td>\n      <td>407.24760</td>\n      <td>182.76280</td>\n      <td>24.77198</td>\n      <td>20.30698</td>\n      <td>7.16552</td>\n      <td>26.86635</td>\n      <td>83.16850</td>\n      <td>45.93000</td>\n      <td>2.76635</td>\n    </tr>\n    <tr>\n      <td>75%</td>\n      <td>541.55730</td>\n      <td>271.88850</td>\n      <td>43.25740</td>\n      <td>30.20983</td>\n      <td>12.13782</td>\n      <td>34.32086</td>\n      <td>193.60330</td>\n      <td>63.26534</td>\n      <td>3.93263</td>\n    </tr>\n    <tr>\n      <td>max</td>\n      <td>1828.19200</td>\n      <td>989.10300</td>\n      <td>236.72050</td>\n      <td>109.90030</td>\n      <td>59.31002</td>\n      <td>99.72639</td>\n      <td>1264.32600</td>\n      <td>590.39220</td>\n      <td>55.89075</td>\n    </tr>\n  </tbody>\n</table>\n</div>",
      "text/plain": "name    Calories  Calories from Fat  Carbohydrates        Fat  Saturated Fat  \\\ncount 3769.00000         3769.00000     3769.00000 3769.00000     3769.00000   \nmean   437.44356          206.11989       29.13837   22.90221        8.74674   \nstd    183.08939          125.84039       22.82783   13.98227        6.80052   \nmin     51.34326            1.32300        0.00000    0.14700        0.01992   \n25%    302.97180          116.53740       10.22622   12.94860        3.62848   \n50%    407.24760          182.76280       24.77198   20.30698        7.16552   \n75%    541.55730          271.88850       43.25740   30.20983       12.13782   \nmax   1828.19200          989.10300      236.72050  109.90030       59.31002   \n\nname     Protein    Calcium  Magnesium       Iron  \ncount 3769.00000 3769.00000 3769.00000 3769.00000  \nmean    28.05446  147.65186   51.41953    3.15292  \nstd     12.01243  160.00437   29.11251    2.44362  \nmin      0.75050    2.24700    0.99745    0.19784  \n25%     19.97439   41.91497   33.22178    1.81434  \n50%     26.86635   83.16850   45.93000    2.76635  \n75%     34.32086  193.60330   63.26534    3.93263  \nmax     99.72639 1264.32600  590.39220   55.89075  "
     },
     "execution_count": 121,
     "metadata": {},
     "output_type": "execute_result"
    }
   ],
   "source": [
    "new_df.describe()"
   ]
  },
  {
   "cell_type": "code",
   "execution_count": 59,
   "metadata": {},
   "outputs": [],
   "source": [
    "#https://www.ncbi.nlm.nih.gov/books/NBK56068/table/summarytables.t4/?report=objectonly\n",
    "#https://www.ncbi.nlm.nih.gov/books/NBK56068/table/summarytables.t1/?report=objectonly\n",
    "#https://www.ncbi.nlm.nih.gov/books/NBK56068/table/summarytables.t5/?report=objectonly\n",
    "#männer alter 31 - 50 pro tag geteil durch 3 mahlzeiten\n",
    "\n",
    "recommenden_nut_low_fat = pd.DataFrame(data=None, columns=nutrition_db2.columns, index=None)\n",
    "\n",
    "\n",
    "recommenden_nut_low_fat.loc['index'] = [\n",
    "    # \"Calcium\":[1],\n",
    "    266.67,\n",
    "    # \"Calories\":[1],\n",
    "    500,\n",
    "    # \"Calories from Fat\":[1],\n",
    "    0,\n",
    "    # \"Carbohydrates\":[1],\n",
    "    43.33,\n",
    "    # \"Cholesterol\":[1],\n",
    "    0,\n",
    "    # \"Dietary Fiber\t\":[1],\n",
    "    12.67,\n",
    "    # \"Fat\":[1],16.67,\n",
    "    10,\n",
    "    # \"Folate\":[1],\n",
    "    106.67, \n",
    "    # \"Iron\":[1],\n",
    "    2,\n",
    "    # \"Magnesium\":[1],\n",
    "    116.67, \n",
    "    # \"Niacin Equivalents\":[1],\n",
    "    4,\n",
    "    # \"Potassium\":[1],\n",
    "    1,\n",
    "    # \"Protein\":[1],\n",
    "    18.6,\n",
    "    # \"Saturated Fat\":[1],\n",
    "    1,\n",
    "    # \"Sodium\":[1],\n",
    "    0.5,\n",
    "    # \"Sugars\":[1],\n",
    "    1,\n",
    "    # \"Thiamin\":[1],\n",
    "    0.3, \n",
    "    # \"Vitamin A - IU\":[1],\n",
    "    208, \n",
    "    # \"Vitamin B6\":[1],\n",
    "    0.36, \n",
    "    # \"Vitamin C\":[1]}\n",
    "    25] "
   ]
  },
  {
   "cell_type": "code",
   "execution_count": 60,
   "metadata": {},
   "outputs": [],
   "source": [
    "no_weight = [\n",
    "    # \"Calcium\":[1],\n",
    "    1,\n",
    "    # \"Calories\":[1],\n",
    "    1,\n",
    "    # \"Calories from Fat\":[1],\n",
    "    1,\n",
    "    # \"Carbohydrates\":[1],\n",
    "    1,\n",
    "    # \"Cholesterol\":[1],\n",
    "    1,\n",
    "    # \"Dietary Fiber\t\":[1],\n",
    "    1,\n",
    "    # \"Fat\":[1],\n",
    "    1,\n",
    "    # \"Folate\":[1],\n",
    "    1,\n",
    "    # \"Iron\":[1],\n",
    "    1,\n",
    "    # \"Magnesium\":[1],\n",
    "    1,\n",
    "    # \"Niacin Equivalents\":[1],\n",
    "    1,\n",
    "    # \"Potassium\":[1],\n",
    "    1,\n",
    "    # \"Protein\":[1],\n",
    "    1,\n",
    "    # \"Saturated Fat\":[1],\n",
    "    1,\n",
    "    # \"Sodium\":[1],\n",
    "    1,\n",
    "    # \"Sugars\":[1],\n",
    "    1,\n",
    "    # \"Thiamin\":[1],\n",
    "    1,\n",
    "    # \"Vitamin A - IU\":[1],\n",
    "    1,\n",
    "    # \"Vitamin B6\":[1],\n",
    "    1,\n",
    "    # \"Vitamin C\":[1]}\n",
    "    1]\n",
    "\n",
    "weighted_fat = [\n",
    "    # \"Calcium\":[1],\n",
    "    1000,\n",
    "    # \"Calories\":[1],\n",
    "    1,\n",
    "    # \"Calories from Fat\":[1],\n",
    "    1,\n",
    "    # \"Carbohydrates\":[1],\n",
    "    1,\n",
    "    # \"Cholesterol\":[1],\n",
    "    1,\n",
    "    # \"Dietary Fiber\t\":[1],\n",
    "    1,\n",
    "    # \"Fat\":[1],\n",
    "    100000,\n",
    "    # \"Folate\":[1],\n",
    "    1,\n",
    "    # \"Iron\":[1],\n",
    "    1,\n",
    "    # \"Magnesium\":[1],\n",
    "    100,\n",
    "    # \"Niacin Equivalents\":[1],\n",
    "    1,\n",
    "    # \"Potassium\":[1],\n",
    "    1,\n",
    "    # \"Protein\":[1],\n",
    "    1,\n",
    "    # \"Saturated Fat\":[1],\n",
    "    1,\n",
    "    # \"Sodium\":[1],\n",
    "    1,\n",
    "    # \"Sugars\":[1],\n",
    "    1,\n",
    "    # \"Thiamin\":[1],\n",
    "    1,\n",
    "    # \"Vitamin A - IU\":[1],\n",
    "    1,\n",
    "    # \"Vitamin B6\":[1],\n",
    "    1,\n",
    "    # \"Vitamin C\":[1]}\n",
    "    1]\n",
    "\n",
    "weighted_carbs = [\n",
    "    # \"Calcium\":[1],\n",
    "    1,\n",
    "    # \"Calories\":[1],\n",
    "    1,\n",
    "    # \"Calories from Fat\":[1],\n",
    "    1,\n",
    "    # \"Carbohydrates\":[1],\n",
    "    1000000,\n",
    "    # \"Cholesterol\":[1],\n",
    "    1,\n",
    "    # \"Dietary Fiber\t\":[1],\n",
    "    1,\n",
    "    # \"Fat\":[1],\n",
    "    1,\n",
    "    # \"Folate\":[1],\n",
    "    1,\n",
    "    # \"Iron\":[1],\n",
    "    1,\n",
    "    # \"Magnesium\":[1],\n",
    "    1,\n",
    "    # \"Niacin Equivalents\":[1],\n",
    "    1,\n",
    "    # \"Potassium\":[1],\n",
    "    1,\n",
    "    # \"Protein\":[1],\n",
    "    1,\n",
    "    # \"Saturated Fat\":[1],\n",
    "    1,\n",
    "    # \"Sodium\":[1],\n",
    "    1,\n",
    "    # \"Sugars\":[1],\n",
    "    1,\n",
    "    # \"Thiamin\":[1],\n",
    "    1,\n",
    "    # \"Vitamin A - IU\":[1],\n",
    "    1,\n",
    "    # \"Vitamin B6\":[1],\n",
    "    1,\n",
    "    # \"Vitamin C\":[1]}\n",
    "    1]"
   ]
  },
  {
   "cell_type": "code",
   "execution_count": 61,
   "metadata": {},
   "outputs": [],
   "source": [
    "result_w_filter_fat_100_vector = result_w_filter_vector_10_fat[0:100].copy()\n",
    "result_w_filter_fat_100_vector['pos'] = np.arange(len(result_w_filter_fat_100_vector))\n",
    "result_w_filter_fat_100_vector = result_w_filter_fat_100_vector.reset_index()\n",
    "result_w_filter_fat_100_vector = result_w_filter_fat_100_vector.set_index('index')"
   ]
  },
  {
   "cell_type": "code",
   "execution_count": 62,
   "metadata": {},
   "outputs": [],
   "source": [
    "result_w_filter_fat_100 = result_w_filter_10_fat[0:100].copy()\n",
    "result_w_filter_fat_100['pos'] = np.arange(len(result_w_filter_fat_100))\n",
    "result_w_filter_fat_100 = result_w_filter_fat_100.reset_index()\n",
    "result_w_filter_fat_100 = result_w_filter_fat_100.set_index('index')"
   ]
  },
  {
   "cell_type": "code",
   "execution_count": 63,
   "metadata": {},
   "outputs": [],
   "source": [
    "#  ------ Erstellung und cleansing des Nutrition Dataframes\n",
    "\n",
    "# erstelle neue liste auf basis der bereits gefilterten rezepte aus ingredients_filt\n",
    "id_overlap_mask = nutritions['id'].isin(result_w_filter_fat_100.index.to_numpy())\n",
    "\n",
    "# erstelle datenframe auf basis der overlapliste\n",
    "nutritions_filt = nutritions.loc[id_overlap_mask]\n",
    "\n",
    "nutrition_fat_naiv = nutritions_filt.pivot_table(\n",
    "    index=['id'],\n",
    "    columns=['name'],\n",
    "    values=['amount'],\n",
    ").reset_index()\n",
    "\n",
    "nutrition_fat_naiv.set_index('id', inplace=True)\n",
    "\n",
    "# remove multiindex 'amount'\n",
    "nutrition_fat_naiv.columns = nutrition_fat_naiv.columns.droplevel(0)\n",
    "\n",
    "# entferne alle NA\n",
    "nutrition_fat_naiv = nutrition_fat_naiv.dropna()"
   ]
  },
  {
   "cell_type": "code",
   "execution_count": 64,
   "metadata": {},
   "outputs": [
    {
     "data": {
      "text/html": "<div>\n<style scoped>\n    .dataframe tbody tr th:only-of-type {\n        vertical-align: middle;\n    }\n\n    .dataframe tbody tr th {\n        vertical-align: top;\n    }\n\n    .dataframe thead th {\n        text-align: right;\n    }\n</style>\n<table border=\"1\" class=\"dataframe\">\n  <thead>\n    <tr style=\"text-align: right;\">\n      <th></th>\n      <th>euclid_distance_sum</th>\n    </tr>\n  </thead>\n  <tbody>\n    <tr>\n      <td>222635</td>\n      <td>2656.70711</td>\n    </tr>\n    <tr>\n      <td>235323</td>\n      <td>2963.70113</td>\n    </tr>\n    <tr>\n      <td>18442</td>\n      <td>3126.81472</td>\n    </tr>\n    <tr>\n      <td>218720</td>\n      <td>3205.85598</td>\n    </tr>\n    <tr>\n      <td>73964</td>\n      <td>3654.74357</td>\n    </tr>\n    <tr>\n      <td>84745</td>\n      <td>3763.03571</td>\n    </tr>\n    <tr>\n      <td>77758</td>\n      <td>4299.11754</td>\n    </tr>\n    <tr>\n      <td>64893</td>\n      <td>4542.86674</td>\n    </tr>\n    <tr>\n      <td>34361</td>\n      <td>4911.82372</td>\n    </tr>\n    <tr>\n      <td>14687</td>\n      <td>4928.41506</td>\n    </tr>\n  </tbody>\n</table>\n</div>",
      "text/plain": "        euclid_distance_sum\n222635           2656.70711\n235323           2963.70113\n18442            3126.81472\n218720           3205.85598\n73964            3654.74357\n84745            3763.03571\n77758            4299.11754\n64893            4542.86674\n34361            4911.82372\n14687            4928.41506"
     },
     "execution_count": 64,
     "metadata": {},
     "output_type": "execute_result"
    }
   ],
   "source": [
    "# euklidische distanz für nährwerte\n",
    "\n",
    "result_array = cdist(recommenden_nut_low_fat, nutrition_fat_naiv, 'minkowski', p=2, w=weighted_fat)\n",
    "euclid_distance = pd.DataFrame(\n",
    "    result_array, columns=nutrition_fat_naiv.index.values, index=recommenden_nut_low_fat.index.values)\n",
    "\n",
    "euclid_distance_sum_fat_naiv = pd.DataFrame(euclid_distance.sum(), columns=['euclid_distance_sum'])\n",
    "euclid_distance_sum_fat_naiv = euclid_distance_sum_fat_naiv.sort_values(by='euclid_distance_sum')\n",
    "euclid_distance_sum_fat_naiv[0:10]"
   ]
  },
  {
   "cell_type": "code",
   "execution_count": 65,
   "metadata": {},
   "outputs": [],
   "source": [
    "jaccard_euclid_joined_fat_naiv = pd.merge(euclid_distance_sum_fat_naiv, result_w_filter_fat_100, left_index=True, right_index=True)"
   ]
  },
  {
   "cell_type": "code",
   "execution_count": 66,
   "metadata": {},
   "outputs": [
    {
     "data": {
      "text/html": "<div>\n<style scoped>\n    .dataframe tbody tr th:only-of-type {\n        vertical-align: middle;\n    }\n\n    .dataframe tbody tr th {\n        vertical-align: top;\n    }\n\n    .dataframe thead th {\n        text-align: right;\n    }\n</style>\n<table border=\"1\" class=\"dataframe\">\n  <thead>\n    <tr style=\"text-align: right;\">\n      <th></th>\n      <th>euclid_distance_sum</th>\n      <th>jaccard_distance_sum</th>\n      <th>pos</th>\n    </tr>\n  </thead>\n  <tbody>\n    <tr>\n      <td>222635</td>\n      <td>2656.70711</td>\n      <td>0.95611</td>\n      <td>32</td>\n    </tr>\n    <tr>\n      <td>235323</td>\n      <td>2963.70113</td>\n      <td>0.95855</td>\n      <td>56</td>\n    </tr>\n    <tr>\n      <td>18442</td>\n      <td>3126.81472</td>\n      <td>0.94897</td>\n      <td>8</td>\n    </tr>\n    <tr>\n      <td>218720</td>\n      <td>3205.85598</td>\n      <td>0.95931</td>\n      <td>61</td>\n    </tr>\n    <tr>\n      <td>73964</td>\n      <td>3654.74357</td>\n      <td>0.95425</td>\n      <td>21</td>\n    </tr>\n    <tr>\n      <td>84745</td>\n      <td>3763.03571</td>\n      <td>0.96102</td>\n      <td>87</td>\n    </tr>\n    <tr>\n      <td>77758</td>\n      <td>4299.11754</td>\n      <td>0.95698</td>\n      <td>43</td>\n    </tr>\n    <tr>\n      <td>64893</td>\n      <td>4542.86674</td>\n      <td>0.95390</td>\n      <td>19</td>\n    </tr>\n    <tr>\n      <td>34361</td>\n      <td>4911.82372</td>\n      <td>0.96042</td>\n      <td>74</td>\n    </tr>\n    <tr>\n      <td>14687</td>\n      <td>4928.41506</td>\n      <td>0.96019</td>\n      <td>68</td>\n    </tr>\n  </tbody>\n</table>\n</div>",
      "text/plain": "        euclid_distance_sum  jaccard_distance_sum  pos\n222635           2656.70711               0.95611   32\n235323           2963.70113               0.95855   56\n18442            3126.81472               0.94897    8\n218720           3205.85598               0.95931   61\n73964            3654.74357               0.95425   21\n84745            3763.03571               0.96102   87\n77758            4299.11754               0.95698   43\n64893            4542.86674               0.95390   19\n34361            4911.82372               0.96042   74\n14687            4928.41506               0.96019   68"
     },
     "execution_count": 66,
     "metadata": {},
     "output_type": "execute_result"
    }
   ],
   "source": [
    "jaccard_euclid_joined_fat_naiv[0:10]"
   ]
  },
  {
   "cell_type": "code",
   "execution_count": 67,
   "metadata": {},
   "outputs": [],
   "source": [
    "#  ------ Erstellung und cleansing des Nutrition Dataframes\n",
    "\n",
    "# erstelle neue liste auf basis der bereits gefilterten rezepte aus ingredients_filt\n",
    "id_overlap_mask = nutritions['id'].isin(jaccard_euclid_joined_fat_naiv[0:10].index.to_numpy())\n",
    "\n",
    "# erstelle datenframe auf basis der overlapliste\n",
    "nutritions_filt = nutritions.loc[id_overlap_mask]\n",
    "\n",
    "nutrition_top10_fat_naiv = nutritions_filt.pivot_table(\n",
    "    index=['id'],\n",
    "    columns=['name'],\n",
    "    values=['amount'],\n",
    ").reset_index()\n",
    "\n",
    "nutrition_top10_fat_naiv.set_index('id', inplace=True)\n",
    "\n",
    "# remove multiindex 'amount'\n",
    "nutrition_top10_fat_naiv.columns = nutrition_top10_fat_naiv.columns.droplevel(0)\n",
    "\n",
    "# entferne alle NA\n",
    "nutrition_top10_fat_naiv = nutrition_top10_fat_naiv.dropna()"
   ]
  },
  {
   "cell_type": "code",
   "execution_count": 68,
   "metadata": {},
   "outputs": [
    {
     "data": {
      "text/html": "<div>\n<style scoped>\n    .dataframe tbody tr th:only-of-type {\n        vertical-align: middle;\n    }\n\n    .dataframe tbody tr th {\n        vertical-align: top;\n    }\n\n    .dataframe thead th {\n        text-align: right;\n    }\n</style>\n<table border=\"1\" class=\"dataframe\">\n  <thead>\n    <tr style=\"text-align: right;\">\n      <th>name</th>\n      <th>Calcium</th>\n      <th>Calories</th>\n      <th>Calories from Fat</th>\n      <th>Carbohydrates</th>\n      <th>Cholesterol</th>\n      <th>Dietary Fiber</th>\n      <th>Fat</th>\n      <th>Folate</th>\n      <th>Iron</th>\n      <th>Magnesium</th>\n      <th>Niacin Equivalents</th>\n      <th>Potassium</th>\n      <th>Protein</th>\n      <th>Saturated Fat</th>\n      <th>Sodium</th>\n      <th>Sugars</th>\n      <th>Thiamin</th>\n      <th>Vitamin A - IU</th>\n      <th>Vitamin B6</th>\n      <th>Vitamin C</th>\n    </tr>\n  </thead>\n  <tbody>\n    <tr>\n      <td>count</td>\n      <td>10.00000</td>\n      <td>10.00000</td>\n      <td>10.00000</td>\n      <td>10.00000</td>\n      <td>10.00000</td>\n      <td>10.00000</td>\n      <td>10.00000</td>\n      <td>10.00000</td>\n      <td>10.00000</td>\n      <td>10.00000</td>\n      <td>10.00000</td>\n      <td>10.00000</td>\n      <td>10.00000</td>\n      <td>10.00000</td>\n      <td>10.00000</td>\n      <td>10.00000</td>\n      <td>10.00000</td>\n      <td>10.00000</td>\n      <td>10.00000</td>\n      <td>10.00000</td>\n    </tr>\n    <tr>\n      <td>mean</td>\n      <td>212.15929</td>\n      <td>347.26522</td>\n      <td>140.72331</td>\n      <td>29.57564</td>\n      <td>75.88731</td>\n      <td>3.13171</td>\n      <td>15.63592</td>\n      <td>70.16376</td>\n      <td>3.28521</td>\n      <td>43.60824</td>\n      <td>9.33045</td>\n      <td>495.32276</td>\n      <td>21.98825</td>\n      <td>6.81862</td>\n      <td>726.05904</td>\n      <td>5.48924</td>\n      <td>0.26014</td>\n      <td>765.58346</td>\n      <td>0.36334</td>\n      <td>26.51701</td>\n    </tr>\n    <tr>\n      <td>std</td>\n      <td>82.36201</td>\n      <td>102.79235</td>\n      <td>25.55050</td>\n      <td>20.57749</td>\n      <td>22.26041</td>\n      <td>2.20438</td>\n      <td>2.83894</td>\n      <td>58.62786</td>\n      <td>1.81904</td>\n      <td>16.10101</td>\n      <td>3.46433</td>\n      <td>165.79725</td>\n      <td>5.96208</td>\n      <td>1.84304</td>\n      <td>269.68843</td>\n      <td>2.73489</td>\n      <td>0.18882</td>\n      <td>597.76996</td>\n      <td>0.15497</td>\n      <td>38.15255</td>\n    </tr>\n    <tr>\n      <td>min</td>\n      <td>115.45590</td>\n      <td>200.50960</td>\n      <td>96.83125</td>\n      <td>8.50724</td>\n      <td>53.31907</td>\n      <td>0.18479</td>\n      <td>10.75903</td>\n      <td>19.02514</td>\n      <td>1.61694</td>\n      <td>22.19329</td>\n      <td>6.48622</td>\n      <td>233.59590</td>\n      <td>11.25829</td>\n      <td>3.16377</td>\n      <td>135.44000</td>\n      <td>1.53699</td>\n      <td>0.06435</td>\n      <td>173.62590</td>\n      <td>0.16549</td>\n      <td>0.24869</td>\n    </tr>\n    <tr>\n      <td>25%</td>\n      <td>169.32903</td>\n      <td>321.24892</td>\n      <td>128.54217</td>\n      <td>20.18204</td>\n      <td>56.19729</td>\n      <td>2.15752</td>\n      <td>14.28247</td>\n      <td>51.08488</td>\n      <td>2.39708</td>\n      <td>31.66494</td>\n      <td>7.25196</td>\n      <td>362.11325</td>\n      <td>19.86547</td>\n      <td>6.17503</td>\n      <td>583.50835</td>\n      <td>3.21599</td>\n      <td>0.12469</td>\n      <td>519.63588</td>\n      <td>0.23250</td>\n      <td>2.78399</td>\n    </tr>\n    <tr>\n      <td>50%</td>\n      <td>189.07620</td>\n      <td>343.44495</td>\n      <td>134.31735</td>\n      <td>24.76168</td>\n      <td>71.35308</td>\n      <td>2.62511</td>\n      <td>14.92415</td>\n      <td>56.93271</td>\n      <td>3.00156</td>\n      <td>43.27683</td>\n      <td>8.76698</td>\n      <td>520.37845</td>\n      <td>21.88125</td>\n      <td>6.95089</td>\n      <td>814.45765</td>\n      <td>5.27446</td>\n      <td>0.24354</td>\n      <td>603.88525</td>\n      <td>0.36174</td>\n      <td>7.66879</td>\n    </tr>\n    <tr>\n      <td>75%</td>\n      <td>250.67625</td>\n      <td>370.21308</td>\n      <td>154.89895</td>\n      <td>28.30338</td>\n      <td>94.22309</td>\n      <td>3.53010</td>\n      <td>17.21100</td>\n      <td>64.72732</td>\n      <td>3.33173</td>\n      <td>47.02484</td>\n      <td>9.56176</td>\n      <td>624.49435</td>\n      <td>24.10793</td>\n      <td>8.07506</td>\n      <td>889.37787</td>\n      <td>7.74314</td>\n      <td>0.30506</td>\n      <td>745.44445</td>\n      <td>0.48236</td>\n      <td>28.78732</td>\n    </tr>\n    <tr>\n      <td>max</td>\n      <td>348.36540</td>\n      <td>587.87570</td>\n      <td>179.00710</td>\n      <td>75.33678</td>\n      <td>109.20330</td>\n      <td>7.99050</td>\n      <td>19.88968</td>\n      <td>232.06060</td>\n      <td>8.11861</td>\n      <td>74.57674</td>\n      <td>18.56014</td>\n      <td>707.67250</td>\n      <td>33.57063</td>\n      <td>9.21249</td>\n      <td>1034.15200</td>\n      <td>9.49131</td>\n      <td>0.71992</td>\n      <td>2207.05300</td>\n      <td>0.57304</td>\n      <td>106.70280</td>\n    </tr>\n  </tbody>\n</table>\n</div>",
      "text/plain": "name    Calcium  Calories  Calories from Fat  Carbohydrates  Cholesterol  \\\ncount  10.00000  10.00000           10.00000       10.00000     10.00000   \nmean  212.15929 347.26522          140.72331       29.57564     75.88731   \nstd    82.36201 102.79235           25.55050       20.57749     22.26041   \nmin   115.45590 200.50960           96.83125        8.50724     53.31907   \n25%   169.32903 321.24892          128.54217       20.18204     56.19729   \n50%   189.07620 343.44495          134.31735       24.76168     71.35308   \n75%   250.67625 370.21308          154.89895       28.30338     94.22309   \nmax   348.36540 587.87570          179.00710       75.33678    109.20330   \n\nname   Dietary Fiber      Fat    Folate     Iron  Magnesium  \\\ncount       10.00000 10.00000  10.00000 10.00000   10.00000   \nmean         3.13171 15.63592  70.16376  3.28521   43.60824   \nstd          2.20438  2.83894  58.62786  1.81904   16.10101   \nmin          0.18479 10.75903  19.02514  1.61694   22.19329   \n25%          2.15752 14.28247  51.08488  2.39708   31.66494   \n50%          2.62511 14.92415  56.93271  3.00156   43.27683   \n75%          3.53010 17.21100  64.72732  3.33173   47.02484   \nmax          7.99050 19.88968 232.06060  8.11861   74.57674   \n\nname   Niacin Equivalents  Potassium  Protein  Saturated Fat     Sodium  \\\ncount            10.00000   10.00000 10.00000       10.00000   10.00000   \nmean              9.33045  495.32276 21.98825        6.81862  726.05904   \nstd               3.46433  165.79725  5.96208        1.84304  269.68843   \nmin               6.48622  233.59590 11.25829        3.16377  135.44000   \n25%               7.25196  362.11325 19.86547        6.17503  583.50835   \n50%               8.76698  520.37845 21.88125        6.95089  814.45765   \n75%               9.56176  624.49435 24.10793        8.07506  889.37787   \nmax              18.56014  707.67250 33.57063        9.21249 1034.15200   \n\nname    Sugars  Thiamin  Vitamin A - IU  Vitamin B6  Vitamin C  \ncount 10.00000 10.00000        10.00000    10.00000   10.00000  \nmean   5.48924  0.26014       765.58346     0.36334   26.51701  \nstd    2.73489  0.18882       597.76996     0.15497   38.15255  \nmin    1.53699  0.06435       173.62590     0.16549    0.24869  \n25%    3.21599  0.12469       519.63588     0.23250    2.78399  \n50%    5.27446  0.24354       603.88525     0.36174    7.66879  \n75%    7.74314  0.30506       745.44445     0.48236   28.78732  \nmax    9.49131  0.71992      2207.05300     0.57304  106.70280  "
     },
     "execution_count": 68,
     "metadata": {},
     "output_type": "execute_result"
    }
   ],
   "source": [
    "nutrition_top10_fat_naiv.describe()"
   ]
  },
  {
   "cell_type": "code",
   "execution_count": 69,
   "metadata": {},
   "outputs": [
    {
     "data": {
      "text/plain": "array([ 14687,  18442,  34361,  64893,  73964,  77758,  84745, 218720,\n       222635, 235323])"
     },
     "execution_count": 69,
     "metadata": {},
     "output_type": "execute_result"
    }
   ],
   "source": [
    "nutrition_top10_fat_naiv.index.to_numpy()"
   ]
  },
  {
   "cell_type": "code",
   "execution_count": 70,
   "metadata": {},
   "outputs": [],
   "source": [
    "new_df = nutrition_top10_fat_naiv[['Calories', 'Calories from Fat', 'Carbohydrates', 'Fat', 'Saturated Fat', 'Protein', 'Calcium', 'Magnesium', 'Iron' ]]"
   ]
  },
  {
   "cell_type": "code",
   "execution_count": 71,
   "metadata": {},
   "outputs": [
    {
     "data": {
      "text/html": "<div>\n<style scoped>\n    .dataframe tbody tr th:only-of-type {\n        vertical-align: middle;\n    }\n\n    .dataframe tbody tr th {\n        vertical-align: top;\n    }\n\n    .dataframe thead th {\n        text-align: right;\n    }\n</style>\n<table border=\"1\" class=\"dataframe\">\n  <thead>\n    <tr style=\"text-align: right;\">\n      <th>name</th>\n      <th>Calories</th>\n      <th>Calories from Fat</th>\n      <th>Carbohydrates</th>\n      <th>Fat</th>\n      <th>Saturated Fat</th>\n      <th>Protein</th>\n      <th>Calcium</th>\n      <th>Magnesium</th>\n      <th>Iron</th>\n    </tr>\n  </thead>\n  <tbody>\n    <tr>\n      <td>count</td>\n      <td>10.00000</td>\n      <td>10.00000</td>\n      <td>10.00000</td>\n      <td>10.00000</td>\n      <td>10.00000</td>\n      <td>10.00000</td>\n      <td>10.00000</td>\n      <td>10.00000</td>\n      <td>10.00000</td>\n    </tr>\n    <tr>\n      <td>mean</td>\n      <td>347.26522</td>\n      <td>140.72331</td>\n      <td>29.57564</td>\n      <td>15.63592</td>\n      <td>6.81862</td>\n      <td>21.98825</td>\n      <td>212.15929</td>\n      <td>43.60824</td>\n      <td>3.28521</td>\n    </tr>\n    <tr>\n      <td>std</td>\n      <td>102.79235</td>\n      <td>25.55050</td>\n      <td>20.57749</td>\n      <td>2.83894</td>\n      <td>1.84304</td>\n      <td>5.96208</td>\n      <td>82.36201</td>\n      <td>16.10101</td>\n      <td>1.81904</td>\n    </tr>\n    <tr>\n      <td>min</td>\n      <td>200.50960</td>\n      <td>96.83125</td>\n      <td>8.50724</td>\n      <td>10.75903</td>\n      <td>3.16377</td>\n      <td>11.25829</td>\n      <td>115.45590</td>\n      <td>22.19329</td>\n      <td>1.61694</td>\n    </tr>\n    <tr>\n      <td>25%</td>\n      <td>321.24892</td>\n      <td>128.54217</td>\n      <td>20.18204</td>\n      <td>14.28247</td>\n      <td>6.17503</td>\n      <td>19.86547</td>\n      <td>169.32903</td>\n      <td>31.66494</td>\n      <td>2.39708</td>\n    </tr>\n    <tr>\n      <td>50%</td>\n      <td>343.44495</td>\n      <td>134.31735</td>\n      <td>24.76168</td>\n      <td>14.92415</td>\n      <td>6.95089</td>\n      <td>21.88125</td>\n      <td>189.07620</td>\n      <td>43.27683</td>\n      <td>3.00156</td>\n    </tr>\n    <tr>\n      <td>75%</td>\n      <td>370.21308</td>\n      <td>154.89895</td>\n      <td>28.30338</td>\n      <td>17.21100</td>\n      <td>8.07506</td>\n      <td>24.10793</td>\n      <td>250.67625</td>\n      <td>47.02484</td>\n      <td>3.33173</td>\n    </tr>\n    <tr>\n      <td>max</td>\n      <td>587.87570</td>\n      <td>179.00710</td>\n      <td>75.33678</td>\n      <td>19.88968</td>\n      <td>9.21249</td>\n      <td>33.57063</td>\n      <td>348.36540</td>\n      <td>74.57674</td>\n      <td>8.11861</td>\n    </tr>\n  </tbody>\n</table>\n</div>",
      "text/plain": "name   Calories  Calories from Fat  Carbohydrates      Fat  Saturated Fat  \\\ncount  10.00000           10.00000       10.00000 10.00000       10.00000   \nmean  347.26522          140.72331       29.57564 15.63592        6.81862   \nstd   102.79235           25.55050       20.57749  2.83894        1.84304   \nmin   200.50960           96.83125        8.50724 10.75903        3.16377   \n25%   321.24892          128.54217       20.18204 14.28247        6.17503   \n50%   343.44495          134.31735       24.76168 14.92415        6.95089   \n75%   370.21308          154.89895       28.30338 17.21100        8.07506   \nmax   587.87570          179.00710       75.33678 19.88968        9.21249   \n\nname   Protein   Calcium  Magnesium     Iron  \ncount 10.00000  10.00000   10.00000 10.00000  \nmean  21.98825 212.15929   43.60824  3.28521  \nstd    5.96208  82.36201   16.10101  1.81904  \nmin   11.25829 115.45590   22.19329  1.61694  \n25%   19.86547 169.32903   31.66494  2.39708  \n50%   21.88125 189.07620   43.27683  3.00156  \n75%   24.10793 250.67625   47.02484  3.33173  \nmax   33.57063 348.36540   74.57674  8.11861  "
     },
     "execution_count": 71,
     "metadata": {},
     "output_type": "execute_result"
    }
   ],
   "source": [
    "new_df.describe()"
   ]
  },
  {
   "cell_type": "code",
   "execution_count": null,
   "metadata": {},
   "outputs": [],
   "source": []
  },
  {
   "cell_type": "code",
   "execution_count": 72,
   "metadata": {},
   "outputs": [],
   "source": [
    "result_w_filter_fat_100_short = result_fat_short[1:101].index.to_numpy().copy()\n"
   ]
  },
  {
   "cell_type": "code",
   "execution_count": 73,
   "metadata": {},
   "outputs": [],
   "source": [
    "#  ------ Erstellung und cleansing des Nutrition Dataframes\n",
    "\n",
    "# erstelle neue liste auf basis der bereits gefilterten rezepte aus ingredients_filt\n",
    "id_overlap_mask = nutritions['id'].isin(result_fat_short[1:101].index.to_numpy())\n",
    "\n",
    "# erstelle datenframe auf basis der overlapliste\n",
    "nutritions_filt = nutritions.loc[id_overlap_mask]\n",
    "\n",
    "nutrition_fat_short = nutritions_filt.pivot_table(\n",
    "    index=['id'],\n",
    "    columns=['name'],\n",
    "    values=['amount'],\n",
    ").reset_index()\n",
    "\n",
    "nutrition_fat_short.set_index('id', inplace=True)\n",
    "\n",
    "# remove multiindex 'amount'\n",
    "nutrition_fat_short.columns = nutrition_fat_short.columns.droplevel(0)\n",
    "\n",
    "# entferne alle NA\n",
    "nutrition_fat_short = nutrition_fat_short.dropna()"
   ]
  },
  {
   "cell_type": "code",
   "execution_count": 74,
   "metadata": {},
   "outputs": [
    {
     "data": {
      "text/html": "<div>\n<style scoped>\n    .dataframe tbody tr th:only-of-type {\n        vertical-align: middle;\n    }\n\n    .dataframe tbody tr th {\n        vertical-align: top;\n    }\n\n    .dataframe thead th {\n        text-align: right;\n    }\n</style>\n<table border=\"1\" class=\"dataframe\">\n  <thead>\n    <tr style=\"text-align: right;\">\n      <th></th>\n      <th>euclid_distance_sum</th>\n    </tr>\n  </thead>\n  <tbody>\n    <tr>\n      <td>235323</td>\n      <td>2963.70113</td>\n    </tr>\n    <tr>\n      <td>18442</td>\n      <td>3126.81472</td>\n    </tr>\n    <tr>\n      <td>8965</td>\n      <td>3288.17839</td>\n    </tr>\n    <tr>\n      <td>17869</td>\n      <td>3301.38331</td>\n    </tr>\n    <tr>\n      <td>52148</td>\n      <td>3392.22542</td>\n    </tr>\n    <tr>\n      <td>73964</td>\n      <td>3654.74357</td>\n    </tr>\n    <tr>\n      <td>21297</td>\n      <td>4087.73266</td>\n    </tr>\n    <tr>\n      <td>11916</td>\n      <td>4453.50712</td>\n    </tr>\n    <tr>\n      <td>34361</td>\n      <td>4911.82372</td>\n    </tr>\n    <tr>\n      <td>14724</td>\n      <td>4969.35463</td>\n    </tr>\n  </tbody>\n</table>\n</div>",
      "text/plain": "        euclid_distance_sum\n235323           2963.70113\n18442            3126.81472\n8965             3288.17839\n17869            3301.38331\n52148            3392.22542\n73964            3654.74357\n21297            4087.73266\n11916            4453.50712\n34361            4911.82372\n14724            4969.35463"
     },
     "execution_count": 74,
     "metadata": {},
     "output_type": "execute_result"
    }
   ],
   "source": [
    "# euklidische distanz für nährwerte\n",
    "\n",
    "result_array = cdist(recommenden_nut_low_fat, nutrition_fat_short, 'minkowski', p=2, w=weighted_fat)\n",
    "euclid_distance = pd.DataFrame(\n",
    "    result_array, columns=nutrition_fat_short.index.values, index=recommenden_nut_low_fat.index.values)\n",
    "\n",
    "euclid_distance_sum_fat_short = pd.DataFrame(euclid_distance.sum(), columns=['euclid_distance_sum'])\n",
    "euclid_distance_sum_fat_short = euclid_distance_sum_fat_short.sort_values(by='euclid_distance_sum')\n",
    "euclid_distance_sum_fat_short[0:10]"
   ]
  },
  {
   "cell_type": "code",
   "execution_count": 75,
   "metadata": {},
   "outputs": [],
   "source": [
    "#  ------ Erstellung und cleansing des Nutrition Dataframes\n",
    "\n",
    "# erstelle neue liste auf basis der bereits gefilterten rezepte aus ingredients_filt\n",
    "id_overlap_mask = nutritions['id'].isin(euclid_distance_sum_fat_short[0:10].index.to_numpy())\n",
    "\n",
    "# erstelle datenframe auf basis der overlapliste\n",
    "nutritions_filt = nutritions.loc[id_overlap_mask]\n",
    "\n",
    "nutrition_top10_fat_short = nutritions_filt.pivot_table(\n",
    "    index=['id'],\n",
    "    columns=['name'],\n",
    "    values=['amount'],\n",
    ").reset_index()\n",
    "\n",
    "nutrition_top10_fat_short.set_index('id', inplace=True)\n",
    "\n",
    "# remove multiindex 'amount'\n",
    "nutrition_top10_fat_short.columns = nutrition_top10_fat_short.columns.droplevel(0)\n",
    "\n",
    "# entferne alle NA\n",
    "nutrition_top10_fat_short = nutrition_top10_fat_short.dropna()"
   ]
  },
  {
   "cell_type": "code",
   "execution_count": 76,
   "metadata": {},
   "outputs": [
    {
     "data": {
      "text/html": "<div>\n<style scoped>\n    .dataframe tbody tr th:only-of-type {\n        vertical-align: middle;\n    }\n\n    .dataframe tbody tr th {\n        vertical-align: top;\n    }\n\n    .dataframe thead th {\n        text-align: right;\n    }\n</style>\n<table border=\"1\" class=\"dataframe\">\n  <thead>\n    <tr style=\"text-align: right;\">\n      <th>name</th>\n      <th>Calcium</th>\n      <th>Calories</th>\n      <th>Calories from Fat</th>\n      <th>Carbohydrates</th>\n      <th>Cholesterol</th>\n      <th>Dietary Fiber</th>\n      <th>Fat</th>\n      <th>Folate</th>\n      <th>Iron</th>\n      <th>Magnesium</th>\n      <th>Niacin Equivalents</th>\n      <th>Potassium</th>\n      <th>Protein</th>\n      <th>Saturated Fat</th>\n      <th>Sodium</th>\n      <th>Sugars</th>\n      <th>Thiamin</th>\n      <th>Vitamin A - IU</th>\n      <th>Vitamin B6</th>\n      <th>Vitamin C</th>\n    </tr>\n  </thead>\n  <tbody>\n    <tr>\n      <td>count</td>\n      <td>10.00000</td>\n      <td>10.00000</td>\n      <td>10.00000</td>\n      <td>10.00000</td>\n      <td>10.00000</td>\n      <td>10.00000</td>\n      <td>10.00000</td>\n      <td>10.00000</td>\n      <td>10.00000</td>\n      <td>10.00000</td>\n      <td>10.00000</td>\n      <td>10.00000</td>\n      <td>10.00000</td>\n      <td>10.00000</td>\n      <td>10.00000</td>\n      <td>10.00000</td>\n      <td>10.00000</td>\n      <td>10.00000</td>\n      <td>10.00000</td>\n      <td>10.00000</td>\n    </tr>\n    <tr>\n      <td>mean</td>\n      <td>246.13638</td>\n      <td>376.53420</td>\n      <td>135.33025</td>\n      <td>34.87812</td>\n      <td>69.31935</td>\n      <td>4.13922</td>\n      <td>15.03669</td>\n      <td>99.12528</td>\n      <td>3.21327</td>\n      <td>56.35856</td>\n      <td>11.34105</td>\n      <td>617.69192</td>\n      <td>24.47273</td>\n      <td>6.29289</td>\n      <td>797.67408</td>\n      <td>6.75959</td>\n      <td>0.39576</td>\n      <td>1104.28851</td>\n      <td>0.47839</td>\n      <td>41.12230</td>\n    </tr>\n    <tr>\n      <td>std</td>\n      <td>93.92264</td>\n      <td>117.27508</td>\n      <td>27.33583</td>\n      <td>19.38038</td>\n      <td>37.53288</td>\n      <td>2.64418</td>\n      <td>3.03731</td>\n      <td>64.34844</td>\n      <td>1.02763</td>\n      <td>12.21409</td>\n      <td>5.31644</td>\n      <td>196.48770</td>\n      <td>9.16575</td>\n      <td>1.35276</td>\n      <td>273.34081</td>\n      <td>3.73947</td>\n      <td>0.35304</td>\n      <td>1035.22989</td>\n      <td>0.22483</td>\n      <td>42.60456</td>\n    </tr>\n    <tr>\n      <td>min</td>\n      <td>120.13000</td>\n      <td>236.84920</td>\n      <td>75.64122</td>\n      <td>10.26850</td>\n      <td>22.48000</td>\n      <td>0.60750</td>\n      <td>8.40458</td>\n      <td>17.74500</td>\n      <td>1.85349</td>\n      <td>39.66000</td>\n      <td>6.53378</td>\n      <td>417.78530</td>\n      <td>11.25829</td>\n      <td>4.18225</td>\n      <td>135.44000</td>\n      <td>3.40015</td>\n      <td>0.06435</td>\n      <td>90.80750</td>\n      <td>0.23307</td>\n      <td>0.06100</td>\n    </tr>\n    <tr>\n      <td>25%</td>\n      <td>176.58055</td>\n      <td>316.09415</td>\n      <td>127.64125</td>\n      <td>23.62964</td>\n      <td>55.34107</td>\n      <td>2.66736</td>\n      <td>14.18237</td>\n      <td>59.84020</td>\n      <td>2.44834</td>\n      <td>45.85537</td>\n      <td>7.18329</td>\n      <td>487.32785</td>\n      <td>19.06985</td>\n      <td>5.22905</td>\n      <td>740.28135</td>\n      <td>4.23192</td>\n      <td>0.16660</td>\n      <td>646.70830</td>\n      <td>0.31175</td>\n      <td>7.41081</td>\n    </tr>\n    <tr>\n      <td>50%</td>\n      <td>241.66255</td>\n      <td>326.81905</td>\n      <td>133.37395</td>\n      <td>31.10388</td>\n      <td>65.78500</td>\n      <td>3.58660</td>\n      <td>14.81932</td>\n      <td>79.54997</td>\n      <td>3.17201</td>\n      <td>60.56481</td>\n      <td>9.33337</td>\n      <td>563.69635</td>\n      <td>22.24039</td>\n      <td>6.67609</td>\n      <td>864.61230</td>\n      <td>5.64700</td>\n      <td>0.22840</td>\n      <td>835.20980</td>\n      <td>0.42745</td>\n      <td>24.16721</td>\n    </tr>\n    <tr>\n      <td>75%</td>\n      <td>337.26127</td>\n      <td>416.24435</td>\n      <td>152.42108</td>\n      <td>40.58051</td>\n      <td>75.97485</td>\n      <td>4.21726</td>\n      <td>16.93567</td>\n      <td>131.91579</td>\n      <td>3.56851</td>\n      <td>64.26294</td>\n      <td>13.28304</td>\n      <td>704.44560</td>\n      <td>31.09789</td>\n      <td>7.12775</td>\n      <td>981.51135</td>\n      <td>7.74314</td>\n      <td>0.60273</td>\n      <td>1068.84575</td>\n      <td>0.55425</td>\n      <td>76.63280</td>\n    </tr>\n    <tr>\n      <td>max</td>\n      <td>352.94910</td>\n      <td>649.57600</td>\n      <td>170.77750</td>\n      <td>75.25994</td>\n      <td>153.69500</td>\n      <td>9.46078</td>\n      <td>18.97528</td>\n      <td>232.06060</td>\n      <td>5.33774</td>\n      <td>74.38944</td>\n      <td>21.90084</td>\n      <td>1074.64800</td>\n      <td>40.23982</td>\n      <td>8.03736</td>\n      <td>1030.99600</td>\n      <td>15.84195</td>\n      <td>1.16597</td>\n      <td>3895.99800</td>\n      <td>0.88844</td>\n      <td>106.70280</td>\n    </tr>\n  </tbody>\n</table>\n</div>",
      "text/plain": "name    Calcium  Calories  Calories from Fat  Carbohydrates  Cholesterol  \\\ncount  10.00000  10.00000           10.00000       10.00000     10.00000   \nmean  246.13638 376.53420          135.33025       34.87812     69.31935   \nstd    93.92264 117.27508           27.33583       19.38038     37.53288   \nmin   120.13000 236.84920           75.64122       10.26850     22.48000   \n25%   176.58055 316.09415          127.64125       23.62964     55.34107   \n50%   241.66255 326.81905          133.37395       31.10388     65.78500   \n75%   337.26127 416.24435          152.42108       40.58051     75.97485   \nmax   352.94910 649.57600          170.77750       75.25994    153.69500   \n\nname   Dietary Fiber      Fat    Folate     Iron  Magnesium  \\\ncount       10.00000 10.00000  10.00000 10.00000   10.00000   \nmean         4.13922 15.03669  99.12528  3.21327   56.35856   \nstd          2.64418  3.03731  64.34844  1.02763   12.21409   \nmin          0.60750  8.40458  17.74500  1.85349   39.66000   \n25%          2.66736 14.18237  59.84020  2.44834   45.85537   \n50%          3.58660 14.81932  79.54997  3.17201   60.56481   \n75%          4.21726 16.93567 131.91579  3.56851   64.26294   \nmax          9.46078 18.97528 232.06060  5.33774   74.38944   \n\nname   Niacin Equivalents  Potassium  Protein  Saturated Fat     Sodium  \\\ncount            10.00000   10.00000 10.00000       10.00000   10.00000   \nmean             11.34105  617.69192 24.47273        6.29289  797.67408   \nstd               5.31644  196.48770  9.16575        1.35276  273.34081   \nmin               6.53378  417.78530 11.25829        4.18225  135.44000   \n25%               7.18329  487.32785 19.06985        5.22905  740.28135   \n50%               9.33337  563.69635 22.24039        6.67609  864.61230   \n75%              13.28304  704.44560 31.09789        7.12775  981.51135   \nmax              21.90084 1074.64800 40.23982        8.03736 1030.99600   \n\nname    Sugars  Thiamin  Vitamin A - IU  Vitamin B6  Vitamin C  \ncount 10.00000 10.00000        10.00000    10.00000   10.00000  \nmean   6.75959  0.39576      1104.28851     0.47839   41.12230  \nstd    3.73947  0.35304      1035.22989     0.22483   42.60456  \nmin    3.40015  0.06435        90.80750     0.23307    0.06100  \n25%    4.23192  0.16660       646.70830     0.31175    7.41081  \n50%    5.64700  0.22840       835.20980     0.42745   24.16721  \n75%    7.74314  0.60273      1068.84575     0.55425   76.63280  \nmax   15.84195  1.16597      3895.99800     0.88844  106.70280  "
     },
     "execution_count": 76,
     "metadata": {},
     "output_type": "execute_result"
    }
   ],
   "source": [
    "nutrition_top10_fat_short.describe()"
   ]
  },
  {
   "cell_type": "code",
   "execution_count": 77,
   "metadata": {},
   "outputs": [
    {
     "data": {
      "text/plain": "array([  8965,  11916,  14724,  17869,  18442,  21297,  34361,  52148,\n        73964, 235323])"
     },
     "execution_count": 77,
     "metadata": {},
     "output_type": "execute_result"
    }
   ],
   "source": [
    "nutrition_top10_fat_short.index.to_numpy()"
   ]
  },
  {
   "cell_type": "code",
   "execution_count": 106,
   "metadata": {},
   "outputs": [],
   "source": [
    "new_df = nutrition_top10_fat_short[['Calories', 'Calories from Fat', 'Carbohydrates', 'Fat', 'Saturated Fat', 'Protein', 'Calcium', 'Magnesium', 'Iron' ]]"
   ]
  },
  {
   "cell_type": "code",
   "execution_count": 107,
   "metadata": {},
   "outputs": [
    {
     "data": {
      "text/html": "<div>\n<style scoped>\n    .dataframe tbody tr th:only-of-type {\n        vertical-align: middle;\n    }\n\n    .dataframe tbody tr th {\n        vertical-align: top;\n    }\n\n    .dataframe thead th {\n        text-align: right;\n    }\n</style>\n<table border=\"1\" class=\"dataframe\">\n  <thead>\n    <tr style=\"text-align: right;\">\n      <th>name</th>\n      <th>Calories</th>\n      <th>Calories from Fat</th>\n      <th>Carbohydrates</th>\n      <th>Fat</th>\n      <th>Saturated Fat</th>\n      <th>Protein</th>\n      <th>Calcium</th>\n      <th>Magnesium</th>\n      <th>Iron</th>\n    </tr>\n  </thead>\n  <tbody>\n    <tr>\n      <td>count</td>\n      <td>10.00000</td>\n      <td>10.00000</td>\n      <td>10.00000</td>\n      <td>10.00000</td>\n      <td>10.00000</td>\n      <td>10.00000</td>\n      <td>10.00000</td>\n      <td>10.00000</td>\n      <td>10.00000</td>\n    </tr>\n    <tr>\n      <td>mean</td>\n      <td>376.53420</td>\n      <td>135.33025</td>\n      <td>34.87812</td>\n      <td>15.03669</td>\n      <td>6.29289</td>\n      <td>24.47273</td>\n      <td>246.13638</td>\n      <td>56.35856</td>\n      <td>3.21327</td>\n    </tr>\n    <tr>\n      <td>std</td>\n      <td>117.27508</td>\n      <td>27.33583</td>\n      <td>19.38038</td>\n      <td>3.03731</td>\n      <td>1.35276</td>\n      <td>9.16575</td>\n      <td>93.92264</td>\n      <td>12.21409</td>\n      <td>1.02763</td>\n    </tr>\n    <tr>\n      <td>min</td>\n      <td>236.84920</td>\n      <td>75.64122</td>\n      <td>10.26850</td>\n      <td>8.40458</td>\n      <td>4.18225</td>\n      <td>11.25829</td>\n      <td>120.13000</td>\n      <td>39.66000</td>\n      <td>1.85349</td>\n    </tr>\n    <tr>\n      <td>25%</td>\n      <td>316.09415</td>\n      <td>127.64125</td>\n      <td>23.62964</td>\n      <td>14.18237</td>\n      <td>5.22905</td>\n      <td>19.06985</td>\n      <td>176.58055</td>\n      <td>45.85537</td>\n      <td>2.44834</td>\n    </tr>\n    <tr>\n      <td>50%</td>\n      <td>326.81905</td>\n      <td>133.37395</td>\n      <td>31.10388</td>\n      <td>14.81932</td>\n      <td>6.67609</td>\n      <td>22.24039</td>\n      <td>241.66255</td>\n      <td>60.56481</td>\n      <td>3.17201</td>\n    </tr>\n    <tr>\n      <td>75%</td>\n      <td>416.24435</td>\n      <td>152.42108</td>\n      <td>40.58051</td>\n      <td>16.93567</td>\n      <td>7.12775</td>\n      <td>31.09789</td>\n      <td>337.26127</td>\n      <td>64.26294</td>\n      <td>3.56851</td>\n    </tr>\n    <tr>\n      <td>max</td>\n      <td>649.57600</td>\n      <td>170.77750</td>\n      <td>75.25994</td>\n      <td>18.97528</td>\n      <td>8.03736</td>\n      <td>40.23982</td>\n      <td>352.94910</td>\n      <td>74.38944</td>\n      <td>5.33774</td>\n    </tr>\n  </tbody>\n</table>\n</div>",
      "text/plain": "name   Calories  Calories from Fat  Carbohydrates      Fat  Saturated Fat  \\\ncount  10.00000           10.00000       10.00000 10.00000       10.00000   \nmean  376.53420          135.33025       34.87812 15.03669        6.29289   \nstd   117.27508           27.33583       19.38038  3.03731        1.35276   \nmin   236.84920           75.64122       10.26850  8.40458        4.18225   \n25%   316.09415          127.64125       23.62964 14.18237        5.22905   \n50%   326.81905          133.37395       31.10388 14.81932        6.67609   \n75%   416.24435          152.42108       40.58051 16.93567        7.12775   \nmax   649.57600          170.77750       75.25994 18.97528        8.03736   \n\nname   Protein   Calcium  Magnesium     Iron  \ncount 10.00000  10.00000   10.00000 10.00000  \nmean  24.47273 246.13638   56.35856  3.21327  \nstd    9.16575  93.92264   12.21409  1.02763  \nmin   11.25829 120.13000   39.66000  1.85349  \n25%   19.06985 176.58055   45.85537  2.44834  \n50%   22.24039 241.66255   60.56481  3.17201  \n75%   31.09789 337.26127   64.26294  3.56851  \nmax   40.23982 352.94910   74.38944  5.33774  "
     },
     "execution_count": 107,
     "metadata": {},
     "output_type": "execute_result"
    }
   ],
   "source": [
    "new_df.describe()"
   ]
  },
  {
   "cell_type": "code",
   "execution_count": null,
   "metadata": {},
   "outputs": [],
   "source": []
  },
  {
   "cell_type": "code",
   "execution_count": null,
   "metadata": {},
   "outputs": [],
   "source": []
  },
  {
   "cell_type": "code",
   "execution_count": 78,
   "metadata": {},
   "outputs": [],
   "source": [
    "result_w_filter_fat_100_vector = result_w_filter_vector_10_fat[0:100].copy()\n",
    "result_w_filter_fat_100_vector['pos'] = np.arange(len(result_w_filter_fat_100_vector))\n",
    "result_w_filter_fat_100_vector = result_w_filter_fat_100_vector.reset_index()\n",
    "result_w_filter_fat_100_vector = result_w_filter_fat_100_vector.set_index('index')"
   ]
  },
  {
   "cell_type": "code",
   "execution_count": 79,
   "metadata": {},
   "outputs": [],
   "source": [
    "#  ------ Erstellung und cleansing des Nutrition Dataframes\n",
    "\n",
    "# erstelle neue liste auf basis der bereits gefilterten rezepte aus ingredients_filt\n",
    "id_overlap_mask = nutritions['id'].isin(result_w_filter_fat_100_vector.index.to_numpy())\n",
    "\n",
    "# erstelle datenframe auf basis der overlapliste\n",
    "nutritions_filt = nutritions.loc[id_overlap_mask]\n",
    "\n",
    "nutrition_fat_vector = nutritions_filt.pivot_table(\n",
    "    index=['id'],\n",
    "    columns=['name'],\n",
    "    values=['amount'],\n",
    ").reset_index()\n",
    "\n",
    "nutrition_fat_vector.set_index('id', inplace=True)\n",
    "\n",
    "# remove multiindex 'amount'\n",
    "nutrition_fat_vector.columns = nutrition_fat_vector.columns.droplevel(0)\n",
    "\n",
    "# entferne alle NA\n",
    "nutrition_fat_vector = nutrition_fat_vector.dropna()"
   ]
  },
  {
   "cell_type": "code",
   "execution_count": 80,
   "metadata": {},
   "outputs": [
    {
     "data": {
      "text/html": "<div>\n<style scoped>\n    .dataframe tbody tr th:only-of-type {\n        vertical-align: middle;\n    }\n\n    .dataframe tbody tr th {\n        vertical-align: top;\n    }\n\n    .dataframe thead th {\n        text-align: right;\n    }\n</style>\n<table border=\"1\" class=\"dataframe\">\n  <thead>\n    <tr style=\"text-align: right;\">\n      <th></th>\n      <th>euclid_distance_sum</th>\n    </tr>\n  </thead>\n  <tbody>\n    <tr>\n      <td>222635</td>\n      <td>2656.70711</td>\n    </tr>\n    <tr>\n      <td>22751</td>\n      <td>2884.62922</td>\n    </tr>\n    <tr>\n      <td>218720</td>\n      <td>3205.85598</td>\n    </tr>\n    <tr>\n      <td>73964</td>\n      <td>3654.74357</td>\n    </tr>\n    <tr>\n      <td>47764</td>\n      <td>3694.71307</td>\n    </tr>\n    <tr>\n      <td>125646</td>\n      <td>3990.04083</td>\n    </tr>\n    <tr>\n      <td>51850</td>\n      <td>4309.87153</td>\n    </tr>\n    <tr>\n      <td>213108</td>\n      <td>4646.40433</td>\n    </tr>\n    <tr>\n      <td>213742</td>\n      <td>4690.02647</td>\n    </tr>\n    <tr>\n      <td>86515</td>\n      <td>4755.09357</td>\n    </tr>\n  </tbody>\n</table>\n</div>",
      "text/plain": "        euclid_distance_sum\n222635           2656.70711\n22751            2884.62922\n218720           3205.85598\n73964            3654.74357\n47764            3694.71307\n125646           3990.04083\n51850            4309.87153\n213108           4646.40433\n213742           4690.02647\n86515            4755.09357"
     },
     "execution_count": 80,
     "metadata": {},
     "output_type": "execute_result"
    }
   ],
   "source": [
    "# euklidische distanz für nährwerte\n",
    "\n",
    "result_array = cdist(recommenden_nut_low_fat, nutrition_fat_vector, 'minkowski', p=2, w=weighted_fat)\n",
    "euclid_distance = pd.DataFrame(\n",
    "    result_array, columns=nutrition_fat_vector.index.values, index=recommenden_nut_low_fat.index.values)\n",
    "\n",
    "euclid_distance_sum_fat_vector = pd.DataFrame(euclid_distance.sum(), columns=['euclid_distance_sum'])\n",
    "euclid_distance_sum_fat_vector = euclid_distance_sum_fat_vector.sort_values(by='euclid_distance_sum')\n",
    "euclid_distance_sum_fat_vector[0:10]"
   ]
  },
  {
   "cell_type": "code",
   "execution_count": 81,
   "metadata": {},
   "outputs": [],
   "source": [
    "#  ------ Erstellung und cleansing des Nutrition Dataframes\n",
    "\n",
    "# erstelle neue liste auf basis der bereits gefilterten rezepte aus ingredients_filt\n",
    "id_overlap_mask = nutritions['id'].isin(euclid_distance_sum_fat_vector[0:10].index.to_numpy())\n",
    "\n",
    "# erstelle datenframe auf basis der overlapliste\n",
    "nutritions_filt = nutritions.loc[id_overlap_mask]\n",
    "\n",
    "nutrition_top10_fat_vector = nutritions_filt.pivot_table(\n",
    "    index=['id'],\n",
    "    columns=['name'],\n",
    "    values=['amount'],\n",
    ").reset_index()\n",
    "\n",
    "nutrition_top10_fat_vector.set_index('id', inplace=True)\n",
    "\n",
    "# remove multiindex 'amount'\n",
    "nutrition_top10_fat_vector.columns = nutrition_top10_fat_vector.columns.droplevel(0)\n",
    "\n",
    "# entferne alle NA\n",
    "nutrition_top10_fat_vector = nutrition_top10_fat_vector.dropna()"
   ]
  },
  {
   "cell_type": "code",
   "execution_count": 82,
   "metadata": {},
   "outputs": [
    {
     "data": {
      "text/html": "<div>\n<style scoped>\n    .dataframe tbody tr th:only-of-type {\n        vertical-align: middle;\n    }\n\n    .dataframe tbody tr th {\n        vertical-align: top;\n    }\n\n    .dataframe thead th {\n        text-align: right;\n    }\n</style>\n<table border=\"1\" class=\"dataframe\">\n  <thead>\n    <tr style=\"text-align: right;\">\n      <th>name</th>\n      <th>Calcium</th>\n      <th>Calories</th>\n      <th>Calories from Fat</th>\n      <th>Carbohydrates</th>\n      <th>Cholesterol</th>\n      <th>Dietary Fiber</th>\n      <th>Fat</th>\n      <th>Folate</th>\n      <th>Iron</th>\n      <th>Magnesium</th>\n      <th>Niacin Equivalents</th>\n      <th>Potassium</th>\n      <th>Protein</th>\n      <th>Saturated Fat</th>\n      <th>Sodium</th>\n      <th>Sugars</th>\n      <th>Thiamin</th>\n      <th>Vitamin A - IU</th>\n      <th>Vitamin B6</th>\n      <th>Vitamin C</th>\n    </tr>\n  </thead>\n  <tbody>\n    <tr>\n      <td>count</td>\n      <td>10.00000</td>\n      <td>10.00000</td>\n      <td>10.00000</td>\n      <td>10.00000</td>\n      <td>10.00000</td>\n      <td>10.00000</td>\n      <td>10.00000</td>\n      <td>10.00000</td>\n      <td>10.00000</td>\n      <td>10.00000</td>\n      <td>10.00000</td>\n      <td>10.00000</td>\n      <td>10.00000</td>\n      <td>10.00000</td>\n      <td>10.00000</td>\n      <td>10.00000</td>\n      <td>10.00000</td>\n      <td>10.00000</td>\n      <td>10.00000</td>\n      <td>10.00000</td>\n    </tr>\n    <tr>\n      <td>mean</td>\n      <td>220.52175</td>\n      <td>331.05631</td>\n      <td>132.62326</td>\n      <td>28.41211</td>\n      <td>63.10973</td>\n      <td>3.76223</td>\n      <td>14.73592</td>\n      <td>77.04844</td>\n      <td>3.38780</td>\n      <td>53.94445</td>\n      <td>8.25789</td>\n      <td>551.85010</td>\n      <td>21.78478</td>\n      <td>6.02939</td>\n      <td>635.90571</td>\n      <td>5.13299</td>\n      <td>0.23259</td>\n      <td>1543.57442</td>\n      <td>0.37947</td>\n      <td>27.14741</td>\n    </tr>\n    <tr>\n      <td>std</td>\n      <td>74.32726</td>\n      <td>59.43686</td>\n      <td>39.81566</td>\n      <td>15.33014</td>\n      <td>30.57142</td>\n      <td>2.63906</td>\n      <td>4.42396</td>\n      <td>38.64705</td>\n      <td>1.24772</td>\n      <td>21.86293</td>\n      <td>1.51348</td>\n      <td>147.38850</td>\n      <td>5.28264</td>\n      <td>2.71222</td>\n      <td>234.36754</td>\n      <td>2.16354</td>\n      <td>0.10820</td>\n      <td>1142.29737</td>\n      <td>0.11479</td>\n      <td>21.30309</td>\n    </tr>\n    <tr>\n      <td>min</td>\n      <td>141.86220</td>\n      <td>225.31940</td>\n      <td>69.70808</td>\n      <td>10.26850</td>\n      <td>13.12500</td>\n      <td>1.54934</td>\n      <td>7.74534</td>\n      <td>30.26573</td>\n      <td>2.27139</td>\n      <td>26.74829</td>\n      <td>6.38666</td>\n      <td>233.59590</td>\n      <td>13.60084</td>\n      <td>1.43604</td>\n      <td>251.82900</td>\n      <td>1.75411</td>\n      <td>0.09686</td>\n      <td>390.79160</td>\n      <td>0.17184</td>\n      <td>3.56750</td>\n    </tr>\n    <tr>\n      <td>25%</td>\n      <td>157.40613</td>\n      <td>322.22235</td>\n      <td>106.55367</td>\n      <td>16.85230</td>\n      <td>54.67246</td>\n      <td>2.15752</td>\n      <td>11.83929</td>\n      <td>51.66255</td>\n      <td>2.76399</td>\n      <td>45.23232</td>\n      <td>7.25584</td>\n      <td>502.05890</td>\n      <td>19.92655</td>\n      <td>4.59974</td>\n      <td>523.47958</td>\n      <td>3.64864</td>\n      <td>0.16514</td>\n      <td>657.50013</td>\n      <td>0.32859</td>\n      <td>6.43829</td>\n    </tr>\n    <tr>\n      <td>50%</td>\n      <td>205.82620</td>\n      <td>342.15345</td>\n      <td>133.92645</td>\n      <td>27.30739</td>\n      <td>69.31846</td>\n      <td>2.71036</td>\n      <td>14.88071</td>\n      <td>68.84002</td>\n      <td>3.00156</td>\n      <td>48.58591</td>\n      <td>7.63795</td>\n      <td>532.84835</td>\n      <td>22.02222</td>\n      <td>6.31056</td>\n      <td>623.14290</td>\n      <td>5.27446</td>\n      <td>0.22213</td>\n      <td>1021.45430</td>\n      <td>0.38966</td>\n      <td>32.34010</td>\n    </tr>\n    <tr>\n      <td>75%</td>\n      <td>264.83247</td>\n      <td>374.03538</td>\n      <td>155.57768</td>\n      <td>30.44074</td>\n      <td>75.77294</td>\n      <td>4.60132</td>\n      <td>17.28641</td>\n      <td>102.38766</td>\n      <td>3.52882</td>\n      <td>57.63681</td>\n      <td>9.00264</td>\n      <td>667.16242</td>\n      <td>24.22196</td>\n      <td>8.07046</td>\n      <td>834.67255</td>\n      <td>6.97998</td>\n      <td>0.28556</td>\n      <td>2611.80250</td>\n      <td>0.47795</td>\n      <td>39.11250</td>\n    </tr>\n    <tr>\n      <td>max</td>\n      <td>348.36540</td>\n      <td>406.00630</td>\n      <td>193.96690</td>\n      <td>54.42183</td>\n      <td>109.20330</td>\n      <td>10.10235</td>\n      <td>21.55188</td>\n      <td>155.88120</td>\n      <td>6.70979</td>\n      <td>110.13140</td>\n      <td>11.35271</td>\n      <td>742.50300</td>\n      <td>31.03836</td>\n      <td>9.54182</td>\n      <td>939.88530</td>\n      <td>7.85019</td>\n      <td>0.40852</td>\n      <td>3368.70700</td>\n      <td>0.49912</td>\n      <td>68.26264</td>\n    </tr>\n  </tbody>\n</table>\n</div>",
      "text/plain": "name    Calcium  Calories  Calories from Fat  Carbohydrates  Cholesterol  \\\ncount  10.00000  10.00000           10.00000       10.00000     10.00000   \nmean  220.52175 331.05631          132.62326       28.41211     63.10973   \nstd    74.32726  59.43686           39.81566       15.33014     30.57142   \nmin   141.86220 225.31940           69.70808       10.26850     13.12500   \n25%   157.40613 322.22235          106.55367       16.85230     54.67246   \n50%   205.82620 342.15345          133.92645       27.30739     69.31846   \n75%   264.83247 374.03538          155.57768       30.44074     75.77294   \nmax   348.36540 406.00630          193.96690       54.42183    109.20330   \n\nname   Dietary Fiber      Fat    Folate     Iron  Magnesium  \\\ncount       10.00000 10.00000  10.00000 10.00000   10.00000   \nmean         3.76223 14.73592  77.04844  3.38780   53.94445   \nstd          2.63906  4.42396  38.64705  1.24772   21.86293   \nmin          1.54934  7.74534  30.26573  2.27139   26.74829   \n25%          2.15752 11.83929  51.66255  2.76399   45.23232   \n50%          2.71036 14.88071  68.84002  3.00156   48.58591   \n75%          4.60132 17.28641 102.38766  3.52882   57.63681   \nmax         10.10235 21.55188 155.88120  6.70979  110.13140   \n\nname   Niacin Equivalents  Potassium  Protein  Saturated Fat    Sodium  \\\ncount            10.00000   10.00000 10.00000       10.00000  10.00000   \nmean              8.25789  551.85010 21.78478        6.02939 635.90571   \nstd               1.51348  147.38850  5.28264        2.71222 234.36754   \nmin               6.38666  233.59590 13.60084        1.43604 251.82900   \n25%               7.25584  502.05890 19.92655        4.59974 523.47958   \n50%               7.63795  532.84835 22.02222        6.31056 623.14290   \n75%               9.00264  667.16242 24.22196        8.07046 834.67255   \nmax              11.35271  742.50300 31.03836        9.54182 939.88530   \n\nname    Sugars  Thiamin  Vitamin A - IU  Vitamin B6  Vitamin C  \ncount 10.00000 10.00000        10.00000    10.00000   10.00000  \nmean   5.13299  0.23259      1543.57442     0.37947   27.14741  \nstd    2.16354  0.10820      1142.29737     0.11479   21.30309  \nmin    1.75411  0.09686       390.79160     0.17184    3.56750  \n25%    3.64864  0.16514       657.50013     0.32859    6.43829  \n50%    5.27446  0.22213      1021.45430     0.38966   32.34010  \n75%    6.97998  0.28556      2611.80250     0.47795   39.11250  \nmax    7.85019  0.40852      3368.70700     0.49912   68.26264  "
     },
     "execution_count": 82,
     "metadata": {},
     "output_type": "execute_result"
    }
   ],
   "source": [
    "nutrition_top10_fat_vector.describe()"
   ]
  },
  {
   "cell_type": "code",
   "execution_count": 83,
   "metadata": {},
   "outputs": [
    {
     "data": {
      "text/plain": "array([ 22751,  47764,  51850,  73964,  86515, 125646, 213108, 213742,\n       218720, 222635])"
     },
     "execution_count": 83,
     "metadata": {},
     "output_type": "execute_result"
    }
   ],
   "source": [
    "nutrition_top10_fat_vector.index.to_numpy()"
   ]
  },
  {
   "cell_type": "code",
   "execution_count": 108,
   "metadata": {},
   "outputs": [],
   "source": [
    "new_df = nutrition_top10_fat_vector[['Calories', 'Calories from Fat', 'Carbohydrates', 'Fat', 'Saturated Fat', 'Protein', 'Calcium', 'Magnesium', 'Iron' ]]"
   ]
  },
  {
   "cell_type": "code",
   "execution_count": 109,
   "metadata": {},
   "outputs": [
    {
     "data": {
      "text/html": "<div>\n<style scoped>\n    .dataframe tbody tr th:only-of-type {\n        vertical-align: middle;\n    }\n\n    .dataframe tbody tr th {\n        vertical-align: top;\n    }\n\n    .dataframe thead th {\n        text-align: right;\n    }\n</style>\n<table border=\"1\" class=\"dataframe\">\n  <thead>\n    <tr style=\"text-align: right;\">\n      <th>name</th>\n      <th>Calories</th>\n      <th>Calories from Fat</th>\n      <th>Carbohydrates</th>\n      <th>Fat</th>\n      <th>Saturated Fat</th>\n      <th>Protein</th>\n      <th>Calcium</th>\n      <th>Magnesium</th>\n      <th>Iron</th>\n    </tr>\n  </thead>\n  <tbody>\n    <tr>\n      <td>count</td>\n      <td>10.00000</td>\n      <td>10.00000</td>\n      <td>10.00000</td>\n      <td>10.00000</td>\n      <td>10.00000</td>\n      <td>10.00000</td>\n      <td>10.00000</td>\n      <td>10.00000</td>\n      <td>10.00000</td>\n    </tr>\n    <tr>\n      <td>mean</td>\n      <td>331.05631</td>\n      <td>132.62326</td>\n      <td>28.41211</td>\n      <td>14.73592</td>\n      <td>6.02939</td>\n      <td>21.78478</td>\n      <td>220.52175</td>\n      <td>53.94445</td>\n      <td>3.38780</td>\n    </tr>\n    <tr>\n      <td>std</td>\n      <td>59.43686</td>\n      <td>39.81566</td>\n      <td>15.33014</td>\n      <td>4.42396</td>\n      <td>2.71222</td>\n      <td>5.28264</td>\n      <td>74.32726</td>\n      <td>21.86293</td>\n      <td>1.24772</td>\n    </tr>\n    <tr>\n      <td>min</td>\n      <td>225.31940</td>\n      <td>69.70808</td>\n      <td>10.26850</td>\n      <td>7.74534</td>\n      <td>1.43604</td>\n      <td>13.60084</td>\n      <td>141.86220</td>\n      <td>26.74829</td>\n      <td>2.27139</td>\n    </tr>\n    <tr>\n      <td>25%</td>\n      <td>322.22235</td>\n      <td>106.55367</td>\n      <td>16.85230</td>\n      <td>11.83929</td>\n      <td>4.59974</td>\n      <td>19.92655</td>\n      <td>157.40613</td>\n      <td>45.23232</td>\n      <td>2.76399</td>\n    </tr>\n    <tr>\n      <td>50%</td>\n      <td>342.15345</td>\n      <td>133.92645</td>\n      <td>27.30739</td>\n      <td>14.88071</td>\n      <td>6.31056</td>\n      <td>22.02222</td>\n      <td>205.82620</td>\n      <td>48.58591</td>\n      <td>3.00156</td>\n    </tr>\n    <tr>\n      <td>75%</td>\n      <td>374.03538</td>\n      <td>155.57768</td>\n      <td>30.44074</td>\n      <td>17.28641</td>\n      <td>8.07046</td>\n      <td>24.22196</td>\n      <td>264.83247</td>\n      <td>57.63681</td>\n      <td>3.52882</td>\n    </tr>\n    <tr>\n      <td>max</td>\n      <td>406.00630</td>\n      <td>193.96690</td>\n      <td>54.42183</td>\n      <td>21.55188</td>\n      <td>9.54182</td>\n      <td>31.03836</td>\n      <td>348.36540</td>\n      <td>110.13140</td>\n      <td>6.70979</td>\n    </tr>\n  </tbody>\n</table>\n</div>",
      "text/plain": "name   Calories  Calories from Fat  Carbohydrates      Fat  Saturated Fat  \\\ncount  10.00000           10.00000       10.00000 10.00000       10.00000   \nmean  331.05631          132.62326       28.41211 14.73592        6.02939   \nstd    59.43686           39.81566       15.33014  4.42396        2.71222   \nmin   225.31940           69.70808       10.26850  7.74534        1.43604   \n25%   322.22235          106.55367       16.85230 11.83929        4.59974   \n50%   342.15345          133.92645       27.30739 14.88071        6.31056   \n75%   374.03538          155.57768       30.44074 17.28641        8.07046   \nmax   406.00630          193.96690       54.42183 21.55188        9.54182   \n\nname   Protein   Calcium  Magnesium     Iron  \ncount 10.00000  10.00000   10.00000 10.00000  \nmean  21.78478 220.52175   53.94445  3.38780  \nstd    5.28264  74.32726   21.86293  1.24772  \nmin   13.60084 141.86220   26.74829  2.27139  \n25%   19.92655 157.40613   45.23232  2.76399  \n50%   22.02222 205.82620   48.58591  3.00156  \n75%   24.22196 264.83247   57.63681  3.52882  \nmax   31.03836 348.36540  110.13140  6.70979  "
     },
     "execution_count": 109,
     "metadata": {},
     "output_type": "execute_result"
    }
   ],
   "source": [
    "new_df.describe()"
   ]
  },
  {
   "cell_type": "code",
   "execution_count": null,
   "metadata": {},
   "outputs": [],
   "source": []
  },
  {
   "cell_type": "code",
   "execution_count": null,
   "metadata": {},
   "outputs": [],
   "source": []
  },
  {
   "cell_type": "code",
   "execution_count": null,
   "metadata": {},
   "outputs": [],
   "source": []
  },
  {
   "cell_type": "code",
   "execution_count": 84,
   "metadata": {},
   "outputs": [],
   "source": [
    "#  ------ Erstellung und cleansing des Nutrition Dataframes\n",
    "\n",
    "# erstelle neue liste auf basis der bereits gefilterten rezepte aus ingredients_filt\n",
    "id_overlap_mask = nutritions['id'].isin(result_w_filter_10_fat.index.to_numpy())\n",
    "\n",
    "# erstelle datenframe auf basis der overlapliste\n",
    "nutritions_filt = nutritions.loc[id_overlap_mask]\n",
    "\n",
    "random_nut_fat_naiv = nutritions_filt.pivot_table(\n",
    "    index=['id'],\n",
    "    columns=['name'],\n",
    "    values=['amount'],\n",
    ").reset_index()\n",
    "\n",
    "random_nut_fat_naiv.set_index('id', inplace=True)\n",
    "\n",
    "# remove multiindex 'amount'\n",
    "random_nut_fat_naiv.columns = random_nut_fat_naiv.columns.droplevel(0)\n",
    "\n",
    "# entferne alle NA\n",
    "random_nut_fat_naiv = random_nut_fat_naiv.dropna()\n"
   ]
  },
  {
   "cell_type": "code",
   "execution_count": 85,
   "metadata": {},
   "outputs": [],
   "source": [
    "asd = random_nut_fat_naiv.sort_values(by='Fat')"
   ]
  },
  {
   "cell_type": "code",
   "execution_count": 86,
   "metadata": {},
   "outputs": [
    {
     "data": {
      "text/html": "<div>\n<style scoped>\n    .dataframe tbody tr th:only-of-type {\n        vertical-align: middle;\n    }\n\n    .dataframe tbody tr th {\n        vertical-align: top;\n    }\n\n    .dataframe thead th {\n        text-align: right;\n    }\n</style>\n<table border=\"1\" class=\"dataframe\">\n  <thead>\n    <tr style=\"text-align: right;\">\n      <th>name</th>\n      <th>Calcium</th>\n      <th>Calories</th>\n      <th>Calories from Fat</th>\n      <th>Carbohydrates</th>\n      <th>Cholesterol</th>\n      <th>Dietary Fiber</th>\n      <th>Fat</th>\n      <th>Folate</th>\n      <th>Iron</th>\n      <th>Magnesium</th>\n      <th>Niacin Equivalents</th>\n      <th>Potassium</th>\n      <th>Protein</th>\n      <th>Saturated Fat</th>\n      <th>Sodium</th>\n      <th>Sugars</th>\n      <th>Thiamin</th>\n      <th>Vitamin A - IU</th>\n      <th>Vitamin B6</th>\n      <th>Vitamin C</th>\n    </tr>\n  </thead>\n  <tbody>\n    <tr>\n      <td>count</td>\n      <td>10.00000</td>\n      <td>10.00000</td>\n      <td>10.00000</td>\n      <td>10.00000</td>\n      <td>10.00000</td>\n      <td>10.00000</td>\n      <td>10.00000</td>\n      <td>10.00000</td>\n      <td>10.00000</td>\n      <td>10.00000</td>\n      <td>10.00000</td>\n      <td>10.00000</td>\n      <td>10.00000</td>\n      <td>10.00000</td>\n      <td>10.00000</td>\n      <td>10.00000</td>\n      <td>10.00000</td>\n      <td>10.00000</td>\n      <td>10.00000</td>\n      <td>10.00000</td>\n    </tr>\n    <tr>\n      <td>mean</td>\n      <td>38.70887</td>\n      <td>186.72419</td>\n      <td>8.59290</td>\n      <td>29.76577</td>\n      <td>38.54453</td>\n      <td>2.73469</td>\n      <td>0.95477</td>\n      <td>44.79653</td>\n      <td>2.01912</td>\n      <td>39.79316</td>\n      <td>6.33330</td>\n      <td>482.15195</td>\n      <td>14.43233</td>\n      <td>0.18719</td>\n      <td>699.62336</td>\n      <td>7.82159</td>\n      <td>0.19012</td>\n      <td>950.15627</td>\n      <td>0.41897</td>\n      <td>17.61181</td>\n    </tr>\n    <tr>\n      <td>std</td>\n      <td>13.91447</td>\n      <td>88.90485</td>\n      <td>3.00284</td>\n      <td>25.51754</td>\n      <td>54.26492</td>\n      <td>2.79798</td>\n      <td>0.33365</td>\n      <td>47.34177</td>\n      <td>1.29271</td>\n      <td>22.17036</td>\n      <td>3.59982</td>\n      <td>462.21356</td>\n      <td>10.36769</td>\n      <td>0.07805</td>\n      <td>425.08936</td>\n      <td>10.32595</td>\n      <td>0.22016</td>\n      <td>1004.53875</td>\n      <td>0.32838</td>\n      <td>20.78962</td>\n    </tr>\n    <tr>\n      <td>min</td>\n      <td>22.24650</td>\n      <td>67.54216</td>\n      <td>1.32300</td>\n      <td>1.92550</td>\n      <td>0.00000</td>\n      <td>0.26294</td>\n      <td>0.14700</td>\n      <td>4.35167</td>\n      <td>0.35016</td>\n      <td>8.68500</td>\n      <td>0.54284</td>\n      <td>152.89170</td>\n      <td>0.75050</td>\n      <td>0.01992</td>\n      <td>183.87960</td>\n      <td>0.58219</td>\n      <td>0.00985</td>\n      <td>7.38000</td>\n      <td>0.06808</td>\n      <td>1.40368</td>\n    </tr>\n    <tr>\n      <td>25%</td>\n      <td>29.03908</td>\n      <td>144.54335</td>\n      <td>8.60387</td>\n      <td>12.03016</td>\n      <td>0.00000</td>\n      <td>1.03581</td>\n      <td>0.95599</td>\n      <td>12.82424</td>\n      <td>1.09430</td>\n      <td>29.74379</td>\n      <td>3.95787</td>\n      <td>185.08150</td>\n      <td>7.18936</td>\n      <td>0.14782</td>\n      <td>384.31890</td>\n      <td>3.15031</td>\n      <td>0.04068</td>\n      <td>332.61125</td>\n      <td>0.18691</td>\n      <td>6.52157</td>\n    </tr>\n    <tr>\n      <td>50%</td>\n      <td>37.62199</td>\n      <td>165.28260</td>\n      <td>9.61920</td>\n      <td>24.06730</td>\n      <td>21.98067</td>\n      <td>1.64616</td>\n      <td>1.06880</td>\n      <td>25.03194</td>\n      <td>1.99470</td>\n      <td>36.51286</td>\n      <td>6.34558</td>\n      <td>313.92140</td>\n      <td>11.93949</td>\n      <td>0.19185</td>\n      <td>606.55830</td>\n      <td>3.95583</td>\n      <td>0.07930</td>\n      <td>665.54215</td>\n      <td>0.31446</td>\n      <td>9.33288</td>\n    </tr>\n    <tr>\n      <td>75%</td>\n      <td>46.88089</td>\n      <td>215.73680</td>\n      <td>9.96918</td>\n      <td>42.23227</td>\n      <td>57.18543</td>\n      <td>2.73951</td>\n      <td>1.10769</td>\n      <td>64.98426</td>\n      <td>2.25283</td>\n      <td>42.86750</td>\n      <td>8.36965</td>\n      <td>537.11617</td>\n      <td>19.40237</td>\n      <td>0.24751</td>\n      <td>882.46690</td>\n      <td>5.24654</td>\n      <td>0.23163</td>\n      <td>1124.87050</td>\n      <td>0.56084</td>\n      <td>20.23434</td>\n    </tr>\n    <tr>\n      <td>max</td>\n      <td>68.01366</td>\n      <td>397.88000</td>\n      <td>11.42801</td>\n      <td>88.31117</td>\n      <td>172.57500</td>\n      <td>8.96175</td>\n      <td>1.26978</td>\n      <td>134.84210</td>\n      <td>4.33315</td>\n      <td>91.76000</td>\n      <td>12.94783</td>\n      <td>1587.04700</td>\n      <td>31.80096</td>\n      <td>0.27537</td>\n      <td>1469.93500</td>\n      <td>34.79835</td>\n      <td>0.59393</td>\n      <td>3392.83200</td>\n      <td>1.10230</td>\n      <td>72.69300</td>\n    </tr>\n  </tbody>\n</table>\n</div>",
      "text/plain": "name   Calcium  Calories  Calories from Fat  Carbohydrates  Cholesterol  \\\ncount 10.00000  10.00000           10.00000       10.00000     10.00000   \nmean  38.70887 186.72419            8.59290       29.76577     38.54453   \nstd   13.91447  88.90485            3.00284       25.51754     54.26492   \nmin   22.24650  67.54216            1.32300        1.92550      0.00000   \n25%   29.03908 144.54335            8.60387       12.03016      0.00000   \n50%   37.62199 165.28260            9.61920       24.06730     21.98067   \n75%   46.88089 215.73680            9.96918       42.23227     57.18543   \nmax   68.01366 397.88000           11.42801       88.31117    172.57500   \n\nname   Dietary Fiber      Fat    Folate     Iron  Magnesium  \\\ncount       10.00000 10.00000  10.00000 10.00000   10.00000   \nmean         2.73469  0.95477  44.79653  2.01912   39.79316   \nstd          2.79798  0.33365  47.34177  1.29271   22.17036   \nmin          0.26294  0.14700   4.35167  0.35016    8.68500   \n25%          1.03581  0.95599  12.82424  1.09430   29.74379   \n50%          1.64616  1.06880  25.03194  1.99470   36.51286   \n75%          2.73951  1.10769  64.98426  2.25283   42.86750   \nmax          8.96175  1.26978 134.84210  4.33315   91.76000   \n\nname   Niacin Equivalents  Potassium  Protein  Saturated Fat     Sodium  \\\ncount            10.00000   10.00000 10.00000       10.00000   10.00000   \nmean              6.33330  482.15195 14.43233        0.18719  699.62336   \nstd               3.59982  462.21356 10.36769        0.07805  425.08936   \nmin               0.54284  152.89170  0.75050        0.01992  183.87960   \n25%               3.95787  185.08150  7.18936        0.14782  384.31890   \n50%               6.34558  313.92140 11.93949        0.19185  606.55830   \n75%               8.36965  537.11617 19.40237        0.24751  882.46690   \nmax              12.94783 1587.04700 31.80096        0.27537 1469.93500   \n\nname    Sugars  Thiamin  Vitamin A - IU  Vitamin B6  Vitamin C  \ncount 10.00000 10.00000        10.00000    10.00000   10.00000  \nmean   7.82159  0.19012       950.15627     0.41897   17.61181  \nstd   10.32595  0.22016      1004.53875     0.32838   20.78962  \nmin    0.58219  0.00985         7.38000     0.06808    1.40368  \n25%    3.15031  0.04068       332.61125     0.18691    6.52157  \n50%    3.95583  0.07930       665.54215     0.31446    9.33288  \n75%    5.24654  0.23163      1124.87050     0.56084   20.23434  \nmax   34.79835  0.59393      3392.83200     1.10230   72.69300  "
     },
     "execution_count": 86,
     "metadata": {},
     "output_type": "execute_result"
    }
   ],
   "source": [
    "asd[0:10].describe()"
   ]
  },
  {
   "cell_type": "code",
   "execution_count": 87,
   "metadata": {},
   "outputs": [],
   "source": [
    "random_nut_fat = nutrition_db2.sort_values(by='Fat')"
   ]
  },
  {
   "cell_type": "code",
   "execution_count": 88,
   "metadata": {},
   "outputs": [
    {
     "data": {
      "text/plain": "array([ 14725,  53194, 223269, 216688,  23444,  12768,  50939,  99480,\n        13963,  19478])"
     },
     "execution_count": 88,
     "metadata": {},
     "output_type": "execute_result"
    }
   ],
   "source": [
    "random_nut_fat[0:10].index.to_numpy()"
   ]
  },
  {
   "cell_type": "code",
   "execution_count": 89,
   "metadata": {},
   "outputs": [],
   "source": [
    "#  ------ Erstellung und cleansing des Nutrition Dataframes\n",
    "\n",
    "# erstelle neue liste auf basis der bereits gefilterten rezepte aus ingredients_filt\n",
    "id_overlap_mask = nutritions['id'].isin(random_nut_fat[0:10].index.to_numpy())\n",
    "\n",
    "# erstelle datenframe auf basis der overlapliste\n",
    "nutritions_filt = nutritions.loc[id_overlap_mask]\n",
    "\n",
    "random_nut_fat = nutritions_filt.pivot_table(\n",
    "    index=['id'],\n",
    "    columns=['name'],\n",
    "    values=['amount'],\n",
    ").reset_index()\n",
    "\n",
    "random_nut_fat.set_index('id', inplace=True)\n",
    "\n",
    "# remove multiindex 'amount'\n",
    "random_nut_fat.columns = random_nut_fat.columns.droplevel(0)\n",
    "\n",
    "# entferne alle NA\n",
    "random_nut_fat = random_nut_fat.dropna()"
   ]
  },
  {
   "cell_type": "code",
   "execution_count": 90,
   "metadata": {},
   "outputs": [
    {
     "data": {
      "text/html": "<div>\n<style scoped>\n    .dataframe tbody tr th:only-of-type {\n        vertical-align: middle;\n    }\n\n    .dataframe tbody tr th {\n        vertical-align: top;\n    }\n\n    .dataframe thead th {\n        text-align: right;\n    }\n</style>\n<table border=\"1\" class=\"dataframe\">\n  <thead>\n    <tr style=\"text-align: right;\">\n      <th>name</th>\n      <th>Calcium</th>\n      <th>Calories</th>\n      <th>Calories from Fat</th>\n      <th>Carbohydrates</th>\n      <th>Cholesterol</th>\n      <th>Dietary Fiber</th>\n      <th>Fat</th>\n      <th>Folate</th>\n      <th>Iron</th>\n      <th>Magnesium</th>\n      <th>Niacin Equivalents</th>\n      <th>Potassium</th>\n      <th>Protein</th>\n      <th>Saturated Fat</th>\n      <th>Sodium</th>\n      <th>Sugars</th>\n      <th>Thiamin</th>\n      <th>Vitamin A - IU</th>\n      <th>Vitamin B6</th>\n      <th>Vitamin C</th>\n    </tr>\n  </thead>\n  <tbody>\n    <tr>\n      <td>count</td>\n      <td>10.00000</td>\n      <td>10.00000</td>\n      <td>10.00000</td>\n      <td>10.00000</td>\n      <td>10.00000</td>\n      <td>10.00000</td>\n      <td>10.00000</td>\n      <td>10.00000</td>\n      <td>10.00000</td>\n      <td>10.00000</td>\n      <td>10.00000</td>\n      <td>10.00000</td>\n      <td>10.00000</td>\n      <td>10.00000</td>\n      <td>10.00000</td>\n      <td>10.00000</td>\n      <td>10.00000</td>\n      <td>10.00000</td>\n      <td>10.00000</td>\n      <td>10.00000</td>\n    </tr>\n    <tr>\n      <td>mean</td>\n      <td>38.70887</td>\n      <td>186.72419</td>\n      <td>8.59290</td>\n      <td>29.76577</td>\n      <td>38.54453</td>\n      <td>2.73469</td>\n      <td>0.95477</td>\n      <td>44.79653</td>\n      <td>2.01912</td>\n      <td>39.79316</td>\n      <td>6.33330</td>\n      <td>482.15195</td>\n      <td>14.43233</td>\n      <td>0.18719</td>\n      <td>699.62336</td>\n      <td>7.82159</td>\n      <td>0.19012</td>\n      <td>950.15627</td>\n      <td>0.41897</td>\n      <td>17.61181</td>\n    </tr>\n    <tr>\n      <td>std</td>\n      <td>13.91447</td>\n      <td>88.90485</td>\n      <td>3.00284</td>\n      <td>25.51754</td>\n      <td>54.26492</td>\n      <td>2.79798</td>\n      <td>0.33365</td>\n      <td>47.34177</td>\n      <td>1.29271</td>\n      <td>22.17036</td>\n      <td>3.59982</td>\n      <td>462.21356</td>\n      <td>10.36769</td>\n      <td>0.07805</td>\n      <td>425.08936</td>\n      <td>10.32595</td>\n      <td>0.22016</td>\n      <td>1004.53875</td>\n      <td>0.32838</td>\n      <td>20.78962</td>\n    </tr>\n    <tr>\n      <td>min</td>\n      <td>22.24650</td>\n      <td>67.54216</td>\n      <td>1.32300</td>\n      <td>1.92550</td>\n      <td>0.00000</td>\n      <td>0.26294</td>\n      <td>0.14700</td>\n      <td>4.35167</td>\n      <td>0.35016</td>\n      <td>8.68500</td>\n      <td>0.54284</td>\n      <td>152.89170</td>\n      <td>0.75050</td>\n      <td>0.01992</td>\n      <td>183.87960</td>\n      <td>0.58219</td>\n      <td>0.00985</td>\n      <td>7.38000</td>\n      <td>0.06808</td>\n      <td>1.40368</td>\n    </tr>\n    <tr>\n      <td>25%</td>\n      <td>29.03908</td>\n      <td>144.54335</td>\n      <td>8.60387</td>\n      <td>12.03016</td>\n      <td>0.00000</td>\n      <td>1.03581</td>\n      <td>0.95599</td>\n      <td>12.82424</td>\n      <td>1.09430</td>\n      <td>29.74379</td>\n      <td>3.95787</td>\n      <td>185.08150</td>\n      <td>7.18936</td>\n      <td>0.14782</td>\n      <td>384.31890</td>\n      <td>3.15031</td>\n      <td>0.04068</td>\n      <td>332.61125</td>\n      <td>0.18691</td>\n      <td>6.52157</td>\n    </tr>\n    <tr>\n      <td>50%</td>\n      <td>37.62199</td>\n      <td>165.28260</td>\n      <td>9.61920</td>\n      <td>24.06730</td>\n      <td>21.98067</td>\n      <td>1.64616</td>\n      <td>1.06880</td>\n      <td>25.03194</td>\n      <td>1.99470</td>\n      <td>36.51286</td>\n      <td>6.34558</td>\n      <td>313.92140</td>\n      <td>11.93949</td>\n      <td>0.19185</td>\n      <td>606.55830</td>\n      <td>3.95583</td>\n      <td>0.07930</td>\n      <td>665.54215</td>\n      <td>0.31446</td>\n      <td>9.33288</td>\n    </tr>\n    <tr>\n      <td>75%</td>\n      <td>46.88089</td>\n      <td>215.73680</td>\n      <td>9.96918</td>\n      <td>42.23227</td>\n      <td>57.18543</td>\n      <td>2.73951</td>\n      <td>1.10769</td>\n      <td>64.98426</td>\n      <td>2.25283</td>\n      <td>42.86750</td>\n      <td>8.36965</td>\n      <td>537.11617</td>\n      <td>19.40237</td>\n      <td>0.24751</td>\n      <td>882.46690</td>\n      <td>5.24654</td>\n      <td>0.23163</td>\n      <td>1124.87050</td>\n      <td>0.56084</td>\n      <td>20.23434</td>\n    </tr>\n    <tr>\n      <td>max</td>\n      <td>68.01366</td>\n      <td>397.88000</td>\n      <td>11.42801</td>\n      <td>88.31117</td>\n      <td>172.57500</td>\n      <td>8.96175</td>\n      <td>1.26978</td>\n      <td>134.84210</td>\n      <td>4.33315</td>\n      <td>91.76000</td>\n      <td>12.94783</td>\n      <td>1587.04700</td>\n      <td>31.80096</td>\n      <td>0.27537</td>\n      <td>1469.93500</td>\n      <td>34.79835</td>\n      <td>0.59393</td>\n      <td>3392.83200</td>\n      <td>1.10230</td>\n      <td>72.69300</td>\n    </tr>\n  </tbody>\n</table>\n</div>",
      "text/plain": "name   Calcium  Calories  Calories from Fat  Carbohydrates  Cholesterol  \\\ncount 10.00000  10.00000           10.00000       10.00000     10.00000   \nmean  38.70887 186.72419            8.59290       29.76577     38.54453   \nstd   13.91447  88.90485            3.00284       25.51754     54.26492   \nmin   22.24650  67.54216            1.32300        1.92550      0.00000   \n25%   29.03908 144.54335            8.60387       12.03016      0.00000   \n50%   37.62199 165.28260            9.61920       24.06730     21.98067   \n75%   46.88089 215.73680            9.96918       42.23227     57.18543   \nmax   68.01366 397.88000           11.42801       88.31117    172.57500   \n\nname   Dietary Fiber      Fat    Folate     Iron  Magnesium  \\\ncount       10.00000 10.00000  10.00000 10.00000   10.00000   \nmean         2.73469  0.95477  44.79653  2.01912   39.79316   \nstd          2.79798  0.33365  47.34177  1.29271   22.17036   \nmin          0.26294  0.14700   4.35167  0.35016    8.68500   \n25%          1.03581  0.95599  12.82424  1.09430   29.74379   \n50%          1.64616  1.06880  25.03194  1.99470   36.51286   \n75%          2.73951  1.10769  64.98426  2.25283   42.86750   \nmax          8.96175  1.26978 134.84210  4.33315   91.76000   \n\nname   Niacin Equivalents  Potassium  Protein  Saturated Fat     Sodium  \\\ncount            10.00000   10.00000 10.00000       10.00000   10.00000   \nmean              6.33330  482.15195 14.43233        0.18719  699.62336   \nstd               3.59982  462.21356 10.36769        0.07805  425.08936   \nmin               0.54284  152.89170  0.75050        0.01992  183.87960   \n25%               3.95787  185.08150  7.18936        0.14782  384.31890   \n50%               6.34558  313.92140 11.93949        0.19185  606.55830   \n75%               8.36965  537.11617 19.40237        0.24751  882.46690   \nmax              12.94783 1587.04700 31.80096        0.27537 1469.93500   \n\nname    Sugars  Thiamin  Vitamin A - IU  Vitamin B6  Vitamin C  \ncount 10.00000 10.00000        10.00000    10.00000   10.00000  \nmean   7.82159  0.19012       950.15627     0.41897   17.61181  \nstd   10.32595  0.22016      1004.53875     0.32838   20.78962  \nmin    0.58219  0.00985         7.38000     0.06808    1.40368  \n25%    3.15031  0.04068       332.61125     0.18691    6.52157  \n50%    3.95583  0.07930       665.54215     0.31446    9.33288  \n75%    5.24654  0.23163      1124.87050     0.56084   20.23434  \nmax   34.79835  0.59393      3392.83200     1.10230   72.69300  "
     },
     "execution_count": 90,
     "metadata": {},
     "output_type": "execute_result"
    }
   ],
   "source": [
    "random_nut_fat.describe()"
   ]
  },
  {
   "cell_type": "code",
   "execution_count": 91,
   "metadata": {},
   "outputs": [
    {
     "data": {
      "text/html": "<div>\n<style scoped>\n    .dataframe tbody tr th:only-of-type {\n        vertical-align: middle;\n    }\n\n    .dataframe tbody tr th {\n        vertical-align: top;\n    }\n\n    .dataframe thead th {\n        text-align: right;\n    }\n</style>\n<table border=\"1\" class=\"dataframe\">\n  <thead>\n    <tr style=\"text-align: right;\">\n      <th>name</th>\n      <th>Calcium</th>\n      <th>Calories</th>\n      <th>Calories from Fat</th>\n      <th>Carbohydrates</th>\n      <th>Cholesterol</th>\n      <th>Dietary Fiber</th>\n      <th>Fat</th>\n      <th>Folate</th>\n      <th>Iron</th>\n      <th>Magnesium</th>\n      <th>Niacin Equivalents</th>\n      <th>Potassium</th>\n      <th>Protein</th>\n      <th>Saturated Fat</th>\n      <th>Sodium</th>\n      <th>Sugars</th>\n      <th>Thiamin</th>\n      <th>Vitamin A - IU</th>\n      <th>Vitamin B6</th>\n      <th>Vitamin C</th>\n    </tr>\n    <tr>\n      <th>id</th>\n      <th></th>\n      <th></th>\n      <th></th>\n      <th></th>\n      <th></th>\n      <th></th>\n      <th></th>\n      <th></th>\n      <th></th>\n      <th></th>\n      <th></th>\n      <th></th>\n      <th></th>\n      <th></th>\n      <th></th>\n      <th></th>\n      <th></th>\n      <th></th>\n      <th></th>\n      <th></th>\n    </tr>\n  </thead>\n  <tbody>\n    <tr>\n      <td>14725</td>\n      <td>24.03237</td>\n      <td>67.54216</td>\n      <td>1.32300</td>\n      <td>18.46258</td>\n      <td>0.00000</td>\n      <td>0.93600</td>\n      <td>0.14700</td>\n      <td>4.35167</td>\n      <td>0.35016</td>\n      <td>8.68500</td>\n      <td>0.54284</td>\n      <td>152.89170</td>\n      <td>0.75050</td>\n      <td>0.01992</td>\n      <td>337.39490</td>\n      <td>15.72450</td>\n      <td>0.03643</td>\n      <td>285.30000</td>\n      <td>0.06808</td>\n      <td>18.40447</td>\n    </tr>\n    <tr>\n      <td>53194</td>\n      <td>49.32750</td>\n      <td>397.88000</td>\n      <td>5.74515</td>\n      <td>88.31117</td>\n      <td>0.00000</td>\n      <td>8.96175</td>\n      <td>0.63835</td>\n      <td>116.22750</td>\n      <td>4.33315</td>\n      <td>91.76000</td>\n      <td>8.31711</td>\n      <td>1587.04700</td>\n      <td>10.68192</td>\n      <td>0.14438</td>\n      <td>604.13500</td>\n      <td>2.96258</td>\n      <td>0.57003</td>\n      <td>7.38000</td>\n      <td>1.10230</td>\n      <td>72.69300</td>\n    </tr>\n    <tr>\n      <td>223269</td>\n      <td>37.05750</td>\n      <td>231.43500</td>\n      <td>8.60220</td>\n      <td>37.91700</td>\n      <td>172.57500</td>\n      <td>1.08475</td>\n      <td>0.95580</td>\n      <td>4.38750</td>\n      <td>3.99262</td>\n      <td>30.93750</td>\n      <td>6.65573</td>\n      <td>183.10500</td>\n      <td>18.63247</td>\n      <td>0.25577</td>\n      <td>1469.93500</td>\n      <td>34.79835</td>\n      <td>0.02744</td>\n      <td>1199.12500</td>\n      <td>0.12256</td>\n      <td>5.75887</td>\n    </tr>\n    <tr>\n      <td>216688</td>\n      <td>22.24650</td>\n      <td>118.90550</td>\n      <td>8.60886</td>\n      <td>13.64523</td>\n      <td>46.74800</td>\n      <td>1.15844</td>\n      <td>0.95654</td>\n      <td>25.04950</td>\n      <td>1.07770</td>\n      <td>23.97700</td>\n      <td>5.88574</td>\n      <td>314.95600</td>\n      <td>13.19706</td>\n      <td>0.27537</td>\n      <td>244.44700</td>\n      <td>5.25938</td>\n      <td>0.06999</td>\n      <td>474.54500</td>\n      <td>0.39121</td>\n      <td>20.84430</td>\n    </tr>\n    <tr>\n      <td>23444</td>\n      <td>38.18649</td>\n      <td>209.87540</td>\n      <td>9.39131</td>\n      <td>44.33629</td>\n      <td>0.00000</td>\n      <td>2.80772</td>\n      <td>1.04348</td>\n      <td>75.07356</td>\n      <td>2.05814</td>\n      <td>34.38844</td>\n      <td>3.31525</td>\n      <td>185.74780</td>\n      <td>5.09345</td>\n      <td>0.15813</td>\n      <td>877.09960</td>\n      <td>3.71350</td>\n      <td>0.21408</td>\n      <td>3392.83200</td>\n      <td>0.23771</td>\n      <td>25.25806</td>\n    </tr>\n    <tr>\n      <td>12768</td>\n      <td>28.54063</td>\n      <td>142.41270</td>\n      <td>9.84708</td>\n      <td>1.92550</td>\n      <td>60.66458</td>\n      <td>0.26294</td>\n      <td>1.09412</td>\n      <td>11.49708</td>\n      <td>0.89822</td>\n      <td>40.17102</td>\n      <td>8.38717</td>\n      <td>606.38600</td>\n      <td>29.66508</td>\n      <td>0.13887</td>\n      <td>183.87960</td>\n      <td>0.58219</td>\n      <td>0.00985</td>\n      <td>143.79340</td>\n      <td>0.56049</td>\n      <td>6.59186</td>\n    </tr>\n    <tr>\n      <td>50939</td>\n      <td>39.96267</td>\n      <td>158.63580</td>\n      <td>9.87864</td>\n      <td>11.49181</td>\n      <td>43.92533</td>\n      <td>1.01950</td>\n      <td>1.09763</td>\n      <td>34.71634</td>\n      <td>1.93125</td>\n      <td>43.76633</td>\n      <td>12.94783</td>\n      <td>329.30670</td>\n      <td>19.65900</td>\n      <td>0.27302</td>\n      <td>1261.01400</td>\n      <td>5.20803</td>\n      <td>0.08861</td>\n      <td>757.76400</td>\n      <td>0.56095</td>\n      <td>6.49813</td>\n    </tr>\n    <tr>\n      <td>99480</td>\n      <td>30.53441</td>\n      <td>217.69060</td>\n      <td>9.99935</td>\n      <td>43.67070</td>\n      <td>0.03600</td>\n      <td>2.53486</td>\n      <td>1.11104</td>\n      <td>134.84210</td>\n      <td>2.30272</td>\n      <td>38.63728</td>\n      <td>6.03543</td>\n      <td>184.85940</td>\n      <td>7.88552</td>\n      <td>0.21036</td>\n      <td>525.09090</td>\n      <td>2.05569</td>\n      <td>0.59393</td>\n      <td>902.10700</td>\n      <td>0.18070</td>\n      <td>1.40368</td>\n    </tr>\n    <tr>\n      <td>13963</td>\n      <td>68.01366</td>\n      <td>150.93530</td>\n      <td>11.10540</td>\n      <td>29.67201</td>\n      <td>0.00000</td>\n      <td>6.44711</td>\n      <td>1.23393</td>\n      <td>25.01438</td>\n      <td>2.10318</td>\n      <td>29.34588</td>\n      <td>2.40721</td>\n      <td>312.88680</td>\n      <td>6.95731</td>\n      <td>0.22275</td>\n      <td>608.98160</td>\n      <td>3.93303</td>\n      <td>0.23748</td>\n      <td>1765.39600</td>\n      <td>0.20554</td>\n      <td>10.09619</td>\n    </tr>\n    <tr>\n      <td>19478</td>\n      <td>49.18696</td>\n      <td>171.92940</td>\n      <td>11.42801</td>\n      <td>8.22539</td>\n      <td>61.49643</td>\n      <td>2.13388</td>\n      <td>1.26978</td>\n      <td>16.80571</td>\n      <td>1.14409</td>\n      <td>56.26312</td>\n      <td>8.83872</td>\n      <td>964.33310</td>\n      <td>31.80096</td>\n      <td>0.17333</td>\n      <td>884.25600</td>\n      <td>3.97864</td>\n      <td>0.05341</td>\n      <td>573.32030</td>\n      <td>0.76017</td>\n      <td>8.56958</td>\n    </tr>\n    <tr>\n      <td>12040</td>\n      <td>58.80243</td>\n      <td>272.63290</td>\n      <td>11.54635</td>\n      <td>55.87332</td>\n      <td>0.00000</td>\n      <td>5.01917</td>\n      <td>1.28293</td>\n      <td>154.01560</td>\n      <td>4.20236</td>\n      <td>59.99096</td>\n      <td>7.84494</td>\n      <td>606.18230</td>\n      <td>10.31797</td>\n      <td>0.22088</td>\n      <td>716.47410</td>\n      <td>5.97775</td>\n      <td>0.69661</td>\n      <td>1138.85000</td>\n      <td>0.30805</td>\n      <td>19.37681</td>\n    </tr>\n    <tr>\n      <td>144479</td>\n      <td>22.44425</td>\n      <td>186.83300</td>\n      <td>12.06338</td>\n      <td>39.18475</td>\n      <td>2.68750</td>\n      <td>0.92955</td>\n      <td>1.34038</td>\n      <td>110.71160</td>\n      <td>2.04425</td>\n      <td>14.93353</td>\n      <td>2.65990</td>\n      <td>87.89282</td>\n      <td>3.56275</td>\n      <td>0.73337</td>\n      <td>13.92602</td>\n      <td>0.89604</td>\n      <td>0.27644</td>\n      <td>32.40742</td>\n      <td>0.10807</td>\n      <td>3.25957</td>\n    </tr>\n    <tr>\n      <td>218941</td>\n      <td>51.91434</td>\n      <td>217.71130</td>\n      <td>12.40199</td>\n      <td>33.32563</td>\n      <td>31.02000</td>\n      <td>0.62132</td>\n      <td>1.37800</td>\n      <td>8.18082</td>\n      <td>1.30598</td>\n      <td>38.45546</td>\n      <td>4.47353</td>\n      <td>461.01680</td>\n      <td>19.42915</td>\n      <td>0.25612</td>\n      <td>1398.69500</td>\n      <td>29.63871</td>\n      <td>0.05291</td>\n      <td>79.41695</td>\n      <td>0.40204</td>\n      <td>2.86623</td>\n    </tr>\n    <tr>\n      <td>222247</td>\n      <td>86.33017</td>\n      <td>263.77840</td>\n      <td>12.56479</td>\n      <td>51.72636</td>\n      <td>0.00000</td>\n      <td>11.34894</td>\n      <td>1.39609</td>\n      <td>127.75060</td>\n      <td>4.58009</td>\n      <td>65.66858</td>\n      <td>5.38385</td>\n      <td>601.96420</td>\n      <td>11.64668</td>\n      <td>0.28095</td>\n      <td>1263.51900</td>\n      <td>3.89282</td>\n      <td>0.44864</td>\n      <td>8260.88800</td>\n      <td>0.25134</td>\n      <td>16.53840</td>\n    </tr>\n    <tr>\n      <td>53560</td>\n      <td>49.20270</td>\n      <td>186.96790</td>\n      <td>13.20572</td>\n      <td>35.06419</td>\n      <td>0.00000</td>\n      <td>8.08526</td>\n      <td>1.46730</td>\n      <td>187.67800</td>\n      <td>4.18453</td>\n      <td>48.89662</td>\n      <td>3.67365</td>\n      <td>582.21140</td>\n      <td>9.68532</td>\n      <td>0.23800</td>\n      <td>211.45360</td>\n      <td>4.59518</td>\n      <td>0.27347</td>\n      <td>1630.36700</td>\n      <td>0.30547</td>\n      <td>9.72616</td>\n    </tr>\n    <tr>\n      <td>16160</td>\n      <td>19.43619</td>\n      <td>138.96910</td>\n      <td>13.28509</td>\n      <td>2.96244</td>\n      <td>68.43999</td>\n      <td>0.20672</td>\n      <td>1.47612</td>\n      <td>9.53376</td>\n      <td>1.09001</td>\n      <td>35.76157</td>\n      <td>18.58749</td>\n      <td>349.92590</td>\n      <td>27.44011</td>\n      <td>0.39014</td>\n      <td>78.18385</td>\n      <td>0.84182</td>\n      <td>0.09324</td>\n      <td>54.24709</td>\n      <td>0.67004</td>\n      <td>15.76452</td>\n    </tr>\n    <tr>\n      <td>15536</td>\n      <td>90.32851</td>\n      <td>185.51750</td>\n      <td>13.47687</td>\n      <td>13.91330</td>\n      <td>68.43999</td>\n      <td>0.27825</td>\n      <td>1.49743</td>\n      <td>10.26500</td>\n      <td>4.75663</td>\n      <td>43.91700</td>\n      <td>19.00691</td>\n      <td>858.11950</td>\n      <td>27.36117</td>\n      <td>0.39969</td>\n      <td>743.56200</td>\n      <td>6.82712</td>\n      <td>0.08374</td>\n      <td>81.63950</td>\n      <td>0.65257</td>\n      <td>10.47650</td>\n    </tr>\n    <tr>\n      <td>92528</td>\n      <td>28.60900</td>\n      <td>272.96180</td>\n      <td>13.56375</td>\n      <td>1.45668</td>\n      <td>163.99420</td>\n      <td>0.13963</td>\n      <td>1.50708</td>\n      <td>11.85500</td>\n      <td>3.06420</td>\n      <td>57.29916</td>\n      <td>25.94215</td>\n      <td>576.94330</td>\n      <td>59.54927</td>\n      <td>0.48225</td>\n      <td>308.90370</td>\n      <td>0.10910</td>\n      <td>0.08969</td>\n      <td>0.00000</td>\n      <td>1.10647</td>\n      <td>0.27453</td>\n    </tr>\n    <tr>\n      <td>9025</td>\n      <td>46.42217</td>\n      <td>313.16140</td>\n      <td>13.60676</td>\n      <td>31.15595</td>\n      <td>68.43999</td>\n      <td>0.47561</td>\n      <td>1.51186</td>\n      <td>12.00244</td>\n      <td>1.68259</td>\n      <td>50.19431</td>\n      <td>19.65842</td>\n      <td>436.92650</td>\n      <td>29.29357</td>\n      <td>0.40136</td>\n      <td>1663.58300</td>\n      <td>27.91077</td>\n      <td>0.10517</td>\n      <td>25.75650</td>\n      <td>0.74392</td>\n      <td>2.82247</td>\n    </tr>\n    <tr>\n      <td>24792</td>\n      <td>27.78015</td>\n      <td>236.89600</td>\n      <td>13.65385</td>\n      <td>27.75914</td>\n      <td>68.43999</td>\n      <td>0.41987</td>\n      <td>1.51709</td>\n      <td>17.69289</td>\n      <td>1.17039</td>\n      <td>35.17418</td>\n      <td>18.97572</td>\n      <td>322.95150</td>\n      <td>27.90727</td>\n      <td>0.39833</td>\n      <td>96.77170</td>\n      <td>21.39096</td>\n      <td>0.12590</td>\n      <td>47.44438</td>\n      <td>0.65926</td>\n      <td>3.96513</td>\n    </tr>\n    <tr>\n      <td>214555</td>\n      <td>18.59625</td>\n      <td>214.39250</td>\n      <td>14.11537</td>\n      <td>21.32403</td>\n      <td>68.43999</td>\n      <td>0.32338</td>\n      <td>1.56838</td>\n      <td>6.85875</td>\n      <td>1.23771</td>\n      <td>37.08875</td>\n      <td>18.72878</td>\n      <td>332.17000</td>\n      <td>27.65591</td>\n      <td>0.40638</td>\n      <td>678.41750</td>\n      <td>17.48787</td>\n      <td>0.08590</td>\n      <td>32.17500</td>\n      <td>0.66863</td>\n      <td>1.60744</td>\n    </tr>\n    <tr>\n      <td>15224</td>\n      <td>18.37174</td>\n      <td>184.44340</td>\n      <td>14.29642</td>\n      <td>13.90498</td>\n      <td>68.44000</td>\n      <td>0.24612</td>\n      <td>1.58849</td>\n      <td>6.51499</td>\n      <td>0.95148</td>\n      <td>37.46912</td>\n      <td>18.66608</td>\n      <td>334.70620</td>\n      <td>27.44483</td>\n      <td>0.39619</td>\n      <td>76.97277</td>\n      <td>13.32538</td>\n      <td>0.10681</td>\n      <td>34.12540</td>\n      <td>0.66872</td>\n      <td>4.93966</td>\n    </tr>\n    <tr>\n      <td>83440</td>\n      <td>87.64751</td>\n      <td>150.36010</td>\n      <td>14.33995</td>\n      <td>30.43600</td>\n      <td>0.00000</td>\n      <td>4.88392</td>\n      <td>1.59333</td>\n      <td>120.16250</td>\n      <td>3.02546</td>\n      <td>26.22500</td>\n      <td>2.02135</td>\n      <td>379.76510</td>\n      <td>4.21916</td>\n      <td>0.26816</td>\n      <td>249.93140</td>\n      <td>7.04416</td>\n      <td>0.21135</td>\n      <td>708.50520</td>\n      <td>0.25687</td>\n      <td>59.43904</td>\n    </tr>\n    <tr>\n      <td>25491</td>\n      <td>38.75206</td>\n      <td>287.64500</td>\n      <td>14.63865</td>\n      <td>24.31943</td>\n      <td>68.43999</td>\n      <td>0.44714</td>\n      <td>1.62652</td>\n      <td>29.54791</td>\n      <td>1.65043</td>\n      <td>55.98650</td>\n      <td>19.45409</td>\n      <td>513.06350</td>\n      <td>28.78182</td>\n      <td>0.40195</td>\n      <td>983.39090</td>\n      <td>19.41415</td>\n      <td>0.16104</td>\n      <td>31.42244</td>\n      <td>0.81134</td>\n      <td>14.00604</td>\n    </tr>\n    <tr>\n      <td>8606</td>\n      <td>19.80500</td>\n      <td>161.66250</td>\n      <td>15.01830</td>\n      <td>6.06837</td>\n      <td>68.47749</td>\n      <td>0.18375</td>\n      <td>1.66870</td>\n      <td>9.18250</td>\n      <td>1.03410</td>\n      <td>34.76500</td>\n      <td>18.85683</td>\n      <td>344.56250</td>\n      <td>27.77607</td>\n      <td>0.44156</td>\n      <td>632.66250</td>\n      <td>0.21525</td>\n      <td>0.08860</td>\n      <td>32.01750</td>\n      <td>0.65541</td>\n      <td>1.51725</td>\n    </tr>\n    <tr>\n      <td>216078</td>\n      <td>38.75800</td>\n      <td>401.12030</td>\n      <td>15.34290</td>\n      <td>34.10803</td>\n      <td>163.92500</td>\n      <td>1.06727</td>\n      <td>1.70477</td>\n      <td>18.79667</td>\n      <td>3.30971</td>\n      <td>61.78833</td>\n      <td>26.10846</td>\n      <td>637.44670</td>\n      <td>59.97395</td>\n      <td>0.50476</td>\n      <td>536.88070</td>\n      <td>30.25287</td>\n      <td>0.12419</td>\n      <td>72.69333</td>\n      <td>1.12472</td>\n      <td>12.37573</td>\n    </tr>\n    <tr>\n      <td>21333</td>\n      <td>94.76400</td>\n      <td>209.31300</td>\n      <td>15.39000</td>\n      <td>4.11305</td>\n      <td>180.50000</td>\n      <td>0.00000</td>\n      <td>1.71000</td>\n      <td>22.44600</td>\n      <td>0.58782</td>\n      <td>56.64600</td>\n      <td>11.50107</td>\n      <td>546.55700</td>\n      <td>36.12986</td>\n      <td>0.34200</td>\n      <td>565.96400</td>\n      <td>0.00000</td>\n      <td>0.01675</td>\n      <td>133.00000</td>\n      <td>0.16069</td>\n      <td>0.00000</td>\n    </tr>\n    <tr>\n      <td>16741</td>\n      <td>34.14375</td>\n      <td>433.44250</td>\n      <td>15.47674</td>\n      <td>79.48119</td>\n      <td>68.43999</td>\n      <td>0.96588</td>\n      <td>1.71964</td>\n      <td>15.15375</td>\n      <td>1.42575</td>\n      <td>48.38625</td>\n      <td>19.45931</td>\n      <td>586.20250</td>\n      <td>28.26139</td>\n      <td>0.41385</td>\n      <td>939.07370</td>\n      <td>72.41016</td>\n      <td>0.13491</td>\n      <td>415.38630</td>\n      <td>0.76117</td>\n      <td>8.62694</td>\n    </tr>\n    <tr>\n      <td>8774</td>\n      <td>91.88625</td>\n      <td>210.72500</td>\n      <td>15.52792</td>\n      <td>15.53144</td>\n      <td>69.66499</td>\n      <td>0.53587</td>\n      <td>1.72532</td>\n      <td>36.37625</td>\n      <td>1.59298</td>\n      <td>43.21500</td>\n      <td>20.23806</td>\n      <td>427.88380</td>\n      <td>31.02489</td>\n      <td>0.44486</td>\n      <td>339.73750</td>\n      <td>3.08019</td>\n      <td>0.22731</td>\n      <td>149.73000</td>\n      <td>0.67854</td>\n      <td>1.41600</td>\n    </tr>\n    <tr>\n      <td>16759</td>\n      <td>58.40875</td>\n      <td>142.90090</td>\n      <td>15.53385</td>\n      <td>3.01041</td>\n      <td>68.43999</td>\n      <td>1.51053</td>\n      <td>1.72598</td>\n      <td>10.99283</td>\n      <td>2.08244</td>\n      <td>41.12742</td>\n      <td>18.72174</td>\n      <td>359.36470</td>\n      <td>27.74906</td>\n      <td>0.45778</td>\n      <td>1821.70700</td>\n      <td>0.36089</td>\n      <td>0.08847</td>\n      <td>183.36350</td>\n      <td>0.70953</td>\n      <td>2.86052</td>\n    </tr>\n    <tr>\n      <td>20450</td>\n      <td>87.18045</td>\n      <td>183.85760</td>\n      <td>15.54681</td>\n      <td>10.22224</td>\n      <td>259.51630</td>\n      <td>1.69853</td>\n      <td>1.72742</td>\n      <td>28.82361</td>\n      <td>5.59369</td>\n      <td>65.28769</td>\n      <td>11.00481</td>\n      <td>458.91330</td>\n      <td>30.41006</td>\n      <td>0.44267</td>\n      <td>1296.10300</td>\n      <td>3.18790</td>\n      <td>0.10577</td>\n      <td>1058.76100</td>\n      <td>0.28676</td>\n      <td>22.41578</td>\n    </tr>\n    <tr>\n      <td>88807</td>\n      <td>61.96250</td>\n      <td>304.05250</td>\n      <td>15.68272</td>\n      <td>38.92603</td>\n      <td>68.43999</td>\n      <td>2.76322</td>\n      <td>1.74253</td>\n      <td>39.36500</td>\n      <td>2.75243</td>\n      <td>105.85500</td>\n      <td>20.59476</td>\n      <td>788.68500</td>\n      <td>32.95667</td>\n      <td>0.43464</td>\n      <td>2841.04300</td>\n      <td>33.45795</td>\n      <td>0.28802</td>\n      <td>1120.07800</td>\n      <td>1.01081</td>\n      <td>78.66075</td>\n    </tr>\n    <tr>\n      <td>228367</td>\n      <td>37.07782</td>\n      <td>92.88802</td>\n      <td>16.25565</td>\n      <td>8.81987</td>\n      <td>23.40800</td>\n      <td>2.07303</td>\n      <td>1.80618</td>\n      <td>17.06868</td>\n      <td>2.42045</td>\n      <td>17.92577</td>\n      <td>5.16352</td>\n      <td>206.69440</td>\n      <td>10.42320</td>\n      <td>0.40453</td>\n      <td>359.14560</td>\n      <td>1.34871</td>\n      <td>0.08043</td>\n      <td>1621.32000</td>\n      <td>0.26637</td>\n      <td>5.95132</td>\n    </tr>\n    <tr>\n      <td>25184</td>\n      <td>66.96400</td>\n      <td>189.40250</td>\n      <td>17.04879</td>\n      <td>13.75606</td>\n      <td>68.43999</td>\n      <td>2.71421</td>\n      <td>1.89431</td>\n      <td>25.60050</td>\n      <td>2.72151</td>\n      <td>57.58750</td>\n      <td>20.37979</td>\n      <td>682.18350</td>\n      <td>29.59898</td>\n      <td>0.44888</td>\n      <td>430.51250</td>\n      <td>6.59301</td>\n      <td>0.18052</td>\n      <td>376.98750</td>\n      <td>0.84058</td>\n      <td>35.72860</td>\n    </tr>\n    <tr>\n      <td>17127</td>\n      <td>24.64633</td>\n      <td>79.87679</td>\n      <td>17.56330</td>\n      <td>14.38776</td>\n      <td>0.00000</td>\n      <td>1.02418</td>\n      <td>1.95148</td>\n      <td>38.06660</td>\n      <td>1.49800</td>\n      <td>9.48128</td>\n      <td>1.51831</td>\n      <td>131.80910</td>\n      <td>1.58117</td>\n      <td>0.26229</td>\n      <td>113.95420</td>\n      <td>2.42134</td>\n      <td>0.10364</td>\n      <td>94.03656</td>\n      <td>0.04585</td>\n      <td>5.10486</td>\n    </tr>\n    <tr>\n      <td>218769</td>\n      <td>88.77225</td>\n      <td>290.35250</td>\n      <td>17.78054</td>\n      <td>36.00395</td>\n      <td>65.88800</td>\n      <td>6.25110</td>\n      <td>1.97562</td>\n      <td>46.72144</td>\n      <td>3.45735</td>\n      <td>75.24933</td>\n      <td>19.65720</td>\n      <td>885.99420</td>\n      <td>30.59471</td>\n      <td>0.45762</td>\n      <td>624.98460</td>\n      <td>7.46020</td>\n      <td>0.19065</td>\n      <td>19569.46000</td>\n      <td>1.08235</td>\n      <td>11.65149</td>\n    </tr>\n    <tr>\n      <td>8844</td>\n      <td>60.82470</td>\n      <td>146.98300</td>\n      <td>17.78647</td>\n      <td>3.73750</td>\n      <td>68.43999</td>\n      <td>1.48718</td>\n      <td>1.97627</td>\n      <td>15.83472</td>\n      <td>1.86006</td>\n      <td>41.44095</td>\n      <td>18.61317</td>\n      <td>353.51240</td>\n      <td>27.62529</td>\n      <td>0.63329</td>\n      <td>78.92149</td>\n      <td>0.21058</td>\n      <td>0.10768</td>\n      <td>128.91860</td>\n      <td>0.74683</td>\n      <td>7.81592</td>\n    </tr>\n    <tr>\n      <td>58165</td>\n      <td>85.16553</td>\n      <td>177.63520</td>\n      <td>17.86570</td>\n      <td>36.08816</td>\n      <td>0.00000</td>\n      <td>5.60906</td>\n      <td>1.98508</td>\n      <td>69.90715</td>\n      <td>2.86837</td>\n      <td>52.83099</td>\n      <td>5.10885</td>\n      <td>860.50870</td>\n      <td>7.48331</td>\n      <td>0.28196</td>\n      <td>300.23750</td>\n      <td>7.04235</td>\n      <td>0.19393</td>\n      <td>1061.89000</td>\n      <td>0.20496</td>\n      <td>28.37095</td>\n    </tr>\n    <tr>\n      <td>236659</td>\n      <td>144.31290</td>\n      <td>277.44040</td>\n      <td>18.07150</td>\n      <td>46.39590</td>\n      <td>2.96625</td>\n      <td>20.35516</td>\n      <td>2.00794</td>\n      <td>296.02020</td>\n      <td>5.93832</td>\n      <td>99.34066</td>\n      <td>6.72620</td>\n      <td>1009.80200</td>\n      <td>20.47656</td>\n      <td>0.77410</td>\n      <td>245.04480</td>\n      <td>3.54271</td>\n      <td>0.39305</td>\n      <td>3548.26200</td>\n      <td>0.57387</td>\n      <td>29.99071</td>\n    </tr>\n    <tr>\n      <td>82813</td>\n      <td>60.11022</td>\n      <td>241.37160</td>\n      <td>18.20874</td>\n      <td>34.48413</td>\n      <td>49.57200</td>\n      <td>3.01054</td>\n      <td>2.02319</td>\n      <td>12.75282</td>\n      <td>2.51771</td>\n      <td>65.80404</td>\n      <td>15.43163</td>\n      <td>552.32580</td>\n      <td>22.70555</td>\n      <td>0.45646</td>\n      <td>620.33020</td>\n      <td>14.54929</td>\n      <td>0.18023</td>\n      <td>134.45690</td>\n      <td>0.63247</td>\n      <td>8.39391</td>\n    </tr>\n    <tr>\n      <td>18465</td>\n      <td>23.28500</td>\n      <td>329.22000</td>\n      <td>18.31050</td>\n      <td>66.99332</td>\n      <td>53.00000</td>\n      <td>3.41100</td>\n      <td>2.03450</td>\n      <td>128.49250</td>\n      <td>3.34558</td>\n      <td>34.15000</td>\n      <td>7.02553</td>\n      <td>396.68500</td>\n      <td>9.66607</td>\n      <td>0.53014</td>\n      <td>21.53750</td>\n      <td>1.12262</td>\n      <td>0.59271</td>\n      <td>76.12250</td>\n      <td>0.30019</td>\n      <td>7.08550</td>\n    </tr>\n    <tr>\n      <td>56311</td>\n      <td>52.27750</td>\n      <td>346.07130</td>\n      <td>18.46496</td>\n      <td>71.05899</td>\n      <td>46.50000</td>\n      <td>5.18625</td>\n      <td>2.05166</td>\n      <td>133.04250</td>\n      <td>3.84773</td>\n      <td>44.50625</td>\n      <td>6.59849</td>\n      <td>470.50000</td>\n      <td>9.88030</td>\n      <td>0.60262</td>\n      <td>372.04750</td>\n      <td>5.12364</td>\n      <td>0.57608</td>\n      <td>16163.57000</td>\n      <td>0.29245</td>\n      <td>2.96925</td>\n    </tr>\n    <tr>\n      <td>43834</td>\n      <td>36.82875</td>\n      <td>424.20000</td>\n      <td>18.73755</td>\n      <td>71.94494</td>\n      <td>69.66000</td>\n      <td>1.20663</td>\n      <td>2.08195</td>\n      <td>169.32380</td>\n      <td>9.87715</td>\n      <td>41.52250</td>\n      <td>26.97921</td>\n      <td>384.64870</td>\n      <td>31.34144</td>\n      <td>0.65594</td>\n      <td>287.40000</td>\n      <td>38.49424</td>\n      <td>0.57520</td>\n      <td>555.08250</td>\n      <td>1.63504</td>\n      <td>7.81837</td>\n    </tr>\n    <tr>\n      <td>70855</td>\n      <td>54.35055</td>\n      <td>209.49670</td>\n      <td>19.13259</td>\n      <td>17.98399</td>\n      <td>41.69915</td>\n      <td>0.96900</td>\n      <td>2.12584</td>\n      <td>46.07942</td>\n      <td>1.41822</td>\n      <td>42.79274</td>\n      <td>6.76700</td>\n      <td>532.31010</td>\n      <td>27.54374</td>\n      <td>0.43633</td>\n      <td>273.96440</td>\n      <td>0.70294</td>\n      <td>0.22293</td>\n      <td>132.53040</td>\n      <td>0.43849</td>\n      <td>1.47425</td>\n    </tr>\n    <tr>\n      <td>16683</td>\n      <td>21.61703</td>\n      <td>51.34326</td>\n      <td>19.49098</td>\n      <td>7.76088</td>\n      <td>0.00000</td>\n      <td>1.82380</td>\n      <td>2.16566</td>\n      <td>27.26200</td>\n      <td>0.63816</td>\n      <td>14.93200</td>\n      <td>1.57127</td>\n      <td>274.46300</td>\n      <td>1.67998</td>\n      <td>0.31973</td>\n      <td>5.20206</td>\n      <td>3.25150</td>\n      <td>0.06931</td>\n      <td>361.37800</td>\n      <td>0.23466</td>\n      <td>128.79080</td>\n    </tr>\n    <tr>\n      <td>220330</td>\n      <td>69.07284</td>\n      <td>448.05880</td>\n      <td>19.55348</td>\n      <td>78.23438</td>\n      <td>65.83000</td>\n      <td>3.66472</td>\n      <td>2.17261</td>\n      <td>26.14894</td>\n      <td>2.11750</td>\n      <td>72.10796</td>\n      <td>19.20723</td>\n      <td>1034.41800</td>\n      <td>29.23289</td>\n      <td>0.45505</td>\n      <td>2400.38300</td>\n      <td>51.11839</td>\n      <td>0.15097</td>\n      <td>562.59640</td>\n      <td>1.01723</td>\n      <td>69.74148</td>\n    </tr>\n    <tr>\n      <td>11810</td>\n      <td>101.26040</td>\n      <td>340.93490</td>\n      <td>19.64568</td>\n      <td>58.24082</td>\n      <td>30.92050</td>\n      <td>5.01917</td>\n      <td>2.18285</td>\n      <td>167.39920</td>\n      <td>17.10590</td>\n      <td>68.29796</td>\n      <td>11.59263</td>\n      <td>896.00430</td>\n      <td>22.10930</td>\n      <td>0.30765</td>\n      <td>768.16200</td>\n      <td>5.97775</td>\n      <td>0.76583</td>\n      <td>1417.13400</td>\n      <td>0.35882</td>\n      <td>29.57596</td>\n    </tr>\n    <tr>\n      <td>14526</td>\n      <td>22.94500</td>\n      <td>159.87500</td>\n      <td>19.86624</td>\n      <td>14.73075</td>\n      <td>51.68000</td>\n      <td>0.11800</td>\n      <td>2.20736</td>\n      <td>8.40200</td>\n      <td>0.95962</td>\n      <td>24.51200</td>\n      <td>12.46752</td>\n      <td>218.07800</td>\n      <td>19.40281</td>\n      <td>0.61693</td>\n      <td>331.87700</td>\n      <td>13.31170</td>\n      <td>0.06144</td>\n      <td>14.01800</td>\n      <td>0.40876</td>\n      <td>2.50000</td>\n    </tr>\n    <tr>\n      <td>21729</td>\n      <td>88.63178</td>\n      <td>131.15950</td>\n      <td>19.89487</td>\n      <td>3.63827</td>\n      <td>55.86347</td>\n      <td>1.69200</td>\n      <td>2.21054</td>\n      <td>125.71630</td>\n      <td>2.16616</td>\n      <td>83.54906</td>\n      <td>6.04470</td>\n      <td>864.54530</td>\n      <td>24.45964</td>\n      <td>0.72526</td>\n      <td>163.63600</td>\n      <td>1.09086</td>\n      <td>0.18840</td>\n      <td>5298.05400</td>\n      <td>0.40002</td>\n      <td>18.60600</td>\n    </tr>\n    <tr>\n      <td>52446</td>\n      <td>38.20867</td>\n      <td>257.24530</td>\n      <td>20.43768</td>\n      <td>15.17466</td>\n      <td>98.83200</td>\n      <td>0.57341</td>\n      <td>2.27085</td>\n      <td>28.36844</td>\n      <td>2.21795</td>\n      <td>73.88631</td>\n      <td>28.18748</td>\n      <td>635.80940</td>\n      <td>41.80741</td>\n      <td>0.58156</td>\n      <td>1916.71700</td>\n      <td>9.99985</td>\n      <td>0.18390</td>\n      <td>41.13300</td>\n      <td>1.09244</td>\n      <td>11.54527</td>\n    </tr>\n  </tbody>\n</table>\n</div>",
      "text/plain": "name     Calcium  Calories  Calories from Fat  Carbohydrates  Cholesterol  \\\nid                                                                          \n14725   24.03237  67.54216            1.32300       18.46258      0.00000   \n53194   49.32750 397.88000            5.74515       88.31117      0.00000   \n223269  37.05750 231.43500            8.60220       37.91700    172.57500   \n216688  22.24650 118.90550            8.60886       13.64523     46.74800   \n23444   38.18649 209.87540            9.39131       44.33629      0.00000   \n12768   28.54063 142.41270            9.84708        1.92550     60.66458   \n50939   39.96267 158.63580            9.87864       11.49181     43.92533   \n99480   30.53441 217.69060            9.99935       43.67070      0.03600   \n13963   68.01366 150.93530           11.10540       29.67201      0.00000   \n19478   49.18696 171.92940           11.42801        8.22539     61.49643   \n12040   58.80243 272.63290           11.54635       55.87332      0.00000   \n144479  22.44425 186.83300           12.06338       39.18475      2.68750   \n218941  51.91434 217.71130           12.40199       33.32563     31.02000   \n222247  86.33017 263.77840           12.56479       51.72636      0.00000   \n53560   49.20270 186.96790           13.20572       35.06419      0.00000   \n16160   19.43619 138.96910           13.28509        2.96244     68.43999   \n15536   90.32851 185.51750           13.47687       13.91330     68.43999   \n92528   28.60900 272.96180           13.56375        1.45668    163.99420   \n9025    46.42217 313.16140           13.60676       31.15595     68.43999   \n24792   27.78015 236.89600           13.65385       27.75914     68.43999   \n214555  18.59625 214.39250           14.11537       21.32403     68.43999   \n15224   18.37174 184.44340           14.29642       13.90498     68.44000   \n83440   87.64751 150.36010           14.33995       30.43600      0.00000   \n25491   38.75206 287.64500           14.63865       24.31943     68.43999   \n8606    19.80500 161.66250           15.01830        6.06837     68.47749   \n216078  38.75800 401.12030           15.34290       34.10803    163.92500   \n21333   94.76400 209.31300           15.39000        4.11305    180.50000   \n16741   34.14375 433.44250           15.47674       79.48119     68.43999   \n8774    91.88625 210.72500           15.52792       15.53144     69.66499   \n16759   58.40875 142.90090           15.53385        3.01041     68.43999   \n20450   87.18045 183.85760           15.54681       10.22224    259.51630   \n88807   61.96250 304.05250           15.68272       38.92603     68.43999   \n228367  37.07782  92.88802           16.25565        8.81987     23.40800   \n25184   66.96400 189.40250           17.04879       13.75606     68.43999   \n17127   24.64633  79.87679           17.56330       14.38776      0.00000   \n218769  88.77225 290.35250           17.78054       36.00395     65.88800   \n8844    60.82470 146.98300           17.78647        3.73750     68.43999   \n58165   85.16553 177.63520           17.86570       36.08816      0.00000   \n236659 144.31290 277.44040           18.07150       46.39590      2.96625   \n82813   60.11022 241.37160           18.20874       34.48413     49.57200   \n18465   23.28500 329.22000           18.31050       66.99332     53.00000   \n56311   52.27750 346.07130           18.46496       71.05899     46.50000   \n43834   36.82875 424.20000           18.73755       71.94494     69.66000   \n70855   54.35055 209.49670           19.13259       17.98399     41.69915   \n16683   21.61703  51.34326           19.49098        7.76088      0.00000   \n220330  69.07284 448.05880           19.55348       78.23438     65.83000   \n11810  101.26040 340.93490           19.64568       58.24082     30.92050   \n14526   22.94500 159.87500           19.86624       14.73075     51.68000   \n21729   88.63178 131.15950           19.89487        3.63827     55.86347   \n52446   38.20867 257.24530           20.43768       15.17466     98.83200   \n\nname    Dietary Fiber     Fat    Folate     Iron  Magnesium  \\\nid                                                            \n14725         0.93600 0.14700   4.35167  0.35016    8.68500   \n53194         8.96175 0.63835 116.22750  4.33315   91.76000   \n223269        1.08475 0.95580   4.38750  3.99262   30.93750   \n216688        1.15844 0.95654  25.04950  1.07770   23.97700   \n23444         2.80772 1.04348  75.07356  2.05814   34.38844   \n12768         0.26294 1.09412  11.49708  0.89822   40.17102   \n50939         1.01950 1.09763  34.71634  1.93125   43.76633   \n99480         2.53486 1.11104 134.84210  2.30272   38.63728   \n13963         6.44711 1.23393  25.01438  2.10318   29.34588   \n19478         2.13388 1.26978  16.80571  1.14409   56.26312   \n12040         5.01917 1.28293 154.01560  4.20236   59.99096   \n144479        0.92955 1.34038 110.71160  2.04425   14.93353   \n218941        0.62132 1.37800   8.18082  1.30598   38.45546   \n222247       11.34894 1.39609 127.75060  4.58009   65.66858   \n53560         8.08526 1.46730 187.67800  4.18453   48.89662   \n16160         0.20672 1.47612   9.53376  1.09001   35.76157   \n15536         0.27825 1.49743  10.26500  4.75663   43.91700   \n92528         0.13963 1.50708  11.85500  3.06420   57.29916   \n9025          0.47561 1.51186  12.00244  1.68259   50.19431   \n24792         0.41987 1.51709  17.69289  1.17039   35.17418   \n214555        0.32338 1.56838   6.85875  1.23771   37.08875   \n15224         0.24612 1.58849   6.51499  0.95148   37.46912   \n83440         4.88392 1.59333 120.16250  3.02546   26.22500   \n25491         0.44714 1.62652  29.54791  1.65043   55.98650   \n8606          0.18375 1.66870   9.18250  1.03410   34.76500   \n216078        1.06727 1.70477  18.79667  3.30971   61.78833   \n21333         0.00000 1.71000  22.44600  0.58782   56.64600   \n16741         0.96588 1.71964  15.15375  1.42575   48.38625   \n8774          0.53587 1.72532  36.37625  1.59298   43.21500   \n16759         1.51053 1.72598  10.99283  2.08244   41.12742   \n20450         1.69853 1.72742  28.82361  5.59369   65.28769   \n88807         2.76322 1.74253  39.36500  2.75243  105.85500   \n228367        2.07303 1.80618  17.06868  2.42045   17.92577   \n25184         2.71421 1.89431  25.60050  2.72151   57.58750   \n17127         1.02418 1.95148  38.06660  1.49800    9.48128   \n218769        6.25110 1.97562  46.72144  3.45735   75.24933   \n8844          1.48718 1.97627  15.83472  1.86006   41.44095   \n58165         5.60906 1.98508  69.90715  2.86837   52.83099   \n236659       20.35516 2.00794 296.02020  5.93832   99.34066   \n82813         3.01054 2.02319  12.75282  2.51771   65.80404   \n18465         3.41100 2.03450 128.49250  3.34558   34.15000   \n56311         5.18625 2.05166 133.04250  3.84773   44.50625   \n43834         1.20663 2.08195 169.32380  9.87715   41.52250   \n70855         0.96900 2.12584  46.07942  1.41822   42.79274   \n16683         1.82380 2.16566  27.26200  0.63816   14.93200   \n220330        3.66472 2.17261  26.14894  2.11750   72.10796   \n11810         5.01917 2.18285 167.39920 17.10590   68.29796   \n14526         0.11800 2.20736   8.40200  0.95962   24.51200   \n21729         1.69200 2.21054 125.71630  2.16616   83.54906   \n52446         0.57341 2.27085  28.36844  2.21795   73.88631   \n\nname    Niacin Equivalents  Potassium  Protein  Saturated Fat     Sodium  \\\nid                                                                         \n14725              0.54284  152.89170  0.75050        0.01992  337.39490   \n53194              8.31711 1587.04700 10.68192        0.14438  604.13500   \n223269             6.65573  183.10500 18.63247        0.25577 1469.93500   \n216688             5.88574  314.95600 13.19706        0.27537  244.44700   \n23444              3.31525  185.74780  5.09345        0.15813  877.09960   \n12768              8.38717  606.38600 29.66508        0.13887  183.87960   \n50939             12.94783  329.30670 19.65900        0.27302 1261.01400   \n99480              6.03543  184.85940  7.88552        0.21036  525.09090   \n13963              2.40721  312.88680  6.95731        0.22275  608.98160   \n19478              8.83872  964.33310 31.80096        0.17333  884.25600   \n12040              7.84494  606.18230 10.31797        0.22088  716.47410   \n144479             2.65990   87.89282  3.56275        0.73337   13.92602   \n218941             4.47353  461.01680 19.42915        0.25612 1398.69500   \n222247             5.38385  601.96420 11.64668        0.28095 1263.51900   \n53560              3.67365  582.21140  9.68532        0.23800  211.45360   \n16160             18.58749  349.92590 27.44011        0.39014   78.18385   \n15536             19.00691  858.11950 27.36117        0.39969  743.56200   \n92528             25.94215  576.94330 59.54927        0.48225  308.90370   \n9025              19.65842  436.92650 29.29357        0.40136 1663.58300   \n24792             18.97572  322.95150 27.90727        0.39833   96.77170   \n214555            18.72878  332.17000 27.65591        0.40638  678.41750   \n15224             18.66608  334.70620 27.44483        0.39619   76.97277   \n83440              2.02135  379.76510  4.21916        0.26816  249.93140   \n25491             19.45409  513.06350 28.78182        0.40195  983.39090   \n8606              18.85683  344.56250 27.77607        0.44156  632.66250   \n216078            26.10846  637.44670 59.97395        0.50476  536.88070   \n21333             11.50107  546.55700 36.12986        0.34200  565.96400   \n16741             19.45931  586.20250 28.26139        0.41385  939.07370   \n8774              20.23806  427.88380 31.02489        0.44486  339.73750   \n16759             18.72174  359.36470 27.74906        0.45778 1821.70700   \n20450             11.00481  458.91330 30.41006        0.44267 1296.10300   \n88807             20.59476  788.68500 32.95667        0.43464 2841.04300   \n228367             5.16352  206.69440 10.42320        0.40453  359.14560   \n25184             20.37979  682.18350 29.59898        0.44888  430.51250   \n17127              1.51831  131.80910  1.58117        0.26229  113.95420   \n218769            19.65720  885.99420 30.59471        0.45762  624.98460   \n8844              18.61317  353.51240 27.62529        0.63329   78.92149   \n58165              5.10885  860.50870  7.48331        0.28196  300.23750   \n236659             6.72620 1009.80200 20.47656        0.77410  245.04480   \n82813             15.43163  552.32580 22.70555        0.45646  620.33020   \n18465              7.02553  396.68500  9.66607        0.53014   21.53750   \n56311              6.59849  470.50000  9.88030        0.60262  372.04750   \n43834             26.97921  384.64870 31.34144        0.65594  287.40000   \n70855              6.76700  532.31010 27.54374        0.43633  273.96440   \n16683              1.57127  274.46300  1.67998        0.31973    5.20206   \n220330            19.20723 1034.41800 29.23289        0.45505 2400.38300   \n11810             11.59263  896.00430 22.10930        0.30765  768.16200   \n14526             12.46752  218.07800 19.40281        0.61693  331.87700   \n21729              6.04470  864.54530 24.45964        0.72526  163.63600   \n52446             28.18748  635.80940 41.80741        0.58156 1916.71700   \n\nname     Sugars  Thiamin  Vitamin A - IU  Vitamin B6  Vitamin C  \nid                                                               \n14725  15.72450  0.03643       285.30000     0.06808   18.40447  \n53194   2.96258  0.57003         7.38000     1.10230   72.69300  \n223269 34.79835  0.02744      1199.12500     0.12256    5.75887  \n216688  5.25938  0.06999       474.54500     0.39121   20.84430  \n23444   3.71350  0.21408      3392.83200     0.23771   25.25806  \n12768   0.58219  0.00985       143.79340     0.56049    6.59186  \n50939   5.20803  0.08861       757.76400     0.56095    6.49813  \n99480   2.05569  0.59393       902.10700     0.18070    1.40368  \n13963   3.93303  0.23748      1765.39600     0.20554   10.09619  \n19478   3.97864  0.05341       573.32030     0.76017    8.56958  \n12040   5.97775  0.69661      1138.85000     0.30805   19.37681  \n144479  0.89604  0.27644        32.40742     0.10807    3.25957  \n218941 29.63871  0.05291        79.41695     0.40204    2.86623  \n222247  3.89282  0.44864      8260.88800     0.25134   16.53840  \n53560   4.59518  0.27347      1630.36700     0.30547    9.72616  \n16160   0.84182  0.09324        54.24709     0.67004   15.76452  \n15536   6.82712  0.08374        81.63950     0.65257   10.47650  \n92528   0.10910  0.08969         0.00000     1.10647    0.27453  \n9025   27.91077  0.10517        25.75650     0.74392    2.82247  \n24792  21.39096  0.12590        47.44438     0.65926    3.96513  \n214555 17.48787  0.08590        32.17500     0.66863    1.60744  \n15224  13.32538  0.10681        34.12540     0.66872    4.93966  \n83440   7.04416  0.21135       708.50520     0.25687   59.43904  \n25491  19.41415  0.16104        31.42244     0.81134   14.00604  \n8606    0.21525  0.08860        32.01750     0.65541    1.51725  \n216078 30.25287  0.12419        72.69333     1.12472   12.37573  \n21333   0.00000  0.01675       133.00000     0.16069    0.00000  \n16741  72.41016  0.13491       415.38630     0.76117    8.62694  \n8774    3.08019  0.22731       149.73000     0.67854    1.41600  \n16759   0.36089  0.08847       183.36350     0.70953    2.86052  \n20450   3.18790  0.10577      1058.76100     0.28676   22.41578  \n88807  33.45795  0.28802      1120.07800     1.01081   78.66075  \n228367  1.34871  0.08043      1621.32000     0.26637    5.95132  \n25184   6.59301  0.18052       376.98750     0.84058   35.72860  \n17127   2.42134  0.10364        94.03656     0.04585    5.10486  \n218769  7.46020  0.19065     19569.46000     1.08235   11.65149  \n8844    0.21058  0.10768       128.91860     0.74683    7.81592  \n58165   7.04235  0.19393      1061.89000     0.20496   28.37095  \n236659  3.54271  0.39305      3548.26200     0.57387   29.99071  \n82813  14.54929  0.18023       134.45690     0.63247    8.39391  \n18465   1.12262  0.59271        76.12250     0.30019    7.08550  \n56311   5.12364  0.57608     16163.57000     0.29245    2.96925  \n43834  38.49424  0.57520       555.08250     1.63504    7.81837  \n70855   0.70294  0.22293       132.53040     0.43849    1.47425  \n16683   3.25150  0.06931       361.37800     0.23466  128.79080  \n220330 51.11839  0.15097       562.59640     1.01723   69.74148  \n11810   5.97775  0.76583      1417.13400     0.35882   29.57596  \n14526  13.31170  0.06144        14.01800     0.40876    2.50000  \n21729   1.09086  0.18840      5298.05400     0.40002   18.60600  \n52446   9.99985  0.18390        41.13300     1.09244   11.54527  "
     },
     "execution_count": 91,
     "metadata": {},
     "output_type": "execute_result"
    }
   ],
   "source": [
    "asd[0:50]"
   ]
  },
  {
   "cell_type": "code",
   "execution_count": 92,
   "metadata": {},
   "outputs": [
    {
     "data": {
      "text/plain": "array([ 14725,  53194, 223269, 216688,  23444,  12768,  50939,  99480,\n        13963,  19478])"
     },
     "execution_count": 92,
     "metadata": {},
     "output_type": "execute_result"
    }
   ],
   "source": [
    "asd[0:10].index.to_numpy()"
   ]
  },
  {
   "cell_type": "code",
   "execution_count": 93,
   "metadata": {},
   "outputs": [
    {
     "data": {
      "text/html": "<div>\n<style scoped>\n    .dataframe tbody tr th:only-of-type {\n        vertical-align: middle;\n    }\n\n    .dataframe tbody tr th {\n        vertical-align: top;\n    }\n\n    .dataframe thead th {\n        text-align: right;\n    }\n</style>\n<table border=\"1\" class=\"dataframe\">\n  <thead>\n    <tr style=\"text-align: right;\">\n      <th>name</th>\n      <th>Calcium</th>\n      <th>Calories</th>\n      <th>Calories from Fat</th>\n      <th>Carbohydrates</th>\n      <th>Cholesterol</th>\n      <th>Dietary Fiber</th>\n      <th>Fat</th>\n      <th>Folate</th>\n      <th>Iron</th>\n      <th>Magnesium</th>\n      <th>Niacin Equivalents</th>\n      <th>Potassium</th>\n      <th>Protein</th>\n      <th>Saturated Fat</th>\n      <th>Sodium</th>\n      <th>Sugars</th>\n      <th>Thiamin</th>\n      <th>Vitamin A - IU</th>\n      <th>Vitamin B6</th>\n      <th>Vitamin C</th>\n    </tr>\n  </thead>\n  <tbody>\n    <tr>\n      <td>count</td>\n      <td>100.00000</td>\n      <td>100.00000</td>\n      <td>100.00000</td>\n      <td>100.00000</td>\n      <td>100.00000</td>\n      <td>100.00000</td>\n      <td>100.00000</td>\n      <td>100.00000</td>\n      <td>100.00000</td>\n      <td>100.00000</td>\n      <td>100.00000</td>\n      <td>100.00000</td>\n      <td>100.00000</td>\n      <td>100.00000</td>\n      <td>100.00000</td>\n      <td>100.00000</td>\n      <td>100.00000</td>\n      <td>100.00000</td>\n      <td>100.00000</td>\n      <td>100.00000</td>\n    </tr>\n    <tr>\n      <td>mean</td>\n      <td>193.58762</td>\n      <td>542.33307</td>\n      <td>280.92923</td>\n      <td>35.24085</td>\n      <td>126.84912</td>\n      <td>3.11108</td>\n      <td>31.21436</td>\n      <td>82.54184</td>\n      <td>3.74909</td>\n      <td>51.49306</td>\n      <td>12.97124</td>\n      <td>588.90950</td>\n      <td>30.01276</td>\n      <td>13.91145</td>\n      <td>878.25259</td>\n      <td>5.90811</td>\n      <td>0.34132</td>\n      <td>1067.70516</td>\n      <td>0.46588</td>\n      <td>20.47902</td>\n    </tr>\n    <tr>\n      <td>std</td>\n      <td>152.15803</td>\n      <td>233.04451</td>\n      <td>142.35312</td>\n      <td>28.64292</td>\n      <td>53.88096</td>\n      <td>3.21868</td>\n      <td>15.81701</td>\n      <td>66.17241</td>\n      <td>1.69520</td>\n      <td>21.31506</td>\n      <td>5.61848</td>\n      <td>280.87722</td>\n      <td>11.85509</td>\n      <td>8.19141</td>\n      <td>536.23257</td>\n      <td>4.45822</td>\n      <td>0.29503</td>\n      <td>1583.40654</td>\n      <td>0.23021</td>\n      <td>29.69788</td>\n    </tr>\n    <tr>\n      <td>min</td>\n      <td>21.16217</td>\n      <td>178.02370</td>\n      <td>81.26787</td>\n      <td>3.96258</td>\n      <td>42.62200</td>\n      <td>0.05250</td>\n      <td>9.02976</td>\n      <td>5.91633</td>\n      <td>0.63185</td>\n      <td>14.54606</td>\n      <td>3.28438</td>\n      <td>97.71526</td>\n      <td>7.24539</td>\n      <td>2.95201</td>\n      <td>90.84255</td>\n      <td>0.35572</td>\n      <td>0.02349</td>\n      <td>24.77542</td>\n      <td>0.15045</td>\n      <td>0.05513</td>\n    </tr>\n    <tr>\n      <td>25%</td>\n      <td>86.60862</td>\n      <td>347.46640</td>\n      <td>163.69540</td>\n      <td>18.63982</td>\n      <td>77.00405</td>\n      <td>1.38853</td>\n      <td>18.18838</td>\n      <td>38.24905</td>\n      <td>2.52238</td>\n      <td>35.87920</td>\n      <td>9.08077</td>\n      <td>384.01743</td>\n      <td>21.36922</td>\n      <td>6.91110</td>\n      <td>559.10540</td>\n      <td>2.95941</td>\n      <td>0.14412</td>\n      <td>327.33435</td>\n      <td>0.28597</td>\n      <td>2.29055</td>\n    </tr>\n    <tr>\n      <td>50%</td>\n      <td>135.24265</td>\n      <td>521.07890</td>\n      <td>257.11545</td>\n      <td>29.01693</td>\n      <td>121.89220</td>\n      <td>2.31647</td>\n      <td>28.56839</td>\n      <td>61.06267</td>\n      <td>3.41979</td>\n      <td>48.47376</td>\n      <td>12.01238</td>\n      <td>544.86530</td>\n      <td>27.71758</td>\n      <td>12.81584</td>\n      <td>770.02640</td>\n      <td>4.64207</td>\n      <td>0.25400</td>\n      <td>708.12000</td>\n      <td>0.43604</td>\n      <td>6.28739</td>\n    </tr>\n    <tr>\n      <td>75%</td>\n      <td>270.99390</td>\n      <td>671.04170</td>\n      <td>358.37510</td>\n      <td>44.43137</td>\n      <td>162.93713</td>\n      <td>3.81326</td>\n      <td>39.81945</td>\n      <td>109.30135</td>\n      <td>4.77342</td>\n      <td>64.83919</td>\n      <td>16.13937</td>\n      <td>735.37780</td>\n      <td>37.10145</td>\n      <td>17.99064</td>\n      <td>1057.41650</td>\n      <td>7.94706</td>\n      <td>0.41822</td>\n      <td>1275.62625</td>\n      <td>0.57877</td>\n      <td>23.21081</td>\n    </tr>\n    <tr>\n      <td>max</td>\n      <td>805.72420</td>\n      <td>1828.19200</td>\n      <td>669.48660</td>\n      <td>236.72050</td>\n      <td>255.27750</td>\n      <td>27.83175</td>\n      <td>74.38741</td>\n      <td>356.06120</td>\n      <td>11.15067</td>\n      <td>122.85450</td>\n      <td>34.42963</td>\n      <td>1621.57200</td>\n      <td>73.59243</td>\n      <td>37.37759</td>\n      <td>2885.61300</td>\n      <td>21.95344</td>\n      <td>1.56088</td>\n      <td>12034.20000</td>\n      <td>1.15913</td>\n      <td>110.51560</td>\n    </tr>\n  </tbody>\n</table>\n</div>",
      "text/plain": "name    Calcium   Calories  Calories from Fat  Carbohydrates  Cholesterol  \\\ncount 100.00000  100.00000          100.00000      100.00000    100.00000   \nmean  193.58762  542.33307          280.92923       35.24085    126.84912   \nstd   152.15803  233.04451          142.35312       28.64292     53.88096   \nmin    21.16217  178.02370           81.26787        3.96258     42.62200   \n25%    86.60862  347.46640          163.69540       18.63982     77.00405   \n50%   135.24265  521.07890          257.11545       29.01693    121.89220   \n75%   270.99390  671.04170          358.37510       44.43137    162.93713   \nmax   805.72420 1828.19200          669.48660      236.72050    255.27750   \n\nname   Dietary Fiber       Fat    Folate      Iron  Magnesium  \\\ncount      100.00000 100.00000 100.00000 100.00000  100.00000   \nmean         3.11108  31.21436  82.54184   3.74909   51.49306   \nstd          3.21868  15.81701  66.17241   1.69520   21.31506   \nmin          0.05250   9.02976   5.91633   0.63185   14.54606   \n25%          1.38853  18.18838  38.24905   2.52238   35.87920   \n50%          2.31647  28.56839  61.06267   3.41979   48.47376   \n75%          3.81326  39.81945 109.30135   4.77342   64.83919   \nmax         27.83175  74.38741 356.06120  11.15067  122.85450   \n\nname   Niacin Equivalents  Potassium   Protein  Saturated Fat     Sodium  \\\ncount           100.00000  100.00000 100.00000      100.00000  100.00000   \nmean             12.97124  588.90950  30.01276       13.91145  878.25259   \nstd               5.61848  280.87722  11.85509        8.19141  536.23257   \nmin               3.28438   97.71526   7.24539        2.95201   90.84255   \n25%               9.08077  384.01743  21.36922        6.91110  559.10540   \n50%              12.01238  544.86530  27.71758       12.81584  770.02640   \n75%              16.13937  735.37780  37.10145       17.99064 1057.41650   \nmax              34.42963 1621.57200  73.59243       37.37759 2885.61300   \n\nname     Sugars   Thiamin  Vitamin A - IU  Vitamin B6  Vitamin C  \ncount 100.00000 100.00000       100.00000   100.00000  100.00000  \nmean    5.90811   0.34132      1067.70516     0.46588   20.47902  \nstd     4.45822   0.29503      1583.40654     0.23021   29.69788  \nmin     0.35572   0.02349        24.77542     0.15045    0.05513  \n25%     2.95941   0.14412       327.33435     0.28597    2.29055  \n50%     4.64207   0.25400       708.12000     0.43604    6.28739  \n75%     7.94706   0.41822      1275.62625     0.57877   23.21081  \nmax    21.95344   1.56088     12034.20000     1.15913  110.51560  "
     },
     "execution_count": 93,
     "metadata": {},
     "output_type": "execute_result"
    }
   ],
   "source": [
    "nutrition_fat_naiv.describe()"
   ]
  },
  {
   "cell_type": "code",
   "execution_count": 94,
   "metadata": {},
   "outputs": [],
   "source": [
    "subset_fat_asd = nutrition_fat_naiv[(nutrition_fat_naiv['Fat'] >= 10) & (nutrition_fat_naiv['Fat'] <= 15)].sample(n=8).copy()"
   ]
  },
  {
   "cell_type": "code",
   "execution_count": null,
   "metadata": {},
   "outputs": [],
   "source": []
  },
  {
   "cell_type": "code",
   "execution_count": 115,
   "metadata": {},
   "outputs": [
    {
     "data": {
      "text/html": "<div>\n<style scoped>\n    .dataframe tbody tr th:only-of-type {\n        vertical-align: middle;\n    }\n\n    .dataframe tbody tr th {\n        vertical-align: top;\n    }\n\n    .dataframe thead th {\n        text-align: right;\n    }\n</style>\n<table border=\"1\" class=\"dataframe\">\n  <thead>\n    <tr style=\"text-align: right;\">\n      <th>name</th>\n      <th>Calcium</th>\n      <th>Calories</th>\n      <th>Calories from Fat</th>\n      <th>Carbohydrates</th>\n      <th>Cholesterol</th>\n      <th>Dietary Fiber</th>\n      <th>Fat</th>\n      <th>Folate</th>\n      <th>Iron</th>\n      <th>Magnesium</th>\n      <th>Niacin Equivalents</th>\n      <th>Potassium</th>\n      <th>Protein</th>\n      <th>Saturated Fat</th>\n      <th>Sodium</th>\n      <th>Sugars</th>\n      <th>Thiamin</th>\n      <th>Vitamin A - IU</th>\n      <th>Vitamin B6</th>\n      <th>Vitamin C</th>\n    </tr>\n  </thead>\n  <tbody>\n    <tr>\n      <td>count</td>\n      <td>8.00000</td>\n      <td>8.00000</td>\n      <td>8.00000</td>\n      <td>8.00000</td>\n      <td>8.00000</td>\n      <td>8.00000</td>\n      <td>8.00000</td>\n      <td>8.00000</td>\n      <td>8.00000</td>\n      <td>8.00000</td>\n      <td>8.00000</td>\n      <td>8.00000</td>\n      <td>8.00000</td>\n      <td>8.00000</td>\n      <td>8.00000</td>\n      <td>8.00000</td>\n      <td>8.00000</td>\n      <td>8.00000</td>\n      <td>8.00000</td>\n      <td>8.00000</td>\n    </tr>\n    <tr>\n      <td>mean</td>\n      <td>162.80304</td>\n      <td>334.50117</td>\n      <td>123.01987</td>\n      <td>32.78413</td>\n      <td>67.18158</td>\n      <td>4.00545</td>\n      <td>13.66888</td>\n      <td>91.52332</td>\n      <td>3.08246</td>\n      <td>48.43924</td>\n      <td>8.95656</td>\n      <td>608.06613</td>\n      <td>20.27056</td>\n      <td>5.84605</td>\n      <td>617.81806</td>\n      <td>6.73912</td>\n      <td>0.27280</td>\n      <td>1990.47048</td>\n      <td>0.43365</td>\n      <td>32.21983</td>\n    </tr>\n    <tr>\n      <td>std</td>\n      <td>118.70006</td>\n      <td>86.45515</td>\n      <td>11.09020</td>\n      <td>19.87579</td>\n      <td>11.43892</td>\n      <td>2.94701</td>\n      <td>1.23224</td>\n      <td>70.15791</td>\n      <td>1.11092</td>\n      <td>20.77865</td>\n      <td>2.33444</td>\n      <td>464.87719</td>\n      <td>4.59847</td>\n      <td>1.50548</td>\n      <td>349.37536</td>\n      <td>4.28400</td>\n      <td>0.21137</td>\n      <td>4074.32996</td>\n      <td>0.31372</td>\n      <td>35.18379</td>\n    </tr>\n    <tr>\n      <td>min</td>\n      <td>42.22150</td>\n      <td>200.50960</td>\n      <td>96.83125</td>\n      <td>8.50724</td>\n      <td>53.31907</td>\n      <td>0.18479</td>\n      <td>10.75903</td>\n      <td>19.02514</td>\n      <td>1.61694</td>\n      <td>22.19329</td>\n      <td>6.48622</td>\n      <td>202.27820</td>\n      <td>11.25829</td>\n      <td>3.22836</td>\n      <td>132.19910</td>\n      <td>2.23212</td>\n      <td>0.06435</td>\n      <td>124.58660</td>\n      <td>0.16549</td>\n      <td>0.24869</td>\n    </tr>\n    <tr>\n      <td>25%</td>\n      <td>88.16350</td>\n      <td>287.39178</td>\n      <td>122.28388</td>\n      <td>19.57224</td>\n      <td>55.15042</td>\n      <td>2.41122</td>\n      <td>13.58710</td>\n      <td>54.77253</td>\n      <td>2.16691</td>\n      <td>37.15158</td>\n      <td>7.09761</td>\n      <td>287.17927</td>\n      <td>18.83971</td>\n      <td>5.27881</td>\n      <td>422.60060</td>\n      <td>3.92589</td>\n      <td>0.14520</td>\n      <td>405.76583</td>\n      <td>0.24251</td>\n      <td>1.50123</td>\n    </tr>\n    <tr>\n      <td>50%</td>\n      <td>117.79295</td>\n      <td>338.04640</td>\n      <td>127.18270</td>\n      <td>27.61447</td>\n      <td>71.05518</td>\n      <td>2.62511</td>\n      <td>14.13142</td>\n      <td>63.03995</td>\n      <td>3.18240</td>\n      <td>47.48286</td>\n      <td>8.56762</td>\n      <td>491.94015</td>\n      <td>21.39810</td>\n      <td>5.76511</td>\n      <td>665.69385</td>\n      <td>6.00521</td>\n      <td>0.20866</td>\n      <td>592.38995</td>\n      <td>0.35662</td>\n      <td>19.70184</td>\n    </tr>\n    <tr>\n      <td>75%</td>\n      <td>212.52058</td>\n      <td>394.08360</td>\n      <td>128.54217</td>\n      <td>54.38408</td>\n      <td>72.83828</td>\n      <td>6.15036</td>\n      <td>14.28247</td>\n      <td>106.04683</td>\n      <td>3.77064</td>\n      <td>54.78190</td>\n      <td>10.08627</td>\n      <td>733.37680</td>\n      <td>22.93564</td>\n      <td>6.74809</td>\n      <td>836.35553</td>\n      <td>8.35532</td>\n      <td>0.35260</td>\n      <td>786.99420</td>\n      <td>0.50485</td>\n      <td>61.95011</td>\n    </tr>\n    <tr>\n      <td>max</td>\n      <td>348.36540</td>\n      <td>451.01290</td>\n      <td>131.31390</td>\n      <td>55.97997</td>\n      <td>83.48000</td>\n      <td>8.34100</td>\n      <td>14.59043</td>\n      <td>232.06060</td>\n      <td>4.67316</td>\n      <td>88.10890</td>\n      <td>13.20469</td>\n      <td>1621.57200</td>\n      <td>25.49099</td>\n      <td>8.03736</td>\n      <td>1054.25900</td>\n      <td>15.31507</td>\n      <td>0.71992</td>\n      <td>12034.20000</td>\n      <td>1.12891</td>\n      <td>85.11700</td>\n    </tr>\n  </tbody>\n</table>\n</div>",
      "text/plain": "name    Calcium  Calories  Calories from Fat  Carbohydrates  Cholesterol  \\\ncount   8.00000   8.00000            8.00000        8.00000      8.00000   \nmean  162.80304 334.50117          123.01987       32.78413     67.18158   \nstd   118.70006  86.45515           11.09020       19.87579     11.43892   \nmin    42.22150 200.50960           96.83125        8.50724     53.31907   \n25%    88.16350 287.39178          122.28388       19.57224     55.15042   \n50%   117.79295 338.04640          127.18270       27.61447     71.05518   \n75%   212.52058 394.08360          128.54217       54.38408     72.83828   \nmax   348.36540 451.01290          131.31390       55.97997     83.48000   \n\nname   Dietary Fiber      Fat    Folate    Iron  Magnesium  \\\ncount        8.00000  8.00000   8.00000 8.00000    8.00000   \nmean         4.00545 13.66888  91.52332 3.08246   48.43924   \nstd          2.94701  1.23224  70.15791 1.11092   20.77865   \nmin          0.18479 10.75903  19.02514 1.61694   22.19329   \n25%          2.41122 13.58710  54.77253 2.16691   37.15158   \n50%          2.62511 14.13142  63.03995 3.18240   47.48286   \n75%          6.15036 14.28247 106.04683 3.77064   54.78190   \nmax          8.34100 14.59043 232.06060 4.67316   88.10890   \n\nname   Niacin Equivalents  Potassium  Protein  Saturated Fat     Sodium  \\\ncount             8.00000    8.00000  8.00000        8.00000    8.00000   \nmean              8.95656  608.06613 20.27056        5.84605  617.81806   \nstd               2.33444  464.87719  4.59847        1.50548  349.37536   \nmin               6.48622  202.27820 11.25829        3.22836  132.19910   \n25%               7.09761  287.17927 18.83971        5.27881  422.60060   \n50%               8.56762  491.94015 21.39810        5.76511  665.69385   \n75%              10.08627  733.37680 22.93564        6.74809  836.35553   \nmax              13.20469 1621.57200 25.49099        8.03736 1054.25900   \n\nname    Sugars  Thiamin  Vitamin A - IU  Vitamin B6  Vitamin C  \ncount  8.00000  8.00000         8.00000     8.00000    8.00000  \nmean   6.73912  0.27280      1990.47048     0.43365   32.21983  \nstd    4.28400  0.21137      4074.32996     0.31372   35.18379  \nmin    2.23212  0.06435       124.58660     0.16549    0.24869  \n25%    3.92589  0.14520       405.76583     0.24251    1.50123  \n50%    6.00521  0.20866       592.38995     0.35662   19.70184  \n75%    8.35532  0.35260       786.99420     0.50485   61.95011  \nmax   15.31507  0.71992     12034.20000     1.12891   85.11700  "
     },
     "execution_count": 115,
     "metadata": {},
     "output_type": "execute_result"
    }
   ],
   "source": [
    "subset_fat_asd.describe()"
   ]
  },
  {
   "cell_type": "code",
   "execution_count": 116,
   "metadata": {},
   "outputs": [],
   "source": [
    "new_df = subset_fat_asd[['Calories', 'Calories from Fat', 'Carbohydrates', 'Fat', 'Saturated Fat', 'Protein', 'Calcium', 'Magnesium', 'Iron' ]]"
   ]
  },
  {
   "cell_type": "code",
   "execution_count": 118,
   "metadata": {},
   "outputs": [
    {
     "data": {
      "text/html": "<div>\n<style scoped>\n    .dataframe tbody tr th:only-of-type {\n        vertical-align: middle;\n    }\n\n    .dataframe tbody tr th {\n        vertical-align: top;\n    }\n\n    .dataframe thead th {\n        text-align: right;\n    }\n</style>\n<table border=\"1\" class=\"dataframe\">\n  <thead>\n    <tr style=\"text-align: right;\">\n      <th>name</th>\n      <th>Calories</th>\n      <th>Calories from Fat</th>\n      <th>Carbohydrates</th>\n      <th>Fat</th>\n      <th>Saturated Fat</th>\n      <th>Protein</th>\n      <th>Calcium</th>\n      <th>Magnesium</th>\n      <th>Iron</th>\n    </tr>\n  </thead>\n  <tbody>\n    <tr>\n      <td>count</td>\n      <td>8.00000</td>\n      <td>8.00000</td>\n      <td>8.00000</td>\n      <td>8.00000</td>\n      <td>8.00000</td>\n      <td>8.00000</td>\n      <td>8.00000</td>\n      <td>8.00000</td>\n      <td>8.00000</td>\n    </tr>\n    <tr>\n      <td>mean</td>\n      <td>334.50117</td>\n      <td>123.01987</td>\n      <td>32.78413</td>\n      <td>13.66888</td>\n      <td>5.84605</td>\n      <td>20.27056</td>\n      <td>162.80304</td>\n      <td>48.43924</td>\n      <td>3.08246</td>\n    </tr>\n    <tr>\n      <td>std</td>\n      <td>86.45515</td>\n      <td>11.09020</td>\n      <td>19.87579</td>\n      <td>1.23224</td>\n      <td>1.50548</td>\n      <td>4.59847</td>\n      <td>118.70006</td>\n      <td>20.77865</td>\n      <td>1.11092</td>\n    </tr>\n    <tr>\n      <td>min</td>\n      <td>200.50960</td>\n      <td>96.83125</td>\n      <td>8.50724</td>\n      <td>10.75903</td>\n      <td>3.22836</td>\n      <td>11.25829</td>\n      <td>42.22150</td>\n      <td>22.19329</td>\n      <td>1.61694</td>\n    </tr>\n    <tr>\n      <td>25%</td>\n      <td>287.39178</td>\n      <td>122.28388</td>\n      <td>19.57224</td>\n      <td>13.58710</td>\n      <td>5.27881</td>\n      <td>18.83971</td>\n      <td>88.16350</td>\n      <td>37.15158</td>\n      <td>2.16691</td>\n    </tr>\n    <tr>\n      <td>50%</td>\n      <td>338.04640</td>\n      <td>127.18270</td>\n      <td>27.61447</td>\n      <td>14.13142</td>\n      <td>5.76511</td>\n      <td>21.39810</td>\n      <td>117.79295</td>\n      <td>47.48286</td>\n      <td>3.18240</td>\n    </tr>\n    <tr>\n      <td>75%</td>\n      <td>394.08360</td>\n      <td>128.54217</td>\n      <td>54.38408</td>\n      <td>14.28247</td>\n      <td>6.74809</td>\n      <td>22.93564</td>\n      <td>212.52058</td>\n      <td>54.78190</td>\n      <td>3.77064</td>\n    </tr>\n    <tr>\n      <td>max</td>\n      <td>451.01290</td>\n      <td>131.31390</td>\n      <td>55.97997</td>\n      <td>14.59043</td>\n      <td>8.03736</td>\n      <td>25.49099</td>\n      <td>348.36540</td>\n      <td>88.10890</td>\n      <td>4.67316</td>\n    </tr>\n  </tbody>\n</table>\n</div>",
      "text/plain": "name   Calories  Calories from Fat  Carbohydrates      Fat  Saturated Fat  \\\ncount   8.00000            8.00000        8.00000  8.00000        8.00000   \nmean  334.50117          123.01987       32.78413 13.66888        5.84605   \nstd    86.45515           11.09020       19.87579  1.23224        1.50548   \nmin   200.50960           96.83125        8.50724 10.75903        3.22836   \n25%   287.39178          122.28388       19.57224 13.58710        5.27881   \n50%   338.04640          127.18270       27.61447 14.13142        5.76511   \n75%   394.08360          128.54217       54.38408 14.28247        6.74809   \nmax   451.01290          131.31390       55.97997 14.59043        8.03736   \n\nname   Protein   Calcium  Magnesium    Iron  \ncount  8.00000   8.00000    8.00000 8.00000  \nmean  20.27056 162.80304   48.43924 3.08246  \nstd    4.59847 118.70006   20.77865 1.11092  \nmin   11.25829  42.22150   22.19329 1.61694  \n25%   18.83971  88.16350   37.15158 2.16691  \n50%   21.39810 117.79295   47.48286 3.18240  \n75%   22.93564 212.52058   54.78190 3.77064  \nmax   25.49099 348.36540   88.10890 4.67316  "
     },
     "execution_count": 118,
     "metadata": {},
     "output_type": "execute_result"
    }
   ],
   "source": [
    "new_df.describe()"
   ]
  },
  {
   "cell_type": "code",
   "execution_count": null,
   "metadata": {},
   "outputs": [],
   "source": []
  },
  {
   "cell_type": "code",
   "execution_count": null,
   "metadata": {},
   "outputs": [],
   "source": []
  },
  {
   "cell_type": "code",
   "execution_count": 96,
   "metadata": {},
   "outputs": [],
   "source": [
    "#  ------ Erstellung und cleansing des Nutrition Dataframes\n",
    "\n",
    "# erstelle neue liste auf basis der bereits gefilterten rezepte aus ingredients_filt\n",
    "id_overlap_mask = nutritions['id'].isin(new_recipe_db_wo_userrecipes_fat.sample(n=10, random_state=0).index.to_numpy())\n",
    "\n",
    "# erstelle datenframe auf basis der overlapliste\n",
    "nutritions_filt = nutritions.loc[id_overlap_mask]\n",
    "\n",
    "nutrition_random_10 = nutritions_filt.pivot_table(\n",
    "    index=['id'],\n",
    "    columns=['name'],\n",
    "    values=['amount'],\n",
    ").reset_index()\n",
    "\n",
    "nutrition_random_10.set_index('id', inplace=True)\n",
    "\n",
    "# remove multiindex 'amount'\n",
    "nutrition_random_10.columns = nutrition_random_10.columns.droplevel(0)\n",
    "\n",
    "# entferne alle NA\n",
    "nutrition_random_10 = nutrition_random_10.dropna()"
   ]
  },
  {
   "cell_type": "code",
   "execution_count": 97,
   "metadata": {},
   "outputs": [
    {
     "data": {
      "text/html": "<div>\n<style scoped>\n    .dataframe tbody tr th:only-of-type {\n        vertical-align: middle;\n    }\n\n    .dataframe tbody tr th {\n        vertical-align: top;\n    }\n\n    .dataframe thead th {\n        text-align: right;\n    }\n</style>\n<table border=\"1\" class=\"dataframe\">\n  <thead>\n    <tr style=\"text-align: right;\">\n      <th>name</th>\n      <th>Calcium</th>\n      <th>Calories</th>\n      <th>Calories from Fat</th>\n      <th>Carbohydrates</th>\n      <th>Cholesterol</th>\n      <th>Dietary Fiber</th>\n      <th>Fat</th>\n      <th>Folate</th>\n      <th>Iron</th>\n      <th>Magnesium</th>\n      <th>Niacin Equivalents</th>\n      <th>Potassium</th>\n      <th>Protein</th>\n      <th>Saturated Fat</th>\n      <th>Sodium</th>\n      <th>Sugars</th>\n      <th>Thiamin</th>\n      <th>Vitamin A - IU</th>\n      <th>Vitamin B6</th>\n      <th>Vitamin C</th>\n    </tr>\n  </thead>\n  <tbody>\n    <tr>\n      <td>count</td>\n      <td>10.00000</td>\n      <td>10.00000</td>\n      <td>10.00000</td>\n      <td>10.00000</td>\n      <td>10.00000</td>\n      <td>10.00000</td>\n      <td>10.00000</td>\n      <td>10.00000</td>\n      <td>10.00000</td>\n      <td>10.00000</td>\n      <td>10.00000</td>\n      <td>10.00000</td>\n      <td>10.00000</td>\n      <td>10.00000</td>\n      <td>10.00000</td>\n      <td>10.00000</td>\n      <td>10.00000</td>\n      <td>10.00000</td>\n      <td>10.00000</td>\n      <td>10.00000</td>\n    </tr>\n    <tr>\n      <td>mean</td>\n      <td>137.90247</td>\n      <td>451.04469</td>\n      <td>211.85386</td>\n      <td>31.49681</td>\n      <td>82.84401</td>\n      <td>2.89383</td>\n      <td>23.53932</td>\n      <td>74.55430</td>\n      <td>3.44682</td>\n      <td>51.44868</td>\n      <td>12.61770</td>\n      <td>499.74915</td>\n      <td>28.10035</td>\n      <td>9.71581</td>\n      <td>719.19517</td>\n      <td>5.93412</td>\n      <td>0.27628</td>\n      <td>797.43848</td>\n      <td>0.47752</td>\n      <td>22.14323</td>\n    </tr>\n    <tr>\n      <td>std</td>\n      <td>128.19425</td>\n      <td>128.11832</td>\n      <td>112.91222</td>\n      <td>19.86946</td>\n      <td>23.58573</td>\n      <td>2.13513</td>\n      <td>12.54580</td>\n      <td>63.62439</td>\n      <td>1.83572</td>\n      <td>25.37871</td>\n      <td>4.65311</td>\n      <td>228.03533</td>\n      <td>6.53025</td>\n      <td>10.16515</td>\n      <td>447.66180</td>\n      <td>4.63905</td>\n      <td>0.22714</td>\n      <td>634.90664</td>\n      <td>0.12033</td>\n      <td>24.80110</td>\n    </tr>\n    <tr>\n      <td>min</td>\n      <td>32.86518</td>\n      <td>279.24210</td>\n      <td>108.20860</td>\n      <td>2.57644</td>\n      <td>41.49303</td>\n      <td>0.31548</td>\n      <td>12.02318</td>\n      <td>11.60304</td>\n      <td>1.22664</td>\n      <td>27.07817</td>\n      <td>7.11536</td>\n      <td>262.10830</td>\n      <td>21.15413</td>\n      <td>2.13052</td>\n      <td>82.90843</td>\n      <td>0.13450</td>\n      <td>0.08658</td>\n      <td>79.34875</td>\n      <td>0.27633</td>\n      <td>0.00000</td>\n    </tr>\n    <tr>\n      <td>25%</td>\n      <td>45.73175</td>\n      <td>371.96933</td>\n      <td>135.81108</td>\n      <td>18.95888</td>\n      <td>68.72561</td>\n      <td>1.39430</td>\n      <td>15.09012</td>\n      <td>33.66391</td>\n      <td>1.97259</td>\n      <td>33.18492</td>\n      <td>8.49876</td>\n      <td>340.32630</td>\n      <td>22.94277</td>\n      <td>4.65956</td>\n      <td>304.59725</td>\n      <td>2.14126</td>\n      <td>0.16069</td>\n      <td>320.54398</td>\n      <td>0.38944</td>\n      <td>5.34257</td>\n    </tr>\n    <tr>\n      <td>50%</td>\n      <td>69.95123</td>\n      <td>428.61385</td>\n      <td>178.15480</td>\n      <td>29.86084</td>\n      <td>78.14209</td>\n      <td>2.72588</td>\n      <td>19.79498</td>\n      <td>53.02626</td>\n      <td>3.44418</td>\n      <td>38.86832</td>\n      <td>12.86435</td>\n      <td>400.11105</td>\n      <td>26.50746</td>\n      <td>7.84864</td>\n      <td>814.10190</td>\n      <td>6.20918</td>\n      <td>0.17573</td>\n      <td>718.81440</td>\n      <td>0.51670</td>\n      <td>11.51254</td>\n    </tr>\n    <tr>\n      <td>75%</td>\n      <td>195.90750</td>\n      <td>497.28538</td>\n      <td>240.62243</td>\n      <td>43.23842</td>\n      <td>99.89125</td>\n      <td>3.86521</td>\n      <td>26.73582</td>\n      <td>90.83728</td>\n      <td>4.35050</td>\n      <td>66.89249</td>\n      <td>15.29302</td>\n      <td>699.12432</td>\n      <td>31.21765</td>\n      <td>9.31209</td>\n      <td>1118.09800</td>\n      <td>7.57461</td>\n      <td>0.32586</td>\n      <td>969.58330</td>\n      <td>0.55993</td>\n      <td>37.01577</td>\n    </tr>\n    <tr>\n      <td>max</td>\n      <td>376.12170</td>\n      <td>654.76330</td>\n      <td>490.68870</td>\n      <td>66.52579</td>\n      <td>118.39000</td>\n      <td>7.56122</td>\n      <td>54.52096</td>\n      <td>199.01580</td>\n      <td>7.47058</td>\n      <td>100.54290</td>\n      <td>20.54744</td>\n      <td>874.28940</td>\n      <td>41.70995</td>\n      <td>37.44320</td>\n      <td>1285.50900</td>\n      <td>13.47391</td>\n      <td>0.83562</td>\n      <td>2185.77200</td>\n      <td>0.62032</td>\n      <td>72.18467</td>\n    </tr>\n  </tbody>\n</table>\n</div>",
      "text/plain": "name    Calcium  Calories  Calories from Fat  Carbohydrates  Cholesterol  \\\ncount  10.00000  10.00000           10.00000       10.00000     10.00000   \nmean  137.90247 451.04469          211.85386       31.49681     82.84401   \nstd   128.19425 128.11832          112.91222       19.86946     23.58573   \nmin    32.86518 279.24210          108.20860        2.57644     41.49303   \n25%    45.73175 371.96933          135.81108       18.95888     68.72561   \n50%    69.95123 428.61385          178.15480       29.86084     78.14209   \n75%   195.90750 497.28538          240.62243       43.23842     99.89125   \nmax   376.12170 654.76330          490.68870       66.52579    118.39000   \n\nname   Dietary Fiber      Fat    Folate     Iron  Magnesium  \\\ncount       10.00000 10.00000  10.00000 10.00000   10.00000   \nmean         2.89383 23.53932  74.55430  3.44682   51.44868   \nstd          2.13513 12.54580  63.62439  1.83572   25.37871   \nmin          0.31548 12.02318  11.60304  1.22664   27.07817   \n25%          1.39430 15.09012  33.66391  1.97259   33.18492   \n50%          2.72588 19.79498  53.02626  3.44418   38.86832   \n75%          3.86521 26.73582  90.83728  4.35050   66.89249   \nmax          7.56122 54.52096 199.01580  7.47058  100.54290   \n\nname   Niacin Equivalents  Potassium  Protein  Saturated Fat     Sodium  \\\ncount            10.00000   10.00000 10.00000       10.00000   10.00000   \nmean             12.61770  499.74915 28.10035        9.71581  719.19517   \nstd               4.65311  228.03533  6.53025       10.16515  447.66180   \nmin               7.11536  262.10830 21.15413        2.13052   82.90843   \n25%               8.49876  340.32630 22.94277        4.65956  304.59725   \n50%              12.86435  400.11105 26.50746        7.84864  814.10190   \n75%              15.29302  699.12432 31.21765        9.31209 1118.09800   \nmax              20.54744  874.28940 41.70995       37.44320 1285.50900   \n\nname    Sugars  Thiamin  Vitamin A - IU  Vitamin B6  Vitamin C  \ncount 10.00000 10.00000        10.00000    10.00000   10.00000  \nmean   5.93412  0.27628       797.43848     0.47752   22.14323  \nstd    4.63905  0.22714       634.90664     0.12033   24.80110  \nmin    0.13450  0.08658        79.34875     0.27633    0.00000  \n25%    2.14126  0.16069       320.54398     0.38944    5.34257  \n50%    6.20918  0.17573       718.81440     0.51670   11.51254  \n75%    7.57461  0.32586       969.58330     0.55993   37.01577  \nmax   13.47391  0.83562      2185.77200     0.62032   72.18467  "
     },
     "execution_count": 97,
     "metadata": {},
     "output_type": "execute_result"
    }
   ],
   "source": [
    "nutrition_random_10.describe()"
   ]
  },
  {
   "cell_type": "code",
   "execution_count": 98,
   "metadata": {},
   "outputs": [],
   "source": [
    "new_df = nutrition_random_10[['Calories', 'Calories from Fat', 'Carbohydrates', 'Fat', 'Saturated Fat', 'Protein', 'Calcium', 'Magnesium', 'Iron' ]]"
   ]
  },
  {
   "cell_type": "code",
   "execution_count": 99,
   "metadata": {},
   "outputs": [
    {
     "data": {
      "text/html": "<div>\n<style scoped>\n    .dataframe tbody tr th:only-of-type {\n        vertical-align: middle;\n    }\n\n    .dataframe tbody tr th {\n        vertical-align: top;\n    }\n\n    .dataframe thead th {\n        text-align: right;\n    }\n</style>\n<table border=\"1\" class=\"dataframe\">\n  <thead>\n    <tr style=\"text-align: right;\">\n      <th>name</th>\n      <th>Calories</th>\n      <th>Calories from Fat</th>\n      <th>Carbohydrates</th>\n      <th>Fat</th>\n      <th>Saturated Fat</th>\n      <th>Protein</th>\n      <th>Calcium</th>\n      <th>Magnesium</th>\n      <th>Iron</th>\n    </tr>\n  </thead>\n  <tbody>\n    <tr>\n      <td>count</td>\n      <td>10.00000</td>\n      <td>10.00000</td>\n      <td>10.00000</td>\n      <td>10.00000</td>\n      <td>10.00000</td>\n      <td>10.00000</td>\n      <td>10.00000</td>\n      <td>10.00000</td>\n      <td>10.00000</td>\n    </tr>\n    <tr>\n      <td>mean</td>\n      <td>451.04469</td>\n      <td>211.85386</td>\n      <td>31.49681</td>\n      <td>23.53932</td>\n      <td>9.71581</td>\n      <td>28.10035</td>\n      <td>137.90247</td>\n      <td>51.44868</td>\n      <td>3.44682</td>\n    </tr>\n    <tr>\n      <td>std</td>\n      <td>128.11832</td>\n      <td>112.91222</td>\n      <td>19.86946</td>\n      <td>12.54580</td>\n      <td>10.16515</td>\n      <td>6.53025</td>\n      <td>128.19425</td>\n      <td>25.37871</td>\n      <td>1.83572</td>\n    </tr>\n    <tr>\n      <td>min</td>\n      <td>279.24210</td>\n      <td>108.20860</td>\n      <td>2.57644</td>\n      <td>12.02318</td>\n      <td>2.13052</td>\n      <td>21.15413</td>\n      <td>32.86518</td>\n      <td>27.07817</td>\n      <td>1.22664</td>\n    </tr>\n    <tr>\n      <td>25%</td>\n      <td>371.96933</td>\n      <td>135.81108</td>\n      <td>18.95888</td>\n      <td>15.09012</td>\n      <td>4.65956</td>\n      <td>22.94277</td>\n      <td>45.73175</td>\n      <td>33.18492</td>\n      <td>1.97259</td>\n    </tr>\n    <tr>\n      <td>50%</td>\n      <td>428.61385</td>\n      <td>178.15480</td>\n      <td>29.86084</td>\n      <td>19.79498</td>\n      <td>7.84864</td>\n      <td>26.50746</td>\n      <td>69.95123</td>\n      <td>38.86832</td>\n      <td>3.44418</td>\n    </tr>\n    <tr>\n      <td>75%</td>\n      <td>497.28538</td>\n      <td>240.62243</td>\n      <td>43.23842</td>\n      <td>26.73582</td>\n      <td>9.31209</td>\n      <td>31.21765</td>\n      <td>195.90750</td>\n      <td>66.89249</td>\n      <td>4.35050</td>\n    </tr>\n    <tr>\n      <td>max</td>\n      <td>654.76330</td>\n      <td>490.68870</td>\n      <td>66.52579</td>\n      <td>54.52096</td>\n      <td>37.44320</td>\n      <td>41.70995</td>\n      <td>376.12170</td>\n      <td>100.54290</td>\n      <td>7.47058</td>\n    </tr>\n  </tbody>\n</table>\n</div>",
      "text/plain": "name   Calories  Calories from Fat  Carbohydrates      Fat  Saturated Fat  \\\ncount  10.00000           10.00000       10.00000 10.00000       10.00000   \nmean  451.04469          211.85386       31.49681 23.53932        9.71581   \nstd   128.11832          112.91222       19.86946 12.54580       10.16515   \nmin   279.24210          108.20860        2.57644 12.02318        2.13052   \n25%   371.96933          135.81108       18.95888 15.09012        4.65956   \n50%   428.61385          178.15480       29.86084 19.79498        7.84864   \n75%   497.28538          240.62243       43.23842 26.73582        9.31209   \nmax   654.76330          490.68870       66.52579 54.52096       37.44320   \n\nname   Protein   Calcium  Magnesium     Iron  \ncount 10.00000  10.00000   10.00000 10.00000  \nmean  28.10035 137.90247   51.44868  3.44682  \nstd    6.53025 128.19425   25.37871  1.83572  \nmin   21.15413  32.86518   27.07817  1.22664  \n25%   22.94277  45.73175   33.18492  1.97259  \n50%   26.50746  69.95123   38.86832  3.44418  \n75%   31.21765 195.90750   66.89249  4.35050  \nmax   41.70995 376.12170  100.54290  7.47058  "
     },
     "execution_count": 99,
     "metadata": {},
     "output_type": "execute_result"
    }
   ],
   "source": [
    "new_df.describe()"
   ]
  },
  {
   "cell_type": "code",
   "execution_count": 100,
   "metadata": {},
   "outputs": [
    {
     "data": {
      "text/plain": "array([  8600,  16849,  26615,  27819,  30794,  75672, 142951, 158429,\n       177497, 216928])"
     },
     "execution_count": 100,
     "metadata": {},
     "output_type": "execute_result"
    }
   ],
   "source": [
    "nutrition_random_10.index.to_numpy()"
   ]
  },
  {
   "cell_type": "code",
   "execution_count": null,
   "metadata": {},
   "outputs": [],
   "source": []
  },
  {
   "cell_type": "code",
   "execution_count": null,
   "metadata": {},
   "outputs": [],
   "source": []
  },
  {
   "cell_type": "code",
   "execution_count": null,
   "metadata": {},
   "outputs": [],
   "source": []
  },
  {
   "cell_type": "code",
   "execution_count": null,
   "metadata": {},
   "outputs": [],
   "source": []
  },
  {
   "cell_type": "code",
   "execution_count": null,
   "metadata": {},
   "outputs": [],
   "source": []
  },
  {
   "cell_type": "code",
   "execution_count": 101,
   "metadata": {},
   "outputs": [],
   "source": [
    "#  ------ Erstellung und cleansing des Nutrition Dataframes\n",
    "\n",
    "# erstelle neue liste auf basis der bereits gefilterten rezepte aus ingredients_filt\n",
    "id_overlap_mask = nutritions['id'].isin(user_recipes_fat.index.to_numpy())\n",
    "\n",
    "# erstelle datenframe auf basis der overlapliste\n",
    "nutritions_filt = nutritions.loc[id_overlap_mask]\n",
    "\n",
    "nutrition_user_recipes_fat = nutritions_filt.pivot_table(\n",
    "    index=['id'],\n",
    "    columns=['name'],\n",
    "    values=['amount'],\n",
    ").reset_index()\n",
    "\n",
    "nutrition_user_recipes_fat.set_index('id', inplace=True)\n",
    "\n",
    "# remove multiindex 'amount'\n",
    "nutrition_user_recipes_fat.columns = nutrition_user_recipes_fat.columns.droplevel(0)\n",
    "\n",
    "# entferne alle NA\n",
    "nutrition_user_recipes_fat = nutrition_user_recipes_fat.dropna()"
   ]
  },
  {
   "cell_type": "code",
   "execution_count": 102,
   "metadata": {},
   "outputs": [],
   "source": [
    "new_df = nutrition_user_recipes_fat[['Calories', 'Calories from Fat', 'Carbohydrates', 'Fat', 'Saturated Fat', 'Protein', 'Calcium', 'Magnesium', 'Iron' ]]"
   ]
  },
  {
   "cell_type": "code",
   "execution_count": 103,
   "metadata": {},
   "outputs": [
    {
     "data": {
      "text/html": "<div>\n<style scoped>\n    .dataframe tbody tr th:only-of-type {\n        vertical-align: middle;\n    }\n\n    .dataframe tbody tr th {\n        vertical-align: top;\n    }\n\n    .dataframe thead th {\n        text-align: right;\n    }\n</style>\n<table border=\"1\" class=\"dataframe\">\n  <thead>\n    <tr style=\"text-align: right;\">\n      <th>name</th>\n      <th>Calories</th>\n      <th>Calories from Fat</th>\n      <th>Carbohydrates</th>\n      <th>Fat</th>\n      <th>Saturated Fat</th>\n      <th>Protein</th>\n      <th>Calcium</th>\n      <th>Magnesium</th>\n      <th>Iron</th>\n    </tr>\n  </thead>\n  <tbody>\n    <tr>\n      <td>count</td>\n      <td>20.00000</td>\n      <td>20.00000</td>\n      <td>20.00000</td>\n      <td>20.00000</td>\n      <td>20.00000</td>\n      <td>20.00000</td>\n      <td>20.00000</td>\n      <td>20.00000</td>\n      <td>20.00000</td>\n    </tr>\n    <tr>\n      <td>mean</td>\n      <td>563.83977</td>\n      <td>334.64292</td>\n      <td>24.81982</td>\n      <td>37.18255</td>\n      <td>15.10086</td>\n      <td>32.44829</td>\n      <td>144.61405</td>\n      <td>62.11656</td>\n      <td>3.07888</td>\n    </tr>\n    <tr>\n      <td>std</td>\n      <td>92.24917</td>\n      <td>14.74709</td>\n      <td>16.54758</td>\n      <td>1.63857</td>\n      <td>5.02136</td>\n      <td>10.22158</td>\n      <td>126.89385</td>\n      <td>32.62118</td>\n      <td>1.33454</td>\n    </tr>\n    <tr>\n      <td>min</td>\n      <td>390.71980</td>\n      <td>315.51250</td>\n      <td>1.27936</td>\n      <td>35.05695</td>\n      <td>5.39091</td>\n      <td>14.97870</td>\n      <td>22.91706</td>\n      <td>21.99075</td>\n      <td>0.58999</td>\n    </tr>\n    <tr>\n      <td>25%</td>\n      <td>500.82482</td>\n      <td>321.00120</td>\n      <td>13.55052</td>\n      <td>35.66680</td>\n      <td>12.26370</td>\n      <td>24.81829</td>\n      <td>57.02250</td>\n      <td>44.04216</td>\n      <td>2.21580</td>\n    </tr>\n    <tr>\n      <td>50%</td>\n      <td>549.52315</td>\n      <td>335.26590</td>\n      <td>24.81457</td>\n      <td>37.25176</td>\n      <td>14.09328</td>\n      <td>32.58400</td>\n      <td>112.86760</td>\n      <td>54.51962</td>\n      <td>3.00261</td>\n    </tr>\n    <tr>\n      <td>75%</td>\n      <td>606.45907</td>\n      <td>347.85147</td>\n      <td>30.89026</td>\n      <td>38.65017</td>\n      <td>18.68514</td>\n      <td>38.42296</td>\n      <td>159.31080</td>\n      <td>70.92839</td>\n      <td>4.16262</td>\n    </tr>\n    <tr>\n      <td>max</td>\n      <td>754.54210</td>\n      <td>356.99080</td>\n      <td>68.65463</td>\n      <td>39.66564</td>\n      <td>22.90133</td>\n      <td>51.97705</td>\n      <td>448.91530</td>\n      <td>148.31270</td>\n      <td>5.45481</td>\n    </tr>\n  </tbody>\n</table>\n</div>",
      "text/plain": "name   Calories  Calories from Fat  Carbohydrates      Fat  Saturated Fat  \\\ncount  20.00000           20.00000       20.00000 20.00000       20.00000   \nmean  563.83977          334.64292       24.81982 37.18255       15.10086   \nstd    92.24917           14.74709       16.54758  1.63857        5.02136   \nmin   390.71980          315.51250        1.27936 35.05695        5.39091   \n25%   500.82482          321.00120       13.55052 35.66680       12.26370   \n50%   549.52315          335.26590       24.81457 37.25176       14.09328   \n75%   606.45907          347.85147       30.89026 38.65017       18.68514   \nmax   754.54210          356.99080       68.65463 39.66564       22.90133   \n\nname   Protein   Calcium  Magnesium     Iron  \ncount 20.00000  20.00000   20.00000 20.00000  \nmean  32.44829 144.61405   62.11656  3.07888  \nstd   10.22158 126.89385   32.62118  1.33454  \nmin   14.97870  22.91706   21.99075  0.58999  \n25%   24.81829  57.02250   44.04216  2.21580  \n50%   32.58400 112.86760   54.51962  3.00261  \n75%   38.42296 159.31080   70.92839  4.16262  \nmax   51.97705 448.91530  148.31270  5.45481  "
     },
     "execution_count": 103,
     "metadata": {},
     "output_type": "execute_result"
    }
   ],
   "source": [
    "new_df.describe()"
   ]
  },
  {
   "cell_type": "code",
   "execution_count": 104,
   "metadata": {},
   "outputs": [],
   "source": [
    "#  ------ Erstellung und cleansing des Nutrition Dataframes\n",
    "\n",
    "# erstelle neue liste auf basis der bereits gefilterten rezepte aus ingredients_filt\n",
    "id_overlap_mask = nutritions['id'].isin(result_w_filter_10_fat[0:10].index.to_numpy())\n",
    "\n",
    "# erstelle datenframe auf basis der overlapliste\n",
    "nutritions_filt = nutritions.loc[id_overlap_mask]\n",
    "\n",
    "nutrition_jaccard_fat = nutritions_filt.pivot_table(\n",
    "    index=['id'],\n",
    "    columns=['name'],\n",
    "    values=['amount'],\n",
    ").reset_index()\n",
    "\n",
    "nutrition_jaccard_fat.set_index('id', inplace=True)\n",
    "\n",
    "# remove multiindex 'amount'\n",
    "nutrition_jaccard_fat.columns = nutrition_jaccard_fat.columns.droplevel(0)\n",
    "\n",
    "# entferne alle NA\n",
    "nutrition_jaccard_fat = nutrition_jaccard_fat.dropna()"
   ]
  }
 ]
}