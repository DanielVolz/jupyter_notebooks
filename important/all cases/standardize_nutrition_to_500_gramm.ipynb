{
 "nbformat": 4,
 "nbformat_minor": 2,
 "metadata": {
  "language_info": {
   "name": "python",
   "codemirror_mode": {
    "name": "ipython",
    "version": 3
   },
   "version": "3.7.6-final"
  },
  "orig_nbformat": 2,
  "file_extension": ".py",
  "mimetype": "text/x-python",
  "name": "python",
  "npconvert_exporter": "python",
  "pygments_lexer": "ipython3",
  "version": 3,
  "kernelspec": {
   "name": "python3",
   "display_name": "Python 3"
  }
 },
 "cells": [
  {
   "cell_type": "code",
   "execution_count": 173,
   "metadata": {},
   "outputs": [],
   "source": [
    "import json\n",
    "\n",
    "import numpy as np\n",
    "import pandas as pd\n",
    "import pymongo\n",
    "import scipy\n",
    "from bson import ObjectId, json_util\n",
    "from pandas.io.json import json_normalize\n",
    "from pymongo import MongoClient as Connection\n",
    "from scipy import sparse, spatial\n",
    "from scipy.spatial.distance import cdist, pdist, squareform\n",
    "from sklearn.metrics.pairwise import cosine_similarity\n",
    "\n",
    "# scientific notation disabled form smaller numbers\n",
    "pd.options.display.float_format = '{:.5f}'.format\n",
    "\n",
    "# alles resultate anzeigen und nicht nur das letzte\n",
    "from IPython.core.interactiveshell import InteractiveShell\n",
    "InteractiveShell.ast_node_interactivity = \"all\"\n",
    "\n",
    ""
   ]
  },
  {
   "cell_type": "code",
   "execution_count": 174,
   "metadata": {},
   "outputs": [
    {
     "data": {
      "text/html": "<style>\n.output {\n    flex-direction: row;\n}\n</style>",
      "text/plain": "<IPython.core.display.HTML object>"
     },
     "execution_count": 174,
     "metadata": {},
     "output_type": "execute_result"
    }
   ],
   "source": [
    "# display multiple outputs in one row\n",
    "import pandas as pd\n",
    "import numpy as np\n",
    "from IPython.display import display, HTML\n",
    "\n",
    "CSS = \"\"\"\n",
    ".output {\n",
    "    flex-direction: row;\n",
    "}\n",
    "\"\"\"\n",
    "\n",
    "HTML('<style>{}</style>'.format(CSS))"
   ]
  },
  {
   "cell_type": "code",
   "execution_count": 175,
   "metadata": {},
   "outputs": [],
   "source": [
    "connection = Connection()\n",
    "db = connection.recipe_db\n",
    "input_data = db.recipes_test_copy\n",
    "\n",
    "data = json.loads(json_util.dumps(input_data.find()))"
   ]
  },
  {
   "cell_type": "code",
   "execution_count": 176,
   "metadata": {},
   "outputs": [],
   "source": [
    "ing = pd.DataFrame(json_normalize(data, record_path='ingredients',\n",
    "                             meta='id', record_prefix='ingredients_', errors='ignore'))\n",
    "\n",
    "\n",
    "nutritions = pd.DataFrame(json_normalize(data, record_path='nutritions',\n",
    "                            meta=['id', 'prep_time', 'rating', 'rating_count', 'ready_in_time', 'review_count']))\n",
    ""
   ]
  },
  {
   "cell_type": "code",
   "execution_count": 177,
   "metadata": {},
   "outputs": [],
   "source": [
    "#ingredients.loc[ingredients['id'] == 9380]"
   ]
  },
  {
   "cell_type": "code",
   "execution_count": 178,
   "metadata": {},
   "outputs": [],
   "source": [
    "#ingredients.loc[ingredients['ingredients_id'] == 2972]"
   ]
  },
  {
   "cell_type": "code",
   "execution_count": 179,
   "metadata": {},
   "outputs": [],
   "source": [
    "#  ------  erstellung und data cleansing - Ingredients\n",
    "\n",
    "# schmeiss alle zutaten raus, die weniger als 5 mal verwendet werden\n",
    "# setze multiinde auf 'id' und 'ingredients_id'\n",
    "ingredients = ing.set_index(['id', 'ingredients_id'])\n",
    "\n",
    "# filtere alle Zutaten samit ihrer rezepte id, die weniger gleich 5 mal vorkommen\n",
    "ingredients_eqles_5_ing = ingredients.groupby(\n",
    "    'ingredients_id').filter(lambda x: len(x) <= 5)\n",
    "\n",
    "# droppe alle rezepte, die eine Zutate besitzen, die weniger gleich 5 Mal vorkommen\n",
    "ingredients_filt = ingredients.drop(ingredients_eqles_5_ing.index.get_level_values('id').values, level=0)\n",
    "\n",
    "# drop alls rows with ingredients_id == 0\n",
    "ingredients_eqal_zero = ingredients_filt[ingredients_filt.index.get_level_values('ingredients_id') == 0]\n",
    "ingredients_filt = ingredients_filt.drop(ingredients_eqal_zero.index.get_level_values('id').values, level=0)\n",
    ""
   ]
  },
  {
   "cell_type": "code",
   "execution_count": 180,
   "metadata": {},
   "outputs": [
    {
     "data": {
      "text/plain": "4061"
     },
     "execution_count": 180,
     "metadata": {},
     "output_type": "execute_result"
    },
    {
     "data": {
      "text/plain": "4061"
     },
     "execution_count": 180,
     "metadata": {},
     "output_type": "execute_result"
    },
    {
     "data": {
      "text/html": "<div>\n<style scoped>\n    .dataframe tbody tr th:only-of-type {\n        vertical-align: middle;\n    }\n\n    .dataframe tbody tr th {\n        vertical-align: top;\n    }\n\n    .dataframe thead th {\n        text-align: right;\n    }\n</style>\n<table border=\"1\" class=\"dataframe\">\n  <thead>\n    <tr style=\"text-align: right;\">\n      <th>name</th>\n      <th>Calcium</th>\n      <th>Calories</th>\n      <th>Calories from Fat</th>\n      <th>Carbohydrates</th>\n      <th>Cholesterol</th>\n      <th>Dietary Fiber</th>\n      <th>Fat</th>\n      <th>Folate</th>\n      <th>Iron</th>\n      <th>Magnesium</th>\n      <th>Niacin Equivalents</th>\n      <th>Potassium</th>\n      <th>Protein</th>\n      <th>Saturated Fat</th>\n      <th>Sodium</th>\n      <th>Sugars</th>\n      <th>Thiamin</th>\n      <th>Vitamin A - IU</th>\n      <th>Vitamin B6</th>\n      <th>Vitamin C</th>\n    </tr>\n    <tr>\n      <th>id</th>\n      <th></th>\n      <th></th>\n      <th></th>\n      <th></th>\n      <th></th>\n      <th></th>\n      <th></th>\n      <th></th>\n      <th></th>\n      <th></th>\n      <th></th>\n      <th></th>\n      <th></th>\n      <th></th>\n      <th></th>\n      <th></th>\n      <th></th>\n      <th></th>\n      <th></th>\n      <th></th>\n    </tr>\n  </thead>\n  <tbody>\n    <tr>\n      <td>6900</td>\n      <td>117.79860</td>\n      <td>105.27020</td>\n      <td>21.33330</td>\n      <td>17.98829</td>\n      <td>1.62667</td>\n      <td>0.56557</td>\n      <td>2.37037</td>\n      <td>39.16360</td>\n      <td>1.14346</td>\n      <td>7.30480</td>\n      <td>1.82102</td>\n      <td>54.07343</td>\n      <td>2.84282</td>\n      <td>0.59495</td>\n      <td>385.75980</td>\n      <td>1.72141</td>\n      <td>0.17169</td>\n      <td>116.75390</td>\n      <td>0.01709</td>\n      <td>0.04505</td>\n    </tr>\n    <tr>\n      <td>7198</td>\n      <td>244.16520</td>\n      <td>731.50920</td>\n      <td>325.65230</td>\n      <td>73.29574</td>\n      <td>88.69389</td>\n      <td>4.64147</td>\n      <td>36.18359</td>\n      <td>249.14210</td>\n      <td>5.76566</td>\n      <td>52.89296</td>\n      <td>13.51325</td>\n      <td>509.34610</td>\n      <td>27.58195</td>\n      <td>11.50691</td>\n      <td>1660.20300</td>\n      <td>2.83424</td>\n      <td>0.89150</td>\n      <td>699.95980</td>\n      <td>0.36319</td>\n      <td>67.32533</td>\n    </tr>\n    <tr>\n      <td>8493</td>\n      <td>415.52450</td>\n      <td>454.28300</td>\n      <td>177.75310</td>\n      <td>23.83120</td>\n      <td>203.86850</td>\n      <td>1.99500</td>\n      <td>19.75034</td>\n      <td>63.05025</td>\n      <td>3.11258</td>\n      <td>54.35775</td>\n      <td>23.43780</td>\n      <td>509.41500</td>\n      <td>44.07647</td>\n      <td>9.96063</td>\n      <td>1107.91100</td>\n      <td>3.45304</td>\n      <td>0.17406</td>\n      <td>578.21420</td>\n      <td>0.64563</td>\n      <td>1.91250</td>\n    </tr>\n    <tr>\n      <td>8494</td>\n      <td>58.08641</td>\n      <td>834.44480</td>\n      <td>514.68470</td>\n      <td>4.76954</td>\n      <td>283.75000</td>\n      <td>0.63600</td>\n      <td>57.18719</td>\n      <td>33.44816</td>\n      <td>3.72336</td>\n      <td>84.44925</td>\n      <td>39.18463</td>\n      <td>807.96980</td>\n      <td>71.10712</td>\n      <td>16.35430</td>\n      <td>567.97140</td>\n      <td>2.08741</td>\n      <td>0.02921</td>\n      <td>619.52510</td>\n      <td>1.37244</td>\n      <td>20.17546</td>\n    </tr>\n    <tr>\n      <td>8495</td>\n      <td>379.01410</td>\n      <td>418.75340</td>\n      <td>174.23740</td>\n      <td>12.62089</td>\n      <td>123.58900</td>\n      <td>0.75239</td>\n      <td>19.35971</td>\n      <td>25.41156</td>\n      <td>1.89411</td>\n      <td>60.48306</td>\n      <td>24.62857</td>\n      <td>457.03550</td>\n      <td>46.06678</td>\n      <td>10.03598</td>\n      <td>931.58340</td>\n      <td>1.42275</td>\n      <td>0.29605</td>\n      <td>406.88370</td>\n      <td>0.82640</td>\n      <td>11.72893</td>\n    </tr>\n    <tr>\n      <td>...</td>\n      <td>...</td>\n      <td>...</td>\n      <td>...</td>\n      <td>...</td>\n      <td>...</td>\n      <td>...</td>\n      <td>...</td>\n      <td>...</td>\n      <td>...</td>\n      <td>...</td>\n      <td>...</td>\n      <td>...</td>\n      <td>...</td>\n      <td>...</td>\n      <td>...</td>\n      <td>...</td>\n      <td>...</td>\n      <td>...</td>\n      <td>...</td>\n      <td>...</td>\n    </tr>\n    <tr>\n      <td>258878</td>\n      <td>9.30933</td>\n      <td>189.09670</td>\n      <td>106.42770</td>\n      <td>0.12118</td>\n      <td>70.99000</td>\n      <td>0.01650</td>\n      <td>11.82530</td>\n      <td>5.34667</td>\n      <td>1.02767</td>\n      <td>16.89067</td>\n      <td>8.44069</td>\n      <td>171.30030</td>\n      <td>19.15713</td>\n      <td>3.30546</td>\n      <td>90.00200</td>\n      <td>0.04050</td>\n      <td>0.05192</td>\n      <td>125.95000</td>\n      <td>0.24153</td>\n      <td>0.03000</td>\n    </tr>\n    <tr>\n      <td>259870</td>\n      <td>116.87750</td>\n      <td>533.78500</td>\n      <td>254.83060</td>\n      <td>65.83649</td>\n      <td>0.00000</td>\n      <td>12.46288</td>\n      <td>28.31451</td>\n      <td>179.44000</td>\n      <td>4.86495</td>\n      <td>140.72750</td>\n      <td>7.50368</td>\n      <td>2441.57700</td>\n      <td>11.27299</td>\n      <td>4.00073</td>\n      <td>141.41000</td>\n      <td>16.18104</td>\n      <td>0.55845</td>\n      <td>2659.15000</td>\n      <td>1.63708</td>\n      <td>135.49670</td>\n    </tr>\n    <tr>\n      <td>260193</td>\n      <td>37.24250</td>\n      <td>300.08690</td>\n      <td>43.28884</td>\n      <td>13.86486</td>\n      <td>118.04670</td>\n      <td>1.03600</td>\n      <td>4.80987</td>\n      <td>7.15000</td>\n      <td>1.63545</td>\n      <td>46.19250</td>\n      <td>21.66052</td>\n      <td>476.54750</td>\n      <td>45.85212</td>\n      <td>1.41095</td>\n      <td>1545.54100</td>\n      <td>4.58523</td>\n      <td>0.08974</td>\n      <td>217.95000</td>\n      <td>0.61491</td>\n      <td>1.23025</td>\n    </tr>\n    <tr>\n      <td>261124</td>\n      <td>36.90501</td>\n      <td>287.12290</td>\n      <td>135.42690</td>\n      <td>3.59909</td>\n      <td>96.13005</td>\n      <td>0.67217</td>\n      <td>15.04743</td>\n      <td>18.83792</td>\n      <td>2.01199</td>\n      <td>33.50583</td>\n      <td>16.46910</td>\n      <td>372.90480</td>\n      <td>32.54562</td>\n      <td>3.21560</td>\n      <td>293.74010</td>\n      <td>1.22104</td>\n      <td>0.09603</td>\n      <td>527.56960</td>\n      <td>0.57170</td>\n      <td>9.79475</td>\n    </tr>\n    <tr>\n      <td>263813</td>\n      <td>485.16930</td>\n      <td>613.20350</td>\n      <td>221.93320</td>\n      <td>47.63988</td>\n      <td>101.46880</td>\n      <td>1.98784</td>\n      <td>24.65924</td>\n      <td>123.37230</td>\n      <td>3.80631</td>\n      <td>79.57173</td>\n      <td>25.88058</td>\n      <td>586.18620</td>\n      <td>49.29259</td>\n      <td>14.67424</td>\n      <td>497.95620</td>\n      <td>7.97937</td>\n      <td>0.17697</td>\n      <td>893.24020</td>\n      <td>0.51950</td>\n      <td>2.10568</td>\n    </tr>\n  </tbody>\n</table>\n<p>4061 rows × 20 columns</p>\n</div>",
      "text/plain": "name     Calcium  Calories  Calories from Fat  Carbohydrates  Cholesterol  \\\nid                                                                          \n6900   117.79860 105.27020           21.33330       17.98829      1.62667   \n7198   244.16520 731.50920          325.65230       73.29574     88.69389   \n8493   415.52450 454.28300          177.75310       23.83120    203.86850   \n8494    58.08641 834.44480          514.68470        4.76954    283.75000   \n8495   379.01410 418.75340          174.23740       12.62089    123.58900   \n...          ...       ...                ...            ...          ...   \n258878   9.30933 189.09670          106.42770        0.12118     70.99000   \n259870 116.87750 533.78500          254.83060       65.83649      0.00000   \n260193  37.24250 300.08690           43.28884       13.86486    118.04670   \n261124  36.90501 287.12290          135.42690        3.59909     96.13005   \n263813 485.16930 613.20350          221.93320       47.63988    101.46880   \n\nname    Dietary Fiber      Fat    Folate    Iron  Magnesium  \\\nid                                                            \n6900          0.56557  2.37037  39.16360 1.14346    7.30480   \n7198          4.64147 36.18359 249.14210 5.76566   52.89296   \n8493          1.99500 19.75034  63.05025 3.11258   54.35775   \n8494          0.63600 57.18719  33.44816 3.72336   84.44925   \n8495          0.75239 19.35971  25.41156 1.89411   60.48306   \n...               ...      ...       ...     ...        ...   \n258878        0.01650 11.82530   5.34667 1.02767   16.89067   \n259870       12.46288 28.31451 179.44000 4.86495  140.72750   \n260193        1.03600  4.80987   7.15000 1.63545   46.19250   \n261124        0.67217 15.04743  18.83792 2.01199   33.50583   \n263813        1.98784 24.65924 123.37230 3.80631   79.57173   \n\nname    Niacin Equivalents  Potassium  Protein  Saturated Fat     Sodium  \\\nid                                                                         \n6900               1.82102   54.07343  2.84282        0.59495  385.75980   \n7198              13.51325  509.34610 27.58195       11.50691 1660.20300   \n8493              23.43780  509.41500 44.07647        9.96063 1107.91100   \n8494              39.18463  807.96980 71.10712       16.35430  567.97140   \n8495              24.62857  457.03550 46.06678       10.03598  931.58340   \n...                    ...        ...      ...            ...        ...   \n258878             8.44069  171.30030 19.15713        3.30546   90.00200   \n259870             7.50368 2441.57700 11.27299        4.00073  141.41000   \n260193            21.66052  476.54750 45.85212        1.41095 1545.54100   \n261124            16.46910  372.90480 32.54562        3.21560  293.74010   \n263813            25.88058  586.18620 49.29259       14.67424  497.95620   \n\nname     Sugars  Thiamin  Vitamin A - IU  Vitamin B6  Vitamin C  \nid                                                               \n6900    1.72141  0.17169       116.75390     0.01709    0.04505  \n7198    2.83424  0.89150       699.95980     0.36319   67.32533  \n8493    3.45304  0.17406       578.21420     0.64563    1.91250  \n8494    2.08741  0.02921       619.52510     1.37244   20.17546  \n8495    1.42275  0.29605       406.88370     0.82640   11.72893  \n...         ...      ...             ...         ...        ...  \n258878  0.04050  0.05192       125.95000     0.24153    0.03000  \n259870 16.18104  0.55845      2659.15000     1.63708  135.49670  \n260193  4.58523  0.08974       217.95000     0.61491    1.23025  \n261124  1.22104  0.09603       527.56960     0.57170    9.79475  \n263813  7.97937  0.17697       893.24020     0.51950    2.10568  \n\n[4061 rows x 20 columns]"
     },
     "execution_count": 180,
     "metadata": {},
     "output_type": "execute_result"
    }
   ],
   "source": [
    "#  ------ Erstellung und cleansing des Nutrition Dataframes\n",
    "\n",
    "# erstelle neue liste auf basis der bereits gefilterten rezepte aus ingredients_filt\n",
    "id_overlap_mask = nutritions['id'].isin(ingredients_filt.index.get_level_values('id').values)\n",
    "\n",
    "# erstelle datenframe auf basis der overlapliste\n",
    "nutritions_filt = nutritions.loc[id_overlap_mask]\n",
    "\n",
    "nutrition_db = nutritions_filt.pivot_table(\n",
    "    index=['id'],\n",
    "    columns=['name'],\n",
    "    values=['amount'],\n",
    ").reset_index()\n",
    "\n",
    "nutrition_db.set_index('id', inplace=True)\n",
    "\n",
    "# remove multiindex 'amount'\n",
    "nutrition_db.columns = nutrition_db.columns.droplevel(0)\n",
    "\n",
    "# entferne alle NA\n",
    "nutrition_db = nutrition_db.dropna()\n",
    "\n",
    "# gleiche nochmals die ids der beiden dataframe nutrition und ingredients ab, da der nutrition dataframe noch NA Werte hatt\n",
    "id_overlap_mask = ingredients_filt.index.get_level_values('id').isin(nutrition_db.index)\n",
    "ingredients_db = ingredients_filt[id_overlap_mask]\n",
    "\n",
    "# abgleich ob anzahl der indizes von nutrition und zutaten dataframe gleich sind\n",
    "nutrition_db.index.nunique()\n",
    "ingredients_db.index.get_level_values('id').nunique()\n",
    "nutrition_db"
   ]
  },
  {
   "cell_type": "code",
   "execution_count": 181,
   "metadata": {},
   "outputs": [
    {
     "ename": "KeyError",
     "evalue": "'id'",
     "output_type": "error",
     "traceback": [
      "\u001b[0;31m---------------------------------------------------------------------------\u001b[0m",
      "\u001b[0;31mKeyError\u001b[0m                                  Traceback (most recent call last)",
      "\u001b[0;32m/usr/local/lib/python3.7/site-packages/pandas/core/indexes/base.py\u001b[0m in \u001b[0;36mget_loc\u001b[0;34m(self, key, method, tolerance)\u001b[0m\n\u001b[1;32m   2896\u001b[0m             \u001b[0;32mtry\u001b[0m\u001b[0;34m:\u001b[0m\u001b[0;34m\u001b[0m\u001b[0;34m\u001b[0m\u001b[0m\n\u001b[0;32m-> 2897\u001b[0;31m                 \u001b[0;32mreturn\u001b[0m \u001b[0mself\u001b[0m\u001b[0;34m.\u001b[0m\u001b[0m_engine\u001b[0m\u001b[0;34m.\u001b[0m\u001b[0mget_loc\u001b[0m\u001b[0;34m(\u001b[0m\u001b[0mkey\u001b[0m\u001b[0;34m)\u001b[0m\u001b[0;34m\u001b[0m\u001b[0;34m\u001b[0m\u001b[0m\n\u001b[0m\u001b[1;32m   2898\u001b[0m             \u001b[0;32mexcept\u001b[0m \u001b[0mKeyError\u001b[0m\u001b[0;34m:\u001b[0m\u001b[0;34m\u001b[0m\u001b[0;34m\u001b[0m\u001b[0m\n",
      "\u001b[0;32mpandas/_libs/index.pyx\u001b[0m in \u001b[0;36mpandas._libs.index.IndexEngine.get_loc\u001b[0;34m()\u001b[0m\n",
      "\u001b[0;32mpandas/_libs/index.pyx\u001b[0m in \u001b[0;36mpandas._libs.index.IndexEngine.get_loc\u001b[0;34m()\u001b[0m\n",
      "\u001b[0;32mpandas/_libs/hashtable_class_helper.pxi\u001b[0m in \u001b[0;36mpandas._libs.hashtable.PyObjectHashTable.get_item\u001b[0;34m()\u001b[0m\n",
      "\u001b[0;32mpandas/_libs/hashtable_class_helper.pxi\u001b[0m in \u001b[0;36mpandas._libs.hashtable.PyObjectHashTable.get_item\u001b[0;34m()\u001b[0m\n",
      "\u001b[0;31mKeyError\u001b[0m: 'id'",
      "\nDuring handling of the above exception, another exception occurred:\n",
      "\u001b[0;31mKeyError\u001b[0m                                  Traceback (most recent call last)",
      "\u001b[0;32m<ipython-input-181-8e9ba80279b2>\u001b[0m in \u001b[0;36m<module>\u001b[0;34m\u001b[0m\n\u001b[0;32m----> 1\u001b[0;31m \u001b[0mingredients_db\u001b[0m\u001b[0;34m.\u001b[0m\u001b[0mloc\u001b[0m\u001b[0;34m[\u001b[0m\u001b[0mingredients_db\u001b[0m\u001b[0;34m[\u001b[0m\u001b[0;34m'id'\u001b[0m\u001b[0;34m]\u001b[0m \u001b[0;34m==\u001b[0m \u001b[0;36m20881\u001b[0m\u001b[0;34m]\u001b[0m\u001b[0;34m\u001b[0m\u001b[0;34m\u001b[0m\u001b[0m\n\u001b[0m",
      "\u001b[0;32m/usr/local/lib/python3.7/site-packages/pandas/core/frame.py\u001b[0m in \u001b[0;36m__getitem__\u001b[0;34m(self, key)\u001b[0m\n\u001b[1;32m   2978\u001b[0m             \u001b[0;32mif\u001b[0m \u001b[0mself\u001b[0m\u001b[0;34m.\u001b[0m\u001b[0mcolumns\u001b[0m\u001b[0;34m.\u001b[0m\u001b[0mnlevels\u001b[0m \u001b[0;34m>\u001b[0m \u001b[0;36m1\u001b[0m\u001b[0;34m:\u001b[0m\u001b[0;34m\u001b[0m\u001b[0;34m\u001b[0m\u001b[0m\n\u001b[1;32m   2979\u001b[0m                 \u001b[0;32mreturn\u001b[0m \u001b[0mself\u001b[0m\u001b[0;34m.\u001b[0m\u001b[0m_getitem_multilevel\u001b[0m\u001b[0;34m(\u001b[0m\u001b[0mkey\u001b[0m\u001b[0;34m)\u001b[0m\u001b[0;34m\u001b[0m\u001b[0;34m\u001b[0m\u001b[0m\n\u001b[0;32m-> 2980\u001b[0;31m             \u001b[0mindexer\u001b[0m \u001b[0;34m=\u001b[0m \u001b[0mself\u001b[0m\u001b[0;34m.\u001b[0m\u001b[0mcolumns\u001b[0m\u001b[0;34m.\u001b[0m\u001b[0mget_loc\u001b[0m\u001b[0;34m(\u001b[0m\u001b[0mkey\u001b[0m\u001b[0;34m)\u001b[0m\u001b[0;34m\u001b[0m\u001b[0;34m\u001b[0m\u001b[0m\n\u001b[0m\u001b[1;32m   2981\u001b[0m             \u001b[0;32mif\u001b[0m \u001b[0mis_integer\u001b[0m\u001b[0;34m(\u001b[0m\u001b[0mindexer\u001b[0m\u001b[0;34m)\u001b[0m\u001b[0;34m:\u001b[0m\u001b[0;34m\u001b[0m\u001b[0;34m\u001b[0m\u001b[0m\n\u001b[1;32m   2982\u001b[0m                 \u001b[0mindexer\u001b[0m \u001b[0;34m=\u001b[0m \u001b[0;34m[\u001b[0m\u001b[0mindexer\u001b[0m\u001b[0;34m]\u001b[0m\u001b[0;34m\u001b[0m\u001b[0;34m\u001b[0m\u001b[0m\n",
      "\u001b[0;32m/usr/local/lib/python3.7/site-packages/pandas/core/indexes/base.py\u001b[0m in \u001b[0;36mget_loc\u001b[0;34m(self, key, method, tolerance)\u001b[0m\n\u001b[1;32m   2897\u001b[0m                 \u001b[0;32mreturn\u001b[0m \u001b[0mself\u001b[0m\u001b[0;34m.\u001b[0m\u001b[0m_engine\u001b[0m\u001b[0;34m.\u001b[0m\u001b[0mget_loc\u001b[0m\u001b[0;34m(\u001b[0m\u001b[0mkey\u001b[0m\u001b[0;34m)\u001b[0m\u001b[0;34m\u001b[0m\u001b[0;34m\u001b[0m\u001b[0m\n\u001b[1;32m   2898\u001b[0m             \u001b[0;32mexcept\u001b[0m \u001b[0mKeyError\u001b[0m\u001b[0;34m:\u001b[0m\u001b[0;34m\u001b[0m\u001b[0;34m\u001b[0m\u001b[0m\n\u001b[0;32m-> 2899\u001b[0;31m                 \u001b[0;32mreturn\u001b[0m \u001b[0mself\u001b[0m\u001b[0;34m.\u001b[0m\u001b[0m_engine\u001b[0m\u001b[0;34m.\u001b[0m\u001b[0mget_loc\u001b[0m\u001b[0;34m(\u001b[0m\u001b[0mself\u001b[0m\u001b[0;34m.\u001b[0m\u001b[0m_maybe_cast_indexer\u001b[0m\u001b[0;34m(\u001b[0m\u001b[0mkey\u001b[0m\u001b[0;34m)\u001b[0m\u001b[0;34m)\u001b[0m\u001b[0;34m\u001b[0m\u001b[0;34m\u001b[0m\u001b[0m\n\u001b[0m\u001b[1;32m   2900\u001b[0m         \u001b[0mindexer\u001b[0m \u001b[0;34m=\u001b[0m \u001b[0mself\u001b[0m\u001b[0;34m.\u001b[0m\u001b[0mget_indexer\u001b[0m\u001b[0;34m(\u001b[0m\u001b[0;34m[\u001b[0m\u001b[0mkey\u001b[0m\u001b[0;34m]\u001b[0m\u001b[0;34m,\u001b[0m \u001b[0mmethod\u001b[0m\u001b[0;34m=\u001b[0m\u001b[0mmethod\u001b[0m\u001b[0;34m,\u001b[0m \u001b[0mtolerance\u001b[0m\u001b[0;34m=\u001b[0m\u001b[0mtolerance\u001b[0m\u001b[0;34m)\u001b[0m\u001b[0;34m\u001b[0m\u001b[0;34m\u001b[0m\u001b[0m\n\u001b[1;32m   2901\u001b[0m         \u001b[0;32mif\u001b[0m \u001b[0mindexer\u001b[0m\u001b[0;34m.\u001b[0m\u001b[0mndim\u001b[0m \u001b[0;34m>\u001b[0m \u001b[0;36m1\u001b[0m \u001b[0;32mor\u001b[0m \u001b[0mindexer\u001b[0m\u001b[0;34m.\u001b[0m\u001b[0msize\u001b[0m \u001b[0;34m>\u001b[0m \u001b[0;36m1\u001b[0m\u001b[0;34m:\u001b[0m\u001b[0;34m\u001b[0m\u001b[0;34m\u001b[0m\u001b[0m\n",
      "\u001b[0;32mpandas/_libs/index.pyx\u001b[0m in \u001b[0;36mpandas._libs.index.IndexEngine.get_loc\u001b[0;34m()\u001b[0m\n",
      "\u001b[0;32mpandas/_libs/index.pyx\u001b[0m in \u001b[0;36mpandas._libs.index.IndexEngine.get_loc\u001b[0;34m()\u001b[0m\n",
      "\u001b[0;32mpandas/_libs/hashtable_class_helper.pxi\u001b[0m in \u001b[0;36mpandas._libs.hashtable.PyObjectHashTable.get_item\u001b[0;34m()\u001b[0m\n",
      "\u001b[0;32mpandas/_libs/hashtable_class_helper.pxi\u001b[0m in \u001b[0;36mpandas._libs.hashtable.PyObjectHashTable.get_item\u001b[0;34m()\u001b[0m\n",
      "\u001b[0;31mKeyError\u001b[0m: 'id'"
     ]
    }
   ],
   "source": [
    "ingredients_db.loc[ingredients_db['id'] == 20881]"
   ]
  },
  {
   "cell_type": "code",
   "execution_count": 0,
   "metadata": {},
   "outputs": [],
   "source": [
    "id_list = [215014, 8669, 16700, 16354, 12720, 8652, 8887, 51283, 45954, 213742, 14595,\n",
    "           219164, 16348, 143082, 8665, 11758, 223042, 236609, 8778, 65896, 24264, 11679, 141678, 9023]\n",
    "\n",
    "#ingredients_db.reset_index(inplace=True)\n",
    "\n",
    "recipe_db = pd.get_dummies(ingredients_db['ingredients_id']).groupby(\n",
    "    ingredients_db['id']).apply(max)\n",
    "\n",
    ""
   ]
  },
  {
   "cell_type": "code",
   "execution_count": 198,
   "metadata": {},
   "outputs": [],
   "source": [
    "new_ingredients = ingredients_db\n",
    "new_ingredients = new_ingredients.groupby(\"id\")[\"ingredients_grams\"].sum().reset_index()"
   ]
  },
  {
   "cell_type": "code",
   "execution_count": 199,
   "metadata": {},
   "outputs": [
    {
     "data": {
      "text/html": "<div>\n<style scoped>\n    .dataframe tbody tr th:only-of-type {\n        vertical-align: middle;\n    }\n\n    .dataframe tbody tr th {\n        vertical-align: top;\n    }\n\n    .dataframe thead th {\n        text-align: right;\n    }\n</style>\n<table border=\"1\" class=\"dataframe\">\n  <thead>\n    <tr style=\"text-align: right;\">\n      <th></th>\n      <th>id</th>\n      <th>ingredients_grams</th>\n    </tr>\n  </thead>\n  <tbody>\n    <tr>\n      <td>1214</td>\n      <td>20881</td>\n      <td>21.22222</td>\n    </tr>\n    <tr>\n      <td>2493</td>\n      <td>79255</td>\n      <td>73.29343</td>\n    </tr>\n    <tr>\n      <td>2831</td>\n      <td>106030</td>\n      <td>79.13929</td>\n    </tr>\n    <tr>\n      <td>1788</td>\n      <td>34531</td>\n      <td>91.28767</td>\n    </tr>\n    <tr>\n      <td>410</td>\n      <td>12063</td>\n      <td>107.10890</td>\n    </tr>\n    <tr>\n      <td>...</td>\n      <td>...</td>\n      <td>...</td>\n    </tr>\n    <tr>\n      <td>2137</td>\n      <td>55946</td>\n      <td>4711.39585</td>\n    </tr>\n    <tr>\n      <td>3734</td>\n      <td>229874</td>\n      <td>4731.00000</td>\n    </tr>\n    <tr>\n      <td>2063</td>\n      <td>51849</td>\n      <td>4780.40889</td>\n    </tr>\n    <tr>\n      <td>3838</td>\n      <td>232865</td>\n      <td>5779.31317</td>\n    </tr>\n    <tr>\n      <td>3568</td>\n      <td>221900</td>\n      <td>7908.48667</td>\n    </tr>\n  </tbody>\n</table>\n<p>4061 rows × 2 columns</p>\n</div>",
      "text/plain": "          id  ingredients_grams\n1214   20881           21.22222\n2493   79255           73.29343\n2831  106030           79.13929\n1788   34531           91.28767\n410    12063          107.10890\n...      ...                ...\n2137   55946         4711.39585\n3734  229874         4731.00000\n2063   51849         4780.40889\n3838  232865         5779.31317\n3568  221900         7908.48667\n\n[4061 rows x 2 columns]"
     },
     "execution_count": 199,
     "metadata": {},
     "output_type": "execute_result"
    }
   ],
   "source": [
    "new_ingredients.sort_values(by='ingredients_grams')"
   ]
  },
  {
   "cell_type": "code",
   "execution_count": 200,
   "metadata": {},
   "outputs": [],
   "source": [
    "new_ingredients['quotient'] = new_ingredients['ingredients_grams']/500"
   ]
  },
  {
   "cell_type": "code",
   "execution_count": 0,
   "metadata": {},
   "outputs": [],
   "source": [
    "new_ingredients.set"
   ]
  },
  {
   "cell_type": "code",
   "execution_count": 201,
   "metadata": {},
   "outputs": [
    {
     "data": {
      "text/html": "<div>\n<style scoped>\n    .dataframe tbody tr th:only-of-type {\n        vertical-align: middle;\n    }\n\n    .dataframe tbody tr th {\n        vertical-align: top;\n    }\n\n    .dataframe thead th {\n        text-align: right;\n    }\n</style>\n<table border=\"1\" class=\"dataframe\">\n  <thead>\n    <tr style=\"text-align: right;\">\n      <th></th>\n      <th>id</th>\n      <th>ingredients_grams</th>\n      <th>quotient</th>\n    </tr>\n  </thead>\n  <tbody>\n    <tr>\n      <td>count</td>\n      <td>4061.00000</td>\n      <td>4061.00000</td>\n      <td>4061.00000</td>\n    </tr>\n    <tr>\n      <td>mean</td>\n      <td>86301.50874</td>\n      <td>1158.85360</td>\n      <td>2.31771</td>\n    </tr>\n    <tr>\n      <td>std</td>\n      <td>82174.58263</td>\n      <td>536.42903</td>\n      <td>1.07286</td>\n    </tr>\n    <tr>\n      <td>min</td>\n      <td>6900.00000</td>\n      <td>21.22222</td>\n      <td>0.04244</td>\n    </tr>\n    <tr>\n      <td>25%</td>\n      <td>18054.00000</td>\n      <td>790.07346</td>\n      <td>1.58015</td>\n    </tr>\n    <tr>\n      <td>50%</td>\n      <td>50054.00000</td>\n      <td>1071.33340</td>\n      <td>2.14267</td>\n    </tr>\n    <tr>\n      <td>75%</td>\n      <td>152211.00000</td>\n      <td>1425.14042</td>\n      <td>2.85028</td>\n    </tr>\n    <tr>\n      <td>max</td>\n      <td>263813.00000</td>\n      <td>7908.48667</td>\n      <td>15.81697</td>\n    </tr>\n  </tbody>\n</table>\n</div>",
      "text/plain": "                id  ingredients_grams   quotient\ncount   4061.00000         4061.00000 4061.00000\nmean   86301.50874         1158.85360    2.31771\nstd    82174.58263          536.42903    1.07286\nmin     6900.00000           21.22222    0.04244\n25%    18054.00000          790.07346    1.58015\n50%    50054.00000         1071.33340    2.14267\n75%   152211.00000         1425.14042    2.85028\nmax   263813.00000         7908.48667   15.81697"
     },
     "execution_count": 201,
     "metadata": {},
     "output_type": "execute_result"
    }
   ],
   "source": [
    "new_ingredients.describe()"
   ]
  },
  {
   "cell_type": "code",
   "execution_count": 0,
   "metadata": {},
   "outputs": [],
   "source": [
    "new_ingredients.hist(column='ingredients_grams', bins=200)"
   ]
  },
  {
   "cell_type": "code",
   "execution_count": 0,
   "metadata": {},
   "outputs": [],
   "source": [
    "# rechne nährwerte auf 800 kcal pro rezept um\n",
    "def nutrition_to_500(x):\n",
    "    a = x / x\n",
    "    b = a * 800\n",
    "    return b"
   ]
  },
  {
   "cell_type": "code",
   "execution_count": 0,
   "metadata": {},
   "outputs": [],
   "source": [
    "nutrition_db_800 = nutrition_db.apply(nutrition_to_800, axis = 1)\n",
    "#user_nutrition = nutrition_db_800[nutrition_db_800.index.isin(id_list)]\n",
    "\n",
    "user_recipes = recipe_db[recipe_db.index.isin(id_list)]\n",
    "\n",
    "recommenden_nut = pd.DataFrame(data=None, columns=nutrition_db_800.columns, index=None)\n",
    ""
   ]
  },
  {
   "cell_type": "code",
   "execution_count": 220,
   "metadata": {},
   "outputs": [],
   "source": [
    "new_nutrition = nutrition_db.copy()"
   ]
  },
  {
   "cell_type": "code",
   "execution_count": 206,
   "metadata": {},
   "outputs": [],
   "source": [
    "new_ingredients.set_index('id', inplace=True)"
   ]
  },
  {
   "cell_type": "code",
   "execution_count": 207,
   "metadata": {},
   "outputs": [
    {
     "data": {
      "text/html": "<div>\n<style scoped>\n    .dataframe tbody tr th:only-of-type {\n        vertical-align: middle;\n    }\n\n    .dataframe tbody tr th {\n        vertical-align: top;\n    }\n\n    .dataframe thead th {\n        text-align: right;\n    }\n</style>\n<table border=\"1\" class=\"dataframe\">\n  <thead>\n    <tr style=\"text-align: right;\">\n      <th></th>\n      <th>ingredients_grams</th>\n      <th>quotient</th>\n    </tr>\n    <tr>\n      <th>id</th>\n      <th></th>\n      <th></th>\n    </tr>\n  </thead>\n  <tbody>\n    <tr>\n      <td>6900</td>\n      <td>184.35112</td>\n      <td>0.36870</td>\n    </tr>\n    <tr>\n      <td>7198</td>\n      <td>1238.50889</td>\n      <td>2.47702</td>\n    </tr>\n    <tr>\n      <td>8493</td>\n      <td>1280.50000</td>\n      <td>2.56100</td>\n    </tr>\n    <tr>\n      <td>8494</td>\n      <td>1671.56307</td>\n      <td>3.34313</td>\n    </tr>\n    <tr>\n      <td>8495</td>\n      <td>817.26250</td>\n      <td>1.63452</td>\n    </tr>\n    <tr>\n      <td>...</td>\n      <td>...</td>\n      <td>...</td>\n    </tr>\n    <tr>\n      <td>258878</td>\n      <td>456.93333</td>\n      <td>0.91387</td>\n    </tr>\n    <tr>\n      <td>259870</td>\n      <td>3484.50000</td>\n      <td>6.96900</td>\n    </tr>\n    <tr>\n      <td>260193</td>\n      <td>1464.50000</td>\n      <td>2.92900</td>\n    </tr>\n    <tr>\n      <td>261124</td>\n      <td>1156.96946</td>\n      <td>2.31394</td>\n    </tr>\n    <tr>\n      <td>263813</td>\n      <td>1354.54835</td>\n      <td>2.70910</td>\n    </tr>\n  </tbody>\n</table>\n<p>4061 rows × 2 columns</p>\n</div>",
      "text/plain": "        ingredients_grams  quotient\nid                                 \n6900            184.35112   0.36870\n7198           1238.50889   2.47702\n8493           1280.50000   2.56100\n8494           1671.56307   3.34313\n8495            817.26250   1.63452\n...                   ...       ...\n258878          456.93333   0.91387\n259870         3484.50000   6.96900\n260193         1464.50000   2.92900\n261124         1156.96946   2.31394\n263813         1354.54835   2.70910\n\n[4061 rows x 2 columns]"
     },
     "execution_count": 207,
     "metadata": {},
     "output_type": "execute_result"
    }
   ],
   "source": [
    "new_ingredients"
   ]
  },
  {
   "cell_type": "code",
   "execution_count": 221,
   "metadata": {},
   "outputs": [
    {
     "data": {
      "text/html": "<div>\n<style scoped>\n    .dataframe tbody tr th:only-of-type {\n        vertical-align: middle;\n    }\n\n    .dataframe tbody tr th {\n        vertical-align: top;\n    }\n\n    .dataframe thead th {\n        text-align: right;\n    }\n</style>\n<table border=\"1\" class=\"dataframe\">\n  <thead>\n    <tr style=\"text-align: right;\">\n      <th>name</th>\n      <th>Calcium</th>\n      <th>Calories</th>\n      <th>Calories from Fat</th>\n      <th>Carbohydrates</th>\n      <th>Cholesterol</th>\n      <th>Dietary Fiber</th>\n      <th>Fat</th>\n      <th>Folate</th>\n      <th>Iron</th>\n      <th>Magnesium</th>\n      <th>Niacin Equivalents</th>\n      <th>Potassium</th>\n      <th>Protein</th>\n      <th>Saturated Fat</th>\n      <th>Sodium</th>\n      <th>Sugars</th>\n      <th>Thiamin</th>\n      <th>Vitamin A - IU</th>\n      <th>Vitamin B6</th>\n      <th>Vitamin C</th>\n    </tr>\n    <tr>\n      <th>id</th>\n      <th></th>\n      <th></th>\n      <th></th>\n      <th></th>\n      <th></th>\n      <th></th>\n      <th></th>\n      <th></th>\n      <th></th>\n      <th></th>\n      <th></th>\n      <th></th>\n      <th></th>\n      <th></th>\n      <th></th>\n      <th></th>\n      <th></th>\n      <th></th>\n      <th></th>\n      <th></th>\n    </tr>\n  </thead>\n  <tbody>\n    <tr>\n      <td>6900</td>\n      <td>117.79860</td>\n      <td>105.27020</td>\n      <td>21.33330</td>\n      <td>17.98829</td>\n      <td>1.62667</td>\n      <td>0.56557</td>\n      <td>2.37037</td>\n      <td>39.16360</td>\n      <td>1.14346</td>\n      <td>7.30480</td>\n      <td>1.82102</td>\n      <td>54.07343</td>\n      <td>2.84282</td>\n      <td>0.59495</td>\n      <td>385.75980</td>\n      <td>1.72141</td>\n      <td>0.17169</td>\n      <td>116.75390</td>\n      <td>0.01709</td>\n      <td>0.04505</td>\n    </tr>\n    <tr>\n      <td>7198</td>\n      <td>244.16520</td>\n      <td>731.50920</td>\n      <td>325.65230</td>\n      <td>73.29574</td>\n      <td>88.69389</td>\n      <td>4.64147</td>\n      <td>36.18359</td>\n      <td>249.14210</td>\n      <td>5.76566</td>\n      <td>52.89296</td>\n      <td>13.51325</td>\n      <td>509.34610</td>\n      <td>27.58195</td>\n      <td>11.50691</td>\n      <td>1660.20300</td>\n      <td>2.83424</td>\n      <td>0.89150</td>\n      <td>699.95980</td>\n      <td>0.36319</td>\n      <td>67.32533</td>\n    </tr>\n    <tr>\n      <td>8493</td>\n      <td>415.52450</td>\n      <td>454.28300</td>\n      <td>177.75310</td>\n      <td>23.83120</td>\n      <td>203.86850</td>\n      <td>1.99500</td>\n      <td>19.75034</td>\n      <td>63.05025</td>\n      <td>3.11258</td>\n      <td>54.35775</td>\n      <td>23.43780</td>\n      <td>509.41500</td>\n      <td>44.07647</td>\n      <td>9.96063</td>\n      <td>1107.91100</td>\n      <td>3.45304</td>\n      <td>0.17406</td>\n      <td>578.21420</td>\n      <td>0.64563</td>\n      <td>1.91250</td>\n    </tr>\n    <tr>\n      <td>8494</td>\n      <td>58.08641</td>\n      <td>834.44480</td>\n      <td>514.68470</td>\n      <td>4.76954</td>\n      <td>283.75000</td>\n      <td>0.63600</td>\n      <td>57.18719</td>\n      <td>33.44816</td>\n      <td>3.72336</td>\n      <td>84.44925</td>\n      <td>39.18463</td>\n      <td>807.96980</td>\n      <td>71.10712</td>\n      <td>16.35430</td>\n      <td>567.97140</td>\n      <td>2.08741</td>\n      <td>0.02921</td>\n      <td>619.52510</td>\n      <td>1.37244</td>\n      <td>20.17546</td>\n    </tr>\n    <tr>\n      <td>8495</td>\n      <td>379.01410</td>\n      <td>418.75340</td>\n      <td>174.23740</td>\n      <td>12.62089</td>\n      <td>123.58900</td>\n      <td>0.75239</td>\n      <td>19.35971</td>\n      <td>25.41156</td>\n      <td>1.89411</td>\n      <td>60.48306</td>\n      <td>24.62857</td>\n      <td>457.03550</td>\n      <td>46.06678</td>\n      <td>10.03598</td>\n      <td>931.58340</td>\n      <td>1.42275</td>\n      <td>0.29605</td>\n      <td>406.88370</td>\n      <td>0.82640</td>\n      <td>11.72893</td>\n    </tr>\n    <tr>\n      <td>...</td>\n      <td>...</td>\n      <td>...</td>\n      <td>...</td>\n      <td>...</td>\n      <td>...</td>\n      <td>...</td>\n      <td>...</td>\n      <td>...</td>\n      <td>...</td>\n      <td>...</td>\n      <td>...</td>\n      <td>...</td>\n      <td>...</td>\n      <td>...</td>\n      <td>...</td>\n      <td>...</td>\n      <td>...</td>\n      <td>...</td>\n      <td>...</td>\n      <td>...</td>\n    </tr>\n    <tr>\n      <td>258878</td>\n      <td>9.30933</td>\n      <td>189.09670</td>\n      <td>106.42770</td>\n      <td>0.12118</td>\n      <td>70.99000</td>\n      <td>0.01650</td>\n      <td>11.82530</td>\n      <td>5.34667</td>\n      <td>1.02767</td>\n      <td>16.89067</td>\n      <td>8.44069</td>\n      <td>171.30030</td>\n      <td>19.15713</td>\n      <td>3.30546</td>\n      <td>90.00200</td>\n      <td>0.04050</td>\n      <td>0.05192</td>\n      <td>125.95000</td>\n      <td>0.24153</td>\n      <td>0.03000</td>\n    </tr>\n    <tr>\n      <td>259870</td>\n      <td>116.87750</td>\n      <td>533.78500</td>\n      <td>254.83060</td>\n      <td>65.83649</td>\n      <td>0.00000</td>\n      <td>12.46288</td>\n      <td>28.31451</td>\n      <td>179.44000</td>\n      <td>4.86495</td>\n      <td>140.72750</td>\n      <td>7.50368</td>\n      <td>2441.57700</td>\n      <td>11.27299</td>\n      <td>4.00073</td>\n      <td>141.41000</td>\n      <td>16.18104</td>\n      <td>0.55845</td>\n      <td>2659.15000</td>\n      <td>1.63708</td>\n      <td>135.49670</td>\n    </tr>\n    <tr>\n      <td>260193</td>\n      <td>37.24250</td>\n      <td>300.08690</td>\n      <td>43.28884</td>\n      <td>13.86486</td>\n      <td>118.04670</td>\n      <td>1.03600</td>\n      <td>4.80987</td>\n      <td>7.15000</td>\n      <td>1.63545</td>\n      <td>46.19250</td>\n      <td>21.66052</td>\n      <td>476.54750</td>\n      <td>45.85212</td>\n      <td>1.41095</td>\n      <td>1545.54100</td>\n      <td>4.58523</td>\n      <td>0.08974</td>\n      <td>217.95000</td>\n      <td>0.61491</td>\n      <td>1.23025</td>\n    </tr>\n    <tr>\n      <td>261124</td>\n      <td>36.90501</td>\n      <td>287.12290</td>\n      <td>135.42690</td>\n      <td>3.59909</td>\n      <td>96.13005</td>\n      <td>0.67217</td>\n      <td>15.04743</td>\n      <td>18.83792</td>\n      <td>2.01199</td>\n      <td>33.50583</td>\n      <td>16.46910</td>\n      <td>372.90480</td>\n      <td>32.54562</td>\n      <td>3.21560</td>\n      <td>293.74010</td>\n      <td>1.22104</td>\n      <td>0.09603</td>\n      <td>527.56960</td>\n      <td>0.57170</td>\n      <td>9.79475</td>\n    </tr>\n    <tr>\n      <td>263813</td>\n      <td>485.16930</td>\n      <td>613.20350</td>\n      <td>221.93320</td>\n      <td>47.63988</td>\n      <td>101.46880</td>\n      <td>1.98784</td>\n      <td>24.65924</td>\n      <td>123.37230</td>\n      <td>3.80631</td>\n      <td>79.57173</td>\n      <td>25.88058</td>\n      <td>586.18620</td>\n      <td>49.29259</td>\n      <td>14.67424</td>\n      <td>497.95620</td>\n      <td>7.97937</td>\n      <td>0.17697</td>\n      <td>893.24020</td>\n      <td>0.51950</td>\n      <td>2.10568</td>\n    </tr>\n  </tbody>\n</table>\n<p>4061 rows × 20 columns</p>\n</div>",
      "text/plain": "name     Calcium  Calories  Calories from Fat  Carbohydrates  Cholesterol  \\\nid                                                                          \n6900   117.79860 105.27020           21.33330       17.98829      1.62667   \n7198   244.16520 731.50920          325.65230       73.29574     88.69389   \n8493   415.52450 454.28300          177.75310       23.83120    203.86850   \n8494    58.08641 834.44480          514.68470        4.76954    283.75000   \n8495   379.01410 418.75340          174.23740       12.62089    123.58900   \n...          ...       ...                ...            ...          ...   \n258878   9.30933 189.09670          106.42770        0.12118     70.99000   \n259870 116.87750 533.78500          254.83060       65.83649      0.00000   \n260193  37.24250 300.08690           43.28884       13.86486    118.04670   \n261124  36.90501 287.12290          135.42690        3.59909     96.13005   \n263813 485.16930 613.20350          221.93320       47.63988    101.46880   \n\nname    Dietary Fiber      Fat    Folate    Iron  Magnesium  \\\nid                                                            \n6900          0.56557  2.37037  39.16360 1.14346    7.30480   \n7198          4.64147 36.18359 249.14210 5.76566   52.89296   \n8493          1.99500 19.75034  63.05025 3.11258   54.35775   \n8494          0.63600 57.18719  33.44816 3.72336   84.44925   \n8495          0.75239 19.35971  25.41156 1.89411   60.48306   \n...               ...      ...       ...     ...        ...   \n258878        0.01650 11.82530   5.34667 1.02767   16.89067   \n259870       12.46288 28.31451 179.44000 4.86495  140.72750   \n260193        1.03600  4.80987   7.15000 1.63545   46.19250   \n261124        0.67217 15.04743  18.83792 2.01199   33.50583   \n263813        1.98784 24.65924 123.37230 3.80631   79.57173   \n\nname    Niacin Equivalents  Potassium  Protein  Saturated Fat     Sodium  \\\nid                                                                         \n6900               1.82102   54.07343  2.84282        0.59495  385.75980   \n7198              13.51325  509.34610 27.58195       11.50691 1660.20300   \n8493              23.43780  509.41500 44.07647        9.96063 1107.91100   \n8494              39.18463  807.96980 71.10712       16.35430  567.97140   \n8495              24.62857  457.03550 46.06678       10.03598  931.58340   \n...                    ...        ...      ...            ...        ...   \n258878             8.44069  171.30030 19.15713        3.30546   90.00200   \n259870             7.50368 2441.57700 11.27299        4.00073  141.41000   \n260193            21.66052  476.54750 45.85212        1.41095 1545.54100   \n261124            16.46910  372.90480 32.54562        3.21560  293.74010   \n263813            25.88058  586.18620 49.29259       14.67424  497.95620   \n\nname     Sugars  Thiamin  Vitamin A - IU  Vitamin B6  Vitamin C  \nid                                                               \n6900    1.72141  0.17169       116.75390     0.01709    0.04505  \n7198    2.83424  0.89150       699.95980     0.36319   67.32533  \n8493    3.45304  0.17406       578.21420     0.64563    1.91250  \n8494    2.08741  0.02921       619.52510     1.37244   20.17546  \n8495    1.42275  0.29605       406.88370     0.82640   11.72893  \n...         ...      ...             ...         ...        ...  \n258878  0.04050  0.05192       125.95000     0.24153    0.03000  \n259870 16.18104  0.55845      2659.15000     1.63708  135.49670  \n260193  4.58523  0.08974       217.95000     0.61491    1.23025  \n261124  1.22104  0.09603       527.56960     0.57170    9.79475  \n263813  7.97937  0.17697       893.24020     0.51950    2.10568  \n\n[4061 rows x 20 columns]"
     },
     "execution_count": 221,
     "metadata": {},
     "output_type": "execute_result"
    }
   ],
   "source": [
    "new_nutrition"
   ]
  },
  {
   "cell_type": "code",
   "execution_count": 247,
   "metadata": {},
   "outputs": [],
   "source": [
    "new_nutrition1 = new_nutrition.merge(new_ingredients, how='left', on='id')\n",
    ""
   ]
  },
  {
   "cell_type": "code",
   "execution_count": 248,
   "metadata": {},
   "outputs": [
    {
     "data": {
      "text/html": "<div>\n<style scoped>\n    .dataframe tbody tr th:only-of-type {\n        vertical-align: middle;\n    }\n\n    .dataframe tbody tr th {\n        vertical-align: top;\n    }\n\n    .dataframe thead th {\n        text-align: right;\n    }\n</style>\n<table border=\"1\" class=\"dataframe\">\n  <thead>\n    <tr style=\"text-align: right;\">\n      <th></th>\n      <th>Calcium</th>\n      <th>Calories</th>\n      <th>Calories from Fat</th>\n      <th>Carbohydrates</th>\n      <th>Cholesterol</th>\n      <th>Dietary Fiber</th>\n      <th>Fat</th>\n      <th>Folate</th>\n      <th>Iron</th>\n      <th>Magnesium</th>\n      <th>...</th>\n      <th>Protein</th>\n      <th>Saturated Fat</th>\n      <th>Sodium</th>\n      <th>Sugars</th>\n      <th>Thiamin</th>\n      <th>Vitamin A - IU</th>\n      <th>Vitamin B6</th>\n      <th>Vitamin C</th>\n      <th>ingredients_grams</th>\n      <th>quotient</th>\n    </tr>\n    <tr>\n      <th>id</th>\n      <th></th>\n      <th></th>\n      <th></th>\n      <th></th>\n      <th></th>\n      <th></th>\n      <th></th>\n      <th></th>\n      <th></th>\n      <th></th>\n      <th></th>\n      <th></th>\n      <th></th>\n      <th></th>\n      <th></th>\n      <th></th>\n      <th></th>\n      <th></th>\n      <th></th>\n      <th></th>\n      <th></th>\n    </tr>\n  </thead>\n  <tbody>\n    <tr>\n      <td>6900</td>\n      <td>117.79860</td>\n      <td>105.27020</td>\n      <td>21.33330</td>\n      <td>17.98829</td>\n      <td>1.62667</td>\n      <td>0.56557</td>\n      <td>2.37037</td>\n      <td>39.16360</td>\n      <td>1.14346</td>\n      <td>7.30480</td>\n      <td>...</td>\n      <td>2.84282</td>\n      <td>0.59495</td>\n      <td>385.75980</td>\n      <td>1.72141</td>\n      <td>0.17169</td>\n      <td>116.75390</td>\n      <td>0.01709</td>\n      <td>0.04505</td>\n      <td>184.35112</td>\n      <td>0.36870</td>\n    </tr>\n    <tr>\n      <td>7198</td>\n      <td>244.16520</td>\n      <td>731.50920</td>\n      <td>325.65230</td>\n      <td>73.29574</td>\n      <td>88.69389</td>\n      <td>4.64147</td>\n      <td>36.18359</td>\n      <td>249.14210</td>\n      <td>5.76566</td>\n      <td>52.89296</td>\n      <td>...</td>\n      <td>27.58195</td>\n      <td>11.50691</td>\n      <td>1660.20300</td>\n      <td>2.83424</td>\n      <td>0.89150</td>\n      <td>699.95980</td>\n      <td>0.36319</td>\n      <td>67.32533</td>\n      <td>1238.50889</td>\n      <td>2.47702</td>\n    </tr>\n    <tr>\n      <td>8493</td>\n      <td>415.52450</td>\n      <td>454.28300</td>\n      <td>177.75310</td>\n      <td>23.83120</td>\n      <td>203.86850</td>\n      <td>1.99500</td>\n      <td>19.75034</td>\n      <td>63.05025</td>\n      <td>3.11258</td>\n      <td>54.35775</td>\n      <td>...</td>\n      <td>44.07647</td>\n      <td>9.96063</td>\n      <td>1107.91100</td>\n      <td>3.45304</td>\n      <td>0.17406</td>\n      <td>578.21420</td>\n      <td>0.64563</td>\n      <td>1.91250</td>\n      <td>1280.50000</td>\n      <td>2.56100</td>\n    </tr>\n    <tr>\n      <td>8494</td>\n      <td>58.08641</td>\n      <td>834.44480</td>\n      <td>514.68470</td>\n      <td>4.76954</td>\n      <td>283.75000</td>\n      <td>0.63600</td>\n      <td>57.18719</td>\n      <td>33.44816</td>\n      <td>3.72336</td>\n      <td>84.44925</td>\n      <td>...</td>\n      <td>71.10712</td>\n      <td>16.35430</td>\n      <td>567.97140</td>\n      <td>2.08741</td>\n      <td>0.02921</td>\n      <td>619.52510</td>\n      <td>1.37244</td>\n      <td>20.17546</td>\n      <td>1671.56307</td>\n      <td>3.34313</td>\n    </tr>\n    <tr>\n      <td>8495</td>\n      <td>379.01410</td>\n      <td>418.75340</td>\n      <td>174.23740</td>\n      <td>12.62089</td>\n      <td>123.58900</td>\n      <td>0.75239</td>\n      <td>19.35971</td>\n      <td>25.41156</td>\n      <td>1.89411</td>\n      <td>60.48306</td>\n      <td>...</td>\n      <td>46.06678</td>\n      <td>10.03598</td>\n      <td>931.58340</td>\n      <td>1.42275</td>\n      <td>0.29605</td>\n      <td>406.88370</td>\n      <td>0.82640</td>\n      <td>11.72893</td>\n      <td>817.26250</td>\n      <td>1.63452</td>\n    </tr>\n    <tr>\n      <td>...</td>\n      <td>...</td>\n      <td>...</td>\n      <td>...</td>\n      <td>...</td>\n      <td>...</td>\n      <td>...</td>\n      <td>...</td>\n      <td>...</td>\n      <td>...</td>\n      <td>...</td>\n      <td>...</td>\n      <td>...</td>\n      <td>...</td>\n      <td>...</td>\n      <td>...</td>\n      <td>...</td>\n      <td>...</td>\n      <td>...</td>\n      <td>...</td>\n      <td>...</td>\n      <td>...</td>\n    </tr>\n    <tr>\n      <td>258878</td>\n      <td>9.30933</td>\n      <td>189.09670</td>\n      <td>106.42770</td>\n      <td>0.12118</td>\n      <td>70.99000</td>\n      <td>0.01650</td>\n      <td>11.82530</td>\n      <td>5.34667</td>\n      <td>1.02767</td>\n      <td>16.89067</td>\n      <td>...</td>\n      <td>19.15713</td>\n      <td>3.30546</td>\n      <td>90.00200</td>\n      <td>0.04050</td>\n      <td>0.05192</td>\n      <td>125.95000</td>\n      <td>0.24153</td>\n      <td>0.03000</td>\n      <td>456.93333</td>\n      <td>0.91387</td>\n    </tr>\n    <tr>\n      <td>259870</td>\n      <td>116.87750</td>\n      <td>533.78500</td>\n      <td>254.83060</td>\n      <td>65.83649</td>\n      <td>0.00000</td>\n      <td>12.46288</td>\n      <td>28.31451</td>\n      <td>179.44000</td>\n      <td>4.86495</td>\n      <td>140.72750</td>\n      <td>...</td>\n      <td>11.27299</td>\n      <td>4.00073</td>\n      <td>141.41000</td>\n      <td>16.18104</td>\n      <td>0.55845</td>\n      <td>2659.15000</td>\n      <td>1.63708</td>\n      <td>135.49670</td>\n      <td>3484.50000</td>\n      <td>6.96900</td>\n    </tr>\n    <tr>\n      <td>260193</td>\n      <td>37.24250</td>\n      <td>300.08690</td>\n      <td>43.28884</td>\n      <td>13.86486</td>\n      <td>118.04670</td>\n      <td>1.03600</td>\n      <td>4.80987</td>\n      <td>7.15000</td>\n      <td>1.63545</td>\n      <td>46.19250</td>\n      <td>...</td>\n      <td>45.85212</td>\n      <td>1.41095</td>\n      <td>1545.54100</td>\n      <td>4.58523</td>\n      <td>0.08974</td>\n      <td>217.95000</td>\n      <td>0.61491</td>\n      <td>1.23025</td>\n      <td>1464.50000</td>\n      <td>2.92900</td>\n    </tr>\n    <tr>\n      <td>261124</td>\n      <td>36.90501</td>\n      <td>287.12290</td>\n      <td>135.42690</td>\n      <td>3.59909</td>\n      <td>96.13005</td>\n      <td>0.67217</td>\n      <td>15.04743</td>\n      <td>18.83792</td>\n      <td>2.01199</td>\n      <td>33.50583</td>\n      <td>...</td>\n      <td>32.54562</td>\n      <td>3.21560</td>\n      <td>293.74010</td>\n      <td>1.22104</td>\n      <td>0.09603</td>\n      <td>527.56960</td>\n      <td>0.57170</td>\n      <td>9.79475</td>\n      <td>1156.96946</td>\n      <td>2.31394</td>\n    </tr>\n    <tr>\n      <td>263813</td>\n      <td>485.16930</td>\n      <td>613.20350</td>\n      <td>221.93320</td>\n      <td>47.63988</td>\n      <td>101.46880</td>\n      <td>1.98784</td>\n      <td>24.65924</td>\n      <td>123.37230</td>\n      <td>3.80631</td>\n      <td>79.57173</td>\n      <td>...</td>\n      <td>49.29259</td>\n      <td>14.67424</td>\n      <td>497.95620</td>\n      <td>7.97937</td>\n      <td>0.17697</td>\n      <td>893.24020</td>\n      <td>0.51950</td>\n      <td>2.10568</td>\n      <td>1354.54835</td>\n      <td>2.70910</td>\n    </tr>\n  </tbody>\n</table>\n<p>4061 rows × 22 columns</p>\n</div>",
      "text/plain": "         Calcium  Calories  Calories from Fat  Carbohydrates  Cholesterol  \\\nid                                                                          \n6900   117.79860 105.27020           21.33330       17.98829      1.62667   \n7198   244.16520 731.50920          325.65230       73.29574     88.69389   \n8493   415.52450 454.28300          177.75310       23.83120    203.86850   \n8494    58.08641 834.44480          514.68470        4.76954    283.75000   \n8495   379.01410 418.75340          174.23740       12.62089    123.58900   \n...          ...       ...                ...            ...          ...   \n258878   9.30933 189.09670          106.42770        0.12118     70.99000   \n259870 116.87750 533.78500          254.83060       65.83649      0.00000   \n260193  37.24250 300.08690           43.28884       13.86486    118.04670   \n261124  36.90501 287.12290          135.42690        3.59909     96.13005   \n263813 485.16930 613.20350          221.93320       47.63988    101.46880   \n\n        Dietary Fiber      Fat    Folate    Iron  Magnesium  ...  Protein  \\\nid                                                           ...            \n6900          0.56557  2.37037  39.16360 1.14346    7.30480  ...  2.84282   \n7198          4.64147 36.18359 249.14210 5.76566   52.89296  ... 27.58195   \n8493          1.99500 19.75034  63.05025 3.11258   54.35775  ... 44.07647   \n8494          0.63600 57.18719  33.44816 3.72336   84.44925  ... 71.10712   \n8495          0.75239 19.35971  25.41156 1.89411   60.48306  ... 46.06678   \n...               ...      ...       ...     ...        ...  ...      ...   \n258878        0.01650 11.82530   5.34667 1.02767   16.89067  ... 19.15713   \n259870       12.46288 28.31451 179.44000 4.86495  140.72750  ... 11.27299   \n260193        1.03600  4.80987   7.15000 1.63545   46.19250  ... 45.85212   \n261124        0.67217 15.04743  18.83792 2.01199   33.50583  ... 32.54562   \n263813        1.98784 24.65924 123.37230 3.80631   79.57173  ... 49.29259   \n\n        Saturated Fat     Sodium   Sugars  Thiamin  Vitamin A - IU  \\\nid                                                                   \n6900          0.59495  385.75980  1.72141  0.17169       116.75390   \n7198         11.50691 1660.20300  2.83424  0.89150       699.95980   \n8493          9.96063 1107.91100  3.45304  0.17406       578.21420   \n8494         16.35430  567.97140  2.08741  0.02921       619.52510   \n8495         10.03598  931.58340  1.42275  0.29605       406.88370   \n...               ...        ...      ...      ...             ...   \n258878        3.30546   90.00200  0.04050  0.05192       125.95000   \n259870        4.00073  141.41000 16.18104  0.55845      2659.15000   \n260193        1.41095 1545.54100  4.58523  0.08974       217.95000   \n261124        3.21560  293.74010  1.22104  0.09603       527.56960   \n263813       14.67424  497.95620  7.97937  0.17697       893.24020   \n\n        Vitamin B6  Vitamin C  ingredients_grams  quotient  \nid                                                          \n6900       0.01709    0.04505          184.35112   0.36870  \n7198       0.36319   67.32533         1238.50889   2.47702  \n8493       0.64563    1.91250         1280.50000   2.56100  \n8494       1.37244   20.17546         1671.56307   3.34313  \n8495       0.82640   11.72893          817.26250   1.63452  \n...            ...        ...                ...       ...  \n258878     0.24153    0.03000          456.93333   0.91387  \n259870     1.63708  135.49670         3484.50000   6.96900  \n260193     0.61491    1.23025         1464.50000   2.92900  \n261124     0.57170    9.79475         1156.96946   2.31394  \n263813     0.51950    2.10568         1354.54835   2.70910  \n\n[4061 rows x 22 columns]"
     },
     "execution_count": 248,
     "metadata": {},
     "output_type": "execute_result"
    }
   ],
   "source": [
    "new_nutrition1"
   ]
  },
  {
   "cell_type": "code",
   "execution_count": 226,
   "metadata": {},
   "outputs": [],
   "source": [
    "#new_nutrition1 = new_nutrition1.drop('ingredients_grams',1)"
   ]
  },
  {
   "cell_type": "code",
   "execution_count": 227,
   "metadata": {},
   "outputs": [
    {
     "data": {
      "text/html": "<div>\n<style scoped>\n    .dataframe tbody tr th:only-of-type {\n        vertical-align: middle;\n    }\n\n    .dataframe tbody tr th {\n        vertical-align: top;\n    }\n\n    .dataframe thead th {\n        text-align: right;\n    }\n</style>\n<table border=\"1\" class=\"dataframe\">\n  <thead>\n    <tr style=\"text-align: right;\">\n      <th></th>\n      <th>Calcium</th>\n      <th>Calories</th>\n      <th>Calories from Fat</th>\n      <th>Carbohydrates</th>\n      <th>Cholesterol</th>\n      <th>Dietary Fiber</th>\n      <th>Fat</th>\n      <th>Folate</th>\n      <th>Iron</th>\n      <th>Magnesium</th>\n      <th>...</th>\n      <th>Potassium</th>\n      <th>Protein</th>\n      <th>Saturated Fat</th>\n      <th>Sodium</th>\n      <th>Sugars</th>\n      <th>Thiamin</th>\n      <th>Vitamin A - IU</th>\n      <th>Vitamin B6</th>\n      <th>Vitamin C</th>\n      <th>quotient</th>\n    </tr>\n    <tr>\n      <th>id</th>\n      <th></th>\n      <th></th>\n      <th></th>\n      <th></th>\n      <th></th>\n      <th></th>\n      <th></th>\n      <th></th>\n      <th></th>\n      <th></th>\n      <th></th>\n      <th></th>\n      <th></th>\n      <th></th>\n      <th></th>\n      <th></th>\n      <th></th>\n      <th></th>\n      <th></th>\n      <th></th>\n      <th></th>\n    </tr>\n  </thead>\n  <tbody>\n    <tr>\n      <td>6900</td>\n      <td>117.79860</td>\n      <td>105.27020</td>\n      <td>21.33330</td>\n      <td>17.98829</td>\n      <td>1.62667</td>\n      <td>0.56557</td>\n      <td>2.37037</td>\n      <td>39.16360</td>\n      <td>1.14346</td>\n      <td>7.30480</td>\n      <td>...</td>\n      <td>54.07343</td>\n      <td>2.84282</td>\n      <td>0.59495</td>\n      <td>385.75980</td>\n      <td>1.72141</td>\n      <td>0.17169</td>\n      <td>116.75390</td>\n      <td>0.01709</td>\n      <td>0.04505</td>\n      <td>0.36870</td>\n    </tr>\n    <tr>\n      <td>7198</td>\n      <td>244.16520</td>\n      <td>731.50920</td>\n      <td>325.65230</td>\n      <td>73.29574</td>\n      <td>88.69389</td>\n      <td>4.64147</td>\n      <td>36.18359</td>\n      <td>249.14210</td>\n      <td>5.76566</td>\n      <td>52.89296</td>\n      <td>...</td>\n      <td>509.34610</td>\n      <td>27.58195</td>\n      <td>11.50691</td>\n      <td>1660.20300</td>\n      <td>2.83424</td>\n      <td>0.89150</td>\n      <td>699.95980</td>\n      <td>0.36319</td>\n      <td>67.32533</td>\n      <td>2.47702</td>\n    </tr>\n    <tr>\n      <td>8493</td>\n      <td>415.52450</td>\n      <td>454.28300</td>\n      <td>177.75310</td>\n      <td>23.83120</td>\n      <td>203.86850</td>\n      <td>1.99500</td>\n      <td>19.75034</td>\n      <td>63.05025</td>\n      <td>3.11258</td>\n      <td>54.35775</td>\n      <td>...</td>\n      <td>509.41500</td>\n      <td>44.07647</td>\n      <td>9.96063</td>\n      <td>1107.91100</td>\n      <td>3.45304</td>\n      <td>0.17406</td>\n      <td>578.21420</td>\n      <td>0.64563</td>\n      <td>1.91250</td>\n      <td>2.56100</td>\n    </tr>\n    <tr>\n      <td>8494</td>\n      <td>58.08641</td>\n      <td>834.44480</td>\n      <td>514.68470</td>\n      <td>4.76954</td>\n      <td>283.75000</td>\n      <td>0.63600</td>\n      <td>57.18719</td>\n      <td>33.44816</td>\n      <td>3.72336</td>\n      <td>84.44925</td>\n      <td>...</td>\n      <td>807.96980</td>\n      <td>71.10712</td>\n      <td>16.35430</td>\n      <td>567.97140</td>\n      <td>2.08741</td>\n      <td>0.02921</td>\n      <td>619.52510</td>\n      <td>1.37244</td>\n      <td>20.17546</td>\n      <td>3.34313</td>\n    </tr>\n    <tr>\n      <td>8495</td>\n      <td>379.01410</td>\n      <td>418.75340</td>\n      <td>174.23740</td>\n      <td>12.62089</td>\n      <td>123.58900</td>\n      <td>0.75239</td>\n      <td>19.35971</td>\n      <td>25.41156</td>\n      <td>1.89411</td>\n      <td>60.48306</td>\n      <td>...</td>\n      <td>457.03550</td>\n      <td>46.06678</td>\n      <td>10.03598</td>\n      <td>931.58340</td>\n      <td>1.42275</td>\n      <td>0.29605</td>\n      <td>406.88370</td>\n      <td>0.82640</td>\n      <td>11.72893</td>\n      <td>1.63452</td>\n    </tr>\n    <tr>\n      <td>...</td>\n      <td>...</td>\n      <td>...</td>\n      <td>...</td>\n      <td>...</td>\n      <td>...</td>\n      <td>...</td>\n      <td>...</td>\n      <td>...</td>\n      <td>...</td>\n      <td>...</td>\n      <td>...</td>\n      <td>...</td>\n      <td>...</td>\n      <td>...</td>\n      <td>...</td>\n      <td>...</td>\n      <td>...</td>\n      <td>...</td>\n      <td>...</td>\n      <td>...</td>\n      <td>...</td>\n    </tr>\n    <tr>\n      <td>258878</td>\n      <td>9.30933</td>\n      <td>189.09670</td>\n      <td>106.42770</td>\n      <td>0.12118</td>\n      <td>70.99000</td>\n      <td>0.01650</td>\n      <td>11.82530</td>\n      <td>5.34667</td>\n      <td>1.02767</td>\n      <td>16.89067</td>\n      <td>...</td>\n      <td>171.30030</td>\n      <td>19.15713</td>\n      <td>3.30546</td>\n      <td>90.00200</td>\n      <td>0.04050</td>\n      <td>0.05192</td>\n      <td>125.95000</td>\n      <td>0.24153</td>\n      <td>0.03000</td>\n      <td>0.91387</td>\n    </tr>\n    <tr>\n      <td>259870</td>\n      <td>116.87750</td>\n      <td>533.78500</td>\n      <td>254.83060</td>\n      <td>65.83649</td>\n      <td>0.00000</td>\n      <td>12.46288</td>\n      <td>28.31451</td>\n      <td>179.44000</td>\n      <td>4.86495</td>\n      <td>140.72750</td>\n      <td>...</td>\n      <td>2441.57700</td>\n      <td>11.27299</td>\n      <td>4.00073</td>\n      <td>141.41000</td>\n      <td>16.18104</td>\n      <td>0.55845</td>\n      <td>2659.15000</td>\n      <td>1.63708</td>\n      <td>135.49670</td>\n      <td>6.96900</td>\n    </tr>\n    <tr>\n      <td>260193</td>\n      <td>37.24250</td>\n      <td>300.08690</td>\n      <td>43.28884</td>\n      <td>13.86486</td>\n      <td>118.04670</td>\n      <td>1.03600</td>\n      <td>4.80987</td>\n      <td>7.15000</td>\n      <td>1.63545</td>\n      <td>46.19250</td>\n      <td>...</td>\n      <td>476.54750</td>\n      <td>45.85212</td>\n      <td>1.41095</td>\n      <td>1545.54100</td>\n      <td>4.58523</td>\n      <td>0.08974</td>\n      <td>217.95000</td>\n      <td>0.61491</td>\n      <td>1.23025</td>\n      <td>2.92900</td>\n    </tr>\n    <tr>\n      <td>261124</td>\n      <td>36.90501</td>\n      <td>287.12290</td>\n      <td>135.42690</td>\n      <td>3.59909</td>\n      <td>96.13005</td>\n      <td>0.67217</td>\n      <td>15.04743</td>\n      <td>18.83792</td>\n      <td>2.01199</td>\n      <td>33.50583</td>\n      <td>...</td>\n      <td>372.90480</td>\n      <td>32.54562</td>\n      <td>3.21560</td>\n      <td>293.74010</td>\n      <td>1.22104</td>\n      <td>0.09603</td>\n      <td>527.56960</td>\n      <td>0.57170</td>\n      <td>9.79475</td>\n      <td>2.31394</td>\n    </tr>\n    <tr>\n      <td>263813</td>\n      <td>485.16930</td>\n      <td>613.20350</td>\n      <td>221.93320</td>\n      <td>47.63988</td>\n      <td>101.46880</td>\n      <td>1.98784</td>\n      <td>24.65924</td>\n      <td>123.37230</td>\n      <td>3.80631</td>\n      <td>79.57173</td>\n      <td>...</td>\n      <td>586.18620</td>\n      <td>49.29259</td>\n      <td>14.67424</td>\n      <td>497.95620</td>\n      <td>7.97937</td>\n      <td>0.17697</td>\n      <td>893.24020</td>\n      <td>0.51950</td>\n      <td>2.10568</td>\n      <td>2.70910</td>\n    </tr>\n  </tbody>\n</table>\n<p>4061 rows × 21 columns</p>\n</div>",
      "text/plain": "         Calcium  Calories  Calories from Fat  Carbohydrates  Cholesterol  \\\nid                                                                          \n6900   117.79860 105.27020           21.33330       17.98829      1.62667   \n7198   244.16520 731.50920          325.65230       73.29574     88.69389   \n8493   415.52450 454.28300          177.75310       23.83120    203.86850   \n8494    58.08641 834.44480          514.68470        4.76954    283.75000   \n8495   379.01410 418.75340          174.23740       12.62089    123.58900   \n...          ...       ...                ...            ...          ...   \n258878   9.30933 189.09670          106.42770        0.12118     70.99000   \n259870 116.87750 533.78500          254.83060       65.83649      0.00000   \n260193  37.24250 300.08690           43.28884       13.86486    118.04670   \n261124  36.90501 287.12290          135.42690        3.59909     96.13005   \n263813 485.16930 613.20350          221.93320       47.63988    101.46880   \n\n        Dietary Fiber      Fat    Folate    Iron  Magnesium  ...  Potassium  \\\nid                                                           ...              \n6900          0.56557  2.37037  39.16360 1.14346    7.30480  ...   54.07343   \n7198          4.64147 36.18359 249.14210 5.76566   52.89296  ...  509.34610   \n8493          1.99500 19.75034  63.05025 3.11258   54.35775  ...  509.41500   \n8494          0.63600 57.18719  33.44816 3.72336   84.44925  ...  807.96980   \n8495          0.75239 19.35971  25.41156 1.89411   60.48306  ...  457.03550   \n...               ...      ...       ...     ...        ...  ...        ...   \n258878        0.01650 11.82530   5.34667 1.02767   16.89067  ...  171.30030   \n259870       12.46288 28.31451 179.44000 4.86495  140.72750  ... 2441.57700   \n260193        1.03600  4.80987   7.15000 1.63545   46.19250  ...  476.54750   \n261124        0.67217 15.04743  18.83792 2.01199   33.50583  ...  372.90480   \n263813        1.98784 24.65924 123.37230 3.80631   79.57173  ...  586.18620   \n\n        Protein  Saturated Fat     Sodium   Sugars  Thiamin  Vitamin A - IU  \\\nid                                                                            \n6900    2.84282        0.59495  385.75980  1.72141  0.17169       116.75390   \n7198   27.58195       11.50691 1660.20300  2.83424  0.89150       699.95980   \n8493   44.07647        9.96063 1107.91100  3.45304  0.17406       578.21420   \n8494   71.10712       16.35430  567.97140  2.08741  0.02921       619.52510   \n8495   46.06678       10.03598  931.58340  1.42275  0.29605       406.88370   \n...         ...            ...        ...      ...      ...             ...   \n258878 19.15713        3.30546   90.00200  0.04050  0.05192       125.95000   \n259870 11.27299        4.00073  141.41000 16.18104  0.55845      2659.15000   \n260193 45.85212        1.41095 1545.54100  4.58523  0.08974       217.95000   \n261124 32.54562        3.21560  293.74010  1.22104  0.09603       527.56960   \n263813 49.29259       14.67424  497.95620  7.97937  0.17697       893.24020   \n\n        Vitamin B6  Vitamin C  quotient  \nid                                       \n6900       0.01709    0.04505   0.36870  \n7198       0.36319   67.32533   2.47702  \n8493       0.64563    1.91250   2.56100  \n8494       1.37244   20.17546   3.34313  \n8495       0.82640   11.72893   1.63452  \n...            ...        ...       ...  \n258878     0.24153    0.03000   0.91387  \n259870     1.63708  135.49670   6.96900  \n260193     0.61491    1.23025   2.92900  \n261124     0.57170    9.79475   2.31394  \n263813     0.51950    2.10568   2.70910  \n\n[4061 rows x 21 columns]"
     },
     "execution_count": 227,
     "metadata": {},
     "output_type": "execute_result"
    }
   ],
   "source": [
    "new_nutrition1"
   ]
  },
  {
   "cell_type": "code",
   "execution_count": 249,
   "metadata": {},
   "outputs": [],
   "source": [
    "new_nutrition2 = new_nutrition1.copy()"
   ]
  },
  {
   "cell_type": "code",
   "execution_count": null,
   "metadata": {},
   "outputs": [],
   "source": []
  },
  {
   "cell_type": "code",
   "execution_count": 244,
   "metadata": {},
   "outputs": [
    {
     "data": {
      "text/html": "<div>\n<style scoped>\n    .dataframe tbody tr th:only-of-type {\n        vertical-align: middle;\n    }\n\n    .dataframe tbody tr th {\n        vertical-align: top;\n    }\n\n    .dataframe thead th {\n        text-align: right;\n    }\n</style>\n<table border=\"1\" class=\"dataframe\">\n  <thead>\n    <tr style=\"text-align: right;\">\n      <th></th>\n      <th>Calcium</th>\n      <th>Calories</th>\n      <th>Calories from Fat</th>\n      <th>Carbohydrates</th>\n      <th>Cholesterol</th>\n      <th>Dietary Fiber</th>\n      <th>Fat</th>\n      <th>Folate</th>\n      <th>Iron</th>\n      <th>Magnesium</th>\n      <th>Niacin Equivalents</th>\n      <th>Potassium</th>\n      <th>Protein</th>\n      <th>Saturated Fat</th>\n      <th>Sodium</th>\n      <th>Sugars</th>\n      <th>Thiamin</th>\n      <th>Vitamin A - IU</th>\n      <th>Vitamin B6</th>\n      <th>Vitamin C</th>\n    </tr>\n    <tr>\n      <th>id</th>\n      <th></th>\n      <th></th>\n      <th></th>\n      <th></th>\n      <th></th>\n      <th></th>\n      <th></th>\n      <th></th>\n      <th></th>\n      <th></th>\n      <th></th>\n      <th></th>\n      <th></th>\n      <th></th>\n      <th></th>\n      <th></th>\n      <th></th>\n      <th></th>\n      <th></th>\n      <th></th>\n    </tr>\n  </thead>\n  <tbody>\n    <tr>\n      <td>6900</td>\n      <td>117.79860</td>\n      <td>105.27020</td>\n      <td>21.33330</td>\n      <td>17.98829</td>\n      <td>1.62667</td>\n      <td>0.56557</td>\n      <td>2.37037</td>\n      <td>39.16360</td>\n      <td>1.14346</td>\n      <td>7.30480</td>\n      <td>1.82102</td>\n      <td>54.07343</td>\n      <td>2.84282</td>\n      <td>0.59495</td>\n      <td>385.75980</td>\n      <td>1.72141</td>\n      <td>0.17169</td>\n      <td>116.75390</td>\n      <td>0.01709</td>\n      <td>0.04505</td>\n    </tr>\n    <tr>\n      <td>7198</td>\n      <td>244.16520</td>\n      <td>731.50920</td>\n      <td>325.65230</td>\n      <td>73.29574</td>\n      <td>88.69389</td>\n      <td>4.64147</td>\n      <td>36.18359</td>\n      <td>249.14210</td>\n      <td>5.76566</td>\n      <td>52.89296</td>\n      <td>13.51325</td>\n      <td>509.34610</td>\n      <td>27.58195</td>\n      <td>11.50691</td>\n      <td>1660.20300</td>\n      <td>2.83424</td>\n      <td>0.89150</td>\n      <td>699.95980</td>\n      <td>0.36319</td>\n      <td>67.32533</td>\n    </tr>\n    <tr>\n      <td>8493</td>\n      <td>415.52450</td>\n      <td>454.28300</td>\n      <td>177.75310</td>\n      <td>23.83120</td>\n      <td>203.86850</td>\n      <td>1.99500</td>\n      <td>19.75034</td>\n      <td>63.05025</td>\n      <td>3.11258</td>\n      <td>54.35775</td>\n      <td>23.43780</td>\n      <td>509.41500</td>\n      <td>44.07647</td>\n      <td>9.96063</td>\n      <td>1107.91100</td>\n      <td>3.45304</td>\n      <td>0.17406</td>\n      <td>578.21420</td>\n      <td>0.64563</td>\n      <td>1.91250</td>\n    </tr>\n    <tr>\n      <td>8494</td>\n      <td>58.08641</td>\n      <td>834.44480</td>\n      <td>514.68470</td>\n      <td>4.76954</td>\n      <td>283.75000</td>\n      <td>0.63600</td>\n      <td>57.18719</td>\n      <td>33.44816</td>\n      <td>3.72336</td>\n      <td>84.44925</td>\n      <td>39.18463</td>\n      <td>807.96980</td>\n      <td>71.10712</td>\n      <td>16.35430</td>\n      <td>567.97140</td>\n      <td>2.08741</td>\n      <td>0.02921</td>\n      <td>619.52510</td>\n      <td>1.37244</td>\n      <td>20.17546</td>\n    </tr>\n    <tr>\n      <td>8495</td>\n      <td>379.01410</td>\n      <td>418.75340</td>\n      <td>174.23740</td>\n      <td>12.62089</td>\n      <td>123.58900</td>\n      <td>0.75239</td>\n      <td>19.35971</td>\n      <td>25.41156</td>\n      <td>1.89411</td>\n      <td>60.48306</td>\n      <td>24.62857</td>\n      <td>457.03550</td>\n      <td>46.06678</td>\n      <td>10.03598</td>\n      <td>931.58340</td>\n      <td>1.42275</td>\n      <td>0.29605</td>\n      <td>406.88370</td>\n      <td>0.82640</td>\n      <td>11.72893</td>\n    </tr>\n    <tr>\n      <td>...</td>\n      <td>...</td>\n      <td>...</td>\n      <td>...</td>\n      <td>...</td>\n      <td>...</td>\n      <td>...</td>\n      <td>...</td>\n      <td>...</td>\n      <td>...</td>\n      <td>...</td>\n      <td>...</td>\n      <td>...</td>\n      <td>...</td>\n      <td>...</td>\n      <td>...</td>\n      <td>...</td>\n      <td>...</td>\n      <td>...</td>\n      <td>...</td>\n      <td>...</td>\n    </tr>\n    <tr>\n      <td>258878</td>\n      <td>9.30933</td>\n      <td>189.09670</td>\n      <td>106.42770</td>\n      <td>0.12118</td>\n      <td>70.99000</td>\n      <td>0.01650</td>\n      <td>11.82530</td>\n      <td>5.34667</td>\n      <td>1.02767</td>\n      <td>16.89067</td>\n      <td>8.44069</td>\n      <td>171.30030</td>\n      <td>19.15713</td>\n      <td>3.30546</td>\n      <td>90.00200</td>\n      <td>0.04050</td>\n      <td>0.05192</td>\n      <td>125.95000</td>\n      <td>0.24153</td>\n      <td>0.03000</td>\n    </tr>\n    <tr>\n      <td>259870</td>\n      <td>116.87750</td>\n      <td>533.78500</td>\n      <td>254.83060</td>\n      <td>65.83649</td>\n      <td>0.00000</td>\n      <td>12.46288</td>\n      <td>28.31451</td>\n      <td>179.44000</td>\n      <td>4.86495</td>\n      <td>140.72750</td>\n      <td>7.50368</td>\n      <td>2441.57700</td>\n      <td>11.27299</td>\n      <td>4.00073</td>\n      <td>141.41000</td>\n      <td>16.18104</td>\n      <td>0.55845</td>\n      <td>2659.15000</td>\n      <td>1.63708</td>\n      <td>135.49670</td>\n    </tr>\n    <tr>\n      <td>260193</td>\n      <td>37.24250</td>\n      <td>300.08690</td>\n      <td>43.28884</td>\n      <td>13.86486</td>\n      <td>118.04670</td>\n      <td>1.03600</td>\n      <td>4.80987</td>\n      <td>7.15000</td>\n      <td>1.63545</td>\n      <td>46.19250</td>\n      <td>21.66052</td>\n      <td>476.54750</td>\n      <td>45.85212</td>\n      <td>1.41095</td>\n      <td>1545.54100</td>\n      <td>4.58523</td>\n      <td>0.08974</td>\n      <td>217.95000</td>\n      <td>0.61491</td>\n      <td>1.23025</td>\n    </tr>\n    <tr>\n      <td>261124</td>\n      <td>36.90501</td>\n      <td>287.12290</td>\n      <td>135.42690</td>\n      <td>3.59909</td>\n      <td>96.13005</td>\n      <td>0.67217</td>\n      <td>15.04743</td>\n      <td>18.83792</td>\n      <td>2.01199</td>\n      <td>33.50583</td>\n      <td>16.46910</td>\n      <td>372.90480</td>\n      <td>32.54562</td>\n      <td>3.21560</td>\n      <td>293.74010</td>\n      <td>1.22104</td>\n      <td>0.09603</td>\n      <td>527.56960</td>\n      <td>0.57170</td>\n      <td>9.79475</td>\n    </tr>\n    <tr>\n      <td>263813</td>\n      <td>485.16930</td>\n      <td>613.20350</td>\n      <td>221.93320</td>\n      <td>47.63988</td>\n      <td>101.46880</td>\n      <td>1.98784</td>\n      <td>24.65924</td>\n      <td>123.37230</td>\n      <td>3.80631</td>\n      <td>79.57173</td>\n      <td>25.88058</td>\n      <td>586.18620</td>\n      <td>49.29259</td>\n      <td>14.67424</td>\n      <td>497.95620</td>\n      <td>7.97937</td>\n      <td>0.17697</td>\n      <td>893.24020</td>\n      <td>0.51950</td>\n      <td>2.10568</td>\n    </tr>\n  </tbody>\n</table>\n<p>4061 rows × 20 columns</p>\n</div>",
      "text/plain": "         Calcium  Calories  Calories from Fat  Carbohydrates  Cholesterol  \\\nid                                                                          \n6900   117.79860 105.27020           21.33330       17.98829      1.62667   \n7198   244.16520 731.50920          325.65230       73.29574     88.69389   \n8493   415.52450 454.28300          177.75310       23.83120    203.86850   \n8494    58.08641 834.44480          514.68470        4.76954    283.75000   \n8495   379.01410 418.75340          174.23740       12.62089    123.58900   \n...          ...       ...                ...            ...          ...   \n258878   9.30933 189.09670          106.42770        0.12118     70.99000   \n259870 116.87750 533.78500          254.83060       65.83649      0.00000   \n260193  37.24250 300.08690           43.28884       13.86486    118.04670   \n261124  36.90501 287.12290          135.42690        3.59909     96.13005   \n263813 485.16930 613.20350          221.93320       47.63988    101.46880   \n\n        Dietary Fiber      Fat    Folate    Iron  Magnesium  \\\nid                                                            \n6900          0.56557  2.37037  39.16360 1.14346    7.30480   \n7198          4.64147 36.18359 249.14210 5.76566   52.89296   \n8493          1.99500 19.75034  63.05025 3.11258   54.35775   \n8494          0.63600 57.18719  33.44816 3.72336   84.44925   \n8495          0.75239 19.35971  25.41156 1.89411   60.48306   \n...               ...      ...       ...     ...        ...   \n258878        0.01650 11.82530   5.34667 1.02767   16.89067   \n259870       12.46288 28.31451 179.44000 4.86495  140.72750   \n260193        1.03600  4.80987   7.15000 1.63545   46.19250   \n261124        0.67217 15.04743  18.83792 2.01199   33.50583   \n263813        1.98784 24.65924 123.37230 3.80631   79.57173   \n\n        Niacin Equivalents  Potassium  Protein  Saturated Fat     Sodium  \\\nid                                                                         \n6900               1.82102   54.07343  2.84282        0.59495  385.75980   \n7198              13.51325  509.34610 27.58195       11.50691 1660.20300   \n8493              23.43780  509.41500 44.07647        9.96063 1107.91100   \n8494              39.18463  807.96980 71.10712       16.35430  567.97140   \n8495              24.62857  457.03550 46.06678       10.03598  931.58340   \n...                    ...        ...      ...            ...        ...   \n258878             8.44069  171.30030 19.15713        3.30546   90.00200   \n259870             7.50368 2441.57700 11.27299        4.00073  141.41000   \n260193            21.66052  476.54750 45.85212        1.41095 1545.54100   \n261124            16.46910  372.90480 32.54562        3.21560  293.74010   \n263813            25.88058  586.18620 49.29259       14.67424  497.95620   \n\n         Sugars  Thiamin  Vitamin A - IU  Vitamin B6  Vitamin C  \nid                                                               \n6900    1.72141  0.17169       116.75390     0.01709    0.04505  \n7198    2.83424  0.89150       699.95980     0.36319   67.32533  \n8493    3.45304  0.17406       578.21420     0.64563    1.91250  \n8494    2.08741  0.02921       619.52510     1.37244   20.17546  \n8495    1.42275  0.29605       406.88370     0.82640   11.72893  \n...         ...      ...             ...         ...        ...  \n258878  0.04050  0.05192       125.95000     0.24153    0.03000  \n259870 16.18104  0.55845      2659.15000     1.63708  135.49670  \n260193  4.58523  0.08974       217.95000     0.61491    1.23025  \n261124  1.22104  0.09603       527.56960     0.57170    9.79475  \n263813  7.97937  0.17697       893.24020     0.51950    2.10568  \n\n[4061 rows x 20 columns]"
     },
     "execution_count": 244,
     "metadata": {},
     "output_type": "execute_result"
    }
   ],
   "source": [
    "new_nutrition2.iloc[:, 0:19+1]"
   ]
  },
  {
   "cell_type": "code",
   "execution_count": 233,
   "metadata": {},
   "outputs": [],
   "source": [
    "new_nutrition2.iloc[:, 1:19+1] *= new_nutrition2['quotient']"
   ]
  },
  {
   "cell_type": "code",
   "execution_count": 250,
   "metadata": {},
   "outputs": [],
   "source": [
    "new_nutrition2.update(new_nutrition2.iloc[:, 0:19+1].mul(new_nutrition2.quotient, 0))"
   ]
  },
  {
   "cell_type": "code",
   "execution_count": 251,
   "metadata": {},
   "outputs": [
    {
     "data": {
      "text/html": "<div>\n<style scoped>\n    .dataframe tbody tr th:only-of-type {\n        vertical-align: middle;\n    }\n\n    .dataframe tbody tr th {\n        vertical-align: top;\n    }\n\n    .dataframe thead th {\n        text-align: right;\n    }\n</style>\n<table border=\"1\" class=\"dataframe\">\n  <thead>\n    <tr style=\"text-align: right;\">\n      <th></th>\n      <th>Calcium</th>\n      <th>Calories</th>\n      <th>Calories from Fat</th>\n      <th>Carbohydrates</th>\n      <th>Cholesterol</th>\n      <th>Dietary Fiber</th>\n      <th>Fat</th>\n      <th>Folate</th>\n      <th>Iron</th>\n      <th>Magnesium</th>\n      <th>...</th>\n      <th>Protein</th>\n      <th>Saturated Fat</th>\n      <th>Sodium</th>\n      <th>Sugars</th>\n      <th>Thiamin</th>\n      <th>Vitamin A - IU</th>\n      <th>Vitamin B6</th>\n      <th>Vitamin C</th>\n      <th>ingredients_grams</th>\n      <th>quotient</th>\n    </tr>\n    <tr>\n      <th>id</th>\n      <th></th>\n      <th></th>\n      <th></th>\n      <th></th>\n      <th></th>\n      <th></th>\n      <th></th>\n      <th></th>\n      <th></th>\n      <th></th>\n      <th></th>\n      <th></th>\n      <th></th>\n      <th></th>\n      <th></th>\n      <th></th>\n      <th></th>\n      <th></th>\n      <th></th>\n      <th></th>\n      <th></th>\n    </tr>\n  </thead>\n  <tbody>\n    <tr>\n      <td>6900</td>\n      <td>43.43261</td>\n      <td>38.81336</td>\n      <td>7.86564</td>\n      <td>6.63232</td>\n      <td>0.59976</td>\n      <td>0.20853</td>\n      <td>0.87396</td>\n      <td>14.43971</td>\n      <td>0.42160</td>\n      <td>2.69330</td>\n      <td>...</td>\n      <td>1.04816</td>\n      <td>0.21936</td>\n      <td>142.23050</td>\n      <td>0.63469</td>\n      <td>0.06330</td>\n      <td>43.04742</td>\n      <td>0.00630</td>\n      <td>0.01661</td>\n      <td>184.35112</td>\n      <td>0.36870</td>\n    </tr>\n    <tr>\n      <td>7198</td>\n      <td>604.80154</td>\n      <td>1811.96129</td>\n      <td>806.64654</td>\n      <td>181.55485</td>\n      <td>219.69634</td>\n      <td>11.49699</td>\n      <td>89.62740</td>\n      <td>617.12941</td>\n      <td>14.28164</td>\n      <td>131.01680</td>\n      <td>...</td>\n      <td>68.32098</td>\n      <td>28.50282</td>\n      <td>4112.35235</td>\n      <td>7.02047</td>\n      <td>2.20826</td>\n      <td>1733.81287</td>\n      <td>0.89963</td>\n      <td>166.76604</td>\n      <td>1238.50889</td>\n      <td>2.47702</td>\n    </tr>\n    <tr>\n      <td>8493</td>\n      <td>1064.15824</td>\n      <td>1163.41876</td>\n      <td>455.22569</td>\n      <td>61.03170</td>\n      <td>522.10723</td>\n      <td>5.10920</td>\n      <td>50.58062</td>\n      <td>161.47169</td>\n      <td>7.97130</td>\n      <td>139.21020</td>\n      <td>...</td>\n      <td>112.87984</td>\n      <td>25.50918</td>\n      <td>2837.36007</td>\n      <td>8.84324</td>\n      <td>0.44577</td>\n      <td>1480.80657</td>\n      <td>1.65346</td>\n      <td>4.89791</td>\n      <td>1280.50000</td>\n      <td>2.56100</td>\n    </tr>\n    <tr>\n      <td>8494</td>\n      <td>194.19020</td>\n      <td>2789.65422</td>\n      <td>1720.65587</td>\n      <td>15.94519</td>\n      <td>948.61204</td>\n      <td>2.12624</td>\n      <td>191.18399</td>\n      <td>111.82142</td>\n      <td>12.44765</td>\n      <td>282.32449</td>\n      <td>...</td>\n      <td>237.72007</td>\n      <td>54.67449</td>\n      <td>1898.80003</td>\n      <td>6.97847</td>\n      <td>0.09765</td>\n      <td>2071.15055</td>\n      <td>4.58824</td>\n      <td>67.44911</td>\n      <td>1671.56307</td>\n      <td>3.34313</td>\n    </tr>\n    <tr>\n      <td>8495</td>\n      <td>619.50802</td>\n      <td>684.46290</td>\n      <td>284.79539</td>\n      <td>20.62916</td>\n      <td>202.00931</td>\n      <td>1.22980</td>\n      <td>31.64393</td>\n      <td>41.53583</td>\n      <td>3.09597</td>\n      <td>98.86107</td>\n      <td>...</td>\n      <td>75.29730</td>\n      <td>16.40406</td>\n      <td>1522.69636</td>\n      <td>2.32552</td>\n      <td>0.48390</td>\n      <td>665.06158</td>\n      <td>1.35078</td>\n      <td>19.17123</td>\n      <td>817.26250</td>\n      <td>1.63452</td>\n    </tr>\n    <tr>\n      <td>...</td>\n      <td>...</td>\n      <td>...</td>\n      <td>...</td>\n      <td>...</td>\n      <td>...</td>\n      <td>...</td>\n      <td>...</td>\n      <td>...</td>\n      <td>...</td>\n      <td>...</td>\n      <td>...</td>\n      <td>...</td>\n      <td>...</td>\n      <td>...</td>\n      <td>...</td>\n      <td>...</td>\n      <td>...</td>\n      <td>...</td>\n      <td>...</td>\n      <td>...</td>\n      <td>...</td>\n    </tr>\n    <tr>\n      <td>258878</td>\n      <td>8.50749</td>\n      <td>172.80917</td>\n      <td>97.26073</td>\n      <td>0.11075</td>\n      <td>64.87539</td>\n      <td>0.01508</td>\n      <td>10.80675</td>\n      <td>4.88614</td>\n      <td>0.93915</td>\n      <td>15.43582</td>\n      <td>...</td>\n      <td>17.50706</td>\n      <td>3.02075</td>\n      <td>82.24983</td>\n      <td>0.03701</td>\n      <td>0.04745</td>\n      <td>115.10151</td>\n      <td>0.22073</td>\n      <td>0.02742</td>\n      <td>456.93333</td>\n      <td>0.91387</td>\n    </tr>\n    <tr>\n      <td>259870</td>\n      <td>814.51930</td>\n      <td>3719.94767</td>\n      <td>1775.91445</td>\n      <td>458.81450</td>\n      <td>0.00000</td>\n      <td>86.85381</td>\n      <td>197.32382</td>\n      <td>1250.51736</td>\n      <td>33.90384</td>\n      <td>980.72995</td>\n      <td>...</td>\n      <td>78.56147</td>\n      <td>27.88105</td>\n      <td>985.48629</td>\n      <td>112.76567</td>\n      <td>3.89186</td>\n      <td>18531.61635</td>\n      <td>11.40879</td>\n      <td>944.27650</td>\n      <td>3484.50000</td>\n      <td>6.96900</td>\n    </tr>\n    <tr>\n      <td>260193</td>\n      <td>109.08328</td>\n      <td>878.95453</td>\n      <td>126.79301</td>\n      <td>40.61017</td>\n      <td>345.75878</td>\n      <td>3.03444</td>\n      <td>14.08811</td>\n      <td>20.94235</td>\n      <td>4.79023</td>\n      <td>135.29783</td>\n      <td>...</td>\n      <td>134.30086</td>\n      <td>4.13268</td>\n      <td>4526.88959</td>\n      <td>13.43015</td>\n      <td>0.26285</td>\n      <td>638.37555</td>\n      <td>1.80108</td>\n      <td>3.60340</td>\n      <td>1464.50000</td>\n      <td>2.92900</td>\n    </tr>\n    <tr>\n      <td>261124</td>\n      <td>85.39594</td>\n      <td>664.38485</td>\n      <td>313.36957</td>\n      <td>8.32808</td>\n      <td>222.43906</td>\n      <td>1.55535</td>\n      <td>34.81883</td>\n      <td>43.58980</td>\n      <td>4.65562</td>\n      <td>77.53044</td>\n      <td>...</td>\n      <td>75.30858</td>\n      <td>7.44071</td>\n      <td>679.69665</td>\n      <td>2.82541</td>\n      <td>0.22221</td>\n      <td>1220.76383</td>\n      <td>1.32287</td>\n      <td>22.66445</td>\n      <td>1156.96946</td>\n      <td>2.31394</td>\n    </tr>\n    <tr>\n      <td>263813</td>\n      <td>1314.37055</td>\n      <td>1661.22758</td>\n      <td>601.23850</td>\n      <td>129.06104</td>\n      <td>274.88879</td>\n      <td>5.38526</td>\n      <td>66.80427</td>\n      <td>334.22749</td>\n      <td>10.31166</td>\n      <td>215.56751</td>\n      <td>...</td>\n      <td>133.53839</td>\n      <td>39.75394</td>\n      <td>1349.01150</td>\n      <td>21.61689</td>\n      <td>0.47942</td>\n      <td>2419.87407</td>\n      <td>1.40737</td>\n      <td>5.70450</td>\n      <td>1354.54835</td>\n      <td>2.70910</td>\n    </tr>\n  </tbody>\n</table>\n<p>4061 rows × 22 columns</p>\n</div>",
      "text/plain": "          Calcium   Calories  Calories from Fat  Carbohydrates  Cholesterol  \\\nid                                                                            \n6900     43.43261   38.81336            7.86564        6.63232      0.59976   \n7198    604.80154 1811.96129          806.64654      181.55485    219.69634   \n8493   1064.15824 1163.41876          455.22569       61.03170    522.10723   \n8494    194.19020 2789.65422         1720.65587       15.94519    948.61204   \n8495    619.50802  684.46290          284.79539       20.62916    202.00931   \n...           ...        ...                ...            ...          ...   \n258878    8.50749  172.80917           97.26073        0.11075     64.87539   \n259870  814.51930 3719.94767         1775.91445      458.81450      0.00000   \n260193  109.08328  878.95453          126.79301       40.61017    345.75878   \n261124   85.39594  664.38485          313.36957        8.32808    222.43906   \n263813 1314.37055 1661.22758          601.23850      129.06104    274.88879   \n\n        Dietary Fiber       Fat     Folate     Iron  Magnesium  ...   Protein  \\\nid                                                              ...             \n6900          0.20853   0.87396   14.43971  0.42160    2.69330  ...   1.04816   \n7198         11.49699  89.62740  617.12941 14.28164  131.01680  ...  68.32098   \n8493          5.10920  50.58062  161.47169  7.97130  139.21020  ... 112.87984   \n8494          2.12624 191.18399  111.82142 12.44765  282.32449  ... 237.72007   \n8495          1.22980  31.64393   41.53583  3.09597   98.86107  ...  75.29730   \n...               ...       ...        ...      ...        ...  ...       ...   \n258878        0.01508  10.80675    4.88614  0.93915   15.43582  ...  17.50706   \n259870       86.85381 197.32382 1250.51736 33.90384  980.72995  ...  78.56147   \n260193        3.03444  14.08811   20.94235  4.79023  135.29783  ... 134.30086   \n261124        1.55535  34.81883   43.58980  4.65562   77.53044  ...  75.30858   \n263813        5.38526  66.80427  334.22749 10.31166  215.56751  ... 133.53839   \n\n        Saturated Fat     Sodium    Sugars  Thiamin  Vitamin A - IU  \\\nid                                                                    \n6900          0.21936  142.23050   0.63469  0.06330        43.04742   \n7198         28.50282 4112.35235   7.02047  2.20826      1733.81287   \n8493         25.50918 2837.36007   8.84324  0.44577      1480.80657   \n8494         54.67449 1898.80003   6.97847  0.09765      2071.15055   \n8495         16.40406 1522.69636   2.32552  0.48390       665.06158   \n...               ...        ...       ...      ...             ...   \n258878        3.02075   82.24983   0.03701  0.04745       115.10151   \n259870       27.88105  985.48629 112.76567  3.89186     18531.61635   \n260193        4.13268 4526.88959  13.43015  0.26285       638.37555   \n261124        7.44071  679.69665   2.82541  0.22221      1220.76383   \n263813       39.75394 1349.01150  21.61689  0.47942      2419.87407   \n\n        Vitamin B6  Vitamin C  ingredients_grams  quotient  \nid                                                          \n6900       0.00630    0.01661          184.35112   0.36870  \n7198       0.89963  166.76604         1238.50889   2.47702  \n8493       1.65346    4.89791         1280.50000   2.56100  \n8494       4.58824   67.44911         1671.56307   3.34313  \n8495       1.35078   19.17123          817.26250   1.63452  \n...            ...        ...                ...       ...  \n258878     0.22073    0.02742          456.93333   0.91387  \n259870    11.40879  944.27650         3484.50000   6.96900  \n260193     1.80108    3.60340         1464.50000   2.92900  \n261124     1.32287   22.66445         1156.96946   2.31394  \n263813     1.40737    5.70450         1354.54835   2.70910  \n\n[4061 rows x 22 columns]"
     },
     "execution_count": 251,
     "metadata": {},
     "output_type": "execute_result"
    }
   ],
   "source": [
    "new_nutrition2"
   ]
  },
  {
   "cell_type": "code",
   "execution_count": null,
   "metadata": {},
   "outputs": [],
   "source": []
  }
 ]
}