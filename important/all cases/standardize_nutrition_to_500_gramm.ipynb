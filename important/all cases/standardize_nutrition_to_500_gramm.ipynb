{
 "nbformat": 4,
 "nbformat_minor": 2,
 "metadata": {
  "language_info": {
   "name": "python",
   "codemirror_mode": {
    "name": "ipython",
    "version": 3
   },
   "version": "3.7.6-final"
  },
  "orig_nbformat": 2,
  "file_extension": ".py",
  "mimetype": "text/x-python",
  "name": "python",
  "npconvert_exporter": "python",
  "pygments_lexer": "ipython3",
  "version": 3,
  "kernelspec": {
   "name": "python3",
   "display_name": "Python 3"
  }
 },
 "cells": [
  {
   "cell_type": "code",
   "execution_count": 1,
   "metadata": {},
   "outputs": [],
   "source": [
    "import json\n",
    "\n",
    "import numpy as np\n",
    "import pandas as pd\n",
    "import pymongo\n",
    "import scipy\n",
    "from bson import ObjectId, json_util\n",
    "from pandas.io.json import json_normalize\n",
    "from pymongo import MongoClient as Connection\n",
    "from scipy import sparse, spatial\n",
    "from scipy.spatial.distance import cdist, pdist, squareform\n",
    "from sklearn.metrics.pairwise import cosine_similarity\n",
    "\n",
    "# scientific notation disabled form smaller numbers\n",
    "pd.options.display.float_format = '{:.5f}'.format\n",
    "\n",
    "# alles resultate anzeigen und nicht nur das letzte\n",
    "from IPython.core.interactiveshell import InteractiveShell\n",
    "InteractiveShell.ast_node_interactivity = \"all\"\n",
    "\n"
   ]
  },
  {
   "cell_type": "code",
   "execution_count": 2,
   "metadata": {},
   "outputs": [
    {
     "data": {
      "text/html": "<style>\n.output {\n    flex-direction: row;\n}\n</style>",
      "text/plain": "<IPython.core.display.HTML object>"
     },
     "execution_count": 2,
     "metadata": {},
     "output_type": "execute_result"
    }
   ],
   "source": [
    "# display multiple outputs in one row\n",
    "import pandas as pd\n",
    "import numpy as np\n",
    "from IPython.display import display, HTML\n",
    "\n",
    "CSS = \"\"\"\n",
    ".output {\n",
    "    flex-direction: row;\n",
    "}\n",
    "\"\"\"\n",
    "\n",
    "HTML('<style>{}</style>'.format(CSS))"
   ]
  },
  {
   "cell_type": "code",
   "execution_count": 3,
   "metadata": {},
   "outputs": [],
   "source": [
    "connection = Connection()\n",
    "db = connection.recipe_db\n",
    "input_data = db.recipes_test_copy\n",
    "\n",
    "data = json.loads(json_util.dumps(input_data.find()))"
   ]
  },
  {
   "cell_type": "code",
   "execution_count": 4,
   "metadata": {},
   "outputs": [],
   "source": [
    "data_non_norm = pd.DataFrame(data)"
   ]
  },
  {
   "cell_type": "code",
   "execution_count": 5,
   "metadata": {},
   "outputs": [],
   "source": [
    "# pd.set_option('display.width', 1000)"
   ]
  },
  {
   "cell_type": "code",
   "execution_count": 6,
   "metadata": {},
   "outputs": [],
   "source": [
    "#pd.set_option('display.expand_frame_repr', False)"
   ]
  },
  {
   "cell_type": "code",
   "execution_count": 7,
   "metadata": {},
   "outputs": [],
   "source": [
    "#pd.set_option('display.max_columns', 500)"
   ]
  },
  {
   "cell_type": "code",
   "execution_count": 8,
   "metadata": {},
   "outputs": [],
   "source": [
    "#pd.reset_option('^display.', silent=True)"
   ]
  },
  {
   "cell_type": "code",
   "execution_count": 9,
   "metadata": {},
   "outputs": [
    {
     "data": {
      "text/html": "<div>\n<style scoped>\n    .dataframe tbody tr th:only-of-type {\n        vertical-align: middle;\n    }\n\n    .dataframe tbody tr th {\n        vertical-align: top;\n    }\n\n    .dataframe thead th {\n        text-align: right;\n    }\n</style>\n<table border=\"1\" class=\"dataframe\">\n  <thead>\n    <tr style=\"text-align: right;\">\n      <th></th>\n      <th>_id</th>\n      <th>categories</th>\n      <th>name</th>\n      <th>id</th>\n      <th>authorId</th>\n      <th>author</th>\n      <th>description</th>\n      <th>prep_time</th>\n      <th>cook_time</th>\n      <th>ready_in_time</th>\n      <th>servings</th>\n      <th>rating</th>\n      <th>rating_count</th>\n      <th>review_count</th>\n      <th>made_it_count</th>\n      <th>api_url</th>\n      <th>url</th>\n      <th>ingredients</th>\n      <th>nutritions</th>\n    </tr>\n  </thead>\n  <tbody>\n    <tr>\n      <td>0</td>\n      <td>{'$oid': '5b2257a5ff20008b5a00085d'}</td>\n      <td>[{'name': 'Vegetarian'}, {'name': 'Casserole'}...</td>\n      <td>Spinach Enchiladas</td>\n      <td>59661</td>\n      <td>662842</td>\n      <td>SADONIA2</td>\n      <td>If you like spinach and Mexican food, you'll l...</td>\n      <td>20</td>\n      <td>20</td>\n      <td>40</td>\n      <td>4</td>\n      <td>4.33559</td>\n      <td>1180</td>\n      <td>817</td>\n      <td>2267</td>\n      <td>https://apps.allrecipes.com/v1/recipes/59661</td>\n      <td>https://www.allrecipes.com/recipe/59661/spinac...</td>\n      <td>[{'id': 16157, 'name': '10 g butter', 'grams':...</td>\n      <td>[{'name': 'Fat', 'amount': 35.95846, 'unit': '...</td>\n    </tr>\n  </tbody>\n</table>\n</div>",
      "text/plain": "                                    _id  \\\n0  {'$oid': '5b2257a5ff20008b5a00085d'}   \n\n                                          categories                name  \\\n0  [{'name': 'Vegetarian'}, {'name': 'Casserole'}...  Spinach Enchiladas   \n\n      id  authorId    author  \\\n0  59661    662842  SADONIA2   \n\n                                         description  prep_time  cook_time  \\\n0  If you like spinach and Mexican food, you'll l...         20         20   \n\n   ready_in_time  servings  rating  rating_count  review_count  made_it_count  \\\n0             40         4 4.33559          1180           817           2267   \n\n                                        api_url  \\\n0  https://apps.allrecipes.com/v1/recipes/59661   \n\n                                                 url  \\\n0  https://www.allrecipes.com/recipe/59661/spinac...   \n\n                                         ingredients  \\\n0  [{'id': 16157, 'name': '10 g butter', 'grams':...   \n\n                                          nutritions  \n0  [{'name': 'Fat', 'amount': 35.95846, 'unit': '...  "
     },
     "execution_count": 9,
     "metadata": {},
     "output_type": "execute_result"
    }
   ],
   "source": [
    "data_non_norm[0:1]"
   ]
  },
  {
   "cell_type": "code",
   "execution_count": 10,
   "metadata": {},
   "outputs": [],
   "source": [
    "new_df = data_non_norm[['name', 'id', 'ingredients', 'nutritions']]"
   ]
  },
  {
   "cell_type": "code",
   "execution_count": 11,
   "metadata": {},
   "outputs": [
    {
     "data": {
      "text/html": "<div>\n<style scoped>\n    .dataframe tbody tr th:only-of-type {\n        vertical-align: middle;\n    }\n\n    .dataframe tbody tr th {\n        vertical-align: top;\n    }\n\n    .dataframe thead th {\n        text-align: right;\n    }\n</style>\n<table border=\"1\" class=\"dataframe\">\n  <thead>\n    <tr style=\"text-align: right;\">\n      <th></th>\n      <th>name</th>\n      <th>id</th>\n      <th>ingredients</th>\n      <th>nutritions</th>\n    </tr>\n  </thead>\n  <tbody>\n    <tr>\n      <td>0</td>\n      <td>Spinach Enchiladas</td>\n      <td>59661</td>\n      <td>[{'id': 16157, 'name': '10 g butter', 'grams':...</td>\n      <td>[{'name': 'Fat', 'amount': 35.95846, 'unit': '...</td>\n    </tr>\n    <tr>\n      <td>1</td>\n      <td>Stuffed Peppers</td>\n      <td>16330</td>\n      <td>[{'id': 3103, 'name': '305 g ground beef', 'gr...</td>\n      <td>[{'name': 'Fat', 'amount': 9.378057, 'unit': '...</td>\n    </tr>\n    <tr>\n      <td>2</td>\n      <td>Crispy and Tender Baked Chicken Thighs</td>\n      <td>235151</td>\n      <td>[{'id': 10536, 'name': 'cooking spray', 'grams...</td>\n      <td>[{'name': 'Fat', 'amount': 11.88371, 'unit': '...</td>\n    </tr>\n    <tr>\n      <td>3</td>\n      <td>Simple Baked Chicken Breasts</td>\n      <td>240208</td>\n      <td>[{'id': 6494, 'name': '4 skinless, boneless ch...</td>\n      <td>[{'name': 'Fat', 'amount': 9.5803, 'unit': 'g'...</td>\n    </tr>\n    <tr>\n      <td>4</td>\n      <td>Delicious Egg Salad for Sandwiches</td>\n      <td>147103</td>\n      <td>[{'id': 16317, 'name': '8 eggs', 'grams': 400....</td>\n      <td>[{'name': 'Fat', 'amount': 31.85464, 'unit': '...</td>\n    </tr>\n    <tr>\n      <td>...</td>\n      <td>...</td>\n      <td>...</td>\n      <td>...</td>\n      <td>...</td>\n    </tr>\n    <tr>\n      <td>6299</td>\n      <td>Miso-Glazed Skirt Steak</td>\n      <td>228049</td>\n      <td>[{'id': 18888, 'name': '45 ml red wine vinegar...</td>\n      <td>[{'name': 'Fat', 'amount': 7.365764, 'unit': '...</td>\n    </tr>\n    <tr>\n      <td>6300</td>\n      <td>Slow Cooker Herbed Turkey Breast</td>\n      <td>229659</td>\n      <td>[{'id': 6647, 'name': '3/8 (5 pound) boneless ...</td>\n      <td>[{'name': 'Fat', 'amount': 13.42641, 'unit': '...</td>\n    </tr>\n    <tr>\n      <td>6301</td>\n      <td>Chef John's Chicken Satay Burger</td>\n      <td>236032</td>\n      <td>[{'id': 2858, 'name': '35 g peanut butter', 'g...</td>\n      <td>[{'name': 'Fat', 'amount': 8.863402, 'unit': '...</td>\n    </tr>\n    <tr>\n      <td>6302</td>\n      <td>Pineapple Jerk Chicken</td>\n      <td>245877</td>\n      <td>[{'id': 1650, 'name': '125 g uncooked long-gra...</td>\n      <td>[{'name': 'Fat', 'amount': 4.347167, 'unit': '...</td>\n    </tr>\n    <tr>\n      <td>6303</td>\n      <td>Copycat Chipotle® Chicken</td>\n      <td>244188</td>\n      <td>[{'id': 23337, 'name': '15 g dried chipotle ch...</td>\n      <td>[{'name': 'Fat', 'amount': 18.68556, 'unit': '...</td>\n    </tr>\n  </tbody>\n</table>\n<p>6304 rows × 4 columns</p>\n</div>",
      "text/plain": "                                        name      id  \\\n0                         Spinach Enchiladas   59661   \n1                            Stuffed Peppers   16330   \n2     Crispy and Tender Baked Chicken Thighs  235151   \n3               Simple Baked Chicken Breasts  240208   \n4         Delicious Egg Salad for Sandwiches  147103   \n...                                      ...     ...   \n6299                 Miso-Glazed Skirt Steak  228049   \n6300        Slow Cooker Herbed Turkey Breast  229659   \n6301       Chef John's Chicken Satay Burger   236032   \n6302                  Pineapple Jerk Chicken  245877   \n6303               Copycat Chipotle® Chicken  244188   \n\n                                            ingredients  \\\n0     [{'id': 16157, 'name': '10 g butter', 'grams':...   \n1     [{'id': 3103, 'name': '305 g ground beef', 'gr...   \n2     [{'id': 10536, 'name': 'cooking spray', 'grams...   \n3     [{'id': 6494, 'name': '4 skinless, boneless ch...   \n4     [{'id': 16317, 'name': '8 eggs', 'grams': 400....   \n...                                                 ...   \n6299  [{'id': 18888, 'name': '45 ml red wine vinegar...   \n6300  [{'id': 6647, 'name': '3/8 (5 pound) boneless ...   \n6301  [{'id': 2858, 'name': '35 g peanut butter', 'g...   \n6302  [{'id': 1650, 'name': '125 g uncooked long-gra...   \n6303  [{'id': 23337, 'name': '15 g dried chipotle ch...   \n\n                                             nutritions  \n0     [{'name': 'Fat', 'amount': 35.95846, 'unit': '...  \n1     [{'name': 'Fat', 'amount': 9.378057, 'unit': '...  \n2     [{'name': 'Fat', 'amount': 11.88371, 'unit': '...  \n3     [{'name': 'Fat', 'amount': 9.5803, 'unit': 'g'...  \n4     [{'name': 'Fat', 'amount': 31.85464, 'unit': '...  \n...                                                 ...  \n6299  [{'name': 'Fat', 'amount': 7.365764, 'unit': '...  \n6300  [{'name': 'Fat', 'amount': 13.42641, 'unit': '...  \n6301  [{'name': 'Fat', 'amount': 8.863402, 'unit': '...  \n6302  [{'name': 'Fat', 'amount': 4.347167, 'unit': '...  \n6303  [{'name': 'Fat', 'amount': 18.68556, 'unit': '...  \n\n[6304 rows x 4 columns]"
     },
     "execution_count": 11,
     "metadata": {},
     "output_type": "execute_result"
    }
   ],
   "source": [
    "new_df"
   ]
  },
  {
   "cell_type": "code",
   "execution_count": 12,
   "metadata": {},
   "outputs": [
    {
     "data": {
      "text/html": "<div>\n<style scoped>\n    .dataframe tbody tr th:only-of-type {\n        vertical-align: middle;\n    }\n\n    .dataframe tbody tr th {\n        vertical-align: top;\n    }\n\n    .dataframe thead th {\n        text-align: right;\n    }\n</style>\n<table border=\"1\" class=\"dataframe\">\n  <thead>\n    <tr style=\"text-align: right;\">\n      <th></th>\n      <th>_id</th>\n      <th>categories</th>\n      <th>name</th>\n      <th>id</th>\n      <th>authorId</th>\n      <th>author</th>\n      <th>description</th>\n      <th>prep_time</th>\n      <th>cook_time</th>\n      <th>ready_in_time</th>\n      <th>servings</th>\n      <th>rating</th>\n      <th>rating_count</th>\n      <th>review_count</th>\n      <th>made_it_count</th>\n      <th>api_url</th>\n      <th>url</th>\n      <th>ingredients</th>\n      <th>nutritions</th>\n    </tr>\n  </thead>\n  <tbody>\n    <tr>\n      <td>0</td>\n      <td>{'$oid': '5b2257a5ff20008b5a00085d'}</td>\n      <td>[{'name': 'Vegetarian'}, {'name': 'Casserole'}...</td>\n      <td>Spinach Enchiladas</td>\n      <td>59661</td>\n      <td>662842</td>\n      <td>SADONIA2</td>\n      <td>If you like spinach and Mexican food, you'll l...</td>\n      <td>20</td>\n      <td>20</td>\n      <td>40</td>\n      <td>4</td>\n      <td>4.33559</td>\n      <td>1180</td>\n      <td>817</td>\n      <td>2267</td>\n      <td>https://apps.allrecipes.com/v1/recipes/59661</td>\n      <td>https://www.allrecipes.com/recipe/59661/spinac...</td>\n      <td>[{'id': 16157, 'name': '10 g butter', 'grams':...</td>\n      <td>[{'name': 'Fat', 'amount': 35.95846, 'unit': '...</td>\n    </tr>\n    <tr>\n      <td>1</td>\n      <td>{'$oid': '5b2257acff20008b5a00085e'}</td>\n      <td>[{'name': 'Gluten Free'}, {'name': 'Dairy Free...</td>\n      <td>Stuffed Peppers</td>\n      <td>16330</td>\n      <td>25072</td>\n      <td>BDEGER</td>\n      <td>Green peppers stuffed with ground beef and ric...</td>\n      <td>20</td>\n      <td>60</td>\n      <td>80</td>\n      <td>4</td>\n      <td>4.28910</td>\n      <td>1605</td>\n      <td>1111</td>\n      <td>2687</td>\n      <td>https://apps.allrecipes.com/v1/recipes/16330</td>\n      <td>https://www.allrecipes.com/recipe/16330/stuffe...</td>\n      <td>[{'id': 3103, 'name': '305 g ground beef', 'gr...</td>\n      <td>[{'name': 'Fat', 'amount': 9.378057, 'unit': '...</td>\n    </tr>\n    <tr>\n      <td>2</td>\n      <td>{'$oid': '5b2257b0ff20008b5a00085f'}</td>\n      <td>[{'name': 'Chicken'}, {'name': 'Main'}, {'name...</td>\n      <td>Crispy and Tender Baked Chicken Thighs</td>\n      <td>235151</td>\n      <td>2032612</td>\n      <td>Nicole Burdett</td>\n      <td>A simple spice blend gives tons of flavor to t...</td>\n      <td>10</td>\n      <td>60</td>\n      <td>70</td>\n      <td>4</td>\n      <td>4.64052</td>\n      <td>1007</td>\n      <td>786</td>\n      <td>3923</td>\n      <td>https://apps.allrecipes.com/v1/recipes/235151</td>\n      <td>https://www.allrecipes.com/recipe/235151/crisp...</td>\n      <td>[{'id': 10536, 'name': 'cooking spray', 'grams...</td>\n      <td>[{'name': 'Fat', 'amount': 11.88371, 'unit': '...</td>\n    </tr>\n    <tr>\n      <td>3</td>\n      <td>{'$oid': '5b2257b4ff20008b5a000860'}</td>\n      <td>[{'name': 'Quick Easy'}, {'name': 'Chicken'}, ...</td>\n      <td>Simple Baked Chicken Breasts</td>\n      <td>240208</td>\n      <td>196935</td>\n      <td>Always Cooking Up Something</td>\n      <td>Simple basic recipe for cooking up a bunch of ...</td>\n      <td>15</td>\n      <td>25</td>\n      <td>40</td>\n      <td>4</td>\n      <td>4.60638</td>\n      <td>282</td>\n      <td>204</td>\n      <td>2116</td>\n      <td>https://apps.allrecipes.com/v1/recipes/240208</td>\n      <td>https://www.allrecipes.com/recipe/240208/simpl...</td>\n      <td>[{'id': 6494, 'name': '4 skinless, boneless ch...</td>\n      <td>[{'name': 'Fat', 'amount': 9.5803, 'unit': 'g'...</td>\n    </tr>\n    <tr>\n      <td>4</td>\n      <td>{'$oid': '5b2257bdff20008b5a000861'}</td>\n      <td>[{'name': 'Easter'}, {'name': 'Salad'}, {'name...</td>\n      <td>Delicious Egg Salad for Sandwiches</td>\n      <td>147103</td>\n      <td>2309128</td>\n      <td>wifeyluvs2cook</td>\n      <td>This is a wonderful-tasting egg salad sandwich...</td>\n      <td>10</td>\n      <td>15</td>\n      <td>35</td>\n      <td>4</td>\n      <td>4.61898</td>\n      <td>1475</td>\n      <td>1027</td>\n      <td>3046</td>\n      <td>https://apps.allrecipes.com/v1/recipes/147103</td>\n      <td>https://www.allrecipes.com/recipe/147103/delic...</td>\n      <td>[{'id': 16317, 'name': '8 eggs', 'grams': 400....</td>\n      <td>[{'name': 'Fat', 'amount': 31.85464, 'unit': '...</td>\n    </tr>\n    <tr>\n      <td>...</td>\n      <td>...</td>\n      <td>...</td>\n      <td>...</td>\n      <td>...</td>\n      <td>...</td>\n      <td>...</td>\n      <td>...</td>\n      <td>...</td>\n      <td>...</td>\n      <td>...</td>\n      <td>...</td>\n      <td>...</td>\n      <td>...</td>\n      <td>...</td>\n      <td>...</td>\n      <td>...</td>\n      <td>...</td>\n      <td>...</td>\n      <td>...</td>\n    </tr>\n    <tr>\n      <td>6299</td>\n      <td>{'$oid': '5b23861bff20008b5a0020f9'}</td>\n      <td>[{'name': 'BBQ'}, {'name': 'Beef'}, {'name': '...</td>\n      <td>Miso-Glazed Skirt Steak</td>\n      <td>228049</td>\n      <td>8601924</td>\n      <td>Chef John</td>\n      <td>This succulent grilled skirt steak recipe woul...</td>\n      <td>10</td>\n      <td>8</td>\n      <td>48</td>\n      <td>4</td>\n      <td>4.13889</td>\n      <td>36</td>\n      <td>28</td>\n      <td>82</td>\n      <td>https://apps.allrecipes.com/v1/recipes/228049</td>\n      <td>https://www.allrecipes.com/recipe/228049/miso-...</td>\n      <td>[{'id': 18888, 'name': '45 ml red wine vinegar...</td>\n      <td>[{'name': 'Fat', 'amount': 7.365764, 'unit': '...</td>\n    </tr>\n    <tr>\n      <td>6300</td>\n      <td>{'$oid': '5b23861dff20008b5a0020fa'}</td>\n      <td>[{'name': 'Slow'}, {'name': 'Lowcarb'}, {'name...</td>\n      <td>Slow Cooker Herbed Turkey Breast</td>\n      <td>229659</td>\n      <td>4290639</td>\n      <td>Andersonfam09</td>\n      <td>The most amazing, flavorful, moist, turkey bre...</td>\n      <td>15</td>\n      <td>360</td>\n      <td>390</td>\n      <td>4</td>\n      <td>4.52778</td>\n      <td>36</td>\n      <td>29</td>\n      <td>70</td>\n      <td>https://apps.allrecipes.com/v1/recipes/229659</td>\n      <td>https://www.allrecipes.com/recipe/229659/slow-...</td>\n      <td>[{'id': 6647, 'name': '3/8 (5 pound) boneless ...</td>\n      <td>[{'name': 'Fat', 'amount': 13.42641, 'unit': '...</td>\n    </tr>\n    <tr>\n      <td>6301</td>\n      <td>{'$oid': '5b238622ff20008b5a0020fb'}</td>\n      <td>[{'name': 'Asian'}, {'name': 'Chicken'}, {'nam...</td>\n      <td>Chef John's Chicken Satay Burger</td>\n      <td>236032</td>\n      <td>8601924</td>\n      <td>Chef John</td>\n      <td>I love chicken satay, that spicy meat on a sti...</td>\n      <td>15</td>\n      <td>20</td>\n      <td>35</td>\n      <td>4</td>\n      <td>4.80556</td>\n      <td>36</td>\n      <td>26</td>\n      <td>53</td>\n      <td>https://apps.allrecipes.com/v1/recipes/236032</td>\n      <td>https://www.allrecipes.com/recipe/236032/chef-...</td>\n      <td>[{'id': 2858, 'name': '35 g peanut butter', 'g...</td>\n      <td>[{'name': 'Fat', 'amount': 8.863402, 'unit': '...</td>\n    </tr>\n    <tr>\n      <td>6302</td>\n      <td>{'$oid': '5b238629ff20008b5a0020fc'}</td>\n      <td>[{'name': 'Chicken'}, {'name': 'Main'}, {'name...</td>\n      <td>Pineapple Jerk Chicken</td>\n      <td>245877</td>\n      <td>17095853</td>\n      <td>Cans Get You Cooking®</td>\n      <td>Canned pineapple is harvested and packed at it...</td>\n      <td>10</td>\n      <td>20</td>\n      <td>30</td>\n      <td>4</td>\n      <td>4.50000</td>\n      <td>36</td>\n      <td>27</td>\n      <td>152</td>\n      <td>https://apps.allrecipes.com/v1/recipes/245877</td>\n      <td>https://www.allrecipes.com/recipe/245877/pinea...</td>\n      <td>[{'id': 1650, 'name': '125 g uncooked long-gra...</td>\n      <td>[{'name': 'Fat', 'amount': 4.347167, 'unit': '...</td>\n    </tr>\n    <tr>\n      <td>6303</td>\n      <td>{'$oid': '5b23862fff20008b5a0020fd'}</td>\n      <td>[{'name': 'Paleo'}, {'name': 'BBQ'}, {'name': ...</td>\n      <td>Copycat Chipotle® Chicken</td>\n      <td>244188</td>\n      <td>7722271</td>\n      <td>RainbowJewels</td>\n      <td>Just a small amount of effort for this delicio...</td>\n      <td>10</td>\n      <td>5</td>\n      <td>1095</td>\n      <td>4</td>\n      <td>4.80556</td>\n      <td>36</td>\n      <td>30</td>\n      <td>136</td>\n      <td>https://apps.allrecipes.com/v1/recipes/244188</td>\n      <td>https://www.allrecipes.com/recipe/244188/copyc...</td>\n      <td>[{'id': 23337, 'name': '15 g dried chipotle ch...</td>\n      <td>[{'name': 'Fat', 'amount': 18.68556, 'unit': '...</td>\n    </tr>\n  </tbody>\n</table>\n<p>6304 rows × 19 columns</p>\n</div>",
      "text/plain": "                                       _id  \\\n0     {'$oid': '5b2257a5ff20008b5a00085d'}   \n1     {'$oid': '5b2257acff20008b5a00085e'}   \n2     {'$oid': '5b2257b0ff20008b5a00085f'}   \n3     {'$oid': '5b2257b4ff20008b5a000860'}   \n4     {'$oid': '5b2257bdff20008b5a000861'}   \n...                                    ...   \n6299  {'$oid': '5b23861bff20008b5a0020f9'}   \n6300  {'$oid': '5b23861dff20008b5a0020fa'}   \n6301  {'$oid': '5b238622ff20008b5a0020fb'}   \n6302  {'$oid': '5b238629ff20008b5a0020fc'}   \n6303  {'$oid': '5b23862fff20008b5a0020fd'}   \n\n                                             categories  \\\n0     [{'name': 'Vegetarian'}, {'name': 'Casserole'}...   \n1     [{'name': 'Gluten Free'}, {'name': 'Dairy Free...   \n2     [{'name': 'Chicken'}, {'name': 'Main'}, {'name...   \n3     [{'name': 'Quick Easy'}, {'name': 'Chicken'}, ...   \n4     [{'name': 'Easter'}, {'name': 'Salad'}, {'name...   \n...                                                 ...   \n6299  [{'name': 'BBQ'}, {'name': 'Beef'}, {'name': '...   \n6300  [{'name': 'Slow'}, {'name': 'Lowcarb'}, {'name...   \n6301  [{'name': 'Asian'}, {'name': 'Chicken'}, {'nam...   \n6302  [{'name': 'Chicken'}, {'name': 'Main'}, {'name...   \n6303  [{'name': 'Paleo'}, {'name': 'BBQ'}, {'name': ...   \n\n                                        name      id  authorId  \\\n0                         Spinach Enchiladas   59661    662842   \n1                            Stuffed Peppers   16330     25072   \n2     Crispy and Tender Baked Chicken Thighs  235151   2032612   \n3               Simple Baked Chicken Breasts  240208    196935   \n4         Delicious Egg Salad for Sandwiches  147103   2309128   \n...                                      ...     ...       ...   \n6299                 Miso-Glazed Skirt Steak  228049   8601924   \n6300        Slow Cooker Herbed Turkey Breast  229659   4290639   \n6301       Chef John's Chicken Satay Burger   236032   8601924   \n6302                  Pineapple Jerk Chicken  245877  17095853   \n6303               Copycat Chipotle® Chicken  244188   7722271   \n\n                           author  \\\n0                        SADONIA2   \n1                          BDEGER   \n2                  Nicole Burdett   \n3     Always Cooking Up Something   \n4                  wifeyluvs2cook   \n...                           ...   \n6299                    Chef John   \n6300                Andersonfam09   \n6301                    Chef John   \n6302        Cans Get You Cooking®   \n6303                RainbowJewels   \n\n                                            description  prep_time  cook_time  \\\n0     If you like spinach and Mexican food, you'll l...         20         20   \n1     Green peppers stuffed with ground beef and ric...         20         60   \n2     A simple spice blend gives tons of flavor to t...         10         60   \n3     Simple basic recipe for cooking up a bunch of ...         15         25   \n4     This is a wonderful-tasting egg salad sandwich...         10         15   \n...                                                 ...        ...        ...   \n6299  This succulent grilled skirt steak recipe woul...         10          8   \n6300  The most amazing, flavorful, moist, turkey bre...         15        360   \n6301  I love chicken satay, that spicy meat on a sti...         15         20   \n6302  Canned pineapple is harvested and packed at it...         10         20   \n6303  Just a small amount of effort for this delicio...         10          5   \n\n      ready_in_time  servings  rating  rating_count  review_count  \\\n0                40         4 4.33559          1180           817   \n1                80         4 4.28910          1605          1111   \n2                70         4 4.64052          1007           786   \n3                40         4 4.60638           282           204   \n4                35         4 4.61898          1475          1027   \n...             ...       ...     ...           ...           ...   \n6299             48         4 4.13889            36            28   \n6300            390         4 4.52778            36            29   \n6301             35         4 4.80556            36            26   \n6302             30         4 4.50000            36            27   \n6303           1095         4 4.80556            36            30   \n\n      made_it_count                                        api_url  \\\n0              2267   https://apps.allrecipes.com/v1/recipes/59661   \n1              2687   https://apps.allrecipes.com/v1/recipes/16330   \n2              3923  https://apps.allrecipes.com/v1/recipes/235151   \n3              2116  https://apps.allrecipes.com/v1/recipes/240208   \n4              3046  https://apps.allrecipes.com/v1/recipes/147103   \n...             ...                                            ...   \n6299             82  https://apps.allrecipes.com/v1/recipes/228049   \n6300             70  https://apps.allrecipes.com/v1/recipes/229659   \n6301             53  https://apps.allrecipes.com/v1/recipes/236032   \n6302            152  https://apps.allrecipes.com/v1/recipes/245877   \n6303            136  https://apps.allrecipes.com/v1/recipes/244188   \n\n                                                    url  \\\n0     https://www.allrecipes.com/recipe/59661/spinac...   \n1     https://www.allrecipes.com/recipe/16330/stuffe...   \n2     https://www.allrecipes.com/recipe/235151/crisp...   \n3     https://www.allrecipes.com/recipe/240208/simpl...   \n4     https://www.allrecipes.com/recipe/147103/delic...   \n...                                                 ...   \n6299  https://www.allrecipes.com/recipe/228049/miso-...   \n6300  https://www.allrecipes.com/recipe/229659/slow-...   \n6301  https://www.allrecipes.com/recipe/236032/chef-...   \n6302  https://www.allrecipes.com/recipe/245877/pinea...   \n6303  https://www.allrecipes.com/recipe/244188/copyc...   \n\n                                            ingredients  \\\n0     [{'id': 16157, 'name': '10 g butter', 'grams':...   \n1     [{'id': 3103, 'name': '305 g ground beef', 'gr...   \n2     [{'id': 10536, 'name': 'cooking spray', 'grams...   \n3     [{'id': 6494, 'name': '4 skinless, boneless ch...   \n4     [{'id': 16317, 'name': '8 eggs', 'grams': 400....   \n...                                                 ...   \n6299  [{'id': 18888, 'name': '45 ml red wine vinegar...   \n6300  [{'id': 6647, 'name': '3/8 (5 pound) boneless ...   \n6301  [{'id': 2858, 'name': '35 g peanut butter', 'g...   \n6302  [{'id': 1650, 'name': '125 g uncooked long-gra...   \n6303  [{'id': 23337, 'name': '15 g dried chipotle ch...   \n\n                                             nutritions  \n0     [{'name': 'Fat', 'amount': 35.95846, 'unit': '...  \n1     [{'name': 'Fat', 'amount': 9.378057, 'unit': '...  \n2     [{'name': 'Fat', 'amount': 11.88371, 'unit': '...  \n3     [{'name': 'Fat', 'amount': 9.5803, 'unit': 'g'...  \n4     [{'name': 'Fat', 'amount': 31.85464, 'unit': '...  \n...                                                 ...  \n6299  [{'name': 'Fat', 'amount': 7.365764, 'unit': '...  \n6300  [{'name': 'Fat', 'amount': 13.42641, 'unit': '...  \n6301  [{'name': 'Fat', 'amount': 8.863402, 'unit': '...  \n6302  [{'name': 'Fat', 'amount': 4.347167, 'unit': '...  \n6303  [{'name': 'Fat', 'amount': 18.68556, 'unit': '...  \n\n[6304 rows x 19 columns]"
     },
     "execution_count": 12,
     "metadata": {},
     "output_type": "execute_result"
    }
   ],
   "source": [
    "data_non_norm"
   ]
  },
  {
   "cell_type": "code",
   "execution_count": 13,
   "metadata": {},
   "outputs": [],
   "source": [
    "data_non_norm.drop('url', axis=1, inplace=True)"
   ]
  },
  {
   "cell_type": "code",
   "execution_count": 14,
   "metadata": {},
   "outputs": [],
   "source": [
    "ing = pd.DataFrame(json_normalize(data, record_path='ingredients',\n",
    "                             meta='id', record_prefix='ingredients_', errors='ignore'))\n",
    "\n",
    "\n",
    "nutritions = pd.DataFrame(json_normalize(data, record_path='nutritions',\n",
    "                            meta=['id', 'prep_time', 'rating', 'rating_count', 'ready_in_time', 'review_count']))\n"
   ]
  },
  {
   "cell_type": "code",
   "execution_count": 15,
   "metadata": {},
   "outputs": [
    {
     "data": {
      "text/html": "<div>\n<style scoped>\n    .dataframe tbody tr th:only-of-type {\n        vertical-align: middle;\n    }\n\n    .dataframe tbody tr th {\n        vertical-align: top;\n    }\n\n    .dataframe thead th {\n        text-align: right;\n    }\n</style>\n<table border=\"1\" class=\"dataframe\">\n  <thead>\n    <tr style=\"text-align: right;\">\n      <th></th>\n      <th>name</th>\n      <th>amount</th>\n      <th>unit</th>\n      <th>display_value</th>\n      <th>percent_daily_value</th>\n      <th>id</th>\n      <th>prep_time</th>\n      <th>rating</th>\n      <th>rating_count</th>\n      <th>ready_in_time</th>\n      <th>review_count</th>\n    </tr>\n  </thead>\n  <tbody>\n    <tr>\n      <td>0</td>\n      <td>Fat</td>\n      <td>35.95846</td>\n      <td>g</td>\n      <td>36</td>\n      <td>55</td>\n      <td>59661</td>\n      <td>20</td>\n      <td>4.33559</td>\n      <td>1180</td>\n      <td>40</td>\n      <td>817</td>\n    </tr>\n    <tr>\n      <td>1</td>\n      <td>Calories</td>\n      <td>509.80290</td>\n      <td>kcal</td>\n      <td>510</td>\n      <td>25</td>\n      <td>59661</td>\n      <td>20</td>\n      <td>4.33559</td>\n      <td>1180</td>\n      <td>40</td>\n      <td>817</td>\n    </tr>\n    <tr>\n      <td>2</td>\n      <td>Cholesterol</td>\n      <td>95.27404</td>\n      <td>mg</td>\n      <td>95</td>\n      <td>32</td>\n      <td>59661</td>\n      <td>20</td>\n      <td>4.33559</td>\n      <td>1180</td>\n      <td>40</td>\n      <td>817</td>\n    </tr>\n    <tr>\n      <td>3</td>\n      <td>Sodium</td>\n      <td>353.60110</td>\n      <td>mg</td>\n      <td>354</td>\n      <td>14</td>\n      <td>59661</td>\n      <td>20</td>\n      <td>4.33559</td>\n      <td>1180</td>\n      <td>40</td>\n      <td>817</td>\n    </tr>\n    <tr>\n      <td>4</td>\n      <td>Carbohydrates</td>\n      <td>32.26605</td>\n      <td>g</td>\n      <td>32.3</td>\n      <td>10</td>\n      <td>59661</td>\n      <td>20</td>\n      <td>4.33559</td>\n      <td>1180</td>\n      <td>40</td>\n      <td>817</td>\n    </tr>\n    <tr>\n      <td>...</td>\n      <td>...</td>\n      <td>...</td>\n      <td>...</td>\n      <td>...</td>\n      <td>...</td>\n      <td>...</td>\n      <td>...</td>\n      <td>...</td>\n      <td>...</td>\n      <td>...</td>\n      <td>...</td>\n    </tr>\n    <tr>\n      <td>126075</td>\n      <td>Sugars</td>\n      <td>0.32176</td>\n      <td>g</td>\n      <td>0.3</td>\n      <td>0</td>\n      <td>244188</td>\n      <td>10</td>\n      <td>4.80556</td>\n      <td>36</td>\n      <td>1095</td>\n      <td>30</td>\n    </tr>\n    <tr>\n      <td>126076</td>\n      <td>Potassium</td>\n      <td>392.87760</td>\n      <td>mg</td>\n      <td>393</td>\n      <td>11</td>\n      <td>244188</td>\n      <td>10</td>\n      <td>4.80556</td>\n      <td>36</td>\n      <td>1095</td>\n      <td>30</td>\n    </tr>\n    <tr>\n      <td>126077</td>\n      <td>Saturated Fat</td>\n      <td>4.65290</td>\n      <td>g</td>\n      <td>4.7</td>\n      <td>23</td>\n      <td>244188</td>\n      <td>10</td>\n      <td>4.80556</td>\n      <td>36</td>\n      <td>1095</td>\n      <td>30</td>\n    </tr>\n    <tr>\n      <td>126078</td>\n      <td>Calories from Fat</td>\n      <td>168.17000</td>\n      <td>kcal</td>\n      <td>168</td>\n      <td>-</td>\n      <td>244188</td>\n      <td>10</td>\n      <td>4.80556</td>\n      <td>36</td>\n      <td>1095</td>\n      <td>30</td>\n    </tr>\n    <tr>\n      <td>126079</td>\n      <td>Dietary Fiber</td>\n      <td>2.09705</td>\n      <td>g</td>\n      <td>2.1</td>\n      <td>8</td>\n      <td>244188</td>\n      <td>10</td>\n      <td>4.80556</td>\n      <td>36</td>\n      <td>1095</td>\n      <td>30</td>\n    </tr>\n  </tbody>\n</table>\n<p>126080 rows × 11 columns</p>\n</div>",
      "text/plain": "                     name    amount  unit display_value percent_daily_value  \\\n0                     Fat  35.95846     g            36                  55   \n1                Calories 509.80290  kcal           510                  25   \n2             Cholesterol  95.27404    mg            95                  32   \n3                  Sodium 353.60110    mg           354                  14   \n4           Carbohydrates  32.26605     g          32.3                  10   \n...                   ...       ...   ...           ...                 ...   \n126075             Sugars   0.32176     g           0.3                   0   \n126076          Potassium 392.87760    mg           393                  11   \n126077      Saturated Fat   4.65290     g           4.7                  23   \n126078  Calories from Fat 168.17000  kcal           168                   -   \n126079      Dietary Fiber   2.09705     g           2.1                   8   \n\n            id prep_time  rating rating_count ready_in_time review_count  \n0        59661        20 4.33559         1180            40          817  \n1        59661        20 4.33559         1180            40          817  \n2        59661        20 4.33559         1180            40          817  \n3        59661        20 4.33559         1180            40          817  \n4        59661        20 4.33559         1180            40          817  \n...        ...       ...     ...          ...           ...          ...  \n126075  244188        10 4.80556           36          1095           30  \n126076  244188        10 4.80556           36          1095           30  \n126077  244188        10 4.80556           36          1095           30  \n126078  244188        10 4.80556           36          1095           30  \n126079  244188        10 4.80556           36          1095           30  \n\n[126080 rows x 11 columns]"
     },
     "execution_count": 15,
     "metadata": {},
     "output_type": "execute_result"
    }
   ],
   "source": [
    "nutritions"
   ]
  },
  {
   "cell_type": "code",
   "execution_count": 16,
   "metadata": {},
   "outputs": [
    {
     "data": {
      "text/html": "<div>\n<style scoped>\n    .dataframe tbody tr th:only-of-type {\n        vertical-align: middle;\n    }\n\n    .dataframe tbody tr th {\n        vertical-align: top;\n    }\n\n    .dataframe thead th {\n        text-align: right;\n    }\n</style>\n<table border=\"1\" class=\"dataframe\">\n  <thead>\n    <tr style=\"text-align: right;\">\n      <th></th>\n      <th>ingredients_id</th>\n      <th>ingredients_name</th>\n      <th>ingredients_grams</th>\n      <th>ingredients_type</th>\n      <th>id</th>\n    </tr>\n  </thead>\n  <tbody>\n    <tr>\n      <td>0</td>\n      <td>16157</td>\n      <td>10 g butter</td>\n      <td>11.36000</td>\n      <td>Normal</td>\n      <td>59661</td>\n    </tr>\n    <tr>\n      <td>1</td>\n      <td>4405</td>\n      <td>40 g sliced green onions</td>\n      <td>41.80000</td>\n      <td>Normal</td>\n      <td>59661</td>\n    </tr>\n    <tr>\n      <td>2</td>\n      <td>4342</td>\n      <td>1-1/2 cloves garlic, minced</td>\n      <td>4.80000</td>\n      <td>Normal</td>\n      <td>59661</td>\n    </tr>\n    <tr>\n      <td>3</td>\n      <td>4520</td>\n      <td>3/4 (10 ounce) package frozen chopped spinach ...</td>\n      <td>227.20000</td>\n      <td>Normal</td>\n      <td>59661</td>\n    </tr>\n    <tr>\n      <td>4</td>\n      <td>16243</td>\n      <td>180 g ricotta cheese</td>\n      <td>182.40001</td>\n      <td>Normal</td>\n      <td>59661</td>\n    </tr>\n    <tr>\n      <td>...</td>\n      <td>...</td>\n      <td>...</td>\n      <td>...</td>\n      <td>...</td>\n      <td>...</td>\n    </tr>\n    <tr>\n      <td>61189</td>\n      <td>20551</td>\n      <td>1 g ground cumin</td>\n      <td>1.05000</td>\n      <td>Normal</td>\n      <td>244188</td>\n    </tr>\n    <tr>\n      <td>61190</td>\n      <td>16403</td>\n      <td>0.8 g dried oregano</td>\n      <td>0.75000</td>\n      <td>Normal</td>\n      <td>244188</td>\n    </tr>\n    <tr>\n      <td>61191</td>\n      <td>16406</td>\n      <td>1 g freshly ground black pepper</td>\n      <td>1.05000</td>\n      <td>Normal</td>\n      <td>244188</td>\n    </tr>\n    <tr>\n      <td>61192</td>\n      <td>6307</td>\n      <td>15 ml olive oil</td>\n      <td>13.50000</td>\n      <td>Normal</td>\n      <td>244188</td>\n    </tr>\n    <tr>\n      <td>61193</td>\n      <td>6527</td>\n      <td>570 g skinless, boneless chicken thighs</td>\n      <td>567.50000</td>\n      <td>Normal</td>\n      <td>244188</td>\n    </tr>\n  </tbody>\n</table>\n<p>61194 rows × 5 columns</p>\n</div>",
      "text/plain": "       ingredients_id                                   ingredients_name  \\\n0               16157                                        10 g butter   \n1                4405                           40 g sliced green onions   \n2                4342                        1-1/2 cloves garlic, minced   \n3                4520  3/4 (10 ounce) package frozen chopped spinach ...   \n4               16243                               180 g ricotta cheese   \n...               ...                                                ...   \n61189           20551                                   1 g ground cumin   \n61190           16403                                0.8 g dried oregano   \n61191           16406                    1 g freshly ground black pepper   \n61192            6307                                    15 ml olive oil   \n61193            6527            570 g skinless, boneless chicken thighs   \n\n       ingredients_grams ingredients_type      id  \n0               11.36000           Normal   59661  \n1               41.80000           Normal   59661  \n2                4.80000           Normal   59661  \n3              227.20000           Normal   59661  \n4              182.40001           Normal   59661  \n...                  ...              ...     ...  \n61189            1.05000           Normal  244188  \n61190            0.75000           Normal  244188  \n61191            1.05000           Normal  244188  \n61192           13.50000           Normal  244188  \n61193          567.50000           Normal  244188  \n\n[61194 rows x 5 columns]"
     },
     "execution_count": 16,
     "metadata": {},
     "output_type": "execute_result"
    }
   ],
   "source": [
    "ing"
   ]
  },
  {
   "cell_type": "code",
   "execution_count": 17,
   "metadata": {},
   "outputs": [],
   "source": [
    "#ingredients.loc[ingredients['id'] == 9380]"
   ]
  },
  {
   "cell_type": "code",
   "execution_count": 18,
   "metadata": {},
   "outputs": [],
   "source": [
    "#ingredients.loc[ingredients['ingredients_id'] == 2972]"
   ]
  },
  {
   "cell_type": "code",
   "execution_count": 19,
   "metadata": {},
   "outputs": [],
   "source": [
    "#  ------  erstellung und data cleansing - Ingredients\n",
    "\n",
    "# schmeiss alle zutaten raus, die weniger als 5 mal verwendet werden\n",
    "# setze multiinde auf 'id' und 'ingredients_id'\n",
    "ingredients = ing.set_index(['id', 'ingredients_id'])\n",
    "\n",
    "# filtere alle Zutaten samit ihrer rezepte id, die weniger gleich 5 mal vorkommen\n",
    "ingredients_eqles_5_ing = ingredients.groupby(\n",
    "    'ingredients_id').filter(lambda x: len(x) <= 5)\n",
    "\n",
    "# droppe alle rezepte, die eine Zutate besitzen, die weniger gleich 5 Mal vorkommen\n",
    "ingredients_filt = ingredients.drop(ingredients_eqles_5_ing.index.get_level_values('id').values, level=0)\n",
    "\n",
    "# drop alls rows with ingredients_id == 0\n",
    "ingredients_eqal_zero = ingredients_filt[ingredients_filt.index.get_level_values('ingredients_id') == 0]\n",
    "ingredients_filt = ingredients_filt.drop(ingredients_eqal_zero.index.get_level_values('id').values, level=0)\n"
   ]
  },
  {
   "cell_type": "code",
   "execution_count": 20,
   "metadata": {},
   "outputs": [
    {
     "data": {
      "text/html": "<div>\n<style scoped>\n    .dataframe tbody tr th:only-of-type {\n        vertical-align: middle;\n    }\n\n    .dataframe tbody tr th {\n        vertical-align: top;\n    }\n\n    .dataframe thead th {\n        text-align: right;\n    }\n</style>\n<table border=\"1\" class=\"dataframe\">\n  <thead>\n    <tr style=\"text-align: right;\">\n      <th></th>\n      <th></th>\n      <th>ingredients_name</th>\n      <th>ingredients_grams</th>\n      <th>ingredients_type</th>\n    </tr>\n    <tr>\n      <th>id</th>\n      <th>ingredients_id</th>\n      <th></th>\n      <th></th>\n      <th></th>\n    </tr>\n  </thead>\n  <tbody>\n    <tr>\n      <td rowspan=\"5\" valign=\"top\">59661</td>\n      <td>16157</td>\n      <td>10 g butter</td>\n      <td>11.36000</td>\n      <td>Normal</td>\n    </tr>\n    <tr>\n      <td>4405</td>\n      <td>40 g sliced green onions</td>\n      <td>41.80000</td>\n      <td>Normal</td>\n    </tr>\n    <tr>\n      <td>4342</td>\n      <td>1-1/2 cloves garlic, minced</td>\n      <td>4.80000</td>\n      <td>Normal</td>\n    </tr>\n    <tr>\n      <td>4520</td>\n      <td>3/4 (10 ounce) package frozen chopped spinach ...</td>\n      <td>227.20000</td>\n      <td>Normal</td>\n    </tr>\n    <tr>\n      <td>16243</td>\n      <td>180 g ricotta cheese</td>\n      <td>182.40001</td>\n      <td>Normal</td>\n    </tr>\n    <tr>\n      <td>...</td>\n      <td>...</td>\n      <td>...</td>\n      <td>...</td>\n      <td>...</td>\n    </tr>\n    <tr>\n      <td rowspan=\"5\" valign=\"top\">229659</td>\n      <td>16423</td>\n      <td>1-3/4 sprigs fresh thyme, divided</td>\n      <td>0.66667</td>\n      <td>Normal</td>\n    </tr>\n    <tr>\n      <td>20270</td>\n      <td>3/8 white onion, chopped - divided</td>\n      <td>36.66667</td>\n      <td>Normal</td>\n    </tr>\n    <tr>\n      <td>16157</td>\n      <td>40 g butter, sliced into pats</td>\n      <td>37.83334</td>\n      <td>Normal</td>\n    </tr>\n    <tr>\n      <td>4292</td>\n      <td>80 g chopped fresh celery leaves</td>\n      <td>80.00000</td>\n      <td>Normal</td>\n    </tr>\n    <tr>\n      <td>3474</td>\n      <td>1/8 (750 milliliter) bottle white wine, or mor...</td>\n      <td>124.69144</td>\n      <td>Normal</td>\n    </tr>\n  </tbody>\n</table>\n<p>36827 rows × 3 columns</p>\n</div>",
      "text/plain": "                                                        ingredients_name  \\\nid     ingredients_id                                                      \n59661  16157                                                 10 g butter   \n       4405                                     40 g sliced green onions   \n       4342                                  1-1/2 cloves garlic, minced   \n       4520            3/4 (10 ounce) package frozen chopped spinach ...   \n       16243                                        180 g ricotta cheese   \n...                                                                  ...   \n229659 16423                           1-3/4 sprigs fresh thyme, divided   \n       20270                          3/8 white onion, chopped - divided   \n       16157                               40 g butter, sliced into pats   \n       4292                             80 g chopped fresh celery leaves   \n       3474            1/8 (750 milliliter) bottle white wine, or mor...   \n\n                       ingredients_grams ingredients_type  \nid     ingredients_id                                      \n59661  16157                    11.36000           Normal  \n       4405                     41.80000           Normal  \n       4342                      4.80000           Normal  \n       4520                    227.20000           Normal  \n       16243                   182.40001           Normal  \n...                                  ...              ...  \n229659 16423                     0.66667           Normal  \n       20270                    36.66667           Normal  \n       16157                    37.83334           Normal  \n       4292                     80.00000           Normal  \n       3474                    124.69144           Normal  \n\n[36827 rows x 3 columns]"
     },
     "execution_count": 20,
     "metadata": {},
     "output_type": "execute_result"
    }
   ],
   "source": [
    "ingredients_filt"
   ]
  },
  {
   "cell_type": "code",
   "execution_count": 21,
   "metadata": {},
   "outputs": [
    {
     "ename": "SyntaxError",
     "evalue": "invalid character in identifier (<ipython-input-21-2f40ddd45d7d>, line 30)",
     "output_type": "error",
     "traceback": [
      "\u001b[0;36m  File \u001b[0;32m\"<ipython-input-21-2f40ddd45d7d>\"\u001b[0;36m, line \u001b[0;32m30\u001b[0m\n\u001b[0;31m    £\u001b[0m\n\u001b[0m    ^\u001b[0m\n\u001b[0;31mSyntaxError\u001b[0m\u001b[0;31m:\u001b[0m invalid character in identifier\n"
     ]
    }
   ],
   "source": [
    "#  ------ Erstellung und cleansing des Nutrition Dataframes\n",
    "\n",
    "# erstelle neue liste auf basis der bereits gefilterten rezepte aus ingredients_filt\n",
    "id_overlap_mask = nutritions['id'].isin(ingredients_filt.index.get_level_values('id').values)\n",
    "\n",
    "# erstelle datenframe auf basis der overlapliste\n",
    "nutritions_filt = nutritions.loc[id_overlap_mask]\n",
    "\n",
    "nutrition_db = nutritions_filt.pivot_table(\n",
    "    index=['id'],\n",
    "    columns=['name'],\n",
    "    values=['amount'],\n",
    ").reset_index()\n",
    "\n",
    "nutrition_db.set_index('id', inplace=True)\n",
    "\n",
    "# remove multiindex 'amount'\n",
    "nutrition_db.columns = nutrition_db.columns.droplevel(0)\n",
    "\n",
    "# entferne alle NA\n",
    "nutrition_db = nutrition_db.dropna()\n",
    "\n",
    "# gleiche nochmals die ids der beiden dataframe nutrition und ingredients ab, da der nutrition dataframe noch NA Werte hatt\n",
    "id_overlap_mask = ingredients_filt.index.get_level_values('id').isin(nutrition_db.index)\n",
    "ingredients_db = ingredients_filt[id_overlap_mask]\n",
    "\n",
    "# abgleich ob anzahl der indizes von nutrition und zutaten dataframe gleich sind\n",
    "nutrition_db.index.nunique()\n",
    "ingredients_db.index.get_level_values('id').nunique()\n",
    "£"
   ]
  },
  {
   "cell_type": "code",
   "execution_count": null,
   "metadata": {},
   "outputs": [],
   "source": [
    "recipe_db"
   ]
  },
  {
   "cell_type": "code",
   "execution_count": null,
   "metadata": {},
   "outputs": [],
   "source": [
    "ingredients_db.loc[ingredients_db['id'] == 20881]"
   ]
  },
  {
   "cell_type": "code",
   "execution_count": null,
   "metadata": {},
   "outputs": [],
   "source": [
    "id_list = [215014, 8669, 16700, 16354, 12720, 8652, 8887, 51283, 45954, 213742, 14595,\n",
    "           219164, 16348, 143082, 8665, 11758, 223042, 236609, 8778, 65896, 24264, 11679, 141678, 9023]\n",
    "\n",
    "#ingredients_db.reset_index(inplace=True)\n",
    "\n",
    "recipe_db = pd.get_dummies(ingredients_db['ingredients_id']).groupby(\n",
    "    ingredients_db['id']).apply(max)\n",
    "\n"
   ]
  },
  {
   "cell_type": "code",
   "execution_count": null,
   "metadata": {},
   "outputs": [],
   "source": [
    "new_ingredients = ingredients_db\n",
    "new_ingredients = new_ingredients.groupby(\"id\")[\"ingredients_grams\"].sum().reset_index()"
   ]
  },
  {
   "cell_type": "code",
   "execution_count": null,
   "metadata": {},
   "outputs": [],
   "source": [
    "new_ingredients.sort_values(by='ingredients_grams')"
   ]
  },
  {
   "cell_type": "code",
   "execution_count": null,
   "metadata": {},
   "outputs": [],
   "source": [
    "new_ingredients['quotient'] = new_ingredients['ingredients_grams']/500"
   ]
  },
  {
   "cell_type": "code",
   "execution_count": null,
   "metadata": {},
   "outputs": [],
   "source": [
    "new_ingredients.set"
   ]
  },
  {
   "cell_type": "code",
   "execution_count": null,
   "metadata": {},
   "outputs": [],
   "source": [
    "new_ingredients.describe()"
   ]
  },
  {
   "cell_type": "code",
   "execution_count": null,
   "metadata": {},
   "outputs": [],
   "source": [
    "new_ingredients.hist(column='ingredients_grams', bins=200)"
   ]
  },
  {
   "cell_type": "code",
   "execution_count": null,
   "metadata": {},
   "outputs": [],
   "source": [
    "# rechne nährwerte auf 800 kcal pro rezept um\n",
    "def nutrition_to_500(x):\n",
    "    a = x / x\n",
    "    b = a * 800\n",
    "    return b"
   ]
  },
  {
   "cell_type": "code",
   "execution_count": null,
   "metadata": {},
   "outputs": [],
   "source": [
    "nutrition_db_800 = nutrition_db.apply(nutrition_to_800, axis = 1)\n",
    "#user_nutrition = nutrition_db_800[nutrition_db_800.index.isin(id_list)]\n",
    "\n",
    "user_recipes = recipe_db[recipe_db.index.isin(id_list)]\n",
    "\n",
    "recommenden_nut = pd.DataFrame(data=None, columns=nutrition_db_800.columns, index=None)\n"
   ]
  },
  {
   "cell_type": "code",
   "execution_count": null,
   "metadata": {},
   "outputs": [],
   "source": [
    "new_nutrition = nutrition_db.copy()"
   ]
  },
  {
   "cell_type": "code",
   "execution_count": null,
   "metadata": {},
   "outputs": [],
   "source": [
    "new_ingredients.set_index('id', inplace=True)"
   ]
  },
  {
   "cell_type": "code",
   "execution_count": null,
   "metadata": {},
   "outputs": [],
   "source": [
    "new_ingredients"
   ]
  },
  {
   "cell_type": "code",
   "execution_count": null,
   "metadata": {},
   "outputs": [],
   "source": [
    "new_nutrition"
   ]
  },
  {
   "cell_type": "code",
   "execution_count": null,
   "metadata": {},
   "outputs": [],
   "source": [
    "new_nutrition1 = new_nutrition.merge(new_ingredients, how='left', on='id')\n"
   ]
  },
  {
   "cell_type": "code",
   "execution_count": null,
   "metadata": {},
   "outputs": [],
   "source": [
    "new_nutrition1"
   ]
  },
  {
   "cell_type": "code",
   "execution_count": null,
   "metadata": {},
   "outputs": [],
   "source": [
    "#new_nutrition1 = new_nutrition1.drop('ingredients_grams',1)"
   ]
  },
  {
   "cell_type": "code",
   "execution_count": null,
   "metadata": {},
   "outputs": [],
   "source": [
    "new_nutrition1"
   ]
  },
  {
   "cell_type": "code",
   "execution_count": null,
   "metadata": {},
   "outputs": [],
   "source": [
    "new_nutrition2 = new_nutrition1.copy()"
   ]
  },
  {
   "cell_type": "code",
   "execution_count": null,
   "metadata": {},
   "outputs": [],
   "source": []
  },
  {
   "cell_type": "code",
   "execution_count": null,
   "metadata": {},
   "outputs": [],
   "source": [
    "new_nutrition2.iloc[:, 0:19+1]"
   ]
  },
  {
   "cell_type": "code",
   "execution_count": null,
   "metadata": {},
   "outputs": [],
   "source": [
    "new_nutrition2.iloc[:, 1:19+1] *= new_nutrition2['quotient']"
   ]
  },
  {
   "cell_type": "code",
   "execution_count": null,
   "metadata": {},
   "outputs": [],
   "source": [
    "new_nutrition2.update(new_nutrition2.iloc[:, 0:19+1].mul(new_nutrition2.quotient, 0))"
   ]
  },
  {
   "cell_type": "code",
   "execution_count": null,
   "metadata": {},
   "outputs": [],
   "source": [
    "new_nutrition2"
   ]
  },
  {
   "cell_type": "code",
   "execution_count": null,
   "metadata": {},
   "outputs": [],
   "source": []
  }
 ]
}