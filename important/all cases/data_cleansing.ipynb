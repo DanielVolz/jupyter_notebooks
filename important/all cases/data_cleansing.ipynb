{
 "nbformat": 4,
 "nbformat_minor": 2,
 "metadata": {
  "language_info": {
   "name": "python",
   "codemirror_mode": {
    "name": "ipython",
    "version": 3
   },
   "version": "3.7.6-final"
  },
  "orig_nbformat": 2,
  "file_extension": ".py",
  "mimetype": "text/x-python",
  "name": "python",
  "npconvert_exporter": "python",
  "pygments_lexer": "ipython3",
  "version": 3,
  "kernelspec": {
   "name": "python3",
   "display_name": "Python 3"
  }
 },
 "cells": [
  {
   "cell_type": "code",
   "execution_count": 22,
   "metadata": {},
   "outputs": [],
   "source": [
    "import json\n",
    "\n",
    "import numpy as np\n",
    "import pandas as pd\n",
    "import pymongo\n",
    "import scipy\n",
    "from bson import ObjectId, json_util\n",
    "from pandas.io.json import json_normalize\n",
    "from pymongo import MongoClient as Connection\n",
    "from scipy import sparse, spatial\n",
    "from scipy.spatial.distance import cdist, pdist, squareform\n",
    "from sklearn.metrics.pairwise import cosine_similarity\n",
    "\n",
    "# scientific notation disabled form smaller numbers\n",
    "pd.options.display.float_format = '{:.5f}'.format\n",
    "\n",
    "# alles resultate anzeigen und nicht nur das letzte\n",
    "from IPython.core.interactiveshell import InteractiveShell\n",
    "InteractiveShell.ast_node_interactivity = \"all\"\n",
    "\n"
   ]
  },
  {
   "cell_type": "code",
   "execution_count": 29,
   "metadata": {},
   "outputs": [
    {
     "data": {
      "text/html": "<style>\n.output {\n    flex-direction: row;\n}\n</style>",
      "text/plain": "<IPython.core.display.HTML object>"
     },
     "execution_count": 29,
     "metadata": {},
     "output_type": "execute_result"
    }
   ],
   "source": [
    "# display multiple outputs in one row\n",
    "from IPython.display import display, HTML\n",
    "\n",
    "CSS = \"\"\"\n",
    ".output {\n",
    "    flex-direction: row;\n",
    "}\n",
    "\"\"\"\n",
    "\n",
    "HTML('<style>{}</style>'.format(CSS))"
   ]
  },
  {
   "cell_type": "code",
   "execution_count": 24,
   "metadata": {},
   "outputs": [],
   "source": [
    "connection = Connection()\n",
    "db = connection.recipe_db\n",
    "input_data = db.recipes_test_copy\n",
    "\n",
    "data = json.loads(json_util.dumps(input_data.find()))"
   ]
  },
  {
   "cell_type": "code",
   "execution_count": 25,
   "metadata": {},
   "outputs": [],
   "source": [
    "ing = pd.DataFrame(json_normalize(data, record_path='ingredients',\n",
    "                             meta='id', record_prefix='ingredients_', errors='ignore'))\n",
    "\n",
    "\n",
    "nutritions = pd.DataFrame(json_normalize(data, record_path='nutritions',\n",
    "                            meta=['id', 'prep_time', 'rating', 'rating_count', 'ready_in_time', 'review_count']))\n"
   ]
  },
  {
   "cell_type": "code",
   "execution_count": 26,
   "metadata": {},
   "outputs": [],
   "source": [
    "#  ------  erstellung und data cleansing - Ingredients\n",
    "\n",
    "# schmeiss alle zutaten raus, die weniger als 5 mal verwendet werden\n",
    "# setze multiinde auf 'id' und 'ingredients_id'\n",
    "ingredients = ing.set_index(['id', 'ingredients_id'])\n",
    "\n",
    "# filtere alle Zutaten samt ihrer rezepte id, die weniger gleich 5 mal vorkommen\n",
    "ingredients_eqles_5_ing = ingredients.groupby(\n",
    "    'ingredients_id').filter(lambda x: len(x) <= 5)\n",
    "\n",
    "# droppe alle rezepte, die eine Zutate besitzen, die weniger gleich 5 Mal vorkommen\n",
    "ingredients_filt = ingredients.drop(ingredients_eqles_5_ing.index.get_level_values('id').values, level=0)\n",
    "\n",
    "# drop alls rows with ingredients_id == 0\n",
    "ingredients_eqal_zero = ingredients_filt[ingredients_filt.index.get_level_values('ingredients_id') == 0]\n",
    "ingredients_filt = ingredients_filt.drop(ingredients_eqal_zero.index.get_level_values('id').values, level=0)\n"
   ]
  },
  {
   "cell_type": "code",
   "execution_count": 27,
   "metadata": {},
   "outputs": [
    {
     "data": {
      "text/plain": "4061"
     },
     "execution_count": 27,
     "metadata": {},
     "output_type": "execute_result"
    },
    {
     "data": {
      "text/plain": "4061"
     },
     "execution_count": 27,
     "metadata": {},
     "output_type": "execute_result"
    },
    {
     "data": {
      "text/html": "<div>\n<style scoped>\n    .dataframe tbody tr th:only-of-type {\n        vertical-align: middle;\n    }\n\n    .dataframe tbody tr th {\n        vertical-align: top;\n    }\n\n    .dataframe thead th {\n        text-align: right;\n    }\n</style>\n<table border=\"1\" class=\"dataframe\">\n  <thead>\n    <tr style=\"text-align: right;\">\n      <th>name</th>\n      <th>Calcium</th>\n      <th>Calories</th>\n      <th>Calories from Fat</th>\n      <th>Carbohydrates</th>\n      <th>Cholesterol</th>\n      <th>Dietary Fiber</th>\n      <th>Fat</th>\n      <th>Folate</th>\n      <th>Iron</th>\n      <th>Magnesium</th>\n      <th>Niacin Equivalents</th>\n      <th>Potassium</th>\n      <th>Protein</th>\n      <th>Saturated Fat</th>\n      <th>Sodium</th>\n      <th>Sugars</th>\n      <th>Thiamin</th>\n      <th>Vitamin A - IU</th>\n      <th>Vitamin B6</th>\n      <th>Vitamin C</th>\n    </tr>\n    <tr>\n      <th>id</th>\n      <th></th>\n      <th></th>\n      <th></th>\n      <th></th>\n      <th></th>\n      <th></th>\n      <th></th>\n      <th></th>\n      <th></th>\n      <th></th>\n      <th></th>\n      <th></th>\n      <th></th>\n      <th></th>\n      <th></th>\n      <th></th>\n      <th></th>\n      <th></th>\n      <th></th>\n      <th></th>\n    </tr>\n  </thead>\n  <tbody>\n    <tr>\n      <td>6900</td>\n      <td>117.79860</td>\n      <td>105.27020</td>\n      <td>21.33330</td>\n      <td>17.98829</td>\n      <td>1.62667</td>\n      <td>0.56557</td>\n      <td>2.37037</td>\n      <td>39.16360</td>\n      <td>1.14346</td>\n      <td>7.30480</td>\n      <td>1.82102</td>\n      <td>54.07343</td>\n      <td>2.84282</td>\n      <td>0.59495</td>\n      <td>385.75980</td>\n      <td>1.72141</td>\n      <td>0.17169</td>\n      <td>116.75390</td>\n      <td>0.01709</td>\n      <td>0.04505</td>\n    </tr>\n    <tr>\n      <td>7198</td>\n      <td>244.16520</td>\n      <td>731.50920</td>\n      <td>325.65230</td>\n      <td>73.29574</td>\n      <td>88.69389</td>\n      <td>4.64147</td>\n      <td>36.18359</td>\n      <td>249.14210</td>\n      <td>5.76566</td>\n      <td>52.89296</td>\n      <td>13.51325</td>\n      <td>509.34610</td>\n      <td>27.58195</td>\n      <td>11.50691</td>\n      <td>1660.20300</td>\n      <td>2.83424</td>\n      <td>0.89150</td>\n      <td>699.95980</td>\n      <td>0.36319</td>\n      <td>67.32533</td>\n    </tr>\n    <tr>\n      <td>8493</td>\n      <td>415.52450</td>\n      <td>454.28300</td>\n      <td>177.75310</td>\n      <td>23.83120</td>\n      <td>203.86850</td>\n      <td>1.99500</td>\n      <td>19.75034</td>\n      <td>63.05025</td>\n      <td>3.11258</td>\n      <td>54.35775</td>\n      <td>23.43780</td>\n      <td>509.41500</td>\n      <td>44.07647</td>\n      <td>9.96063</td>\n      <td>1107.91100</td>\n      <td>3.45304</td>\n      <td>0.17406</td>\n      <td>578.21420</td>\n      <td>0.64563</td>\n      <td>1.91250</td>\n    </tr>\n    <tr>\n      <td>8494</td>\n      <td>58.08641</td>\n      <td>834.44480</td>\n      <td>514.68470</td>\n      <td>4.76954</td>\n      <td>283.75000</td>\n      <td>0.63600</td>\n      <td>57.18719</td>\n      <td>33.44816</td>\n      <td>3.72336</td>\n      <td>84.44925</td>\n      <td>39.18463</td>\n      <td>807.96980</td>\n      <td>71.10712</td>\n      <td>16.35430</td>\n      <td>567.97140</td>\n      <td>2.08741</td>\n      <td>0.02921</td>\n      <td>619.52510</td>\n      <td>1.37244</td>\n      <td>20.17546</td>\n    </tr>\n    <tr>\n      <td>8495</td>\n      <td>379.01410</td>\n      <td>418.75340</td>\n      <td>174.23740</td>\n      <td>12.62089</td>\n      <td>123.58900</td>\n      <td>0.75239</td>\n      <td>19.35971</td>\n      <td>25.41156</td>\n      <td>1.89411</td>\n      <td>60.48306</td>\n      <td>24.62857</td>\n      <td>457.03550</td>\n      <td>46.06678</td>\n      <td>10.03598</td>\n      <td>931.58340</td>\n      <td>1.42275</td>\n      <td>0.29605</td>\n      <td>406.88370</td>\n      <td>0.82640</td>\n      <td>11.72893</td>\n    </tr>\n    <tr>\n      <td>...</td>\n      <td>...</td>\n      <td>...</td>\n      <td>...</td>\n      <td>...</td>\n      <td>...</td>\n      <td>...</td>\n      <td>...</td>\n      <td>...</td>\n      <td>...</td>\n      <td>...</td>\n      <td>...</td>\n      <td>...</td>\n      <td>...</td>\n      <td>...</td>\n      <td>...</td>\n      <td>...</td>\n      <td>...</td>\n      <td>...</td>\n      <td>...</td>\n      <td>...</td>\n    </tr>\n    <tr>\n      <td>258878</td>\n      <td>9.30933</td>\n      <td>189.09670</td>\n      <td>106.42770</td>\n      <td>0.12118</td>\n      <td>70.99000</td>\n      <td>0.01650</td>\n      <td>11.82530</td>\n      <td>5.34667</td>\n      <td>1.02767</td>\n      <td>16.89067</td>\n      <td>8.44069</td>\n      <td>171.30030</td>\n      <td>19.15713</td>\n      <td>3.30546</td>\n      <td>90.00200</td>\n      <td>0.04050</td>\n      <td>0.05192</td>\n      <td>125.95000</td>\n      <td>0.24153</td>\n      <td>0.03000</td>\n    </tr>\n    <tr>\n      <td>259870</td>\n      <td>116.87750</td>\n      <td>533.78500</td>\n      <td>254.83060</td>\n      <td>65.83649</td>\n      <td>0.00000</td>\n      <td>12.46288</td>\n      <td>28.31451</td>\n      <td>179.44000</td>\n      <td>4.86495</td>\n      <td>140.72750</td>\n      <td>7.50368</td>\n      <td>2441.57700</td>\n      <td>11.27299</td>\n      <td>4.00073</td>\n      <td>141.41000</td>\n      <td>16.18104</td>\n      <td>0.55845</td>\n      <td>2659.15000</td>\n      <td>1.63708</td>\n      <td>135.49670</td>\n    </tr>\n    <tr>\n      <td>260193</td>\n      <td>37.24250</td>\n      <td>300.08690</td>\n      <td>43.28884</td>\n      <td>13.86486</td>\n      <td>118.04670</td>\n      <td>1.03600</td>\n      <td>4.80987</td>\n      <td>7.15000</td>\n      <td>1.63545</td>\n      <td>46.19250</td>\n      <td>21.66052</td>\n      <td>476.54750</td>\n      <td>45.85212</td>\n      <td>1.41095</td>\n      <td>1545.54100</td>\n      <td>4.58523</td>\n      <td>0.08974</td>\n      <td>217.95000</td>\n      <td>0.61491</td>\n      <td>1.23025</td>\n    </tr>\n    <tr>\n      <td>261124</td>\n      <td>36.90501</td>\n      <td>287.12290</td>\n      <td>135.42690</td>\n      <td>3.59909</td>\n      <td>96.13005</td>\n      <td>0.67217</td>\n      <td>15.04743</td>\n      <td>18.83792</td>\n      <td>2.01199</td>\n      <td>33.50583</td>\n      <td>16.46910</td>\n      <td>372.90480</td>\n      <td>32.54562</td>\n      <td>3.21560</td>\n      <td>293.74010</td>\n      <td>1.22104</td>\n      <td>0.09603</td>\n      <td>527.56960</td>\n      <td>0.57170</td>\n      <td>9.79475</td>\n    </tr>\n    <tr>\n      <td>263813</td>\n      <td>485.16930</td>\n      <td>613.20350</td>\n      <td>221.93320</td>\n      <td>47.63988</td>\n      <td>101.46880</td>\n      <td>1.98784</td>\n      <td>24.65924</td>\n      <td>123.37230</td>\n      <td>3.80631</td>\n      <td>79.57173</td>\n      <td>25.88058</td>\n      <td>586.18620</td>\n      <td>49.29259</td>\n      <td>14.67424</td>\n      <td>497.95620</td>\n      <td>7.97937</td>\n      <td>0.17697</td>\n      <td>893.24020</td>\n      <td>0.51950</td>\n      <td>2.10568</td>\n    </tr>\n  </tbody>\n</table>\n<p>4061 rows × 20 columns</p>\n</div>",
      "text/plain": "name     Calcium  Calories  Calories from Fat  Carbohydrates  Cholesterol  \\\nid                                                                          \n6900   117.79860 105.27020           21.33330       17.98829      1.62667   \n7198   244.16520 731.50920          325.65230       73.29574     88.69389   \n8493   415.52450 454.28300          177.75310       23.83120    203.86850   \n8494    58.08641 834.44480          514.68470        4.76954    283.75000   \n8495   379.01410 418.75340          174.23740       12.62089    123.58900   \n...          ...       ...                ...            ...          ...   \n258878   9.30933 189.09670          106.42770        0.12118     70.99000   \n259870 116.87750 533.78500          254.83060       65.83649      0.00000   \n260193  37.24250 300.08690           43.28884       13.86486    118.04670   \n261124  36.90501 287.12290          135.42690        3.59909     96.13005   \n263813 485.16930 613.20350          221.93320       47.63988    101.46880   \n\nname    Dietary Fiber      Fat    Folate    Iron  Magnesium  \\\nid                                                            \n6900          0.56557  2.37037  39.16360 1.14346    7.30480   \n7198          4.64147 36.18359 249.14210 5.76566   52.89296   \n8493          1.99500 19.75034  63.05025 3.11258   54.35775   \n8494          0.63600 57.18719  33.44816 3.72336   84.44925   \n8495          0.75239 19.35971  25.41156 1.89411   60.48306   \n...               ...      ...       ...     ...        ...   \n258878        0.01650 11.82530   5.34667 1.02767   16.89067   \n259870       12.46288 28.31451 179.44000 4.86495  140.72750   \n260193        1.03600  4.80987   7.15000 1.63545   46.19250   \n261124        0.67217 15.04743  18.83792 2.01199   33.50583   \n263813        1.98784 24.65924 123.37230 3.80631   79.57173   \n\nname    Niacin Equivalents  Potassium  Protein  Saturated Fat     Sodium  \\\nid                                                                         \n6900               1.82102   54.07343  2.84282        0.59495  385.75980   \n7198              13.51325  509.34610 27.58195       11.50691 1660.20300   \n8493              23.43780  509.41500 44.07647        9.96063 1107.91100   \n8494              39.18463  807.96980 71.10712       16.35430  567.97140   \n8495              24.62857  457.03550 46.06678       10.03598  931.58340   \n...                    ...        ...      ...            ...        ...   \n258878             8.44069  171.30030 19.15713        3.30546   90.00200   \n259870             7.50368 2441.57700 11.27299        4.00073  141.41000   \n260193            21.66052  476.54750 45.85212        1.41095 1545.54100   \n261124            16.46910  372.90480 32.54562        3.21560  293.74010   \n263813            25.88058  586.18620 49.29259       14.67424  497.95620   \n\nname     Sugars  Thiamin  Vitamin A - IU  Vitamin B6  Vitamin C  \nid                                                               \n6900    1.72141  0.17169       116.75390     0.01709    0.04505  \n7198    2.83424  0.89150       699.95980     0.36319   67.32533  \n8493    3.45304  0.17406       578.21420     0.64563    1.91250  \n8494    2.08741  0.02921       619.52510     1.37244   20.17546  \n8495    1.42275  0.29605       406.88370     0.82640   11.72893  \n...         ...      ...             ...         ...        ...  \n258878  0.04050  0.05192       125.95000     0.24153    0.03000  \n259870 16.18104  0.55845      2659.15000     1.63708  135.49670  \n260193  4.58523  0.08974       217.95000     0.61491    1.23025  \n261124  1.22104  0.09603       527.56960     0.57170    9.79475  \n263813  7.97937  0.17697       893.24020     0.51950    2.10568  \n\n[4061 rows x 20 columns]"
     },
     "execution_count": 27,
     "metadata": {},
     "output_type": "execute_result"
    }
   ],
   "source": [
    "#  ------ Erstellung und cleansing des Nutrition Dataframes\n",
    "\n",
    "# erstelle neue liste auf basis der bereits gefilterten rezepte aus ingredients_filt\n",
    "id_overlap_mask = nutritions['id'].isin(ingredients_filt.index.get_level_values('id').values)\n",
    "\n",
    "# erstelle datenframe auf basis der overlapliste\n",
    "nutritions_filt = nutritions.loc[id_overlap_mask]\n",
    "\n",
    "nutrition_db = nutritions_filt.pivot_table(\n",
    "    index=['id'],\n",
    "    columns=['name'],\n",
    "    values=['amount'],\n",
    ").reset_index()\n",
    "\n",
    "nutrition_db.set_index('id', inplace=True)\n",
    "\n",
    "# remove multiindex 'amount'\n",
    "nutrition_db.columns = nutrition_db.columns.droplevel(0)\n",
    "\n",
    "# entferne alle NA\n",
    "nutrition_db = nutrition_db.dropna()\n",
    "\n",
    "# gleiche nochmals die ids der beiden dataframe nutrition und ingredients ab, da der nutrition dataframe noch NA Werte hatt\n",
    "id_overlap_mask = ingredients_filt.index.get_level_values('id').isin(nutrition_db.index)\n",
    "ingredients_db = ingredients_filt[id_overlap_mask]\n",
    "\n",
    "# abgleich ob anzahl der indizes von nutrition und zutaten dataframe gleich sind\n",
    "nutrition_db.index.nunique()\n",
    "ingredients_db.index.get_level_values('id').nunique()\n",
    "nutrition_db"
   ]
  },
  {
   "cell_type": "code",
   "execution_count": 28,
   "metadata": {},
   "outputs": [],
   "source": [
    "id_list = [215014, 8669, 16700, 16354, 12720, 8652, 8887, 51283, 45954, 213742, 14595,\n",
    "           219164, 16348, 143082, 8665, 11758, 223042, 236609, 8778, 65896, 24264, 11679, 141678, 9023]\n",
    "\n",
    "ingredients_db.reset_index(inplace=True)\n",
    "\n",
    "recipe_db = pd.get_dummies(ingredients_db['ingredients_id']).groupby(\n",
    "    ingredients_db['id']).apply(max)\n",
    "\n"
   ]
  },
  {
   "cell_type": "code",
   "execution_count": null,
   "metadata": {},
   "outputs": [],
   "source": []
  }
 ]
}