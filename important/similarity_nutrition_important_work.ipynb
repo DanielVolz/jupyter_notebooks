{
 "cells": [
  {
   "cell_type": "code",
   "execution_count": null,
   "metadata": {},
   "outputs": [],
   "source": [
    "import json\n",
    "\n",
    "import numpy as np\n",
    "import pandas as pd\n",
    "import pymongo\n",
    "import scipy\n",
    "from bson import ObjectId, json_util\n",
    "from pandas.io.json import json_normalize\n",
    "from pymongo import MongoClient as Connection\n",
    "from scipy import sparse, spatial\n",
    "from scipy.spatial.distance import cdist, pdist, squareform\n",
    "from sklearn.metrics.pairwise import cosine_similarity\n",
    "\n",
    "# scientific notation disabled form smaller numbers\n",
    "pd.options.display.float_format = '{:.5f}'.format\n",
    "\n",
    "# alles resultate anzeigen und nicht nur das letzte\n",
    "from IPython.core.interactiveshell import InteractiveShell\n",
    "InteractiveShell.ast_node_interactivity = \"all\"\n"
   ]
  },
  {
   "cell_type": "code",
   "execution_count": null,
   "metadata": {},
   "outputs": [],
   "source": [
    "# display multiple outputs in one row\n",
    "import pandas as pd\n",
    "import numpy as np\n",
    "from IPython.display import display, HTML\n",
    "\n",
    "CSS = \"\"\"\n",
    ".output {\n",
    "    flex-direction: row;\n",
    "}\n",
    "\"\"\"\n",
    "\n",
    "HTML('<style>{}</style>'.format(CSS))"
   ]
  },
  {
   "cell_type": "code",
   "execution_count": null,
   "metadata": {},
   "outputs": [],
   "source": [
    "connection = Connection()\n",
    "db = connection.recipe_db\n",
    "input_data = db.recipes_test_copy\n",
    "\n",
    "data = json.loads(json_util.dumps(input_data.find()))\n",
    "norm_data = json_normalize(data)"
   ]
  },
  {
   "cell_type": "code",
   "execution_count": null,
   "metadata": {},
   "outputs": [],
   "source": [
    "ingredients = json_normalize(data, record_path='ingredients',\n",
    "                             meta='id', record_prefix='ingredients_', errors='ignore')\n",
    "\n",
    "ingredients = pd.DataFrame(ingredients)\n",
    "\n",
    "nutritions = json_normalize(data, record_path='nutritions',\n",
    "                            meta=['id', 'prep_time', 'rating', 'rating_count', 'ready_in_time', 'review_count'])"
   ]
  },
  {
   "cell_type": "code",
   "execution_count": null,
   "metadata": {},
   "outputs": [],
   "source": [
    "# data cleansing\n",
    "\n",
    "# schmeiss alle zutaten raus, die weniger als 5 mal verwendet werden\n",
    "ingredients_filt = ingredients.groupby(\n",
    "    'ingredients_id').filter(lambda x: len(x) >= 5)\n",
    "\n",
    "# drop alls rows with ingredients_id == 0\n",
    "ingredients_filt = ingredients_filt[ingredients_filt.ingredients_id != 0]\n",
    "\n",
    "# drop all duplicate\n",
    "ingredients_filt = ingredients_filt.drop_duplicates(keep='first')"
   ]
  },
  {
   "cell_type": "code",
   "execution_count": null,
   "metadata": {
    "scrolled": true
   },
   "outputs": [],
   "source": [
    "id_list = [215014, 8669, 16700, 16354, 12720, 8652, 8887, 51283, 45954, 213742, 14595,\n",
    "           219164, 16348, 143082, 8665, 11758, 223042, 236609, 8778, 65896, 24264, 11679, 141678, 9023]\n",
    "\n",
    "recipe_db = pd.get_dummies(ingredients_filt['ingredients_id']).groupby(\n",
    "    ingredients_filt['id']).apply(max)"
   ]
  },
  {
   "cell_type": "code",
   "execution_count": null,
   "metadata": {
    "scrolled": true
   },
   "outputs": [],
   "source": [
    "# filtere Rezepte aus den Metadaten anhand ihrerr Zutatenmenge raus.\n",
    "not_wanted_recipes = recipe_db[recipe_db.mask(\n",
    "    recipe_db == 0).count(axis=1) <= 4]\n",
    "\n",
    "mask = nutritions['id'].isin(not_wanted_recipes.index.values)\n",
    "\n",
    "nutritions_filt = nutritions.loc[~mask]\n",
    "\n",
    "nutrition_db = nutritions_filt.pivot_table(\n",
    "    index=['id'],\n",
    "    columns=['name'],\n",
    "    values=['amount'],\n",
    ").reset_index()\n",
    "\n",
    "nutrition_db.set_index('id', inplace=True)\n",
    "# remove multiindex 'amount'\n",
    "\n",
    "nutrition_db.columns = nutrition_db.columns.droplevel(0)\n",
    "\n",
    "nutrition_db = nutrition_db.dropna()"
   ]
  },
  {
   "cell_type": "code",
   "execution_count": null,
   "metadata": {},
   "outputs": [],
   "source": [
    "recipe_db_filt = recipe_db[recipe_db.mask(recipe_db == 0).count(axis=1) >= 5]\n",
    "\n",
    "user_nutrition = nutrition_db[nutrition_db.index.isin(id_list)]\n",
    "\n",
    "user_recipes = recipe_db_filt[recipe_db_filt.index.isin(id_list)]"
   ]
  },
  {
   "cell_type": "code",
   "execution_count": null,
   "metadata": {
    "scrolled": true
   },
   "outputs": [],
   "source": [
    "# remove recipes which are missing in nutrition df from the ingredients tecipes dataframe\n",
    "mask = recipe_db_filt.index.isin(nutrition_db.index.values)\n",
    "recipe_db = recipe_db_filt.loc[mask]\n",
    "\n",
    "recipe_db"
   ]
  },
  {
   "cell_type": "code",
   "execution_count": null,
   "metadata": {
    "scrolled": true
   },
   "outputs": [],
   "source": [
    "# jaccard Distanz - rezept zu rezept vergleich\n",
    "\n",
    "result_array = cdist(user_recipes, recipe_db,'jaccard')\n",
    "jacc_distance = pd.DataFrame(result_array, columns=recipe_db.index.values, index=user_recipes.index.values)\n",
    "\n",
    "jaccard_distance_sum = pd.DataFrame(jacc_distance.sum(), columns=['jaccard_distance_sum'])\n",
    "jaccard_distance_sum = jaccard_distance_sum.sort_values(by='jaccard_distance_sum')\n",
    "\n",
    "jaccard_distance_sum"
   ]
  },
  {
   "cell_type": "code",
   "execution_count": null,
   "metadata": {
    "scrolled": true
   },
   "outputs": [],
   "source": [
    "##Euklidische Distanz - rezept zu rezept vergelich\n",
    "\n",
    "gesund = [\n",
    "    #\"Calcium\":[1],\n",
    "    1,\n",
    "   # \"Calories\":[1],\n",
    "    1,\n",
    "   # \"Calories from Fat\":[1],\n",
    "    1,\n",
    "    #\"Carbohydrates\":[1],\n",
    "    1,\n",
    "    #\"Cholesterol\":[1],\n",
    "    1,\n",
    "    #\"Dietary Fiber\t\":[1],\n",
    "    1,\n",
    "    #\"Fat\":[1],\n",
    "    1,\n",
    "    #\"Folate\":[1],\n",
    "    1,\n",
    "    #\"Iron\":[1],\n",
    "    1,\n",
    "    #\"Magnesium\":[1],\n",
    "    1,\n",
    "    #\"Niacin Equivalents\":[1],\n",
    "    1,\n",
    "    #\"Potassium\":[1],\n",
    "    1,\n",
    "    #\"Protein\":[1],\n",
    "    1,\n",
    "    #\"Saturated Fat\":[1],\n",
    "    1,\n",
    "    #\"Sodium\":[1],\n",
    "    1,\n",
    "    #\"Sugars\":[1],\n",
    "    1,\n",
    "    #\"Thiamin\":[1],\n",
    "    1,\n",
    "    #\"Vitamin A - IU\":[1],\n",
    "    1,\n",
    "    #\"Vitamin B6\":[1],\n",
    "    1,\n",
    "    #\"Vitamin C\":[1]}\n",
    "    1]\n",
    "\n",
    "result_array = cdist(user_nutrition, nutrition_db,'minkowski', p = 2, w= rec_2)\n",
    "# result_array = cdist(user_nutrition, nutrition_db,'minkowski', p = 2)\n",
    "euclid_distance = pd.DataFrame(result_array, columns=nutrition_db.index.values, index=user_nutrition.index.values)\n",
    "\n",
    "euclid_distance_sum = pd.DataFrame(euclid_distance.sum(), columns=['euclid_distance_sum'])\n",
    "euclid_distance_sum = euclid_distance_sum.sort_values(by='euclid_distance_sum')\n",
    "euclid_distance_sum"
   ]
  },
  {
   "cell_type": "code",
   "execution_count": null,
   "metadata": {
    "scrolled": true
   },
   "outputs": [],
   "source": [
    "##Euklidische Distanz - rezept zu rezept vergelich\n",
    "# minkowski(u, v, p=2, w=None)\n",
    "# rec = []\n",
    "# rec = {\n",
    "#     \"Calcium\":[1],\n",
    "#     \"Calories\":[1],\n",
    "#     \"Calories from Fat\":[1],\n",
    "#     \"Carbohydrates\":[1],\n",
    "#     \"Cholesterol\":[1],\n",
    "#     \"Dietary Fiber\":[1],\n",
    "#     \"Fat\":[1],\n",
    "#     \"Folate\":[1],\n",
    "#     \"Iron\":[1],\n",
    "#     \"Magnesium\":[1],\n",
    "#     \"Niacin Equivalents\":[1],\n",
    "#     \"Potassium\":[1],\n",
    "#     \"Protein\":[1],\n",
    "#     \"Saturated Fat\":[1],\n",
    "#     \"Sodium\":[1],\n",
    "#     \"Sugars\":[1],\n",
    "#     \"Thiamin\":[1],\n",
    "#     \"Vitamin A - IU\":[1],\n",
    "#     \"Vitamin B6\":[1],\n",
    "#     \"Vitamin C\":[1]}\n",
    "\n",
    "rec_2 = [\n",
    "    #\"Calcium\":[1],\n",
    "    1,\n",
    "   # \"Calories\":[1],\n",
    "    1,\n",
    "   # \"Calories from Fat\":[1],\n",
    "    1,\n",
    "    #\"Carbohydrates\":[1],\n",
    "    1,\n",
    "    #\"Cholesterol\":[1],\n",
    "    1,\n",
    "    #\"Dietary Fiber\t\":[1],\n",
    "    1,\n",
    "    #\"Fat\":[1],\n",
    "    1,\n",
    "    #\"Folate\":[1],\n",
    "    1,\n",
    "    #\"Iron\":[1],\n",
    "    1,\n",
    "    #\"Magnesium\":[1],\n",
    "    1,\n",
    "    #\"Niacin Equivalents\":[1],\n",
    "    1,\n",
    "    #\"Potassium\":[1],\n",
    "    1,\n",
    "    #\"Protein\":[1],\n",
    "    1,\n",
    "    #\"Saturated Fat\":[1],\n",
    "    1,\n",
    "    #\"Sodium\":[1],\n",
    "    1,\n",
    "    #\"Sugars\":[1],\n",
    "    1,\n",
    "    #\"Thiamin\":[1],\n",
    "    1,\n",
    "    #\"Vitamin A - IU\":[1],\n",
    "    1,\n",
    "    #\"Vitamin B6\":[1],\n",
    "    1,\n",
    "    #\"Vitamin C\":[1]}\n",
    "    1]\n",
    "\n",
    "result_array = cdist(user_nutrition, nutrition_db,'minkowski', p = 2, w= rec_2)\n",
    "# result_array = cdist(user_nutrition, nutrition_db,'minkowski', p = 2)\n",
    "euclid_distance = pd.DataFrame(result_array, columns=nutrition_db.index.values, index=user_nutrition.index.values)\n",
    "\n",
    "euclid_distance_sum = pd.DataFrame(euclid_distance.sum(), columns=['euclid_distance_sum'])\n",
    "euclid_distance_sum = euclid_distance_sum.sort_values(by='euclid_distance_sum')\n",
    "euclid_distance_sum"
   ]
  },
  {
   "cell_type": "code",
   "execution_count": null,
   "metadata": {
    "scrolled": true
   },
   "outputs": [],
   "source": [
    "euclid_distance_sum_no_outliers = euclid_distance_sum\n",
    "jaccard_distance_sum_no_outliers = jaccard_distance_sum"
   ]
  },
  {
   "cell_type": "code",
   "execution_count": null,
   "metadata": {},
   "outputs": [],
   "source": [
    "outliers = euclid_distance_sum[euclid_distance_sum['euclid_distance_sum'] >\n",
    "                               euclid_distance_sum['euclid_distance_sum'].mean() + 1 * euclid_distance_sum['euclid_distance_sum'].std()]\n",
    "\n",
    "euclid_distance_sum_no_outliers.drop(outliers.index, inplace=True)\n",
    "\n",
    "jaccard_distance_sum_no_outliers = jaccard_distance_sum_no_outliers[jaccard_distance_sum_no_outliers.index.isin(\n",
    "    euclid_distance_sum_no_outliers.index)]"
   ]
  },
  {
   "cell_type": "code",
   "execution_count": null,
   "metadata": {},
   "outputs": [],
   "source": []
  },
  {
   "cell_type": "code",
   "execution_count": null,
   "metadata": {
    "scrolled": true
   },
   "outputs": [],
   "source": [
    "\n",
    "\n",
    "jaccard_distance_sum_no_outliers"
   ]
  },
  {
   "cell_type": "code",
   "execution_count": null,
   "metadata": {},
   "outputs": [],
   "source": [
    "euclid_distance_sum_no_outliers.describe()\n",
    "jaccard_distance_sum_no_outliers.describe()"
   ]
  },
  {
   "cell_type": "code",
   "execution_count": null,
   "metadata": {},
   "outputs": [],
   "source": [
    "# copy original data so it wont be altered\n",
    "euclid_distance_sum_w_outliers = euclid_distance_sum\n",
    "jaccard_distance_sum_w_outliers = jaccard_distance_sum\n"
   ]
  },
  {
   "cell_type": "code",
   "execution_count": null,
   "metadata": {},
   "outputs": [],
   "source": [
    "# copy original data back\n",
    "euclid_distance_sum = euclid_distance_sum_w_outliers\n",
    "jaccard_distance_sum = jaccard_distance_sum_w_outliers\n"
   ]
  },
  {
   "cell_type": "code",
   "execution_count": null,
   "metadata": {},
   "outputs": [],
   "source": [
    "# copy data with outliers\n",
    "euclid_distance_sum = euclid_distance_sum_no_outliers\n",
    "jaccard_distance_sum = jaccard_distance_sum_no_outliers"
   ]
  },
  {
   "cell_type": "code",
   "execution_count": null,
   "metadata": {
    "scrolled": true
   },
   "outputs": [],
   "source": [
    "euclid_distance_sum.describe()\n",
    "jaccard_distance_sum.describe()"
   ]
  },
  {
   "cell_type": "code",
   "execution_count": null,
   "metadata": {},
   "outputs": [],
   "source": [
    "# minmax nomralisierung\n",
    "from sklearn import preprocessing\n",
    "\n",
    "nut_res = euclid_distance_sum\n",
    "x = nut_res.values\n",
    "min_max_scaler = preprocessing.MinMaxScaler()\n",
    "x_scaled = min_max_scaler.fit_transform(x)\n",
    "nut_res = pd.DataFrame(x_scaled, columns=nut_res.columns, index=nut_res.index)\n",
    "\n",
    "\n",
    "jac_res = jaccard_distance_sum\n",
    "z = jac_res.values\n",
    "min_max_scaler = preprocessing.MinMaxScaler()\n",
    "z_scaled = min_max_scaler.fit_transform(z)\n",
    "jac_res = pd.DataFrame(z_scaled, columns=jac_res.columns, index=jac_res.index)\n",
    "\n",
    "min_max_nut_recipe = pd.DataFrame(\n",
    "    nut_res.euclid_distance_sum + jac_res.jaccard_distance_sum, columns=jac_res.columns, index=jac_res.index)\n",
    "\n",
    "min_max_nut_recipe = min_max_nut_recipe.sort_values(by='jaccard_distance_sum')\n",
    "\n",
    "min_max_nut_recipe.rename(\n",
    "    columns={'jaccard_distance_sum': 'min_max'}, inplace=True)"
   ]
  },
  {
   "cell_type": "code",
   "execution_count": null,
   "metadata": {},
   "outputs": [],
   "source": [
    "# robust-normalisierung\n",
    "from sklearn import preprocessing\n",
    "\n",
    "nut_res_robust = euclid_distance_sum\n",
    "x = nut_res_robust.values\n",
    "robust_scaler = preprocessing.RobustScaler()\n",
    "x_scaled = robust_scaler.fit_transform(x)\n",
    "nut_res_robust = pd.DataFrame(\n",
    "    x_scaled, columns=nut_res_robust.columns, index=nut_res_robust.index)\n",
    "\n",
    "jac_res_robust = jaccard_distance_sum\n",
    "z = jac_res_robust.values\n",
    "robust_scaler = preprocessing.RobustScaler()\n",
    "z_scaled = robust_scaler.fit_transform(z)\n",
    "\n",
    "jac_res_robust = pd.DataFrame(\n",
    "    z_scaled, columns=jac_res_robust.columns, index=jac_res_robust.index)\n",
    "\n",
    "\n",
    "robust_scaling_nut_recipe = pd.DataFrame(nut_res_robust.euclid_distance_sum +\n",
    "                                         jac_res_robust.jaccard_distance_sum, columns=jac_res_robust.columns, index=jac_res_robust.index)\n",
    "\n",
    "robust_scaling_nut_recipe = robust_scaling_nut_recipe.sort_values(by='jaccard_distance_sum')\n",
    "\n",
    "robust_scaling_nut_recipe.rename(\n",
    "    columns={'jaccard_distance_sum': 'robust_scaling'}, inplace=True)"
   ]
  },
  {
   "cell_type": "code",
   "execution_count": null,
   "metadata": {},
   "outputs": [],
   "source": [
    "# z-score-mormalisierung\n",
    "z_min = (euclid_distance_sum - euclid_distance_sum.mean()) / \\\n",
    "    euclid_distance_sum.std()\n",
    "\n",
    "z_jac = (jaccard_distance_sum - jaccard_distance_sum.mean()) / \\\n",
    "    jaccard_distance_sum.std()\n",
    "\n",
    "z_score_nut_recipe = pd.DataFrame(z_min.euclid_distance_sum + z_jac.jaccard_distance_sum,\n",
    "                                  columns=euclid_distance_sum.columns, index=z_min.index)\n",
    "\n",
    "z_score_nut_recipe = z_score_nut_recipe.sort_values(by='euclid_distance_sum')\n",
    "\n",
    "z_score_nut_recipe.rename(\n",
    "    columns={'euclid_distance_sum': 'z_score'}, inplace=True)"
   ]
  },
  {
   "cell_type": "code",
   "execution_count": null,
   "metadata": {},
   "outputs": [],
   "source": [
    "display(z_score_nut_recipe, robust_scaling_nut_recipe, min_max_nut_recipe)"
   ]
  },
  {
   "cell_type": "code",
   "execution_count": null,
   "metadata": {},
   "outputs": [],
   "source": []
  }
 ],
 "metadata": {
  "kernelspec": {
   "display_name": "Python 3",
   "language": "python",
   "name": "python3"
  },
  "language_info": {
   "codemirror_mode": {
    "name": "ipython",
    "version": 3
   },
   "file_extension": ".py",
   "mimetype": "text/x-python",
   "name": "python",
   "nbconvert_exporter": "python",
   "pygments_lexer": "ipython3",
   "version": "3.7.5"
  }
 },
 "nbformat": 4,
 "nbformat_minor": 4
}
