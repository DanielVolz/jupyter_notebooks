{
 "cells": [
  {
   "cell_type": "code",
   "execution_count": 119,
   "metadata": {},
   "outputs": [],
   "source": [
    "import json\n",
    "\n",
    "import numpy as np\n",
    "import pandas as pd\n",
    "import pymongo\n",
    "import scipy\n",
    "\n",
    "from bson import ObjectId, json_util\n",
    "from pandas.io.json import json_normalize\n",
    "from pymongo import MongoClient as Connection\n",
    "from scipy import sparse, spatial\n",
    "from scipy.spatial.distance import cdist, pdist, squareform\n",
    "from sklearn.metrics.pairwise import cosine_similarity\n",
    "\n",
    "# scientific notation disabled form smaller numbers\n",
    "pd.options.display.float_format = '{:.2f}'.format\n",
    "\n",
    "# alles resultate anzeigen und nicht nur das letzte\n",
    "from IPython.core.interactiveshell import InteractiveShell\n",
    "InteractiveShell.ast_node_interactivity = \"all\"\n",
    "\n"
   ]
  },
  {
   "cell_type": "code",
   "execution_count": 120,
   "metadata": {},
   "outputs": [
    {
     "data": {
      "text/html": [
       "<style>\n",
       ".output {\n",
       "    flex-direction: row;\n",
       "}\n",
       "</style>"
      ],
      "text/plain": [
       "<IPython.core.display.HTML object>"
      ]
     },
     "execution_count": 120,
     "metadata": {},
     "output_type": "execute_result"
    }
   ],
   "source": [
    "# display multiple outputs in one row\n",
    "import pandas as pd\n",
    "import numpy as np\n",
    "from IPython.display import display, HTML\n",
    "\n",
    "CSS = \"\"\"\n",
    ".output {\n",
    "    flex-direction: row;\n",
    "}\n",
    "\"\"\"\n",
    "\n",
    "HTML('<style>{}</style>'.format(CSS))"
   ]
  },
  {
   "cell_type": "code",
   "execution_count": 121,
   "metadata": {},
   "outputs": [],
   "source": [
    "connection = Connection()\n",
    "db = connection.recipe_db\n",
    "input_data = db.recipes_test_copy\n",
    "\n",
    "data = json.loads(json_util.dumps(input_data.find()))\n",
    "norm_data = json_normalize(data)\n"
   ]
  },
  {
   "cell_type": "code",
   "execution_count": 122,
   "metadata": {},
   "outputs": [],
   "source": [
    "ing = pd.DataFrame(json_normalize(data, record_path='ingredients',\n",
    "                             meta='id', record_prefix='ingredients_', errors='ignore'))\n",
    "\n",
    "\n",
    "nutritions = pd.DataFrame(json_normalize(data, record_path='nutritions',\n",
    "                            meta=['id', 'prep_time', 'rating', 'rating_count', 'ready_in_time', 'review_count']))\n"
   ]
  },
  {
   "cell_type": "code",
   "execution_count": 172,
   "metadata": {},
   "outputs": [],
   "source": [
    "desc = norm_data.describe().loc[['mean','std', 'min', 'max', '50%']]"
   ]
  },
  {
   "cell_type": "code",
   "execution_count": 148,
   "metadata": {},
   "outputs": [
    {
     "data": {
      "text/html": [
       "<div>\n",
       "<style scoped>\n",
       "    .dataframe tbody tr th:only-of-type {\n",
       "        vertical-align: middle;\n",
       "    }\n",
       "\n",
       "    .dataframe tbody tr th {\n",
       "        vertical-align: top;\n",
       "    }\n",
       "\n",
       "    .dataframe thead th {\n",
       "        text-align: right;\n",
       "    }\n",
       "</style>\n",
       "<table border=\"1\" class=\"dataframe\">\n",
       "  <thead>\n",
       "    <tr style=\"text-align: right;\">\n",
       "      <th></th>\n",
       "      <th>id</th>\n",
       "      <th>authorId</th>\n",
       "      <th>prep_time</th>\n",
       "      <th>cook_time</th>\n",
       "      <th>ready_in_time</th>\n",
       "      <th>servings</th>\n",
       "      <th>rating</th>\n",
       "      <th>rating_count</th>\n",
       "      <th>review_count</th>\n",
       "      <th>made_it_count</th>\n",
       "    </tr>\n",
       "  </thead>\n",
       "  <tbody>\n",
       "    <tr>\n",
       "      <td>count</td>\n",
       "      <td>6304.00</td>\n",
       "      <td>6304.00</td>\n",
       "      <td>6304.00</td>\n",
       "      <td>6304.00</td>\n",
       "      <td>6304.00</td>\n",
       "      <td>6304.00</td>\n",
       "      <td>6304.00</td>\n",
       "      <td>6304.00</td>\n",
       "      <td>6304.00</td>\n",
       "      <td>6304.00</td>\n",
       "    </tr>\n",
       "    <tr>\n",
       "      <td>mean</td>\n",
       "      <td>92184.39</td>\n",
       "      <td>1852314.30</td>\n",
       "      <td>17.10</td>\n",
       "      <td>59.21</td>\n",
       "      <td>109.30</td>\n",
       "      <td>4.00</td>\n",
       "      <td>4.36</td>\n",
       "      <td>252.94</td>\n",
       "      <td>189.32</td>\n",
       "      <td>372.13</td>\n",
       "    </tr>\n",
       "    <tr>\n",
       "      <td>std</td>\n",
       "      <td>83170.15</td>\n",
       "      <td>3691577.20</td>\n",
       "      <td>32.04</td>\n",
       "      <td>105.29</td>\n",
       "      <td>253.23</td>\n",
       "      <td>0.00</td>\n",
       "      <td>0.28</td>\n",
       "      <td>490.71</td>\n",
       "      <td>353.85</td>\n",
       "      <td>761.33</td>\n",
       "    </tr>\n",
       "    <tr>\n",
       "      <td>min</td>\n",
       "      <td>6806.00</td>\n",
       "      <td>0.00</td>\n",
       "      <td>0.00</td>\n",
       "      <td>0.00</td>\n",
       "      <td>0.00</td>\n",
       "      <td>4.00</td>\n",
       "      <td>2.00</td>\n",
       "      <td>2.00</td>\n",
       "      <td>1.00</td>\n",
       "      <td>5.00</td>\n",
       "    </tr>\n",
       "    <tr>\n",
       "      <td>25%</td>\n",
       "      <td>19362.50</td>\n",
       "      <td>0.00</td>\n",
       "      <td>10.00</td>\n",
       "      <td>15.00</td>\n",
       "      <td>30.00</td>\n",
       "      <td>4.00</td>\n",
       "      <td>4.20</td>\n",
       "      <td>58.00</td>\n",
       "      <td>45.00</td>\n",
       "      <td>75.00</td>\n",
       "    </tr>\n",
       "    <tr>\n",
       "      <td>50%</td>\n",
       "      <td>58815.00</td>\n",
       "      <td>471714.00</td>\n",
       "      <td>15.00</td>\n",
       "      <td>30.00</td>\n",
       "      <td>50.00</td>\n",
       "      <td>4.00</td>\n",
       "      <td>4.40</td>\n",
       "      <td>105.00</td>\n",
       "      <td>82.00</td>\n",
       "      <td>142.50</td>\n",
       "    </tr>\n",
       "    <tr>\n",
       "      <td>75%</td>\n",
       "      <td>167983.25</td>\n",
       "      <td>1872628.50</td>\n",
       "      <td>20.00</td>\n",
       "      <td>50.00</td>\n",
       "      <td>90.00</td>\n",
       "      <td>4.00</td>\n",
       "      <td>4.56</td>\n",
       "      <td>228.25</td>\n",
       "      <td>175.00</td>\n",
       "      <td>332.00</td>\n",
       "    </tr>\n",
       "    <tr>\n",
       "      <td>max</td>\n",
       "      <td>263813.00</td>\n",
       "      <td>22212574.00</td>\n",
       "      <td>1500.00</td>\n",
       "      <td>1500.00</td>\n",
       "      <td>10290.00</td>\n",
       "      <td>4.00</td>\n",
       "      <td>5.00</td>\n",
       "      <td>7898.00</td>\n",
       "      <td>5588.00</td>\n",
       "      <td>14356.00</td>\n",
       "    </tr>\n",
       "  </tbody>\n",
       "</table>\n",
       "</div>"
      ],
      "text/plain": [
       "             id    authorId  prep_time  cook_time  ready_in_time  servings  \\\n",
       "count   6304.00     6304.00    6304.00    6304.00        6304.00   6304.00   \n",
       "mean   92184.39  1852314.30      17.10      59.21         109.30      4.00   \n",
       "std    83170.15  3691577.20      32.04     105.29         253.23      0.00   \n",
       "min     6806.00        0.00       0.00       0.00           0.00      4.00   \n",
       "25%    19362.50        0.00      10.00      15.00          30.00      4.00   \n",
       "50%    58815.00   471714.00      15.00      30.00          50.00      4.00   \n",
       "75%   167983.25  1872628.50      20.00      50.00          90.00      4.00   \n",
       "max   263813.00 22212574.00    1500.00    1500.00       10290.00      4.00   \n",
       "\n",
       "       rating  rating_count  review_count  made_it_count  \n",
       "count 6304.00       6304.00       6304.00        6304.00  \n",
       "mean     4.36        252.94        189.32         372.13  \n",
       "std      0.28        490.71        353.85         761.33  \n",
       "min      2.00          2.00          1.00           5.00  \n",
       "25%      4.20         58.00         45.00          75.00  \n",
       "50%      4.40        105.00         82.00         142.50  \n",
       "75%      4.56        228.25        175.00         332.00  \n",
       "max      5.00       7898.00       5588.00       14356.00  "
      ]
     },
     "execution_count": 148,
     "metadata": {},
     "output_type": "execute_result"
    }
   ],
   "source": [
    "norm_data.describe()"
   ]
  },
  {
   "cell_type": "code",
   "execution_count": null,
   "metadata": {},
   "outputs": [],
   "source": [
    "df = df.rename(columns={'oldName1': 'newName1', 'oldName2': 'newName2'})"
   ]
  },
  {
   "cell_type": "code",
   "execution_count": 166,
   "metadata": {},
   "outputs": [],
   "source": [
    "#ausreißer entfernen (die im bereich größer 2 standardabwechungen liegen)\n",
    "from scipy import stats\n",
    "norm_data_no_outliers = norm_data\n",
    "\n",
    "asd = norm_data_no_outliers[(np.abs(stats.zscore(norm_data_no_outliers.cook_time)) < 2)]"
   ]
  },
  {
   "cell_type": "code",
   "execution_count": 154,
   "metadata": {},
   "outputs": [
    {
     "data": {
      "text/plain": [
       "0.0"
      ]
     },
     "execution_count": 154,
     "metadata": {},
     "output_type": "execute_result"
    },
    {
     "data": {
      "text/plain": [
       "4110.93072674636"
      ]
     },
     "execution_count": 154,
     "metadata": {},
     "output_type": "execute_result"
    }
   ],
   "source": [
    "#test auf normalverteilung\n",
    "from scipy.stats import normaltest\n",
    "k2, p = normaltest(asd.cook_time)\n",
    "p\n",
    "k2"
   ]
  },
  {
   "cell_type": "code",
   "execution_count": 170,
   "metadata": {},
   "outputs": [
    {
     "data": {
      "text/plain": [
       "<matplotlib.axes._subplots.AxesSubplot at 0x13c85ac50>"
      ]
     },
     "execution_count": 170,
     "metadata": {},
     "output_type": "execute_result"
    },
    {
     "data": {
      "text/plain": [
       "<matplotlib.axes._subplots.AxesSubplot at 0x13c85ac50>"
      ]
     },
     "execution_count": 170,
     "metadata": {},
     "output_type": "execute_result"
    },
    {
     "data": {
      "image/png": "[encoded data removed]",
      "text/plain": [
       "<Figure size 432x288 with 1 Axes>"
      ]
     },
     "metadata": {},
     "output_type": "display_data"
    }
   ],
   "source": [
    "\n",
    "norm_data.boxplot(['cook_time'])"
   ]
  },
  {
   "cell_type": "code",
   "execution_count": 171,
   "metadata": {},
   "outputs": [
    {
     "data": {
      "text/plain": [
       "<matplotlib.axes._subplots.AxesSubplot at 0x13c92fa10>"
      ]
     },
     "execution_count": 171,
     "metadata": {},
     "output_type": "execute_result"
    },
    {
     "data": {
      "image/png": "[encoded data removed]",
      "text/plain": [
       "<Figure size 432x288 with 1 Axes>"
      ]
     },
     "metadata": {},
     "output_type": "display_data"
    }
   ],
   "source": [
    "asd.boxplot(['cook_time'])"
   ]
  },
  {
   "cell_type": "code",
   "execution_count": null,
   "metadata": {},
   "outputs": [],
   "source": []
  },
  {
   "cell_type": "code",
   "execution_count": 168,
   "metadata": {},
   "outputs": [
    {
     "data": {
      "text/plain": [
       "(array([597., 109.,  38., 540.,  50., 653.,  24., 693.,   4., 380.,   4.,\n",
       "        651.,   2., 225.,   3., 285.,   2., 363.,   4., 140.,   1.,  70.,\n",
       "          1., 409.,   1.,  31.,  60.,   0.,  69.,   0.,  35.,   0.,  12.,\n",
       "          0., 102.,   0.,  11.,   0.,  11.,   0.,  24.,   1.,   2.,   0.,\n",
       "          3.,   0.,  94.,   0.,   5.,   0.,   6.,  10.,   0.,   5.,   0.,\n",
       "          3.,   0.,  22.,   0.,   6.,   0.,   5.,   0.,   6.,   0.,   3.,\n",
       "          0.,   0.,   0.,  55.,   0.,   4.,   0.,   5.,   0.,   7.,   5.,\n",
       "          0.,   1.,   0.,  16.,   0.,   0.,   0.,   1.,   0.,   2.,   0.,\n",
       "          1.,   0.,   0.,   0.,  81.,   0.,   2.,   0.,   6.,   0.,   4.,\n",
       "          5.]),\n",
       " array([  0. ,   2.6,   5.2,   7.8,  10.4,  13. ,  15.6,  18.2,  20.8,\n",
       "         23.4,  26. ,  28.6,  31.2,  33.8,  36.4,  39. ,  41.6,  44.2,\n",
       "         46.8,  49.4,  52. ,  54.6,  57.2,  59.8,  62.4,  65. ,  67.6,\n",
       "         70.2,  72.8,  75.4,  78. ,  80.6,  83.2,  85.8,  88.4,  91. ,\n",
       "         93.6,  96.2,  98.8, 101.4, 104. , 106.6, 109.2, 111.8, 114.4,\n",
       "        117. , 119.6, 122.2, 124.8, 127.4, 130. , 132.6, 135.2, 137.8,\n",
       "        140.4, 143. , 145.6, 148.2, 150.8, 153.4, 156. , 158.6, 161.2,\n",
       "        163.8, 166.4, 169. , 171.6, 174.2, 176.8, 179.4, 182. , 184.6,\n",
       "        187.2, 189.8, 192.4, 195. , 197.6, 200.2, 202.8, 205.4, 208. ,\n",
       "        210.6, 213.2, 215.8, 218.4, 221. , 223.6, 226.2, 228.8, 231.4,\n",
       "        234. , 236.6, 239.2, 241.8, 244.4, 247. , 249.6, 252.2, 254.8,\n",
       "        257.4, 260. ]),\n",
       " <a list of 100 Patch objects>)"
      ]
     },
     "execution_count": 168,
     "metadata": {},
     "output_type": "execute_result"
    },
    {
     "data": {
      "image/png": "[encoded data removed]",
      "text/plain": [
       "<Figure size 432x288 with 1 Axes>"
      ]
     },
     "metadata": {},
     "output_type": "display_data"
    }
   ],
   "source": [
    "import seaborn as sns\n",
    "import matplotlib.pyplot as plt\n",
    "from scipy import stats\n",
    "\n",
    "plt.hist(asd['cook_time'],bins=100, alpha=0.5)"
   ]
  },
  {
   "cell_type": "code",
   "execution_count": 176,
   "metadata": {},
   "outputs": [],
   "source": [
    "desc=desc.drop(columns=['id', 'authorId', 'servings'])"
   ]
  },
  {
   "cell_type": "code",
   "execution_count": 177,
   "metadata": {},
   "outputs": [
    {
     "data": {
      "text/html": [
       "<div>\n",
       "<style scoped>\n",
       "    .dataframe tbody tr th:only-of-type {\n",
       "        vertical-align: middle;\n",
       "    }\n",
       "\n",
       "    .dataframe tbody tr th {\n",
       "        vertical-align: top;\n",
       "    }\n",
       "\n",
       "    .dataframe thead th {\n",
       "        text-align: right;\n",
       "    }\n",
       "</style>\n",
       "<table border=\"1\" class=\"dataframe\">\n",
       "  <thead>\n",
       "    <tr style=\"text-align: right;\">\n",
       "      <th></th>\n",
       "      <th>prep_time</th>\n",
       "      <th>cook_time</th>\n",
       "      <th>ready_in_time</th>\n",
       "      <th>rating</th>\n",
       "      <th>rating_count</th>\n",
       "      <th>review_count</th>\n",
       "      <th>made_it_count</th>\n",
       "    </tr>\n",
       "  </thead>\n",
       "  <tbody>\n",
       "    <tr>\n",
       "      <td>mean</td>\n",
       "      <td>17.10</td>\n",
       "      <td>59.21</td>\n",
       "      <td>109.30</td>\n",
       "      <td>4.36</td>\n",
       "      <td>252.94</td>\n",
       "      <td>189.32</td>\n",
       "      <td>372.13</td>\n",
       "    </tr>\n",
       "    <tr>\n",
       "      <td>std</td>\n",
       "      <td>32.04</td>\n",
       "      <td>105.29</td>\n",
       "      <td>253.23</td>\n",
       "      <td>0.28</td>\n",
       "      <td>490.71</td>\n",
       "      <td>353.85</td>\n",
       "      <td>761.33</td>\n",
       "    </tr>\n",
       "    <tr>\n",
       "      <td>min</td>\n",
       "      <td>0.00</td>\n",
       "      <td>0.00</td>\n",
       "      <td>0.00</td>\n",
       "      <td>2.00</td>\n",
       "      <td>2.00</td>\n",
       "      <td>1.00</td>\n",
       "      <td>5.00</td>\n",
       "    </tr>\n",
       "    <tr>\n",
       "      <td>max</td>\n",
       "      <td>1500.00</td>\n",
       "      <td>1500.00</td>\n",
       "      <td>10290.00</td>\n",
       "      <td>5.00</td>\n",
       "      <td>7898.00</td>\n",
       "      <td>5588.00</td>\n",
       "      <td>14356.00</td>\n",
       "    </tr>\n",
       "    <tr>\n",
       "      <td>50%</td>\n",
       "      <td>15.00</td>\n",
       "      <td>30.00</td>\n",
       "      <td>50.00</td>\n",
       "      <td>4.40</td>\n",
       "      <td>105.00</td>\n",
       "      <td>82.00</td>\n",
       "      <td>142.50</td>\n",
       "    </tr>\n",
       "  </tbody>\n",
       "</table>\n",
       "</div>"
      ],
      "text/plain": [
       "      prep_time  cook_time  ready_in_time  rating  rating_count  review_count  \\\n",
       "mean      17.10      59.21         109.30    4.36        252.94        189.32   \n",
       "std       32.04     105.29         253.23    0.28        490.71        353.85   \n",
       "min        0.00       0.00           0.00    2.00          2.00          1.00   \n",
       "max     1500.00    1500.00       10290.00    5.00       7898.00       5588.00   \n",
       "50%       15.00      30.00          50.00    4.40        105.00         82.00   \n",
       "\n",
       "      made_it_count  \n",
       "mean         372.13  \n",
       "std          761.33  \n",
       "min            5.00  \n",
       "max        14356.00  \n",
       "50%          142.50  "
      ]
     },
     "execution_count": 177,
     "metadata": {},
     "output_type": "execute_result"
    }
   ],
   "source": [
    "desc"
   ]
  },
  {
   "cell_type": "code",
   "execution_count": 183,
   "metadata": {},
   "outputs": [
    {
     "data": {
      "text/plain": [
       "'median'"
      ]
     },
     "execution_count": 183,
     "metadata": {},
     "output_type": "execute_result"
    }
   ],
   "source": [
    "index = desc.index\n",
    "index_list = index.tolist()\n",
    "index_list[4] = 'median'\n",
    "index_list[4] \n",
    "desc.index = index_list"
   ]
  },
  {
   "cell_type": "code",
   "execution_count": 187,
   "metadata": {},
   "outputs": [],
   "source": [
    "desc = desc.reindex(['mean', 'median', 'std', 'min', 'max'])"
   ]
  },
  {
   "cell_type": "code",
   "execution_count": 189,
   "metadata": {},
   "outputs": [
    {
     "data": {
      "text/html": [
       "<div>\n",
       "<style scoped>\n",
       "    .dataframe tbody tr th:only-of-type {\n",
       "        vertical-align: middle;\n",
       "    }\n",
       "\n",
       "    .dataframe tbody tr th {\n",
       "        vertical-align: top;\n",
       "    }\n",
       "\n",
       "    .dataframe thead th {\n",
       "        text-align: right;\n",
       "    }\n",
       "</style>\n",
       "<table border=\"1\" class=\"dataframe\">\n",
       "  <thead>\n",
       "    <tr style=\"text-align: right;\">\n",
       "      <th></th>\n",
       "      <th>prep_time</th>\n",
       "      <th>cook_time</th>\n",
       "      <th>ready_in_time</th>\n",
       "      <th>rating</th>\n",
       "      <th>rating_count</th>\n",
       "      <th>review_count</th>\n",
       "      <th>made_it_count</th>\n",
       "    </tr>\n",
       "  </thead>\n",
       "  <tbody>\n",
       "    <tr>\n",
       "      <td>mean</td>\n",
       "      <td>17.10</td>\n",
       "      <td>59.21</td>\n",
       "      <td>109.30</td>\n",
       "      <td>4.36</td>\n",
       "      <td>252.94</td>\n",
       "      <td>189.32</td>\n",
       "      <td>372.13</td>\n",
       "    </tr>\n",
       "    <tr>\n",
       "      <td>median</td>\n",
       "      <td>15.00</td>\n",
       "      <td>30.00</td>\n",
       "      <td>50.00</td>\n",
       "      <td>4.40</td>\n",
       "      <td>105.00</td>\n",
       "      <td>82.00</td>\n",
       "      <td>142.50</td>\n",
       "    </tr>\n",
       "    <tr>\n",
       "      <td>std</td>\n",
       "      <td>32.04</td>\n",
       "      <td>105.29</td>\n",
       "      <td>253.23</td>\n",
       "      <td>0.28</td>\n",
       "      <td>490.71</td>\n",
       "      <td>353.85</td>\n",
       "      <td>761.33</td>\n",
       "    </tr>\n",
       "    <tr>\n",
       "      <td>min</td>\n",
       "      <td>0.00</td>\n",
       "      <td>0.00</td>\n",
       "      <td>0.00</td>\n",
       "      <td>2.00</td>\n",
       "      <td>2.00</td>\n",
       "      <td>1.00</td>\n",
       "      <td>5.00</td>\n",
       "    </tr>\n",
       "    <tr>\n",
       "      <td>max</td>\n",
       "      <td>1500.00</td>\n",
       "      <td>1500.00</td>\n",
       "      <td>10290.00</td>\n",
       "      <td>5.00</td>\n",
       "      <td>7898.00</td>\n",
       "      <td>5588.00</td>\n",
       "      <td>14356.00</td>\n",
       "    </tr>\n",
       "  </tbody>\n",
       "</table>\n",
       "</div>"
      ],
      "text/plain": [
       "        prep_time  cook_time  ready_in_time  rating  rating_count  \\\n",
       "mean        17.10      59.21         109.30    4.36        252.94   \n",
       "median      15.00      30.00          50.00    4.40        105.00   \n",
       "std         32.04     105.29         253.23    0.28        490.71   \n",
       "min          0.00       0.00           0.00    2.00          2.00   \n",
       "max       1500.00    1500.00       10290.00    5.00       7898.00   \n",
       "\n",
       "        review_count  made_it_count  \n",
       "mean          189.32         372.13  \n",
       "median         82.00         142.50  \n",
       "std           353.85         761.33  \n",
       "min             1.00           5.00  \n",
       "max          5588.00       14356.00  "
      ]
     },
     "execution_count": 189,
     "metadata": {},
     "output_type": "execute_result"
    }
   ],
   "source": [
    "desc"
   ]
  },
  {
   "cell_type": "code",
   "execution_count": 127,
   "metadata": {},
   "outputs": [],
   "source": [
    "# setze multiinde auf 'id' und 'ingredients_id'\n",
    "ingredients = ing.set_index(['id', 'ingredients_id'])"
   ]
  },
  {
   "cell_type": "code",
   "execution_count": null,
   "metadata": {},
   "outputs": [],
   "source": []
  },
  {
   "cell_type": "code",
   "execution_count": 129,
   "metadata": {},
   "outputs": [
    {
     "data": {
      "text/html": [
       "<div>\n",
       "<style scoped>\n",
       "    .dataframe tbody tr th:only-of-type {\n",
       "        vertical-align: middle;\n",
       "    }\n",
       "\n",
       "    .dataframe tbody tr th {\n",
       "        vertical-align: top;\n",
       "    }\n",
       "\n",
       "    .dataframe thead th {\n",
       "        text-align: right;\n",
       "    }\n",
       "</style>\n",
       "<table border=\"1\" class=\"dataframe\">\n",
       "  <thead>\n",
       "    <tr style=\"text-align: right;\">\n",
       "      <th></th>\n",
       "      <th></th>\n",
       "      <th>ingredients_name</th>\n",
       "      <th>ingredients_grams</th>\n",
       "      <th>ingredients_type</th>\n",
       "    </tr>\n",
       "    <tr>\n",
       "      <th>id</th>\n",
       "      <th>ingredients_id</th>\n",
       "      <th></th>\n",
       "      <th></th>\n",
       "      <th></th>\n",
       "    </tr>\n",
       "  </thead>\n",
       "  <tbody>\n",
       "    <tr>\n",
       "      <td rowspan=\"5\" valign=\"top\">59661</td>\n",
       "      <td>16157</td>\n",
       "      <td>10 g butter</td>\n",
       "      <td>11.36</td>\n",
       "      <td>Normal</td>\n",
       "    </tr>\n",
       "    <tr>\n",
       "      <td>4405</td>\n",
       "      <td>40 g sliced green onions</td>\n",
       "      <td>41.80</td>\n",
       "      <td>Normal</td>\n",
       "    </tr>\n",
       "    <tr>\n",
       "      <td>4342</td>\n",
       "      <td>1-1/2 cloves garlic, minced</td>\n",
       "      <td>4.80</td>\n",
       "      <td>Normal</td>\n",
       "    </tr>\n",
       "    <tr>\n",
       "      <td>4520</td>\n",
       "      <td>3/4 (10 ounce) package frozen chopped spinach ...</td>\n",
       "      <td>227.20</td>\n",
       "      <td>Normal</td>\n",
       "    </tr>\n",
       "    <tr>\n",
       "      <td>16243</td>\n",
       "      <td>180 g ricotta cheese</td>\n",
       "      <td>182.40</td>\n",
       "      <td>Normal</td>\n",
       "    </tr>\n",
       "    <tr>\n",
       "      <td>...</td>\n",
       "      <td>...</td>\n",
       "      <td>...</td>\n",
       "      <td>...</td>\n",
       "      <td>...</td>\n",
       "    </tr>\n",
       "    <tr>\n",
       "      <td rowspan=\"5\" valign=\"top\">244188</td>\n",
       "      <td>20551</td>\n",
       "      <td>1 g ground cumin</td>\n",
       "      <td>1.05</td>\n",
       "      <td>Normal</td>\n",
       "    </tr>\n",
       "    <tr>\n",
       "      <td>16403</td>\n",
       "      <td>0.8 g dried oregano</td>\n",
       "      <td>0.75</td>\n",
       "      <td>Normal</td>\n",
       "    </tr>\n",
       "    <tr>\n",
       "      <td>16406</td>\n",
       "      <td>1 g freshly ground black pepper</td>\n",
       "      <td>1.05</td>\n",
       "      <td>Normal</td>\n",
       "    </tr>\n",
       "    <tr>\n",
       "      <td>6307</td>\n",
       "      <td>15 ml olive oil</td>\n",
       "      <td>13.50</td>\n",
       "      <td>Normal</td>\n",
       "    </tr>\n",
       "    <tr>\n",
       "      <td>6527</td>\n",
       "      <td>570 g skinless, boneless chicken thighs</td>\n",
       "      <td>567.50</td>\n",
       "      <td>Normal</td>\n",
       "    </tr>\n",
       "  </tbody>\n",
       "</table>\n",
       "<p>61194 rows × 3 columns</p>\n",
       "</div>"
      ],
      "text/plain": [
       "                                                        ingredients_name  \\\n",
       "id     ingredients_id                                                      \n",
       "59661  16157                                                 10 g butter   \n",
       "       4405                                     40 g sliced green onions   \n",
       "       4342                                  1-1/2 cloves garlic, minced   \n",
       "       4520            3/4 (10 ounce) package frozen chopped spinach ...   \n",
       "       16243                                        180 g ricotta cheese   \n",
       "...                                                                  ...   \n",
       "244188 20551                                            1 g ground cumin   \n",
       "       16403                                         0.8 g dried oregano   \n",
       "       16406                             1 g freshly ground black pepper   \n",
       "       6307                                              15 ml olive oil   \n",
       "       6527                      570 g skinless, boneless chicken thighs   \n",
       "\n",
       "                       ingredients_grams ingredients_type  \n",
       "id     ingredients_id                                      \n",
       "59661  16157                       11.36           Normal  \n",
       "       4405                        41.80           Normal  \n",
       "       4342                         4.80           Normal  \n",
       "       4520                       227.20           Normal  \n",
       "       16243                      182.40           Normal  \n",
       "...                                  ...              ...  \n",
       "244188 20551                        1.05           Normal  \n",
       "       16403                        0.75           Normal  \n",
       "       16406                        1.05           Normal  \n",
       "       6307                        13.50           Normal  \n",
       "       6527                       567.50           Normal  \n",
       "\n",
       "[61194 rows x 3 columns]"
      ]
     },
     "execution_count": 129,
     "metadata": {},
     "output_type": "execute_result"
    }
   ],
   "source": [
    "ingredients"
   ]
  },
  {
   "cell_type": "code",
   "execution_count": 130,
   "metadata": {},
   "outputs": [],
   "source": [
    "asd= ingredients.reset_index().groupby('id')['ingredients_id'].nunique()"
   ]
  },
  {
   "cell_type": "code",
   "execution_count": 131,
   "metadata": {},
   "outputs": [
    {
     "data": {
      "text/plain": [
       "count   6304.00\n",
       "mean       9.43\n",
       "std        3.59\n",
       "min        1.00\n",
       "25%        7.00\n",
       "50%        9.00\n",
       "75%       12.00\n",
       "max       26.00\n",
       "Name: ingredients_id, dtype: float64"
      ]
     },
     "execution_count": 131,
     "metadata": {},
     "output_type": "execute_result"
    }
   ],
   "source": [
    "asd.describe()"
   ]
  },
  {
   "cell_type": "code",
   "execution_count": null,
   "metadata": {},
   "outputs": [],
   "source": []
  },
  {
   "cell_type": "code",
   "execution_count": 132,
   "metadata": {},
   "outputs": [
    {
     "data": {
      "text/html": [
       "<div>\n",
       "<style scoped>\n",
       "    .dataframe tbody tr th:only-of-type {\n",
       "        vertical-align: middle;\n",
       "    }\n",
       "\n",
       "    .dataframe tbody tr th {\n",
       "        vertical-align: top;\n",
       "    }\n",
       "\n",
       "    .dataframe thead th {\n",
       "        text-align: right;\n",
       "    }\n",
       "</style>\n",
       "<table border=\"1\" class=\"dataframe\">\n",
       "  <thead>\n",
       "    <tr style=\"text-align: right;\">\n",
       "      <th></th>\n",
       "      <th></th>\n",
       "      <th>ingredients_name</th>\n",
       "      <th>ingredients_grams</th>\n",
       "      <th>ingredients_type</th>\n",
       "    </tr>\n",
       "    <tr>\n",
       "      <th>id</th>\n",
       "      <th>ingredients_id</th>\n",
       "      <th></th>\n",
       "      <th></th>\n",
       "      <th></th>\n",
       "    </tr>\n",
       "  </thead>\n",
       "  <tbody>\n",
       "    <tr>\n",
       "      <td rowspan=\"5\" valign=\"top\">59661</td>\n",
       "      <td>16157</td>\n",
       "      <td>10 g butter</td>\n",
       "      <td>11.36</td>\n",
       "      <td>Normal</td>\n",
       "    </tr>\n",
       "    <tr>\n",
       "      <td>4405</td>\n",
       "      <td>40 g sliced green onions</td>\n",
       "      <td>41.80</td>\n",
       "      <td>Normal</td>\n",
       "    </tr>\n",
       "    <tr>\n",
       "      <td>4342</td>\n",
       "      <td>1-1/2 cloves garlic, minced</td>\n",
       "      <td>4.80</td>\n",
       "      <td>Normal</td>\n",
       "    </tr>\n",
       "    <tr>\n",
       "      <td>4520</td>\n",
       "      <td>3/4 (10 ounce) package frozen chopped spinach ...</td>\n",
       "      <td>227.20</td>\n",
       "      <td>Normal</td>\n",
       "    </tr>\n",
       "    <tr>\n",
       "      <td>16243</td>\n",
       "      <td>180 g ricotta cheese</td>\n",
       "      <td>182.40</td>\n",
       "      <td>Normal</td>\n",
       "    </tr>\n",
       "    <tr>\n",
       "      <td>...</td>\n",
       "      <td>...</td>\n",
       "      <td>...</td>\n",
       "      <td>...</td>\n",
       "      <td>...</td>\n",
       "    </tr>\n",
       "    <tr>\n",
       "      <td rowspan=\"5\" valign=\"top\">244188</td>\n",
       "      <td>20551</td>\n",
       "      <td>1 g ground cumin</td>\n",
       "      <td>1.05</td>\n",
       "      <td>Normal</td>\n",
       "    </tr>\n",
       "    <tr>\n",
       "      <td>16403</td>\n",
       "      <td>0.8 g dried oregano</td>\n",
       "      <td>0.75</td>\n",
       "      <td>Normal</td>\n",
       "    </tr>\n",
       "    <tr>\n",
       "      <td>16406</td>\n",
       "      <td>1 g freshly ground black pepper</td>\n",
       "      <td>1.05</td>\n",
       "      <td>Normal</td>\n",
       "    </tr>\n",
       "    <tr>\n",
       "      <td>6307</td>\n",
       "      <td>15 ml olive oil</td>\n",
       "      <td>13.50</td>\n",
       "      <td>Normal</td>\n",
       "    </tr>\n",
       "    <tr>\n",
       "      <td>6527</td>\n",
       "      <td>570 g skinless, boneless chicken thighs</td>\n",
       "      <td>567.50</td>\n",
       "      <td>Normal</td>\n",
       "    </tr>\n",
       "  </tbody>\n",
       "</table>\n",
       "<p>61194 rows × 3 columns</p>\n",
       "</div>"
      ],
      "text/plain": [
       "                                                        ingredients_name  \\\n",
       "id     ingredients_id                                                      \n",
       "59661  16157                                                 10 g butter   \n",
       "       4405                                     40 g sliced green onions   \n",
       "       4342                                  1-1/2 cloves garlic, minced   \n",
       "       4520            3/4 (10 ounce) package frozen chopped spinach ...   \n",
       "       16243                                        180 g ricotta cheese   \n",
       "...                                                                  ...   \n",
       "244188 20551                                            1 g ground cumin   \n",
       "       16403                                         0.8 g dried oregano   \n",
       "       16406                             1 g freshly ground black pepper   \n",
       "       6307                                              15 ml olive oil   \n",
       "       6527                      570 g skinless, boneless chicken thighs   \n",
       "\n",
       "                       ingredients_grams ingredients_type  \n",
       "id     ingredients_id                                      \n",
       "59661  16157                       11.36           Normal  \n",
       "       4405                        41.80           Normal  \n",
       "       4342                         4.80           Normal  \n",
       "       4520                       227.20           Normal  \n",
       "       16243                      182.40           Normal  \n",
       "...                                  ...              ...  \n",
       "244188 20551                        1.05           Normal  \n",
       "       16403                        0.75           Normal  \n",
       "       16406                        1.05           Normal  \n",
       "       6307                        13.50           Normal  \n",
       "       6527                       567.50           Normal  \n",
       "\n",
       "[61194 rows x 3 columns]"
      ]
     },
     "execution_count": 132,
     "metadata": {},
     "output_type": "execute_result"
    }
   ],
   "source": [
    "ingredients"
   ]
  },
  {
   "cell_type": "code",
   "execution_count": null,
   "metadata": {},
   "outputs": [],
   "source": []
  },
  {
   "cell_type": "code",
   "execution_count": 133,
   "metadata": {},
   "outputs": [
    {
     "data": {
      "text/plain": [
       "<matplotlib.axes._subplots.AxesSubplot at 0x12dfcb390>"
      ]
     },
     "execution_count": 133,
     "metadata": {},
     "output_type": "execute_result"
    },
    {
     "data": {
      "image/png": "[encoded data removed]",
      "text/plain": [
       "<Figure size 432x288 with 1 Axes>"
      ]
     },
     "metadata": {},
     "output_type": "display_data"
    }
   ],
   "source": [
    "norm_data.boxplot()"
   ]
  },
  {
   "cell_type": "code",
   "execution_count": 137,
   "metadata": {},
   "outputs": [
    {
     "name": "stderr",
     "output_type": "stream",
     "text": [
      "/usr/local/lib/python3.7/site-packages/matplotlib/axes/_axes.py:6571: UserWarning: The 'normed' kwarg is deprecated, and has been replaced by the 'density' kwarg.\n",
      "  warnings.warn(\"The 'normed' kwarg is deprecated, and has been \"\n"
     ]
    },
    {
     "data": {
      "text/plain": [
       "(array([6.61996882e-04, 2.19965570e-05, 7.73748235e-06, 2.32124470e-06,\n",
       "        1.54749647e-06, 4.42141848e-07, 3.31606386e-07, 2.21070924e-07,\n",
       "        1.10535462e-07, 1.10535462e-07]),\n",
       " array([5.00000e+00, 1.44010e+03, 2.87520e+03, 4.31030e+03, 5.74540e+03,\n",
       "        7.18050e+03, 8.61560e+03, 1.00507e+04, 1.14858e+04, 1.29209e+04,\n",
       "        1.43560e+04]),\n",
       " <a list of 10 Patch objects>)"
      ]
     },
     "execution_count": 137,
     "metadata": {},
     "output_type": "execute_result"
    },
    {
     "data": {
      "image/png": "[encoded data removed]",
      "text/plain": [
       "<Figure size 432x288 with 1 Axes>"
      ]
     },
     "metadata": {},
     "output_type": "display_data"
    }
   ],
   "source": [
    "import seaborn as sns\n",
    "import matplotlib.pyplot as plt\n",
    "from scipy import stats\n",
    "\n",
    "plt.hist(norm_data['made_it_count'], normed=True, alpha=0.5)"
   ]
  },
  {
   "cell_type": "code",
   "execution_count": null,
   "metadata": {},
   "outputs": [],
   "source": [
    "boxplot = norm_data.boxplot(column=[\n",
    "    'made_it_count'])"
   ]
  },
  {
   "cell_type": "code",
   "execution_count": null,
   "metadata": {},
   "outputs": [],
   "source": [
    "norm_data.made_it_count[norm_data.made_it_count == 25583]"
   ]
  },
  {
   "cell_type": "code",
   "execution_count": null,
   "metadata": {},
   "outputs": [],
   "source": [
    "import matplotlib.pyplot as plt\n",
    "\n",
    "\n",
    "\n",
    "norm_data.boxplot(['ready_in_time'])\n",
    "                   \n",
    "    "
   ]
  },
  {
   "cell_type": "code",
   "execution_count": null,
   "metadata": {},
   "outputs": [],
   "source": [
    "norm_data.boxplot(['made_it_count'])\n"
   ]
  },
  {
   "cell_type": "code",
   "execution_count": null,
   "metadata": {},
   "outputs": [],
   "source": [
    "norm_data.boxplot(['cook_time'])"
   ]
  },
  {
   "cell_type": "code",
   "execution_count": null,
   "metadata": {},
   "outputs": [],
   "source": [
    "norm_data.hist(bins= 5, grid= 'false', figsize = (16,18))"
   ]
  }
 ],
 "metadata": {
  "kernelspec": {
   "display_name": "Python 3",
   "language": "python",
   "name": "python3"
  },
  "language_info": {
   "codemirror_mode": {
    "name": "ipython",
    "version": 3
   },
   "file_extension": ".py",
   "mimetype": "text/x-python",
   "name": "python",
   "nbconvert_exporter": "python",
   "pygments_lexer": "ipython3",
   "version": "3.7.5"
  }
 },
 "nbformat": 4,
 "nbformat_minor": 4
}
