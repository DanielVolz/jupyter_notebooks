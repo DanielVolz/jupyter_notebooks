{
 "cells": [
  {
   "cell_type": "code",
   "execution_count": 16,
   "metadata": {},
   "outputs": [],
   "source": [
    "import json\n",
    "\n",
    "import numpy as np\n",
    "import pandas as pd\n",
    "import pymongo\n",
    "import scipy\n",
    "from bson import ObjectId, json_util\n",
    "from pandas.io.json import json_normalize\n",
    "from pymongo import MongoClient as Connection\n",
    "from scipy import sparse, spatial\n",
    "from scipy.spatial.distance import cdist, pdist, squareform\n",
    "from sklearn.metrics.pairwise import cosine_similarity\n",
    "\n",
    "# scientific notation disabled form smaller numbers\n",
    "pd.options.display.float_format = '{:.5f}'.format\n",
    "\n",
    "# alles resultate anzeigen und nicht nur das letzte\n",
    "from IPython.core.interactiveshell import InteractiveShell\n",
    "InteractiveShell.ast_node_interactivity = \"all\"\n",
    "\n"
   ]
  },
  {
   "cell_type": "code",
   "execution_count": 17,
   "metadata": {},
   "outputs": [
    {
     "data": {
      "text/html": "<style>\n.output {\n    flex-direction: row;\n}\n</style>",
      "text/plain": "<IPython.core.display.HTML object>"
     },
     "execution_count": 17,
     "metadata": {},
     "output_type": "execute_result"
    }
   ],
   "source": [
    "# display multiple outputs in one row\n",
    "import pandas as pd\n",
    "import numpy as np\n",
    "from IPython.display import display, HTML\n",
    "\n",
    "CSS = \"\"\"\n",
    ".output {\n",
    "    flex-direction: row;\n",
    "}\n",
    "\"\"\"\n",
    "\n",
    "HTML('<style>{}</style>'.format(CSS))"
   ]
  },
  {
   "cell_type": "code",
   "execution_count": 18,
   "metadata": {},
   "outputs": [],
   "source": [
    "connection = Connection()\n",
    "db = connection.recipe_db\n",
    "input_data = db.recipes_test_copy\n",
    "\n",
    "data = json.loads(json_util.dumps(input_data.find()))"
   ]
  },
  {
   "cell_type": "code",
   "execution_count": 19,
   "metadata": {},
   "outputs": [],
   "source": [
    "ing = pd.DataFrame(json_normalize(data, record_path='ingredients',\n",
    "                             meta='id', record_prefix='ingredients_', errors='ignore'))\n",
    "\n",
    "\n",
    "nutritions = pd.DataFrame(json_normalize(data, record_path='nutritions',\n",
    "                            meta=['id', 'prep_time', 'rating', 'rating_count', 'ready_in_time', 'review_count']))\n"
   ]
  },
  {
   "cell_type": "code",
   "execution_count": 20,
   "metadata": {},
   "outputs": [],
   "source": [
    "#  ------  erstellung und data cleansing - Ingredients\n",
    "\n",
    "# schmeiss alle zutaten raus, die weniger als 5 mal verwendet werden\n",
    "# setze multiinde auf 'id' und 'ingredients_id'\n",
    "ingredients = ing.set_index(['id', 'ingredients_id'])\n",
    "\n",
    "# filtere alle Zutaten samit ihrer rezepte id, die weniger gleich 5 mal vorkommen\n",
    "ingredients_eqles_5_ing = ingredients.groupby(\n",
    "    'ingredients_id').filter(lambda x: len(x) <= 5)\n",
    "\n",
    "# droppe alle rezepte, die eine Zutate besitzen, die weniger gleich 5 Mal vorkommen\n",
    "ingredients_filt = ingredients.drop(ingredients_eqles_5_ing.index.get_level_values('id').values, level=0)\n",
    "\n",
    "# drop alls rows with ingredients_id == 0\n",
    "ingredients_eqal_zero = ingredients_filt[ingredients_filt.index.get_level_values('ingredients_id') == 0]\n",
    "ingredients_filt = ingredients_filt.drop(ingredients_eqal_zero.index.get_level_values('id').values, level=0)\n"
   ]
  },
  {
   "cell_type": "code",
   "execution_count": 21,
   "metadata": {},
   "outputs": [
    {
     "data": {
      "text/plain": "4061"
     },
     "execution_count": 21,
     "metadata": {},
     "output_type": "execute_result"
    },
    {
     "data": {
      "text/plain": "4061"
     },
     "execution_count": 21,
     "metadata": {},
     "output_type": "execute_result"
    },
    {
     "data": {
      "text/html": "<div>\n<style scoped>\n    .dataframe tbody tr th:only-of-type {\n        vertical-align: middle;\n    }\n\n    .dataframe tbody tr th {\n        vertical-align: top;\n    }\n\n    .dataframe thead th {\n        text-align: right;\n    }\n</style>\n<table border=\"1\" class=\"dataframe\">\n  <thead>\n    <tr style=\"text-align: right;\">\n      <th>name</th>\n      <th>Calcium</th>\n      <th>Calories</th>\n      <th>Calories from Fat</th>\n      <th>Carbohydrates</th>\n      <th>Cholesterol</th>\n      <th>Dietary Fiber</th>\n      <th>Fat</th>\n      <th>Folate</th>\n      <th>Iron</th>\n      <th>Magnesium</th>\n      <th>Niacin Equivalents</th>\n      <th>Potassium</th>\n      <th>Protein</th>\n      <th>Saturated Fat</th>\n      <th>Sodium</th>\n      <th>Sugars</th>\n      <th>Thiamin</th>\n      <th>Vitamin A - IU</th>\n      <th>Vitamin B6</th>\n      <th>Vitamin C</th>\n    </tr>\n    <tr>\n      <th>id</th>\n      <th></th>\n      <th></th>\n      <th></th>\n      <th></th>\n      <th></th>\n      <th></th>\n      <th></th>\n      <th></th>\n      <th></th>\n      <th></th>\n      <th></th>\n      <th></th>\n      <th></th>\n      <th></th>\n      <th></th>\n      <th></th>\n      <th></th>\n      <th></th>\n      <th></th>\n      <th></th>\n    </tr>\n  </thead>\n  <tbody>\n    <tr>\n      <td>6900</td>\n      <td>117.79860</td>\n      <td>105.27020</td>\n      <td>21.33330</td>\n      <td>17.98829</td>\n      <td>1.62667</td>\n      <td>0.56557</td>\n      <td>2.37037</td>\n      <td>39.16360</td>\n      <td>1.14346</td>\n      <td>7.30480</td>\n      <td>1.82102</td>\n      <td>54.07343</td>\n      <td>2.84282</td>\n      <td>0.59495</td>\n      <td>385.75980</td>\n      <td>1.72141</td>\n      <td>0.17169</td>\n      <td>116.75390</td>\n      <td>0.01709</td>\n      <td>0.04505</td>\n    </tr>\n    <tr>\n      <td>7198</td>\n      <td>244.16520</td>\n      <td>731.50920</td>\n      <td>325.65230</td>\n      <td>73.29574</td>\n      <td>88.69389</td>\n      <td>4.64147</td>\n      <td>36.18359</td>\n      <td>249.14210</td>\n      <td>5.76566</td>\n      <td>52.89296</td>\n      <td>13.51325</td>\n      <td>509.34610</td>\n      <td>27.58195</td>\n      <td>11.50691</td>\n      <td>1660.20300</td>\n      <td>2.83424</td>\n      <td>0.89150</td>\n      <td>699.95980</td>\n      <td>0.36319</td>\n      <td>67.32533</td>\n    </tr>\n    <tr>\n      <td>8493</td>\n      <td>415.52450</td>\n      <td>454.28300</td>\n      <td>177.75310</td>\n      <td>23.83120</td>\n      <td>203.86850</td>\n      <td>1.99500</td>\n      <td>19.75034</td>\n      <td>63.05025</td>\n      <td>3.11258</td>\n      <td>54.35775</td>\n      <td>23.43780</td>\n      <td>509.41500</td>\n      <td>44.07647</td>\n      <td>9.96063</td>\n      <td>1107.91100</td>\n      <td>3.45304</td>\n      <td>0.17406</td>\n      <td>578.21420</td>\n      <td>0.64563</td>\n      <td>1.91250</td>\n    </tr>\n    <tr>\n      <td>8494</td>\n      <td>58.08641</td>\n      <td>834.44480</td>\n      <td>514.68470</td>\n      <td>4.76954</td>\n      <td>283.75000</td>\n      <td>0.63600</td>\n      <td>57.18719</td>\n      <td>33.44816</td>\n      <td>3.72336</td>\n      <td>84.44925</td>\n      <td>39.18463</td>\n      <td>807.96980</td>\n      <td>71.10712</td>\n      <td>16.35430</td>\n      <td>567.97140</td>\n      <td>2.08741</td>\n      <td>0.02921</td>\n      <td>619.52510</td>\n      <td>1.37244</td>\n      <td>20.17546</td>\n    </tr>\n    <tr>\n      <td>8495</td>\n      <td>379.01410</td>\n      <td>418.75340</td>\n      <td>174.23740</td>\n      <td>12.62089</td>\n      <td>123.58900</td>\n      <td>0.75239</td>\n      <td>19.35971</td>\n      <td>25.41156</td>\n      <td>1.89411</td>\n      <td>60.48306</td>\n      <td>24.62857</td>\n      <td>457.03550</td>\n      <td>46.06678</td>\n      <td>10.03598</td>\n      <td>931.58340</td>\n      <td>1.42275</td>\n      <td>0.29605</td>\n      <td>406.88370</td>\n      <td>0.82640</td>\n      <td>11.72893</td>\n    </tr>\n    <tr>\n      <td>...</td>\n      <td>...</td>\n      <td>...</td>\n      <td>...</td>\n      <td>...</td>\n      <td>...</td>\n      <td>...</td>\n      <td>...</td>\n      <td>...</td>\n      <td>...</td>\n      <td>...</td>\n      <td>...</td>\n      <td>...</td>\n      <td>...</td>\n      <td>...</td>\n      <td>...</td>\n      <td>...</td>\n      <td>...</td>\n      <td>...</td>\n      <td>...</td>\n      <td>...</td>\n    </tr>\n    <tr>\n      <td>258878</td>\n      <td>9.30933</td>\n      <td>189.09670</td>\n      <td>106.42770</td>\n      <td>0.12118</td>\n      <td>70.99000</td>\n      <td>0.01650</td>\n      <td>11.82530</td>\n      <td>5.34667</td>\n      <td>1.02767</td>\n      <td>16.89067</td>\n      <td>8.44069</td>\n      <td>171.30030</td>\n      <td>19.15713</td>\n      <td>3.30546</td>\n      <td>90.00200</td>\n      <td>0.04050</td>\n      <td>0.05192</td>\n      <td>125.95000</td>\n      <td>0.24153</td>\n      <td>0.03000</td>\n    </tr>\n    <tr>\n      <td>259870</td>\n      <td>116.87750</td>\n      <td>533.78500</td>\n      <td>254.83060</td>\n      <td>65.83649</td>\n      <td>0.00000</td>\n      <td>12.46288</td>\n      <td>28.31451</td>\n      <td>179.44000</td>\n      <td>4.86495</td>\n      <td>140.72750</td>\n      <td>7.50368</td>\n      <td>2441.57700</td>\n      <td>11.27299</td>\n      <td>4.00073</td>\n      <td>141.41000</td>\n      <td>16.18104</td>\n      <td>0.55845</td>\n      <td>2659.15000</td>\n      <td>1.63708</td>\n      <td>135.49670</td>\n    </tr>\n    <tr>\n      <td>260193</td>\n      <td>37.24250</td>\n      <td>300.08690</td>\n      <td>43.28884</td>\n      <td>13.86486</td>\n      <td>118.04670</td>\n      <td>1.03600</td>\n      <td>4.80987</td>\n      <td>7.15000</td>\n      <td>1.63545</td>\n      <td>46.19250</td>\n      <td>21.66052</td>\n      <td>476.54750</td>\n      <td>45.85212</td>\n      <td>1.41095</td>\n      <td>1545.54100</td>\n      <td>4.58523</td>\n      <td>0.08974</td>\n      <td>217.95000</td>\n      <td>0.61491</td>\n      <td>1.23025</td>\n    </tr>\n    <tr>\n      <td>261124</td>\n      <td>36.90501</td>\n      <td>287.12290</td>\n      <td>135.42690</td>\n      <td>3.59909</td>\n      <td>96.13005</td>\n      <td>0.67217</td>\n      <td>15.04743</td>\n      <td>18.83792</td>\n      <td>2.01199</td>\n      <td>33.50583</td>\n      <td>16.46910</td>\n      <td>372.90480</td>\n      <td>32.54562</td>\n      <td>3.21560</td>\n      <td>293.74010</td>\n      <td>1.22104</td>\n      <td>0.09603</td>\n      <td>527.56960</td>\n      <td>0.57170</td>\n      <td>9.79475</td>\n    </tr>\n    <tr>\n      <td>263813</td>\n      <td>485.16930</td>\n      <td>613.20350</td>\n      <td>221.93320</td>\n      <td>47.63988</td>\n      <td>101.46880</td>\n      <td>1.98784</td>\n      <td>24.65924</td>\n      <td>123.37230</td>\n      <td>3.80631</td>\n      <td>79.57173</td>\n      <td>25.88058</td>\n      <td>586.18620</td>\n      <td>49.29259</td>\n      <td>14.67424</td>\n      <td>497.95620</td>\n      <td>7.97937</td>\n      <td>0.17697</td>\n      <td>893.24020</td>\n      <td>0.51950</td>\n      <td>2.10568</td>\n    </tr>\n  </tbody>\n</table>\n<p>4061 rows × 20 columns</p>\n</div>",
      "text/plain": "name     Calcium  Calories  Calories from Fat  Carbohydrates  Cholesterol  \\\nid                                                                          \n6900   117.79860 105.27020           21.33330       17.98829      1.62667   \n7198   244.16520 731.50920          325.65230       73.29574     88.69389   \n8493   415.52450 454.28300          177.75310       23.83120    203.86850   \n8494    58.08641 834.44480          514.68470        4.76954    283.75000   \n8495   379.01410 418.75340          174.23740       12.62089    123.58900   \n...          ...       ...                ...            ...          ...   \n258878   9.30933 189.09670          106.42770        0.12118     70.99000   \n259870 116.87750 533.78500          254.83060       65.83649      0.00000   \n260193  37.24250 300.08690           43.28884       13.86486    118.04670   \n261124  36.90501 287.12290          135.42690        3.59909     96.13005   \n263813 485.16930 613.20350          221.93320       47.63988    101.46880   \n\nname    Dietary Fiber      Fat    Folate    Iron  Magnesium  \\\nid                                                            \n6900          0.56557  2.37037  39.16360 1.14346    7.30480   \n7198          4.64147 36.18359 249.14210 5.76566   52.89296   \n8493          1.99500 19.75034  63.05025 3.11258   54.35775   \n8494          0.63600 57.18719  33.44816 3.72336   84.44925   \n8495          0.75239 19.35971  25.41156 1.89411   60.48306   \n...               ...      ...       ...     ...        ...   \n258878        0.01650 11.82530   5.34667 1.02767   16.89067   \n259870       12.46288 28.31451 179.44000 4.86495  140.72750   \n260193        1.03600  4.80987   7.15000 1.63545   46.19250   \n261124        0.67217 15.04743  18.83792 2.01199   33.50583   \n263813        1.98784 24.65924 123.37230 3.80631   79.57173   \n\nname    Niacin Equivalents  Potassium  Protein  Saturated Fat     Sodium  \\\nid                                                                         \n6900               1.82102   54.07343  2.84282        0.59495  385.75980   \n7198              13.51325  509.34610 27.58195       11.50691 1660.20300   \n8493              23.43780  509.41500 44.07647        9.96063 1107.91100   \n8494              39.18463  807.96980 71.10712       16.35430  567.97140   \n8495              24.62857  457.03550 46.06678       10.03598  931.58340   \n...                    ...        ...      ...            ...        ...   \n258878             8.44069  171.30030 19.15713        3.30546   90.00200   \n259870             7.50368 2441.57700 11.27299        4.00073  141.41000   \n260193            21.66052  476.54750 45.85212        1.41095 1545.54100   \n261124            16.46910  372.90480 32.54562        3.21560  293.74010   \n263813            25.88058  586.18620 49.29259       14.67424  497.95620   \n\nname     Sugars  Thiamin  Vitamin A - IU  Vitamin B6  Vitamin C  \nid                                                               \n6900    1.72141  0.17169       116.75390     0.01709    0.04505  \n7198    2.83424  0.89150       699.95980     0.36319   67.32533  \n8493    3.45304  0.17406       578.21420     0.64563    1.91250  \n8494    2.08741  0.02921       619.52510     1.37244   20.17546  \n8495    1.42275  0.29605       406.88370     0.82640   11.72893  \n...         ...      ...             ...         ...        ...  \n258878  0.04050  0.05192       125.95000     0.24153    0.03000  \n259870 16.18104  0.55845      2659.15000     1.63708  135.49670  \n260193  4.58523  0.08974       217.95000     0.61491    1.23025  \n261124  1.22104  0.09603       527.56960     0.57170    9.79475  \n263813  7.97937  0.17697       893.24020     0.51950    2.10568  \n\n[4061 rows x 20 columns]"
     },
     "execution_count": 21,
     "metadata": {},
     "output_type": "execute_result"
    }
   ],
   "source": [
    "#  ------ Erstellung und cleansing des Nutrition Dataframes\n",
    "\n",
    "# erstelle neue liste auf basis der bereits gefilterten rezepte aus ingredients_filt\n",
    "id_overlap_mask = nutritions['id'].isin(ingredients_filt.index.get_level_values('id').values)\n",
    "\n",
    "# erstelle datenframe auf basis der overlapliste\n",
    "nutritions_filt = nutritions.loc[id_overlap_mask]\n",
    "\n",
    "nutrition_db = nutritions_filt.pivot_table(\n",
    "    index=['id'],\n",
    "    columns=['name'],\n",
    "    values=['amount'],\n",
    ").reset_index()\n",
    "\n",
    "nutrition_db.set_index('id', inplace=True)\n",
    "\n",
    "# remove multiindex 'amount'\n",
    "nutrition_db.columns = nutrition_db.columns.droplevel(0)\n",
    "\n",
    "# entferne alle NA\n",
    "nutrition_db = nutrition_db.dropna()\n",
    "\n",
    "# gleiche nochmals die ids der beiden dataframe nutrition und ingredients ab, da der nutrition dataframe noch NA Werte hatt\n",
    "id_overlap_mask = ingredients_filt.index.get_level_values('id').isin(nutrition_db.index)\n",
    "ingredients_db = ingredients_filt[id_overlap_mask]\n",
    "\n",
    "# abgleich ob anzahl der indizes von nutrition und zutaten dataframe gleich sind\n",
    "nutrition_db.index.nunique()\n",
    "ingredients_db.index.get_level_values('id').nunique()\n",
    "nutrition_db"
   ]
  },
  {
   "cell_type": "code",
   "execution_count": 22,
   "metadata": {},
   "outputs": [],
   "source": [
    "id_list = [215014, 8669, 16700, 16354, 12720, 8652, 8887, 51283, 45954, 213742, 14595,\n",
    "           219164, 16348, 143082, 8665, 11758, 223042, 236609, 8778, 65896, 24264, 11679, 141678, 9023]\n",
    "\n",
    "ingredients_db.reset_index(inplace=True)\n",
    "\n",
    "recipe_db = pd.get_dummies(ingredients_db['ingredients_id']).groupby(\n",
    "    ingredients_db['id']).apply(max)\n",
    "\n"
   ]
  },
  {
   "cell_type": "code",
   "execution_count": 23,
   "metadata": {},
   "outputs": [],
   "source": [
    "test = ingredients_db.copy()"
   ]
  },
  {
   "cell_type": "code",
   "execution_count": 24,
   "metadata": {},
   "outputs": [],
   "source": [
    "# rechne nährwerte auf 800 kcal pro rezept um\n",
    "def nutrition_to_800(x):\n",
    "    a = x / x.Calories\n",
    "    b = a * 800\n",
    "    return b"
   ]
  },
  {
   "cell_type": "code",
   "execution_count": 25,
   "metadata": {},
   "outputs": [],
   "source": [
    "nutrition_db_800 = nutrition_db.apply(nutrition_to_800, axis = 1)\n",
    "#user_nutrition = nutrition_db_800[nutrition_db_800.index.isin(id_list)]\n",
    "\n",
    "user_recipes = recipe_db[recipe_db.index.isin(id_list)]\n",
    "\n",
    "recommenden_nut = pd.DataFrame(data=None, columns=nutrition_db_800.columns, index=None)\n"
   ]
  },
  {
   "cell_type": "code",
   "execution_count": 26,
   "metadata": {},
   "outputs": [
    {
     "data": {
      "text/html": "<div>\n<style scoped>\n    .dataframe tbody tr th:only-of-type {\n        vertical-align: middle;\n    }\n\n    .dataframe tbody tr th {\n        vertical-align: top;\n    }\n\n    .dataframe thead th {\n        text-align: right;\n    }\n</style>\n<table border=\"1\" class=\"dataframe\">\n  <thead>\n    <tr style=\"text-align: right;\">\n      <th>name</th>\n      <th>Calcium</th>\n      <th>Calories</th>\n      <th>Calories from Fat</th>\n      <th>Carbohydrates</th>\n      <th>Cholesterol</th>\n      <th>Dietary Fiber</th>\n      <th>Fat</th>\n      <th>Folate</th>\n      <th>Iron</th>\n      <th>Magnesium</th>\n      <th>Niacin Equivalents</th>\n      <th>Potassium</th>\n      <th>Protein</th>\n      <th>Saturated Fat</th>\n      <th>Sodium</th>\n      <th>Sugars</th>\n      <th>Thiamin</th>\n      <th>Vitamin A - IU</th>\n      <th>Vitamin B6</th>\n      <th>Vitamin C</th>\n    </tr>\n  </thead>\n  <tbody>\n    <tr>\n      <td>index</td>\n      <td>333.30000</td>\n      <td>800.00000</td>\n      <td>0.00000</td>\n      <td>43.30000</td>\n      <td>0.00000</td>\n      <td>8.30000</td>\n      <td>30.00000</td>\n      <td>133.30000</td>\n      <td>2.60000</td>\n      <td>133.30000</td>\n      <td>5.30000</td>\n      <td>1.00000</td>\n      <td>18.60000</td>\n      <td>0.00000</td>\n      <td>0.50000</td>\n      <td>0.00000</td>\n      <td>0.40000</td>\n      <td>300.00000</td>\n      <td>0.43000</td>\n      <td>30.00000</td>\n    </tr>\n  </tbody>\n</table>\n</div>",
      "text/plain": "name    Calcium  Calories  Calories from Fat  Carbohydrates  Cholesterol  \\\nindex 333.30000 800.00000            0.00000       43.30000      0.00000   \n\nname   Dietary Fiber      Fat    Folate    Iron  Magnesium  \\\nindex        8.30000 30.00000 133.30000 2.60000  133.30000   \n\nname   Niacin Equivalents  Potassium  Protein  Saturated Fat  Sodium  Sugars  \\\nindex             5.30000    1.00000 18.60000        0.00000 0.50000 0.00000   \n\nname   Thiamin  Vitamin A - IU  Vitamin B6  Vitamin C  \nindex  0.40000       300.00000     0.43000   30.00000  "
     },
     "execution_count": 26,
     "metadata": {},
     "output_type": "execute_result"
    }
   ],
   "source": [
    "# 19–30 empfohlene nährwerte pro tag #https://www.ncbi.nlm.nih.gov/books/NBK56068/table/summarytables.t4/?report=objectonly\n",
    "recommenden_nut.loc['index'] = [\n",
    "    # \"Calcium\":[1],\n",
    "    333.3,\n",
    "    # \"Calories\":[1],\n",
    "    800,\n",
    "    # \"Calories from Fat\":[1],\n",
    "    0,\n",
    "    # \"Carbohydrates\":[1],\n",
    "    43.3,\n",
    "    # \"Cholesterol\":[1],\n",
    "    0,\n",
    "    # \"Dietary Fiber\t\":[1],\n",
    "    8.3,\n",
    "    # \"Fat\":[1],\n",
    "    30,\n",
    "    # \"Folate\":[1],\n",
    "    133.3,\n",
    "    # \"Iron\":[1],\n",
    "    2.6,\n",
    "    # \"Magnesium\":[1],\n",
    "    133.3,\n",
    "    # \"Niacin Equivalents\":[1],\n",
    "    5.3,\n",
    "    # \"Potassium\":[1],\n",
    "    1,\n",
    "    # \"Protein\":[1],\n",
    "    18.6,\n",
    "    # \"Saturated Fat\":[1],\n",
    "    0,\n",
    "    # \"Sodium\":[1],\n",
    "    0.5,\n",
    "    # \"Sugars\":[1],\n",
    "    0,\n",
    "    # \"Thiamin\":[1],\n",
    "    0.4,\n",
    "    # \"Vitamin A - IU\":[1],\n",
    "    300,\n",
    "    # \"Vitamin B6\":[1],\n",
    "    0.43,\n",
    "    # \"Vitamin C\":[1]}\n",
    "    30]\n",
    "recommenden_nut"
   ]
  },
  {
   "cell_type": "code",
   "execution_count": 27,
   "metadata": {},
   "outputs": [
    {
     "data": {
      "text/html": "<div>\n<style scoped>\n    .dataframe tbody tr th:only-of-type {\n        vertical-align: middle;\n    }\n\n    .dataframe tbody tr th {\n        vertical-align: top;\n    }\n\n    .dataframe thead th {\n        text-align: right;\n    }\n</style>\n<table border=\"1\" class=\"dataframe\">\n  <thead>\n    <tr style=\"text-align: right;\">\n      <th></th>\n      <th>6900</th>\n      <th>7198</th>\n      <th>8493</th>\n      <th>8494</th>\n      <th>8495</th>\n      <th>8496</th>\n      <th>8497</th>\n      <th>8498</th>\n      <th>8500</th>\n      <th>8501</th>\n      <th>...</th>\n      <th>255263</th>\n      <th>255545</th>\n      <th>255936</th>\n      <th>257054</th>\n      <th>257312</th>\n      <th>258878</th>\n      <th>259870</th>\n      <th>260193</th>\n      <th>261124</th>\n      <th>263813</th>\n    </tr>\n  </thead>\n  <tbody>\n    <tr>\n      <td>index</td>\n      <td>1408.50793</td>\n      <td>10455.25846</td>\n      <td>5788.80058</td>\n      <td>16345.14598</td>\n      <td>5640.50558</td>\n      <td>5083.32268</td>\n      <td>8400.03461</td>\n      <td>16398.41258</td>\n      <td>9453.47042</td>\n      <td>1350.79159</td>\n      <td>...</td>\n      <td>7380.18017</td>\n      <td>2596.35825</td>\n      <td>13179.30944</td>\n      <td>13906.84468</td>\n      <td>3108.75315</td>\n      <td>3498.64297</td>\n      <td>8754.79655</td>\n      <td>2362.60093</td>\n      <td>4386.92205</td>\n      <td>7099.15450</td>\n    </tr>\n  </tbody>\n</table>\n<p>1 rows × 4061 columns</p>\n</div>",
      "text/plain": "          6900        7198       8493        8494       8495       8496    \\\nindex 1408.50793 10455.25846 5788.80058 16345.14598 5640.50558 5083.32268   \n\n          8497        8498       8500       8501    ...     255263     255545  \\\nindex 8400.03461 16398.41258 9453.47042 1350.79159  ... 7380.18017 2596.35825   \n\n           255936      257054     257312     258878     259870     260193  \\\nindex 13179.30944 13906.84468 3108.75315 3498.64297 8754.79655 2362.60093   \n\n          261124     263813  \nindex 4386.92205 7099.15450  \n\n[1 rows x 4061 columns]"
     },
     "execution_count": 27,
     "metadata": {},
     "output_type": "execute_result"
    }
   ],
   "source": [
    "# euklidische distanz für nährwerte\n",
    "no_weight = [\n",
    "    # \"Calcium\":[1],\n",
    "    1,\n",
    "    # \"Calories\":[1],\n",
    "    1,\n",
    "    # \"Calories from Fat\":[1],\n",
    "    1,\n",
    "    # \"Carbohydrates\":[1],\n",
    "    1,\n",
    "    # \"Cholesterol\":[1],\n",
    "    1,\n",
    "    # \"Dietary Fiber\t\":[1],\n",
    "    1,\n",
    "    # \"Fat\":[1],\n",
    "    1,\n",
    "    # \"Folate\":[1],\n",
    "    1,\n",
    "    # \"Iron\":[1],\n",
    "    1,\n",
    "    # \"Magnesium\":[1],\n",
    "    1,\n",
    "    # \"Niacin Equivalents\":[1],\n",
    "    1,\n",
    "    # \"Potassium\":[1],\n",
    "    1,\n",
    "    # \"Protein\":[1],\n",
    "    1,\n",
    "    # \"Saturated Fat\":[1],\n",
    "    1,\n",
    "    # \"Sodium\":[1],\n",
    "    1,\n",
    "    # \"Sugars\":[1],\n",
    "    1,\n",
    "    # \"Thiamin\":[1],\n",
    "    1,\n",
    "    # \"Vitamin A - IU\":[1],\n",
    "    1,\n",
    "    # \"Vitamin B6\":[1],\n",
    "    1,\n",
    "    # \"Vitamin C\":[1]}\n",
    "    1]\n",
    "\n",
    "weighted = [\n",
    "    # \"Calcium\":[1],\n",
    "    1,\n",
    "    # \"Calories\":[1],\n",
    "    1,\n",
    "    # \"Calories from Fat\":[1],\n",
    "    1000,\n",
    "    # \"Carbohydrates\":[1],\n",
    "    1,\n",
    "    # \"Cholesterol\":[1],\n",
    "    1,\n",
    "    # \"Dietary Fiber\t\":[1],\n",
    "    1,\n",
    "    # \"Fat\":[1],\n",
    "    1000,\n",
    "    # \"Folate\":[1],\n",
    "    1,\n",
    "    # \"Iron\":[1],\n",
    "    1,\n",
    "    # \"Magnesium\":[1],\n",
    "    1,\n",
    "    # \"Niacin Equivalents\":[1],\n",
    "    1,\n",
    "    # \"Potassium\":[1],\n",
    "    1,\n",
    "    # \"Protein\":[1],\n",
    "    100,\n",
    "    # \"Saturated Fat\":[1],\n",
    "    1,\n",
    "    # \"Sodium\":[1],\n",
    "    1,\n",
    "    # \"Sugars\":[1],\n",
    "    100,\n",
    "    # \"Thiamin\":[1],\n",
    "    1,\n",
    "    # \"Vitamin A - IU\":[1],\n",
    "    1,\n",
    "    # \"Vitamin B6\":[1],\n",
    "    1,\n",
    "    # \"Vitamin C\":[1]}\n",
    "    1]\n",
    "\n",
    "result_array = cdist(recommenden_nut, nutrition_db, 'minkowski', p=2, w=weighted)\n",
    "# result_array = cdist(user_nutrition, nutrition_db,'minkowski', p = 2)\n",
    "euclid_distance = pd.DataFrame(\n",
    "    result_array, columns=nutrition_db.index.values, index=recommenden_nut.index.values)\n",
    "\n",
    "euclid_distance_sum = pd.DataFrame(\n",
    "    euclid_distance.sum(), columns=['euclid_distance_sum'])\n",
    "euclid_distance_sum = euclid_distance_sum.sort_values(by='euclid_distance_sum')\n",
    "euclid_distance"
   ]
  },
  {
   "cell_type": "code",
   "execution_count": 28,
   "metadata": {},
   "outputs": [
    {
     "data": {
      "text/html": "<div>\n<style scoped>\n    .dataframe tbody tr th:only-of-type {\n        vertical-align: middle;\n    }\n\n    .dataframe tbody tr th {\n        vertical-align: top;\n    }\n\n    .dataframe thead th {\n        text-align: right;\n    }\n</style>\n<table border=\"1\" class=\"dataframe\">\n  <thead>\n    <tr style=\"text-align: right;\">\n      <th></th>\n      <th>euclid_distance_sum</th>\n    </tr>\n  </thead>\n  <tbody>\n    <tr>\n      <td>144479</td>\n      <td>1247.74005</td>\n    </tr>\n    <tr>\n      <td>165532</td>\n      <td>1252.79823</td>\n    </tr>\n    <tr>\n      <td>35803</td>\n      <td>1270.38182</td>\n    </tr>\n    <tr>\n      <td>13153</td>\n      <td>1284.69257</td>\n    </tr>\n    <tr>\n      <td>18465</td>\n      <td>1290.00063</td>\n    </tr>\n    <tr>\n      <td>...</td>\n      <td>...</td>\n    </tr>\n    <tr>\n      <td>222865</td>\n      <td>39812.56958</td>\n    </tr>\n    <tr>\n      <td>216035</td>\n      <td>40168.04050</td>\n    </tr>\n    <tr>\n      <td>8923</td>\n      <td>40419.44583</td>\n    </tr>\n    <tr>\n      <td>30834</td>\n      <td>47082.89788</td>\n    </tr>\n    <tr>\n      <td>221900</td>\n      <td>112534.57139</td>\n    </tr>\n  </tbody>\n</table>\n<p>4061 rows × 1 columns</p>\n</div>",
      "text/plain": "        euclid_distance_sum\n144479           1247.74005\n165532           1252.79823\n35803            1270.38182\n13153            1284.69257\n18465            1290.00063\n...                     ...\n222865          39812.56958\n216035          40168.04050\n8923            40419.44583\n30834           47082.89788\n221900         112534.57139\n\n[4061 rows x 1 columns]"
     },
     "execution_count": 28,
     "metadata": {},
     "output_type": "execute_result"
    }
   ],
   "source": [
    "\n",
    "result_array = cdist(recommenden_nut, nutrition_db, 'minkowski', p=2, w=weighted)\n",
    "# result_array = cdist(user_nutrition, nutrition_db,'minkowski', p = 2)\n",
    "euclid_distance = pd.DataFrame(\n",
    "    result_array, columns=nutrition_db.index.values, index=recommenden_nut.index.values)\n",
    "\n",
    "#euclid_distance_sum = pd.DataFrame(\n",
    " #   euclid_distance.sum(), columns=['euclid_distance_sum'])\n",
    "#euclid_distance_sum = euclid_distance_sum.sort_values(by='euclid_distance_sum')\n",
    "#euclid_distance\n",
    "euclid_distance_sum "
   ]
  },
  {
   "cell_type": "code",
   "execution_count": null,
   "metadata": {},
   "outputs": [],
   "source": []
  },
  {
   "cell_type": "code",
   "execution_count": 29,
   "metadata": {},
   "outputs": [
    {
     "data": {
      "text/html": "<div>\n<style scoped>\n    .dataframe tbody tr th:only-of-type {\n        vertical-align: middle;\n    }\n\n    .dataframe tbody tr th {\n        vertical-align: top;\n    }\n\n    .dataframe thead th {\n        text-align: right;\n    }\n</style>\n<table border=\"1\" class=\"dataframe\">\n  <thead>\n    <tr style=\"text-align: right;\">\n      <th></th>\n      <th>jaccard_distance_sum</th>\n    </tr>\n  </thead>\n  <tbody>\n    <tr>\n      <td>51372</td>\n      <td>0.85026</td>\n    </tr>\n    <tr>\n      <td>102235</td>\n      <td>0.85047</td>\n    </tr>\n    <tr>\n      <td>25927</td>\n      <td>0.85224</td>\n    </tr>\n    <tr>\n      <td>14534</td>\n      <td>0.85246</td>\n    </tr>\n    <tr>\n      <td>143082</td>\n      <td>0.85247</td>\n    </tr>\n    <tr>\n      <td>...</td>\n      <td>...</td>\n    </tr>\n    <tr>\n      <td>216078</td>\n      <td>1.00000</td>\n    </tr>\n    <tr>\n      <td>21380</td>\n      <td>1.00000</td>\n    </tr>\n    <tr>\n      <td>90223</td>\n      <td>1.00000</td>\n    </tr>\n    <tr>\n      <td>24160</td>\n      <td>1.00000</td>\n    </tr>\n    <tr>\n      <td>23097</td>\n      <td>1.00000</td>\n    </tr>\n  </tbody>\n</table>\n<p>4061 rows × 1 columns</p>\n</div>",
      "text/plain": "        jaccard_distance_sum\n51372                0.85026\n102235               0.85047\n25927                0.85224\n14534                0.85246\n143082               0.85247\n...                      ...\n216078               1.00000\n21380                1.00000\n90223                1.00000\n24160                1.00000\n23097                1.00000\n\n[4061 rows x 1 columns]"
     },
     "execution_count": 29,
     "metadata": {},
     "output_type": "execute_result"
    },
    {
     "data": {
      "text/html": "<div>\n<style scoped>\n    .dataframe tbody tr th:only-of-type {\n        vertical-align: middle;\n    }\n\n    .dataframe tbody tr th {\n        vertical-align: top;\n    }\n\n    .dataframe thead th {\n        text-align: right;\n    }\n</style>\n<table border=\"1\" class=\"dataframe\">\n  <thead>\n    <tr style=\"text-align: right;\">\n      <th></th>\n      <th>jaccard_distance_sum</th>\n    </tr>\n  </thead>\n  <tbody>\n    <tr>\n      <td>51372</td>\n      <td>0.85026</td>\n    </tr>\n    <tr>\n      <td>102235</td>\n      <td>0.85047</td>\n    </tr>\n    <tr>\n      <td>25927</td>\n      <td>0.85224</td>\n    </tr>\n    <tr>\n      <td>14534</td>\n      <td>0.85246</td>\n    </tr>\n    <tr>\n      <td>143082</td>\n      <td>0.85247</td>\n    </tr>\n    <tr>\n      <td>...</td>\n      <td>...</td>\n    </tr>\n    <tr>\n      <td>52630</td>\n      <td>1.00000</td>\n    </tr>\n    <tr>\n      <td>48980</td>\n      <td>1.00000</td>\n    </tr>\n    <tr>\n      <td>48734</td>\n      <td>1.00000</td>\n    </tr>\n    <tr>\n      <td>13824</td>\n      <td>1.00000</td>\n    </tr>\n    <tr>\n      <td>23097</td>\n      <td>1.00000</td>\n    </tr>\n  </tbody>\n</table>\n<p>4061 rows × 1 columns</p>\n</div>",
      "text/plain": "        jaccard_distance_sum\n51372                0.85026\n102235               0.85047\n25927                0.85224\n14534                0.85246\n143082               0.85247\n...                      ...\n52630                1.00000\n48980                1.00000\n48734                1.00000\n13824                1.00000\n23097                1.00000\n\n[4061 rows x 1 columns]"
     },
     "execution_count": 29,
     "metadata": {},
     "output_type": "execute_result"
    }
   ],
   "source": [
    "# jaccard Distanz - rezept zu rezept vergleich\n",
    "\n",
    "result_array = cdist(user_recipes, recipe_db, 'jaccard')\n",
    "jacc_distance = pd.DataFrame(\n",
    "    result_array, columns=recipe_db.index.values, index=user_recipes.index.values)\n",
    "\n",
    "\n",
    "asd = jacc_distance.sum().div(jacc_distance.sum(axis=1))\n",
    "\n",
    "jaccard_distance_sum = pd.DataFrame(\n",
    "    jacc_distance.sum().div(len(jacc_distance.index)), columns=['jaccard_distance_sum'])\n",
    "\n",
    "jaccard_distance_sum_2 = pd.DataFrame(\n",
    "    jacc_distance.sum(), columns=['jaccard_distance_sum'])\n",
    "\n",
    "jaccard_distance_sum = jaccard_distance_sum.sort_values(\n",
    "    by='jaccard_distance_sum')\n",
    "\n",
    "jaccard_distance_sum_2 = jaccard_distance_sum.sort_values(\n",
    "    by='jaccard_distance_sum')\n",
    "\n",
    "\n",
    "# jaccard_distance_sum.div(21)\n",
    "jaccard_distance_sum\n",
    "jaccard_distance_sum_2\n",
    "#jacc_distance.sum()\n",
    "#asd"
   ]
  },
  {
   "cell_type": "code",
   "execution_count": 30,
   "metadata": {},
   "outputs": [],
   "source": [
    "# z-score-mormalisierung\n",
    "z_min = (euclid_distance_sum - euclid_distance_sum.mean()) / \\\n",
    "    euclid_distance_sum.std()\n",
    "\n",
    "z_jac = (jaccard_distance_sum - jaccard_distance_sum.mean()) / \\\n",
    "    jaccard_distance_sum.std()\n",
    "\n",
    "z_score_nut_recipe = pd.DataFrame(z_min.euclid_distance_sum + z_jac.jaccard_distance_sum,\n",
    "                                  columns=euclid_distance_sum.columns, index=z_min.index)\n",
    "\n",
    "z_score_nut_recipe = z_score_nut_recipe.sort_values(by='euclid_distance_sum')\n",
    "\n",
    "z_score_nut_recipe.rename(\n",
    "    columns={'euclid_distance_sum': 'z_score'}, inplace=True)"
   ]
  },
  {
   "cell_type": "code",
   "execution_count": null,
   "metadata": {},
   "outputs": [],
   "source": []
  }
 ],
 "metadata": {
  "kernelspec": {
   "display_name": "Python 3",
   "language": "python",
   "name": "python3"
  },
  "language_info": {
   "codemirror_mode": {
    "name": "ipython",
    "version": 3
   },
   "file_extension": ".py",
   "mimetype": "text/x-python",
   "name": "python",
   "nbconvert_exporter": "python",
   "pygments_lexer": "ipython3",
   "version": "3.7.6-final"
  },
  "notify_time": "5"
 },
 "nbformat": 4,
 "nbformat_minor": 4
}